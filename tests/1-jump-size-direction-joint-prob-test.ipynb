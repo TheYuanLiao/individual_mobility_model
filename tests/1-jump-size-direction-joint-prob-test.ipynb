{
 "cells": [
  {
   "cell_type": "markdown",
   "metadata": {
    "collapsed": true,
    "pycharm": {
     "name": "#%% md\n"
    }
   },
   "source": [
    "# Test the added class, JumpSizeDirectionTrueProb, in models.py"
   ]
  },
  {
   "cell_type": "code",
   "execution_count": 7,
   "outputs": [
    {
     "name": "stdout",
     "output_type": "stream",
     "text": [
      "The autoreload extension is already loaded. To reload it, use:\n",
      "  %reload_ext autoreload\n"
     ]
    }
   ],
   "source": [
    "%load_ext autoreload\n",
    "%autoreload 2\n",
    "%matplotlib inline"
   ],
   "metadata": {
    "collapsed": false,
    "pycharm": {
     "name": "#%%\n"
    }
   }
  },
  {
   "cell_type": "code",
   "execution_count": 2,
   "outputs": [],
   "source": [
    "# Load neccessary modules\n",
    "import models\n",
    "import mscthesis\n",
    "import os\n",
    "from pathlib import Path\n",
    "import pandas as pd\n",
    "import numpy as np"
   ],
   "metadata": {
    "collapsed": false,
    "pycharm": {
     "name": "#%%\n"
    }
   }
  },
  {
   "cell_type": "code",
   "execution_count": 3,
   "outputs": [],
   "source": [
    "## Define data path\n",
    "data_path = os.path.join(Path(os.getcwd()).parent, 'dbs/')\n",
    "geotweets_path = os.path.join(data_path, \"sweden/geotweets.csv\")"
   ],
   "metadata": {
    "collapsed": false,
    "pycharm": {
     "name": "#%%\n"
    }
   }
  },
  {
   "cell_type": "markdown",
   "source": [
    "## 1 Load and process tweets"
   ],
   "metadata": {
    "collapsed": false,
    "pycharm": {
     "name": "#%% md\n"
    }
   }
  },
  {
   "cell_type": "code",
   "execution_count": 4,
   "outputs": [
    {
     "data": {
      "text/plain": "        region                 createdat             tweetid   latitude  \\\nuserid                                                                    \n5616         6 2013-03-11 07:50:00+00:00  311021173670555648  59.405498   \n5616         5 2013-03-13 08:55:34+00:00  311762446530535425  59.428862   \n5616         7 2013-03-13 10:02:14+00:00  311779226460237824  59.436478   \n5616         7 2013-03-13 11:21:46+00:00  311799240374505472  59.437367   \n5616         7 2013-03-13 11:21:46+00:00  311799240684892160  59.437367   \n\n        longitude  month  weekday  hourofday          timezone       ym  \\\nuserid                                                                    \n5616    17.954750      3        1          8  Europe/Stockholm  2013-03   \n5616    17.947206      3        3          9  Europe/Stockholm  2013-03   \n5616    17.937756      3        3         11  Europe/Stockholm  2013-03   \n5616    17.937031      3        3         12  Europe/Stockholm  2013-03   \n5616    17.937031      3        3         12  Europe/Stockholm  2013-03   \n\n        label                   geometry  \nuserid                                    \n5616    other  POINT (17.95475 59.40550)  \n5616     home  POINT (17.94721 59.42886)  \n5616    other  POINT (17.93776 59.43648)  \n5616    other  POINT (17.93703 59.43737)  \n5616    other  POINT (17.93703 59.43737)  ",
      "text/html": "<div>\n<style scoped>\n    .dataframe tbody tr th:only-of-type {\n        vertical-align: middle;\n    }\n\n    .dataframe tbody tr th {\n        vertical-align: top;\n    }\n\n    .dataframe thead th {\n        text-align: right;\n    }\n</style>\n<table border=\"1\" class=\"dataframe\">\n  <thead>\n    <tr style=\"text-align: right;\">\n      <th></th>\n      <th>region</th>\n      <th>createdat</th>\n      <th>tweetid</th>\n      <th>latitude</th>\n      <th>longitude</th>\n      <th>month</th>\n      <th>weekday</th>\n      <th>hourofday</th>\n      <th>timezone</th>\n      <th>ym</th>\n      <th>label</th>\n      <th>geometry</th>\n    </tr>\n    <tr>\n      <th>userid</th>\n      <th></th>\n      <th></th>\n      <th></th>\n      <th></th>\n      <th></th>\n      <th></th>\n      <th></th>\n      <th></th>\n      <th></th>\n      <th></th>\n      <th></th>\n      <th></th>\n    </tr>\n  </thead>\n  <tbody>\n    <tr>\n      <th>5616</th>\n      <td>6</td>\n      <td>2013-03-11 07:50:00+00:00</td>\n      <td>311021173670555648</td>\n      <td>59.405498</td>\n      <td>17.954750</td>\n      <td>3</td>\n      <td>1</td>\n      <td>8</td>\n      <td>Europe/Stockholm</td>\n      <td>2013-03</td>\n      <td>other</td>\n      <td>POINT (17.95475 59.40550)</td>\n    </tr>\n    <tr>\n      <th>5616</th>\n      <td>5</td>\n      <td>2013-03-13 08:55:34+00:00</td>\n      <td>311762446530535425</td>\n      <td>59.428862</td>\n      <td>17.947206</td>\n      <td>3</td>\n      <td>3</td>\n      <td>9</td>\n      <td>Europe/Stockholm</td>\n      <td>2013-03</td>\n      <td>home</td>\n      <td>POINT (17.94721 59.42886)</td>\n    </tr>\n    <tr>\n      <th>5616</th>\n      <td>7</td>\n      <td>2013-03-13 10:02:14+00:00</td>\n      <td>311779226460237824</td>\n      <td>59.436478</td>\n      <td>17.937756</td>\n      <td>3</td>\n      <td>3</td>\n      <td>11</td>\n      <td>Europe/Stockholm</td>\n      <td>2013-03</td>\n      <td>other</td>\n      <td>POINT (17.93776 59.43648)</td>\n    </tr>\n    <tr>\n      <th>5616</th>\n      <td>7</td>\n      <td>2013-03-13 11:21:46+00:00</td>\n      <td>311799240374505472</td>\n      <td>59.437367</td>\n      <td>17.937031</td>\n      <td>3</td>\n      <td>3</td>\n      <td>12</td>\n      <td>Europe/Stockholm</td>\n      <td>2013-03</td>\n      <td>other</td>\n      <td>POINT (17.93703 59.43737)</td>\n    </tr>\n    <tr>\n      <th>5616</th>\n      <td>7</td>\n      <td>2013-03-13 11:21:46+00:00</td>\n      <td>311799240684892160</td>\n      <td>59.437367</td>\n      <td>17.937031</td>\n      <td>3</td>\n      <td>3</td>\n      <td>12</td>\n      <td>Europe/Stockholm</td>\n      <td>2013-03</td>\n      <td>other</td>\n      <td>POINT (17.93703 59.43737)</td>\n    </tr>\n  </tbody>\n</table>\n</div>"
     },
     "execution_count": 4,
     "metadata": {},
     "output_type": "execute_result"
    }
   ],
   "source": [
    "geotweets = mscthesis.read_geotweets_raw(geotweets_path).set_index('userid')\n",
    "\n",
    "# this code should be somewhere else...\n",
    "geotweets = geotweets[(geotweets['weekday'] < 6) & (0 < geotweets['weekday'])]\n",
    "home_visits = geotweets.query(\"label == 'home'\").groupby('userid').size()\n",
    "geotweets = geotweets.loc[home_visits.index]\n",
    "tweetcount = geotweets.groupby('userid').size()\n",
    "geotweets = geotweets.drop(labels=tweetcount[tweetcount < 20].index)\n",
    "regioncount = geotweets.groupby(['userid', 'region']).size().groupby('userid').size()\n",
    "geotweets = geotweets.drop(labels=regioncount[regioncount < 2].index)\n",
    "# Ensure the tweets are sorted chronologically\n",
    "geotweets = geotweets.sort_values(by=['userid', 'createdat'])\n",
    "\n",
    "geotweets.head()"
   ],
   "metadata": {
    "collapsed": false,
    "pycharm": {
     "name": "#%%\n"
    }
   }
  },
  {
   "cell_type": "markdown",
   "source": [
    "## 2 Select one individual for testing"
   ],
   "metadata": {
    "collapsed": false,
    "pycharm": {
     "name": "#%% md\n"
    }
   }
  },
  {
   "cell_type": "code",
   "execution_count": 5,
   "outputs": [
    {
     "data": {
      "text/plain": "(236.38992948342116, 6998.893595366878)"
     },
     "execution_count": 5,
     "metadata": {},
     "output_type": "execute_result"
    }
   ],
   "source": [
    "uid = 16270243\n",
    "u_tweets = geotweets.loc[uid]\n",
    "tst = models.JumpSizeDirectionTrueProb()\n",
    "tst.fit(u_tweets)\n",
    "tst.sample()"
   ],
   "metadata": {
    "collapsed": false,
    "pycharm": {
     "name": "#%%\n"
    }
   }
  },
  {
   "cell_type": "markdown",
   "source": [
    "## 3 Visualise the jump size and bearing\n",
    "Jump size is dependent on bearing, therefore, the modification is neccessary to deliver a more realistic mobility sequence."
   ],
   "metadata": {
    "collapsed": false,
    "pycharm": {
     "name": "#%% md\n"
    }
   }
  },
  {
   "cell_type": "code",
   "execution_count": 8,
   "outputs": [
    {
     "name": "stderr",
     "output_type": "stream",
     "text": [
      "C:\\ProgramData\\Anaconda3\\lib\\site-packages\\numpy\\core\\_asarray.py:83: VisibleDeprecationWarning: Creating an ndarray from ragged nested sequences (which is a list-or-tuple of lists-or-tuples-or ndarrays with different lengths or shapes) is deprecated. If you meant to do this, you must specify 'dtype=object' when creating the ndarray\n",
      "  return array(a, dtype, copy=False, order=order)\n"
     ]
    },
    {
     "data": {
      "text/plain": "<matplotlib.axes._subplots.AxesSubplot at 0x1cddc31f400>"
     },
     "execution_count": 8,
     "metadata": {},
     "output_type": "execute_result"
    },
    {
     "data": {
      "text/plain": "<Figure size 432x288 with 1 Axes>",
      "image/png": "[encoded data removed]"
     },
     "metadata": {
      "needs_background": "light"
     },
     "output_type": "display_data"
    },
    {
     "data": {
      "text/plain": "<Figure size 432x288 with 1 Axes>",
      "image/png": "[encoded data removed]"
     },
     "metadata": {
      "needs_background": "light"
     },
     "output_type": "display_data"
    }
   ],
   "source": [
    "df = pd.DataFrame(tst.bearings, columns=(\"Bearing\",))\n",
    "df.loc[:, \"Jump size\"] = tst.jump_sizes_km\n",
    "df.loc[:, \"Bearing group\"] = pd.cut(df.Bearing, bins=[np.quantile(df.Bearing, _/10) for _ in range(0, 11)])\n",
    "df.loc[:, \"Bearing group\"] = df.loc[:, \"Bearing group\"].apply(lambda x: x.mid)\n",
    "df_m = df.groupby(\"Bearing group\").agg({\"Jump size\": \"mean\"}).reset_index()\n",
    "df_m.plot.bar(x=\"Bearing group\", y=\"Jump size\")\n",
    "\n",
    "df.loc[:, \"Jump size\"] = np.log10(df.loc[:, \"Jump size\"])\n",
    "df.boxplot(by=\"Bearing group\", column=\"Jump size\")"
   ],
   "metadata": {
    "collapsed": false,
    "pycharm": {
     "name": "#%%\n"
    }
   }
  },
  {
   "cell_type": "markdown",
   "source": [
    "## 4 Generate a sequence of visits with the model\n",
    "Test if the new class functions normally."
   ],
   "metadata": {
    "collapsed": false,
    "pycharm": {
     "name": "#%% md\n"
    }
   }
  },
  {
   "cell_type": "code",
   "execution_count": 9,
   "outputs": [
    {
     "name": "stdout",
     "output_type": "stream",
     "text": [
      "done with 250\n",
      "done with 500\n",
      "done with 750\n",
      "done with 1000\n",
      "done with 1250\n",
      "done with 1500\n",
      "done with 1750\n",
      "done with 2000\n",
      "done with 2250\n",
      "done with 2500\n",
      "done with 2750\n",
      "done with 3000\n",
      "done with 3250\n",
      "done with 3500\n"
     ]
    },
    {
     "data": {
      "text/plain": "        day  timeslot    kind   latitude  longitude  region\nuserid                                                     \n5616      0         0  region  59.428862  17.947206       5\n5616      0         1  region  59.405498  17.954750       6\n5616      1         0  region  59.428862  17.947206       5\n5616      1         1  region  59.405498  17.954750       6\n5616      1         2  region  59.428862  17.947206       5",
      "text/html": "<div>\n<style scoped>\n    .dataframe tbody tr th:only-of-type {\n        vertical-align: middle;\n    }\n\n    .dataframe tbody tr th {\n        vertical-align: top;\n    }\n\n    .dataframe thead th {\n        text-align: right;\n    }\n</style>\n<table border=\"1\" class=\"dataframe\">\n  <thead>\n    <tr style=\"text-align: right;\">\n      <th></th>\n      <th>day</th>\n      <th>timeslot</th>\n      <th>kind</th>\n      <th>latitude</th>\n      <th>longitude</th>\n      <th>region</th>\n    </tr>\n    <tr>\n      <th>userid</th>\n      <th></th>\n      <th></th>\n      <th></th>\n      <th></th>\n      <th></th>\n      <th></th>\n    </tr>\n  </thead>\n  <tbody>\n    <tr>\n      <th>5616</th>\n      <td>0</td>\n      <td>0</td>\n      <td>region</td>\n      <td>59.428862</td>\n      <td>17.947206</td>\n      <td>5</td>\n    </tr>\n    <tr>\n      <th>5616</th>\n      <td>0</td>\n      <td>1</td>\n      <td>region</td>\n      <td>59.405498</td>\n      <td>17.954750</td>\n      <td>6</td>\n    </tr>\n    <tr>\n      <th>5616</th>\n      <td>1</td>\n      <td>0</td>\n      <td>region</td>\n      <td>59.428862</td>\n      <td>17.947206</td>\n      <td>5</td>\n    </tr>\n    <tr>\n      <th>5616</th>\n      <td>1</td>\n      <td>1</td>\n      <td>region</td>\n      <td>59.405498</td>\n      <td>17.954750</td>\n      <td>6</td>\n    </tr>\n    <tr>\n      <th>5616</th>\n      <td>1</td>\n      <td>2</td>\n      <td>region</td>\n      <td>59.428862</td>\n      <td>17.947206</td>\n      <td>5</td>\n    </tr>\n  </tbody>\n</table>\n</div>"
     },
     "execution_count": 9,
     "metadata": {},
     "output_type": "execute_result"
    }
   ],
   "source": [
    "visit_factory = models.Sampler(\n",
    "    model=models.PreferentialReturn(\n",
    "        p=.4,\n",
    "        gamma=.75,\n",
    "        region_sampling=models.RegionTransitionZipf(beta=.03, zipfs=1.2),\n",
    "    ),\n",
    "    n_days=7 * 20,\n",
    "    daily_trips_sampling=models.NormalDistribution(mean=3.14, std=1.8),\n",
    "    geotweets_path=geotweets_path,\n",
    ")\n",
    "visits = visit_factory.visits()\n",
    "visits.head()"
   ],
   "metadata": {
    "collapsed": false,
    "pycharm": {
     "name": "#%%\n"
    }
   }
  }
 ],
 "metadata": {
  "kernelspec": {
   "display_name": "Python 3",
   "language": "python",
   "name": "python3"
  },
  "language_info": {
   "codemirror_mode": {
    "name": "ipython",
    "version": 2
   },
   "file_extension": ".py",
   "mimetype": "text/x-python",
   "name": "python",
   "nbconvert_exporter": "python",
   "pygments_lexer": "ipython2",
   "version": "2.7.6"
  }
 },
 "nbformat": 4,
 "nbformat_minor": 0
}
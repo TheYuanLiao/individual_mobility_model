{
 "cells": [
  {
   "cell_type": "markdown",
   "metadata": {
    "collapsed": true,
    "pycharm": {
     "name": "#%% md\n"
    }
   },
   "source": [
    "# Test the added function of the class DistanceMetrics in validation.py"
   ]
  },
  {
   "cell_type": "code",
   "execution_count": 1,
   "outputs": [],
   "source": [
    "%load_ext autoreload\n",
    "%autoreload 2\n",
    "%matplotlib inline"
   ],
   "metadata": {
    "collapsed": false,
    "pycharm": {
     "name": "#%%\n"
    }
   }
  },
  {
   "cell_type": "code",
   "execution_count": 7,
   "outputs": [],
   "source": [
    "import os\n",
    "from pathlib import Path\n",
    "ROOT_DIR = Path(os.path.dirname(os.path.abspath(\".gitignore\"))).parent\n",
    "os.chdir(ROOT_DIR)"
   ],
   "metadata": {
    "collapsed": false,
    "pycharm": {
     "name": "#%%\n"
    }
   }
  },
  {
   "cell_type": "code",
   "execution_count": 8,
   "outputs": [],
   "source": [
    "# Load neccessary modules\n",
    "import validation\n",
    "import pandas as pd"
   ],
   "metadata": {
    "collapsed": false,
    "pycharm": {
     "name": "#%%\n"
    }
   }
  },
  {
   "cell_type": "code",
   "execution_count": 12,
   "outputs": [
    {
     "data": {
      "text/plain": "          distance    model_mean  gravity_seed_mean  gravity_mean  \\\n0  (-0.001, 3.211]  7.579992e-06       5.927266e-07  2.143508e-06   \n1   (3.211, 5.192]  9.530627e-07       5.532856e-07  1.170618e-06   \n2   (5.192, 6.939]  5.352549e-07       5.235326e-07  7.755889e-07   \n3   (6.939, 8.647]  3.324327e-07       4.971497e-07  5.562334e-07   \n4  (8.647, 10.313]  2.259872e-07       4.725876e-07  4.296217e-07   \n\n   sampers_mean  model_variance  gravity_seed_variance  gravity_variance  \\\n0  7.370865e-06    4.455201e-09           2.259008e-16      1.147418e-10   \n1  7.699187e-07    4.115526e-11           9.021649e-17      2.101613e-11   \n2  4.483360e-07    1.414810e-11           6.232140e-17      6.314211e-12   \n3  2.938864e-07    8.585287e-12           5.433544e-17      3.225533e-12   \n4  2.514278e-07    7.011046e-12           4.638674e-17      1.797816e-12   \n\n   sampers_variance  model_sum  gravity_seed_sum  gravity_sum  sampers_sum  \n0      1.943457e-08   0.699603          0.054706     0.197837     0.680301  \n1      2.181541e-11   0.087962          0.051065     0.108041     0.071059  \n2      1.681111e-11   0.049401          0.048319     0.071582     0.041379  \n3      4.295125e-12   0.030682          0.045884     0.051337     0.027124  \n4      1.158260e-11   0.020858          0.043618     0.039652     0.023206  ",
      "text/html": "<div>\n<style scoped>\n    .dataframe tbody tr th:only-of-type {\n        vertical-align: middle;\n    }\n\n    .dataframe tbody tr th {\n        vertical-align: top;\n    }\n\n    .dataframe thead th {\n        text-align: right;\n    }\n</style>\n<table border=\"1\" class=\"dataframe\">\n  <thead>\n    <tr style=\"text-align: right;\">\n      <th></th>\n      <th>distance</th>\n      <th>model_mean</th>\n      <th>gravity_seed_mean</th>\n      <th>gravity_mean</th>\n      <th>sampers_mean</th>\n      <th>model_variance</th>\n      <th>gravity_seed_variance</th>\n      <th>gravity_variance</th>\n      <th>sampers_variance</th>\n      <th>model_sum</th>\n      <th>gravity_seed_sum</th>\n      <th>gravity_sum</th>\n      <th>sampers_sum</th>\n    </tr>\n  </thead>\n  <tbody>\n    <tr>\n      <th>0</th>\n      <td>(-0.001, 3.211]</td>\n      <td>7.579992e-06</td>\n      <td>5.927266e-07</td>\n      <td>2.143508e-06</td>\n      <td>7.370865e-06</td>\n      <td>4.455201e-09</td>\n      <td>2.259008e-16</td>\n      <td>1.147418e-10</td>\n      <td>1.943457e-08</td>\n      <td>0.699603</td>\n      <td>0.054706</td>\n      <td>0.197837</td>\n      <td>0.680301</td>\n    </tr>\n    <tr>\n      <th>1</th>\n      <td>(3.211, 5.192]</td>\n      <td>9.530627e-07</td>\n      <td>5.532856e-07</td>\n      <td>1.170618e-06</td>\n      <td>7.699187e-07</td>\n      <td>4.115526e-11</td>\n      <td>9.021649e-17</td>\n      <td>2.101613e-11</td>\n      <td>2.181541e-11</td>\n      <td>0.087962</td>\n      <td>0.051065</td>\n      <td>0.108041</td>\n      <td>0.071059</td>\n    </tr>\n    <tr>\n      <th>2</th>\n      <td>(5.192, 6.939]</td>\n      <td>5.352549e-07</td>\n      <td>5.235326e-07</td>\n      <td>7.755889e-07</td>\n      <td>4.483360e-07</td>\n      <td>1.414810e-11</td>\n      <td>6.232140e-17</td>\n      <td>6.314211e-12</td>\n      <td>1.681111e-11</td>\n      <td>0.049401</td>\n      <td>0.048319</td>\n      <td>0.071582</td>\n      <td>0.041379</td>\n    </tr>\n    <tr>\n      <th>3</th>\n      <td>(6.939, 8.647]</td>\n      <td>3.324327e-07</td>\n      <td>4.971497e-07</td>\n      <td>5.562334e-07</td>\n      <td>2.938864e-07</td>\n      <td>8.585287e-12</td>\n      <td>5.433544e-17</td>\n      <td>3.225533e-12</td>\n      <td>4.295125e-12</td>\n      <td>0.030682</td>\n      <td>0.045884</td>\n      <td>0.051337</td>\n      <td>0.027124</td>\n    </tr>\n    <tr>\n      <th>4</th>\n      <td>(8.647, 10.313]</td>\n      <td>2.259872e-07</td>\n      <td>4.725876e-07</td>\n      <td>4.296217e-07</td>\n      <td>2.514278e-07</td>\n      <td>7.011046e-12</td>\n      <td>4.638674e-17</td>\n      <td>1.797816e-12</td>\n      <td>1.158260e-11</td>\n      <td>0.020858</td>\n      <td>0.043618</td>\n      <td>0.039652</td>\n      <td>0.023206</td>\n    </tr>\n  </tbody>\n</table>\n</div>"
     },
     "execution_count": 12,
     "metadata": {},
     "output_type": "execute_result"
    }
   ],
   "source": [
    "df = pd.read_csv(str(ROOT_DIR) + '/results/20200901_202859/distance-metrics-east.csv')\n",
    "df.head()"
   ],
   "metadata": {
    "collapsed": false,
    "pycharm": {
     "name": "#%%\n"
    }
   }
  },
  {
   "cell_type": "code",
   "execution_count": 19,
   "outputs": [
    {
     "name": "stdout",
     "output_type": "stream",
     "text": [
      "0.00861413722338568\n"
     ]
    }
   ],
   "source": [
    "# Sampers vs the proposed model\n",
    "ds = validation.DistanceMetrics()\n",
    "print(ds.kullback_leibler(distances=df, titles =['sampers', 'model']))"
   ],
   "metadata": {
    "collapsed": false,
    "pycharm": {
     "name": "#%%\n"
    }
   }
  },
  {
   "cell_type": "code",
   "execution_count": 22,
   "outputs": [
    {
     "name": "stdout",
     "output_type": "stream",
     "text": [
      "0.26008258045198923\n"
     ]
    }
   ],
   "source": [
    "# Sampers vs gravity model\n",
    "ds = validation.DistanceMetrics()\n",
    "print(ds.kullback_leibler(distances=df, titles =['sampers', 'gravity']))"
   ],
   "metadata": {
    "collapsed": false,
    "pycharm": {
     "name": "#%%\n"
    }
   }
  }
 ],
 "metadata": {
  "kernelspec": {
   "display_name": "Python 3",
   "language": "python",
   "name": "python3"
  },
  "language_info": {
   "codemirror_mode": {
    "name": "ipython",
    "version": 2
   },
   "file_extension": ".py",
   "mimetype": "text/x-python",
   "name": "python",
   "nbconvert_exporter": "python",
   "pygments_lexer": "ipython2",
   "version": "2.7.6"
  }
 },
 "nbformat": 4,
 "nbformat_minor": 0
}
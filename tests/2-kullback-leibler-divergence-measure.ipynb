{
 "cells": [
  {
   "cell_type": "markdown",
   "metadata": {
    "collapsed": true,
    "pycharm": {
     "name": "#%% md\n"
    }
   },
   "source": [
    "# Test the added function of the class DistanceMetrics in validation.py"
   ]
  },
  {
   "cell_type": "code",
   "execution_count": 1,
   "outputs": [],
   "source": [
    "%load_ext autoreload\n",
    "%autoreload 2\n",
    "%matplotlib inline"
   ],
   "metadata": {
    "collapsed": false,
    "pycharm": {
     "name": "#%%\n"
    }
   }
  },
  {
   "cell_type": "code",
   "execution_count": 2,
   "outputs": [],
   "source": [
    "import os\n",
    "from pathlib import Path\n",
    "import numpy as np\n",
    "\n",
    "ROOT_DIR = Path(os.path.dirname(os.path.abspath(\".gitignore\"))).parent\n",
    "os.chdir(ROOT_DIR)"
   ],
   "metadata": {
    "collapsed": false,
    "pycharm": {
     "name": "#%%\n"
    }
   }
  },
  {
   "cell_type": "code",
   "execution_count": 3,
   "outputs": [],
   "source": [
    "# Load neccessary modules\n",
    "import validation\n",
    "import pandas as pd"
   ],
   "metadata": {
    "collapsed": false,
    "pycharm": {
     "name": "#%%\n"
    }
   }
  },
  {
   "cell_type": "code",
   "execution_count": 4,
   "outputs": [
    {
     "data": {
      "text/plain": "           distance  sampers_sum  model_sum\n0  (-0.001, 22.405]          0.0        0.0\n1  (22.405, 35.395]          0.0        0.0\n2  (35.395, 46.554]          0.0        0.0\n3  (46.554, 56.061]          0.0        0.0\n4   (56.061, 64.93]          0.0        0.0",
      "text/html": "<div>\n<style scoped>\n    .dataframe tbody tr th:only-of-type {\n        vertical-align: middle;\n    }\n\n    .dataframe tbody tr th {\n        vertical-align: top;\n    }\n\n    .dataframe thead th {\n        text-align: right;\n    }\n</style>\n<table border=\"1\" class=\"dataframe\">\n  <thead>\n    <tr style=\"text-align: right;\">\n      <th></th>\n      <th>distance</th>\n      <th>sampers_sum</th>\n      <th>model_sum</th>\n    </tr>\n  </thead>\n  <tbody>\n    <tr>\n      <th>0</th>\n      <td>(-0.001, 22.405]</td>\n      <td>0.0</td>\n      <td>0.0</td>\n    </tr>\n    <tr>\n      <th>1</th>\n      <td>(22.405, 35.395]</td>\n      <td>0.0</td>\n      <td>0.0</td>\n    </tr>\n    <tr>\n      <th>2</th>\n      <td>(35.395, 46.554]</td>\n      <td>0.0</td>\n      <td>0.0</td>\n    </tr>\n    <tr>\n      <th>3</th>\n      <td>(46.554, 56.061]</td>\n      <td>0.0</td>\n      <td>0.0</td>\n    </tr>\n    <tr>\n      <th>4</th>\n      <td>(56.061, 64.93]</td>\n      <td>0.0</td>\n      <td>0.0</td>\n    </tr>\n  </tbody>\n</table>\n</div>"
     },
     "execution_count": 4,
     "metadata": {},
     "output_type": "execute_result"
    }
   ],
   "source": [
    "df = pd.read_csv(str(ROOT_DIR) + '/results/sweden-20200903_172506/distance-metrics-national.csv')\n",
    "df = df.loc[:, ['distance', 'sampers_sum', 'model_sum']]\n",
    "df.head()"
   ],
   "metadata": {
    "collapsed": false,
    "pycharm": {
     "name": "#%%\n"
    }
   }
  },
  {
   "cell_type": "code",
   "execution_count": 21,
   "outputs": [],
   "source": [
    "titles = ['sampers', 'model']\n",
    "dis = df.loc[(df[titles[0] + '_sum'] != 0) | (df[titles[1] + '_sum'] != 0), :]"
   ],
   "metadata": {
    "collapsed": false,
    "pycharm": {
     "name": "#%%\n"
    }
   }
  },
  {
   "cell_type": "code",
   "execution_count": 5,
   "outputs": [
    {
     "name": "stdout",
     "output_type": "stream",
     "text": [
      "1.0 1.0\n",
      "[3, 4, 6, 7, 8, 10, 11]\n"
     ]
    }
   ],
   "source": [
    "test_1 = np.array([0.1, 0.1, 0.3, 0, 0.05, 0.02, 0.03, 0, 0.1, 0.1, 0.2, 0])\n",
    "test_2 = np.array([0.1, 0.3, 0.1, 0, 0.1, 0.03, 0, 0.01, 0.09, 0.07, 0.1, 0.1])\n",
    "print(sum(test_1), sum(test_2))\n",
    "L = 12\n",
    "zeros = list(np.where(test_1 == 0)[0]) + list(np.where(test_2 == 0)[0])\n",
    "zeros = list(set(zeros))\n",
    "\n",
    "tomerge = list(set(zeros + [x + 1 for x in zeros if x < L - 1] + [x - 1 for x in zeros if x == L - 1]))\n",
    "print(tomerge)"
   ],
   "metadata": {
    "collapsed": false,
    "pycharm": {
     "name": "#%%\n"
    }
   }
  },
  {
   "cell_type": "code",
   "execution_count": 27,
   "outputs": [
    {
     "name": "stdout",
     "output_type": "stream",
     "text": [
      "1.0000000000000002 1.0\n",
      "[78, 79, 89, 90]\n"
     ]
    }
   ],
   "source": [
    "test_1 = dis[titles[0] + '_sum'].values\n",
    "test_2 = dis[titles[1] + '_sum'].values\n",
    "print(sum(test_1), sum(test_2))\n",
    "L = len(test_1)\n",
    "zeros = list(np.where(test_1 == 0)[0]) + list(np.where(test_2 == 0)[0])\n",
    "zeros = list(set(zeros))\n",
    "\n",
    "tomerge = list(set(zeros + [x + 1 for x in zeros if x < L - 1] + [x - 1 for x in zeros if x == L - 1]))\n",
    "tomerge = sorted(tomerge)\n",
    "print(tomerge)"
   ],
   "metadata": {
    "collapsed": false,
    "pycharm": {
     "name": "#%%\n"
    }
   }
  },
  {
   "cell_type": "code",
   "execution_count": 28,
   "outputs": [],
   "source": [
    "if not tomerge:\n",
    "    out_1 = test_1\n",
    "    out_2 = test_2\n",
    "else:\n",
    "    out_1 = test_1[0:tomerge[0]]\n",
    "    out_2 = test_2[0:tomerge[0]]\n",
    "    end_ind = tomerge[0]\n",
    "    start_ind = end_ind\n",
    "    i = 0\n",
    "    while i < len(tomerge):\n",
    "        if end_ind < tomerge[i]:\n",
    "            end_ind = tomerge[i]\n",
    "            out_1 = np.append(out_1, test_1[start_ind:end_ind])\n",
    "            out_2 = np.append(out_2, test_2[start_ind:end_ind])\n",
    "            start_ind = end_ind\n",
    "        else:\n",
    "            if (i == len(tomerge) - 1) | (tomerge[min(len(tomerge) - 1, i + 1)] - tomerge[i] > 1):\n",
    "                end_ind = tomerge[i] + 1\n",
    "                out_1 = np.append(out_1, [sum(test_1[start_ind:end_ind])])\n",
    "                out_2 = np.append(out_2, [sum(test_2[start_ind:end_ind])])\n",
    "                start_ind = end_ind\n",
    "            else:\n",
    "                end_ind = tomerge[i + 1]\n",
    "            i = i + 1"
   ],
   "metadata": {
    "collapsed": false,
    "pycharm": {
     "name": "#%%\n"
    }
   }
  },
  {
   "cell_type": "code",
   "execution_count": 29,
   "outputs": [
    {
     "data": {
      "text/plain": "0.0236850380860222"
     },
     "execution_count": 29,
     "metadata": {},
     "output_type": "execute_result"
    }
   ],
   "source": [
    "sum(out_1 * np.log10(out_1 / out_2))"
   ],
   "metadata": {
    "collapsed": false,
    "pycharm": {
     "name": "#%%\n"
    }
   }
  },
  {
   "cell_type": "code",
   "execution_count": 30,
   "outputs": [
    {
     "name": "stdout",
     "output_type": "stream",
     "text": [
      "0.0236850380860222\n"
     ]
    }
   ],
   "source": [
    "# Sampers vs the proposed model - test the function\n",
    "ds = validation.DistanceMetrics()\n",
    "print(ds.kullback_leibler(distances=df, titles =['sampers', 'model']))"
   ],
   "metadata": {
    "collapsed": false,
    "pycharm": {
     "name": "#%%\n"
    }
   }
  }
 ],
 "metadata": {
  "kernelspec": {
   "display_name": "Python 3",
   "language": "python",
   "name": "python3"
  },
  "language_info": {
   "codemirror_mode": {
    "name": "ipython",
    "version": 2
   },
   "file_extension": ".py",
   "mimetype": "text/x-python",
   "name": "python",
   "nbconvert_exporter": "python",
   "pygments_lexer": "ipython2",
   "version": "2.7.6"
  }
 },
 "nbformat": 4,
 "nbformat_minor": 0
}
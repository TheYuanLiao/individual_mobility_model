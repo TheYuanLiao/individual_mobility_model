{
 "cells": [
  {
   "cell_type": "markdown",
   "source": [
    "# Extract the zones and origin-destination matrix for visualization purpose\n",
    "\n",
    "Region: The Netherlands\n",
    "\n",
    "Purpose: To develope a data product that explores the origin-destination matrix using the travel survey."
   ],
   "metadata": {
    "collapsed": false
   }
  },
  {
   "cell_type": "code",
   "execution_count": 1,
   "outputs": [],
   "source": [
    "%load_ext autoreload\n",
    "%autoreload 2\n",
    "%matplotlib inline\n",
    "\n",
    "import os\n",
    "import subprocess\n",
    "import sys\n",
    "import pandas as pd\n",
    "\n",
    "def get_repo_root():\n",
    "    \"\"\"Get the root directory of the repo.\"\"\"\n",
    "    dir_in_repo = os.path.dirname(os.path.abspath('__file__')) # os.getcwd()\n",
    "    return subprocess.check_output('git rev-parse --show-toplevel'.split(),\n",
    "                                   cwd=dir_in_repo,\n",
    "                                   universal_newlines=True).rstrip()\n",
    "sys.path.append(get_repo_root())\n",
    "ROOT_dir = get_repo_root()\n",
    "\n",
    "import lib.netherlands as netherlands"
   ],
   "metadata": {
    "collapsed": false,
    "pycharm": {
     "name": "#%%\n"
    }
   }
  },
  {
   "cell_type": "markdown",
   "source": [
    "## 1 Load zones"
   ],
   "metadata": {
    "collapsed": false,
    "pycharm": {
     "name": "#%% md\n"
    }
   }
  },
  {
   "cell_type": "code",
   "execution_count": 2,
   "outputs": [],
   "source": [
    "ground_truth = netherlands.GroundTruthLoader()\n",
    "\n",
    "# load zones\n",
    "ground_truth.load_zones()\n"
   ],
   "metadata": {
    "collapsed": false,
    "pycharm": {
     "name": "#%%\n"
    }
   }
  },
  {
   "cell_type": "markdown",
   "source": [
    "## 2 Load odms by mode"
   ],
   "metadata": {
    "collapsed": false
   }
  },
  {
   "cell_type": "code",
   "execution_count": 3,
   "outputs": [
    {
     "name": "stdout",
     "output_type": "stream",
     "text": [
      "origin_zip  dest_zip\n",
      "0           0           1.545977e+08\n",
      "            1012        3.363486e+05\n",
      "            1015        3.759916e+05\n",
      "            1016        9.227314e+04\n",
      "            1017        7.002134e+05\n",
      "Name: weight_trip, dtype: float64\n",
      "zone  zone\n",
      "1011  1011    1.375448e+06\n",
      "      1012    5.502692e+05\n",
      "      1013    0.000000e+00\n",
      "      1014    0.000000e+00\n",
      "      1015    0.000000e+00\n",
      "Name: weight_trip, dtype: float64\n",
      "origin_zip  dest_zip\n",
      "0           0           3.609388e+06\n",
      "            1035        1.935871e+05\n",
      "            1071        1.528667e+05\n",
      "            1131        6.050981e+04\n",
      "            1611        2.184031e+05\n",
      "Name: weight_trip, dtype: float64\n",
      "zone  zone\n",
      "1011  1011    0.0\n",
      "      1012    0.0\n",
      "      1013    0.0\n",
      "      1014    0.0\n",
      "      1015    0.0\n",
      "Name: weight_trip, dtype: float64\n",
      "origin_zip  dest_zip\n",
      "0           0           1.681924e+07\n",
      "            1011        3.320952e+05\n",
      "            1013        1.961443e+05\n",
      "            1015        2.006701e+05\n",
      "            1016        1.324253e+05\n",
      "Name: weight_trip, dtype: float64\n",
      "zone  zone\n",
      "1011  1011    709477.464954\n",
      "      1012    109411.339466\n",
      "      1013     61755.615422\n",
      "      1014         0.000000\n",
      "      1015         0.000000\n",
      "Name: weight_trip, dtype: float64\n",
      "origin_zip  dest_zip\n",
      "0           0           1.873630e+08\n",
      "            1011        3.320952e+05\n",
      "            1012        3.363486e+05\n",
      "            1013        1.961443e+05\n",
      "            1015        5.766617e+05\n",
      "Name: weight_trip, dtype: float64\n",
      "zone  zone\n",
      "1011  1011    2.084926e+06\n",
      "      1012    6.596805e+05\n",
      "      1013    6.175562e+04\n",
      "      1014    0.000000e+00\n",
      "      1015    0.000000e+00\n",
      "Name: weight_trip, dtype: float64\n"
     ]
    }
   ],
   "source": [
    "odm_list = []\n",
    "for m_id, m_name in zip([0, 1, 2, 4], ['Non-bike', 'E-bike', 'Bike', 'Total']):\n",
    "    ground_truth.load_odm_visualization(mode=m_id)\n",
    "    ser = ground_truth.odm\n",
    "    ser.name = m_name\n",
    "    odm_list.append(ser)"
   ],
   "metadata": {
    "collapsed": false,
    "pycharm": {
     "name": "#%%\n"
    }
   }
  },
  {
   "cell_type": "markdown",
   "source": [
    "## 3 Combine all the odms"
   ],
   "metadata": {
    "collapsed": false,
    "pycharm": {
     "name": "#%% md\n"
    }
   }
  },
  {
   "cell_type": "code",
   "execution_count": 4,
   "outputs": [
    {
     "ename": "ValueError",
     "evalue": "cannot insert zone, already exists",
     "output_type": "error",
     "traceback": [
      "\u001B[1;31m---------------------------------------------------------------------------\u001B[0m",
      "\u001B[1;31mValueError\u001B[0m                                Traceback (most recent call last)",
      "\u001B[1;32m<ipython-input-4-43fcb1165b8d>\u001B[0m in \u001B[0;36m<module>\u001B[1;34m\u001B[0m\n\u001B[0;32m      1\u001B[0m \u001B[0mdf\u001B[0m \u001B[1;33m=\u001B[0m \u001B[0mpd\u001B[0m\u001B[1;33m.\u001B[0m\u001B[0mconcat\u001B[0m\u001B[1;33m(\u001B[0m\u001B[0modm_list\u001B[0m\u001B[1;33m,\u001B[0m \u001B[0maxis\u001B[0m\u001B[1;33m=\u001B[0m\u001B[1;36m1\u001B[0m\u001B[1;33m)\u001B[0m\u001B[1;33m\u001B[0m\u001B[1;33m\u001B[0m\u001B[0m\n\u001B[0;32m      2\u001B[0m \u001B[0mdf\u001B[0m \u001B[1;33m=\u001B[0m \u001B[0mdf\u001B[0m\u001B[1;33m.\u001B[0m\u001B[0mloc\u001B[0m\u001B[1;33m[\u001B[0m\u001B[1;33m(\u001B[0m\u001B[0mdf\u001B[0m\u001B[1;33m!=\u001B[0m\u001B[1;36m0\u001B[0m\u001B[1;33m)\u001B[0m\u001B[1;33m.\u001B[0m\u001B[0many\u001B[0m\u001B[1;33m(\u001B[0m\u001B[0maxis\u001B[0m\u001B[1;33m=\u001B[0m\u001B[1;36m1\u001B[0m\u001B[1;33m)\u001B[0m\u001B[1;33m]\u001B[0m\u001B[1;33m\u001B[0m\u001B[1;33m\u001B[0m\u001B[0m\n\u001B[1;32m----> 3\u001B[1;33m \u001B[0mdf\u001B[0m \u001B[1;33m=\u001B[0m \u001B[0mdf\u001B[0m\u001B[1;33m.\u001B[0m\u001B[0mreset_index\u001B[0m\u001B[1;33m(\u001B[0m\u001B[1;33m)\u001B[0m\u001B[1;33m\u001B[0m\u001B[1;33m\u001B[0m\u001B[0m\n\u001B[0m\u001B[0;32m      4\u001B[0m \u001B[0mdf\u001B[0m\u001B[1;33m.\u001B[0m\u001B[0mto_csv\u001B[0m\u001B[1;33m(\u001B[0m\u001B[0mROOT_dir\u001B[0m \u001B[1;33m+\u001B[0m \u001B[1;34m'/dbs/odms_vis/odms_by_mode.csv'\u001B[0m\u001B[1;33m,\u001B[0m \u001B[0mindex\u001B[0m\u001B[1;33m=\u001B[0m\u001B[1;32mFalse\u001B[0m\u001B[1;33m)\u001B[0m\u001B[1;33m\u001B[0m\u001B[1;33m\u001B[0m\u001B[0m\n\u001B[0;32m      5\u001B[0m \u001B[0mground_truth\u001B[0m\u001B[1;33m.\u001B[0m\u001B[0mzones\u001B[0m\u001B[1;33m.\u001B[0m\u001B[0mto_file\u001B[0m\u001B[1;33m(\u001B[0m\u001B[0mROOT_dir\u001B[0m \u001B[1;33m+\u001B[0m \u001B[1;34m'/dbs/odms_vis/zones.shp'\u001B[0m\u001B[1;33m)\u001B[0m\u001B[1;33m\u001B[0m\u001B[1;33m\u001B[0m\u001B[0m\n",
      "\u001B[1;32m~\\AppData\\Roaming\\Python\\Python37\\site-packages\\pandas\\core\\frame.py\u001B[0m in \u001B[0;36mreset_index\u001B[1;34m(self, level, drop, inplace, col_level, col_fill)\u001B[0m\n\u001B[0;32m   4602\u001B[0m                 \u001B[1;31m# to ndarray and maybe infer different dtype\u001B[0m\u001B[1;33m\u001B[0m\u001B[1;33m\u001B[0m\u001B[1;33m\u001B[0m\u001B[0m\n\u001B[0;32m   4603\u001B[0m                 \u001B[0mlevel_values\u001B[0m \u001B[1;33m=\u001B[0m \u001B[0m_maybe_casted_values\u001B[0m\u001B[1;33m(\u001B[0m\u001B[0mlev\u001B[0m\u001B[1;33m,\u001B[0m \u001B[0mlab\u001B[0m\u001B[1;33m)\u001B[0m\u001B[1;33m\u001B[0m\u001B[1;33m\u001B[0m\u001B[0m\n\u001B[1;32m-> 4604\u001B[1;33m                 \u001B[0mnew_obj\u001B[0m\u001B[1;33m.\u001B[0m\u001B[0minsert\u001B[0m\u001B[1;33m(\u001B[0m\u001B[1;36m0\u001B[0m\u001B[1;33m,\u001B[0m \u001B[0mname\u001B[0m\u001B[1;33m,\u001B[0m \u001B[0mlevel_values\u001B[0m\u001B[1;33m)\u001B[0m\u001B[1;33m\u001B[0m\u001B[1;33m\u001B[0m\u001B[0m\n\u001B[0m\u001B[0;32m   4605\u001B[0m \u001B[1;33m\u001B[0m\u001B[0m\n\u001B[0;32m   4606\u001B[0m         \u001B[0mnew_obj\u001B[0m\u001B[1;33m.\u001B[0m\u001B[0mindex\u001B[0m \u001B[1;33m=\u001B[0m \u001B[0mnew_index\u001B[0m\u001B[1;33m\u001B[0m\u001B[1;33m\u001B[0m\u001B[0m\n",
      "\u001B[1;32m~\\AppData\\Roaming\\Python\\Python37\\site-packages\\pandas\\core\\frame.py\u001B[0m in \u001B[0;36minsert\u001B[1;34m(self, loc, column, value, allow_duplicates)\u001B[0m\n\u001B[0;32m   3494\u001B[0m         \u001B[0mself\u001B[0m\u001B[1;33m.\u001B[0m\u001B[0m_ensure_valid_index\u001B[0m\u001B[1;33m(\u001B[0m\u001B[0mvalue\u001B[0m\u001B[1;33m)\u001B[0m\u001B[1;33m\u001B[0m\u001B[1;33m\u001B[0m\u001B[0m\n\u001B[0;32m   3495\u001B[0m         \u001B[0mvalue\u001B[0m \u001B[1;33m=\u001B[0m \u001B[0mself\u001B[0m\u001B[1;33m.\u001B[0m\u001B[0m_sanitize_column\u001B[0m\u001B[1;33m(\u001B[0m\u001B[0mcolumn\u001B[0m\u001B[1;33m,\u001B[0m \u001B[0mvalue\u001B[0m\u001B[1;33m,\u001B[0m \u001B[0mbroadcast\u001B[0m\u001B[1;33m=\u001B[0m\u001B[1;32mFalse\u001B[0m\u001B[1;33m)\u001B[0m\u001B[1;33m\u001B[0m\u001B[1;33m\u001B[0m\u001B[0m\n\u001B[1;32m-> 3496\u001B[1;33m         \u001B[0mself\u001B[0m\u001B[1;33m.\u001B[0m\u001B[0m_data\u001B[0m\u001B[1;33m.\u001B[0m\u001B[0minsert\u001B[0m\u001B[1;33m(\u001B[0m\u001B[0mloc\u001B[0m\u001B[1;33m,\u001B[0m \u001B[0mcolumn\u001B[0m\u001B[1;33m,\u001B[0m \u001B[0mvalue\u001B[0m\u001B[1;33m,\u001B[0m \u001B[0mallow_duplicates\u001B[0m\u001B[1;33m=\u001B[0m\u001B[0mallow_duplicates\u001B[0m\u001B[1;33m)\u001B[0m\u001B[1;33m\u001B[0m\u001B[1;33m\u001B[0m\u001B[0m\n\u001B[0m\u001B[0;32m   3497\u001B[0m \u001B[1;33m\u001B[0m\u001B[0m\n\u001B[0;32m   3498\u001B[0m     \u001B[1;32mdef\u001B[0m \u001B[0massign\u001B[0m\u001B[1;33m(\u001B[0m\u001B[0mself\u001B[0m\u001B[1;33m,\u001B[0m \u001B[1;33m**\u001B[0m\u001B[0mkwargs\u001B[0m\u001B[1;33m)\u001B[0m \u001B[1;33m->\u001B[0m \u001B[1;34m\"DataFrame\"\u001B[0m\u001B[1;33m:\u001B[0m\u001B[1;33m\u001B[0m\u001B[1;33m\u001B[0m\u001B[0m\n",
      "\u001B[1;32m~\\AppData\\Roaming\\Python\\Python37\\site-packages\\pandas\\core\\internals\\managers.py\u001B[0m in \u001B[0;36minsert\u001B[1;34m(self, loc, item, value, allow_duplicates)\u001B[0m\n\u001B[0;32m   1171\u001B[0m         \u001B[1;32mif\u001B[0m \u001B[1;32mnot\u001B[0m \u001B[0mallow_duplicates\u001B[0m \u001B[1;32mand\u001B[0m \u001B[0mitem\u001B[0m \u001B[1;32min\u001B[0m \u001B[0mself\u001B[0m\u001B[1;33m.\u001B[0m\u001B[0mitems\u001B[0m\u001B[1;33m:\u001B[0m\u001B[1;33m\u001B[0m\u001B[1;33m\u001B[0m\u001B[0m\n\u001B[0;32m   1172\u001B[0m             \u001B[1;31m# Should this be a different kind of error??\u001B[0m\u001B[1;33m\u001B[0m\u001B[1;33m\u001B[0m\u001B[1;33m\u001B[0m\u001B[0m\n\u001B[1;32m-> 1173\u001B[1;33m             \u001B[1;32mraise\u001B[0m \u001B[0mValueError\u001B[0m\u001B[1;33m(\u001B[0m\u001B[1;34mf\"cannot insert {item}, already exists\"\u001B[0m\u001B[1;33m)\u001B[0m\u001B[1;33m\u001B[0m\u001B[1;33m\u001B[0m\u001B[0m\n\u001B[0m\u001B[0;32m   1174\u001B[0m \u001B[1;33m\u001B[0m\u001B[0m\n\u001B[0;32m   1175\u001B[0m         \u001B[1;32mif\u001B[0m \u001B[1;32mnot\u001B[0m \u001B[0misinstance\u001B[0m\u001B[1;33m(\u001B[0m\u001B[0mloc\u001B[0m\u001B[1;33m,\u001B[0m \u001B[0mint\u001B[0m\u001B[1;33m)\u001B[0m\u001B[1;33m:\u001B[0m\u001B[1;33m\u001B[0m\u001B[1;33m\u001B[0m\u001B[0m\n",
      "\u001B[1;31mValueError\u001B[0m: cannot insert zone, already exists"
     ]
    }
   ],
   "source": [
    "# Combine mode-specific odms\n",
    "df = pd.concat(odm_list, axis=1)\n",
    "\n",
    "# Remove zero cells\n",
    "df = df.loc[(df!=0).any(axis=1)]\n",
    "\n",
    "# Rename MultiIndex and reset\n",
    "df.index.names = ['ozone', 'dzone']\n",
    "df = df.reset_index()\n",
    "\n",
    "# Save ODMs and zones\n",
    "df.to_csv(ROOT_dir + '/dbs/netherlands/odms_vis/odms_by_mode.csv', index=False)\n",
    "ground_truth.zones.to_file(ROOT_dir + '/dbs/netherlands/odms_vis/zones.shp')"
   ],
   "metadata": {
    "collapsed": false,
    "pycharm": {
     "name": "#%%\n"
    }
   }
  }
 ],
 "metadata": {
  "kernelspec": {
   "display_name": "Python 3",
   "language": "python",
   "name": "python3"
  },
  "language_info": {
   "codemirror_mode": {
    "name": "ipython",
    "version": 2
   },
   "file_extension": ".py",
   "mimetype": "text/x-python",
   "name": "python",
   "nbconvert_exporter": "python",
   "pygments_lexer": "ipython2",
   "version": "2.7.6"
  }
 },
 "nbformat": 4,
 "nbformat_minor": 0
}
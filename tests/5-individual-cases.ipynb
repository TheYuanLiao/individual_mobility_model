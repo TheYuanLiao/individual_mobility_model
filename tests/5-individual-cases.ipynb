{
 "cells": [
  {
   "cell_type": "markdown",
   "metadata": {
    "collapsed": true,
    "pycharm": {
     "name": "#%% md\n"
    }
   },
   "source": [
    "# Extract a few individuals as examples\n"
   ]
  },
  {
   "cell_type": "code",
   "execution_count": 1,
   "outputs": [],
   "source": [
    "%load_ext autoreload\n",
    "%autoreload 2\n",
    "%matplotlib inline\n",
    "\n",
    "import os\n",
    "import subprocess\n",
    "import sys\n",
    "import pandas as pd\n",
    "import numpy as np\n",
    "import geopandas as gpd\n",
    "\n",
    "def get_repo_root():\n",
    "    \"\"\"Get the root directory of the repo.\"\"\"\n",
    "    dir_in_repo = os.path.dirname(os.path.abspath('__file__')) # os.getcwd()\n",
    "    return subprocess.check_output('git rev-parse --show-toplevel'.split(),\n",
    "                                   cwd=dir_in_repo,\n",
    "                                   universal_newlines=True).rstrip()\n",
    "sys.path.append(get_repo_root())\n",
    "ROOT_dir = get_repo_root()\n",
    "\n",
    "import lib.mscthesis as mscthesis\n",
    "import lib.netherlands as netherlands\n",
    "import lib.genericvalidation as genericvalidation"
   ],
   "metadata": {
    "collapsed": false,
    "pycharm": {
     "name": "#%%\n"
    }
   }
  },
  {
   "cell_type": "markdown",
   "source": [
    "## 1 Load users' visits stats to select 4 individuals"
   ],
   "metadata": {
    "collapsed": false,
    "pycharm": {
     "name": "#%% md\n"
    }
   }
  },
  {
   "cell_type": "code",
   "execution_count": 2,
   "outputs": [],
   "source": [
    "df = pd.read_csv(ROOT_dir + '/dbs/netherlands/visits/visits_3_stats.csv')\n",
    "df_users = df.groupby('userid')['pkt'].agg(['mean', 'min', 'max'])"
   ],
   "metadata": {
    "collapsed": false,
    "pycharm": {
     "name": "#%%\n"
    }
   }
  },
  {
   "cell_type": "markdown",
   "source": [
    "## 2 Create individual OD with their synthesized visits"
   ],
   "metadata": {
    "collapsed": false,
    "pycharm": {
     "name": "#%% md\n"
    }
   }
  },
  {
   "cell_type": "code",
   "execution_count": 3,
   "outputs": [],
   "source": [
    "users = [763009, 767248, 736794]\n",
    "df_visits = pd.read_csv(ROOT_dir + '/dbs/netherlands/visits/visits_3.csv')\n",
    "df_visits = df_visits.loc[df_visits.userid.isin(users), :]"
   ],
   "metadata": {
    "collapsed": false,
    "pycharm": {
     "name": "#%%\n"
    }
   }
  },
  {
   "cell_type": "code",
   "execution_count": 4,
   "outputs": [
    {
     "data": {
      "text/plain": "2"
     },
     "execution_count": 4,
     "metadata": {},
     "output_type": "execute_result"
    }
   ],
   "source": [
    "df_visits.userid.nunique()"
   ],
   "metadata": {
    "collapsed": false,
    "pycharm": {
     "name": "#%%\n"
    }
   }
  },
  {
   "cell_type": "code",
   "execution_count": 5,
   "outputs": [
    {
     "name": "stdout",
     "output_type": "stream",
     "text": [
      "Convering visits to zone CRS\n",
      "Aligning region-visits to zones...\n",
      "removed 0 region-visits due to missing zone geom\n",
      "Aligning point-visits to zones...\n",
      "removed 0 point-visits due to missing zone geom\n",
      "622 visits left after alignment\n",
      "Creating odm...\n",
      "Convering visits to zone CRS\n",
      "Aligning region-visits to zones...\n",
      "removed 0 region-visits due to missing zone geom\n",
      "Aligning point-visits to zones...\n",
      "removed 1 point-visits due to missing zone geom\n",
      "612 visits left after alignment\n",
      "Creating odm...\n"
     ]
    }
   ],
   "source": [
    "model_odms = []\n",
    "## Get spatial zones\n",
    "gs = netherlands.GroundTruthLoader()\n",
    "gs.load_zones()\n",
    "zones = gs.zones\n",
    "for user, ele in df_visits.groupby('userid'):\n",
    "    od = genericvalidation.visits_to_odm(ele.set_index('userid'), zones)\n",
    "    od.name = f'user_{user}'\n",
    "    model_odms.append(od)"
   ],
   "metadata": {
    "collapsed": false,
    "pycharm": {
     "name": "#%%\n"
    }
   }
  },
  {
   "cell_type": "code",
   "execution_count": 6,
   "outputs": [
    {
     "data": {
      "text/plain": "Index(['ozone', 'dzone', 'user_763009', 'user_767248'], dtype='object')"
     },
     "execution_count": 6,
     "metadata": {},
     "output_type": "execute_result"
    }
   ],
   "source": [
    "df_od = pd.concat(model_odms, axis=1).reset_index()\n",
    "df_od = df_od.rename(columns={'level_0': 'ozone', 'level_1': 'dzone'})\n",
    "df_od.columns"
   ],
   "metadata": {
    "collapsed": false,
    "pycharm": {
     "name": "#%%\n"
    }
   }
  },
  {
   "cell_type": "code",
   "execution_count": 7,
   "outputs": [],
   "source": [
    "df_od = df_od.loc[(df_od['user_763009'] != 0) | (df_od['user_767248'] != 0), :]\n",
    "df_od.to_csv(ROOT_dir + '/dbs/netherlands_visits_3_examples.csv', index=False)"
   ],
   "metadata": {
    "collapsed": false,
    "pycharm": {
     "name": "#%%\n"
    }
   }
  }
 ],
 "metadata": {
  "kernelspec": {
   "display_name": "Python 3",
   "language": "python",
   "name": "python3"
  },
  "language_info": {
   "codemirror_mode": {
    "name": "ipython",
    "version": 2
   },
   "file_extension": ".py",
   "mimetype": "text/x-python",
   "name": "python",
   "nbconvert_exporter": "python",
   "pygments_lexer": "ipython2",
   "version": "2.7.6"
  }
 },
 "nbformat": 4,
 "nbformat_minor": 0
}
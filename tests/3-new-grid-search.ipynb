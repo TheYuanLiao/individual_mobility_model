{
 "cells": [
  {
   "cell_type": "markdown",
   "metadata": {
    "collapsed": true,
    "pycharm": {
     "name": "#%% md\n"
    }
   },
   "source": [
    "# Test the new structure of grid search"
   ]
  },
  {
   "cell_type": "code",
   "execution_count": 1,
   "outputs": [],
   "source": [
    "%load_ext autoreload\n",
    "%autoreload 2\n",
    "%matplotlib inline\n",
    "\n",
    "import os\n",
    "import subprocess\n",
    "import sys\n",
    "def get_repo_root():\n",
    "    \"\"\"Get the root directory of the repo.\"\"\"\n",
    "    dir_in_repo = os.path.dirname(os.path.abspath('__file__')) # os.getcwd()\n",
    "    return subprocess.check_output('git rev-parse --show-toplevel'.split(),\n",
    "                                   cwd=dir_in_repo,\n",
    "                                   universal_newlines=True).rstrip()\n",
    "sys.path.append(get_repo_root())\n",
    "ROOT_dir = get_repo_root()"
   ],
   "metadata": {
    "collapsed": false,
    "pycharm": {
     "name": "#%%\n"
    }
   }
  },
  {
   "cell_type": "code",
   "execution_count": 2,
   "outputs": [],
   "source": [
    "# load libraries\n",
    "import gs_model\n",
    "import json\n",
    "import multiprocessing as mp\n",
    "import pprint\n",
    "import pandas as pd"
   ],
   "metadata": {
    "collapsed": false,
    "pycharm": {
     "name": "#%%\n"
    }
   }
  },
  {
   "cell_type": "code",
   "execution_count": 3,
   "outputs": [],
   "source": [
    "class RegionParaSearch:\n",
    "    def __init__(self, res=None, region=None, rg=None, visits=None):\n",
    "        self.res = res\n",
    "        self.region = region\n",
    "        self.rg = rg\n",
    "        self.visits = visits\n",
    "\n",
    "    def region_data_load(self):\n",
    "        self.res = ROOT_dir + '/results/gridsearch-n_' + self.region + '.txt'\n",
    "        rg_ = gs_model.RegionDataPrep(region=self.region)\n",
    "        rg_.load_zones_odm()\n",
    "        rg_.load_geotweets()\n",
    "        rg_.kl_baseline_compute()\n",
    "        self.rg = rg_\n",
    "        self.visits = gs_model.VisitsGeneration(region=self.region, bbox=self.rg.bbox,\n",
    "                                                zones=self.rg.zones, odm=self.rg.gt_odm,\n",
    "                                                distances=self.rg.distances,\n",
    "                                                distance_quantiles=self.rg.distance_quantiles, gt_dms=self.rg.dms)\n",
    "\n",
    "    def gs_para(self, p, gamma, beta):\n",
    "        # parallelize the generation of visits over days\n",
    "        pool = mp.Pool(mp.cpu_count())\n",
    "        visits_list = pool.starmap(self.visits.visits_gen_chunk,\n",
    "                                   [(self.rg.tweets_calibration, p, gamma, beta, x) for x in [7] * 20])\n",
    "        visits_total = pd.concat(visits_list).set_index('userid')\n",
    "        pool.close()\n",
    "        print('Visits generated:', len(visits_total))\n",
    "        divergence_measure = self.visits.visits2measure(visits=visits_total, home_locations=self.rg.home_locations)\n",
    "        # append the result to the gridsearch file\n",
    "        dic = {'region': self.region, 'p': p, 'beta': beta, 'gamma': gamma,\n",
    "               'kl-baseline': self.rg.kl_baseline, 'kl': divergence_measure}\n",
    "        pprint.pprint(dic)\n",
    "        with open(self.res, 'a') as outfile:\n",
    "            json.dump(dic, outfile)\n",
    "            outfile.write('\\n')\n",
    "        return -divergence_measure"
   ],
   "metadata": {
    "collapsed": false,
    "pycharm": {
     "name": "#%%\n"
    }
   }
  },
  {
   "cell_type": "markdown",
   "source": [
    "## 1 Load data according to the specified region"
   ],
   "metadata": {
    "collapsed": false
   }
  },
  {
   "cell_type": "code",
   "execution_count": null,
   "outputs": [],
   "source": [
    "# load region data\n",
    "region='netherlands'\n",
    "gs = RegionParaSearch(region=region)\n",
    "gs.region_data_load()"
   ],
   "metadata": {
    "collapsed": false,
    "pycharm": {
     "name": "#%%\n"
    }
   }
  },
  {
   "cell_type": "code",
   "execution_count": 4,
   "outputs": [
    {
     "name": "stdout",
     "output_type": "stream",
     "text": [
      "origin_zip  dest_zip\n",
      "0           0           1.921383e+08\n",
      "            1011        3.320952e+05\n",
      "            1012        3.363486e+05\n",
      "            1013        1.961443e+05\n",
      "            1015        5.766617e+05\n",
      "Name: weight_trip, dtype: float64\n",
      "zone  zone\n",
      "1011  1011    2.084926e+06\n",
      "      1012    8.106812e+05\n",
      "      1013    6.175562e+04\n",
      "      1014    0.000000e+00\n",
      "      1015    0.000000e+00\n",
      "Name: weight_trip, dtype: float64\n"
     ]
    }
   ],
   "source": [
    "import netherlands\n",
    "rg = netherlands.GroundTruthLoader()\n",
    "rg.load_zones()\n",
    "rg.load_odm()"
   ],
   "metadata": {
    "collapsed": false,
    "pycharm": {
     "name": "#%%\n"
    }
   }
  },
  {
   "cell_type": "markdown",
   "source": [
    "## 2 Generate visits"
   ],
   "metadata": {
    "collapsed": false
   }
  },
  {
   "cell_type": "code",
   "execution_count": 11,
   "outputs": [
    {
     "name": "stdout",
     "output_type": "stream",
     "text": [
      "Visits generated: 1566562\n",
      "removed 6572 visits due to sampling bbox\n",
      "Convering visits to zone CRS\n",
      "Aligning region-visits to zones...\n",
      "removed 5177 region-visits due to missing zone geom\n",
      "Aligning point-visits to zones...\n",
      "removed 1784 point-visits due to missing zone geom\n",
      "1553029 visits left after alignment\n",
      "Creating odm...\n",
      "{'beta': 0.01,\n",
      " 'gamma': 0.01,\n",
      " 'kl': 1.710174804553334,\n",
      " 'kl-baseline': 0.31464927288956873,\n",
      " 'p': 0.010000000000000009,\n",
      " 'region': 'sweden-national'}\n"
     ]
    },
    {
     "data": {
      "text/plain": "-1.710174804553334"
     },
     "execution_count": 11,
     "metadata": {},
     "output_type": "execute_result"
    }
   ],
   "source": [
    "gs.gs_para(0.010000000000000009, 0.01, 0.01)"
   ],
   "metadata": {
    "collapsed": false,
    "pycharm": {
     "name": "#%%\n"
    }
   }
  }
 ],
 "metadata": {
  "kernelspec": {
   "display_name": "Python 3",
   "language": "python",
   "name": "python3"
  },
  "language_info": {
   "codemirror_mode": {
    "name": "ipython",
    "version": 2
   },
   "file_extension": ".py",
   "mimetype": "text/x-python",
   "name": "python",
   "nbconvert_exporter": "python",
   "pygments_lexer": "ipython2",
   "version": "2.7.6"
  }
 },
 "nbformat": 4,
 "nbformat_minor": 0
}
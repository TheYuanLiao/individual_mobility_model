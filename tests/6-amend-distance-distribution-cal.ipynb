{
 "cells": [
  {
   "cell_type": "markdown",
   "metadata": {
    "collapsed": true,
    "pycharm": {
     "name": "#%% md\n"
    }
   },
   "source": [
    "# Test the new way of calculating distance distribution\n",
    "When the actual trip is available, use it for calibration and validation.\n",
    "\n",
    "This modification applies to Sweden, The Netherlands, and Sao Paulo."
   ]
  },
  {
   "cell_type": "code",
   "execution_count": 1,
   "outputs": [],
   "source": [
    "%load_ext autoreload\n",
    "%autoreload 2\n",
    "%matplotlib inline\n",
    "\n",
    "import os\n",
    "import subprocess\n",
    "import sys\n",
    "def get_repo_root():\n",
    "    \"\"\"Get the root directory of the repo.\"\"\"\n",
    "    dir_in_repo = os.path.dirname(os.path.abspath('__file__')) # os.getcwd()\n",
    "    return subprocess.check_output('git rev-parse --show-toplevel'.split(),\n",
    "                                   cwd=dir_in_repo,\n",
    "                                   universal_newlines=True).rstrip()\n",
    "sys.path.append(get_repo_root())\n",
    "ROOT_dir = get_repo_root()"
   ],
   "metadata": {
    "collapsed": false,
    "pycharm": {
     "name": "#%%\n"
    }
   }
  },
  {
   "cell_type": "code",
   "execution_count": 2,
   "outputs": [],
   "source": [
    "# load libraries\n",
    "import gs_model\n",
    "import pandas as pd\n",
    "import genericvalidation\n",
    "import validation"
   ],
   "metadata": {
    "collapsed": false,
    "pycharm": {
     "name": "#%%\n"
    }
   }
  },
  {
   "cell_type": "code",
   "execution_count": 3,
   "outputs": [
    {
     "name": "stdout",
     "output_type": "stream",
     "text": [
      "origin_main_deso  desti_main_deso\n",
      "0114A0010         0114C1170          182551.736842\n",
      "                  0163C1140          810292.236111\n",
      "                  0163C1170          182927.555556\n",
      "                  0163C1350           94404.100629\n",
      "                  0163C1380           23397.135431\n",
      "Name: trip_weight, dtype: float64\n",
      "ozone      dzone    \n",
      "0114A0010  0114A0010    0.0\n",
      "           0114C1010    0.0\n",
      "           0114C1020    0.0\n",
      "           0114C1030    0.0\n",
      "           0114C1040    0.0\n",
      "Name: trip_weight, dtype: float64\n",
      "Calculating distances between zones...\n",
      "Calculating quantiles...\n"
     ]
    }
   ],
   "source": [
    "rg_ = gs_model.RegionDataPrep(region='sweden')\n",
    "rg_.load_zones_odm()\n",
    "rg_.load_geotweets()\n",
    "rg_.kl_baseline_compute()"
   ],
   "metadata": {
    "collapsed": false,
    "pycharm": {
     "name": "#%%\n"
    }
   }
  },
  {
   "cell_type": "code",
   "execution_count": 4,
   "outputs": [
    {
     "data": {
      "text/plain": "                      groundtruth_sum  baseline_sum\ndistance                                           \n(0.0, 6.117]                 0.613501      0.010309\n(6.117, 10.704]              0.116566      0.010309\n(10.704, 15.299]             0.060914      0.010309\n(15.299, 20.415]             0.048598      0.010309\n(20.415, 26.649]             0.034514      0.010309\n...                               ...           ...\n(833.953, 890.199]           0.000158      0.010309\n(890.199, 954.627]           0.000025      0.010309\n(954.627, 1021.641]          0.000033      0.010309\n(1021.641, 1127.411]         0.000088      0.010309\n(1127.411, 1514.706]         0.000103      0.010309\n\n[100 rows x 2 columns]",
      "text/html": "<div>\n<style scoped>\n    .dataframe tbody tr th:only-of-type {\n        vertical-align: middle;\n    }\n\n    .dataframe tbody tr th {\n        vertical-align: top;\n    }\n\n    .dataframe thead th {\n        text-align: right;\n    }\n</style>\n<table border=\"1\" class=\"dataframe\">\n  <thead>\n    <tr style=\"text-align: right;\">\n      <th></th>\n      <th>groundtruth_sum</th>\n      <th>baseline_sum</th>\n    </tr>\n    <tr>\n      <th>distance</th>\n      <th></th>\n      <th></th>\n    </tr>\n  </thead>\n  <tbody>\n    <tr>\n      <th>(0.0, 6.117]</th>\n      <td>0.613501</td>\n      <td>0.010309</td>\n    </tr>\n    <tr>\n      <th>(6.117, 10.704]</th>\n      <td>0.116566</td>\n      <td>0.010309</td>\n    </tr>\n    <tr>\n      <th>(10.704, 15.299]</th>\n      <td>0.060914</td>\n      <td>0.010309</td>\n    </tr>\n    <tr>\n      <th>(15.299, 20.415]</th>\n      <td>0.048598</td>\n      <td>0.010309</td>\n    </tr>\n    <tr>\n      <th>(20.415, 26.649]</th>\n      <td>0.034514</td>\n      <td>0.010309</td>\n    </tr>\n    <tr>\n      <th>...</th>\n      <td>...</td>\n      <td>...</td>\n    </tr>\n    <tr>\n      <th>(833.953, 890.199]</th>\n      <td>0.000158</td>\n      <td>0.010309</td>\n    </tr>\n    <tr>\n      <th>(890.199, 954.627]</th>\n      <td>0.000025</td>\n      <td>0.010309</td>\n    </tr>\n    <tr>\n      <th>(954.627, 1021.641]</th>\n      <td>0.000033</td>\n      <td>0.010309</td>\n    </tr>\n    <tr>\n      <th>(1021.641, 1127.411]</th>\n      <td>0.000088</td>\n      <td>0.010309</td>\n    </tr>\n    <tr>\n      <th>(1127.411, 1514.706]</th>\n      <td>0.000103</td>\n      <td>0.010309</td>\n    </tr>\n  </tbody>\n</table>\n<p>100 rows × 2 columns</p>\n</div>"
     },
     "execution_count": 4,
     "metadata": {},
     "output_type": "execute_result"
    }
   ],
   "source": [
    "rg_.dms"
   ],
   "metadata": {
    "collapsed": false,
    "pycharm": {
     "name": "#%%\n"
    }
   }
  },
  {
   "cell_type": "code",
   "execution_count": 5,
   "outputs": [
    {
     "name": "stdout",
     "output_type": "stream",
     "text": [
      "groundtruth_sum    1.0\n",
      "baseline_sum       1.0\n",
      "dtype: float64\n"
     ]
    }
   ],
   "source": [
    "print(rg_.dms.sum())"
   ],
   "metadata": {
    "collapsed": false,
    "pycharm": {
     "name": "#%%\n"
    }
   }
  },
  {
   "cell_type": "code",
   "execution_count": 5,
   "outputs": [
    {
     "name": "stdout",
     "output_type": "stream",
     "text": [
      "Calculating distances between zones...\n",
      "Calculating quantiles...\n"
     ]
    }
   ],
   "source": [
    "rg = gs_model.RegionDataPrep(region='netherlands')\n",
    "rg.load_zones_odm()\n",
    "rg.load_geotweets()\n",
    "rg.kl_baseline_compute()"
   ],
   "metadata": {
    "collapsed": false,
    "pycharm": {
     "name": "#%%\n"
    }
   }
  },
  {
   "cell_type": "code",
   "execution_count": 6,
   "outputs": [
    {
     "data": {
      "text/plain": "                  groundtruth_sum  baseline_sum\ndistance                                       \n(-0.001, 2.153]          0.474010          0.01\n(2.153, 3.119]           0.085258          0.01\n(3.119, 3.875]           0.050338          0.01\n(3.875, 4.522]           0.031930          0.01\n(4.522, 5.107]           0.026932          0.01\n...                           ...           ...\n(51.466, 54.047]         0.000198          0.01\n(54.047, 57.445]         0.000056          0.01\n(57.445, 61.969]         0.000173          0.01\n(61.969, 69.585]         0.000077          0.01\n(69.585, 127.43]         0.000099          0.01\n\n[100 rows x 2 columns]",
      "text/html": "<div>\n<style scoped>\n    .dataframe tbody tr th:only-of-type {\n        vertical-align: middle;\n    }\n\n    .dataframe tbody tr th {\n        vertical-align: top;\n    }\n\n    .dataframe thead th {\n        text-align: right;\n    }\n</style>\n<table border=\"1\" class=\"dataframe\">\n  <thead>\n    <tr style=\"text-align: right;\">\n      <th></th>\n      <th>groundtruth_sum</th>\n      <th>baseline_sum</th>\n    </tr>\n    <tr>\n      <th>distance</th>\n      <th></th>\n      <th></th>\n    </tr>\n  </thead>\n  <tbody>\n    <tr>\n      <th>(-0.001, 2.153]</th>\n      <td>0.474010</td>\n      <td>0.01</td>\n    </tr>\n    <tr>\n      <th>(2.153, 3.119]</th>\n      <td>0.085258</td>\n      <td>0.01</td>\n    </tr>\n    <tr>\n      <th>(3.119, 3.875]</th>\n      <td>0.050338</td>\n      <td>0.01</td>\n    </tr>\n    <tr>\n      <th>(3.875, 4.522]</th>\n      <td>0.031930</td>\n      <td>0.01</td>\n    </tr>\n    <tr>\n      <th>(4.522, 5.107]</th>\n      <td>0.026932</td>\n      <td>0.01</td>\n    </tr>\n    <tr>\n      <th>...</th>\n      <td>...</td>\n      <td>...</td>\n    </tr>\n    <tr>\n      <th>(51.466, 54.047]</th>\n      <td>0.000198</td>\n      <td>0.01</td>\n    </tr>\n    <tr>\n      <th>(54.047, 57.445]</th>\n      <td>0.000056</td>\n      <td>0.01</td>\n    </tr>\n    <tr>\n      <th>(57.445, 61.969]</th>\n      <td>0.000173</td>\n      <td>0.01</td>\n    </tr>\n    <tr>\n      <th>(61.969, 69.585]</th>\n      <td>0.000077</td>\n      <td>0.01</td>\n    </tr>\n    <tr>\n      <th>(69.585, 127.43]</th>\n      <td>0.000099</td>\n      <td>0.01</td>\n    </tr>\n  </tbody>\n</table>\n<p>100 rows × 2 columns</p>\n</div>"
     },
     "execution_count": 6,
     "metadata": {},
     "output_type": "execute_result"
    }
   ],
   "source": [
    "rg.dms\n"
   ],
   "metadata": {
    "collapsed": false,
    "pycharm": {
     "name": "#%%\n"
    }
   }
  },
  {
   "cell_type": "code",
   "execution_count": null,
   "outputs": [],
   "source": [
    "print(rg.dms.sum())"
   ],
   "metadata": {
    "collapsed": false,
    "pycharm": {
     "name": "#%%\n"
    }
   }
  }
 ],
 "metadata": {
  "kernelspec": {
   "display_name": "Python 3",
   "language": "python",
   "name": "python3"
  },
  "language_info": {
   "codemirror_mode": {
    "name": "ipython",
    "version": 2
   },
   "file_extension": ".py",
   "mimetype": "text/x-python",
   "name": "python",
   "nbconvert_exporter": "python",
   "pygments_lexer": "ipython2",
   "version": "2.7.6"
  }
 },
 "nbformat": 4,
 "nbformat_minor": 0
}
{
 "cells": [
  {
   "cell_type": "markdown",
   "metadata": {
    "collapsed": true,
    "pycharm": {
     "name": "#%% md\n"
    }
   },
   "source": [
    "# Convert the .sqlite3 files for application\n"
   ]
  },
  {
   "cell_type": "code",
   "execution_count": 1,
   "outputs": [],
   "source": [
    "%load_ext autoreload\n",
    "%autoreload 2\n",
    "%matplotlib inline\n",
    "\n",
    "import os\n",
    "import subprocess\n",
    "import sys\n",
    "def get_repo_root():\n",
    "    \"\"\"Get the root directory of the repo.\"\"\"\n",
    "    dir_in_repo = os.path.dirname(os.path.abspath('__file__')) # os.getcwd()\n",
    "    return subprocess.check_output('git rev-parse --show-toplevel'.split(),\n",
    "                                   cwd=dir_in_repo,\n",
    "                                   universal_newlines=True).rstrip()\n",
    "sys.path.append(get_repo_root())\n",
    "ROOT_dir = get_repo_root()"
   ],
   "metadata": {
    "collapsed": false,
    "pycharm": {
     "name": "#%%\n"
    }
   }
  },
  {
   "cell_type": "code",
   "execution_count": 17,
   "outputs": [
    {
     "name": "stderr",
     "output_type": "stream",
     "text": [
      "C:\\ProgramData\\Anaconda3\\lib\\site-packages\\numpy\\core\\_asarray.py:83: VisibleDeprecationWarning: Creating an ndarray from ragged nested sequences (which is a list-or-tuple of lists-or-tuples-or ndarrays with different lengths or shapes) is deprecated. If you meant to do this, you must specify 'dtype=object' when creating the ndarray\n",
      "  return array(a, dtype, copy=False, order=order)\n"
     ]
    }
   ],
   "source": [
    "import sqlite3\n",
    "from sqlalchemy import create_engine\n",
    "import pandas as pd\n",
    "from tzwhere import tzwhere\n",
    "from dateutil import tz\n",
    "from datetime import datetime as dt\n",
    "tzg = tzwhere.tzwhere()\n",
    "db = 'E:/Top_Users_Timelines/Austria_timelines.sqlite3'\n",
    "\n",
    "def where_self(row):\n",
    "    try:\n",
    "        x = tz.gettz(tzg.tzNameAt(row[\"latitude\"], row[\"longitude\"]))\n",
    "    except:\n",
    "        x = \"Unknown\"\n",
    "    return x\n",
    "\n",
    "def where2time(row):\n",
    "    from_zone = tz.gettz('UTC')\n",
    "    timezone = row[\"time_zone\"]\n",
    "\n",
    "    rawUTC = dt.strptime(row[\"created_at\"],'%b %d %H:%M:%S %Y')# , '%b %d %H:%M:%S %Y'\n",
    "    utc = rawUTC.replace(tzinfo=from_zone)\n",
    "    central = str(utc.astimezone(timezone))\n",
    "    rawT = dt.strptime(central[:-6],'%Y-%m-%d %H:%M:%S')\n",
    "    return rawT"
   ],
   "metadata": {
    "collapsed": false,
    "pycharm": {
     "name": "#%%\n"
    }
   }
  },
  {
   "cell_type": "markdown",
   "source": [
    "## 1 Load data from the raw .sqlite3"
   ],
   "metadata": {
    "collapsed": false,
    "pycharm": {
     "name": "#%% md\n"
    }
   }
  },
  {
   "cell_type": "code",
   "execution_count": 3,
   "outputs": [],
   "source": [
    "conn = sqlite3.connect(db)\n",
    "df_raw = pd.read_sql_query(\"SELECT * FROM geo INNER JOIN records ON geo.rec_id = records.id\", con=conn)\n",
    "df_raw = df_raw.loc[:, ['tw_id', 'user_id', 'time',\n",
    "                        'coord_lat', 'coord_long']].rename(columns={'tw_id': 'tweet_id',\n",
    "                                                                    'time': 'created_at',\n",
    "                                                                    'coord_lat': 'latitude',\n",
    "                                                                    'coord_long': 'longitude'})"
   ],
   "metadata": {
    "collapsed": false,
    "pycharm": {
     "name": "#%%\n"
    }
   }
  },
  {
   "cell_type": "markdown",
   "source": [
    "## 2 Get time zone and convert the UTC time into local time"
   ],
   "metadata": {
    "collapsed": false,
    "pycharm": {
     "name": "#%% md\n"
    }
   }
  },
  {
   "cell_type": "code",
   "execution_count": 9,
   "outputs": [
    {
     "data": {
      "text/plain": "tweet_id       1176080703810875392\nuser_id                          1\ncreated_at    Sep 23 10:27:44 2019\nlatitude                   25.0361\nlongitude                  121.555\ntime_zone            tzfile('ROC')\nName: 0, dtype: object"
     },
     "execution_count": 9,
     "metadata": {},
     "output_type": "execute_result"
    }
   ],
   "source": [
    "df_raw[\"time_zone\"] = df_raw.apply(lambda row: where_self(row), axis = 1)\n",
    "df_raw.iloc[0]"
   ],
   "metadata": {
    "collapsed": false,
    "pycharm": {
     "name": "#%%\n"
    }
   }
  },
  {
   "cell_type": "code",
   "execution_count": 14,
   "outputs": [],
   "source": [
    "df_raw = df_raw.loc[df_raw[\"time_zone\"] != \"Unknown\",:]\n",
    "df_raw[\"created_at\"] = df_raw.apply(lambda row: where2time(row), axis = 1)\n",
    "df_raw[\"time_zone\"] = df_raw[\"time_zone\"].apply(lambda x: str(x)[8:-2])"
   ],
   "metadata": {
    "collapsed": false,
    "pycharm": {
     "name": "#%%\n"
    }
   }
  },
  {
   "cell_type": "code",
   "execution_count": 15,
   "outputs": [],
   "source": [
    "df_raw.loc[:, 'month'] = df_raw.loc[:, 'created_at'].apply(lambda x: x.month)\n",
    "df_raw.loc[:, 'weekday'] = df_raw.loc[:, 'created_at'].apply(lambda x: x.weekday())\n",
    "df_raw.loc[:, 'hour_of_day'] = df_raw.loc[:, 'created_at'].apply(lambda x: x.hour)\n",
    "df_raw = df_raw.loc[df_raw['time_zone']!='']"
   ],
   "metadata": {
    "collapsed": false,
    "pycharm": {
     "name": "#%%\n"
    }
   }
  },
  {
   "cell_type": "markdown",
   "source": [
    "## 3 Save into a new .sqlite3"
   ],
   "metadata": {
    "collapsed": false,
    "pycharm": {
     "name": "#%% md\n"
    }
   }
  },
  {
   "cell_type": "code",
   "execution_count": 25,
   "outputs": [
    {
     "name": "stdout",
     "output_type": "stream",
     "text": [
      "2020-09-23 18:21:38,775 INFO sqlalchemy.engine.base.Engine SELECT CAST('test plain returns' AS VARCHAR(60)) AS anon_1\n",
      "2020-09-23 18:21:38,776 INFO sqlalchemy.engine.base.Engine ()\n",
      "2020-09-23 18:21:38,777 INFO sqlalchemy.engine.base.Engine SELECT CAST('test unicode returns' AS VARCHAR(60)) AS anon_1\n",
      "2020-09-23 18:21:38,777 INFO sqlalchemy.engine.base.Engine ()\n",
      "2020-09-23 18:21:39,014 INFO sqlalchemy.engine.base.Engine PRAGMA table_info(\"geo_tweet\")\n",
      "2020-09-23 18:21:39,014 INFO sqlalchemy.engine.base.Engine ()\n",
      "2020-09-23 18:21:39,032 INFO sqlalchemy.engine.base.Engine \n",
      "CREATE TABLE geo_tweet (\n",
      "\t\"index\" BIGINT, \n",
      "\ttweet_id TEXT, \n",
      "\tuser_id BIGINT, \n",
      "\tcreated_at DATETIME, \n",
      "\tlatitude FLOAT, \n",
      "\tlongitude FLOAT, \n",
      "\ttime_zone TEXT, \n",
      "\tmonth BIGINT, \n",
      "\tweek_day BIGINT, \n",
      "\thour_of_day BIGINT\n",
      ")\n",
      "\n",
      "\n",
      "2020-09-23 18:21:39,033 INFO sqlalchemy.engine.base.Engine ()\n",
      "2020-09-23 18:21:39,161 INFO sqlalchemy.engine.base.Engine COMMIT\n",
      "2020-09-23 18:21:39,164 INFO sqlalchemy.engine.base.Engine CREATE INDEX ix_geo_tweet_index ON geo_tweet (\"index\")\n",
      "2020-09-23 18:21:39,165 INFO sqlalchemy.engine.base.Engine ()\n",
      "2020-09-23 18:21:39,312 INFO sqlalchemy.engine.base.Engine COMMIT\n",
      "2020-09-23 18:21:39,922 INFO sqlalchemy.engine.base.Engine BEGIN (implicit)\n",
      "2020-09-23 18:21:50,891 INFO sqlalchemy.engine.base.Engine INSERT INTO geo_tweet (\"index\", tweet_id, user_id, created_at, latitude, longitude, time_zone, month, week_day, hour_of_day) VALUES (?, ?, ?, ?, ?, ?, ?, ?, ?, ?)\n",
      "2020-09-23 18:21:50,892 INFO sqlalchemy.engine.base.Engine ((0, '1176080703810875392', 1, '2019-09-23 18:27:44.000000', 25.03614, 121.55469, 'ROC', 9, 0, 18), (1, '1175990402949795840', 1, '2019-09-23 12:28:55.000000', 25.03952943, 121.56559903, 'ROC', 9, 0, 12), (2, '1175632693452845057', 1, '2019-09-22 12:47:30.000000', 25.03614, 121.55469, 'ROC', 9, 6, 12), (3, '1175373353210826752', 1, '2019-09-21 19:36:59.000000', 25.03614, 121.55469, 'ROC', 9, 5, 19), (4, '1175361842593579008', 1, '2019-09-21 18:51:15.000000', 25.03614, 121.55469, 'ROC', 9, 5, 18), (5, '1175337329273319424', 1, '2019-09-21 17:13:50.000000', 25.0437899, 121.52784348, 'ROC', 9, 5, 17), (6, '1175314045550956546', 1, '2019-09-21 15:41:19.000000', 25.0437899, 121.52784348, 'ROC', 9, 5, 15), (7, '1175057914383556608', 1, '2019-09-20 22:43:32.000000', 25.04042, 121.54532, 'ROC', 9, 4, 22)  ... displaying 10 of 1516958 total bound parameter sets ...  (1580280, '472465178462658560', 4143, '2014-05-30 22:50:51.000000', 29.33404138, 47.96132708, 'Asia/Aden', 5, 4, 22), (1580281, '471724409103740929', 4143, '2014-05-28 21:47:18.000000', 29.21206433, 48.10423366, 'Asia/Aden', 5, 2, 21))\n",
      "2020-09-23 18:21:56,545 INFO sqlalchemy.engine.base.Engine COMMIT\n"
     ]
    }
   ],
   "source": [
    "engine = create_engine('sqlite:///' + ROOT_dir + '/dbs/austria/austria.sqlite3', echo=True)\n",
    "sqlite_connection = engine.connect()\n",
    "sqlite_table = 'geo_tweet'\n",
    "df_raw.to_sql(sqlite_table, sqlite_connection, if_exists='replace', index=False)\n",
    "sqlite_connection.close()"
   ],
   "metadata": {
    "collapsed": false,
    "pycharm": {
     "name": "#%%\n"
    }
   }
  }
 ],
 "metadata": {
  "kernelspec": {
   "display_name": "Python 3",
   "language": "python",
   "name": "python3"
  },
  "language_info": {
   "codemirror_mode": {
    "name": "ipython",
    "version": 2
   },
   "file_extension": ".py",
   "mimetype": "text/x-python",
   "name": "python",
   "nbconvert_exporter": "python",
   "pygments_lexer": "ipython2",
   "version": "2.7.6"
  }
 },
 "nbformat": 4,
 "nbformat_minor": 0
}
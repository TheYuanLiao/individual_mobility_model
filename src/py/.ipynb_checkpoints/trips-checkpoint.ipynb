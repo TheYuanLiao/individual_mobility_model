{
 "cells": [
  {
   "cell_type": "code",
   "execution_count": 1,
   "metadata": {
    "pycharm": {
     "is_executing": false
    }
   },
   "outputs": [],
   "source": [
    "import trips\n",
    "import tweetdf\n",
    "import importlib"
   ]
  },
  {
   "cell_type": "code",
   "execution_count": 2,
   "metadata": {
    "pycharm": {
     "is_executing": false,
     "name": "#%%\n"
    }
   },
   "outputs": [],
   "source": [
    "tweets = tweetdf.from_csv(\"./../../dbs/Sweden-short.csv\")\n"
   ]
  },
  {
   "cell_type": "code",
   "execution_count": 3,
   "metadata": {
    "pycharm": {
     "is_executing": false,
     "name": "#%%\n"
    }
   },
   "outputs": [],
   "source": [
    "tusercount = tweets.groupby('userid').size()"
   ]
  },
  {
   "cell_type": "code",
   "execution_count": 4,
   "metadata": {
    "pycharm": {
     "is_executing": false,
     "name": "#%%\n"
    }
   },
   "outputs": [],
   "source": [
    "#usertweets = tweets[tweets.userid == 15946712]"
   ]
  },
  {
   "cell_type": "code",
   "execution_count": 5,
   "metadata": {
    "pycharm": {
     "is_executing": false,
     "name": "#%%\n"
    }
   },
   "outputs": [],
   "source": [
    "importlib.reload(trips)\n",
    "usertrips = trips.from_dfs(tweets)\n"
   ]
  },
  {
   "cell_type": "code",
   "execution_count": null,
   "metadata": {},
   "outputs": [],
   "source": [
    "oneusertrips = usertrips[usertrips.userid == 15946712]"
   ]
  },
  {
   "cell_type": "code",
   "execution_count": null,
   "metadata": {
    "pycharm": {
     "is_executing": true,
     "name": "#%%\n"
    }
   },
   "outputs": [],
   "source": [
    "import cartopy\n",
    "import cartopy.crs as ccrs\n",
    "import matplotlib.pyplot as plt\n",
    "\n",
    "plt.figure(figsize=(20,20))\n",
    "ax = plt.axes(projection=ccrs.PlateCarree())\n",
    "#ax.stock_img()\n",
    "#ax.set_extent([0, 30, 90, 50], crs=ccrs.PlateCarree())\n",
    "#ax.set_global()\n",
    "land_50m = cartopy.feature.NaturalEarthFeature('physical', 'land', '50m',\n",
    "                                        edgecolor='k',\n",
    "                                        facecolor=cartopy.feature.COLORS['land'])\n",
    "ax.add_feature(cartopy.feature.BORDERS, linestyle=':')\n",
    "ax.add_feature(cartopy.feature.LAKES, alpha=0.5, edgecolor='black')\n",
    "ax.add_feature(cartopy.feature.RIVERS)\n",
    "#ax.add_feature(cartopy.feature.OCEAN, zorder=0)\n",
    "#ax.add_feature(cartopy.feature.LAND, zorder=1)\n",
    "ax.coastlines(resolution='50m')\n",
    "ax.add_feature(land_50m)\n",
    "for _, row in oneusertrips.iterrows():\n",
    "    #if row.type == \"missed\":\n",
    "    #    ax.scatter(row.longitude_o, row.latitude_o, c=\"red\", marker='o')\n",
    "    #elif row.type == \"infered\":\n",
    "    #    ax.plot([row.longitude_o,row.longitude_d], [row.latitude_o, row.latitude_d], linewidth=1, marker='o', color='blue', transform=ccrs.PlateCarree())\n",
    "    #else:\n",
    "        ax.plot([row.longitude_o,row.longitude_d], [row.latitude_o, row.latitude_d], linewidth=1, marker='o', color='green', transform=ccrs.PlateCarree())\n",
    "plt.show()"
   ]
  },
  {
   "cell_type": "code",
   "execution_count": null,
   "metadata": {
    "pycharm": {
     "name": "#%%\n"
    }
   },
   "outputs": [],
   "source": [
    "\n"
   ]
  }
 ],
 "metadata": {
  "kernelspec": {
   "display_name": "Python 3",
   "language": "python",
   "name": "python3"
  },
  "language_info": {
   "codemirror_mode": {
    "name": "ipython",
    "version": 3
   },
   "file_extension": ".py",
   "mimetype": "text/x-python",
   "name": "python",
   "nbconvert_exporter": "python",
   "pygments_lexer": "ipython3",
   "version": "3.7.6"
  },
  "pycharm": {
   "stem_cell": {
    "cell_type": "raw",
    "metadata": {
     "collapsed": false
    },
    "source": []
   }
  }
 },
 "nbformat": 4,
 "nbformat_minor": 1
}

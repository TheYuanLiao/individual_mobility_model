{
 "cells": [
  {
   "cell_type": "markdown",
   "source": [
    "# Get the simulation-based distance errors by using Haversine distance instead of network distance\n",
    "Some areas are very large to run the simulation, so this part focuses on the distance errors in the selected urban areas."
   ],
   "metadata": {
    "collapsed": false
   }
  },
  {
   "cell_type": "code",
   "execution_count": 1,
   "outputs": [],
   "source": [
    "%load_ext autoreload\n",
    "%autoreload 2\n",
    "%matplotlib inline"
   ],
   "metadata": {
    "collapsed": false,
    "pycharm": {
     "name": "#%%\n"
    }
   }
  },
  {
   "cell_type": "code",
   "execution_count": 15,
   "outputs": [],
   "source": [
    "import os\n",
    "import subprocess\n",
    "import sys\n",
    "import yaml\n",
    "import pandas as pd\n",
    "from pprint import pprint\n",
    "import geopandas as gpd\n",
    "import json\n",
    "\n",
    "def get_repo_root():\n",
    "    \"\"\"Get the root directory of the repo.\"\"\"\n",
    "    dir_in_repo = os.path.dirname(os.path.abspath('__file__')) # os.getcwd()\n",
    "    return subprocess.check_output('git rev-parse --show-toplevel'.split(),\n",
    "                                   cwd=dir_in_repo,\n",
    "                                   universal_newlines=True).rstrip()\n",
    "sys.path.append(get_repo_root())\n",
    "ROOT_dir = get_repo_root()\n",
    "\n",
    "with open(ROOT_dir + '/lib/regions.yaml') as f:\n",
    "    region_manager = yaml.load(f, Loader=yaml.FullLoader)\n",
    "\n",
    "def get_region_area(region=None):\n",
    "    # The boundary to use when downloading drive networks\n",
    "    utm_epsg = region_manager[region]['utm_epsg']\n",
    "    zone_id = region_manager[region]['zone_id']\n",
    "    zones_path = region_manager[region]['zones_path']\n",
    "    zones = gpd.read_file(ROOT_dir + zones_path)\n",
    "    zones = zones.loc[zones[zone_id].notnull()]\n",
    "    zones = zones.rename(columns={zone_id: \"zone\"})\n",
    "    zones.zone = zones.zone.astype(int)\n",
    "    zones = zones.loc[zones.geometry.notnull()].to_crs(utm_epsg)\n",
    "    boundary = zones.assign(a=1).dissolve(by='a')\n",
    "    area = boundary['geometry'].area/ 10**6\n",
    "    return area.values[0]"
   ],
   "metadata": {
    "collapsed": false,
    "pycharm": {
     "name": "#%%\n"
    }
   }
  },
  {
   "cell_type": "markdown",
   "source": [
    "## 1. Find the regions for analysis"
   ],
   "metadata": {
    "collapsed": false,
    "pycharm": {
     "name": "#%% md\n"
    }
   }
  },
  {
   "cell_type": "code",
   "execution_count": 11,
   "outputs": [
    {
     "name": "stdout",
     "output_type": "stream",
     "text": [
      "['barcelona',\n",
      " 'madrid',\n",
      " 'surabaya',\n",
      " 'johannesburg',\n",
      " 'capetown',\n",
      " 'kualalumpur',\n",
      " 'cebu',\n",
      " 'guadalajara',\n",
      " 'stpertersburg',\n",
      " 'nairobi']\n"
     ]
    }
   ],
   "source": [
    "runid = 7\n",
    "regions = [x for x in region_manager if os.path.exists(ROOT_dir + f'/dbs/{x}/visits/visits_{runid}_trips_dom_network.csv')]\n",
    "pprint(regions)"
   ],
   "metadata": {
    "collapsed": false,
    "pycharm": {
     "name": "#%%\n"
    }
   }
  },
  {
   "cell_type": "markdown",
   "source": [
    "## 2. Calculate the urban areas (km^2)"
   ],
   "metadata": {
    "collapsed": false
   }
  },
  {
   "cell_type": "code",
   "execution_count": 16,
   "outputs": [
    {
     "name": "stdout",
     "output_type": "stream",
     "text": [
      "{'barcelona': 584.8563942083829,\n",
      " 'capetown': 2457.0526781278363,\n",
      " 'cebu': 4878.703238331435,\n",
      " 'guadalajara': 218.8857087984455,\n",
      " 'johannesburg': 1663.4723173706666,\n",
      " 'kualalumpur': 272.3380464548566,\n",
      " 'madrid': 604.4652865522514,\n",
      " 'nairobi': 712.7124295209519,\n",
      " 'stpertersburg': 1450.6040527648972,\n",
      " 'surabaya': 330.6512424353324}\n"
     ]
    }
   ],
   "source": [
    "region_area_dict = {x: get_region_area(region=x) for x in regions}\n",
    "pprint(region_area_dict)\n",
    "with open(ROOT_dir + '/results/region_area_urban.txt', 'a') as outfile:\n",
    "    json.dump(region_area_dict, outfile)\n",
    "    outfile.write('\\n')"
   ],
   "metadata": {
    "collapsed": false,
    "pycharm": {
     "name": "#%%\n"
    }
   }
  },
  {
   "cell_type": "code",
   "execution_count": 28,
   "outputs": [
    {
     "name": "stdout",
     "output_type": "stream",
     "text": [
      "[584.9, 604.5, 330.7, 1663.5, 2457.1, 272.3, 4878.7, 218.9, 1450.6, 712.7]\n"
     ]
    }
   ],
   "source": [
    "pprint([float(\"%.1f\"%region_area_dict[x]) for x in regions])"
   ],
   "metadata": {
    "collapsed": false,
    "pycharm": {
     "name": "#%%\n"
    }
   }
  },
  {
   "cell_type": "code",
   "execution_count": 37,
   "outputs": [
    {
     "name": "stdout",
     "output_type": "stream",
     "text": [
      "Index(['guadalajara', 'kualalumpur', 'surabaya', 'barcelona', 'madrid',\n",
      "       'nairobi', 'stpertersburg', 'johannesburg', 'capetown', 'cebu'],\n",
      "      dtype='object')\n",
      "['Guadalajara, Mexico',\n",
      " 'Kuala Lumpur, Malaysia',\n",
      " 'Surabaya, Indonesia',\n",
      " 'Barcelona, Spain',\n",
      " 'Madrid, Spain',\n",
      " 'Nairobi, Kenya',\n",
      " 'Saint Petersburg, Russia',\n",
      " 'Johannesburg, South Africa',\n",
      " 'Cape Town, South Africa',\n",
      " 'Cebu, Philippines']\n"
     ]
    }
   ],
   "source": [
    "df_area = pd.DataFrame.from_dict(region_area_dict, columns=['area'], orient='index').sort_values('area')\n",
    "pprint(df_area.index)\n",
    "pprint([region_manager[x]['name'] for x in df_area.index])"
   ],
   "metadata": {
    "collapsed": false,
    "pycharm": {
     "name": "#%%\n"
    }
   }
  },
  {
   "cell_type": "markdown",
   "source": [
    "## 3. Merge distance files and save"
   ],
   "metadata": {
    "collapsed": false,
    "pycharm": {
     "name": "#%% md\n"
    }
   }
  },
  {
   "cell_type": "code",
   "execution_count": 22,
   "outputs": [
    {
     "data": {
      "text/plain": "      region   distance  distance_network      diff\n0  barcelona   1.391650          2.116665  1.520975\n1  barcelona  10.944446         12.594353  1.150753\n2  barcelona  10.021260         12.011026  1.198554\n3  barcelona   1.957362          2.667059  1.362578\n4  barcelona   5.295774          6.724929  1.269867",
      "text/html": "<div>\n<style scoped>\n    .dataframe tbody tr th:only-of-type {\n        vertical-align: middle;\n    }\n\n    .dataframe tbody tr th {\n        vertical-align: top;\n    }\n\n    .dataframe thead th {\n        text-align: right;\n    }\n</style>\n<table border=\"1\" class=\"dataframe\">\n  <thead>\n    <tr style=\"text-align: right;\">\n      <th></th>\n      <th>region</th>\n      <th>distance</th>\n      <th>distance_network</th>\n      <th>diff</th>\n    </tr>\n  </thead>\n  <tbody>\n    <tr>\n      <th>0</th>\n      <td>barcelona</td>\n      <td>1.391650</td>\n      <td>2.116665</td>\n      <td>1.520975</td>\n    </tr>\n    <tr>\n      <th>1</th>\n      <td>barcelona</td>\n      <td>10.944446</td>\n      <td>12.594353</td>\n      <td>1.150753</td>\n    </tr>\n    <tr>\n      <th>2</th>\n      <td>barcelona</td>\n      <td>10.021260</td>\n      <td>12.011026</td>\n      <td>1.198554</td>\n    </tr>\n    <tr>\n      <th>3</th>\n      <td>barcelona</td>\n      <td>1.957362</td>\n      <td>2.667059</td>\n      <td>1.362578</td>\n    </tr>\n    <tr>\n      <th>4</th>\n      <td>barcelona</td>\n      <td>5.295774</td>\n      <td>6.724929</td>\n      <td>1.269867</td>\n    </tr>\n  </tbody>\n</table>\n</div>"
     },
     "execution_count": 22,
     "metadata": {},
     "output_type": "execute_result"
    }
   ],
   "source": [
    "def region_data_loader(region=None, runid=None):\n",
    "    df = pd.read_csv(ROOT_dir + f'/dbs/{region}/visits/visits_{runid}_trips_dom_network.csv')\n",
    "    df.loc[:, 'region'] = region\n",
    "    df.loc[:, 'distance_network'] += 0.4 # Compensate walking distance in 5 min\n",
    "    return df.loc[:, ['region', 'distance', 'distance_network']]\n",
    "list_df = [region_data_loader(region=x, runid=runid) for x in regions]\n",
    "df = pd.concat(list_df)\n",
    "df = df.loc[(df.distance > 0.1) & (df.distance_network >= df.distance), :]\n",
    "df.loc[:, 'diff'] = df.loc[:, 'distance_network'] / df.loc[:, 'distance']\n",
    "df.head()"
   ],
   "metadata": {
    "collapsed": false,
    "pycharm": {
     "name": "#%%\n"
    }
   }
  },
  {
   "cell_type": "code",
   "execution_count": 23,
   "outputs": [
    {
     "data": {
      "text/plain": "region\nbarcelona        1.447533\ncapetown         1.483635\ncebu             1.542900\nguadalajara      1.400996\njohannesburg     1.423787\nkualalumpur      1.521055\nmadrid           1.421416\nnairobi          1.617161\nstpertersburg    1.395736\nsurabaya         1.477869\nName: diff, dtype: float64"
     },
     "execution_count": 23,
     "metadata": {},
     "output_type": "execute_result"
    }
   ],
   "source": [
    "df.groupby('region')['diff'].median()"
   ],
   "metadata": {
    "collapsed": false,
    "pycharm": {
     "name": "#%%\n"
    }
   }
  },
  {
   "cell_type": "code",
   "execution_count": 24,
   "outputs": [],
   "source": [
    "df.to_csv(ROOT_dir + '/dbs/distance_error_simulation.csv', index=False)"
   ],
   "metadata": {
    "collapsed": false,
    "pycharm": {
     "name": "#%%\n"
    }
   }
  }
 ],
 "metadata": {
  "kernelspec": {
   "display_name": "Python 3",
   "language": "python",
   "name": "python3"
  },
  "language_info": {
   "codemirror_mode": {
    "name": "ipython",
    "version": 2
   },
   "file_extension": ".py",
   "mimetype": "text/x-python",
   "name": "python",
   "nbconvert_exporter": "python",
   "pygments_lexer": "ipython2",
   "version": "2.7.6"
  }
 },
 "nbformat": 4,
 "nbformat_minor": 0
}
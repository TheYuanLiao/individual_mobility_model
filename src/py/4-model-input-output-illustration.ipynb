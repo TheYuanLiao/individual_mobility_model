{
 "cells": [
  {
   "cell_type": "markdown",
   "metadata": {
    "collapsed": true,
    "pycharm": {
     "name": "#%% md\n"
    }
   },
   "source": [
    "# Extract an individual's sparse traces and synthesised traces for illustrative purpose"
   ]
  },
  {
   "cell_type": "code",
   "execution_count": 1,
   "outputs": [],
   "source": [
    "%load_ext autoreload\n",
    "%autoreload 2\n",
    "%matplotlib inline"
   ],
   "metadata": {
    "collapsed": false,
    "pycharm": {
     "name": "#%%\n"
    }
   }
  },
  {
   "cell_type": "code",
   "execution_count": 2,
   "outputs": [],
   "source": [
    "import os\n",
    "import subprocess\n",
    "import sys\n",
    "import yaml\n",
    "import geopandas as gpd\n",
    "\n",
    "def get_repo_root():\n",
    "    \"\"\"Get the root directory of the repo.\"\"\"\n",
    "    dir_in_repo = os.path.dirname(os.path.abspath('__file__')) # os.getcwd()\n",
    "    return subprocess.check_output('git rev-parse --show-toplevel'.split(),\n",
    "                                   cwd=dir_in_repo,\n",
    "                                   universal_newlines=True).rstrip()\n",
    "sys.path.append(get_repo_root())\n",
    "ROOT_dir = get_repo_root()\n",
    "\n",
    "import lib.helpers as helpers\n",
    "import lib.models as models\n",
    "import lib.saopaulo as saopaulo\n",
    "import lib.genericvalidation as genericvalidation\n",
    "\n",
    "with open(ROOT_dir + '/lib/regions.yaml') as f:\n",
    "    region_manager = yaml.load(f, Loader=yaml.FullLoader)"
   ],
   "metadata": {
    "collapsed": false,
    "pycharm": {
     "name": "#%%\n"
    }
   }
  },
  {
   "cell_type": "code",
   "execution_count": 3,
   "outputs": [],
   "source": [
    "class RegionParaGenerate:\n",
    "    def __init__(self, region=None):\n",
    "        if not region:\n",
    "            raise Exception(\"A valid region must be specified!\")\n",
    "        self.region = region\n",
    "        self.path2visits = ROOT_dir + f'/dbs/{region}/visits/'\n",
    "        if not os.path.exists(self.path2visits):\n",
    "            os.makedirs(self.path2visits)\n",
    "        self.path2geotweets = ROOT_dir + f'/dbs/{region}/geotweets.csv'\n",
    "        if not os.path.exists(self.path2geotweets):\n",
    "            raise Exception(\"The geotweets of the input region do not exist.\")\n",
    "        self.geotweets = None\n",
    "        self.visits = None\n",
    "        # Load region data\n",
    "        self.region_info = region_manager[self.region]\n",
    "        self.zones = None\n",
    "        self.boundary = None\n",
    "\n",
    "    def country_zones_boundary_load(self):\n",
    "        # The boundary to use when removing users based on location.\n",
    "        zones_loader = self.region_info['zones_loader']\n",
    "        metric_epsg = self.region_info['country_metric_epsg']\n",
    "        zone_id = self.region_info['country_zone_id']\n",
    "        zones_path = self.region_info['country_zones_path']\n",
    "\n",
    "        if zones_loader == 1:\n",
    "            zones = gpd.read_file(ROOT_dir + zones_path)\n",
    "            zones = zones.loc[zones[zone_id].notnull()]\n",
    "            zones = zones.rename(columns={zone_id: \"zone\"})\n",
    "            zones.zone = zones.zone.astype(int)\n",
    "            self.zones = zones.loc[zones.geometry.notnull()].to_crs(metric_epsg)\n",
    "            self.boundary = self.zones.assign(a=1).dissolve(by='a').simplify(tolerance=0.2).to_crs(\"EPSG:4326\")\n",
    "\n",
    "    def load_geotweets(self, only_weekday=True, only_domestic=True):\n",
    "        geotweets = helpers.read_geotweets_raw(self.path2geotweets)\n",
    "        if only_weekday:\n",
    "            # Only look at weekday trips\n",
    "            geotweets = geotweets[(geotweets['weekday'] < 6) & (0 < geotweets['weekday'])]\n",
    "        # Check if keeps only domestic geotagged tweets\n",
    "        if only_domestic:\n",
    "            geotweets = gpd.GeoDataFrame(\n",
    "                geotweets,\n",
    "                crs=\"EPSG:4326\",\n",
    "                geometry=gpd.points_from_xy(geotweets.longitude, geotweets.latitude)\n",
    "            )\n",
    "            geotweets = gpd.clip(geotweets, self.boundary.convex_hull)\n",
    "            geotweets.drop(columns=['geometry'], inplace=True)\n",
    "        geotweets = geotweets.set_index('userid')\n",
    "        # Remove users who don't have home visit in geotweets\n",
    "        home_visits = geotweets.query(\"label == 'home'\").groupby('userid').size()\n",
    "        geotweets = geotweets.loc[home_visits.index]\n",
    "        # Remove users with less than 20 tweets\n",
    "        tweetcount = geotweets.groupby('userid').size()\n",
    "        geotweets = geotweets.drop(labels=tweetcount[tweetcount < 20].index) # This is for domestic trip generation\n",
    "        # Remove users with only one region\n",
    "        regioncount = geotweets.groupby(['userid', 'region']).size().groupby('userid').size()\n",
    "        geotweets = geotweets.drop(labels=regioncount[regioncount < 2].index)\n",
    "        # Ensure the tweets are sorted chronologically\n",
    "        self.geotweets = geotweets.sort_values(by=['userid', 'createdat'])\n",
    "\n",
    "    def visits_gen(self, p=None, gamma=None, beta=None, days=None):\n",
    "        visit_factory = models.Sampler(\n",
    "            model=models.PreferentialReturn(\n",
    "                p=p,\n",
    "                gamma=gamma,\n",
    "                region_sampling=models.RegionTransitionZipf(beta=beta, zipfs=1.2)\n",
    "            ),\n",
    "            n_days=days,\n",
    "            daily_trips_sampling=models.NormalDistribution(mean=3.14, std=1.8)\n",
    "        )\n",
    "        # Calculate visits\n",
    "        self.visits = visit_factory.sample(self.geotweets)\n",
    "        return self.visits\n"
   ],
   "metadata": {
    "collapsed": false,
    "pycharm": {
     "name": "#%%\n"
    }
   }
  },
  {
   "cell_type": "markdown",
   "source": [
    "## 1. Generate visits for Sao Paulo"
   ],
   "metadata": {
    "collapsed": false,
    "pycharm": {
     "name": "#%% md\n"
    }
   }
  },
  {
   "cell_type": "code",
   "execution_count": 4,
   "outputs": [
    {
     "name": "stdout",
     "output_type": "stream",
     "text": [
      "saopaulo started...\n",
      "Loading zones to get boundary...\n",
      "Loading geotagged tweets...\n",
      "Generating visits...\n"
     ]
    },
    {
     "data": {
      "text/plain": "                    day  timeslot    kind   latitude  longitude  region\nuserid                                                                 \n2542                  0         0  region -23.562703 -46.697775     234\n2542                  0         1   point -23.547948 -46.604952     342\n2542                  0         2   point -23.717300 -46.504865     342\n2542                  0         3  region -23.791894 -46.508199     339\n2542                  0         4  region -23.567040 -46.701054     165\n...                 ...       ...     ...        ...        ...     ...\n803997550726549504  259         0  region -23.571815 -46.708524       6\n803997550726549504  259         1   point -23.527163 -46.686156      41\n803997550726549504  259         2  region -23.571815 -46.708524       6\n803997550726549504  259         3   point -23.496176 -46.721780      41\n803997550726549504  259         4  region -23.571815 -46.708524       6\n\n[10563317 rows x 6 columns]",
      "text/html": "<div>\n<style scoped>\n    .dataframe tbody tr th:only-of-type {\n        vertical-align: middle;\n    }\n\n    .dataframe tbody tr th {\n        vertical-align: top;\n    }\n\n    .dataframe thead th {\n        text-align: right;\n    }\n</style>\n<table border=\"1\" class=\"dataframe\">\n  <thead>\n    <tr style=\"text-align: right;\">\n      <th></th>\n      <th>day</th>\n      <th>timeslot</th>\n      <th>kind</th>\n      <th>latitude</th>\n      <th>longitude</th>\n      <th>region</th>\n    </tr>\n    <tr>\n      <th>userid</th>\n      <th></th>\n      <th></th>\n      <th></th>\n      <th></th>\n      <th></th>\n      <th></th>\n    </tr>\n  </thead>\n  <tbody>\n    <tr>\n      <th>2542</th>\n      <td>0</td>\n      <td>0</td>\n      <td>region</td>\n      <td>-23.562703</td>\n      <td>-46.697775</td>\n      <td>234</td>\n    </tr>\n    <tr>\n      <th>2542</th>\n      <td>0</td>\n      <td>1</td>\n      <td>point</td>\n      <td>-23.547948</td>\n      <td>-46.604952</td>\n      <td>342</td>\n    </tr>\n    <tr>\n      <th>2542</th>\n      <td>0</td>\n      <td>2</td>\n      <td>point</td>\n      <td>-23.717300</td>\n      <td>-46.504865</td>\n      <td>342</td>\n    </tr>\n    <tr>\n      <th>2542</th>\n      <td>0</td>\n      <td>3</td>\n      <td>region</td>\n      <td>-23.791894</td>\n      <td>-46.508199</td>\n      <td>339</td>\n    </tr>\n    <tr>\n      <th>2542</th>\n      <td>0</td>\n      <td>4</td>\n      <td>region</td>\n      <td>-23.567040</td>\n      <td>-46.701054</td>\n      <td>165</td>\n    </tr>\n    <tr>\n      <th>...</th>\n      <td>...</td>\n      <td>...</td>\n      <td>...</td>\n      <td>...</td>\n      <td>...</td>\n      <td>...</td>\n    </tr>\n    <tr>\n      <th>803997550726549504</th>\n      <td>259</td>\n      <td>0</td>\n      <td>region</td>\n      <td>-23.571815</td>\n      <td>-46.708524</td>\n      <td>6</td>\n    </tr>\n    <tr>\n      <th>803997550726549504</th>\n      <td>259</td>\n      <td>1</td>\n      <td>point</td>\n      <td>-23.527163</td>\n      <td>-46.686156</td>\n      <td>41</td>\n    </tr>\n    <tr>\n      <th>803997550726549504</th>\n      <td>259</td>\n      <td>2</td>\n      <td>region</td>\n      <td>-23.571815</td>\n      <td>-46.708524</td>\n      <td>6</td>\n    </tr>\n    <tr>\n      <th>803997550726549504</th>\n      <td>259</td>\n      <td>3</td>\n      <td>point</td>\n      <td>-23.496176</td>\n      <td>-46.721780</td>\n      <td>41</td>\n    </tr>\n    <tr>\n      <th>803997550726549504</th>\n      <td>259</td>\n      <td>4</td>\n      <td>region</td>\n      <td>-23.571815</td>\n      <td>-46.708524</td>\n      <td>6</td>\n    </tr>\n  </tbody>\n</table>\n<p>10563317 rows × 6 columns</p>\n</div>"
     },
     "execution_count": 4,
     "metadata": {},
     "output_type": "execute_result"
    }
   ],
   "source": [
    "p, gamma, beta = 0.98, 0.18, 0.16\n",
    "days = 260\n",
    "region2compute = 'saopaulo'\n",
    "# prepare region data by initiating the class\n",
    "print(f'{region2compute} started...')\n",
    "g = RegionParaGenerate(region=region2compute)\n",
    "print('Loading zones to get boundary...')\n",
    "g.country_zones_boundary_load()\n",
    "print('Loading geotagged tweets...')\n",
    "g.load_geotweets()\n",
    "print('Generating visits...')\n",
    "g.visits_gen(p=p, gamma=gamma, beta=beta, days=days)"
   ],
   "metadata": {
    "collapsed": false,
    "pycharm": {
     "name": "#%%\n"
    }
   }
  },
  {
   "cell_type": "code",
   "execution_count": 5,
   "outputs": [],
   "source": [
    "g.geotweets.to_csv(f'../../dbs/{region2compute}/geotweets_dom_cali.csv')\n",
    "g.visits.to_csv(f'../../dbs/{region2compute}/visits_dom_cali.csv')"
   ],
   "metadata": {
    "collapsed": false,
    "pycharm": {
     "name": "#%%\n"
    }
   }
  },
  {
   "cell_type": "markdown",
   "source": [
    "## 2. Select an individual"
   ],
   "metadata": {
    "collapsed": false
   }
  },
  {
   "cell_type": "code",
   "execution_count": 6,
   "outputs": [
    {
     "data": {
      "text/plain": "userid\n2542       447\n3363        28\n332923     101\n550993      26\n1353791     35\ndtype: int64"
     },
     "execution_count": 6,
     "metadata": {},
     "output_type": "execute_result"
    }
   ],
   "source": [
    "df_users = g.geotweets.groupby('userid').size()\n",
    "df_users.head()"
   ],
   "metadata": {
    "collapsed": false,
    "pycharm": {
     "name": "#%%\n"
    }
   }
  },
  {
   "cell_type": "code",
   "execution_count": 7,
   "outputs": [
    {
     "name": "stderr",
     "output_type": "stream",
     "text": [
      "C:\\Users\\yuanlia\\AppData\\Roaming\\Python\\Python37\\site-packages\\pyproj\\crs\\crs.py:53: FutureWarning: '+init=<authority>:<code>' syntax is deprecated. '<authority>:<code>' is the preferred initialization method. When making the change, be mindful of axis order changes: https://pyproj4.github.io/pyproj/stable/gotchas.html#axis-order-changes-in-proj-6\n",
      "  return _prepare_from_string(\" \".join(pjargs))\n",
      "C:\\ProgramData\\Anaconda3\\lib\\site-packages\\ipykernel_launcher.py:18: UserWarning: CRS mismatch between the CRS of left geometries and the CRS of right geometries.\n",
      "Use `to_crs()` to reproject one of the input geometries to match the CRS of the other.\n",
      "\n",
      "Left CRS: +init=epsg:4326 +type=crs\n",
      "Right CRS: EPSG:4326\n",
      "\n"
     ]
    },
    {
     "name": "stdout",
     "output_type": "stream",
     "text": [
      "Convering visits to zone CRS\n",
      "Aligning region-visits to zones...\n",
      "removed 2 region-visits due to missing zone geom\n",
      "Aligning point-visits to zones...\n",
      "removed 3 point-visits due to missing zone geom\n",
      "1133 visits left after alignment\n",
      "Creating odm...\n"
     ]
    }
   ],
   "source": [
    "# ID= 46292618\n",
    "eg_id = 46292618\n",
    "\n",
    "# Individual sparse geotagged tweets\n",
    "df_tw = g.geotweets.loc[g.geotweets.index == eg_id, :]\n",
    "gdf_tw = gpd.GeoDataFrame(\n",
    "    df_tw,\n",
    "    crs={'init': 'epsg:4326'},\n",
    "    geometry=gpd.points_from_xy(df_tw['longitude'],\n",
    "                                df_tw['latitude']))\n",
    "\n",
    "# Get spatial zones\n",
    "gs = saopaulo.GroundTruthLoader()\n",
    "gs.load_zones()\n",
    "zones = gs.zones\n",
    "\n",
    "# Filter out the tweets outside the study area for the sake of visualisation\n",
    "gdf_tw = gpd.sjoin(gdf_tw, zones.to_crs(4326), op='intersects')\n",
    "df_tw = gdf_tw.drop(columns=['geometry'])\n",
    "\n",
    "df_visits = g.visits.loc[g.visits.index == eg_id, :]\n",
    "od = genericvalidation.visits_to_odm(df_visits, zones)\n",
    "od = od.reset_index()\n",
    "od.columns = ['ozone', 'dzone', 'user_' + str(eg_id)]"
   ],
   "metadata": {
    "collapsed": false,
    "pycharm": {
     "name": "#%%\n"
    }
   }
  },
  {
   "cell_type": "code",
   "execution_count": 11,
   "outputs": [
    {
     "name": "stdout",
     "output_type": "stream",
     "text": [
      "Convering visits to zone CRS\n",
      "Aligning visits to zones...\n",
      "removed 0 region-visits due to missing zone geom\n",
      "2259 visits left after alignment\n",
      "Creating odm...\n",
      "Applying timethreshold to gaps [24 hours]...\n"
     ]
    }
   ],
   "source": [
    "# Benchmark model odm generation\n",
    "df_tw = df_tw.loc[:, ['region', 'createdat', 'latitude', 'longitude', 'label']]\n",
    "df_tw.loc[:, 'kind'] = 'region'\n",
    "od_b = genericvalidation.visits_to_odm(df_tw, zones, timethreshold_hours=24)\n",
    "od_b = od_b.reset_index()\n",
    "od_b.columns = ['ozone', 'dzone', 'user_' + str(eg_id)]"
   ],
   "metadata": {
    "collapsed": false,
    "pycharm": {
     "name": "#%%\n"
    }
   }
  },
  {
   "cell_type": "code",
   "execution_count": 13,
   "outputs": [],
   "source": [
    "od_b.to_csv(ROOT_dir + '/results/input-output-example/odm_benchmark.csv', index=False)\n",
    "od.to_csv(ROOT_dir + '/results/input-output-example/odm.csv', index=False)\n",
    "df_tw.to_csv(ROOT_dir + '/results/input-output-example/tweets.csv', index=False)"
   ],
   "metadata": {
    "collapsed": false,
    "pycharm": {
     "name": "#%%\n"
    }
   }
  }
 ],
 "metadata": {
  "kernelspec": {
   "display_name": "Python 3",
   "language": "python",
   "name": "python3"
  },
  "language_info": {
   "codemirror_mode": {
    "name": "ipython",
    "version": 2
   },
   "file_extension": ".py",
   "mimetype": "text/x-python",
   "name": "python",
   "nbconvert_exporter": "python",
   "pygments_lexer": "ipython2",
   "version": "2.7.6"
  }
 },
 "nbformat": 4,
 "nbformat_minor": 0
}
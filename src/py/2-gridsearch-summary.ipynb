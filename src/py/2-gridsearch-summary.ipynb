{
 "cells": [
  {
   "cell_type": "markdown",
   "metadata": {
    "collapsed": true,
    "pycharm": {
     "name": "#%% md\n"
    }
   },
   "source": [
    "# Grid search results summary\n",
    "\n",
    "Read all the grid search results and save the optimal ones."
   ]
  },
  {
   "cell_type": "code",
   "execution_count": 2,
   "outputs": [],
   "source": [
    "%load_ext autoreload\n",
    "%autoreload 2"
   ],
   "metadata": {
    "collapsed": false,
    "pycharm": {
     "name": "#%%\n"
    }
   }
  },
  {
   "cell_type": "code",
   "execution_count": 19,
   "outputs": [],
   "source": [
    "import json\n",
    "import pandas as pd\n",
    "import validation"
   ],
   "metadata": {
    "collapsed": false,
    "pycharm": {
     "name": "#%%\n"
    }
   }
  },
  {
   "cell_type": "markdown",
   "source": [
    "## 1 Read the logs and save to a file"
   ],
   "metadata": {
    "collapsed": false,
    "pycharm": {
     "name": "#%% md\n"
    }
   }
  },
  {
   "cell_type": "code",
   "execution_count": 16,
   "outputs": [],
   "source": [
    "region_list = ['sweden-west', 'sweden-east', 'netherlands', 'saopaulo']\n",
    "for region in region_list:\n",
    "    file = f'../../results/gridsearch-n_{region}.txt'\n",
    "    list_lines = []\n",
    "    with open(file) as f:\n",
    "        for jsonObj in f:\n",
    "            line = json.loads(jsonObj)\n",
    "            list_lines.append(line)\n",
    "    df = pd.DataFrame(list_lines)\n",
    "    with open('../../results/gridsearch.txt', 'a') as outfile:\n",
    "        json.dump(df.loc[df['kl'] == min(df['kl']), :].to_dict('records')[0], outfile)\n",
    "        outfile.write('\\n')"
   ],
   "metadata": {
    "collapsed": false,
    "pycharm": {
     "name": "#%%\n"
    }
   }
  },
  {
   "cell_type": "markdown",
   "source": [
    "## 2 Run src\\py\\parameters-validation.py\n",
    "This step generate and save the visits using the optimal parameters on both calibration and validation datasets."
   ],
   "metadata": {
    "collapsed": false
   }
  },
  {
   "cell_type": "markdown",
   "source": [
    "## 3 Compute KL divergence measure of the validation results"
   ],
   "metadata": {
    "collapsed": false,
    "pycharm": {
     "name": "#%% md\n"
    }
   }
  },
  {
   "cell_type": "code",
   "execution_count": 20,
   "outputs": [],
   "source": [
    "with open('../../results/gridsearch.txt', 'r') as f:\n",
    "    for jsonObj in f:\n",
    "        line = json.loads(jsonObj)\n",
    "        region = line['region']\n",
    "        file = f'../../results/{region}_validation_distances.csv'\n",
    "        distances = pd.read_csv(file)\n",
    "        kl = validation.DistanceMetrics().kullback_leibler(distances,\n",
    "                                                           titles=['groundtruth', 'model'])\n",
    "        line['kl-v'] = kl\n",
    "\n",
    "        with open('../../results/summary.txt', 'a') as outfile:\n",
    "            json.dump(line, outfile)\n",
    "            outfile.write('\\n')\n"
   ],
   "metadata": {
    "collapsed": false,
    "pycharm": {
     "name": "#%%\n"
    }
   }
  }
 ],
 "metadata": {
  "kernelspec": {
   "display_name": "Python 3",
   "language": "python",
   "name": "python3"
  },
  "language_info": {
   "codemirror_mode": {
    "name": "ipython",
    "version": 2
   },
   "file_extension": ".py",
   "mimetype": "text/x-python",
   "name": "python",
   "nbconvert_exporter": "python",
   "pygments_lexer": "ipython2",
   "version": "2.7.6"
  }
 },
 "nbformat": 4,
 "nbformat_minor": 0
}
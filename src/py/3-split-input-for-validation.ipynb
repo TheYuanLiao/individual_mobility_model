{
 "cells": [
  {
   "cell_type": "markdown",
   "metadata": {
    "collapsed": true,
    "pycharm": {
     "name": "#%% md\n"
    }
   },
   "source": [
    "# Split input data into two time periods\n",
    "\n",
    "One subset for calibration and the other one for validation."
   ]
  },
  {
   "cell_type": "code",
   "execution_count": 1,
   "outputs": [],
   "source": [
    "%load_ext autoreload\n",
    "%autoreload 2"
   ],
   "metadata": {
    "collapsed": false,
    "pycharm": {
     "name": "#%%\n"
    }
   }
  },
  {
   "cell_type": "code",
   "execution_count": 6,
   "outputs": [],
   "source": [
    "# Load libs\n",
    "import pandas as pd\n",
    "import numpy as np"
   ],
   "metadata": {
    "collapsed": false,
    "pycharm": {
     "name": "#%%\n"
    }
   }
  },
  {
   "cell_type": "code",
   "execution_count": 24,
   "outputs": [],
   "source": [
    "for country in ['sweden', 'netherlands']:\n",
    "    df = pd.read_csv(f'../../dbs/{country}/geotweets.csv')\n",
    "\n",
    "    # Split into two parts\n",
    "    df_c = df.groupby('userid').apply(lambda x: x.reset_index(drop=True).loc[0:np.floor(len(x)/2), :]).reset_index(drop=True)\n",
    "    df_v = df.groupby('userid').apply(lambda x: x.reset_index(drop=True).loc[np.floor(len(x)/2):, :]).reset_index(drop=True)\n",
    "\n",
    "    # Save data\n",
    "    df_c.to_csv(f'../../dbs/{country}/geotweets_c.csv')\n",
    "    df_v.to_csv(f'../../dbs/{country}/geotweets_v.csv')"
   ],
   "metadata": {
    "collapsed": false,
    "pycharm": {
     "name": "#%%\n"
    }
   }
  }
 ],
 "metadata": {
  "kernelspec": {
   "display_name": "Python 3",
   "language": "python",
   "name": "python3"
  },
  "language_info": {
   "codemirror_mode": {
    "name": "ipython",
    "version": 2
   },
   "file_extension": ".py",
   "mimetype": "text/x-python",
   "name": "python",
   "nbconvert_exporter": "python",
   "pygments_lexer": "ipython2",
   "version": "2.7.6"
  }
 },
 "nbformat": 4,
 "nbformat_minor": 0
}
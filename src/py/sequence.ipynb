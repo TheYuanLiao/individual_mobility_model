{
 "cells": [
  {
   "cell_type": "code",
   "execution_count": 797,
   "metadata": {
    "pycharm": {
     "is_executing": false
    }
   },
   "outputs": [
    {
     "data": {
      "text/plain": [
       "<module 'plotly.express' from '/Users/ericwennerberg/opt/miniconda3/envs/mscthesis/lib/python3.8/site-packages/plotly/express/__init__.py'>"
      ]
     },
     "execution_count": 797,
     "metadata": {},
     "output_type": "execute_result"
    }
   ],
   "source": [
    "from sklearn.cluster import DBSCAN\n",
    "from sklearn.metrics import pairwise_distances\n",
    "from sklearn.metrics.pairwise import haversine_distances\n",
    "from sklearn.metrics.pairwise import haversine_distances\n",
    "from math import radians\n",
    "import pandas\n",
    "import tweetdf\n",
    "import geopandas\n",
    "import regions as rg\n",
    "import matplotlib.pyplot as plt\n",
    "import matplotlib.colors as pltcolors\n",
    "import numpy as np\n",
    "import importlib\n",
    "from shapely.geometry import Polygon\n",
    "import plotly.express as px\n",
    "import plotly\n",
    "importlib.reload(px)"
   ]
  },
  {
   "cell_type": "code",
   "execution_count": 2,
   "metadata": {},
   "outputs": [],
   "source": [
    "all_tweets = tweetdf.from_csv(\"../../dbs/Sweden.csv\").dropna()"
   ]
  },
  {
   "cell_type": "code",
   "execution_count": 3,
   "metadata": {},
   "outputs": [],
   "source": [
    "tweets = geopandas.GeoDataFrame(\n",
    "    all_tweets,\n",
    "    crs=\"EPSG:4326\",\n",
    "    geometry=geopandas.points_from_xy(all_tweets.longitude, all_tweets.latitude),\n",
    ")"
   ]
  },
  {
   "cell_type": "code",
   "execution_count": 4,
   "metadata": {},
   "outputs": [],
   "source": [
    "# Count number of tweets per user\n",
    "tweets = tweets.merge(\n",
    "    tweets.groupby('userid', as_index=False).count()[['userid', 'tweetid']].rename(columns={'tweetid': 'tweet_count'}),\n",
    "    on='userid'\n",
    ")"
   ]
  },
  {
   "cell_type": "code",
   "execution_count": 5,
   "metadata": {},
   "outputs": [],
   "source": [
    "# Assign each user to a quantile based on number of tweets\n",
    "# 9 is a empirically found value to produce evenly sized quantiles\n",
    "tweets = tweets.assign(quantile=pandas.qcut(tweets['tweet_count'], q=9))"
   ]
  },
  {
   "cell_type": "code",
   "execution_count": 6,
   "metadata": {},
   "outputs": [],
   "source": [
    "def cluster_tweets(df, eps_km=0.1, min_samples=1):\n",
    "    kms_per_radian = 6371.0088\n",
    "    coords = df[['latitude', 'longitude']].values\n",
    "    return DBSCAN(eps=eps_km/kms_per_radian, min_samples=min_samples, metric='haversine').fit(np.radians(coords))"
   ]
  },
  {
   "cell_type": "code",
   "execution_count": 7,
   "metadata": {},
   "outputs": [],
   "source": [
    "def cluster_spatial(tws, eps_km=0.1, min_samples=1):\n",
    "    cls = cluster_tweets(tws, eps_km=eps_km, min_samples=min_samples)\n",
    "    labels = pandas.Series(cls.labels_)\n",
    "    return tws.assign(region=pandas.Series(cls.labels_, index=tws.index).values)"
   ]
  },
  {
   "cell_type": "code",
   "execution_count": 8,
   "metadata": {},
   "outputs": [],
   "source": [
    "regions = tweets.groupby('userid', as_index=False).apply(cluster_spatial)"
   ]
  },
  {
   "cell_type": "code",
   "execution_count": 9,
   "metadata": {},
   "outputs": [],
   "source": [
    "regions = regions.assign(label=np.full(shape=regions.shape[0], fill_value=\"other\"))"
   ]
  },
  {
   "cell_type": "code",
   "execution_count": 545,
   "metadata": {},
   "outputs": [],
   "source": [
    "def plot_label_distrib(region_df):\n",
    "    region_df.groupby(['quantile', 'label']).size().unstack().fillna(0).plot(kind='barh', stacked=True, figsize=(15,7))\n",
    "\n",
    "def plot_label_hourofday(region_df):\n",
    "    region_df.groupby(['hourofday', 'label']).size().unstack().fillna(0).plot(kind='line', figsize=(15,7))"
   ]
  },
  {
   "cell_type": "code",
   "execution_count": 547,
   "metadata": {},
   "outputs": [
    {
     "data": {
      "image/png": "[encoded data removed]",
      "text/plain": [
       "<Figure size 1080x504 with 1 Axes>"
      ]
     },
     "metadata": {
      "needs_background": "light"
     },
     "output_type": "display_data"
    }
   ],
   "source": [
    "plot_label_distrib(regions)"
   ]
  },
  {
   "cell_type": "code",
   "execution_count": 19,
   "metadata": {},
   "outputs": [],
   "source": [
    "def during_home(df):\n",
    "    weekdays = (df['weekday'] < 6) & (0 < df['weekday'])\n",
    "    weekends = (df['weekday'] == 6) | (0 == df['weekday'])\n",
    "    morning_evening = (df['hourofday'] < 10) | (17 < df['hourofday'])\n",
    "    return df[((weekdays) & (morning_evening)) | (weekends)]\n",
    "\n",
    "def label_home(df):\n",
    "    print(\"copying\")\n",
    "    dfc = df.copy(deep=True)\n",
    "    print(\"reindex\")\n",
    "    dfc = dfc.set_index(['userid', 'region', 'tweetid']).sort_index()\n",
    "    print(\"largest cluster\")\n",
    "    homeidx = during_home(dfc)\\\n",
    "        .groupby(['userid', 'region']).size() \\\n",
    "        .groupby('userid').nlargest(1) \\\n",
    "        .index.tolist()\n",
    "    print(len(homeidx))\n",
    "    print(\"set values\")\n",
    "    for (_, userid, regionid) in homeidx:\n",
    "        dfc.loc[(userid, regionid), 'label'] = \"home\"\n",
    "    return dfc"
   ]
  },
  {
   "cell_type": "code",
   "execution_count": 23,
   "metadata": {},
   "outputs": [
    {
     "name": "stdout",
     "output_type": "stream",
     "text": [
      "copying\n",
      "reindex\n",
      "largest cluster\n",
      "3480\n",
      "set values\n"
     ]
    }
   ],
   "source": [
    "regions_home = label_home(regions)"
   ]
  },
  {
   "cell_type": "code",
   "execution_count": 598,
   "metadata": {},
   "outputs": [
    {
     "data": {
      "text/html": [
       "<div>\n",
       "<style scoped>\n",
       "    .dataframe tbody tr th:only-of-type {\n",
       "        vertical-align: middle;\n",
       "    }\n",
       "\n",
       "    .dataframe tbody tr th {\n",
       "        vertical-align: top;\n",
       "    }\n",
       "\n",
       "    .dataframe thead th {\n",
       "        text-align: right;\n",
       "    }\n",
       "</style>\n",
       "<table border=\"1\" class=\"dataframe\">\n",
       "  <thead>\n",
       "    <tr style=\"text-align: right;\">\n",
       "      <th></th>\n",
       "      <th></th>\n",
       "      <th>createdat</th>\n",
       "      <th>latitude</th>\n",
       "      <th>longitude</th>\n",
       "      <th>month</th>\n",
       "      <th>weekday</th>\n",
       "      <th>hourofday</th>\n",
       "      <th>timezone</th>\n",
       "      <th>geometry</th>\n",
       "      <th>tweet_count</th>\n",
       "      <th>quantile</th>\n",
       "      <th>label</th>\n",
       "    </tr>\n",
       "    <tr>\n",
       "      <th>region</th>\n",
       "      <th>tweetid</th>\n",
       "      <th></th>\n",
       "      <th></th>\n",
       "      <th></th>\n",
       "      <th></th>\n",
       "      <th></th>\n",
       "      <th></th>\n",
       "      <th></th>\n",
       "      <th></th>\n",
       "      <th></th>\n",
       "      <th></th>\n",
       "      <th></th>\n",
       "    </tr>\n",
       "  </thead>\n",
       "  <tbody>\n",
       "    <tr>\n",
       "      <th>0</th>\n",
       "      <th>165077186259324928</th>\n",
       "      <td>2012-02-02 15:20:43+01:00</td>\n",
       "      <td>59.337224</td>\n",
       "      <td>18.074058</td>\n",
       "      <td>2.0</td>\n",
       "      <td>4.0</td>\n",
       "      <td>15.0</td>\n",
       "      <td>Europe/Stockholm</td>\n",
       "      <td>POINT (18.07406 59.33722)</td>\n",
       "      <td>149</td>\n",
       "      <td>(4.999, 179.0]</td>\n",
       "      <td>other</td>\n",
       "    </tr>\n",
       "    <tr>\n",
       "      <th rowspan=\"3\" valign=\"top\">1</th>\n",
       "      <th>177683827882332160</th>\n",
       "      <td>2012-03-08 10:15:00+01:00</td>\n",
       "      <td>55.593921</td>\n",
       "      <td>13.013778</td>\n",
       "      <td>3.0</td>\n",
       "      <td>4.0</td>\n",
       "      <td>10.0</td>\n",
       "      <td>Europe/Stockholm</td>\n",
       "      <td>POINT (13.01378 55.59392)</td>\n",
       "      <td>149</td>\n",
       "      <td>(4.999, 179.0]</td>\n",
       "      <td>other</td>\n",
       "    </tr>\n",
       "    <tr>\n",
       "      <th>177687344135155713</th>\n",
       "      <td>2012-03-08 10:28:58+01:00</td>\n",
       "      <td>55.593809</td>\n",
       "      <td>13.013834</td>\n",
       "      <td>3.0</td>\n",
       "      <td>4.0</td>\n",
       "      <td>10.0</td>\n",
       "      <td>Europe/Stockholm</td>\n",
       "      <td>POINT (13.01383 55.59381)</td>\n",
       "      <td>149</td>\n",
       "      <td>(4.999, 179.0]</td>\n",
       "      <td>other</td>\n",
       "    </tr>\n",
       "    <tr>\n",
       "      <th>177690897411080192</th>\n",
       "      <td>2012-03-08 10:43:05+01:00</td>\n",
       "      <td>55.593838</td>\n",
       "      <td>13.014040</td>\n",
       "      <td>3.0</td>\n",
       "      <td>4.0</td>\n",
       "      <td>10.0</td>\n",
       "      <td>Europe/Stockholm</td>\n",
       "      <td>POINT (13.01404 55.59384)</td>\n",
       "      <td>149</td>\n",
       "      <td>(4.999, 179.0]</td>\n",
       "      <td>other</td>\n",
       "    </tr>\n",
       "    <tr>\n",
       "      <th>2</th>\n",
       "      <th>180294871251292160</th>\n",
       "      <td>2012-03-15 15:10:21+01:00</td>\n",
       "      <td>59.337160</td>\n",
       "      <td>18.058205</td>\n",
       "      <td>3.0</td>\n",
       "      <td>4.0</td>\n",
       "      <td>15.0</td>\n",
       "      <td>Europe/Stockholm</td>\n",
       "      <td>POINT (18.05820 59.33716)</td>\n",
       "      <td>149</td>\n",
       "      <td>(4.999, 179.0]</td>\n",
       "      <td>other</td>\n",
       "    </tr>\n",
       "    <tr>\n",
       "      <th rowspan=\"5\" valign=\"top\">33</th>\n",
       "      <th>782315892336046080</th>\n",
       "      <td>2016-10-01 13:26:58-07:00</td>\n",
       "      <td>37.785920</td>\n",
       "      <td>-122.400740</td>\n",
       "      <td>10.0</td>\n",
       "      <td>6.0</td>\n",
       "      <td>13.0</td>\n",
       "      <td>America/Los_Angeles</td>\n",
       "      <td>POINT (-122.40074 37.78592)</td>\n",
       "      <td>149</td>\n",
       "      <td>(4.999, 179.0]</td>\n",
       "      <td>home</td>\n",
       "    </tr>\n",
       "    <tr>\n",
       "      <th>782319740744118272</th>\n",
       "      <td>2016-10-01 13:42:15-07:00</td>\n",
       "      <td>37.785920</td>\n",
       "      <td>-122.400740</td>\n",
       "      <td>10.0</td>\n",
       "      <td>6.0</td>\n",
       "      <td>13.0</td>\n",
       "      <td>America/Los_Angeles</td>\n",
       "      <td>POINT (-122.40074 37.78592)</td>\n",
       "      <td>149</td>\n",
       "      <td>(4.999, 179.0]</td>\n",
       "      <td>home</td>\n",
       "    </tr>\n",
       "    <tr>\n",
       "      <th>782323907793596416</th>\n",
       "      <td>2016-10-01 13:58:49-07:00</td>\n",
       "      <td>37.785920</td>\n",
       "      <td>-122.400740</td>\n",
       "      <td>10.0</td>\n",
       "      <td>6.0</td>\n",
       "      <td>13.0</td>\n",
       "      <td>America/Los_Angeles</td>\n",
       "      <td>POINT (-122.40074 37.78592)</td>\n",
       "      <td>149</td>\n",
       "      <td>(4.999, 179.0]</td>\n",
       "      <td>home</td>\n",
       "    </tr>\n",
       "    <tr>\n",
       "      <th>782331267207483392</th>\n",
       "      <td>2016-10-01 14:28:03-07:00</td>\n",
       "      <td>37.785920</td>\n",
       "      <td>-122.400740</td>\n",
       "      <td>10.0</td>\n",
       "      <td>6.0</td>\n",
       "      <td>14.0</td>\n",
       "      <td>America/Los_Angeles</td>\n",
       "      <td>POINT (-122.40074 37.78592)</td>\n",
       "      <td>149</td>\n",
       "      <td>(4.999, 179.0]</td>\n",
       "      <td>home</td>\n",
       "    </tr>\n",
       "    <tr>\n",
       "      <th>782340843512344579</th>\n",
       "      <td>2016-10-01 15:06:06-07:00</td>\n",
       "      <td>37.785920</td>\n",
       "      <td>-122.400740</td>\n",
       "      <td>10.0</td>\n",
       "      <td>6.0</td>\n",
       "      <td>15.0</td>\n",
       "      <td>America/Los_Angeles</td>\n",
       "      <td>POINT (-122.40074 37.78592)</td>\n",
       "      <td>149</td>\n",
       "      <td>(4.999, 179.0]</td>\n",
       "      <td>home</td>\n",
       "    </tr>\n",
       "  </tbody>\n",
       "</table>\n",
       "</div>"
      ],
      "text/plain": [
       "                                           createdat   latitude   longitude  \\\n",
       "region tweetid                                                                \n",
       "0      165077186259324928  2012-02-02 15:20:43+01:00  59.337224   18.074058   \n",
       "1      177683827882332160  2012-03-08 10:15:00+01:00  55.593921   13.013778   \n",
       "       177687344135155713  2012-03-08 10:28:58+01:00  55.593809   13.013834   \n",
       "       177690897411080192  2012-03-08 10:43:05+01:00  55.593838   13.014040   \n",
       "2      180294871251292160  2012-03-15 15:10:21+01:00  59.337160   18.058205   \n",
       "33     782315892336046080  2016-10-01 13:26:58-07:00  37.785920 -122.400740   \n",
       "       782319740744118272  2016-10-01 13:42:15-07:00  37.785920 -122.400740   \n",
       "       782323907793596416  2016-10-01 13:58:49-07:00  37.785920 -122.400740   \n",
       "       782331267207483392  2016-10-01 14:28:03-07:00  37.785920 -122.400740   \n",
       "       782340843512344579  2016-10-01 15:06:06-07:00  37.785920 -122.400740   \n",
       "\n",
       "                           month  weekday  hourofday             timezone  \\\n",
       "region tweetid                                                              \n",
       "0      165077186259324928    2.0      4.0       15.0     Europe/Stockholm   \n",
       "1      177683827882332160    3.0      4.0       10.0     Europe/Stockholm   \n",
       "       177687344135155713    3.0      4.0       10.0     Europe/Stockholm   \n",
       "       177690897411080192    3.0      4.0       10.0     Europe/Stockholm   \n",
       "2      180294871251292160    3.0      4.0       15.0     Europe/Stockholm   \n",
       "33     782315892336046080   10.0      6.0       13.0  America/Los_Angeles   \n",
       "       782319740744118272   10.0      6.0       13.0  America/Los_Angeles   \n",
       "       782323907793596416   10.0      6.0       13.0  America/Los_Angeles   \n",
       "       782331267207483392   10.0      6.0       14.0  America/Los_Angeles   \n",
       "       782340843512344579   10.0      6.0       15.0  America/Los_Angeles   \n",
       "\n",
       "                                              geometry  tweet_count  \\\n",
       "region tweetid                                                        \n",
       "0      165077186259324928    POINT (18.07406 59.33722)          149   \n",
       "1      177683827882332160    POINT (13.01378 55.59392)          149   \n",
       "       177687344135155713    POINT (13.01383 55.59381)          149   \n",
       "       177690897411080192    POINT (13.01404 55.59384)          149   \n",
       "2      180294871251292160    POINT (18.05820 59.33716)          149   \n",
       "33     782315892336046080  POINT (-122.40074 37.78592)          149   \n",
       "       782319740744118272  POINT (-122.40074 37.78592)          149   \n",
       "       782323907793596416  POINT (-122.40074 37.78592)          149   \n",
       "       782331267207483392  POINT (-122.40074 37.78592)          149   \n",
       "       782340843512344579  POINT (-122.40074 37.78592)          149   \n",
       "\n",
       "                                 quantile  label  \n",
       "region tweetid                                    \n",
       "0      165077186259324928  (4.999, 179.0]  other  \n",
       "1      177683827882332160  (4.999, 179.0]  other  \n",
       "       177687344135155713  (4.999, 179.0]  other  \n",
       "       177690897411080192  (4.999, 179.0]  other  \n",
       "2      180294871251292160  (4.999, 179.0]  other  \n",
       "33     782315892336046080  (4.999, 179.0]   home  \n",
       "       782319740744118272  (4.999, 179.0]   home  \n",
       "       782323907793596416  (4.999, 179.0]   home  \n",
       "       782331267207483392  (4.999, 179.0]   home  \n",
       "       782340843512344579  (4.999, 179.0]   home  "
      ]
     },
     "execution_count": 598,
     "metadata": {},
     "output_type": "execute_result"
    }
   ],
   "source": [
    "regions_home.loc[1723721].groupby('label').head()"
   ]
  },
  {
   "cell_type": "code",
   "execution_count": 548,
   "metadata": {},
   "outputs": [
    {
     "data": {
      "image/png": "[encoded data removed]",
      "text/plain": [
       "<Figure size 1080x504 with 1 Axes>"
      ]
     },
     "metadata": {
      "needs_background": "light"
     },
     "output_type": "display_data"
    },
    {
     "data": {
      "image/png": "[encoded data removed]",
      "text/plain": [
       "<Figure size 1080x504 with 1 Axes>"
      ]
     },
     "metadata": {
      "needs_background": "light"
     },
     "output_type": "display_data"
    }
   ],
   "source": [
    "plot_label_distrib(regions_home)\n",
    "plot_label_hourofday(regions_home)"
   ]
  },
  {
   "cell_type": "code",
   "execution_count": 825,
   "metadata": {},
   "outputs": [],
   "source": [
    "def gaps(df):\n",
    "    columns = ['createdat', 'region']\n",
    "    df_or = df.shift(1).dropna()[columns].reset_index()\n",
    "    df_ds = df.shift(-1).dropna()[columns].reset_index()\n",
    "    df = df_or.join(df_ds, lsuffix=\"_origin\", rsuffix=\"_destination\")\n",
    "    df = df.assign(duration=df['createdat_destination'] - df['createdat_origin'])\n",
    "    return df\n",
    "\n",
    "def transition_prob(df, timedlt=None, n_regions=0):\n",
    "    df = gaps(df)\n",
    "    if timedlt is not None:\n",
    "        df = df[df['duration'] < timedlt]\n",
    "    df = df[(df['region_origin'] != df['region_destination'])]\n",
    "    if df.shape[0] == 0:\n",
    "        print(\"determine transition probability: no consecutive tweets\")\n",
    "        return None\n",
    "    indx = pandas.MultiIndex.from_product([np.arange(0, n_regions+1), np.arange(0, n_regions+1)])\n",
    "    mtr = df.groupby(['region_origin', 'region_destination']).size().reindex(indx).unstack().fillna(0)\n",
    "    rowsum = mtr.sum(axis=1)\n",
    "    mtr[rowsum == 0] =+ 1/(n_regions+1)\n",
    "    rowsum[rowsum == 0] = 1\n",
    "    mtr = mtr.div(rowsum, axis=0)\n",
    "    return mtr.values\n",
    "\n",
    "def label_work(df):\n",
    "    dfc = df.copy(deep=True)\n",
    "    i = 0\n",
    "    for uid in dfc.index.get_level_values(0).unique():\n",
    "        udfc = dfc.loc[uid, :]\n",
    "        udf = udfc.copy(deep=True).reset_index()\n",
    "        udf = udf.sort_values('createdat')\n",
    "        n_regions = udf['region'].max()\n",
    "        home_region = udf[udf['label'] == 'home'].iloc[0]\n",
    "        home_region = home_region['region']\n",
    "        udf = udf[(udf['weekday'] < 6) & (udf['weekday'] > 0)]\n",
    "        \n",
    "        # Get \"fake\" stationary distribution\n",
    "        transition_matrix = transition_prob(udf, timedlt=timedelta(hours=12), n_regions=n_regions)\n",
    "        if transition_matrix is None:\n",
    "            continue\n",
    "        transition_matrix = transition_matrix.T\n",
    "        stationary_distribution = np.linalg.matrix_power(transition_matrix, 100)[:,0]\n",
    "        stationary_distribution[home_region] = 0\n",
    "        work_region = stationary_distribution.argmax()\n",
    "        # Set initial state to home\n",
    "        #initial_state = np.zeros((transition_matrix.shape[0],1))\n",
    "        #initial_state[home_region] = 1\n",
    "        \n",
    "        #work_probs = stationary_distribution.dot(initial_state)\n",
    "        #work_probs[home_region] = 0\n",
    "        #work_region = work_probs.argmax()\n",
    "        dfc.loc[(uid, work_region), 'label'] = \"work\"\n",
    "        i += 1\n",
    "        if i % 100 == 0:\n",
    "            print(\"done with {}\".format(i))\n",
    "    return dfc"
   ]
  },
  {
   "cell_type": "code",
   "execution_count": 810,
   "metadata": {},
   "outputs": [
    {
     "ename": "KeyboardInterrupt",
     "evalue": "",
     "output_type": "error",
     "traceback": [
      "\u001b[0;31m---------------------------------------------------------------------------\u001b[0m",
      "\u001b[0;31mKeyboardInterrupt\u001b[0m                         Traceback (most recent call last)",
      "\u001b[0;32m<ipython-input-810-c9974d68ce0e>\u001b[0m in \u001b[0;36m<module>\u001b[0;34m\u001b[0m\n\u001b[0;32m----> 1\u001b[0;31m \u001b[0mregions_work\u001b[0m \u001b[0;34m=\u001b[0m \u001b[0mlabel_work\u001b[0m\u001b[0;34m(\u001b[0m\u001b[0mregions_home\u001b[0m\u001b[0;34m)\u001b[0m\u001b[0;34m\u001b[0m\u001b[0;34m\u001b[0m\u001b[0m\n\u001b[0m",
      "\u001b[0;32m<ipython-input-809-a78e518ade51>\u001b[0m in \u001b[0;36mlabel_work\u001b[0;34m(df)\u001b[0m\n\u001b[1;32m     50\u001b[0m         \u001b[0;31m#work_probs[home_region] = 0\u001b[0m\u001b[0;34m\u001b[0m\u001b[0;34m\u001b[0m\u001b[0;34m\u001b[0m\u001b[0m\n\u001b[1;32m     51\u001b[0m         \u001b[0;31m#work_region = work_probs.argmax()\u001b[0m\u001b[0;34m\u001b[0m\u001b[0;34m\u001b[0m\u001b[0;34m\u001b[0m\u001b[0m\n\u001b[0;32m---> 52\u001b[0;31m         \u001b[0mdfc\u001b[0m\u001b[0;34m.\u001b[0m\u001b[0mloc\u001b[0m\u001b[0;34m[\u001b[0m\u001b[0;34m(\u001b[0m\u001b[0muid\u001b[0m\u001b[0;34m,\u001b[0m \u001b[0mwork_region\u001b[0m\u001b[0;34m)\u001b[0m\u001b[0;34m,\u001b[0m \u001b[0;34m'label'\u001b[0m\u001b[0;34m]\u001b[0m \u001b[0;34m=\u001b[0m \u001b[0;34m\"work\"\u001b[0m\u001b[0;34m\u001b[0m\u001b[0;34m\u001b[0m\u001b[0m\n\u001b[0m\u001b[1;32m     53\u001b[0m         \u001b[0mi\u001b[0m \u001b[0;34m+=\u001b[0m \u001b[0;36m1\u001b[0m\u001b[0;34m\u001b[0m\u001b[0;34m\u001b[0m\u001b[0m\n\u001b[1;32m     54\u001b[0m         \u001b[0;32mif\u001b[0m \u001b[0mi\u001b[0m \u001b[0;34m%\u001b[0m \u001b[0;36m100\u001b[0m \u001b[0;34m==\u001b[0m \u001b[0;36m0\u001b[0m\u001b[0;34m:\u001b[0m\u001b[0;34m\u001b[0m\u001b[0;34m\u001b[0m\u001b[0m\n",
      "\u001b[0;32m~/opt/miniconda3/envs/mscthesis/lib/python3.8/site-packages/pandas/core/indexing.py\u001b[0m in \u001b[0;36m__setitem__\u001b[0;34m(self, key, value)\u001b[0m\n\u001b[1;32m    668\u001b[0m             \u001b[0mkey\u001b[0m \u001b[0;34m=\u001b[0m \u001b[0mcom\u001b[0m\u001b[0;34m.\u001b[0m\u001b[0mapply_if_callable\u001b[0m\u001b[0;34m(\u001b[0m\u001b[0mkey\u001b[0m\u001b[0;34m,\u001b[0m \u001b[0mself\u001b[0m\u001b[0;34m.\u001b[0m\u001b[0mobj\u001b[0m\u001b[0;34m)\u001b[0m\u001b[0;34m\u001b[0m\u001b[0;34m\u001b[0m\u001b[0m\n\u001b[1;32m    669\u001b[0m         \u001b[0mindexer\u001b[0m \u001b[0;34m=\u001b[0m \u001b[0mself\u001b[0m\u001b[0;34m.\u001b[0m\u001b[0m_get_setitem_indexer\u001b[0m\u001b[0;34m(\u001b[0m\u001b[0mkey\u001b[0m\u001b[0;34m)\u001b[0m\u001b[0;34m\u001b[0m\u001b[0;34m\u001b[0m\u001b[0m\n\u001b[0;32m--> 670\u001b[0;31m         \u001b[0mself\u001b[0m\u001b[0;34m.\u001b[0m\u001b[0m_setitem_with_indexer\u001b[0m\u001b[0;34m(\u001b[0m\u001b[0mindexer\u001b[0m\u001b[0;34m,\u001b[0m \u001b[0mvalue\u001b[0m\u001b[0;34m)\u001b[0m\u001b[0;34m\u001b[0m\u001b[0;34m\u001b[0m\u001b[0m\n\u001b[0m\u001b[1;32m    671\u001b[0m \u001b[0;34m\u001b[0m\u001b[0m\n\u001b[1;32m    672\u001b[0m     \u001b[0;32mdef\u001b[0m \u001b[0m_validate_key\u001b[0m\u001b[0;34m(\u001b[0m\u001b[0mself\u001b[0m\u001b[0;34m,\u001b[0m \u001b[0mkey\u001b[0m\u001b[0;34m,\u001b[0m \u001b[0maxis\u001b[0m\u001b[0;34m:\u001b[0m \u001b[0mint\u001b[0m\u001b[0;34m)\u001b[0m\u001b[0;34m:\u001b[0m\u001b[0;34m\u001b[0m\u001b[0;34m\u001b[0m\u001b[0m\n",
      "\u001b[0;32m~/opt/miniconda3/envs/mscthesis/lib/python3.8/site-packages/pandas/core/indexing.py\u001b[0m in \u001b[0;36m_setitem_with_indexer\u001b[0;34m(self, indexer, value)\u001b[0m\n\u001b[1;32m   1026\u001b[0m                 \u001b[0;31m# scalar\u001b[0m\u001b[0;34m\u001b[0m\u001b[0;34m\u001b[0m\u001b[0;34m\u001b[0m\u001b[0m\n\u001b[1;32m   1027\u001b[0m                 \u001b[0;32mfor\u001b[0m \u001b[0mitem\u001b[0m \u001b[0;32min\u001b[0m \u001b[0mlabels\u001b[0m\u001b[0;34m:\u001b[0m\u001b[0;34m\u001b[0m\u001b[0;34m\u001b[0m\u001b[0m\n\u001b[0;32m-> 1028\u001b[0;31m                     \u001b[0msetter\u001b[0m\u001b[0;34m(\u001b[0m\u001b[0mitem\u001b[0m\u001b[0;34m,\u001b[0m \u001b[0mvalue\u001b[0m\u001b[0;34m)\u001b[0m\u001b[0;34m\u001b[0m\u001b[0;34m\u001b[0m\u001b[0m\n\u001b[0m\u001b[1;32m   1029\u001b[0m \u001b[0;34m\u001b[0m\u001b[0m\n\u001b[1;32m   1030\u001b[0m         \u001b[0;32melse\u001b[0m\u001b[0;34m:\u001b[0m\u001b[0;34m\u001b[0m\u001b[0;34m\u001b[0m\u001b[0m\n",
      "\u001b[0;31mKeyboardInterrupt\u001b[0m: "
     ]
    }
   ],
   "source": [
    "regions_work = label_work(regions_home)"
   ]
  },
  {
   "cell_type": "code",
   "execution_count": 602,
   "metadata": {},
   "outputs": [
    {
     "data": {
      "image/png": "[encoded data removed]",
      "text/plain": [
       "<Figure size 1080x504 with 1 Axes>"
      ]
     },
     "metadata": {
      "needs_background": "light"
     },
     "output_type": "display_data"
    },
    {
     "data": {
      "image/png": "[encoded data removed]",
      "text/plain": [
       "<Figure size 1080x504 with 1 Axes>"
      ]
     },
     "metadata": {
      "needs_background": "light"
     },
     "output_type": "display_data"
    }
   ],
   "source": [
    "plot_label_distrib(regions_work)\n",
    "plot_label_hourofday(regions_work)"
   ]
  },
  {
   "cell_type": "code",
   "execution_count": 603,
   "metadata": {},
   "outputs": [],
   "source": [
    "regions_subset = regions[regions['userid'].isin(regions['userid'].unique()[:100])]"
   ]
  },
  {
   "cell_type": "code",
   "execution_count": 778,
   "metadata": {},
   "outputs": [
    {
     "data": {
      "text/plain": [
       "<matplotlib.axes._subplots.AxesSubplot at 0x166f101f0>"
      ]
     },
     "execution_count": 778,
     "metadata": {},
     "output_type": "execute_result"
    },
    {
     "data": {
      "image/png": "[encoded data removed]",
      "text/plain": [
       "<Figure size 432x288 with 1 Axes>"
      ]
     },
     "metadata": {
      "needs_background": "light"
     },
     "output_type": "display_data"
    }
   ],
   "source": [
    "regions_subset.groupby('userid').apply(gaps).reset_index()['duration'].dropna().astype('timedelta64[h]').plot.hist(bins=1000, logy=True)"
   ]
  },
  {
   "cell_type": "code",
   "execution_count": 604,
   "metadata": {},
   "outputs": [
    {
     "data": {
      "text/html": [
       "<div>\n",
       "<style scoped>\n",
       "    .dataframe tbody tr th:only-of-type {\n",
       "        vertical-align: middle;\n",
       "    }\n",
       "\n",
       "    .dataframe tbody tr th {\n",
       "        vertical-align: top;\n",
       "    }\n",
       "\n",
       "    .dataframe thead th {\n",
       "        text-align: right;\n",
       "    }\n",
       "</style>\n",
       "<table border=\"1\" class=\"dataframe\">\n",
       "  <thead>\n",
       "    <tr style=\"text-align: right;\">\n",
       "      <th></th>\n",
       "      <th>userid</th>\n",
       "      <th>tweetid</th>\n",
       "      <th>createdat</th>\n",
       "      <th>latitude</th>\n",
       "      <th>longitude</th>\n",
       "      <th>month</th>\n",
       "      <th>weekday</th>\n",
       "      <th>hourofday</th>\n",
       "      <th>timezone</th>\n",
       "      <th>geometry</th>\n",
       "      <th>tweet_count</th>\n",
       "      <th>quantile</th>\n",
       "      <th>region</th>\n",
       "      <th>label</th>\n",
       "    </tr>\n",
       "  </thead>\n",
       "  <tbody>\n",
       "    <tr>\n",
       "      <th>0</th>\n",
       "      <td>14153467</td>\n",
       "      <td>24287237314</td>\n",
       "      <td>2010-09-12 16:23:34+02:00</td>\n",
       "      <td>59.622270</td>\n",
       "      <td>16.503370</td>\n",
       "      <td>9.0</td>\n",
       "      <td>0.0</td>\n",
       "      <td>16.0</td>\n",
       "      <td>Europe/Stockholm</td>\n",
       "      <td>POINT (16.50337 59.62227)</td>\n",
       "      <td>479</td>\n",
       "      <td>(452.0, 610.0]</td>\n",
       "      <td>0</td>\n",
       "      <td>other</td>\n",
       "    </tr>\n",
       "    <tr>\n",
       "      <th>479</th>\n",
       "      <td>34262938</td>\n",
       "      <td>24291802016</td>\n",
       "      <td>2010-09-12 17:21:16+02:00</td>\n",
       "      <td>59.401982</td>\n",
       "      <td>17.987409</td>\n",
       "      <td>9.0</td>\n",
       "      <td>0.0</td>\n",
       "      <td>17.0</td>\n",
       "      <td>Europe/Stockholm</td>\n",
       "      <td>POINT (17.98741 59.40198)</td>\n",
       "      <td>461</td>\n",
       "      <td>(452.0, 610.0]</td>\n",
       "      <td>0</td>\n",
       "      <td>other</td>\n",
       "    </tr>\n",
       "    <tr>\n",
       "      <th>940</th>\n",
       "      <td>91627942</td>\n",
       "      <td>24297613406</td>\n",
       "      <td>2010-09-12 18:35:10+02:00</td>\n",
       "      <td>55.605118</td>\n",
       "      <td>13.024249</td>\n",
       "      <td>9.0</td>\n",
       "      <td>0.0</td>\n",
       "      <td>18.0</td>\n",
       "      <td>Europe/Stockholm</td>\n",
       "      <td>POINT (13.02425 55.60512)</td>\n",
       "      <td>467</td>\n",
       "      <td>(452.0, 610.0]</td>\n",
       "      <td>0</td>\n",
       "      <td>other</td>\n",
       "    </tr>\n",
       "    <tr>\n",
       "      <th>1407</th>\n",
       "      <td>11773412</td>\n",
       "      <td>24416046138</td>\n",
       "      <td>2010-09-13 17:21:37-04:00</td>\n",
       "      <td>39.942592</td>\n",
       "      <td>-75.157083</td>\n",
       "      <td>9.0</td>\n",
       "      <td>1.0</td>\n",
       "      <td>17.0</td>\n",
       "      <td>America/New_York</td>\n",
       "      <td>POINT (-75.15708 39.94259)</td>\n",
       "      <td>633</td>\n",
       "      <td>(610.0, 793.0]</td>\n",
       "      <td>0</td>\n",
       "      <td>other</td>\n",
       "    </tr>\n",
       "    <tr>\n",
       "      <th>2040</th>\n",
       "      <td>132646592</td>\n",
       "      <td>24464888963</td>\n",
       "      <td>2010-09-14 12:42:44+02:00</td>\n",
       "      <td>59.384057</td>\n",
       "      <td>13.471260</td>\n",
       "      <td>9.0</td>\n",
       "      <td>2.0</td>\n",
       "      <td>12.0</td>\n",
       "      <td>Europe/Stockholm</td>\n",
       "      <td>POINT (13.47126 59.38406)</td>\n",
       "      <td>704</td>\n",
       "      <td>(610.0, 793.0]</td>\n",
       "      <td>0</td>\n",
       "      <td>other</td>\n",
       "    </tr>\n",
       "    <tr>\n",
       "      <th>...</th>\n",
       "      <td>...</td>\n",
       "      <td>...</td>\n",
       "      <td>...</td>\n",
       "      <td>...</td>\n",
       "      <td>...</td>\n",
       "      <td>...</td>\n",
       "      <td>...</td>\n",
       "      <td>...</td>\n",
       "      <td>...</td>\n",
       "      <td>...</td>\n",
       "      <td>...</td>\n",
       "      <td>...</td>\n",
       "      <td>...</td>\n",
       "      <td>...</td>\n",
       "    </tr>\n",
       "    <tr>\n",
       "      <th>38992</th>\n",
       "      <td>60011262</td>\n",
       "      <td>37888279894302721</td>\n",
       "      <td>2011-02-16 15:57:24+01:00</td>\n",
       "      <td>59.320440</td>\n",
       "      <td>18.069208</td>\n",
       "      <td>2.0</td>\n",
       "      <td>3.0</td>\n",
       "      <td>15.0</td>\n",
       "      <td>Europe/Stockholm</td>\n",
       "      <td>POINT (18.06921 59.32044)</td>\n",
       "      <td>80</td>\n",
       "      <td>(4.999, 179.0]</td>\n",
       "      <td>0</td>\n",
       "      <td>other</td>\n",
       "    </tr>\n",
       "    <tr>\n",
       "      <th>39072</th>\n",
       "      <td>16978181</td>\n",
       "      <td>38613848302952448</td>\n",
       "      <td>2011-02-18 16:00:33+01:00</td>\n",
       "      <td>59.274700</td>\n",
       "      <td>17.910110</td>\n",
       "      <td>2.0</td>\n",
       "      <td>5.0</td>\n",
       "      <td>16.0</td>\n",
       "      <td>Europe/Stockholm</td>\n",
       "      <td>POINT (17.91011 59.27470)</td>\n",
       "      <td>214</td>\n",
       "      <td>(179.0, 308.0]</td>\n",
       "      <td>0</td>\n",
       "      <td>other</td>\n",
       "    </tr>\n",
       "    <tr>\n",
       "      <th>39286</th>\n",
       "      <td>194614807</td>\n",
       "      <td>40028307416293376</td>\n",
       "      <td>2011-02-22 13:41:06+01:00</td>\n",
       "      <td>58.673900</td>\n",
       "      <td>16.368629</td>\n",
       "      <td>2.0</td>\n",
       "      <td>2.0</td>\n",
       "      <td>13.0</td>\n",
       "      <td>Europe/Stockholm</td>\n",
       "      <td>POINT (16.36863 58.67390)</td>\n",
       "      <td>620</td>\n",
       "      <td>(610.0, 793.0]</td>\n",
       "      <td>0</td>\n",
       "      <td>other</td>\n",
       "    </tr>\n",
       "    <tr>\n",
       "      <th>39906</th>\n",
       "      <td>24664093</td>\n",
       "      <td>41116924918235136</td>\n",
       "      <td>2011-02-25 13:46:53+01:00</td>\n",
       "      <td>56.903457</td>\n",
       "      <td>14.551125</td>\n",
       "      <td>2.0</td>\n",
       "      <td>5.0</td>\n",
       "      <td>13.0</td>\n",
       "      <td>Europe/Stockholm</td>\n",
       "      <td>POINT (14.55113 56.90346)</td>\n",
       "      <td>332</td>\n",
       "      <td>(308.0, 452.0]</td>\n",
       "      <td>0</td>\n",
       "      <td>other</td>\n",
       "    </tr>\n",
       "    <tr>\n",
       "      <th>40238</th>\n",
       "      <td>100195044</td>\n",
       "      <td>42180245989625856</td>\n",
       "      <td>2011-02-28 12:12:08+01:00</td>\n",
       "      <td>57.616183</td>\n",
       "      <td>13.111185</td>\n",
       "      <td>2.0</td>\n",
       "      <td>1.0</td>\n",
       "      <td>12.0</td>\n",
       "      <td>Europe/Stockholm</td>\n",
       "      <td>POINT (13.11119 57.61618)</td>\n",
       "      <td>1074</td>\n",
       "      <td>(1052.0, 1401.0]</td>\n",
       "      <td>0</td>\n",
       "      <td>other</td>\n",
       "    </tr>\n",
       "  </tbody>\n",
       "</table>\n",
       "<p>100 rows × 14 columns</p>\n",
       "</div>"
      ],
      "text/plain": [
       "          userid            tweetid                  createdat   latitude  \\\n",
       "0       14153467        24287237314  2010-09-12 16:23:34+02:00  59.622270   \n",
       "479     34262938        24291802016  2010-09-12 17:21:16+02:00  59.401982   \n",
       "940     91627942        24297613406  2010-09-12 18:35:10+02:00  55.605118   \n",
       "1407    11773412        24416046138  2010-09-13 17:21:37-04:00  39.942592   \n",
       "2040   132646592        24464888963  2010-09-14 12:42:44+02:00  59.384057   \n",
       "...          ...                ...                        ...        ...   \n",
       "38992   60011262  37888279894302721  2011-02-16 15:57:24+01:00  59.320440   \n",
       "39072   16978181  38613848302952448  2011-02-18 16:00:33+01:00  59.274700   \n",
       "39286  194614807  40028307416293376  2011-02-22 13:41:06+01:00  58.673900   \n",
       "39906   24664093  41116924918235136  2011-02-25 13:46:53+01:00  56.903457   \n",
       "40238  100195044  42180245989625856  2011-02-28 12:12:08+01:00  57.616183   \n",
       "\n",
       "       longitude  month  weekday  hourofday          timezone  \\\n",
       "0      16.503370    9.0      0.0       16.0  Europe/Stockholm   \n",
       "479    17.987409    9.0      0.0       17.0  Europe/Stockholm   \n",
       "940    13.024249    9.0      0.0       18.0  Europe/Stockholm   \n",
       "1407  -75.157083    9.0      1.0       17.0  America/New_York   \n",
       "2040   13.471260    9.0      2.0       12.0  Europe/Stockholm   \n",
       "...          ...    ...      ...        ...               ...   \n",
       "38992  18.069208    2.0      3.0       15.0  Europe/Stockholm   \n",
       "39072  17.910110    2.0      5.0       16.0  Europe/Stockholm   \n",
       "39286  16.368629    2.0      2.0       13.0  Europe/Stockholm   \n",
       "39906  14.551125    2.0      5.0       13.0  Europe/Stockholm   \n",
       "40238  13.111185    2.0      1.0       12.0  Europe/Stockholm   \n",
       "\n",
       "                         geometry  tweet_count          quantile  region  \\\n",
       "0       POINT (16.50337 59.62227)          479    (452.0, 610.0]       0   \n",
       "479     POINT (17.98741 59.40198)          461    (452.0, 610.0]       0   \n",
       "940     POINT (13.02425 55.60512)          467    (452.0, 610.0]       0   \n",
       "1407   POINT (-75.15708 39.94259)          633    (610.0, 793.0]       0   \n",
       "2040    POINT (13.47126 59.38406)          704    (610.0, 793.0]       0   \n",
       "...                           ...          ...               ...     ...   \n",
       "38992   POINT (18.06921 59.32044)           80    (4.999, 179.0]       0   \n",
       "39072   POINT (17.91011 59.27470)          214    (179.0, 308.0]       0   \n",
       "39286   POINT (16.36863 58.67390)          620    (610.0, 793.0]       0   \n",
       "39906   POINT (14.55113 56.90346)          332    (308.0, 452.0]       0   \n",
       "40238   POINT (13.11119 57.61618)         1074  (1052.0, 1401.0]       0   \n",
       "\n",
       "       label  \n",
       "0      other  \n",
       "479    other  \n",
       "940    other  \n",
       "1407   other  \n",
       "2040   other  \n",
       "...      ...  \n",
       "38992  other  \n",
       "39072  other  \n",
       "39286  other  \n",
       "39906  other  \n",
       "40238  other  \n",
       "\n",
       "[100 rows x 14 columns]"
      ]
     },
     "execution_count": 604,
     "metadata": {},
     "output_type": "execute_result"
    }
   ],
   "source": [
    "regions_subset.groupby('userid').head(1)"
   ]
  },
  {
   "cell_type": "code",
   "execution_count": 811,
   "metadata": {},
   "outputs": [
    {
     "name": "stdout",
     "output_type": "stream",
     "text": [
      "copying\n",
      "reindex\n",
      "largest cluster\n",
      "100\n",
      "set values\n"
     ]
    }
   ],
   "source": [
    "regions_subset_home = label_home(regions_subset)"
   ]
  },
  {
   "cell_type": "code",
   "execution_count": 607,
   "metadata": {},
   "outputs": [
    {
     "data": {
      "text/html": [
       "<div>\n",
       "<style scoped>\n",
       "    .dataframe tbody tr th:only-of-type {\n",
       "        vertical-align: middle;\n",
       "    }\n",
       "\n",
       "    .dataframe tbody tr th {\n",
       "        vertical-align: top;\n",
       "    }\n",
       "\n",
       "    .dataframe thead th {\n",
       "        text-align: right;\n",
       "    }\n",
       "</style>\n",
       "<table border=\"1\" class=\"dataframe\">\n",
       "  <thead>\n",
       "    <tr style=\"text-align: right;\">\n",
       "      <th></th>\n",
       "      <th></th>\n",
       "      <th>createdat</th>\n",
       "      <th>latitude</th>\n",
       "      <th>longitude</th>\n",
       "      <th>month</th>\n",
       "      <th>weekday</th>\n",
       "      <th>hourofday</th>\n",
       "      <th>timezone</th>\n",
       "      <th>geometry</th>\n",
       "      <th>tweet_count</th>\n",
       "      <th>quantile</th>\n",
       "      <th>label</th>\n",
       "    </tr>\n",
       "    <tr>\n",
       "      <th>region</th>\n",
       "      <th>tweetid</th>\n",
       "      <th></th>\n",
       "      <th></th>\n",
       "      <th></th>\n",
       "      <th></th>\n",
       "      <th></th>\n",
       "      <th></th>\n",
       "      <th></th>\n",
       "      <th></th>\n",
       "      <th></th>\n",
       "      <th></th>\n",
       "      <th></th>\n",
       "    </tr>\n",
       "  </thead>\n",
       "  <tbody>\n",
       "  </tbody>\n",
       "</table>\n",
       "</div>"
      ],
      "text/plain": [
       "Empty GeoDataFrame\n",
       "Columns: [createdat, latitude, longitude, month, weekday, hourofday, timezone, geometry, tweet_count, quantile, label]\n",
       "Index: []"
      ]
     },
     "execution_count": 607,
     "metadata": {},
     "output_type": "execute_result"
    }
   ],
   "source": [
    "regions_subset_home.loc[34262938][regions_subset_home.loc[34262938]['label'] == 'work']"
   ]
  },
  {
   "cell_type": "code",
   "execution_count": 549,
   "metadata": {},
   "outputs": [
    {
     "data": {
      "image/png": "[encoded data removed]",
      "text/plain": [
       "<Figure size 1080x504 with 1 Axes>"
      ]
     },
     "metadata": {
      "needs_background": "light"
     },
     "output_type": "display_data"
    },
    {
     "data": {
      "image/png": "[encoded data removed]",
      "text/plain": [
       "<Figure size 1080x504 with 1 Axes>"
      ]
     },
     "metadata": {
      "needs_background": "light"
     },
     "output_type": "display_data"
    }
   ],
   "source": [
    "plot_label_distrib(regions_subset_home)\n",
    "plot_label_hourofday(regions_subset_home)"
   ]
  },
  {
   "cell_type": "code",
   "execution_count": 821,
   "metadata": {},
   "outputs": [
    {
     "name": "stdout",
     "output_type": "stream",
     "text": [
      "determine transition probability: no consecutive tweets\n",
      "determine transition probability: no consecutive tweets\n"
     ]
    }
   ],
   "source": [
    "regions_subset_work = label_work(regions_subset_home)"
   ]
  },
  {
   "cell_type": "code",
   "execution_count": 818,
   "metadata": {},
   "outputs": [
    {
     "data": {
      "image/png": "[encoded data removed]",
      "text/plain": [
       "<Figure size 1080x504 with 1 Axes>"
      ]
     },
     "metadata": {
      "needs_background": "light"
     },
     "output_type": "display_data"
    },
    {
     "data": {
      "image/png": "[encoded data removed]",
      "text/plain": [
       "<Figure size 1080x504 with 1 Axes>"
      ]
     },
     "metadata": {
      "needs_background": "light"
     },
     "output_type": "display_data"
    }
   ],
   "source": [
    "plot_label_distrib(regions_subset_work)\n",
    "plot_label_hourofday(regions_subset_work)"
   ]
  },
  {
   "cell_type": "code",
   "execution_count": 826,
   "metadata": {},
   "outputs": [
    {
     "data": {
      "text/html": [
       "<div>\n",
       "<style scoped>\n",
       "    .dataframe tbody tr th:only-of-type {\n",
       "        vertical-align: middle;\n",
       "    }\n",
       "\n",
       "    .dataframe tbody tr th {\n",
       "        vertical-align: top;\n",
       "    }\n",
       "\n",
       "    .dataframe thead th {\n",
       "        text-align: right;\n",
       "    }\n",
       "</style>\n",
       "<table border=\"1\" class=\"dataframe\">\n",
       "  <thead>\n",
       "    <tr style=\"text-align: right;\">\n",
       "      <th></th>\n",
       "      <th></th>\n",
       "      <th></th>\n",
       "      <th>createdat</th>\n",
       "      <th>latitude</th>\n",
       "      <th>longitude</th>\n",
       "      <th>month</th>\n",
       "      <th>weekday</th>\n",
       "      <th>hourofday</th>\n",
       "      <th>timezone</th>\n",
       "      <th>geometry</th>\n",
       "      <th>tweet_count</th>\n",
       "      <th>quantile</th>\n",
       "      <th>label</th>\n",
       "    </tr>\n",
       "    <tr>\n",
       "      <th>userid</th>\n",
       "      <th>region</th>\n",
       "      <th>tweetid</th>\n",
       "      <th></th>\n",
       "      <th></th>\n",
       "      <th></th>\n",
       "      <th></th>\n",
       "      <th></th>\n",
       "      <th></th>\n",
       "      <th></th>\n",
       "      <th></th>\n",
       "      <th></th>\n",
       "      <th></th>\n",
       "      <th></th>\n",
       "    </tr>\n",
       "  </thead>\n",
       "  <tbody>\n",
       "    <tr>\n",
       "      <th>5040331</th>\n",
       "      <th>0</th>\n",
       "      <th>24866699613</th>\n",
       "      <td>2010-09-18 19:31:21+02:00</td>\n",
       "      <td>59.338282</td>\n",
       "      <td>18.057118</td>\n",
       "      <td>9.0</td>\n",
       "      <td>6.0</td>\n",
       "      <td>19.0</td>\n",
       "      <td>Europe/Stockholm</td>\n",
       "      <td>POINT (18.05712 59.33828)</td>\n",
       "      <td>1223</td>\n",
       "      <td>(1052.0, 1401.0]</td>\n",
       "      <td>other</td>\n",
       "    </tr>\n",
       "    <tr>\n",
       "      <th>7877902</th>\n",
       "      <th>0</th>\n",
       "      <th>29074978474</th>\n",
       "      <td>2010-10-29 11:37:00+01:00</td>\n",
       "      <td>51.536198</td>\n",
       "      <td>-0.106064</td>\n",
       "      <td>10.0</td>\n",
       "      <td>5.0</td>\n",
       "      <td>11.0</td>\n",
       "      <td>Europe/London</td>\n",
       "      <td>POINT (-0.10606 51.53620)</td>\n",
       "      <td>263</td>\n",
       "      <td>(179.0, 308.0]</td>\n",
       "      <td>other</td>\n",
       "    </tr>\n",
       "    <tr>\n",
       "      <th>8026912</th>\n",
       "      <th>0</th>\n",
       "      <th>25826524830</th>\n",
       "      <td>2010-09-29 00:34:07+02:00</td>\n",
       "      <td>59.313978</td>\n",
       "      <td>18.077409</td>\n",
       "      <td>9.0</td>\n",
       "      <td>3.0</td>\n",
       "      <td>0.0</td>\n",
       "      <td>Europe/Stockholm</td>\n",
       "      <td>POINT (18.07741 59.31398)</td>\n",
       "      <td>61</td>\n",
       "      <td>(4.999, 179.0]</td>\n",
       "      <td>other</td>\n",
       "    </tr>\n",
       "    <tr>\n",
       "      <th>11773412</th>\n",
       "      <th>0</th>\n",
       "      <th>24416046138</th>\n",
       "      <td>2010-09-13 17:21:37-04:00</td>\n",
       "      <td>39.942592</td>\n",
       "      <td>-75.157083</td>\n",
       "      <td>9.0</td>\n",
       "      <td>1.0</td>\n",
       "      <td>17.0</td>\n",
       "      <td>America/New_York</td>\n",
       "      <td>POINT (-75.15708 39.94259)</td>\n",
       "      <td>633</td>\n",
       "      <td>(610.0, 793.0]</td>\n",
       "      <td>other</td>\n",
       "    </tr>\n",
       "    <tr>\n",
       "      <th>14079762</th>\n",
       "      <th>0</th>\n",
       "      <th>13139351437320192</th>\n",
       "      <td>2010-12-10 08:54:00+01:00</td>\n",
       "      <td>59.647796</td>\n",
       "      <td>17.927005</td>\n",
       "      <td>12.0</td>\n",
       "      <td>5.0</td>\n",
       "      <td>8.0</td>\n",
       "      <td>Europe/Stockholm</td>\n",
       "      <td>POINT (17.92700 59.64780)</td>\n",
       "      <td>728</td>\n",
       "      <td>(610.0, 793.0]</td>\n",
       "      <td>other</td>\n",
       "    </tr>\n",
       "    <tr>\n",
       "      <th>...</th>\n",
       "      <th>...</th>\n",
       "      <th>...</th>\n",
       "      <td>...</td>\n",
       "      <td>...</td>\n",
       "      <td>...</td>\n",
       "      <td>...</td>\n",
       "      <td>...</td>\n",
       "      <td>...</td>\n",
       "      <td>...</td>\n",
       "      <td>...</td>\n",
       "      <td>...</td>\n",
       "      <td>...</td>\n",
       "      <td>...</td>\n",
       "    </tr>\n",
       "    <tr>\n",
       "      <th>196806894</th>\n",
       "      <th>0</th>\n",
       "      <th>19163773633822720</th>\n",
       "      <td>2010-12-26 23:52:54+01:00</td>\n",
       "      <td>59.336352</td>\n",
       "      <td>18.070837</td>\n",
       "      <td>12.0</td>\n",
       "      <td>0.0</td>\n",
       "      <td>23.0</td>\n",
       "      <td>Europe/Stockholm</td>\n",
       "      <td>POINT (18.07084 59.33635)</td>\n",
       "      <td>94</td>\n",
       "      <td>(4.999, 179.0]</td>\n",
       "      <td>other</td>\n",
       "    </tr>\n",
       "    <tr>\n",
       "      <th>205205058</th>\n",
       "      <th>0</th>\n",
       "      <th>22273571816472576</th>\n",
       "      <td>2011-01-04 13:50:08+01:00</td>\n",
       "      <td>59.421865</td>\n",
       "      <td>17.822526</td>\n",
       "      <td>1.0</td>\n",
       "      <td>2.0</td>\n",
       "      <td>13.0</td>\n",
       "      <td>Europe/Stockholm</td>\n",
       "      <td>POINT (17.82253 59.42187)</td>\n",
       "      <td>273</td>\n",
       "      <td>(179.0, 308.0]</td>\n",
       "      <td>home</td>\n",
       "    </tr>\n",
       "    <tr>\n",
       "      <th>206140202</th>\n",
       "      <th>0</th>\n",
       "      <th>29504228847</th>\n",
       "      <td>2010-11-02 21:51:07+01:00</td>\n",
       "      <td>59.384076</td>\n",
       "      <td>17.950455</td>\n",
       "      <td>11.0</td>\n",
       "      <td>2.0</td>\n",
       "      <td>21.0</td>\n",
       "      <td>Europe/Stockholm</td>\n",
       "      <td>POINT (17.95045 59.38408)</td>\n",
       "      <td>64</td>\n",
       "      <td>(4.999, 179.0]</td>\n",
       "      <td>other</td>\n",
       "    </tr>\n",
       "    <tr>\n",
       "      <th>219811652</th>\n",
       "      <th>0</th>\n",
       "      <th>12620556755009536</th>\n",
       "      <td>2010-12-08 22:32:29+01:00</td>\n",
       "      <td>59.294478</td>\n",
       "      <td>18.009614</td>\n",
       "      <td>12.0</td>\n",
       "      <td>3.0</td>\n",
       "      <td>22.0</td>\n",
       "      <td>Europe/Stockholm</td>\n",
       "      <td>POINT (18.00961 59.29448)</td>\n",
       "      <td>458</td>\n",
       "      <td>(452.0, 610.0]</td>\n",
       "      <td>other</td>\n",
       "    </tr>\n",
       "    <tr>\n",
       "      <th>230864185</th>\n",
       "      <th>0</th>\n",
       "      <th>23487190369570816</th>\n",
       "      <td>2011-01-07 22:12:37+01:00</td>\n",
       "      <td>56.518048</td>\n",
       "      <td>13.320191</td>\n",
       "      <td>1.0</td>\n",
       "      <td>5.0</td>\n",
       "      <td>22.0</td>\n",
       "      <td>Europe/Stockholm</td>\n",
       "      <td>POINT (13.32019 56.51805)</td>\n",
       "      <td>577</td>\n",
       "      <td>(452.0, 610.0]</td>\n",
       "      <td>other</td>\n",
       "    </tr>\n",
       "  </tbody>\n",
       "</table>\n",
       "<p>100 rows × 11 columns</p>\n",
       "</div>"
      ],
      "text/plain": [
       "                                                    createdat   latitude  \\\n",
       "userid    region tweetid                                                   \n",
       "5040331   0      24866699613        2010-09-18 19:31:21+02:00  59.338282   \n",
       "7877902   0      29074978474        2010-10-29 11:37:00+01:00  51.536198   \n",
       "8026912   0      25826524830        2010-09-29 00:34:07+02:00  59.313978   \n",
       "11773412  0      24416046138        2010-09-13 17:21:37-04:00  39.942592   \n",
       "14079762  0      13139351437320192  2010-12-10 08:54:00+01:00  59.647796   \n",
       "...                                                       ...        ...   \n",
       "196806894 0      19163773633822720  2010-12-26 23:52:54+01:00  59.336352   \n",
       "205205058 0      22273571816472576  2011-01-04 13:50:08+01:00  59.421865   \n",
       "206140202 0      29504228847        2010-11-02 21:51:07+01:00  59.384076   \n",
       "219811652 0      12620556755009536  2010-12-08 22:32:29+01:00  59.294478   \n",
       "230864185 0      23487190369570816  2011-01-07 22:12:37+01:00  56.518048   \n",
       "\n",
       "                                    longitude  month  weekday  hourofday  \\\n",
       "userid    region tweetid                                                   \n",
       "5040331   0      24866699613        18.057118    9.0      6.0       19.0   \n",
       "7877902   0      29074978474        -0.106064   10.0      5.0       11.0   \n",
       "8026912   0      25826524830        18.077409    9.0      3.0        0.0   \n",
       "11773412  0      24416046138       -75.157083    9.0      1.0       17.0   \n",
       "14079762  0      13139351437320192  17.927005   12.0      5.0        8.0   \n",
       "...                                       ...    ...      ...        ...   \n",
       "196806894 0      19163773633822720  18.070837   12.0      0.0       23.0   \n",
       "205205058 0      22273571816472576  17.822526    1.0      2.0       13.0   \n",
       "206140202 0      29504228847        17.950455   11.0      2.0       21.0   \n",
       "219811652 0      12620556755009536  18.009614   12.0      3.0       22.0   \n",
       "230864185 0      23487190369570816  13.320191    1.0      5.0       22.0   \n",
       "\n",
       "                                            timezone  \\\n",
       "userid    region tweetid                               \n",
       "5040331   0      24866699613        Europe/Stockholm   \n",
       "7877902   0      29074978474           Europe/London   \n",
       "8026912   0      25826524830        Europe/Stockholm   \n",
       "11773412  0      24416046138        America/New_York   \n",
       "14079762  0      13139351437320192  Europe/Stockholm   \n",
       "...                                              ...   \n",
       "196806894 0      19163773633822720  Europe/Stockholm   \n",
       "205205058 0      22273571816472576  Europe/Stockholm   \n",
       "206140202 0      29504228847        Europe/Stockholm   \n",
       "219811652 0      12620556755009536  Europe/Stockholm   \n",
       "230864185 0      23487190369570816  Europe/Stockholm   \n",
       "\n",
       "                                                      geometry  tweet_count  \\\n",
       "userid    region tweetid                                                      \n",
       "5040331   0      24866699613         POINT (18.05712 59.33828)         1223   \n",
       "7877902   0      29074978474         POINT (-0.10606 51.53620)          263   \n",
       "8026912   0      25826524830         POINT (18.07741 59.31398)           61   \n",
       "11773412  0      24416046138        POINT (-75.15708 39.94259)          633   \n",
       "14079762  0      13139351437320192   POINT (17.92700 59.64780)          728   \n",
       "...                                                        ...          ...   \n",
       "196806894 0      19163773633822720   POINT (18.07084 59.33635)           94   \n",
       "205205058 0      22273571816472576   POINT (17.82253 59.42187)          273   \n",
       "206140202 0      29504228847         POINT (17.95045 59.38408)           64   \n",
       "219811652 0      12620556755009536   POINT (18.00961 59.29448)          458   \n",
       "230864185 0      23487190369570816   POINT (13.32019 56.51805)          577   \n",
       "\n",
       "                                            quantile  label  \n",
       "userid    region tweetid                                     \n",
       "5040331   0      24866699613        (1052.0, 1401.0]  other  \n",
       "7877902   0      29074978474          (179.0, 308.0]  other  \n",
       "8026912   0      25826524830          (4.999, 179.0]  other  \n",
       "11773412  0      24416046138          (610.0, 793.0]  other  \n",
       "14079762  0      13139351437320192    (610.0, 793.0]  other  \n",
       "...                                              ...    ...  \n",
       "196806894 0      19163773633822720    (4.999, 179.0]  other  \n",
       "205205058 0      22273571816472576    (179.0, 308.0]   home  \n",
       "206140202 0      29504228847          (4.999, 179.0]  other  \n",
       "219811652 0      12620556755009536    (452.0, 610.0]  other  \n",
       "230864185 0      23487190369570816    (452.0, 610.0]  other  \n",
       "\n",
       "[100 rows x 11 columns]"
      ]
     },
     "execution_count": 826,
     "metadata": {},
     "output_type": "execute_result"
    }
   ],
   "source": [
    "regions_subset_work.groupby(['userid']).head(1)"
   ]
  },
  {
   "cell_type": "code",
   "execution_count": 800,
   "metadata": {},
   "outputs": [
    {
     "data": {
      "text/html": [
       "        <script type=\"text/javascript\">\n",
       "        window.PlotlyConfig = {MathJaxConfig: 'local'};\n",
       "        if (window.MathJax) {MathJax.Hub.Config({SVG: {font: \"STIX-Web\"}});}\n",
       "        if (typeof require !== 'undefined') {\n",
       "        require.undef(\"plotly\");\n",
       "        requirejs.config({\n",
       "            paths: {\n",
       "                'plotly': ['https://cdn.plot.ly/plotly-latest.min']\n",
       "            }\n",
       "        });\n",
       "        require(['plotly'], function(Plotly) {\n",
       "            window._Plotly = Plotly;\n",
       "        });\n",
       "        }\n",
       "        </script>\n",
       "        "
      ]
     },
     "metadata": {},
     "output_type": "display_data"
    }
   ],
   "source": [
    "plotly.offline.init_notebook_mode(connected=True)"
   ]
  },
  {
   "cell_type": "markdown",
   "metadata": {},
   "source": [
    "230864185 = 59.40302, 17.95698\n"
   ]
  },
  {
   "cell_type": "code",
   "execution_count": 822,
   "metadata": {},
   "outputs": [
    {
     "data": {
      "application/vnd.plotly.v1+json": {
       "config": {
        "plotlyServerURL": "https://plot.ly"
       },
       "data": [
        {
         "customdata": [
          [
           22,
           5,
           0
          ],
          [
           14,
           1,
           0
          ],
          [
           19,
           6,
           1
          ],
          [
           12,
           0,
           1
          ],
          [
           16,
           4,
           3
          ],
          [
           16,
           4,
           3
          ],
          [
           13,
           6,
           5
          ],
          [
           12,
           4,
           6
          ],
          [
           8,
           4,
           6
          ],
          [
           22,
           5,
           7
          ],
          [
           16,
           0,
           8
          ],
          [
           8,
           2,
           9
          ],
          [
           16,
           3,
           10
          ],
          [
           8,
           5,
           11
          ],
          [
           21,
           6,
           12
          ],
          [
           15,
           6,
           13
          ],
          [
           16,
           6,
           14
          ],
          [
           17,
           1,
           15
          ],
          [
           17,
           2,
           15
          ],
          [
           17,
           2,
           16
          ],
          [
           18,
           5,
           17
          ],
          [
           14,
           0,
           18
          ],
          [
           16,
           0,
           18
          ],
          [
           11,
           3,
           19
          ],
          [
           13,
           3,
           20
          ],
          [
           6,
           0,
           20
          ],
          [
           9,
           2,
           20
          ],
          [
           9,
           2,
           20
          ],
          [
           6,
           6,
           20
          ],
          [
           9,
           3,
           20
          ],
          [
           15,
           3,
           21
          ],
          [
           20,
           5,
           22
          ],
          [
           20,
           5,
           23
          ],
          [
           14,
           0,
           24
          ],
          [
           18,
           6,
           24
          ],
          [
           5,
           3,
           25
          ],
          [
           5,
           0,
           25
          ],
          [
           9,
           2,
           25
          ],
          [
           6,
           6,
           25
          ],
          [
           11,
           0,
           25
          ],
          [
           9,
           0,
           25
          ],
          [
           19,
           6,
           25
          ],
          [
           6,
           6,
           26
          ],
          [
           6,
           6,
           26
          ],
          [
           13,
           1,
           27
          ],
          [
           20,
           6,
           28
          ],
          [
           14,
           3,
           28
          ],
          [
           11,
           5,
           28
          ],
          [
           21,
           4,
           29
          ],
          [
           20,
           0,
           30
          ],
          [
           20,
           0,
           30
          ],
          [
           16,
           5,
           31
          ],
          [
           17,
           5,
           31
          ],
          [
           9,
           2,
           31
          ],
          [
           21,
           6,
           32
          ],
          [
           21,
           6,
           33
          ],
          [
           21,
           6,
           34
          ],
          [
           19,
           4,
           35
          ],
          [
           16,
           0,
           35
          ],
          [
           17,
           1,
           36
          ],
          [
           13,
           2,
           37
          ],
          [
           18,
           2,
           37
          ],
          [
           18,
           2,
           37
          ],
          [
           18,
           2,
           37
          ],
          [
           4,
           0,
           37
          ],
          [
           20,
           3,
           38
          ],
          [
           14,
           5,
           38
          ],
          [
           10,
           6,
           39
          ],
          [
           19,
           4,
           39
          ],
          [
           9,
           5,
           40
          ],
          [
           13,
           5,
           40
          ],
          [
           12,
           0,
           40
          ],
          [
           12,
           0,
           40
          ],
          [
           15,
           3,
           40
          ],
          [
           12,
           3,
           40
          ],
          [
           14,
           0,
           40
          ],
          [
           19,
           0,
           40
          ],
          [
           20,
           2,
           40
          ],
          [
           18,
           3,
           40
          ],
          [
           15,
           2,
           40
          ],
          [
           20,
           0,
           40
          ],
          [
           17,
           0,
           40
          ],
          [
           17,
           0,
           40
          ],
          [
           13,
           5,
           41
          ],
          [
           13,
           6,
           42
          ],
          [
           13,
           1,
           43
          ],
          [
           18,
           1,
           43
          ],
          [
           21,
           3,
           44
          ],
          [
           15,
           5,
           45
          ],
          [
           20,
           4,
           45
          ],
          [
           18,
           2,
           45
          ],
          [
           20,
           3,
           45
          ],
          [
           21,
           2,
           45
          ],
          [
           19,
           2,
           45
          ],
          [
           0,
           4,
           45
          ],
          [
           18,
           0,
           45
          ],
          [
           18,
           4,
           45
          ],
          [
           21,
           4,
           45
          ],
          [
           16,
           4,
           45
          ],
          [
           21,
           4,
           45
          ],
          [
           12,
           0,
           45
          ],
          [
           7,
           5,
           46
          ],
          [
           8,
           5,
           47
          ],
          [
           9,
           5,
           48
          ],
          [
           17,
           5,
           49
          ],
          [
           17,
           5,
           50
          ],
          [
           22,
           1,
           51
          ],
          [
           12,
           5,
           52
          ],
          [
           12,
           5,
           52
          ],
          [
           12,
           1,
           52
          ],
          [
           14,
           6,
           53
          ],
          [
           13,
           0,
           53
          ],
          [
           21,
           4,
           53
          ],
          [
           14,
           6,
           54
          ],
          [
           14,
           1,
           55
          ],
          [
           16,
           0,
           55
          ],
          [
           15,
           5,
           56
          ],
          [
           18,
           0,
           56
          ],
          [
           18,
           0,
           56
          ],
          [
           16,
           4,
           57
          ],
          [
           17,
           3,
           57
          ],
          [
           22,
           4,
           58
          ],
          [
           20,
           5,
           58
          ],
          [
           14,
           4,
           59
          ],
          [
           6,
           1,
           60
          ],
          [
           20,
           5,
           60
          ],
          [
           15,
           4,
           61
          ],
          [
           21,
           6,
           62
          ],
          [
           18,
           4,
           63
          ],
          [
           16,
           6,
           64
          ],
          [
           13,
           6,
           65
          ],
          [
           20,
           0,
           66
          ],
          [
           16,
           3,
           67
          ],
          [
           16,
           5,
           68
          ],
          [
           16,
           0,
           68
          ],
          [
           23,
           6,
           68
          ],
          [
           13,
           6,
           68
          ],
          [
           18,
           3,
           69
          ],
          [
           19,
           0,
           70
          ],
          [
           21,
           5,
           71
          ],
          [
           14,
           5,
           72
          ],
          [
           13,
           2,
           73
          ],
          [
           14,
           6,
           74
          ],
          [
           21,
           6,
           75
          ],
          [
           21,
           0,
           76
          ],
          [
           18,
           5,
           76
          ],
          [
           13,
           6,
           77
          ],
          [
           13,
           6,
           78
          ],
          [
           15,
           3,
           78
          ],
          [
           15,
           4,
           78
          ],
          [
           13,
           6,
           78
          ],
          [
           11,
           0,
           78
          ],
          [
           14,
           5,
           78
          ],
          [
           15,
           3,
           78
          ],
          [
           11,
           6,
           79
          ],
          [
           21,
           0,
           80
          ],
          [
           7,
           1,
           81
          ],
          [
           20,
           3,
           82
          ],
          [
           11,
           0,
           83
          ],
          [
           16,
           6,
           83
          ],
          [
           22,
           4,
           83
          ],
          [
           11,
           0,
           84
          ],
          [
           16,
           0,
           84
          ],
          [
           22,
           2,
           85
          ],
          [
           19,
           6,
           85
          ],
          [
           17,
           3,
           85
          ],
          [
           13,
           5,
           85
          ],
          [
           22,
           1,
           85
          ],
          [
           11,
           5,
           86
          ],
          [
           18,
           6,
           86
          ],
          [
           16,
           6,
           86
          ],
          [
           15,
           1,
           87
          ],
          [
           0,
           5,
           88
          ],
          [
           21,
           2,
           89
          ],
          [
           19,
           2,
           90
          ],
          [
           16,
           6,
           91
          ],
          [
           18,
           6,
           91
          ],
          [
           18,
           6,
           91
          ],
          [
           17,
           6,
           91
          ],
          [
           7,
           3,
           92
          ],
          [
           15,
           3,
           92
          ],
          [
           9,
           6,
           93
          ],
          [
           18,
           2,
           93
          ],
          [
           18,
           2,
           93
          ],
          [
           21,
           1,
           93
          ],
          [
           13,
           0,
           93
          ],
          [
           14,
           0,
           93
          ],
          [
           22,
           6,
           93
          ],
          [
           0,
           0,
           93
          ],
          [
           16,
           6,
           94
          ],
          [
           16,
           6,
           95
          ],
          [
           15,
           0,
           96
          ],
          [
           18,
           0,
           96
          ],
          [
           11,
           3,
           96
          ],
          [
           23,
           5,
           97
          ],
          [
           21,
           4,
           98
          ],
          [
           12,
           0,
           98
          ],
          [
           22,
           4,
           99
          ],
          [
           18,
           1,
           100
          ],
          [
           15,
           6,
           100
          ],
          [
           12,
           3,
           100
          ],
          [
           20,
           4,
           101
          ],
          [
           17,
           3,
           101
          ],
          [
           19,
           3,
           101
          ],
          [
           19,
           4,
           101
          ],
          [
           22,
           5,
           102
          ],
          [
           0,
           5,
           103
          ],
          [
           0,
           5,
           104
          ],
          [
           13,
           0,
           105
          ],
          [
           18,
           3,
           105
          ],
          [
           18,
           3,
           105
          ],
          [
           13,
           4,
           105
          ],
          [
           18,
           3,
           105
          ],
          [
           22,
           2,
           106
          ],
          [
           20,
           2,
           107
          ],
          [
           21,
           5,
           108
          ],
          [
           21,
           5,
           108
          ],
          [
           12,
           6,
           109
          ],
          [
           16,
           6,
           110
          ],
          [
           0,
           0,
           111
          ],
          [
           13,
           0,
           111
          ],
          [
           20,
           0,
           112
          ],
          [
           21,
           0,
           113
          ],
          [
           19,
           3,
           114
          ],
          [
           22,
           5,
           115
          ],
          [
           7,
           1,
           115
          ],
          [
           19,
           1,
           115
          ],
          [
           19,
           6,
           116
          ],
          [
           22,
           6,
           116
          ],
          [
           22,
           6,
           116
          ],
          [
           22,
           6,
           116
          ],
          [
           16,
           2,
           117
          ],
          [
           8,
           4,
           118
          ],
          [
           16,
           0,
           119
          ],
          [
           15,
           5,
           120
          ],
          [
           7,
           4,
           120
          ],
          [
           21,
           1,
           121
          ],
          [
           17,
           5,
           121
          ],
          [
           21,
           1,
           122
          ],
          [
           18,
           2,
           123
          ],
          [
           23,
           5,
           124
          ],
          [
           10,
           4,
           125
          ],
          [
           14,
           6,
           126
          ],
          [
           19,
           0,
           126
          ],
          [
           21,
           6,
           127
          ],
          [
           18,
           0,
           127
          ],
          [
           23,
           5,
           128
          ],
          [
           23,
           5,
           129
          ],
          [
           23,
           5,
           130
          ],
          [
           18,
           5,
           131
          ],
          [
           13,
           5,
           131
          ],
          [
           20,
           2,
           132
          ],
          [
           15,
           3,
           133
          ],
          [
           15,
           5,
           134
          ],
          [
           21,
           1,
           135
          ],
          [
           15,
           6,
           135
          ],
          [
           0,
           6,
           136
          ],
          [
           19,
           6,
           137
          ],
          [
           17,
           0,
           138
          ],
          [
           21,
           2,
           139
          ],
          [
           18,
           1,
           140
          ],
          [
           20,
           4,
           141
          ],
          [
           18,
           5,
           142
          ],
          [
           20,
           5,
           143
          ],
          [
           16,
           6,
           144
          ],
          [
           20,
           6,
           145
          ],
          [
           22,
           6,
           146
          ],
          [
           20,
           0,
           147
          ],
          [
           12,
           1,
           148
          ],
          [
           21,
           4,
           149
          ],
          [
           16,
           5,
           150
          ],
          [
           22,
           1,
           150
          ],
          [
           18,
           1,
           151
          ],
          [
           20,
           6,
           152
          ],
          [
           20,
           0,
           152
          ],
          [
           23,
           6,
           153
          ],
          [
           19,
           0,
           154
          ],
          [
           23,
           6,
           155
          ],
          [
           13,
           6,
           155
          ],
          [
           16,
           6,
           156
          ],
          [
           15,
           5,
           157
          ],
          [
           19,
           6,
           157
          ],
          [
           19,
           0,
           158
          ],
          [
           15,
           1,
           159
          ],
          [
           16,
           6,
           159
          ],
          [
           16,
           0,
           160
          ],
          [
           0,
           6,
           161
          ],
          [
           0,
           6,
           161
          ],
          [
           19,
           5,
           162
          ],
          [
           14,
           6,
           163
          ],
          [
           15,
           6,
           163
          ],
          [
           16,
           6,
           163
          ],
          [
           21,
           6,
           164
          ],
          [
           19,
           6,
           164
          ],
          [
           13,
           6,
           164
          ],
          [
           16,
           0,
           165
          ],
          [
           16,
           0,
           165
          ],
          [
           18,
           0,
           166
          ],
          [
           14,
           2,
           166
          ],
          [
           16,
           6,
           166
          ],
          [
           15,
           0,
           166
          ],
          [
           16,
           0,
           166
          ],
          [
           16,
           5,
           167
          ],
          [
           17,
           2,
           168
          ],
          [
           23,
           5,
           169
          ],
          [
           23,
           6,
           169
          ],
          [
           21,
           6,
           169
          ],
          [
           21,
           1,
           170
          ],
          [
           19,
           2,
           171
          ],
          [
           17,
           0,
           172
          ],
          [
           23,
           1,
           173
          ],
          [
           12,
           6,
           174
          ],
          [
           18,
           5,
           175
          ],
          [
           19,
           6,
           175
          ],
          [
           22,
           6,
           175
          ],
          [
           20,
           3,
           176
          ],
          [
           18,
           6,
           177
          ],
          [
           9,
           1,
           177
          ],
          [
           21,
           0,
           177
          ],
          [
           0,
           0,
           177
          ],
          [
           22,
           6,
           178
          ],
          [
           23,
           6,
           178
          ],
          [
           1,
           3,
           179
          ],
          [
           20,
           3,
           179
          ],
          [
           21,
           6,
           180
          ],
          [
           18,
           0,
           181
          ],
          [
           11,
           3,
           182
          ],
          [
           13,
           2,
           182
          ],
          [
           14,
           3,
           183
          ],
          [
           18,
           3,
           184
          ],
          [
           0,
           4,
           185
          ],
          [
           0,
           4,
           185
          ],
          [
           21,
           4,
           186
          ],
          [
           23,
           5,
           187
          ],
          [
           23,
           5,
           188
          ],
          [
           23,
           5,
           189
          ],
          [
           22,
           6,
           190
          ],
          [
           23,
           0,
           191
          ],
          [
           23,
           0,
           192
          ],
          [
           23,
           0,
           193
          ],
          [
           22,
           1,
           194
          ],
          [
           22,
           1,
           194
          ],
          [
           16,
           2,
           195
          ],
          [
           23,
           2,
           196
          ],
          [
           23,
           2,
           197
          ],
          [
           23,
           2,
           198
          ],
          [
           15,
           0,
           199
          ],
          [
           18,
           1,
           200
          ],
          [
           23,
           3,
           200
          ],
          [
           22,
           2,
           201
          ],
          [
           22,
           2,
           202
          ],
          [
           20,
           5,
           203
          ],
          [
           20,
           5,
           204
          ],
          [
           13,
           1,
           205
          ],
          [
           18,
           5,
           205
          ],
          [
           14,
           3,
           206
          ],
          [
           14,
           3,
           206
          ],
          [
           19,
           3,
           206
          ],
          [
           19,
           2,
           207
          ],
          [
           22,
           6,
           208
          ],
          [
           18,
           2,
           208
          ],
          [
           18,
           2,
           209
          ],
          [
           23,
           1,
           210
          ],
          [
           11,
           6,
           211
          ],
          [
           21,
           5,
           211
          ],
          [
           20,
           6,
           211
          ],
          [
           21,
           6,
           212
          ],
          [
           11,
           0,
           213
          ],
          [
           23,
           6,
           214
          ],
          [
           18,
           5,
           215
          ],
          [
           22,
           5,
           216
          ],
          [
           20,
           0,
           216
          ],
          [
           17,
           0,
           217
          ],
          [
           15,
           4,
           218
          ],
          [
           18,
           6,
           219
          ],
          [
           20,
           0,
           219
          ],
          [
           15,
           6,
           220
          ],
          [
           16,
           0,
           220
          ],
          [
           18,
           4,
           220
          ],
          [
           22,
           2,
           221
          ],
          [
           15,
           6,
           221
          ],
          [
           14,
           6,
           222
          ],
          [
           14,
           4,
           223
          ],
          [
           13,
           2,
           223
          ],
          [
           13,
           6,
           224
          ],
          [
           23,
           6,
           224
          ],
          [
           23,
           6,
           224
          ],
          [
           21,
           5,
           225
          ],
          [
           23,
           5,
           226
          ],
          [
           15,
           6,
           227
          ],
          [
           15,
           0,
           228
          ],
          [
           12,
           6,
           229
          ],
          [
           21,
           0,
           230
          ],
          [
           23,
           4,
           231
          ],
          [
           21,
           0,
           232
          ],
          [
           0,
           3,
           232
          ],
          [
           19,
           1,
           233
          ],
          [
           23,
           1,
           234
          ],
          [
           9,
           2,
           235
          ],
          [
           9,
           3,
           236
          ],
          [
           12,
           3,
           237
          ],
          [
           18,
           3,
           238
          ],
          [
           5,
           4,
           239
          ],
          [
           15,
           4,
           240
          ],
          [
           23,
           5,
           241
          ],
          [
           10,
           5,
           242
          ],
          [
           16,
           0,
           243
          ],
          [
           21,
           3,
           244
          ],
          [
           21,
           6,
           244
          ],
          [
           23,
           5,
           244
          ],
          [
           19,
           6,
           245
          ],
          [
           18,
           0,
           246
          ],
          [
           21,
           0,
           246
          ],
          [
           20,
           5,
           247
          ],
          [
           21,
           5,
           247
          ],
          [
           20,
           6,
           247
          ],
          [
           15,
           6,
           248
          ],
          [
           6,
           0,
           248
          ],
          [
           7,
           1,
           249
          ],
          [
           12,
           1,
           250
          ],
          [
           22,
           1,
           251
          ],
          [
           9,
           2,
           252
          ],
          [
           22,
           3,
           253
          ],
          [
           23,
           3,
           254
          ],
          [
           23,
           3,
           255
          ],
          [
           23,
           3,
           256
          ],
          [
           7,
           4,
           257
          ],
          [
           12,
           0,
           258
          ],
          [
           13,
           0,
           259
          ],
          [
           21,
           4,
           260
          ],
          [
           22,
           6,
           260
          ],
          [
           17,
           5,
           261
          ],
          [
           22,
           6,
           262
          ],
          [
           10,
           6,
           263
          ],
          [
           15,
           6,
           264
          ],
          [
           13,
           0,
           265
          ],
          [
           18,
           4,
           266
          ],
          [
           8,
           6,
           267
          ],
          [
           11,
           6,
           268
          ],
          [
           21,
           6,
           269
          ],
          [
           14,
           1,
           270
          ],
          [
           14,
           2,
           270
          ],
          [
           23,
           3,
           271
          ],
          [
           16,
           5,
           272
          ],
          [
           14,
           3,
           273
          ],
          [
           0,
           3,
           274
          ],
          [
           15,
           1,
           275
          ],
          [
           8,
           2,
           276
          ],
          [
           19,
           6,
           277
          ],
          [
           20,
           6,
           278
          ],
          [
           17,
           0,
           279
          ],
          [
           15,
           6,
           280
          ],
          [
           23,
           5,
           281
          ],
          [
           19,
           0,
           281
          ],
          [
           14,
           0,
           282
          ],
          [
           12,
           6,
           283
          ],
          [
           11,
           1,
           284
          ],
          [
           20,
           6,
           285
          ],
          [
           22,
           6,
           285
          ],
          [
           9,
           6,
           285
          ],
          [
           20,
           1,
           286
          ],
          [
           20,
           4,
           287
          ],
          [
           19,
           5,
           288
          ],
          [
           19,
           0,
           289
          ],
          [
           1,
           0,
           290
          ],
          [
           0,
           6,
           291
          ],
          [
           19,
           6,
           292
          ],
          [
           19,
           6,
           293
          ],
          [
           10,
           0,
           294
          ],
          [
           12,
           6,
           294
          ],
          [
           20,
           3,
           294
          ],
          [
           11,
           2,
           295
          ],
          [
           14,
           0,
           296
          ],
          [
           18,
           0,
           297
          ],
          [
           12,
           0,
           298
          ],
          [
           11,
           6,
           298
          ],
          [
           21,
           2,
           299
          ],
          [
           15,
           0,
           300
          ],
          [
           17,
           3,
           301
          ],
          [
           15,
           5,
           301
          ],
          [
           9,
           4,
           302
          ],
          [
           6,
           5,
           303
          ],
          [
           20,
           5,
           304
          ],
          [
           18,
           6,
           305
          ],
          [
           10,
           3,
           306
          ],
          [
           10,
           3,
           307
          ],
          [
           23,
           0,
           308
          ],
          [
           19,
           4,
           309
          ],
          [
           23,
           4,
           310
          ],
          [
           13,
           6,
           311
          ],
          [
           20,
           0,
           312
          ],
          [
           22,
           6,
           313
          ],
          [
           18,
           0,
           314
          ],
          [
           21,
           0,
           315
          ],
          [
           16,
           6,
           316
          ],
          [
           12,
           0,
           316
          ],
          [
           0,
           1,
           317
          ],
          [
           16,
           2,
           318
          ],
          [
           19,
           2,
           319
          ],
          [
           23,
           4,
           320
          ],
          [
           18,
           0,
           321
          ],
          [
           13,
           0,
           322
          ],
          [
           22,
           6,
           323
          ],
          [
           13,
           1,
           324
          ],
          [
           14,
           2,
           325
          ],
          [
           19,
           5,
           326
          ],
          [
           12,
           0,
           327
          ],
          [
           16,
           5,
           328
          ],
          [
           12,
           0,
           329
          ],
          [
           19,
           2,
           330
          ],
          [
           18,
           3,
           331
          ],
          [
           22,
           5,
           332
          ],
          [
           7,
           6,
           333
          ],
          [
           13,
           0,
           334
          ],
          [
           14,
           6,
           335
          ],
          [
           14,
           0,
           336
          ],
          [
           16,
           0,
           337
          ],
          [
           16,
           6,
           338
          ]
         ],
         "hoverlabel": {
          "namelength": 0
         },
         "hovertemplate": "label=other<br>hourofday=%{customdata[0]}<br>weekday=%{customdata[1]}<br>region=%{customdata[2]}<br>latitude=%{lat}<br>longitude=%{lon}",
         "lat": [
          56.518048,
          56.518526,
          56.515145,
          56.514978,
          59.334855000000005,
          59.334855000000005,
          59.328835,
          59.403558,
          59.40308,
          59.352837,
          59.335067,
          59.340799,
          59.378184,
          59.346113,
          59.344831000000006,
          59.332826000000004,
          59.336301,
          59.388926,
          59.388926,
          59.366555000000005,
          59.334334,
          59.333746999999995,
          59.333298,
          59.339781,
          59.65280500000001,
          59.65280500000001,
          59.65294300000001,
          59.65280500000001,
          59.652522999999995,
          59.6525,
          59.649685,
          59.651846,
          59.55901,
          59.338513,
          59.339209,
          59.651557999999994,
          59.651557999999994,
          59.651557999999994,
          59.651557999999994,
          59.650913,
          59.650913,
          59.651228,
          59.33806,
          59.337687,
          59.650051,
          59.32924499999999,
          59.329595,
          59.32895500000001,
          -1.330514,
          59.646428,
          59.646428,
          59.347280000000005,
          59.346759999999996,
          59.347372,
          59.344069999999995,
          59.336946999999995,
          59.336528,
          59.32494200000001,
          59.324861999999996,
          59.389025,
          48.120009,
          48.119909,
          48.120296999999994,
          48.12035,
          48.120267999999996,
          25.076961999999998,
          25.077142000000002,
          25.078402,
          25.07923,
          56.516118000000006,
          56.516118000000006,
          56.51599100000001,
          56.516121,
          56.516123,
          56.516217000000005,
          56.51603000000001,
          56.516107999999996,
          56.516422,
          56.516085,
          56.516268000000004,
          56.516281000000006,
          56.516234,
          56.516206000000004,
          56.510026,
          56.2582,
          57.996527,
          57.996591,
          59.341409999999996,
          59.500730000000004,
          59.500730000000004,
          59.500827,
          59.50028100000001,
          59.500774,
          59.500774,
          59.500774,
          59.500774,
          59.500747,
          59.50090600000001,
          59.500747,
          59.500851000000004,
          59.500747,
          59.259671,
          58.748107,
          58.602492000000005,
          58.66941800000001,
          58.668717,
          59.346615,
          59.42259,
          59.42181899999999,
          59.421986,
          59.581103000000006,
          59.581103000000006,
          59.581103000000006,
          56.462141,
          55.707353000000005,
          55.706523,
          59.401829000000006,
          59.402048,
          59.402048,
          59.49159399999999,
          59.49159399999999,
          59.318329000000006,
          59.318406,
          59.340121999999994,
          59.647796,
          59.647837,
          56.428989,
          56.438867,
          56.287262,
          58.784774,
          44.113471000000004,
          59.329358,
          59.293526,
          59.336188,
          59.336124,
          59.336679000000004,
          59.336268000000004,
          25.078554,
          56.15846,
          59.340771999999994,
          56.886276,
          59.40294399999999,
          59.29715699999999,
          59.330776,
          59.329547,
          59.329547,
          56.484967000000005,
          56.547766,
          56.547766,
          56.547766,
          56.547766,
          56.547771999999995,
          56.547766,
          56.547766,
          55.617006999999994,
          55.607969,
          55.39054,
          59.647445,
          59.414274,
          59.414274,
          59.41439200000001,
          59.417237,
          59.417215,
          56.519488,
          56.519488,
          56.519612,
          56.519612,
          56.519612,
          56.504126,
          56.504126,
          56.504126,
          56.544212,
          58.750613,
          59.414190000000005,
          59.51680699999999,
          59.407628,
          59.407628,
          59.407628,
          59.407449,
          59.276208999999994,
          59.276208999999994,
          59.342662,
          59.342662,
          59.342662,
          59.342662,
          59.342662,
          59.342662,
          59.342662,
          59.342662,
          55.626606,
          55.67825799999999,
          55.608633,
          55.60921999999999,
          55.608959999999996,
          56.568117,
          59.313887,
          59.313651,
          59.343011,
          59.332758999999996,
          59.33274300000001,
          59.332789,
          59.343208999999995,
          59.343194,
          59.343164,
          59.343295,
          55.512257,
          48.210282,
          48.210651,
          55.679938,
          55.679981000000005,
          55.679981000000005,
          55.680213,
          55.679687,
          55.67388199999999,
          57.64675,
          55.59174599999999,
          55.591715,
          55.612341,
          55.610896999999994,
          55.613277000000004,
          55.613292,
          58.980917000000005,
          59.163838,
          59.315957999999995,
          55.540777,
          55.540418,
          55.540418,
          55.677073,
          55.677153000000004,
          55.677131,
          55.677137,
          59.343989,
          59.331614,
          55.60372099999999,
          59.401832999999996,
          59.401543000000004,
          59.347683999999994,
          59.346847,
          59.342462,
          58.262214,
          35.171135,
          59.372654000000004,
          59.358943000000004,
          59.359161,
          59.459568999999995,
          59.459272,
          60.376366000000004,
          60.166321999999994,
          60.380566,
          56.459384,
          56.459711999999996,
          59.500618,
          59.601527000000004,
          59.41348299999999,
          59.581465,
          59.581480000000006,
          55.592018,
          55.96935799999999,
          55.814679000000005,
          59.339016,
          59.489723,
          55.602114,
          55.596396,
          55.597046999999996,
          55.724306999999996,
          55.5872,
          55.588226,
          55.641794999999995,
          55.587571999999994,
          56.536692,
          56.468045,
          56.468045,
          56.27101999999999,
          55.67205,
          55.67205,
          55.668471,
          55.670922,
          59.332467,
          59.33331999999999,
          55.681557,
          55.628443999999995,
          55.62868,
          59.460891000000004,
          59.376675,
          59.376675,
          59.21758199999999,
          59.340502,
          59.340481999999994,
          59.31796800000001,
          56.512657,
          56.512657,
          56.512657,
          59.35300600000001,
          59.352996999999995,
          59.353003,
          59.305496,
          59.30556899999999,
          59.340419,
          59.340458,
          59.3403,
          59.34026,
          59.340056999999995,
          59.270927,
          59.689758999999995,
          59.33857,
          59.338636,
          59.338409,
          59.323193,
          59.344905000000004,
          59.404222999999995,
          59.49124499999999,
          59.197729,
          59.452273999999996,
          59.452273999999996,
          59.452273999999996,
          59.410429,
          59.347489,
          59.347489,
          59.347522,
          59.347485999999996,
          59.34626,
          59.34621,
          59.34765600000001,
          59.347683999999994,
          57.793417000000005,
          57.887135,
          59.644825,
          59.644346999999996,
          48.119313,
          48.15,
          47.498889,
          47.498889,
          47.686916,
          47.619793,
          48.206634,
          47.8016,
          48.211117,
          47.908864,
          48.394076,
          48.410438,
          47.738131,
          47.738131,
          47.630624,
          47.804574,
          47.795134999999995,
          47.805556,
          56.516674,
          56.519978,
          56.519943000000005,
          55.71076899999999,
          55.708349,
          56.033848,
          56.032164,
          56.5333,
          56.5333,
          56.568461,
          56.568461,
          56.568038,
          59.511931999999995,
          59.35634,
          59.35634,
          59.59686800000001,
          59.319584,
          59.391916,
          59.391916,
          59.392075,
          59.33704,
          59.315899,
          59.33641899999999,
          59.34522,
          59.33430799999999,
          59.33430799999999,
          59.362203,
          59.283103000000004,
          55.6667,
          55.6667,
          59.32395,
          59.324043,
          59.324043,
          59.337052,
          59.337241000000006,
          59.338506,
          59.342488,
          59.342412,
          60.391373,
          60.391553,
          60.391553,
          59.33684,
          59.337649,
          59.33441,
          59.322483999999996,
          59.300098999999996,
          60.618624,
          59.343676,
          45.378534,
          45.378529,
          45.4167,
          45.377865,
          45.338113,
          45.369091,
          45.396663000000004,
          45.383249,
          45.321837,
          45.4167,
          45.297353,
          59.389982999999994,
          59.615292000000004,
          59.313313,
          59.311918000000006,
          59.312476000000004,
          59.318835,
          59.330224,
          59.330631999999994,
          59.312211,
          59.311525,
          59.31229200000001,
          48.353968,
          48.353968,
          43.31552,
          43.314136,
          42.673046,
          42.664547999999996,
          41.898827000000004,
          42.648132000000004,
          42.393482,
          42.649107,
          41.796592,
          59.404784,
          59.407491,
          59.31694,
          59.317482,
          59.314018000000004,
          59.355906000000004,
          59.310643000000006,
          59.472767000000005,
          59.36630400000001,
          59.346251,
          59.393638,
          55.7,
          55.724835,
          57.134190000000004,
          57.134799,
          59.331843000000006,
          59.392571,
          59.319396999999995,
          59.370953,
          55.605192,
          55.592048,
          59.338263,
          59.330256999999996,
          59.332840000000004,
          59.312243,
          59.31435,
          59.31435,
          59.303977,
          59.318275,
          59.40609,
          59.345020999999996,
          59.34489,
          59.344613,
          19.296545000000002,
          19.431467,
          19.443123,
          59.325,
          59.496871999999996,
          59.484143,
          48.194909,
          56.51105,
          59.302032999999994,
          59.301522,
          59.301522,
          59.35946,
          59.346509,
          55.67306899999999,
          59.346111,
          59.346111,
          59.358853,
          59.394501,
          32.898162,
          32.897659000000004,
          20.721076,
          20.616667,
          20.857716,
          20.677682,
          20.636272,
          20.63779,
          57.79491899999999,
          61.826783,
          63.400220999999995,
          63.400815,
          60.557342000000006,
          49.00716,
          -26.105419,
          -26.106872,
          59.340498,
          59.34056700000001,
          56.521536,
          52.309315999999995,
          49.004684999999995,
          33.990473,
          59.318526,
          59.336209,
          59.325814,
          59.30664300000001,
          56.285442,
          59.313522,
          55.704075,
          59.340775,
          59.339099,
          25.086269,
          39.570908,
          56.504167,
          59.339713,
          59.308634999999995,
          56.514270999999994,
          55.646046,
          59.32929300000001,
          59.344487
         ],
         "legendgroup": "other",
         "lon": [
          13.320191000000001,
          13.319934,
          13.328798999999998,
          13.329405,
          17.991395999999998,
          17.991395999999998,
          18.055155,
          17.949796,
          17.948417000000003,
          17.955825,
          18.03139,
          18.014271,
          17.929849,
          18.014355,
          17.996825,
          18.001157,
          18.02788,
          17.961932,
          17.961932,
          17.986595,
          17.978678,
          18.043532,
          18.04215,
          18.039406,
          17.929575,
          17.929575,
          17.930698,
          17.929575,
          17.930717,
          17.930141,
          17.934247,
          17.934686,
          17.898338,
          18.06824,
          18.068007,
          17.930224,
          17.930224,
          17.930224,
          17.930224,
          17.930574,
          17.930574,
          17.930029,
          17.995303,
          17.996493,
          17.932261999999998,
          17.974266,
          17.974522,
          17.973633,
          36.925005999999996,
          17.937795,
          17.937795,
          17.958644,
          17.959456,
          17.957805,
          18.000826,
          17.959726999999997,
          17.957642,
          18.068185999999997,
          18.068209,
          17.946377,
          16.561259,
          16.560881,
          16.561193,
          16.56109,
          16.56189,
          55.140151,
          55.140665000000006,
          55.14074,
          55.141073,
          13.319137,
          13.319137,
          13.318739,
          13.319025,
          13.319416,
          13.319227,
          13.319194,
          13.319,
          13.319207999999998,
          13.319038,
          13.319539,
          13.319220999999999,
          13.319253,
          13.319241,
          13.036959,
          12.614597,
          14.440414,
          14.440519,
          17.959728,
          18.01374,
          18.01374,
          18.013016,
          18.012373999999998,
          18.012446,
          18.012446,
          18.012446,
          18.012446,
          18.013595000000002,
          18.013507,
          18.013595000000002,
          18.0136,
          18.013595000000002,
          17.88861,
          16.516928,
          16.323889,
          16.200826,
          16.186198,
          17.980566,
          17.923892000000002,
          17.924252,
          17.924397,
          18.306375,
          18.306375,
          18.306375,
          12.745318,
          13.187560000000001,
          13.187289999999999,
          18.355429,
          18.355364,
          18.355364,
          18.257844,
          18.257844,
          18.074773999999998,
          18.075289,
          18.03248,
          17.927004999999998,
          17.927004,
          12.788872,
          12.6526,
          12.867811999999999,
          16.921864000000003,
          15.225344,
          18.0773,
          18.082852,
          18.069699,
          18.070131,
          18.070897,
          18.070061,
          55.143299,
          13.763182,
          18.064128,
          12.601461,
          17.945802,
          18.050379,
          18.031935999999998,
          18.029325,
          18.029325,
          13.530070000000002,
          13.542504999999998,
          13.542504999999998,
          13.542504999999998,
          13.542504999999998,
          13.542489999999999,
          13.542504999999998,
          13.542504999999998,
          13.065947,
          13.011202,
          12.907172000000001,
          17.929358999999998,
          18.554776999999998,
          18.555155,
          18.555502,
          18.561045999999997,
          18.561854,
          13.319379000000001,
          13.319379000000001,
          13.319569,
          13.319569,
          13.319569,
          12.939792,
          12.939792,
          12.939792,
          13.172907999999998,
          16.890539,
          18.079573999999997,
          17.725123,
          18.554892000000002,
          18.554892000000002,
          18.554892000000002,
          18.553335999999998,
          18.549017000000003,
          18.549017000000003,
          17.996464000000003,
          17.996464000000003,
          17.996464000000003,
          17.996464000000003,
          17.996464000000003,
          17.996464000000003,
          17.996464000000003,
          17.996464000000003,
          12.646507000000001,
          12.578361,
          12.999873,
          13.0016,
          13.000989,
          13.32141,
          18.073848,
          18.075514000000002,
          18.04934,
          17.980273,
          17.981811999999998,
          17.981766,
          18.051997,
          18.052163,
          18.052052,
          18.052146,
          13.307870999999999,
          16.365434,
          16.359273,
          12.591458,
          12.591602,
          12.591602,
          12.58955,
          12.590659,
          12.567758999999999,
          14.690713,
          13.008131,
          13.008264,
          12.973738,
          12.972579,
          12.974300999999999,
          12.97442,
          16.194175,
          17.64615,
          18.050245999999998,
          13.363752999999999,
          13.364218,
          13.364218,
          12.569531,
          12.569374,
          12.569489,
          12.569409,
          18.008547,
          18.005253,
          13.027544,
          17.952545,
          17.95354,
          17.987654,
          17.987593,
          17.98766,
          15.095713,
          136.903304,
          18.000239999999998,
          18.122849,
          18.12197,
          18.101423999999998,
          18.101636,
          25.624791000000002,
          24.943770999999998,
          25.629263,
          12.763882,
          12.764264,
          18.023058,
          17.886782999999998,
          18.558487,
          18.304078,
          18.30329,
          13.014466,
          12.542197,
          13.318643,
          17.961678,
          18.255132999999997,
          13.022437,
          13.0107,
          13.014078,
          14.195967000000001,
          14.000987,
          13.978556,
          14.277542,
          12.994971000000001,
          13.168297,
          12.708043,
          12.708043,
          12.530199,
          12.557592999999999,
          12.557592999999999,
          12.557756,
          12.586489,
          18.074047,
          18.07457,
          12.591463000000001,
          12.649469,
          12.648994,
          18.092503,
          17.976074,
          17.976074,
          18.527435999999998,
          17.93348,
          17.933601,
          18.085556,
          13.044602000000001,
          13.044602000000001,
          13.044602000000001,
          18.003674,
          18.003703,
          18.003496,
          18.098623,
          18.099007999999998,
          18.062186999999998,
          18.062301,
          18.06206,
          18.06211,
          18.061957999999997,
          17.915733,
          18.022063,
          18.026626,
          18.026920999999998,
          18.026625,
          17.980857999999998,
          17.988129999999998,
          18.304617999999998,
          18.253912,
          17.626703,
          18.746209,
          18.746209,
          18.746209,
          18.057055,
          17.996399,
          17.996399,
          17.996501000000002,
          17.996477,
          17.995626,
          17.995697,
          18.003413000000002,
          18.00215,
          11.912116000000001,
          11.584924,
          17.927608,
          17.928915,
          16.5622,
          17.1167,
          19.043611,
          19.043611,
          16.59135,
          16.784637,
          16.373745,
          16.675082999999997,
          16.393376,
          13.785509,
          15.521,
          15.596835999999998,
          13.448023999999998,
          13.448023999999998,
          13.041186999999999,
          13.04377,
          13.048079,
          13.041944,
          13.33204,
          13.321453,
          13.321404000000001,
          13.190285999999999,
          13.188654000000001,
          12.613826,
          12.614999000000001,
          13.3167,
          13.3167,
          13.324597,
          13.324597,
          13.323284,
          17.718679,
          17.98868,
          17.98868,
          18.004834,
          18.059473,
          18.251984,
          18.251984,
          18.252223,
          18.088747,
          18.081948999999998,
          18.014283,
          18.05657,
          18.017944,
          18.017944,
          17.965023000000002,
          17.933114,
          13.2167,
          13.2167,
          17.95632,
          17.956673000000002,
          17.956673000000002,
          18.053987,
          18.054017,
          18.052389,
          18.036266,
          18.036244,
          15.383322,
          15.383018,
          15.383018,
          18.081838,
          18.077606,
          18.068594,
          18.071979000000002,
          18.003953,
          15.656970999999999,
          18.045726000000002,
          6.504129,
          6.504126,
          6.65,
          6.5065029999999995,
          6.572369,
          6.513388,
          6.632155,
          6.61085,
          6.539588,
          6.566669999999999,
          6.5808979999999995,
          17.875138,
          17.719399,
          18.082452,
          18.082079999999998,
          18.082552,
          18.063062,
          17.997401,
          17.997309,
          18.079424,
          18.079365,
          18.079394,
          11.788200999999999,
          11.788200999999999,
          11.328944,
          11.328168,
          11.524063,
          11.50478,
          12.498878999999999,
          11.512062,
          11.205138,
          11.378949,
          12.252417,
          18.315666,
          18.319171,
          17.952859,
          17.953045,
          18.071043,
          17.993627,
          18.076017999999998,
          18.513372,
          18.247263,
          18.060233,
          18.25698,
          13.1833,
          13.079333,
          12.714658,
          12.714354,
          17.997557999999998,
          18.25696,
          17.85922,
          18.131526,
          12.998808,
          13.002417999999999,
          18.054468,
          18.076971,
          18.12051,
          18.087829,
          18.085621,
          18.085621,
          18.113451,
          18.035363,
          17.945616,
          18.061312,
          18.06156,
          18.061455,
          -99.18195899999999,
          -99.188948,
          -99.16463399999999,
          18.096389000000002,
          17.636833,
          18.670763,
          16.366367999999998,
          13.326878,
          18.102196,
          18.101789,
          18.101789,
          17.979354,
          18.039596,
          14.199541,
          18.056254,
          18.056254,
          17.968355,
          18.288792,
          -97.037171,
          -97.036951,
          -103.392463,
          -103.233333,
          -103.769876,
          -103.34580799999999,
          -103.415846,
          -103.415663,
          11.909072,
          16.096536999999998,
          13.07655,
          12.974031,
          15.481782,
          2.58488,
          28.054208000000003,
          28.054554,
          18.050449,
          18.048973999999998,
          13.329358,
          4.763193,
          2.570293,
          -6.837275,
          18.059567,
          18.096277,
          18.103149,
          18.346795,
          12.492863999999999,
          18.084366,
          13.190126000000001,
          18.058568,
          18.097471,
          55.144349,
          2.650831,
          12.947222,
          18.035776000000002,
          18.027195000000003,
          12.942608,
          13.170331,
          17.968073999999998,
          18.083644
         ],
         "marker": {
          "color": "#636efa"
         },
         "mode": "markers",
         "name": "other",
         "showlegend": true,
         "subplot": "mapbox",
         "type": "scattermapbox"
        },
        {
         "customdata": [
          [
           7,
           1,
           2
          ],
          [
           21,
           2,
           2
          ],
          [
           0,
           6,
           2
          ],
          [
           7,
           2,
           2
          ],
          [
           1,
           0,
           2
          ],
          [
           16,
           6,
           2
          ],
          [
           8,
           4,
           2
          ],
          [
           8,
           2,
           2
          ],
          [
           0,
           1,
           2
          ],
          [
           21,
           1,
           2
          ],
          [
           13,
           4,
           2
          ],
          [
           0,
           6,
           2
          ],
          [
           14,
           0,
           2
          ],
          [
           10,
           2,
           2
          ],
          [
           20,
           6,
           2
          ],
          [
           16,
           1,
           2
          ],
          [
           21,
           1,
           2
          ],
          [
           20,
           2,
           2
          ],
          [
           21,
           2,
           2
          ],
          [
           8,
           2,
           2
          ],
          [
           15,
           6,
           2
          ],
          [
           22,
           6,
           2
          ],
          [
           20,
           3,
           2
          ],
          [
           21,
           3,
           2
          ],
          [
           20,
           6,
           2
          ],
          [
           21,
           6,
           2
          ],
          [
           19,
           0,
           2
          ],
          [
           23,
           5,
           2
          ],
          [
           15,
           6,
           2
          ],
          [
           20,
           2,
           2
          ],
          [
           23,
           1,
           2
          ],
          [
           21,
           0,
           2
          ],
          [
           20,
           5,
           2
          ],
          [
           20,
           5,
           2
          ],
          [
           23,
           0,
           2
          ],
          [
           0,
           4,
           2
          ],
          [
           9,
           5,
           2
          ],
          [
           20,
           6,
           2
          ],
          [
           21,
           4,
           2
          ],
          [
           23,
           5,
           2
          ],
          [
           13,
           0,
           2
          ]
         ],
         "hoverlabel": {
          "namelength": 0
         },
         "hovertemplate": "label=home<br>hourofday=%{customdata[0]}<br>weekday=%{customdata[1]}<br>region=%{customdata[2]}<br>latitude=%{lat}<br>longitude=%{lon}",
         "lat": [
          59.339082999999995,
          59.33923000000001,
          59.339604,
          59.339629,
          59.339604,
          59.340456,
          59.338966000000006,
          59.340157999999995,
          59.340262,
          59.340268,
          59.340624,
          59.339477,
          59.340784,
          59.340189,
          59.340157999999995,
          59.340193000000006,
          59.34023199999999,
          59.340077,
          59.340214,
          59.34030500000001,
          59.339124,
          59.340717000000005,
          59.340215,
          59.340193000000006,
          59.340168999999996,
          59.340194,
          59.340717000000005,
          59.340278000000005,
          59.340208999999994,
          59.341114000000005,
          59.34018199999999,
          59.340233999999995,
          59.340202000000005,
          59.340167,
          59.340193000000006,
          59.340228,
          59.340316,
          59.340224,
          59.340227,
          59.339330000000004,
          59.340759
         ],
         "legendgroup": "home",
         "lon": [
          17.98985,
          17.989798,
          17.988546,
          17.988089000000002,
          17.988546,
          17.9914,
          17.990655,
          17.990547,
          17.990589,
          17.990638,
          17.989302,
          17.988961,
          17.989635999999997,
          17.990581,
          17.990477,
          17.990544,
          17.990502,
          17.990645999999998,
          17.990661,
          17.990551,
          17.990142000000002,
          17.98937,
          17.990451,
          17.990448999999998,
          17.990508,
          17.990547,
          17.98937,
          17.990491,
          17.990446,
          17.989234,
          17.990663,
          17.990377,
          17.990507,
          17.990494,
          17.990539000000002,
          17.990662,
          17.990482999999998,
          17.990385,
          17.990535,
          17.990661,
          17.990906
         ],
         "marker": {
          "color": "#EF553B"
         },
         "mode": "markers",
         "name": "home",
         "showlegend": true,
         "subplot": "mapbox",
         "type": "scattermapbox"
        },
        {
         "customdata": [
          [
           17,
           5,
           4
          ],
          [
           17,
           5,
           4
          ],
          [
           15,
           0,
           4
          ],
          [
           16,
           1,
           4
          ],
          [
           10,
           4,
           4
          ],
          [
           10,
           1,
           4
          ],
          [
           12,
           3,
           4
          ],
          [
           11,
           2,
           4
          ],
          [
           14,
           1,
           4
          ],
          [
           14,
           4,
           4
          ],
          [
           11,
           1,
           4
          ],
          [
           17,
           1,
           4
          ],
          [
           20,
           4,
           4
          ],
          [
           16,
           3,
           4
          ],
          [
           18,
           2,
           4
          ],
          [
           11,
           2,
           4
          ],
          [
           15,
           3,
           4
          ],
          [
           15,
           1,
           4
          ]
         ],
         "hoverlabel": {
          "namelength": 0
         },
         "hovertemplate": "label=work<br>hourofday=%{customdata[0]}<br>weekday=%{customdata[1]}<br>region=%{customdata[2]}<br>latitude=%{lat}<br>longitude=%{lon}",
         "lat": [
          59.402304,
          59.402304,
          59.403755000000004,
          59.40310699999999,
          59.403117,
          59.40310699999999,
          59.402924,
          59.403201,
          59.40299,
          59.402879000000006,
          59.402395999999996,
          59.402052000000005,
          59.403991000000005,
          59.404853,
          59.405122999999996,
          59.403022,
          59.404809,
          59.405469
         ],
         "legendgroup": "work",
         "lon": [
          17.956343,
          17.956343,
          17.955560000000002,
          17.955385999999997,
          17.956398,
          17.955385999999997,
          17.956121,
          17.955924,
          17.9561,
          17.954826999999998,
          17.957769,
          17.956564,
          17.956896,
          17.956310000000002,
          17.956301,
          17.956978,
          17.956167999999998,
          17.955841
         ],
         "marker": {
          "color": "#00cc96"
         },
         "mode": "markers",
         "name": "work",
         "showlegend": true,
         "subplot": "mapbox",
         "type": "scattermapbox"
        }
       ],
       "layout": {
        "legend": {
         "title": {
          "text": "label"
         },
         "tracegroupgap": 0
        },
        "mapbox": {
         "center": {
          "lat": 55.91697750259965,
          "lon": 14.645934556325821
         },
         "domain": {
          "x": [
           0,
           1
          ],
          "y": [
           0,
           1
          ]
         },
         "style": "open-street-map",
         "zoom": 8
        },
        "margin": {
         "t": 60
        },
        "template": {
         "data": {
          "bar": [
           {
            "error_x": {
             "color": "#2a3f5f"
            },
            "error_y": {
             "color": "#2a3f5f"
            },
            "marker": {
             "line": {
              "color": "#E5ECF6",
              "width": 0.5
             }
            },
            "type": "bar"
           }
          ],
          "barpolar": [
           {
            "marker": {
             "line": {
              "color": "#E5ECF6",
              "width": 0.5
             }
            },
            "type": "barpolar"
           }
          ],
          "carpet": [
           {
            "aaxis": {
             "endlinecolor": "#2a3f5f",
             "gridcolor": "white",
             "linecolor": "white",
             "minorgridcolor": "white",
             "startlinecolor": "#2a3f5f"
            },
            "baxis": {
             "endlinecolor": "#2a3f5f",
             "gridcolor": "white",
             "linecolor": "white",
             "minorgridcolor": "white",
             "startlinecolor": "#2a3f5f"
            },
            "type": "carpet"
           }
          ],
          "choropleth": [
           {
            "colorbar": {
             "outlinewidth": 0,
             "ticks": ""
            },
            "type": "choropleth"
           }
          ],
          "contour": [
           {
            "colorbar": {
             "outlinewidth": 0,
             "ticks": ""
            },
            "colorscale": [
             [
              0,
              "#0d0887"
             ],
             [
              0.1111111111111111,
              "#46039f"
             ],
             [
              0.2222222222222222,
              "#7201a8"
             ],
             [
              0.3333333333333333,
              "#9c179e"
             ],
             [
              0.4444444444444444,
              "#bd3786"
             ],
             [
              0.5555555555555556,
              "#d8576b"
             ],
             [
              0.6666666666666666,
              "#ed7953"
             ],
             [
              0.7777777777777778,
              "#fb9f3a"
             ],
             [
              0.8888888888888888,
              "#fdca26"
             ],
             [
              1,
              "#f0f921"
             ]
            ],
            "type": "contour"
           }
          ],
          "contourcarpet": [
           {
            "colorbar": {
             "outlinewidth": 0,
             "ticks": ""
            },
            "type": "contourcarpet"
           }
          ],
          "heatmap": [
           {
            "colorbar": {
             "outlinewidth": 0,
             "ticks": ""
            },
            "colorscale": [
             [
              0,
              "#0d0887"
             ],
             [
              0.1111111111111111,
              "#46039f"
             ],
             [
              0.2222222222222222,
              "#7201a8"
             ],
             [
              0.3333333333333333,
              "#9c179e"
             ],
             [
              0.4444444444444444,
              "#bd3786"
             ],
             [
              0.5555555555555556,
              "#d8576b"
             ],
             [
              0.6666666666666666,
              "#ed7953"
             ],
             [
              0.7777777777777778,
              "#fb9f3a"
             ],
             [
              0.8888888888888888,
              "#fdca26"
             ],
             [
              1,
              "#f0f921"
             ]
            ],
            "type": "heatmap"
           }
          ],
          "heatmapgl": [
           {
            "colorbar": {
             "outlinewidth": 0,
             "ticks": ""
            },
            "colorscale": [
             [
              0,
              "#0d0887"
             ],
             [
              0.1111111111111111,
              "#46039f"
             ],
             [
              0.2222222222222222,
              "#7201a8"
             ],
             [
              0.3333333333333333,
              "#9c179e"
             ],
             [
              0.4444444444444444,
              "#bd3786"
             ],
             [
              0.5555555555555556,
              "#d8576b"
             ],
             [
              0.6666666666666666,
              "#ed7953"
             ],
             [
              0.7777777777777778,
              "#fb9f3a"
             ],
             [
              0.8888888888888888,
              "#fdca26"
             ],
             [
              1,
              "#f0f921"
             ]
            ],
            "type": "heatmapgl"
           }
          ],
          "histogram": [
           {
            "marker": {
             "colorbar": {
              "outlinewidth": 0,
              "ticks": ""
             }
            },
            "type": "histogram"
           }
          ],
          "histogram2d": [
           {
            "colorbar": {
             "outlinewidth": 0,
             "ticks": ""
            },
            "colorscale": [
             [
              0,
              "#0d0887"
             ],
             [
              0.1111111111111111,
              "#46039f"
             ],
             [
              0.2222222222222222,
              "#7201a8"
             ],
             [
              0.3333333333333333,
              "#9c179e"
             ],
             [
              0.4444444444444444,
              "#bd3786"
             ],
             [
              0.5555555555555556,
              "#d8576b"
             ],
             [
              0.6666666666666666,
              "#ed7953"
             ],
             [
              0.7777777777777778,
              "#fb9f3a"
             ],
             [
              0.8888888888888888,
              "#fdca26"
             ],
             [
              1,
              "#f0f921"
             ]
            ],
            "type": "histogram2d"
           }
          ],
          "histogram2dcontour": [
           {
            "colorbar": {
             "outlinewidth": 0,
             "ticks": ""
            },
            "colorscale": [
             [
              0,
              "#0d0887"
             ],
             [
              0.1111111111111111,
              "#46039f"
             ],
             [
              0.2222222222222222,
              "#7201a8"
             ],
             [
              0.3333333333333333,
              "#9c179e"
             ],
             [
              0.4444444444444444,
              "#bd3786"
             ],
             [
              0.5555555555555556,
              "#d8576b"
             ],
             [
              0.6666666666666666,
              "#ed7953"
             ],
             [
              0.7777777777777778,
              "#fb9f3a"
             ],
             [
              0.8888888888888888,
              "#fdca26"
             ],
             [
              1,
              "#f0f921"
             ]
            ],
            "type": "histogram2dcontour"
           }
          ],
          "mesh3d": [
           {
            "colorbar": {
             "outlinewidth": 0,
             "ticks": ""
            },
            "type": "mesh3d"
           }
          ],
          "parcoords": [
           {
            "line": {
             "colorbar": {
              "outlinewidth": 0,
              "ticks": ""
             }
            },
            "type": "parcoords"
           }
          ],
          "pie": [
           {
            "automargin": true,
            "type": "pie"
           }
          ],
          "scatter": [
           {
            "marker": {
             "colorbar": {
              "outlinewidth": 0,
              "ticks": ""
             }
            },
            "type": "scatter"
           }
          ],
          "scatter3d": [
           {
            "line": {
             "colorbar": {
              "outlinewidth": 0,
              "ticks": ""
             }
            },
            "marker": {
             "colorbar": {
              "outlinewidth": 0,
              "ticks": ""
             }
            },
            "type": "scatter3d"
           }
          ],
          "scattercarpet": [
           {
            "marker": {
             "colorbar": {
              "outlinewidth": 0,
              "ticks": ""
             }
            },
            "type": "scattercarpet"
           }
          ],
          "scattergeo": [
           {
            "marker": {
             "colorbar": {
              "outlinewidth": 0,
              "ticks": ""
             }
            },
            "type": "scattergeo"
           }
          ],
          "scattergl": [
           {
            "marker": {
             "colorbar": {
              "outlinewidth": 0,
              "ticks": ""
             }
            },
            "type": "scattergl"
           }
          ],
          "scattermapbox": [
           {
            "marker": {
             "colorbar": {
              "outlinewidth": 0,
              "ticks": ""
             }
            },
            "type": "scattermapbox"
           }
          ],
          "scatterpolar": [
           {
            "marker": {
             "colorbar": {
              "outlinewidth": 0,
              "ticks": ""
             }
            },
            "type": "scatterpolar"
           }
          ],
          "scatterpolargl": [
           {
            "marker": {
             "colorbar": {
              "outlinewidth": 0,
              "ticks": ""
             }
            },
            "type": "scatterpolargl"
           }
          ],
          "scatterternary": [
           {
            "marker": {
             "colorbar": {
              "outlinewidth": 0,
              "ticks": ""
             }
            },
            "type": "scatterternary"
           }
          ],
          "surface": [
           {
            "colorbar": {
             "outlinewidth": 0,
             "ticks": ""
            },
            "colorscale": [
             [
              0,
              "#0d0887"
             ],
             [
              0.1111111111111111,
              "#46039f"
             ],
             [
              0.2222222222222222,
              "#7201a8"
             ],
             [
              0.3333333333333333,
              "#9c179e"
             ],
             [
              0.4444444444444444,
              "#bd3786"
             ],
             [
              0.5555555555555556,
              "#d8576b"
             ],
             [
              0.6666666666666666,
              "#ed7953"
             ],
             [
              0.7777777777777778,
              "#fb9f3a"
             ],
             [
              0.8888888888888888,
              "#fdca26"
             ],
             [
              1,
              "#f0f921"
             ]
            ],
            "type": "surface"
           }
          ],
          "table": [
           {
            "cells": {
             "fill": {
              "color": "#EBF0F8"
             },
             "line": {
              "color": "white"
             }
            },
            "header": {
             "fill": {
              "color": "#C8D4E3"
             },
             "line": {
              "color": "white"
             }
            },
            "type": "table"
           }
          ]
         },
         "layout": {
          "annotationdefaults": {
           "arrowcolor": "#2a3f5f",
           "arrowhead": 0,
           "arrowwidth": 1
          },
          "coloraxis": {
           "colorbar": {
            "outlinewidth": 0,
            "ticks": ""
           }
          },
          "colorscale": {
           "diverging": [
            [
             0,
             "#8e0152"
            ],
            [
             0.1,
             "#c51b7d"
            ],
            [
             0.2,
             "#de77ae"
            ],
            [
             0.3,
             "#f1b6da"
            ],
            [
             0.4,
             "#fde0ef"
            ],
            [
             0.5,
             "#f7f7f7"
            ],
            [
             0.6,
             "#e6f5d0"
            ],
            [
             0.7,
             "#b8e186"
            ],
            [
             0.8,
             "#7fbc41"
            ],
            [
             0.9,
             "#4d9221"
            ],
            [
             1,
             "#276419"
            ]
           ],
           "sequential": [
            [
             0,
             "#0d0887"
            ],
            [
             0.1111111111111111,
             "#46039f"
            ],
            [
             0.2222222222222222,
             "#7201a8"
            ],
            [
             0.3333333333333333,
             "#9c179e"
            ],
            [
             0.4444444444444444,
             "#bd3786"
            ],
            [
             0.5555555555555556,
             "#d8576b"
            ],
            [
             0.6666666666666666,
             "#ed7953"
            ],
            [
             0.7777777777777778,
             "#fb9f3a"
            ],
            [
             0.8888888888888888,
             "#fdca26"
            ],
            [
             1,
             "#f0f921"
            ]
           ],
           "sequentialminus": [
            [
             0,
             "#0d0887"
            ],
            [
             0.1111111111111111,
             "#46039f"
            ],
            [
             0.2222222222222222,
             "#7201a8"
            ],
            [
             0.3333333333333333,
             "#9c179e"
            ],
            [
             0.4444444444444444,
             "#bd3786"
            ],
            [
             0.5555555555555556,
             "#d8576b"
            ],
            [
             0.6666666666666666,
             "#ed7953"
            ],
            [
             0.7777777777777778,
             "#fb9f3a"
            ],
            [
             0.8888888888888888,
             "#fdca26"
            ],
            [
             1,
             "#f0f921"
            ]
           ]
          },
          "colorway": [
           "#636efa",
           "#EF553B",
           "#00cc96",
           "#ab63fa",
           "#FFA15A",
           "#19d3f3",
           "#FF6692",
           "#B6E880",
           "#FF97FF",
           "#FECB52"
          ],
          "font": {
           "color": "#2a3f5f"
          },
          "geo": {
           "bgcolor": "white",
           "lakecolor": "white",
           "landcolor": "#E5ECF6",
           "showlakes": true,
           "showland": true,
           "subunitcolor": "white"
          },
          "hoverlabel": {
           "align": "left"
          },
          "hovermode": "closest",
          "mapbox": {
           "style": "light"
          },
          "paper_bgcolor": "white",
          "plot_bgcolor": "#E5ECF6",
          "polar": {
           "angularaxis": {
            "gridcolor": "white",
            "linecolor": "white",
            "ticks": ""
           },
           "bgcolor": "#E5ECF6",
           "radialaxis": {
            "gridcolor": "white",
            "linecolor": "white",
            "ticks": ""
           }
          },
          "scene": {
           "xaxis": {
            "backgroundcolor": "#E5ECF6",
            "gridcolor": "white",
            "gridwidth": 2,
            "linecolor": "white",
            "showbackground": true,
            "ticks": "",
            "zerolinecolor": "white"
           },
           "yaxis": {
            "backgroundcolor": "#E5ECF6",
            "gridcolor": "white",
            "gridwidth": 2,
            "linecolor": "white",
            "showbackground": true,
            "ticks": "",
            "zerolinecolor": "white"
           },
           "zaxis": {
            "backgroundcolor": "#E5ECF6",
            "gridcolor": "white",
            "gridwidth": 2,
            "linecolor": "white",
            "showbackground": true,
            "ticks": "",
            "zerolinecolor": "white"
           }
          },
          "shapedefaults": {
           "line": {
            "color": "#2a3f5f"
           }
          },
          "ternary": {
           "aaxis": {
            "gridcolor": "white",
            "linecolor": "white",
            "ticks": ""
           },
           "baxis": {
            "gridcolor": "white",
            "linecolor": "white",
            "ticks": ""
           },
           "bgcolor": "#E5ECF6",
           "caxis": {
            "gridcolor": "white",
            "linecolor": "white",
            "ticks": ""
           }
          },
          "title": {
           "x": 0.05
          },
          "xaxis": {
           "automargin": true,
           "gridcolor": "white",
           "linecolor": "white",
           "ticks": "",
           "title": {
            "standoff": 15
           },
           "zerolinecolor": "white",
           "zerolinewidth": 2
          },
          "yaxis": {
           "automargin": true,
           "gridcolor": "white",
           "linecolor": "white",
           "ticks": "",
           "title": {
            "standoff": 15
           },
           "zerolinecolor": "white",
           "zerolinewidth": 2
          }
         }
        }
       }
      },
      "text/html": [
       "<div>\n",
       "        \n",
       "        \n",
       "            <div id=\"5173e9e1-fee1-4476-8999-ba95b01dd45e\" class=\"plotly-graph-div\" style=\"height:525px; width:100%;\"></div>\n",
       "            <script type=\"text/javascript\">\n",
       "                require([\"plotly\"], function(Plotly) {\n",
       "                    window.PLOTLYENV=window.PLOTLYENV || {};\n",
       "                    \n",
       "                if (document.getElementById(\"5173e9e1-fee1-4476-8999-ba95b01dd45e\")) {\n",
       "                    Plotly.newPlot(\n",
       "                        '5173e9e1-fee1-4476-8999-ba95b01dd45e',\n",
       "                        [{\"customdata\": [[22.0, 5.0, 0.0], [14.0, 1.0, 0.0], [19.0, 6.0, 1.0], [12.0, 0.0, 1.0], [16.0, 4.0, 3.0], [16.0, 4.0, 3.0], [13.0, 6.0, 5.0], [12.0, 4.0, 6.0], [8.0, 4.0, 6.0], [22.0, 5.0, 7.0], [16.0, 0.0, 8.0], [8.0, 2.0, 9.0], [16.0, 3.0, 10.0], [8.0, 5.0, 11.0], [21.0, 6.0, 12.0], [15.0, 6.0, 13.0], [16.0, 6.0, 14.0], [17.0, 1.0, 15.0], [17.0, 2.0, 15.0], [17.0, 2.0, 16.0], [18.0, 5.0, 17.0], [14.0, 0.0, 18.0], [16.0, 0.0, 18.0], [11.0, 3.0, 19.0], [13.0, 3.0, 20.0], [6.0, 0.0, 20.0], [9.0, 2.0, 20.0], [9.0, 2.0, 20.0], [6.0, 6.0, 20.0], [9.0, 3.0, 20.0], [15.0, 3.0, 21.0], [20.0, 5.0, 22.0], [20.0, 5.0, 23.0], [14.0, 0.0, 24.0], [18.0, 6.0, 24.0], [5.0, 3.0, 25.0], [5.0, 0.0, 25.0], [9.0, 2.0, 25.0], [6.0, 6.0, 25.0], [11.0, 0.0, 25.0], [9.0, 0.0, 25.0], [19.0, 6.0, 25.0], [6.0, 6.0, 26.0], [6.0, 6.0, 26.0], [13.0, 1.0, 27.0], [20.0, 6.0, 28.0], [14.0, 3.0, 28.0], [11.0, 5.0, 28.0], [21.0, 4.0, 29.0], [20.0, 0.0, 30.0], [20.0, 0.0, 30.0], [16.0, 5.0, 31.0], [17.0, 5.0, 31.0], [9.0, 2.0, 31.0], [21.0, 6.0, 32.0], [21.0, 6.0, 33.0], [21.0, 6.0, 34.0], [19.0, 4.0, 35.0], [16.0, 0.0, 35.0], [17.0, 1.0, 36.0], [13.0, 2.0, 37.0], [18.0, 2.0, 37.0], [18.0, 2.0, 37.0], [18.0, 2.0, 37.0], [4.0, 0.0, 37.0], [20.0, 3.0, 38.0], [14.0, 5.0, 38.0], [10.0, 6.0, 39.0], [19.0, 4.0, 39.0], [9.0, 5.0, 40.0], [13.0, 5.0, 40.0], [12.0, 0.0, 40.0], [12.0, 0.0, 40.0], [15.0, 3.0, 40.0], [12.0, 3.0, 40.0], [14.0, 0.0, 40.0], [19.0, 0.0, 40.0], [20.0, 2.0, 40.0], [18.0, 3.0, 40.0], [15.0, 2.0, 40.0], [20.0, 0.0, 40.0], [17.0, 0.0, 40.0], [17.0, 0.0, 40.0], [13.0, 5.0, 41.0], [13.0, 6.0, 42.0], [13.0, 1.0, 43.0], [18.0, 1.0, 43.0], [21.0, 3.0, 44.0], [15.0, 5.0, 45.0], [20.0, 4.0, 45.0], [18.0, 2.0, 45.0], [20.0, 3.0, 45.0], [21.0, 2.0, 45.0], [19.0, 2.0, 45.0], [0.0, 4.0, 45.0], [18.0, 0.0, 45.0], [18.0, 4.0, 45.0], [21.0, 4.0, 45.0], [16.0, 4.0, 45.0], [21.0, 4.0, 45.0], [12.0, 0.0, 45.0], [7.0, 5.0, 46.0], [8.0, 5.0, 47.0], [9.0, 5.0, 48.0], [17.0, 5.0, 49.0], [17.0, 5.0, 50.0], [22.0, 1.0, 51.0], [12.0, 5.0, 52.0], [12.0, 5.0, 52.0], [12.0, 1.0, 52.0], [14.0, 6.0, 53.0], [13.0, 0.0, 53.0], [21.0, 4.0, 53.0], [14.0, 6.0, 54.0], [14.0, 1.0, 55.0], [16.0, 0.0, 55.0], [15.0, 5.0, 56.0], [18.0, 0.0, 56.0], [18.0, 0.0, 56.0], [16.0, 4.0, 57.0], [17.0, 3.0, 57.0], [22.0, 4.0, 58.0], [20.0, 5.0, 58.0], [14.0, 4.0, 59.0], [6.0, 1.0, 60.0], [20.0, 5.0, 60.0], [15.0, 4.0, 61.0], [21.0, 6.0, 62.0], [18.0, 4.0, 63.0], [16.0, 6.0, 64.0], [13.0, 6.0, 65.0], [20.0, 0.0, 66.0], [16.0, 3.0, 67.0], [16.0, 5.0, 68.0], [16.0, 0.0, 68.0], [23.0, 6.0, 68.0], [13.0, 6.0, 68.0], [18.0, 3.0, 69.0], [19.0, 0.0, 70.0], [21.0, 5.0, 71.0], [14.0, 5.0, 72.0], [13.0, 2.0, 73.0], [14.0, 6.0, 74.0], [21.0, 6.0, 75.0], [21.0, 0.0, 76.0], [18.0, 5.0, 76.0], [13.0, 6.0, 77.0], [13.0, 6.0, 78.0], [15.0, 3.0, 78.0], [15.0, 4.0, 78.0], [13.0, 6.0, 78.0], [11.0, 0.0, 78.0], [14.0, 5.0, 78.0], [15.0, 3.0, 78.0], [11.0, 6.0, 79.0], [21.0, 0.0, 80.0], [7.0, 1.0, 81.0], [20.0, 3.0, 82.0], [11.0, 0.0, 83.0], [16.0, 6.0, 83.0], [22.0, 4.0, 83.0], [11.0, 0.0, 84.0], [16.0, 0.0, 84.0], [22.0, 2.0, 85.0], [19.0, 6.0, 85.0], [17.0, 3.0, 85.0], [13.0, 5.0, 85.0], [22.0, 1.0, 85.0], [11.0, 5.0, 86.0], [18.0, 6.0, 86.0], [16.0, 6.0, 86.0], [15.0, 1.0, 87.0], [0.0, 5.0, 88.0], [21.0, 2.0, 89.0], [19.0, 2.0, 90.0], [16.0, 6.0, 91.0], [18.0, 6.0, 91.0], [18.0, 6.0, 91.0], [17.0, 6.0, 91.0], [7.0, 3.0, 92.0], [15.0, 3.0, 92.0], [9.0, 6.0, 93.0], [18.0, 2.0, 93.0], [18.0, 2.0, 93.0], [21.0, 1.0, 93.0], [13.0, 0.0, 93.0], [14.0, 0.0, 93.0], [22.0, 6.0, 93.0], [0.0, 0.0, 93.0], [16.0, 6.0, 94.0], [16.0, 6.0, 95.0], [15.0, 0.0, 96.0], [18.0, 0.0, 96.0], [11.0, 3.0, 96.0], [23.0, 5.0, 97.0], [21.0, 4.0, 98.0], [12.0, 0.0, 98.0], [22.0, 4.0, 99.0], [18.0, 1.0, 100.0], [15.0, 6.0, 100.0], [12.0, 3.0, 100.0], [20.0, 4.0, 101.0], [17.0, 3.0, 101.0], [19.0, 3.0, 101.0], [19.0, 4.0, 101.0], [22.0, 5.0, 102.0], [0.0, 5.0, 103.0], [0.0, 5.0, 104.0], [13.0, 0.0, 105.0], [18.0, 3.0, 105.0], [18.0, 3.0, 105.0], [13.0, 4.0, 105.0], [18.0, 3.0, 105.0], [22.0, 2.0, 106.0], [20.0, 2.0, 107.0], [21.0, 5.0, 108.0], [21.0, 5.0, 108.0], [12.0, 6.0, 109.0], [16.0, 6.0, 110.0], [0.0, 0.0, 111.0], [13.0, 0.0, 111.0], [20.0, 0.0, 112.0], [21.0, 0.0, 113.0], [19.0, 3.0, 114.0], [22.0, 5.0, 115.0], [7.0, 1.0, 115.0], [19.0, 1.0, 115.0], [19.0, 6.0, 116.0], [22.0, 6.0, 116.0], [22.0, 6.0, 116.0], [22.0, 6.0, 116.0], [16.0, 2.0, 117.0], [8.0, 4.0, 118.0], [16.0, 0.0, 119.0], [15.0, 5.0, 120.0], [7.0, 4.0, 120.0], [21.0, 1.0, 121.0], [17.0, 5.0, 121.0], [21.0, 1.0, 122.0], [18.0, 2.0, 123.0], [23.0, 5.0, 124.0], [10.0, 4.0, 125.0], [14.0, 6.0, 126.0], [19.0, 0.0, 126.0], [21.0, 6.0, 127.0], [18.0, 0.0, 127.0], [23.0, 5.0, 128.0], [23.0, 5.0, 129.0], [23.0, 5.0, 130.0], [18.0, 5.0, 131.0], [13.0, 5.0, 131.0], [20.0, 2.0, 132.0], [15.0, 3.0, 133.0], [15.0, 5.0, 134.0], [21.0, 1.0, 135.0], [15.0, 6.0, 135.0], [0.0, 6.0, 136.0], [19.0, 6.0, 137.0], [17.0, 0.0, 138.0], [21.0, 2.0, 139.0], [18.0, 1.0, 140.0], [20.0, 4.0, 141.0], [18.0, 5.0, 142.0], [20.0, 5.0, 143.0], [16.0, 6.0, 144.0], [20.0, 6.0, 145.0], [22.0, 6.0, 146.0], [20.0, 0.0, 147.0], [12.0, 1.0, 148.0], [21.0, 4.0, 149.0], [16.0, 5.0, 150.0], [22.0, 1.0, 150.0], [18.0, 1.0, 151.0], [20.0, 6.0, 152.0], [20.0, 0.0, 152.0], [23.0, 6.0, 153.0], [19.0, 0.0, 154.0], [23.0, 6.0, 155.0], [13.0, 6.0, 155.0], [16.0, 6.0, 156.0], [15.0, 5.0, 157.0], [19.0, 6.0, 157.0], [19.0, 0.0, 158.0], [15.0, 1.0, 159.0], [16.0, 6.0, 159.0], [16.0, 0.0, 160.0], [0.0, 6.0, 161.0], [0.0, 6.0, 161.0], [19.0, 5.0, 162.0], [14.0, 6.0, 163.0], [15.0, 6.0, 163.0], [16.0, 6.0, 163.0], [21.0, 6.0, 164.0], [19.0, 6.0, 164.0], [13.0, 6.0, 164.0], [16.0, 0.0, 165.0], [16.0, 0.0, 165.0], [18.0, 0.0, 166.0], [14.0, 2.0, 166.0], [16.0, 6.0, 166.0], [15.0, 0.0, 166.0], [16.0, 0.0, 166.0], [16.0, 5.0, 167.0], [17.0, 2.0, 168.0], [23.0, 5.0, 169.0], [23.0, 6.0, 169.0], [21.0, 6.0, 169.0], [21.0, 1.0, 170.0], [19.0, 2.0, 171.0], [17.0, 0.0, 172.0], [23.0, 1.0, 173.0], [12.0, 6.0, 174.0], [18.0, 5.0, 175.0], [19.0, 6.0, 175.0], [22.0, 6.0, 175.0], [20.0, 3.0, 176.0], [18.0, 6.0, 177.0], [9.0, 1.0, 177.0], [21.0, 0.0, 177.0], [0.0, 0.0, 177.0], [22.0, 6.0, 178.0], [23.0, 6.0, 178.0], [1.0, 3.0, 179.0], [20.0, 3.0, 179.0], [21.0, 6.0, 180.0], [18.0, 0.0, 181.0], [11.0, 3.0, 182.0], [13.0, 2.0, 182.0], [14.0, 3.0, 183.0], [18.0, 3.0, 184.0], [0.0, 4.0, 185.0], [0.0, 4.0, 185.0], [21.0, 4.0, 186.0], [23.0, 5.0, 187.0], [23.0, 5.0, 188.0], [23.0, 5.0, 189.0], [22.0, 6.0, 190.0], [23.0, 0.0, 191.0], [23.0, 0.0, 192.0], [23.0, 0.0, 193.0], [22.0, 1.0, 194.0], [22.0, 1.0, 194.0], [16.0, 2.0, 195.0], [23.0, 2.0, 196.0], [23.0, 2.0, 197.0], [23.0, 2.0, 198.0], [15.0, 0.0, 199.0], [18.0, 1.0, 200.0], [23.0, 3.0, 200.0], [22.0, 2.0, 201.0], [22.0, 2.0, 202.0], [20.0, 5.0, 203.0], [20.0, 5.0, 204.0], [13.0, 1.0, 205.0], [18.0, 5.0, 205.0], [14.0, 3.0, 206.0], [14.0, 3.0, 206.0], [19.0, 3.0, 206.0], [19.0, 2.0, 207.0], [22.0, 6.0, 208.0], [18.0, 2.0, 208.0], [18.0, 2.0, 209.0], [23.0, 1.0, 210.0], [11.0, 6.0, 211.0], [21.0, 5.0, 211.0], [20.0, 6.0, 211.0], [21.0, 6.0, 212.0], [11.0, 0.0, 213.0], [23.0, 6.0, 214.0], [18.0, 5.0, 215.0], [22.0, 5.0, 216.0], [20.0, 0.0, 216.0], [17.0, 0.0, 217.0], [15.0, 4.0, 218.0], [18.0, 6.0, 219.0], [20.0, 0.0, 219.0], [15.0, 6.0, 220.0], [16.0, 0.0, 220.0], [18.0, 4.0, 220.0], [22.0, 2.0, 221.0], [15.0, 6.0, 221.0], [14.0, 6.0, 222.0], [14.0, 4.0, 223.0], [13.0, 2.0, 223.0], [13.0, 6.0, 224.0], [23.0, 6.0, 224.0], [23.0, 6.0, 224.0], [21.0, 5.0, 225.0], [23.0, 5.0, 226.0], [15.0, 6.0, 227.0], [15.0, 0.0, 228.0], [12.0, 6.0, 229.0], [21.0, 0.0, 230.0], [23.0, 4.0, 231.0], [21.0, 0.0, 232.0], [0.0, 3.0, 232.0], [19.0, 1.0, 233.0], [23.0, 1.0, 234.0], [9.0, 2.0, 235.0], [9.0, 3.0, 236.0], [12.0, 3.0, 237.0], [18.0, 3.0, 238.0], [5.0, 4.0, 239.0], [15.0, 4.0, 240.0], [23.0, 5.0, 241.0], [10.0, 5.0, 242.0], [16.0, 0.0, 243.0], [21.0, 3.0, 244.0], [21.0, 6.0, 244.0], [23.0, 5.0, 244.0], [19.0, 6.0, 245.0], [18.0, 0.0, 246.0], [21.0, 0.0, 246.0], [20.0, 5.0, 247.0], [21.0, 5.0, 247.0], [20.0, 6.0, 247.0], [15.0, 6.0, 248.0], [6.0, 0.0, 248.0], [7.0, 1.0, 249.0], [12.0, 1.0, 250.0], [22.0, 1.0, 251.0], [9.0, 2.0, 252.0], [22.0, 3.0, 253.0], [23.0, 3.0, 254.0], [23.0, 3.0, 255.0], [23.0, 3.0, 256.0], [7.0, 4.0, 257.0], [12.0, 0.0, 258.0], [13.0, 0.0, 259.0], [21.0, 4.0, 260.0], [22.0, 6.0, 260.0], [17.0, 5.0, 261.0], [22.0, 6.0, 262.0], [10.0, 6.0, 263.0], [15.0, 6.0, 264.0], [13.0, 0.0, 265.0], [18.0, 4.0, 266.0], [8.0, 6.0, 267.0], [11.0, 6.0, 268.0], [21.0, 6.0, 269.0], [14.0, 1.0, 270.0], [14.0, 2.0, 270.0], [23.0, 3.0, 271.0], [16.0, 5.0, 272.0], [14.0, 3.0, 273.0], [0.0, 3.0, 274.0], [15.0, 1.0, 275.0], [8.0, 2.0, 276.0], [19.0, 6.0, 277.0], [20.0, 6.0, 278.0], [17.0, 0.0, 279.0], [15.0, 6.0, 280.0], [23.0, 5.0, 281.0], [19.0, 0.0, 281.0], [14.0, 0.0, 282.0], [12.0, 6.0, 283.0], [11.0, 1.0, 284.0], [20.0, 6.0, 285.0], [22.0, 6.0, 285.0], [9.0, 6.0, 285.0], [20.0, 1.0, 286.0], [20.0, 4.0, 287.0], [19.0, 5.0, 288.0], [19.0, 0.0, 289.0], [1.0, 0.0, 290.0], [0.0, 6.0, 291.0], [19.0, 6.0, 292.0], [19.0, 6.0, 293.0], [10.0, 0.0, 294.0], [12.0, 6.0, 294.0], [20.0, 3.0, 294.0], [11.0, 2.0, 295.0], [14.0, 0.0, 296.0], [18.0, 0.0, 297.0], [12.0, 0.0, 298.0], [11.0, 6.0, 298.0], [21.0, 2.0, 299.0], [15.0, 0.0, 300.0], [17.0, 3.0, 301.0], [15.0, 5.0, 301.0], [9.0, 4.0, 302.0], [6.0, 5.0, 303.0], [20.0, 5.0, 304.0], [18.0, 6.0, 305.0], [10.0, 3.0, 306.0], [10.0, 3.0, 307.0], [23.0, 0.0, 308.0], [19.0, 4.0, 309.0], [23.0, 4.0, 310.0], [13.0, 6.0, 311.0], [20.0, 0.0, 312.0], [22.0, 6.0, 313.0], [18.0, 0.0, 314.0], [21.0, 0.0, 315.0], [16.0, 6.0, 316.0], [12.0, 0.0, 316.0], [0.0, 1.0, 317.0], [16.0, 2.0, 318.0], [19.0, 2.0, 319.0], [23.0, 4.0, 320.0], [18.0, 0.0, 321.0], [13.0, 0.0, 322.0], [22.0, 6.0, 323.0], [13.0, 1.0, 324.0], [14.0, 2.0, 325.0], [19.0, 5.0, 326.0], [12.0, 0.0, 327.0], [16.0, 5.0, 328.0], [12.0, 0.0, 329.0], [19.0, 2.0, 330.0], [18.0, 3.0, 331.0], [22.0, 5.0, 332.0], [7.0, 6.0, 333.0], [13.0, 0.0, 334.0], [14.0, 6.0, 335.0], [14.0, 0.0, 336.0], [16.0, 0.0, 337.0], [16.0, 6.0, 338.0]], \"hoverlabel\": {\"namelength\": 0}, \"hovertemplate\": \"label=other<br>hourofday=%{customdata[0]}<br>weekday=%{customdata[1]}<br>region=%{customdata[2]}<br>latitude=%{lat}<br>longitude=%{lon}\", \"lat\": [56.518048, 56.518526, 56.515145, 56.514978, 59.334855000000005, 59.334855000000005, 59.328835, 59.403558, 59.40308, 59.352837, 59.335067, 59.340799, 59.378184, 59.346113, 59.344831000000006, 59.332826000000004, 59.336301, 59.388926, 59.388926, 59.366555000000005, 59.334334, 59.333746999999995, 59.333298, 59.339781, 59.65280500000001, 59.65280500000001, 59.65294300000001, 59.65280500000001, 59.652522999999995, 59.6525, 59.649685, 59.651846, 59.55901, 59.338513, 59.339209, 59.651557999999994, 59.651557999999994, 59.651557999999994, 59.651557999999994, 59.650913, 59.650913, 59.651228, 59.33806, 59.337687, 59.650051, 59.32924499999999, 59.329595, 59.32895500000001, -1.330514, 59.646428, 59.646428, 59.347280000000005, 59.346759999999996, 59.347372, 59.344069999999995, 59.336946999999995, 59.336528, 59.32494200000001, 59.324861999999996, 59.389025, 48.120009, 48.119909, 48.120296999999994, 48.12035, 48.120267999999996, 25.076961999999998, 25.077142000000002, 25.078402, 25.07923, 56.516118000000006, 56.516118000000006, 56.51599100000001, 56.516121, 56.516123, 56.516217000000005, 56.51603000000001, 56.516107999999996, 56.516422, 56.516085, 56.516268000000004, 56.516281000000006, 56.516234, 56.516206000000004, 56.510026, 56.2582, 57.996527, 57.996591, 59.341409999999996, 59.500730000000004, 59.500730000000004, 59.500827, 59.50028100000001, 59.500774, 59.500774, 59.500774, 59.500774, 59.500747, 59.50090600000001, 59.500747, 59.500851000000004, 59.500747, 59.259671, 58.748107, 58.602492000000005, 58.66941800000001, 58.668717, 59.346615, 59.42259, 59.42181899999999, 59.421986, 59.581103000000006, 59.581103000000006, 59.581103000000006, 56.462141, 55.707353000000005, 55.706523, 59.401829000000006, 59.402048, 59.402048, 59.49159399999999, 59.49159399999999, 59.318329000000006, 59.318406, 59.340121999999994, 59.647796, 59.647837, 56.428989, 56.438867, 56.287262, 58.784774, 44.113471000000004, 59.329358, 59.293526, 59.336188, 59.336124, 59.336679000000004, 59.336268000000004, 25.078554, 56.15846, 59.340771999999994, 56.886276, 59.40294399999999, 59.29715699999999, 59.330776, 59.329547, 59.329547, 56.484967000000005, 56.547766, 56.547766, 56.547766, 56.547766, 56.547771999999995, 56.547766, 56.547766, 55.617006999999994, 55.607969, 55.39054, 59.647445, 59.414274, 59.414274, 59.41439200000001, 59.417237, 59.417215, 56.519488, 56.519488, 56.519612, 56.519612, 56.519612, 56.504126, 56.504126, 56.504126, 56.544212, 58.750613, 59.414190000000005, 59.51680699999999, 59.407628, 59.407628, 59.407628, 59.407449, 59.276208999999994, 59.276208999999994, 59.342662, 59.342662, 59.342662, 59.342662, 59.342662, 59.342662, 59.342662, 59.342662, 55.626606, 55.67825799999999, 55.608633, 55.60921999999999, 55.608959999999996, 56.568117, 59.313887, 59.313651, 59.343011, 59.332758999999996, 59.33274300000001, 59.332789, 59.343208999999995, 59.343194, 59.343164, 59.343295, 55.512257, 48.210282, 48.210651, 55.679938, 55.679981000000005, 55.679981000000005, 55.680213, 55.679687, 55.67388199999999, 57.64675, 55.59174599999999, 55.591715, 55.612341, 55.610896999999994, 55.613277000000004, 55.613292, 58.980917000000005, 59.163838, 59.315957999999995, 55.540777, 55.540418, 55.540418, 55.677073, 55.677153000000004, 55.677131, 55.677137, 59.343989, 59.331614, 55.60372099999999, 59.401832999999996, 59.401543000000004, 59.347683999999994, 59.346847, 59.342462, 58.262214, 35.171135, 59.372654000000004, 59.358943000000004, 59.359161, 59.459568999999995, 59.459272, 60.376366000000004, 60.166321999999994, 60.380566, 56.459384, 56.459711999999996, 59.500618, 59.601527000000004, 59.41348299999999, 59.581465, 59.581480000000006, 55.592018, 55.96935799999999, 55.814679000000005, 59.339016, 59.489723, 55.602114, 55.596396, 55.597046999999996, 55.724306999999996, 55.5872, 55.588226, 55.641794999999995, 55.587571999999994, 56.536692, 56.468045, 56.468045, 56.27101999999999, 55.67205, 55.67205, 55.668471, 55.670922, 59.332467, 59.33331999999999, 55.681557, 55.628443999999995, 55.62868, 59.460891000000004, 59.376675, 59.376675, 59.21758199999999, 59.340502, 59.340481999999994, 59.31796800000001, 56.512657, 56.512657, 56.512657, 59.35300600000001, 59.352996999999995, 59.353003, 59.305496, 59.30556899999999, 59.340419, 59.340458, 59.3403, 59.34026, 59.340056999999995, 59.270927, 59.689758999999995, 59.33857, 59.338636, 59.338409, 59.323193, 59.344905000000004, 59.404222999999995, 59.49124499999999, 59.197729, 59.452273999999996, 59.452273999999996, 59.452273999999996, 59.410429, 59.347489, 59.347489, 59.347522, 59.347485999999996, 59.34626, 59.34621, 59.34765600000001, 59.347683999999994, 57.793417000000005, 57.887135, 59.644825, 59.644346999999996, 48.119313, 48.15, 47.498889, 47.498889, 47.686916, 47.619793, 48.206634, 47.8016, 48.211117, 47.908864, 48.394076, 48.410438, 47.738131, 47.738131, 47.630624, 47.804574, 47.795134999999995, 47.805556, 56.516674, 56.519978, 56.519943000000005, 55.71076899999999, 55.708349, 56.033848, 56.032164, 56.5333, 56.5333, 56.568461, 56.568461, 56.568038, 59.511931999999995, 59.35634, 59.35634, 59.59686800000001, 59.319584, 59.391916, 59.391916, 59.392075, 59.33704, 59.315899, 59.33641899999999, 59.34522, 59.33430799999999, 59.33430799999999, 59.362203, 59.283103000000004, 55.6667, 55.6667, 59.32395, 59.324043, 59.324043, 59.337052, 59.337241000000006, 59.338506, 59.342488, 59.342412, 60.391373, 60.391553, 60.391553, 59.33684, 59.337649, 59.33441, 59.322483999999996, 59.300098999999996, 60.618624, 59.343676, 45.378534, 45.378529, 45.4167, 45.377865, 45.338113, 45.369091, 45.396663000000004, 45.383249, 45.321837, 45.4167, 45.297353, 59.389982999999994, 59.615292000000004, 59.313313, 59.311918000000006, 59.312476000000004, 59.318835, 59.330224, 59.330631999999994, 59.312211, 59.311525, 59.31229200000001, 48.353968, 48.353968, 43.31552, 43.314136, 42.673046, 42.664547999999996, 41.898827000000004, 42.648132000000004, 42.393482, 42.649107, 41.796592, 59.404784, 59.407491, 59.31694, 59.317482, 59.314018000000004, 59.355906000000004, 59.310643000000006, 59.472767000000005, 59.36630400000001, 59.346251, 59.393638, 55.7, 55.724835, 57.134190000000004, 57.134799, 59.331843000000006, 59.392571, 59.319396999999995, 59.370953, 55.605192, 55.592048, 59.338263, 59.330256999999996, 59.332840000000004, 59.312243, 59.31435, 59.31435, 59.303977, 59.318275, 59.40609, 59.345020999999996, 59.34489, 59.344613, 19.296545000000002, 19.431467, 19.443123, 59.325, 59.496871999999996, 59.484143, 48.194909, 56.51105, 59.302032999999994, 59.301522, 59.301522, 59.35946, 59.346509, 55.67306899999999, 59.346111, 59.346111, 59.358853, 59.394501, 32.898162, 32.897659000000004, 20.721076, 20.616667, 20.857716, 20.677682, 20.636272, 20.63779, 57.79491899999999, 61.826783, 63.400220999999995, 63.400815, 60.557342000000006, 49.00716, -26.105419, -26.106872, 59.340498, 59.34056700000001, 56.521536, 52.309315999999995, 49.004684999999995, 33.990473, 59.318526, 59.336209, 59.325814, 59.30664300000001, 56.285442, 59.313522, 55.704075, 59.340775, 59.339099, 25.086269, 39.570908, 56.504167, 59.339713, 59.308634999999995, 56.514270999999994, 55.646046, 59.32929300000001, 59.344487], \"legendgroup\": \"other\", \"lon\": [13.320191000000001, 13.319934, 13.328798999999998, 13.329405, 17.991395999999998, 17.991395999999998, 18.055155, 17.949796, 17.948417000000003, 17.955825, 18.03139, 18.014271, 17.929849, 18.014355, 17.996825, 18.001157, 18.02788, 17.961932, 17.961932, 17.986595, 17.978678, 18.043532, 18.04215, 18.039406, 17.929575, 17.929575, 17.930698, 17.929575, 17.930717, 17.930141, 17.934247, 17.934686, 17.898338, 18.06824, 18.068007, 17.930224, 17.930224, 17.930224, 17.930224, 17.930574, 17.930574, 17.930029, 17.995303, 17.996493, 17.932261999999998, 17.974266, 17.974522, 17.973633, 36.925005999999996, 17.937795, 17.937795, 17.958644, 17.959456, 17.957805, 18.000826, 17.959726999999997, 17.957642, 18.068185999999997, 18.068209, 17.946377, 16.561259, 16.560881, 16.561193, 16.56109, 16.56189, 55.140151, 55.140665000000006, 55.14074, 55.141073, 13.319137, 13.319137, 13.318739, 13.319025, 13.319416, 13.319227, 13.319194, 13.319, 13.319207999999998, 13.319038, 13.319539, 13.319220999999999, 13.319253, 13.319241, 13.036959, 12.614597, 14.440414, 14.440519, 17.959728, 18.01374, 18.01374, 18.013016, 18.012373999999998, 18.012446, 18.012446, 18.012446, 18.012446, 18.013595000000002, 18.013507, 18.013595000000002, 18.0136, 18.013595000000002, 17.88861, 16.516928, 16.323889, 16.200826, 16.186198, 17.980566, 17.923892000000002, 17.924252, 17.924397, 18.306375, 18.306375, 18.306375, 12.745318, 13.187560000000001, 13.187289999999999, 18.355429, 18.355364, 18.355364, 18.257844, 18.257844, 18.074773999999998, 18.075289, 18.03248, 17.927004999999998, 17.927004, 12.788872, 12.6526, 12.867811999999999, 16.921864000000003, 15.225344, 18.0773, 18.082852, 18.069699, 18.070131, 18.070897, 18.070061, 55.143299, 13.763182, 18.064128, 12.601461, 17.945802, 18.050379, 18.031935999999998, 18.029325, 18.029325, 13.530070000000002, 13.542504999999998, 13.542504999999998, 13.542504999999998, 13.542504999999998, 13.542489999999999, 13.542504999999998, 13.542504999999998, 13.065947, 13.011202, 12.907172000000001, 17.929358999999998, 18.554776999999998, 18.555155, 18.555502, 18.561045999999997, 18.561854, 13.319379000000001, 13.319379000000001, 13.319569, 13.319569, 13.319569, 12.939792, 12.939792, 12.939792, 13.172907999999998, 16.890539, 18.079573999999997, 17.725123, 18.554892000000002, 18.554892000000002, 18.554892000000002, 18.553335999999998, 18.549017000000003, 18.549017000000003, 17.996464000000003, 17.996464000000003, 17.996464000000003, 17.996464000000003, 17.996464000000003, 17.996464000000003, 17.996464000000003, 17.996464000000003, 12.646507000000001, 12.578361, 12.999873, 13.0016, 13.000989, 13.32141, 18.073848, 18.075514000000002, 18.04934, 17.980273, 17.981811999999998, 17.981766, 18.051997, 18.052163, 18.052052, 18.052146, 13.307870999999999, 16.365434, 16.359273, 12.591458, 12.591602, 12.591602, 12.58955, 12.590659, 12.567758999999999, 14.690713, 13.008131, 13.008264, 12.973738, 12.972579, 12.974300999999999, 12.97442, 16.194175, 17.64615, 18.050245999999998, 13.363752999999999, 13.364218, 13.364218, 12.569531, 12.569374, 12.569489, 12.569409, 18.008547, 18.005253, 13.027544, 17.952545, 17.95354, 17.987654, 17.987593, 17.98766, 15.095713, 136.903304, 18.000239999999998, 18.122849, 18.12197, 18.101423999999998, 18.101636, 25.624791000000002, 24.943770999999998, 25.629263, 12.763882, 12.764264, 18.023058, 17.886782999999998, 18.558487, 18.304078, 18.30329, 13.014466, 12.542197, 13.318643, 17.961678, 18.255132999999997, 13.022437, 13.0107, 13.014078, 14.195967000000001, 14.000987, 13.978556, 14.277542, 12.994971000000001, 13.168297, 12.708043, 12.708043, 12.530199, 12.557592999999999, 12.557592999999999, 12.557756, 12.586489, 18.074047, 18.07457, 12.591463000000001, 12.649469, 12.648994, 18.092503, 17.976074, 17.976074, 18.527435999999998, 17.93348, 17.933601, 18.085556, 13.044602000000001, 13.044602000000001, 13.044602000000001, 18.003674, 18.003703, 18.003496, 18.098623, 18.099007999999998, 18.062186999999998, 18.062301, 18.06206, 18.06211, 18.061957999999997, 17.915733, 18.022063, 18.026626, 18.026920999999998, 18.026625, 17.980857999999998, 17.988129999999998, 18.304617999999998, 18.253912, 17.626703, 18.746209, 18.746209, 18.746209, 18.057055, 17.996399, 17.996399, 17.996501000000002, 17.996477, 17.995626, 17.995697, 18.003413000000002, 18.00215, 11.912116000000001, 11.584924, 17.927608, 17.928915, 16.5622, 17.1167, 19.043611, 19.043611, 16.59135, 16.784637, 16.373745, 16.675082999999997, 16.393376, 13.785509, 15.521, 15.596835999999998, 13.448023999999998, 13.448023999999998, 13.041186999999999, 13.04377, 13.048079, 13.041944, 13.33204, 13.321453, 13.321404000000001, 13.190285999999999, 13.188654000000001, 12.613826, 12.614999000000001, 13.3167, 13.3167, 13.324597, 13.324597, 13.323284, 17.718679, 17.98868, 17.98868, 18.004834, 18.059473, 18.251984, 18.251984, 18.252223, 18.088747, 18.081948999999998, 18.014283, 18.05657, 18.017944, 18.017944, 17.965023000000002, 17.933114, 13.2167, 13.2167, 17.95632, 17.956673000000002, 17.956673000000002, 18.053987, 18.054017, 18.052389, 18.036266, 18.036244, 15.383322, 15.383018, 15.383018, 18.081838, 18.077606, 18.068594, 18.071979000000002, 18.003953, 15.656970999999999, 18.045726000000002, 6.504129, 6.504126, 6.65, 6.5065029999999995, 6.572369, 6.513388, 6.632155, 6.61085, 6.539588, 6.566669999999999, 6.5808979999999995, 17.875138, 17.719399, 18.082452, 18.082079999999998, 18.082552, 18.063062, 17.997401, 17.997309, 18.079424, 18.079365, 18.079394, 11.788200999999999, 11.788200999999999, 11.328944, 11.328168, 11.524063, 11.50478, 12.498878999999999, 11.512062, 11.205138, 11.378949, 12.252417, 18.315666, 18.319171, 17.952859, 17.953045, 18.071043, 17.993627, 18.076017999999998, 18.513372, 18.247263, 18.060233, 18.25698, 13.1833, 13.079333, 12.714658, 12.714354, 17.997557999999998, 18.25696, 17.85922, 18.131526, 12.998808, 13.002417999999999, 18.054468, 18.076971, 18.12051, 18.087829, 18.085621, 18.085621, 18.113451, 18.035363, 17.945616, 18.061312, 18.06156, 18.061455, -99.18195899999999, -99.188948, -99.16463399999999, 18.096389000000002, 17.636833, 18.670763, 16.366367999999998, 13.326878, 18.102196, 18.101789, 18.101789, 17.979354, 18.039596, 14.199541, 18.056254, 18.056254, 17.968355, 18.288792, -97.037171, -97.036951, -103.392463, -103.233333, -103.769876, -103.34580799999999, -103.415846, -103.415663, 11.909072, 16.096536999999998, 13.07655, 12.974031, 15.481782, 2.58488, 28.054208000000003, 28.054554, 18.050449, 18.048973999999998, 13.329358, 4.763193, 2.570293, -6.837275, 18.059567, 18.096277, 18.103149, 18.346795, 12.492863999999999, 18.084366, 13.190126000000001, 18.058568, 18.097471, 55.144349, 2.650831, 12.947222, 18.035776000000002, 18.027195000000003, 12.942608, 13.170331, 17.968073999999998, 18.083644], \"marker\": {\"color\": \"#636efa\"}, \"mode\": \"markers\", \"name\": \"other\", \"showlegend\": true, \"subplot\": \"mapbox\", \"type\": \"scattermapbox\"}, {\"customdata\": [[7.0, 1.0, 2.0], [21.0, 2.0, 2.0], [0.0, 6.0, 2.0], [7.0, 2.0, 2.0], [1.0, 0.0, 2.0], [16.0, 6.0, 2.0], [8.0, 4.0, 2.0], [8.0, 2.0, 2.0], [0.0, 1.0, 2.0], [21.0, 1.0, 2.0], [13.0, 4.0, 2.0], [0.0, 6.0, 2.0], [14.0, 0.0, 2.0], [10.0, 2.0, 2.0], [20.0, 6.0, 2.0], [16.0, 1.0, 2.0], [21.0, 1.0, 2.0], [20.0, 2.0, 2.0], [21.0, 2.0, 2.0], [8.0, 2.0, 2.0], [15.0, 6.0, 2.0], [22.0, 6.0, 2.0], [20.0, 3.0, 2.0], [21.0, 3.0, 2.0], [20.0, 6.0, 2.0], [21.0, 6.0, 2.0], [19.0, 0.0, 2.0], [23.0, 5.0, 2.0], [15.0, 6.0, 2.0], [20.0, 2.0, 2.0], [23.0, 1.0, 2.0], [21.0, 0.0, 2.0], [20.0, 5.0, 2.0], [20.0, 5.0, 2.0], [23.0, 0.0, 2.0], [0.0, 4.0, 2.0], [9.0, 5.0, 2.0], [20.0, 6.0, 2.0], [21.0, 4.0, 2.0], [23.0, 5.0, 2.0], [13.0, 0.0, 2.0]], \"hoverlabel\": {\"namelength\": 0}, \"hovertemplate\": \"label=home<br>hourofday=%{customdata[0]}<br>weekday=%{customdata[1]}<br>region=%{customdata[2]}<br>latitude=%{lat}<br>longitude=%{lon}\", \"lat\": [59.339082999999995, 59.33923000000001, 59.339604, 59.339629, 59.339604, 59.340456, 59.338966000000006, 59.340157999999995, 59.340262, 59.340268, 59.340624, 59.339477, 59.340784, 59.340189, 59.340157999999995, 59.340193000000006, 59.34023199999999, 59.340077, 59.340214, 59.34030500000001, 59.339124, 59.340717000000005, 59.340215, 59.340193000000006, 59.340168999999996, 59.340194, 59.340717000000005, 59.340278000000005, 59.340208999999994, 59.341114000000005, 59.34018199999999, 59.340233999999995, 59.340202000000005, 59.340167, 59.340193000000006, 59.340228, 59.340316, 59.340224, 59.340227, 59.339330000000004, 59.340759], \"legendgroup\": \"home\", \"lon\": [17.98985, 17.989798, 17.988546, 17.988089000000002, 17.988546, 17.9914, 17.990655, 17.990547, 17.990589, 17.990638, 17.989302, 17.988961, 17.989635999999997, 17.990581, 17.990477, 17.990544, 17.990502, 17.990645999999998, 17.990661, 17.990551, 17.990142000000002, 17.98937, 17.990451, 17.990448999999998, 17.990508, 17.990547, 17.98937, 17.990491, 17.990446, 17.989234, 17.990663, 17.990377, 17.990507, 17.990494, 17.990539000000002, 17.990662, 17.990482999999998, 17.990385, 17.990535, 17.990661, 17.990906], \"marker\": {\"color\": \"#EF553B\"}, \"mode\": \"markers\", \"name\": \"home\", \"showlegend\": true, \"subplot\": \"mapbox\", \"type\": \"scattermapbox\"}, {\"customdata\": [[17.0, 5.0, 4.0], [17.0, 5.0, 4.0], [15.0, 0.0, 4.0], [16.0, 1.0, 4.0], [10.0, 4.0, 4.0], [10.0, 1.0, 4.0], [12.0, 3.0, 4.0], [11.0, 2.0, 4.0], [14.0, 1.0, 4.0], [14.0, 4.0, 4.0], [11.0, 1.0, 4.0], [17.0, 1.0, 4.0], [20.0, 4.0, 4.0], [16.0, 3.0, 4.0], [18.0, 2.0, 4.0], [11.0, 2.0, 4.0], [15.0, 3.0, 4.0], [15.0, 1.0, 4.0]], \"hoverlabel\": {\"namelength\": 0}, \"hovertemplate\": \"label=work<br>hourofday=%{customdata[0]}<br>weekday=%{customdata[1]}<br>region=%{customdata[2]}<br>latitude=%{lat}<br>longitude=%{lon}\", \"lat\": [59.402304, 59.402304, 59.403755000000004, 59.40310699999999, 59.403117, 59.40310699999999, 59.402924, 59.403201, 59.40299, 59.402879000000006, 59.402395999999996, 59.402052000000005, 59.403991000000005, 59.404853, 59.405122999999996, 59.403022, 59.404809, 59.405469], \"legendgroup\": \"work\", \"lon\": [17.956343, 17.956343, 17.955560000000002, 17.955385999999997, 17.956398, 17.955385999999997, 17.956121, 17.955924, 17.9561, 17.954826999999998, 17.957769, 17.956564, 17.956896, 17.956310000000002, 17.956301, 17.956978, 17.956167999999998, 17.955841], \"marker\": {\"color\": \"#00cc96\"}, \"mode\": \"markers\", \"name\": \"work\", \"showlegend\": true, \"subplot\": \"mapbox\", \"type\": \"scattermapbox\"}],\n",
       "                        {\"legend\": {\"title\": {\"text\": \"label\"}, \"tracegroupgap\": 0}, \"mapbox\": {\"center\": {\"lat\": 55.91697750259965, \"lon\": 14.645934556325821}, \"domain\": {\"x\": [0.0, 1.0], \"y\": [0.0, 1.0]}, \"style\": \"open-street-map\", \"zoom\": 8}, \"margin\": {\"t\": 60}, \"template\": {\"data\": {\"bar\": [{\"error_x\": {\"color\": \"#2a3f5f\"}, \"error_y\": {\"color\": \"#2a3f5f\"}, \"marker\": {\"line\": {\"color\": \"#E5ECF6\", \"width\": 0.5}}, \"type\": \"bar\"}], \"barpolar\": [{\"marker\": {\"line\": {\"color\": \"#E5ECF6\", \"width\": 0.5}}, \"type\": \"barpolar\"}], \"carpet\": [{\"aaxis\": {\"endlinecolor\": \"#2a3f5f\", \"gridcolor\": \"white\", \"linecolor\": \"white\", \"minorgridcolor\": \"white\", \"startlinecolor\": \"#2a3f5f\"}, \"baxis\": {\"endlinecolor\": \"#2a3f5f\", \"gridcolor\": \"white\", \"linecolor\": \"white\", \"minorgridcolor\": \"white\", \"startlinecolor\": \"#2a3f5f\"}, \"type\": \"carpet\"}], \"choropleth\": [{\"colorbar\": {\"outlinewidth\": 0, \"ticks\": \"\"}, \"type\": \"choropleth\"}], \"contour\": [{\"colorbar\": {\"outlinewidth\": 0, \"ticks\": \"\"}, \"colorscale\": [[0.0, \"#0d0887\"], [0.1111111111111111, \"#46039f\"], [0.2222222222222222, \"#7201a8\"], [0.3333333333333333, \"#9c179e\"], [0.4444444444444444, \"#bd3786\"], [0.5555555555555556, \"#d8576b\"], [0.6666666666666666, \"#ed7953\"], [0.7777777777777778, \"#fb9f3a\"], [0.8888888888888888, \"#fdca26\"], [1.0, \"#f0f921\"]], \"type\": \"contour\"}], \"contourcarpet\": [{\"colorbar\": {\"outlinewidth\": 0, \"ticks\": \"\"}, \"type\": \"contourcarpet\"}], \"heatmap\": [{\"colorbar\": {\"outlinewidth\": 0, \"ticks\": \"\"}, \"colorscale\": [[0.0, \"#0d0887\"], [0.1111111111111111, \"#46039f\"], [0.2222222222222222, \"#7201a8\"], [0.3333333333333333, \"#9c179e\"], [0.4444444444444444, \"#bd3786\"], [0.5555555555555556, \"#d8576b\"], [0.6666666666666666, \"#ed7953\"], [0.7777777777777778, \"#fb9f3a\"], [0.8888888888888888, \"#fdca26\"], [1.0, \"#f0f921\"]], \"type\": \"heatmap\"}], \"heatmapgl\": [{\"colorbar\": {\"outlinewidth\": 0, \"ticks\": \"\"}, \"colorscale\": [[0.0, \"#0d0887\"], [0.1111111111111111, \"#46039f\"], [0.2222222222222222, \"#7201a8\"], [0.3333333333333333, \"#9c179e\"], [0.4444444444444444, \"#bd3786\"], [0.5555555555555556, \"#d8576b\"], [0.6666666666666666, \"#ed7953\"], [0.7777777777777778, \"#fb9f3a\"], [0.8888888888888888, \"#fdca26\"], [1.0, \"#f0f921\"]], \"type\": \"heatmapgl\"}], \"histogram\": [{\"marker\": {\"colorbar\": {\"outlinewidth\": 0, \"ticks\": \"\"}}, \"type\": \"histogram\"}], \"histogram2d\": [{\"colorbar\": {\"outlinewidth\": 0, \"ticks\": \"\"}, \"colorscale\": [[0.0, \"#0d0887\"], [0.1111111111111111, \"#46039f\"], [0.2222222222222222, \"#7201a8\"], [0.3333333333333333, \"#9c179e\"], [0.4444444444444444, \"#bd3786\"], [0.5555555555555556, \"#d8576b\"], [0.6666666666666666, \"#ed7953\"], [0.7777777777777778, \"#fb9f3a\"], [0.8888888888888888, \"#fdca26\"], [1.0, \"#f0f921\"]], \"type\": \"histogram2d\"}], \"histogram2dcontour\": [{\"colorbar\": {\"outlinewidth\": 0, \"ticks\": \"\"}, \"colorscale\": [[0.0, \"#0d0887\"], [0.1111111111111111, \"#46039f\"], [0.2222222222222222, \"#7201a8\"], [0.3333333333333333, \"#9c179e\"], [0.4444444444444444, \"#bd3786\"], [0.5555555555555556, \"#d8576b\"], [0.6666666666666666, \"#ed7953\"], [0.7777777777777778, \"#fb9f3a\"], [0.8888888888888888, \"#fdca26\"], [1.0, \"#f0f921\"]], \"type\": \"histogram2dcontour\"}], \"mesh3d\": [{\"colorbar\": {\"outlinewidth\": 0, \"ticks\": \"\"}, \"type\": \"mesh3d\"}], \"parcoords\": [{\"line\": {\"colorbar\": {\"outlinewidth\": 0, \"ticks\": \"\"}}, \"type\": \"parcoords\"}], \"pie\": [{\"automargin\": true, \"type\": \"pie\"}], \"scatter\": [{\"marker\": {\"colorbar\": {\"outlinewidth\": 0, \"ticks\": \"\"}}, \"type\": \"scatter\"}], \"scatter3d\": [{\"line\": {\"colorbar\": {\"outlinewidth\": 0, \"ticks\": \"\"}}, \"marker\": {\"colorbar\": {\"outlinewidth\": 0, \"ticks\": \"\"}}, \"type\": \"scatter3d\"}], \"scattercarpet\": [{\"marker\": {\"colorbar\": {\"outlinewidth\": 0, \"ticks\": \"\"}}, \"type\": \"scattercarpet\"}], \"scattergeo\": [{\"marker\": {\"colorbar\": {\"outlinewidth\": 0, \"ticks\": \"\"}}, \"type\": \"scattergeo\"}], \"scattergl\": [{\"marker\": {\"colorbar\": {\"outlinewidth\": 0, \"ticks\": \"\"}}, \"type\": \"scattergl\"}], \"scattermapbox\": [{\"marker\": {\"colorbar\": {\"outlinewidth\": 0, \"ticks\": \"\"}}, \"type\": \"scattermapbox\"}], \"scatterpolar\": [{\"marker\": {\"colorbar\": {\"outlinewidth\": 0, \"ticks\": \"\"}}, \"type\": \"scatterpolar\"}], \"scatterpolargl\": [{\"marker\": {\"colorbar\": {\"outlinewidth\": 0, \"ticks\": \"\"}}, \"type\": \"scatterpolargl\"}], \"scatterternary\": [{\"marker\": {\"colorbar\": {\"outlinewidth\": 0, \"ticks\": \"\"}}, \"type\": \"scatterternary\"}], \"surface\": [{\"colorbar\": {\"outlinewidth\": 0, \"ticks\": \"\"}, \"colorscale\": [[0.0, \"#0d0887\"], [0.1111111111111111, \"#46039f\"], [0.2222222222222222, \"#7201a8\"], [0.3333333333333333, \"#9c179e\"], [0.4444444444444444, \"#bd3786\"], [0.5555555555555556, \"#d8576b\"], [0.6666666666666666, \"#ed7953\"], [0.7777777777777778, \"#fb9f3a\"], [0.8888888888888888, \"#fdca26\"], [1.0, \"#f0f921\"]], \"type\": \"surface\"}], \"table\": [{\"cells\": {\"fill\": {\"color\": \"#EBF0F8\"}, \"line\": {\"color\": \"white\"}}, \"header\": {\"fill\": {\"color\": \"#C8D4E3\"}, \"line\": {\"color\": \"white\"}}, \"type\": \"table\"}]}, \"layout\": {\"annotationdefaults\": {\"arrowcolor\": \"#2a3f5f\", \"arrowhead\": 0, \"arrowwidth\": 1}, \"coloraxis\": {\"colorbar\": {\"outlinewidth\": 0, \"ticks\": \"\"}}, \"colorscale\": {\"diverging\": [[0, \"#8e0152\"], [0.1, \"#c51b7d\"], [0.2, \"#de77ae\"], [0.3, \"#f1b6da\"], [0.4, \"#fde0ef\"], [0.5, \"#f7f7f7\"], [0.6, \"#e6f5d0\"], [0.7, \"#b8e186\"], [0.8, \"#7fbc41\"], [0.9, \"#4d9221\"], [1, \"#276419\"]], \"sequential\": [[0.0, \"#0d0887\"], [0.1111111111111111, \"#46039f\"], [0.2222222222222222, \"#7201a8\"], [0.3333333333333333, \"#9c179e\"], [0.4444444444444444, \"#bd3786\"], [0.5555555555555556, \"#d8576b\"], [0.6666666666666666, \"#ed7953\"], [0.7777777777777778, \"#fb9f3a\"], [0.8888888888888888, \"#fdca26\"], [1.0, \"#f0f921\"]], \"sequentialminus\": [[0.0, \"#0d0887\"], [0.1111111111111111, \"#46039f\"], [0.2222222222222222, \"#7201a8\"], [0.3333333333333333, \"#9c179e\"], [0.4444444444444444, \"#bd3786\"], [0.5555555555555556, \"#d8576b\"], [0.6666666666666666, \"#ed7953\"], [0.7777777777777778, \"#fb9f3a\"], [0.8888888888888888, \"#fdca26\"], [1.0, \"#f0f921\"]]}, \"colorway\": [\"#636efa\", \"#EF553B\", \"#00cc96\", \"#ab63fa\", \"#FFA15A\", \"#19d3f3\", \"#FF6692\", \"#B6E880\", \"#FF97FF\", \"#FECB52\"], \"font\": {\"color\": \"#2a3f5f\"}, \"geo\": {\"bgcolor\": \"white\", \"lakecolor\": \"white\", \"landcolor\": \"#E5ECF6\", \"showlakes\": true, \"showland\": true, \"subunitcolor\": \"white\"}, \"hoverlabel\": {\"align\": \"left\"}, \"hovermode\": \"closest\", \"mapbox\": {\"style\": \"light\"}, \"paper_bgcolor\": \"white\", \"plot_bgcolor\": \"#E5ECF6\", \"polar\": {\"angularaxis\": {\"gridcolor\": \"white\", \"linecolor\": \"white\", \"ticks\": \"\"}, \"bgcolor\": \"#E5ECF6\", \"radialaxis\": {\"gridcolor\": \"white\", \"linecolor\": \"white\", \"ticks\": \"\"}}, \"scene\": {\"xaxis\": {\"backgroundcolor\": \"#E5ECF6\", \"gridcolor\": \"white\", \"gridwidth\": 2, \"linecolor\": \"white\", \"showbackground\": true, \"ticks\": \"\", \"zerolinecolor\": \"white\"}, \"yaxis\": {\"backgroundcolor\": \"#E5ECF6\", \"gridcolor\": \"white\", \"gridwidth\": 2, \"linecolor\": \"white\", \"showbackground\": true, \"ticks\": \"\", \"zerolinecolor\": \"white\"}, \"zaxis\": {\"backgroundcolor\": \"#E5ECF6\", \"gridcolor\": \"white\", \"gridwidth\": 2, \"linecolor\": \"white\", \"showbackground\": true, \"ticks\": \"\", \"zerolinecolor\": \"white\"}}, \"shapedefaults\": {\"line\": {\"color\": \"#2a3f5f\"}}, \"ternary\": {\"aaxis\": {\"gridcolor\": \"white\", \"linecolor\": \"white\", \"ticks\": \"\"}, \"baxis\": {\"gridcolor\": \"white\", \"linecolor\": \"white\", \"ticks\": \"\"}, \"bgcolor\": \"#E5ECF6\", \"caxis\": {\"gridcolor\": \"white\", \"linecolor\": \"white\", \"ticks\": \"\"}}, \"title\": {\"x\": 0.05}, \"xaxis\": {\"automargin\": true, \"gridcolor\": \"white\", \"linecolor\": \"white\", \"ticks\": \"\", \"title\": {\"standoff\": 15}, \"zerolinecolor\": \"white\", \"zerolinewidth\": 2}, \"yaxis\": {\"automargin\": true, \"gridcolor\": \"white\", \"linecolor\": \"white\", \"ticks\": \"\", \"title\": {\"standoff\": 15}, \"zerolinecolor\": \"white\", \"zerolinewidth\": 2}}}},\n",
       "                        {\"responsive\": true}\n",
       "                    ).then(function(){\n",
       "                            \n",
       "var gd = document.getElementById('5173e9e1-fee1-4476-8999-ba95b01dd45e');\n",
       "var x = new MutationObserver(function (mutations, observer) {{\n",
       "        var display = window.getComputedStyle(gd).display;\n",
       "        if (!display || display === 'none') {{\n",
       "            console.log([gd, 'removed!']);\n",
       "            Plotly.purge(gd);\n",
       "            observer.disconnect();\n",
       "        }}\n",
       "}});\n",
       "\n",
       "// Listen for the removal of the full notebook cells\n",
       "var notebookContainer = gd.closest('#notebook-container');\n",
       "if (notebookContainer) {{\n",
       "    x.observe(notebookContainer, {childList: true});\n",
       "}}\n",
       "\n",
       "// Listen for the clearing of the current output cell\n",
       "var outputEl = gd.closest('.output');\n",
       "if (outputEl) {{\n",
       "    x.observe(outputEl, {childList: true});\n",
       "}}\n",
       "\n",
       "                        })\n",
       "                };\n",
       "                });\n",
       "            </script>\n",
       "        </div>"
      ]
     },
     "metadata": {},
     "output_type": "display_data"
    }
   ],
   "source": [
    "ts = regions_subset_work.loc[230864185]\n",
    "fig = px.scatter_mapbox(ts.reset_index(), lat='latitude', lon='longitude', hover_data=['hourofday', 'weekday', 'region'], color='label')\n",
    "fig.update_layout(mapbox_style=\"open-street-map\")\n",
    "fig.show()"
   ]
  },
  {
   "cell_type": "code",
   "execution_count": 824,
   "metadata": {},
   "outputs": [
    {
     "data": {
      "text/plain": [
       "array([[0.00144959, 0.00144959, 0.00146758, ..., 0.00150477, 0.0014563 ,\n",
       "        0.00144959],\n",
       "       [0.00144959, 0.00144959, 0.00146758, ..., 0.00150477, 0.0014563 ,\n",
       "        0.00144959],\n",
       "       [0.01658307, 0.01658307, 0.0167889 , ..., 0.01721438, 0.01665984,\n",
       "        0.01658307],\n",
       "       ...,\n",
       "       [0.00144959, 0.00144959, 0.00146758, ..., 0.00150477, 0.0014563 ,\n",
       "        0.00144959],\n",
       "       [0.00144959, 0.00144959, 0.00146758, ..., 0.00150477, 0.0014563 ,\n",
       "        0.00144959],\n",
       "       [0.00290589, 0.00290589, 0.00294196, ..., 0.00301651, 0.00291934,\n",
       "        0.00290589]])"
      ]
     },
     "execution_count": 824,
     "metadata": {},
     "output_type": "execute_result"
    }
   ],
   "source": [
    "u = regions_subset_work.copy(deep=True)\n",
    "tp = transition_prob(u.loc[230864185, :].reset_index().sort_values('createdat'), timedlt=timedelta(hours=12), n_regions=250).T\n",
    "initial_state = np.zeros((tp.shape[0],1))\n",
    "initial_state[2] = 1\n",
    "res = pandas.DataFrame({\n",
    "    1: np.linalg.matrix_power(tp,1).dot(initial_state)[:,0],\n",
    "    2: np.linalg.matrix_power(tp,2).dot(initial_state)[:,0],\n",
    "    3: np.linalg.matrix_power(tp,3).dot(initial_state)[:,0],\n",
    "    4: np.linalg.matrix_power(tp,4).dot(initial_state)[:,0],\n",
    "    5: np.linalg.matrix_power(tp,5).dot(initial_state)[:,0],\n",
    "})\n",
    "res\n",
    "\n",
    "np.linalg.matrix_power(tp,100)\n",
    "                                                                                                                          "
   ]
  },
  {
   "cell_type": "code",
   "execution_count": 224,
   "metadata": {},
   "outputs": [],
   "source": [
    "dfc = regions_subset_home.copy(deep=False)"
   ]
  },
  {
   "cell_type": "code",
   "execution_count": 225,
   "metadata": {},
   "outputs": [],
   "source": []
  },
  {
   "cell_type": "code",
   "execution_count": 497,
   "metadata": {},
   "outputs": [],
   "source": [
    "u = dfc.loc[11773412]\n",
    "u = u[(u['weekday'] < 6) & (u['weekday'] > 0)]"
   ]
  },
  {
   "cell_type": "code",
   "execution_count": 500,
   "metadata": {},
   "outputs": [
    {
     "data": {
      "text/html": [
       "<div>\n",
       "<style scoped>\n",
       "    .dataframe tbody tr th:only-of-type {\n",
       "        vertical-align: middle;\n",
       "    }\n",
       "\n",
       "    .dataframe tbody tr th {\n",
       "        vertical-align: top;\n",
       "    }\n",
       "\n",
       "    .dataframe thead th {\n",
       "        text-align: right;\n",
       "    }\n",
       "</style>\n",
       "<table border=\"1\" class=\"dataframe\">\n",
       "  <thead>\n",
       "    <tr style=\"text-align: right;\">\n",
       "      <th></th>\n",
       "      <th>region</th>\n",
       "      <th>tweetid</th>\n",
       "      <th>createdat</th>\n",
       "      <th>latitude</th>\n",
       "      <th>longitude</th>\n",
       "      <th>month</th>\n",
       "      <th>weekday</th>\n",
       "      <th>hourofday</th>\n",
       "      <th>timezone</th>\n",
       "      <th>geometry</th>\n",
       "      <th>tweet_count</th>\n",
       "      <th>quantile</th>\n",
       "      <th>label</th>\n",
       "    </tr>\n",
       "    <tr>\n",
       "      <th>userid</th>\n",
       "      <th></th>\n",
       "      <th></th>\n",
       "      <th></th>\n",
       "      <th></th>\n",
       "      <th></th>\n",
       "      <th></th>\n",
       "      <th></th>\n",
       "      <th></th>\n",
       "      <th></th>\n",
       "      <th></th>\n",
       "      <th></th>\n",
       "      <th></th>\n",
       "      <th></th>\n",
       "    </tr>\n",
       "  </thead>\n",
       "  <tbody>\n",
       "    <tr>\n",
       "      <th>11773412</th>\n",
       "      <td>0</td>\n",
       "      <td>24416046138</td>\n",
       "      <td>2010-09-13 17:21:37-04:00</td>\n",
       "      <td>39.942592</td>\n",
       "      <td>-75.157083</td>\n",
       "      <td>9.0</td>\n",
       "      <td>1.0</td>\n",
       "      <td>17.0</td>\n",
       "      <td>America/New_York</td>\n",
       "      <td>POINT (-75.15708 39.94259)</td>\n",
       "      <td>633</td>\n",
       "      <td>(610.0, 793.0]</td>\n",
       "      <td>other</td>\n",
       "    </tr>\n",
       "    <tr>\n",
       "      <th>11773412</th>\n",
       "      <td>1</td>\n",
       "      <td>24421764421</td>\n",
       "      <td>2010-09-13 18:47:41-04:00</td>\n",
       "      <td>40.124210</td>\n",
       "      <td>-74.962517</td>\n",
       "      <td>9.0</td>\n",
       "      <td>1.0</td>\n",
       "      <td>18.0</td>\n",
       "      <td>America/New_York</td>\n",
       "      <td>POINT (-74.96252 40.12421)</td>\n",
       "      <td>633</td>\n",
       "      <td>(610.0, 793.0]</td>\n",
       "      <td>other</td>\n",
       "    </tr>\n",
       "    <tr>\n",
       "      <th>11773412</th>\n",
       "      <td>2</td>\n",
       "      <td>24492206111</td>\n",
       "      <td>2010-09-14 12:55:10-04:00</td>\n",
       "      <td>39.949100</td>\n",
       "      <td>-75.149200</td>\n",
       "      <td>9.0</td>\n",
       "      <td>2.0</td>\n",
       "      <td>12.0</td>\n",
       "      <td>America/New_York</td>\n",
       "      <td>POINT (-75.14920 39.94910)</td>\n",
       "      <td>633</td>\n",
       "      <td>(610.0, 793.0]</td>\n",
       "      <td>other</td>\n",
       "    </tr>\n",
       "    <tr>\n",
       "      <th>11773412</th>\n",
       "      <td>3</td>\n",
       "      <td>24493827065</td>\n",
       "      <td>2010-09-14 13:15:57-04:00</td>\n",
       "      <td>39.950115</td>\n",
       "      <td>-75.150218</td>\n",
       "      <td>9.0</td>\n",
       "      <td>2.0</td>\n",
       "      <td>13.0</td>\n",
       "      <td>America/New_York</td>\n",
       "      <td>POINT (-75.15022 39.95012)</td>\n",
       "      <td>633</td>\n",
       "      <td>(610.0, 793.0]</td>\n",
       "      <td>other</td>\n",
       "    </tr>\n",
       "    <tr>\n",
       "      <th>11773412</th>\n",
       "      <td>4</td>\n",
       "      <td>24497745732</td>\n",
       "      <td>2010-09-14 14:11:58-04:00</td>\n",
       "      <td>39.952065</td>\n",
       "      <td>-75.145047</td>\n",
       "      <td>9.0</td>\n",
       "      <td>2.0</td>\n",
       "      <td>14.0</td>\n",
       "      <td>America/New_York</td>\n",
       "      <td>POINT (-75.14505 39.95207)</td>\n",
       "      <td>633</td>\n",
       "      <td>(610.0, 793.0]</td>\n",
       "      <td>other</td>\n",
       "    </tr>\n",
       "    <tr>\n",
       "      <th>...</th>\n",
       "      <td>...</td>\n",
       "      <td>...</td>\n",
       "      <td>...</td>\n",
       "      <td>...</td>\n",
       "      <td>...</td>\n",
       "      <td>...</td>\n",
       "      <td>...</td>\n",
       "      <td>...</td>\n",
       "      <td>...</td>\n",
       "      <td>...</td>\n",
       "      <td>...</td>\n",
       "      <td>...</td>\n",
       "      <td>...</td>\n",
       "    </tr>\n",
       "    <tr>\n",
       "      <th>11773412</th>\n",
       "      <td>248</td>\n",
       "      <td>1053403699131879427</td>\n",
       "      <td>2018-10-19 23:53:07+02:00</td>\n",
       "      <td>78.221149</td>\n",
       "      <td>15.644875</td>\n",
       "      <td>10.0</td>\n",
       "      <td>5.0</td>\n",
       "      <td>23.0</td>\n",
       "      <td>Arctic/Longyearbyen</td>\n",
       "      <td>POINT (15.64488 78.22115)</td>\n",
       "      <td>633</td>\n",
       "      <td>(610.0, 793.0]</td>\n",
       "      <td>other</td>\n",
       "    </tr>\n",
       "    <tr>\n",
       "      <th>11773412</th>\n",
       "      <td>250</td>\n",
       "      <td>1078662936241926144</td>\n",
       "      <td>2018-12-28 15:44:19+01:00</td>\n",
       "      <td>61.156020</td>\n",
       "      <td>13.203516</td>\n",
       "      <td>12.0</td>\n",
       "      <td>5.0</td>\n",
       "      <td>15.0</td>\n",
       "      <td>Europe/Stockholm</td>\n",
       "      <td>POINT (13.20352 61.15602)</td>\n",
       "      <td>633</td>\n",
       "      <td>(610.0, 793.0]</td>\n",
       "      <td>other</td>\n",
       "    </tr>\n",
       "    <tr>\n",
       "      <th>11773412</th>\n",
       "      <td>251</td>\n",
       "      <td>1080484596792336385</td>\n",
       "      <td>2019-01-02 16:22:56+01:00</td>\n",
       "      <td>61.161053</td>\n",
       "      <td>13.107682</td>\n",
       "      <td>1.0</td>\n",
       "      <td>3.0</td>\n",
       "      <td>16.0</td>\n",
       "      <td>Europe/Stockholm</td>\n",
       "      <td>POINT (13.10768 61.16105)</td>\n",
       "      <td>633</td>\n",
       "      <td>(610.0, 793.0]</td>\n",
       "      <td>other</td>\n",
       "    </tr>\n",
       "    <tr>\n",
       "      <th>11773412</th>\n",
       "      <td>252</td>\n",
       "      <td>1087646966077509634</td>\n",
       "      <td>2019-01-22 10:43:38+01:00</td>\n",
       "      <td>59.312035</td>\n",
       "      <td>18.038101</td>\n",
       "      <td>1.0</td>\n",
       "      <td>2.0</td>\n",
       "      <td>10.0</td>\n",
       "      <td>Europe/Stockholm</td>\n",
       "      <td>POINT (18.03810 59.31203)</td>\n",
       "      <td>633</td>\n",
       "      <td>(610.0, 793.0]</td>\n",
       "      <td>other</td>\n",
       "    </tr>\n",
       "    <tr>\n",
       "      <th>11773412</th>\n",
       "      <td>253</td>\n",
       "      <td>1093113136561811457</td>\n",
       "      <td>2019-02-06 12:44:15+01:00</td>\n",
       "      <td>61.304168</td>\n",
       "      <td>12.202982</td>\n",
       "      <td>2.0</td>\n",
       "      <td>3.0</td>\n",
       "      <td>12.0</td>\n",
       "      <td>Europe/Oslo</td>\n",
       "      <td>POINT (12.20298 61.30417)</td>\n",
       "      <td>633</td>\n",
       "      <td>(610.0, 793.0]</td>\n",
       "      <td>other</td>\n",
       "    </tr>\n",
       "  </tbody>\n",
       "</table>\n",
       "<p>442 rows × 13 columns</p>\n",
       "</div>"
      ],
      "text/plain": [
       "          region              tweetid                  createdat   latitude  \\\n",
       "userid                                                                        \n",
       "11773412       0          24416046138  2010-09-13 17:21:37-04:00  39.942592   \n",
       "11773412       1          24421764421  2010-09-13 18:47:41-04:00  40.124210   \n",
       "11773412       2          24492206111  2010-09-14 12:55:10-04:00  39.949100   \n",
       "11773412       3          24493827065  2010-09-14 13:15:57-04:00  39.950115   \n",
       "11773412       4          24497745732  2010-09-14 14:11:58-04:00  39.952065   \n",
       "...          ...                  ...                        ...        ...   \n",
       "11773412     248  1053403699131879427  2018-10-19 23:53:07+02:00  78.221149   \n",
       "11773412     250  1078662936241926144  2018-12-28 15:44:19+01:00  61.156020   \n",
       "11773412     251  1080484596792336385  2019-01-02 16:22:56+01:00  61.161053   \n",
       "11773412     252  1087646966077509634  2019-01-22 10:43:38+01:00  59.312035   \n",
       "11773412     253  1093113136561811457  2019-02-06 12:44:15+01:00  61.304168   \n",
       "\n",
       "          longitude  month  weekday  hourofday             timezone  \\\n",
       "userid                                                                \n",
       "11773412 -75.157083    9.0      1.0       17.0     America/New_York   \n",
       "11773412 -74.962517    9.0      1.0       18.0     America/New_York   \n",
       "11773412 -75.149200    9.0      2.0       12.0     America/New_York   \n",
       "11773412 -75.150218    9.0      2.0       13.0     America/New_York   \n",
       "11773412 -75.145047    9.0      2.0       14.0     America/New_York   \n",
       "...             ...    ...      ...        ...                  ...   \n",
       "11773412  15.644875   10.0      5.0       23.0  Arctic/Longyearbyen   \n",
       "11773412  13.203516   12.0      5.0       15.0     Europe/Stockholm   \n",
       "11773412  13.107682    1.0      3.0       16.0     Europe/Stockholm   \n",
       "11773412  18.038101    1.0      2.0       10.0     Europe/Stockholm   \n",
       "11773412  12.202982    2.0      3.0       12.0          Europe/Oslo   \n",
       "\n",
       "                            geometry  tweet_count        quantile  label  \n",
       "userid                                                                    \n",
       "11773412  POINT (-75.15708 39.94259)          633  (610.0, 793.0]  other  \n",
       "11773412  POINT (-74.96252 40.12421)          633  (610.0, 793.0]  other  \n",
       "11773412  POINT (-75.14920 39.94910)          633  (610.0, 793.0]  other  \n",
       "11773412  POINT (-75.15022 39.95012)          633  (610.0, 793.0]  other  \n",
       "11773412  POINT (-75.14505 39.95207)          633  (610.0, 793.0]  other  \n",
       "...                              ...          ...             ...    ...  \n",
       "11773412   POINT (15.64488 78.22115)          633  (610.0, 793.0]  other  \n",
       "11773412   POINT (13.20352 61.15602)          633  (610.0, 793.0]  other  \n",
       "11773412   POINT (13.10768 61.16105)          633  (610.0, 793.0]  other  \n",
       "11773412   POINT (18.03810 59.31203)          633  (610.0, 793.0]  other  \n",
       "11773412   POINT (12.20298 61.30417)          633  (610.0, 793.0]  other  \n",
       "\n",
       "[442 rows x 13 columns]"
      ]
     },
     "execution_count": 500,
     "metadata": {},
     "output_type": "execute_result"
    }
   ],
   "source": [
    "u\n",
    "\n",
    "\n"
   ]
  },
  {
   "cell_type": "code",
   "execution_count": 463,
   "metadata": {},
   "outputs": [
    {
     "data": {
      "text/plain": [
       "<matplotlib.axes._subplots.AxesSubplot at 0x1441b9730>"
      ]
     },
     "execution_count": 463,
     "metadata": {},
     "output_type": "execute_result"
    },
    {
     "data": {
      "image/png": "[encoded data removed]",
      "text/plain": [
       "<Figure size 432x288 with 1 Axes>"
      ]
     },
     "metadata": {
      "needs_background": "light"
     },
     "output_type": "display_data"
    }
   ],
   "source": [
    "from datetime import timedelta\n",
    "words = []\n",
    "current_word = []\n",
    "prev_row = None\n",
    "for _, row in u.iterrows():\n",
    "    if prev_row is None:\n",
    "        current_word.append(str(row['region'] if row['label'] == \"other\" else row['label']))\n",
    "    else:\n",
    "        if row['createdat'] - prev_row['createdat'] < timedelta(hours=8):\n",
    "            if str(row['region'] if row['label'] == \"other\" else row['label']) != current_word[len(current_word) - 1]:\n",
    "                current_word.append(str(row['region'] if row['label'] == \"other\" else row['label']))\n",
    "        else:\n",
    "            words.append(' '.join(current_word))\n",
    "            current_word = [str(row['region'] if row['label'] == \"other\" else row['label'])]\n",
    "    prev_row = row\n",
    "words.append(' '.join(current_word))\n",
    "from sklearn.feature_extraction.text import CountVectorizer\n",
    "vct = CountVectorizer(analyzer='word', ngram_range=(2,2), min_df=0)\n",
    "freqs = vct.fit_transform(words).toarray().sum(axis=0)\n",
    "bigrams = vct.get_feature_names()\n",
    "seqdf = pandas.DataFrame({\n",
    "    'count': freqs,\n",
    "    'bigram': bigrams,\n",
    "})\n",
    "seqdf['origin'] = seqdf['bigram'].apply(lambda x: x.split(' ')[0])\n",
    "seqdf['destination']= seqdf['bigram'].apply(lambda x: x.split(' ')[1])\n",
    "seqdf2 = seqdf.copy(deep=True)\n",
    "def rev(x):\n",
    "    xs = x.split(' ')\n",
    "    return xs[1] + \" \" + xs[0]\n",
    "seqdf2['bigram'] = seqdf2['bigram'].apply(rev)\n",
    "seqdf3 = seqdf.merge(seqdf2, on='bigram', how='left')\n",
    "seqdf3['count_y'] = seqdf3['count_y'].fillna(0)\n",
    "seqdf3['count'] = seqdf3['count_x'] + seqdf3['count_y']\n",
    "seqdf3[seqdf3['count_x'] != seqdf3['count_y']]\n",
    "seqdf3[(seqdf3['origin_x'] == 'home') | (seqdf3['destination_x'] == 'home') ].sort_values('count', ascending=False).set_index('bigram').head(10).plot(kind='barh')"
   ]
  },
  {
   "cell_type": "code",
   "execution_count": null,
   "metadata": {},
   "outputs": [],
   "source": []
  }
 ],
 "metadata": {
  "kernelspec": {
   "display_name": "PyCharm (mscthesis)",
   "language": "python",
   "name": "pycharm-eadfd222"
  },
  "language_info": {
   "codemirror_mode": {
    "name": "ipython",
    "version": 3
   },
   "file_extension": ".py",
   "mimetype": "text/x-python",
   "name": "python",
   "nbconvert_exporter": "python",
   "pygments_lexer": "ipython3",
   "version": "3.8.1"
  }
 },
 "nbformat": 4,
 "nbformat_minor": 4
}

{
 "cells": [
  {
   "cell_type": "code",
   "execution_count": 1,
   "metadata": {},
   "outputs": [],
   "source": [
    "%load_ext autoreload\n",
    "%autoreload 2"
   ]
  },
  {
   "cell_type": "code",
   "execution_count": 37,
   "metadata": {
    "pycharm": {
     "is_executing": true
    }
   },
   "outputs": [],
   "source": [
    "import mscthesis\n",
    "import geopandas as gpd\n",
    "import plotly.express as px\n",
    "import plots\n",
    "import matplotlib.pyplot as plt\n",
    "import matplotlib as mpl\n",
    "import numpy as np\n",
    "import pandas as pd"
   ]
  },
  {
   "cell_type": "code",
   "execution_count": 3,
   "metadata": {},
   "outputs": [],
   "source": [
    "tweets = mscthesis.read_geotweets_raw(\"./../../dbs/sweden/geotweets.csv\").set_index(['userid', 'region'])"
   ]
  },
  {
   "cell_type": "code",
   "execution_count": 4,
   "metadata": {},
   "outputs": [
    {
     "data": {
      "text/plain": [
       "userid\n",
       "707199518400454656    452\n",
       "707269946515058688    157\n",
       "707941888637014016     76\n",
       "708657310370021382     59\n",
       "712179199260422144     49\n",
       "716705607802294274     50\n",
       "722569311894814720    260\n",
       "750012578802364416     50\n",
       "751647827651092481     61\n",
       "753867220246269952     20\n",
       "764655612525473792     64\n",
       "778179816889675777     36\n",
       "782260642770288640     47\n",
       "790301765744951296     54\n",
       "794973407964229636    856\n",
       "dtype: int64"
      ]
     },
     "execution_count": 4,
     "metadata": {},
     "output_type": "execute_result"
    }
   ],
   "source": [
    "tweets.groupby(level=0).size().tail(15)"
   ]
  },
  {
   "cell_type": "code",
   "execution_count": 5,
   "metadata": {},
   "outputs": [
    {
     "data": {
      "text/html": [
       "<div>\n",
       "<style scoped>\n",
       "    .dataframe tbody tr th:only-of-type {\n",
       "        vertical-align: middle;\n",
       "    }\n",
       "\n",
       "    .dataframe tbody tr th {\n",
       "        vertical-align: top;\n",
       "    }\n",
       "\n",
       "    .dataframe thead th {\n",
       "        text-align: right;\n",
       "    }\n",
       "</style>\n",
       "<table border=\"1\" class=\"dataframe\">\n",
       "  <thead>\n",
       "    <tr style=\"text-align: right;\">\n",
       "      <th></th>\n",
       "      <th></th>\n",
       "      <th>latitude</th>\n",
       "      <th>longitude</th>\n",
       "    </tr>\n",
       "    <tr>\n",
       "      <th>userid</th>\n",
       "      <th>region</th>\n",
       "      <th></th>\n",
       "      <th></th>\n",
       "    </tr>\n",
       "  </thead>\n",
       "  <tbody>\n",
       "    <tr>\n",
       "      <th rowspan=\"3\" valign=\"top\">5616</th>\n",
       "      <th>0</th>\n",
       "      <td>57.599221</td>\n",
       "      <td>18.436371</td>\n",
       "    </tr>\n",
       "    <tr>\n",
       "      <th>1</th>\n",
       "      <td>59.442985</td>\n",
       "      <td>17.952117</td>\n",
       "    </tr>\n",
       "    <tr>\n",
       "      <th>2</th>\n",
       "      <td>59.652696</td>\n",
       "      <td>17.930374</td>\n",
       "    </tr>\n",
       "  </tbody>\n",
       "</table>\n",
       "</div>"
      ],
      "text/plain": [
       "                latitude  longitude\n",
       "userid region                      \n",
       "5616   0       57.599221  18.436371\n",
       "       1       59.442985  17.952117\n",
       "       2       59.652696  17.930374"
      ]
     },
     "execution_count": 5,
     "metadata": {},
     "output_type": "execute_result"
    }
   ],
   "source": [
    "regions = tweets.groupby(['userid', 'region']).first()[['latitude', 'longitude']]\n",
    "regions.head(3)"
   ]
  },
  {
   "cell_type": "code",
   "execution_count": 6,
   "metadata": {},
   "outputs": [
    {
     "data": {
      "text/html": [
       "<div>\n",
       "<style scoped>\n",
       "    .dataframe tbody tr th:only-of-type {\n",
       "        vertical-align: middle;\n",
       "    }\n",
       "\n",
       "    .dataframe tbody tr th {\n",
       "        vertical-align: top;\n",
       "    }\n",
       "\n",
       "    .dataframe thead th {\n",
       "        text-align: right;\n",
       "    }\n",
       "</style>\n",
       "<table border=\"1\" class=\"dataframe\">\n",
       "  <thead>\n",
       "    <tr style=\"text-align: right;\">\n",
       "      <th></th>\n",
       "      <th>region</th>\n",
       "      <th>latitude</th>\n",
       "      <th>longitude</th>\n",
       "    </tr>\n",
       "    <tr>\n",
       "      <th>userid</th>\n",
       "      <th></th>\n",
       "      <th></th>\n",
       "      <th></th>\n",
       "    </tr>\n",
       "  </thead>\n",
       "  <tbody>\n",
       "    <tr>\n",
       "      <th>5616</th>\n",
       "      <td>0</td>\n",
       "      <td>57.599221</td>\n",
       "      <td>18.436371</td>\n",
       "    </tr>\n",
       "    <tr>\n",
       "      <th>5616</th>\n",
       "      <td>1</td>\n",
       "      <td>59.442985</td>\n",
       "      <td>17.952117</td>\n",
       "    </tr>\n",
       "    <tr>\n",
       "      <th>5616</th>\n",
       "      <td>2</td>\n",
       "      <td>59.652696</td>\n",
       "      <td>17.930374</td>\n",
       "    </tr>\n",
       "  </tbody>\n",
       "</table>\n",
       "</div>"
      ],
      "text/plain": [
       "        region   latitude  longitude\n",
       "userid                              \n",
       "5616         0  57.599221  18.436371\n",
       "5616         1  59.442985  17.952117\n",
       "5616         2  59.652696  17.930374"
      ]
     },
     "execution_count": 6,
     "metadata": {},
     "output_type": "execute_result"
    }
   ],
   "source": [
    "regions = regions.reset_index(level=1)\n",
    "regions.head(3)"
   ]
  },
  {
   "cell_type": "code",
   "execution_count": 7,
   "metadata": {},
   "outputs": [],
   "source": [
    "region_groups = mscthesis.cluster_groups(regions).droplevel(0)"
   ]
  },
  {
   "cell_type": "code",
   "execution_count": 8,
   "metadata": {
    "scrolled": true
   },
   "outputs": [
    {
     "data": {
      "text/html": [
       "<div>\n",
       "<style scoped>\n",
       "    .dataframe tbody tr th:only-of-type {\n",
       "        vertical-align: middle;\n",
       "    }\n",
       "\n",
       "    .dataframe tbody tr th {\n",
       "        vertical-align: top;\n",
       "    }\n",
       "\n",
       "    .dataframe thead th {\n",
       "        text-align: right;\n",
       "    }\n",
       "</style>\n",
       "<table border=\"1\" class=\"dataframe\">\n",
       "  <thead>\n",
       "    <tr style=\"text-align: right;\">\n",
       "      <th></th>\n",
       "      <th>region</th>\n",
       "      <th>latitude</th>\n",
       "      <th>longitude</th>\n",
       "      <th>group</th>\n",
       "    </tr>\n",
       "    <tr>\n",
       "      <th>userid</th>\n",
       "      <th></th>\n",
       "      <th></th>\n",
       "      <th></th>\n",
       "      <th></th>\n",
       "    </tr>\n",
       "  </thead>\n",
       "  <tbody>\n",
       "    <tr>\n",
       "      <th>5616</th>\n",
       "      <td>0</td>\n",
       "      <td>57.599221</td>\n",
       "      <td>18.436371</td>\n",
       "      <td>0</td>\n",
       "    </tr>\n",
       "    <tr>\n",
       "      <th>5616</th>\n",
       "      <td>1</td>\n",
       "      <td>59.442985</td>\n",
       "      <td>17.952117</td>\n",
       "      <td>1</td>\n",
       "    </tr>\n",
       "    <tr>\n",
       "      <th>5616</th>\n",
       "      <td>2</td>\n",
       "      <td>59.652696</td>\n",
       "      <td>17.930374</td>\n",
       "      <td>1</td>\n",
       "    </tr>\n",
       "    <tr>\n",
       "      <th>5616</th>\n",
       "      <td>4</td>\n",
       "      <td>59.452536</td>\n",
       "      <td>17.930460</td>\n",
       "      <td>1</td>\n",
       "    </tr>\n",
       "  </tbody>\n",
       "</table>\n",
       "</div>"
      ],
      "text/plain": [
       "        region   latitude  longitude  group\n",
       "userid                                     \n",
       "5616         0  57.599221  18.436371      0\n",
       "5616         1  59.442985  17.952117      1\n",
       "5616         2  59.652696  17.930374      1\n",
       "5616         4  59.452536  17.930460      1"
      ]
     },
     "execution_count": 8,
     "metadata": {},
     "output_type": "execute_result"
    }
   ],
   "source": [
    "\n",
    "region_groups.head(4)"
   ]
  },
  {
   "cell_type": "code",
   "execution_count": 9,
   "metadata": {},
   "outputs": [],
   "source": [
    "groups = region_groups.reset_index().set_index(['userid', 'region'])['group']"
   ]
  },
  {
   "cell_type": "code",
   "execution_count": 10,
   "metadata": {},
   "outputs": [],
   "source": [
    "tweets_x = tweets.join(groups)"
   ]
  },
  {
   "cell_type": "code",
   "execution_count": 12,
   "metadata": {},
   "outputs": [],
   "source": [
    "tweets_x.to_csv('./../../dbs/sweden/geotweets_groups.csv')"
   ]
  },
  {
   "cell_type": "code",
   "execution_count": 58,
   "metadata": {},
   "outputs": [
    {
     "data": {
      "text/plain": [
       "userid\n",
       "1238571326      1\n",
       "181577146       1\n",
       "175005893       1\n",
       "3013485573      1\n",
       "169469726       1\n",
       "             ... \n",
       "1339509816    118\n",
       "263343595     118\n",
       "105735403     128\n",
       "223179322     128\n",
       "14603919      132\n",
       "Name: group, Length: 4056, dtype: int64"
      ]
     },
     "execution_count": 58,
     "metadata": {},
     "output_type": "execute_result"
    }
   ],
   "source": [
    "tweets_x['group'].groupby('userid').nunique().sort_values()"
   ]
  },
  {
   "cell_type": "code",
   "execution_count": 63,
   "metadata": {},
   "outputs": [
    {
     "data": {
      "text/html": [
       "<div>\n",
       "<style scoped>\n",
       "    .dataframe tbody tr th:only-of-type {\n",
       "        vertical-align: middle;\n",
       "    }\n",
       "\n",
       "    .dataframe tbody tr th {\n",
       "        vertical-align: top;\n",
       "    }\n",
       "\n",
       "    .dataframe thead th {\n",
       "        text-align: right;\n",
       "    }\n",
       "</style>\n",
       "<table border=\"1\" class=\"dataframe\">\n",
       "  <thead>\n",
       "    <tr style=\"text-align: right;\">\n",
       "      <th></th>\n",
       "      <th></th>\n",
       "      <th>createdat</th>\n",
       "      <th>tweetid</th>\n",
       "      <th>latitude</th>\n",
       "      <th>longitude</th>\n",
       "      <th>month</th>\n",
       "      <th>weekday</th>\n",
       "      <th>hourofday</th>\n",
       "      <th>timezone</th>\n",
       "      <th>ym</th>\n",
       "      <th>label</th>\n",
       "      <th>geometry</th>\n",
       "      <th>group</th>\n",
       "    </tr>\n",
       "    <tr>\n",
       "      <th>userid</th>\n",
       "      <th>region</th>\n",
       "      <th></th>\n",
       "      <th></th>\n",
       "      <th></th>\n",
       "      <th></th>\n",
       "      <th></th>\n",
       "      <th></th>\n",
       "      <th></th>\n",
       "      <th></th>\n",
       "      <th></th>\n",
       "      <th></th>\n",
       "      <th></th>\n",
       "      <th></th>\n",
       "    </tr>\n",
       "  </thead>\n",
       "  <tbody>\n",
       "    <tr>\n",
       "      <th rowspan=\"5\" valign=\"top\">5616</th>\n",
       "      <th>0</th>\n",
       "      <td>2015-05-07 15:12:52+00:00</td>\n",
       "      <td>596331871241379840</td>\n",
       "      <td>57.599221</td>\n",
       "      <td>18.436371</td>\n",
       "      <td>5</td>\n",
       "      <td>4</td>\n",
       "      <td>17</td>\n",
       "      <td>Europe/Stockholm</td>\n",
       "      <td>2015-05</td>\n",
       "      <td>other</td>\n",
       "      <td>POINT (18.43637 57.59922)</td>\n",
       "      <td>0</td>\n",
       "    </tr>\n",
       "    <tr>\n",
       "      <th>0</th>\n",
       "      <td>2015-07-20 09:12:12+00:00</td>\n",
       "      <td>623057810864111616</td>\n",
       "      <td>57.599221</td>\n",
       "      <td>18.436371</td>\n",
       "      <td>7</td>\n",
       "      <td>1</td>\n",
       "      <td>11</td>\n",
       "      <td>Europe/Stockholm</td>\n",
       "      <td>2015-07</td>\n",
       "      <td>other</td>\n",
       "      <td>POINT (18.43637 57.59922)</td>\n",
       "      <td>0</td>\n",
       "    </tr>\n",
       "    <tr>\n",
       "      <th>0</th>\n",
       "      <td>2015-12-23 14:43:00+00:00</td>\n",
       "      <td>679673567416565760</td>\n",
       "      <td>57.599221</td>\n",
       "      <td>18.436371</td>\n",
       "      <td>12</td>\n",
       "      <td>3</td>\n",
       "      <td>15</td>\n",
       "      <td>Europe/Stockholm</td>\n",
       "      <td>2015-12</td>\n",
       "      <td>other</td>\n",
       "      <td>POINT (18.43637 57.59922)</td>\n",
       "      <td>0</td>\n",
       "    </tr>\n",
       "    <tr>\n",
       "      <th>0</th>\n",
       "      <td>2016-07-25 18:42:00+00:00</td>\n",
       "      <td>757647103011262465</td>\n",
       "      <td>57.599221</td>\n",
       "      <td>18.436371</td>\n",
       "      <td>7</td>\n",
       "      <td>1</td>\n",
       "      <td>20</td>\n",
       "      <td>Europe/Stockholm</td>\n",
       "      <td>2016-07</td>\n",
       "      <td>other</td>\n",
       "      <td>POINT (18.43637 57.59922)</td>\n",
       "      <td>0</td>\n",
       "    </tr>\n",
       "    <tr>\n",
       "      <th>0</th>\n",
       "      <td>2016-08-10 06:31:05+00:00</td>\n",
       "      <td>763261365930909696</td>\n",
       "      <td>57.599221</td>\n",
       "      <td>18.436371</td>\n",
       "      <td>8</td>\n",
       "      <td>3</td>\n",
       "      <td>8</td>\n",
       "      <td>Europe/Stockholm</td>\n",
       "      <td>2016-08</td>\n",
       "      <td>other</td>\n",
       "      <td>POINT (18.43637 57.59922)</td>\n",
       "      <td>0</td>\n",
       "    </tr>\n",
       "    <tr>\n",
       "      <th>...</th>\n",
       "      <th>...</th>\n",
       "      <td>...</td>\n",
       "      <td>...</td>\n",
       "      <td>...</td>\n",
       "      <td>...</td>\n",
       "      <td>...</td>\n",
       "      <td>...</td>\n",
       "      <td>...</td>\n",
       "      <td>...</td>\n",
       "      <td>...</td>\n",
       "      <td>...</td>\n",
       "      <td>...</td>\n",
       "      <td>...</td>\n",
       "    </tr>\n",
       "    <tr>\n",
       "      <th rowspan=\"5\" valign=\"top\">794973407964229636</th>\n",
       "      <th>116</th>\n",
       "      <td>2019-02-27 13:16:43+00:00</td>\n",
       "      <td>1100746552581201921</td>\n",
       "      <td>59.309151</td>\n",
       "      <td>18.051889</td>\n",
       "      <td>2</td>\n",
       "      <td>3</td>\n",
       "      <td>14</td>\n",
       "      <td>Europe/Stockholm</td>\n",
       "      <td>2019-02</td>\n",
       "      <td>other</td>\n",
       "      <td>POINT (18.05189 59.30915)</td>\n",
       "      <td>0</td>\n",
       "    </tr>\n",
       "    <tr>\n",
       "      <th>117</th>\n",
       "      <td>2019-03-10 15:10:01+00:00</td>\n",
       "      <td>1104761332384055296</td>\n",
       "      <td>59.292857</td>\n",
       "      <td>18.079165</td>\n",
       "      <td>3</td>\n",
       "      <td>0</td>\n",
       "      <td>16</td>\n",
       "      <td>Europe/Stockholm</td>\n",
       "      <td>2019-03</td>\n",
       "      <td>other</td>\n",
       "      <td>POINT (18.07917 59.29286)</td>\n",
       "      <td>0</td>\n",
       "    </tr>\n",
       "    <tr>\n",
       "      <th>118</th>\n",
       "      <td>2019-03-12 15:56:22+00:00</td>\n",
       "      <td>1105497771421941760</td>\n",
       "      <td>59.303260</td>\n",
       "      <td>18.098290</td>\n",
       "      <td>3</td>\n",
       "      <td>2</td>\n",
       "      <td>16</td>\n",
       "      <td>Europe/Stockholm</td>\n",
       "      <td>2019-03</td>\n",
       "      <td>other</td>\n",
       "      <td>POINT (18.09829 59.30326)</td>\n",
       "      <td>0</td>\n",
       "    </tr>\n",
       "    <tr>\n",
       "      <th>118</th>\n",
       "      <td>2019-03-12 20:19:51+00:00</td>\n",
       "      <td>1105564078267875329</td>\n",
       "      <td>59.303260</td>\n",
       "      <td>18.098290</td>\n",
       "      <td>3</td>\n",
       "      <td>2</td>\n",
       "      <td>21</td>\n",
       "      <td>Europe/Stockholm</td>\n",
       "      <td>2019-03</td>\n",
       "      <td>other</td>\n",
       "      <td>POINT (18.09829 59.30326)</td>\n",
       "      <td>0</td>\n",
       "    </tr>\n",
       "    <tr>\n",
       "      <th>119</th>\n",
       "      <td>2019-03-27 23:59:46+00:00</td>\n",
       "      <td>1111055241955495937</td>\n",
       "      <td>59.317884</td>\n",
       "      <td>18.082461</td>\n",
       "      <td>3</td>\n",
       "      <td>4</td>\n",
       "      <td>0</td>\n",
       "      <td>Europe/Stockholm</td>\n",
       "      <td>2019-03</td>\n",
       "      <td>other</td>\n",
       "      <td>POINT (18.08246 59.31788)</td>\n",
       "      <td>0</td>\n",
       "    </tr>\n",
       "  </tbody>\n",
       "</table>\n",
       "<p>1292641 rows × 12 columns</p>\n",
       "</div>"
      ],
      "text/plain": [
       "                                          createdat              tweetid  \\\n",
       "userid             region                                                  \n",
       "5616               0      2015-05-07 15:12:52+00:00   596331871241379840   \n",
       "                   0      2015-07-20 09:12:12+00:00   623057810864111616   \n",
       "                   0      2015-12-23 14:43:00+00:00   679673567416565760   \n",
       "                   0      2016-07-25 18:42:00+00:00   757647103011262465   \n",
       "                   0      2016-08-10 06:31:05+00:00   763261365930909696   \n",
       "...                                             ...                  ...   \n",
       "794973407964229636 116    2019-02-27 13:16:43+00:00  1100746552581201921   \n",
       "                   117    2019-03-10 15:10:01+00:00  1104761332384055296   \n",
       "                   118    2019-03-12 15:56:22+00:00  1105497771421941760   \n",
       "                   118    2019-03-12 20:19:51+00:00  1105564078267875329   \n",
       "                   119    2019-03-27 23:59:46+00:00  1111055241955495937   \n",
       "\n",
       "                            latitude  longitude  month  weekday  hourofday  \\\n",
       "userid             region                                                    \n",
       "5616               0       57.599221  18.436371      5        4         17   \n",
       "                   0       57.599221  18.436371      7        1         11   \n",
       "                   0       57.599221  18.436371     12        3         15   \n",
       "                   0       57.599221  18.436371      7        1         20   \n",
       "                   0       57.599221  18.436371      8        3          8   \n",
       "...                              ...        ...    ...      ...        ...   \n",
       "794973407964229636 116     59.309151  18.051889      2        3         14   \n",
       "                   117     59.292857  18.079165      3        0         16   \n",
       "                   118     59.303260  18.098290      3        2         16   \n",
       "                   118     59.303260  18.098290      3        2         21   \n",
       "                   119     59.317884  18.082461      3        4          0   \n",
       "\n",
       "                                   timezone       ym  label  \\\n",
       "userid             region                                     \n",
       "5616               0       Europe/Stockholm  2015-05  other   \n",
       "                   0       Europe/Stockholm  2015-07  other   \n",
       "                   0       Europe/Stockholm  2015-12  other   \n",
       "                   0       Europe/Stockholm  2016-07  other   \n",
       "                   0       Europe/Stockholm  2016-08  other   \n",
       "...                                     ...      ...    ...   \n",
       "794973407964229636 116     Europe/Stockholm  2019-02  other   \n",
       "                   117     Europe/Stockholm  2019-03  other   \n",
       "                   118     Europe/Stockholm  2019-03  other   \n",
       "                   118     Europe/Stockholm  2019-03  other   \n",
       "                   119     Europe/Stockholm  2019-03  other   \n",
       "\n",
       "                                            geometry  group  \n",
       "userid             region                                    \n",
       "5616               0       POINT (18.43637 57.59922)      0  \n",
       "                   0       POINT (18.43637 57.59922)      0  \n",
       "                   0       POINT (18.43637 57.59922)      0  \n",
       "                   0       POINT (18.43637 57.59922)      0  \n",
       "                   0       POINT (18.43637 57.59922)      0  \n",
       "...                                              ...    ...  \n",
       "794973407964229636 116     POINT (18.05189 59.30915)      0  \n",
       "                   117     POINT (18.07917 59.29286)      0  \n",
       "                   118     POINT (18.09829 59.30326)      0  \n",
       "                   118     POINT (18.09829 59.30326)      0  \n",
       "                   119     POINT (18.08246 59.31788)      0  \n",
       "\n",
       "[1292641 rows x 12 columns]"
      ]
     },
     "execution_count": 63,
     "metadata": {},
     "output_type": "execute_result"
    }
   ],
   "source": [
    "tweets_x"
   ]
  },
  {
   "cell_type": "code",
   "execution_count": 83,
   "metadata": {},
   "outputs": [],
   "source": [
    "reg = tweets_x.loc[3835271].reset_index().groupby('region').head(1).set_index('region').sort_index()"
   ]
  },
  {
   "cell_type": "code",
   "execution_count": 87,
   "metadata": {},
   "outputs": [
    {
     "data": {
      "text/html": [
       "<div>\n",
       "<style scoped>\n",
       "    .dataframe tbody tr th:only-of-type {\n",
       "        vertical-align: middle;\n",
       "    }\n",
       "\n",
       "    .dataframe tbody tr th {\n",
       "        vertical-align: top;\n",
       "    }\n",
       "\n",
       "    .dataframe thead th {\n",
       "        text-align: right;\n",
       "    }\n",
       "</style>\n",
       "<table border=\"1\" class=\"dataframe\">\n",
       "  <thead>\n",
       "    <tr style=\"text-align: right;\">\n",
       "      <th></th>\n",
       "      <th>createdat</th>\n",
       "      <th>tweetid</th>\n",
       "      <th>latitude</th>\n",
       "      <th>longitude</th>\n",
       "      <th>month</th>\n",
       "      <th>weekday</th>\n",
       "      <th>hourofday</th>\n",
       "      <th>timezone</th>\n",
       "      <th>ym</th>\n",
       "      <th>label</th>\n",
       "      <th>geometry</th>\n",
       "      <th>group</th>\n",
       "    </tr>\n",
       "    <tr>\n",
       "      <th>region</th>\n",
       "      <th></th>\n",
       "      <th></th>\n",
       "      <th></th>\n",
       "      <th></th>\n",
       "      <th></th>\n",
       "      <th></th>\n",
       "      <th></th>\n",
       "      <th></th>\n",
       "      <th></th>\n",
       "      <th></th>\n",
       "      <th></th>\n",
       "      <th></th>\n",
       "    </tr>\n",
       "  </thead>\n",
       "  <tbody>\n",
       "    <tr>\n",
       "      <th>0</th>\n",
       "      <td>2015-10-08 13:04:15+00:00</td>\n",
       "      <td>652107236618174464</td>\n",
       "      <td>55.916700</td>\n",
       "      <td>13.100000</td>\n",
       "      <td>10</td>\n",
       "      <td>4</td>\n",
       "      <td>15</td>\n",
       "      <td>Europe/Stockholm</td>\n",
       "      <td>2015-10</td>\n",
       "      <td>home</td>\n",
       "      <td>POINT (13.10000 55.91670)</td>\n",
       "      <td>0</td>\n",
       "    </tr>\n",
       "    <tr>\n",
       "      <th>1</th>\n",
       "      <td>2015-10-13 16:30:43+00:00</td>\n",
       "      <td>653971134090727424</td>\n",
       "      <td>55.873056</td>\n",
       "      <td>12.822500</td>\n",
       "      <td>10</td>\n",
       "      <td>2</td>\n",
       "      <td>18</td>\n",
       "      <td>Europe/Stockholm</td>\n",
       "      <td>2015-10</td>\n",
       "      <td>other</td>\n",
       "      <td>POINT (12.82250 55.87306)</td>\n",
       "      <td>1</td>\n",
       "    </tr>\n",
       "    <tr>\n",
       "      <th>2</th>\n",
       "      <td>2015-10-14 02:25:41+00:00</td>\n",
       "      <td>654120861906141184</td>\n",
       "      <td>55.871250</td>\n",
       "      <td>12.833110</td>\n",
       "      <td>10</td>\n",
       "      <td>3</td>\n",
       "      <td>4</td>\n",
       "      <td>Europe/Stockholm</td>\n",
       "      <td>2015-10</td>\n",
       "      <td>other</td>\n",
       "      <td>POINT (12.83311 55.87125)</td>\n",
       "      <td>1</td>\n",
       "    </tr>\n",
       "    <tr>\n",
       "      <th>3</th>\n",
       "      <td>2015-10-16 20:22:08+00:00</td>\n",
       "      <td>655116536617693189</td>\n",
       "      <td>56.033300</td>\n",
       "      <td>14.133300</td>\n",
       "      <td>10</td>\n",
       "      <td>5</td>\n",
       "      <td>22</td>\n",
       "      <td>Europe/Stockholm</td>\n",
       "      <td>2015-10</td>\n",
       "      <td>other</td>\n",
       "      <td>POINT (14.13330 56.03330)</td>\n",
       "      <td>2</td>\n",
       "    </tr>\n",
       "    <tr>\n",
       "      <th>4</th>\n",
       "      <td>2015-10-24 20:52:30+00:00</td>\n",
       "      <td>658023280264237057</td>\n",
       "      <td>55.672933</td>\n",
       "      <td>12.567520</td>\n",
       "      <td>10</td>\n",
       "      <td>6</td>\n",
       "      <td>22</td>\n",
       "      <td>Europe/Copenhagen</td>\n",
       "      <td>2015-10</td>\n",
       "      <td>other</td>\n",
       "      <td>POINT (12.56752 55.67293)</td>\n",
       "      <td>3</td>\n",
       "    </tr>\n",
       "    <tr>\n",
       "      <th>5</th>\n",
       "      <td>2015-10-31 22:02:23+00:00</td>\n",
       "      <td>660577581729738752</td>\n",
       "      <td>55.882281</td>\n",
       "      <td>12.829133</td>\n",
       "      <td>10</td>\n",
       "      <td>6</td>\n",
       "      <td>23</td>\n",
       "      <td>Europe/Stockholm</td>\n",
       "      <td>2015-10</td>\n",
       "      <td>other</td>\n",
       "      <td>POINT (12.82913 55.88228)</td>\n",
       "      <td>1</td>\n",
       "    </tr>\n",
       "    <tr>\n",
       "      <th>6</th>\n",
       "      <td>2015-11-04 14:42:21+00:00</td>\n",
       "      <td>661916395744198656</td>\n",
       "      <td>55.600000</td>\n",
       "      <td>13.000000</td>\n",
       "      <td>11</td>\n",
       "      <td>3</td>\n",
       "      <td>15</td>\n",
       "      <td>Europe/Stockholm</td>\n",
       "      <td>2015-11</td>\n",
       "      <td>other</td>\n",
       "      <td>POINT (13.00000 55.60000)</td>\n",
       "      <td>4</td>\n",
       "    </tr>\n",
       "    <tr>\n",
       "      <th>7</th>\n",
       "      <td>2015-11-17 18:04:14+00:00</td>\n",
       "      <td>666678243399966720</td>\n",
       "      <td>59.283300</td>\n",
       "      <td>15.216700</td>\n",
       "      <td>11</td>\n",
       "      <td>2</td>\n",
       "      <td>19</td>\n",
       "      <td>Europe/Stockholm</td>\n",
       "      <td>2015-11</td>\n",
       "      <td>other</td>\n",
       "      <td>POINT (15.21670 59.28330)</td>\n",
       "      <td>5</td>\n",
       "    </tr>\n",
       "    <tr>\n",
       "      <th>8</th>\n",
       "      <td>2015-11-26 14:57:21+00:00</td>\n",
       "      <td>669892704315252736</td>\n",
       "      <td>59.335802</td>\n",
       "      <td>18.056312</td>\n",
       "      <td>11</td>\n",
       "      <td>4</td>\n",
       "      <td>15</td>\n",
       "      <td>Europe/Stockholm</td>\n",
       "      <td>2015-11</td>\n",
       "      <td>other</td>\n",
       "      <td>POINT (18.05631 59.33580)</td>\n",
       "      <td>6</td>\n",
       "    </tr>\n",
       "    <tr>\n",
       "      <th>9</th>\n",
       "      <td>2015-12-02 23:10:23+00:00</td>\n",
       "      <td>672191107606970369</td>\n",
       "      <td>55.707466</td>\n",
       "      <td>12.549876</td>\n",
       "      <td>12</td>\n",
       "      <td>4</td>\n",
       "      <td>0</td>\n",
       "      <td>Europe/Copenhagen</td>\n",
       "      <td>2015-12</td>\n",
       "      <td>other</td>\n",
       "      <td>POINT (12.54988 55.70747)</td>\n",
       "      <td>7</td>\n",
       "    </tr>\n",
       "    <tr>\n",
       "      <th>10</th>\n",
       "      <td>2015-12-06 20:39:09+00:00</td>\n",
       "      <td>673602599870996480</td>\n",
       "      <td>59.272259</td>\n",
       "      <td>15.212470</td>\n",
       "      <td>12</td>\n",
       "      <td>0</td>\n",
       "      <td>21</td>\n",
       "      <td>Europe/Stockholm</td>\n",
       "      <td>2015-12</td>\n",
       "      <td>other</td>\n",
       "      <td>POINT (15.21247 59.27226)</td>\n",
       "      <td>5</td>\n",
       "    </tr>\n",
       "    <tr>\n",
       "      <th>11</th>\n",
       "      <td>2015-12-09 02:14:47+00:00</td>\n",
       "      <td>674411840156356613</td>\n",
       "      <td>57.708405</td>\n",
       "      <td>11.970464</td>\n",
       "      <td>12</td>\n",
       "      <td>3</td>\n",
       "      <td>3</td>\n",
       "      <td>Europe/Stockholm</td>\n",
       "      <td>2015-12</td>\n",
       "      <td>other</td>\n",
       "      <td>POINT (11.97046 57.70840)</td>\n",
       "      <td>8</td>\n",
       "    </tr>\n",
       "    <tr>\n",
       "      <th>12</th>\n",
       "      <td>2015-12-14 13:11:47+00:00</td>\n",
       "      <td>676389120067944448</td>\n",
       "      <td>59.269327</td>\n",
       "      <td>15.204680</td>\n",
       "      <td>12</td>\n",
       "      <td>1</td>\n",
       "      <td>14</td>\n",
       "      <td>Europe/Stockholm</td>\n",
       "      <td>2015-12</td>\n",
       "      <td>other</td>\n",
       "      <td>POINT (15.20468 59.26933)</td>\n",
       "      <td>5</td>\n",
       "    </tr>\n",
       "    <tr>\n",
       "      <th>13</th>\n",
       "      <td>2015-12-14 20:51:14+00:00</td>\n",
       "      <td>676504742982500352</td>\n",
       "      <td>22.282500</td>\n",
       "      <td>114.157900</td>\n",
       "      <td>12</td>\n",
       "      <td>2</td>\n",
       "      <td>4</td>\n",
       "      <td>Asia/Hong_Kong</td>\n",
       "      <td>2015-12</td>\n",
       "      <td>other</td>\n",
       "      <td>POINT (114.15790 22.28250)</td>\n",
       "      <td>9</td>\n",
       "    </tr>\n",
       "    <tr>\n",
       "      <th>14</th>\n",
       "      <td>2016-01-27 18:03:31+00:00</td>\n",
       "      <td>692407601900982277</td>\n",
       "      <td>55.873585</td>\n",
       "      <td>12.859029</td>\n",
       "      <td>1</td>\n",
       "      <td>3</td>\n",
       "      <td>19</td>\n",
       "      <td>Europe/Stockholm</td>\n",
       "      <td>2016-01</td>\n",
       "      <td>other</td>\n",
       "      <td>POINT (12.85903 55.87359)</td>\n",
       "      <td>1</td>\n",
       "    </tr>\n",
       "    <tr>\n",
       "      <th>15</th>\n",
       "      <td>2016-02-05 15:28:01+00:00</td>\n",
       "      <td>695629959721840642</td>\n",
       "      <td>65.583300</td>\n",
       "      <td>22.150000</td>\n",
       "      <td>2</td>\n",
       "      <td>5</td>\n",
       "      <td>16</td>\n",
       "      <td>Europe/Stockholm</td>\n",
       "      <td>2016-02</td>\n",
       "      <td>other</td>\n",
       "      <td>POINT (22.15000 65.58330)</td>\n",
       "      <td>10</td>\n",
       "    </tr>\n",
       "    <tr>\n",
       "      <th>16</th>\n",
       "      <td>2016-02-28 21:25:31+00:00</td>\n",
       "      <td>704054851316146180</td>\n",
       "      <td>34.052200</td>\n",
       "      <td>-118.243000</td>\n",
       "      <td>2</td>\n",
       "      <td>0</td>\n",
       "      <td>13</td>\n",
       "      <td>America/Los_Angeles</td>\n",
       "      <td>2016-02</td>\n",
       "      <td>other</td>\n",
       "      <td>POINT (-118.24300 34.05220)</td>\n",
       "      <td>11</td>\n",
       "    </tr>\n",
       "    <tr>\n",
       "      <th>17</th>\n",
       "      <td>2016-03-05 23:09:18+00:00</td>\n",
       "      <td>706255295350185985</td>\n",
       "      <td>59.450000</td>\n",
       "      <td>17.916700</td>\n",
       "      <td>3</td>\n",
       "      <td>0</td>\n",
       "      <td>0</td>\n",
       "      <td>Europe/Stockholm</td>\n",
       "      <td>2016-03</td>\n",
       "      <td>other</td>\n",
       "      <td>POINT (17.91670 59.45000)</td>\n",
       "      <td>12</td>\n",
       "    </tr>\n",
       "    <tr>\n",
       "      <th>18</th>\n",
       "      <td>2016-03-09 23:33:40+00:00</td>\n",
       "      <td>707710978671177728</td>\n",
       "      <td>59.366700</td>\n",
       "      <td>13.500000</td>\n",
       "      <td>3</td>\n",
       "      <td>4</td>\n",
       "      <td>0</td>\n",
       "      <td>Europe/Stockholm</td>\n",
       "      <td>2016-03</td>\n",
       "      <td>other</td>\n",
       "      <td>POINT (13.50000 59.36670)</td>\n",
       "      <td>13</td>\n",
       "    </tr>\n",
       "    <tr>\n",
       "      <th>19</th>\n",
       "      <td>2016-03-11 17:28:50+00:00</td>\n",
       "      <td>708343939540099073</td>\n",
       "      <td>55.867870</td>\n",
       "      <td>12.823970</td>\n",
       "      <td>3</td>\n",
       "      <td>5</td>\n",
       "      <td>18</td>\n",
       "      <td>Europe/Stockholm</td>\n",
       "      <td>2016-03</td>\n",
       "      <td>other</td>\n",
       "      <td>POINT (12.82397 55.86787)</td>\n",
       "      <td>1</td>\n",
       "    </tr>\n",
       "    <tr>\n",
       "      <th>20</th>\n",
       "      <td>2016-03-11 18:59:47+00:00</td>\n",
       "      <td>708366829014618112</td>\n",
       "      <td>55.909535</td>\n",
       "      <td>13.113142</td>\n",
       "      <td>3</td>\n",
       "      <td>5</td>\n",
       "      <td>19</td>\n",
       "      <td>Europe/Stockholm</td>\n",
       "      <td>2016-03</td>\n",
       "      <td>other</td>\n",
       "      <td>POINT (13.11314 55.90953)</td>\n",
       "      <td>0</td>\n",
       "    </tr>\n",
       "    <tr>\n",
       "      <th>21</th>\n",
       "      <td>2016-03-13 21:10:39+00:00</td>\n",
       "      <td>709124539221983232</td>\n",
       "      <td>55.892355</td>\n",
       "      <td>13.180111</td>\n",
       "      <td>3</td>\n",
       "      <td>0</td>\n",
       "      <td>22</td>\n",
       "      <td>Europe/Stockholm</td>\n",
       "      <td>2016-03</td>\n",
       "      <td>other</td>\n",
       "      <td>POINT (13.18011 55.89235)</td>\n",
       "      <td>14</td>\n",
       "    </tr>\n",
       "    <tr>\n",
       "      <th>22</th>\n",
       "      <td>2016-03-22 12:38:21+00:00</td>\n",
       "      <td>712257103801544704</td>\n",
       "      <td>55.850000</td>\n",
       "      <td>14.133300</td>\n",
       "      <td>3</td>\n",
       "      <td>2</td>\n",
       "      <td>13</td>\n",
       "      <td>Europe/Stockholm</td>\n",
       "      <td>2016-03</td>\n",
       "      <td>other</td>\n",
       "      <td>POINT (14.13330 55.85000)</td>\n",
       "      <td>15</td>\n",
       "    </tr>\n",
       "    <tr>\n",
       "      <th>23</th>\n",
       "      <td>2016-03-24 20:18:09+00:00</td>\n",
       "      <td>713097590867423233</td>\n",
       "      <td>55.839167</td>\n",
       "      <td>13.303889</td>\n",
       "      <td>3</td>\n",
       "      <td>4</td>\n",
       "      <td>21</td>\n",
       "      <td>Europe/Stockholm</td>\n",
       "      <td>2016-03</td>\n",
       "      <td>other</td>\n",
       "      <td>POINT (13.30389 55.83917)</td>\n",
       "      <td>16</td>\n",
       "    </tr>\n",
       "    <tr>\n",
       "      <th>24</th>\n",
       "      <td>2016-03-28 06:05:08+00:00</td>\n",
       "      <td>714332476257267712</td>\n",
       "      <td>56.050000</td>\n",
       "      <td>12.700000</td>\n",
       "      <td>3</td>\n",
       "      <td>1</td>\n",
       "      <td>8</td>\n",
       "      <td>Europe/Stockholm</td>\n",
       "      <td>2016-03</td>\n",
       "      <td>other</td>\n",
       "      <td>POINT (12.70000 56.05000)</td>\n",
       "      <td>17</td>\n",
       "    </tr>\n",
       "    <tr>\n",
       "      <th>25</th>\n",
       "      <td>2016-04-02 12:41:09+00:00</td>\n",
       "      <td>716244074383163392</td>\n",
       "      <td>57.625144</td>\n",
       "      <td>18.272976</td>\n",
       "      <td>4</td>\n",
       "      <td>6</td>\n",
       "      <td>14</td>\n",
       "      <td>Europe/Stockholm</td>\n",
       "      <td>2016-04</td>\n",
       "      <td>other</td>\n",
       "      <td>POINT (18.27298 57.62514)</td>\n",
       "      <td>18</td>\n",
       "    </tr>\n",
       "    <tr>\n",
       "      <th>26</th>\n",
       "      <td>2016-04-08 22:13:13+00:00</td>\n",
       "      <td>718562367836188672</td>\n",
       "      <td>40.087164</td>\n",
       "      <td>-74.924479</td>\n",
       "      <td>4</td>\n",
       "      <td>5</td>\n",
       "      <td>18</td>\n",
       "      <td>America/New_York</td>\n",
       "      <td>2016-04</td>\n",
       "      <td>other</td>\n",
       "      <td>POINT (-74.92448 40.08716)</td>\n",
       "      <td>19</td>\n",
       "    </tr>\n",
       "    <tr>\n",
       "      <th>27</th>\n",
       "      <td>2016-04-27 21:24:57+00:00</td>\n",
       "      <td>725435591899357184</td>\n",
       "      <td>59.350000</td>\n",
       "      <td>18.066700</td>\n",
       "      <td>4</td>\n",
       "      <td>3</td>\n",
       "      <td>23</td>\n",
       "      <td>Europe/Stockholm</td>\n",
       "      <td>2016-04</td>\n",
       "      <td>other</td>\n",
       "      <td>POINT (18.06670 59.35000)</td>\n",
       "      <td>6</td>\n",
       "    </tr>\n",
       "    <tr>\n",
       "      <th>28</th>\n",
       "      <td>2016-05-01 15:49:38+00:00</td>\n",
       "      <td>726800758369337344</td>\n",
       "      <td>55.939458</td>\n",
       "      <td>12.774816</td>\n",
       "      <td>5</td>\n",
       "      <td>0</td>\n",
       "      <td>17</td>\n",
       "      <td>Europe/Stockholm</td>\n",
       "      <td>2016-05</td>\n",
       "      <td>other</td>\n",
       "      <td>POINT (12.77482 55.93946)</td>\n",
       "      <td>20</td>\n",
       "    </tr>\n",
       "    <tr>\n",
       "      <th>29</th>\n",
       "      <td>2016-05-10 16:09:30+00:00</td>\n",
       "      <td>730067249147609088</td>\n",
       "      <td>56.044100</td>\n",
       "      <td>12.694700</td>\n",
       "      <td>5</td>\n",
       "      <td>2</td>\n",
       "      <td>18</td>\n",
       "      <td>Europe/Stockholm</td>\n",
       "      <td>2016-05</td>\n",
       "      <td>other</td>\n",
       "      <td>POINT (12.69470 56.04410)</td>\n",
       "      <td>17</td>\n",
       "    </tr>\n",
       "    <tr>\n",
       "      <th>30</th>\n",
       "      <td>2016-05-10 18:53:07+00:00</td>\n",
       "      <td>730108421920395264</td>\n",
       "      <td>56.117499</td>\n",
       "      <td>12.604151</td>\n",
       "      <td>5</td>\n",
       "      <td>2</td>\n",
       "      <td>20</td>\n",
       "      <td>Europe/Stockholm</td>\n",
       "      <td>2016-05</td>\n",
       "      <td>other</td>\n",
       "      <td>POINT (12.60415 56.11750)</td>\n",
       "      <td>21</td>\n",
       "    </tr>\n",
       "    <tr>\n",
       "      <th>31</th>\n",
       "      <td>2016-06-07 11:52:13+00:00</td>\n",
       "      <td>740149360336441344</td>\n",
       "      <td>59.861379</td>\n",
       "      <td>17.630684</td>\n",
       "      <td>6</td>\n",
       "      <td>2</td>\n",
       "      <td>13</td>\n",
       "      <td>Europe/Stockholm</td>\n",
       "      <td>2016-06</td>\n",
       "      <td>other</td>\n",
       "      <td>POINT (17.63068 59.86138)</td>\n",
       "      <td>22</td>\n",
       "    </tr>\n",
       "    <tr>\n",
       "      <th>32</th>\n",
       "      <td>2016-06-25 15:47:26+00:00</td>\n",
       "      <td>746731538209996802</td>\n",
       "      <td>55.908207</td>\n",
       "      <td>13.262567</td>\n",
       "      <td>6</td>\n",
       "      <td>6</td>\n",
       "      <td>17</td>\n",
       "      <td>Europe/Stockholm</td>\n",
       "      <td>2016-06</td>\n",
       "      <td>other</td>\n",
       "      <td>POINT (13.26257 55.90821)</td>\n",
       "      <td>23</td>\n",
       "    </tr>\n",
       "    <tr>\n",
       "      <th>33</th>\n",
       "      <td>2016-06-26 04:16:56+00:00</td>\n",
       "      <td>746920154454450176</td>\n",
       "      <td>55.869044</td>\n",
       "      <td>12.821652</td>\n",
       "      <td>6</td>\n",
       "      <td>0</td>\n",
       "      <td>6</td>\n",
       "      <td>Europe/Stockholm</td>\n",
       "      <td>2016-06</td>\n",
       "      <td>other</td>\n",
       "      <td>POINT (12.82165 55.86904)</td>\n",
       "      <td>1</td>\n",
       "    </tr>\n",
       "    <tr>\n",
       "      <th>34</th>\n",
       "      <td>2016-07-05 15:25:21+00:00</td>\n",
       "      <td>750349856556843008</td>\n",
       "      <td>55.756567</td>\n",
       "      <td>12.904715</td>\n",
       "      <td>7</td>\n",
       "      <td>2</td>\n",
       "      <td>17</td>\n",
       "      <td>Europe/Stockholm</td>\n",
       "      <td>2016-07</td>\n",
       "      <td>other</td>\n",
       "      <td>POINT (12.90471 55.75657)</td>\n",
       "      <td>24</td>\n",
       "    </tr>\n",
       "    <tr>\n",
       "      <th>35</th>\n",
       "      <td>2016-07-06 23:26:41+00:00</td>\n",
       "      <td>750833376979017730</td>\n",
       "      <td>55.896195</td>\n",
       "      <td>13.186037</td>\n",
       "      <td>7</td>\n",
       "      <td>4</td>\n",
       "      <td>1</td>\n",
       "      <td>Europe/Stockholm</td>\n",
       "      <td>2016-07</td>\n",
       "      <td>other</td>\n",
       "      <td>POINT (13.18604 55.89620)</td>\n",
       "      <td>14</td>\n",
       "    </tr>\n",
       "    <tr>\n",
       "      <th>36</th>\n",
       "      <td>2016-07-07 13:05:05+00:00</td>\n",
       "      <td>751039333948350464</td>\n",
       "      <td>55.770833</td>\n",
       "      <td>12.955556</td>\n",
       "      <td>7</td>\n",
       "      <td>4</td>\n",
       "      <td>15</td>\n",
       "      <td>Europe/Stockholm</td>\n",
       "      <td>2016-07</td>\n",
       "      <td>other</td>\n",
       "      <td>POINT (12.95556 55.77083)</td>\n",
       "      <td>25</td>\n",
       "    </tr>\n",
       "  </tbody>\n",
       "</table>\n",
       "</div>"
      ],
      "text/plain": [
       "                       createdat             tweetid   latitude   longitude  \\\n",
       "region                                                                        \n",
       "0      2015-10-08 13:04:15+00:00  652107236618174464  55.916700   13.100000   \n",
       "1      2015-10-13 16:30:43+00:00  653971134090727424  55.873056   12.822500   \n",
       "2      2015-10-14 02:25:41+00:00  654120861906141184  55.871250   12.833110   \n",
       "3      2015-10-16 20:22:08+00:00  655116536617693189  56.033300   14.133300   \n",
       "4      2015-10-24 20:52:30+00:00  658023280264237057  55.672933   12.567520   \n",
       "5      2015-10-31 22:02:23+00:00  660577581729738752  55.882281   12.829133   \n",
       "6      2015-11-04 14:42:21+00:00  661916395744198656  55.600000   13.000000   \n",
       "7      2015-11-17 18:04:14+00:00  666678243399966720  59.283300   15.216700   \n",
       "8      2015-11-26 14:57:21+00:00  669892704315252736  59.335802   18.056312   \n",
       "9      2015-12-02 23:10:23+00:00  672191107606970369  55.707466   12.549876   \n",
       "10     2015-12-06 20:39:09+00:00  673602599870996480  59.272259   15.212470   \n",
       "11     2015-12-09 02:14:47+00:00  674411840156356613  57.708405   11.970464   \n",
       "12     2015-12-14 13:11:47+00:00  676389120067944448  59.269327   15.204680   \n",
       "13     2015-12-14 20:51:14+00:00  676504742982500352  22.282500  114.157900   \n",
       "14     2016-01-27 18:03:31+00:00  692407601900982277  55.873585   12.859029   \n",
       "15     2016-02-05 15:28:01+00:00  695629959721840642  65.583300   22.150000   \n",
       "16     2016-02-28 21:25:31+00:00  704054851316146180  34.052200 -118.243000   \n",
       "17     2016-03-05 23:09:18+00:00  706255295350185985  59.450000   17.916700   \n",
       "18     2016-03-09 23:33:40+00:00  707710978671177728  59.366700   13.500000   \n",
       "19     2016-03-11 17:28:50+00:00  708343939540099073  55.867870   12.823970   \n",
       "20     2016-03-11 18:59:47+00:00  708366829014618112  55.909535   13.113142   \n",
       "21     2016-03-13 21:10:39+00:00  709124539221983232  55.892355   13.180111   \n",
       "22     2016-03-22 12:38:21+00:00  712257103801544704  55.850000   14.133300   \n",
       "23     2016-03-24 20:18:09+00:00  713097590867423233  55.839167   13.303889   \n",
       "24     2016-03-28 06:05:08+00:00  714332476257267712  56.050000   12.700000   \n",
       "25     2016-04-02 12:41:09+00:00  716244074383163392  57.625144   18.272976   \n",
       "26     2016-04-08 22:13:13+00:00  718562367836188672  40.087164  -74.924479   \n",
       "27     2016-04-27 21:24:57+00:00  725435591899357184  59.350000   18.066700   \n",
       "28     2016-05-01 15:49:38+00:00  726800758369337344  55.939458   12.774816   \n",
       "29     2016-05-10 16:09:30+00:00  730067249147609088  56.044100   12.694700   \n",
       "30     2016-05-10 18:53:07+00:00  730108421920395264  56.117499   12.604151   \n",
       "31     2016-06-07 11:52:13+00:00  740149360336441344  59.861379   17.630684   \n",
       "32     2016-06-25 15:47:26+00:00  746731538209996802  55.908207   13.262567   \n",
       "33     2016-06-26 04:16:56+00:00  746920154454450176  55.869044   12.821652   \n",
       "34     2016-07-05 15:25:21+00:00  750349856556843008  55.756567   12.904715   \n",
       "35     2016-07-06 23:26:41+00:00  750833376979017730  55.896195   13.186037   \n",
       "36     2016-07-07 13:05:05+00:00  751039333948350464  55.770833   12.955556   \n",
       "\n",
       "        month  weekday  hourofday             timezone       ym  label  \\\n",
       "region                                                                   \n",
       "0          10        4         15     Europe/Stockholm  2015-10   home   \n",
       "1          10        2         18     Europe/Stockholm  2015-10  other   \n",
       "2          10        3          4     Europe/Stockholm  2015-10  other   \n",
       "3          10        5         22     Europe/Stockholm  2015-10  other   \n",
       "4          10        6         22    Europe/Copenhagen  2015-10  other   \n",
       "5          10        6         23     Europe/Stockholm  2015-10  other   \n",
       "6          11        3         15     Europe/Stockholm  2015-11  other   \n",
       "7          11        2         19     Europe/Stockholm  2015-11  other   \n",
       "8          11        4         15     Europe/Stockholm  2015-11  other   \n",
       "9          12        4          0    Europe/Copenhagen  2015-12  other   \n",
       "10         12        0         21     Europe/Stockholm  2015-12  other   \n",
       "11         12        3          3     Europe/Stockholm  2015-12  other   \n",
       "12         12        1         14     Europe/Stockholm  2015-12  other   \n",
       "13         12        2          4       Asia/Hong_Kong  2015-12  other   \n",
       "14          1        3         19     Europe/Stockholm  2016-01  other   \n",
       "15          2        5         16     Europe/Stockholm  2016-02  other   \n",
       "16          2        0         13  America/Los_Angeles  2016-02  other   \n",
       "17          3        0          0     Europe/Stockholm  2016-03  other   \n",
       "18          3        4          0     Europe/Stockholm  2016-03  other   \n",
       "19          3        5         18     Europe/Stockholm  2016-03  other   \n",
       "20          3        5         19     Europe/Stockholm  2016-03  other   \n",
       "21          3        0         22     Europe/Stockholm  2016-03  other   \n",
       "22          3        2         13     Europe/Stockholm  2016-03  other   \n",
       "23          3        4         21     Europe/Stockholm  2016-03  other   \n",
       "24          3        1          8     Europe/Stockholm  2016-03  other   \n",
       "25          4        6         14     Europe/Stockholm  2016-04  other   \n",
       "26          4        5         18     America/New_York  2016-04  other   \n",
       "27          4        3         23     Europe/Stockholm  2016-04  other   \n",
       "28          5        0         17     Europe/Stockholm  2016-05  other   \n",
       "29          5        2         18     Europe/Stockholm  2016-05  other   \n",
       "30          5        2         20     Europe/Stockholm  2016-05  other   \n",
       "31          6        2         13     Europe/Stockholm  2016-06  other   \n",
       "32          6        6         17     Europe/Stockholm  2016-06  other   \n",
       "33          6        0          6     Europe/Stockholm  2016-06  other   \n",
       "34          7        2         17     Europe/Stockholm  2016-07  other   \n",
       "35          7        4          1     Europe/Stockholm  2016-07  other   \n",
       "36          7        4         15     Europe/Stockholm  2016-07  other   \n",
       "\n",
       "                           geometry  group  \n",
       "region                                      \n",
       "0         POINT (13.10000 55.91670)      0  \n",
       "1         POINT (12.82250 55.87306)      1  \n",
       "2         POINT (12.83311 55.87125)      1  \n",
       "3         POINT (14.13330 56.03330)      2  \n",
       "4         POINT (12.56752 55.67293)      3  \n",
       "5         POINT (12.82913 55.88228)      1  \n",
       "6         POINT (13.00000 55.60000)      4  \n",
       "7         POINT (15.21670 59.28330)      5  \n",
       "8         POINT (18.05631 59.33580)      6  \n",
       "9         POINT (12.54988 55.70747)      7  \n",
       "10        POINT (15.21247 59.27226)      5  \n",
       "11        POINT (11.97046 57.70840)      8  \n",
       "12        POINT (15.20468 59.26933)      5  \n",
       "13       POINT (114.15790 22.28250)      9  \n",
       "14        POINT (12.85903 55.87359)      1  \n",
       "15        POINT (22.15000 65.58330)     10  \n",
       "16      POINT (-118.24300 34.05220)     11  \n",
       "17        POINT (17.91670 59.45000)     12  \n",
       "18        POINT (13.50000 59.36670)     13  \n",
       "19        POINT (12.82397 55.86787)      1  \n",
       "20        POINT (13.11314 55.90953)      0  \n",
       "21        POINT (13.18011 55.89235)     14  \n",
       "22        POINT (14.13330 55.85000)     15  \n",
       "23        POINT (13.30389 55.83917)     16  \n",
       "24        POINT (12.70000 56.05000)     17  \n",
       "25        POINT (18.27298 57.62514)     18  \n",
       "26       POINT (-74.92448 40.08716)     19  \n",
       "27        POINT (18.06670 59.35000)      6  \n",
       "28        POINT (12.77482 55.93946)     20  \n",
       "29        POINT (12.69470 56.04410)     17  \n",
       "30        POINT (12.60415 56.11750)     21  \n",
       "31        POINT (17.63068 59.86138)     22  \n",
       "32        POINT (13.26257 55.90821)     23  \n",
       "33        POINT (12.82165 55.86904)      1  \n",
       "34        POINT (12.90471 55.75657)     24  \n",
       "35        POINT (13.18604 55.89620)     14  \n",
       "36        POINT (12.95556 55.77083)     25  "
      ]
     },
     "execution_count": 87,
     "metadata": {},
     "output_type": "execute_result"
    }
   ],
   "source": [
    "reg"
   ]
  },
  {
   "cell_type": "code",
   "execution_count": 88,
   "metadata": {},
   "outputs": [],
   "source": [
    "user_region_groups = tweets_x.loc[3835271].reset_index()"
   ]
  },
  {
   "cell_type": "code",
   "execution_count": 89,
   "metadata": {},
   "outputs": [],
   "source": [
    "homes = pd.read_csv(\"./../../dbs/sweden/homelocations.csv\").set_index('userid')"
   ]
  },
  {
   "cell_type": "code",
   "execution_count": 90,
   "metadata": {},
   "outputs": [
    {
     "data": {
      "application/vnd.plotly.v1+json": {
       "config": {
        "plotlyServerURL": "https://plot.ly"
       },
       "data": [
        {
         "customdata": [
          [
           0,
           0
          ],
          [
           0,
           0
          ],
          [
           0,
           0
          ],
          [
           0,
           0
          ],
          [
           0,
           0
          ],
          [
           0,
           0
          ],
          [
           0,
           0
          ],
          [
           0,
           0
          ],
          [
           0,
           0
          ],
          [
           0,
           0
          ],
          [
           0,
           0
          ],
          [
           0,
           0
          ],
          [
           0,
           0
          ],
          [
           0,
           0
          ],
          [
           0,
           0
          ],
          [
           0,
           0
          ],
          [
           0,
           0
          ],
          [
           0,
           0
          ],
          [
           0,
           0
          ],
          [
           0,
           0
          ],
          [
           0,
           0
          ],
          [
           0,
           0
          ],
          [
           0,
           0
          ],
          [
           0,
           0
          ],
          [
           0,
           0
          ],
          [
           0,
           0
          ],
          [
           0,
           0
          ],
          [
           0,
           0
          ],
          [
           0,
           0
          ]
         ],
         "hoverlabel": {
          "namelength": 0
         },
         "hovertemplate": "label=home<br>group=%{customdata[0]}<br>region=%{customdata[1]}<br>latitude=%{lat}<br>longitude=%{lon}",
         "lat": [
          55.9167,
          55.9167,
          55.9167,
          55.9167,
          55.9167,
          55.9167,
          55.9167,
          55.9167,
          55.9167,
          55.9167,
          55.9167,
          55.9167,
          55.9167,
          55.9167,
          55.9167,
          55.9167,
          55.9167,
          55.9167,
          55.9167,
          55.9167,
          55.9167,
          55.9167,
          55.9167,
          55.9167,
          55.9167,
          55.9167,
          55.9167,
          55.9167,
          55.9167
         ],
         "legendgroup": "home",
         "lon": [
          13.1,
          13.1,
          13.1,
          13.1,
          13.1,
          13.1,
          13.1,
          13.1,
          13.1,
          13.1,
          13.1,
          13.1,
          13.1,
          13.1,
          13.1,
          13.1,
          13.1,
          13.1,
          13.1,
          13.1,
          13.1,
          13.1,
          13.1,
          13.1,
          13.1,
          13.1,
          13.1,
          13.1,
          13.1
         ],
         "marker": {
          "color": "#636efa"
         },
         "mode": "markers",
         "name": "home",
         "showlegend": true,
         "subplot": "mapbox",
         "type": "scattermapbox"
        },
        {
         "customdata": [
          [
           1,
           1
          ],
          [
           1,
           1
          ],
          [
           1,
           2
          ],
          [
           2,
           3
          ],
          [
           2,
           3
          ],
          [
           2,
           3
          ],
          [
           3,
           4
          ],
          [
           3,
           4
          ],
          [
           1,
           5
          ],
          [
           4,
           6
          ],
          [
           4,
           6
          ],
          [
           5,
           7
          ],
          [
           5,
           7
          ],
          [
           6,
           8
          ],
          [
           6,
           8
          ],
          [
           6,
           8
          ],
          [
           7,
           9
          ],
          [
           5,
           10
          ],
          [
           8,
           11
          ],
          [
           5,
           12
          ],
          [
           5,
           12
          ],
          [
           9,
           13
          ],
          [
           1,
           14
          ],
          [
           10,
           15
          ],
          [
           10,
           15
          ],
          [
           10,
           15
          ],
          [
           10,
           15
          ],
          [
           11,
           16
          ],
          [
           12,
           17
          ],
          [
           13,
           18
          ],
          [
           1,
           19
          ],
          [
           1,
           19
          ],
          [
           0,
           20
          ],
          [
           14,
           21
          ],
          [
           14,
           21
          ],
          [
           15,
           22
          ],
          [
           16,
           23
          ],
          [
           16,
           23
          ],
          [
           17,
           24
          ],
          [
           17,
           24
          ],
          [
           18,
           25
          ],
          [
           19,
           26
          ],
          [
           6,
           27
          ],
          [
           20,
           28
          ],
          [
           20,
           28
          ],
          [
           17,
           29
          ],
          [
           21,
           30
          ],
          [
           21,
           30
          ],
          [
           22,
           31
          ],
          [
           23,
           32
          ],
          [
           1,
           33
          ],
          [
           1,
           33
          ],
          [
           24,
           34
          ],
          [
           14,
           35
          ],
          [
           25,
           36
          ]
         ],
         "hoverlabel": {
          "namelength": 0
         },
         "hovertemplate": "label=other<br>group=%{customdata[0]}<br>region=%{customdata[1]}<br>latitude=%{lat}<br>longitude=%{lon}",
         "lat": [
          55.873056000000005,
          55.873056000000005,
          55.8712502,
          56.0333,
          56.0333,
          56.0333,
          55.67293305,
          55.67294181,
          55.88228066,
          55.6,
          55.6,
          59.2833,
          59.2833,
          59.33580246,
          59.33580246,
          59.33580246,
          55.70746555,
          59.272258799999996,
          57.70840484,
          59.26932707,
          59.26932467,
          22.2825,
          55.8735851,
          65.5833,
          65.5833,
          65.5833,
          65.5833,
          34.0522,
          59.45,
          59.3667,
          55.8678703,
          55.8678703,
          55.90953455,
          55.89235492,
          55.89235492,
          55.85,
          55.83916667,
          55.83916667,
          56.05,
          56.05,
          57.62514387,
          40.087164,
          59.35,
          55.93945842,
          55.93945842,
          56.0441,
          56.11749882,
          56.11749882,
          59.86137884,
          55.90820737,
          55.86904406,
          55.86904406,
          55.75656748,
          55.89619522,
          55.77083333
         ],
         "legendgroup": "other",
         "lon": [
          12.8225,
          12.8225,
          12.8331099,
          14.1333,
          14.1333,
          14.1333,
          12.56751957,
          12.56748928,
          12.82913303,
          13,
          13,
          15.2167,
          15.2167,
          18.05631189,
          18.05631189,
          18.05631189,
          12.5498756,
          15.2124701,
          11.97046444,
          15.20467997,
          15.20431483,
          114.1579,
          12.859029199999998,
          22.15,
          22.15,
          22.15,
          22.15,
          -118.243,
          17.9167,
          13.5,
          12.8239698,
          12.8239698,
          13.11314209,
          13.18011131,
          13.18011131,
          14.1333,
          13.30388889,
          13.30388889,
          12.7,
          12.7,
          18.2729764,
          -74.924479,
          18.0667,
          12.77481583,
          12.77481583,
          12.694699900000002,
          12.604151400000001,
          12.604151400000001,
          17.63068399,
          13.26256734,
          12.82165204,
          12.82165204,
          12.90471476,
          13.18603711,
          12.95555556
         ],
         "marker": {
          "color": "#EF553B"
         },
         "mode": "markers",
         "name": "other",
         "showlegend": true,
         "subplot": "mapbox",
         "type": "scattermapbox"
        }
       ],
       "layout": {
        "legend": {
         "title": {
          "text": "label"
         },
         "tracegroupgap": 0
        },
        "mapbox": {
         "center": {
          "lat": 56.04879288297618,
          "lon": 12.61892855095238
         },
         "domain": {
          "x": [
           0,
           1
          ],
          "y": [
           0,
           1
          ]
         },
         "style": "open-street-map",
         "zoom": 8
        },
        "margin": {
         "t": 60
        },
        "template": {
         "data": {
          "bar": [
           {
            "error_x": {
             "color": "#2a3f5f"
            },
            "error_y": {
             "color": "#2a3f5f"
            },
            "marker": {
             "line": {
              "color": "#E5ECF6",
              "width": 0.5
             }
            },
            "type": "bar"
           }
          ],
          "barpolar": [
           {
            "marker": {
             "line": {
              "color": "#E5ECF6",
              "width": 0.5
             }
            },
            "type": "barpolar"
           }
          ],
          "carpet": [
           {
            "aaxis": {
             "endlinecolor": "#2a3f5f",
             "gridcolor": "white",
             "linecolor": "white",
             "minorgridcolor": "white",
             "startlinecolor": "#2a3f5f"
            },
            "baxis": {
             "endlinecolor": "#2a3f5f",
             "gridcolor": "white",
             "linecolor": "white",
             "minorgridcolor": "white",
             "startlinecolor": "#2a3f5f"
            },
            "type": "carpet"
           }
          ],
          "choropleth": [
           {
            "colorbar": {
             "outlinewidth": 0,
             "ticks": ""
            },
            "type": "choropleth"
           }
          ],
          "contour": [
           {
            "colorbar": {
             "outlinewidth": 0,
             "ticks": ""
            },
            "colorscale": [
             [
              0,
              "#0d0887"
             ],
             [
              0.1111111111111111,
              "#46039f"
             ],
             [
              0.2222222222222222,
              "#7201a8"
             ],
             [
              0.3333333333333333,
              "#9c179e"
             ],
             [
              0.4444444444444444,
              "#bd3786"
             ],
             [
              0.5555555555555556,
              "#d8576b"
             ],
             [
              0.6666666666666666,
              "#ed7953"
             ],
             [
              0.7777777777777778,
              "#fb9f3a"
             ],
             [
              0.8888888888888888,
              "#fdca26"
             ],
             [
              1,
              "#f0f921"
             ]
            ],
            "type": "contour"
           }
          ],
          "contourcarpet": [
           {
            "colorbar": {
             "outlinewidth": 0,
             "ticks": ""
            },
            "type": "contourcarpet"
           }
          ],
          "heatmap": [
           {
            "colorbar": {
             "outlinewidth": 0,
             "ticks": ""
            },
            "colorscale": [
             [
              0,
              "#0d0887"
             ],
             [
              0.1111111111111111,
              "#46039f"
             ],
             [
              0.2222222222222222,
              "#7201a8"
             ],
             [
              0.3333333333333333,
              "#9c179e"
             ],
             [
              0.4444444444444444,
              "#bd3786"
             ],
             [
              0.5555555555555556,
              "#d8576b"
             ],
             [
              0.6666666666666666,
              "#ed7953"
             ],
             [
              0.7777777777777778,
              "#fb9f3a"
             ],
             [
              0.8888888888888888,
              "#fdca26"
             ],
             [
              1,
              "#f0f921"
             ]
            ],
            "type": "heatmap"
           }
          ],
          "heatmapgl": [
           {
            "colorbar": {
             "outlinewidth": 0,
             "ticks": ""
            },
            "colorscale": [
             [
              0,
              "#0d0887"
             ],
             [
              0.1111111111111111,
              "#46039f"
             ],
             [
              0.2222222222222222,
              "#7201a8"
             ],
             [
              0.3333333333333333,
              "#9c179e"
             ],
             [
              0.4444444444444444,
              "#bd3786"
             ],
             [
              0.5555555555555556,
              "#d8576b"
             ],
             [
              0.6666666666666666,
              "#ed7953"
             ],
             [
              0.7777777777777778,
              "#fb9f3a"
             ],
             [
              0.8888888888888888,
              "#fdca26"
             ],
             [
              1,
              "#f0f921"
             ]
            ],
            "type": "heatmapgl"
           }
          ],
          "histogram": [
           {
            "marker": {
             "colorbar": {
              "outlinewidth": 0,
              "ticks": ""
             }
            },
            "type": "histogram"
           }
          ],
          "histogram2d": [
           {
            "colorbar": {
             "outlinewidth": 0,
             "ticks": ""
            },
            "colorscale": [
             [
              0,
              "#0d0887"
             ],
             [
              0.1111111111111111,
              "#46039f"
             ],
             [
              0.2222222222222222,
              "#7201a8"
             ],
             [
              0.3333333333333333,
              "#9c179e"
             ],
             [
              0.4444444444444444,
              "#bd3786"
             ],
             [
              0.5555555555555556,
              "#d8576b"
             ],
             [
              0.6666666666666666,
              "#ed7953"
             ],
             [
              0.7777777777777778,
              "#fb9f3a"
             ],
             [
              0.8888888888888888,
              "#fdca26"
             ],
             [
              1,
              "#f0f921"
             ]
            ],
            "type": "histogram2d"
           }
          ],
          "histogram2dcontour": [
           {
            "colorbar": {
             "outlinewidth": 0,
             "ticks": ""
            },
            "colorscale": [
             [
              0,
              "#0d0887"
             ],
             [
              0.1111111111111111,
              "#46039f"
             ],
             [
              0.2222222222222222,
              "#7201a8"
             ],
             [
              0.3333333333333333,
              "#9c179e"
             ],
             [
              0.4444444444444444,
              "#bd3786"
             ],
             [
              0.5555555555555556,
              "#d8576b"
             ],
             [
              0.6666666666666666,
              "#ed7953"
             ],
             [
              0.7777777777777778,
              "#fb9f3a"
             ],
             [
              0.8888888888888888,
              "#fdca26"
             ],
             [
              1,
              "#f0f921"
             ]
            ],
            "type": "histogram2dcontour"
           }
          ],
          "mesh3d": [
           {
            "colorbar": {
             "outlinewidth": 0,
             "ticks": ""
            },
            "type": "mesh3d"
           }
          ],
          "parcoords": [
           {
            "line": {
             "colorbar": {
              "outlinewidth": 0,
              "ticks": ""
             }
            },
            "type": "parcoords"
           }
          ],
          "pie": [
           {
            "automargin": true,
            "type": "pie"
           }
          ],
          "scatter": [
           {
            "marker": {
             "colorbar": {
              "outlinewidth": 0,
              "ticks": ""
             }
            },
            "type": "scatter"
           }
          ],
          "scatter3d": [
           {
            "line": {
             "colorbar": {
              "outlinewidth": 0,
              "ticks": ""
             }
            },
            "marker": {
             "colorbar": {
              "outlinewidth": 0,
              "ticks": ""
             }
            },
            "type": "scatter3d"
           }
          ],
          "scattercarpet": [
           {
            "marker": {
             "colorbar": {
              "outlinewidth": 0,
              "ticks": ""
             }
            },
            "type": "scattercarpet"
           }
          ],
          "scattergeo": [
           {
            "marker": {
             "colorbar": {
              "outlinewidth": 0,
              "ticks": ""
             }
            },
            "type": "scattergeo"
           }
          ],
          "scattergl": [
           {
            "marker": {
             "colorbar": {
              "outlinewidth": 0,
              "ticks": ""
             }
            },
            "type": "scattergl"
           }
          ],
          "scattermapbox": [
           {
            "marker": {
             "colorbar": {
              "outlinewidth": 0,
              "ticks": ""
             }
            },
            "type": "scattermapbox"
           }
          ],
          "scatterpolar": [
           {
            "marker": {
             "colorbar": {
              "outlinewidth": 0,
              "ticks": ""
             }
            },
            "type": "scatterpolar"
           }
          ],
          "scatterpolargl": [
           {
            "marker": {
             "colorbar": {
              "outlinewidth": 0,
              "ticks": ""
             }
            },
            "type": "scatterpolargl"
           }
          ],
          "scatterternary": [
           {
            "marker": {
             "colorbar": {
              "outlinewidth": 0,
              "ticks": ""
             }
            },
            "type": "scatterternary"
           }
          ],
          "surface": [
           {
            "colorbar": {
             "outlinewidth": 0,
             "ticks": ""
            },
            "colorscale": [
             [
              0,
              "#0d0887"
             ],
             [
              0.1111111111111111,
              "#46039f"
             ],
             [
              0.2222222222222222,
              "#7201a8"
             ],
             [
              0.3333333333333333,
              "#9c179e"
             ],
             [
              0.4444444444444444,
              "#bd3786"
             ],
             [
              0.5555555555555556,
              "#d8576b"
             ],
             [
              0.6666666666666666,
              "#ed7953"
             ],
             [
              0.7777777777777778,
              "#fb9f3a"
             ],
             [
              0.8888888888888888,
              "#fdca26"
             ],
             [
              1,
              "#f0f921"
             ]
            ],
            "type": "surface"
           }
          ],
          "table": [
           {
            "cells": {
             "fill": {
              "color": "#EBF0F8"
             },
             "line": {
              "color": "white"
             }
            },
            "header": {
             "fill": {
              "color": "#C8D4E3"
             },
             "line": {
              "color": "white"
             }
            },
            "type": "table"
           }
          ]
         },
         "layout": {
          "annotationdefaults": {
           "arrowcolor": "#2a3f5f",
           "arrowhead": 0,
           "arrowwidth": 1
          },
          "coloraxis": {
           "colorbar": {
            "outlinewidth": 0,
            "ticks": ""
           }
          },
          "colorscale": {
           "diverging": [
            [
             0,
             "#8e0152"
            ],
            [
             0.1,
             "#c51b7d"
            ],
            [
             0.2,
             "#de77ae"
            ],
            [
             0.3,
             "#f1b6da"
            ],
            [
             0.4,
             "#fde0ef"
            ],
            [
             0.5,
             "#f7f7f7"
            ],
            [
             0.6,
             "#e6f5d0"
            ],
            [
             0.7,
             "#b8e186"
            ],
            [
             0.8,
             "#7fbc41"
            ],
            [
             0.9,
             "#4d9221"
            ],
            [
             1,
             "#276419"
            ]
           ],
           "sequential": [
            [
             0,
             "#0d0887"
            ],
            [
             0.1111111111111111,
             "#46039f"
            ],
            [
             0.2222222222222222,
             "#7201a8"
            ],
            [
             0.3333333333333333,
             "#9c179e"
            ],
            [
             0.4444444444444444,
             "#bd3786"
            ],
            [
             0.5555555555555556,
             "#d8576b"
            ],
            [
             0.6666666666666666,
             "#ed7953"
            ],
            [
             0.7777777777777778,
             "#fb9f3a"
            ],
            [
             0.8888888888888888,
             "#fdca26"
            ],
            [
             1,
             "#f0f921"
            ]
           ],
           "sequentialminus": [
            [
             0,
             "#0d0887"
            ],
            [
             0.1111111111111111,
             "#46039f"
            ],
            [
             0.2222222222222222,
             "#7201a8"
            ],
            [
             0.3333333333333333,
             "#9c179e"
            ],
            [
             0.4444444444444444,
             "#bd3786"
            ],
            [
             0.5555555555555556,
             "#d8576b"
            ],
            [
             0.6666666666666666,
             "#ed7953"
            ],
            [
             0.7777777777777778,
             "#fb9f3a"
            ],
            [
             0.8888888888888888,
             "#fdca26"
            ],
            [
             1,
             "#f0f921"
            ]
           ]
          },
          "colorway": [
           "#636efa",
           "#EF553B",
           "#00cc96",
           "#ab63fa",
           "#FFA15A",
           "#19d3f3",
           "#FF6692",
           "#B6E880",
           "#FF97FF",
           "#FECB52"
          ],
          "font": {
           "color": "#2a3f5f"
          },
          "geo": {
           "bgcolor": "white",
           "lakecolor": "white",
           "landcolor": "#E5ECF6",
           "showlakes": true,
           "showland": true,
           "subunitcolor": "white"
          },
          "hoverlabel": {
           "align": "left"
          },
          "hovermode": "closest",
          "mapbox": {
           "style": "light"
          },
          "paper_bgcolor": "white",
          "plot_bgcolor": "#E5ECF6",
          "polar": {
           "angularaxis": {
            "gridcolor": "white",
            "linecolor": "white",
            "ticks": ""
           },
           "bgcolor": "#E5ECF6",
           "radialaxis": {
            "gridcolor": "white",
            "linecolor": "white",
            "ticks": ""
           }
          },
          "scene": {
           "xaxis": {
            "backgroundcolor": "#E5ECF6",
            "gridcolor": "white",
            "gridwidth": 2,
            "linecolor": "white",
            "showbackground": true,
            "ticks": "",
            "zerolinecolor": "white"
           },
           "yaxis": {
            "backgroundcolor": "#E5ECF6",
            "gridcolor": "white",
            "gridwidth": 2,
            "linecolor": "white",
            "showbackground": true,
            "ticks": "",
            "zerolinecolor": "white"
           },
           "zaxis": {
            "backgroundcolor": "#E5ECF6",
            "gridcolor": "white",
            "gridwidth": 2,
            "linecolor": "white",
            "showbackground": true,
            "ticks": "",
            "zerolinecolor": "white"
           }
          },
          "shapedefaults": {
           "line": {
            "color": "#2a3f5f"
           }
          },
          "ternary": {
           "aaxis": {
            "gridcolor": "white",
            "linecolor": "white",
            "ticks": ""
           },
           "baxis": {
            "gridcolor": "white",
            "linecolor": "white",
            "ticks": ""
           },
           "bgcolor": "#E5ECF6",
           "caxis": {
            "gridcolor": "white",
            "linecolor": "white",
            "ticks": ""
           }
          },
          "title": {
           "x": 0.05
          },
          "xaxis": {
           "automargin": true,
           "gridcolor": "white",
           "linecolor": "white",
           "ticks": "",
           "title": {
            "standoff": 15
           },
           "zerolinecolor": "white",
           "zerolinewidth": 2
          },
          "yaxis": {
           "automargin": true,
           "gridcolor": "white",
           "linecolor": "white",
           "ticks": "",
           "title": {
            "standoff": 15
           },
           "zerolinecolor": "white",
           "zerolinewidth": 2
          }
         }
        }
       }
      },
      "text/html": [
       "<div>\n",
       "        \n",
       "        \n",
       "            <div id=\"a01cc4b6-4a4f-4fc9-8e46-1abbec5530c2\" class=\"plotly-graph-div\" style=\"height:525px; width:100%;\"></div>\n",
       "            <script type=\"text/javascript\">\n",
       "                require([\"plotly\"], function(Plotly) {\n",
       "                    window.PLOTLYENV=window.PLOTLYENV || {};\n",
       "                    \n",
       "                if (document.getElementById(\"a01cc4b6-4a4f-4fc9-8e46-1abbec5530c2\")) {\n",
       "                    Plotly.newPlot(\n",
       "                        'a01cc4b6-4a4f-4fc9-8e46-1abbec5530c2',\n",
       "                        [{\"customdata\": [[0, 0], [0, 0], [0, 0], [0, 0], [0, 0], [0, 0], [0, 0], [0, 0], [0, 0], [0, 0], [0, 0], [0, 0], [0, 0], [0, 0], [0, 0], [0, 0], [0, 0], [0, 0], [0, 0], [0, 0], [0, 0], [0, 0], [0, 0], [0, 0], [0, 0], [0, 0], [0, 0], [0, 0], [0, 0]], \"hoverlabel\": {\"namelength\": 0}, \"hovertemplate\": \"label=home<br>group=%{customdata[0]}<br>region=%{customdata[1]}<br>latitude=%{lat}<br>longitude=%{lon}\", \"lat\": [55.9167, 55.9167, 55.9167, 55.9167, 55.9167, 55.9167, 55.9167, 55.9167, 55.9167, 55.9167, 55.9167, 55.9167, 55.9167, 55.9167, 55.9167, 55.9167, 55.9167, 55.9167, 55.9167, 55.9167, 55.9167, 55.9167, 55.9167, 55.9167, 55.9167, 55.9167, 55.9167, 55.9167, 55.9167], \"legendgroup\": \"home\", \"lon\": [13.1, 13.1, 13.1, 13.1, 13.1, 13.1, 13.1, 13.1, 13.1, 13.1, 13.1, 13.1, 13.1, 13.1, 13.1, 13.1, 13.1, 13.1, 13.1, 13.1, 13.1, 13.1, 13.1, 13.1, 13.1, 13.1, 13.1, 13.1, 13.1], \"marker\": {\"color\": \"#636efa\"}, \"mode\": \"markers\", \"name\": \"home\", \"showlegend\": true, \"subplot\": \"mapbox\", \"type\": \"scattermapbox\"}, {\"customdata\": [[1, 1], [1, 1], [1, 2], [2, 3], [2, 3], [2, 3], [3, 4], [3, 4], [1, 5], [4, 6], [4, 6], [5, 7], [5, 7], [6, 8], [6, 8], [6, 8], [7, 9], [5, 10], [8, 11], [5, 12], [5, 12], [9, 13], [1, 14], [10, 15], [10, 15], [10, 15], [10, 15], [11, 16], [12, 17], [13, 18], [1, 19], [1, 19], [0, 20], [14, 21], [14, 21], [15, 22], [16, 23], [16, 23], [17, 24], [17, 24], [18, 25], [19, 26], [6, 27], [20, 28], [20, 28], [17, 29], [21, 30], [21, 30], [22, 31], [23, 32], [1, 33], [1, 33], [24, 34], [14, 35], [25, 36]], \"hoverlabel\": {\"namelength\": 0}, \"hovertemplate\": \"label=other<br>group=%{customdata[0]}<br>region=%{customdata[1]}<br>latitude=%{lat}<br>longitude=%{lon}\", \"lat\": [55.873056000000005, 55.873056000000005, 55.8712502, 56.0333, 56.0333, 56.0333, 55.67293305, 55.67294181, 55.88228066, 55.6, 55.6, 59.2833, 59.2833, 59.33580246, 59.33580246, 59.33580246, 55.70746555, 59.272258799999996, 57.70840484, 59.26932707, 59.26932467, 22.2825, 55.8735851, 65.5833, 65.5833, 65.5833, 65.5833, 34.0522, 59.45, 59.3667, 55.8678703, 55.8678703, 55.90953455, 55.89235492, 55.89235492, 55.85, 55.83916667, 55.83916667, 56.05, 56.05, 57.62514387, 40.087164, 59.35, 55.93945842, 55.93945842, 56.0441, 56.11749882, 56.11749882, 59.86137884, 55.90820737, 55.86904406, 55.86904406, 55.75656748, 55.89619522, 55.77083333], \"legendgroup\": \"other\", \"lon\": [12.8225, 12.8225, 12.8331099, 14.1333, 14.1333, 14.1333, 12.56751957, 12.56748928, 12.82913303, 13.0, 13.0, 15.2167, 15.2167, 18.05631189, 18.05631189, 18.05631189, 12.5498756, 15.2124701, 11.97046444, 15.20467997, 15.20431483, 114.1579, 12.859029199999998, 22.15, 22.15, 22.15, 22.15, -118.243, 17.9167, 13.5, 12.8239698, 12.8239698, 13.11314209, 13.18011131, 13.18011131, 14.1333, 13.30388889, 13.30388889, 12.7, 12.7, 18.2729764, -74.924479, 18.0667, 12.77481583, 12.77481583, 12.694699900000002, 12.604151400000001, 12.604151400000001, 17.63068399, 13.26256734, 12.82165204, 12.82165204, 12.90471476, 13.18603711, 12.95555556], \"marker\": {\"color\": \"#EF553B\"}, \"mode\": \"markers\", \"name\": \"other\", \"showlegend\": true, \"subplot\": \"mapbox\", \"type\": \"scattermapbox\"}],\n",
       "                        {\"legend\": {\"title\": {\"text\": \"label\"}, \"tracegroupgap\": 0}, \"mapbox\": {\"center\": {\"lat\": 56.04879288297618, \"lon\": 12.61892855095238}, \"domain\": {\"x\": [0.0, 1.0], \"y\": [0.0, 1.0]}, \"style\": \"open-street-map\", \"zoom\": 8}, \"margin\": {\"t\": 60}, \"template\": {\"data\": {\"bar\": [{\"error_x\": {\"color\": \"#2a3f5f\"}, \"error_y\": {\"color\": \"#2a3f5f\"}, \"marker\": {\"line\": {\"color\": \"#E5ECF6\", \"width\": 0.5}}, \"type\": \"bar\"}], \"barpolar\": [{\"marker\": {\"line\": {\"color\": \"#E5ECF6\", \"width\": 0.5}}, \"type\": \"barpolar\"}], \"carpet\": [{\"aaxis\": {\"endlinecolor\": \"#2a3f5f\", \"gridcolor\": \"white\", \"linecolor\": \"white\", \"minorgridcolor\": \"white\", \"startlinecolor\": \"#2a3f5f\"}, \"baxis\": {\"endlinecolor\": \"#2a3f5f\", \"gridcolor\": \"white\", \"linecolor\": \"white\", \"minorgridcolor\": \"white\", \"startlinecolor\": \"#2a3f5f\"}, \"type\": \"carpet\"}], \"choropleth\": [{\"colorbar\": {\"outlinewidth\": 0, \"ticks\": \"\"}, \"type\": \"choropleth\"}], \"contour\": [{\"colorbar\": {\"outlinewidth\": 0, \"ticks\": \"\"}, \"colorscale\": [[0.0, \"#0d0887\"], [0.1111111111111111, \"#46039f\"], [0.2222222222222222, \"#7201a8\"], [0.3333333333333333, \"#9c179e\"], [0.4444444444444444, \"#bd3786\"], [0.5555555555555556, \"#d8576b\"], [0.6666666666666666, \"#ed7953\"], [0.7777777777777778, \"#fb9f3a\"], [0.8888888888888888, \"#fdca26\"], [1.0, \"#f0f921\"]], \"type\": \"contour\"}], \"contourcarpet\": [{\"colorbar\": {\"outlinewidth\": 0, \"ticks\": \"\"}, \"type\": \"contourcarpet\"}], \"heatmap\": [{\"colorbar\": {\"outlinewidth\": 0, \"ticks\": \"\"}, \"colorscale\": [[0.0, \"#0d0887\"], [0.1111111111111111, \"#46039f\"], [0.2222222222222222, \"#7201a8\"], [0.3333333333333333, \"#9c179e\"], [0.4444444444444444, \"#bd3786\"], [0.5555555555555556, \"#d8576b\"], [0.6666666666666666, \"#ed7953\"], [0.7777777777777778, \"#fb9f3a\"], [0.8888888888888888, \"#fdca26\"], [1.0, \"#f0f921\"]], \"type\": \"heatmap\"}], \"heatmapgl\": [{\"colorbar\": {\"outlinewidth\": 0, \"ticks\": \"\"}, \"colorscale\": [[0.0, \"#0d0887\"], [0.1111111111111111, \"#46039f\"], [0.2222222222222222, \"#7201a8\"], [0.3333333333333333, \"#9c179e\"], [0.4444444444444444, \"#bd3786\"], [0.5555555555555556, \"#d8576b\"], [0.6666666666666666, \"#ed7953\"], [0.7777777777777778, \"#fb9f3a\"], [0.8888888888888888, \"#fdca26\"], [1.0, \"#f0f921\"]], \"type\": \"heatmapgl\"}], \"histogram\": [{\"marker\": {\"colorbar\": {\"outlinewidth\": 0, \"ticks\": \"\"}}, \"type\": \"histogram\"}], \"histogram2d\": [{\"colorbar\": {\"outlinewidth\": 0, \"ticks\": \"\"}, \"colorscale\": [[0.0, \"#0d0887\"], [0.1111111111111111, \"#46039f\"], [0.2222222222222222, \"#7201a8\"], [0.3333333333333333, \"#9c179e\"], [0.4444444444444444, \"#bd3786\"], [0.5555555555555556, \"#d8576b\"], [0.6666666666666666, \"#ed7953\"], [0.7777777777777778, \"#fb9f3a\"], [0.8888888888888888, \"#fdca26\"], [1.0, \"#f0f921\"]], \"type\": \"histogram2d\"}], \"histogram2dcontour\": [{\"colorbar\": {\"outlinewidth\": 0, \"ticks\": \"\"}, \"colorscale\": [[0.0, \"#0d0887\"], [0.1111111111111111, \"#46039f\"], [0.2222222222222222, \"#7201a8\"], [0.3333333333333333, \"#9c179e\"], [0.4444444444444444, \"#bd3786\"], [0.5555555555555556, \"#d8576b\"], [0.6666666666666666, \"#ed7953\"], [0.7777777777777778, \"#fb9f3a\"], [0.8888888888888888, \"#fdca26\"], [1.0, \"#f0f921\"]], \"type\": \"histogram2dcontour\"}], \"mesh3d\": [{\"colorbar\": {\"outlinewidth\": 0, \"ticks\": \"\"}, \"type\": \"mesh3d\"}], \"parcoords\": [{\"line\": {\"colorbar\": {\"outlinewidth\": 0, \"ticks\": \"\"}}, \"type\": \"parcoords\"}], \"pie\": [{\"automargin\": true, \"type\": \"pie\"}], \"scatter\": [{\"marker\": {\"colorbar\": {\"outlinewidth\": 0, \"ticks\": \"\"}}, \"type\": \"scatter\"}], \"scatter3d\": [{\"line\": {\"colorbar\": {\"outlinewidth\": 0, \"ticks\": \"\"}}, \"marker\": {\"colorbar\": {\"outlinewidth\": 0, \"ticks\": \"\"}}, \"type\": \"scatter3d\"}], \"scattercarpet\": [{\"marker\": {\"colorbar\": {\"outlinewidth\": 0, \"ticks\": \"\"}}, \"type\": \"scattercarpet\"}], \"scattergeo\": [{\"marker\": {\"colorbar\": {\"outlinewidth\": 0, \"ticks\": \"\"}}, \"type\": \"scattergeo\"}], \"scattergl\": [{\"marker\": {\"colorbar\": {\"outlinewidth\": 0, \"ticks\": \"\"}}, \"type\": \"scattergl\"}], \"scattermapbox\": [{\"marker\": {\"colorbar\": {\"outlinewidth\": 0, \"ticks\": \"\"}}, \"type\": \"scattermapbox\"}], \"scatterpolar\": [{\"marker\": {\"colorbar\": {\"outlinewidth\": 0, \"ticks\": \"\"}}, \"type\": \"scatterpolar\"}], \"scatterpolargl\": [{\"marker\": {\"colorbar\": {\"outlinewidth\": 0, \"ticks\": \"\"}}, \"type\": \"scatterpolargl\"}], \"scatterternary\": [{\"marker\": {\"colorbar\": {\"outlinewidth\": 0, \"ticks\": \"\"}}, \"type\": \"scatterternary\"}], \"surface\": [{\"colorbar\": {\"outlinewidth\": 0, \"ticks\": \"\"}, \"colorscale\": [[0.0, \"#0d0887\"], [0.1111111111111111, \"#46039f\"], [0.2222222222222222, \"#7201a8\"], [0.3333333333333333, \"#9c179e\"], [0.4444444444444444, \"#bd3786\"], [0.5555555555555556, \"#d8576b\"], [0.6666666666666666, \"#ed7953\"], [0.7777777777777778, \"#fb9f3a\"], [0.8888888888888888, \"#fdca26\"], [1.0, \"#f0f921\"]], \"type\": \"surface\"}], \"table\": [{\"cells\": {\"fill\": {\"color\": \"#EBF0F8\"}, \"line\": {\"color\": \"white\"}}, \"header\": {\"fill\": {\"color\": \"#C8D4E3\"}, \"line\": {\"color\": \"white\"}}, \"type\": \"table\"}]}, \"layout\": {\"annotationdefaults\": {\"arrowcolor\": \"#2a3f5f\", \"arrowhead\": 0, \"arrowwidth\": 1}, \"coloraxis\": {\"colorbar\": {\"outlinewidth\": 0, \"ticks\": \"\"}}, \"colorscale\": {\"diverging\": [[0, \"#8e0152\"], [0.1, \"#c51b7d\"], [0.2, \"#de77ae\"], [0.3, \"#f1b6da\"], [0.4, \"#fde0ef\"], [0.5, \"#f7f7f7\"], [0.6, \"#e6f5d0\"], [0.7, \"#b8e186\"], [0.8, \"#7fbc41\"], [0.9, \"#4d9221\"], [1, \"#276419\"]], \"sequential\": [[0.0, \"#0d0887\"], [0.1111111111111111, \"#46039f\"], [0.2222222222222222, \"#7201a8\"], [0.3333333333333333, \"#9c179e\"], [0.4444444444444444, \"#bd3786\"], [0.5555555555555556, \"#d8576b\"], [0.6666666666666666, \"#ed7953\"], [0.7777777777777778, \"#fb9f3a\"], [0.8888888888888888, \"#fdca26\"], [1.0, \"#f0f921\"]], \"sequentialminus\": [[0.0, \"#0d0887\"], [0.1111111111111111, \"#46039f\"], [0.2222222222222222, \"#7201a8\"], [0.3333333333333333, \"#9c179e\"], [0.4444444444444444, \"#bd3786\"], [0.5555555555555556, \"#d8576b\"], [0.6666666666666666, \"#ed7953\"], [0.7777777777777778, \"#fb9f3a\"], [0.8888888888888888, \"#fdca26\"], [1.0, \"#f0f921\"]]}, \"colorway\": [\"#636efa\", \"#EF553B\", \"#00cc96\", \"#ab63fa\", \"#FFA15A\", \"#19d3f3\", \"#FF6692\", \"#B6E880\", \"#FF97FF\", \"#FECB52\"], \"font\": {\"color\": \"#2a3f5f\"}, \"geo\": {\"bgcolor\": \"white\", \"lakecolor\": \"white\", \"landcolor\": \"#E5ECF6\", \"showlakes\": true, \"showland\": true, \"subunitcolor\": \"white\"}, \"hoverlabel\": {\"align\": \"left\"}, \"hovermode\": \"closest\", \"mapbox\": {\"style\": \"light\"}, \"paper_bgcolor\": \"white\", \"plot_bgcolor\": \"#E5ECF6\", \"polar\": {\"angularaxis\": {\"gridcolor\": \"white\", \"linecolor\": \"white\", \"ticks\": \"\"}, \"bgcolor\": \"#E5ECF6\", \"radialaxis\": {\"gridcolor\": \"white\", \"linecolor\": \"white\", \"ticks\": \"\"}}, \"scene\": {\"xaxis\": {\"backgroundcolor\": \"#E5ECF6\", \"gridcolor\": \"white\", \"gridwidth\": 2, \"linecolor\": \"white\", \"showbackground\": true, \"ticks\": \"\", \"zerolinecolor\": \"white\"}, \"yaxis\": {\"backgroundcolor\": \"#E5ECF6\", \"gridcolor\": \"white\", \"gridwidth\": 2, \"linecolor\": \"white\", \"showbackground\": true, \"ticks\": \"\", \"zerolinecolor\": \"white\"}, \"zaxis\": {\"backgroundcolor\": \"#E5ECF6\", \"gridcolor\": \"white\", \"gridwidth\": 2, \"linecolor\": \"white\", \"showbackground\": true, \"ticks\": \"\", \"zerolinecolor\": \"white\"}}, \"shapedefaults\": {\"line\": {\"color\": \"#2a3f5f\"}}, \"ternary\": {\"aaxis\": {\"gridcolor\": \"white\", \"linecolor\": \"white\", \"ticks\": \"\"}, \"baxis\": {\"gridcolor\": \"white\", \"linecolor\": \"white\", \"ticks\": \"\"}, \"bgcolor\": \"#E5ECF6\", \"caxis\": {\"gridcolor\": \"white\", \"linecolor\": \"white\", \"ticks\": \"\"}}, \"title\": {\"x\": 0.05}, \"xaxis\": {\"automargin\": true, \"gridcolor\": \"white\", \"linecolor\": \"white\", \"ticks\": \"\", \"title\": {\"standoff\": 15}, \"zerolinecolor\": \"white\", \"zerolinewidth\": 2}, \"yaxis\": {\"automargin\": true, \"gridcolor\": \"white\", \"linecolor\": \"white\", \"ticks\": \"\", \"title\": {\"standoff\": 15}, \"zerolinecolor\": \"white\", \"zerolinewidth\": 2}}}},\n",
       "                        {\"responsive\": true}\n",
       "                    ).then(function(){\n",
       "                            \n",
       "var gd = document.getElementById('a01cc4b6-4a4f-4fc9-8e46-1abbec5530c2');\n",
       "var x = new MutationObserver(function (mutations, observer) {{\n",
       "        var display = window.getComputedStyle(gd).display;\n",
       "        if (!display || display === 'none') {{\n",
       "            console.log([gd, 'removed!']);\n",
       "            Plotly.purge(gd);\n",
       "            observer.disconnect();\n",
       "        }}\n",
       "}});\n",
       "\n",
       "// Listen for the removal of the full notebook cells\n",
       "var notebookContainer = gd.closest('#notebook-container');\n",
       "if (notebookContainer) {{\n",
       "    x.observe(notebookContainer, {childList: true});\n",
       "}}\n",
       "\n",
       "// Listen for the clearing of the current output cell\n",
       "var outputEl = gd.closest('.output');\n",
       "if (outputEl) {{\n",
       "    x.observe(outputEl, {childList: true});\n",
       "}}\n",
       "\n",
       "                        })\n",
       "                };\n",
       "                });\n",
       "            </script>\n",
       "        </div>"
      ]
     },
     "metadata": {},
     "output_type": "display_data"
    }
   ],
   "source": [
    "fig = px.scatter_mapbox(user_region_groups, lat='latitude', lon='longitude', hover_data=['group', 'region'], color='label')\n",
    "fig.update_layout(mapbox_style=\"open-street-map\")\n",
    "fig.show()"
   ]
  },
  {
   "cell_type": "code",
   "execution_count": 14,
   "metadata": {},
   "outputs": [],
   "source": [
    "visits = mscthesis.visit_gaps(tweets_x)"
   ]
  },
  {
   "cell_type": "code",
   "execution_count": 91,
   "metadata": {},
   "outputs": [],
   "source": [
    "u = visits.loc[3835271]"
   ]
  },
  {
   "cell_type": "code",
   "execution_count": 92,
   "metadata": {},
   "outputs": [
    {
     "data": {
      "text/html": [
       "<div>\n",
       "<style scoped>\n",
       "    .dataframe tbody tr th:only-of-type {\n",
       "        vertical-align: middle;\n",
       "    }\n",
       "\n",
       "    .dataframe tbody tr th {\n",
       "        vertical-align: top;\n",
       "    }\n",
       "\n",
       "    .dataframe thead th {\n",
       "        text-align: right;\n",
       "    }\n",
       "</style>\n",
       "<table border=\"1\" class=\"dataframe\">\n",
       "  <thead>\n",
       "    <tr style=\"text-align: right;\">\n",
       "      <th></th>\n",
       "      <th>createdat_origin</th>\n",
       "      <th>tweetid_origin</th>\n",
       "      <th>latitude_origin</th>\n",
       "      <th>longitude_origin</th>\n",
       "      <th>month_origin</th>\n",
       "      <th>weekday_origin</th>\n",
       "      <th>hourofday_origin</th>\n",
       "      <th>timezone_origin</th>\n",
       "      <th>ym_origin</th>\n",
       "      <th>label_origin</th>\n",
       "      <th>...</th>\n",
       "      <th>latitude_destination</th>\n",
       "      <th>longitude_destination</th>\n",
       "      <th>month_destination</th>\n",
       "      <th>weekday_destination</th>\n",
       "      <th>hourofday_destination</th>\n",
       "      <th>timezone_destination</th>\n",
       "      <th>ym_destination</th>\n",
       "      <th>label_destination</th>\n",
       "      <th>geometry_destination</th>\n",
       "      <th>group_destination</th>\n",
       "    </tr>\n",
       "    <tr>\n",
       "      <th>userid</th>\n",
       "      <th></th>\n",
       "      <th></th>\n",
       "      <th></th>\n",
       "      <th></th>\n",
       "      <th></th>\n",
       "      <th></th>\n",
       "      <th></th>\n",
       "      <th></th>\n",
       "      <th></th>\n",
       "      <th></th>\n",
       "      <th></th>\n",
       "      <th></th>\n",
       "      <th></th>\n",
       "      <th></th>\n",
       "      <th></th>\n",
       "      <th></th>\n",
       "      <th></th>\n",
       "      <th></th>\n",
       "      <th></th>\n",
       "      <th></th>\n",
       "      <th></th>\n",
       "    </tr>\n",
       "  </thead>\n",
       "  <tbody>\n",
       "    <tr>\n",
       "      <th>3835271</th>\n",
       "      <td>2015-10-08 13:04:15+00:00</td>\n",
       "      <td>652107236618174464</td>\n",
       "      <td>55.916700</td>\n",
       "      <td>13.100000</td>\n",
       "      <td>10</td>\n",
       "      <td>4</td>\n",
       "      <td>15</td>\n",
       "      <td>Europe/Stockholm</td>\n",
       "      <td>2015-10</td>\n",
       "      <td>home</td>\n",
       "      <td>...</td>\n",
       "      <td>55.916700</td>\n",
       "      <td>13.100000</td>\n",
       "      <td>10</td>\n",
       "      <td>3</td>\n",
       "      <td>3</td>\n",
       "      <td>Europe/Stockholm</td>\n",
       "      <td>2015-10</td>\n",
       "      <td>home</td>\n",
       "      <td>POINT (13.10000 55.91670)</td>\n",
       "      <td>0</td>\n",
       "    </tr>\n",
       "    <tr>\n",
       "      <th>3835271</th>\n",
       "      <td>2015-10-14 01:56:49+00:00</td>\n",
       "      <td>654113598189510656</td>\n",
       "      <td>55.916700</td>\n",
       "      <td>13.100000</td>\n",
       "      <td>10</td>\n",
       "      <td>3</td>\n",
       "      <td>3</td>\n",
       "      <td>Europe/Stockholm</td>\n",
       "      <td>2015-10</td>\n",
       "      <td>home</td>\n",
       "      <td>...</td>\n",
       "      <td>55.916700</td>\n",
       "      <td>13.100000</td>\n",
       "      <td>10</td>\n",
       "      <td>4</td>\n",
       "      <td>0</td>\n",
       "      <td>Europe/Stockholm</td>\n",
       "      <td>2015-10</td>\n",
       "      <td>home</td>\n",
       "      <td>POINT (13.10000 55.91670)</td>\n",
       "      <td>0</td>\n",
       "    </tr>\n",
       "    <tr>\n",
       "      <th>3835271</th>\n",
       "      <td>2015-10-14 22:34:12+00:00</td>\n",
       "      <td>654424996928991232</td>\n",
       "      <td>55.916700</td>\n",
       "      <td>13.100000</td>\n",
       "      <td>10</td>\n",
       "      <td>4</td>\n",
       "      <td>0</td>\n",
       "      <td>Europe/Stockholm</td>\n",
       "      <td>2015-10</td>\n",
       "      <td>home</td>\n",
       "      <td>...</td>\n",
       "      <td>55.916700</td>\n",
       "      <td>13.100000</td>\n",
       "      <td>10</td>\n",
       "      <td>6</td>\n",
       "      <td>22</td>\n",
       "      <td>Europe/Stockholm</td>\n",
       "      <td>2015-10</td>\n",
       "      <td>home</td>\n",
       "      <td>POINT (13.10000 55.91670)</td>\n",
       "      <td>0</td>\n",
       "    </tr>\n",
       "    <tr>\n",
       "      <th>3835271</th>\n",
       "      <td>2015-10-17 20:34:24+00:00</td>\n",
       "      <td>655482010568380416</td>\n",
       "      <td>55.916700</td>\n",
       "      <td>13.100000</td>\n",
       "      <td>10</td>\n",
       "      <td>6</td>\n",
       "      <td>22</td>\n",
       "      <td>Europe/Stockholm</td>\n",
       "      <td>2015-10</td>\n",
       "      <td>home</td>\n",
       "      <td>...</td>\n",
       "      <td>55.916700</td>\n",
       "      <td>13.100000</td>\n",
       "      <td>10</td>\n",
       "      <td>0</td>\n",
       "      <td>19</td>\n",
       "      <td>Europe/Stockholm</td>\n",
       "      <td>2015-10</td>\n",
       "      <td>home</td>\n",
       "      <td>POINT (13.10000 55.91670)</td>\n",
       "      <td>0</td>\n",
       "    </tr>\n",
       "    <tr>\n",
       "      <th>3835271</th>\n",
       "      <td>2015-10-18 17:08:09+00:00</td>\n",
       "      <td>655792496438550528</td>\n",
       "      <td>55.916700</td>\n",
       "      <td>13.100000</td>\n",
       "      <td>10</td>\n",
       "      <td>0</td>\n",
       "      <td>19</td>\n",
       "      <td>Europe/Stockholm</td>\n",
       "      <td>2015-10</td>\n",
       "      <td>home</td>\n",
       "      <td>...</td>\n",
       "      <td>55.916700</td>\n",
       "      <td>13.100000</td>\n",
       "      <td>11</td>\n",
       "      <td>2</td>\n",
       "      <td>23</td>\n",
       "      <td>Europe/Stockholm</td>\n",
       "      <td>2015-11</td>\n",
       "      <td>home</td>\n",
       "      <td>POINT (13.10000 55.91670)</td>\n",
       "      <td>0</td>\n",
       "    </tr>\n",
       "    <tr>\n",
       "      <th>...</th>\n",
       "      <td>...</td>\n",
       "      <td>...</td>\n",
       "      <td>...</td>\n",
       "      <td>...</td>\n",
       "      <td>...</td>\n",
       "      <td>...</td>\n",
       "      <td>...</td>\n",
       "      <td>...</td>\n",
       "      <td>...</td>\n",
       "      <td>...</td>\n",
       "      <td>...</td>\n",
       "      <td>...</td>\n",
       "      <td>...</td>\n",
       "      <td>...</td>\n",
       "      <td>...</td>\n",
       "      <td>...</td>\n",
       "      <td>...</td>\n",
       "      <td>...</td>\n",
       "      <td>...</td>\n",
       "      <td>...</td>\n",
       "      <td>...</td>\n",
       "    </tr>\n",
       "    <tr>\n",
       "      <th>3835271</th>\n",
       "      <td>2016-06-25 15:47:26+00:00</td>\n",
       "      <td>746731538209996800</td>\n",
       "      <td>55.908207</td>\n",
       "      <td>13.262567</td>\n",
       "      <td>6</td>\n",
       "      <td>6</td>\n",
       "      <td>17</td>\n",
       "      <td>Europe/Stockholm</td>\n",
       "      <td>2016-06</td>\n",
       "      <td>other</td>\n",
       "      <td>...</td>\n",
       "      <td>55.869044</td>\n",
       "      <td>12.821652</td>\n",
       "      <td>6</td>\n",
       "      <td>0</td>\n",
       "      <td>6</td>\n",
       "      <td>Europe/Stockholm</td>\n",
       "      <td>2016-06</td>\n",
       "      <td>other</td>\n",
       "      <td>POINT (12.82165 55.86904)</td>\n",
       "      <td>1</td>\n",
       "    </tr>\n",
       "    <tr>\n",
       "      <th>3835271</th>\n",
       "      <td>2016-06-26 04:16:56+00:00</td>\n",
       "      <td>746920154454450176</td>\n",
       "      <td>55.869044</td>\n",
       "      <td>12.821652</td>\n",
       "      <td>6</td>\n",
       "      <td>0</td>\n",
       "      <td>6</td>\n",
       "      <td>Europe/Stockholm</td>\n",
       "      <td>2016-06</td>\n",
       "      <td>other</td>\n",
       "      <td>...</td>\n",
       "      <td>55.869044</td>\n",
       "      <td>12.821652</td>\n",
       "      <td>6</td>\n",
       "      <td>0</td>\n",
       "      <td>19</td>\n",
       "      <td>Europe/Stockholm</td>\n",
       "      <td>2016-06</td>\n",
       "      <td>other</td>\n",
       "      <td>POINT (12.82165 55.86904)</td>\n",
       "      <td>1</td>\n",
       "    </tr>\n",
       "    <tr>\n",
       "      <th>3835271</th>\n",
       "      <td>2016-06-26 17:56:30+00:00</td>\n",
       "      <td>747126405457154048</td>\n",
       "      <td>55.869044</td>\n",
       "      <td>12.821652</td>\n",
       "      <td>6</td>\n",
       "      <td>0</td>\n",
       "      <td>19</td>\n",
       "      <td>Europe/Stockholm</td>\n",
       "      <td>2016-06</td>\n",
       "      <td>other</td>\n",
       "      <td>...</td>\n",
       "      <td>55.756567</td>\n",
       "      <td>12.904715</td>\n",
       "      <td>7</td>\n",
       "      <td>2</td>\n",
       "      <td>17</td>\n",
       "      <td>Europe/Stockholm</td>\n",
       "      <td>2016-07</td>\n",
       "      <td>other</td>\n",
       "      <td>POINT (12.90471 55.75657)</td>\n",
       "      <td>24</td>\n",
       "    </tr>\n",
       "    <tr>\n",
       "      <th>3835271</th>\n",
       "      <td>2016-07-05 15:25:21+00:00</td>\n",
       "      <td>750349856556843008</td>\n",
       "      <td>55.756567</td>\n",
       "      <td>12.904715</td>\n",
       "      <td>7</td>\n",
       "      <td>2</td>\n",
       "      <td>17</td>\n",
       "      <td>Europe/Stockholm</td>\n",
       "      <td>2016-07</td>\n",
       "      <td>other</td>\n",
       "      <td>...</td>\n",
       "      <td>55.896195</td>\n",
       "      <td>13.186037</td>\n",
       "      <td>7</td>\n",
       "      <td>4</td>\n",
       "      <td>1</td>\n",
       "      <td>Europe/Stockholm</td>\n",
       "      <td>2016-07</td>\n",
       "      <td>other</td>\n",
       "      <td>POINT (13.18604 55.89620)</td>\n",
       "      <td>14</td>\n",
       "    </tr>\n",
       "    <tr>\n",
       "      <th>3835271</th>\n",
       "      <td>2016-07-06 23:26:41+00:00</td>\n",
       "      <td>750833376979017728</td>\n",
       "      <td>55.896195</td>\n",
       "      <td>13.186037</td>\n",
       "      <td>7</td>\n",
       "      <td>4</td>\n",
       "      <td>1</td>\n",
       "      <td>Europe/Stockholm</td>\n",
       "      <td>2016-07</td>\n",
       "      <td>other</td>\n",
       "      <td>...</td>\n",
       "      <td>55.770833</td>\n",
       "      <td>12.955556</td>\n",
       "      <td>7</td>\n",
       "      <td>4</td>\n",
       "      <td>15</td>\n",
       "      <td>Europe/Stockholm</td>\n",
       "      <td>2016-07</td>\n",
       "      <td>other</td>\n",
       "      <td>POINT (12.95556 55.77083)</td>\n",
       "      <td>25</td>\n",
       "    </tr>\n",
       "  </tbody>\n",
       "</table>\n",
       "<p>83 rows × 24 columns</p>\n",
       "</div>"
      ],
      "text/plain": [
       "                 createdat_origin      tweetid_origin  latitude_origin  \\\n",
       "userid                                                                   \n",
       "3835271 2015-10-08 13:04:15+00:00  652107236618174464        55.916700   \n",
       "3835271 2015-10-14 01:56:49+00:00  654113598189510656        55.916700   \n",
       "3835271 2015-10-14 22:34:12+00:00  654424996928991232        55.916700   \n",
       "3835271 2015-10-17 20:34:24+00:00  655482010568380416        55.916700   \n",
       "3835271 2015-10-18 17:08:09+00:00  655792496438550528        55.916700   \n",
       "...                           ...                 ...              ...   \n",
       "3835271 2016-06-25 15:47:26+00:00  746731538209996800        55.908207   \n",
       "3835271 2016-06-26 04:16:56+00:00  746920154454450176        55.869044   \n",
       "3835271 2016-06-26 17:56:30+00:00  747126405457154048        55.869044   \n",
       "3835271 2016-07-05 15:25:21+00:00  750349856556843008        55.756567   \n",
       "3835271 2016-07-06 23:26:41+00:00  750833376979017728        55.896195   \n",
       "\n",
       "         longitude_origin  month_origin  weekday_origin  hourofday_origin  \\\n",
       "userid                                                                      \n",
       "3835271         13.100000            10               4                15   \n",
       "3835271         13.100000            10               3                 3   \n",
       "3835271         13.100000            10               4                 0   \n",
       "3835271         13.100000            10               6                22   \n",
       "3835271         13.100000            10               0                19   \n",
       "...                   ...           ...             ...               ...   \n",
       "3835271         13.262567             6               6                17   \n",
       "3835271         12.821652             6               0                 6   \n",
       "3835271         12.821652             6               0                19   \n",
       "3835271         12.904715             7               2                17   \n",
       "3835271         13.186037             7               4                 1   \n",
       "\n",
       "          timezone_origin ym_origin label_origin  ... latitude_destination  \\\n",
       "userid                                            ...                        \n",
       "3835271  Europe/Stockholm   2015-10         home  ...            55.916700   \n",
       "3835271  Europe/Stockholm   2015-10         home  ...            55.916700   \n",
       "3835271  Europe/Stockholm   2015-10         home  ...            55.916700   \n",
       "3835271  Europe/Stockholm   2015-10         home  ...            55.916700   \n",
       "3835271  Europe/Stockholm   2015-10         home  ...            55.916700   \n",
       "...                   ...       ...          ...  ...                  ...   \n",
       "3835271  Europe/Stockholm   2016-06        other  ...            55.869044   \n",
       "3835271  Europe/Stockholm   2016-06        other  ...            55.869044   \n",
       "3835271  Europe/Stockholm   2016-06        other  ...            55.756567   \n",
       "3835271  Europe/Stockholm   2016-07        other  ...            55.896195   \n",
       "3835271  Europe/Stockholm   2016-07        other  ...            55.770833   \n",
       "\n",
       "         longitude_destination month_destination  weekday_destination  \\\n",
       "userid                                                                  \n",
       "3835271              13.100000                10                    3   \n",
       "3835271              13.100000                10                    4   \n",
       "3835271              13.100000                10                    6   \n",
       "3835271              13.100000                10                    0   \n",
       "3835271              13.100000                11                    2   \n",
       "...                        ...               ...                  ...   \n",
       "3835271              12.821652                 6                    0   \n",
       "3835271              12.821652                 6                    0   \n",
       "3835271              12.904715                 7                    2   \n",
       "3835271              13.186037                 7                    4   \n",
       "3835271              12.955556                 7                    4   \n",
       "\n",
       "         hourofday_destination  timezone_destination  ym_destination  \\\n",
       "userid                                                                 \n",
       "3835271                      3      Europe/Stockholm         2015-10   \n",
       "3835271                      0      Europe/Stockholm         2015-10   \n",
       "3835271                     22      Europe/Stockholm         2015-10   \n",
       "3835271                     19      Europe/Stockholm         2015-10   \n",
       "3835271                     23      Europe/Stockholm         2015-11   \n",
       "...                        ...                   ...             ...   \n",
       "3835271                      6      Europe/Stockholm         2016-06   \n",
       "3835271                     19      Europe/Stockholm         2016-06   \n",
       "3835271                     17      Europe/Stockholm         2016-07   \n",
       "3835271                      1      Europe/Stockholm         2016-07   \n",
       "3835271                     15      Europe/Stockholm         2016-07   \n",
       "\n",
       "         label_destination       geometry_destination group_destination  \n",
       "userid                                                                   \n",
       "3835271               home  POINT (13.10000 55.91670)                 0  \n",
       "3835271               home  POINT (13.10000 55.91670)                 0  \n",
       "3835271               home  POINT (13.10000 55.91670)                 0  \n",
       "3835271               home  POINT (13.10000 55.91670)                 0  \n",
       "3835271               home  POINT (13.10000 55.91670)                 0  \n",
       "...                    ...                        ...               ...  \n",
       "3835271              other  POINT (12.82165 55.86904)                 1  \n",
       "3835271              other  POINT (12.82165 55.86904)                 1  \n",
       "3835271              other  POINT (12.90471 55.75657)                24  \n",
       "3835271              other  POINT (13.18604 55.89620)                14  \n",
       "3835271              other  POINT (12.95556 55.77083)                25  \n",
       "\n",
       "[83 rows x 24 columns]"
      ]
     },
     "execution_count": 92,
     "metadata": {},
     "output_type": "execute_result"
    }
   ],
   "source": [
    "u"
   ]
  },
  {
   "cell_type": "code",
   "execution_count": 131,
   "metadata": {},
   "outputs": [
    {
     "data": {
      "text/html": [
       "<div>\n",
       "<style scoped>\n",
       "    .dataframe tbody tr th:only-of-type {\n",
       "        vertical-align: middle;\n",
       "    }\n",
       "\n",
       "    .dataframe tbody tr th {\n",
       "        vertical-align: top;\n",
       "    }\n",
       "\n",
       "    .dataframe thead th {\n",
       "        text-align: right;\n",
       "    }\n",
       "</style>\n",
       "<table border=\"1\" class=\"dataframe\">\n",
       "  <thead>\n",
       "    <tr style=\"text-align: right;\">\n",
       "      <th>group_destination</th>\n",
       "      <th>0</th>\n",
       "      <th>1</th>\n",
       "      <th>2</th>\n",
       "      <th>3</th>\n",
       "      <th>4</th>\n",
       "      <th>5</th>\n",
       "      <th>6</th>\n",
       "      <th>7</th>\n",
       "      <th>8</th>\n",
       "      <th>9</th>\n",
       "      <th>...</th>\n",
       "      <th>16</th>\n",
       "      <th>17</th>\n",
       "      <th>18</th>\n",
       "      <th>19</th>\n",
       "      <th>20</th>\n",
       "      <th>21</th>\n",
       "      <th>22</th>\n",
       "      <th>23</th>\n",
       "      <th>24</th>\n",
       "      <th>25</th>\n",
       "    </tr>\n",
       "    <tr>\n",
       "      <th>group_origin</th>\n",
       "      <th></th>\n",
       "      <th></th>\n",
       "      <th></th>\n",
       "      <th></th>\n",
       "      <th></th>\n",
       "      <th></th>\n",
       "      <th></th>\n",
       "      <th></th>\n",
       "      <th></th>\n",
       "      <th></th>\n",
       "      <th></th>\n",
       "      <th></th>\n",
       "      <th></th>\n",
       "      <th></th>\n",
       "      <th></th>\n",
       "      <th></th>\n",
       "      <th></th>\n",
       "      <th></th>\n",
       "      <th></th>\n",
       "      <th></th>\n",
       "      <th></th>\n",
       "    </tr>\n",
       "  </thead>\n",
       "  <tbody>\n",
       "    <tr>\n",
       "      <th>0</th>\n",
       "      <td>28</td>\n",
       "      <td>1</td>\n",
       "      <td>0</td>\n",
       "      <td>0</td>\n",
       "      <td>0</td>\n",
       "      <td>0</td>\n",
       "      <td>0</td>\n",
       "      <td>0</td>\n",
       "      <td>0</td>\n",
       "      <td>0</td>\n",
       "      <td>...</td>\n",
       "      <td>0</td>\n",
       "      <td>0</td>\n",
       "      <td>0</td>\n",
       "      <td>0</td>\n",
       "      <td>0</td>\n",
       "      <td>0</td>\n",
       "      <td>0</td>\n",
       "      <td>0</td>\n",
       "      <td>0</td>\n",
       "      <td>0</td>\n",
       "    </tr>\n",
       "    <tr>\n",
       "      <th>1</th>\n",
       "      <td>1</td>\n",
       "      <td>4</td>\n",
       "      <td>1</td>\n",
       "      <td>0</td>\n",
       "      <td>1</td>\n",
       "      <td>0</td>\n",
       "      <td>0</td>\n",
       "      <td>0</td>\n",
       "      <td>0</td>\n",
       "      <td>0</td>\n",
       "      <td>...</td>\n",
       "      <td>0</td>\n",
       "      <td>0</td>\n",
       "      <td>0</td>\n",
       "      <td>0</td>\n",
       "      <td>0</td>\n",
       "      <td>0</td>\n",
       "      <td>0</td>\n",
       "      <td>0</td>\n",
       "      <td>1</td>\n",
       "      <td>0</td>\n",
       "    </tr>\n",
       "    <tr>\n",
       "      <th>2</th>\n",
       "      <td>0</td>\n",
       "      <td>0</td>\n",
       "      <td>2</td>\n",
       "      <td>1</td>\n",
       "      <td>0</td>\n",
       "      <td>0</td>\n",
       "      <td>0</td>\n",
       "      <td>0</td>\n",
       "      <td>0</td>\n",
       "      <td>0</td>\n",
       "      <td>...</td>\n",
       "      <td>0</td>\n",
       "      <td>0</td>\n",
       "      <td>0</td>\n",
       "      <td>0</td>\n",
       "      <td>0</td>\n",
       "      <td>0</td>\n",
       "      <td>0</td>\n",
       "      <td>0</td>\n",
       "      <td>0</td>\n",
       "      <td>0</td>\n",
       "    </tr>\n",
       "    <tr>\n",
       "      <th>3</th>\n",
       "      <td>0</td>\n",
       "      <td>1</td>\n",
       "      <td>0</td>\n",
       "      <td>1</td>\n",
       "      <td>0</td>\n",
       "      <td>0</td>\n",
       "      <td>0</td>\n",
       "      <td>0</td>\n",
       "      <td>0</td>\n",
       "      <td>0</td>\n",
       "      <td>...</td>\n",
       "      <td>0</td>\n",
       "      <td>0</td>\n",
       "      <td>0</td>\n",
       "      <td>0</td>\n",
       "      <td>0</td>\n",
       "      <td>0</td>\n",
       "      <td>0</td>\n",
       "      <td>0</td>\n",
       "      <td>0</td>\n",
       "      <td>0</td>\n",
       "    </tr>\n",
       "    <tr>\n",
       "      <th>4</th>\n",
       "      <td>0</td>\n",
       "      <td>0</td>\n",
       "      <td>0</td>\n",
       "      <td>0</td>\n",
       "      <td>1</td>\n",
       "      <td>1</td>\n",
       "      <td>0</td>\n",
       "      <td>0</td>\n",
       "      <td>0</td>\n",
       "      <td>0</td>\n",
       "      <td>...</td>\n",
       "      <td>0</td>\n",
       "      <td>0</td>\n",
       "      <td>0</td>\n",
       "      <td>0</td>\n",
       "      <td>0</td>\n",
       "      <td>0</td>\n",
       "      <td>0</td>\n",
       "      <td>0</td>\n",
       "      <td>0</td>\n",
       "      <td>0</td>\n",
       "    </tr>\n",
       "    <tr>\n",
       "      <th>5</th>\n",
       "      <td>0</td>\n",
       "      <td>0</td>\n",
       "      <td>0</td>\n",
       "      <td>0</td>\n",
       "      <td>0</td>\n",
       "      <td>2</td>\n",
       "      <td>1</td>\n",
       "      <td>0</td>\n",
       "      <td>1</td>\n",
       "      <td>1</td>\n",
       "      <td>...</td>\n",
       "      <td>0</td>\n",
       "      <td>0</td>\n",
       "      <td>0</td>\n",
       "      <td>0</td>\n",
       "      <td>0</td>\n",
       "      <td>0</td>\n",
       "      <td>0</td>\n",
       "      <td>0</td>\n",
       "      <td>0</td>\n",
       "      <td>0</td>\n",
       "    </tr>\n",
       "    <tr>\n",
       "      <th>6</th>\n",
       "      <td>0</td>\n",
       "      <td>0</td>\n",
       "      <td>0</td>\n",
       "      <td>0</td>\n",
       "      <td>0</td>\n",
       "      <td>0</td>\n",
       "      <td>2</td>\n",
       "      <td>1</td>\n",
       "      <td>0</td>\n",
       "      <td>0</td>\n",
       "      <td>...</td>\n",
       "      <td>0</td>\n",
       "      <td>0</td>\n",
       "      <td>0</td>\n",
       "      <td>0</td>\n",
       "      <td>1</td>\n",
       "      <td>0</td>\n",
       "      <td>0</td>\n",
       "      <td>0</td>\n",
       "      <td>0</td>\n",
       "      <td>0</td>\n",
       "    </tr>\n",
       "    <tr>\n",
       "      <th>7</th>\n",
       "      <td>0</td>\n",
       "      <td>0</td>\n",
       "      <td>0</td>\n",
       "      <td>0</td>\n",
       "      <td>0</td>\n",
       "      <td>1</td>\n",
       "      <td>0</td>\n",
       "      <td>0</td>\n",
       "      <td>0</td>\n",
       "      <td>0</td>\n",
       "      <td>...</td>\n",
       "      <td>0</td>\n",
       "      <td>0</td>\n",
       "      <td>0</td>\n",
       "      <td>0</td>\n",
       "      <td>0</td>\n",
       "      <td>0</td>\n",
       "      <td>0</td>\n",
       "      <td>0</td>\n",
       "      <td>0</td>\n",
       "      <td>0</td>\n",
       "    </tr>\n",
       "    <tr>\n",
       "      <th>8</th>\n",
       "      <td>0</td>\n",
       "      <td>0</td>\n",
       "      <td>0</td>\n",
       "      <td>0</td>\n",
       "      <td>0</td>\n",
       "      <td>1</td>\n",
       "      <td>0</td>\n",
       "      <td>0</td>\n",
       "      <td>0</td>\n",
       "      <td>0</td>\n",
       "      <td>...</td>\n",
       "      <td>0</td>\n",
       "      <td>0</td>\n",
       "      <td>0</td>\n",
       "      <td>0</td>\n",
       "      <td>0</td>\n",
       "      <td>0</td>\n",
       "      <td>0</td>\n",
       "      <td>0</td>\n",
       "      <td>0</td>\n",
       "      <td>0</td>\n",
       "    </tr>\n",
       "    <tr>\n",
       "      <th>9</th>\n",
       "      <td>0</td>\n",
       "      <td>1</td>\n",
       "      <td>0</td>\n",
       "      <td>0</td>\n",
       "      <td>0</td>\n",
       "      <td>0</td>\n",
       "      <td>0</td>\n",
       "      <td>0</td>\n",
       "      <td>0</td>\n",
       "      <td>0</td>\n",
       "      <td>...</td>\n",
       "      <td>0</td>\n",
       "      <td>0</td>\n",
       "      <td>0</td>\n",
       "      <td>0</td>\n",
       "      <td>0</td>\n",
       "      <td>0</td>\n",
       "      <td>0</td>\n",
       "      <td>0</td>\n",
       "      <td>0</td>\n",
       "      <td>0</td>\n",
       "    </tr>\n",
       "    <tr>\n",
       "      <th>10</th>\n",
       "      <td>0</td>\n",
       "      <td>0</td>\n",
       "      <td>0</td>\n",
       "      <td>0</td>\n",
       "      <td>0</td>\n",
       "      <td>0</td>\n",
       "      <td>0</td>\n",
       "      <td>0</td>\n",
       "      <td>0</td>\n",
       "      <td>0</td>\n",
       "      <td>...</td>\n",
       "      <td>0</td>\n",
       "      <td>0</td>\n",
       "      <td>0</td>\n",
       "      <td>0</td>\n",
       "      <td>0</td>\n",
       "      <td>0</td>\n",
       "      <td>0</td>\n",
       "      <td>0</td>\n",
       "      <td>0</td>\n",
       "      <td>0</td>\n",
       "    </tr>\n",
       "    <tr>\n",
       "      <th>11</th>\n",
       "      <td>0</td>\n",
       "      <td>0</td>\n",
       "      <td>0</td>\n",
       "      <td>0</td>\n",
       "      <td>0</td>\n",
       "      <td>0</td>\n",
       "      <td>0</td>\n",
       "      <td>0</td>\n",
       "      <td>0</td>\n",
       "      <td>0</td>\n",
       "      <td>...</td>\n",
       "      <td>0</td>\n",
       "      <td>0</td>\n",
       "      <td>0</td>\n",
       "      <td>0</td>\n",
       "      <td>0</td>\n",
       "      <td>0</td>\n",
       "      <td>0</td>\n",
       "      <td>0</td>\n",
       "      <td>0</td>\n",
       "      <td>0</td>\n",
       "    </tr>\n",
       "    <tr>\n",
       "      <th>12</th>\n",
       "      <td>0</td>\n",
       "      <td>0</td>\n",
       "      <td>0</td>\n",
       "      <td>0</td>\n",
       "      <td>0</td>\n",
       "      <td>0</td>\n",
       "      <td>0</td>\n",
       "      <td>0</td>\n",
       "      <td>0</td>\n",
       "      <td>0</td>\n",
       "      <td>...</td>\n",
       "      <td>0</td>\n",
       "      <td>0</td>\n",
       "      <td>0</td>\n",
       "      <td>0</td>\n",
       "      <td>0</td>\n",
       "      <td>0</td>\n",
       "      <td>0</td>\n",
       "      <td>0</td>\n",
       "      <td>0</td>\n",
       "      <td>0</td>\n",
       "    </tr>\n",
       "    <tr>\n",
       "      <th>13</th>\n",
       "      <td>0</td>\n",
       "      <td>1</td>\n",
       "      <td>0</td>\n",
       "      <td>0</td>\n",
       "      <td>0</td>\n",
       "      <td>0</td>\n",
       "      <td>0</td>\n",
       "      <td>0</td>\n",
       "      <td>0</td>\n",
       "      <td>0</td>\n",
       "      <td>...</td>\n",
       "      <td>0</td>\n",
       "      <td>0</td>\n",
       "      <td>0</td>\n",
       "      <td>0</td>\n",
       "      <td>0</td>\n",
       "      <td>0</td>\n",
       "      <td>0</td>\n",
       "      <td>0</td>\n",
       "      <td>0</td>\n",
       "      <td>0</td>\n",
       "    </tr>\n",
       "    <tr>\n",
       "      <th>14</th>\n",
       "      <td>0</td>\n",
       "      <td>0</td>\n",
       "      <td>0</td>\n",
       "      <td>0</td>\n",
       "      <td>0</td>\n",
       "      <td>0</td>\n",
       "      <td>0</td>\n",
       "      <td>0</td>\n",
       "      <td>0</td>\n",
       "      <td>0</td>\n",
       "      <td>...</td>\n",
       "      <td>0</td>\n",
       "      <td>0</td>\n",
       "      <td>0</td>\n",
       "      <td>0</td>\n",
       "      <td>0</td>\n",
       "      <td>0</td>\n",
       "      <td>0</td>\n",
       "      <td>0</td>\n",
       "      <td>0</td>\n",
       "      <td>1</td>\n",
       "    </tr>\n",
       "    <tr>\n",
       "      <th>15</th>\n",
       "      <td>0</td>\n",
       "      <td>0</td>\n",
       "      <td>0</td>\n",
       "      <td>0</td>\n",
       "      <td>0</td>\n",
       "      <td>0</td>\n",
       "      <td>0</td>\n",
       "      <td>0</td>\n",
       "      <td>0</td>\n",
       "      <td>0</td>\n",
       "      <td>...</td>\n",
       "      <td>1</td>\n",
       "      <td>0</td>\n",
       "      <td>0</td>\n",
       "      <td>0</td>\n",
       "      <td>0</td>\n",
       "      <td>0</td>\n",
       "      <td>0</td>\n",
       "      <td>0</td>\n",
       "      <td>0</td>\n",
       "      <td>0</td>\n",
       "    </tr>\n",
       "    <tr>\n",
       "      <th>16</th>\n",
       "      <td>0</td>\n",
       "      <td>0</td>\n",
       "      <td>0</td>\n",
       "      <td>0</td>\n",
       "      <td>0</td>\n",
       "      <td>0</td>\n",
       "      <td>0</td>\n",
       "      <td>0</td>\n",
       "      <td>0</td>\n",
       "      <td>0</td>\n",
       "      <td>...</td>\n",
       "      <td>1</td>\n",
       "      <td>1</td>\n",
       "      <td>0</td>\n",
       "      <td>0</td>\n",
       "      <td>0</td>\n",
       "      <td>0</td>\n",
       "      <td>0</td>\n",
       "      <td>0</td>\n",
       "      <td>0</td>\n",
       "      <td>0</td>\n",
       "    </tr>\n",
       "    <tr>\n",
       "      <th>17</th>\n",
       "      <td>0</td>\n",
       "      <td>0</td>\n",
       "      <td>0</td>\n",
       "      <td>0</td>\n",
       "      <td>0</td>\n",
       "      <td>0</td>\n",
       "      <td>0</td>\n",
       "      <td>0</td>\n",
       "      <td>0</td>\n",
       "      <td>0</td>\n",
       "      <td>...</td>\n",
       "      <td>0</td>\n",
       "      <td>1</td>\n",
       "      <td>1</td>\n",
       "      <td>0</td>\n",
       "      <td>0</td>\n",
       "      <td>1</td>\n",
       "      <td>0</td>\n",
       "      <td>0</td>\n",
       "      <td>0</td>\n",
       "      <td>0</td>\n",
       "    </tr>\n",
       "    <tr>\n",
       "      <th>18</th>\n",
       "      <td>0</td>\n",
       "      <td>0</td>\n",
       "      <td>0</td>\n",
       "      <td>0</td>\n",
       "      <td>0</td>\n",
       "      <td>0</td>\n",
       "      <td>0</td>\n",
       "      <td>0</td>\n",
       "      <td>0</td>\n",
       "      <td>0</td>\n",
       "      <td>...</td>\n",
       "      <td>0</td>\n",
       "      <td>0</td>\n",
       "      <td>0</td>\n",
       "      <td>1</td>\n",
       "      <td>0</td>\n",
       "      <td>0</td>\n",
       "      <td>0</td>\n",
       "      <td>0</td>\n",
       "      <td>0</td>\n",
       "      <td>0</td>\n",
       "    </tr>\n",
       "    <tr>\n",
       "      <th>19</th>\n",
       "      <td>0</td>\n",
       "      <td>0</td>\n",
       "      <td>0</td>\n",
       "      <td>0</td>\n",
       "      <td>0</td>\n",
       "      <td>0</td>\n",
       "      <td>1</td>\n",
       "      <td>0</td>\n",
       "      <td>0</td>\n",
       "      <td>0</td>\n",
       "      <td>...</td>\n",
       "      <td>0</td>\n",
       "      <td>0</td>\n",
       "      <td>0</td>\n",
       "      <td>0</td>\n",
       "      <td>0</td>\n",
       "      <td>0</td>\n",
       "      <td>0</td>\n",
       "      <td>0</td>\n",
       "      <td>0</td>\n",
       "      <td>0</td>\n",
       "    </tr>\n",
       "    <tr>\n",
       "      <th>20</th>\n",
       "      <td>0</td>\n",
       "      <td>0</td>\n",
       "      <td>0</td>\n",
       "      <td>0</td>\n",
       "      <td>0</td>\n",
       "      <td>0</td>\n",
       "      <td>0</td>\n",
       "      <td>0</td>\n",
       "      <td>0</td>\n",
       "      <td>0</td>\n",
       "      <td>...</td>\n",
       "      <td>0</td>\n",
       "      <td>1</td>\n",
       "      <td>0</td>\n",
       "      <td>0</td>\n",
       "      <td>1</td>\n",
       "      <td>0</td>\n",
       "      <td>0</td>\n",
       "      <td>0</td>\n",
       "      <td>0</td>\n",
       "      <td>0</td>\n",
       "    </tr>\n",
       "    <tr>\n",
       "      <th>21</th>\n",
       "      <td>0</td>\n",
       "      <td>0</td>\n",
       "      <td>0</td>\n",
       "      <td>0</td>\n",
       "      <td>0</td>\n",
       "      <td>0</td>\n",
       "      <td>0</td>\n",
       "      <td>0</td>\n",
       "      <td>0</td>\n",
       "      <td>0</td>\n",
       "      <td>...</td>\n",
       "      <td>0</td>\n",
       "      <td>0</td>\n",
       "      <td>0</td>\n",
       "      <td>0</td>\n",
       "      <td>0</td>\n",
       "      <td>1</td>\n",
       "      <td>1</td>\n",
       "      <td>0</td>\n",
       "      <td>0</td>\n",
       "      <td>0</td>\n",
       "    </tr>\n",
       "    <tr>\n",
       "      <th>22</th>\n",
       "      <td>0</td>\n",
       "      <td>0</td>\n",
       "      <td>0</td>\n",
       "      <td>0</td>\n",
       "      <td>0</td>\n",
       "      <td>0</td>\n",
       "      <td>0</td>\n",
       "      <td>0</td>\n",
       "      <td>0</td>\n",
       "      <td>0</td>\n",
       "      <td>...</td>\n",
       "      <td>0</td>\n",
       "      <td>0</td>\n",
       "      <td>0</td>\n",
       "      <td>0</td>\n",
       "      <td>0</td>\n",
       "      <td>0</td>\n",
       "      <td>0</td>\n",
       "      <td>1</td>\n",
       "      <td>0</td>\n",
       "      <td>0</td>\n",
       "    </tr>\n",
       "    <tr>\n",
       "      <th>23</th>\n",
       "      <td>0</td>\n",
       "      <td>1</td>\n",
       "      <td>0</td>\n",
       "      <td>0</td>\n",
       "      <td>0</td>\n",
       "      <td>0</td>\n",
       "      <td>0</td>\n",
       "      <td>0</td>\n",
       "      <td>0</td>\n",
       "      <td>0</td>\n",
       "      <td>...</td>\n",
       "      <td>0</td>\n",
       "      <td>0</td>\n",
       "      <td>0</td>\n",
       "      <td>0</td>\n",
       "      <td>0</td>\n",
       "      <td>0</td>\n",
       "      <td>0</td>\n",
       "      <td>0</td>\n",
       "      <td>0</td>\n",
       "      <td>0</td>\n",
       "    </tr>\n",
       "    <tr>\n",
       "      <th>24</th>\n",
       "      <td>0</td>\n",
       "      <td>0</td>\n",
       "      <td>0</td>\n",
       "      <td>0</td>\n",
       "      <td>0</td>\n",
       "      <td>0</td>\n",
       "      <td>0</td>\n",
       "      <td>0</td>\n",
       "      <td>0</td>\n",
       "      <td>0</td>\n",
       "      <td>...</td>\n",
       "      <td>0</td>\n",
       "      <td>0</td>\n",
       "      <td>0</td>\n",
       "      <td>0</td>\n",
       "      <td>0</td>\n",
       "      <td>0</td>\n",
       "      <td>0</td>\n",
       "      <td>0</td>\n",
       "      <td>0</td>\n",
       "      <td>0</td>\n",
       "    </tr>\n",
       "    <tr>\n",
       "      <th>25</th>\n",
       "      <td>0</td>\n",
       "      <td>0</td>\n",
       "      <td>0</td>\n",
       "      <td>0</td>\n",
       "      <td>0</td>\n",
       "      <td>0</td>\n",
       "      <td>0</td>\n",
       "      <td>0</td>\n",
       "      <td>0</td>\n",
       "      <td>0</td>\n",
       "      <td>...</td>\n",
       "      <td>0</td>\n",
       "      <td>0</td>\n",
       "      <td>0</td>\n",
       "      <td>0</td>\n",
       "      <td>0</td>\n",
       "      <td>0</td>\n",
       "      <td>0</td>\n",
       "      <td>0</td>\n",
       "      <td>0</td>\n",
       "      <td>1</td>\n",
       "    </tr>\n",
       "  </tbody>\n",
       "</table>\n",
       "<p>26 rows × 26 columns</p>\n",
       "</div>"
      ],
      "text/plain": [
       "group_destination  0   1   2   3   4   5   6   7   8   9   ...  16  17  18  \\\n",
       "group_origin                                               ...               \n",
       "0                  28   1   0   0   0   0   0   0   0   0  ...   0   0   0   \n",
       "1                   1   4   1   0   1   0   0   0   0   0  ...   0   0   0   \n",
       "2                   0   0   2   1   0   0   0   0   0   0  ...   0   0   0   \n",
       "3                   0   1   0   1   0   0   0   0   0   0  ...   0   0   0   \n",
       "4                   0   0   0   0   1   1   0   0   0   0  ...   0   0   0   \n",
       "5                   0   0   0   0   0   2   1   0   1   1  ...   0   0   0   \n",
       "6                   0   0   0   0   0   0   2   1   0   0  ...   0   0   0   \n",
       "7                   0   0   0   0   0   1   0   0   0   0  ...   0   0   0   \n",
       "8                   0   0   0   0   0   1   0   0   0   0  ...   0   0   0   \n",
       "9                   0   1   0   0   0   0   0   0   0   0  ...   0   0   0   \n",
       "10                  0   0   0   0   0   0   0   0   0   0  ...   0   0   0   \n",
       "11                  0   0   0   0   0   0   0   0   0   0  ...   0   0   0   \n",
       "12                  0   0   0   0   0   0   0   0   0   0  ...   0   0   0   \n",
       "13                  0   1   0   0   0   0   0   0   0   0  ...   0   0   0   \n",
       "14                  0   0   0   0   0   0   0   0   0   0  ...   0   0   0   \n",
       "15                  0   0   0   0   0   0   0   0   0   0  ...   1   0   0   \n",
       "16                  0   0   0   0   0   0   0   0   0   0  ...   1   1   0   \n",
       "17                  0   0   0   0   0   0   0   0   0   0  ...   0   1   1   \n",
       "18                  0   0   0   0   0   0   0   0   0   0  ...   0   0   0   \n",
       "19                  0   0   0   0   0   0   1   0   0   0  ...   0   0   0   \n",
       "20                  0   0   0   0   0   0   0   0   0   0  ...   0   1   0   \n",
       "21                  0   0   0   0   0   0   0   0   0   0  ...   0   0   0   \n",
       "22                  0   0   0   0   0   0   0   0   0   0  ...   0   0   0   \n",
       "23                  0   1   0   0   0   0   0   0   0   0  ...   0   0   0   \n",
       "24                  0   0   0   0   0   0   0   0   0   0  ...   0   0   0   \n",
       "25                  0   0   0   0   0   0   0   0   0   0  ...   0   0   0   \n",
       "\n",
       "group_destination  19  20  21  22  23  24  25  \n",
       "group_origin                                   \n",
       "0                   0   0   0   0   0   0   0  \n",
       "1                   0   0   0   0   0   1   0  \n",
       "2                   0   0   0   0   0   0   0  \n",
       "3                   0   0   0   0   0   0   0  \n",
       "4                   0   0   0   0   0   0   0  \n",
       "5                   0   0   0   0   0   0   0  \n",
       "6                   0   1   0   0   0   0   0  \n",
       "7                   0   0   0   0   0   0   0  \n",
       "8                   0   0   0   0   0   0   0  \n",
       "9                   0   0   0   0   0   0   0  \n",
       "10                  0   0   0   0   0   0   0  \n",
       "11                  0   0   0   0   0   0   0  \n",
       "12                  0   0   0   0   0   0   0  \n",
       "13                  0   0   0   0   0   0   0  \n",
       "14                  0   0   0   0   0   0   1  \n",
       "15                  0   0   0   0   0   0   0  \n",
       "16                  0   0   0   0   0   0   0  \n",
       "17                  0   0   1   0   0   0   0  \n",
       "18                  1   0   0   0   0   0   0  \n",
       "19                  0   0   0   0   0   0   0  \n",
       "20                  0   1   0   0   0   0   0  \n",
       "21                  0   0   1   1   0   0   0  \n",
       "22                  0   0   0   0   1   0   0  \n",
       "23                  0   0   0   0   0   0   0  \n",
       "24                  0   0   0   0   0   0   0  \n",
       "25                  0   0   0   0   0   0   1  \n",
       "\n",
       "[26 rows x 26 columns]"
      ]
     },
     "execution_count": 131,
     "metadata": {},
     "output_type": "execute_result"
    }
   ],
   "source": [
    "t = u.groupby(['group_origin', 'group_destination']).size()\n",
    "for g in list(set(t.index.get_level_values(1)) - set(t.index.get_level_values(0))):\n",
    "    t.loc[(g,g)] = 1\n",
    "t.unstack(fill_value=0)"
   ]
  },
  {
   "cell_type": "code",
   "execution_count": 25,
   "metadata": {},
   "outputs": [],
   "source": [
    "region_by_group_probs = tweets_x.loc[5616].groupby(['group', 'region']).size().sort_values(ascending=False)"
   ]
  },
  {
   "cell_type": "code",
   "execution_count": 47,
   "metadata": {},
   "outputs": [],
   "source": [
    "probs = np.power(np.arange(1, region_by_group_probs.shape[0] + 1), -1.2)\n",
    "probs = pd.Series(probs / np.sum(probs), index=region_by_group_probs.index).unstack().fillna(0)\n",
    "probs = probs.div(\n",
    "            probs.sum(axis=1),  # summation of each row\n",
    "            axis=0,\n",
    "        )"
   ]
  },
  {
   "cell_type": "code",
   "execution_count": 51,
   "metadata": {},
   "outputs": [
    {
     "data": {
      "text/plain": [
       "region\n",
       "0      0.000000\n",
       "1      0.004514\n",
       "2      0.030078\n",
       "4      0.001423\n",
       "5      0.135250\n",
       "         ...   \n",
       "610    0.000000\n",
       "611    0.000146\n",
       "612    0.000146\n",
       "613    0.000146\n",
       "614    0.000000\n",
       "Name: 1, Length: 614, dtype: float64"
      ]
     },
     "execution_count": 51,
     "metadata": {},
     "output_type": "execute_result"
    }
   ],
   "source": [
    "probs.loc[1]"
   ]
  },
  {
   "cell_type": "code",
   "execution_count": 15,
   "metadata": {},
   "outputs": [],
   "source": [
    "group_flow_by_user = visits.groupby(['userid', 'group_origin', 'group_destination']).size()"
   ]
  },
  {
   "cell_type": "code",
   "execution_count": 32,
   "metadata": {},
   "outputs": [
    {
     "data": {
      "text/html": [
       "<div>\n",
       "<style scoped>\n",
       "    .dataframe tbody tr th:only-of-type {\n",
       "        vertical-align: middle;\n",
       "    }\n",
       "\n",
       "    .dataframe tbody tr th {\n",
       "        vertical-align: top;\n",
       "    }\n",
       "\n",
       "    .dataframe thead th {\n",
       "        text-align: right;\n",
       "    }\n",
       "</style>\n",
       "<table border=\"1\" class=\"dataframe\">\n",
       "  <thead>\n",
       "    <tr style=\"text-align: right;\">\n",
       "      <th></th>\n",
       "      <th></th>\n",
       "      <th>0</th>\n",
       "    </tr>\n",
       "    <tr>\n",
       "      <th>group_origin</th>\n",
       "      <th>group_destination</th>\n",
       "      <th></th>\n",
       "    </tr>\n",
       "  </thead>\n",
       "  <tbody>\n",
       "    <tr>\n",
       "      <th rowspan=\"5\" valign=\"top\">0</th>\n",
       "      <th>0</th>\n",
       "      <td>245</td>\n",
       "    </tr>\n",
       "    <tr>\n",
       "      <th>1</th>\n",
       "      <td>13</td>\n",
       "    </tr>\n",
       "    <tr>\n",
       "      <th>3</th>\n",
       "      <td>1</td>\n",
       "    </tr>\n",
       "    <tr>\n",
       "      <th>31</th>\n",
       "      <td>1</td>\n",
       "    </tr>\n",
       "    <tr>\n",
       "      <th>42</th>\n",
       "      <td>1</td>\n",
       "    </tr>\n",
       "    <tr>\n",
       "      <th>...</th>\n",
       "      <th>...</th>\n",
       "      <td>...</td>\n",
       "    </tr>\n",
       "    <tr>\n",
       "      <th>39</th>\n",
       "      <th>40</th>\n",
       "      <td>1</td>\n",
       "    </tr>\n",
       "    <tr>\n",
       "      <th>40</th>\n",
       "      <th>38</th>\n",
       "      <td>1</td>\n",
       "    </tr>\n",
       "    <tr>\n",
       "      <th rowspan=\"2\" valign=\"top\">41</th>\n",
       "      <th>1</th>\n",
       "      <td>1</td>\n",
       "    </tr>\n",
       "    <tr>\n",
       "      <th>41</th>\n",
       "      <td>4</td>\n",
       "    </tr>\n",
       "    <tr>\n",
       "      <th>42</th>\n",
       "      <th>1</th>\n",
       "      <td>1</td>\n",
       "    </tr>\n",
       "  </tbody>\n",
       "</table>\n",
       "<p>127 rows × 1 columns</p>\n",
       "</div>"
      ],
      "text/plain": [
       "                                  0\n",
       "group_origin group_destination     \n",
       "0            0                  245\n",
       "             1                   13\n",
       "             3                    1\n",
       "             31                   1\n",
       "             42                   1\n",
       "...                             ...\n",
       "39           40                   1\n",
       "40           38                   1\n",
       "41           1                    1\n",
       "             41                   4\n",
       "42           1                    1\n",
       "\n",
       "[127 rows x 1 columns]"
      ]
     },
     "execution_count": 32,
     "metadata": {},
     "output_type": "execute_result"
    }
   ],
   "source": [
    "test = group_flow_by_user.loc[5616].to_frame()\n",
    "test"
   ]
  },
  {
   "cell_type": "code",
   "execution_count": 33,
   "metadata": {
    "scrolled": false
   },
   "outputs": [
    {
     "data": {
      "application/vnd.plotly.v1+json": {
       "config": {
        "plotlyServerURL": "https://plot.ly"
       },
       "data": [
        {
         "link": {
          "source": [
           0,
           0,
           0,
           0,
           0,
           1,
           1,
           1,
           1,
           1,
           1,
           1,
           1,
           1,
           1,
           1,
           1,
           1,
           1,
           1,
           1,
           1,
           1,
           1,
           1,
           1,
           1,
           1,
           1,
           1,
           1,
           2,
           3,
           3,
           3,
           4,
           4,
           4,
           4,
           4,
           5,
           5,
           5,
           6,
           6,
           6,
           6,
           6,
           6,
           6,
           7,
           7,
           8,
           8,
           8,
           8,
           8,
           9,
           9,
           9,
           9,
           10,
           10,
           11,
           11,
           12,
           12,
           13,
           13,
           14,
           15,
           15,
           15,
           16,
           16,
           17,
           17,
           17,
           18,
           18,
           19,
           19,
           19,
           20,
           21,
           22,
           22,
           23,
           23,
           24,
           24,
           25,
           25,
           26,
           27,
           27,
           27,
           28,
           28,
           28,
           29,
           29,
           30,
           30,
           30,
           31,
           31,
           31,
           32,
           32,
           33,
           33,
           34,
           35,
           35,
           36,
           37,
           37,
           38,
           38,
           38,
           39,
           39,
           40,
           41,
           41,
           42
          ],
          "target": [
           0,
           1,
           3,
           31,
           42,
           0,
           1,
           2,
           3,
           4,
           5,
           6,
           10,
           11,
           12,
           14,
           15,
           17,
           19,
           22,
           23,
           24,
           25,
           27,
           29,
           30,
           35,
           36,
           37,
           38,
           41,
           1,
           1,
           3,
           27,
           1,
           4,
           5,
           8,
           28,
           4,
           5,
           6,
           4,
           5,
           6,
           7,
           13,
           20,
           28,
           7,
           8,
           1,
           4,
           8,
           9,
           28,
           0,
           1,
           8,
           9,
           1,
           10,
           1,
           11,
           1,
           12,
           7,
           9,
           15,
           12,
           15,
           16,
           1,
           16,
           1,
           17,
           18,
           18,
           19,
           0,
           1,
           19,
           21,
           1,
           1,
           22,
           23,
           24,
           1,
           24,
           25,
           26,
           1,
           8,
           9,
           27,
           1,
           5,
           13,
           1,
           29,
           0,
           1,
           30,
           1,
           31,
           32,
           32,
           33,
           33,
           34,
           31,
           1,
           35,
           3,
           1,
           37,
           19,
           38,
           39,
           39,
           40,
           38,
           1,
           41,
           1
          ],
          "value": [
           [
            245
           ],
           [
            13
           ],
           [
            1
           ],
           [
            1
           ],
           [
            1
           ],
           [
            12
           ],
           [
            1313
           ],
           [
            1
           ],
           [
            1
           ],
           [
            1
           ],
           [
            2
           ],
           [
            2
           ],
           [
            1
           ],
           [
            1
           ],
           [
            1
           ],
           [
            1
           ],
           [
            1
           ],
           [
            3
           ],
           [
            6
           ],
           [
            3
           ],
           [
            1
           ],
           [
            1
           ],
           [
            1
           ],
           [
            1
           ],
           [
            1
           ],
           [
            2
           ],
           [
            1
           ],
           [
            1
           ],
           [
            1
           ],
           [
            1
           ],
           [
            1
           ],
           [
            1
           ],
           [
            2
           ],
           [
            10
           ],
           [
            1
           ],
           [
            1
           ],
           [
            6
           ],
           [
            2
           ],
           [
            1
           ],
           [
            1
           ],
           [
            2
           ],
           [
            22
           ],
           [
            7
           ],
           [
            1
           ],
           [
            4
           ],
           [
            34
           ],
           [
            1
           ],
           [
            1
           ],
           [
            1
           ],
           [
            1
           ],
           [
            10
           ],
           [
            2
           ],
           [
            1
           ],
           [
            1
           ],
           [
            6
           ],
           [
            2
           ],
           [
            1
           ],
           [
            1
           ],
           [
            2
           ],
           [
            1
           ],
           [
            5
           ],
           [
            1
           ],
           [
            11
           ],
           [
            1
           ],
           [
            6
           ],
           [
            2
           ],
           [
            17
           ],
           [
            1
           ],
           [
            1
           ],
           [
            1
           ],
           [
            1
           ],
           [
            6
           ],
           [
            1
           ],
           [
            1
           ],
           [
            9
           ],
           [
            2
           ],
           [
            30
           ],
           [
            1
           ],
           [
            1
           ],
           [
            1
           ],
           [
            1
           ],
           [
            6
           ],
           [
            106
           ],
           [
            1
           ],
           [
            1
           ],
           [
            3
           ],
           [
            7
           ],
           [
            2
           ],
           [
            1
           ],
           [
            2
           ],
           [
            11
           ],
           [
            3
           ],
           [
            1
           ],
           [
            1
           ],
           [
            1
           ],
           [
            1
           ],
           [
            1
           ],
           [
            1
           ],
           [
            1
           ],
           [
            1
           ],
           [
            1
           ],
           [
            21
           ],
           [
            1
           ],
           [
            1
           ],
           [
            30
           ],
           [
            1
           ],
           [
            3
           ],
           [
            1
           ],
           [
            1
           ],
           [
            1
           ],
           [
            14
           ],
           [
            1
           ],
           [
            1
           ],
           [
            1
           ],
           [
            3
           ],
           [
            1
           ],
           [
            1
           ],
           [
            28
           ],
           [
            1
           ],
           [
            1
           ],
           [
            1
           ],
           [
            8
           ],
           [
            1
           ],
           [
            1
           ],
           [
            1
           ],
           [
            4
           ],
           [
            1
           ]
          ]
         },
         "node": {
          "color": "blue",
          "label": [
           0,
           1,
           2,
           3,
           4,
           5,
           6,
           7,
           8,
           9,
           10,
           11,
           12,
           13,
           14,
           15,
           16,
           17,
           18,
           19,
           20,
           21,
           22,
           23,
           24,
           25,
           26,
           27,
           28,
           29,
           30,
           31,
           32,
           33,
           34,
           35,
           36,
           37,
           38,
           39,
           40,
           41
          ],
          "line": {
           "color": "black",
           "width": 0.5
          },
          "pad": 15,
          "thickness": 20
         },
         "type": "sankey"
        }
       ],
       "layout": {
        "font": {
         "size": 10
        },
        "template": {
         "data": {
          "bar": [
           {
            "error_x": {
             "color": "#2a3f5f"
            },
            "error_y": {
             "color": "#2a3f5f"
            },
            "marker": {
             "line": {
              "color": "#E5ECF6",
              "width": 0.5
             }
            },
            "type": "bar"
           }
          ],
          "barpolar": [
           {
            "marker": {
             "line": {
              "color": "#E5ECF6",
              "width": 0.5
             }
            },
            "type": "barpolar"
           }
          ],
          "carpet": [
           {
            "aaxis": {
             "endlinecolor": "#2a3f5f",
             "gridcolor": "white",
             "linecolor": "white",
             "minorgridcolor": "white",
             "startlinecolor": "#2a3f5f"
            },
            "baxis": {
             "endlinecolor": "#2a3f5f",
             "gridcolor": "white",
             "linecolor": "white",
             "minorgridcolor": "white",
             "startlinecolor": "#2a3f5f"
            },
            "type": "carpet"
           }
          ],
          "choropleth": [
           {
            "colorbar": {
             "outlinewidth": 0,
             "ticks": ""
            },
            "type": "choropleth"
           }
          ],
          "contour": [
           {
            "colorbar": {
             "outlinewidth": 0,
             "ticks": ""
            },
            "colorscale": [
             [
              0,
              "#0d0887"
             ],
             [
              0.1111111111111111,
              "#46039f"
             ],
             [
              0.2222222222222222,
              "#7201a8"
             ],
             [
              0.3333333333333333,
              "#9c179e"
             ],
             [
              0.4444444444444444,
              "#bd3786"
             ],
             [
              0.5555555555555556,
              "#d8576b"
             ],
             [
              0.6666666666666666,
              "#ed7953"
             ],
             [
              0.7777777777777778,
              "#fb9f3a"
             ],
             [
              0.8888888888888888,
              "#fdca26"
             ],
             [
              1,
              "#f0f921"
             ]
            ],
            "type": "contour"
           }
          ],
          "contourcarpet": [
           {
            "colorbar": {
             "outlinewidth": 0,
             "ticks": ""
            },
            "type": "contourcarpet"
           }
          ],
          "heatmap": [
           {
            "colorbar": {
             "outlinewidth": 0,
             "ticks": ""
            },
            "colorscale": [
             [
              0,
              "#0d0887"
             ],
             [
              0.1111111111111111,
              "#46039f"
             ],
             [
              0.2222222222222222,
              "#7201a8"
             ],
             [
              0.3333333333333333,
              "#9c179e"
             ],
             [
              0.4444444444444444,
              "#bd3786"
             ],
             [
              0.5555555555555556,
              "#d8576b"
             ],
             [
              0.6666666666666666,
              "#ed7953"
             ],
             [
              0.7777777777777778,
              "#fb9f3a"
             ],
             [
              0.8888888888888888,
              "#fdca26"
             ],
             [
              1,
              "#f0f921"
             ]
            ],
            "type": "heatmap"
           }
          ],
          "heatmapgl": [
           {
            "colorbar": {
             "outlinewidth": 0,
             "ticks": ""
            },
            "colorscale": [
             [
              0,
              "#0d0887"
             ],
             [
              0.1111111111111111,
              "#46039f"
             ],
             [
              0.2222222222222222,
              "#7201a8"
             ],
             [
              0.3333333333333333,
              "#9c179e"
             ],
             [
              0.4444444444444444,
              "#bd3786"
             ],
             [
              0.5555555555555556,
              "#d8576b"
             ],
             [
              0.6666666666666666,
              "#ed7953"
             ],
             [
              0.7777777777777778,
              "#fb9f3a"
             ],
             [
              0.8888888888888888,
              "#fdca26"
             ],
             [
              1,
              "#f0f921"
             ]
            ],
            "type": "heatmapgl"
           }
          ],
          "histogram": [
           {
            "marker": {
             "colorbar": {
              "outlinewidth": 0,
              "ticks": ""
             }
            },
            "type": "histogram"
           }
          ],
          "histogram2d": [
           {
            "colorbar": {
             "outlinewidth": 0,
             "ticks": ""
            },
            "colorscale": [
             [
              0,
              "#0d0887"
             ],
             [
              0.1111111111111111,
              "#46039f"
             ],
             [
              0.2222222222222222,
              "#7201a8"
             ],
             [
              0.3333333333333333,
              "#9c179e"
             ],
             [
              0.4444444444444444,
              "#bd3786"
             ],
             [
              0.5555555555555556,
              "#d8576b"
             ],
             [
              0.6666666666666666,
              "#ed7953"
             ],
             [
              0.7777777777777778,
              "#fb9f3a"
             ],
             [
              0.8888888888888888,
              "#fdca26"
             ],
             [
              1,
              "#f0f921"
             ]
            ],
            "type": "histogram2d"
           }
          ],
          "histogram2dcontour": [
           {
            "colorbar": {
             "outlinewidth": 0,
             "ticks": ""
            },
            "colorscale": [
             [
              0,
              "#0d0887"
             ],
             [
              0.1111111111111111,
              "#46039f"
             ],
             [
              0.2222222222222222,
              "#7201a8"
             ],
             [
              0.3333333333333333,
              "#9c179e"
             ],
             [
              0.4444444444444444,
              "#bd3786"
             ],
             [
              0.5555555555555556,
              "#d8576b"
             ],
             [
              0.6666666666666666,
              "#ed7953"
             ],
             [
              0.7777777777777778,
              "#fb9f3a"
             ],
             [
              0.8888888888888888,
              "#fdca26"
             ],
             [
              1,
              "#f0f921"
             ]
            ],
            "type": "histogram2dcontour"
           }
          ],
          "mesh3d": [
           {
            "colorbar": {
             "outlinewidth": 0,
             "ticks": ""
            },
            "type": "mesh3d"
           }
          ],
          "parcoords": [
           {
            "line": {
             "colorbar": {
              "outlinewidth": 0,
              "ticks": ""
             }
            },
            "type": "parcoords"
           }
          ],
          "pie": [
           {
            "automargin": true,
            "type": "pie"
           }
          ],
          "scatter": [
           {
            "marker": {
             "colorbar": {
              "outlinewidth": 0,
              "ticks": ""
             }
            },
            "type": "scatter"
           }
          ],
          "scatter3d": [
           {
            "line": {
             "colorbar": {
              "outlinewidth": 0,
              "ticks": ""
             }
            },
            "marker": {
             "colorbar": {
              "outlinewidth": 0,
              "ticks": ""
             }
            },
            "type": "scatter3d"
           }
          ],
          "scattercarpet": [
           {
            "marker": {
             "colorbar": {
              "outlinewidth": 0,
              "ticks": ""
             }
            },
            "type": "scattercarpet"
           }
          ],
          "scattergeo": [
           {
            "marker": {
             "colorbar": {
              "outlinewidth": 0,
              "ticks": ""
             }
            },
            "type": "scattergeo"
           }
          ],
          "scattergl": [
           {
            "marker": {
             "colorbar": {
              "outlinewidth": 0,
              "ticks": ""
             }
            },
            "type": "scattergl"
           }
          ],
          "scattermapbox": [
           {
            "marker": {
             "colorbar": {
              "outlinewidth": 0,
              "ticks": ""
             }
            },
            "type": "scattermapbox"
           }
          ],
          "scatterpolar": [
           {
            "marker": {
             "colorbar": {
              "outlinewidth": 0,
              "ticks": ""
             }
            },
            "type": "scatterpolar"
           }
          ],
          "scatterpolargl": [
           {
            "marker": {
             "colorbar": {
              "outlinewidth": 0,
              "ticks": ""
             }
            },
            "type": "scatterpolargl"
           }
          ],
          "scatterternary": [
           {
            "marker": {
             "colorbar": {
              "outlinewidth": 0,
              "ticks": ""
             }
            },
            "type": "scatterternary"
           }
          ],
          "surface": [
           {
            "colorbar": {
             "outlinewidth": 0,
             "ticks": ""
            },
            "colorscale": [
             [
              0,
              "#0d0887"
             ],
             [
              0.1111111111111111,
              "#46039f"
             ],
             [
              0.2222222222222222,
              "#7201a8"
             ],
             [
              0.3333333333333333,
              "#9c179e"
             ],
             [
              0.4444444444444444,
              "#bd3786"
             ],
             [
              0.5555555555555556,
              "#d8576b"
             ],
             [
              0.6666666666666666,
              "#ed7953"
             ],
             [
              0.7777777777777778,
              "#fb9f3a"
             ],
             [
              0.8888888888888888,
              "#fdca26"
             ],
             [
              1,
              "#f0f921"
             ]
            ],
            "type": "surface"
           }
          ],
          "table": [
           {
            "cells": {
             "fill": {
              "color": "#EBF0F8"
             },
             "line": {
              "color": "white"
             }
            },
            "header": {
             "fill": {
              "color": "#C8D4E3"
             },
             "line": {
              "color": "white"
             }
            },
            "type": "table"
           }
          ]
         },
         "layout": {
          "annotationdefaults": {
           "arrowcolor": "#2a3f5f",
           "arrowhead": 0,
           "arrowwidth": 1
          },
          "coloraxis": {
           "colorbar": {
            "outlinewidth": 0,
            "ticks": ""
           }
          },
          "colorscale": {
           "diverging": [
            [
             0,
             "#8e0152"
            ],
            [
             0.1,
             "#c51b7d"
            ],
            [
             0.2,
             "#de77ae"
            ],
            [
             0.3,
             "#f1b6da"
            ],
            [
             0.4,
             "#fde0ef"
            ],
            [
             0.5,
             "#f7f7f7"
            ],
            [
             0.6,
             "#e6f5d0"
            ],
            [
             0.7,
             "#b8e186"
            ],
            [
             0.8,
             "#7fbc41"
            ],
            [
             0.9,
             "#4d9221"
            ],
            [
             1,
             "#276419"
            ]
           ],
           "sequential": [
            [
             0,
             "#0d0887"
            ],
            [
             0.1111111111111111,
             "#46039f"
            ],
            [
             0.2222222222222222,
             "#7201a8"
            ],
            [
             0.3333333333333333,
             "#9c179e"
            ],
            [
             0.4444444444444444,
             "#bd3786"
            ],
            [
             0.5555555555555556,
             "#d8576b"
            ],
            [
             0.6666666666666666,
             "#ed7953"
            ],
            [
             0.7777777777777778,
             "#fb9f3a"
            ],
            [
             0.8888888888888888,
             "#fdca26"
            ],
            [
             1,
             "#f0f921"
            ]
           ],
           "sequentialminus": [
            [
             0,
             "#0d0887"
            ],
            [
             0.1111111111111111,
             "#46039f"
            ],
            [
             0.2222222222222222,
             "#7201a8"
            ],
            [
             0.3333333333333333,
             "#9c179e"
            ],
            [
             0.4444444444444444,
             "#bd3786"
            ],
            [
             0.5555555555555556,
             "#d8576b"
            ],
            [
             0.6666666666666666,
             "#ed7953"
            ],
            [
             0.7777777777777778,
             "#fb9f3a"
            ],
            [
             0.8888888888888888,
             "#fdca26"
            ],
            [
             1,
             "#f0f921"
            ]
           ]
          },
          "colorway": [
           "#636efa",
           "#EF553B",
           "#00cc96",
           "#ab63fa",
           "#FFA15A",
           "#19d3f3",
           "#FF6692",
           "#B6E880",
           "#FF97FF",
           "#FECB52"
          ],
          "font": {
           "color": "#2a3f5f"
          },
          "geo": {
           "bgcolor": "white",
           "lakecolor": "white",
           "landcolor": "#E5ECF6",
           "showlakes": true,
           "showland": true,
           "subunitcolor": "white"
          },
          "hoverlabel": {
           "align": "left"
          },
          "hovermode": "closest",
          "mapbox": {
           "style": "light"
          },
          "paper_bgcolor": "white",
          "plot_bgcolor": "#E5ECF6",
          "polar": {
           "angularaxis": {
            "gridcolor": "white",
            "linecolor": "white",
            "ticks": ""
           },
           "bgcolor": "#E5ECF6",
           "radialaxis": {
            "gridcolor": "white",
            "linecolor": "white",
            "ticks": ""
           }
          },
          "scene": {
           "xaxis": {
            "backgroundcolor": "#E5ECF6",
            "gridcolor": "white",
            "gridwidth": 2,
            "linecolor": "white",
            "showbackground": true,
            "ticks": "",
            "zerolinecolor": "white"
           },
           "yaxis": {
            "backgroundcolor": "#E5ECF6",
            "gridcolor": "white",
            "gridwidth": 2,
            "linecolor": "white",
            "showbackground": true,
            "ticks": "",
            "zerolinecolor": "white"
           },
           "zaxis": {
            "backgroundcolor": "#E5ECF6",
            "gridcolor": "white",
            "gridwidth": 2,
            "linecolor": "white",
            "showbackground": true,
            "ticks": "",
            "zerolinecolor": "white"
           }
          },
          "shapedefaults": {
           "line": {
            "color": "#2a3f5f"
           }
          },
          "ternary": {
           "aaxis": {
            "gridcolor": "white",
            "linecolor": "white",
            "ticks": ""
           },
           "baxis": {
            "gridcolor": "white",
            "linecolor": "white",
            "ticks": ""
           },
           "bgcolor": "#E5ECF6",
           "caxis": {
            "gridcolor": "white",
            "linecolor": "white",
            "ticks": ""
           }
          },
          "title": {
           "x": 0.05
          },
          "xaxis": {
           "automargin": true,
           "gridcolor": "white",
           "linecolor": "white",
           "ticks": "",
           "title": {
            "standoff": 15
           },
           "zerolinecolor": "white",
           "zerolinewidth": 2
          },
          "yaxis": {
           "automargin": true,
           "gridcolor": "white",
           "linecolor": "white",
           "ticks": "",
           "title": {
            "standoff": 15
           },
           "zerolinecolor": "white",
           "zerolinewidth": 2
          }
         }
        },
        "title": {
         "text": "Basic Sankey Diagram"
        }
       }
      },
      "text/html": [
       "<div>\n",
       "        \n",
       "        \n",
       "            <div id=\"c74bb1c1-ac72-47af-ac16-524cbe79368a\" class=\"plotly-graph-div\" style=\"height:525px; width:100%;\"></div>\n",
       "            <script type=\"text/javascript\">\n",
       "                require([\"plotly\"], function(Plotly) {\n",
       "                    window.PLOTLYENV=window.PLOTLYENV || {};\n",
       "                    \n",
       "                if (document.getElementById(\"c74bb1c1-ac72-47af-ac16-524cbe79368a\")) {\n",
       "                    Plotly.newPlot(\n",
       "                        'c74bb1c1-ac72-47af-ac16-524cbe79368a',\n",
       "                        [{\"link\": {\"source\": [0, 0, 0, 0, 0, 1, 1, 1, 1, 1, 1, 1, 1, 1, 1, 1, 1, 1, 1, 1, 1, 1, 1, 1, 1, 1, 1, 1, 1, 1, 1, 2, 3, 3, 3, 4, 4, 4, 4, 4, 5, 5, 5, 6, 6, 6, 6, 6, 6, 6, 7, 7, 8, 8, 8, 8, 8, 9, 9, 9, 9, 10, 10, 11, 11, 12, 12, 13, 13, 14, 15, 15, 15, 16, 16, 17, 17, 17, 18, 18, 19, 19, 19, 20, 21, 22, 22, 23, 23, 24, 24, 25, 25, 26, 27, 27, 27, 28, 28, 28, 29, 29, 30, 30, 30, 31, 31, 31, 32, 32, 33, 33, 34, 35, 35, 36, 37, 37, 38, 38, 38, 39, 39, 40, 41, 41, 42], \"target\": [0, 1, 3, 31, 42, 0, 1, 2, 3, 4, 5, 6, 10, 11, 12, 14, 15, 17, 19, 22, 23, 24, 25, 27, 29, 30, 35, 36, 37, 38, 41, 1, 1, 3, 27, 1, 4, 5, 8, 28, 4, 5, 6, 4, 5, 6, 7, 13, 20, 28, 7, 8, 1, 4, 8, 9, 28, 0, 1, 8, 9, 1, 10, 1, 11, 1, 12, 7, 9, 15, 12, 15, 16, 1, 16, 1, 17, 18, 18, 19, 0, 1, 19, 21, 1, 1, 22, 23, 24, 1, 24, 25, 26, 1, 8, 9, 27, 1, 5, 13, 1, 29, 0, 1, 30, 1, 31, 32, 32, 33, 33, 34, 31, 1, 35, 3, 1, 37, 19, 38, 39, 39, 40, 38, 1, 41, 1], \"value\": [[245], [13], [1], [1], [1], [12], [1313], [1], [1], [1], [2], [2], [1], [1], [1], [1], [1], [3], [6], [3], [1], [1], [1], [1], [1], [2], [1], [1], [1], [1], [1], [1], [2], [10], [1], [1], [6], [2], [1], [1], [2], [22], [7], [1], [4], [34], [1], [1], [1], [1], [10], [2], [1], [1], [6], [2], [1], [1], [2], [1], [5], [1], [11], [1], [6], [2], [17], [1], [1], [1], [1], [6], [1], [1], [9], [2], [30], [1], [1], [1], [1], [6], [106], [1], [1], [3], [7], [2], [1], [2], [11], [3], [1], [1], [1], [1], [1], [1], [1], [1], [1], [21], [1], [1], [30], [1], [3], [1], [1], [1], [14], [1], [1], [1], [3], [1], [1], [28], [1], [1], [1], [8], [1], [1], [1], [4], [1]]}, \"node\": {\"color\": \"blue\", \"label\": [0, 1, 2, 3, 4, 5, 6, 7, 8, 9, 10, 11, 12, 13, 14, 15, 16, 17, 18, 19, 20, 21, 22, 23, 24, 25, 26, 27, 28, 29, 30, 31, 32, 33, 34, 35, 36, 37, 38, 39, 40, 41], \"line\": {\"color\": \"black\", \"width\": 0.5}, \"pad\": 15, \"thickness\": 20}, \"type\": \"sankey\"}],\n",
       "                        {\"font\": {\"size\": 10}, \"template\": {\"data\": {\"bar\": [{\"error_x\": {\"color\": \"#2a3f5f\"}, \"error_y\": {\"color\": \"#2a3f5f\"}, \"marker\": {\"line\": {\"color\": \"#E5ECF6\", \"width\": 0.5}}, \"type\": \"bar\"}], \"barpolar\": [{\"marker\": {\"line\": {\"color\": \"#E5ECF6\", \"width\": 0.5}}, \"type\": \"barpolar\"}], \"carpet\": [{\"aaxis\": {\"endlinecolor\": \"#2a3f5f\", \"gridcolor\": \"white\", \"linecolor\": \"white\", \"minorgridcolor\": \"white\", \"startlinecolor\": \"#2a3f5f\"}, \"baxis\": {\"endlinecolor\": \"#2a3f5f\", \"gridcolor\": \"white\", \"linecolor\": \"white\", \"minorgridcolor\": \"white\", \"startlinecolor\": \"#2a3f5f\"}, \"type\": \"carpet\"}], \"choropleth\": [{\"colorbar\": {\"outlinewidth\": 0, \"ticks\": \"\"}, \"type\": \"choropleth\"}], \"contour\": [{\"colorbar\": {\"outlinewidth\": 0, \"ticks\": \"\"}, \"colorscale\": [[0.0, \"#0d0887\"], [0.1111111111111111, \"#46039f\"], [0.2222222222222222, \"#7201a8\"], [0.3333333333333333, \"#9c179e\"], [0.4444444444444444, \"#bd3786\"], [0.5555555555555556, \"#d8576b\"], [0.6666666666666666, \"#ed7953\"], [0.7777777777777778, \"#fb9f3a\"], [0.8888888888888888, \"#fdca26\"], [1.0, \"#f0f921\"]], \"type\": \"contour\"}], \"contourcarpet\": [{\"colorbar\": {\"outlinewidth\": 0, \"ticks\": \"\"}, \"type\": \"contourcarpet\"}], \"heatmap\": [{\"colorbar\": {\"outlinewidth\": 0, \"ticks\": \"\"}, \"colorscale\": [[0.0, \"#0d0887\"], [0.1111111111111111, \"#46039f\"], [0.2222222222222222, \"#7201a8\"], [0.3333333333333333, \"#9c179e\"], [0.4444444444444444, \"#bd3786\"], [0.5555555555555556, \"#d8576b\"], [0.6666666666666666, \"#ed7953\"], [0.7777777777777778, \"#fb9f3a\"], [0.8888888888888888, \"#fdca26\"], [1.0, \"#f0f921\"]], \"type\": \"heatmap\"}], \"heatmapgl\": [{\"colorbar\": {\"outlinewidth\": 0, \"ticks\": \"\"}, \"colorscale\": [[0.0, \"#0d0887\"], [0.1111111111111111, \"#46039f\"], [0.2222222222222222, \"#7201a8\"], [0.3333333333333333, \"#9c179e\"], [0.4444444444444444, \"#bd3786\"], [0.5555555555555556, \"#d8576b\"], [0.6666666666666666, \"#ed7953\"], [0.7777777777777778, \"#fb9f3a\"], [0.8888888888888888, \"#fdca26\"], [1.0, \"#f0f921\"]], \"type\": \"heatmapgl\"}], \"histogram\": [{\"marker\": {\"colorbar\": {\"outlinewidth\": 0, \"ticks\": \"\"}}, \"type\": \"histogram\"}], \"histogram2d\": [{\"colorbar\": {\"outlinewidth\": 0, \"ticks\": \"\"}, \"colorscale\": [[0.0, \"#0d0887\"], [0.1111111111111111, \"#46039f\"], [0.2222222222222222, \"#7201a8\"], [0.3333333333333333, \"#9c179e\"], [0.4444444444444444, \"#bd3786\"], [0.5555555555555556, \"#d8576b\"], [0.6666666666666666, \"#ed7953\"], [0.7777777777777778, \"#fb9f3a\"], [0.8888888888888888, \"#fdca26\"], [1.0, \"#f0f921\"]], \"type\": \"histogram2d\"}], \"histogram2dcontour\": [{\"colorbar\": {\"outlinewidth\": 0, \"ticks\": \"\"}, \"colorscale\": [[0.0, \"#0d0887\"], [0.1111111111111111, \"#46039f\"], [0.2222222222222222, \"#7201a8\"], [0.3333333333333333, \"#9c179e\"], [0.4444444444444444, \"#bd3786\"], [0.5555555555555556, \"#d8576b\"], [0.6666666666666666, \"#ed7953\"], [0.7777777777777778, \"#fb9f3a\"], [0.8888888888888888, \"#fdca26\"], [1.0, \"#f0f921\"]], \"type\": \"histogram2dcontour\"}], \"mesh3d\": [{\"colorbar\": {\"outlinewidth\": 0, \"ticks\": \"\"}, \"type\": \"mesh3d\"}], \"parcoords\": [{\"line\": {\"colorbar\": {\"outlinewidth\": 0, \"ticks\": \"\"}}, \"type\": \"parcoords\"}], \"pie\": [{\"automargin\": true, \"type\": \"pie\"}], \"scatter\": [{\"marker\": {\"colorbar\": {\"outlinewidth\": 0, \"ticks\": \"\"}}, \"type\": \"scatter\"}], \"scatter3d\": [{\"line\": {\"colorbar\": {\"outlinewidth\": 0, \"ticks\": \"\"}}, \"marker\": {\"colorbar\": {\"outlinewidth\": 0, \"ticks\": \"\"}}, \"type\": \"scatter3d\"}], \"scattercarpet\": [{\"marker\": {\"colorbar\": {\"outlinewidth\": 0, \"ticks\": \"\"}}, \"type\": \"scattercarpet\"}], \"scattergeo\": [{\"marker\": {\"colorbar\": {\"outlinewidth\": 0, \"ticks\": \"\"}}, \"type\": \"scattergeo\"}], \"scattergl\": [{\"marker\": {\"colorbar\": {\"outlinewidth\": 0, \"ticks\": \"\"}}, \"type\": \"scattergl\"}], \"scattermapbox\": [{\"marker\": {\"colorbar\": {\"outlinewidth\": 0, \"ticks\": \"\"}}, \"type\": \"scattermapbox\"}], \"scatterpolar\": [{\"marker\": {\"colorbar\": {\"outlinewidth\": 0, \"ticks\": \"\"}}, \"type\": \"scatterpolar\"}], \"scatterpolargl\": [{\"marker\": {\"colorbar\": {\"outlinewidth\": 0, \"ticks\": \"\"}}, \"type\": \"scatterpolargl\"}], \"scatterternary\": [{\"marker\": {\"colorbar\": {\"outlinewidth\": 0, \"ticks\": \"\"}}, \"type\": \"scatterternary\"}], \"surface\": [{\"colorbar\": {\"outlinewidth\": 0, \"ticks\": \"\"}, \"colorscale\": [[0.0, \"#0d0887\"], [0.1111111111111111, \"#46039f\"], [0.2222222222222222, \"#7201a8\"], [0.3333333333333333, \"#9c179e\"], [0.4444444444444444, \"#bd3786\"], [0.5555555555555556, \"#d8576b\"], [0.6666666666666666, \"#ed7953\"], [0.7777777777777778, \"#fb9f3a\"], [0.8888888888888888, \"#fdca26\"], [1.0, \"#f0f921\"]], \"type\": \"surface\"}], \"table\": [{\"cells\": {\"fill\": {\"color\": \"#EBF0F8\"}, \"line\": {\"color\": \"white\"}}, \"header\": {\"fill\": {\"color\": \"#C8D4E3\"}, \"line\": {\"color\": \"white\"}}, \"type\": \"table\"}]}, \"layout\": {\"annotationdefaults\": {\"arrowcolor\": \"#2a3f5f\", \"arrowhead\": 0, \"arrowwidth\": 1}, \"coloraxis\": {\"colorbar\": {\"outlinewidth\": 0, \"ticks\": \"\"}}, \"colorscale\": {\"diverging\": [[0, \"#8e0152\"], [0.1, \"#c51b7d\"], [0.2, \"#de77ae\"], [0.3, \"#f1b6da\"], [0.4, \"#fde0ef\"], [0.5, \"#f7f7f7\"], [0.6, \"#e6f5d0\"], [0.7, \"#b8e186\"], [0.8, \"#7fbc41\"], [0.9, \"#4d9221\"], [1, \"#276419\"]], \"sequential\": [[0.0, \"#0d0887\"], [0.1111111111111111, \"#46039f\"], [0.2222222222222222, \"#7201a8\"], [0.3333333333333333, \"#9c179e\"], [0.4444444444444444, \"#bd3786\"], [0.5555555555555556, \"#d8576b\"], [0.6666666666666666, \"#ed7953\"], [0.7777777777777778, \"#fb9f3a\"], [0.8888888888888888, \"#fdca26\"], [1.0, \"#f0f921\"]], \"sequentialminus\": [[0.0, \"#0d0887\"], [0.1111111111111111, \"#46039f\"], [0.2222222222222222, \"#7201a8\"], [0.3333333333333333, \"#9c179e\"], [0.4444444444444444, \"#bd3786\"], [0.5555555555555556, \"#d8576b\"], [0.6666666666666666, \"#ed7953\"], [0.7777777777777778, \"#fb9f3a\"], [0.8888888888888888, \"#fdca26\"], [1.0, \"#f0f921\"]]}, \"colorway\": [\"#636efa\", \"#EF553B\", \"#00cc96\", \"#ab63fa\", \"#FFA15A\", \"#19d3f3\", \"#FF6692\", \"#B6E880\", \"#FF97FF\", \"#FECB52\"], \"font\": {\"color\": \"#2a3f5f\"}, \"geo\": {\"bgcolor\": \"white\", \"lakecolor\": \"white\", \"landcolor\": \"#E5ECF6\", \"showlakes\": true, \"showland\": true, \"subunitcolor\": \"white\"}, \"hoverlabel\": {\"align\": \"left\"}, \"hovermode\": \"closest\", \"mapbox\": {\"style\": \"light\"}, \"paper_bgcolor\": \"white\", \"plot_bgcolor\": \"#E5ECF6\", \"polar\": {\"angularaxis\": {\"gridcolor\": \"white\", \"linecolor\": \"white\", \"ticks\": \"\"}, \"bgcolor\": \"#E5ECF6\", \"radialaxis\": {\"gridcolor\": \"white\", \"linecolor\": \"white\", \"ticks\": \"\"}}, \"scene\": {\"xaxis\": {\"backgroundcolor\": \"#E5ECF6\", \"gridcolor\": \"white\", \"gridwidth\": 2, \"linecolor\": \"white\", \"showbackground\": true, \"ticks\": \"\", \"zerolinecolor\": \"white\"}, \"yaxis\": {\"backgroundcolor\": \"#E5ECF6\", \"gridcolor\": \"white\", \"gridwidth\": 2, \"linecolor\": \"white\", \"showbackground\": true, \"ticks\": \"\", \"zerolinecolor\": \"white\"}, \"zaxis\": {\"backgroundcolor\": \"#E5ECF6\", \"gridcolor\": \"white\", \"gridwidth\": 2, \"linecolor\": \"white\", \"showbackground\": true, \"ticks\": \"\", \"zerolinecolor\": \"white\"}}, \"shapedefaults\": {\"line\": {\"color\": \"#2a3f5f\"}}, \"ternary\": {\"aaxis\": {\"gridcolor\": \"white\", \"linecolor\": \"white\", \"ticks\": \"\"}, \"baxis\": {\"gridcolor\": \"white\", \"linecolor\": \"white\", \"ticks\": \"\"}, \"bgcolor\": \"#E5ECF6\", \"caxis\": {\"gridcolor\": \"white\", \"linecolor\": \"white\", \"ticks\": \"\"}}, \"title\": {\"x\": 0.05}, \"xaxis\": {\"automargin\": true, \"gridcolor\": \"white\", \"linecolor\": \"white\", \"ticks\": \"\", \"title\": {\"standoff\": 15}, \"zerolinecolor\": \"white\", \"zerolinewidth\": 2}, \"yaxis\": {\"automargin\": true, \"gridcolor\": \"white\", \"linecolor\": \"white\", \"ticks\": \"\", \"title\": {\"standoff\": 15}, \"zerolinecolor\": \"white\", \"zerolinewidth\": 2}}}, \"title\": {\"text\": \"Basic Sankey Diagram\"}},\n",
       "                        {\"responsive\": true}\n",
       "                    ).then(function(){\n",
       "                            \n",
       "var gd = document.getElementById('c74bb1c1-ac72-47af-ac16-524cbe79368a');\n",
       "var x = new MutationObserver(function (mutations, observer) {{\n",
       "        var display = window.getComputedStyle(gd).display;\n",
       "        if (!display || display === 'none') {{\n",
       "            console.log([gd, 'removed!']);\n",
       "            Plotly.purge(gd);\n",
       "            observer.disconnect();\n",
       "        }}\n",
       "}});\n",
       "\n",
       "// Listen for the removal of the full notebook cells\n",
       "var notebookContainer = gd.closest('#notebook-container');\n",
       "if (notebookContainer) {{\n",
       "    x.observe(notebookContainer, {childList: true});\n",
       "}}\n",
       "\n",
       "// Listen for the clearing of the current output cell\n",
       "var outputEl = gd.closest('.output');\n",
       "if (outputEl) {{\n",
       "    x.observe(outputEl, {childList: true});\n",
       "}}\n",
       "\n",
       "                        })\n",
       "                };\n",
       "                });\n",
       "            </script>\n",
       "        </div>"
      ]
     },
     "metadata": {},
     "output_type": "display_data"
    }
   ],
   "source": [
    "import plotly.graph_objects as go\n",
    "\n",
    "fig = go.Figure(data=[go.Sankey(\n",
    "    node = dict(\n",
    "      pad = 15,\n",
    "      thickness = 20,\n",
    "      line = dict(color = \"black\", width = 0.5),\n",
    "      label = list(range(test.index.get_level_values(0).max())),\n",
    "      color = \"blue\"\n",
    "    ),\n",
    "    link = dict(\n",
    "      source = test.index.get_level_values(0), # indices correspond to labels, eg A1, A2, A2, B1, ...\n",
    "      target = test.index.get_level_values(1),\n",
    "      value = test.values,\n",
    "  ))])\n",
    "\n",
    "fig.update_layout(title_text=\"Basic Sankey Diagram\", font_size=10)\n",
    "fig.show()"
   ]
  },
  {
   "cell_type": "code",
   "execution_count": 36,
   "metadata": {},
   "outputs": [
    {
     "data": {
      "text/plain": [
       "<matplotlib.image.AxesImage at 0x163953a30>"
      ]
     },
     "execution_count": 36,
     "metadata": {},
     "output_type": "execute_result"
    },
    {
     "data": {
      "image/png": "[encoded data removed]",
      "text/plain": [
       "<Figure size 432x288 with 1 Axes>"
      ]
     },
     "metadata": {
      "needs_background": "light"
     },
     "output_type": "display_data"
    }
   ],
   "source": [
    "groups_odm = group_flow_by_user.loc[5616].sort_index(level=0).unstack(fill_value=0).sort_index(axis=1)\n",
    "plt.imshow(\n",
    "    groups_odm.values,\n",
    "    norm=mpl.colors.LogNorm(),\n",
    ")"
   ]
  },
  {
   "cell_type": "code",
   "execution_count": 37,
   "metadata": {},
   "outputs": [
    {
     "data": {
      "text/plain": [
       "array([[ 245,   13,    0, ...,    0,    0,    1],\n",
       "       [  12, 1313,    1, ...,    0,    1,    0],\n",
       "       [   0,    1,    0, ...,    0,    0,    0],\n",
       "       ...,\n",
       "       [   0,    0,    0, ...,    0,    0,    0],\n",
       "       [   0,    1,    0, ...,    0,    4,    0],\n",
       "       [   0,    1,    0, ...,    0,    0,    0]])"
      ]
     },
     "execution_count": 37,
     "metadata": {},
     "output_type": "execute_result"
    }
   ],
   "source": [
    "mat_groups = groups_odm.to_numpy()\n",
    "mat_groups"
   ]
  },
  {
   "cell_type": "code",
   "execution_count": 38,
   "metadata": {},
   "outputs": [
    {
     "data": {
      "text/plain": [
       "array([[ 245,   25,    0, ...,    0,    0,    1],\n",
       "       [  25, 1313,    2, ...,    0,    2,    1],\n",
       "       [   0,    2,    0, ...,    0,    0,    0],\n",
       "       ...,\n",
       "       [   0,    0,    0, ...,    0,    0,    0],\n",
       "       [   0,    2,    0, ...,    0,    4,    0],\n",
       "       [   1,    1,    0, ...,    0,    0,    0]])"
      ]
     },
     "execution_count": 38,
     "metadata": {},
     "output_type": "execute_result"
    }
   ],
   "source": [
    "mat_groups_x = mat_groups + mat_groups.T - np.diag(np.diag(mat_groups))\n",
    "mat_groups_x"
   ]
  },
  {
   "cell_type": "code",
   "execution_count": 39,
   "metadata": {},
   "outputs": [
    {
     "data": {
      "text/plain": [
       "array([[1.07267951e-01, 1.09457093e-02, 0.00000000e+00, ...,\n",
       "        0.00000000e+00, 0.00000000e+00, 4.37828371e-04],\n",
       "       [1.09457093e-02, 5.74868651e-01, 8.75656743e-04, ...,\n",
       "        0.00000000e+00, 8.75656743e-04, 4.37828371e-04],\n",
       "       [0.00000000e+00, 8.75656743e-04, 0.00000000e+00, ...,\n",
       "        0.00000000e+00, 0.00000000e+00, 0.00000000e+00],\n",
       "       ...,\n",
       "       [0.00000000e+00, 0.00000000e+00, 0.00000000e+00, ...,\n",
       "        0.00000000e+00, 0.00000000e+00, 0.00000000e+00],\n",
       "       [0.00000000e+00, 8.75656743e-04, 0.00000000e+00, ...,\n",
       "        0.00000000e+00, 1.75131349e-03, 0.00000000e+00],\n",
       "       [4.37828371e-04, 4.37828371e-04, 0.00000000e+00, ...,\n",
       "        0.00000000e+00, 0.00000000e+00, 0.00000000e+00]])"
      ]
     },
     "execution_count": 39,
     "metadata": {},
     "output_type": "execute_result"
    }
   ],
   "source": [
    "mat_groups_prob = mat_groups_x / mat_groups_x.sum()\n",
    "mat_groups_prob"
   ]
  },
  {
   "cell_type": "code",
   "execution_count": 46,
   "metadata": {},
   "outputs": [
    {
     "data": {
      "text/plain": [
       "0.5748686514886164"
      ]
     },
     "execution_count": 46,
     "metadata": {},
     "output_type": "execute_result"
    }
   ],
   "source": [
    "mat_groups_prob.max()"
   ]
  },
  {
   "cell_type": "code",
   "execution_count": null,
   "metadata": {},
   "outputs": [],
   "source": []
  }
 ],
 "metadata": {
  "kernelspec": {
   "display_name": "Python 3",
   "language": "python",
   "name": "python3"
  },
  "language_info": {
   "codemirror_mode": {
    "name": "ipython",
    "version": 3
   },
   "file_extension": ".py",
   "mimetype": "text/x-python",
   "name": "python",
   "nbconvert_exporter": "python",
   "pygments_lexer": "ipython3",
   "version": "3.8.1"
  }
 },
 "nbformat": 4,
 "nbformat_minor": 4
}

{
 "cells": [
  {
   "cell_type": "markdown",
   "metadata": {
    "collapsed": true,
    "pycharm": {
     "name": "#%% md\n"
    }
   },
   "source": [
    "# Characterising trip distance of global regions\n",
    "\n",
    "Fit the trip distance distribution using Weibull."
   ]
  },
  {
   "cell_type": "code",
   "execution_count": 1,
   "outputs": [],
   "source": [
    "%load_ext autoreload\n",
    "%autoreload 2"
   ],
   "metadata": {
    "collapsed": false,
    "pycharm": {
     "name": "#%%#%% load_ext autoreload\n"
    }
   }
  },
  {
   "cell_type": "code",
   "execution_count": 48,
   "outputs": [],
   "source": [
    "from tqdm import tqdm\n",
    "import numpy as np\n",
    "import pandas as pd\n",
    "import geopandas as gpd\n",
    "import math\n",
    "import yaml\n",
    "from scipy import stats\n",
    "from scipy.stats import kurtosis\n",
    "from scipy import optimize\n",
    "from sklearn.metrics import mean_squared_error\n",
    "\n",
    "import matplotlib.pyplot as plt\n",
    "\n",
    "region_list = ['sweden', 'netherlands', 'saopaulo', 'australia', 'austria', 'barcelona',\n",
    "               'capetown', 'cebu', 'egypt', 'guadalajara', 'jakarta',\n",
    "               'johannesburg', 'kualalumpur', 'lagos', 'madrid', 'manila', 'moscow', 'nairobi',\n",
    "               'rio', 'saudiarabia', 'stpertersburg', 'surabaya'] #, 'mexicocity'\n",
    "\n",
    "with open('../../lib/regions.yaml', encoding='utf8') as f:\n",
    "    region_manager = yaml.load(f, Loader=yaml.FullLoader)\n",
    "\n",
    "runid = 6"
   ],
   "metadata": {
    "collapsed": false,
    "pycharm": {
     "name": "#%%\n"
    }
   }
  },
  {
   "cell_type": "markdown",
   "source": [
    "## 1 Fit to trip distance distribution"
   ],
   "metadata": {
    "collapsed": false
   }
  },
  {
   "cell_type": "code",
   "execution_count": 121,
   "outputs": [],
   "source": [
    "region = 'saopaulo'\n",
    "df = pd.read_csv(f'../../dbs/{region}/visits/visits_{runid}_trips_dom.csv')\n",
    "df = df.loc[df.distance >= 0.1, :]"
   ],
   "metadata": {
    "collapsed": false,
    "pycharm": {
     "name": "#%%\n"
    }
   }
  },
  {
   "cell_type": "markdown",
   "source": [
    "### 1.0 Get probability density function (estimated)"
   ],
   "metadata": {
    "collapsed": false,
    "pycharm": {
     "name": "#%% md\n"
    }
   }
  },
  {
   "cell_type": "code",
   "execution_count": 122,
   "outputs": [
    {
     "data": {
      "text/plain": "<Figure size 432x288 with 1 Axes>",
      "image/png": "[encoded data removed]"
     },
     "metadata": {
      "needs_background": "light"
     },
     "output_type": "display_data"
    }
   ],
   "source": [
    "_, bins = np.histogram(np.log10(df.distance), bins='fd')\n",
    "values, base = np.histogram(df.distance, bins=10**bins, density=1)\n",
    "plt.plot(10**bins[0:-1], values, alpha = 1)\n",
    "plt.yscale('log')\n",
    "plt.xscale('log')\n",
    "plt.ylim(1e-10, 1)\n",
    "plt.xlabel('$d$(km)', fontsize = 20)\n",
    "plt.ylabel('$P(d)$', fontsize = 20)\n",
    "plt.show()"
   ],
   "metadata": {
    "collapsed": false,
    "pycharm": {
     "name": "#%%\n"
    }
   }
  },
  {
   "cell_type": "code",
   "execution_count": 123,
   "outputs": [
    {
     "data": {
      "text/plain": "          d       p_d\n0  0.100008  0.077289\n1  0.102018  0.101370\n2  0.104068  0.088502\n3  0.106159  0.100985\n4  0.108293  0.126507",
      "text/html": "<div>\n<style scoped>\n    .dataframe tbody tr th:only-of-type {\n        vertical-align: middle;\n    }\n\n    .dataframe tbody tr th {\n        vertical-align: top;\n    }\n\n    .dataframe thead th {\n        text-align: right;\n    }\n</style>\n<table border=\"1\" class=\"dataframe\">\n  <thead>\n    <tr style=\"text-align: right;\">\n      <th></th>\n      <th>d</th>\n      <th>p_d</th>\n    </tr>\n  </thead>\n  <tbody>\n    <tr>\n      <th>0</th>\n      <td>0.100008</td>\n      <td>0.077289</td>\n    </tr>\n    <tr>\n      <th>1</th>\n      <td>0.102018</td>\n      <td>0.101370</td>\n    </tr>\n    <tr>\n      <th>2</th>\n      <td>0.104068</td>\n      <td>0.088502</td>\n    </tr>\n    <tr>\n      <th>3</th>\n      <td>0.106159</td>\n      <td>0.100985</td>\n    </tr>\n    <tr>\n      <th>4</th>\n      <td>0.108293</td>\n      <td>0.126507</td>\n    </tr>\n  </tbody>\n</table>\n</div>"
     },
     "execution_count": 123,
     "metadata": {},
     "output_type": "execute_result"
    }
   ],
   "source": [
    "x = 10**bins[0:-1]\n",
    "y = values\n",
    "df_mod = pd.DataFrame()\n",
    "df_mod.loc[:, 'd'] = x\n",
    "df_mod.loc[:, 'p_d'] = y\n",
    "df_mod.head()"
   ],
   "metadata": {
    "collapsed": false,
    "pycharm": {
     "name": "#%%\n"
    }
   }
  },
  {
   "cell_type": "code",
   "execution_count": 124,
   "outputs": [
    {
     "data": {
      "text/plain": "<Figure size 432x288 with 1 Axes>",
      "image/png": "[encoded data removed]"
     },
     "metadata": {
      "needs_background": "light"
     },
     "output_type": "display_data"
    }
   ],
   "source": [
    "P_d = np.cumsum(np.diff(x)*y[1:])\n",
    "plt.plot(x[1:], P_d, alpha = 1)\n",
    "plt.yscale('log')\n",
    "plt.xscale('log')\n",
    "plt.ylim(1e-4, 1.1)\n",
    "plt.xlabel('$d$(km)', fontsize = 20)\n",
    "plt.ylabel('$P(d)$', fontsize = 20)\n",
    "plt.show()"
   ],
   "metadata": {
    "collapsed": false,
    "pycharm": {
     "name": "#%%\n"
    }
   }
  },
  {
   "cell_type": "markdown",
   "source": [
    "## 2. Weibull distribution"
   ],
   "metadata": {
    "collapsed": false
   }
  },
  {
   "cell_type": "code",
   "execution_count": 89,
   "outputs": [
    {
     "name": "stdout",
     "output_type": "stream",
     "text": [
      "[1.082122   5.24211137]\n",
      "[[ 0.00243788 -0.00518729]\n",
      " [-0.00518729  0.01394915]]\n",
      "fit: k=1.082, ld=5.242\n"
     ]
    }
   ],
   "source": [
    "def weibull(d, k, ld):\n",
    "    return k/ld*(k/ld)**(k-1)*np.exp(-(d/ld)**k)\n",
    "popt, pcov = optimize.curve_fit(weibull, x, y) # , p0=[1.8, 0.15, 5]\n",
    "print(popt)\n",
    "print(pcov)\n",
    "\n",
    "print('fit: k=%5.3f, ld=%5.3f'%tuple(popt))"
   ],
   "metadata": {
    "collapsed": false,
    "pycharm": {
     "name": "#%%\n"
    }
   }
  },
  {
   "cell_type": "code",
   "execution_count": 90,
   "outputs": [
    {
     "data": {
      "text/plain": "<Figure size 432x288 with 1 Axes>",
      "image/png": "[encoded data removed]"
     },
     "metadata": {
      "needs_background": "light"
     },
     "output_type": "display_data"
    }
   ],
   "source": [
    "k, ld = tuple(popt)\n",
    "plt.plot(x, y, 'bs', alpha = 0.3)\n",
    "plt.plot(x, weibull(x, k, ld), 'r-' )\n",
    "plt.yscale('log')\n",
    "plt.xscale('log')\n",
    "plt.ylim(1e-10, 1)\n",
    "plt.xlabel('$d$(km)', fontsize = 20)\n",
    "plt.ylabel('$P(d)$', fontsize = 20)\n",
    "plt.show()"
   ],
   "metadata": {
    "collapsed": false,
    "pycharm": {
     "name": "#%%\n"
    }
   }
  },
  {
   "cell_type": "markdown",
   "source": [
    "### 2.1 Weibull distribution - MLE"
   ],
   "metadata": {
    "collapsed": false
   }
  },
  {
   "cell_type": "code",
   "execution_count": 125,
   "outputs": [
    {
     "name": "stdout",
     "output_type": "stream",
     "text": [
      "Optimization terminated successfully.\n",
      "         Current function value: -1298.688063\n",
      "         Iterations: 148\n",
      "         Function evaluations: 262\n"
     ]
    },
    {
     "data": {
      "text/plain": " final_simplex: (array([[ 1.08217064,  5.24199007, -0.0209698 ],\n       [ 1.08214646,  5.24207363, -0.02096929],\n       [ 1.08216944,  5.24196147, -0.0209695 ],\n       [ 1.08218769,  5.24200365, -0.02096899]]), array([-1298.68806298, -1298.68806286, -1298.68806265, -1298.6880621 ]))\n           fun: -1298.6880629830187\n       message: 'Optimization terminated successfully.'\n          nfev: 262\n           nit: 148\n        status: 0\n       success: True\n             x: array([ 1.08217064,  5.24199007, -0.0209698 ])"
     },
     "execution_count": 125,
     "metadata": {},
     "output_type": "execute_result"
    }
   ],
   "source": [
    "# define likelihood function\n",
    "def weibullMLE(params):\n",
    "    k, ld, sd = params[0], params[1], params[2] # inputs are guesses at our parameters\n",
    "    yhat = k/ld*(k/ld)**(k-1)*np.exp(-(x/ld)**k) # predictions\n",
    "    L = (len(x)/2 * np.log(2 * np.pi) + len(x)/2 * np.log(sd ** 2) + 1 / (2 * sd ** 2) * sum((y - yhat) ** 2))\n",
    "    return L\n",
    "# let’s start with some random coefficient guesses and optimize\n",
    "guess = np.array([5,5,2])\n",
    "results = optimize.minimize(weibullMLE, guess, method = 'Nelder-Mead',\n",
    "                                  options={'disp': True})\n",
    "results"
   ],
   "metadata": {
    "collapsed": false,
    "pycharm": {
     "name": "#%%\n"
    }
   }
  },
  {
   "cell_type": "code",
   "execution_count": 126,
   "outputs": [
    {
     "name": "stdout",
     "output_type": "stream",
     "text": [
      "fit: k=1.082, ld=5.242\n"
     ]
    },
    {
     "data": {
      "text/plain": "<Figure size 432x288 with 1 Axes>",
      "image/png": "[encoded data removed]"
     },
     "metadata": {
      "needs_background": "light"
     },
     "output_type": "display_data"
    }
   ],
   "source": [
    "k, ld, _ = results['x']\n",
    "print('fit: k=%5.3f, ld=%5.3f'%(k, ld))\n",
    "plt.plot(x, y, 'bs', alpha = 0.3)\n",
    "plt.plot(x, weibull(x, k, ld), 'r-' )\n",
    "plt.yscale('log')\n",
    "plt.xscale('log')\n",
    "plt.ylim(1e-10, 1)\n",
    "plt.xlabel('$d$(km)', fontsize = 20)\n",
    "plt.ylabel('$P(d)$', fontsize = 20)\n",
    "plt.show()\n"
   ],
   "metadata": {
    "collapsed": false,
    "pycharm": {
     "name": "#%%\n"
    }
   }
  },
  {
   "cell_type": "markdown",
   "source": [
    "## 3. Gamma distribution"
   ],
   "metadata": {
    "collapsed": false,
    "pycharm": {
     "name": "#%% md\n"
    }
   }
  },
  {
   "cell_type": "code",
   "execution_count": 38,
   "outputs": [
    {
     "name": "stdout",
     "output_type": "stream",
     "text": [
      "[0.90051383 0.14291788]\n",
      "[[1.63467013e-04 6.27661923e-05]\n",
      " [6.27661923e-05 2.68603237e-05]]\n",
      "fit: alpha=0.901, beta=0.143\n"
     ]
    },
    {
     "name": "stderr",
     "output_type": "stream",
     "text": [
      "C:\\ProgramData\\Anaconda3\\lib\\site-packages\\ipykernel_launcher.py:2: RuntimeWarning: invalid value encountered in double_scalars\n",
      "  \n",
      "C:\\ProgramData\\Anaconda3\\lib\\site-packages\\ipykernel_launcher.py:2: RuntimeWarning: overflow encountered in exp\n",
      "  \n"
     ]
    }
   ],
   "source": [
    "def gamma(d, alpha, beta):\n",
    "    return beta**alpha*d**(alpha-1)*np.exp(-beta*d)/math.gamma(alpha)\n",
    "popt, pcov = optimize.curve_fit(gamma, x, y) # , p0=[1.8, 0.15, 5]\n",
    "print(popt)\n",
    "print(pcov)\n",
    "\n",
    "print('fit: alpha=%5.3f, beta=%5.3f'%tuple(popt))"
   ],
   "metadata": {
    "collapsed": false,
    "pycharm": {
     "name": "#%%\n"
    }
   }
  },
  {
   "cell_type": "code",
   "execution_count": 39,
   "outputs": [
    {
     "data": {
      "text/plain": "<Figure size 432x288 with 1 Axes>",
      "image/png": "[encoded data removed]"
     },
     "metadata": {
      "needs_background": "light"
     },
     "output_type": "display_data"
    }
   ],
   "source": [
    "alpha, beta = tuple(popt)\n",
    "plt.plot(x, y, 'bs', alpha = 0.3)\n",
    "plt.plot(x, gamma(x, alpha, beta), 'r-' )\n",
    "plt.yscale('log')\n",
    "plt.xscale('log')\n",
    "plt.ylim(1e-10, 1)\n",
    "plt.xlabel('$d$(km)', fontsize = 20)\n",
    "plt.ylabel('$P(d)$', fontsize = 20)\n",
    "plt.show()"
   ],
   "metadata": {
    "collapsed": false,
    "pycharm": {
     "name": "#%%\n"
    }
   }
  },
  {
   "cell_type": "markdown",
   "source": [
    "### 3.1 Gamma distribution - MLE"
   ],
   "metadata": {
    "collapsed": false
   }
  },
  {
   "cell_type": "code",
   "execution_count": 128,
   "outputs": [
    {
     "name": "stdout",
     "output_type": "stream",
     "text": [
      "Optimization terminated successfully.\n",
      "         Current function value: -503.574771\n",
      "         Iterations: 114\n",
      "         Function evaluations: 218\n"
     ]
    },
    {
     "name": "stderr",
     "output_type": "stream",
     "text": [
      "C:\\ProgramData\\Anaconda3\\lib\\site-packages\\ipykernel_launcher.py:4: RuntimeWarning: invalid value encountered in double_scalars\n",
      "  after removing the cwd from sys.path.\n",
      "C:\\ProgramData\\Anaconda3\\lib\\site-packages\\ipykernel_launcher.py:4: RuntimeWarning: overflow encountered in exp\n",
      "  after removing the cwd from sys.path.\n"
     ]
    },
    {
     "data": {
      "text/plain": " final_simplex: (array([[ 3.31821721e+01,  3.35546879e-03, -9.37343479e-02],\n       [ 3.31820886e+01,  3.37400605e-03, -9.37344121e-02],\n       [ 3.31821497e+01,  3.36032034e-03, -9.37343259e-02],\n       [ 3.31822529e+01,  3.33780817e-03, -9.37344338e-02]]), array([-503.57477054, -503.57477054, -503.57477054, -503.57477054]))\n           fun: -503.5747705436883\n       message: 'Optimization terminated successfully.'\n          nfev: 218\n           nit: 114\n        status: 0\n       success: True\n             x: array([ 3.31821721e+01,  3.35546879e-03, -9.37343479e-02])"
     },
     "execution_count": 128,
     "metadata": {},
     "output_type": "execute_result"
    }
   ],
   "source": [
    "# define likelihood function\n",
    "def gammaMLE(params):\n",
    "    alpha, beta, sd = params[0], params[1], params[2] # inputs are guesses at our parameters\n",
    "    yhat = beta**alpha*x**(alpha-1)*np.exp(-beta*x)/math.gamma(alpha)\n",
    "    L = (len(x)/2 * np.log(2 * np.pi) + len(x)/2 * np.log(sd ** 2) + 1 / (2 * sd ** 2) * sum((y - yhat) ** 2))\n",
    "    # return negative LL\n",
    "    return L\n",
    "# let’s start with some random coefficient guesses and optimize\n",
    "guess = np.array([5,5,2])\n",
    "results = optimize.minimize(gammaMLE, guess, method = 'Nelder-Mead',\n",
    "                                  options={'disp': True})\n",
    "results"
   ],
   "metadata": {
    "collapsed": false,
    "pycharm": {
     "name": "#%%\n"
    }
   }
  },
  {
   "cell_type": "code",
   "execution_count": 129,
   "outputs": [
    {
     "name": "stdout",
     "output_type": "stream",
     "text": [
      "fit: alpha=33.182, beta=0.003\n"
     ]
    },
    {
     "data": {
      "text/plain": "<Figure size 432x288 with 1 Axes>",
      "image/png": "[encoded data removed]"
     },
     "metadata": {
      "needs_background": "light"
     },
     "output_type": "display_data"
    }
   ],
   "source": [
    "alpha, beta, _ = results['x']\n",
    "print('fit: alpha=%5.3f, beta=%5.3f'%(alpha, beta))\n",
    "plt.plot(x, y, 'bs', alpha = 0.3)\n",
    "plt.plot(x, gamma(x, alpha, beta), 'r-' )\n",
    "plt.yscale('log')\n",
    "plt.xscale('log')\n",
    "plt.ylim(1e-10, 1)\n",
    "plt.xlabel('$d$(km)', fontsize = 20)\n",
    "plt.ylabel('$P(d)$', fontsize = 20)\n",
    "plt.show()"
   ],
   "metadata": {
    "collapsed": false,
    "pycharm": {
     "name": "#%%\n"
    }
   }
  },
  {
   "cell_type": "markdown",
   "source": [
    "## 4. Lognormal"
   ],
   "metadata": {
    "collapsed": false,
    "pycharm": {
     "name": "#%% md\n"
    }
   }
  },
  {
   "cell_type": "code",
   "execution_count": 45,
   "outputs": [
    {
     "name": "stdout",
     "output_type": "stream",
     "text": [
      "[1.64615235 1.70946811]\n",
      "[[0.00023769 0.00016331]\n",
      " [0.00016331 0.00013878]]\n",
      "fit: miu=1.646, sigma=1.709\n"
     ]
    }
   ],
   "source": [
    "def lognormal(d, miu, sigma):\n",
    "    return 1/(d*sigma*(2*np.pi)**0.5)*np.exp(-(np.log(d) - miu)**2/(2*sigma**2))\n",
    "popt, pcov = optimize.curve_fit(lognormal, x, y) # , p0=[1.8, 0.15, 5]\n",
    "print(popt)\n",
    "print(pcov)\n",
    "\n",
    "print('fit: miu=%5.3f, sigma=%5.3f'%tuple(popt))"
   ],
   "metadata": {
    "collapsed": false,
    "pycharm": {
     "name": "#%%\n"
    }
   }
  },
  {
   "cell_type": "code",
   "execution_count": 46,
   "outputs": [
    {
     "data": {
      "text/plain": "<Figure size 432x288 with 1 Axes>",
      "image/png": "[encoded data removed]"
     },
     "metadata": {
      "needs_background": "light"
     },
     "output_type": "display_data"
    }
   ],
   "source": [
    "miu, sigma = tuple(popt)\n",
    "plt.plot(x, y, 'bs', alpha = 0.3)\n",
    "plt.plot(x, lognormal(x, miu, sigma), 'r-' )\n",
    "plt.yscale('log')\n",
    "plt.xscale('log')\n",
    "plt.ylim(1e-10, 1)\n",
    "plt.xlabel('$d$(km)', fontsize = 20)\n",
    "plt.ylabel('$P(d)$', fontsize = 20)\n",
    "plt.show()"
   ],
   "metadata": {
    "collapsed": false,
    "pycharm": {
     "name": "#%%\n"
    }
   }
  },
  {
   "cell_type": "markdown",
   "source": [
    "### 4.1 Lognormal distribution - MLE"
   ],
   "metadata": {
    "collapsed": false
   }
  },
  {
   "cell_type": "code",
   "execution_count": 130,
   "outputs": [
    {
     "name": "stdout",
     "output_type": "stream",
     "text": [
      "Optimization terminated successfully.\n",
      "         Current function value: -1543.710316\n",
      "         Iterations: 122\n",
      "         Function evaluations: 223\n"
     ]
    },
    {
     "data": {
      "text/plain": " final_simplex: (array([[1.64611948, 1.70944162, 0.01321874],\n       [1.64619476, 1.7094881 , 0.01321881],\n       [1.6461401 , 1.70945568, 0.01321755],\n       [1.64616845, 1.70950227, 0.01321953]]), array([-1543.71031607, -1543.71031384, -1543.71031345, -1543.71030674]))\n           fun: -1543.710316065698\n       message: 'Optimization terminated successfully.'\n          nfev: 223\n           nit: 122\n        status: 0\n       success: True\n             x: array([1.64611948, 1.70944162, 0.01321874])"
     },
     "execution_count": 130,
     "metadata": {},
     "output_type": "execute_result"
    }
   ],
   "source": [
    "# define likelihood function\n",
    "def lognormalMLE(params):\n",
    "    miu, sigma, sd = params[0], params[1], params[2] # inputs are guesses at our parameters\n",
    "    yhat = 1/(x*sigma*(2*np.pi)**0.5)*np.exp(-(np.log(x) - miu)**2/(2*sigma**2))\n",
    "    L = (len(x)/2 * np.log(2 * np.pi) + len(x)/2 * np.log(sd ** 2) + 1 / (2 * sd ** 2) * sum((y - yhat) ** 2))\n",
    "    # return negative LL\n",
    "    return L\n",
    "# let’s start with some random coefficient guesses and optimize\n",
    "guess = np.array([5,5,2])\n",
    "results = optimize.minimize(lognormalMLE, guess, method = 'Nelder-Mead',\n",
    "                                  options={'disp': True})\n",
    "results"
   ],
   "metadata": {
    "collapsed": false,
    "pycharm": {
     "name": "#%%\n"
    }
   }
  },
  {
   "cell_type": "code",
   "execution_count": 131,
   "outputs": [
    {
     "name": "stdout",
     "output_type": "stream",
     "text": [
      "fit: miu=1.646, sigma=1.709\n"
     ]
    },
    {
     "data": {
      "text/plain": "<Figure size 432x288 with 1 Axes>",
      "image/png": "[encoded data removed]"
     },
     "metadata": {
      "needs_background": "light"
     },
     "output_type": "display_data"
    }
   ],
   "source": [
    "miu, sigma, _ = results['x']\n",
    "print('fit: miu=%5.3f, sigma=%5.3f'%(miu, sigma))\n",
    "plt.plot(x, y, 'bs', alpha = 0.3)\n",
    "plt.plot(x, lognormal(x, miu, sigma), 'r-' )\n",
    "plt.yscale('log')\n",
    "plt.xscale('log')\n",
    "plt.ylim(1e-10, 1)\n",
    "plt.xlabel('$d$(km)', fontsize = 20)\n",
    "plt.ylabel('$P(d)$', fontsize = 20)\n",
    "plt.show()"
   ],
   "metadata": {
    "collapsed": false,
    "pycharm": {
     "name": "#%%\n"
    }
   }
  },
  {
   "cell_type": "markdown",
   "source": [
    "## 5. Truncated power law"
   ],
   "metadata": {
    "collapsed": false
   }
  },
  {
   "cell_type": "code",
   "execution_count": 14,
   "outputs": [
    {
     "name": "stdout",
     "output_type": "stream",
     "text": [
      "[1.86373461e+00 1.65768266e+00 1.00769971e+06]\n",
      "[[ 2.63967286e-02 -2.91454254e-02 -6.10643879e+09]\n",
      " [-2.91454254e-02  3.38562184e-02  7.42277258e+09]\n",
      " [-6.10643879e+09  7.42277258e+09  1.95449644e+21]]\n",
      "fit: d0=1.864, beta=1.658, K=1007699.710\n"
     ]
    }
   ],
   "source": [
    "def truncated_power_law(x, d0, beta, K):\n",
    "    return (x + d0) ** (-beta) * np.exp(-x / K)\n",
    "popt, pcov = optimize.curve_fit(truncated_power_law, x, y) # , p0=[1.8, 0.15, 5]\n",
    "print(popt)\n",
    "print(pcov)\n",
    "\n",
    "print('fit: d0=%5.3f, beta=%5.3f, '\n",
    "      'K=%5.3f'%tuple(popt))"
   ],
   "metadata": {
    "collapsed": false,
    "pycharm": {
     "name": "#%%\n"
    }
   }
  },
  {
   "cell_type": "code",
   "execution_count": 15,
   "outputs": [
    {
     "data": {
      "text/plain": "<Figure size 432x288 with 1 Axes>",
      "image/png": "[encoded data removed]"
     },
     "metadata": {
      "needs_background": "light"
     },
     "output_type": "display_data"
    }
   ],
   "source": [
    "d0, beta, K = tuple(popt)\n",
    "plt.plot(x, y, 'bs', alpha = 0.3)\n",
    "plt.plot(x, truncated_power_law(x, d0, beta, K), 'r-' )\n",
    "plt.yscale('log')\n",
    "plt.xscale('log')\n",
    "plt.ylim(1e-10, 1)\n",
    "plt.xlabel('$d$(km)', fontsize = 20)\n",
    "plt.ylabel('$P(d)$', fontsize = 20)\n",
    "plt.show()"
   ],
   "metadata": {
    "collapsed": false,
    "pycharm": {
     "name": "#%%\n"
    }
   }
  },
  {
   "cell_type": "markdown",
   "source": [
    "## 6. Power law"
   ],
   "metadata": {
    "collapsed": false
   }
  },
  {
   "cell_type": "code",
   "execution_count": 16,
   "outputs": [
    {
     "name": "stdout",
     "output_type": "stream",
     "text": [
      "[0.14451789 0.42430129]\n",
      "[[ 4.41658283e-05 -1.31362060e-04]\n",
      " [-1.31362060e-04  7.87080404e-04]]\n",
      "fit: alpha=0.145, k=0.424\n"
     ]
    }
   ],
   "source": [
    "def power(d, alpha, k):\n",
    "    return alpha*d**(-k)\n",
    "popt, pcov = optimize.curve_fit(power, x, y) # , p0=[1.8, 0.15, 5]\n",
    "print(popt)\n",
    "print(pcov)\n",
    "\n",
    "print('fit: alpha=%5.3f, k=%5.3f'%tuple(popt))"
   ],
   "metadata": {
    "collapsed": false,
    "pycharm": {
     "name": "#%%\n"
    }
   }
  },
  {
   "cell_type": "code",
   "execution_count": 17,
   "outputs": [
    {
     "data": {
      "text/plain": "<Figure size 432x288 with 1 Axes>",
      "image/png": "[encoded data removed]"
     },
     "metadata": {
      "needs_background": "light"
     },
     "output_type": "display_data"
    }
   ],
   "source": [
    "alpha, k = tuple(popt)\n",
    "plt.plot(x, y, 'bs', alpha = 0.3)\n",
    "plt.plot(x, power(x, alpha, k), 'r-' )\n",
    "plt.yscale('log')\n",
    "plt.xscale('log')\n",
    "plt.ylim(1e-10, 1)\n",
    "plt.xlabel('$d$(km)', fontsize = 20)\n",
    "plt.ylabel('$P(d)$', fontsize = 20)\n",
    "plt.show()"
   ],
   "metadata": {
    "collapsed": false,
    "pycharm": {
     "name": "#%%\n"
    }
   }
  },
  {
   "cell_type": "markdown",
   "source": [
    "## 7. Exponential"
   ],
   "metadata": {
    "collapsed": false,
    "pycharm": {
     "name": "#%% md\n"
    }
   }
  },
  {
   "cell_type": "code",
   "execution_count": 18,
   "outputs": [
    {
     "name": "stdout",
     "output_type": "stream",
     "text": [
      "[0.29311696]\n",
      "[[9.14932984e-05]]\n",
      "fit: ld=0.293\n"
     ]
    }
   ],
   "source": [
    "def exponential(d, ld):\n",
    "    return ld*np.exp(-ld*d)\n",
    "popt, pcov = optimize.curve_fit(exponential, x, y) # , p0=[1.8, 0.15, 5]\n",
    "print(popt)\n",
    "print(pcov)\n",
    "\n",
    "print('fit: ld=%5.3f'%tuple(popt))"
   ],
   "metadata": {
    "collapsed": false,
    "pycharm": {
     "name": "#%%\n"
    }
   }
  },
  {
   "cell_type": "code",
   "execution_count": 19,
   "outputs": [
    {
     "data": {
      "text/plain": "<Figure size 432x288 with 1 Axes>",
      "image/png": "[encoded data removed]"
     },
     "metadata": {
      "needs_background": "light"
     },
     "output_type": "display_data"
    }
   ],
   "source": [
    "ld = popt[0]\n",
    "plt.plot(x, y, 'bs', alpha = 0.3)\n",
    "plt.plot(x, exponential(x, ld), 'r-' )\n",
    "plt.yscale('log')\n",
    "plt.xscale('log')\n",
    "plt.ylim(1e-10, 1)\n",
    "plt.xlabel('$d$(km)', fontsize = 20)\n",
    "plt.ylabel('$P(d)$', fontsize = 20)\n",
    "plt.show()"
   ],
   "metadata": {
    "collapsed": false,
    "pycharm": {
     "name": "#%%\n"
    }
   }
  },
  {
   "cell_type": "markdown",
   "source": [
    "## 8. Power law altered"
   ],
   "metadata": {
    "collapsed": false
   }
  },
  {
   "cell_type": "code",
   "execution_count": 20,
   "outputs": [
    {
     "name": "stdout",
     "output_type": "stream",
     "text": [
      "[1.86373443 1.6576834 ]\n",
      "[[ 0.00727345 -0.0059182 ]\n",
      " [-0.0059182   0.00563189]]\n",
      "fit: d0=1.864, beta=1.658\n"
     ]
    }
   ],
   "source": [
    "def powerlaw_al(x, d0, beta):\n",
    "    return (x + d0)**(-beta)\n",
    "popt, pcov = optimize.curve_fit(powerlaw_al, x, y) # , p0=[1.8, 0.15, 5]\n",
    "print(popt)\n",
    "print(pcov)\n",
    "print('fit: d0=%5.3f, beta=%5.3f'%tuple(popt))"
   ],
   "metadata": {
    "collapsed": false,
    "pycharm": {
     "name": "#%%\n"
    }
   }
  },
  {
   "cell_type": "code",
   "execution_count": 21,
   "outputs": [
    {
     "data": {
      "text/plain": "<Figure size 432x288 with 1 Axes>",
      "image/png": "[encoded data removed]"
     },
     "metadata": {
      "needs_background": "light"
     },
     "output_type": "display_data"
    }
   ],
   "source": [
    "d0, beta = tuple(popt)\n",
    "plt.plot(x, y, 'bs', alpha = 0.3)\n",
    "plt.plot(x, powerlaw_al(x, d0, beta), 'r-' )\n",
    "plt.yscale('log')\n",
    "plt.xscale('log')\n",
    "plt.ylim(1e-10, 1)\n",
    "plt.xlabel('$d$(km)', fontsize = 20)\n",
    "plt.ylabel('$P(d)$', fontsize = 20)\n",
    "plt.show()\n"
   ],
   "metadata": {
    "collapsed": false,
    "pycharm": {
     "name": "#%%\n"
    }
   }
  },
  {
   "cell_type": "markdown",
   "source": [
    "## 9. Stretched power law"
   ],
   "metadata": {
    "collapsed": false
   }
  },
  {
   "cell_type": "code",
   "execution_count": 88,
   "outputs": [
    {
     "name": "stdout",
     "output_type": "stream",
     "text": [
      "[ 0.06253019 -0.38201148  1.87585584]\n",
      "[[ 0.00239106  0.00156227 -0.00313647]\n",
      " [ 0.00156227  0.00103135 -0.00202877]\n",
      " [-0.00313647 -0.00202877  0.00416453]]\n",
      "fit: d0=0.063, beta=-0.382, ld=1.876\n"
     ]
    },
    {
     "name": "stderr",
     "output_type": "stream",
     "text": [
      "C:\\ProgramData\\Anaconda3\\lib\\site-packages\\ipykernel_launcher.py:2: RuntimeWarning: invalid value encountered in power\n",
      "  \n"
     ]
    }
   ],
   "source": [
    "def powerlaw_str(x, d0, beta, ld):\n",
    "    return (x + d0)**(beta-1)*np.exp(-ld*x**beta)\n",
    "popt, pcov = optimize.curve_fit(powerlaw_str, x, y) # , p0=[1.8, 0.15, 5]\n",
    "print(popt)\n",
    "print(pcov)\n",
    "print('fit: d0=%5.3f, beta=%5.3f, ld=%5.3f'%tuple(popt))"
   ],
   "metadata": {
    "collapsed": false,
    "pycharm": {
     "name": "#%%\n"
    }
   }
  },
  {
   "cell_type": "code",
   "execution_count": 89,
   "outputs": [
    {
     "data": {
      "text/plain": "<Figure size 432x288 with 1 Axes>",
      "image/png": "[encoded data removed]"
     },
     "metadata": {
      "needs_background": "light"
     },
     "output_type": "display_data"
    }
   ],
   "source": [
    "d0, beta, ld = tuple(popt)\n",
    "plt.plot(x, y, 'bs', alpha = 0.3)\n",
    "plt.plot(x, powerlaw_str(x, d0, beta, ld), 'r-' )\n",
    "plt.yscale('log')\n",
    "plt.xscale('log')\n",
    "plt.ylim(1e-10, 1)\n",
    "plt.xlabel('$d$(km)', fontsize = 20)\n",
    "plt.ylabel('$P(d)$', fontsize = 20)\n",
    "plt.show()"
   ],
   "metadata": {
    "collapsed": false,
    "pycharm": {
     "name": "#%%\n"
    }
   }
  },
  {
   "cell_type": "markdown",
   "source": [
    "## 10. Two-part exponential + power law 2"
   ],
   "metadata": {
    "collapsed": false
   }
  },
  {
   "cell_type": "code",
   "execution_count": 80,
   "outputs": [
    {
     "name": "stdout",
     "output_type": "stream",
     "text": [
      "[2.90848007 1.45901851 1.80681899 1.07938998]\n",
      "[[ 0.00638265 -0.00218077 -0.00106541  0.00259068]\n",
      " [-0.00218077  0.00078992  0.00042241 -0.00102714]\n",
      " [-0.00106541  0.00042241  0.01080279  0.01153533]\n",
      " [ 0.00259068 -0.00102714  0.01153533  0.03155373]]\n",
      "fit: d0=2.908, K=1.459, miu=1.807, sigma=1.079\n",
      "KstestResult(statistic=0.1544256120527307, pvalue=6.092158264858317e-06)\n"
     ]
    }
   ],
   "source": [
    "def two_part(d, d0, K, miu, sigma):\n",
    "    c_d0 = (d0 + d0)**(-K)\n",
    "    c = 1/(d0*sigma*(2*np.pi)**0.5)*np.exp(-(np.log(d0) - miu)**2/(2*sigma**2))\n",
    "    return np.piecewise(d, [d <= d0, d > d0],\n",
    "                        [lambda x: (x + d0)**(-K), #\n",
    "                         lambda x: c_d0/c*1/(x*sigma*(2*np.pi)**0.5)*np.exp(-(np.log(x) - miu)**2/(2*sigma**2))])  #(x + d0)**(-beta) (**)\n",
    "popt, pcov = optimize.curve_fit(two_part, x, y) # , p0=[1.8, 0.15, 5]\n",
    "print(popt)\n",
    "print(pcov)\n",
    "print('fit: d0=%5.3f, K=%5.3f, miu=%5.3f, sigma=%5.3f'%tuple(popt))\n",
    "print(stats.ks_2samp(y, two_part(x, d0, K, miu, sigma)))"
   ],
   "metadata": {
    "collapsed": false,
    "pycharm": {
     "name": "#%%\n"
    }
   }
  },
  {
   "cell_type": "code",
   "execution_count": 72,
   "outputs": [
    {
     "data": {
      "text/plain": "<Figure size 432x288 with 1 Axes>",
      "image/png": "[encoded data removed]"
     },
     "metadata": {
      "needs_background": "light"
     },
     "output_type": "display_data"
    }
   ],
   "source": [
    "d0, K, miu, sigma = tuple(popt)\n",
    "plt.plot(x, y, 'bs', alpha = 0.3)\n",
    "plt.plot(x, two_part(x, d0, K, miu, sigma), 'r-' )\n",
    "plt.yscale('log')\n",
    "plt.xscale('log')\n",
    "plt.ylim(1e-10, 1)\n",
    "plt.xlabel('$d$(km)', fontsize = 20)\n",
    "plt.ylabel('$P(d)$', fontsize = 20)\n",
    "plt.show()"
   ],
   "metadata": {
    "collapsed": false,
    "pycharm": {
     "name": "#%%\n"
    }
   }
  },
  {
   "cell_type": "markdown",
   "source": [
    "## 2. Fit existing distributions from raw data"
   ],
   "metadata": {
    "collapsed": false,
    "pycharm": {
     "name": "#%% md\n"
    }
   }
  },
  {
   "cell_type": "code",
   "execution_count": 74,
   "outputs": [
    {
     "data": {
      "text/plain": "KstestResult(statistic=0.06977662685853037, pvalue=0.0)"
     },
     "execution_count": 74,
     "metadata": {},
     "output_type": "execute_result"
    }
   ],
   "source": [
    "import scipy.stats as st\n",
    "dist = st.lognorm\n",
    "args = dist.fit(df.distance)\n",
    "st.kstest(df.distance, dist.cdf, args)"
   ],
   "metadata": {
    "collapsed": false,
    "pycharm": {
     "name": "#%%\n"
    }
   }
  },
  {
   "cell_type": "markdown",
   "source": [
    "## 3. Calculate PDF for all the regions and save the fitted results"
   ],
   "metadata": {
    "collapsed": false
   }
  },
  {
   "cell_type": "code",
   "execution_count": 184,
   "outputs": [],
   "source": [
    "def r2_cal(y, y_fit):\n",
    "    # residual sum of squares\n",
    "    ss_res = np.sum((y - y_fit) ** 2)\n",
    "\n",
    "    # total sum of squares\n",
    "    ss_tot = np.sum((y - np.mean(y)) ** 2)\n",
    "\n",
    "    # r-squared\n",
    "    r2 = 1 - (ss_res / ss_tot)\n",
    "    return r2\n",
    "\n",
    "\n",
    "def pdf_extraction(region, df):\n",
    "    df_out = pd.DataFrame()\n",
    "    _, bins = np.histogram(np.log10(df.distance), bins='fd')\n",
    "    values, base = np.histogram(df.distance, bins=10**bins, density=1)\n",
    "    x = 10**bins[0:-1]\n",
    "    y = values\n",
    "    df_out.loc[:, 'd'] = x\n",
    "    df_out.loc[:, 'y'] = y\n",
    "    df_out = df_out.loc[df_out.y > 1e-10, :]\n",
    "    df_out.loc[:, 'region'] = region\n",
    "    return df_out\n",
    "\n",
    "def cdf_extraction(region, df_pdf):\n",
    "    x = df_pdf.loc[:, 'd'].values\n",
    "    y = df_pdf.loc[:, 'y'].values\n",
    "    P_d = np.cumsum(np.diff(x)*y[1:])\n",
    "    df_out = pd.DataFrame()\n",
    "    df_out.loc[:, 'd'] = x[1:]\n",
    "    df_out.loc[:, 'y'] = P_d\n",
    "    df_out.loc[:, 'region'] = region\n",
    "    return df_out\n",
    "\n",
    "def pdf_fit(df, df_out, region, func_name=None):\n",
    "    x = df_out.loc[:, 'd'].values\n",
    "    y = df_out.loc[:, 'y'].values\n",
    "    P_d = np.cumsum(np.diff(x)*y[1:])\n",
    "    if func_name == 'powerlaw_al':\n",
    "        def powerlaw_al(d, d0, beta):\n",
    "            return (d + d0)**(-beta)\n",
    "\n",
    "        def powerlaw_alMLE(params):\n",
    "            d0, beta, sd = params[0], params[1], params[2] # inputs are guesses at our parameters\n",
    "            yhat = (x + d0)**(-beta)\n",
    "            L = (len(x)/2 * np.log(2 * np.pi) + len(x)/2 * np.log(sd ** 2) + 1 / (2 * sd ** 2) * sum((y - yhat) ** 2))\n",
    "            # return negative LL\n",
    "            return L\n",
    "        guess = np.array([5,5,2])\n",
    "        results = optimize.minimize(powerlaw_alMLE, guess, method = 'Nelder-Mead', options={'disp': False})\n",
    "        para1, para2, _ = results['x']\n",
    "        aic = -2*results['fun'] + 2*3\n",
    "        yhat = powerlaw_al(x, para1, para2)\n",
    "        para3 = np.nan\n",
    "\n",
    "    if func_name == 'lognormal':\n",
    "        def lognormal(d, miu, sigma):\n",
    "            return 1/(d*sigma*(2*np.pi)**0.5)*np.exp(-(np.log(d) - miu)**2/(2*sigma**2))\n",
    "\n",
    "        # define likelihood function\n",
    "        def lognormalMLE(params):\n",
    "            miu, sigma, sd = params[0], params[1], params[2] # inputs are guesses at our parameters\n",
    "            yhat = 1/(x*sigma*(2*np.pi)**0.5)*np.exp(-(np.log(x) - miu)**2/(2*sigma**2))\n",
    "            L = (len(x)/2 * np.log(2 * np.pi) + len(x)/2 * np.log(sd ** 2) + 1 / (2 * sd ** 2) * sum((y - yhat) ** 2))\n",
    "            # return negative LL\n",
    "            return L\n",
    "        guess = np.array([5,5,2])\n",
    "        results = optimize.minimize(lognormalMLE, guess, method = 'Nelder-Mead', options={'disp': False})\n",
    "        para1, para2, _ = results['x']\n",
    "        aic = -2*results['fun'] + 2*3\n",
    "        yhat = lognormal(x, para1, para2)\n",
    "        para3 = np.nan\n",
    "\n",
    "    if func_name == 'truncated_power_law':\n",
    "        def truncated_power_law(d, d0, beta, K):\n",
    "            return (d + d0) ** (-beta) * np.exp(-d / K)\n",
    "\n",
    "        def truncated_power_lawMLE(params):\n",
    "            d0, beta, K, sd = params[0], params[1], params[2], params[3] # inputs are guesses at our parameters\n",
    "            yhat = (x + d0) ** (-beta) * np.exp(-x / K)\n",
    "            L = (len(x)/2 * np.log(2 * np.pi) + len(x)/2 * np.log(sd ** 2) + 1 / (2 * sd ** 2) * sum((y - yhat) ** 2))\n",
    "            # return negative LL\n",
    "            return L\n",
    "        guess = np.array([5,5,5,2])\n",
    "        results = optimize.minimize(truncated_power_lawMLE, guess, method = 'Nelder-Mead', options={'disp': False})\n",
    "        para1, para2, para3, _ = results['x']\n",
    "        aic = -2*results['fun'] + 2*4\n",
    "        yhat = truncated_power_law(x, para1, para2, para3)\n",
    "\n",
    "    paras_dict = {'para1': para1, 'para2': para2, 'para3': para3, 'd': x, 'd_P': x[1:],\n",
    "                  'p_dhat': yhat, 'P_dhat': np.cumsum(np.diff(x)*yhat[1:])}\n",
    "    success = results['success']\n",
    "    P_dhat = np.cumsum(np.diff(x)*yhat[1:])\n",
    "    r2 = r2_cal(y, yhat)\n",
    "\n",
    "    #_, ks_p = stats.ks_2samp(P_d, P_dhat)\n",
    "    _, ks_p = stats.ks_2samp(y, yhat)\n",
    "    ks = kurtosis(df.distance, fisher=True)\n",
    "    median = np.median(df.distance)\n",
    "    return (region, func_name, r2, ks_p, aic, success, median, ks), paras_dict\n",
    "\n",
    "def pdf_fit_r(df_out, region, func=None, func_name=None):\n",
    "    if func_name in ['powerlaw_al', 'lognormal']:\n",
    "        popt, _ = optimize.curve_fit(func, df_out.loc[:, 'd'].values,\n",
    "                                     df_out.loc[:, 'p_d'].values,\n",
    "                                     maxfev = 1000)\n",
    "        para1, para2 = tuple(popt)\n",
    "        yhat = func(df_out.loc[:, 'd'].values, para1, para2)\n",
    "        negLL = -np.sum( stats.norm.logpdf(df_out.loc[:, 'p_d'].values,\n",
    "                                           loc=yhat, scale=np.std(df_out.loc[:, 'p_d'].values)) )\n",
    "#        P_d = np.cumsum(np.diff(df_out.loc[:, 'd'].values)*df_out.loc[:, 'p_d'].values[1:])\n",
    "#        P_dhat = np.cumsum(np.diff(df_out.loc[:, 'd'].values)*yhat[1:])\n",
    "        r2 = r2_cal(df_out.loc[:, 'p_d'].values, yhat)\n",
    "        _, ks_p = stats.ks_2samp(df_out.loc[:, 'p_d'].values, yhat)\n",
    "    else:\n",
    "        popt, _ = optimize.curve_fit(func, df_out.loc[:, 'd'].values,\n",
    "                                     df_out.loc[:, 'p_d'].values,\n",
    "                                     maxfev = 1000)\n",
    "        para1, para2, para3 = tuple(popt)\n",
    "        yhat = func(df_out.loc[:, 'd'].values, para1, para2, para3)\n",
    "        negLL = -np.sum( stats.norm.logpdf(df_out.loc[:, 'p_d'].values,\n",
    "                                           loc=yhat, scale=np.std(df_out.loc[:, 'p_d'].values)) )\n",
    "        P_d = np.cumsum(np.diff(df_out.loc[:, 'd'].values)*df_out.loc[:, 'p_d'].values[1:])\n",
    "        P_dhat = np.cumsum(np.diff(df_out.loc[:, 'd'].values)*yhat[1:])\n",
    "        r2 = r2_cal(df_out.loc[:, 'p_d'].values, yhat)\n",
    "        _, ks_p = stats.ks_2samp(df_out.loc[:, 'p_d'].values, yhat)\n",
    "    #ks = kurtosis(df.distance, fisher=True)\n",
    "    #median = np.median(df.distance)\n",
    "    return region, func_name, r2, ks_p, negLL"
   ],
   "metadata": {
    "collapsed": false,
    "pycharm": {
     "name": "#%%\n"
    }
   }
  },
  {
   "cell_type": "markdown",
   "source": [
    "### 2.1 Extract PDF and CDF for all the regions (histograms-based)"
   ],
   "metadata": {
    "collapsed": false
   }
  },
  {
   "cell_type": "code",
   "execution_count": 182,
   "outputs": [
    {
     "name": "stderr",
     "output_type": "stream",
     "text": [
      "PDF and fitting: 100%|██████████| 22/22 [01:06<00:00,  3.04s/it]\n"
     ]
    }
   ],
   "source": [
    "list_df_out = []\n",
    "list_df_out_cdf = []\n",
    "for region in tqdm(region_list, desc='PDF and fitting'):\n",
    "    df = pd.read_csv(f'../../dbs/{region}/visits/visits_{runid}_trips_dom.csv')\n",
    "    df = df.loc[df.distance >= 0.1, :]\n",
    "    df_out = pdf_extraction(region, df)\n",
    "    df_out_cdf = cdf_extraction(region, df_out)\n",
    "    list_df_out.append(df_out)\n",
    "    list_df_out_cdf.append(df_out_cdf)\n",
    "df_out = pd.concat(list_df_out)\n",
    "df_out.loc[:, 'type'] = 'pdf'\n",
    "df_out_cdf = pd.concat(list_df_out_cdf)\n",
    "df_out_cdf.loc[:, 'type'] = 'cdf'\n",
    "df_out = pd.concat([df_out, df_out_cdf])\n",
    "df_out.to_csv(f'../../results/multi-region_trips_rid_{runid}_pcdf.csv', index=False)"
   ],
   "metadata": {
    "collapsed": false,
    "pycharm": {
     "name": "#%%\n"
    }
   }
  },
  {
   "cell_type": "markdown",
   "source": [
    "### 2.2 Find the best model"
   ],
   "metadata": {
    "collapsed": false,
    "pycharm": {
     "name": "#%% md\n"
    }
   }
  },
  {
   "cell_type": "code",
   "execution_count": 185,
   "outputs": [
    {
     "name": "stderr",
     "output_type": "stream",
     "text": [
      "PDF and fitting:   5%|▍         | 1/22 [00:02<01:02,  2.99s/it]C:\\ProgramData\\Anaconda3\\lib\\site-packages\\ipykernel_launcher.py:81: RuntimeWarning: overflow encountered in square\n",
      "C:\\ProgramData\\Anaconda3\\lib\\site-packages\\ipykernel_launcher.py:80: RuntimeWarning: overflow encountered in exp\n",
      "PDF and fitting:   9%|▉         | 2/22 [00:06<01:04,  3.24s/it]C:\\ProgramData\\Anaconda3\\lib\\site-packages\\ipykernel_launcher.py:80: RuntimeWarning: invalid value encountered in power\n",
      "PDF and fitting:  23%|██▎       | 5/22 [00:19<00:54,  3.21s/it]C:\\ProgramData\\Anaconda3\\lib\\site-packages\\ipykernel_launcher.py:80: RuntimeWarning: invalid value encountered in power\n",
      "PDF and fitting:  36%|███▋      | 8/22 [00:22<00:25,  1.85s/it]C:\\ProgramData\\Anaconda3\\lib\\site-packages\\ipykernel_launcher.py:45: RuntimeWarning: invalid value encountered in power\n",
      "PDF and fitting:  59%|█████▉    | 13/22 [00:40<00:31,  3.45s/it]C:\\ProgramData\\Anaconda3\\lib\\site-packages\\ipykernel_launcher.py:45: RuntimeWarning: invalid value encountered in power\n",
      "PDF and fitting:  77%|███████▋  | 17/22 [00:57<00:22,  4.43s/it]C:\\ProgramData\\Anaconda3\\lib\\site-packages\\ipykernel_launcher.py:45: RuntimeWarning: invalid value encountered in power\n",
      "PDF and fitting:  82%|████████▏ | 18/22 [00:58<00:13,  3.26s/it]C:\\ProgramData\\Anaconda3\\lib\\site-packages\\ipykernel_launcher.py:80: RuntimeWarning: invalid value encountered in power\n",
      "PDF and fitting:  95%|█████████▌| 21/22 [01:06<00:02,  2.66s/it]C:\\ProgramData\\Anaconda3\\lib\\site-packages\\ipykernel_launcher.py:80: RuntimeWarning: overflow encountered in exp\n",
      "C:\\ProgramData\\Anaconda3\\lib\\site-packages\\ipykernel_launcher.py:81: RuntimeWarning: overflow encountered in square\n",
      "PDF and fitting: 100%|██████████| 22/22 [01:08<00:00,  3.12s/it]\n"
     ]
    },
    {
     "data": {
      "text/plain": "           region            func_name        r2           ks_p          aic  \\\n0          sweden          powerlaw_al -0.650344  2.128600e-109   468.683063   \n1          sweden            lognormal  0.972541   1.456236e-01  1525.466447   \n2          sweden  truncated_power_law  0.931649   4.704071e-08  1292.176213   \n3     netherlands          powerlaw_al  0.923065   2.146167e-01  1174.026537   \n4     netherlands            lognormal  0.960375   9.226794e-02  1331.277126   \n..            ...                  ...       ...            ...          ...   \n61  stpertersburg            lognormal  0.968312   5.215533e-03  1798.197700   \n62  stpertersburg  truncated_power_law  0.934958   5.859995e-24  1586.615681   \n63       surabaya          powerlaw_al  0.901017   2.666228e-04  1705.426513   \n64       surabaya            lognormal  0.933715   1.849031e-01  1857.000057   \n65       surabaya  truncated_power_law  0.899921   8.667992e-23  1703.263302   \n\n    success    median         ks  \n0      True  5.643772  24.513276  \n1      True  5.643772  24.513276  \n2      True  5.643772  24.513276  \n3      True  7.289438   6.322702  \n4      True  7.289438   6.322702  \n..      ...       ...        ...  \n61     True  5.657114  52.289315  \n62     True  5.657114  52.289315  \n63     True  4.529086  84.407852  \n64     True  4.529086  84.407852  \n65     True  4.529086  84.407852  \n\n[66 rows x 8 columns]",
      "text/html": "<div>\n<style scoped>\n    .dataframe tbody tr th:only-of-type {\n        vertical-align: middle;\n    }\n\n    .dataframe tbody tr th {\n        vertical-align: top;\n    }\n\n    .dataframe thead th {\n        text-align: right;\n    }\n</style>\n<table border=\"1\" class=\"dataframe\">\n  <thead>\n    <tr style=\"text-align: right;\">\n      <th></th>\n      <th>region</th>\n      <th>func_name</th>\n      <th>r2</th>\n      <th>ks_p</th>\n      <th>aic</th>\n      <th>success</th>\n      <th>median</th>\n      <th>ks</th>\n    </tr>\n  </thead>\n  <tbody>\n    <tr>\n      <th>0</th>\n      <td>sweden</td>\n      <td>powerlaw_al</td>\n      <td>-0.650344</td>\n      <td>2.128600e-109</td>\n      <td>468.683063</td>\n      <td>True</td>\n      <td>5.643772</td>\n      <td>24.513276</td>\n    </tr>\n    <tr>\n      <th>1</th>\n      <td>sweden</td>\n      <td>lognormal</td>\n      <td>0.972541</td>\n      <td>1.456236e-01</td>\n      <td>1525.466447</td>\n      <td>True</td>\n      <td>5.643772</td>\n      <td>24.513276</td>\n    </tr>\n    <tr>\n      <th>2</th>\n      <td>sweden</td>\n      <td>truncated_power_law</td>\n      <td>0.931649</td>\n      <td>4.704071e-08</td>\n      <td>1292.176213</td>\n      <td>True</td>\n      <td>5.643772</td>\n      <td>24.513276</td>\n    </tr>\n    <tr>\n      <th>3</th>\n      <td>netherlands</td>\n      <td>powerlaw_al</td>\n      <td>0.923065</td>\n      <td>2.146167e-01</td>\n      <td>1174.026537</td>\n      <td>True</td>\n      <td>7.289438</td>\n      <td>6.322702</td>\n    </tr>\n    <tr>\n      <th>4</th>\n      <td>netherlands</td>\n      <td>lognormal</td>\n      <td>0.960375</td>\n      <td>9.226794e-02</td>\n      <td>1331.277126</td>\n      <td>True</td>\n      <td>7.289438</td>\n      <td>6.322702</td>\n    </tr>\n    <tr>\n      <th>...</th>\n      <td>...</td>\n      <td>...</td>\n      <td>...</td>\n      <td>...</td>\n      <td>...</td>\n      <td>...</td>\n      <td>...</td>\n      <td>...</td>\n    </tr>\n    <tr>\n      <th>61</th>\n      <td>stpertersburg</td>\n      <td>lognormal</td>\n      <td>0.968312</td>\n      <td>5.215533e-03</td>\n      <td>1798.197700</td>\n      <td>True</td>\n      <td>5.657114</td>\n      <td>52.289315</td>\n    </tr>\n    <tr>\n      <th>62</th>\n      <td>stpertersburg</td>\n      <td>truncated_power_law</td>\n      <td>0.934958</td>\n      <td>5.859995e-24</td>\n      <td>1586.615681</td>\n      <td>True</td>\n      <td>5.657114</td>\n      <td>52.289315</td>\n    </tr>\n    <tr>\n      <th>63</th>\n      <td>surabaya</td>\n      <td>powerlaw_al</td>\n      <td>0.901017</td>\n      <td>2.666228e-04</td>\n      <td>1705.426513</td>\n      <td>True</td>\n      <td>4.529086</td>\n      <td>84.407852</td>\n    </tr>\n    <tr>\n      <th>64</th>\n      <td>surabaya</td>\n      <td>lognormal</td>\n      <td>0.933715</td>\n      <td>1.849031e-01</td>\n      <td>1857.000057</td>\n      <td>True</td>\n      <td>4.529086</td>\n      <td>84.407852</td>\n    </tr>\n    <tr>\n      <th>65</th>\n      <td>surabaya</td>\n      <td>truncated_power_law</td>\n      <td>0.899921</td>\n      <td>8.667992e-23</td>\n      <td>1703.263302</td>\n      <td>True</td>\n      <td>4.529086</td>\n      <td>84.407852</td>\n    </tr>\n  </tbody>\n</table>\n<p>66 rows × 8 columns</p>\n</div>"
     },
     "execution_count": 185,
     "metadata": {},
     "output_type": "execute_result"
    }
   ],
   "source": [
    "list_paras = []\n",
    "paras_dict = {}\n",
    "df = pd.read_csv(f'../../results/multi-region_trips_rid_{runid}_pcdf.csv')\n",
    "df = df.loc[df.type == 'pdf', :]\n",
    "for region in tqdm(region_list, desc='PDF and fitting'):\n",
    "    df_out = df.loc[df.region==region, :]\n",
    "    df_raw = pd.read_csv(f'../../dbs/{region}/visits/visits_{runid}_trips_dom.csv')\n",
    "    df_raw = df_raw.loc[df_raw.distance >= 0.1, :]\n",
    "    paras_dict[region] = {}\n",
    "    for func_name in ['powerlaw_al', 'lognormal', 'truncated_power_law']:\n",
    "        #ot = pdf_fit_r(df_out, region, func=func, func_name=func_name)\n",
    "        ot, paras_rec_dict = pdf_fit(df_raw, df_out, region, func_name=func_name)\n",
    "        paras_dict[region][func_name] = paras_rec_dict\n",
    "        list_paras.append(ot)\n",
    "df_paras = pd.DataFrame(list_paras, columns=['region', 'func_name', 'r2', 'ks_p', 'aic', 'success', 'median', 'ks'])\n",
    "df_paras"
   ],
   "metadata": {
    "collapsed": false,
    "pycharm": {
     "name": "#%%\n"
    }
   }
  },
  {
   "cell_type": "code",
   "execution_count": 186,
   "outputs": [
    {
     "data": {
      "text/plain": "           region    func_name        r2      ks_p    median          ks\n0       australia    lognormal  0.970512  0.089175  5.857203   47.539585\n1         austria    lognormal  0.923983  0.717241  4.237668   27.915971\n2       barcelona    lognormal  0.952476  0.076666  3.406121   89.540808\n3        capetown    lognormal  0.909747  0.475920  5.501415   37.173614\n4            cebu    lognormal  0.953076  0.265284  3.541143   27.993374\n5           egypt    lognormal  0.897992  0.371112  5.178500   23.819367\n6     guadalajara    lognormal  0.902858  0.275430  5.166505   44.405040\n7         jakarta    lognormal  0.945387  0.005844  5.105821   88.726032\n8    johannesburg    lognormal  0.911195  0.488581  7.287211   37.673390\n9     kualalumpur    lognormal  0.952483  0.017769  6.505288  166.130684\n10          lagos    lognormal  0.926291  0.324215  3.980836   62.209625\n11         madrid    lognormal  0.974219  0.016371  4.423456   20.470743\n12         manila  powerlaw_al  0.925934  0.115445  5.192840   54.666877\n13         moscow    lognormal  0.964529  0.061085  8.005731   52.789087\n14        nairobi    lognormal  0.886322  0.424698  4.113956   33.501288\n15    netherlands    lognormal  0.960375  0.092268  7.289438    6.322702\n16            rio    lognormal  0.957468  0.036937  6.937114   63.760574\n17       saopaulo    lognormal  0.968504  0.008123  5.445212   68.286222\n18    saudiarabia    lognormal  0.909736  0.095791  6.708985   35.054989\n19  stpertersburg    lognormal  0.968312  0.005216  5.657114   52.289315\n20       surabaya    lognormal  0.933715  0.184903  4.529086   84.407852\n21         sweden    lognormal  0.972541  0.145624  5.643772   24.513276",
      "text/html": "<div>\n<style scoped>\n    .dataframe tbody tr th:only-of-type {\n        vertical-align: middle;\n    }\n\n    .dataframe tbody tr th {\n        vertical-align: top;\n    }\n\n    .dataframe thead th {\n        text-align: right;\n    }\n</style>\n<table border=\"1\" class=\"dataframe\">\n  <thead>\n    <tr style=\"text-align: right;\">\n      <th></th>\n      <th>region</th>\n      <th>func_name</th>\n      <th>r2</th>\n      <th>ks_p</th>\n      <th>median</th>\n      <th>ks</th>\n    </tr>\n  </thead>\n  <tbody>\n    <tr>\n      <th>0</th>\n      <td>australia</td>\n      <td>lognormal</td>\n      <td>0.970512</td>\n      <td>0.089175</td>\n      <td>5.857203</td>\n      <td>47.539585</td>\n    </tr>\n    <tr>\n      <th>1</th>\n      <td>austria</td>\n      <td>lognormal</td>\n      <td>0.923983</td>\n      <td>0.717241</td>\n      <td>4.237668</td>\n      <td>27.915971</td>\n    </tr>\n    <tr>\n      <th>2</th>\n      <td>barcelona</td>\n      <td>lognormal</td>\n      <td>0.952476</td>\n      <td>0.076666</td>\n      <td>3.406121</td>\n      <td>89.540808</td>\n    </tr>\n    <tr>\n      <th>3</th>\n      <td>capetown</td>\n      <td>lognormal</td>\n      <td>0.909747</td>\n      <td>0.475920</td>\n      <td>5.501415</td>\n      <td>37.173614</td>\n    </tr>\n    <tr>\n      <th>4</th>\n      <td>cebu</td>\n      <td>lognormal</td>\n      <td>0.953076</td>\n      <td>0.265284</td>\n      <td>3.541143</td>\n      <td>27.993374</td>\n    </tr>\n    <tr>\n      <th>5</th>\n      <td>egypt</td>\n      <td>lognormal</td>\n      <td>0.897992</td>\n      <td>0.371112</td>\n      <td>5.178500</td>\n      <td>23.819367</td>\n    </tr>\n    <tr>\n      <th>6</th>\n      <td>guadalajara</td>\n      <td>lognormal</td>\n      <td>0.902858</td>\n      <td>0.275430</td>\n      <td>5.166505</td>\n      <td>44.405040</td>\n    </tr>\n    <tr>\n      <th>7</th>\n      <td>jakarta</td>\n      <td>lognormal</td>\n      <td>0.945387</td>\n      <td>0.005844</td>\n      <td>5.105821</td>\n      <td>88.726032</td>\n    </tr>\n    <tr>\n      <th>8</th>\n      <td>johannesburg</td>\n      <td>lognormal</td>\n      <td>0.911195</td>\n      <td>0.488581</td>\n      <td>7.287211</td>\n      <td>37.673390</td>\n    </tr>\n    <tr>\n      <th>9</th>\n      <td>kualalumpur</td>\n      <td>lognormal</td>\n      <td>0.952483</td>\n      <td>0.017769</td>\n      <td>6.505288</td>\n      <td>166.130684</td>\n    </tr>\n    <tr>\n      <th>10</th>\n      <td>lagos</td>\n      <td>lognormal</td>\n      <td>0.926291</td>\n      <td>0.324215</td>\n      <td>3.980836</td>\n      <td>62.209625</td>\n    </tr>\n    <tr>\n      <th>11</th>\n      <td>madrid</td>\n      <td>lognormal</td>\n      <td>0.974219</td>\n      <td>0.016371</td>\n      <td>4.423456</td>\n      <td>20.470743</td>\n    </tr>\n    <tr>\n      <th>12</th>\n      <td>manila</td>\n      <td>powerlaw_al</td>\n      <td>0.925934</td>\n      <td>0.115445</td>\n      <td>5.192840</td>\n      <td>54.666877</td>\n    </tr>\n    <tr>\n      <th>13</th>\n      <td>moscow</td>\n      <td>lognormal</td>\n      <td>0.964529</td>\n      <td>0.061085</td>\n      <td>8.005731</td>\n      <td>52.789087</td>\n    </tr>\n    <tr>\n      <th>14</th>\n      <td>nairobi</td>\n      <td>lognormal</td>\n      <td>0.886322</td>\n      <td>0.424698</td>\n      <td>4.113956</td>\n      <td>33.501288</td>\n    </tr>\n    <tr>\n      <th>15</th>\n      <td>netherlands</td>\n      <td>lognormal</td>\n      <td>0.960375</td>\n      <td>0.092268</td>\n      <td>7.289438</td>\n      <td>6.322702</td>\n    </tr>\n    <tr>\n      <th>16</th>\n      <td>rio</td>\n      <td>lognormal</td>\n      <td>0.957468</td>\n      <td>0.036937</td>\n      <td>6.937114</td>\n      <td>63.760574</td>\n    </tr>\n    <tr>\n      <th>17</th>\n      <td>saopaulo</td>\n      <td>lognormal</td>\n      <td>0.968504</td>\n      <td>0.008123</td>\n      <td>5.445212</td>\n      <td>68.286222</td>\n    </tr>\n    <tr>\n      <th>18</th>\n      <td>saudiarabia</td>\n      <td>lognormal</td>\n      <td>0.909736</td>\n      <td>0.095791</td>\n      <td>6.708985</td>\n      <td>35.054989</td>\n    </tr>\n    <tr>\n      <th>19</th>\n      <td>stpertersburg</td>\n      <td>lognormal</td>\n      <td>0.968312</td>\n      <td>0.005216</td>\n      <td>5.657114</td>\n      <td>52.289315</td>\n    </tr>\n    <tr>\n      <th>20</th>\n      <td>surabaya</td>\n      <td>lognormal</td>\n      <td>0.933715</td>\n      <td>0.184903</td>\n      <td>4.529086</td>\n      <td>84.407852</td>\n    </tr>\n    <tr>\n      <th>21</th>\n      <td>sweden</td>\n      <td>lognormal</td>\n      <td>0.972541</td>\n      <td>0.145624</td>\n      <td>5.643772</td>\n      <td>24.513276</td>\n    </tr>\n  </tbody>\n</table>\n</div>"
     },
     "execution_count": 186,
     "metadata": {},
     "output_type": "execute_result"
    }
   ],
   "source": [
    "def select(data):\n",
    "    dat = data.loc[data.ks_p > 0.05, :]\n",
    "    if len(dat) > 0:\n",
    "        return dat.loc[dat[\"r2\"].idxmax(), ['func_name', 'r2', 'ks_p', 'median', 'ks']] #ks_p\n",
    "    else:\n",
    "        return data.loc[data[\"r2\"].idxmax(), ['func_name', 'r2', 'ks_p', 'median', 'ks']] #ks_p\n",
    "df_paras_optimal = df_paras.groupby(\"region\").apply(select).reset_index()\n",
    "df_paras_optimal"
   ],
   "metadata": {
    "collapsed": false,
    "pycharm": {
     "name": "#%%\n"
    }
   }
  },
  {
   "cell_type": "code",
   "execution_count": 187,
   "outputs": [
    {
     "data": {
      "text/plain": "           region  func_name        r2      ks_p    median          ks\n7         jakarta  lognormal  0.945387  0.005844  5.105821   88.726032\n9     kualalumpur  lognormal  0.952483  0.017769  6.505288  166.130684\n11         madrid  lognormal  0.974219  0.016371  4.423456   20.470743\n16            rio  lognormal  0.957468  0.036937  6.937114   63.760574\n17       saopaulo  lognormal  0.968504  0.008123  5.445212   68.286222\n19  stpertersburg  lognormal  0.968312  0.005216  5.657114   52.289315",
      "text/html": "<div>\n<style scoped>\n    .dataframe tbody tr th:only-of-type {\n        vertical-align: middle;\n    }\n\n    .dataframe tbody tr th {\n        vertical-align: top;\n    }\n\n    .dataframe thead th {\n        text-align: right;\n    }\n</style>\n<table border=\"1\" class=\"dataframe\">\n  <thead>\n    <tr style=\"text-align: right;\">\n      <th></th>\n      <th>region</th>\n      <th>func_name</th>\n      <th>r2</th>\n      <th>ks_p</th>\n      <th>median</th>\n      <th>ks</th>\n    </tr>\n  </thead>\n  <tbody>\n    <tr>\n      <th>7</th>\n      <td>jakarta</td>\n      <td>lognormal</td>\n      <td>0.945387</td>\n      <td>0.005844</td>\n      <td>5.105821</td>\n      <td>88.726032</td>\n    </tr>\n    <tr>\n      <th>9</th>\n      <td>kualalumpur</td>\n      <td>lognormal</td>\n      <td>0.952483</td>\n      <td>0.017769</td>\n      <td>6.505288</td>\n      <td>166.130684</td>\n    </tr>\n    <tr>\n      <th>11</th>\n      <td>madrid</td>\n      <td>lognormal</td>\n      <td>0.974219</td>\n      <td>0.016371</td>\n      <td>4.423456</td>\n      <td>20.470743</td>\n    </tr>\n    <tr>\n      <th>16</th>\n      <td>rio</td>\n      <td>lognormal</td>\n      <td>0.957468</td>\n      <td>0.036937</td>\n      <td>6.937114</td>\n      <td>63.760574</td>\n    </tr>\n    <tr>\n      <th>17</th>\n      <td>saopaulo</td>\n      <td>lognormal</td>\n      <td>0.968504</td>\n      <td>0.008123</td>\n      <td>5.445212</td>\n      <td>68.286222</td>\n    </tr>\n    <tr>\n      <th>19</th>\n      <td>stpertersburg</td>\n      <td>lognormal</td>\n      <td>0.968312</td>\n      <td>0.005216</td>\n      <td>5.657114</td>\n      <td>52.289315</td>\n    </tr>\n  </tbody>\n</table>\n</div>"
     },
     "execution_count": 187,
     "metadata": {},
     "output_type": "execute_result"
    }
   ],
   "source": [
    "df_paras_optimal.loc[df_paras_optimal.ks_p <= 0.05, :]"
   ],
   "metadata": {
    "collapsed": false,
    "pycharm": {
     "name": "#%%\n"
    }
   }
  },
  {
   "cell_type": "markdown",
   "source": [
    "### 2.3 Save the modelled data with the optimal parameters and estimated pdf and cdf"
   ],
   "metadata": {
    "collapsed": false
   }
  },
  {
   "cell_type": "code",
   "execution_count": 188,
   "outputs": [],
   "source": [
    "for var in ['para1', 'para2', 'para3']:\n",
    "    df_paras_optimal.loc[:, var] = df_paras_optimal.apply(lambda row: paras_dict[row['region']][row['func_name']][var],\n",
    "                                                          axis=1)"
   ],
   "metadata": {
    "collapsed": false,
    "pycharm": {
     "name": "#%%\n"
    }
   }
  },
  {
   "cell_type": "code",
   "execution_count": 189,
   "outputs": [],
   "source": [
    "df_paras_optimal.to_csv(f'../../results/multi-region_trips_rid_{runid}_paras.csv', index=False)"
   ],
   "metadata": {
    "collapsed": false,
    "pycharm": {
     "name": "#%%\n"
    }
   }
  },
  {
   "cell_type": "code",
   "execution_count": 191,
   "outputs": [],
   "source": [
    "# Save pdf and cdf\n",
    "#  paras_dict = {'para1': para1, 'para2': para2, 'para3': para3,\n",
    "#  'd': x, 'd_P': x[1:], 'p_dhat': yhat, 'P_dhat': np.cumsum(np.diff(x)*yhat[1:])}\n",
    "list_df_out_m = []\n",
    "def prep_estimated_pdf_cdf(row):\n",
    "    tp1 = pd.DataFrame()\n",
    "    tp1.loc[:, 'd'] = paras_dict[row['region']][row['func_name']]['d']\n",
    "    tp1.loc[:, 'y'] = paras_dict[row['region']][row['func_name']]['p_dhat']\n",
    "    tp1.loc[:, 'type'] = 'pdf'\n",
    "    tp2 = pd.DataFrame()\n",
    "    tp2.loc[:, 'd'] = paras_dict[row['region']][row['func_name']]['d_P']\n",
    "    tp2.loc[:, 'y'] = paras_dict[row['region']][row['func_name']]['P_dhat']\n",
    "    tp2.loc[:, 'type'] = 'cdf'\n",
    "    tp = pd.concat([tp1, tp2])\n",
    "    tp.loc[:, 'region'] = row['region']\n",
    "    tp.loc[:, 'func_name'] = row['func_name']\n",
    "    return tp\n",
    "\n",
    "for _, row in df_paras_optimal.iterrows():\n",
    "    list_df_out_m.append(prep_estimated_pdf_cdf(row))\n",
    "df_out_m = pd.concat(list_df_out_m)"
   ],
   "metadata": {
    "collapsed": false,
    "pycharm": {
     "name": "#%%\n"
    }
   }
  },
  {
   "cell_type": "code",
   "execution_count": 192,
   "outputs": [],
   "source": [
    "df_out_m.to_csv(f'../../results/multi-region_trips_rid_{runid}_pcdf_model.csv', index=False)"
   ],
   "metadata": {
    "collapsed": false,
    "pycharm": {
     "name": "#%%\n"
    }
   }
  },
  {
   "cell_type": "markdown",
   "source": [
    "## 3. Parameters and region characteristics"
   ],
   "metadata": {
    "collapsed": false
   }
  },
  {
   "cell_type": "code",
   "execution_count": 207,
   "outputs": [
    {
     "data": {
      "text/plain": "Index(['region', 'func_name', 'r2', 'ks_p', 'median', 'ks', 'para1', 'para2',\n       'para3', 'num_users', 'num_geotweets', 'pkt', 'pkt_inland', 'num_trips',\n       'num_trips_inland', 'days', 'pkt_yr', 'num_trips_yr', 'pkt_inland_yr',\n       'num_trips_inland_yr', 'gdp_capita', 'region_name', 'country',\n       'pop_country', 'pkt_yr_capita', 'pkt_inland_yr_capita', 'city'],\n      dtype='object')"
     },
     "execution_count": 207,
     "metadata": {},
     "output_type": "execute_result"
    }
   ],
   "source": [
    "df_paras = pd.read_csv(f'../../results/multi-region_trips_rid_{runid}_paras.csv')\n",
    "df_stats = pd.read_csv(f'../../results/multi-region_stats_rid_{runid}.csv')\n",
    "df_combi = pd.merge(df_paras, df_stats, on='region')\n",
    "df_combi.columns"
   ],
   "metadata": {
    "collapsed": false,
    "pycharm": {
     "name": "#%%\n"
    }
   }
  },
  {
   "cell_type": "code",
   "execution_count": 208,
   "outputs": [
    {
     "data": {
      "text/plain": "           region          ks    median        r2      ks_p    func_name  \\\n0       australia   47.539585  5.857203  0.970512  0.089175    lognormal   \n1         austria   27.915971  4.237668  0.923983  0.717241    lognormal   \n2       barcelona   89.540808  3.406121  0.952476  0.076666    lognormal   \n3        capetown   37.173614  5.501415  0.909747  0.475920    lognormal   \n4            cebu   27.993374  3.541143  0.953076  0.265284    lognormal   \n5           egypt   23.819367  5.178500  0.897992  0.371112    lognormal   \n6     guadalajara   44.405040  5.166505  0.902858  0.275430    lognormal   \n7         jakarta   88.726032  5.105821  0.945387  0.005844    lognormal   \n8    johannesburg   37.673390  7.287211  0.911195  0.488581    lognormal   \n9     kualalumpur  166.130684  6.505288  0.952483  0.017769    lognormal   \n10          lagos   62.209625  3.980836  0.926291  0.324215    lognormal   \n11         madrid   20.470743  4.423456  0.974219  0.016371    lognormal   \n12         manila   54.666877  5.192840  0.925934  0.115445  powerlaw_al   \n13         moscow   52.789087  8.005731  0.964529  0.061085    lognormal   \n14        nairobi   33.501288  4.113956  0.886322  0.424698    lognormal   \n15    netherlands    6.322702  7.289438  0.960375  0.092268    lognormal   \n16            rio   63.760574  6.937114  0.957468  0.036937    lognormal   \n17       saopaulo   68.286222  5.445212  0.968504  0.008123    lognormal   \n18    saudiarabia   35.054989  6.708985  0.909736  0.095791    lognormal   \n19  stpertersburg   52.289315  5.657114  0.968312  0.005216    lognormal   \n20       surabaya   84.407852  4.529086  0.933715  0.184903    lognormal   \n21         sweden   24.513276  5.643772  0.972541  0.145624    lognormal   \n\n    num_users  num_geotweets  pkt_inland_yr_capita  gdp_capita  \\\n0        3310         847668             16.369851       57.40   \n1         729         168364              5.548505       51.50   \n2        1891         482357             10.033088       33.10   \n3        1092         193993             14.822132        6.20   \n4        1486         400094              6.533161        3.10   \n5        1464         234322              6.792347        2.55   \n6         684         212681              9.681318       17.88   \n7       13088        4650699              8.369519       19.03   \n8        1268         214187             12.603423       16.37   \n9        4663        1543306              6.455785       11.14   \n10        812          96943              4.760548        2.22   \n11       3172         671234             12.231469       48.77   \n12      11997        3482176              5.794262        9.60   \n13       4206        1628759             20.085811       22.06   \n14        644         166404              4.199866        2.01   \n15       5375        1479674              4.637036       53.02   \n16       6063        1593782             11.140737       11.02   \n17      10943        3513796             10.010865       27.13   \n18       3117         626427              9.095779       23.34   \n19       1386         508124             19.100982       12.40   \n20       2414         803844              7.434178       14.20   \n21       3961        1248158              8.682615       54.61   \n\n                   region_name  city     para1     para2      area    pop  \n0                    Australia     0  1.649611  1.670024   7692000  24.99  \n1                      Austria     0  1.408290  1.627560     83879   8.56  \n2             Barcelona, Spain     1  1.285092  1.509412    505990   5.56  \n3      Cape Town, South Africa     1  1.494010  1.664408   1220000   0.43  \n4            Cebu, Philippines     1  1.329132  1.533511    300000   0.92  \n5                        Egypt     0  1.145043  1.695983   1010000  98.42  \n6          Guadalajara, Mexico     1  1.781453  1.705999   1973000   1.50  \n7           Jakarta, Indonesia     1  1.446031  1.690288   1905000   9.61  \n8   Johannesburg, South Africa     1  1.574816  1.792949   1220000   0.96  \n9       Kuala Lumpur, Malaysia     1  2.089194  1.932672    329847   1.81  \n10              Lagos, Nigeria     1  1.073923  1.582617    923768  21.00  \n11               Madrid, Spain     1  1.336703  1.579612    505990   6.64  \n12         Manila, Philippines     1  2.172386  1.766872    300000   1.78  \n13              Moscow, Russia     1  1.965462  1.855475  17100000  11.92  \n14              Nairobi, Kenya     1  1.131865  1.648525    580367   4.40  \n15             The Netherlands     0  1.679278  1.690576     41543  17.28  \n16      Rio de Janeiro, Brazil     1  1.714723  1.750907   8516000   6.32  \n17           São Paulo, Brazil     1  1.646187  1.709493   8516000  12.18  \n18                Saudi Arabia     0  1.838313  1.810704   2150000  33.70  \n19    Saint Petersburg, Russia     1  1.674358  1.634186  17100000   4.99  \n20         Surabaya, Indonesia     1  1.489621  1.625238   1905000   2.77  \n21                      Sweden     0  1.521262  1.596523    450295  10.23  ",
      "text/html": "<div>\n<style scoped>\n    .dataframe tbody tr th:only-of-type {\n        vertical-align: middle;\n    }\n\n    .dataframe tbody tr th {\n        vertical-align: top;\n    }\n\n    .dataframe thead th {\n        text-align: right;\n    }\n</style>\n<table border=\"1\" class=\"dataframe\">\n  <thead>\n    <tr style=\"text-align: right;\">\n      <th></th>\n      <th>region</th>\n      <th>ks</th>\n      <th>median</th>\n      <th>r2</th>\n      <th>ks_p</th>\n      <th>func_name</th>\n      <th>num_users</th>\n      <th>num_geotweets</th>\n      <th>pkt_inland_yr_capita</th>\n      <th>gdp_capita</th>\n      <th>region_name</th>\n      <th>city</th>\n      <th>para1</th>\n      <th>para2</th>\n      <th>area</th>\n      <th>pop</th>\n    </tr>\n  </thead>\n  <tbody>\n    <tr>\n      <th>0</th>\n      <td>australia</td>\n      <td>47.539585</td>\n      <td>5.857203</td>\n      <td>0.970512</td>\n      <td>0.089175</td>\n      <td>lognormal</td>\n      <td>3310</td>\n      <td>847668</td>\n      <td>16.369851</td>\n      <td>57.40</td>\n      <td>Australia</td>\n      <td>0</td>\n      <td>1.649611</td>\n      <td>1.670024</td>\n      <td>7692000</td>\n      <td>24.99</td>\n    </tr>\n    <tr>\n      <th>1</th>\n      <td>austria</td>\n      <td>27.915971</td>\n      <td>4.237668</td>\n      <td>0.923983</td>\n      <td>0.717241</td>\n      <td>lognormal</td>\n      <td>729</td>\n      <td>168364</td>\n      <td>5.548505</td>\n      <td>51.50</td>\n      <td>Austria</td>\n      <td>0</td>\n      <td>1.408290</td>\n      <td>1.627560</td>\n      <td>83879</td>\n      <td>8.56</td>\n    </tr>\n    <tr>\n      <th>2</th>\n      <td>barcelona</td>\n      <td>89.540808</td>\n      <td>3.406121</td>\n      <td>0.952476</td>\n      <td>0.076666</td>\n      <td>lognormal</td>\n      <td>1891</td>\n      <td>482357</td>\n      <td>10.033088</td>\n      <td>33.10</td>\n      <td>Barcelona, Spain</td>\n      <td>1</td>\n      <td>1.285092</td>\n      <td>1.509412</td>\n      <td>505990</td>\n      <td>5.56</td>\n    </tr>\n    <tr>\n      <th>3</th>\n      <td>capetown</td>\n      <td>37.173614</td>\n      <td>5.501415</td>\n      <td>0.909747</td>\n      <td>0.475920</td>\n      <td>lognormal</td>\n      <td>1092</td>\n      <td>193993</td>\n      <td>14.822132</td>\n      <td>6.20</td>\n      <td>Cape Town, South Africa</td>\n      <td>1</td>\n      <td>1.494010</td>\n      <td>1.664408</td>\n      <td>1220000</td>\n      <td>0.43</td>\n    </tr>\n    <tr>\n      <th>4</th>\n      <td>cebu</td>\n      <td>27.993374</td>\n      <td>3.541143</td>\n      <td>0.953076</td>\n      <td>0.265284</td>\n      <td>lognormal</td>\n      <td>1486</td>\n      <td>400094</td>\n      <td>6.533161</td>\n      <td>3.10</td>\n      <td>Cebu, Philippines</td>\n      <td>1</td>\n      <td>1.329132</td>\n      <td>1.533511</td>\n      <td>300000</td>\n      <td>0.92</td>\n    </tr>\n    <tr>\n      <th>5</th>\n      <td>egypt</td>\n      <td>23.819367</td>\n      <td>5.178500</td>\n      <td>0.897992</td>\n      <td>0.371112</td>\n      <td>lognormal</td>\n      <td>1464</td>\n      <td>234322</td>\n      <td>6.792347</td>\n      <td>2.55</td>\n      <td>Egypt</td>\n      <td>0</td>\n      <td>1.145043</td>\n      <td>1.695983</td>\n      <td>1010000</td>\n      <td>98.42</td>\n    </tr>\n    <tr>\n      <th>6</th>\n      <td>guadalajara</td>\n      <td>44.405040</td>\n      <td>5.166505</td>\n      <td>0.902858</td>\n      <td>0.275430</td>\n      <td>lognormal</td>\n      <td>684</td>\n      <td>212681</td>\n      <td>9.681318</td>\n      <td>17.88</td>\n      <td>Guadalajara, Mexico</td>\n      <td>1</td>\n      <td>1.781453</td>\n      <td>1.705999</td>\n      <td>1973000</td>\n      <td>1.50</td>\n    </tr>\n    <tr>\n      <th>7</th>\n      <td>jakarta</td>\n      <td>88.726032</td>\n      <td>5.105821</td>\n      <td>0.945387</td>\n      <td>0.005844</td>\n      <td>lognormal</td>\n      <td>13088</td>\n      <td>4650699</td>\n      <td>8.369519</td>\n      <td>19.03</td>\n      <td>Jakarta, Indonesia</td>\n      <td>1</td>\n      <td>1.446031</td>\n      <td>1.690288</td>\n      <td>1905000</td>\n      <td>9.61</td>\n    </tr>\n    <tr>\n      <th>8</th>\n      <td>johannesburg</td>\n      <td>37.673390</td>\n      <td>7.287211</td>\n      <td>0.911195</td>\n      <td>0.488581</td>\n      <td>lognormal</td>\n      <td>1268</td>\n      <td>214187</td>\n      <td>12.603423</td>\n      <td>16.37</td>\n      <td>Johannesburg, South Africa</td>\n      <td>1</td>\n      <td>1.574816</td>\n      <td>1.792949</td>\n      <td>1220000</td>\n      <td>0.96</td>\n    </tr>\n    <tr>\n      <th>9</th>\n      <td>kualalumpur</td>\n      <td>166.130684</td>\n      <td>6.505288</td>\n      <td>0.952483</td>\n      <td>0.017769</td>\n      <td>lognormal</td>\n      <td>4663</td>\n      <td>1543306</td>\n      <td>6.455785</td>\n      <td>11.14</td>\n      <td>Kuala Lumpur, Malaysia</td>\n      <td>1</td>\n      <td>2.089194</td>\n      <td>1.932672</td>\n      <td>329847</td>\n      <td>1.81</td>\n    </tr>\n    <tr>\n      <th>10</th>\n      <td>lagos</td>\n      <td>62.209625</td>\n      <td>3.980836</td>\n      <td>0.926291</td>\n      <td>0.324215</td>\n      <td>lognormal</td>\n      <td>812</td>\n      <td>96943</td>\n      <td>4.760548</td>\n      <td>2.22</td>\n      <td>Lagos, Nigeria</td>\n      <td>1</td>\n      <td>1.073923</td>\n      <td>1.582617</td>\n      <td>923768</td>\n      <td>21.00</td>\n    </tr>\n    <tr>\n      <th>11</th>\n      <td>madrid</td>\n      <td>20.470743</td>\n      <td>4.423456</td>\n      <td>0.974219</td>\n      <td>0.016371</td>\n      <td>lognormal</td>\n      <td>3172</td>\n      <td>671234</td>\n      <td>12.231469</td>\n      <td>48.77</td>\n      <td>Madrid, Spain</td>\n      <td>1</td>\n      <td>1.336703</td>\n      <td>1.579612</td>\n      <td>505990</td>\n      <td>6.64</td>\n    </tr>\n    <tr>\n      <th>12</th>\n      <td>manila</td>\n      <td>54.666877</td>\n      <td>5.192840</td>\n      <td>0.925934</td>\n      <td>0.115445</td>\n      <td>powerlaw_al</td>\n      <td>11997</td>\n      <td>3482176</td>\n      <td>5.794262</td>\n      <td>9.60</td>\n      <td>Manila, Philippines</td>\n      <td>1</td>\n      <td>2.172386</td>\n      <td>1.766872</td>\n      <td>300000</td>\n      <td>1.78</td>\n    </tr>\n    <tr>\n      <th>13</th>\n      <td>moscow</td>\n      <td>52.789087</td>\n      <td>8.005731</td>\n      <td>0.964529</td>\n      <td>0.061085</td>\n      <td>lognormal</td>\n      <td>4206</td>\n      <td>1628759</td>\n      <td>20.085811</td>\n      <td>22.06</td>\n      <td>Moscow, Russia</td>\n      <td>1</td>\n      <td>1.965462</td>\n      <td>1.855475</td>\n      <td>17100000</td>\n      <td>11.92</td>\n    </tr>\n    <tr>\n      <th>14</th>\n      <td>nairobi</td>\n      <td>33.501288</td>\n      <td>4.113956</td>\n      <td>0.886322</td>\n      <td>0.424698</td>\n      <td>lognormal</td>\n      <td>644</td>\n      <td>166404</td>\n      <td>4.199866</td>\n      <td>2.01</td>\n      <td>Nairobi, Kenya</td>\n      <td>1</td>\n      <td>1.131865</td>\n      <td>1.648525</td>\n      <td>580367</td>\n      <td>4.40</td>\n    </tr>\n    <tr>\n      <th>15</th>\n      <td>netherlands</td>\n      <td>6.322702</td>\n      <td>7.289438</td>\n      <td>0.960375</td>\n      <td>0.092268</td>\n      <td>lognormal</td>\n      <td>5375</td>\n      <td>1479674</td>\n      <td>4.637036</td>\n      <td>53.02</td>\n      <td>The Netherlands</td>\n      <td>0</td>\n      <td>1.679278</td>\n      <td>1.690576</td>\n      <td>41543</td>\n      <td>17.28</td>\n    </tr>\n    <tr>\n      <th>16</th>\n      <td>rio</td>\n      <td>63.760574</td>\n      <td>6.937114</td>\n      <td>0.957468</td>\n      <td>0.036937</td>\n      <td>lognormal</td>\n      <td>6063</td>\n      <td>1593782</td>\n      <td>11.140737</td>\n      <td>11.02</td>\n      <td>Rio de Janeiro, Brazil</td>\n      <td>1</td>\n      <td>1.714723</td>\n      <td>1.750907</td>\n      <td>8516000</td>\n      <td>6.32</td>\n    </tr>\n    <tr>\n      <th>17</th>\n      <td>saopaulo</td>\n      <td>68.286222</td>\n      <td>5.445212</td>\n      <td>0.968504</td>\n      <td>0.008123</td>\n      <td>lognormal</td>\n      <td>10943</td>\n      <td>3513796</td>\n      <td>10.010865</td>\n      <td>27.13</td>\n      <td>São Paulo, Brazil</td>\n      <td>1</td>\n      <td>1.646187</td>\n      <td>1.709493</td>\n      <td>8516000</td>\n      <td>12.18</td>\n    </tr>\n    <tr>\n      <th>18</th>\n      <td>saudiarabia</td>\n      <td>35.054989</td>\n      <td>6.708985</td>\n      <td>0.909736</td>\n      <td>0.095791</td>\n      <td>lognormal</td>\n      <td>3117</td>\n      <td>626427</td>\n      <td>9.095779</td>\n      <td>23.34</td>\n      <td>Saudi Arabia</td>\n      <td>0</td>\n      <td>1.838313</td>\n      <td>1.810704</td>\n      <td>2150000</td>\n      <td>33.70</td>\n    </tr>\n    <tr>\n      <th>19</th>\n      <td>stpertersburg</td>\n      <td>52.289315</td>\n      <td>5.657114</td>\n      <td>0.968312</td>\n      <td>0.005216</td>\n      <td>lognormal</td>\n      <td>1386</td>\n      <td>508124</td>\n      <td>19.100982</td>\n      <td>12.40</td>\n      <td>Saint Petersburg, Russia</td>\n      <td>1</td>\n      <td>1.674358</td>\n      <td>1.634186</td>\n      <td>17100000</td>\n      <td>4.99</td>\n    </tr>\n    <tr>\n      <th>20</th>\n      <td>surabaya</td>\n      <td>84.407852</td>\n      <td>4.529086</td>\n      <td>0.933715</td>\n      <td>0.184903</td>\n      <td>lognormal</td>\n      <td>2414</td>\n      <td>803844</td>\n      <td>7.434178</td>\n      <td>14.20</td>\n      <td>Surabaya, Indonesia</td>\n      <td>1</td>\n      <td>1.489621</td>\n      <td>1.625238</td>\n      <td>1905000</td>\n      <td>2.77</td>\n    </tr>\n    <tr>\n      <th>21</th>\n      <td>sweden</td>\n      <td>24.513276</td>\n      <td>5.643772</td>\n      <td>0.972541</td>\n      <td>0.145624</td>\n      <td>lognormal</td>\n      <td>3961</td>\n      <td>1248158</td>\n      <td>8.682615</td>\n      <td>54.61</td>\n      <td>Sweden</td>\n      <td>0</td>\n      <td>1.521262</td>\n      <td>1.596523</td>\n      <td>450295</td>\n      <td>10.23</td>\n    </tr>\n  </tbody>\n</table>\n</div>"
     },
     "execution_count": 208,
     "metadata": {},
     "output_type": "execute_result"
    }
   ],
   "source": [
    "df_combi = df_combi.loc[:, ['region', 'ks', 'median', 'r2', 'ks_p', 'func_name', 'num_users',\n",
    "                            'num_geotweets', 'pkt_inland_yr_capita', 'gdp_capita', 'region_name', 'city',\n",
    "                            'para1', 'para2']]\n",
    "df_combi.loc[:, 'area'] = df_combi.loc[:, 'region'].apply(lambda x: region_manager[x]['country_area']) # km^2\n",
    "df_combi.loc[:, 'pop'] = df_combi.loc[:, 'region'].apply(lambda x: region_manager[x]['pop']) # km^2\n",
    "df_combi"
   ],
   "metadata": {
    "collapsed": false,
    "pycharm": {
     "name": "#%%\n"
    }
   }
  },
  {
   "cell_type": "code",
   "execution_count": 210,
   "outputs": [],
   "source": [
    "df_combi.to_csv(f'../../results/multi-region_rid_{runid}.csv', index=False)"
   ],
   "metadata": {
    "collapsed": false,
    "pycharm": {
     "name": "#%%\n"
    }
   }
  },
  {
   "cell_type": "code",
   "execution_count": 212,
   "outputs": [
    {
     "data": {
      "text/plain": "['Jakarta, Indonesia',\n 'Kuala Lumpur, Malaysia',\n 'Madrid, Spain',\n 'Rio de Janeiro, Brazil',\n 'São Paulo, Brazil',\n 'Saint Petersburg, Russia']"
     },
     "execution_count": 212,
     "metadata": {},
     "output_type": "execute_result"
    }
   ],
   "source": [
    "df_combi.loc[df_combi.ks_p <= 0.05, 'region_name'].to_list()"
   ],
   "metadata": {
    "collapsed": false,
    "pycharm": {
     "name": "#%%\n"
    }
   }
  },
  {
   "cell_type": "code",
   "execution_count": 213,
   "outputs": [
    {
     "data": {
      "text/plain": "(para1    1.536875\n para2    1.681270\n dtype: float64, para1    0.268696\n para2    0.104345\n dtype: float64)"
     },
     "execution_count": 213,
     "metadata": {},
     "output_type": "execute_result"
    }
   ],
   "source": [
    "df_combi.loc[df_combi.region != 'manila', ['para1','para2']].mean(),\\\n",
    "df_combi.loc[df_combi.region != 'manila', ['para1','para2']].std()\n"
   ],
   "metadata": {
    "collapsed": false,
    "pycharm": {
     "name": "#%%\n"
    }
   }
  },
  {
   "cell_type": "markdown",
   "source": [
    "## 4. Aggregate all regions' raw distance data into one file"
   ],
   "metadata": {
    "collapsed": false
   }
  },
  {
   "cell_type": "code",
   "execution_count": 216,
   "outputs": [
    {
     "name": "stderr",
     "output_type": "stream",
     "text": [
      "PDF and fitting: 100%|██████████| 22/22 [01:03<00:00,  2.89s/it]\n"
     ]
    }
   ],
   "source": [
    "list_df_distance_raw = []\n",
    "for region in tqdm(region_list, desc='PDF and fitting'):\n",
    "    df = pd.read_csv(f'../../dbs/{region}/visits/visits_{runid}_trips_dom.csv')\n",
    "    df = df.loc[df.distance >= 0.1, ['distance']]\n",
    "    df.loc[:, 'region_name'] = region_manager[region]['name']\n",
    "    df.loc[:, 'region'] = region\n",
    "    list_df_distance_raw.append(df)\n",
    "df_distance_raw = pd.concat(list_df_distance_raw)\n",
    "df_distance_raw.to_csv(f'../../dbs/visits_{runid}_trips_dom.csv', index=False)"
   ],
   "metadata": {
    "collapsed": false,
    "pycharm": {
     "name": "#%%\n"
    }
   }
  }
 ],
 "metadata": {
  "kernelspec": {
   "display_name": "Python 3",
   "language": "python",
   "name": "python3"
  },
  "language_info": {
   "codemirror_mode": {
    "name": "ipython",
    "version": 2
   },
   "file_extension": ".py",
   "mimetype": "text/x-python",
   "name": "python",
   "nbconvert_exporter": "python",
   "pygments_lexer": "ipython2",
   "version": "2.7.6"
  }
 },
 "nbformat": 4,
 "nbformat_minor": 0
}
{
 "cells": [
  {
   "cell_type": "markdown",
   "metadata": {
    "collapsed": true,
    "pycharm": {
     "name": "#%% md\n"
    }
   },
   "source": [
    "# Descriptive analysis for the manuscript\n",
    "\n",
    "Summarize geotagged tweets of the multiple regions used for the experiment and the application."
   ]
  },
  {
   "cell_type": "code",
   "execution_count": 1,
   "outputs": [],
   "source": [
    "%load_ext autoreload\n",
    "%autoreload 2"
   ],
   "metadata": {
    "collapsed": false,
    "pycharm": {
     "name": "#%% load_ext autoreload\n"
    }
   }
  },
  {
   "cell_type": "code",
   "execution_count": 2,
   "outputs": [],
   "source": [
    "import numpy as np\n",
    "import pandas as pd\n",
    "import yaml\n",
    "import scipy.stats as stats\n",
    "\n",
    "def load_region_tweets(region=None):\n",
    "    df = pd.read_csv(f'../../dbs/{region}/geotweets.csv')\n",
    "    df['day'] = df['createdat'].apply(lambda x: x.split(' ')[0])\n",
    "    df['createdat'] = pd.to_datetime(df['createdat'], infer_datetime_format=True)\n",
    "    t_max, t_min = df.createdat.max(), df.createdat.min()\n",
    "    time_span = f'{t_min} - {t_max}'\n",
    "    num_users = len(df.userid.unique())\n",
    "    num_geo = len(df)\n",
    "    num_days = np.median(df.groupby(['userid'])['day'].nunique())\n",
    "    num_geo_freq = np.median(df.groupby(['userid']).size() / df.groupby(['userid'])['day'].nunique())\n",
    "    return region, time_span, num_users, num_geo, num_days, num_geo_freq\n",
    "\n",
    "region_list = ['sweden', 'netherlands', 'saopaulo', 'australia', 'austria', 'barcelona',\n",
    "               'capetown', 'cebu', 'egypt', 'guadalajara', 'jakarta',\n",
    "               'johannesburg', 'kualalumpur', 'lagos', 'madrid', 'manila', 'mexicocity', 'moscow', 'nairobi',\n",
    "               'rio', 'saudiarabia', 'stpertersburg', 'surabaya']\n",
    "\n",
    "with open('../../lib/regions.yaml', encoding='utf8') as f:\n",
    "    region_manager = yaml.load(f, Loader=yaml.FullLoader)"
   ],
   "metadata": {
    "collapsed": false,
    "pycharm": {
     "name": "#%%\n"
    }
   }
  },
  {
   "cell_type": "markdown",
   "source": [
    "## 1 Summarize the geotagged tweets used as input to the model\n",
    "Geotagged tweets: Time span, No. of Twitter users, No. of geotagged tweets,\n",
    "Days covered/user, No. of geotagged tweets/day/user"
   ],
   "metadata": {
    "collapsed": false
   }
  },
  {
   "cell_type": "code",
   "execution_count": 7,
   "outputs": [
    {
     "data": {
      "text/plain": "                        region                time_span  num_users  num_geo  \\\n0                       Sweden  2010-09-15 - 2019-03-31       3961  1248158   \n1              The Netherlands  2010-09-12 - 2019-04-22       5375  1479674   \n2            São Paulo, Brazil  2010-09-15 - 2019-06-07      10943  3513796   \n3                    Australia  2010-09-11 - 2019-05-09       3310   847668   \n4                      Austria  2010-09-13 - 2019-09-23        729   168364   \n5             Barcelona, Spain  2010-09-14 - 2019-06-24       1891   482357   \n6      Cape Town, South Africa  2011-01-20 - 2019-06-05       1092   193993   \n7            Cebu, Philippines  2010-09-16 - 2019-09-22       1486   400094   \n8                        Egypt  2010-10-06 - 2019-09-26       1464   234322   \n9          Guadalajara, Mexico  2011-02-10 - 2019-09-19        684   212681   \n10          Jakarta, Indonesia  2010-09-11 - 2019-06-20      13088  4650699   \n11  Johannesburg, South Africa  2010-10-08 - 2019-07-23       1268   214187   \n12      Kuala Lumpur, Malaysia  2010-09-14 - 2019-09-18       4663  1543306   \n13              Lagos, Nigeria  2011-01-10 - 2019-08-28        812    96943   \n14               Madrid, Spain  2010-10-19 - 2019-07-19       3172   671234   \n15         Manila, Philippines  2010-09-14 - 2019-08-25      11997  3482176   \n16         Mexico City, Mexico  2010-09-14 - 2019-07-09      15615  4613752   \n17              Moscow, Russia  2010-09-14 - 2019-08-02       4206  1628759   \n18              Nairobi, Kenya  2011-07-15 - 2019-07-27        644   166404   \n19      Rio de Janeiro, Brazil  2010-09-12 - 2019-05-23       6063  1593782   \n20                Saudi Arabia  2010-10-09 - 2019-04-29       3117   626427   \n21    Saint Petersburg, Russia  2010-09-26 - 2019-07-29       1386   508124   \n22         Surabaya, Indonesia  2010-09-16 - 2019-05-01       2414   803844   \n\n    num_days  num_geo_freq  gdp_capita             country    pop  \n0      111.0      1.432292       54.61              Sweden  10.23  \n1      100.0      1.402878       53.02     The Netherlands  17.28  \n2       96.0      1.519231       27.13              Brazil  12.18  \n3       84.0      1.457786       57.40           Australia  24.99  \n4       88.0      1.357143       51.50             Austria   8.56  \n5       95.0      1.371429       33.10               Spain   5.56  \n6       62.0      1.517549        6.20        South Africa   0.43  \n7       83.0      1.593162        3.10         Philippines   0.92  \n8       47.0      1.642324        2.55               Egypt  98.42  \n9      102.5      1.490107       17.88              Mexico   1.50  \n10     117.0      1.718750       19.03           Indonesia   9.61  \n11      52.0      1.731532       16.37        South Africa   0.96  \n12     104.0      1.590461       11.14            Malaysia   1.81  \n13      36.0      1.806401        2.22             Nigeria  21.00  \n14      75.0      1.398097       48.77               Spain   6.64  \n15      93.0      1.594937        9.60         Philippines   1.78  \n16     104.0      1.500000       10.12              Mexico   8.56  \n17     119.0      1.736842       22.06  Russian Federation  11.92  \n18      34.0      3.165152        2.01               Kenya   4.40  \n19      77.0      1.516393       11.02              Brazil   6.32  \n20      65.0      1.515625       23.34        Saudi Arabia  33.70  \n21     106.0      1.737898       12.40  Russian Federation   4.99  \n22     110.0      1.636364       14.20           Indonesia   2.77  ",
      "text/html": "<div>\n<style scoped>\n    .dataframe tbody tr th:only-of-type {\n        vertical-align: middle;\n    }\n\n    .dataframe tbody tr th {\n        vertical-align: top;\n    }\n\n    .dataframe thead th {\n        text-align: right;\n    }\n</style>\n<table border=\"1\" class=\"dataframe\">\n  <thead>\n    <tr style=\"text-align: right;\">\n      <th></th>\n      <th>region</th>\n      <th>time_span</th>\n      <th>num_users</th>\n      <th>num_geo</th>\n      <th>num_days</th>\n      <th>num_geo_freq</th>\n      <th>gdp_capita</th>\n      <th>country</th>\n      <th>pop</th>\n    </tr>\n  </thead>\n  <tbody>\n    <tr>\n      <th>0</th>\n      <td>Sweden</td>\n      <td>2010-09-15 - 2019-03-31</td>\n      <td>3961</td>\n      <td>1248158</td>\n      <td>111.0</td>\n      <td>1.432292</td>\n      <td>54.61</td>\n      <td>Sweden</td>\n      <td>10.23</td>\n    </tr>\n    <tr>\n      <th>1</th>\n      <td>The Netherlands</td>\n      <td>2010-09-12 - 2019-04-22</td>\n      <td>5375</td>\n      <td>1479674</td>\n      <td>100.0</td>\n      <td>1.402878</td>\n      <td>53.02</td>\n      <td>The Netherlands</td>\n      <td>17.28</td>\n    </tr>\n    <tr>\n      <th>2</th>\n      <td>São Paulo, Brazil</td>\n      <td>2010-09-15 - 2019-06-07</td>\n      <td>10943</td>\n      <td>3513796</td>\n      <td>96.0</td>\n      <td>1.519231</td>\n      <td>27.13</td>\n      <td>Brazil</td>\n      <td>12.18</td>\n    </tr>\n    <tr>\n      <th>3</th>\n      <td>Australia</td>\n      <td>2010-09-11 - 2019-05-09</td>\n      <td>3310</td>\n      <td>847668</td>\n      <td>84.0</td>\n      <td>1.457786</td>\n      <td>57.40</td>\n      <td>Australia</td>\n      <td>24.99</td>\n    </tr>\n    <tr>\n      <th>4</th>\n      <td>Austria</td>\n      <td>2010-09-13 - 2019-09-23</td>\n      <td>729</td>\n      <td>168364</td>\n      <td>88.0</td>\n      <td>1.357143</td>\n      <td>51.50</td>\n      <td>Austria</td>\n      <td>8.56</td>\n    </tr>\n    <tr>\n      <th>5</th>\n      <td>Barcelona, Spain</td>\n      <td>2010-09-14 - 2019-06-24</td>\n      <td>1891</td>\n      <td>482357</td>\n      <td>95.0</td>\n      <td>1.371429</td>\n      <td>33.10</td>\n      <td>Spain</td>\n      <td>5.56</td>\n    </tr>\n    <tr>\n      <th>6</th>\n      <td>Cape Town, South Africa</td>\n      <td>2011-01-20 - 2019-06-05</td>\n      <td>1092</td>\n      <td>193993</td>\n      <td>62.0</td>\n      <td>1.517549</td>\n      <td>6.20</td>\n      <td>South Africa</td>\n      <td>0.43</td>\n    </tr>\n    <tr>\n      <th>7</th>\n      <td>Cebu, Philippines</td>\n      <td>2010-09-16 - 2019-09-22</td>\n      <td>1486</td>\n      <td>400094</td>\n      <td>83.0</td>\n      <td>1.593162</td>\n      <td>3.10</td>\n      <td>Philippines</td>\n      <td>0.92</td>\n    </tr>\n    <tr>\n      <th>8</th>\n      <td>Egypt</td>\n      <td>2010-10-06 - 2019-09-26</td>\n      <td>1464</td>\n      <td>234322</td>\n      <td>47.0</td>\n      <td>1.642324</td>\n      <td>2.55</td>\n      <td>Egypt</td>\n      <td>98.42</td>\n    </tr>\n    <tr>\n      <th>9</th>\n      <td>Guadalajara, Mexico</td>\n      <td>2011-02-10 - 2019-09-19</td>\n      <td>684</td>\n      <td>212681</td>\n      <td>102.5</td>\n      <td>1.490107</td>\n      <td>17.88</td>\n      <td>Mexico</td>\n      <td>1.50</td>\n    </tr>\n    <tr>\n      <th>10</th>\n      <td>Jakarta, Indonesia</td>\n      <td>2010-09-11 - 2019-06-20</td>\n      <td>13088</td>\n      <td>4650699</td>\n      <td>117.0</td>\n      <td>1.718750</td>\n      <td>19.03</td>\n      <td>Indonesia</td>\n      <td>9.61</td>\n    </tr>\n    <tr>\n      <th>11</th>\n      <td>Johannesburg, South Africa</td>\n      <td>2010-10-08 - 2019-07-23</td>\n      <td>1268</td>\n      <td>214187</td>\n      <td>52.0</td>\n      <td>1.731532</td>\n      <td>16.37</td>\n      <td>South Africa</td>\n      <td>0.96</td>\n    </tr>\n    <tr>\n      <th>12</th>\n      <td>Kuala Lumpur, Malaysia</td>\n      <td>2010-09-14 - 2019-09-18</td>\n      <td>4663</td>\n      <td>1543306</td>\n      <td>104.0</td>\n      <td>1.590461</td>\n      <td>11.14</td>\n      <td>Malaysia</td>\n      <td>1.81</td>\n    </tr>\n    <tr>\n      <th>13</th>\n      <td>Lagos, Nigeria</td>\n      <td>2011-01-10 - 2019-08-28</td>\n      <td>812</td>\n      <td>96943</td>\n      <td>36.0</td>\n      <td>1.806401</td>\n      <td>2.22</td>\n      <td>Nigeria</td>\n      <td>21.00</td>\n    </tr>\n    <tr>\n      <th>14</th>\n      <td>Madrid, Spain</td>\n      <td>2010-10-19 - 2019-07-19</td>\n      <td>3172</td>\n      <td>671234</td>\n      <td>75.0</td>\n      <td>1.398097</td>\n      <td>48.77</td>\n      <td>Spain</td>\n      <td>6.64</td>\n    </tr>\n    <tr>\n      <th>15</th>\n      <td>Manila, Philippines</td>\n      <td>2010-09-14 - 2019-08-25</td>\n      <td>11997</td>\n      <td>3482176</td>\n      <td>93.0</td>\n      <td>1.594937</td>\n      <td>9.60</td>\n      <td>Philippines</td>\n      <td>1.78</td>\n    </tr>\n    <tr>\n      <th>16</th>\n      <td>Mexico City, Mexico</td>\n      <td>2010-09-14 - 2019-07-09</td>\n      <td>15615</td>\n      <td>4613752</td>\n      <td>104.0</td>\n      <td>1.500000</td>\n      <td>10.12</td>\n      <td>Mexico</td>\n      <td>8.56</td>\n    </tr>\n    <tr>\n      <th>17</th>\n      <td>Moscow, Russia</td>\n      <td>2010-09-14 - 2019-08-02</td>\n      <td>4206</td>\n      <td>1628759</td>\n      <td>119.0</td>\n      <td>1.736842</td>\n      <td>22.06</td>\n      <td>Russian Federation</td>\n      <td>11.92</td>\n    </tr>\n    <tr>\n      <th>18</th>\n      <td>Nairobi, Kenya</td>\n      <td>2011-07-15 - 2019-07-27</td>\n      <td>644</td>\n      <td>166404</td>\n      <td>34.0</td>\n      <td>3.165152</td>\n      <td>2.01</td>\n      <td>Kenya</td>\n      <td>4.40</td>\n    </tr>\n    <tr>\n      <th>19</th>\n      <td>Rio de Janeiro, Brazil</td>\n      <td>2010-09-12 - 2019-05-23</td>\n      <td>6063</td>\n      <td>1593782</td>\n      <td>77.0</td>\n      <td>1.516393</td>\n      <td>11.02</td>\n      <td>Brazil</td>\n      <td>6.32</td>\n    </tr>\n    <tr>\n      <th>20</th>\n      <td>Saudi Arabia</td>\n      <td>2010-10-09 - 2019-04-29</td>\n      <td>3117</td>\n      <td>626427</td>\n      <td>65.0</td>\n      <td>1.515625</td>\n      <td>23.34</td>\n      <td>Saudi Arabia</td>\n      <td>33.70</td>\n    </tr>\n    <tr>\n      <th>21</th>\n      <td>Saint Petersburg, Russia</td>\n      <td>2010-09-26 - 2019-07-29</td>\n      <td>1386</td>\n      <td>508124</td>\n      <td>106.0</td>\n      <td>1.737898</td>\n      <td>12.40</td>\n      <td>Russian Federation</td>\n      <td>4.99</td>\n    </tr>\n    <tr>\n      <th>22</th>\n      <td>Surabaya, Indonesia</td>\n      <td>2010-09-16 - 2019-05-01</td>\n      <td>2414</td>\n      <td>803844</td>\n      <td>110.0</td>\n      <td>1.636364</td>\n      <td>14.20</td>\n      <td>Indonesia</td>\n      <td>2.77</td>\n    </tr>\n  </tbody>\n</table>\n</div>"
     },
     "execution_count": 7,
     "metadata": {},
     "output_type": "execute_result"
    }
   ],
   "source": [
    "df = pd.DataFrame([load_region_tweets(region=x) for x in region_list],\n",
    "                  columns=('region', 'time_span', 'num_users', 'num_geo', 'num_days', 'num_geo_freq'))\n",
    "df.loc[:, 'gdp_capita'] = df.loc[:, 'region'].apply(lambda x: region_manager[x]['gdp_capita'])\n",
    "df.loc[:, 'country'] = df.loc[:, 'region'].apply(lambda x: region_manager[x]['country'])\n",
    "df.loc[:, 'pop'] = df.loc[:, 'region'].apply(lambda x: region_manager[x]['pop'])\n",
    "df.loc[:, 'time_span'] = df.loc[:, 'time_span'].apply(lambda x: ' - '.join([x_t.split(' ')[0] for x_t in x.split(' - ')]))\n",
    "df.loc[:, 'region'] = df.loc[:, 'region'].apply(lambda x: region_manager[x]['name'])\n",
    "df"
   ],
   "metadata": {
    "collapsed": false,
    "pycharm": {
     "name": "#%%\n"
    }
   }
  },
  {
   "cell_type": "code",
   "execution_count": 8,
   "outputs": [],
   "source": [
    "df.to_clipboard(index=False)"
   ],
   "metadata": {
    "collapsed": false,
    "pycharm": {
     "name": "#%%\n"
    }
   }
  },
  {
   "cell_type": "markdown",
   "source": [
    "## 2 Merge ODMs for visualisation\n",
    "This part applies to Sweden, The Netherlands, and Sao Paulo, Brazil.\n",
    "\n",
    "Separate files will be deleted."
   ],
   "metadata": {
    "collapsed": false,
    "pycharm": {
     "name": "#%% md\n"
    }
   }
  },
  {
   "cell_type": "code",
   "execution_count": 7,
   "outputs": [],
   "source": [
    "for region in ['sweden', 'netherlands', 'saopaulo']:\n",
    "    df = pd.read_csv(f'../../dbs/{region}/odm_gt.csv')\n",
    "    df_c = pd.read_csv(f'../../dbs/{region}/calibration_odm.csv')\n",
    "    df_v = pd.read_csv(f'../../dbs/{region}/validation_odm.csv')\n",
    "    df = pd.merge(df, df_c, on=['ozone', 'dzone'])\n",
    "    df = df.rename(columns={'model': 'model_c'})\n",
    "    df = pd.merge(df, df_v, on=['ozone', 'dzone'])\n",
    "    df = df.rename(columns={'model': 'model_v'})\n",
    "    df.loc[:, ['ozone', 'dzone', 'gt', 'model_c', 'model_v']].to_csv(f'../../dbs/{region}/odms.csv', index=False)"
   ],
   "metadata": {
    "collapsed": false,
    "pycharm": {
     "name": "#%%\n"
    }
   }
  },
  {
   "cell_type": "markdown",
   "source": [
    "## 3 Quantify the od-pair similarity\n",
    "This part applies to Sweden, The Netherlands, and Sao Paulo, Brazil.\n",
    "\n",
    "The overall similarity."
   ],
   "metadata": {
    "collapsed": false
   }
  },
  {
   "cell_type": "code",
   "execution_count": 6,
   "outputs": [
    {
     "name": "stdout",
     "output_type": "stream",
     "text": [
      "sweden GT vs. calibrated model KendalltauResult(correlation=0.12707912414478398, pvalue=0.0)\n",
      "sweden GT vs. validated model KendalltauResult(correlation=0.12001211410870506, pvalue=0.0)\n",
      "netherlands GT vs. calibrated model KendalltauResult(correlation=0.20725705094829874, pvalue=0.0)\n",
      "netherlands GT vs. validated model KendalltauResult(correlation=0.21088191229229744, pvalue=0.0)\n",
      "saopaulo GT vs. calibrated model KendalltauResult(correlation=0.3129177858473001, pvalue=0.0)\n",
      "saopaulo GT vs. validated model KendalltauResult(correlation=0.3081899966684245, pvalue=0.0)\n"
     ]
    }
   ],
   "source": [
    "for region in ['sweden', 'netherlands', 'saopaulo']:\n",
    "    df = pd.read_csv(f'../../dbs/{region}/odms.csv')\n",
    "    print(region, 'GT vs. calibrated model', stats.kendalltau(df.loc[:, 'gt'], df.loc[:, 'model_c']))\n",
    "    print(region, 'GT vs. validated model', stats.kendalltau(df.loc[:, 'gt'], df.loc[:, 'model_v']))"
   ],
   "metadata": {
    "collapsed": false,
    "pycharm": {
     "name": "#%%\n"
    }
   }
  },
  {
   "cell_type": "markdown",
   "source": [
    "## 4 Check the domestic PKT of The Netherlands"
   ],
   "metadata": {
    "collapsed": false,
    "pycharm": {
     "name": "#%% md\n"
    }
   }
  },
  {
   "cell_type": "code",
   "execution_count": null,
   "outputs": [],
   "source": [],
   "metadata": {
    "collapsed": false,
    "pycharm": {
     "name": "#%%\n"
    }
   }
  }
 ],
 "metadata": {
  "kernelspec": {
   "display_name": "Python 3",
   "language": "python",
   "name": "python3"
  },
  "language_info": {
   "codemirror_mode": {
    "name": "ipython",
    "version": 2
   },
   "file_extension": ".py",
   "mimetype": "text/x-python",
   "name": "python",
   "nbconvert_exporter": "python",
   "pygments_lexer": "ipython2",
   "version": "2.7.6"
  }
 },
 "nbformat": 4,
 "nbformat_minor": 0
}
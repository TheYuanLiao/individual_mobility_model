{
 "cells": [
  {
   "cell_type": "markdown",
   "metadata": {
    "collapsed": true,
    "pycharm": {
     "name": "#%% md\n"
    }
   },
   "source": [
    "# Get the data-based distance errors by using Haversine distance instead of network distance"
   ]
  },
  {
   "cell_type": "code",
   "execution_count": 1,
   "outputs": [],
   "source": [
    "%load_ext autoreload\n",
    "%autoreload 2\n",
    "%matplotlib inline"
   ],
   "metadata": {
    "collapsed": false,
    "pycharm": {
     "name": "#%%\n"
    }
   }
  },
  {
   "cell_type": "code",
   "execution_count": 2,
   "outputs": [],
   "source": [
    "import os\n",
    "import subprocess\n",
    "import sys\n",
    "import yaml\n",
    "import pandas as pd\n",
    "\n",
    "def get_repo_root():\n",
    "    \"\"\"Get the root directory of the repo.\"\"\"\n",
    "    dir_in_repo = os.path.dirname(os.path.abspath('__file__')) # os.getcwd()\n",
    "    return subprocess.check_output('git rev-parse --show-toplevel'.split(),\n",
    "                                   cwd=dir_in_repo,\n",
    "                                   universal_newlines=True).rstrip()\n",
    "sys.path.append(get_repo_root())\n",
    "ROOT_dir = get_repo_root()\n",
    "\n",
    "import lib.sweden_sv as sweden_sv\n",
    "import lib.netherlands as netherlands\n",
    "import lib.genericvalidation as genericvalidation\n",
    "\n",
    "with open(ROOT_dir + '/lib/regions.yaml') as f:\n",
    "    region_manager = yaml.load(f, Loader=yaml.FullLoader)\n",
    "\n",
    "region_path = {\n",
    "    'sweden': {\n",
    "        'home_locations_path': ROOT_dir + \"/dbs/sweden/homelocations.csv\",\n",
    "        'tweets_calibration': ROOT_dir + \"/dbs/sweden/geotweets_c.csv\",\n",
    "        'tweets_validation': ROOT_dir + \"/dbs/sweden/geotweets_v.csv\",\n",
    "        'gt': sweden_sv.GroundTruthLoader()\n",
    "    },\n",
    "    'netherlands': {\n",
    "        'home_locations_path': ROOT_dir + \"/dbs/netherlands/homelocations.csv\",\n",
    "        'tweets_calibration': ROOT_dir + \"/dbs/netherlands/geotweets_c.csv\",\n",
    "        'tweets_validation': ROOT_dir + \"/dbs/netherlands/geotweets_v.csv\",\n",
    "        'gt': netherlands.GroundTruthLoader()\n",
    "    }\n",
    "}"
   ],
   "metadata": {
    "collapsed": false,
    "pycharm": {
     "name": "#%%\n"
    }
   }
  },
  {
   "cell_type": "markdown",
   "source": [
    "## 1. Load trip survey data\n",
    "Sweden, the Netherlands"
   ],
   "metadata": {
    "collapsed": false,
    "pycharm": {
     "name": "#%% md\n"
    }
   }
  },
  {
   "cell_type": "markdown",
   "source": [
    "### 1.1 Sweden"
   ],
   "metadata": {
    "collapsed": false,
    "pycharm": {
     "name": "#%% md\n"
    }
   }
  },
  {
   "cell_type": "code",
   "execution_count": 11,
   "outputs": [],
   "source": [
    "region='sweden'\n",
    "df_se = pd.read_csv(ROOT_dir + f\"/dbs/{region}/survey_deso/day_trips.csv\")\n",
    "df_se = df_se.loc[:, [\"sub_id\", 'trip_id', 'trip_main_id', 'distance_main',\n",
    "                      'date', \"origin_main_deso\", \"desti_main_deso\", 'trip_weight']]\n",
    "df_se = df_se.drop_duplicates(subset=[\"sub_id\", 'trip_id', 'trip_main_id'])\n",
    "df_se[\"T\"] = df_se[\"date\"].apply(lambda x: pd.to_datetime(x))\n",
    "df_se = df_se.loc[~df_se[\"T\"].apply(lambda x: x.weekday()).isin([5, 6]), :]\n",
    "df_se.dropna(axis=0, how='any', inplace=True)\n",
    "df_se = df_se.loc[:, [\"origin_main_deso\",\n",
    "                      \"desti_main_deso\",\n",
    "                      'distance_main']].rename(columns={\"origin_main_deso\": 'origin',\n",
    "                                                        \"desti_main_deso\": 'destination',\n",
    "                                                        'distance_main': 'distance_network'})"
   ],
   "metadata": {
    "collapsed": false,
    "pycharm": {
     "name": "#%%\n"
    }
   }
  },
  {
   "cell_type": "code",
   "execution_count": null,
   "outputs": [],
   "source": [
    "# calculate ODM-based distances\n",
    "ground_truth = region_path[region]['gt']\n",
    "# load zones\n",
    "ground_truth.load_zones()"
   ],
   "metadata": {
    "collapsed": false,
    "pycharm": {
     "name": "#%%\n"
    }
   }
  },
  {
   "cell_type": "code",
   "execution_count": 9,
   "outputs": [
    {
     "name": "stdout",
     "output_type": "stream",
     "text": [
      "Calculating distances between zones...\n"
     ]
    }
   ],
   "source": [
    "distances_se = pd.DataFrame(genericvalidation.zone_distances(ground_truth.zones))\n",
    "idx = distances_se.index.rename(['origin', 'destination'])\n",
    "distances_se.set_index(idx, inplace=True)\n",
    "distances_se = distances_se.reset_index()\n",
    "distances_se.columns = [\"origin\", \"destination\", 'distance']"
   ],
   "metadata": {
    "collapsed": false,
    "pycharm": {
     "name": "#%%\n"
    }
   }
  },
  {
   "cell_type": "code",
   "execution_count": 10,
   "outputs": [
    {
     "data": {
      "text/plain": "      origin destination  distance\n0  0114A0010   0114A0010  0.000000\n1  0114A0010   0114C1010  4.795251\n2  0114A0010   0114C1020  3.548429\n3  0114A0010   0114C1030  4.160562\n4  0114A0010   0114C1040  2.703179",
      "text/html": "<div>\n<style scoped>\n    .dataframe tbody tr th:only-of-type {\n        vertical-align: middle;\n    }\n\n    .dataframe tbody tr th {\n        vertical-align: top;\n    }\n\n    .dataframe thead th {\n        text-align: right;\n    }\n</style>\n<table border=\"1\" class=\"dataframe\">\n  <thead>\n    <tr style=\"text-align: right;\">\n      <th></th>\n      <th>origin</th>\n      <th>destination</th>\n      <th>distance</th>\n    </tr>\n  </thead>\n  <tbody>\n    <tr>\n      <th>0</th>\n      <td>0114A0010</td>\n      <td>0114A0010</td>\n      <td>0.000000</td>\n    </tr>\n    <tr>\n      <th>1</th>\n      <td>0114A0010</td>\n      <td>0114C1010</td>\n      <td>4.795251</td>\n    </tr>\n    <tr>\n      <th>2</th>\n      <td>0114A0010</td>\n      <td>0114C1020</td>\n      <td>3.548429</td>\n    </tr>\n    <tr>\n      <th>3</th>\n      <td>0114A0010</td>\n      <td>0114C1030</td>\n      <td>4.160562</td>\n    </tr>\n    <tr>\n      <th>4</th>\n      <td>0114A0010</td>\n      <td>0114C1040</td>\n      <td>2.703179</td>\n    </tr>\n  </tbody>\n</table>\n</div>"
     },
     "execution_count": 10,
     "metadata": {},
     "output_type": "execute_result"
    }
   ],
   "source": [
    "distances_se.head()"
   ],
   "metadata": {
    "collapsed": false,
    "pycharm": {
     "name": "#%%\n"
    }
   }
  },
  {
   "cell_type": "code",
   "execution_count": 12,
   "outputs": [
    {
     "data": {
      "text/plain": "      origin destination  distance_network   distance\n0  0127C1060   0127C1060             10.03   0.000000\n1  0127C1060   0127C1060             10.03   0.000000\n2  1498C1020   1499C1010             25.95  22.808517\n3  1480C1350   1480C1340              0.60   0.368819\n4  0180C2420   0180C2420              0.10   0.000000",
      "text/html": "<div>\n<style scoped>\n    .dataframe tbody tr th:only-of-type {\n        vertical-align: middle;\n    }\n\n    .dataframe tbody tr th {\n        vertical-align: top;\n    }\n\n    .dataframe thead th {\n        text-align: right;\n    }\n</style>\n<table border=\"1\" class=\"dataframe\">\n  <thead>\n    <tr style=\"text-align: right;\">\n      <th></th>\n      <th>origin</th>\n      <th>destination</th>\n      <th>distance_network</th>\n      <th>distance</th>\n    </tr>\n  </thead>\n  <tbody>\n    <tr>\n      <th>0</th>\n      <td>0127C1060</td>\n      <td>0127C1060</td>\n      <td>10.03</td>\n      <td>0.000000</td>\n    </tr>\n    <tr>\n      <th>1</th>\n      <td>0127C1060</td>\n      <td>0127C1060</td>\n      <td>10.03</td>\n      <td>0.000000</td>\n    </tr>\n    <tr>\n      <th>2</th>\n      <td>1498C1020</td>\n      <td>1499C1010</td>\n      <td>25.95</td>\n      <td>22.808517</td>\n    </tr>\n    <tr>\n      <th>3</th>\n      <td>1480C1350</td>\n      <td>1480C1340</td>\n      <td>0.60</td>\n      <td>0.368819</td>\n    </tr>\n    <tr>\n      <th>4</th>\n      <td>0180C2420</td>\n      <td>0180C2420</td>\n      <td>0.10</td>\n      <td>0.000000</td>\n    </tr>\n  </tbody>\n</table>\n</div>"
     },
     "execution_count": 12,
     "metadata": {},
     "output_type": "execute_result"
    }
   ],
   "source": [
    "df_se = pd.merge(df_se, distances_se, on=[\"origin\", \"destination\"])\n",
    "df_se.head()\n"
   ],
   "metadata": {
    "collapsed": false,
    "pycharm": {
     "name": "#%%\n"
    }
   }
  },
  {
   "cell_type": "markdown",
   "source": [
    "### 1.2 the Netherlands"
   ],
   "metadata": {
    "collapsed": false
   }
  },
  {
   "cell_type": "code",
   "execution_count": 13,
   "outputs": [],
   "source": [
    "def trip_row(df):\n",
    "    row = df.iloc[0]\n",
    "    row['dest_zip'] = df.iloc[-1]['dest_zip']\n",
    "    row['dest_time'] = df.iloc[-1]['dest_time']\n",
    "    return row\n",
    "\n",
    "region='netherlands'\n",
    "sheet1 = pd.read_excel(ROOT_dir + f\"/dbs/{region}/mobility_data/OViN2017_Databestand.xlsx\")\n",
    "trips = sheet1[\n",
    "    ['OPID', 'AfstV', 'Wogem', 'Jaar', 'Maand', 'Dag', 'VerplID',\n",
    "     'VertUur', 'VertPC', 'AankUur', 'AankPC', 'FactorV']]\n",
    "trips = trips.rename(columns={\n",
    "    'Wogem': 'home_city',\n",
    "    'Jaar': 'year',\n",
    "    'Maand': 'month',\n",
    "    'Dag': 'day',\n",
    "    'VerplID': 'trip_id',\n",
    "    'VertUur': 'origin_time',\n",
    "    'VertPC': 'origin_zip',\n",
    "    'AankUur': 'dest_time',\n",
    "    'AankPC': 'dest_zip',\n",
    "    'FactorV': 'weight_trip',\n",
    "    'AfstV': 'distance'\n",
    "})\n",
    "\n",
    "# Process\n",
    "trips = trips.dropna(subset=['trip_id'])\n",
    "trips = trips.dropna(subset=['distance'])\n",
    "trips.loc[:, 'distance'] = trips.loc[:, 'distance'] / 10 # hectometer to km\n",
    "trips = trips.groupby(['OPID', 'trip_id']).apply(trip_row)\n",
    "trips['origin_zip'] = trips['origin_zip'].astype('int64')\n",
    "trips['dest_zip'] = trips['dest_zip'].astype('int64')\n",
    "df_nt = trips.loc[:, ['origin_zip',\n",
    "                      'dest_zip',\n",
    "                      'distance']].rename(columns={'origin_zip': 'origin',\n",
    "                                                   'dest_zip': 'destination',\n",
    "                                                   'distance': 'distance_network'})"
   ],
   "metadata": {
    "collapsed": false,
    "pycharm": {
     "name": "#%%\n"
    }
   }
  },
  {
   "cell_type": "code",
   "execution_count": 14,
   "outputs": [],
   "source": [
    "# calculate ODM-based distances\n",
    "ground_truth = region_path[region]['gt']\n",
    "# load zones\n",
    "ground_truth.load_zones()"
   ],
   "metadata": {
    "collapsed": false,
    "pycharm": {
     "name": "#%%\n"
    }
   }
  },
  {
   "cell_type": "code",
   "execution_count": 15,
   "outputs": [
    {
     "name": "stdout",
     "output_type": "stream",
     "text": [
      "Calculating distances between zones...\n"
     ]
    }
   ],
   "source": [
    "distances_nt = pd.DataFrame(genericvalidation.zone_distances(ground_truth.zones))\n",
    "idx = distances_nt.index.rename(['origin', 'destination'])\n",
    "distances_nt.set_index(idx, inplace=True)\n",
    "distances_nt = distances_nt.reset_index()\n",
    "distances_nt.columns = [\"origin\", \"destination\", 'distance']"
   ],
   "metadata": {
    "collapsed": false,
    "pycharm": {
     "name": "#%%\n"
    }
   }
  },
  {
   "cell_type": "code",
   "execution_count": 16,
   "outputs": [
    {
     "data": {
      "text/plain": "   origin  destination  distance\n0    1011         1011  0.000000\n1    1011         1012  0.736195\n2    1011         1013  3.463281\n3    1011         1014  3.789964\n4    1011         1015  1.683830",
      "text/html": "<div>\n<style scoped>\n    .dataframe tbody tr th:only-of-type {\n        vertical-align: middle;\n    }\n\n    .dataframe tbody tr th {\n        vertical-align: top;\n    }\n\n    .dataframe thead th {\n        text-align: right;\n    }\n</style>\n<table border=\"1\" class=\"dataframe\">\n  <thead>\n    <tr style=\"text-align: right;\">\n      <th></th>\n      <th>origin</th>\n      <th>destination</th>\n      <th>distance</th>\n    </tr>\n  </thead>\n  <tbody>\n    <tr>\n      <th>0</th>\n      <td>1011</td>\n      <td>1011</td>\n      <td>0.000000</td>\n    </tr>\n    <tr>\n      <th>1</th>\n      <td>1011</td>\n      <td>1012</td>\n      <td>0.736195</td>\n    </tr>\n    <tr>\n      <th>2</th>\n      <td>1011</td>\n      <td>1013</td>\n      <td>3.463281</td>\n    </tr>\n    <tr>\n      <th>3</th>\n      <td>1011</td>\n      <td>1014</td>\n      <td>3.789964</td>\n    </tr>\n    <tr>\n      <th>4</th>\n      <td>1011</td>\n      <td>1015</td>\n      <td>1.683830</td>\n    </tr>\n  </tbody>\n</table>\n</div>"
     },
     "execution_count": 16,
     "metadata": {},
     "output_type": "execute_result"
    }
   ],
   "source": [
    "distances_nt.head()"
   ],
   "metadata": {
    "collapsed": false,
    "pycharm": {
     "name": "#%%\n"
    }
   }
  },
  {
   "cell_type": "code",
   "execution_count": 17,
   "outputs": [
    {
     "data": {
      "text/plain": "   origin  destination  distance_network  distance\n0    9718         9712               0.5  1.076508\n1    9718         9712               0.5  1.076508\n2    9718         9712               2.1  1.076508\n3    9718         9712               2.5  1.076508\n4    9718         9712               1.2  1.076508",
      "text/html": "<div>\n<style scoped>\n    .dataframe tbody tr th:only-of-type {\n        vertical-align: middle;\n    }\n\n    .dataframe tbody tr th {\n        vertical-align: top;\n    }\n\n    .dataframe thead th {\n        text-align: right;\n    }\n</style>\n<table border=\"1\" class=\"dataframe\">\n  <thead>\n    <tr style=\"text-align: right;\">\n      <th></th>\n      <th>origin</th>\n      <th>destination</th>\n      <th>distance_network</th>\n      <th>distance</th>\n    </tr>\n  </thead>\n  <tbody>\n    <tr>\n      <th>0</th>\n      <td>9718</td>\n      <td>9712</td>\n      <td>0.5</td>\n      <td>1.076508</td>\n    </tr>\n    <tr>\n      <th>1</th>\n      <td>9718</td>\n      <td>9712</td>\n      <td>0.5</td>\n      <td>1.076508</td>\n    </tr>\n    <tr>\n      <th>2</th>\n      <td>9718</td>\n      <td>9712</td>\n      <td>2.1</td>\n      <td>1.076508</td>\n    </tr>\n    <tr>\n      <th>3</th>\n      <td>9718</td>\n      <td>9712</td>\n      <td>2.5</td>\n      <td>1.076508</td>\n    </tr>\n    <tr>\n      <th>4</th>\n      <td>9718</td>\n      <td>9712</td>\n      <td>1.2</td>\n      <td>1.076508</td>\n    </tr>\n  </tbody>\n</table>\n</div>"
     },
     "execution_count": 17,
     "metadata": {},
     "output_type": "execute_result"
    }
   ],
   "source": [
    "df_nt = pd.merge(df_nt, distances_nt, on=[\"origin\", \"destination\"])\n",
    "df_nt.head()"
   ],
   "metadata": {
    "collapsed": false,
    "pycharm": {
     "name": "#%%\n"
    }
   }
  },
  {
   "cell_type": "markdown",
   "source": [
    "## 2. Merge two areas' data and save it"
   ],
   "metadata": {
    "collapsed": false,
    "pycharm": {
     "name": "#%% md\n"
    }
   }
  },
  {
   "cell_type": "code",
   "execution_count": 18,
   "outputs": [],
   "source": [
    "df_se.loc[:, 'region'] = 'sweden'\n",
    "df_nt.loc[:, 'region'] = 'netherlands'\n",
    "df_se = df_se.loc[df_se.distance > 0.1, :]\n",
    "df_nt = df_nt.loc[df_nt.distance > 0.1, :]\n",
    "df = pd.concat([df_se, df_nt])"
   ],
   "metadata": {
    "collapsed": false,
    "pycharm": {
     "name": "#%%\n"
    }
   }
  },
  {
   "cell_type": "code",
   "execution_count": 19,
   "outputs": [],
   "source": [
    "df.to_csv(ROOT_dir + '/dbs/distance_error_data.csv', index=False)"
   ],
   "metadata": {
    "collapsed": false,
    "pycharm": {
     "name": "#%%\n"
    }
   }
  }
 ],
 "metadata": {
  "kernelspec": {
   "display_name": "Python 3",
   "language": "python",
   "name": "python3"
  },
  "language_info": {
   "codemirror_mode": {
    "name": "ipython",
    "version": 2
   },
   "file_extension": ".py",
   "mimetype": "text/x-python",
   "name": "python",
   "nbconvert_exporter": "python",
   "pygments_lexer": "ipython2",
   "version": "2.7.6"
  }
 },
 "nbformat": 4,
 "nbformat_minor": 0
}
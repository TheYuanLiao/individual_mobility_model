{
 "cells": [
  {
   "cell_type": "markdown",
   "metadata": {
    "collapsed": true,
    "pycharm": {
     "name": "#%% md\n"
    }
   },
   "source": [
    "# Summary of multi-region results\n",
    "\n",
    "Summarize geotagged tweets and generated visits of the multiple regions."
   ]
  },
  {
   "cell_type": "code",
   "execution_count": 1,
   "outputs": [],
   "source": [
    "%load_ext autoreload\n",
    "%autoreload 2"
   ],
   "metadata": {
    "collapsed": false,
    "pycharm": {
     "name": "#%% load_ext autoreload\n"
    }
   }
  },
  {
   "cell_type": "code",
   "execution_count": 17,
   "outputs": [],
   "source": [
    "import numpy as np\n",
    "import pandas as pd\n",
    "import yaml\n",
    "from scipy import stats\n",
    "\n",
    "def load_region_tweets(region=None):\n",
    "    df = pd.read_csv(f'../../dbs/{region}/geotweets.csv')\n",
    "    num_users = len(df.userid.unique())\n",
    "    num_geo = len(df)\n",
    "    return region, num_users, num_geo\n",
    "\n",
    "\n",
    "def user_proc(data):\n",
    "    return pd.Series({'pkt': data.pkt.sum(),\n",
    "                      'pkt_inland': data.pkt_inland.sum(),\n",
    "                      'num_trips': data.num_trip.sum(),\n",
    "                      'num_trips_inland': data.num_trip_inland.sum()})\n",
    "\n",
    "\n",
    "def quantify_visits(region=None, runid=2):\n",
    "    df_v = pd.read_csv(f'../../dbs/{region}/visits/visits_{runid}_stats.csv')\n",
    "    df_users = df_v.groupby('userid').apply(user_proc).reset_index()\n",
    "    return region, df_users.pkt.sum(), df_users.pkt_inland.sum(), df_users.num_trips.sum(), df_users.num_trips_inland.sum()\n",
    "\n",
    "def get_recent_records_gt(data):\n",
    "    data = data.loc[data['Year'] == max(data['Year']), ['Year', 'Unit', 'Value']].reset_index(drop=True)\n",
    "    return data\n",
    "\n",
    "region_list = ['sweden', 'netherlands', 'saopaulo', 'australia', 'austria', 'barcelona',\n",
    "               'capetown', 'cebu', 'egypt', 'guadalajara', 'jakarta',\n",
    "               'johannesburg', 'kualalumpur', 'lagos', 'madrid', 'manila', 'mexicocity', 'moscow', 'nairobi',\n",
    "               'rio', 'saudiarabia', 'stpertersburg', 'surabaya']\n",
    "\n",
    "region_list2 = ['australia', 'austria', 'barcelona', 'capetown', 'cebu', 'egypt', 'guadalajara', 'jakarta',\n",
    "               'johannesburg', 'kualalumpur', 'lagos', 'madrid', 'manila', 'mexicocity', 'moscow', 'nairobi',\n",
    "               'rio', 'saudiarabia', 'stpertersburg', 'surabaya']\n",
    "\n",
    "with open('../../lib/regions.yaml', encoding='utf8') as f:\n",
    "    region_manager = yaml.load(f, Loader=yaml.FullLoader)"
   ],
   "metadata": {
    "collapsed": false,
    "pycharm": {
     "name": "#%%\n"
    }
   }
  },
  {
   "cell_type": "markdown",
   "source": [
    "## 1 Summarize the geotagged tweets used as input to the model\n",
    "Geotagged tweets: No. of geotagged tweets, No. of Twitter users.\n",
    "\n",
    "Generated visits: No. of trips, PKT\n",
    "\n",
    "Days in total is 120, therefore, it needs to scale up by multiplying 365/120 to represent all the weekday trips in a year."
   ],
   "metadata": {
    "collapsed": false
   }
  },
  {
   "cell_type": "code",
   "execution_count": 3,
   "outputs": [],
   "source": [
    "df = pd.DataFrame([load_region_tweets(region=x) for x in region_list],\n",
    "                  columns=('region', 'num_users', 'num_geotweets'))"
   ],
   "metadata": {
    "collapsed": false,
    "pycharm": {
     "name": "#%%\n"
    }
   }
  },
  {
   "cell_type": "markdown",
   "source": [
    "## 2 Explore the visits generated from the model"
   ],
   "metadata": {
    "collapsed": false,
    "pycharm": {
     "name": "#%% md\n"
    }
   }
  },
  {
   "cell_type": "code",
   "execution_count": 4,
   "outputs": [],
   "source": [
    "df_v = pd.DataFrame([quantify_visits(region=x) for x in region_list],\n",
    "                    columns=('region', 'pkt', 'pkt_inland', 'num_trips', 'num_trips_inland'))\n",
    "df_v.loc[:, 'pkt_yr'] = df_v.loc[:, 'pkt']/10e6 /120 * 365\n",
    "df_v.loc[:, 'num_trips_yr'] = df_v.loc[:, 'num_trips']/10e6 /120 * 365\n",
    "df_v.loc[:, 'pkt_inland_yr'] = df_v.loc[:, 'pkt_inland']/10e6 /120 * 365\n",
    "df_v.loc[:, 'num_trips_inland_yr'] = df_v.loc[:, 'num_trips_inland']/10e6 /120 * 365"
   ],
   "metadata": {
    "collapsed": false,
    "pycharm": {
     "name": "#%%\n"
    }
   }
  },
  {
   "cell_type": "markdown",
   "source": [
    "## 3 Combine different dimensions"
   ],
   "metadata": {
    "collapsed": false,
    "pycharm": {
     "name": "#%% md\n"
    }
   }
  },
  {
   "cell_type": "code",
   "execution_count": 5,
   "outputs": [],
   "source": [
    "df_v.loc[:, 'gdp_capita'] = df_v.loc[:, 'region'].apply(lambda x: region_manager[x]['gdp_capita'])\n",
    "df_v.loc[:, 'region_name'] = df_v.loc[:, 'region'].apply(lambda x: region_manager[x]['name'])\n",
    "df_v.loc[:, 'country'] = df_v.loc[:, 'region'].apply(lambda x: region_manager[x]['country'])\n",
    "df_v.loc[:, 'pop_country'] = df_v.loc[:, 'region'].apply(lambda x: region_manager[x]['pop_country'])"
   ],
   "metadata": {
    "collapsed": false,
    "pycharm": {
     "name": "#%%\n"
    }
   }
  },
  {
   "cell_type": "code",
   "execution_count": 6,
   "outputs": [],
   "source": [
    "df_n = pd.merge(df, df_v, on='region', how='inner')\n",
    "df_n.loc[:, 'pkt_yr_capita'] = df_n.loc[:, 'pkt_yr'] / df_n.loc[:, 'num_users']\n",
    "df_n.loc[:, 'pkt_inland_yr_capita'] = df_n.loc[:, 'pkt_inland_yr'] / df_n.loc[:, 'num_users']"
   ],
   "metadata": {
    "collapsed": false,
    "pycharm": {
     "name": "#%%\n"
    }
   }
  },
  {
   "cell_type": "markdown",
   "source": [
    "## 4 Compare with the 'ground truth' of PKT"
   ],
   "metadata": {
    "collapsed": false,
    "pycharm": {
     "name": "#%% md\n"
    }
   }
  },
  {
   "cell_type": "code",
   "execution_count": 7,
   "outputs": [],
   "source": [
    "df_p = pd.read_csv('../../dbs/T000_input.txt')\n",
    "df_p = df_p.loc[df_p['Variable'] == 'Total inland passenger transport']\n",
    "df_p = df_p.groupby('Country').apply(get_recent_records_gt).reset_index().drop(columns=['level_1'])"
   ],
   "metadata": {
    "collapsed": false,
    "pycharm": {
     "name": "#%%\n"
    }
   }
  },
  {
   "cell_type": "code",
   "execution_count": 8,
   "outputs": [],
   "source": [
    "df_n = pd.merge(df_n, df_p, left_on='country', right_on='Country', how='outer').dropna(subset=['region'])\n",
    "df_n.loc[:, 'pkt_inland_yr_capita_gt'] = df_n.apply(lambda row: row['Value']/row['pop_country']/10e6 if not np.isnan(row['Value']) else np.nan,\n",
    "                                             axis=1)# million / capita /yr\n",
    "df_n = df_n.drop(columns=['Country', 'Unit', 'Value'])"
   ],
   "metadata": {
    "collapsed": false,
    "pycharm": {
     "name": "#%%\n"
    }
   }
  },
  {
   "cell_type": "code",
   "execution_count": 19,
   "outputs": [],
   "source": [
    "df_n.to_csv('../../results/multi-region_stats.csv', index=False, encoding='utf-8-sig')"
   ],
   "metadata": {
    "collapsed": false,
    "pycharm": {
     "name": "#%%\n"
    }
   }
  },
  {
   "cell_type": "markdown",
   "source": [
    "## 5 Correlation between gdp_capita and pkt_yr_capita"
   ],
   "metadata": {
    "collapsed": false,
    "pycharm": {
     "name": "#%% md\n"
    }
   }
  },
  {
   "cell_type": "code",
   "execution_count": 11,
   "outputs": [
    {
     "name": "stdout",
     "output_type": "stream",
     "text": [
      "Total:\n",
      "(0.6470840240023001, 0.000846161735628376)\n",
      "Total without Australia:\n",
      "(0.5598986738968241, 0.006733166207086014)\n",
      "Inland:\n",
      "(0.018269037010986845, 0.9340616184450294)\n"
     ]
    }
   ],
   "source": [
    "print('Total:')\n",
    "print(stats.pearsonr(df_n.loc[:, 'pkt_yr_capita'], df_n.loc[:, 'gdp_capita']))\n",
    "\n",
    "print('Total without Australia:')\n",
    "df_n_outlier_removed = df_n.loc[df_n.region != 'australia']\n",
    "print(stats.pearsonr(df_n_outlier_removed.loc[:, 'pkt_yr_capita'], df_n_outlier_removed.loc[:, 'gdp_capita']))\n",
    "\n",
    "print('Inland:')\n",
    "print(stats.pearsonr(df_n.loc[:, 'pkt_inland_yr_capita'], df_n.loc[:, 'gdp_capita']))\n"
   ],
   "metadata": {
    "collapsed": false,
    "pycharm": {
     "name": "#%%\n"
    }
   }
  },
  {
   "cell_type": "markdown",
   "source": [
    "## 6 Compare inland PKT between model output and iTem source"
   ],
   "metadata": {
    "collapsed": false
   }
  },
  {
   "cell_type": "code",
   "execution_count": 24,
   "outputs": [
    {
     "data": {
      "text/plain": "                 region_name  num_users  pkt_inland_yr_capita  \\\n0                     Sweden     3961.0              0.004658   \n4                  Australia     3310.0              0.011464   \n5                    Austria      729.0              0.001884   \n6           Barcelona, Spain     1891.0              0.000204   \n7              Madrid, Spain     3172.0              0.007770   \n13       Guadalajara, Mexico      684.0              0.007267   \n14       Mexico City, Mexico    15615.0              0.005746   \n19            Moscow, Russia     4206.0              0.021452   \n20  Saint Petersburg, Russia     1386.0              0.020650   \n\n    pkt_inland_yr_capita_gt    Year       ratio  \n0                  0.001371  2018.0    3.397099  \n4                  0.001326  2018.0    8.642390  \n5                  0.000908  1992.0    2.075901  \n6                  0.000861  2016.0    0.236962  \n7                  0.000861  2016.0    9.020277  \n13                 0.000428  2018.0   16.976156  \n14                 0.000428  2018.0   13.422784  \n19                 0.000175  2018.0  122.798685  \n20                 0.000175  2018.0  118.203569  ",
      "text/html": "<div>\n<style scoped>\n    .dataframe tbody tr th:only-of-type {\n        vertical-align: middle;\n    }\n\n    .dataframe tbody tr th {\n        vertical-align: top;\n    }\n\n    .dataframe thead th {\n        text-align: right;\n    }\n</style>\n<table border=\"1\" class=\"dataframe\">\n  <thead>\n    <tr style=\"text-align: right;\">\n      <th></th>\n      <th>region_name</th>\n      <th>num_users</th>\n      <th>pkt_inland_yr_capita</th>\n      <th>pkt_inland_yr_capita_gt</th>\n      <th>Year</th>\n      <th>ratio</th>\n    </tr>\n  </thead>\n  <tbody>\n    <tr>\n      <th>0</th>\n      <td>Sweden</td>\n      <td>3961.0</td>\n      <td>0.004658</td>\n      <td>0.001371</td>\n      <td>2018.0</td>\n      <td>3.397099</td>\n    </tr>\n    <tr>\n      <th>4</th>\n      <td>Australia</td>\n      <td>3310.0</td>\n      <td>0.011464</td>\n      <td>0.001326</td>\n      <td>2018.0</td>\n      <td>8.642390</td>\n    </tr>\n    <tr>\n      <th>5</th>\n      <td>Austria</td>\n      <td>729.0</td>\n      <td>0.001884</td>\n      <td>0.000908</td>\n      <td>1992.0</td>\n      <td>2.075901</td>\n    </tr>\n    <tr>\n      <th>6</th>\n      <td>Barcelona, Spain</td>\n      <td>1891.0</td>\n      <td>0.000204</td>\n      <td>0.000861</td>\n      <td>2016.0</td>\n      <td>0.236962</td>\n    </tr>\n    <tr>\n      <th>7</th>\n      <td>Madrid, Spain</td>\n      <td>3172.0</td>\n      <td>0.007770</td>\n      <td>0.000861</td>\n      <td>2016.0</td>\n      <td>9.020277</td>\n    </tr>\n    <tr>\n      <th>13</th>\n      <td>Guadalajara, Mexico</td>\n      <td>684.0</td>\n      <td>0.007267</td>\n      <td>0.000428</td>\n      <td>2018.0</td>\n      <td>16.976156</td>\n    </tr>\n    <tr>\n      <th>14</th>\n      <td>Mexico City, Mexico</td>\n      <td>15615.0</td>\n      <td>0.005746</td>\n      <td>0.000428</td>\n      <td>2018.0</td>\n      <td>13.422784</td>\n    </tr>\n    <tr>\n      <th>19</th>\n      <td>Moscow, Russia</td>\n      <td>4206.0</td>\n      <td>0.021452</td>\n      <td>0.000175</td>\n      <td>2018.0</td>\n      <td>122.798685</td>\n    </tr>\n    <tr>\n      <th>20</th>\n      <td>Saint Petersburg, Russia</td>\n      <td>1386.0</td>\n      <td>0.020650</td>\n      <td>0.000175</td>\n      <td>2018.0</td>\n      <td>118.203569</td>\n    </tr>\n  </tbody>\n</table>\n</div>"
     },
     "execution_count": 24,
     "metadata": {},
     "output_type": "execute_result"
    }
   ],
   "source": [
    "df_n2comp = df_n.loc[~np.isnan(df_n.pkt_inland_yr_capita_gt),\n",
    "                     ['region_name', 'num_users', 'pkt_inland_yr_capita', 'pkt_inland_yr_capita_gt', 'Year']]\n",
    "df_n2comp.loc[:, 'ratio'] = df_n2comp.loc[:, 'pkt_inland_yr_capita'] / df_n2comp.loc[:, 'pkt_inland_yr_capita_gt']\n",
    "df_n2comp"
   ],
   "metadata": {
    "collapsed": false,
    "pycharm": {
     "name": "#%%\n"
    }
   }
  }
 ],
 "metadata": {
  "kernelspec": {
   "display_name": "Python 3",
   "language": "python",
   "name": "python3"
  },
  "language_info": {
   "codemirror_mode": {
    "name": "ipython",
    "version": 2
   },
   "file_extension": ".py",
   "mimetype": "text/x-python",
   "name": "python",
   "nbconvert_exporter": "python",
   "pygments_lexer": "ipython2",
   "version": "2.7.6"
  }
 },
 "nbformat": 4,
 "nbformat_minor": 0
}
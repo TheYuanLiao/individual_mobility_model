{
 "cells": [
  {
   "cell_type": "markdown",
   "metadata": {
    "collapsed": true,
    "pycharm": {
     "name": "#%% md\n"
    }
   },
   "source": [
    "# Summary of multi-region results\n",
    "\n",
    "Summarize geotagged tweets and generated visits of the multiple regions."
   ]
  },
  {
   "cell_type": "code",
   "execution_count": 1,
   "outputs": [],
   "source": [
    "%load_ext autoreload\n",
    "%autoreload 2"
   ],
   "metadata": {
    "collapsed": false,
    "pycharm": {
     "name": "#%% load_ext autoreload\n"
    }
   }
  },
  {
   "cell_type": "code",
   "execution_count": 2,
   "outputs": [],
   "source": [
    "import pandas as pd\n",
    "import yaml\n",
    "from scipy import stats\n",
    "\n",
    "def load_region_tweets(region=None):\n",
    "    df = pd.read_csv(f'../../dbs/{region}/geotweets.csv')\n",
    "    num_users = len(df.userid.unique())\n",
    "    num_geo = len(df)\n",
    "    return region, num_users, num_geo\n",
    "\n",
    "\n",
    "def user_proc(data):\n",
    "    return pd.Series({'pkt': data.pkt.sum(),\n",
    "                      'pkt_inland': data.pkt_inland.sum(),\n",
    "                      'num_trips': data.num_trip.sum(),\n",
    "                      'num_trips_inland': data.num_trip_inland.sum(),\n",
    "                      'days': len(data.loc[data['pkt'] != 0, :])})\n",
    "\n",
    "\n",
    "def quantify_visits(region=None, runid=3):\n",
    "    df_v = pd.read_csv(f'../../dbs/{region}/visits/visits_{runid}_stats.csv')\n",
    "    df_users = df_v.groupby('userid').apply(user_proc).reset_index()\n",
    "    return region, df_users.pkt.sum(), df_users.pkt_inland.sum(), \\\n",
    "           df_users.num_trips.sum(), df_users.num_trips_inland.sum(), df_users.days.sum()\n",
    "\n",
    "def get_recent_records_gt(data):\n",
    "    data = data.loc[data['Year'] == max(data['Year']), ['Year', 'Unit', 'Value']].reset_index(drop=True)\n",
    "    return data\n",
    "\n",
    "region_list = ['sweden', 'netherlands', 'saopaulo', 'australia', 'austria', 'barcelona',\n",
    "               'capetown', 'cebu', 'egypt', 'guadalajara', 'jakarta',\n",
    "               'johannesburg', 'kualalumpur', 'lagos', 'madrid', 'manila', 'mexicocity', 'moscow', 'nairobi',\n",
    "               'rio', 'saudiarabia', 'stpertersburg', 'surabaya']\n",
    "\n",
    "region_list2 = ['australia', 'austria', 'barcelona', 'capetown', 'cebu', 'egypt', 'guadalajara', 'jakarta',\n",
    "               'johannesburg', 'kualalumpur', 'lagos', 'madrid', 'manila', 'mexicocity', 'moscow', 'nairobi',\n",
    "               'rio', 'saudiarabia', 'stpertersburg', 'surabaya']\n",
    "\n",
    "with open('../../lib/regions.yaml', encoding='utf8') as f:\n",
    "    region_manager = yaml.load(f, Loader=yaml.FullLoader)"
   ],
   "metadata": {
    "collapsed": false,
    "pycharm": {
     "name": "#%%\n"
    }
   }
  },
  {
   "cell_type": "markdown",
   "source": [
    "## 1 Summarize the geotagged tweets used as input to the model\n",
    "Geotagged tweets: No. of geotagged tweets, No. of Twitter users.\n",
    "\n",
    "Generated visits: No. of trips, PKT\n",
    "\n",
    "Days in total is 260, therefore, it needs to scale up by multiplying 365/260 to\n",
    "represent all the weekday trips in a year."
   ],
   "metadata": {
    "collapsed": false
   }
  },
  {
   "cell_type": "code",
   "execution_count": 5,
   "outputs": [],
   "source": [
    "df = pd.DataFrame([load_region_tweets(region=x) for x in region_list],\n",
    "                  columns=('region', 'num_users', 'num_geotweets'))"
   ],
   "metadata": {
    "collapsed": false,
    "pycharm": {
     "name": "#%%\n"
    }
   }
  },
  {
   "cell_type": "markdown",
   "source": [
    "## 2 Explore the visits generated from the model"
   ],
   "metadata": {
    "collapsed": false
   }
  },
  {
   "cell_type": "code",
   "execution_count": 4,
   "outputs": [
    {
     "ename": "NameError",
     "evalue": "name 'df' is not defined",
     "output_type": "error",
     "traceback": [
      "\u001B[1;31m---------------------------------------------------------------------------\u001B[0m",
      "\u001B[1;31mNameError\u001B[0m                                 Traceback (most recent call last)",
      "\u001B[1;32m<ipython-input-4-133a3642989e>\u001B[0m in \u001B[0;36m<module>\u001B[1;34m\u001B[0m\n\u001B[0;32m      3\u001B[0m                     columns=('region', 'pkt', 'pkt_inland',\n\u001B[0;32m      4\u001B[0m                              'num_trips', 'num_trips_inland', 'days'))\n\u001B[1;32m----> 5\u001B[1;33m \u001B[0mdf_v\u001B[0m \u001B[1;33m=\u001B[0m \u001B[0mpd\u001B[0m\u001B[1;33m.\u001B[0m\u001B[0mmerge\u001B[0m\u001B[1;33m(\u001B[0m\u001B[0mdf\u001B[0m\u001B[1;33m,\u001B[0m \u001B[0mdf_v\u001B[0m\u001B[1;33m,\u001B[0m \u001B[0mon\u001B[0m\u001B[1;33m=\u001B[0m\u001B[1;34m'region'\u001B[0m\u001B[1;33m,\u001B[0m \u001B[0mhow\u001B[0m\u001B[1;33m=\u001B[0m\u001B[1;34m'inner'\u001B[0m\u001B[1;33m)\u001B[0m\u001B[1;33m\u001B[0m\u001B[1;33m\u001B[0m\u001B[0m\n\u001B[0m\u001B[0;32m      6\u001B[0m \u001B[0mdf_v\u001B[0m\u001B[1;33m.\u001B[0m\u001B[0mloc\u001B[0m\u001B[1;33m[\u001B[0m\u001B[1;33m:\u001B[0m\u001B[1;33m,\u001B[0m \u001B[1;34m'pkt_yr'\u001B[0m\u001B[1;33m]\u001B[0m \u001B[1;33m=\u001B[0m \u001B[0mdf_v\u001B[0m\u001B[1;33m.\u001B[0m\u001B[0mloc\u001B[0m\u001B[1;33m[\u001B[0m\u001B[1;33m:\u001B[0m\u001B[1;33m,\u001B[0m \u001B[1;34m'pkt'\u001B[0m\u001B[1;33m]\u001B[0m\u001B[1;33m/\u001B[0m\u001B[1;36m10e3\u001B[0m \u001B[1;33m/\u001B[0m\u001B[0mdf_v\u001B[0m\u001B[1;33m.\u001B[0m\u001B[0mloc\u001B[0m\u001B[1;33m[\u001B[0m\u001B[1;33m:\u001B[0m\u001B[1;33m,\u001B[0m \u001B[1;34m'days'\u001B[0m\u001B[1;33m]\u001B[0m \u001B[1;33m*\u001B[0m \u001B[1;36m365\u001B[0m \u001B[1;33m*\u001B[0m \u001B[0mdf_v\u001B[0m\u001B[1;33m.\u001B[0m\u001B[0mloc\u001B[0m\u001B[1;33m[\u001B[0m\u001B[1;33m:\u001B[0m\u001B[1;33m,\u001B[0m \u001B[1;34m'num_users'\u001B[0m\u001B[1;33m]\u001B[0m\u001B[1;33m\u001B[0m\u001B[1;33m\u001B[0m\u001B[0m\n\u001B[0;32m      7\u001B[0m \u001B[1;33m\u001B[0m\u001B[0m\n",
      "\u001B[1;31mNameError\u001B[0m: name 'df' is not defined"
     ]
    }
   ],
   "source": [
    "runid = 7\n",
    "df_v = pd.DataFrame([quantify_visits(region=x, runid=runid) for x in region_list],\n",
    "                    columns=('region', 'pkt', 'pkt_inland',\n",
    "                             'num_trips', 'num_trips_inland', 'days'))"
   ],
   "metadata": {
    "collapsed": false,
    "pycharm": {
     "name": "#%%\n"
    }
   }
  },
  {
   "cell_type": "code",
   "execution_count": 6,
   "outputs": [],
   "source": [
    "df_v = pd.merge(df, df_v, on='region', how='inner')\n",
    "df_v.loc[:, 'pkt_yr'] = df_v.loc[:, 'pkt']/10e3 /df_v.loc[:, 'days'] * 365 * df_v.loc[:, 'num_users']\n",
    "\n",
    "df_v.loc[:, 'num_trips_yr'] = df_v.loc[:, 'num_trips']/10e3 /df_v.loc[:, 'days'] * 365 * df_v.loc[:, 'num_users']\n",
    "df_v.loc[:, 'pkt_inland_yr'] = df_v.loc[:, 'pkt_inland']/10e3 /df_v.loc[:, 'days'] * 365 * df_v.loc[:, 'num_users']\n",
    "df_v.loc[:, 'num_trips_inland_yr'] = df_v.loc[:, 'num_trips_inland']/10e3 /df_v.loc[:, 'days'] * 365 * df_v.loc[:, 'num_users']"
   ],
   "metadata": {
    "collapsed": false,
    "pycharm": {
     "name": "#%%\n"
    }
   }
  },
  {
   "cell_type": "markdown",
   "source": [
    "## 3 Combine different dimensions"
   ],
   "metadata": {
    "collapsed": false,
    "pycharm": {
     "name": "#%% md\n"
    }
   }
  },
  {
   "cell_type": "code",
   "execution_count": 7,
   "outputs": [],
   "source": [
    "df_v.loc[:, 'gdp_capita'] = df_v.loc[:, 'region'].apply(lambda x: region_manager[x]['gdp_capita'])\n",
    "df_v.loc[:, 'region_name'] = df_v.loc[:, 'region'].apply(lambda x: region_manager[x]['name'])\n",
    "df_v.loc[:, 'country'] = df_v.loc[:, 'region'].apply(lambda x: region_manager[x]['country'])\n",
    "df_v.loc[:, 'pop_country'] = df_v.loc[:, 'region'].apply(lambda x: region_manager[x]['pop_country'])"
   ],
   "metadata": {
    "collapsed": false,
    "pycharm": {
     "name": "#%%\n"
    }
   }
  },
  {
   "cell_type": "code",
   "execution_count": 8,
   "outputs": [],
   "source": [
    "df_v.loc[:, 'pkt_yr_capita'] = df_v.loc[:, 'pkt_yr'] / df_v.loc[:, 'num_users']\n",
    "df_v.loc[:, 'pkt_inland_yr_capita'] = df_v.loc[:, 'pkt_inland_yr'] / df_v.loc[:, 'num_users']\n",
    "df_v.loc[:, 'city'] = df_v.loc[:, 'region_name'].apply(lambda x: 1 if ',' in x else 0)"
   ],
   "metadata": {
    "collapsed": false,
    "pycharm": {
     "name": "#%%\n"
    }
   }
  },
  {
   "cell_type": "code",
   "execution_count": 9,
   "outputs": [],
   "source": [
    "df_v.to_csv(f'../../results/multi-region_stats_rid_{runid}.csv', index=False, encoding='utf-8-sig')"
   ],
   "metadata": {
    "collapsed": false,
    "pycharm": {
     "name": "#%%\n"
    }
   }
  },
  {
   "cell_type": "markdown",
   "source": [
    "## 4 Process the 'ground truth' of PKT vs GDP"
   ],
   "metadata": {
    "collapsed": false,
    "pycharm": {
     "name": "#%% md\n"
    }
   }
  },
  {
   "cell_type": "code",
   "execution_count": 10,
   "outputs": [],
   "source": [
    "country_list = ['Australia', 'Canada', 'China', 'Austria', 'Belgium',\n",
    "       'Bulgaria', 'Czech Republic', 'Denmark', 'Finland', 'France', 'Germany',\n",
    "       'Greece', 'Hungary', 'Italy', 'Lithuania', 'Malta', 'Netherlands',\n",
    "       'Poland', 'Portugal', 'Slovak Republic', 'Slovenia', 'Spain', 'Sweden',\n",
    "       'United Kingdom', 'India', 'Japan', 'Albania', 'Armenia', 'Azerbaijan',\n",
    "       'Belarus', 'Georgia', 'Iceland', 'Montenegro, Republic of',\n",
    "       'North Macedonia', 'Norway', 'Serbia, Republic of', 'Switzerland',\n",
    "       'Turkey', 'Argentina', 'Russian Federation',\n",
    "       \"Korea, Democratic People's Republic of\", 'United States of America']\n",
    "\n",
    "country_name_mapping = {'United Kingdom': 'U.K.', 'United States of America': 'U.S.',\n",
    "                        'Montenegro, Republic of': 'Montenegro',\n",
    "                        'Netherlands': 'The Netherlands',\n",
    "                        'Serbia, Republic of': 'Serbia', 'Russian Federation': 'Russia',\n",
    "                        \"Korea, Democratic People's Republic of\": 'South Korea'}\n",
    "\n",
    "df_pkt_list = []\n",
    "df_pkt = pd.read_excel('../../dbs/pkt_gdp.xlsx', sheet_name='Sheet6')\n",
    "for c in country_list:\n",
    "    df_tp = df_pkt.loc[:, ['Country', c]].rename(columns={'Country': 'year',\n",
    "                                                          c: 'pkt_inland_yr_capita'})\n",
    "    df_tp.loc[:, 'country'] = c\n",
    "    df_pkt_list.append(df_tp)\n",
    "df_pkt = pd.concat(df_pkt_list)\n",
    "df_pkt.loc[:, 'country'] = df_pkt.loc[:, 'country'].apply(lambda x: x if x not in country_name_mapping else country_name_mapping[x])\n",
    "\n",
    "df_gdp_list = []\n",
    "df_gdp = pd.read_excel('../../dbs/pkt_gdp.xlsx', sheet_name='Sheet7')\n",
    "for c in country_list:\n",
    "    df_tp = df_gdp.loc[:, ['Country', c]].rename(columns={'Country': 'year',\n",
    "                                                          c: 'gdp_capita'})\n",
    "    df_tp.loc[:, 'country'] = c\n",
    "    df_gdp_list.append(df_tp)\n",
    "df_gdp = pd.concat(df_gdp_list)\n",
    "df_gdp.loc[:, 'country'] = df_gdp.loc[:, 'country'].apply(lambda x: x if x not in country_name_mapping else country_name_mapping[x])\n",
    "\n",
    "df_gt = pd.merge(df_pkt, df_gdp, on=['country', 'year'])\n",
    "df_gt = df_gt.dropna()\n"
   ],
   "metadata": {
    "collapsed": false,
    "pycharm": {
     "name": "#%%\n"
    }
   }
  },
  {
   "cell_type": "code",
   "execution_count": 11,
   "outputs": [
    {
     "data": {
      "text/plain": "   year  pkt_inland_yr_capita    country  gdp_capita  tw\n0  1980             10.494643  Australia   31.382796   1\n1  1981             10.547323  Australia   32.015521   1\n2  1982             10.915987  Australia   32.634920   1\n3  1983             10.876303  Australia   31.456766   1\n4  1984             11.252590  Australia   32.411512   1",
      "text/html": "<div>\n<style scoped>\n    .dataframe tbody tr th:only-of-type {\n        vertical-align: middle;\n    }\n\n    .dataframe tbody tr th {\n        vertical-align: top;\n    }\n\n    .dataframe thead th {\n        text-align: right;\n    }\n</style>\n<table border=\"1\" class=\"dataframe\">\n  <thead>\n    <tr style=\"text-align: right;\">\n      <th></th>\n      <th>year</th>\n      <th>pkt_inland_yr_capita</th>\n      <th>country</th>\n      <th>gdp_capita</th>\n      <th>tw</th>\n    </tr>\n  </thead>\n  <tbody>\n    <tr>\n      <th>0</th>\n      <td>1980</td>\n      <td>10.494643</td>\n      <td>Australia</td>\n      <td>31.382796</td>\n      <td>1</td>\n    </tr>\n    <tr>\n      <th>1</th>\n      <td>1981</td>\n      <td>10.547323</td>\n      <td>Australia</td>\n      <td>32.015521</td>\n      <td>1</td>\n    </tr>\n    <tr>\n      <th>2</th>\n      <td>1982</td>\n      <td>10.915987</td>\n      <td>Australia</td>\n      <td>32.634920</td>\n      <td>1</td>\n    </tr>\n    <tr>\n      <th>3</th>\n      <td>1983</td>\n      <td>10.876303</td>\n      <td>Australia</td>\n      <td>31.456766</td>\n      <td>1</td>\n    </tr>\n    <tr>\n      <th>4</th>\n      <td>1984</td>\n      <td>11.252590</td>\n      <td>Australia</td>\n      <td>32.411512</td>\n      <td>1</td>\n    </tr>\n  </tbody>\n</table>\n</div>"
     },
     "execution_count": 11,
     "metadata": {},
     "output_type": "execute_result"
    }
   ],
   "source": [
    "# The below countries appear in the Twitter-based estimations\n",
    "gt_list = ['Australia', 'Austria', 'The Netherlands', 'Spain', 'Sweden', 'Russia']\n",
    "df_gt.loc[:, 'tw'] = df_gt.loc[:, 'country'].apply(lambda x: 1 if x in gt_list else 0)\n",
    "df_gt.head()"
   ],
   "metadata": {
    "collapsed": false,
    "pycharm": {
     "name": "#%%\n"
    }
   }
  },
  {
   "cell_type": "code",
   "execution_count": 12,
   "outputs": [],
   "source": [
    "df_gt.to_csv(f'../../results/multi-region_stats_gt.csv', index=False, encoding='utf-8-sig')"
   ],
   "metadata": {
    "collapsed": false,
    "pycharm": {
     "name": "#%%\n"
    }
   }
  },
  {
   "cell_type": "markdown",
   "source": [
    "## 5 Correlation between gdp_capita and pkt_yr_capita"
   ],
   "metadata": {
    "collapsed": false,
    "pycharm": {
     "name": "#%% md\n"
    }
   }
  },
  {
   "cell_type": "code",
   "execution_count": 13,
   "outputs": [
    {
     "name": "stdout",
     "output_type": "stream",
     "text": [
      "Total:\n",
      "(0.14019227607774684, 0.523468749512717)\n",
      "Total without Australia:\n",
      "(0.009881197080280756, 0.9651894411871331)\n"
     ]
    }
   ],
   "source": [
    "print('Total:')\n",
    "print(stats.pearsonr(df_v.loc[:, 'pkt_yr_capita'], df_v.loc[:, 'gdp_capita']))\n",
    "\n",
    "print('Total without Australia:')\n",
    "df_n_outlier_removed = df_v.loc[df_v.region != 'australia']\n",
    "print(stats.pearsonr(df_n_outlier_removed.loc[:, 'pkt_yr_capita'], df_n_outlier_removed.loc[:, 'gdp_capita']))"
   ],
   "metadata": {
    "collapsed": false,
    "pycharm": {
     "name": "#%%\n"
    }
   }
  }
 ],
 "metadata": {
  "kernelspec": {
   "display_name": "Python 3",
   "language": "python",
   "name": "python3"
  },
  "language_info": {
   "codemirror_mode": {
    "name": "ipython",
    "version": 2
   },
   "file_extension": ".py",
   "mimetype": "text/x-python",
   "name": "python",
   "nbconvert_exporter": "python",
   "pygments_lexer": "ipython2",
   "version": "2.7.6"
  }
 },
 "nbformat": 4,
 "nbformat_minor": 0
}
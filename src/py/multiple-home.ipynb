{
 "cells": [
  {
   "cell_type": "code",
   "execution_count": 172,
   "metadata": {},
   "outputs": [
    {
     "data": {
      "text/plain": [
       "<module 'activitiesdf' from '/Users/kristofferek/Documents/git/mscthesis/src/py/activitiesdf.py'>"
      ]
     },
     "execution_count": 172,
     "metadata": {},
     "output_type": "execute_result"
    }
   ],
   "source": [
    "import geopandas as gpd\n",
    "import pandas as pd\n",
    "import matplotlib.pyplot as plt\n",
    "import matplotlib.colors as pltcolors\n",
    "import numpy as np\n",
    "import plotly.express as px\n",
    "import plotly\n",
    "import activitiesdf\n",
    "from datetime import timedelta\n",
    "import importlib\n",
    "importlib.reload(activitiesdf)"
   ]
  },
  {
   "cell_type": "code",
   "execution_count": 183,
   "metadata": {},
   "outputs": [
    {
     "data": {
      "text/html": [
       "<div>\n",
       "<style scoped>\n",
       "    .dataframe tbody tr th:only-of-type {\n",
       "        vertical-align: middle;\n",
       "    }\n",
       "\n",
       "    .dataframe tbody tr th {\n",
       "        vertical-align: top;\n",
       "    }\n",
       "\n",
       "    .dataframe thead th {\n",
       "        text-align: right;\n",
       "    }\n",
       "</style>\n",
       "<table border=\"1\" class=\"dataframe\">\n",
       "  <thead>\n",
       "    <tr style=\"text-align: right;\">\n",
       "      <th></th>\n",
       "      <th>userid</th>\n",
       "      <th>region</th>\n",
       "      <th>tweetid</th>\n",
       "      <th>createdat</th>\n",
       "      <th>latitude</th>\n",
       "      <th>longitude</th>\n",
       "      <th>month</th>\n",
       "      <th>weekday</th>\n",
       "      <th>hourofday</th>\n",
       "      <th>timezone</th>\n",
       "      <th>geometry</th>\n",
       "      <th>tweet_count</th>\n",
       "      <th>quantile</th>\n",
       "      <th>label</th>\n",
       "    </tr>\n",
       "  </thead>\n",
       "  <tbody>\n",
       "    <tr>\n",
       "      <th>0</th>\n",
       "      <td>5616</td>\n",
       "      <td>0</td>\n",
       "      <td>306814580301119488</td>\n",
       "      <td>2013-02-27 18:14:30+01:00</td>\n",
       "      <td>57.599221</td>\n",
       "      <td>18.436371</td>\n",
       "      <td>2.0</td>\n",
       "      <td>3.0</td>\n",
       "      <td>18.0</td>\n",
       "      <td>Europe/Stockholm</td>\n",
       "      <td>POINT (18.43637 57.59922)</td>\n",
       "      <td>2171</td>\n",
       "      <td>(2076.0, 4778.0]</td>\n",
       "      <td>other</td>\n",
       "    </tr>\n",
       "    <tr>\n",
       "      <th>1</th>\n",
       "      <td>5616</td>\n",
       "      <td>0</td>\n",
       "      <td>596331871241379840</td>\n",
       "      <td>2015-05-07 17:12:52+02:00</td>\n",
       "      <td>57.599221</td>\n",
       "      <td>18.436371</td>\n",
       "      <td>5.0</td>\n",
       "      <td>4.0</td>\n",
       "      <td>17.0</td>\n",
       "      <td>Europe/Stockholm</td>\n",
       "      <td>POINT (18.43637 57.59922)</td>\n",
       "      <td>2171</td>\n",
       "      <td>(2076.0, 4778.0]</td>\n",
       "      <td>other</td>\n",
       "    </tr>\n",
       "    <tr>\n",
       "      <th>2</th>\n",
       "      <td>5616</td>\n",
       "      <td>0</td>\n",
       "      <td>623057810864111616</td>\n",
       "      <td>2015-07-20 11:12:12+02:00</td>\n",
       "      <td>57.599221</td>\n",
       "      <td>18.436371</td>\n",
       "      <td>7.0</td>\n",
       "      <td>1.0</td>\n",
       "      <td>11.0</td>\n",
       "      <td>Europe/Stockholm</td>\n",
       "      <td>POINT (18.43637 57.59922)</td>\n",
       "      <td>2171</td>\n",
       "      <td>(2076.0, 4778.0]</td>\n",
       "      <td>other</td>\n",
       "    </tr>\n",
       "    <tr>\n",
       "      <th>3</th>\n",
       "      <td>5616</td>\n",
       "      <td>0</td>\n",
       "      <td>679673567416565760</td>\n",
       "      <td>2015-12-23 15:43:00+01:00</td>\n",
       "      <td>57.599221</td>\n",
       "      <td>18.436371</td>\n",
       "      <td>12.0</td>\n",
       "      <td>3.0</td>\n",
       "      <td>15.0</td>\n",
       "      <td>Europe/Stockholm</td>\n",
       "      <td>POINT (18.43637 57.59922)</td>\n",
       "      <td>2171</td>\n",
       "      <td>(2076.0, 4778.0]</td>\n",
       "      <td>other</td>\n",
       "    </tr>\n",
       "    <tr>\n",
       "      <th>4</th>\n",
       "      <td>5616</td>\n",
       "      <td>0</td>\n",
       "      <td>757647103011262465</td>\n",
       "      <td>2016-07-25 20:42:00+02:00</td>\n",
       "      <td>57.599221</td>\n",
       "      <td>18.436371</td>\n",
       "      <td>7.0</td>\n",
       "      <td>1.0</td>\n",
       "      <td>20.0</td>\n",
       "      <td>Europe/Stockholm</td>\n",
       "      <td>POINT (18.43637 57.59922)</td>\n",
       "      <td>2171</td>\n",
       "      <td>(2076.0, 4778.0]</td>\n",
       "      <td>other</td>\n",
       "    </tr>\n",
       "    <tr>\n",
       "      <th>...</th>\n",
       "      <td>...</td>\n",
       "      <td>...</td>\n",
       "      <td>...</td>\n",
       "      <td>...</td>\n",
       "      <td>...</td>\n",
       "      <td>...</td>\n",
       "      <td>...</td>\n",
       "      <td>...</td>\n",
       "      <td>...</td>\n",
       "      <td>...</td>\n",
       "      <td>...</td>\n",
       "      <td>...</td>\n",
       "      <td>...</td>\n",
       "      <td>...</td>\n",
       "    </tr>\n",
       "    <tr>\n",
       "      <th>1276010</th>\n",
       "      <td>806822309478727680</td>\n",
       "      <td>7</td>\n",
       "      <td>815619064613609472</td>\n",
       "      <td>2017-01-01 19:01:53+01:00</td>\n",
       "      <td>57.716700</td>\n",
       "      <td>12.916700</td>\n",
       "      <td>1.0</td>\n",
       "      <td>0.0</td>\n",
       "      <td>19.0</td>\n",
       "      <td>Europe/Stockholm</td>\n",
       "      <td>POINT (12.91670 57.71670)</td>\n",
       "      <td>44</td>\n",
       "      <td>(4.999, 179.0]</td>\n",
       "      <td>other</td>\n",
       "    </tr>\n",
       "    <tr>\n",
       "      <th>1276011</th>\n",
       "      <td>806822309478727680</td>\n",
       "      <td>7</td>\n",
       "      <td>815835652486938624</td>\n",
       "      <td>2017-01-02 09:22:31+01:00</td>\n",
       "      <td>57.716700</td>\n",
       "      <td>12.916700</td>\n",
       "      <td>1.0</td>\n",
       "      <td>1.0</td>\n",
       "      <td>9.0</td>\n",
       "      <td>Europe/Stockholm</td>\n",
       "      <td>POINT (12.91670 57.71670)</td>\n",
       "      <td>44</td>\n",
       "      <td>(4.999, 179.0]</td>\n",
       "      <td>other</td>\n",
       "    </tr>\n",
       "    <tr>\n",
       "      <th>1276012</th>\n",
       "      <td>806822309478727680</td>\n",
       "      <td>7</td>\n",
       "      <td>815937364736380928</td>\n",
       "      <td>2017-01-02 16:06:41+01:00</td>\n",
       "      <td>57.716700</td>\n",
       "      <td>12.916700</td>\n",
       "      <td>1.0</td>\n",
       "      <td>1.0</td>\n",
       "      <td>16.0</td>\n",
       "      <td>Europe/Stockholm</td>\n",
       "      <td>POINT (12.91670 57.71670)</td>\n",
       "      <td>44</td>\n",
       "      <td>(4.999, 179.0]</td>\n",
       "      <td>other</td>\n",
       "    </tr>\n",
       "    <tr>\n",
       "      <th>1276013</th>\n",
       "      <td>806822309478727680</td>\n",
       "      <td>8</td>\n",
       "      <td>816003760006668288</td>\n",
       "      <td>2017-01-02 20:30:31+01:00</td>\n",
       "      <td>57.730060</td>\n",
       "      <td>12.942200</td>\n",
       "      <td>1.0</td>\n",
       "      <td>1.0</td>\n",
       "      <td>20.0</td>\n",
       "      <td>Europe/Stockholm</td>\n",
       "      <td>POINT (12.94220 57.73006)</td>\n",
       "      <td>44</td>\n",
       "      <td>(4.999, 179.0]</td>\n",
       "      <td>other</td>\n",
       "    </tr>\n",
       "    <tr>\n",
       "      <th>1276014</th>\n",
       "      <td>806822309478727680</td>\n",
       "      <td>9</td>\n",
       "      <td>817472176437608448</td>\n",
       "      <td>2017-01-06 21:45:29+01:00</td>\n",
       "      <td>56.675600</td>\n",
       "      <td>12.854990</td>\n",
       "      <td>1.0</td>\n",
       "      <td>5.0</td>\n",
       "      <td>21.0</td>\n",
       "      <td>Europe/Stockholm</td>\n",
       "      <td>POINT (12.85499 56.67560)</td>\n",
       "      <td>44</td>\n",
       "      <td>(4.999, 179.0]</td>\n",
       "      <td>other</td>\n",
       "    </tr>\n",
       "  </tbody>\n",
       "</table>\n",
       "<p>1276015 rows × 14 columns</p>\n",
       "</div>"
      ],
      "text/plain": [
       "                     userid  region             tweetid  \\\n",
       "0                      5616       0  306814580301119488   \n",
       "1                      5616       0  596331871241379840   \n",
       "2                      5616       0  623057810864111616   \n",
       "3                      5616       0  679673567416565760   \n",
       "4                      5616       0  757647103011262465   \n",
       "...                     ...     ...                 ...   \n",
       "1276010  806822309478727680       7  815619064613609472   \n",
       "1276011  806822309478727680       7  815835652486938624   \n",
       "1276012  806822309478727680       7  815937364736380928   \n",
       "1276013  806822309478727680       8  816003760006668288   \n",
       "1276014  806822309478727680       9  817472176437608448   \n",
       "\n",
       "                         createdat   latitude  longitude  month  weekday  \\\n",
       "0        2013-02-27 18:14:30+01:00  57.599221  18.436371    2.0      3.0   \n",
       "1        2015-05-07 17:12:52+02:00  57.599221  18.436371    5.0      4.0   \n",
       "2        2015-07-20 11:12:12+02:00  57.599221  18.436371    7.0      1.0   \n",
       "3        2015-12-23 15:43:00+01:00  57.599221  18.436371   12.0      3.0   \n",
       "4        2016-07-25 20:42:00+02:00  57.599221  18.436371    7.0      1.0   \n",
       "...                            ...        ...        ...    ...      ...   \n",
       "1276010  2017-01-01 19:01:53+01:00  57.716700  12.916700    1.0      0.0   \n",
       "1276011  2017-01-02 09:22:31+01:00  57.716700  12.916700    1.0      1.0   \n",
       "1276012  2017-01-02 16:06:41+01:00  57.716700  12.916700    1.0      1.0   \n",
       "1276013  2017-01-02 20:30:31+01:00  57.730060  12.942200    1.0      1.0   \n",
       "1276014  2017-01-06 21:45:29+01:00  56.675600  12.854990    1.0      5.0   \n",
       "\n",
       "         hourofday          timezone                   geometry  tweet_count  \\\n",
       "0             18.0  Europe/Stockholm  POINT (18.43637 57.59922)         2171   \n",
       "1             17.0  Europe/Stockholm  POINT (18.43637 57.59922)         2171   \n",
       "2             11.0  Europe/Stockholm  POINT (18.43637 57.59922)         2171   \n",
       "3             15.0  Europe/Stockholm  POINT (18.43637 57.59922)         2171   \n",
       "4             20.0  Europe/Stockholm  POINT (18.43637 57.59922)         2171   \n",
       "...            ...               ...                        ...          ...   \n",
       "1276010       19.0  Europe/Stockholm  POINT (12.91670 57.71670)           44   \n",
       "1276011        9.0  Europe/Stockholm  POINT (12.91670 57.71670)           44   \n",
       "1276012       16.0  Europe/Stockholm  POINT (12.91670 57.71670)           44   \n",
       "1276013       20.0  Europe/Stockholm  POINT (12.94220 57.73006)           44   \n",
       "1276014       21.0  Europe/Stockholm  POINT (12.85499 56.67560)           44   \n",
       "\n",
       "                 quantile  label  \n",
       "0        (2076.0, 4778.0]  other  \n",
       "1        (2076.0, 4778.0]  other  \n",
       "2        (2076.0, 4778.0]  other  \n",
       "3        (2076.0, 4778.0]  other  \n",
       "4        (2076.0, 4778.0]  other  \n",
       "...                   ...    ...  \n",
       "1276010    (4.999, 179.0]  other  \n",
       "1276011    (4.999, 179.0]  other  \n",
       "1276012    (4.999, 179.0]  other  \n",
       "1276013    (4.999, 179.0]  other  \n",
       "1276014    (4.999, 179.0]  other  \n",
       "\n",
       "[1276015 rows x 14 columns]"
      ]
     },
     "execution_count": 183,
     "metadata": {},
     "output_type": "execute_result"
    }
   ],
   "source": [
    "activities = activitiesdf.read_csv(\"sweden\")\n",
    "activities"
   ]
  },
  {
   "cell_type": "code",
   "execution_count": 184,
   "metadata": {},
   "outputs": [],
   "source": [
    "activities['createdat'] = pd.to_datetime(activities.createdat, utc=True)"
   ]
  },
  {
   "cell_type": "code",
   "execution_count": 185,
   "metadata": {},
   "outputs": [],
   "source": [
    "acts = activities.set_index(['userid', 'region'])"
   ]
  },
  {
   "cell_type": "markdown",
   "metadata": {},
   "source": [
    "### Add yearmonth column"
   ]
  },
  {
   "cell_type": "code",
   "execution_count": 186,
   "metadata": {},
   "outputs": [
    {
     "name": "stderr",
     "output_type": "stream",
     "text": [
      "/Users/kristofferek/miniconda3/envs/mscthesis/lib/python3.8/site-packages/pandas/core/arrays/datetimes.py:1099: UserWarning:\n",
      "\n",
      "Converting to PeriodArray/Index representation will drop timezone information.\n",
      "\n"
     ]
    }
   ],
   "source": [
    "acts['yearmonth'] = acts['createdat'].dt.to_period('M')\n"
   ]
  },
  {
   "cell_type": "markdown",
   "metadata": {},
   "source": [
    "## Label multiple home locations"
   ]
  },
  {
   "cell_type": "code",
   "execution_count": null,
   "metadata": {},
   "outputs": [
    {
     "name": "stdout",
     "output_type": "stream",
     "text": [
      "copying\n",
      "reindex\n",
      "largest cluster\n",
      "region\n",
      "134    121\n",
      "252    115\n",
      "0      114\n",
      "dtype: int64\n"
     ]
    }
   ],
   "source": [
    "acts_2 = activitiesdf.label_multiple_homes(acts)\n",
    "acts_2"
   ]
  },
  {
   "cell_type": "markdown",
   "metadata": {},
   "source": [
    "## Label work location"
   ]
  },
  {
   "cell_type": "code",
   "execution_count": null,
   "metadata": {},
   "outputs": [],
   "source": [
    "acts_3 = activitiesdf.label_work(acts_2)"
   ]
  },
  {
   "cell_type": "markdown",
   "metadata": {},
   "source": [
    "## Visualise a user's labels and clusters"
   ]
  },
  {
   "cell_type": "code",
   "execution_count": null,
   "metadata": {},
   "outputs": [],
   "source": [
    "#18192787\n",
    "#14079762\n",
    "#85666280\n",
    "user = acts_3.loc[85666280].reset_index().set_index('region')\n",
    "homestr = 'Home: '+ str(np.unique(user[user['label'] == 'home'].index.values))\n",
    "workstr = 'Work: '+ str(np.unique(user[user['label'] == 'work'].index.values))\n"
   ]
  },
  {
   "cell_type": "markdown",
   "metadata": {},
   "source": [
    "### Extract the user's 10 largest clusters"
   ]
  },
  {
   "cell_type": "code",
   "execution_count": null,
   "metadata": {},
   "outputs": [],
   "source": [
    "topregions = user.groupby(['region']).size().sort_values(ascending=False).head(10)\n",
    "topten = user.loc[topregions.index.values]"
   ]
  },
  {
   "cell_type": "markdown",
   "metadata": {},
   "source": [
    "## Plot cluster sizes over time (monthly)"
   ]
  },
  {
   "cell_type": "code",
   "execution_count": null,
   "metadata": {},
   "outputs": [],
   "source": [
    "bars = topten.groupby(['yearmonth', 'region']).size().unstack().fillna(0).plot.bar(stacked=True, figsize=(20, 10), width=0.95)\n",
    "bars.set_title(\"Top 10 clusters for a user over time\")\n",
    "print(homestr)\n",
    "print(workstr)"
   ]
  },
  {
   "cell_type": "markdown",
   "metadata": {},
   "source": [
    "## Scatter plot clusters on a map"
   ]
  },
  {
   "cell_type": "code",
   "execution_count": null,
   "metadata": {},
   "outputs": [],
   "source": [
    "plotly.offline.init_notebook_mode(connected=True)"
   ]
  },
  {
   "cell_type": "code",
   "execution_count": null,
   "metadata": {},
   "outputs": [],
   "source": [
    "fig = px.scatter_mapbox(topten.reset_index(), lat='latitude', lon='longitude', hover_data=['hourofday', 'weekday', 'region'], color='label')\n",
    "fig.update_layout(mapbox_style=\"open-street-map\")\n",
    "fig.show()"
   ]
  },
  {
   "cell_type": "code",
   "execution_count": null,
   "metadata": {},
   "outputs": [],
   "source": []
  }
 ],
 "metadata": {
  "kernelspec": {
   "display_name": "Python 3",
   "language": "python",
   "name": "python3"
  },
  "language_info": {
   "codemirror_mode": {
    "name": "ipython",
    "version": 3
   },
   "file_extension": ".py",
   "mimetype": "text/x-python",
   "name": "python",
   "nbconvert_exporter": "python",
   "pygments_lexer": "ipython3",
   "version": "3.8.1"
  }
 },
 "nbformat": 4,
 "nbformat_minor": 4
}

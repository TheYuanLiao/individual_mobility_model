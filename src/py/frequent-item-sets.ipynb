{
 "cells": [
  {
   "cell_type": "code",
   "execution_count": 7,
   "metadata": {},
   "outputs": [],
   "source": [
    "import pandas as pd\n",
    "import plotly.express as px\n",
    "import geopandas as gpd\n",
    "import activitiesdf\n",
    "from datetime import timedelta"
   ]
  },
  {
   "cell_type": "code",
   "execution_count": 3,
   "metadata": {},
   "outputs": [],
   "source": [
    "activities = activitiesdf.read_csv('sweden').set_index(['userid', 'region', 'tweetid'])"
   ]
  },
  {
   "cell_type": "code",
   "execution_count": 13,
   "metadata": {},
   "outputs": [
    {
     "data": {
      "text/plain": [
       "userid              region  tweetid           \n",
       "5616                0       306814580301119488    2013-02-27 18:14:30+01:00\n",
       "                            596331871241379840    2015-05-07 17:12:52+02:00\n",
       "                            623057810864111616    2015-07-20 11:12:12+02:00\n",
       "                            679673567416565760    2015-12-23 15:43:00+01:00\n",
       "                            757647103011262465    2016-07-25 20:42:00+02:00\n",
       "                                                            ...            \n",
       "806822309478727680  7       815619064613609472    2017-01-01 19:01:53+01:00\n",
       "                            815835652486938624    2017-01-02 09:22:31+01:00\n",
       "                            815937364736380928    2017-01-02 16:06:41+01:00\n",
       "                    8       816003760006668288    2017-01-02 20:30:31+01:00\n",
       "                    9       817472176437608448    2017-01-06 21:45:29+01:00\n",
       "Name: createdat, Length: 1276015, dtype: object"
      ]
     },
     "execution_count": 13,
     "metadata": {},
     "output_type": "execute_result"
    }
   ],
   "source": [
    "activities['createdat']"
   ]
  },
  {
   "cell_type": "code",
   "execution_count": 15,
   "metadata": {},
   "outputs": [],
   "source": [
    "activities['createdat'] = pd.to_datetime(activities.createdat, format=\"%Y-%m-%d %H:%M:%S%z\")"
   ]
  },
  {
   "cell_type": "code",
   "execution_count": null,
   "metadata": {},
   "outputs": [],
   "source": []
  },
  {
   "cell_type": "code",
   "execution_count": 6,
   "metadata": {},
   "outputs": [
    {
     "data": {
      "image/png": "[encoded data removed]",
      "text/plain": [
       "<Figure size 1080x504 with 1 Axes>"
      ]
     },
     "metadata": {
      "needs_background": "light"
     },
     "output_type": "display_data"
    }
   ],
   "source": [
    "activitiesdf.plot_label_distrib(activities)"
   ]
  },
  {
   "cell_type": "code",
   "execution_count": 9,
   "metadata": {},
   "outputs": [
    {
     "ename": "TypeError",
     "evalue": "unsupported operand type(s) for -: 'str' and 'str'",
     "output_type": "error",
     "traceback": [
      "\u001b[0;31m---------------------------------------------------------------------------\u001b[0m",
      "\u001b[0;31mTypeError\u001b[0m                                 Traceback (most recent call last)",
      "\u001b[0;32m<ipython-input-9-26c86b849702>\u001b[0m in \u001b[0;36m<module>\u001b[0;34m\u001b[0m\n\u001b[1;32m      7\u001b[0m         \u001b[0mcurrent_word\u001b[0m\u001b[0;34m.\u001b[0m\u001b[0mappend\u001b[0m\u001b[0;34m(\u001b[0m\u001b[0mstr\u001b[0m\u001b[0;34m(\u001b[0m\u001b[0mrow\u001b[0m\u001b[0;34m[\u001b[0m\u001b[0;34m'region'\u001b[0m\u001b[0;34m]\u001b[0m \u001b[0;32mif\u001b[0m \u001b[0mrow\u001b[0m\u001b[0;34m[\u001b[0m\u001b[0;34m'label'\u001b[0m\u001b[0;34m]\u001b[0m \u001b[0;34m==\u001b[0m \u001b[0;34m\"other\"\u001b[0m \u001b[0;32melse\u001b[0m \u001b[0mrow\u001b[0m\u001b[0;34m[\u001b[0m\u001b[0;34m'label'\u001b[0m\u001b[0;34m]\u001b[0m\u001b[0;34m)\u001b[0m\u001b[0;34m)\u001b[0m\u001b[0;34m\u001b[0m\u001b[0;34m\u001b[0m\u001b[0m\n\u001b[1;32m      8\u001b[0m     \u001b[0;32melse\u001b[0m\u001b[0;34m:\u001b[0m\u001b[0;34m\u001b[0m\u001b[0;34m\u001b[0m\u001b[0m\n\u001b[0;32m----> 9\u001b[0;31m         \u001b[0;32mif\u001b[0m \u001b[0mrow\u001b[0m\u001b[0;34m[\u001b[0m\u001b[0;34m'createdat'\u001b[0m\u001b[0;34m]\u001b[0m \u001b[0;34m-\u001b[0m \u001b[0mprev_row\u001b[0m\u001b[0;34m[\u001b[0m\u001b[0;34m'createdat'\u001b[0m\u001b[0;34m]\u001b[0m \u001b[0;34m<\u001b[0m \u001b[0mtimedelta\u001b[0m\u001b[0;34m(\u001b[0m\u001b[0mhours\u001b[0m\u001b[0;34m=\u001b[0m\u001b[0;36m8\u001b[0m\u001b[0;34m)\u001b[0m\u001b[0;34m:\u001b[0m\u001b[0;34m\u001b[0m\u001b[0;34m\u001b[0m\u001b[0m\n\u001b[0m\u001b[1;32m     10\u001b[0m             \u001b[0;32mif\u001b[0m \u001b[0mstr\u001b[0m\u001b[0;34m(\u001b[0m\u001b[0mrow\u001b[0m\u001b[0;34m[\u001b[0m\u001b[0;34m'region'\u001b[0m\u001b[0;34m]\u001b[0m \u001b[0;32mif\u001b[0m \u001b[0mrow\u001b[0m\u001b[0;34m[\u001b[0m\u001b[0;34m'label'\u001b[0m\u001b[0;34m]\u001b[0m \u001b[0;34m==\u001b[0m \u001b[0;34m\"other\"\u001b[0m \u001b[0;32melse\u001b[0m \u001b[0mrow\u001b[0m\u001b[0;34m[\u001b[0m\u001b[0;34m'label'\u001b[0m\u001b[0;34m]\u001b[0m\u001b[0;34m)\u001b[0m \u001b[0;34m!=\u001b[0m \u001b[0mcurrent_word\u001b[0m\u001b[0;34m[\u001b[0m\u001b[0mlen\u001b[0m\u001b[0;34m(\u001b[0m\u001b[0mcurrent_word\u001b[0m\u001b[0;34m)\u001b[0m \u001b[0;34m-\u001b[0m \u001b[0;36m1\u001b[0m\u001b[0;34m]\u001b[0m\u001b[0;34m:\u001b[0m\u001b[0;34m\u001b[0m\u001b[0;34m\u001b[0m\u001b[0m\n\u001b[1;32m     11\u001b[0m                 \u001b[0mcurrent_word\u001b[0m\u001b[0;34m.\u001b[0m\u001b[0mappend\u001b[0m\u001b[0;34m(\u001b[0m\u001b[0mstr\u001b[0m\u001b[0;34m(\u001b[0m\u001b[0mrow\u001b[0m\u001b[0;34m[\u001b[0m\u001b[0;34m'region'\u001b[0m\u001b[0;34m]\u001b[0m \u001b[0;32mif\u001b[0m \u001b[0mrow\u001b[0m\u001b[0;34m[\u001b[0m\u001b[0;34m'label'\u001b[0m\u001b[0;34m]\u001b[0m \u001b[0;34m==\u001b[0m \u001b[0;34m\"other\"\u001b[0m \u001b[0;32melse\u001b[0m \u001b[0mrow\u001b[0m\u001b[0;34m[\u001b[0m\u001b[0;34m'label'\u001b[0m\u001b[0;34m]\u001b[0m\u001b[0;34m)\u001b[0m\u001b[0;34m)\u001b[0m\u001b[0;34m\u001b[0m\u001b[0;34m\u001b[0m\u001b[0m\n",
      "\u001b[0;31mTypeError\u001b[0m: unsupported operand type(s) for -: 'str' and 'str'"
     ]
    }
   ],
   "source": [
    "u = activities.loc[5616].reset_index()\n",
    "words = []\n",
    "current_word = []\n",
    "prev_row = None\n",
    "for _, row in u.iterrows():\n",
    "    if prev_row is None:\n",
    "        current_word.append(str(row['region'] if row['label'] == \"other\" else row['label']))\n",
    "    else:\n",
    "        if row['createdat'] - prev_row['createdat'] < timedelta(hours=8):\n",
    "            if str(row['region'] if row['label'] == \"other\" else row['label']) != current_word[len(current_word) - 1]:\n",
    "                current_word.append(str(row['region'] if row['label'] == \"other\" else row['label']))\n",
    "        else:\n",
    "            words.append(' '.join(current_word))\n",
    "            current_word = [str(row['region'] if row['label'] == \"other\" else row['label'])]\n",
    "    prev_row = row\n",
    "words.append(' '.join(current_word))\n",
    "from sklearn.feature_extraction.text import CountVectorizer\n",
    "vct = CountVectorizer(analyzer='word', ngram_range=(2,2), min_df=0)\n",
    "freqs = vct.fit_transform(words).toarray().sum(axis=0)\n",
    "bigrams = vct.get_feature_names()\n",
    "seqdf = pandas.DataFrame({\n",
    "    'count': freqs,\n",
    "    'bigram': bigrams,\n",
    "})\n",
    "seqdf['origin'] = seqdf['bigram'].apply(lambda x: x.split(' ')[0])\n",
    "seqdf['destination']= seqdf['bigram'].apply(lambda x: x.split(' ')[1])\n",
    "seqdf2 = seqdf.copy(deep=True)\n",
    "def rev(x):\n",
    "    xs = x.split(' ')\n",
    "    return xs[1] + \" \" + xs[0]\n",
    "seqdf2['bigram'] = seqdf2['bigram'].apply(rev)\n",
    "seqdf3 = seqdf.merge(seqdf2, on='bigram', how='left')\n",
    "seqdf3['count_y'] = seqdf3['count_y'].fillna(0)\n",
    "seqdf3['count'] = seqdf3['count_x'] + seqdf3['count_y']\n",
    "seqdf3[seqdf3['count_x'] != seqdf3['count_y']]\n",
    "seqdf3[(seqdf3['origin_x'] == 'home') | (seqdf3['destination_x'] == 'home') ].sort_values('count', ascending=False).set_index('bigram').head(10).plot(kind='barh')"
   ]
  },
  {
   "cell_type": "code",
   "execution_count": null,
   "metadata": {},
   "outputs": [],
   "source": []
  }
 ],
 "metadata": {
  "kernelspec": {
   "display_name": "PyCharm (mscthesis)",
   "language": "python",
   "name": "pycharm-eadfd222"
  },
  "language_info": {
   "codemirror_mode": {
    "name": "ipython",
    "version": 3
   },
   "file_extension": ".py",
   "mimetype": "text/x-python",
   "name": "python",
   "nbconvert_exporter": "python",
   "pygments_lexer": "ipython3",
   "version": "3.8.1"
  }
 },
 "nbformat": 4,
 "nbformat_minor": 4
}

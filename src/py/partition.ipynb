{
 "cells": [
  {
   "cell_type": "code",
   "execution_count": 2,
   "metadata": {
    "pycharm": {
     "is_executing": false
    }
   },
   "outputs": [],
   "source": [
    "import tweetdf\n",
    "import geopandas\n",
    "import pandas\n",
    "import trips\n",
    "import odm\n",
    "import sampers"
   ]
  },
  {
   "cell_type": "code",
   "execution_count": 63,
   "metadata": {},
   "outputs": [
    {
     "data": {
      "text/plain": [
       "(1276016, 9)"
      ]
     },
     "execution_count": 63,
     "metadata": {},
     "output_type": "execute_result"
    }
   ],
   "source": [
    "tweets = tweetdf.from_csv(\"./../../dbs/Sweden.csv\")\n",
    "tweets.shape"
   ]
  },
  {
   "cell_type": "code",
   "execution_count": 65,
   "metadata": {},
   "outputs": [],
   "source": [
    "tweets = tweets.dropna()"
   ]
  },
  {
   "cell_type": "code",
   "execution_count": 66,
   "metadata": {},
   "outputs": [],
   "source": [
    "displacements = trips.from_dfs(tweets)"
   ]
  },
  {
   "cell_type": "code",
   "execution_count": 67,
   "metadata": {},
   "outputs": [],
   "source": [
    "latlngodm = odm.from_trips(displacements)"
   ]
  },
  {
   "cell_type": "code",
   "execution_count": 68,
   "metadata": {},
   "outputs": [
    {
     "data": {
      "text/html": [
       "<div>\n",
       "<style scoped>\n",
       "    .dataframe tbody tr th:only-of-type {\n",
       "        vertical-align: middle;\n",
       "    }\n",
       "\n",
       "    .dataframe tbody tr th {\n",
       "        vertical-align: top;\n",
       "    }\n",
       "\n",
       "    .dataframe thead th {\n",
       "        text-align: right;\n",
       "    }\n",
       "</style>\n",
       "<table border=\"1\" class=\"dataframe\">\n",
       "  <thead>\n",
       "    <tr style=\"text-align: right;\">\n",
       "      <th></th>\n",
       "      <th>latitude_o</th>\n",
       "      <th>longitude_o</th>\n",
       "      <th>latitude_d</th>\n",
       "      <th>longitude_d</th>\n",
       "      <th>count</th>\n",
       "    </tr>\n",
       "  </thead>\n",
       "  <tbody>\n",
       "    <tr>\n",
       "      <th>0</th>\n",
       "      <td>-79.898133</td>\n",
       "      <td>-49.192753</td>\n",
       "      <td>59.350000</td>\n",
       "      <td>18.066667</td>\n",
       "      <td>1</td>\n",
       "    </tr>\n",
       "    <tr>\n",
       "      <th>1</th>\n",
       "      <td>-54.809017</td>\n",
       "      <td>-68.302105</td>\n",
       "      <td>-54.808049</td>\n",
       "      <td>-68.307551</td>\n",
       "      <td>1</td>\n",
       "    </tr>\n",
       "    <tr>\n",
       "      <th>2</th>\n",
       "      <td>-54.808219</td>\n",
       "      <td>-68.318154</td>\n",
       "      <td>-54.809017</td>\n",
       "      <td>-68.302105</td>\n",
       "      <td>1</td>\n",
       "    </tr>\n",
       "    <tr>\n",
       "      <th>3</th>\n",
       "      <td>-54.808049</td>\n",
       "      <td>-68.307551</td>\n",
       "      <td>-54.783803</td>\n",
       "      <td>-68.259351</td>\n",
       "      <td>1</td>\n",
       "    </tr>\n",
       "    <tr>\n",
       "      <th>4</th>\n",
       "      <td>-54.805765</td>\n",
       "      <td>-68.307080</td>\n",
       "      <td>-54.783803</td>\n",
       "      <td>-68.259351</td>\n",
       "      <td>1</td>\n",
       "    </tr>\n",
       "    <tr>\n",
       "      <th>...</th>\n",
       "      <td>...</td>\n",
       "      <td>...</td>\n",
       "      <td>...</td>\n",
       "      <td>...</td>\n",
       "      <td>...</td>\n",
       "    </tr>\n",
       "    <tr>\n",
       "      <th>380510</th>\n",
       "      <td>78.219557</td>\n",
       "      <td>15.643348</td>\n",
       "      <td>78.207643</td>\n",
       "      <td>15.589768</td>\n",
       "      <td>1</td>\n",
       "    </tr>\n",
       "    <tr>\n",
       "      <th>380511</th>\n",
       "      <td>78.220713</td>\n",
       "      <td>15.646880</td>\n",
       "      <td>78.220713</td>\n",
       "      <td>15.646880</td>\n",
       "      <td>1</td>\n",
       "    </tr>\n",
       "    <tr>\n",
       "      <th>380512</th>\n",
       "      <td>78.221149</td>\n",
       "      <td>15.644875</td>\n",
       "      <td>78.221149</td>\n",
       "      <td>15.644875</td>\n",
       "      <td>1</td>\n",
       "    </tr>\n",
       "    <tr>\n",
       "      <th>380513</th>\n",
       "      <td>78.635166</td>\n",
       "      <td>21.993908</td>\n",
       "      <td>52.233333</td>\n",
       "      <td>21.019444</td>\n",
       "      <td>1</td>\n",
       "    </tr>\n",
       "    <tr>\n",
       "      <th>380514</th>\n",
       "      <td>78.656111</td>\n",
       "      <td>16.325000</td>\n",
       "      <td>78.656111</td>\n",
       "      <td>16.325000</td>\n",
       "      <td>1</td>\n",
       "    </tr>\n",
       "  </tbody>\n",
       "</table>\n",
       "<p>380515 rows × 5 columns</p>\n",
       "</div>"
      ],
      "text/plain": [
       "        latitude_o  longitude_o  latitude_d  longitude_d  count\n",
       "0       -79.898133   -49.192753   59.350000    18.066667      1\n",
       "1       -54.809017   -68.302105  -54.808049   -68.307551      1\n",
       "2       -54.808219   -68.318154  -54.809017   -68.302105      1\n",
       "3       -54.808049   -68.307551  -54.783803   -68.259351      1\n",
       "4       -54.805765   -68.307080  -54.783803   -68.259351      1\n",
       "...            ...          ...         ...          ...    ...\n",
       "380510   78.219557    15.643348   78.207643    15.589768      1\n",
       "380511   78.220713    15.646880   78.220713    15.646880      1\n",
       "380512   78.221149    15.644875   78.221149    15.644875      1\n",
       "380513   78.635166    21.993908   52.233333    21.019444      1\n",
       "380514   78.656111    16.325000   78.656111    16.325000      1\n",
       "\n",
       "[380515 rows x 5 columns]"
      ]
     },
     "execution_count": 68,
     "metadata": {},
     "output_type": "execute_result"
    }
   ],
   "source": [
    "latlngodm"
   ]
  },
  {
   "cell_type": "code",
   "execution_count": 7,
   "metadata": {},
   "outputs": [],
   "source": [
    "shp = sampers.read_shp(sampers.shps['national'])"
   ]
  },
  {
   "cell_type": "code",
   "execution_count": 36,
   "metadata": {},
   "outputs": [],
   "source": [
    "countries = geopandas.read_file(geopandas.datasets.get_path('naturalearth_lowres'))\n",
    "sweden = countries[countries.name == \"Sweden\"]"
   ]
  },
  {
   "cell_type": "code",
   "execution_count": 69,
   "metadata": {},
   "outputs": [],
   "source": [
    "geolatlngodm = geopandas.GeoDataFrame(\n",
    "    latlngodm, \n",
    "    crs=\"EPSG:4326\", \n",
    "    geometry=geopandas.points_from_xy(latlngodm.longitude_o, latlngodm.latitude_o),\n",
    ")"
   ]
  },
  {
   "cell_type": "code",
   "execution_count": 70,
   "metadata": {},
   "outputs": [
    {
     "name": "stdout",
     "output_type": "stream",
     "text": [
      "(380515, 6)\n",
      "(276883, 6)\n"
     ]
    }
   ],
   "source": [
    "print(geolatlngodm.shape)\n",
    "geolatlngodm = geopandas.clip(geolatlngodm, sweden)\n",
    "print(geolatlngodm.shape)"
   ]
  },
  {
   "cell_type": "code",
   "execution_count": 71,
   "metadata": {},
   "outputs": [],
   "source": [
    "geolatlngodm = geolatlngodm.to_crs(shp.crs)"
   ]
  },
  {
   "cell_type": "code",
   "execution_count": 72,
   "metadata": {},
   "outputs": [
    {
     "data": {
      "text/plain": [
       "<matplotlib.axes._subplots.AxesSubplot at 0x130b83ac0>"
      ]
     },
     "execution_count": 72,
     "metadata": {},
     "output_type": "execute_result"
    },
    {
     "data": {
      "image/png": "[encoded data removed]",
      "text/plain": [
       "<Figure size 432x288 with 1 Axes>"
      ]
     },
     "metadata": {
      "needs_background": "light"
     },
     "output_type": "display_data"
    }
   ],
   "source": [
    "ax = shp.plot(edgecolor='black', facecolor='none', zorder=1)\n",
    "geolatlngodm.plot(ax=ax, color='red', markersize=1,zorder=2)"
   ]
  },
  {
   "cell_type": "code",
   "execution_count": 18,
   "metadata": {},
   "outputs": [
    {
     "data": {
      "text/html": [
       "<div>\n",
       "<style scoped>\n",
       "    .dataframe tbody tr th:only-of-type {\n",
       "        vertical-align: middle;\n",
       "    }\n",
       "\n",
       "    .dataframe tbody tr th {\n",
       "        vertical-align: top;\n",
       "    }\n",
       "\n",
       "    .dataframe thead th {\n",
       "        text-align: right;\n",
       "    }\n",
       "</style>\n",
       "<table border=\"1\" class=\"dataframe\">\n",
       "  <thead>\n",
       "    <tr style=\"text-align: right;\">\n",
       "      <th></th>\n",
       "      <th>latitude_o</th>\n",
       "      <th>longitude_o</th>\n",
       "      <th>latitude_d</th>\n",
       "      <th>longitude_d</th>\n",
       "      <th>count</th>\n",
       "      <th>geometry</th>\n",
       "    </tr>\n",
       "  </thead>\n",
       "  <tbody>\n",
       "    <tr>\n",
       "      <th>0</th>\n",
       "      <td>-37.850497</td>\n",
       "      <td>144.993031</td>\n",
       "      <td>-37.850497</td>\n",
       "      <td>144.993031</td>\n",
       "      <td>1</td>\n",
       "      <td>POINT (4974626.287 -14405902.705)</td>\n",
       "    </tr>\n",
       "    <tr>\n",
       "      <th>1</th>\n",
       "      <td>-37.822573</td>\n",
       "      <td>144.969759</td>\n",
       "      <td>-37.818180</td>\n",
       "      <td>144.967874</td>\n",
       "      <td>1</td>\n",
       "      <td>POINT (4979003.438 -14407520.514)</td>\n",
       "    </tr>\n",
       "    <tr>\n",
       "      <th>2</th>\n",
       "      <td>-37.765475</td>\n",
       "      <td>144.999465</td>\n",
       "      <td>-37.768194</td>\n",
       "      <td>144.995987</td>\n",
       "      <td>1</td>\n",
       "      <td>POINT (4981056.858 -14415886.858)</td>\n",
       "    </tr>\n",
       "    <tr>\n",
       "      <th>3</th>\n",
       "      <td>-34.911528</td>\n",
       "      <td>-57.953708</td>\n",
       "      <td>-34.911027</td>\n",
       "      <td>-57.932324</td>\n",
       "      <td>1</td>\n",
       "      <td>POINT (-6232627.972 -7467635.699)</td>\n",
       "    </tr>\n",
       "    <tr>\n",
       "      <th>4</th>\n",
       "      <td>-34.911027</td>\n",
       "      <td>-57.932324</td>\n",
       "      <td>-34.911027</td>\n",
       "      <td>-57.932324</td>\n",
       "      <td>1</td>\n",
       "      <td>POINT (-6231231.268 -7464821.659)</td>\n",
       "    </tr>\n",
       "    <tr>\n",
       "      <th>...</th>\n",
       "      <td>...</td>\n",
       "      <td>...</td>\n",
       "      <td>...</td>\n",
       "      <td>...</td>\n",
       "      <td>...</td>\n",
       "      <td>...</td>\n",
       "    </tr>\n",
       "    <tr>\n",
       "      <th>50967</th>\n",
       "      <td>68.425577</td>\n",
       "      <td>18.123168</td>\n",
       "      <td>68.348756</td>\n",
       "      <td>18.830859</td>\n",
       "      <td>1</td>\n",
       "      <td>POINT (628115.426 7593561.725)</td>\n",
       "    </tr>\n",
       "    <tr>\n",
       "      <th>50968</th>\n",
       "      <td>68.426223</td>\n",
       "      <td>18.124317</td>\n",
       "      <td>68.426223</td>\n",
       "      <td>18.124317</td>\n",
       "      <td>2</td>\n",
       "      <td>POINT (628158.873 7593636.064)</td>\n",
       "    </tr>\n",
       "    <tr>\n",
       "      <th>50969</th>\n",
       "      <td>70.981000</td>\n",
       "      <td>25.972757</td>\n",
       "      <td>70.981000</td>\n",
       "      <td>25.972757</td>\n",
       "      <td>1</td>\n",
       "      <td>POINT (897170.055 7911366.505)</td>\n",
       "    </tr>\n",
       "    <tr>\n",
       "      <th>50970</th>\n",
       "      <td>70.981000</td>\n",
       "      <td>25.972757</td>\n",
       "      <td>71.171029</td>\n",
       "      <td>25.783281</td>\n",
       "      <td>1</td>\n",
       "      <td>POINT (897170.055 7911366.505)</td>\n",
       "    </tr>\n",
       "    <tr>\n",
       "      <th>50971</th>\n",
       "      <td>71.171029</td>\n",
       "      <td>25.783281</td>\n",
       "      <td>71.171029</td>\n",
       "      <td>25.783281</td>\n",
       "      <td>1</td>\n",
       "      <td>POINT (886611.826 7931029.050)</td>\n",
       "    </tr>\n",
       "  </tbody>\n",
       "</table>\n",
       "<p>50972 rows × 6 columns</p>\n",
       "</div>"
      ],
      "text/plain": [
       "       latitude_o  longitude_o  latitude_d  longitude_d  count  \\\n",
       "0      -37.850497   144.993031  -37.850497   144.993031      1   \n",
       "1      -37.822573   144.969759  -37.818180   144.967874      1   \n",
       "2      -37.765475   144.999465  -37.768194   144.995987      1   \n",
       "3      -34.911528   -57.953708  -34.911027   -57.932324      1   \n",
       "4      -34.911027   -57.932324  -34.911027   -57.932324      1   \n",
       "...           ...          ...         ...          ...    ...   \n",
       "50967   68.425577    18.123168   68.348756    18.830859      1   \n",
       "50968   68.426223    18.124317   68.426223    18.124317      2   \n",
       "50969   70.981000    25.972757   70.981000    25.972757      1   \n",
       "50970   70.981000    25.972757   71.171029    25.783281      1   \n",
       "50971   71.171029    25.783281   71.171029    25.783281      1   \n",
       "\n",
       "                                geometry  \n",
       "0      POINT (4974626.287 -14405902.705)  \n",
       "1      POINT (4979003.438 -14407520.514)  \n",
       "2      POINT (4981056.858 -14415886.858)  \n",
       "3      POINT (-6232627.972 -7467635.699)  \n",
       "4      POINT (-6231231.268 -7464821.659)  \n",
       "...                                  ...  \n",
       "50967     POINT (628115.426 7593561.725)  \n",
       "50968     POINT (628158.873 7593636.064)  \n",
       "50969     POINT (897170.055 7911366.505)  \n",
       "50970     POINT (897170.055 7911366.505)  \n",
       "50971     POINT (886611.826 7931029.050)  \n",
       "\n",
       "[50972 rows x 6 columns]"
      ]
     },
     "execution_count": 18,
     "metadata": {},
     "output_type": "execute_result"
    }
   ],
   "source": [
    "geolatlngodm"
   ]
  },
  {
   "cell_type": "code",
   "execution_count": 19,
   "metadata": {},
   "outputs": [
    {
     "data": {
      "text/html": [
       "<div>\n",
       "<style scoped>\n",
       "    .dataframe tbody tr th:only-of-type {\n",
       "        vertical-align: middle;\n",
       "    }\n",
       "\n",
       "    .dataframe tbody tr th {\n",
       "        vertical-align: top;\n",
       "    }\n",
       "\n",
       "    .dataframe thead th {\n",
       "        text-align: right;\n",
       "    }\n",
       "</style>\n",
       "<table border=\"1\" class=\"dataframe\">\n",
       "  <thead>\n",
       "    <tr style=\"text-align: right;\">\n",
       "      <th></th>\n",
       "      <th>latitude_o</th>\n",
       "      <th>longitude_o</th>\n",
       "      <th>latitude_d</th>\n",
       "      <th>longitude_d</th>\n",
       "      <th>count</th>\n",
       "      <th>geometry</th>\n",
       "    </tr>\n",
       "  </thead>\n",
       "  <tbody>\n",
       "  </tbody>\n",
       "</table>\n",
       "</div>"
      ],
      "text/plain": [
       "Empty GeoDataFrame\n",
       "Columns: [latitude_o, longitude_o, latitude_d, longitude_d, count, geometry]\n",
       "Index: []"
      ]
     },
     "execution_count": 19,
     "metadata": {},
     "output_type": "execute_result"
    }
   ],
   "source": [
    "geopandas.clip(geolatlngodm.head(n=100), shp)"
   ]
  },
  {
   "cell_type": "code",
   "execution_count": 64,
   "metadata": {},
   "outputs": [
    {
     "data": {
      "text/plain": [
       "0      POLYGON ((658393.039 6594731.437, 670528.578 6...\n",
       "1      POLYGON ((667794.986 6598266.654, 694251.500 6...\n",
       "2      POLYGON ((677125.763 6590080.820, 726478.831 6...\n",
       "3      POLYGON ((690174.216 6579015.376, 694359.782 6...\n",
       "4      POLYGON ((688873.972 6545495.964, 754312.999 6...\n",
       "                             ...                        \n",
       "677    POLYGON ((713293.010 7497654.682, 772552.693 7...\n",
       "678    POLYGON ((702308.761 7521161.687, 727974.792 7...\n",
       "679    POLYGON ((624553.955 7528608.267, 736991.764 7...\n",
       "680    POLYGON ((650033.226 7585065.186, 659413.222 7...\n",
       "681    POLYGON ((627401.007 7592428.122, 630476.755 7...\n",
       "Length: 682, dtype: geometry"
      ]
     },
     "execution_count": 64,
     "metadata": {},
     "output_type": "execute_result"
    }
   ],
   "source": [
    "shp.envelope"
   ]
  },
  {
   "cell_type": "code",
   "execution_count": 66,
   "metadata": {},
   "outputs": [
    {
     "ename": "TypeError",
     "evalue": "overlay only takes GeoDataFrames with (multi)polygon  geometries.",
     "output_type": "error",
     "traceback": [
      "\u001b[0;31m---------------------------------------------------------------------------\u001b[0m",
      "\u001b[0;31mTypeError\u001b[0m                                 Traceback (most recent call last)",
      "\u001b[0;32m<ipython-input-66-f070c64d455e>\u001b[0m in \u001b[0;36m<module>\u001b[0;34m\u001b[0m\n\u001b[0;32m----> 1\u001b[0;31m \u001b[0mgeopandas\u001b[0m\u001b[0;34m.\u001b[0m\u001b[0moverlay\u001b[0m\u001b[0;34m(\u001b[0m\u001b[0mgeolatlngodm\u001b[0m\u001b[0;34m,\u001b[0m \u001b[0mshp\u001b[0m\u001b[0;34m,\u001b[0m \u001b[0mhow\u001b[0m\u001b[0;34m=\u001b[0m\u001b[0;34m'intersection'\u001b[0m\u001b[0;34m)\u001b[0m\u001b[0;34m\u001b[0m\u001b[0;34m\u001b[0m\u001b[0m\n\u001b[0m",
      "\u001b[0;32m~/opt/miniconda3/envs/mscthesis/lib/python3.7/site-packages/geopandas/tools/overlay.py\u001b[0m in \u001b[0;36moverlay\u001b[0;34m(df1, df2, how, make_valid, use_sindex)\u001b[0m\n\u001b[1;32m    377\u001b[0m     ):\n\u001b[1;32m    378\u001b[0m         raise TypeError(\n\u001b[0;32m--> 379\u001b[0;31m             \u001b[0;34m\"overlay only takes GeoDataFrames with (multi)polygon  geometries.\"\u001b[0m\u001b[0;34m\u001b[0m\u001b[0;34m\u001b[0m\u001b[0m\n\u001b[0m\u001b[1;32m    380\u001b[0m         )\n\u001b[1;32m    381\u001b[0m \u001b[0;34m\u001b[0m\u001b[0m\n",
      "\u001b[0;31mTypeError\u001b[0m: overlay only takes GeoDataFrames with (multi)polygon  geometries."
     ]
    }
   ],
   "source": [
    "geopandas.overlay(geolatlngodm, shp, how='intersection')"
   ]
  },
  {
   "cell_type": "code",
   "execution_count": 24,
   "metadata": {},
   "outputs": [],
   "source": [
    "countries = geopandas.read_file(geopandas.datasets.get_path('naturalearth_lowres'))\n",
    "sweden = countries[countries.name == \"Sweden\"]"
   ]
  },
  {
   "cell_type": "code",
   "execution_count": 27,
   "metadata": {},
   "outputs": [
    {
     "data": {
      "text/html": [
       "<div>\n",
       "<style scoped>\n",
       "    .dataframe tbody tr th:only-of-type {\n",
       "        vertical-align: middle;\n",
       "    }\n",
       "\n",
       "    .dataframe tbody tr th {\n",
       "        vertical-align: top;\n",
       "    }\n",
       "\n",
       "    .dataframe thead th {\n",
       "        text-align: right;\n",
       "    }\n",
       "</style>\n",
       "<table border=\"1\" class=\"dataframe\">\n",
       "  <thead>\n",
       "    <tr style=\"text-align: right;\">\n",
       "      <th></th>\n",
       "      <th>pop_est</th>\n",
       "      <th>continent</th>\n",
       "      <th>name</th>\n",
       "      <th>iso_a3</th>\n",
       "      <th>gdp_md_est</th>\n",
       "      <th>geometry</th>\n",
       "    </tr>\n",
       "  </thead>\n",
       "  <tbody>\n",
       "    <tr>\n",
       "      <th>110</th>\n",
       "      <td>9960487</td>\n",
       "      <td>Europe</td>\n",
       "      <td>Sweden</td>\n",
       "      <td>SWE</td>\n",
       "      <td>498100.0</td>\n",
       "      <td>POLYGON ((11.02737 58.85615, 11.46827 59.43239...</td>\n",
       "    </tr>\n",
       "  </tbody>\n",
       "</table>\n",
       "</div>"
      ],
      "text/plain": [
       "     pop_est continent    name iso_a3  gdp_md_est  \\\n",
       "110  9960487    Europe  Sweden    SWE    498100.0   \n",
       "\n",
       "                                              geometry  \n",
       "110  POLYGON ((11.02737 58.85615, 11.46827 59.43239...  "
      ]
     },
     "execution_count": 27,
     "metadata": {},
     "output_type": "execute_result"
    }
   ],
   "source": [
    "sweden"
   ]
  },
  {
   "cell_type": "code",
   "execution_count": 35,
   "metadata": {},
   "outputs": [
    {
     "data": {
      "text/html": [
       "<div>\n",
       "<style scoped>\n",
       "    .dataframe tbody tr th:only-of-type {\n",
       "        vertical-align: middle;\n",
       "    }\n",
       "\n",
       "    .dataframe tbody tr th {\n",
       "        vertical-align: top;\n",
       "    }\n",
       "\n",
       "    .dataframe thead th {\n",
       "        text-align: right;\n",
       "    }\n",
       "</style>\n",
       "<table border=\"1\" class=\"dataframe\">\n",
       "  <thead>\n",
       "    <tr style=\"text-align: right;\">\n",
       "      <th></th>\n",
       "      <th>latitude_o</th>\n",
       "      <th>longitude_o</th>\n",
       "      <th>latitude_d</th>\n",
       "      <th>longitude_d</th>\n",
       "      <th>count</th>\n",
       "      <th>geometry</th>\n",
       "    </tr>\n",
       "  </thead>\n",
       "  <tbody>\n",
       "    <tr>\n",
       "      <th>3327</th>\n",
       "      <td>55.369262</td>\n",
       "      <td>13.073490</td>\n",
       "      <td>55.338236</td>\n",
       "      <td>13.362678</td>\n",
       "      <td>1</td>\n",
       "      <td>POINT (13.07349 55.36926)</td>\n",
       "    </tr>\n",
       "    <tr>\n",
       "      <th>3328</th>\n",
       "      <td>55.373117</td>\n",
       "      <td>13.169574</td>\n",
       "      <td>55.454595</td>\n",
       "      <td>13.188962</td>\n",
       "      <td>1</td>\n",
       "      <td>POINT (13.16957 55.37312)</td>\n",
       "    </tr>\n",
       "    <tr>\n",
       "      <th>3329</th>\n",
       "      <td>55.374001</td>\n",
       "      <td>13.126333</td>\n",
       "      <td>55.374165</td>\n",
       "      <td>13.147308</td>\n",
       "      <td>1</td>\n",
       "      <td>POINT (13.12633 55.37400)</td>\n",
       "    </tr>\n",
       "    <tr>\n",
       "      <th>3330</th>\n",
       "      <td>55.374001</td>\n",
       "      <td>13.126333</td>\n",
       "      <td>55.375168</td>\n",
       "      <td>13.170333</td>\n",
       "      <td>3</td>\n",
       "      <td>POINT (13.12633 55.37400)</td>\n",
       "    </tr>\n",
       "    <tr>\n",
       "      <th>3331</th>\n",
       "      <td>55.374500</td>\n",
       "      <td>13.160500</td>\n",
       "      <td>55.438167</td>\n",
       "      <td>13.312167</td>\n",
       "      <td>1</td>\n",
       "      <td>POINT (13.16050 55.37450)</td>\n",
       "    </tr>\n",
       "    <tr>\n",
       "      <th>...</th>\n",
       "      <td>...</td>\n",
       "      <td>...</td>\n",
       "      <td>...</td>\n",
       "      <td>...</td>\n",
       "      <td>...</td>\n",
       "      <td>...</td>\n",
       "    </tr>\n",
       "    <tr>\n",
       "      <th>50964</th>\n",
       "      <td>68.406687</td>\n",
       "      <td>18.675265</td>\n",
       "      <td>66.585735</td>\n",
       "      <td>16.270758</td>\n",
       "      <td>1</td>\n",
       "      <td>POINT (18.67526 68.40669)</td>\n",
       "    </tr>\n",
       "    <tr>\n",
       "      <th>50965</th>\n",
       "      <td>68.421735</td>\n",
       "      <td>18.107263</td>\n",
       "      <td>68.421735</td>\n",
       "      <td>18.107263</td>\n",
       "      <td>1</td>\n",
       "      <td>POINT (18.10726 68.42173)</td>\n",
       "    </tr>\n",
       "    <tr>\n",
       "      <th>50966</th>\n",
       "      <td>68.421735</td>\n",
       "      <td>18.107263</td>\n",
       "      <td>68.428979</td>\n",
       "      <td>18.126876</td>\n",
       "      <td>1</td>\n",
       "      <td>POINT (18.10726 68.42173)</td>\n",
       "    </tr>\n",
       "    <tr>\n",
       "      <th>50967</th>\n",
       "      <td>68.425577</td>\n",
       "      <td>18.123168</td>\n",
       "      <td>68.348756</td>\n",
       "      <td>18.830859</td>\n",
       "      <td>1</td>\n",
       "      <td>POINT (18.12317 68.42558)</td>\n",
       "    </tr>\n",
       "    <tr>\n",
       "      <th>50968</th>\n",
       "      <td>68.426223</td>\n",
       "      <td>18.124317</td>\n",
       "      <td>68.426223</td>\n",
       "      <td>18.124317</td>\n",
       "      <td>2</td>\n",
       "      <td>POINT (18.12432 68.42622)</td>\n",
       "    </tr>\n",
       "  </tbody>\n",
       "</table>\n",
       "<p>43504 rows × 6 columns</p>\n",
       "</div>"
      ],
      "text/plain": [
       "       latitude_o  longitude_o  latitude_d  longitude_d  count  \\\n",
       "3327    55.369262    13.073490   55.338236    13.362678      1   \n",
       "3328    55.373117    13.169574   55.454595    13.188962      1   \n",
       "3329    55.374001    13.126333   55.374165    13.147308      1   \n",
       "3330    55.374001    13.126333   55.375168    13.170333      3   \n",
       "3331    55.374500    13.160500   55.438167    13.312167      1   \n",
       "...           ...          ...         ...          ...    ...   \n",
       "50964   68.406687    18.675265   66.585735    16.270758      1   \n",
       "50965   68.421735    18.107263   68.421735    18.107263      1   \n",
       "50966   68.421735    18.107263   68.428979    18.126876      1   \n",
       "50967   68.425577    18.123168   68.348756    18.830859      1   \n",
       "50968   68.426223    18.124317   68.426223    18.124317      2   \n",
       "\n",
       "                        geometry  \n",
       "3327   POINT (13.07349 55.36926)  \n",
       "3328   POINT (13.16957 55.37312)  \n",
       "3329   POINT (13.12633 55.37400)  \n",
       "3330   POINT (13.12633 55.37400)  \n",
       "3331   POINT (13.16050 55.37450)  \n",
       "...                          ...  \n",
       "50964  POINT (18.67526 68.40669)  \n",
       "50965  POINT (18.10726 68.42173)  \n",
       "50966  POINT (18.10726 68.42173)  \n",
       "50967  POINT (18.12317 68.42558)  \n",
       "50968  POINT (18.12432 68.42622)  \n",
       "\n",
       "[43504 rows x 6 columns]"
      ]
     },
     "execution_count": 35,
     "metadata": {},
     "output_type": "execute_result"
    }
   ],
   "source": [
    "geopandas.clip(geolatlngodm, sweden)"
   ]
  },
  {
   "cell_type": "code",
   "execution_count": 34,
   "metadata": {},
   "outputs": [
    {
     "data": {
      "text/plain": [
       "<Geographic 2D CRS: EPSG:4326>\n",
       "Name: WGS 84\n",
       "Axis Info [ellipsoidal]:\n",
       "- Lat[north]: Geodetic latitude (degree)\n",
       "- Lon[east]: Geodetic longitude (degree)\n",
       "Area of Use:\n",
       "- name: World\n",
       "- bounds: (-180.0, -90.0, 180.0, 90.0)\n",
       "Datum: World Geodetic System 1984\n",
       "- Ellipsoid: WGS 84\n",
       "- Prime Meridian: Greenwich"
      ]
     },
     "execution_count": 34,
     "metadata": {},
     "output_type": "execute_result"
    }
   ],
   "source": [
    "sweden.crs"
   ]
  },
  {
   "cell_type": "code",
   "execution_count": null,
   "metadata": {},
   "outputs": [],
   "source": []
  }
 ],
 "metadata": {
  "kernelspec": {
   "display_name": "PyCharm (mscthesis)",
   "language": "python",
   "name": "pycharm-eadfd222"
  },
  "language_info": {
   "codemirror_mode": {
    "name": "ipython",
    "version": 3
   },
   "file_extension": ".py",
   "mimetype": "text/x-python",
   "name": "python",
   "nbconvert_exporter": "python",
   "pygments_lexer": "ipython3",
   "version": "3.8.1"
  }
 },
 "nbformat": 4,
 "nbformat_minor": 1
}

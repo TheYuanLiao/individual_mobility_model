{
 "cells": [
  {
   "cell_type": "markdown",
   "metadata": {
    "collapsed": true,
    "pycharm": {
     "name": "#%% md\n"
    }
   },
   "source": [
    "# Extract population size of the spatial zones\n",
    "\n",
    "This applies to Sweden, The Netherlands, and Sao Paulo.\n",
    "\n",
    "Sweden is done outside this file with available population of DeSO zones.\n",
    "\n",
    "The Netherlands and Sao Paulo use gridded population data."
   ]
  },
  {
   "cell_type": "code",
   "execution_count": 34,
   "outputs": [
    {
     "name": "stdout",
     "output_type": "stream",
     "text": [
      "The autoreload extension is already loaded. To reload it, use:\n",
      "  %reload_ext autoreload\n"
     ]
    }
   ],
   "source": [
    "%load_ext autoreload\n",
    "%autoreload 2\n",
    "%matplotlib inline"
   ],
   "metadata": {
    "collapsed": false,
    "pycharm": {
     "name": "#%%\n"
    }
   }
  },
  {
   "cell_type": "code",
   "execution_count": 35,
   "outputs": [],
   "source": [
    "import os\n",
    "import subprocess\n",
    "import sys\n",
    "import pandas as pd\n",
    "import numpy as np\n",
    "import geopandas as gpd\n",
    "from rasterstats import zonal_stats\n",
    "import netherlands\n",
    "import saopaulo\n",
    "import sweden_sv\n",
    "\n",
    "def get_repo_root():\n",
    "    \"\"\"Get the root directory of the repo.\"\"\"\n",
    "    dir_in_repo = os.path.dirname(os.path.abspath('__file__')) # os.getcwd()\n",
    "    return subprocess.check_output('git rev-parse --show-toplevel'.split(),\n",
    "                                   cwd=dir_in_repo,\n",
    "                                   universal_newlines=True).rstrip()\n",
    "sys.path.append(get_repo_root())\n",
    "ROOT_dir = get_repo_root()\n",
    "pop_file = ROOT_dir + '/dbs/gpw_2015.tif'"
   ],
   "metadata": {
    "collapsed": false,
    "pycharm": {
     "name": "#%%\n"
    }
   }
  },
  {
   "cell_type": "markdown",
   "source": [
    "## 1. The Netherlands"
   ],
   "metadata": {
    "collapsed": false,
    "pycharm": {
     "name": "#%% md\n"
    }
   }
  },
  {
   "cell_type": "code",
   "execution_count": 36,
   "outputs": [],
   "source": [
    "rg_n = netherlands.GroundTruthLoader()\n",
    "rg_n.load_zones()"
   ],
   "metadata": {
    "collapsed": false,
    "pycharm": {
     "name": "#%%\n"
    }
   }
  },
  {
   "cell_type": "code",
   "execution_count": 37,
   "outputs": [],
   "source": [
    "results = zonal_stats(rg_n.zones.to_crs(4326), pop_file, stats=['sum'], geojson_out=True)\n",
    "zs_gdf_pz = gpd.GeoDataFrame.from_features(results)\n",
    "zs_dict = {row['zone']: row['sum'] for _, row in zs_gdf_pz.iterrows()}"
   ],
   "metadata": {
    "collapsed": false,
    "pycharm": {
     "name": "#%%\n"
    }
   }
  },
  {
   "cell_type": "code",
   "execution_count": 38,
   "outputs": [
    {
     "data": {
      "text/plain": "     userid   latitude  longitude                  geometry  index_right  zone\n0      1013  51.824402   4.927636  POINT (4.92764 51.82440)         1395  4254\n1     11675  52.092615   5.112631  POINT (5.11263 52.09261)         1080  3511\n34  3049901  52.092350   5.113220  POINT (5.11322 52.09235)         1080  3511\n48  5431382  52.092608   5.112933  POINT (5.11293 52.09261)         1080  3511\n56  5857552  52.092441   5.113170  POINT (5.11317 52.09244)         1080  3511",
      "text/html": "<div>\n<style scoped>\n    .dataframe tbody tr th:only-of-type {\n        vertical-align: middle;\n    }\n\n    .dataframe tbody tr th {\n        vertical-align: top;\n    }\n\n    .dataframe thead th {\n        text-align: right;\n    }\n</style>\n<table border=\"1\" class=\"dataframe\">\n  <thead>\n    <tr style=\"text-align: right;\">\n      <th></th>\n      <th>userid</th>\n      <th>latitude</th>\n      <th>longitude</th>\n      <th>geometry</th>\n      <th>index_right</th>\n      <th>zone</th>\n    </tr>\n  </thead>\n  <tbody>\n    <tr>\n      <th>0</th>\n      <td>1013</td>\n      <td>51.824402</td>\n      <td>4.927636</td>\n      <td>POINT (4.92764 51.82440)</td>\n      <td>1395</td>\n      <td>4254</td>\n    </tr>\n    <tr>\n      <th>1</th>\n      <td>11675</td>\n      <td>52.092615</td>\n      <td>5.112631</td>\n      <td>POINT (5.11263 52.09261)</td>\n      <td>1080</td>\n      <td>3511</td>\n    </tr>\n    <tr>\n      <th>34</th>\n      <td>3049901</td>\n      <td>52.092350</td>\n      <td>5.113220</td>\n      <td>POINT (5.11322 52.09235)</td>\n      <td>1080</td>\n      <td>3511</td>\n    </tr>\n    <tr>\n      <th>48</th>\n      <td>5431382</td>\n      <td>52.092608</td>\n      <td>5.112933</td>\n      <td>POINT (5.11293 52.09261)</td>\n      <td>1080</td>\n      <td>3511</td>\n    </tr>\n    <tr>\n      <th>56</th>\n      <td>5857552</td>\n      <td>52.092441</td>\n      <td>5.113170</td>\n      <td>POINT (5.11317 52.09244)</td>\n      <td>1080</td>\n      <td>3511</td>\n    </tr>\n  </tbody>\n</table>\n</div>"
     },
     "execution_count": 38,
     "metadata": {},
     "output_type": "execute_result"
    }
   ],
   "source": [
    "df_home_n = pd.read_csv(ROOT_dir + '/dbs/netherlands/homelocations.csv')\n",
    "gdf_home_n = gpd.GeoDataFrame(\n",
    "    df_home_n,\n",
    "    crs='EPSG:4326',\n",
    "    geometry=gpd.points_from_xy(df_home_n['longitude'], df_home_n['latitude'])\n",
    "    )\n",
    "gdf_home_n = gpd.sjoin(gdf_home_n, rg_n.zones.to_crs(4326))\n",
    "gdf_home_n.head()"
   ],
   "metadata": {
    "collapsed": false,
    "pycharm": {
     "name": "#%%\n"
    }
   }
  },
  {
   "cell_type": "code",
   "execution_count": 39,
   "outputs": [
    {
     "data": {
      "text/plain": "     userid   latitude  longitude  zone           pop\n0      1013  51.824402   4.927636  4254   5445.078613\n1     11675  52.092615   5.112631  3511  13629.207031\n34  3049901  52.092350   5.113220  3511  13629.207031\n48  5431382  52.092608   5.112933  3511  13629.207031\n56  5857552  52.092441   5.113170  3511  13629.207031",
      "text/html": "<div>\n<style scoped>\n    .dataframe tbody tr th:only-of-type {\n        vertical-align: middle;\n    }\n\n    .dataframe tbody tr th {\n        vertical-align: top;\n    }\n\n    .dataframe thead th {\n        text-align: right;\n    }\n</style>\n<table border=\"1\" class=\"dataframe\">\n  <thead>\n    <tr style=\"text-align: right;\">\n      <th></th>\n      <th>userid</th>\n      <th>latitude</th>\n      <th>longitude</th>\n      <th>zone</th>\n      <th>pop</th>\n    </tr>\n  </thead>\n  <tbody>\n    <tr>\n      <th>0</th>\n      <td>1013</td>\n      <td>51.824402</td>\n      <td>4.927636</td>\n      <td>4254</td>\n      <td>5445.078613</td>\n    </tr>\n    <tr>\n      <th>1</th>\n      <td>11675</td>\n      <td>52.092615</td>\n      <td>5.112631</td>\n      <td>3511</td>\n      <td>13629.207031</td>\n    </tr>\n    <tr>\n      <th>34</th>\n      <td>3049901</td>\n      <td>52.092350</td>\n      <td>5.113220</td>\n      <td>3511</td>\n      <td>13629.207031</td>\n    </tr>\n    <tr>\n      <th>48</th>\n      <td>5431382</td>\n      <td>52.092608</td>\n      <td>5.112933</td>\n      <td>3511</td>\n      <td>13629.207031</td>\n    </tr>\n    <tr>\n      <th>56</th>\n      <td>5857552</td>\n      <td>52.092441</td>\n      <td>5.113170</td>\n      <td>3511</td>\n      <td>13629.207031</td>\n    </tr>\n  </tbody>\n</table>\n</div>"
     },
     "execution_count": 39,
     "metadata": {},
     "output_type": "execute_result"
    }
   ],
   "source": [
    "df_home_n = gdf_home_n.drop(columns=['geometry', 'index_right'])\n",
    "df_home_n.loc[:, 'pop'] = df_home_n.loc[:, 'zone'].apply(lambda x: zs_dict[x])\n",
    "df_home_n.head()"
   ],
   "metadata": {
    "collapsed": false,
    "pycharm": {
     "name": "#%%\n"
    }
   }
  },
  {
   "cell_type": "code",
   "execution_count": 40,
   "outputs": [
    {
     "data": {
      "text/plain": "                  userid   latitude  longitude  zone           pop  tw_pop  \\\n0                   1013  51.824402   4.927636  4254   5445.078613       1   \n1                  11675  52.092615   5.112631  3511  13629.207031      42   \n34               3049901  52.092350   5.113220  3511  13629.207031      42   \n48               5431382  52.092608   5.112933  3511  13629.207031      42   \n56               5857552  52.092441   5.113170  3511  13629.207031      42   \n...                  ...        ...        ...   ...           ...     ...   \n5316          4212410595  51.433186   4.313162  4631   9343.757812       1   \n5325          4764532456  52.450000   4.833330  1503   7179.984375       1   \n5329          4841286081  51.417730   5.816390  5757  10113.166992       1   \n5339  710698803171618816  52.843310   5.027540  1771  10078.034180       1   \n5349  722107258327404544  51.854035   6.106678  6916   3733.209961       1   \n\n            weight  \n0      5445.078613  \n1       324.504929  \n34      324.504929  \n48      324.504929  \n56      324.504929  \n...            ...  \n5316   9343.757812  \n5325   7179.984375  \n5329  10113.166992  \n5339  10078.034180  \n5349   3733.209961  \n\n[5222 rows x 7 columns]",
      "text/html": "<div>\n<style scoped>\n    .dataframe tbody tr th:only-of-type {\n        vertical-align: middle;\n    }\n\n    .dataframe tbody tr th {\n        vertical-align: top;\n    }\n\n    .dataframe thead th {\n        text-align: right;\n    }\n</style>\n<table border=\"1\" class=\"dataframe\">\n  <thead>\n    <tr style=\"text-align: right;\">\n      <th></th>\n      <th>userid</th>\n      <th>latitude</th>\n      <th>longitude</th>\n      <th>zone</th>\n      <th>pop</th>\n      <th>tw_pop</th>\n      <th>weight</th>\n    </tr>\n  </thead>\n  <tbody>\n    <tr>\n      <th>0</th>\n      <td>1013</td>\n      <td>51.824402</td>\n      <td>4.927636</td>\n      <td>4254</td>\n      <td>5445.078613</td>\n      <td>1</td>\n      <td>5445.078613</td>\n    </tr>\n    <tr>\n      <th>1</th>\n      <td>11675</td>\n      <td>52.092615</td>\n      <td>5.112631</td>\n      <td>3511</td>\n      <td>13629.207031</td>\n      <td>42</td>\n      <td>324.504929</td>\n    </tr>\n    <tr>\n      <th>34</th>\n      <td>3049901</td>\n      <td>52.092350</td>\n      <td>5.113220</td>\n      <td>3511</td>\n      <td>13629.207031</td>\n      <td>42</td>\n      <td>324.504929</td>\n    </tr>\n    <tr>\n      <th>48</th>\n      <td>5431382</td>\n      <td>52.092608</td>\n      <td>5.112933</td>\n      <td>3511</td>\n      <td>13629.207031</td>\n      <td>42</td>\n      <td>324.504929</td>\n    </tr>\n    <tr>\n      <th>56</th>\n      <td>5857552</td>\n      <td>52.092441</td>\n      <td>5.113170</td>\n      <td>3511</td>\n      <td>13629.207031</td>\n      <td>42</td>\n      <td>324.504929</td>\n    </tr>\n    <tr>\n      <th>...</th>\n      <td>...</td>\n      <td>...</td>\n      <td>...</td>\n      <td>...</td>\n      <td>...</td>\n      <td>...</td>\n      <td>...</td>\n    </tr>\n    <tr>\n      <th>5316</th>\n      <td>4212410595</td>\n      <td>51.433186</td>\n      <td>4.313162</td>\n      <td>4631</td>\n      <td>9343.757812</td>\n      <td>1</td>\n      <td>9343.757812</td>\n    </tr>\n    <tr>\n      <th>5325</th>\n      <td>4764532456</td>\n      <td>52.450000</td>\n      <td>4.833330</td>\n      <td>1503</td>\n      <td>7179.984375</td>\n      <td>1</td>\n      <td>7179.984375</td>\n    </tr>\n    <tr>\n      <th>5329</th>\n      <td>4841286081</td>\n      <td>51.417730</td>\n      <td>5.816390</td>\n      <td>5757</td>\n      <td>10113.166992</td>\n      <td>1</td>\n      <td>10113.166992</td>\n    </tr>\n    <tr>\n      <th>5339</th>\n      <td>710698803171618816</td>\n      <td>52.843310</td>\n      <td>5.027540</td>\n      <td>1771</td>\n      <td>10078.034180</td>\n      <td>1</td>\n      <td>10078.034180</td>\n    </tr>\n    <tr>\n      <th>5349</th>\n      <td>722107258327404544</td>\n      <td>51.854035</td>\n      <td>6.106678</td>\n      <td>6916</td>\n      <td>3733.209961</td>\n      <td>1</td>\n      <td>3733.209961</td>\n    </tr>\n  </tbody>\n</table>\n<p>5222 rows × 7 columns</p>\n</div>"
     },
     "execution_count": 40,
     "metadata": {},
     "output_type": "execute_result"
    }
   ],
   "source": [
    "df_home_n.loc[:, 'pop'] = df_home_n.loc[:, 'pop'].fillna(0)\n",
    "df_home_n_size = pd.DataFrame(df_home_n.groupby('zone').size(), columns=['tw_pop'])\n",
    "df_home_n_proc = df_home_n.join(df_home_n_size, on='zone')\n",
    "df_home_n_proc.loc[:, 'weight'] = df_home_n_proc.loc[:, 'pop'] / df_home_n_proc.loc[:, 'tw_pop']\n",
    "weight_median = df_home_n_proc.loc[:, 'weight'].median()\n",
    "df_home_n_proc.loc[:, 'weight'] = df_home_n_proc.loc[:, 'weight'].apply(lambda x: weight_median if x == 0 else x)\n",
    "df_home_n_proc"
   ],
   "metadata": {
    "collapsed": false,
    "pycharm": {
     "name": "#%%\n"
    }
   }
  },
  {
   "cell_type": "code",
   "execution_count": 41,
   "outputs": [],
   "source": [
    "df_home_n_proc.loc[:, ['userid', 'latitude', 'longitude',\n",
    "                       'zone', 'weight']].to_csv(ROOT_dir + '/dbs/netherlands/homelocations_wt.csv', index=False)\n"
   ],
   "metadata": {
    "collapsed": false,
    "pycharm": {
     "name": "#%%\n"
    }
   }
  },
  {
   "cell_type": "markdown",
   "source": [
    "## 2. Sao Paulo"
   ],
   "metadata": {
    "collapsed": false
   }
  },
  {
   "cell_type": "code",
   "execution_count": 42,
   "outputs": [],
   "source": [
    "rg_s = saopaulo.GroundTruthLoader()\n",
    "rg_s.load_zones()"
   ],
   "metadata": {
    "collapsed": false,
    "pycharm": {
     "name": "#%%\n"
    }
   }
  },
  {
   "cell_type": "code",
   "execution_count": 43,
   "outputs": [],
   "source": [
    "results = zonal_stats(rg_s.zones.to_crs(4326), pop_file, stats=['sum'], geojson_out=True)\n",
    "zs_gdf_pz = gpd.GeoDataFrame.from_features(results)\n",
    "zs_dict = {row['zone']: row['sum'] for _, row in zs_gdf_pz.iterrows()}"
   ],
   "metadata": {
    "collapsed": false,
    "pycharm": {
     "name": "#%%\n"
    }
   }
  },
  {
   "cell_type": "code",
   "execution_count": 44,
   "outputs": [
    {
     "data": {
      "text/plain": "     userid   latitude  longitude                     geometry  index_right  \\\n0      2542 -23.562703 -46.697775  POINT (-46.69777 -23.56270)           81   \n31  8067402 -23.572454 -46.695811  POINT (-46.69581 -23.57245)           81   \n40  8411992 -23.561270 -46.694220  POINT (-46.69422 -23.56127)           81   \n67  9207302 -23.570027 -46.691704  POINT (-46.69170 -23.57003)           81   \n81  9502352 -23.564909 -46.702545  POINT (-46.70254 -23.56491)           81   \n\n    zone  \n0     82  \n31    82  \n40    82  \n67    82  \n81    82  ",
      "text/html": "<div>\n<style scoped>\n    .dataframe tbody tr th:only-of-type {\n        vertical-align: middle;\n    }\n\n    .dataframe tbody tr th {\n        vertical-align: top;\n    }\n\n    .dataframe thead th {\n        text-align: right;\n    }\n</style>\n<table border=\"1\" class=\"dataframe\">\n  <thead>\n    <tr style=\"text-align: right;\">\n      <th></th>\n      <th>userid</th>\n      <th>latitude</th>\n      <th>longitude</th>\n      <th>geometry</th>\n      <th>index_right</th>\n      <th>zone</th>\n    </tr>\n  </thead>\n  <tbody>\n    <tr>\n      <th>0</th>\n      <td>2542</td>\n      <td>-23.562703</td>\n      <td>-46.697775</td>\n      <td>POINT (-46.69777 -23.56270)</td>\n      <td>81</td>\n      <td>82</td>\n    </tr>\n    <tr>\n      <th>31</th>\n      <td>8067402</td>\n      <td>-23.572454</td>\n      <td>-46.695811</td>\n      <td>POINT (-46.69581 -23.57245)</td>\n      <td>81</td>\n      <td>82</td>\n    </tr>\n    <tr>\n      <th>40</th>\n      <td>8411992</td>\n      <td>-23.561270</td>\n      <td>-46.694220</td>\n      <td>POINT (-46.69422 -23.56127)</td>\n      <td>81</td>\n      <td>82</td>\n    </tr>\n    <tr>\n      <th>67</th>\n      <td>9207302</td>\n      <td>-23.570027</td>\n      <td>-46.691704</td>\n      <td>POINT (-46.69170 -23.57003)</td>\n      <td>81</td>\n      <td>82</td>\n    </tr>\n    <tr>\n      <th>81</th>\n      <td>9502352</td>\n      <td>-23.564909</td>\n      <td>-46.702545</td>\n      <td>POINT (-46.70254 -23.56491)</td>\n      <td>81</td>\n      <td>82</td>\n    </tr>\n  </tbody>\n</table>\n</div>"
     },
     "execution_count": 44,
     "metadata": {},
     "output_type": "execute_result"
    }
   ],
   "source": [
    "df_home_s = pd.read_csv(ROOT_dir + '/dbs/saopaulo/homelocations.csv')\n",
    "gdf_home_s = gpd.GeoDataFrame(\n",
    "    df_home_s,\n",
    "    crs='EPSG:4326',\n",
    "    geometry=gpd.points_from_xy(df_home_s['longitude'], df_home_s['latitude'])\n",
    "    )\n",
    "gdf_home_s = gpd.sjoin(gdf_home_s, rg_s.zones.to_crs(4326))\n",
    "gdf_home_s.head()"
   ],
   "metadata": {
    "collapsed": false,
    "pycharm": {
     "name": "#%%\n"
    }
   }
  },
  {
   "cell_type": "code",
   "execution_count": 45,
   "outputs": [
    {
     "data": {
      "text/plain": "     userid   latitude  longitude  zone           pop\n0      2542 -23.562703 -46.697775    82  12405.144531\n31  8067402 -23.572454 -46.695811    82  12405.144531\n40  8411992 -23.561270 -46.694220    82  12405.144531\n67  9207302 -23.570027 -46.691704    82  12405.144531\n81  9502352 -23.564909 -46.702545    82  12405.144531",
      "text/html": "<div>\n<style scoped>\n    .dataframe tbody tr th:only-of-type {\n        vertical-align: middle;\n    }\n\n    .dataframe tbody tr th {\n        vertical-align: top;\n    }\n\n    .dataframe thead th {\n        text-align: right;\n    }\n</style>\n<table border=\"1\" class=\"dataframe\">\n  <thead>\n    <tr style=\"text-align: right;\">\n      <th></th>\n      <th>userid</th>\n      <th>latitude</th>\n      <th>longitude</th>\n      <th>zone</th>\n      <th>pop</th>\n    </tr>\n  </thead>\n  <tbody>\n    <tr>\n      <th>0</th>\n      <td>2542</td>\n      <td>-23.562703</td>\n      <td>-46.697775</td>\n      <td>82</td>\n      <td>12405.144531</td>\n    </tr>\n    <tr>\n      <th>31</th>\n      <td>8067402</td>\n      <td>-23.572454</td>\n      <td>-46.695811</td>\n      <td>82</td>\n      <td>12405.144531</td>\n    </tr>\n    <tr>\n      <th>40</th>\n      <td>8411992</td>\n      <td>-23.561270</td>\n      <td>-46.694220</td>\n      <td>82</td>\n      <td>12405.144531</td>\n    </tr>\n    <tr>\n      <th>67</th>\n      <td>9207302</td>\n      <td>-23.570027</td>\n      <td>-46.691704</td>\n      <td>82</td>\n      <td>12405.144531</td>\n    </tr>\n    <tr>\n      <th>81</th>\n      <td>9502352</td>\n      <td>-23.564909</td>\n      <td>-46.702545</td>\n      <td>82</td>\n      <td>12405.144531</td>\n    </tr>\n  </tbody>\n</table>\n</div>"
     },
     "execution_count": 45,
     "metadata": {},
     "output_type": "execute_result"
    }
   ],
   "source": [
    "df_home_s = gdf_home_s.drop(columns=['geometry', 'index_right'])\n",
    "df_home_s.loc[:, 'pop'] = df_home_s.loc[:, 'zone'].apply(lambda x: zs_dict[x])\n",
    "df_home_s.head()"
   ],
   "metadata": {
    "collapsed": false,
    "pycharm": {
     "name": "#%%\n"
    }
   }
  },
  {
   "cell_type": "code",
   "execution_count": 46,
   "outputs": [
    {
     "data": {
      "text/plain": "           userid   latitude  longitude  zone           pop  tw_pop  \\\n0            2542 -23.562703 -46.697775    82  12405.144531     136   \n31        8067402 -23.572454 -46.695811    82  12405.144531     136   \n40        8411992 -23.561270 -46.694220    82  12405.144531     136   \n67        9207302 -23.570027 -46.691704    82  12405.144531     136   \n81        9502352 -23.564909 -46.702545    82  12405.144531     136   \n...           ...        ...        ...   ...           ...     ...   \n9129    423421443 -23.760865 -46.840051   469   6337.958008       1   \n9437    589304402 -23.744114 -46.900317   470  14868.516602       1   \n9943   1576464876 -23.927200 -47.070000   475  39264.402344       1   \n10192  2436079743 -23.469805 -46.319954   399  77719.625000       1   \n10206  2449573518 -23.524913 -46.714974   103   8849.484375       1   \n\n             weight  \n0         91.214298  \n31        91.214298  \n40        91.214298  \n67        91.214298  \n81        91.214298  \n...             ...  \n9129    6337.958008  \n9437   14868.516602  \n9943   39264.402344  \n10192  77719.625000  \n10206   8849.484375  \n\n[10938 rows x 7 columns]",
      "text/html": "<div>\n<style scoped>\n    .dataframe tbody tr th:only-of-type {\n        vertical-align: middle;\n    }\n\n    .dataframe tbody tr th {\n        vertical-align: top;\n    }\n\n    .dataframe thead th {\n        text-align: right;\n    }\n</style>\n<table border=\"1\" class=\"dataframe\">\n  <thead>\n    <tr style=\"text-align: right;\">\n      <th></th>\n      <th>userid</th>\n      <th>latitude</th>\n      <th>longitude</th>\n      <th>zone</th>\n      <th>pop</th>\n      <th>tw_pop</th>\n      <th>weight</th>\n    </tr>\n  </thead>\n  <tbody>\n    <tr>\n      <th>0</th>\n      <td>2542</td>\n      <td>-23.562703</td>\n      <td>-46.697775</td>\n      <td>82</td>\n      <td>12405.144531</td>\n      <td>136</td>\n      <td>91.214298</td>\n    </tr>\n    <tr>\n      <th>31</th>\n      <td>8067402</td>\n      <td>-23.572454</td>\n      <td>-46.695811</td>\n      <td>82</td>\n      <td>12405.144531</td>\n      <td>136</td>\n      <td>91.214298</td>\n    </tr>\n    <tr>\n      <th>40</th>\n      <td>8411992</td>\n      <td>-23.561270</td>\n      <td>-46.694220</td>\n      <td>82</td>\n      <td>12405.144531</td>\n      <td>136</td>\n      <td>91.214298</td>\n    </tr>\n    <tr>\n      <th>67</th>\n      <td>9207302</td>\n      <td>-23.570027</td>\n      <td>-46.691704</td>\n      <td>82</td>\n      <td>12405.144531</td>\n      <td>136</td>\n      <td>91.214298</td>\n    </tr>\n    <tr>\n      <th>81</th>\n      <td>9502352</td>\n      <td>-23.564909</td>\n      <td>-46.702545</td>\n      <td>82</td>\n      <td>12405.144531</td>\n      <td>136</td>\n      <td>91.214298</td>\n    </tr>\n    <tr>\n      <th>...</th>\n      <td>...</td>\n      <td>...</td>\n      <td>...</td>\n      <td>...</td>\n      <td>...</td>\n      <td>...</td>\n      <td>...</td>\n    </tr>\n    <tr>\n      <th>9129</th>\n      <td>423421443</td>\n      <td>-23.760865</td>\n      <td>-46.840051</td>\n      <td>469</td>\n      <td>6337.958008</td>\n      <td>1</td>\n      <td>6337.958008</td>\n    </tr>\n    <tr>\n      <th>9437</th>\n      <td>589304402</td>\n      <td>-23.744114</td>\n      <td>-46.900317</td>\n      <td>470</td>\n      <td>14868.516602</td>\n      <td>1</td>\n      <td>14868.516602</td>\n    </tr>\n    <tr>\n      <th>9943</th>\n      <td>1576464876</td>\n      <td>-23.927200</td>\n      <td>-47.070000</td>\n      <td>475</td>\n      <td>39264.402344</td>\n      <td>1</td>\n      <td>39264.402344</td>\n    </tr>\n    <tr>\n      <th>10192</th>\n      <td>2436079743</td>\n      <td>-23.469805</td>\n      <td>-46.319954</td>\n      <td>399</td>\n      <td>77719.625000</td>\n      <td>1</td>\n      <td>77719.625000</td>\n    </tr>\n    <tr>\n      <th>10206</th>\n      <td>2449573518</td>\n      <td>-23.524913</td>\n      <td>-46.714974</td>\n      <td>103</td>\n      <td>8849.484375</td>\n      <td>1</td>\n      <td>8849.484375</td>\n    </tr>\n  </tbody>\n</table>\n<p>10938 rows × 7 columns</p>\n</div>"
     },
     "execution_count": 46,
     "metadata": {},
     "output_type": "execute_result"
    }
   ],
   "source": [
    "df_home_s.loc[:, 'pop'] = df_home_s.loc[:, 'pop'].fillna(0)\n",
    "df_home_s_size = pd.DataFrame(df_home_s.groupby('zone').size(), columns=['tw_pop'])\n",
    "df_home_s_proc = df_home_s.join(df_home_s_size, on='zone')\n",
    "df_home_s_proc.loc[:, 'weight'] = df_home_s_proc.loc[:, 'pop'] / df_home_s_proc.loc[:, 'tw_pop']\n",
    "weight_median = df_home_s_proc.loc[:, 'weight'].median()\n",
    "df_home_s_proc.loc[:, 'weight'] = df_home_s_proc.loc[:, 'weight'].apply(lambda x: weight_median if x == 0 else x)\n",
    "df_home_s_proc"
   ],
   "metadata": {
    "collapsed": false,
    "pycharm": {
     "name": "#%%\n"
    }
   }
  },
  {
   "cell_type": "code",
   "execution_count": 47,
   "outputs": [],
   "source": [
    "df_home_s_proc.loc[:, ['userid', 'latitude', 'longitude',\n",
    "                       'zone', 'weight']].to_csv(ROOT_dir + '/dbs/saopaulo/homelocations_wt.csv', index=False)\n"
   ],
   "metadata": {
    "collapsed": false,
    "pycharm": {
     "name": "#%%\n"
    }
   }
  },
  {
   "cell_type": "markdown",
   "source": [
    "## 3. Sweden"
   ],
   "metadata": {
    "collapsed": false
   }
  },
  {
   "cell_type": "code",
   "execution_count": 48,
   "outputs": [],
   "source": [
    "rg_sw = sweden_sv.GroundTruthLoader()\n",
    "rg_sw.load_zones()\n"
   ],
   "metadata": {
    "collapsed": false,
    "pycharm": {
     "name": "#%%\n"
    }
   }
  },
  {
   "cell_type": "code",
   "execution_count": 49,
   "outputs": [
    {
     "data": {
      "text/plain": "          userid   latitude  longitude                   geometry  \\\n0           5616  59.426889  17.954336  POINT (17.95434 59.42689)   \n30       5040331  59.428098  17.949386  POINT (17.94939 59.42810)   \n1           5976  56.053940  12.684570  POINT (12.68457 56.05394)   \n2582   407770195  56.057689  12.683189  POINT (12.68319 56.05769)   \n3747  2582504754  56.054448  12.684705  POINT (12.68471 56.05445)   \n\n      index_right       zone  \n0             432  0163C1150  \n30            432  0163C1150  \n1            3162  1283C1590  \n2582         3162  1283C1590  \n3747         3162  1283C1590  ",
      "text/html": "<div>\n<style scoped>\n    .dataframe tbody tr th:only-of-type {\n        vertical-align: middle;\n    }\n\n    .dataframe tbody tr th {\n        vertical-align: top;\n    }\n\n    .dataframe thead th {\n        text-align: right;\n    }\n</style>\n<table border=\"1\" class=\"dataframe\">\n  <thead>\n    <tr style=\"text-align: right;\">\n      <th></th>\n      <th>userid</th>\n      <th>latitude</th>\n      <th>longitude</th>\n      <th>geometry</th>\n      <th>index_right</th>\n      <th>zone</th>\n    </tr>\n  </thead>\n  <tbody>\n    <tr>\n      <th>0</th>\n      <td>5616</td>\n      <td>59.426889</td>\n      <td>17.954336</td>\n      <td>POINT (17.95434 59.42689)</td>\n      <td>432</td>\n      <td>0163C1150</td>\n    </tr>\n    <tr>\n      <th>30</th>\n      <td>5040331</td>\n      <td>59.428098</td>\n      <td>17.949386</td>\n      <td>POINT (17.94939 59.42810)</td>\n      <td>432</td>\n      <td>0163C1150</td>\n    </tr>\n    <tr>\n      <th>1</th>\n      <td>5976</td>\n      <td>56.053940</td>\n      <td>12.684570</td>\n      <td>POINT (12.68457 56.05394)</td>\n      <td>3162</td>\n      <td>1283C1590</td>\n    </tr>\n    <tr>\n      <th>2582</th>\n      <td>407770195</td>\n      <td>56.057689</td>\n      <td>12.683189</td>\n      <td>POINT (12.68319 56.05769)</td>\n      <td>3162</td>\n      <td>1283C1590</td>\n    </tr>\n    <tr>\n      <th>3747</th>\n      <td>2582504754</td>\n      <td>56.054448</td>\n      <td>12.684705</td>\n      <td>POINT (12.68471 56.05445)</td>\n      <td>3162</td>\n      <td>1283C1590</td>\n    </tr>\n  </tbody>\n</table>\n</div>"
     },
     "execution_count": 49,
     "metadata": {},
     "output_type": "execute_result"
    }
   ],
   "source": [
    "df_home_sw = pd.read_csv(ROOT_dir + '/dbs/sweden/homelocations.csv')\n",
    "gdf_home_sw = gpd.GeoDataFrame(\n",
    "    df_home_sw,\n",
    "    crs='EPSG:4326',\n",
    "    geometry=gpd.points_from_xy(df_home_sw['longitude'], df_home_sw['latitude'])\n",
    "    )\n",
    "gdf_home_sw = gpd.sjoin(gdf_home_sw, rg_sw.zones.to_crs(4326))\n",
    "gdf_home_sw.head()"
   ],
   "metadata": {
    "collapsed": false,
    "pycharm": {
     "name": "#%%\n"
    }
   }
  },
  {
   "cell_type": "code",
   "execution_count": 50,
   "outputs": [
    {
     "data": {
      "text/plain": "          userid   latitude  longitude       zone   pop\n0           5616  59.426889  17.954336  0163C1150  1840\n30       5040331  59.428098  17.949386  0163C1150  1840\n1           5976  56.053940  12.684570  1283C1590  1948\n2582   407770195  56.057689  12.683189  1283C1590  1948\n3747  2582504754  56.054448  12.684705  1283C1590  1948",
      "text/html": "<div>\n<style scoped>\n    .dataframe tbody tr th:only-of-type {\n        vertical-align: middle;\n    }\n\n    .dataframe tbody tr th {\n        vertical-align: top;\n    }\n\n    .dataframe thead th {\n        text-align: right;\n    }\n</style>\n<table border=\"1\" class=\"dataframe\">\n  <thead>\n    <tr style=\"text-align: right;\">\n      <th></th>\n      <th>userid</th>\n      <th>latitude</th>\n      <th>longitude</th>\n      <th>zone</th>\n      <th>pop</th>\n    </tr>\n  </thead>\n  <tbody>\n    <tr>\n      <th>0</th>\n      <td>5616</td>\n      <td>59.426889</td>\n      <td>17.954336</td>\n      <td>0163C1150</td>\n      <td>1840</td>\n    </tr>\n    <tr>\n      <th>30</th>\n      <td>5040331</td>\n      <td>59.428098</td>\n      <td>17.949386</td>\n      <td>0163C1150</td>\n      <td>1840</td>\n    </tr>\n    <tr>\n      <th>1</th>\n      <td>5976</td>\n      <td>56.053940</td>\n      <td>12.684570</td>\n      <td>1283C1590</td>\n      <td>1948</td>\n    </tr>\n    <tr>\n      <th>2582</th>\n      <td>407770195</td>\n      <td>56.057689</td>\n      <td>12.683189</td>\n      <td>1283C1590</td>\n      <td>1948</td>\n    </tr>\n    <tr>\n      <th>3747</th>\n      <td>2582504754</td>\n      <td>56.054448</td>\n      <td>12.684705</td>\n      <td>1283C1590</td>\n      <td>1948</td>\n    </tr>\n  </tbody>\n</table>\n</div>"
     },
     "execution_count": 50,
     "metadata": {},
     "output_type": "execute_result"
    }
   ],
   "source": [
    "df_home_sw = gdf_home_sw.drop(columns=['geometry', 'index_right'])\n",
    "df_pop_sw = pd.read_csv(ROOT_dir + '/dbs/sweden/survey_deso/population.csv')\n",
    "zs_dict = {row['zone']: row['pop'] for _, row in df_pop_sw.iterrows()}\n",
    "\n",
    "df_home_sw.loc[:, 'pop'] = df_home_sw.loc[:, 'zone'].apply(lambda x: zs_dict[x])\n",
    "df_home_sw.head()"
   ],
   "metadata": {
    "collapsed": false,
    "pycharm": {
     "name": "#%%\n"
    }
   }
  },
  {
   "cell_type": "code",
   "execution_count": 51,
   "outputs": [
    {
     "data": {
      "text/plain": "                  userid   latitude  longitude       zone   pop  tw_pop  \\\n0                   5616  59.426889  17.954336  0163C1150  1840       2   \n30               5040331  59.428098  17.949386  0163C1150  1840       2   \n1                   5976  56.053940  12.684570  1283C1590  1948       3   \n2582           407770195  56.057689  12.683189  1283C1590  1948       3   \n3747          2582504754  56.054448  12.684705  1283C1590  1948       3   \n...                  ...        ...        ...        ...   ...     ...   \n3941          4834800161  55.597618  12.998970  1280C2540  1771       1   \n3954  750012578802364416  59.616700  17.850000  0191C1020  2584       1   \n3955  751647827651092481  63.826419  20.295268  2480C1270  1225       1   \n3956  753867220246269952  60.869916  14.522473  2062A0010  1677       1   \n3957  764655612525473792  56.205971  12.592350  1284C1100  1956       1   \n\n           weight  \n0      920.000000  \n30     920.000000  \n1      649.333333  \n2582   649.333333  \n3747   649.333333  \n...           ...  \n3941  1771.000000  \n3954  2584.000000  \n3955  1225.000000  \n3956  1677.000000  \n3957  1956.000000  \n\n[3948 rows x 7 columns]",
      "text/html": "<div>\n<style scoped>\n    .dataframe tbody tr th:only-of-type {\n        vertical-align: middle;\n    }\n\n    .dataframe tbody tr th {\n        vertical-align: top;\n    }\n\n    .dataframe thead th {\n        text-align: right;\n    }\n</style>\n<table border=\"1\" class=\"dataframe\">\n  <thead>\n    <tr style=\"text-align: right;\">\n      <th></th>\n      <th>userid</th>\n      <th>latitude</th>\n      <th>longitude</th>\n      <th>zone</th>\n      <th>pop</th>\n      <th>tw_pop</th>\n      <th>weight</th>\n    </tr>\n  </thead>\n  <tbody>\n    <tr>\n      <th>0</th>\n      <td>5616</td>\n      <td>59.426889</td>\n      <td>17.954336</td>\n      <td>0163C1150</td>\n      <td>1840</td>\n      <td>2</td>\n      <td>920.000000</td>\n    </tr>\n    <tr>\n      <th>30</th>\n      <td>5040331</td>\n      <td>59.428098</td>\n      <td>17.949386</td>\n      <td>0163C1150</td>\n      <td>1840</td>\n      <td>2</td>\n      <td>920.000000</td>\n    </tr>\n    <tr>\n      <th>1</th>\n      <td>5976</td>\n      <td>56.053940</td>\n      <td>12.684570</td>\n      <td>1283C1590</td>\n      <td>1948</td>\n      <td>3</td>\n      <td>649.333333</td>\n    </tr>\n    <tr>\n      <th>2582</th>\n      <td>407770195</td>\n      <td>56.057689</td>\n      <td>12.683189</td>\n      <td>1283C1590</td>\n      <td>1948</td>\n      <td>3</td>\n      <td>649.333333</td>\n    </tr>\n    <tr>\n      <th>3747</th>\n      <td>2582504754</td>\n      <td>56.054448</td>\n      <td>12.684705</td>\n      <td>1283C1590</td>\n      <td>1948</td>\n      <td>3</td>\n      <td>649.333333</td>\n    </tr>\n    <tr>\n      <th>...</th>\n      <td>...</td>\n      <td>...</td>\n      <td>...</td>\n      <td>...</td>\n      <td>...</td>\n      <td>...</td>\n      <td>...</td>\n    </tr>\n    <tr>\n      <th>3941</th>\n      <td>4834800161</td>\n      <td>55.597618</td>\n      <td>12.998970</td>\n      <td>1280C2540</td>\n      <td>1771</td>\n      <td>1</td>\n      <td>1771.000000</td>\n    </tr>\n    <tr>\n      <th>3954</th>\n      <td>750012578802364416</td>\n      <td>59.616700</td>\n      <td>17.850000</td>\n      <td>0191C1020</td>\n      <td>2584</td>\n      <td>1</td>\n      <td>2584.000000</td>\n    </tr>\n    <tr>\n      <th>3955</th>\n      <td>751647827651092481</td>\n      <td>63.826419</td>\n      <td>20.295268</td>\n      <td>2480C1270</td>\n      <td>1225</td>\n      <td>1</td>\n      <td>1225.000000</td>\n    </tr>\n    <tr>\n      <th>3956</th>\n      <td>753867220246269952</td>\n      <td>60.869916</td>\n      <td>14.522473</td>\n      <td>2062A0010</td>\n      <td>1677</td>\n      <td>1</td>\n      <td>1677.000000</td>\n    </tr>\n    <tr>\n      <th>3957</th>\n      <td>764655612525473792</td>\n      <td>56.205971</td>\n      <td>12.592350</td>\n      <td>1284C1100</td>\n      <td>1956</td>\n      <td>1</td>\n      <td>1956.000000</td>\n    </tr>\n  </tbody>\n</table>\n<p>3948 rows × 7 columns</p>\n</div>"
     },
     "execution_count": 51,
     "metadata": {},
     "output_type": "execute_result"
    }
   ],
   "source": [
    "df_home_sw.loc[:, 'pop'] = df_home_sw.loc[:, 'pop'].fillna(0)\n",
    "df_home_sw_size = pd.DataFrame(df_home_sw.groupby('zone').size(), columns=['tw_pop'])\n",
    "df_home_sw_proc = df_home_sw.join(df_home_sw_size, on='zone')\n",
    "df_home_sw_proc.loc[:, 'weight'] = df_home_sw_proc.loc[:, 'pop'] / df_home_sw_proc.loc[:, 'tw_pop']\n",
    "weight_median = df_home_sw_proc.loc[:, 'weight'].median()\n",
    "df_home_sw_proc.loc[:, 'weight'] = df_home_sw_proc.loc[:, 'weight'].apply(lambda x: weight_median if x == 0 else x)\n",
    "df_home_sw_proc"
   ],
   "metadata": {
    "collapsed": false,
    "pycharm": {
     "name": "#%%\n"
    }
   }
  },
  {
   "cell_type": "code",
   "execution_count": 52,
   "outputs": [],
   "source": [
    "df_home_sw_proc.loc[:, ['userid', 'latitude', 'longitude',\n",
    "                       'zone', 'weight']].to_csv(ROOT_dir + '/dbs/sweden/homelocations_wt.csv', index=False)"
   ],
   "metadata": {
    "collapsed": false,
    "pycharm": {
     "name": "#%%\n"
    }
   }
  }
 ],
 "metadata": {
  "kernelspec": {
   "display_name": "Python 3",
   "language": "python",
   "name": "python3"
  },
  "language_info": {
   "codemirror_mode": {
    "name": "ipython",
    "version": 2
   },
   "file_extension": ".py",
   "mimetype": "text/x-python",
   "name": "python",
   "nbconvert_exporter": "python",
   "pygments_lexer": "ipython2",
   "version": "2.7.6"
  }
 },
 "nbformat": 4,
 "nbformat_minor": 0
}
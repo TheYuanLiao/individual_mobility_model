{
 "cells": [
  {
   "cell_type": "markdown",
   "metadata": {
    "collapsed": true,
    "pycharm": {
     "name": "#%% md\n"
    }
   },
   "source": [
    "# Summary of Bayesian parameters search\n",
    "\n",
    "Read all the parameters' search results and save the optimal ones.\n",
    "\n",
    "Read all the sensitivity test results and save for the further visualisation."
   ]
  },
  {
   "cell_type": "code",
   "execution_count": 5,
   "outputs": [
    {
     "name": "stdout",
     "output_type": "stream",
     "text": [
      "The autoreload extension is already loaded. To reload it, use:\n",
      "  %reload_ext autoreload\n"
     ]
    }
   ],
   "source": [
    "%load_ext autoreload\n",
    "%autoreload 2"
   ],
   "metadata": {
    "collapsed": false,
    "pycharm": {
     "name": "#%%\n"
    }
   }
  },
  {
   "cell_type": "code",
   "execution_count": 11,
   "outputs": [],
   "source": [
    "import json\n",
    "import pandas as pd\n",
    "import validation\n",
    "from pprint import pprint"
   ],
   "metadata": {
    "collapsed": false,
    "pycharm": {
     "name": "#%%\n"
    }
   }
  },
  {
   "cell_type": "markdown",
   "source": [
    "## 1 Read the logs of validation and save to a file"
   ],
   "metadata": {
    "collapsed": false,
    "pycharm": {
     "name": "#%% md\n"
    }
   }
  },
  {
   "cell_type": "code",
   "execution_count": 3,
   "outputs": [],
   "source": [
    "region_list = ['sweden', 'netherlands', 'saopaulo']\n",
    "for region in region_list:\n",
    "    file = f'../../results/para-search-r1/parasearch-n_{region}.txt'\n",
    "    list_lines = []\n",
    "    with open(file) as f:\n",
    "        for jsonObj in f:\n",
    "            line = json.loads(jsonObj)\n",
    "            list_lines.append(line)\n",
    "    df = pd.DataFrame(list_lines)\n",
    "    df = df.loc[df['kl'] > 0, :]\n",
    "    with open('../../results/para-search-r1/parasearch.txt', 'a') as outfile:\n",
    "        json.dump(df.loc[df['kl'] == min(df['kl']), :].to_dict('records')[0], outfile)\n",
    "        outfile.write('\\n')"
   ],
   "metadata": {
    "collapsed": false,
    "pycharm": {
     "name": "#%%\n"
    }
   }
  },
  {
   "cell_type": "markdown",
   "source": [
    "## 2 Run src\\py\\parameters-validation.py\n",
    "This step generates and saves the visits using the optimal parameters on both calibration and validation datasets."
   ],
   "metadata": {
    "collapsed": false
   }
  },
  {
   "cell_type": "markdown",
   "source": [
    "## 3 Compute KL divergence measure of the validation results"
   ],
   "metadata": {
    "collapsed": false,
    "pycharm": {
     "name": "#%% md\n"
    }
   }
  },
  {
   "cell_type": "code",
   "execution_count": 6,
   "outputs": [],
   "source": [
    "with open('../../results/para-search-r1/parasearch.txt', 'r') as f:\n",
    "    for jsonObj in f:\n",
    "        line = json.loads(jsonObj)\n",
    "        region = line['region']\n",
    "        # Add validation performance\n",
    "        file = f'../../results/para-search-r1/{region}_validation_distances.csv'\n",
    "        distances = pd.read_csv(file)\n",
    "        kl = validation.DistanceMetrics().kullback_leibler(distances,\n",
    "                                                           titles=['groundtruth', 'model'])\n",
    "        line['kl-v'] = kl\n",
    "\n",
    "        # Add validation performance for benchmark\n",
    "        kl_baseline = validation.DistanceMetrics().kullback_leibler(distances,\n",
    "                                                           titles=['groundtruth', 'benchmark'])\n",
    "        line['kl-v-baseline'] = kl_baseline\n",
    "        with open('../../results/summary.txt', 'a') as outfile:\n",
    "            json.dump(line, outfile)\n",
    "            outfile.write('\\n')"
   ],
   "metadata": {
    "collapsed": false,
    "pycharm": {
     "name": "#%%\n"
    }
   }
  },
  {
   "cell_type": "code",
   "execution_count": 13,
   "outputs": [
    {
     "name": "stdout",
     "output_type": "stream",
     "text": [
      "('{\"region\": \"sweden\", \"p\": 0.9837273303214517, \"beta\": 0.017503751178316866, '\n",
      " '\"gamma\": 0.11895253662991521, \"kl-baseline\": 1.2950978492258307, \"kl\": '\n",
      " '0.01585126958256988, \"kl-v\": 0.02354793316813772}\\n')\n",
      "('{\"region\": \"netherlands\", \"p\": 0.7763441613832662, \"beta\": '\n",
      " '0.22682873676239296, \"gamma\": 0.012171103323168245, \"kl-baseline\": '\n",
      " '1.2757839552588923, \"kl\": 0.017479270659420572, \"kl-v\": '\n",
      " '0.019721853782483253}\\n')\n",
      "('{\"region\": \"saopaulo\", \"p\": 0.45879896443898016, \"beta\": '\n",
      " '0.17666806537151383, \"gamma\": 0.011859780066996593, \"kl-baseline\": '\n",
      " '0.8589528848493738, \"kl\": 0.0027090426934729584, \"kl-v\": '\n",
      " '0.00308760109916755}\\n')\n",
      "('{\"region\": \"sweden\", \"p\": 0.9810923928598705, \"beta\": 0.014032698838826095, '\n",
      " '\"gamma\": 0.23585684808119195, \"kl-baseline\": 0.09081822690812881, '\n",
      " '\"kl-deviation\": 0.008582467654668042, \"kl\": 0.006669178646773053, \"kl-v\": '\n",
      " '0.010764955875287098, \"kl-v-baseline\": 0.07077894402988541}\\n')\n",
      "('{\"region\": \"netherlands\", \"p\": 0.7977081692955302, \"beta\": '\n",
      " '0.1746304533553227, \"gamma\": 0.17325163815806108, \"kl-baseline\": '\n",
      " '0.012128763634639297, \"kl-deviation\": 0.025305920990421046, \"kl\": '\n",
      " '0.003579128143948295, \"kl-v\": 0.004273070649733613, \"kl-v-baseline\": '\n",
      " '0.018083400458079282}\\n')\n",
      "('{\"region\": \"saopaulo\", \"p\": 0.9873838069533069, \"beta\": 0.16274186534846827, '\n",
      " '\"gamma\": 0.19227220697781758, \"kl-baseline\": 0.07443275563088364, '\n",
      " '\"kl-deviation\": null, \"kl\": 0.0027202802940669347, \"kl-v\": '\n",
      " '0.003498453775060146, \"kl-v-baseline\": 0.1403627892623273}\\n')\n"
     ]
    }
   ],
   "source": [
    "with open('../../results/summary.txt', 'r') as outfile:\n",
    "    for line in outfile:\n",
    "        pprint(line)\n"
   ],
   "metadata": {
    "collapsed": false,
    "pycharm": {
     "name": "#%%\n"
    }
   }
  },
  {
   "cell_type": "markdown",
   "source": [
    "## 4 Compute KL divergence measure of the sensitivity test results"
   ],
   "metadata": {
    "collapsed": false
   }
  },
  {
   "cell_type": "code",
   "execution_count": 27,
   "outputs": [
    {
     "data": {
      "text/plain": "        region         p      beta     gamma  kl-baseline  kl-deviation  \\\n0       sweden  0.981092  0.014033  0.235857     0.090818      0.008582   \n1  netherlands  0.797708  0.174630  0.173252     0.012129      0.025306   \n2     saopaulo  0.987384  0.162742  0.192272     0.074433           NaN   \n3      average  0.922061  0.117135  0.200460     0.059127      0.016944   \n\n         kl  \n0  0.006669  \n1  0.003579  \n2  0.002720  \n3  0.004323  ",
      "text/html": "<div>\n<style scoped>\n    .dataframe tbody tr th:only-of-type {\n        vertical-align: middle;\n    }\n\n    .dataframe tbody tr th {\n        vertical-align: top;\n    }\n\n    .dataframe thead th {\n        text-align: right;\n    }\n</style>\n<table border=\"1\" class=\"dataframe\">\n  <thead>\n    <tr style=\"text-align: right;\">\n      <th></th>\n      <th>region</th>\n      <th>p</th>\n      <th>beta</th>\n      <th>gamma</th>\n      <th>kl-baseline</th>\n      <th>kl-deviation</th>\n      <th>kl</th>\n    </tr>\n  </thead>\n  <tbody>\n    <tr>\n      <th>0</th>\n      <td>sweden</td>\n      <td>0.981092</td>\n      <td>0.014033</td>\n      <td>0.235857</td>\n      <td>0.090818</td>\n      <td>0.008582</td>\n      <td>0.006669</td>\n    </tr>\n    <tr>\n      <th>1</th>\n      <td>netherlands</td>\n      <td>0.797708</td>\n      <td>0.174630</td>\n      <td>0.173252</td>\n      <td>0.012129</td>\n      <td>0.025306</td>\n      <td>0.003579</td>\n    </tr>\n    <tr>\n      <th>2</th>\n      <td>saopaulo</td>\n      <td>0.987384</td>\n      <td>0.162742</td>\n      <td>0.192272</td>\n      <td>0.074433</td>\n      <td>NaN</td>\n      <td>0.002720</td>\n    </tr>\n    <tr>\n      <th>3</th>\n      <td>average</td>\n      <td>0.922061</td>\n      <td>0.117135</td>\n      <td>0.200460</td>\n      <td>0.059127</td>\n      <td>0.016944</td>\n      <td>0.004323</td>\n    </tr>\n  </tbody>\n</table>\n</div>"
     },
     "execution_count": 27,
     "metadata": {},
     "output_type": "execute_result"
    }
   ],
   "source": [
    "file = '../../results/para-search-r1/parasearch.txt'\n",
    "list_lines = []\n",
    "with open(file) as f:\n",
    "    for jsonObj in f:\n",
    "        line = json.loads(jsonObj)\n",
    "        list_lines.append(line)\n",
    "df_av = pd.DataFrame(list_lines)\n",
    "df_av.set_index('region', inplace=True)\n",
    "df_av.loc['average'] = df_av.mean()  # Get the average value of parameters\n",
    "df_av.reset_index(inplace=True)\n",
    "df_av"
   ],
   "metadata": {
    "collapsed": false,
    "pycharm": {
     "name": "#%%\n"
    }
   }
  },
  {
   "cell_type": "code",
   "execution_count": 24,
   "outputs": [],
   "source": [
    "res_list = []\n",
    "for region in region_list:\n",
    "    for region2cross in [x for x in region_list if x != region] + ['average']:\n",
    "        for type in ['calibration', 'validation']:\n",
    "            file = f'../../results/para-search-r1/sensitivity/{region}_{type}_{region2cross}_distances.csv'\n",
    "            distances = pd.read_csv(file)\n",
    "            kl = validation.DistanceMetrics().kullback_leibler(distances, titles=['groundtruth', 'model'])\n",
    "            kl_b = validation.DistanceMetrics().kullback_leibler(distances, titles=['groundtruth', 'benchmark'])\n",
    "            gain = (kl_b - kl) / kl_b * 100 # Improvement (decrease) in %\n",
    "            res_list.append((region, region2cross, type, kl, kl_b, gain))\n",
    "df_sens = pd.DataFrame(res_list, columns=['region', 'region2cross', 'type', 'kl', 'kl_b', 'gain'])"
   ],
   "metadata": {
    "collapsed": false,
    "pycharm": {
     "name": "#%%\n"
    }
   }
  },
  {
   "cell_type": "code",
   "execution_count": 25,
   "outputs": [
    {
     "data": {
      "text/plain": "         region region2cross         type        kl      kl_b       gain\n0        sweden       sweden  calibration  0.006669  0.090818  92.656564\n1        sweden       sweden   validation  0.010765  0.070779  84.790737\n2   netherlands  netherlands  calibration  0.003579  0.012129  70.490577\n3   netherlands  netherlands   validation  0.004273  0.018083  76.370204\n4      saopaulo     saopaulo  calibration  0.002720  0.074433  96.345318\n5      saopaulo     saopaulo   validation  0.003498  0.140363  97.507563\n0        sweden  netherlands  calibration  0.021105  0.090818  76.761636\n1        sweden  netherlands   validation  0.016904  0.070779  76.116809\n2        sweden     saopaulo  calibration  0.016719  0.090818  81.590673\n3        sweden     saopaulo   validation  0.014549  0.070779  79.445061\n4        sweden      average  calibration  0.016058  0.090818  82.318370\n5        sweden      average   validation  0.012409  0.070779  82.467707\n6   netherlands       sweden  calibration  0.014000  0.012129 -15.428105\n7   netherlands       sweden   validation  0.020633  0.018083 -14.098932\n8   netherlands     saopaulo  calibration  0.003438  0.012129  71.651995\n9   netherlands     saopaulo   validation  0.004983  0.018083  72.442913\n10  netherlands      average  calibration  0.002669  0.012129  77.992679\n11  netherlands      average   validation  0.003589  0.018083  80.154693\n12     saopaulo       sweden  calibration  0.007279  0.074433  90.220558\n13     saopaulo       sweden   validation  0.007798  0.140363  94.444460\n14     saopaulo  netherlands  calibration  0.004944  0.074433  93.357605\n15     saopaulo  netherlands   validation  0.005162  0.140363  96.322437\n16     saopaulo      average  calibration  0.003029  0.074433  95.931111\n17     saopaulo      average   validation  0.003005  0.140363  97.859023",
      "text/html": "<div>\n<style scoped>\n    .dataframe tbody tr th:only-of-type {\n        vertical-align: middle;\n    }\n\n    .dataframe tbody tr th {\n        vertical-align: top;\n    }\n\n    .dataframe thead th {\n        text-align: right;\n    }\n</style>\n<table border=\"1\" class=\"dataframe\">\n  <thead>\n    <tr style=\"text-align: right;\">\n      <th></th>\n      <th>region</th>\n      <th>region2cross</th>\n      <th>type</th>\n      <th>kl</th>\n      <th>kl_b</th>\n      <th>gain</th>\n    </tr>\n  </thead>\n  <tbody>\n    <tr>\n      <th>0</th>\n      <td>sweden</td>\n      <td>sweden</td>\n      <td>calibration</td>\n      <td>0.006669</td>\n      <td>0.090818</td>\n      <td>92.656564</td>\n    </tr>\n    <tr>\n      <th>1</th>\n      <td>sweden</td>\n      <td>sweden</td>\n      <td>validation</td>\n      <td>0.010765</td>\n      <td>0.070779</td>\n      <td>84.790737</td>\n    </tr>\n    <tr>\n      <th>2</th>\n      <td>netherlands</td>\n      <td>netherlands</td>\n      <td>calibration</td>\n      <td>0.003579</td>\n      <td>0.012129</td>\n      <td>70.490577</td>\n    </tr>\n    <tr>\n      <th>3</th>\n      <td>netherlands</td>\n      <td>netherlands</td>\n      <td>validation</td>\n      <td>0.004273</td>\n      <td>0.018083</td>\n      <td>76.370204</td>\n    </tr>\n    <tr>\n      <th>4</th>\n      <td>saopaulo</td>\n      <td>saopaulo</td>\n      <td>calibration</td>\n      <td>0.002720</td>\n      <td>0.074433</td>\n      <td>96.345318</td>\n    </tr>\n    <tr>\n      <th>5</th>\n      <td>saopaulo</td>\n      <td>saopaulo</td>\n      <td>validation</td>\n      <td>0.003498</td>\n      <td>0.140363</td>\n      <td>97.507563</td>\n    </tr>\n    <tr>\n      <th>0</th>\n      <td>sweden</td>\n      <td>netherlands</td>\n      <td>calibration</td>\n      <td>0.021105</td>\n      <td>0.090818</td>\n      <td>76.761636</td>\n    </tr>\n    <tr>\n      <th>1</th>\n      <td>sweden</td>\n      <td>netherlands</td>\n      <td>validation</td>\n      <td>0.016904</td>\n      <td>0.070779</td>\n      <td>76.116809</td>\n    </tr>\n    <tr>\n      <th>2</th>\n      <td>sweden</td>\n      <td>saopaulo</td>\n      <td>calibration</td>\n      <td>0.016719</td>\n      <td>0.090818</td>\n      <td>81.590673</td>\n    </tr>\n    <tr>\n      <th>3</th>\n      <td>sweden</td>\n      <td>saopaulo</td>\n      <td>validation</td>\n      <td>0.014549</td>\n      <td>0.070779</td>\n      <td>79.445061</td>\n    </tr>\n    <tr>\n      <th>4</th>\n      <td>sweden</td>\n      <td>average</td>\n      <td>calibration</td>\n      <td>0.016058</td>\n      <td>0.090818</td>\n      <td>82.318370</td>\n    </tr>\n    <tr>\n      <th>5</th>\n      <td>sweden</td>\n      <td>average</td>\n      <td>validation</td>\n      <td>0.012409</td>\n      <td>0.070779</td>\n      <td>82.467707</td>\n    </tr>\n    <tr>\n      <th>6</th>\n      <td>netherlands</td>\n      <td>sweden</td>\n      <td>calibration</td>\n      <td>0.014000</td>\n      <td>0.012129</td>\n      <td>-15.428105</td>\n    </tr>\n    <tr>\n      <th>7</th>\n      <td>netherlands</td>\n      <td>sweden</td>\n      <td>validation</td>\n      <td>0.020633</td>\n      <td>0.018083</td>\n      <td>-14.098932</td>\n    </tr>\n    <tr>\n      <th>8</th>\n      <td>netherlands</td>\n      <td>saopaulo</td>\n      <td>calibration</td>\n      <td>0.003438</td>\n      <td>0.012129</td>\n      <td>71.651995</td>\n    </tr>\n    <tr>\n      <th>9</th>\n      <td>netherlands</td>\n      <td>saopaulo</td>\n      <td>validation</td>\n      <td>0.004983</td>\n      <td>0.018083</td>\n      <td>72.442913</td>\n    </tr>\n    <tr>\n      <th>10</th>\n      <td>netherlands</td>\n      <td>average</td>\n      <td>calibration</td>\n      <td>0.002669</td>\n      <td>0.012129</td>\n      <td>77.992679</td>\n    </tr>\n    <tr>\n      <th>11</th>\n      <td>netherlands</td>\n      <td>average</td>\n      <td>validation</td>\n      <td>0.003589</td>\n      <td>0.018083</td>\n      <td>80.154693</td>\n    </tr>\n    <tr>\n      <th>12</th>\n      <td>saopaulo</td>\n      <td>sweden</td>\n      <td>calibration</td>\n      <td>0.007279</td>\n      <td>0.074433</td>\n      <td>90.220558</td>\n    </tr>\n    <tr>\n      <th>13</th>\n      <td>saopaulo</td>\n      <td>sweden</td>\n      <td>validation</td>\n      <td>0.007798</td>\n      <td>0.140363</td>\n      <td>94.444460</td>\n    </tr>\n    <tr>\n      <th>14</th>\n      <td>saopaulo</td>\n      <td>netherlands</td>\n      <td>calibration</td>\n      <td>0.004944</td>\n      <td>0.074433</td>\n      <td>93.357605</td>\n    </tr>\n    <tr>\n      <th>15</th>\n      <td>saopaulo</td>\n      <td>netherlands</td>\n      <td>validation</td>\n      <td>0.005162</td>\n      <td>0.140363</td>\n      <td>96.322437</td>\n    </tr>\n    <tr>\n      <th>16</th>\n      <td>saopaulo</td>\n      <td>average</td>\n      <td>calibration</td>\n      <td>0.003029</td>\n      <td>0.074433</td>\n      <td>95.931111</td>\n    </tr>\n    <tr>\n      <th>17</th>\n      <td>saopaulo</td>\n      <td>average</td>\n      <td>validation</td>\n      <td>0.003005</td>\n      <td>0.140363</td>\n      <td>97.859023</td>\n    </tr>\n  </tbody>\n</table>\n</div>"
     },
     "execution_count": 25,
     "metadata": {},
     "output_type": "execute_result"
    }
   ],
   "source": [
    "# Add its own performance\n",
    "res_self_list = []\n",
    "with open('../../results/summary.txt', 'r') as outfile:\n",
    "    for jsonObj in outfile:\n",
    "        line = json.loads(jsonObj)\n",
    "        gain_c = (line['kl-baseline'] - line['kl']) / line['kl-baseline'] * 100\n",
    "        res_self_list.append((line['region'], line['region'], 'calibration', line['kl'], line['kl-baseline'], gain_c))\n",
    "\n",
    "        gain_v = (line['kl-v-baseline'] - line['kl-v']) / line['kl-v-baseline'] * 100\n",
    "        res_self_list.append((line['region'], line['region'], 'validation', line['kl-v'], line['kl-v-baseline'], gain_v))\n",
    "df_sens = pd.concat([pd.DataFrame(res_self_list, columns=['region', 'region2cross', 'type', 'kl', 'kl_b', 'gain']),\n",
    "                     df_sens])\n",
    "df_sens"
   ],
   "metadata": {
    "collapsed": false,
    "pycharm": {
     "name": "#%%\n"
    }
   }
  },
  {
   "cell_type": "code",
   "execution_count": 26,
   "outputs": [],
   "source": [
    "df_sens.to_csv('../../results/para-search-r1/sensitivity_summary.csv', index=False)"
   ],
   "metadata": {
    "collapsed": false,
    "pycharm": {
     "name": "#%%\n"
    }
   }
  }
 ],
 "metadata": {
  "kernelspec": {
   "display_name": "Python 3",
   "language": "python",
   "name": "python3"
  },
  "language_info": {
   "codemirror_mode": {
    "name": "ipython",
    "version": 2
   },
   "file_extension": ".py",
   "mimetype": "text/x-python",
   "name": "python",
   "nbconvert_exporter": "python",
   "pygments_lexer": "ipython2",
   "version": "2.7.6"
  }
 },
 "nbformat": 4,
 "nbformat_minor": 0
}
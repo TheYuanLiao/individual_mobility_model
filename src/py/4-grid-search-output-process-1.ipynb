{
 "cells": [
  {
   "cell_type": "markdown",
   "metadata": {
    "collapsed": true,
    "pycharm": {
     "name": "#%% md\n"
    }
   },
   "source": [
    "# Grid search 1 - Find the optimal range"
   ]
  },
  {
   "cell_type": "code",
   "execution_count": 23,
   "outputs": [
    {
     "name": "stdout",
     "output_type": "stream",
     "text": [
      "The autoreload extension is already loaded. To reload it, use:\n",
      "  %reload_ext autoreload\n"
     ]
    }
   ],
   "source": [
    "%load_ext autoreload\n",
    "%autoreload 2"
   ],
   "metadata": {
    "collapsed": false,
    "pycharm": {
     "name": "#%%\n"
    }
   }
  },
  {
   "cell_type": "code",
   "execution_count": 24,
   "outputs": [],
   "source": [
    "# load libs\n",
    "import pandas as pd\n",
    "import os\n",
    "import json\n",
    "import numpy as np\n",
    "import shutil\n",
    "\n",
    "def kullback_leibler(distances, titles=None):\n",
    "    \"\"\"\n",
    "    :param distances:\n",
    "    A data frame, output of compute(); _sum will be used to calculate Kullback-Leibler divergence measure\n",
    "    titles[0] ground truth, titles[1] model\n",
    "    \"\"\"\n",
    "    if (titles == None) | (len(titles) != 2):\n",
    "        raise Exception(\"Two distance distributions need to be specified.\")\n",
    "    distances = distances.loc[distances[titles[1] + '_sum'] != 0, :]\n",
    "    d_ground_truth = distances[titles[0] + '_sum'].values\n",
    "    d_model = distances[titles[1] + '_sum'].values\n",
    "    d_kl = sum(d_ground_truth * np.log10(d_ground_truth / d_model))\n",
    "    return d_kl\n",
    "\n",
    "\n",
    "def nan_proc(row, scale):\n",
    "    r = row['country']\n",
    "    rid = row['runid']\n",
    "    df = pd.read_csv(f'../../results/{r}-{rid}/distance-metrics-{scale}.csv')\n",
    "    # Sampers vs the proposed model\n",
    "    return kullback_leibler(distances=df, titles =['sampers', 'model'])"
   ],
   "metadata": {
    "collapsed": false,
    "pycharm": {
     "name": "#%%\n"
    }
   }
  },
  {
   "cell_type": "markdown",
   "source": [
    "## 1 Process the results of the first layer of grid searching\n",
    "### 1.1 Get the results paths"
   ],
   "metadata": {
    "collapsed": false,
    "pycharm": {
     "name": "#%% md\n"
    }
   }
  },
  {
   "cell_type": "code",
   "execution_count": 25,
   "outputs": [],
   "source": [
    "country = 'saopaulo'\n",
    "rs_path = '../../results/'\n",
    "vs_path = f'../../dbs/{country}/visits/'\n",
    "paths = os.listdir(rs_path)\n",
    "paths = [x for x in paths if '.csv' not in x]\n",
    "rs_paths = [rs_path + x + '/' for x in paths if country in x]\n",
    "runids = [x.split('-')[1] for x in paths]"
   ],
   "metadata": {
    "collapsed": false,
    "pycharm": {
     "name": "#%%\n"
    }
   }
  },
  {
   "cell_type": "markdown",
   "source": [
    "### 1.2 Read results.json and parameters.json"
   ],
   "metadata": {
    "collapsed": false,
    "pycharm": {
     "name": "#%% md\n"
    }
   }
  },
  {
   "cell_type": "code",
   "execution_count": 26,
   "outputs": [],
   "source": [
    "log_list = []\n",
    "for run, rs in zip(runids, rs_paths):\n",
    "    if country == 'sweden':\n",
    "        para = json.load(open(rs + 'parameters.json'))['visits']\n",
    "    else:\n",
    "        para = json.load(open(rs + 'parameters.json'))\n",
    "    kl = json.load(open(rs + 'results.json'))\n",
    "    # log the results\n",
    "    log = dict()\n",
    "    log['country'] = country\n",
    "    log['runid'] = run\n",
    "    log['p'] = para['model']['p']\n",
    "    log['gamma'] = para['model']['gamma']\n",
    "    log['beta'] = para['model']['region_sampling']['beta']\n",
    "    if country == 'sweden':\n",
    "        for k, v in kl.items():\n",
    "            log[k] = v\n",
    "    else:\n",
    "        log['national'] = kl\n",
    "    log_list.append(log)\n",
    "df = pd.DataFrame(log_list)"
   ],
   "metadata": {
    "collapsed": false,
    "pycharm": {
     "name": "#%%\n"
    }
   }
  },
  {
   "cell_type": "markdown",
   "source": [
    "### 1.3 Nan process"
   ],
   "metadata": {
    "collapsed": false,
    "pycharm": {
     "name": "#%% md\n"
    }
   }
  },
  {
   "cell_type": "code",
   "execution_count": 5,
   "outputs": [],
   "source": [
    "if country == 'sweden':\n",
    "    scale = 'national'\n",
    "    df.loc[np.isnan(df[scale]), scale] = df.loc[np.isnan(df[scale]), :].apply(lambda row: nan_proc(row, scale), axis=1)"
   ],
   "metadata": {
    "collapsed": false,
    "pycharm": {
     "name": "#%%\n"
    }
   }
  },
  {
   "cell_type": "code",
   "execution_count": 27,
   "outputs": [],
   "source": [
    "# save the first grid search results\n",
    "df.to_csv(f'../../results/{country}-grid-search-1.csv', index=False)"
   ],
   "metadata": {
    "collapsed": false,
    "pycharm": {
     "name": "#%%\n"
    }
   }
  },
  {
   "cell_type": "markdown",
   "source": [
    "## 2 Find the optimal parameters"
   ],
   "metadata": {
    "collapsed": false,
    "pycharm": {
     "name": "#%% md\n"
    }
   }
  },
  {
   "cell_type": "code",
   "execution_count": 28,
   "outputs": [],
   "source": [
    "if country == 'sweden':\n",
    "    for scale in ['national', 'east', 'west']:\n",
    "        print(df.loc[df[scale] == min(df[scale]), ['runid', 'p', 'gamma', 'beta', scale]].transpose())\n",
    "    df2 = df.loc[(df['national'] == min(df['national'])) | (df['east'] == min(df['east'])) | (df['west'] == min(df['west']))]\n",
    "    runids2keep = list(df2.runid)\n",
    "else:\n",
    "    df2 = df.loc[df['national'] == min(df['national'])]\n",
    "    runids2keep = list(df2.runid)"
   ],
   "metadata": {
    "collapsed": false,
    "pycharm": {
     "name": "#%%\n"
    }
   }
  },
  {
   "cell_type": "markdown",
   "source": [
    "### 2.1 Next grid search parameters"
   ],
   "metadata": {
    "collapsed": false,
    "pycharm": {
     "name": "#%% md\n"
    }
   }
  },
  {
   "cell_type": "code",
   "execution_count": 31,
   "outputs": [
    {
     "name": "stdout",
     "output_type": "stream",
     "text": [
      "20200909_002130 [0.8, 1.0] [0.4, 0.6] [0.060000000000000005, 0.08] 8\n"
     ]
    }
   ],
   "source": [
    "for runid in runids2keep:\n",
    "    df2keep = df2.loc[df2['runid'] == runid]\n",
    "    p = [x - 0.1 for x in set(df2keep['p'])] + [x + 0.1 for x in set(df2keep['p'])]\n",
    "    gamma = [x - 0.1 for x in set(df2keep['gamma'])] + [x + 0.1 for x in set(df2keep['gamma'])]\n",
    "    beta = [x - 0.01 for x in set(df2keep['beta'])] + [x + 0.01 for x in set(df2keep['beta'])]\n",
    "    print(runid, p, gamma, beta, len(p) * len(gamma) * len(beta))"
   ],
   "metadata": {
    "collapsed": false,
    "pycharm": {
     "name": "#%%\n"
    }
   }
  },
  {
   "cell_type": "markdown",
   "source": [
    "### 2.2 Remove the other results"
   ],
   "metadata": {
    "collapsed": false,
    "pycharm": {
     "name": "#%% md\n"
    }
   }
  },
  {
   "cell_type": "code",
   "execution_count": 29,
   "outputs": [],
   "source": [
    "# log results\n",
    "for path in rs_paths:\n",
    "    if path.split('-')[1][:-1] not in runids2keep:\n",
    "        shutil.rmtree(path)"
   ],
   "metadata": {
    "collapsed": false,
    "pycharm": {
     "name": "#%%\n"
    }
   }
  },
  {
   "cell_type": "code",
   "execution_count": 30,
   "outputs": [
    {
     "ename": "FileNotFoundError",
     "evalue": "[WinError 2] The system cannot find the file specified: '../../dbs/saopaulo/visits/20200908_061313.csv'",
     "output_type": "error",
     "traceback": [
      "\u001B[1;31m---------------------------------------------------------------------------\u001B[0m",
      "\u001B[1;31mFileNotFoundError\u001B[0m                         Traceback (most recent call last)",
      "\u001B[1;32m<ipython-input-30-7b40814a5244>\u001B[0m in \u001B[0;36m<module>\u001B[1;34m\u001B[0m\n\u001B[0;32m      2\u001B[0m \u001B[1;32mfor\u001B[0m \u001B[0mrunid\u001B[0m \u001B[1;32min\u001B[0m \u001B[0mrunids\u001B[0m\u001B[1;33m:\u001B[0m\u001B[1;33m\u001B[0m\u001B[1;33m\u001B[0m\u001B[0m\n\u001B[0;32m      3\u001B[0m     \u001B[1;32mif\u001B[0m \u001B[0mrunid\u001B[0m \u001B[1;32mnot\u001B[0m \u001B[1;32min\u001B[0m \u001B[0mrunids2keep\u001B[0m\u001B[1;33m:\u001B[0m\u001B[1;33m\u001B[0m\u001B[1;33m\u001B[0m\u001B[0m\n\u001B[1;32m----> 4\u001B[1;33m         \u001B[0mos\u001B[0m\u001B[1;33m.\u001B[0m\u001B[0mremove\u001B[0m\u001B[1;33m(\u001B[0m\u001B[0mvs_path\u001B[0m \u001B[1;33m+\u001B[0m \u001B[1;34mf'{runid}.csv'\u001B[0m\u001B[1;33m)\u001B[0m\u001B[1;33m\u001B[0m\u001B[1;33m\u001B[0m\u001B[0m\n\u001B[0m",
      "\u001B[1;31mFileNotFoundError\u001B[0m: [WinError 2] The system cannot find the file specified: '../../dbs/saopaulo/visits/20200908_061313.csv'"
     ]
    }
   ],
   "source": [
    "# visits results\n",
    "for runid in runids:\n",
    "    if runid not in runids2keep:\n",
    "        os.remove(vs_path + f'{runid}.csv')"
   ],
   "metadata": {
    "collapsed": false,
    "pycharm": {
     "name": "#%%\n"
    }
   }
  }
 ],
 "metadata": {
  "kernelspec": {
   "display_name": "Python 3",
   "language": "python",
   "name": "python3"
  },
  "language_info": {
   "codemirror_mode": {
    "name": "ipython",
    "version": 2
   },
   "file_extension": ".py",
   "mimetype": "text/x-python",
   "name": "python",
   "nbconvert_exporter": "python",
   "pygments_lexer": "ipython2",
   "version": "2.7.6"
  }
 },
 "nbformat": 4,
 "nbformat_minor": 0
}
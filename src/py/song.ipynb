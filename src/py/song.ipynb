{
 "cells": [
  {
   "cell_type": "code",
   "execution_count": 1,
   "metadata": {
    "pycharm": {
     "is_executing": false
    }
   },
   "outputs": [],
   "source": [
    "%load_ext autoreload\n",
    "%autoreload 2"
   ]
  },
  {
   "cell_type": "code",
   "execution_count": 32,
   "metadata": {},
   "outputs": [],
   "source": [
    "import models\n",
    "from sklearn.metrics.pairwise import haversine_distances\n",
    "import numpy as np\n",
    "import plotly\n",
    "import plotly.express as px\n",
    "import pandas as pd\n",
    "import geopandas as gpd\n",
    "import mscthesis"
   ]
  },
  {
   "cell_type": "code",
   "execution_count": 55,
   "metadata": {},
   "outputs": [],
   "source": [
    "geotweets = mscthesis.read_geotweets('sweden_infered').set_index('userid')"
   ]
  },
  {
   "cell_type": "code",
   "execution_count": 56,
   "metadata": {},
   "outputs": [
    {
     "data": {
      "text/plain": [
       "userid\n",
       "5616                  2459\n",
       "5976                   356\n",
       "8981                  1145\n",
       "32213                  443\n",
       "392123                 838\n",
       "                      ... \n",
       "764655612525473792      72\n",
       "778179816889675777      43\n",
       "782260642770288640      51\n",
       "790301765744951296      62\n",
       "794973407964229636    1223\n",
       "Length: 4056, dtype: int64"
      ]
     },
     "execution_count": 56,
     "metadata": {},
     "output_type": "execute_result"
    }
   ],
   "source": [
    "tweetcount = geotweets.groupby('userid').size()\n",
    "tweetcount"
   ]
  },
  {
   "cell_type": "code",
   "execution_count": 57,
   "metadata": {},
   "outputs": [],
   "source": [
    "geotweets = geotweets.drop(\n",
    "    labels=tweetcount[tweetcount < 50].index,\n",
    ")"
   ]
  },
  {
   "cell_type": "code",
   "execution_count": 58,
   "metadata": {},
   "outputs": [
    {
     "name": "stdout",
     "output_type": "stream",
     "text": [
      "done with 250\n",
      "done with 500\n",
      "done with 750\n",
      "done with 1000\n",
      "done with 1250\n",
      "done with 1500\n",
      "done with 1750\n",
      "done with 2000\n",
      "done with 2250\n",
      "done with 2500\n",
      "done with 2750\n",
      "done with 3000\n",
      "done with 3250\n",
      "done with 3500\n"
     ]
    }
   ],
   "source": [
    "travel_survey_trips_mean = 3.143905 # PI? It's magic!\n",
    "travel_survey_trips_std = 1.880373\n",
    "samples = []\n",
    "def save_sample(uid, day, timeslot, d, sample):\n",
    "    s = [uid, day, timeslot]\n",
    "    if sample[0] == 'region':\n",
    "        s = s + ['region', sample[1], sample[2], sample[3]]\n",
    "    else:\n",
    "        s = s + ['point', -1, sample[1], sample[2]]\n",
    "    d.append(s)\n",
    "\n",
    "i = 0\n",
    "for uid in geotweets.index.unique():\n",
    "    usertweets = geotweets.loc[uid]\n",
    "    m = models.SongModel(p=0.66, gamma=0.6, zipf=-1.2)\n",
    "    m.fit(usertweets)\n",
    "    home_location = usertweets[usertweets['label'] == 'home']\n",
    "    for day in range(7*60):\n",
    "        prev = (\n",
    "            \"region\", \n",
    "            home_location.iloc[0]['region'], \n",
    "            home_location.iloc[0]['latitude'], \n",
    "            home_location.iloc[0]['longitude'],\n",
    "        )\n",
    "        save_sample(uid, day, 0, samples, prev)\n",
    "        num_of_trips = max(1, int(round(np.random.normal(travel_survey_trips_mean, travel_survey_trips_std))))\n",
    "        for timeslot in range(num_of_trips):\n",
    "            prev = m.sample(prev)\n",
    "            save_sample(uid, day, timeslot+1, samples, prev)\n",
    "    i += 1\n",
    "    if i % 250 == 0:\n",
    "        print(\"done with\", i)"
   ]
  },
  {
   "cell_type": "code",
   "execution_count": 59,
   "metadata": {},
   "outputs": [],
   "source": [
    "samplesx = pd.DataFrame(\n",
    "    samples,\n",
    "    columns=['userid', 'day', 'timeslot', 'kind', 'region', 'latitude', 'longitude'],\n",
    ").set_index('userid')"
   ]
  },
  {
   "cell_type": "code",
   "execution_count": 60,
   "metadata": {},
   "outputs": [
    {
     "data": {
      "text/html": [
       "<div>\n",
       "<style scoped>\n",
       "    .dataframe tbody tr th:only-of-type {\n",
       "        vertical-align: middle;\n",
       "    }\n",
       "\n",
       "    .dataframe tbody tr th {\n",
       "        vertical-align: top;\n",
       "    }\n",
       "\n",
       "    .dataframe thead th {\n",
       "        text-align: right;\n",
       "    }\n",
       "</style>\n",
       "<table border=\"1\" class=\"dataframe\">\n",
       "  <thead>\n",
       "    <tr style=\"text-align: right;\">\n",
       "      <th></th>\n",
       "      <th>day</th>\n",
       "      <th>timeslot</th>\n",
       "      <th>kind</th>\n",
       "      <th>region</th>\n",
       "      <th>latitude</th>\n",
       "      <th>longitude</th>\n",
       "    </tr>\n",
       "    <tr>\n",
       "      <th>userid</th>\n",
       "      <th></th>\n",
       "      <th></th>\n",
       "      <th></th>\n",
       "      <th></th>\n",
       "      <th></th>\n",
       "      <th></th>\n",
       "    </tr>\n",
       "  </thead>\n",
       "  <tbody>\n",
       "    <tr>\n",
       "      <th>5616</th>\n",
       "      <td>0</td>\n",
       "      <td>0</td>\n",
       "      <td>region</td>\n",
       "      <td>5</td>\n",
       "      <td>59.426889</td>\n",
       "      <td>17.954336</td>\n",
       "    </tr>\n",
       "    <tr>\n",
       "      <th>5616</th>\n",
       "      <td>0</td>\n",
       "      <td>1</td>\n",
       "      <td>region</td>\n",
       "      <td>5</td>\n",
       "      <td>59.426889</td>\n",
       "      <td>17.954336</td>\n",
       "    </tr>\n",
       "    <tr>\n",
       "      <th>5616</th>\n",
       "      <td>0</td>\n",
       "      <td>2</td>\n",
       "      <td>region</td>\n",
       "      <td>10</td>\n",
       "      <td>59.402809</td>\n",
       "      <td>17.944212</td>\n",
       "    </tr>\n",
       "    <tr>\n",
       "      <th>5616</th>\n",
       "      <td>0</td>\n",
       "      <td>3</td>\n",
       "      <td>region</td>\n",
       "      <td>11</td>\n",
       "      <td>59.455540</td>\n",
       "      <td>17.956317</td>\n",
       "    </tr>\n",
       "    <tr>\n",
       "      <th>5616</th>\n",
       "      <td>0</td>\n",
       "      <td>4</td>\n",
       "      <td>region</td>\n",
       "      <td>344</td>\n",
       "      <td>59.342576</td>\n",
       "      <td>18.048046</td>\n",
       "    </tr>\n",
       "    <tr>\n",
       "      <th>...</th>\n",
       "      <td>...</td>\n",
       "      <td>...</td>\n",
       "      <td>...</td>\n",
       "      <td>...</td>\n",
       "      <td>...</td>\n",
       "      <td>...</td>\n",
       "    </tr>\n",
       "    <tr>\n",
       "      <th>5616</th>\n",
       "      <td>418</td>\n",
       "      <td>2</td>\n",
       "      <td>region</td>\n",
       "      <td>5</td>\n",
       "      <td>59.426889</td>\n",
       "      <td>17.954336</td>\n",
       "    </tr>\n",
       "    <tr>\n",
       "      <th>5616</th>\n",
       "      <td>419</td>\n",
       "      <td>0</td>\n",
       "      <td>region</td>\n",
       "      <td>5</td>\n",
       "      <td>59.426889</td>\n",
       "      <td>17.954336</td>\n",
       "    </tr>\n",
       "    <tr>\n",
       "      <th>5616</th>\n",
       "      <td>419</td>\n",
       "      <td>1</td>\n",
       "      <td>region</td>\n",
       "      <td>220</td>\n",
       "      <td>57.736323</td>\n",
       "      <td>18.879987</td>\n",
       "    </tr>\n",
       "    <tr>\n",
       "      <th>5616</th>\n",
       "      <td>419</td>\n",
       "      <td>2</td>\n",
       "      <td>region</td>\n",
       "      <td>256</td>\n",
       "      <td>59.439068</td>\n",
       "      <td>17.934712</td>\n",
       "    </tr>\n",
       "    <tr>\n",
       "      <th>5616</th>\n",
       "      <td>419</td>\n",
       "      <td>3</td>\n",
       "      <td>region</td>\n",
       "      <td>29</td>\n",
       "      <td>59.534279</td>\n",
       "      <td>17.963323</td>\n",
       "    </tr>\n",
       "  </tbody>\n",
       "</table>\n",
       "<p>1816 rows × 6 columns</p>\n",
       "</div>"
      ],
      "text/plain": [
       "        day  timeslot    kind  region   latitude  longitude\n",
       "userid                                                     \n",
       "5616      0         0  region       5  59.426889  17.954336\n",
       "5616      0         1  region       5  59.426889  17.954336\n",
       "5616      0         2  region      10  59.402809  17.944212\n",
       "5616      0         3  region      11  59.455540  17.956317\n",
       "5616      0         4  region     344  59.342576  18.048046\n",
       "...     ...       ...     ...     ...        ...        ...\n",
       "5616    418         2  region       5  59.426889  17.954336\n",
       "5616    419         0  region       5  59.426889  17.954336\n",
       "5616    419         1  region     220  57.736323  18.879987\n",
       "5616    419         2  region     256  59.439068  17.934712\n",
       "5616    419         3  region      29  59.534279  17.963323\n",
       "\n",
       "[1816 rows x 6 columns]"
      ]
     },
     "execution_count": 60,
     "metadata": {},
     "output_type": "execute_result"
    }
   ],
   "source": [
    "samplesx.loc[5616]"
   ]
  },
  {
   "cell_type": "code",
   "execution_count": 61,
   "metadata": {},
   "outputs": [],
   "source": [
    "samplesx.to_csv('./../../dbs/sweden/visits-song-infered-timeslots-60w.csv')"
   ]
  },
  {
   "cell_type": "code",
   "execution_count": null,
   "metadata": {},
   "outputs": [],
   "source": []
  }
 ],
 "metadata": {
  "kernelspec": {
   "display_name": "Python 3",
   "language": "python",
   "name": "python3"
  },
  "language_info": {
   "codemirror_mode": {
    "name": "ipython",
    "version": 3
   },
   "file_extension": ".py",
   "mimetype": "text/x-python",
   "name": "python",
   "nbconvert_exporter": "python",
   "pygments_lexer": "ipython3",
   "version": "3.8.1"
  }
 },
 "nbformat": 4,
 "nbformat_minor": 4
}

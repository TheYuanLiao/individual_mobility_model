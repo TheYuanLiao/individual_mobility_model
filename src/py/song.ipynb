{
 "cells": [
  {
   "cell_type": "code",
   "execution_count": 10,
   "metadata": {
    "pycharm": {
     "is_executing": false
    }
   },
   "outputs": [
    {
     "name": "stdout",
     "output_type": "stream",
     "text": [
      "The autoreload extension is already loaded. To reload it, use:\n",
      "  %reload_ext autoreload\n"
     ]
    }
   ],
   "source": [
    "%load_ext autoreload\n",
    "%autoreload 2"
   ]
  },
  {
   "cell_type": "code",
   "execution_count": 55,
   "metadata": {},
   "outputs": [],
   "source": [
    "import mscthesis\n",
    "import models"
   ]
  },
  {
   "cell_type": "code",
   "execution_count": 4,
   "metadata": {},
   "outputs": [],
   "source": [
    "geotweets = mscthesis.read_geotweets('sweden').set_index('userid')\n",
    "geotweets = geotweets.drop(\n",
    "    labels=tweetcount[tweetcount < 5].index,\n",
    ")\n",
    "geotweets.head(5)"
   ]
  },
  {
   "cell_type": "code",
   "execution_count": 44,
   "metadata": {},
   "outputs": [
    {
     "name": "stdout",
     "output_type": "stream",
     "text": [
      "done with 250\n",
      "done with 500\n",
      "done with 750\n",
      "done with 1000\n",
      "done with 1250\n",
      "done with 1500\n",
      "done with 1750\n",
      "done with 2000\n",
      "done with 2250\n",
      "done with 2500\n",
      "done with 2750\n",
      "done with 3000\n",
      "done with 3250\n",
      "done with 3500\n",
      "done with 3750\n",
      "done with 4000\n"
     ]
    }
   ],
   "source": [
    "travel_survey_trips_mean = 3.143905 # PI? It's magic!\n",
    "travel_survey_trips_std = 1.880373\n",
    "\n",
    "model = models.PreferentialReturn(\n",
    "    p=0.66, gamma=0.6, \n",
    "    region_sampling=models.RegionZipfProb(s=1.2),\n",
    "    jump_size_sampling=models.JumpSizeTrueProb(),\n",
    ")\n",
    "sampler = models.Sampler(\n",
    "    model, \n",
    "    daily_trips_sampling=models.normal_distribution(\n",
    "        travel_survey_trips_mean, \n",
    "        travel_survey_trips_std,\n",
    "    ),\n",
    ")\n",
    "\n",
    "samples = sampler.sample(geotweets, 7*20)"
   ]
  },
  {
   "cell_type": "code",
   "execution_count": 54,
   "metadata": {},
   "outputs": [],
   "source": [
    "samples.to_csv('./../../dbs/sweden/visits.csv')"
   ]
  },
  {
   "cell_type": "code",
   "execution_count": null,
   "metadata": {},
   "outputs": [],
   "source": []
  }
 ],
 "metadata": {
  "kernelspec": {
   "display_name": "PyCharm (mscthesis)",
   "language": "python",
   "name": "pycharm-eadfd222"
  },
  "language_info": {
   "codemirror_mode": {
    "name": "ipython",
    "version": 3
   },
   "file_extension": ".py",
   "mimetype": "text/x-python",
   "name": "python",
   "nbconvert_exporter": "python",
   "pygments_lexer": "ipython3",
   "version": "3.8.1"
  },
  "pycharm": {
   "stem_cell": {
    "cell_type": "raw",
    "metadata": {
     "collapsed": false
    },
    "source": []
   }
  }
 },
 "nbformat": 4,
 "nbformat_minor": 4
}

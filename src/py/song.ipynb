{
 "cells": [
  {
   "cell_type": "code",
   "execution_count": 162,
   "metadata": {
    "pycharm": {
     "is_executing": false
    }
   },
   "outputs": [
    {
     "name": "stdout",
     "output_type": "stream",
     "text": [
      "The autoreload extension is already loaded. To reload it, use:\n",
      "  %reload_ext autoreload\n"
     ]
    }
   ],
   "source": [
    "%load_ext autoreload\n",
    "%autoreload 2"
   ]
  },
  {
   "cell_type": "code",
   "execution_count": 163,
   "metadata": {},
   "outputs": [],
   "source": [
    "import models\n",
    "import activitiesdf\n",
    "from sklearn.metrics.pairwise import haversine_distances\n",
    "import numpy as np\n",
    "import plotly\n",
    "import plotly.express as px\n",
    "import pandas as pd\n",
    "import geopandas as gpd"
   ]
  },
  {
   "cell_type": "code",
   "execution_count": 2,
   "metadata": {},
   "outputs": [],
   "source": [
    "activities = activitiesdf.read_csv('sweden').set_index(['userid', 'region', 'tweetid'])"
   ]
  },
  {
   "cell_type": "code",
   "execution_count": 190,
   "metadata": {},
   "outputs": [],
   "source": [
    "tweets = pd.read_csv('./../../dbs/sweden/tweets_during_home_interval.csv', parse_dates=True).set_index(['userid', 'region'])\n",
    "tweets['createdat'] = pd.to_datetime(tweets['createdat'], infer_datetime_format=True)"
   ]
  },
  {
   "cell_type": "code",
   "execution_count": 191,
   "metadata": {},
   "outputs": [
    {
     "data": {
      "text/plain": [
       "userid\n",
       "5047                     7\n",
       "5616                  2162\n",
       "8981                  1012\n",
       "32213                  495\n",
       "392123                 686\n",
       "                      ... \n",
       "789737143312740352       3\n",
       "790301765744951296      54\n",
       "794973407964229636     856\n",
       "797211605494824960      19\n",
       "806822309478727680      43\n",
       "Length: 4733, dtype: int64"
      ]
     },
     "execution_count": 191,
     "metadata": {},
     "output_type": "execute_result"
    }
   ],
   "source": [
    "tweets.groupby('userid').size()"
   ]
  },
  {
   "cell_type": "code",
   "execution_count": 192,
   "metadata": {},
   "outputs": [],
   "source": [
    "usertweets = tweets.loc[794973407964229636]\n",
    "home_location = usertweets[usertweets['label'] == 'home']"
   ]
  },
  {
   "cell_type": "code",
   "execution_count": 193,
   "metadata": {},
   "outputs": [
    {
     "data": {
      "text/html": [
       "<div>\n",
       "<style scoped>\n",
       "    .dataframe tbody tr th:only-of-type {\n",
       "        vertical-align: middle;\n",
       "    }\n",
       "\n",
       "    .dataframe tbody tr th {\n",
       "        vertical-align: top;\n",
       "    }\n",
       "\n",
       "    .dataframe thead th {\n",
       "        text-align: right;\n",
       "    }\n",
       "</style>\n",
       "<table border=\"1\" class=\"dataframe\">\n",
       "  <thead>\n",
       "    <tr style=\"text-align: right;\">\n",
       "      <th></th>\n",
       "      <th>tweetid</th>\n",
       "      <th>createdat</th>\n",
       "      <th>latitude</th>\n",
       "      <th>longitude</th>\n",
       "      <th>month</th>\n",
       "      <th>weekday</th>\n",
       "      <th>hourofday</th>\n",
       "      <th>timezone</th>\n",
       "      <th>label</th>\n",
       "    </tr>\n",
       "    <tr>\n",
       "      <th>region</th>\n",
       "      <th></th>\n",
       "      <th></th>\n",
       "      <th></th>\n",
       "      <th></th>\n",
       "      <th></th>\n",
       "      <th></th>\n",
       "      <th></th>\n",
       "      <th></th>\n",
       "      <th></th>\n",
       "    </tr>\n",
       "  </thead>\n",
       "  <tbody>\n",
       "    <tr>\n",
       "      <th>0</th>\n",
       "      <td>797842393877745664</td>\n",
       "      <td>2016-11-13 16:43:44+00:00</td>\n",
       "      <td>59.314261</td>\n",
       "      <td>18.076535</td>\n",
       "      <td>11</td>\n",
       "      <td>0</td>\n",
       "      <td>17</td>\n",
       "      <td>Europe/Stockholm</td>\n",
       "      <td>home</td>\n",
       "    </tr>\n",
       "    <tr>\n",
       "      <th>1</th>\n",
       "      <td>798607229481984000</td>\n",
       "      <td>2016-11-15 19:22:55+00:00</td>\n",
       "      <td>59.368500</td>\n",
       "      <td>17.967020</td>\n",
       "      <td>11</td>\n",
       "      <td>2</td>\n",
       "      <td>20</td>\n",
       "      <td>Europe/Stockholm</td>\n",
       "      <td>other</td>\n",
       "    </tr>\n",
       "    <tr>\n",
       "      <th>2</th>\n",
       "      <td>799325499235237888</td>\n",
       "      <td>2016-11-17 18:57:04+00:00</td>\n",
       "      <td>59.333283</td>\n",
       "      <td>18.067816</td>\n",
       "      <td>11</td>\n",
       "      <td>4</td>\n",
       "      <td>19</td>\n",
       "      <td>Europe/Stockholm</td>\n",
       "      <td>other</td>\n",
       "    </tr>\n",
       "    <tr>\n",
       "      <th>3</th>\n",
       "      <td>799653623592402945</td>\n",
       "      <td>2016-11-18 16:40:55+00:00</td>\n",
       "      <td>59.364570</td>\n",
       "      <td>17.974930</td>\n",
       "      <td>11</td>\n",
       "      <td>5</td>\n",
       "      <td>17</td>\n",
       "      <td>Europe/Stockholm</td>\n",
       "      <td>other</td>\n",
       "    </tr>\n",
       "    <tr>\n",
       "      <th>4</th>\n",
       "      <td>799919577647878145</td>\n",
       "      <td>2016-11-19 10:17:43+00:00</td>\n",
       "      <td>59.311860</td>\n",
       "      <td>18.057450</td>\n",
       "      <td>11</td>\n",
       "      <td>6</td>\n",
       "      <td>11</td>\n",
       "      <td>Europe/Stockholm</td>\n",
       "      <td>other</td>\n",
       "    </tr>\n",
       "    <tr>\n",
       "      <th>...</th>\n",
       "      <td>...</td>\n",
       "      <td>...</td>\n",
       "      <td>...</td>\n",
       "      <td>...</td>\n",
       "      <td>...</td>\n",
       "      <td>...</td>\n",
       "      <td>...</td>\n",
       "      <td>...</td>\n",
       "      <td>...</td>\n",
       "    </tr>\n",
       "    <tr>\n",
       "      <th>115</th>\n",
       "      <td>1099390625227493376</td>\n",
       "      <td>2019-02-23 19:28:45+00:00</td>\n",
       "      <td>59.300000</td>\n",
       "      <td>18.166700</td>\n",
       "      <td>2</td>\n",
       "      <td>6</td>\n",
       "      <td>20</td>\n",
       "      <td>Europe/Stockholm</td>\n",
       "      <td>other</td>\n",
       "    </tr>\n",
       "    <tr>\n",
       "      <th>116</th>\n",
       "      <td>1100746552581201921</td>\n",
       "      <td>2019-02-27 13:16:43+00:00</td>\n",
       "      <td>59.309151</td>\n",
       "      <td>18.051889</td>\n",
       "      <td>2</td>\n",
       "      <td>3</td>\n",
       "      <td>14</td>\n",
       "      <td>Europe/Stockholm</td>\n",
       "      <td>other</td>\n",
       "    </tr>\n",
       "    <tr>\n",
       "      <th>117</th>\n",
       "      <td>1104761332384055296</td>\n",
       "      <td>2019-03-10 15:10:01+00:00</td>\n",
       "      <td>59.292857</td>\n",
       "      <td>18.079165</td>\n",
       "      <td>3</td>\n",
       "      <td>0</td>\n",
       "      <td>16</td>\n",
       "      <td>Europe/Stockholm</td>\n",
       "      <td>other</td>\n",
       "    </tr>\n",
       "    <tr>\n",
       "      <th>118</th>\n",
       "      <td>1105497771421941760</td>\n",
       "      <td>2019-03-12 15:56:22+00:00</td>\n",
       "      <td>59.303260</td>\n",
       "      <td>18.098290</td>\n",
       "      <td>3</td>\n",
       "      <td>2</td>\n",
       "      <td>16</td>\n",
       "      <td>Europe/Stockholm</td>\n",
       "      <td>other</td>\n",
       "    </tr>\n",
       "    <tr>\n",
       "      <th>119</th>\n",
       "      <td>1111055241955495937</td>\n",
       "      <td>2019-03-27 23:59:46+00:00</td>\n",
       "      <td>59.317884</td>\n",
       "      <td>18.082461</td>\n",
       "      <td>3</td>\n",
       "      <td>4</td>\n",
       "      <td>0</td>\n",
       "      <td>Europe/Stockholm</td>\n",
       "      <td>other</td>\n",
       "    </tr>\n",
       "  </tbody>\n",
       "</table>\n",
       "<p>120 rows × 9 columns</p>\n",
       "</div>"
      ],
      "text/plain": [
       "                    tweetid                 createdat   latitude  longitude  \\\n",
       "region                                                                        \n",
       "0        797842393877745664 2016-11-13 16:43:44+00:00  59.314261  18.076535   \n",
       "1        798607229481984000 2016-11-15 19:22:55+00:00  59.368500  17.967020   \n",
       "2        799325499235237888 2016-11-17 18:57:04+00:00  59.333283  18.067816   \n",
       "3        799653623592402945 2016-11-18 16:40:55+00:00  59.364570  17.974930   \n",
       "4        799919577647878145 2016-11-19 10:17:43+00:00  59.311860  18.057450   \n",
       "...                     ...                       ...        ...        ...   \n",
       "115     1099390625227493376 2019-02-23 19:28:45+00:00  59.300000  18.166700   \n",
       "116     1100746552581201921 2019-02-27 13:16:43+00:00  59.309151  18.051889   \n",
       "117     1104761332384055296 2019-03-10 15:10:01+00:00  59.292857  18.079165   \n",
       "118     1105497771421941760 2019-03-12 15:56:22+00:00  59.303260  18.098290   \n",
       "119     1111055241955495937 2019-03-27 23:59:46+00:00  59.317884  18.082461   \n",
       "\n",
       "        month  weekday  hourofday          timezone  label  \n",
       "region                                                      \n",
       "0          11        0         17  Europe/Stockholm   home  \n",
       "1          11        2         20  Europe/Stockholm  other  \n",
       "2          11        4         19  Europe/Stockholm  other  \n",
       "3          11        5         17  Europe/Stockholm  other  \n",
       "4          11        6         11  Europe/Stockholm  other  \n",
       "...       ...      ...        ...               ...    ...  \n",
       "115         2        6         20  Europe/Stockholm  other  \n",
       "116         2        3         14  Europe/Stockholm  other  \n",
       "117         3        0         16  Europe/Stockholm  other  \n",
       "118         3        2         16  Europe/Stockholm  other  \n",
       "119         3        4          0  Europe/Stockholm  other  \n",
       "\n",
       "[120 rows x 9 columns]"
      ]
     },
     "execution_count": 193,
     "metadata": {},
     "output_type": "execute_result"
    }
   ],
   "source": [
    "usertweets.groupby('region').head(1)"
   ]
  },
  {
   "cell_type": "code",
   "execution_count": 194,
   "metadata": {},
   "outputs": [
    {
     "data": {
      "text/plain": [
       "0.03732804009298748"
      ]
     },
     "execution_count": 194,
     "metadata": {},
     "output_type": "execute_result"
    }
   ],
   "source": [
    "m = models.SongModel(p=0.66, gamma=0.6, zipf=-1.7)\n",
    "m.fit(usertweets)\n",
    "m.exploration_prob"
   ]
  },
  {
   "cell_type": "code",
   "execution_count": 195,
   "metadata": {},
   "outputs": [],
   "source": [
    "def save_sample(day, timeslot, d, sample):\n",
    "    s = [day, timeslot]\n",
    "    if sample[0] == 'region':\n",
    "        s = s + ['region', sample[1], sample[2], sample[3]]\n",
    "    else:\n",
    "        s = s + ['point', -1, sample[1], sample[2]]\n",
    "    d.append(s)\n",
    "\n",
    "d = []\n",
    "for day in range(7*20):\n",
    "    prev = (\"region\", home_location.index[0], home_location.iloc[0]['latitude'], home_location.iloc[0]['longitude'])\n",
    "    save_sample(day, 0, d, prev)\n",
    "    for timeslot in range(3):\n",
    "        prev = m.sample(prev)\n",
    "        save_sample(day, timeslot, d, prev)\n",
    "\n",
    "sampled = pd.DataFrame(\n",
    "    d, \n",
    "    columns=['day', 'timeslot', 'kind', 'region', 'latitude', 'longitude'],\n",
    ")\n",
    "sampled = gpd.GeoDataFrame(\n",
    "    sampled,\n",
    "    crs=\"EPSG:4326\",\n",
    "    geometry=gpd.points_from_xy(sampled.longitude, sampled.latitude),\n",
    ")\n"
   ]
  },
  {
   "cell_type": "code",
   "execution_count": 196,
   "metadata": {},
   "outputs": [
    {
     "data": {
      "application/vnd.plotly.v1+json": {
       "config": {
        "plotlyServerURL": "https://plot.ly"
       },
       "data": [
        {
         "customdata": [
          [
           0,
           0,
           0,
           "region"
          ],
          [
           0,
           0,
           0,
           "region"
          ],
          [
           0,
           1,
           -1,
           "point"
          ],
          [
           0,
           2,
           9,
           "region"
          ]
         ],
         "hoverlabel": {
          "namelength": 0
         },
         "hovertemplate": "day=%{customdata[0]}<br>timeslot=%{customdata[1]}<br>region=%{customdata[2]}<br>kind=%{customdata[3]}<br>latitude=%{lat}<br>longitude=%{lon}",
         "lat": [
          59.31426096,
          59.31426096,
          59.31426096,
          59.34305210000001
         ],
         "legendgroup": "",
         "line": {
          "color": "#636efa"
         },
         "lon": [
          18.07653494,
          18.07653494,
          18.07653494,
          18.05174887
         ],
         "mode": "lines",
         "name": "",
         "showlegend": false,
         "subplot": "mapbox",
         "type": "scattermapbox"
        }
       ],
       "frames": [
        {
         "data": [
          {
           "customdata": [
            [
             0,
             0,
             0,
             "region"
            ],
            [
             0,
             0,
             0,
             "region"
            ],
            [
             0,
             1,
             -1,
             "point"
            ],
            [
             0,
             2,
             9,
             "region"
            ]
           ],
           "hoverlabel": {
            "namelength": 0
           },
           "hovertemplate": "day=%{customdata[0]}<br>timeslot=%{customdata[1]}<br>region=%{customdata[2]}<br>kind=%{customdata[3]}<br>latitude=%{lat}<br>longitude=%{lon}",
           "lat": [
            59.31426096,
            59.31426096,
            59.31426096,
            59.34305210000001
           ],
           "legendgroup": "",
           "line": {
            "color": "#636efa"
           },
           "lon": [
            18.07653494,
            18.07653494,
            18.07653494,
            18.05174887
           ],
           "mode": "lines",
           "name": "",
           "showlegend": false,
           "subplot": "mapbox",
           "type": "scattermapbox"
          }
         ],
         "name": "0"
        },
        {
         "data": [
          {
           "customdata": [
            [
             1,
             0,
             0,
             "region"
            ],
            [
             1,
             0,
             3,
             "region"
            ],
            [
             1,
             1,
             0,
             "region"
            ],
            [
             1,
             2,
             15,
             "region"
            ]
           ],
           "hoverlabel": {
            "namelength": 0
           },
           "hovertemplate": "day=%{customdata[0]}<br>timeslot=%{customdata[1]}<br>region=%{customdata[2]}<br>kind=%{customdata[3]}<br>latitude=%{lat}<br>longitude=%{lon}",
           "lat": [
            59.31426096,
            59.36456999999999,
            59.31426096,
            59.217780000000005
           ],
           "legendgroup": "",
           "line": {
            "color": "#636efa"
           },
           "lon": [
            18.07653494,
            17.97493,
            18.07653494,
            17.93892
           ],
           "mode": "lines",
           "name": "",
           "showlegend": false,
           "subplot": "mapbox",
           "type": "scattermapbox"
          }
         ],
         "name": "1"
        },
        {
         "data": [
          {
           "customdata": [
            [
             2,
             0,
             0,
             "region"
            ],
            [
             2,
             0,
             0,
             "region"
            ],
            [
             2,
             1,
             0,
             "region"
            ],
            [
             2,
             2,
             3,
             "region"
            ]
           ],
           "hoverlabel": {
            "namelength": 0
           },
           "hovertemplate": "day=%{customdata[0]}<br>timeslot=%{customdata[1]}<br>region=%{customdata[2]}<br>kind=%{customdata[3]}<br>latitude=%{lat}<br>longitude=%{lon}",
           "lat": [
            59.31426096,
            59.31426096,
            59.31426096,
            59.36456999999999
           ],
           "legendgroup": "",
           "line": {
            "color": "#636efa"
           },
           "lon": [
            18.07653494,
            18.07653494,
            18.07653494,
            17.97493
           ],
           "mode": "lines",
           "name": "",
           "showlegend": false,
           "subplot": "mapbox",
           "type": "scattermapbox"
          }
         ],
         "name": "2"
        },
        {
         "data": [
          {
           "customdata": [
            [
             3,
             0,
             0,
             "region"
            ],
            [
             3,
             0,
             10,
             "region"
            ],
            [
             3,
             1,
             3,
             "region"
            ],
            [
             3,
             2,
             0,
             "region"
            ]
           ],
           "hoverlabel": {
            "namelength": 0
           },
           "hovertemplate": "day=%{customdata[0]}<br>timeslot=%{customdata[1]}<br>region=%{customdata[2]}<br>kind=%{customdata[3]}<br>latitude=%{lat}<br>longitude=%{lon}",
           "lat": [
            59.31426096,
            59.32355937,
            59.36456999999999,
            59.31426096
           ],
           "legendgroup": "",
           "line": {
            "color": "#636efa"
           },
           "lon": [
            18.07653494,
            18.096513199999997,
            17.97493,
            18.07653494
           ],
           "mode": "lines",
           "name": "",
           "showlegend": false,
           "subplot": "mapbox",
           "type": "scattermapbox"
          }
         ],
         "name": "3"
        },
        {
         "data": [
          {
           "customdata": [
            [
             4,
             0,
             0,
             "region"
            ],
            [
             4,
             0,
             110,
             "region"
            ],
            [
             4,
             1,
             9,
             "region"
            ],
            [
             4,
             2,
             3,
             "region"
            ]
           ],
           "hoverlabel": {
            "namelength": 0
           },
           "hovertemplate": "day=%{customdata[0]}<br>timeslot=%{customdata[1]}<br>region=%{customdata[2]}<br>kind=%{customdata[3]}<br>latitude=%{lat}<br>longitude=%{lon}",
           "lat": [
            59.31426096,
            59.3917989,
            59.34305210000001,
            59.36456999999999
           ],
           "legendgroup": "",
           "line": {
            "color": "#636efa"
           },
           "lon": [
            18.07653494,
            18.0387252,
            18.05174887,
            17.97493
           ],
           "mode": "lines",
           "name": "",
           "showlegend": false,
           "subplot": "mapbox",
           "type": "scattermapbox"
          }
         ],
         "name": "4"
        },
        {
         "data": [
          {
           "customdata": [
            [
             5,
             0,
             0,
             "region"
            ],
            [
             5,
             0,
             0,
             "region"
            ],
            [
             5,
             1,
             10,
             "region"
            ],
            [
             5,
             2,
             10,
             "region"
            ]
           ],
           "hoverlabel": {
            "namelength": 0
           },
           "hovertemplate": "day=%{customdata[0]}<br>timeslot=%{customdata[1]}<br>region=%{customdata[2]}<br>kind=%{customdata[3]}<br>latitude=%{lat}<br>longitude=%{lon}",
           "lat": [
            59.31426096,
            59.31426096,
            59.32355937,
            59.32355937
           ],
           "legendgroup": "",
           "line": {
            "color": "#636efa"
           },
           "lon": [
            18.07653494,
            18.07653494,
            18.096513199999997,
            18.096513199999997
           ],
           "mode": "lines",
           "name": "",
           "showlegend": false,
           "subplot": "mapbox",
           "type": "scattermapbox"
          }
         ],
         "name": "5"
        },
        {
         "data": [
          {
           "customdata": [
            [
             6,
             0,
             0,
             "region"
            ],
            [
             6,
             0,
             0,
             "region"
            ],
            [
             6,
             1,
             51,
             "region"
            ],
            [
             6,
             2,
             0,
             "region"
            ]
           ],
           "hoverlabel": {
            "namelength": 0
           },
           "hovertemplate": "day=%{customdata[0]}<br>timeslot=%{customdata[1]}<br>region=%{customdata[2]}<br>kind=%{customdata[3]}<br>latitude=%{lat}<br>longitude=%{lon}",
           "lat": [
            59.31426096,
            59.31426096,
            52.31430875,
            59.31426096
           ],
           "legendgroup": "",
           "line": {
            "color": "#636efa"
           },
           "lon": [
            18.07653494,
            18.07653494,
            4.94190716,
            18.07653494
           ],
           "mode": "lines",
           "name": "",
           "showlegend": false,
           "subplot": "mapbox",
           "type": "scattermapbox"
          }
         ],
         "name": "6"
        },
        {
         "data": [
          {
           "customdata": [
            [
             7,
             0,
             0,
             "region"
            ],
            [
             7,
             0,
             0,
             "region"
            ],
            [
             7,
             1,
             40,
             "region"
            ],
            [
             7,
             2,
             0,
             "region"
            ]
           ],
           "hoverlabel": {
            "namelength": 0
           },
           "hovertemplate": "day=%{customdata[0]}<br>timeslot=%{customdata[1]}<br>region=%{customdata[2]}<br>kind=%{customdata[3]}<br>latitude=%{lat}<br>longitude=%{lon}",
           "lat": [
            59.31426096,
            59.31426096,
            59.24122,
            59.31426096
           ],
           "legendgroup": "",
           "line": {
            "color": "#636efa"
           },
           "lon": [
            18.07653494,
            18.07653494,
            18.09432,
            18.07653494
           ],
           "mode": "lines",
           "name": "",
           "showlegend": false,
           "subplot": "mapbox",
           "type": "scattermapbox"
          }
         ],
         "name": "7"
        },
        {
         "data": [
          {
           "customdata": [
            [
             8,
             0,
             0,
             "region"
            ],
            [
             8,
             0,
             3,
             "region"
            ],
            [
             8,
             1,
             0,
             "region"
            ],
            [
             8,
             2,
             0,
             "region"
            ]
           ],
           "hoverlabel": {
            "namelength": 0
           },
           "hovertemplate": "day=%{customdata[0]}<br>timeslot=%{customdata[1]}<br>region=%{customdata[2]}<br>kind=%{customdata[3]}<br>latitude=%{lat}<br>longitude=%{lon}",
           "lat": [
            59.31426096,
            59.36456999999999,
            59.31426096,
            59.31426096
           ],
           "legendgroup": "",
           "line": {
            "color": "#636efa"
           },
           "lon": [
            18.07653494,
            17.97493,
            18.07653494,
            18.07653494
           ],
           "mode": "lines",
           "name": "",
           "showlegend": false,
           "subplot": "mapbox",
           "type": "scattermapbox"
          }
         ],
         "name": "8"
        },
        {
         "data": [
          {
           "customdata": [
            [
             9,
             0,
             0,
             "region"
            ],
            [
             9,
             0,
             73,
             "region"
            ],
            [
             9,
             1,
             0,
             "region"
            ],
            [
             9,
             2,
             16,
             "region"
            ]
           ],
           "hoverlabel": {
            "namelength": 0
           },
           "hovertemplate": "day=%{customdata[0]}<br>timeslot=%{customdata[1]}<br>region=%{customdata[2]}<br>kind=%{customdata[3]}<br>latitude=%{lat}<br>longitude=%{lon}",
           "lat": [
            59.31426096,
            59.3090821,
            59.31426096,
            59.22078204
           ],
           "legendgroup": "",
           "line": {
            "color": "#636efa"
           },
           "lon": [
            18.07653494,
            18.056026199999998,
            18.07653494,
            17.9363181
           ],
           "mode": "lines",
           "name": "",
           "showlegend": false,
           "subplot": "mapbox",
           "type": "scattermapbox"
          }
         ],
         "name": "9"
        },
        {
         "data": [
          {
           "customdata": [
            [
             10,
             0,
             0,
             "region"
            ],
            [
             10,
             0,
             0,
             "region"
            ],
            [
             10,
             1,
             16,
             "region"
            ],
            [
             10,
             2,
             10,
             "region"
            ]
           ],
           "hoverlabel": {
            "namelength": 0
           },
           "hovertemplate": "day=%{customdata[0]}<br>timeslot=%{customdata[1]}<br>region=%{customdata[2]}<br>kind=%{customdata[3]}<br>latitude=%{lat}<br>longitude=%{lon}",
           "lat": [
            59.31426096,
            59.31426096,
            59.22078204,
            59.32355937
           ],
           "legendgroup": "",
           "line": {
            "color": "#636efa"
           },
           "lon": [
            18.07653494,
            18.07653494,
            17.9363181,
            18.096513199999997
           ],
           "mode": "lines",
           "name": "",
           "showlegend": false,
           "subplot": "mapbox",
           "type": "scattermapbox"
          }
         ],
         "name": "10"
        },
        {
         "data": [
          {
           "customdata": [
            [
             11,
             0,
             0,
             "region"
            ],
            [
             11,
             0,
             0,
             "region"
            ],
            [
             11,
             1,
             10,
             "region"
            ],
            [
             11,
             2,
             31,
             "region"
            ]
           ],
           "hoverlabel": {
            "namelength": 0
           },
           "hovertemplate": "day=%{customdata[0]}<br>timeslot=%{customdata[1]}<br>region=%{customdata[2]}<br>kind=%{customdata[3]}<br>latitude=%{lat}<br>longitude=%{lon}",
           "lat": [
            59.31426096,
            59.31426096,
            59.32355937,
            59.31206825
           ],
           "legendgroup": "",
           "line": {
            "color": "#636efa"
           },
           "lon": [
            18.07653494,
            18.07653494,
            18.096513199999997,
            18.07390065
           ],
           "mode": "lines",
           "name": "",
           "showlegend": false,
           "subplot": "mapbox",
           "type": "scattermapbox"
          }
         ],
         "name": "11"
        },
        {
         "data": [
          {
           "customdata": [
            [
             12,
             0,
             0,
             "region"
            ],
            [
             12,
             0,
             0,
             "region"
            ],
            [
             12,
             1,
             0,
             "region"
            ],
            [
             12,
             2,
             0,
             "region"
            ]
           ],
           "hoverlabel": {
            "namelength": 0
           },
           "hovertemplate": "day=%{customdata[0]}<br>timeslot=%{customdata[1]}<br>region=%{customdata[2]}<br>kind=%{customdata[3]}<br>latitude=%{lat}<br>longitude=%{lon}",
           "lat": [
            59.31426096,
            59.31426096,
            59.31426096,
            59.31426096
           ],
           "legendgroup": "",
           "line": {
            "color": "#636efa"
           },
           "lon": [
            18.07653494,
            18.07653494,
            18.07653494,
            18.07653494
           ],
           "mode": "lines",
           "name": "",
           "showlegend": false,
           "subplot": "mapbox",
           "type": "scattermapbox"
          }
         ],
         "name": "12"
        },
        {
         "data": [
          {
           "customdata": [
            [
             13,
             0,
             0,
             "region"
            ],
            [
             13,
             0,
             0,
             "region"
            ],
            [
             13,
             1,
             10,
             "region"
            ],
            [
             13,
             2,
             -1,
             "point"
            ]
           ],
           "hoverlabel": {
            "namelength": 0
           },
           "hovertemplate": "day=%{customdata[0]}<br>timeslot=%{customdata[1]}<br>region=%{customdata[2]}<br>kind=%{customdata[3]}<br>latitude=%{lat}<br>longitude=%{lon}",
           "lat": [
            59.31426096,
            59.31426096,
            59.32355937,
            59.32385382604679
           ],
           "legendgroup": "",
           "line": {
            "color": "#636efa"
           },
           "lon": [
            18.07653494,
            18.07653494,
            18.096513199999997,
            18.097986806868356
           ],
           "mode": "lines",
           "name": "",
           "showlegend": false,
           "subplot": "mapbox",
           "type": "scattermapbox"
          }
         ],
         "name": "13"
        },
        {
         "data": [
          {
           "customdata": [
            [
             14,
             0,
             0,
             "region"
            ],
            [
             14,
             0,
             0,
             "region"
            ],
            [
             14,
             1,
             10,
             "region"
            ],
            [
             14,
             2,
             10,
             "region"
            ]
           ],
           "hoverlabel": {
            "namelength": 0
           },
           "hovertemplate": "day=%{customdata[0]}<br>timeslot=%{customdata[1]}<br>region=%{customdata[2]}<br>kind=%{customdata[3]}<br>latitude=%{lat}<br>longitude=%{lon}",
           "lat": [
            59.31426096,
            59.31426096,
            59.32355937,
            59.32355937
           ],
           "legendgroup": "",
           "line": {
            "color": "#636efa"
           },
           "lon": [
            18.07653494,
            18.07653494,
            18.096513199999997,
            18.096513199999997
           ],
           "mode": "lines",
           "name": "",
           "showlegend": false,
           "subplot": "mapbox",
           "type": "scattermapbox"
          }
         ],
         "name": "14"
        },
        {
         "data": [
          {
           "customdata": [
            [
             15,
             0,
             0,
             "region"
            ],
            [
             15,
             0,
             9,
             "region"
            ],
            [
             15,
             1,
             9,
             "region"
            ],
            [
             15,
             2,
             9,
             "region"
            ]
           ],
           "hoverlabel": {
            "namelength": 0
           },
           "hovertemplate": "day=%{customdata[0]}<br>timeslot=%{customdata[1]}<br>region=%{customdata[2]}<br>kind=%{customdata[3]}<br>latitude=%{lat}<br>longitude=%{lon}",
           "lat": [
            59.31426096,
            59.34305210000001,
            59.34305210000001,
            59.34305210000001
           ],
           "legendgroup": "",
           "line": {
            "color": "#636efa"
           },
           "lon": [
            18.07653494,
            18.05174887,
            18.05174887,
            18.05174887
           ],
           "mode": "lines",
           "name": "",
           "showlegend": false,
           "subplot": "mapbox",
           "type": "scattermapbox"
          }
         ],
         "name": "15"
        },
        {
         "data": [
          {
           "customdata": [
            [
             16,
             0,
             0,
             "region"
            ],
            [
             16,
             0,
             32,
             "region"
            ],
            [
             16,
             1,
             0,
             "region"
            ],
            [
             16,
             2,
             0,
             "region"
            ]
           ],
           "hoverlabel": {
            "namelength": 0
           },
           "hovertemplate": "day=%{customdata[0]}<br>timeslot=%{customdata[1]}<br>region=%{customdata[2]}<br>kind=%{customdata[3]}<br>latitude=%{lat}<br>longitude=%{lon}",
           "lat": [
            59.31426096,
            59.36239896,
            59.31426096,
            59.31426096
           ],
           "legendgroup": "",
           "line": {
            "color": "#636efa"
           },
           "lon": [
            18.07653494,
            17.96602968,
            18.07653494,
            18.07653494
           ],
           "mode": "lines",
           "name": "",
           "showlegend": false,
           "subplot": "mapbox",
           "type": "scattermapbox"
          }
         ],
         "name": "16"
        },
        {
         "data": [
          {
           "customdata": [
            [
             17,
             0,
             0,
             "region"
            ],
            [
             17,
             0,
             10,
             "region"
            ],
            [
             17,
             1,
             8,
             "region"
            ],
            [
             17,
             2,
             0,
             "region"
            ]
           ],
           "hoverlabel": {
            "namelength": 0
           },
           "hovertemplate": "day=%{customdata[0]}<br>timeslot=%{customdata[1]}<br>region=%{customdata[2]}<br>kind=%{customdata[3]}<br>latitude=%{lat}<br>longitude=%{lon}",
           "lat": [
            59.31426096,
            59.32355937,
            59.34313992,
            59.31426096
           ],
           "legendgroup": "",
           "line": {
            "color": "#636efa"
           },
           "lon": [
            18.07653494,
            18.096513199999997,
            18.08549566,
            18.07653494
           ],
           "mode": "lines",
           "name": "",
           "showlegend": false,
           "subplot": "mapbox",
           "type": "scattermapbox"
          }
         ],
         "name": "17"
        },
        {
         "data": [
          {
           "customdata": [
            [
             18,
             0,
             0,
             "region"
            ],
            [
             18,
             0,
             0,
             "region"
            ],
            [
             18,
             1,
             0,
             "region"
            ],
            [
             18,
             2,
             0,
             "region"
            ]
           ],
           "hoverlabel": {
            "namelength": 0
           },
           "hovertemplate": "day=%{customdata[0]}<br>timeslot=%{customdata[1]}<br>region=%{customdata[2]}<br>kind=%{customdata[3]}<br>latitude=%{lat}<br>longitude=%{lon}",
           "lat": [
            59.31426096,
            59.31426096,
            59.31426096,
            59.31426096
           ],
           "legendgroup": "",
           "line": {
            "color": "#636efa"
           },
           "lon": [
            18.07653494,
            18.07653494,
            18.07653494,
            18.07653494
           ],
           "mode": "lines",
           "name": "",
           "showlegend": false,
           "subplot": "mapbox",
           "type": "scattermapbox"
          }
         ],
         "name": "18"
        },
        {
         "data": [
          {
           "customdata": [
            [
             19,
             0,
             0,
             "region"
            ],
            [
             19,
             0,
             0,
             "region"
            ],
            [
             19,
             1,
             0,
             "region"
            ],
            [
             19,
             2,
             3,
             "region"
            ]
           ],
           "hoverlabel": {
            "namelength": 0
           },
           "hovertemplate": "day=%{customdata[0]}<br>timeslot=%{customdata[1]}<br>region=%{customdata[2]}<br>kind=%{customdata[3]}<br>latitude=%{lat}<br>longitude=%{lon}",
           "lat": [
            59.31426096,
            59.31426096,
            59.31426096,
            59.36456999999999
           ],
           "legendgroup": "",
           "line": {
            "color": "#636efa"
           },
           "lon": [
            18.07653494,
            18.07653494,
            18.07653494,
            17.97493
           ],
           "mode": "lines",
           "name": "",
           "showlegend": false,
           "subplot": "mapbox",
           "type": "scattermapbox"
          }
         ],
         "name": "19"
        },
        {
         "data": [
          {
           "customdata": [
            [
             20,
             0,
             0,
             "region"
            ],
            [
             20,
             0,
             10,
             "region"
            ],
            [
             20,
             1,
             0,
             "region"
            ],
            [
             20,
             2,
             3,
             "region"
            ]
           ],
           "hoverlabel": {
            "namelength": 0
           },
           "hovertemplate": "day=%{customdata[0]}<br>timeslot=%{customdata[1]}<br>region=%{customdata[2]}<br>kind=%{customdata[3]}<br>latitude=%{lat}<br>longitude=%{lon}",
           "lat": [
            59.31426096,
            59.32355937,
            59.31426096,
            59.36456999999999
           ],
           "legendgroup": "",
           "line": {
            "color": "#636efa"
           },
           "lon": [
            18.07653494,
            18.096513199999997,
            18.07653494,
            17.97493
           ],
           "mode": "lines",
           "name": "",
           "showlegend": false,
           "subplot": "mapbox",
           "type": "scattermapbox"
          }
         ],
         "name": "20"
        },
        {
         "data": [
          {
           "customdata": [
            [
             21,
             0,
             0,
             "region"
            ],
            [
             21,
             0,
             71,
             "region"
            ],
            [
             21,
             1,
             10,
             "region"
            ],
            [
             21,
             2,
             0,
             "region"
            ]
           ],
           "hoverlabel": {
            "namelength": 0
           },
           "hovertemplate": "day=%{customdata[0]}<br>timeslot=%{customdata[1]}<br>region=%{customdata[2]}<br>kind=%{customdata[3]}<br>latitude=%{lat}<br>longitude=%{lon}",
           "lat": [
            59.31426096,
            59.3129659,
            59.32355937,
            59.31426096
           ],
           "legendgroup": "",
           "line": {
            "color": "#636efa"
           },
           "lon": [
            18.07653494,
            18.068282699999997,
            18.096513199999997,
            18.07653494
           ],
           "mode": "lines",
           "name": "",
           "showlegend": false,
           "subplot": "mapbox",
           "type": "scattermapbox"
          }
         ],
         "name": "21"
        },
        {
         "data": [
          {
           "customdata": [
            [
             22,
             0,
             0,
             "region"
            ],
            [
             22,
             0,
             43,
             "region"
            ],
            [
             22,
             1,
             0,
             "region"
            ],
            [
             22,
             2,
             0,
             "region"
            ]
           ],
           "hoverlabel": {
            "namelength": 0
           },
           "hovertemplate": "day=%{customdata[0]}<br>timeslot=%{customdata[1]}<br>region=%{customdata[2]}<br>kind=%{customdata[3]}<br>latitude=%{lat}<br>longitude=%{lon}",
           "lat": [
            59.31426096,
            59.32190343,
            59.31426096,
            59.31426096
           ],
           "legendgroup": "",
           "line": {
            "color": "#636efa"
           },
           "lon": [
            18.07653494,
            18.216364499999997,
            18.07653494,
            18.07653494
           ],
           "mode": "lines",
           "name": "",
           "showlegend": false,
           "subplot": "mapbox",
           "type": "scattermapbox"
          }
         ],
         "name": "22"
        },
        {
         "data": [
          {
           "customdata": [
            [
             23,
             0,
             0,
             "region"
            ],
            [
             23,
             0,
             45,
             "region"
            ],
            [
             23,
             1,
             10,
             "region"
            ],
            [
             23,
             2,
             0,
             "region"
            ]
           ],
           "hoverlabel": {
            "namelength": 0
           },
           "hovertemplate": "day=%{customdata[0]}<br>timeslot=%{customdata[1]}<br>region=%{customdata[2]}<br>kind=%{customdata[3]}<br>latitude=%{lat}<br>longitude=%{lon}",
           "lat": [
            59.31426096,
            59.33348,
            59.32355937,
            59.31426096
           ],
           "legendgroup": "",
           "line": {
            "color": "#636efa"
           },
           "lon": [
            18.07653494,
            18.032239999999998,
            18.096513199999997,
            18.07653494
           ],
           "mode": "lines",
           "name": "",
           "showlegend": false,
           "subplot": "mapbox",
           "type": "scattermapbox"
          }
         ],
         "name": "23"
        },
        {
         "data": [
          {
           "customdata": [
            [
             24,
             0,
             0,
             "region"
            ],
            [
             24,
             0,
             5,
             "region"
            ],
            [
             24,
             1,
             0,
             "region"
            ],
            [
             24,
             2,
             0,
             "region"
            ]
           ],
           "hoverlabel": {
            "namelength": 0
           },
           "hovertemplate": "day=%{customdata[0]}<br>timeslot=%{customdata[1]}<br>region=%{customdata[2]}<br>kind=%{customdata[3]}<br>latitude=%{lat}<br>longitude=%{lon}",
           "lat": [
            59.31426096,
            59.267619999999994,
            59.31426096,
            59.31426096
           ],
           "legendgroup": "",
           "line": {
            "color": "#636efa"
           },
           "lon": [
            18.07653494,
            17.91003,
            18.07653494,
            18.07653494
           ],
           "mode": "lines",
           "name": "",
           "showlegend": false,
           "subplot": "mapbox",
           "type": "scattermapbox"
          }
         ],
         "name": "24"
        },
        {
         "data": [
          {
           "customdata": [
            [
             25,
             0,
             0,
             "region"
            ],
            [
             25,
             0,
             0,
             "region"
            ],
            [
             25,
             1,
             10,
             "region"
            ],
            [
             25,
             2,
             -1,
             "point"
            ]
           ],
           "hoverlabel": {
            "namelength": 0
           },
           "hovertemplate": "day=%{customdata[0]}<br>timeslot=%{customdata[1]}<br>region=%{customdata[2]}<br>kind=%{customdata[3]}<br>latitude=%{lat}<br>longitude=%{lon}",
           "lat": [
            59.31426096,
            59.31426096,
            59.32355937,
            59.32639807375297
           ],
           "legendgroup": "",
           "line": {
            "color": "#636efa"
           },
           "lon": [
            18.07653494,
            18.07653494,
            18.096513199999997,
            18.09653731669386
           ],
           "mode": "lines",
           "name": "",
           "showlegend": false,
           "subplot": "mapbox",
           "type": "scattermapbox"
          }
         ],
         "name": "25"
        },
        {
         "data": [
          {
           "customdata": [
            [
             26,
             0,
             0,
             "region"
            ],
            [
             26,
             0,
             -1,
             "point"
            ],
            [
             26,
             1,
             10,
             "region"
            ],
            [
             26,
             2,
             10,
             "region"
            ]
           ],
           "hoverlabel": {
            "namelength": 0
           },
           "hovertemplate": "day=%{customdata[0]}<br>timeslot=%{customdata[1]}<br>region=%{customdata[2]}<br>kind=%{customdata[3]}<br>latitude=%{lat}<br>longitude=%{lon}",
           "lat": [
            59.31426096,
            59.31426096,
            59.32355937,
            59.32355937
           ],
           "legendgroup": "",
           "line": {
            "color": "#636efa"
           },
           "lon": [
            18.07653494,
            18.07653494,
            18.096513199999997,
            18.096513199999997
           ],
           "mode": "lines",
           "name": "",
           "showlegend": false,
           "subplot": "mapbox",
           "type": "scattermapbox"
          }
         ],
         "name": "26"
        },
        {
         "data": [
          {
           "customdata": [
            [
             27,
             0,
             0,
             "region"
            ],
            [
             27,
             0,
             10,
             "region"
            ],
            [
             27,
             1,
             0,
             "region"
            ],
            [
             27,
             2,
             26,
             "region"
            ]
           ],
           "hoverlabel": {
            "namelength": 0
           },
           "hovertemplate": "day=%{customdata[0]}<br>timeslot=%{customdata[1]}<br>region=%{customdata[2]}<br>kind=%{customdata[3]}<br>latitude=%{lat}<br>longitude=%{lon}",
           "lat": [
            59.31426096,
            59.32355937,
            59.31426096,
            59.339442000000005
           ],
           "legendgroup": "",
           "line": {
            "color": "#636efa"
           },
           "lon": [
            18.07653494,
            18.096513199999997,
            18.07653494,
            18.01222088
           ],
           "mode": "lines",
           "name": "",
           "showlegend": false,
           "subplot": "mapbox",
           "type": "scattermapbox"
          }
         ],
         "name": "27"
        },
        {
         "data": [
          {
           "customdata": [
            [
             28,
             0,
             0,
             "region"
            ],
            [
             28,
             0,
             32,
             "region"
            ],
            [
             28,
             1,
             0,
             "region"
            ],
            [
             28,
             2,
             53,
             "region"
            ]
           ],
           "hoverlabel": {
            "namelength": 0
           },
           "hovertemplate": "day=%{customdata[0]}<br>timeslot=%{customdata[1]}<br>region=%{customdata[2]}<br>kind=%{customdata[3]}<br>latitude=%{lat}<br>longitude=%{lon}",
           "lat": [
            59.31426096,
            59.36239896,
            59.31426096,
            59.34639599
           ],
           "legendgroup": "",
           "line": {
            "color": "#636efa"
           },
           "lon": [
            18.07653494,
            17.96602968,
            18.07653494,
            18.031986899999996
           ],
           "mode": "lines",
           "name": "",
           "showlegend": false,
           "subplot": "mapbox",
           "type": "scattermapbox"
          }
         ],
         "name": "28"
        },
        {
         "data": [
          {
           "customdata": [
            [
             29,
             0,
             0,
             "region"
            ],
            [
             29,
             0,
             0,
             "region"
            ],
            [
             29,
             1,
             0,
             "region"
            ],
            [
             29,
             2,
             10,
             "region"
            ]
           ],
           "hoverlabel": {
            "namelength": 0
           },
           "hovertemplate": "day=%{customdata[0]}<br>timeslot=%{customdata[1]}<br>region=%{customdata[2]}<br>kind=%{customdata[3]}<br>latitude=%{lat}<br>longitude=%{lon}",
           "lat": [
            59.31426096,
            59.31426096,
            59.31426096,
            59.32355937
           ],
           "legendgroup": "",
           "line": {
            "color": "#636efa"
           },
           "lon": [
            18.07653494,
            18.07653494,
            18.07653494,
            18.096513199999997
           ],
           "mode": "lines",
           "name": "",
           "showlegend": false,
           "subplot": "mapbox",
           "type": "scattermapbox"
          }
         ],
         "name": "29"
        },
        {
         "data": [
          {
           "customdata": [
            [
             30,
             0,
             0,
             "region"
            ],
            [
             30,
             0,
             0,
             "region"
            ],
            [
             30,
             1,
             0,
             "region"
            ],
            [
             30,
             2,
             21,
             "region"
            ]
           ],
           "hoverlabel": {
            "namelength": 0
           },
           "hovertemplate": "day=%{customdata[0]}<br>timeslot=%{customdata[1]}<br>region=%{customdata[2]}<br>kind=%{customdata[3]}<br>latitude=%{lat}<br>longitude=%{lon}",
           "lat": [
            59.31426096,
            59.31426096,
            59.31426096,
            59.315290000000005
           ],
           "legendgroup": "",
           "line": {
            "color": "#636efa"
           },
           "lon": [
            18.07653494,
            18.07653494,
            18.07653494,
            18.1637
           ],
           "mode": "lines",
           "name": "",
           "showlegend": false,
           "subplot": "mapbox",
           "type": "scattermapbox"
          }
         ],
         "name": "30"
        },
        {
         "data": [
          {
           "customdata": [
            [
             31,
             0,
             0,
             "region"
            ],
            [
             31,
             0,
             14,
             "region"
            ],
            [
             31,
             1,
             9,
             "region"
            ],
            [
             31,
             2,
             0,
             "region"
            ]
           ],
           "hoverlabel": {
            "namelength": 0
           },
           "hovertemplate": "day=%{customdata[0]}<br>timeslot=%{customdata[1]}<br>region=%{customdata[2]}<br>kind=%{customdata[3]}<br>latitude=%{lat}<br>longitude=%{lon}",
           "lat": [
            59.31426096,
            59.34876293,
            59.34305210000001,
            59.31426096
           ],
           "legendgroup": "",
           "line": {
            "color": "#636efa"
           },
           "lon": [
            18.07653494,
            18.02764472,
            18.05174887,
            18.07653494
           ],
           "mode": "lines",
           "name": "",
           "showlegend": false,
           "subplot": "mapbox",
           "type": "scattermapbox"
          }
         ],
         "name": "31"
        },
        {
         "data": [
          {
           "customdata": [
            [
             32,
             0,
             0,
             "region"
            ],
            [
             32,
             0,
             0,
             "region"
            ],
            [
             32,
             1,
             23,
             "region"
            ],
            [
             32,
             2,
             10,
             "region"
            ]
           ],
           "hoverlabel": {
            "namelength": 0
           },
           "hovertemplate": "day=%{customdata[0]}<br>timeslot=%{customdata[1]}<br>region=%{customdata[2]}<br>kind=%{customdata[3]}<br>latitude=%{lat}<br>longitude=%{lon}",
           "lat": [
            59.31426096,
            59.31426096,
            59.3634682,
            59.32355937
           ],
           "legendgroup": "",
           "line": {
            "color": "#636efa"
           },
           "lon": [
            18.07653494,
            18.07653494,
            17.8727207,
            18.096513199999997
           ],
           "mode": "lines",
           "name": "",
           "showlegend": false,
           "subplot": "mapbox",
           "type": "scattermapbox"
          }
         ],
         "name": "32"
        },
        {
         "data": [
          {
           "customdata": [
            [
             33,
             0,
             0,
             "region"
            ],
            [
             33,
             0,
             10,
             "region"
            ],
            [
             33,
             1,
             0,
             "region"
            ],
            [
             33,
             2,
             0,
             "region"
            ]
           ],
           "hoverlabel": {
            "namelength": 0
           },
           "hovertemplate": "day=%{customdata[0]}<br>timeslot=%{customdata[1]}<br>region=%{customdata[2]}<br>kind=%{customdata[3]}<br>latitude=%{lat}<br>longitude=%{lon}",
           "lat": [
            59.31426096,
            59.32355937,
            59.31426096,
            59.31426096
           ],
           "legendgroup": "",
           "line": {
            "color": "#636efa"
           },
           "lon": [
            18.07653494,
            18.096513199999997,
            18.07653494,
            18.07653494
           ],
           "mode": "lines",
           "name": "",
           "showlegend": false,
           "subplot": "mapbox",
           "type": "scattermapbox"
          }
         ],
         "name": "33"
        },
        {
         "data": [
          {
           "customdata": [
            [
             34,
             0,
             0,
             "region"
            ],
            [
             34,
             0,
             16,
             "region"
            ],
            [
             34,
             1,
             110,
             "region"
            ],
            [
             34,
             2,
             9,
             "region"
            ]
           ],
           "hoverlabel": {
            "namelength": 0
           },
           "hovertemplate": "day=%{customdata[0]}<br>timeslot=%{customdata[1]}<br>region=%{customdata[2]}<br>kind=%{customdata[3]}<br>latitude=%{lat}<br>longitude=%{lon}",
           "lat": [
            59.31426096,
            59.22078204,
            59.3917989,
            59.34305210000001
           ],
           "legendgroup": "",
           "line": {
            "color": "#636efa"
           },
           "lon": [
            18.07653494,
            17.9363181,
            18.0387252,
            18.05174887
           ],
           "mode": "lines",
           "name": "",
           "showlegend": false,
           "subplot": "mapbox",
           "type": "scattermapbox"
          }
         ],
         "name": "34"
        },
        {
         "data": [
          {
           "customdata": [
            [
             35,
             0,
             0,
             "region"
            ],
            [
             35,
             0,
             8,
             "region"
            ],
            [
             35,
             1,
             0,
             "region"
            ],
            [
             35,
             2,
             9,
             "region"
            ]
           ],
           "hoverlabel": {
            "namelength": 0
           },
           "hovertemplate": "day=%{customdata[0]}<br>timeslot=%{customdata[1]}<br>region=%{customdata[2]}<br>kind=%{customdata[3]}<br>latitude=%{lat}<br>longitude=%{lon}",
           "lat": [
            59.31426096,
            59.34313992,
            59.31426096,
            59.34305210000001
           ],
           "legendgroup": "",
           "line": {
            "color": "#636efa"
           },
           "lon": [
            18.07653494,
            18.08549566,
            18.07653494,
            18.05174887
           ],
           "mode": "lines",
           "name": "",
           "showlegend": false,
           "subplot": "mapbox",
           "type": "scattermapbox"
          }
         ],
         "name": "35"
        },
        {
         "data": [
          {
           "customdata": [
            [
             36,
             0,
             0,
             "region"
            ],
            [
             36,
             0,
             0,
             "region"
            ],
            [
             36,
             1,
             5,
             "region"
            ],
            [
             36,
             2,
             -1,
             "point"
            ]
           ],
           "hoverlabel": {
            "namelength": 0
           },
           "hovertemplate": "day=%{customdata[0]}<br>timeslot=%{customdata[1]}<br>region=%{customdata[2]}<br>kind=%{customdata[3]}<br>latitude=%{lat}<br>longitude=%{lon}",
           "lat": [
            59.31426096,
            59.31426096,
            59.267619999999994,
            59.267619999999994
           ],
           "legendgroup": "",
           "line": {
            "color": "#636efa"
           },
           "lon": [
            18.07653494,
            18.07653494,
            17.91003,
            17.91003
           ],
           "mode": "lines",
           "name": "",
           "showlegend": false,
           "subplot": "mapbox",
           "type": "scattermapbox"
          }
         ],
         "name": "36"
        },
        {
         "data": [
          {
           "customdata": [
            [
             37,
             0,
             0,
             "region"
            ],
            [
             37,
             0,
             0,
             "region"
            ],
            [
             37,
             1,
             15,
             "region"
            ],
            [
             37,
             2,
             0,
             "region"
            ]
           ],
           "hoverlabel": {
            "namelength": 0
           },
           "hovertemplate": "day=%{customdata[0]}<br>timeslot=%{customdata[1]}<br>region=%{customdata[2]}<br>kind=%{customdata[3]}<br>latitude=%{lat}<br>longitude=%{lon}",
           "lat": [
            59.31426096,
            59.31426096,
            59.217780000000005,
            59.31426096
           ],
           "legendgroup": "",
           "line": {
            "color": "#636efa"
           },
           "lon": [
            18.07653494,
            18.07653494,
            17.93892,
            18.07653494
           ],
           "mode": "lines",
           "name": "",
           "showlegend": false,
           "subplot": "mapbox",
           "type": "scattermapbox"
          }
         ],
         "name": "37"
        },
        {
         "data": [
          {
           "customdata": [
            [
             38,
             0,
             0,
             "region"
            ],
            [
             38,
             0,
             0,
             "region"
            ],
            [
             38,
             1,
             39,
             "region"
            ],
            [
             38,
             2,
             0,
             "region"
            ]
           ],
           "hoverlabel": {
            "namelength": 0
           },
           "hovertemplate": "day=%{customdata[0]}<br>timeslot=%{customdata[1]}<br>region=%{customdata[2]}<br>kind=%{customdata[3]}<br>latitude=%{lat}<br>longitude=%{lon}",
           "lat": [
            59.31426096,
            59.31426096,
            59.32535178,
            59.31426096
           ],
           "legendgroup": "",
           "line": {
            "color": "#636efa"
           },
           "lon": [
            18.07653494,
            18.07653494,
            18.09606097,
            18.07653494
           ],
           "mode": "lines",
           "name": "",
           "showlegend": false,
           "subplot": "mapbox",
           "type": "scattermapbox"
          }
         ],
         "name": "38"
        },
        {
         "data": [
          {
           "customdata": [
            [
             39,
             0,
             0,
             "region"
            ],
            [
             39,
             0,
             16,
             "region"
            ],
            [
             39,
             1,
             73,
             "region"
            ],
            [
             39,
             2,
             10,
             "region"
            ]
           ],
           "hoverlabel": {
            "namelength": 0
           },
           "hovertemplate": "day=%{customdata[0]}<br>timeslot=%{customdata[1]}<br>region=%{customdata[2]}<br>kind=%{customdata[3]}<br>latitude=%{lat}<br>longitude=%{lon}",
           "lat": [
            59.31426096,
            59.22078204,
            59.3090821,
            59.32355937
           ],
           "legendgroup": "",
           "line": {
            "color": "#636efa"
           },
           "lon": [
            18.07653494,
            17.9363181,
            18.056026199999998,
            18.096513199999997
           ],
           "mode": "lines",
           "name": "",
           "showlegend": false,
           "subplot": "mapbox",
           "type": "scattermapbox"
          }
         ],
         "name": "39"
        },
        {
         "data": [
          {
           "customdata": [
            [
             40,
             0,
             0,
             "region"
            ],
            [
             40,
             0,
             9,
             "region"
            ],
            [
             40,
             1,
             3,
             "region"
            ],
            [
             40,
             2,
             10,
             "region"
            ]
           ],
           "hoverlabel": {
            "namelength": 0
           },
           "hovertemplate": "day=%{customdata[0]}<br>timeslot=%{customdata[1]}<br>region=%{customdata[2]}<br>kind=%{customdata[3]}<br>latitude=%{lat}<br>longitude=%{lon}",
           "lat": [
            59.31426096,
            59.34305210000001,
            59.36456999999999,
            59.32355937
           ],
           "legendgroup": "",
           "line": {
            "color": "#636efa"
           },
           "lon": [
            18.07653494,
            18.05174887,
            17.97493,
            18.096513199999997
           ],
           "mode": "lines",
           "name": "",
           "showlegend": false,
           "subplot": "mapbox",
           "type": "scattermapbox"
          }
         ],
         "name": "40"
        },
        {
         "data": [
          {
           "customdata": [
            [
             41,
             0,
             0,
             "region"
            ],
            [
             41,
             0,
             0,
             "region"
            ],
            [
             41,
             1,
             10,
             "region"
            ],
            [
             41,
             2,
             51,
             "region"
            ]
           ],
           "hoverlabel": {
            "namelength": 0
           },
           "hovertemplate": "day=%{customdata[0]}<br>timeslot=%{customdata[1]}<br>region=%{customdata[2]}<br>kind=%{customdata[3]}<br>latitude=%{lat}<br>longitude=%{lon}",
           "lat": [
            59.31426096,
            59.31426096,
            59.32355937,
            52.31430875
           ],
           "legendgroup": "",
           "line": {
            "color": "#636efa"
           },
           "lon": [
            18.07653494,
            18.07653494,
            18.096513199999997,
            4.94190716
           ],
           "mode": "lines",
           "name": "",
           "showlegend": false,
           "subplot": "mapbox",
           "type": "scattermapbox"
          }
         ],
         "name": "41"
        },
        {
         "data": [
          {
           "customdata": [
            [
             42,
             0,
             0,
             "region"
            ],
            [
             42,
             0,
             0,
             "region"
            ],
            [
             42,
             1,
             0,
             "region"
            ],
            [
             42,
             2,
             0,
             "region"
            ]
           ],
           "hoverlabel": {
            "namelength": 0
           },
           "hovertemplate": "day=%{customdata[0]}<br>timeslot=%{customdata[1]}<br>region=%{customdata[2]}<br>kind=%{customdata[3]}<br>latitude=%{lat}<br>longitude=%{lon}",
           "lat": [
            59.31426096,
            59.31426096,
            59.31426096,
            59.31426096
           ],
           "legendgroup": "",
           "line": {
            "color": "#636efa"
           },
           "lon": [
            18.07653494,
            18.07653494,
            18.07653494,
            18.07653494
           ],
           "mode": "lines",
           "name": "",
           "showlegend": false,
           "subplot": "mapbox",
           "type": "scattermapbox"
          }
         ],
         "name": "42"
        },
        {
         "data": [
          {
           "customdata": [
            [
             43,
             0,
             0,
             "region"
            ],
            [
             43,
             0,
             0,
             "region"
            ],
            [
             43,
             1,
             -1,
             "point"
            ],
            [
             43,
             2,
             0,
             "region"
            ]
           ],
           "hoverlabel": {
            "namelength": 0
           },
           "hovertemplate": "day=%{customdata[0]}<br>timeslot=%{customdata[1]}<br>region=%{customdata[2]}<br>kind=%{customdata[3]}<br>latitude=%{lat}<br>longitude=%{lon}",
           "lat": [
            59.31426096,
            59.31426096,
            59.31426096,
            59.31426096
           ],
           "legendgroup": "",
           "line": {
            "color": "#636efa"
           },
           "lon": [
            18.07653494,
            18.07653494,
            18.07653494,
            18.07653494
           ],
           "mode": "lines",
           "name": "",
           "showlegend": false,
           "subplot": "mapbox",
           "type": "scattermapbox"
          }
         ],
         "name": "43"
        },
        {
         "data": [
          {
           "customdata": [
            [
             44,
             0,
             0,
             "region"
            ],
            [
             44,
             0,
             0,
             "region"
            ],
            [
             44,
             1,
             9,
             "region"
            ],
            [
             44,
             2,
             0,
             "region"
            ]
           ],
           "hoverlabel": {
            "namelength": 0
           },
           "hovertemplate": "day=%{customdata[0]}<br>timeslot=%{customdata[1]}<br>region=%{customdata[2]}<br>kind=%{customdata[3]}<br>latitude=%{lat}<br>longitude=%{lon}",
           "lat": [
            59.31426096,
            59.31426096,
            59.34305210000001,
            59.31426096
           ],
           "legendgroup": "",
           "line": {
            "color": "#636efa"
           },
           "lon": [
            18.07653494,
            18.07653494,
            18.05174887,
            18.07653494
           ],
           "mode": "lines",
           "name": "",
           "showlegend": false,
           "subplot": "mapbox",
           "type": "scattermapbox"
          }
         ],
         "name": "44"
        },
        {
         "data": [
          {
           "customdata": [
            [
             45,
             0,
             0,
             "region"
            ],
            [
             45,
             0,
             115,
             "region"
            ],
            [
             45,
             1,
             0,
             "region"
            ],
            [
             45,
             2,
             71,
             "region"
            ]
           ],
           "hoverlabel": {
            "namelength": 0
           },
           "hovertemplate": "day=%{customdata[0]}<br>timeslot=%{customdata[1]}<br>region=%{customdata[2]}<br>kind=%{customdata[3]}<br>latitude=%{lat}<br>longitude=%{lon}",
           "lat": [
            59.31426096,
            59.3,
            59.31426096,
            59.3129659
           ],
           "legendgroup": "",
           "line": {
            "color": "#636efa"
           },
           "lon": [
            18.07653494,
            18.1667,
            18.07653494,
            18.068282699999997
           ],
           "mode": "lines",
           "name": "",
           "showlegend": false,
           "subplot": "mapbox",
           "type": "scattermapbox"
          }
         ],
         "name": "45"
        },
        {
         "data": [
          {
           "customdata": [
            [
             46,
             0,
             0,
             "region"
            ],
            [
             46,
             0,
             79,
             "region"
            ],
            [
             46,
             1,
             0,
             "region"
            ],
            [
             46,
             2,
             0,
             "region"
            ]
           ],
           "hoverlabel": {
            "namelength": 0
           },
           "hovertemplate": "day=%{customdata[0]}<br>timeslot=%{customdata[1]}<br>region=%{customdata[2]}<br>kind=%{customdata[3]}<br>latitude=%{lat}<br>longitude=%{lon}",
           "lat": [
            59.31426096,
            59.2943902,
            59.31426096,
            59.31426096
           ],
           "legendgroup": "",
           "line": {
            "color": "#636efa"
           },
           "lon": [
            18.07653494,
            18.0795054,
            18.07653494,
            18.07653494
           ],
           "mode": "lines",
           "name": "",
           "showlegend": false,
           "subplot": "mapbox",
           "type": "scattermapbox"
          }
         ],
         "name": "46"
        },
        {
         "data": [
          {
           "customdata": [
            [
             47,
             0,
             0,
             "region"
            ],
            [
             47,
             0,
             0,
             "region"
            ],
            [
             47,
             1,
             26,
             "region"
            ],
            [
             47,
             2,
             54,
             "region"
            ]
           ],
           "hoverlabel": {
            "namelength": 0
           },
           "hovertemplate": "day=%{customdata[0]}<br>timeslot=%{customdata[1]}<br>region=%{customdata[2]}<br>kind=%{customdata[3]}<br>latitude=%{lat}<br>longitude=%{lon}",
           "lat": [
            59.31426096,
            59.31426096,
            59.339442000000005,
            59.40192
           ],
           "legendgroup": "",
           "line": {
            "color": "#636efa"
           },
           "lon": [
            18.07653494,
            18.07653494,
            18.01222088,
            17.94602
           ],
           "mode": "lines",
           "name": "",
           "showlegend": false,
           "subplot": "mapbox",
           "type": "scattermapbox"
          }
         ],
         "name": "47"
        },
        {
         "data": [
          {
           "customdata": [
            [
             48,
             0,
             0,
             "region"
            ],
            [
             48,
             0,
             0,
             "region"
            ],
            [
             48,
             1,
             69,
             "region"
            ],
            [
             48,
             2,
             23,
             "region"
            ]
           ],
           "hoverlabel": {
            "namelength": 0
           },
           "hovertemplate": "day=%{customdata[0]}<br>timeslot=%{customdata[1]}<br>region=%{customdata[2]}<br>kind=%{customdata[3]}<br>latitude=%{lat}<br>longitude=%{lon}",
           "lat": [
            59.31426096,
            59.31426096,
            59.40306012,
            59.3634682
           ],
           "legendgroup": "",
           "line": {
            "color": "#636efa"
           },
           "lon": [
            18.07653494,
            18.07653494,
            17.94442349,
            17.8727207
           ],
           "mode": "lines",
           "name": "",
           "showlegend": false,
           "subplot": "mapbox",
           "type": "scattermapbox"
          }
         ],
         "name": "48"
        },
        {
         "data": [
          {
           "customdata": [
            [
             49,
             0,
             0,
             "region"
            ],
            [
             49,
             0,
             0,
             "region"
            ],
            [
             49,
             1,
             7,
             "region"
            ],
            [
             49,
             2,
             10,
             "region"
            ]
           ],
           "hoverlabel": {
            "namelength": 0
           },
           "hovertemplate": "day=%{customdata[0]}<br>timeslot=%{customdata[1]}<br>region=%{customdata[2]}<br>kind=%{customdata[3]}<br>latitude=%{lat}<br>longitude=%{lon}",
           "lat": [
            59.31426096,
            59.31426096,
            59.33448582,
            59.32355937
           ],
           "legendgroup": "",
           "line": {
            "color": "#636efa"
           },
           "lon": [
            18.07653494,
            18.07653494,
            18.06427381,
            18.096513199999997
           ],
           "mode": "lines",
           "name": "",
           "showlegend": false,
           "subplot": "mapbox",
           "type": "scattermapbox"
          }
         ],
         "name": "49"
        },
        {
         "data": [
          {
           "customdata": [
            [
             50,
             0,
             0,
             "region"
            ],
            [
             50,
             0,
             -1,
             "point"
            ],
            [
             50,
             1,
             110,
             "region"
            ],
            [
             50,
             2,
             0,
             "region"
            ]
           ],
           "hoverlabel": {
            "namelength": 0
           },
           "hovertemplate": "day=%{customdata[0]}<br>timeslot=%{customdata[1]}<br>region=%{customdata[2]}<br>kind=%{customdata[3]}<br>latitude=%{lat}<br>longitude=%{lon}",
           "lat": [
            59.31426096,
            59.31507397818495,
            59.3917989,
            59.31426096
           ],
           "legendgroup": "",
           "line": {
            "color": "#636efa"
           },
           "lon": [
            18.07653494,
            18.076400739461526,
            18.0387252,
            18.07653494
           ],
           "mode": "lines",
           "name": "",
           "showlegend": false,
           "subplot": "mapbox",
           "type": "scattermapbox"
          }
         ],
         "name": "50"
        },
        {
         "data": [
          {
           "customdata": [
            [
             51,
             0,
             0,
             "region"
            ],
            [
             51,
             0,
             9,
             "region"
            ],
            [
             51,
             1,
             15,
             "region"
            ],
            [
             51,
             2,
             10,
             "region"
            ]
           ],
           "hoverlabel": {
            "namelength": 0
           },
           "hovertemplate": "day=%{customdata[0]}<br>timeslot=%{customdata[1]}<br>region=%{customdata[2]}<br>kind=%{customdata[3]}<br>latitude=%{lat}<br>longitude=%{lon}",
           "lat": [
            59.31426096,
            59.34305210000001,
            59.217780000000005,
            59.32355937
           ],
           "legendgroup": "",
           "line": {
            "color": "#636efa"
           },
           "lon": [
            18.07653494,
            18.05174887,
            17.93892,
            18.096513199999997
           ],
           "mode": "lines",
           "name": "",
           "showlegend": false,
           "subplot": "mapbox",
           "type": "scattermapbox"
          }
         ],
         "name": "51"
        },
        {
         "data": [
          {
           "customdata": [
            [
             52,
             0,
             0,
             "region"
            ],
            [
             52,
             0,
             0,
             "region"
            ],
            [
             52,
             1,
             10,
             "region"
            ],
            [
             52,
             2,
             0,
             "region"
            ]
           ],
           "hoverlabel": {
            "namelength": 0
           },
           "hovertemplate": "day=%{customdata[0]}<br>timeslot=%{customdata[1]}<br>region=%{customdata[2]}<br>kind=%{customdata[3]}<br>latitude=%{lat}<br>longitude=%{lon}",
           "lat": [
            59.31426096,
            59.31426096,
            59.32355937,
            59.31426096
           ],
           "legendgroup": "",
           "line": {
            "color": "#636efa"
           },
           "lon": [
            18.07653494,
            18.07653494,
            18.096513199999997,
            18.07653494
           ],
           "mode": "lines",
           "name": "",
           "showlegend": false,
           "subplot": "mapbox",
           "type": "scattermapbox"
          }
         ],
         "name": "52"
        },
        {
         "data": [
          {
           "customdata": [
            [
             53,
             0,
             0,
             "region"
            ],
            [
             53,
             0,
             8,
             "region"
            ],
            [
             53,
             1,
             0,
             "region"
            ],
            [
             53,
             2,
             63,
             "region"
            ]
           ],
           "hoverlabel": {
            "namelength": 0
           },
           "hovertemplate": "day=%{customdata[0]}<br>timeslot=%{customdata[1]}<br>region=%{customdata[2]}<br>kind=%{customdata[3]}<br>latitude=%{lat}<br>longitude=%{lon}",
           "lat": [
            59.31426096,
            59.34313992,
            59.31426096,
            59.28549209
           ],
           "legendgroup": "",
           "line": {
            "color": "#636efa"
           },
           "lon": [
            18.07653494,
            18.08549566,
            18.07653494,
            18.09486998
           ],
           "mode": "lines",
           "name": "",
           "showlegend": false,
           "subplot": "mapbox",
           "type": "scattermapbox"
          }
         ],
         "name": "53"
        },
        {
         "data": [
          {
           "customdata": [
            [
             54,
             0,
             0,
             "region"
            ],
            [
             54,
             0,
             26,
             "region"
            ],
            [
             54,
             1,
             10,
             "region"
            ],
            [
             54,
             2,
             0,
             "region"
            ]
           ],
           "hoverlabel": {
            "namelength": 0
           },
           "hovertemplate": "day=%{customdata[0]}<br>timeslot=%{customdata[1]}<br>region=%{customdata[2]}<br>kind=%{customdata[3]}<br>latitude=%{lat}<br>longitude=%{lon}",
           "lat": [
            59.31426096,
            59.339442000000005,
            59.32355937,
            59.31426096
           ],
           "legendgroup": "",
           "line": {
            "color": "#636efa"
           },
           "lon": [
            18.07653494,
            18.01222088,
            18.096513199999997,
            18.07653494
           ],
           "mode": "lines",
           "name": "",
           "showlegend": false,
           "subplot": "mapbox",
           "type": "scattermapbox"
          }
         ],
         "name": "54"
        },
        {
         "data": [
          {
           "customdata": [
            [
             55,
             0,
             0,
             "region"
            ],
            [
             55,
             0,
             10,
             "region"
            ],
            [
             55,
             1,
             0,
             "region"
            ],
            [
             55,
             2,
             0,
             "region"
            ]
           ],
           "hoverlabel": {
            "namelength": 0
           },
           "hovertemplate": "day=%{customdata[0]}<br>timeslot=%{customdata[1]}<br>region=%{customdata[2]}<br>kind=%{customdata[3]}<br>latitude=%{lat}<br>longitude=%{lon}",
           "lat": [
            59.31426096,
            59.32355937,
            59.31426096,
            59.31426096
           ],
           "legendgroup": "",
           "line": {
            "color": "#636efa"
           },
           "lon": [
            18.07653494,
            18.096513199999997,
            18.07653494,
            18.07653494
           ],
           "mode": "lines",
           "name": "",
           "showlegend": false,
           "subplot": "mapbox",
           "type": "scattermapbox"
          }
         ],
         "name": "55"
        },
        {
         "data": [
          {
           "customdata": [
            [
             56,
             0,
             0,
             "region"
            ],
            [
             56,
             0,
             1,
             "region"
            ],
            [
             56,
             1,
             0,
             "region"
            ],
            [
             56,
             2,
             0,
             "region"
            ]
           ],
           "hoverlabel": {
            "namelength": 0
           },
           "hovertemplate": "day=%{customdata[0]}<br>timeslot=%{customdata[1]}<br>region=%{customdata[2]}<br>kind=%{customdata[3]}<br>latitude=%{lat}<br>longitude=%{lon}",
           "lat": [
            59.31426096,
            59.3685,
            59.31426096,
            59.31426096
           ],
           "legendgroup": "",
           "line": {
            "color": "#636efa"
           },
           "lon": [
            18.07653494,
            17.96702,
            18.07653494,
            18.07653494
           ],
           "mode": "lines",
           "name": "",
           "showlegend": false,
           "subplot": "mapbox",
           "type": "scattermapbox"
          }
         ],
         "name": "56"
        },
        {
         "data": [
          {
           "customdata": [
            [
             57,
             0,
             0,
             "region"
            ],
            [
             57,
             0,
             9,
             "region"
            ],
            [
             57,
             1,
             3,
             "region"
            ],
            [
             57,
             2,
             0,
             "region"
            ]
           ],
           "hoverlabel": {
            "namelength": 0
           },
           "hovertemplate": "day=%{customdata[0]}<br>timeslot=%{customdata[1]}<br>region=%{customdata[2]}<br>kind=%{customdata[3]}<br>latitude=%{lat}<br>longitude=%{lon}",
           "lat": [
            59.31426096,
            59.34305210000001,
            59.36456999999999,
            59.31426096
           ],
           "legendgroup": "",
           "line": {
            "color": "#636efa"
           },
           "lon": [
            18.07653494,
            18.05174887,
            17.97493,
            18.07653494
           ],
           "mode": "lines",
           "name": "",
           "showlegend": false,
           "subplot": "mapbox",
           "type": "scattermapbox"
          }
         ],
         "name": "57"
        },
        {
         "data": [
          {
           "customdata": [
            [
             58,
             0,
             0,
             "region"
            ],
            [
             58,
             0,
             45,
             "region"
            ],
            [
             58,
             1,
             8,
             "region"
            ],
            [
             58,
             2,
             0,
             "region"
            ]
           ],
           "hoverlabel": {
            "namelength": 0
           },
           "hovertemplate": "day=%{customdata[0]}<br>timeslot=%{customdata[1]}<br>region=%{customdata[2]}<br>kind=%{customdata[3]}<br>latitude=%{lat}<br>longitude=%{lon}",
           "lat": [
            59.31426096,
            59.33348,
            59.34313992,
            59.31426096
           ],
           "legendgroup": "",
           "line": {
            "color": "#636efa"
           },
           "lon": [
            18.07653494,
            18.032239999999998,
            18.08549566,
            18.07653494
           ],
           "mode": "lines",
           "name": "",
           "showlegend": false,
           "subplot": "mapbox",
           "type": "scattermapbox"
          }
         ],
         "name": "58"
        },
        {
         "data": [
          {
           "customdata": [
            [
             59,
             0,
             0,
             "region"
            ],
            [
             59,
             0,
             10,
             "region"
            ],
            [
             59,
             1,
             0,
             "region"
            ],
            [
             59,
             2,
             0,
             "region"
            ]
           ],
           "hoverlabel": {
            "namelength": 0
           },
           "hovertemplate": "day=%{customdata[0]}<br>timeslot=%{customdata[1]}<br>region=%{customdata[2]}<br>kind=%{customdata[3]}<br>latitude=%{lat}<br>longitude=%{lon}",
           "lat": [
            59.31426096,
            59.32355937,
            59.31426096,
            59.31426096
           ],
           "legendgroup": "",
           "line": {
            "color": "#636efa"
           },
           "lon": [
            18.07653494,
            18.096513199999997,
            18.07653494,
            18.07653494
           ],
           "mode": "lines",
           "name": "",
           "showlegend": false,
           "subplot": "mapbox",
           "type": "scattermapbox"
          }
         ],
         "name": "59"
        },
        {
         "data": [
          {
           "customdata": [
            [
             60,
             0,
             0,
             "region"
            ],
            [
             60,
             0,
             0,
             "region"
            ],
            [
             60,
             1,
             71,
             "region"
            ],
            [
             60,
             2,
             114,
             "region"
            ]
           ],
           "hoverlabel": {
            "namelength": 0
           },
           "hovertemplate": "day=%{customdata[0]}<br>timeslot=%{customdata[1]}<br>region=%{customdata[2]}<br>kind=%{customdata[3]}<br>latitude=%{lat}<br>longitude=%{lon}",
           "lat": [
            59.31426096,
            59.31426096,
            59.3129659,
            59.3307
           ],
           "legendgroup": "",
           "line": {
            "color": "#636efa"
           },
           "lon": [
            18.07653494,
            18.07653494,
            18.068282699999997,
            18.0605
           ],
           "mode": "lines",
           "name": "",
           "showlegend": false,
           "subplot": "mapbox",
           "type": "scattermapbox"
          }
         ],
         "name": "60"
        },
        {
         "data": [
          {
           "customdata": [
            [
             61,
             0,
             0,
             "region"
            ],
            [
             61,
             0,
             0,
             "region"
            ],
            [
             61,
             1,
             0,
             "region"
            ],
            [
             61,
             2,
             10,
             "region"
            ]
           ],
           "hoverlabel": {
            "namelength": 0
           },
           "hovertemplate": "day=%{customdata[0]}<br>timeslot=%{customdata[1]}<br>region=%{customdata[2]}<br>kind=%{customdata[3]}<br>latitude=%{lat}<br>longitude=%{lon}",
           "lat": [
            59.31426096,
            59.31426096,
            59.31426096,
            59.32355937
           ],
           "legendgroup": "",
           "line": {
            "color": "#636efa"
           },
           "lon": [
            18.07653494,
            18.07653494,
            18.07653494,
            18.096513199999997
           ],
           "mode": "lines",
           "name": "",
           "showlegend": false,
           "subplot": "mapbox",
           "type": "scattermapbox"
          }
         ],
         "name": "61"
        },
        {
         "data": [
          {
           "customdata": [
            [
             62,
             0,
             0,
             "region"
            ],
            [
             62,
             0,
             0,
             "region"
            ],
            [
             62,
             1,
             3,
             "region"
            ],
            [
             62,
             2,
             0,
             "region"
            ]
           ],
           "hoverlabel": {
            "namelength": 0
           },
           "hovertemplate": "day=%{customdata[0]}<br>timeslot=%{customdata[1]}<br>region=%{customdata[2]}<br>kind=%{customdata[3]}<br>latitude=%{lat}<br>longitude=%{lon}",
           "lat": [
            59.31426096,
            59.31426096,
            59.36456999999999,
            59.31426096
           ],
           "legendgroup": "",
           "line": {
            "color": "#636efa"
           },
           "lon": [
            18.07653494,
            18.07653494,
            17.97493,
            18.07653494
           ],
           "mode": "lines",
           "name": "",
           "showlegend": false,
           "subplot": "mapbox",
           "type": "scattermapbox"
          }
         ],
         "name": "62"
        },
        {
         "data": [
          {
           "customdata": [
            [
             63,
             0,
             0,
             "region"
            ],
            [
             63,
             0,
             0,
             "region"
            ],
            [
             63,
             1,
             10,
             "region"
            ],
            [
             63,
             2,
             0,
             "region"
            ]
           ],
           "hoverlabel": {
            "namelength": 0
           },
           "hovertemplate": "day=%{customdata[0]}<br>timeslot=%{customdata[1]}<br>region=%{customdata[2]}<br>kind=%{customdata[3]}<br>latitude=%{lat}<br>longitude=%{lon}",
           "lat": [
            59.31426096,
            59.31426096,
            59.32355937,
            59.31426096
           ],
           "legendgroup": "",
           "line": {
            "color": "#636efa"
           },
           "lon": [
            18.07653494,
            18.07653494,
            18.096513199999997,
            18.07653494
           ],
           "mode": "lines",
           "name": "",
           "showlegend": false,
           "subplot": "mapbox",
           "type": "scattermapbox"
          }
         ],
         "name": "63"
        },
        {
         "data": [
          {
           "customdata": [
            [
             64,
             0,
             0,
             "region"
            ],
            [
             64,
             0,
             0,
             "region"
            ],
            [
             64,
             1,
             0,
             "region"
            ],
            [
             64,
             2,
             16,
             "region"
            ]
           ],
           "hoverlabel": {
            "namelength": 0
           },
           "hovertemplate": "day=%{customdata[0]}<br>timeslot=%{customdata[1]}<br>region=%{customdata[2]}<br>kind=%{customdata[3]}<br>latitude=%{lat}<br>longitude=%{lon}",
           "lat": [
            59.31426096,
            59.31426096,
            59.31426096,
            59.22078204
           ],
           "legendgroup": "",
           "line": {
            "color": "#636efa"
           },
           "lon": [
            18.07653494,
            18.07653494,
            18.07653494,
            17.9363181
           ],
           "mode": "lines",
           "name": "",
           "showlegend": false,
           "subplot": "mapbox",
           "type": "scattermapbox"
          }
         ],
         "name": "64"
        },
        {
         "data": [
          {
           "customdata": [
            [
             65,
             0,
             0,
             "region"
            ],
            [
             65,
             0,
             0,
             "region"
            ],
            [
             65,
             1,
             0,
             "region"
            ],
            [
             65,
             2,
             10,
             "region"
            ]
           ],
           "hoverlabel": {
            "namelength": 0
           },
           "hovertemplate": "day=%{customdata[0]}<br>timeslot=%{customdata[1]}<br>region=%{customdata[2]}<br>kind=%{customdata[3]}<br>latitude=%{lat}<br>longitude=%{lon}",
           "lat": [
            59.31426096,
            59.31426096,
            59.31426096,
            59.32355937
           ],
           "legendgroup": "",
           "line": {
            "color": "#636efa"
           },
           "lon": [
            18.07653494,
            18.07653494,
            18.07653494,
            18.096513199999997
           ],
           "mode": "lines",
           "name": "",
           "showlegend": false,
           "subplot": "mapbox",
           "type": "scattermapbox"
          }
         ],
         "name": "65"
        },
        {
         "data": [
          {
           "customdata": [
            [
             66,
             0,
             0,
             "region"
            ],
            [
             66,
             0,
             0,
             "region"
            ],
            [
             66,
             1,
             113,
             "region"
            ],
            [
             66,
             2,
             3,
             "region"
            ]
           ],
           "hoverlabel": {
            "namelength": 0
           },
           "hovertemplate": "day=%{customdata[0]}<br>timeslot=%{customdata[1]}<br>region=%{customdata[2]}<br>kind=%{customdata[3]}<br>latitude=%{lat}<br>longitude=%{lon}",
           "lat": [
            59.31426096,
            59.31426096,
            59.33571,
            59.36456999999999
           ],
           "legendgroup": "",
           "line": {
            "color": "#636efa"
           },
           "lon": [
            18.07653494,
            18.07653494,
            18.0615,
            17.97493
           ],
           "mode": "lines",
           "name": "",
           "showlegend": false,
           "subplot": "mapbox",
           "type": "scattermapbox"
          }
         ],
         "name": "66"
        },
        {
         "data": [
          {
           "customdata": [
            [
             67,
             0,
             0,
             "region"
            ],
            [
             67,
             0,
             10,
             "region"
            ],
            [
             67,
             1,
             0,
             "region"
            ],
            [
             67,
             2,
             10,
             "region"
            ]
           ],
           "hoverlabel": {
            "namelength": 0
           },
           "hovertemplate": "day=%{customdata[0]}<br>timeslot=%{customdata[1]}<br>region=%{customdata[2]}<br>kind=%{customdata[3]}<br>latitude=%{lat}<br>longitude=%{lon}",
           "lat": [
            59.31426096,
            59.32355937,
            59.31426096,
            59.32355937
           ],
           "legendgroup": "",
           "line": {
            "color": "#636efa"
           },
           "lon": [
            18.07653494,
            18.096513199999997,
            18.07653494,
            18.096513199999997
           ],
           "mode": "lines",
           "name": "",
           "showlegend": false,
           "subplot": "mapbox",
           "type": "scattermapbox"
          }
         ],
         "name": "67"
        },
        {
         "data": [
          {
           "customdata": [
            [
             68,
             0,
             0,
             "region"
            ],
            [
             68,
             0,
             9,
             "region"
            ],
            [
             68,
             1,
             80,
             "region"
            ],
            [
             68,
             2,
             8,
             "region"
            ]
           ],
           "hoverlabel": {
            "namelength": 0
           },
           "hovertemplate": "day=%{customdata[0]}<br>timeslot=%{customdata[1]}<br>region=%{customdata[2]}<br>kind=%{customdata[3]}<br>latitude=%{lat}<br>longitude=%{lon}",
           "lat": [
            59.31426096,
            59.34305210000001,
            59.24286046,
            59.34313992
           ],
           "legendgroup": "",
           "line": {
            "color": "#636efa"
           },
           "lon": [
            18.07653494,
            18.05174887,
            18.2140462,
            18.08549566
           ],
           "mode": "lines",
           "name": "",
           "showlegend": false,
           "subplot": "mapbox",
           "type": "scattermapbox"
          }
         ],
         "name": "68"
        },
        {
         "data": [
          {
           "customdata": [
            [
             69,
             0,
             0,
             "region"
            ],
            [
             69,
             0,
             106,
             "region"
            ],
            [
             69,
             1,
             0,
             "region"
            ],
            [
             69,
             2,
             31,
             "region"
            ]
           ],
           "hoverlabel": {
            "namelength": 0
           },
           "hovertemplate": "day=%{customdata[0]}<br>timeslot=%{customdata[1]}<br>region=%{customdata[2]}<br>kind=%{customdata[3]}<br>latitude=%{lat}<br>longitude=%{lon}",
           "lat": [
            59.31426096,
            59.290240000000004,
            59.31426096,
            59.31206825
           ],
           "legendgroup": "",
           "line": {
            "color": "#636efa"
           },
           "lon": [
            18.07653494,
            18.11672,
            18.07653494,
            18.07390065
           ],
           "mode": "lines",
           "name": "",
           "showlegend": false,
           "subplot": "mapbox",
           "type": "scattermapbox"
          }
         ],
         "name": "69"
        },
        {
         "data": [
          {
           "customdata": [
            [
             70,
             0,
             0,
             "region"
            ],
            [
             70,
             0,
             10,
             "region"
            ],
            [
             70,
             1,
             2,
             "region"
            ],
            [
             70,
             2,
             10,
             "region"
            ]
           ],
           "hoverlabel": {
            "namelength": 0
           },
           "hovertemplate": "day=%{customdata[0]}<br>timeslot=%{customdata[1]}<br>region=%{customdata[2]}<br>kind=%{customdata[3]}<br>latitude=%{lat}<br>longitude=%{lon}",
           "lat": [
            59.31426096,
            59.32355937,
            59.33328258,
            59.32355937
           ],
           "legendgroup": "",
           "line": {
            "color": "#636efa"
           },
           "lon": [
            18.07653494,
            18.096513199999997,
            18.06781588,
            18.096513199999997
           ],
           "mode": "lines",
           "name": "",
           "showlegend": false,
           "subplot": "mapbox",
           "type": "scattermapbox"
          }
         ],
         "name": "70"
        },
        {
         "data": [
          {
           "customdata": [
            [
             71,
             0,
             0,
             "region"
            ],
            [
             71,
             0,
             0,
             "region"
            ],
            [
             71,
             1,
             9,
             "region"
            ],
            [
             71,
             2,
             -1,
             "point"
            ]
           ],
           "hoverlabel": {
            "namelength": 0
           },
           "hovertemplate": "day=%{customdata[0]}<br>timeslot=%{customdata[1]}<br>region=%{customdata[2]}<br>kind=%{customdata[3]}<br>latitude=%{lat}<br>longitude=%{lon}",
           "lat": [
            59.31426096,
            59.31426096,
            59.34305210000001,
            59.34344727468387
           ],
           "legendgroup": "",
           "line": {
            "color": "#636efa"
           },
           "lon": [
            18.07653494,
            18.07653494,
            18.05174887,
            18.05130926204068
           ],
           "mode": "lines",
           "name": "",
           "showlegend": false,
           "subplot": "mapbox",
           "type": "scattermapbox"
          }
         ],
         "name": "71"
        },
        {
         "data": [
          {
           "customdata": [
            [
             72,
             0,
             0,
             "region"
            ],
            [
             72,
             0,
             0,
             "region"
            ],
            [
             72,
             1,
             0,
             "region"
            ],
            [
             72,
             2,
             31,
             "region"
            ]
           ],
           "hoverlabel": {
            "namelength": 0
           },
           "hovertemplate": "day=%{customdata[0]}<br>timeslot=%{customdata[1]}<br>region=%{customdata[2]}<br>kind=%{customdata[3]}<br>latitude=%{lat}<br>longitude=%{lon}",
           "lat": [
            59.31426096,
            59.31426096,
            59.31426096,
            59.31206825
           ],
           "legendgroup": "",
           "line": {
            "color": "#636efa"
           },
           "lon": [
            18.07653494,
            18.07653494,
            18.07653494,
            18.07390065
           ],
           "mode": "lines",
           "name": "",
           "showlegend": false,
           "subplot": "mapbox",
           "type": "scattermapbox"
          }
         ],
         "name": "72"
        },
        {
         "data": [
          {
           "customdata": [
            [
             73,
             0,
             0,
             "region"
            ],
            [
             73,
             0,
             0,
             "region"
            ],
            [
             73,
             1,
             0,
             "region"
            ],
            [
             73,
             2,
             3,
             "region"
            ]
           ],
           "hoverlabel": {
            "namelength": 0
           },
           "hovertemplate": "day=%{customdata[0]}<br>timeslot=%{customdata[1]}<br>region=%{customdata[2]}<br>kind=%{customdata[3]}<br>latitude=%{lat}<br>longitude=%{lon}",
           "lat": [
            59.31426096,
            59.31426096,
            59.31426096,
            59.36456999999999
           ],
           "legendgroup": "",
           "line": {
            "color": "#636efa"
           },
           "lon": [
            18.07653494,
            18.07653494,
            18.07653494,
            17.97493
           ],
           "mode": "lines",
           "name": "",
           "showlegend": false,
           "subplot": "mapbox",
           "type": "scattermapbox"
          }
         ],
         "name": "73"
        },
        {
         "data": [
          {
           "customdata": [
            [
             74,
             0,
             0,
             "region"
            ],
            [
             74,
             0,
             15,
             "region"
            ],
            [
             74,
             1,
             0,
             "region"
            ],
            [
             74,
             2,
             16,
             "region"
            ]
           ],
           "hoverlabel": {
            "namelength": 0
           },
           "hovertemplate": "day=%{customdata[0]}<br>timeslot=%{customdata[1]}<br>region=%{customdata[2]}<br>kind=%{customdata[3]}<br>latitude=%{lat}<br>longitude=%{lon}",
           "lat": [
            59.31426096,
            59.217780000000005,
            59.31426096,
            59.22078204
           ],
           "legendgroup": "",
           "line": {
            "color": "#636efa"
           },
           "lon": [
            18.07653494,
            17.93892,
            18.07653494,
            17.9363181
           ],
           "mode": "lines",
           "name": "",
           "showlegend": false,
           "subplot": "mapbox",
           "type": "scattermapbox"
          }
         ],
         "name": "74"
        },
        {
         "data": [
          {
           "customdata": [
            [
             75,
             0,
             0,
             "region"
            ],
            [
             75,
             0,
             0,
             "region"
            ],
            [
             75,
             1,
             3,
             "region"
            ],
            [
             75,
             2,
             0,
             "region"
            ]
           ],
           "hoverlabel": {
            "namelength": 0
           },
           "hovertemplate": "day=%{customdata[0]}<br>timeslot=%{customdata[1]}<br>region=%{customdata[2]}<br>kind=%{customdata[3]}<br>latitude=%{lat}<br>longitude=%{lon}",
           "lat": [
            59.31426096,
            59.31426096,
            59.36456999999999,
            59.31426096
           ],
           "legendgroup": "",
           "line": {
            "color": "#636efa"
           },
           "lon": [
            18.07653494,
            18.07653494,
            17.97493,
            18.07653494
           ],
           "mode": "lines",
           "name": "",
           "showlegend": false,
           "subplot": "mapbox",
           "type": "scattermapbox"
          }
         ],
         "name": "75"
        },
        {
         "data": [
          {
           "customdata": [
            [
             76,
             0,
             0,
             "region"
            ],
            [
             76,
             0,
             8,
             "region"
            ],
            [
             76,
             1,
             0,
             "region"
            ],
            [
             76,
             2,
             0,
             "region"
            ]
           ],
           "hoverlabel": {
            "namelength": 0
           },
           "hovertemplate": "day=%{customdata[0]}<br>timeslot=%{customdata[1]}<br>region=%{customdata[2]}<br>kind=%{customdata[3]}<br>latitude=%{lat}<br>longitude=%{lon}",
           "lat": [
            59.31426096,
            59.34313992,
            59.31426096,
            59.31426096
           ],
           "legendgroup": "",
           "line": {
            "color": "#636efa"
           },
           "lon": [
            18.07653494,
            18.08549566,
            18.07653494,
            18.07653494
           ],
           "mode": "lines",
           "name": "",
           "showlegend": false,
           "subplot": "mapbox",
           "type": "scattermapbox"
          }
         ],
         "name": "76"
        },
        {
         "data": [
          {
           "customdata": [
            [
             77,
             0,
             0,
             "region"
            ],
            [
             77,
             0,
             0,
             "region"
            ],
            [
             77,
             1,
             9,
             "region"
            ],
            [
             77,
             2,
             10,
             "region"
            ]
           ],
           "hoverlabel": {
            "namelength": 0
           },
           "hovertemplate": "day=%{customdata[0]}<br>timeslot=%{customdata[1]}<br>region=%{customdata[2]}<br>kind=%{customdata[3]}<br>latitude=%{lat}<br>longitude=%{lon}",
           "lat": [
            59.31426096,
            59.31426096,
            59.34305210000001,
            59.32355937
           ],
           "legendgroup": "",
           "line": {
            "color": "#636efa"
           },
           "lon": [
            18.07653494,
            18.07653494,
            18.05174887,
            18.096513199999997
           ],
           "mode": "lines",
           "name": "",
           "showlegend": false,
           "subplot": "mapbox",
           "type": "scattermapbox"
          }
         ],
         "name": "77"
        },
        {
         "data": [
          {
           "customdata": [
            [
             78,
             0,
             0,
             "region"
            ],
            [
             78,
             0,
             0,
             "region"
            ],
            [
             78,
             1,
             0,
             "region"
            ],
            [
             78,
             2,
             0,
             "region"
            ]
           ],
           "hoverlabel": {
            "namelength": 0
           },
           "hovertemplate": "day=%{customdata[0]}<br>timeslot=%{customdata[1]}<br>region=%{customdata[2]}<br>kind=%{customdata[3]}<br>latitude=%{lat}<br>longitude=%{lon}",
           "lat": [
            59.31426096,
            59.31426096,
            59.31426096,
            59.31426096
           ],
           "legendgroup": "",
           "line": {
            "color": "#636efa"
           },
           "lon": [
            18.07653494,
            18.07653494,
            18.07653494,
            18.07653494
           ],
           "mode": "lines",
           "name": "",
           "showlegend": false,
           "subplot": "mapbox",
           "type": "scattermapbox"
          }
         ],
         "name": "78"
        },
        {
         "data": [
          {
           "customdata": [
            [
             79,
             0,
             0,
             "region"
            ],
            [
             79,
             0,
             0,
             "region"
            ],
            [
             79,
             1,
             6,
             "region"
            ],
            [
             79,
             2,
             0,
             "region"
            ]
           ],
           "hoverlabel": {
            "namelength": 0
           },
           "hovertemplate": "day=%{customdata[0]}<br>timeslot=%{customdata[1]}<br>region=%{customdata[2]}<br>kind=%{customdata[3]}<br>latitude=%{lat}<br>longitude=%{lon}",
           "lat": [
            59.31426096,
            59.31426096,
            59.332440000000005,
            59.31426096
           ],
           "legendgroup": "",
           "line": {
            "color": "#636efa"
           },
           "lon": [
            18.07653494,
            18.07653494,
            18.06718,
            18.07653494
           ],
           "mode": "lines",
           "name": "",
           "showlegend": false,
           "subplot": "mapbox",
           "type": "scattermapbox"
          }
         ],
         "name": "79"
        },
        {
         "data": [
          {
           "customdata": [
            [
             80,
             0,
             0,
             "region"
            ],
            [
             80,
             0,
             25,
             "region"
            ],
            [
             80,
             1,
             0,
             "region"
            ],
            [
             80,
             2,
             0,
             "region"
            ]
           ],
           "hoverlabel": {
            "namelength": 0
           },
           "hovertemplate": "day=%{customdata[0]}<br>timeslot=%{customdata[1]}<br>region=%{customdata[2]}<br>kind=%{customdata[3]}<br>latitude=%{lat}<br>longitude=%{lon}",
           "lat": [
            59.31426096,
            59.34166178,
            59.31426096,
            59.31426096
           ],
           "legendgroup": "",
           "line": {
            "color": "#636efa"
           },
           "lon": [
            18.07653494,
            18.0641776,
            18.07653494,
            18.07653494
           ],
           "mode": "lines",
           "name": "",
           "showlegend": false,
           "subplot": "mapbox",
           "type": "scattermapbox"
          }
         ],
         "name": "80"
        },
        {
         "data": [
          {
           "customdata": [
            [
             81,
             0,
             0,
             "region"
            ],
            [
             81,
             0,
             0,
             "region"
            ],
            [
             81,
             1,
             3,
             "region"
            ],
            [
             81,
             2,
             10,
             "region"
            ]
           ],
           "hoverlabel": {
            "namelength": 0
           },
           "hovertemplate": "day=%{customdata[0]}<br>timeslot=%{customdata[1]}<br>region=%{customdata[2]}<br>kind=%{customdata[3]}<br>latitude=%{lat}<br>longitude=%{lon}",
           "lat": [
            59.31426096,
            59.31426096,
            59.36456999999999,
            59.32355937
           ],
           "legendgroup": "",
           "line": {
            "color": "#636efa"
           },
           "lon": [
            18.07653494,
            18.07653494,
            17.97493,
            18.096513199999997
           ],
           "mode": "lines",
           "name": "",
           "showlegend": false,
           "subplot": "mapbox",
           "type": "scattermapbox"
          }
         ],
         "name": "81"
        },
        {
         "data": [
          {
           "customdata": [
            [
             82,
             0,
             0,
             "region"
            ],
            [
             82,
             0,
             108,
             "region"
            ],
            [
             82,
             1,
             92,
             "region"
            ],
            [
             82,
             2,
             10,
             "region"
            ]
           ],
           "hoverlabel": {
            "namelength": 0
           },
           "hovertemplate": "day=%{customdata[0]}<br>timeslot=%{customdata[1]}<br>region=%{customdata[2]}<br>kind=%{customdata[3]}<br>latitude=%{lat}<br>longitude=%{lon}",
           "lat": [
            59.31426096,
            59.34069531,
            59.33435,
            59.32355937
           ],
           "legendgroup": "",
           "line": {
            "color": "#636efa"
           },
           "lon": [
            18.07653494,
            18.10974437,
            18.07549,
            18.096513199999997
           ],
           "mode": "lines",
           "name": "",
           "showlegend": false,
           "subplot": "mapbox",
           "type": "scattermapbox"
          }
         ],
         "name": "82"
        },
        {
         "data": [
          {
           "customdata": [
            [
             83,
             0,
             0,
             "region"
            ],
            [
             83,
             0,
             -1,
             "point"
            ],
            [
             83,
             1,
             8,
             "region"
            ],
            [
             83,
             2,
             9,
             "region"
            ]
           ],
           "hoverlabel": {
            "namelength": 0
           },
           "hovertemplate": "day=%{customdata[0]}<br>timeslot=%{customdata[1]}<br>region=%{customdata[2]}<br>kind=%{customdata[3]}<br>latitude=%{lat}<br>longitude=%{lon}",
           "lat": [
            59.31426096,
            59.31426096,
            59.34313992,
            59.34305210000001
           ],
           "legendgroup": "",
           "line": {
            "color": "#636efa"
           },
           "lon": [
            18.07653494,
            18.07653494,
            18.08549566,
            18.05174887
           ],
           "mode": "lines",
           "name": "",
           "showlegend": false,
           "subplot": "mapbox",
           "type": "scattermapbox"
          }
         ],
         "name": "83"
        },
        {
         "data": [
          {
           "customdata": [
            [
             84,
             0,
             0,
             "region"
            ],
            [
             84,
             0,
             35,
             "region"
            ],
            [
             84,
             1,
             3,
             "region"
            ],
            [
             84,
             2,
             10,
             "region"
            ]
           ],
           "hoverlabel": {
            "namelength": 0
           },
           "hovertemplate": "day=%{customdata[0]}<br>timeslot=%{customdata[1]}<br>region=%{customdata[2]}<br>kind=%{customdata[3]}<br>latitude=%{lat}<br>longitude=%{lon}",
           "lat": [
            59.31426096,
            59.311120200000005,
            59.36456999999999,
            59.32355937
           ],
           "legendgroup": "",
           "line": {
            "color": "#636efa"
           },
           "lon": [
            18.07653494,
            18.4218367,
            17.97493,
            18.096513199999997
           ],
           "mode": "lines",
           "name": "",
           "showlegend": false,
           "subplot": "mapbox",
           "type": "scattermapbox"
          }
         ],
         "name": "84"
        },
        {
         "data": [
          {
           "customdata": [
            [
             85,
             0,
             0,
             "region"
            ],
            [
             85,
             0,
             10,
             "region"
            ],
            [
             85,
             1,
             0,
             "region"
            ],
            [
             85,
             2,
             0,
             "region"
            ]
           ],
           "hoverlabel": {
            "namelength": 0
           },
           "hovertemplate": "day=%{customdata[0]}<br>timeslot=%{customdata[1]}<br>region=%{customdata[2]}<br>kind=%{customdata[3]}<br>latitude=%{lat}<br>longitude=%{lon}",
           "lat": [
            59.31426096,
            59.32355937,
            59.31426096,
            59.31426096
           ],
           "legendgroup": "",
           "line": {
            "color": "#636efa"
           },
           "lon": [
            18.07653494,
            18.096513199999997,
            18.07653494,
            18.07653494
           ],
           "mode": "lines",
           "name": "",
           "showlegend": false,
           "subplot": "mapbox",
           "type": "scattermapbox"
          }
         ],
         "name": "85"
        },
        {
         "data": [
          {
           "customdata": [
            [
             86,
             0,
             0,
             "region"
            ],
            [
             86,
             0,
             0,
             "region"
            ],
            [
             86,
             1,
             10,
             "region"
            ],
            [
             86,
             2,
             0,
             "region"
            ]
           ],
           "hoverlabel": {
            "namelength": 0
           },
           "hovertemplate": "day=%{customdata[0]}<br>timeslot=%{customdata[1]}<br>region=%{customdata[2]}<br>kind=%{customdata[3]}<br>latitude=%{lat}<br>longitude=%{lon}",
           "lat": [
            59.31426096,
            59.31426096,
            59.32355937,
            59.31426096
           ],
           "legendgroup": "",
           "line": {
            "color": "#636efa"
           },
           "lon": [
            18.07653494,
            18.07653494,
            18.096513199999997,
            18.07653494
           ],
           "mode": "lines",
           "name": "",
           "showlegend": false,
           "subplot": "mapbox",
           "type": "scattermapbox"
          }
         ],
         "name": "86"
        },
        {
         "data": [
          {
           "customdata": [
            [
             87,
             0,
             0,
             "region"
            ],
            [
             87,
             0,
             10,
             "region"
            ],
            [
             87,
             1,
             0,
             "region"
            ],
            [
             87,
             2,
             0,
             "region"
            ]
           ],
           "hoverlabel": {
            "namelength": 0
           },
           "hovertemplate": "day=%{customdata[0]}<br>timeslot=%{customdata[1]}<br>region=%{customdata[2]}<br>kind=%{customdata[3]}<br>latitude=%{lat}<br>longitude=%{lon}",
           "lat": [
            59.31426096,
            59.32355937,
            59.31426096,
            59.31426096
           ],
           "legendgroup": "",
           "line": {
            "color": "#636efa"
           },
           "lon": [
            18.07653494,
            18.096513199999997,
            18.07653494,
            18.07653494
           ],
           "mode": "lines",
           "name": "",
           "showlegend": false,
           "subplot": "mapbox",
           "type": "scattermapbox"
          }
         ],
         "name": "87"
        },
        {
         "data": [
          {
           "customdata": [
            [
             88,
             0,
             0,
             "region"
            ],
            [
             88,
             0,
             10,
             "region"
            ],
            [
             88,
             1,
             0,
             "region"
            ],
            [
             88,
             2,
             10,
             "region"
            ]
           ],
           "hoverlabel": {
            "namelength": 0
           },
           "hovertemplate": "day=%{customdata[0]}<br>timeslot=%{customdata[1]}<br>region=%{customdata[2]}<br>kind=%{customdata[3]}<br>latitude=%{lat}<br>longitude=%{lon}",
           "lat": [
            59.31426096,
            59.32355937,
            59.31426096,
            59.32355937
           ],
           "legendgroup": "",
           "line": {
            "color": "#636efa"
           },
           "lon": [
            18.07653494,
            18.096513199999997,
            18.07653494,
            18.096513199999997
           ],
           "mode": "lines",
           "name": "",
           "showlegend": false,
           "subplot": "mapbox",
           "type": "scattermapbox"
          }
         ],
         "name": "88"
        },
        {
         "data": [
          {
           "customdata": [
            [
             89,
             0,
             0,
             "region"
            ],
            [
             89,
             0,
             0,
             "region"
            ],
            [
             89,
             1,
             10,
             "region"
            ],
            [
             89,
             2,
             0,
             "region"
            ]
           ],
           "hoverlabel": {
            "namelength": 0
           },
           "hovertemplate": "day=%{customdata[0]}<br>timeslot=%{customdata[1]}<br>region=%{customdata[2]}<br>kind=%{customdata[3]}<br>latitude=%{lat}<br>longitude=%{lon}",
           "lat": [
            59.31426096,
            59.31426096,
            59.32355937,
            59.31426096
           ],
           "legendgroup": "",
           "line": {
            "color": "#636efa"
           },
           "lon": [
            18.07653494,
            18.07653494,
            18.096513199999997,
            18.07653494
           ],
           "mode": "lines",
           "name": "",
           "showlegend": false,
           "subplot": "mapbox",
           "type": "scattermapbox"
          }
         ],
         "name": "89"
        },
        {
         "data": [
          {
           "customdata": [
            [
             90,
             0,
             0,
             "region"
            ],
            [
             90,
             0,
             10,
             "region"
            ],
            [
             90,
             1,
             8,
             "region"
            ],
            [
             90,
             2,
             0,
             "region"
            ]
           ],
           "hoverlabel": {
            "namelength": 0
           },
           "hovertemplate": "day=%{customdata[0]}<br>timeslot=%{customdata[1]}<br>region=%{customdata[2]}<br>kind=%{customdata[3]}<br>latitude=%{lat}<br>longitude=%{lon}",
           "lat": [
            59.31426096,
            59.32355937,
            59.34313992,
            59.31426096
           ],
           "legendgroup": "",
           "line": {
            "color": "#636efa"
           },
           "lon": [
            18.07653494,
            18.096513199999997,
            18.08549566,
            18.07653494
           ],
           "mode": "lines",
           "name": "",
           "showlegend": false,
           "subplot": "mapbox",
           "type": "scattermapbox"
          }
         ],
         "name": "90"
        },
        {
         "data": [
          {
           "customdata": [
            [
             91,
             0,
             0,
             "region"
            ],
            [
             91,
             0,
             0,
             "region"
            ],
            [
             91,
             1,
             10,
             "region"
            ],
            [
             91,
             2,
             16,
             "region"
            ]
           ],
           "hoverlabel": {
            "namelength": 0
           },
           "hovertemplate": "day=%{customdata[0]}<br>timeslot=%{customdata[1]}<br>region=%{customdata[2]}<br>kind=%{customdata[3]}<br>latitude=%{lat}<br>longitude=%{lon}",
           "lat": [
            59.31426096,
            59.31426096,
            59.32355937,
            59.22078204
           ],
           "legendgroup": "",
           "line": {
            "color": "#636efa"
           },
           "lon": [
            18.07653494,
            18.07653494,
            18.096513199999997,
            17.9363181
           ],
           "mode": "lines",
           "name": "",
           "showlegend": false,
           "subplot": "mapbox",
           "type": "scattermapbox"
          }
         ],
         "name": "91"
        },
        {
         "data": [
          {
           "customdata": [
            [
             92,
             0,
             0,
             "region"
            ],
            [
             92,
             0,
             0,
             "region"
            ],
            [
             92,
             1,
             0,
             "region"
            ],
            [
             92,
             2,
             -1,
             "point"
            ]
           ],
           "hoverlabel": {
            "namelength": 0
           },
           "hovertemplate": "day=%{customdata[0]}<br>timeslot=%{customdata[1]}<br>region=%{customdata[2]}<br>kind=%{customdata[3]}<br>latitude=%{lat}<br>longitude=%{lon}",
           "lat": [
            59.31426096,
            59.31426096,
            59.31426096,
            59.31426096
           ],
           "legendgroup": "",
           "line": {
            "color": "#636efa"
           },
           "lon": [
            18.07653494,
            18.07653494,
            18.07653494,
            18.07653494
           ],
           "mode": "lines",
           "name": "",
           "showlegend": false,
           "subplot": "mapbox",
           "type": "scattermapbox"
          }
         ],
         "name": "92"
        },
        {
         "data": [
          {
           "customdata": [
            [
             93,
             0,
             0,
             "region"
            ],
            [
             93,
             0,
             0,
             "region"
            ],
            [
             93,
             1,
             16,
             "region"
            ],
            [
             93,
             2,
             73,
             "region"
            ]
           ],
           "hoverlabel": {
            "namelength": 0
           },
           "hovertemplate": "day=%{customdata[0]}<br>timeslot=%{customdata[1]}<br>region=%{customdata[2]}<br>kind=%{customdata[3]}<br>latitude=%{lat}<br>longitude=%{lon}",
           "lat": [
            59.31426096,
            59.31426096,
            59.22078204,
            59.3090821
           ],
           "legendgroup": "",
           "line": {
            "color": "#636efa"
           },
           "lon": [
            18.07653494,
            18.07653494,
            17.9363181,
            18.056026199999998
           ],
           "mode": "lines",
           "name": "",
           "showlegend": false,
           "subplot": "mapbox",
           "type": "scattermapbox"
          }
         ],
         "name": "93"
        },
        {
         "data": [
          {
           "customdata": [
            [
             94,
             0,
             0,
             "region"
            ],
            [
             94,
             0,
             0,
             "region"
            ],
            [
             94,
             1,
             0,
             "region"
            ],
            [
             94,
             2,
             9,
             "region"
            ]
           ],
           "hoverlabel": {
            "namelength": 0
           },
           "hovertemplate": "day=%{customdata[0]}<br>timeslot=%{customdata[1]}<br>region=%{customdata[2]}<br>kind=%{customdata[3]}<br>latitude=%{lat}<br>longitude=%{lon}",
           "lat": [
            59.31426096,
            59.31426096,
            59.31426096,
            59.34305210000001
           ],
           "legendgroup": "",
           "line": {
            "color": "#636efa"
           },
           "lon": [
            18.07653494,
            18.07653494,
            18.07653494,
            18.05174887
           ],
           "mode": "lines",
           "name": "",
           "showlegend": false,
           "subplot": "mapbox",
           "type": "scattermapbox"
          }
         ],
         "name": "94"
        },
        {
         "data": [
          {
           "customdata": [
            [
             95,
             0,
             0,
             "region"
            ],
            [
             95,
             0,
             0,
             "region"
            ],
            [
             95,
             1,
             0,
             "region"
            ],
            [
             95,
             2,
             0,
             "region"
            ]
           ],
           "hoverlabel": {
            "namelength": 0
           },
           "hovertemplate": "day=%{customdata[0]}<br>timeslot=%{customdata[1]}<br>region=%{customdata[2]}<br>kind=%{customdata[3]}<br>latitude=%{lat}<br>longitude=%{lon}",
           "lat": [
            59.31426096,
            59.31426096,
            59.31426096,
            59.31426096
           ],
           "legendgroup": "",
           "line": {
            "color": "#636efa"
           },
           "lon": [
            18.07653494,
            18.07653494,
            18.07653494,
            18.07653494
           ],
           "mode": "lines",
           "name": "",
           "showlegend": false,
           "subplot": "mapbox",
           "type": "scattermapbox"
          }
         ],
         "name": "95"
        },
        {
         "data": [
          {
           "customdata": [
            [
             96,
             0,
             0,
             "region"
            ],
            [
             96,
             0,
             9,
             "region"
            ],
            [
             96,
             1,
             0,
             "region"
            ],
            [
             96,
             2,
             3,
             "region"
            ]
           ],
           "hoverlabel": {
            "namelength": 0
           },
           "hovertemplate": "day=%{customdata[0]}<br>timeslot=%{customdata[1]}<br>region=%{customdata[2]}<br>kind=%{customdata[3]}<br>latitude=%{lat}<br>longitude=%{lon}",
           "lat": [
            59.31426096,
            59.34305210000001,
            59.31426096,
            59.36456999999999
           ],
           "legendgroup": "",
           "line": {
            "color": "#636efa"
           },
           "lon": [
            18.07653494,
            18.05174887,
            18.07653494,
            17.97493
           ],
           "mode": "lines",
           "name": "",
           "showlegend": false,
           "subplot": "mapbox",
           "type": "scattermapbox"
          }
         ],
         "name": "96"
        },
        {
         "data": [
          {
           "customdata": [
            [
             97,
             0,
             0,
             "region"
            ],
            [
             97,
             0,
             0,
             "region"
            ],
            [
             97,
             1,
             0,
             "region"
            ],
            [
             97,
             2,
             0,
             "region"
            ]
           ],
           "hoverlabel": {
            "namelength": 0
           },
           "hovertemplate": "day=%{customdata[0]}<br>timeslot=%{customdata[1]}<br>region=%{customdata[2]}<br>kind=%{customdata[3]}<br>latitude=%{lat}<br>longitude=%{lon}",
           "lat": [
            59.31426096,
            59.31426096,
            59.31426096,
            59.31426096
           ],
           "legendgroup": "",
           "line": {
            "color": "#636efa"
           },
           "lon": [
            18.07653494,
            18.07653494,
            18.07653494,
            18.07653494
           ],
           "mode": "lines",
           "name": "",
           "showlegend": false,
           "subplot": "mapbox",
           "type": "scattermapbox"
          }
         ],
         "name": "97"
        },
        {
         "data": [
          {
           "customdata": [
            [
             98,
             0,
             0,
             "region"
            ],
            [
             98,
             0,
             10,
             "region"
            ],
            [
             98,
             1,
             9,
             "region"
            ],
            [
             98,
             2,
             10,
             "region"
            ]
           ],
           "hoverlabel": {
            "namelength": 0
           },
           "hovertemplate": "day=%{customdata[0]}<br>timeslot=%{customdata[1]}<br>region=%{customdata[2]}<br>kind=%{customdata[3]}<br>latitude=%{lat}<br>longitude=%{lon}",
           "lat": [
            59.31426096,
            59.32355937,
            59.34305210000001,
            59.32355937
           ],
           "legendgroup": "",
           "line": {
            "color": "#636efa"
           },
           "lon": [
            18.07653494,
            18.096513199999997,
            18.05174887,
            18.096513199999997
           ],
           "mode": "lines",
           "name": "",
           "showlegend": false,
           "subplot": "mapbox",
           "type": "scattermapbox"
          }
         ],
         "name": "98"
        },
        {
         "data": [
          {
           "customdata": [
            [
             99,
             0,
             0,
             "region"
            ],
            [
             99,
             0,
             10,
             "region"
            ],
            [
             99,
             1,
             15,
             "region"
            ],
            [
             99,
             2,
             0,
             "region"
            ]
           ],
           "hoverlabel": {
            "namelength": 0
           },
           "hovertemplate": "day=%{customdata[0]}<br>timeslot=%{customdata[1]}<br>region=%{customdata[2]}<br>kind=%{customdata[3]}<br>latitude=%{lat}<br>longitude=%{lon}",
           "lat": [
            59.31426096,
            59.32355937,
            59.217780000000005,
            59.31426096
           ],
           "legendgroup": "",
           "line": {
            "color": "#636efa"
           },
           "lon": [
            18.07653494,
            18.096513199999997,
            17.93892,
            18.07653494
           ],
           "mode": "lines",
           "name": "",
           "showlegend": false,
           "subplot": "mapbox",
           "type": "scattermapbox"
          }
         ],
         "name": "99"
        },
        {
         "data": [
          {
           "customdata": [
            [
             100,
             0,
             0,
             "region"
            ],
            [
             100,
             0,
             43,
             "region"
            ],
            [
             100,
             1,
             0,
             "region"
            ],
            [
             100,
             2,
             0,
             "region"
            ]
           ],
           "hoverlabel": {
            "namelength": 0
           },
           "hovertemplate": "day=%{customdata[0]}<br>timeslot=%{customdata[1]}<br>region=%{customdata[2]}<br>kind=%{customdata[3]}<br>latitude=%{lat}<br>longitude=%{lon}",
           "lat": [
            59.31426096,
            59.32190343,
            59.31426096,
            59.31426096
           ],
           "legendgroup": "",
           "line": {
            "color": "#636efa"
           },
           "lon": [
            18.07653494,
            18.216364499999997,
            18.07653494,
            18.07653494
           ],
           "mode": "lines",
           "name": "",
           "showlegend": false,
           "subplot": "mapbox",
           "type": "scattermapbox"
          }
         ],
         "name": "100"
        },
        {
         "data": [
          {
           "customdata": [
            [
             101,
             0,
             0,
             "region"
            ],
            [
             101,
             0,
             0,
             "region"
            ],
            [
             101,
             1,
             10,
             "region"
            ],
            [
             101,
             2,
             10,
             "region"
            ]
           ],
           "hoverlabel": {
            "namelength": 0
           },
           "hovertemplate": "day=%{customdata[0]}<br>timeslot=%{customdata[1]}<br>region=%{customdata[2]}<br>kind=%{customdata[3]}<br>latitude=%{lat}<br>longitude=%{lon}",
           "lat": [
            59.31426096,
            59.31426096,
            59.32355937,
            59.32355937
           ],
           "legendgroup": "",
           "line": {
            "color": "#636efa"
           },
           "lon": [
            18.07653494,
            18.07653494,
            18.096513199999997,
            18.096513199999997
           ],
           "mode": "lines",
           "name": "",
           "showlegend": false,
           "subplot": "mapbox",
           "type": "scattermapbox"
          }
         ],
         "name": "101"
        },
        {
         "data": [
          {
           "customdata": [
            [
             102,
             0,
             0,
             "region"
            ],
            [
             102,
             0,
             9,
             "region"
            ],
            [
             102,
             1,
             0,
             "region"
            ],
            [
             102,
             2,
             9,
             "region"
            ]
           ],
           "hoverlabel": {
            "namelength": 0
           },
           "hovertemplate": "day=%{customdata[0]}<br>timeslot=%{customdata[1]}<br>region=%{customdata[2]}<br>kind=%{customdata[3]}<br>latitude=%{lat}<br>longitude=%{lon}",
           "lat": [
            59.31426096,
            59.34305210000001,
            59.31426096,
            59.34305210000001
           ],
           "legendgroup": "",
           "line": {
            "color": "#636efa"
           },
           "lon": [
            18.07653494,
            18.05174887,
            18.07653494,
            18.05174887
           ],
           "mode": "lines",
           "name": "",
           "showlegend": false,
           "subplot": "mapbox",
           "type": "scattermapbox"
          }
         ],
         "name": "102"
        },
        {
         "data": [
          {
           "customdata": [
            [
             103,
             0,
             0,
             "region"
            ],
            [
             103,
             0,
             10,
             "region"
            ],
            [
             103,
             1,
             12,
             "region"
            ],
            [
             103,
             2,
             10,
             "region"
            ]
           ],
           "hoverlabel": {
            "namelength": 0
           },
           "hovertemplate": "day=%{customdata[0]}<br>timeslot=%{customdata[1]}<br>region=%{customdata[2]}<br>kind=%{customdata[3]}<br>latitude=%{lat}<br>longitude=%{lon}",
           "lat": [
            59.31426096,
            59.32355937,
            59.29176999999999,
            59.32355937
           ],
           "legendgroup": "",
           "line": {
            "color": "#636efa"
           },
           "lon": [
            18.07653494,
            18.096513199999997,
            18.07938,
            18.096513199999997
           ],
           "mode": "lines",
           "name": "",
           "showlegend": false,
           "subplot": "mapbox",
           "type": "scattermapbox"
          }
         ],
         "name": "103"
        },
        {
         "data": [
          {
           "customdata": [
            [
             104,
             0,
             0,
             "region"
            ],
            [
             104,
             0,
             -1,
             "point"
            ],
            [
             104,
             1,
             0,
             "region"
            ],
            [
             104,
             2,
             10,
             "region"
            ]
           ],
           "hoverlabel": {
            "namelength": 0
           },
           "hovertemplate": "day=%{customdata[0]}<br>timeslot=%{customdata[1]}<br>region=%{customdata[2]}<br>kind=%{customdata[3]}<br>latitude=%{lat}<br>longitude=%{lon}",
           "lat": [
            59.31426096,
            59.31426096,
            59.31426096,
            59.32355937
           ],
           "legendgroup": "",
           "line": {
            "color": "#636efa"
           },
           "lon": [
            18.07653494,
            18.07653494,
            18.07653494,
            18.096513199999997
           ],
           "mode": "lines",
           "name": "",
           "showlegend": false,
           "subplot": "mapbox",
           "type": "scattermapbox"
          }
         ],
         "name": "104"
        },
        {
         "data": [
          {
           "customdata": [
            [
             105,
             0,
             0,
             "region"
            ],
            [
             105,
             0,
             0,
             "region"
            ],
            [
             105,
             1,
             -1,
             "point"
            ],
            [
             105,
             2,
             0,
             "region"
            ]
           ],
           "hoverlabel": {
            "namelength": 0
           },
           "hovertemplate": "day=%{customdata[0]}<br>timeslot=%{customdata[1]}<br>region=%{customdata[2]}<br>kind=%{customdata[3]}<br>latitude=%{lat}<br>longitude=%{lon}",
           "lat": [
            59.31426096,
            59.31426096,
            59.368302109286354,
            59.31426096
           ],
           "legendgroup": "",
           "line": {
            "color": "#636efa"
           },
           "lon": [
            18.07653494,
            18.07653494,
            18.015847588195015,
            18.07653494
           ],
           "mode": "lines",
           "name": "",
           "showlegend": false,
           "subplot": "mapbox",
           "type": "scattermapbox"
          }
         ],
         "name": "105"
        },
        {
         "data": [
          {
           "customdata": [
            [
             106,
             0,
             0,
             "region"
            ],
            [
             106,
             0,
             10,
             "region"
            ],
            [
             106,
             1,
             0,
             "region"
            ],
            [
             106,
             2,
             9,
             "region"
            ]
           ],
           "hoverlabel": {
            "namelength": 0
           },
           "hovertemplate": "day=%{customdata[0]}<br>timeslot=%{customdata[1]}<br>region=%{customdata[2]}<br>kind=%{customdata[3]}<br>latitude=%{lat}<br>longitude=%{lon}",
           "lat": [
            59.31426096,
            59.32355937,
            59.31426096,
            59.34305210000001
           ],
           "legendgroup": "",
           "line": {
            "color": "#636efa"
           },
           "lon": [
            18.07653494,
            18.096513199999997,
            18.07653494,
            18.05174887
           ],
           "mode": "lines",
           "name": "",
           "showlegend": false,
           "subplot": "mapbox",
           "type": "scattermapbox"
          }
         ],
         "name": "106"
        },
        {
         "data": [
          {
           "customdata": [
            [
             107,
             0,
             0,
             "region"
            ],
            [
             107,
             0,
             10,
             "region"
            ],
            [
             107,
             1,
             9,
             "region"
            ],
            [
             107,
             2,
             0,
             "region"
            ]
           ],
           "hoverlabel": {
            "namelength": 0
           },
           "hovertemplate": "day=%{customdata[0]}<br>timeslot=%{customdata[1]}<br>region=%{customdata[2]}<br>kind=%{customdata[3]}<br>latitude=%{lat}<br>longitude=%{lon}",
           "lat": [
            59.31426096,
            59.32355937,
            59.34305210000001,
            59.31426096
           ],
           "legendgroup": "",
           "line": {
            "color": "#636efa"
           },
           "lon": [
            18.07653494,
            18.096513199999997,
            18.05174887,
            18.07653494
           ],
           "mode": "lines",
           "name": "",
           "showlegend": false,
           "subplot": "mapbox",
           "type": "scattermapbox"
          }
         ],
         "name": "107"
        },
        {
         "data": [
          {
           "customdata": [
            [
             108,
             0,
             0,
             "region"
            ],
            [
             108,
             0,
             3,
             "region"
            ],
            [
             108,
             1,
             3,
             "region"
            ],
            [
             108,
             2,
             0,
             "region"
            ]
           ],
           "hoverlabel": {
            "namelength": 0
           },
           "hovertemplate": "day=%{customdata[0]}<br>timeslot=%{customdata[1]}<br>region=%{customdata[2]}<br>kind=%{customdata[3]}<br>latitude=%{lat}<br>longitude=%{lon}",
           "lat": [
            59.31426096,
            59.36456999999999,
            59.36456999999999,
            59.31426096
           ],
           "legendgroup": "",
           "line": {
            "color": "#636efa"
           },
           "lon": [
            18.07653494,
            17.97493,
            17.97493,
            18.07653494
           ],
           "mode": "lines",
           "name": "",
           "showlegend": false,
           "subplot": "mapbox",
           "type": "scattermapbox"
          }
         ],
         "name": "108"
        },
        {
         "data": [
          {
           "customdata": [
            [
             109,
             0,
             0,
             "region"
            ],
            [
             109,
             0,
             0,
             "region"
            ],
            [
             109,
             1,
             9,
             "region"
            ],
            [
             109,
             2,
             9,
             "region"
            ]
           ],
           "hoverlabel": {
            "namelength": 0
           },
           "hovertemplate": "day=%{customdata[0]}<br>timeslot=%{customdata[1]}<br>region=%{customdata[2]}<br>kind=%{customdata[3]}<br>latitude=%{lat}<br>longitude=%{lon}",
           "lat": [
            59.31426096,
            59.31426096,
            59.34305210000001,
            59.34305210000001
           ],
           "legendgroup": "",
           "line": {
            "color": "#636efa"
           },
           "lon": [
            18.07653494,
            18.07653494,
            18.05174887,
            18.05174887
           ],
           "mode": "lines",
           "name": "",
           "showlegend": false,
           "subplot": "mapbox",
           "type": "scattermapbox"
          }
         ],
         "name": "109"
        },
        {
         "data": [
          {
           "customdata": [
            [
             110,
             0,
             0,
             "region"
            ],
            [
             110,
             0,
             8,
             "region"
            ],
            [
             110,
             1,
             0,
             "region"
            ],
            [
             110,
             2,
             0,
             "region"
            ]
           ],
           "hoverlabel": {
            "namelength": 0
           },
           "hovertemplate": "day=%{customdata[0]}<br>timeslot=%{customdata[1]}<br>region=%{customdata[2]}<br>kind=%{customdata[3]}<br>latitude=%{lat}<br>longitude=%{lon}",
           "lat": [
            59.31426096,
            59.34313992,
            59.31426096,
            59.31426096
           ],
           "legendgroup": "",
           "line": {
            "color": "#636efa"
           },
           "lon": [
            18.07653494,
            18.08549566,
            18.07653494,
            18.07653494
           ],
           "mode": "lines",
           "name": "",
           "showlegend": false,
           "subplot": "mapbox",
           "type": "scattermapbox"
          }
         ],
         "name": "110"
        },
        {
         "data": [
          {
           "customdata": [
            [
             111,
             0,
             0,
             "region"
            ],
            [
             111,
             0,
             16,
             "region"
            ],
            [
             111,
             1,
             0,
             "region"
            ],
            [
             111,
             2,
             10,
             "region"
            ]
           ],
           "hoverlabel": {
            "namelength": 0
           },
           "hovertemplate": "day=%{customdata[0]}<br>timeslot=%{customdata[1]}<br>region=%{customdata[2]}<br>kind=%{customdata[3]}<br>latitude=%{lat}<br>longitude=%{lon}",
           "lat": [
            59.31426096,
            59.22078204,
            59.31426096,
            59.32355937
           ],
           "legendgroup": "",
           "line": {
            "color": "#636efa"
           },
           "lon": [
            18.07653494,
            17.9363181,
            18.07653494,
            18.096513199999997
           ],
           "mode": "lines",
           "name": "",
           "showlegend": false,
           "subplot": "mapbox",
           "type": "scattermapbox"
          }
         ],
         "name": "111"
        },
        {
         "data": [
          {
           "customdata": [
            [
             112,
             0,
             0,
             "region"
            ],
            [
             112,
             0,
             0,
             "region"
            ],
            [
             112,
             1,
             0,
             "region"
            ],
            [
             112,
             2,
             9,
             "region"
            ]
           ],
           "hoverlabel": {
            "namelength": 0
           },
           "hovertemplate": "day=%{customdata[0]}<br>timeslot=%{customdata[1]}<br>region=%{customdata[2]}<br>kind=%{customdata[3]}<br>latitude=%{lat}<br>longitude=%{lon}",
           "lat": [
            59.31426096,
            59.31426096,
            59.31426096,
            59.34305210000001
           ],
           "legendgroup": "",
           "line": {
            "color": "#636efa"
           },
           "lon": [
            18.07653494,
            18.07653494,
            18.07653494,
            18.05174887
           ],
           "mode": "lines",
           "name": "",
           "showlegend": false,
           "subplot": "mapbox",
           "type": "scattermapbox"
          }
         ],
         "name": "112"
        },
        {
         "data": [
          {
           "customdata": [
            [
             113,
             0,
             0,
             "region"
            ],
            [
             113,
             0,
             8,
             "region"
            ],
            [
             113,
             1,
             38,
             "region"
            ],
            [
             113,
             2,
             0,
             "region"
            ]
           ],
           "hoverlabel": {
            "namelength": 0
           },
           "hovertemplate": "day=%{customdata[0]}<br>timeslot=%{customdata[1]}<br>region=%{customdata[2]}<br>kind=%{customdata[3]}<br>latitude=%{lat}<br>longitude=%{lon}",
           "lat": [
            59.31426096,
            59.34313992,
            59.32366529,
            59.31426096
           ],
           "legendgroup": "",
           "line": {
            "color": "#636efa"
           },
           "lon": [
            18.07653494,
            18.08549566,
            18.00205935,
            18.07653494
           ],
           "mode": "lines",
           "name": "",
           "showlegend": false,
           "subplot": "mapbox",
           "type": "scattermapbox"
          }
         ],
         "name": "113"
        },
        {
         "data": [
          {
           "customdata": [
            [
             114,
             0,
             0,
             "region"
            ],
            [
             114,
             0,
             10,
             "region"
            ],
            [
             114,
             1,
             0,
             "region"
            ],
            [
             114,
             2,
             0,
             "region"
            ]
           ],
           "hoverlabel": {
            "namelength": 0
           },
           "hovertemplate": "day=%{customdata[0]}<br>timeslot=%{customdata[1]}<br>region=%{customdata[2]}<br>kind=%{customdata[3]}<br>latitude=%{lat}<br>longitude=%{lon}",
           "lat": [
            59.31426096,
            59.32355937,
            59.31426096,
            59.31426096
           ],
           "legendgroup": "",
           "line": {
            "color": "#636efa"
           },
           "lon": [
            18.07653494,
            18.096513199999997,
            18.07653494,
            18.07653494
           ],
           "mode": "lines",
           "name": "",
           "showlegend": false,
           "subplot": "mapbox",
           "type": "scattermapbox"
          }
         ],
         "name": "114"
        },
        {
         "data": [
          {
           "customdata": [
            [
             115,
             0,
             0,
             "region"
            ],
            [
             115,
             0,
             5,
             "region"
            ],
            [
             115,
             1,
             0,
             "region"
            ],
            [
             115,
             2,
             10,
             "region"
            ]
           ],
           "hoverlabel": {
            "namelength": 0
           },
           "hovertemplate": "day=%{customdata[0]}<br>timeslot=%{customdata[1]}<br>region=%{customdata[2]}<br>kind=%{customdata[3]}<br>latitude=%{lat}<br>longitude=%{lon}",
           "lat": [
            59.31426096,
            59.267619999999994,
            59.31426096,
            59.32355937
           ],
           "legendgroup": "",
           "line": {
            "color": "#636efa"
           },
           "lon": [
            18.07653494,
            17.91003,
            18.07653494,
            18.096513199999997
           ],
           "mode": "lines",
           "name": "",
           "showlegend": false,
           "subplot": "mapbox",
           "type": "scattermapbox"
          }
         ],
         "name": "115"
        },
        {
         "data": [
          {
           "customdata": [
            [
             116,
             0,
             0,
             "region"
            ],
            [
             116,
             0,
             -1,
             "point"
            ],
            [
             116,
             1,
             80,
             "region"
            ],
            [
             116,
             2,
             0,
             "region"
            ]
           ],
           "hoverlabel": {
            "namelength": 0
           },
           "hovertemplate": "day=%{customdata[0]}<br>timeslot=%{customdata[1]}<br>region=%{customdata[2]}<br>kind=%{customdata[3]}<br>latitude=%{lat}<br>longitude=%{lon}",
           "lat": [
            59.31426096,
            59.31452552497788,
            59.24286046,
            59.31426096
           ],
           "legendgroup": "",
           "line": {
            "color": "#636efa"
           },
           "lon": [
            18.07653494,
            18.077941189810023,
            18.2140462,
            18.07653494
           ],
           "mode": "lines",
           "name": "",
           "showlegend": false,
           "subplot": "mapbox",
           "type": "scattermapbox"
          }
         ],
         "name": "116"
        },
        {
         "data": [
          {
           "customdata": [
            [
             117,
             0,
             0,
             "region"
            ],
            [
             117,
             0,
             0,
             "region"
            ],
            [
             117,
             1,
             0,
             "region"
            ],
            [
             117,
             2,
             0,
             "region"
            ]
           ],
           "hoverlabel": {
            "namelength": 0
           },
           "hovertemplate": "day=%{customdata[0]}<br>timeslot=%{customdata[1]}<br>region=%{customdata[2]}<br>kind=%{customdata[3]}<br>latitude=%{lat}<br>longitude=%{lon}",
           "lat": [
            59.31426096,
            59.31426096,
            59.31426096,
            59.31426096
           ],
           "legendgroup": "",
           "line": {
            "color": "#636efa"
           },
           "lon": [
            18.07653494,
            18.07653494,
            18.07653494,
            18.07653494
           ],
           "mode": "lines",
           "name": "",
           "showlegend": false,
           "subplot": "mapbox",
           "type": "scattermapbox"
          }
         ],
         "name": "117"
        },
        {
         "data": [
          {
           "customdata": [
            [
             118,
             0,
             0,
             "region"
            ],
            [
             118,
             0,
             0,
             "region"
            ],
            [
             118,
             1,
             10,
             "region"
            ],
            [
             118,
             2,
             0,
             "region"
            ]
           ],
           "hoverlabel": {
            "namelength": 0
           },
           "hovertemplate": "day=%{customdata[0]}<br>timeslot=%{customdata[1]}<br>region=%{customdata[2]}<br>kind=%{customdata[3]}<br>latitude=%{lat}<br>longitude=%{lon}",
           "lat": [
            59.31426096,
            59.31426096,
            59.32355937,
            59.31426096
           ],
           "legendgroup": "",
           "line": {
            "color": "#636efa"
           },
           "lon": [
            18.07653494,
            18.07653494,
            18.096513199999997,
            18.07653494
           ],
           "mode": "lines",
           "name": "",
           "showlegend": false,
           "subplot": "mapbox",
           "type": "scattermapbox"
          }
         ],
         "name": "118"
        },
        {
         "data": [
          {
           "customdata": [
            [
             119,
             0,
             0,
             "region"
            ],
            [
             119,
             0,
             10,
             "region"
            ],
            [
             119,
             1,
             3,
             "region"
            ],
            [
             119,
             2,
             -1,
             "point"
            ]
           ],
           "hoverlabel": {
            "namelength": 0
           },
           "hovertemplate": "day=%{customdata[0]}<br>timeslot=%{customdata[1]}<br>region=%{customdata[2]}<br>kind=%{customdata[3]}<br>latitude=%{lat}<br>longitude=%{lon}",
           "lat": [
            59.31426096,
            59.32355937,
            59.36456999999999,
            59.36456999999999
           ],
           "legendgroup": "",
           "line": {
            "color": "#636efa"
           },
           "lon": [
            18.07653494,
            18.096513199999997,
            17.97493,
            17.97493
           ],
           "mode": "lines",
           "name": "",
           "showlegend": false,
           "subplot": "mapbox",
           "type": "scattermapbox"
          }
         ],
         "name": "119"
        },
        {
         "data": [
          {
           "customdata": [
            [
             120,
             0,
             0,
             "region"
            ],
            [
             120,
             0,
             -1,
             "point"
            ],
            [
             120,
             1,
             104,
             "region"
            ],
            [
             120,
             2,
             3,
             "region"
            ]
           ],
           "hoverlabel": {
            "namelength": 0
           },
           "hovertemplate": "day=%{customdata[0]}<br>timeslot=%{customdata[1]}<br>region=%{customdata[2]}<br>kind=%{customdata[3]}<br>latitude=%{lat}<br>longitude=%{lon}",
           "lat": [
            59.31426096,
            59.31426096,
            59.30348718,
            59.36456999999999
           ],
           "legendgroup": "",
           "line": {
            "color": "#636efa"
           },
           "lon": [
            18.07653494,
            18.07653494,
            18.07873817,
            17.97493
           ],
           "mode": "lines",
           "name": "",
           "showlegend": false,
           "subplot": "mapbox",
           "type": "scattermapbox"
          }
         ],
         "name": "120"
        },
        {
         "data": [
          {
           "customdata": [
            [
             121,
             0,
             0,
             "region"
            ],
            [
             121,
             0,
             25,
             "region"
            ],
            [
             121,
             1,
             39,
             "region"
            ],
            [
             121,
             2,
             0,
             "region"
            ]
           ],
           "hoverlabel": {
            "namelength": 0
           },
           "hovertemplate": "day=%{customdata[0]}<br>timeslot=%{customdata[1]}<br>region=%{customdata[2]}<br>kind=%{customdata[3]}<br>latitude=%{lat}<br>longitude=%{lon}",
           "lat": [
            59.31426096,
            59.34166178,
            59.32535178,
            59.31426096
           ],
           "legendgroup": "",
           "line": {
            "color": "#636efa"
           },
           "lon": [
            18.07653494,
            18.0641776,
            18.09606097,
            18.07653494
           ],
           "mode": "lines",
           "name": "",
           "showlegend": false,
           "subplot": "mapbox",
           "type": "scattermapbox"
          }
         ],
         "name": "121"
        },
        {
         "data": [
          {
           "customdata": [
            [
             122,
             0,
             0,
             "region"
            ],
            [
             122,
             0,
             0,
             "region"
            ],
            [
             122,
             1,
             0,
             "region"
            ],
            [
             122,
             2,
             0,
             "region"
            ]
           ],
           "hoverlabel": {
            "namelength": 0
           },
           "hovertemplate": "day=%{customdata[0]}<br>timeslot=%{customdata[1]}<br>region=%{customdata[2]}<br>kind=%{customdata[3]}<br>latitude=%{lat}<br>longitude=%{lon}",
           "lat": [
            59.31426096,
            59.31426096,
            59.31426096,
            59.31426096
           ],
           "legendgroup": "",
           "line": {
            "color": "#636efa"
           },
           "lon": [
            18.07653494,
            18.07653494,
            18.07653494,
            18.07653494
           ],
           "mode": "lines",
           "name": "",
           "showlegend": false,
           "subplot": "mapbox",
           "type": "scattermapbox"
          }
         ],
         "name": "122"
        },
        {
         "data": [
          {
           "customdata": [
            [
             123,
             0,
             0,
             "region"
            ],
            [
             123,
             0,
             10,
             "region"
            ],
            [
             123,
             1,
             10,
             "region"
            ],
            [
             123,
             2,
             0,
             "region"
            ]
           ],
           "hoverlabel": {
            "namelength": 0
           },
           "hovertemplate": "day=%{customdata[0]}<br>timeslot=%{customdata[1]}<br>region=%{customdata[2]}<br>kind=%{customdata[3]}<br>latitude=%{lat}<br>longitude=%{lon}",
           "lat": [
            59.31426096,
            59.32355937,
            59.32355937,
            59.31426096
           ],
           "legendgroup": "",
           "line": {
            "color": "#636efa"
           },
           "lon": [
            18.07653494,
            18.096513199999997,
            18.096513199999997,
            18.07653494
           ],
           "mode": "lines",
           "name": "",
           "showlegend": false,
           "subplot": "mapbox",
           "type": "scattermapbox"
          }
         ],
         "name": "123"
        },
        {
         "data": [
          {
           "customdata": [
            [
             124,
             0,
             0,
             "region"
            ],
            [
             124,
             0,
             25,
             "region"
            ],
            [
             124,
             1,
             0,
             "region"
            ],
            [
             124,
             2,
             0,
             "region"
            ]
           ],
           "hoverlabel": {
            "namelength": 0
           },
           "hovertemplate": "day=%{customdata[0]}<br>timeslot=%{customdata[1]}<br>region=%{customdata[2]}<br>kind=%{customdata[3]}<br>latitude=%{lat}<br>longitude=%{lon}",
           "lat": [
            59.31426096,
            59.34166178,
            59.31426096,
            59.31426096
           ],
           "legendgroup": "",
           "line": {
            "color": "#636efa"
           },
           "lon": [
            18.07653494,
            18.0641776,
            18.07653494,
            18.07653494
           ],
           "mode": "lines",
           "name": "",
           "showlegend": false,
           "subplot": "mapbox",
           "type": "scattermapbox"
          }
         ],
         "name": "124"
        },
        {
         "data": [
          {
           "customdata": [
            [
             125,
             0,
             0,
             "region"
            ],
            [
             125,
             0,
             116,
             "region"
            ],
            [
             125,
             1,
             33,
             "region"
            ],
            [
             125,
             2,
             10,
             "region"
            ]
           ],
           "hoverlabel": {
            "namelength": 0
           },
           "hovertemplate": "day=%{customdata[0]}<br>timeslot=%{customdata[1]}<br>region=%{customdata[2]}<br>kind=%{customdata[3]}<br>latitude=%{lat}<br>longitude=%{lon}",
           "lat": [
            59.31426096,
            59.3091507,
            59.3325,
            59.32355937
           ],
           "legendgroup": "",
           "line": {
            "color": "#636efa"
           },
           "lon": [
            18.07653494,
            18.051889399999997,
            18.06444444,
            18.096513199999997
           ],
           "mode": "lines",
           "name": "",
           "showlegend": false,
           "subplot": "mapbox",
           "type": "scattermapbox"
          }
         ],
         "name": "125"
        },
        {
         "data": [
          {
           "customdata": [
            [
             126,
             0,
             0,
             "region"
            ],
            [
             126,
             0,
             0,
             "region"
            ],
            [
             126,
             1,
             0,
             "region"
            ],
            [
             126,
             2,
             15,
             "region"
            ]
           ],
           "hoverlabel": {
            "namelength": 0
           },
           "hovertemplate": "day=%{customdata[0]}<br>timeslot=%{customdata[1]}<br>region=%{customdata[2]}<br>kind=%{customdata[3]}<br>latitude=%{lat}<br>longitude=%{lon}",
           "lat": [
            59.31426096,
            59.31426096,
            59.31426096,
            59.217780000000005
           ],
           "legendgroup": "",
           "line": {
            "color": "#636efa"
           },
           "lon": [
            18.07653494,
            18.07653494,
            18.07653494,
            17.93892
           ],
           "mode": "lines",
           "name": "",
           "showlegend": false,
           "subplot": "mapbox",
           "type": "scattermapbox"
          }
         ],
         "name": "126"
        },
        {
         "data": [
          {
           "customdata": [
            [
             127,
             0,
             0,
             "region"
            ],
            [
             127,
             0,
             0,
             "region"
            ],
            [
             127,
             1,
             0,
             "region"
            ],
            [
             127,
             2,
             -1,
             "point"
            ]
           ],
           "hoverlabel": {
            "namelength": 0
           },
           "hovertemplate": "day=%{customdata[0]}<br>timeslot=%{customdata[1]}<br>region=%{customdata[2]}<br>kind=%{customdata[3]}<br>latitude=%{lat}<br>longitude=%{lon}",
           "lat": [
            59.31426096,
            59.31426096,
            59.31426096,
            59.31426096
           ],
           "legendgroup": "",
           "line": {
            "color": "#636efa"
           },
           "lon": [
            18.07653494,
            18.07653494,
            18.07653494,
            18.07653494
           ],
           "mode": "lines",
           "name": "",
           "showlegend": false,
           "subplot": "mapbox",
           "type": "scattermapbox"
          }
         ],
         "name": "127"
        },
        {
         "data": [
          {
           "customdata": [
            [
             128,
             0,
             0,
             "region"
            ],
            [
             128,
             0,
             0,
             "region"
            ],
            [
             128,
             1,
             16,
             "region"
            ],
            [
             128,
             2,
             10,
             "region"
            ]
           ],
           "hoverlabel": {
            "namelength": 0
           },
           "hovertemplate": "day=%{customdata[0]}<br>timeslot=%{customdata[1]}<br>region=%{customdata[2]}<br>kind=%{customdata[3]}<br>latitude=%{lat}<br>longitude=%{lon}",
           "lat": [
            59.31426096,
            59.31426096,
            59.22078204,
            59.32355937
           ],
           "legendgroup": "",
           "line": {
            "color": "#636efa"
           },
           "lon": [
            18.07653494,
            18.07653494,
            17.9363181,
            18.096513199999997
           ],
           "mode": "lines",
           "name": "",
           "showlegend": false,
           "subplot": "mapbox",
           "type": "scattermapbox"
          }
         ],
         "name": "128"
        },
        {
         "data": [
          {
           "customdata": [
            [
             129,
             0,
             0,
             "region"
            ],
            [
             129,
             0,
             0,
             "region"
            ],
            [
             129,
             1,
             -1,
             "point"
            ],
            [
             129,
             2,
             0,
             "region"
            ]
           ],
           "hoverlabel": {
            "namelength": 0
           },
           "hovertemplate": "day=%{customdata[0]}<br>timeslot=%{customdata[1]}<br>region=%{customdata[2]}<br>kind=%{customdata[3]}<br>latitude=%{lat}<br>longitude=%{lon}",
           "lat": [
            59.31426096,
            59.31426096,
            59.3143539933923,
            59.31426096
           ],
           "legendgroup": "",
           "line": {
            "color": "#636efa"
           },
           "lon": [
            18.07653494,
            18.07653494,
            18.07095072551052,
            18.07653494
           ],
           "mode": "lines",
           "name": "",
           "showlegend": false,
           "subplot": "mapbox",
           "type": "scattermapbox"
          }
         ],
         "name": "129"
        },
        {
         "data": [
          {
           "customdata": [
            [
             130,
             0,
             0,
             "region"
            ],
            [
             130,
             0,
             0,
             "region"
            ],
            [
             130,
             1,
             0,
             "region"
            ],
            [
             130,
             2,
             0,
             "region"
            ]
           ],
           "hoverlabel": {
            "namelength": 0
           },
           "hovertemplate": "day=%{customdata[0]}<br>timeslot=%{customdata[1]}<br>region=%{customdata[2]}<br>kind=%{customdata[3]}<br>latitude=%{lat}<br>longitude=%{lon}",
           "lat": [
            59.31426096,
            59.31426096,
            59.31426096,
            59.31426096
           ],
           "legendgroup": "",
           "line": {
            "color": "#636efa"
           },
           "lon": [
            18.07653494,
            18.07653494,
            18.07653494,
            18.07653494
           ],
           "mode": "lines",
           "name": "",
           "showlegend": false,
           "subplot": "mapbox",
           "type": "scattermapbox"
          }
         ],
         "name": "130"
        },
        {
         "data": [
          {
           "customdata": [
            [
             131,
             0,
             0,
             "region"
            ],
            [
             131,
             0,
             0,
             "region"
            ],
            [
             131,
             1,
             10,
             "region"
            ],
            [
             131,
             2,
             0,
             "region"
            ]
           ],
           "hoverlabel": {
            "namelength": 0
           },
           "hovertemplate": "day=%{customdata[0]}<br>timeslot=%{customdata[1]}<br>region=%{customdata[2]}<br>kind=%{customdata[3]}<br>latitude=%{lat}<br>longitude=%{lon}",
           "lat": [
            59.31426096,
            59.31426096,
            59.32355937,
            59.31426096
           ],
           "legendgroup": "",
           "line": {
            "color": "#636efa"
           },
           "lon": [
            18.07653494,
            18.07653494,
            18.096513199999997,
            18.07653494
           ],
           "mode": "lines",
           "name": "",
           "showlegend": false,
           "subplot": "mapbox",
           "type": "scattermapbox"
          }
         ],
         "name": "131"
        },
        {
         "data": [
          {
           "customdata": [
            [
             132,
             0,
             0,
             "region"
            ],
            [
             132,
             0,
             7,
             "region"
            ],
            [
             132,
             1,
             0,
             "region"
            ],
            [
             132,
             2,
             3,
             "region"
            ]
           ],
           "hoverlabel": {
            "namelength": 0
           },
           "hovertemplate": "day=%{customdata[0]}<br>timeslot=%{customdata[1]}<br>region=%{customdata[2]}<br>kind=%{customdata[3]}<br>latitude=%{lat}<br>longitude=%{lon}",
           "lat": [
            59.31426096,
            59.33448582,
            59.31426096,
            59.36456999999999
           ],
           "legendgroup": "",
           "line": {
            "color": "#636efa"
           },
           "lon": [
            18.07653494,
            18.06427381,
            18.07653494,
            17.97493
           ],
           "mode": "lines",
           "name": "",
           "showlegend": false,
           "subplot": "mapbox",
           "type": "scattermapbox"
          }
         ],
         "name": "132"
        },
        {
         "data": [
          {
           "customdata": [
            [
             133,
             0,
             0,
             "region"
            ],
            [
             133,
             0,
             0,
             "region"
            ],
            [
             133,
             1,
             0,
             "region"
            ],
            [
             133,
             2,
             0,
             "region"
            ]
           ],
           "hoverlabel": {
            "namelength": 0
           },
           "hovertemplate": "day=%{customdata[0]}<br>timeslot=%{customdata[1]}<br>region=%{customdata[2]}<br>kind=%{customdata[3]}<br>latitude=%{lat}<br>longitude=%{lon}",
           "lat": [
            59.31426096,
            59.31426096,
            59.31426096,
            59.31426096
           ],
           "legendgroup": "",
           "line": {
            "color": "#636efa"
           },
           "lon": [
            18.07653494,
            18.07653494,
            18.07653494,
            18.07653494
           ],
           "mode": "lines",
           "name": "",
           "showlegend": false,
           "subplot": "mapbox",
           "type": "scattermapbox"
          }
         ],
         "name": "133"
        },
        {
         "data": [
          {
           "customdata": [
            [
             134,
             0,
             0,
             "region"
            ],
            [
             134,
             0,
             0,
             "region"
            ],
            [
             134,
             1,
             0,
             "region"
            ],
            [
             134,
             2,
             10,
             "region"
            ]
           ],
           "hoverlabel": {
            "namelength": 0
           },
           "hovertemplate": "day=%{customdata[0]}<br>timeslot=%{customdata[1]}<br>region=%{customdata[2]}<br>kind=%{customdata[3]}<br>latitude=%{lat}<br>longitude=%{lon}",
           "lat": [
            59.31426096,
            59.31426096,
            59.31426096,
            59.32355937
           ],
           "legendgroup": "",
           "line": {
            "color": "#636efa"
           },
           "lon": [
            18.07653494,
            18.07653494,
            18.07653494,
            18.096513199999997
           ],
           "mode": "lines",
           "name": "",
           "showlegend": false,
           "subplot": "mapbox",
           "type": "scattermapbox"
          }
         ],
         "name": "134"
        },
        {
         "data": [
          {
           "customdata": [
            [
             135,
             0,
             0,
             "region"
            ],
            [
             135,
             0,
             0,
             "region"
            ],
            [
             135,
             1,
             -1,
             "point"
            ],
            [
             135,
             2,
             0,
             "region"
            ]
           ],
           "hoverlabel": {
            "namelength": 0
           },
           "hovertemplate": "day=%{customdata[0]}<br>timeslot=%{customdata[1]}<br>region=%{customdata[2]}<br>kind=%{customdata[3]}<br>latitude=%{lat}<br>longitude=%{lon}",
           "lat": [
            59.31426096,
            59.31426096,
            59.314541596789645,
            59.31426096
           ],
           "legendgroup": "",
           "line": {
            "color": "#636efa"
           },
           "lon": [
            18.07653494,
            18.07653494,
            18.077424979265974,
            18.07653494
           ],
           "mode": "lines",
           "name": "",
           "showlegend": false,
           "subplot": "mapbox",
           "type": "scattermapbox"
          }
         ],
         "name": "135"
        },
        {
         "data": [
          {
           "customdata": [
            [
             136,
             0,
             0,
             "region"
            ],
            [
             136,
             0,
             3,
             "region"
            ],
            [
             136,
             1,
             10,
             "region"
            ],
            [
             136,
             2,
             31,
             "region"
            ]
           ],
           "hoverlabel": {
            "namelength": 0
           },
           "hovertemplate": "day=%{customdata[0]}<br>timeslot=%{customdata[1]}<br>region=%{customdata[2]}<br>kind=%{customdata[3]}<br>latitude=%{lat}<br>longitude=%{lon}",
           "lat": [
            59.31426096,
            59.36456999999999,
            59.32355937,
            59.31206825
           ],
           "legendgroup": "",
           "line": {
            "color": "#636efa"
           },
           "lon": [
            18.07653494,
            17.97493,
            18.096513199999997,
            18.07390065
           ],
           "mode": "lines",
           "name": "",
           "showlegend": false,
           "subplot": "mapbox",
           "type": "scattermapbox"
          }
         ],
         "name": "136"
        },
        {
         "data": [
          {
           "customdata": [
            [
             137,
             0,
             0,
             "region"
            ],
            [
             137,
             0,
             9,
             "region"
            ],
            [
             137,
             1,
             32,
             "region"
            ],
            [
             137,
             2,
             0,
             "region"
            ]
           ],
           "hoverlabel": {
            "namelength": 0
           },
           "hovertemplate": "day=%{customdata[0]}<br>timeslot=%{customdata[1]}<br>region=%{customdata[2]}<br>kind=%{customdata[3]}<br>latitude=%{lat}<br>longitude=%{lon}",
           "lat": [
            59.31426096,
            59.34305210000001,
            59.36239896,
            59.31426096
           ],
           "legendgroup": "",
           "line": {
            "color": "#636efa"
           },
           "lon": [
            18.07653494,
            18.05174887,
            17.96602968,
            18.07653494
           ],
           "mode": "lines",
           "name": "",
           "showlegend": false,
           "subplot": "mapbox",
           "type": "scattermapbox"
          }
         ],
         "name": "137"
        },
        {
         "data": [
          {
           "customdata": [
            [
             138,
             0,
             0,
             "region"
            ],
            [
             138,
             0,
             90,
             "region"
            ],
            [
             138,
             1,
             24,
             "region"
            ],
            [
             138,
             2,
             0,
             "region"
            ]
           ],
           "hoverlabel": {
            "namelength": 0
           },
           "hovertemplate": "day=%{customdata[0]}<br>timeslot=%{customdata[1]}<br>region=%{customdata[2]}<br>kind=%{customdata[3]}<br>latitude=%{lat}<br>longitude=%{lon}",
           "lat": [
            59.31426096,
            51.08593048,
            59.34696216,
            59.31426096
           ],
           "legendgroup": "",
           "line": {
            "color": "#636efa"
           },
           "lon": [
            18.07653494,
            4.38379144,
            18.03691438,
            18.07653494
           ],
           "mode": "lines",
           "name": "",
           "showlegend": false,
           "subplot": "mapbox",
           "type": "scattermapbox"
          }
         ],
         "name": "138"
        },
        {
         "data": [
          {
           "customdata": [
            [
             139,
             0,
             0,
             "region"
            ],
            [
             139,
             0,
             0,
             "region"
            ],
            [
             139,
             1,
             10,
             "region"
            ],
            [
             139,
             2,
             25,
             "region"
            ]
           ],
           "hoverlabel": {
            "namelength": 0
           },
           "hovertemplate": "day=%{customdata[0]}<br>timeslot=%{customdata[1]}<br>region=%{customdata[2]}<br>kind=%{customdata[3]}<br>latitude=%{lat}<br>longitude=%{lon}",
           "lat": [
            59.31426096,
            59.31426096,
            59.32355937,
            59.34166178
           ],
           "legendgroup": "",
           "line": {
            "color": "#636efa"
           },
           "lon": [
            18.07653494,
            18.07653494,
            18.096513199999997,
            18.0641776
           ],
           "mode": "lines",
           "name": "",
           "showlegend": false,
           "subplot": "mapbox",
           "type": "scattermapbox"
          }
         ],
         "name": "139"
        }
       ],
       "layout": {
        "legend": {
         "tracegroupgap": 0
        },
        "mapbox": {
         "center": {
          "lat": 59.27843394783414,
          "lon": 17.995893174246152
         },
         "domain": {
          "x": [
           0,
           1
          ],
          "y": [
           0,
           1
          ]
         },
         "style": "open-street-map",
         "zoom": 8
        },
        "margin": {
         "t": 60
        },
        "sliders": [
         {
          "active": 0,
          "currentvalue": {
           "prefix": "day="
          },
          "len": 0.9,
          "pad": {
           "b": 10,
           "t": 60
          },
          "steps": [
           {
            "args": [
             [
              "0"
             ],
             {
              "frame": {
               "duration": 0,
               "redraw": true
              },
              "fromcurrent": true,
              "mode": "immediate",
              "transition": {
               "duration": 0,
               "easing": "linear"
              }
             }
            ],
            "label": "0",
            "method": "animate"
           },
           {
            "args": [
             [
              "1"
             ],
             {
              "frame": {
               "duration": 0,
               "redraw": true
              },
              "fromcurrent": true,
              "mode": "immediate",
              "transition": {
               "duration": 0,
               "easing": "linear"
              }
             }
            ],
            "label": "1",
            "method": "animate"
           },
           {
            "args": [
             [
              "2"
             ],
             {
              "frame": {
               "duration": 0,
               "redraw": true
              },
              "fromcurrent": true,
              "mode": "immediate",
              "transition": {
               "duration": 0,
               "easing": "linear"
              }
             }
            ],
            "label": "2",
            "method": "animate"
           },
           {
            "args": [
             [
              "3"
             ],
             {
              "frame": {
               "duration": 0,
               "redraw": true
              },
              "fromcurrent": true,
              "mode": "immediate",
              "transition": {
               "duration": 0,
               "easing": "linear"
              }
             }
            ],
            "label": "3",
            "method": "animate"
           },
           {
            "args": [
             [
              "4"
             ],
             {
              "frame": {
               "duration": 0,
               "redraw": true
              },
              "fromcurrent": true,
              "mode": "immediate",
              "transition": {
               "duration": 0,
               "easing": "linear"
              }
             }
            ],
            "label": "4",
            "method": "animate"
           },
           {
            "args": [
             [
              "5"
             ],
             {
              "frame": {
               "duration": 0,
               "redraw": true
              },
              "fromcurrent": true,
              "mode": "immediate",
              "transition": {
               "duration": 0,
               "easing": "linear"
              }
             }
            ],
            "label": "5",
            "method": "animate"
           },
           {
            "args": [
             [
              "6"
             ],
             {
              "frame": {
               "duration": 0,
               "redraw": true
              },
              "fromcurrent": true,
              "mode": "immediate",
              "transition": {
               "duration": 0,
               "easing": "linear"
              }
             }
            ],
            "label": "6",
            "method": "animate"
           },
           {
            "args": [
             [
              "7"
             ],
             {
              "frame": {
               "duration": 0,
               "redraw": true
              },
              "fromcurrent": true,
              "mode": "immediate",
              "transition": {
               "duration": 0,
               "easing": "linear"
              }
             }
            ],
            "label": "7",
            "method": "animate"
           },
           {
            "args": [
             [
              "8"
             ],
             {
              "frame": {
               "duration": 0,
               "redraw": true
              },
              "fromcurrent": true,
              "mode": "immediate",
              "transition": {
               "duration": 0,
               "easing": "linear"
              }
             }
            ],
            "label": "8",
            "method": "animate"
           },
           {
            "args": [
             [
              "9"
             ],
             {
              "frame": {
               "duration": 0,
               "redraw": true
              },
              "fromcurrent": true,
              "mode": "immediate",
              "transition": {
               "duration": 0,
               "easing": "linear"
              }
             }
            ],
            "label": "9",
            "method": "animate"
           },
           {
            "args": [
             [
              "10"
             ],
             {
              "frame": {
               "duration": 0,
               "redraw": true
              },
              "fromcurrent": true,
              "mode": "immediate",
              "transition": {
               "duration": 0,
               "easing": "linear"
              }
             }
            ],
            "label": "10",
            "method": "animate"
           },
           {
            "args": [
             [
              "11"
             ],
             {
              "frame": {
               "duration": 0,
               "redraw": true
              },
              "fromcurrent": true,
              "mode": "immediate",
              "transition": {
               "duration": 0,
               "easing": "linear"
              }
             }
            ],
            "label": "11",
            "method": "animate"
           },
           {
            "args": [
             [
              "12"
             ],
             {
              "frame": {
               "duration": 0,
               "redraw": true
              },
              "fromcurrent": true,
              "mode": "immediate",
              "transition": {
               "duration": 0,
               "easing": "linear"
              }
             }
            ],
            "label": "12",
            "method": "animate"
           },
           {
            "args": [
             [
              "13"
             ],
             {
              "frame": {
               "duration": 0,
               "redraw": true
              },
              "fromcurrent": true,
              "mode": "immediate",
              "transition": {
               "duration": 0,
               "easing": "linear"
              }
             }
            ],
            "label": "13",
            "method": "animate"
           },
           {
            "args": [
             [
              "14"
             ],
             {
              "frame": {
               "duration": 0,
               "redraw": true
              },
              "fromcurrent": true,
              "mode": "immediate",
              "transition": {
               "duration": 0,
               "easing": "linear"
              }
             }
            ],
            "label": "14",
            "method": "animate"
           },
           {
            "args": [
             [
              "15"
             ],
             {
              "frame": {
               "duration": 0,
               "redraw": true
              },
              "fromcurrent": true,
              "mode": "immediate",
              "transition": {
               "duration": 0,
               "easing": "linear"
              }
             }
            ],
            "label": "15",
            "method": "animate"
           },
           {
            "args": [
             [
              "16"
             ],
             {
              "frame": {
               "duration": 0,
               "redraw": true
              },
              "fromcurrent": true,
              "mode": "immediate",
              "transition": {
               "duration": 0,
               "easing": "linear"
              }
             }
            ],
            "label": "16",
            "method": "animate"
           },
           {
            "args": [
             [
              "17"
             ],
             {
              "frame": {
               "duration": 0,
               "redraw": true
              },
              "fromcurrent": true,
              "mode": "immediate",
              "transition": {
               "duration": 0,
               "easing": "linear"
              }
             }
            ],
            "label": "17",
            "method": "animate"
           },
           {
            "args": [
             [
              "18"
             ],
             {
              "frame": {
               "duration": 0,
               "redraw": true
              },
              "fromcurrent": true,
              "mode": "immediate",
              "transition": {
               "duration": 0,
               "easing": "linear"
              }
             }
            ],
            "label": "18",
            "method": "animate"
           },
           {
            "args": [
             [
              "19"
             ],
             {
              "frame": {
               "duration": 0,
               "redraw": true
              },
              "fromcurrent": true,
              "mode": "immediate",
              "transition": {
               "duration": 0,
               "easing": "linear"
              }
             }
            ],
            "label": "19",
            "method": "animate"
           },
           {
            "args": [
             [
              "20"
             ],
             {
              "frame": {
               "duration": 0,
               "redraw": true
              },
              "fromcurrent": true,
              "mode": "immediate",
              "transition": {
               "duration": 0,
               "easing": "linear"
              }
             }
            ],
            "label": "20",
            "method": "animate"
           },
           {
            "args": [
             [
              "21"
             ],
             {
              "frame": {
               "duration": 0,
               "redraw": true
              },
              "fromcurrent": true,
              "mode": "immediate",
              "transition": {
               "duration": 0,
               "easing": "linear"
              }
             }
            ],
            "label": "21",
            "method": "animate"
           },
           {
            "args": [
             [
              "22"
             ],
             {
              "frame": {
               "duration": 0,
               "redraw": true
              },
              "fromcurrent": true,
              "mode": "immediate",
              "transition": {
               "duration": 0,
               "easing": "linear"
              }
             }
            ],
            "label": "22",
            "method": "animate"
           },
           {
            "args": [
             [
              "23"
             ],
             {
              "frame": {
               "duration": 0,
               "redraw": true
              },
              "fromcurrent": true,
              "mode": "immediate",
              "transition": {
               "duration": 0,
               "easing": "linear"
              }
             }
            ],
            "label": "23",
            "method": "animate"
           },
           {
            "args": [
             [
              "24"
             ],
             {
              "frame": {
               "duration": 0,
               "redraw": true
              },
              "fromcurrent": true,
              "mode": "immediate",
              "transition": {
               "duration": 0,
               "easing": "linear"
              }
             }
            ],
            "label": "24",
            "method": "animate"
           },
           {
            "args": [
             [
              "25"
             ],
             {
              "frame": {
               "duration": 0,
               "redraw": true
              },
              "fromcurrent": true,
              "mode": "immediate",
              "transition": {
               "duration": 0,
               "easing": "linear"
              }
             }
            ],
            "label": "25",
            "method": "animate"
           },
           {
            "args": [
             [
              "26"
             ],
             {
              "frame": {
               "duration": 0,
               "redraw": true
              },
              "fromcurrent": true,
              "mode": "immediate",
              "transition": {
               "duration": 0,
               "easing": "linear"
              }
             }
            ],
            "label": "26",
            "method": "animate"
           },
           {
            "args": [
             [
              "27"
             ],
             {
              "frame": {
               "duration": 0,
               "redraw": true
              },
              "fromcurrent": true,
              "mode": "immediate",
              "transition": {
               "duration": 0,
               "easing": "linear"
              }
             }
            ],
            "label": "27",
            "method": "animate"
           },
           {
            "args": [
             [
              "28"
             ],
             {
              "frame": {
               "duration": 0,
               "redraw": true
              },
              "fromcurrent": true,
              "mode": "immediate",
              "transition": {
               "duration": 0,
               "easing": "linear"
              }
             }
            ],
            "label": "28",
            "method": "animate"
           },
           {
            "args": [
             [
              "29"
             ],
             {
              "frame": {
               "duration": 0,
               "redraw": true
              },
              "fromcurrent": true,
              "mode": "immediate",
              "transition": {
               "duration": 0,
               "easing": "linear"
              }
             }
            ],
            "label": "29",
            "method": "animate"
           },
           {
            "args": [
             [
              "30"
             ],
             {
              "frame": {
               "duration": 0,
               "redraw": true
              },
              "fromcurrent": true,
              "mode": "immediate",
              "transition": {
               "duration": 0,
               "easing": "linear"
              }
             }
            ],
            "label": "30",
            "method": "animate"
           },
           {
            "args": [
             [
              "31"
             ],
             {
              "frame": {
               "duration": 0,
               "redraw": true
              },
              "fromcurrent": true,
              "mode": "immediate",
              "transition": {
               "duration": 0,
               "easing": "linear"
              }
             }
            ],
            "label": "31",
            "method": "animate"
           },
           {
            "args": [
             [
              "32"
             ],
             {
              "frame": {
               "duration": 0,
               "redraw": true
              },
              "fromcurrent": true,
              "mode": "immediate",
              "transition": {
               "duration": 0,
               "easing": "linear"
              }
             }
            ],
            "label": "32",
            "method": "animate"
           },
           {
            "args": [
             [
              "33"
             ],
             {
              "frame": {
               "duration": 0,
               "redraw": true
              },
              "fromcurrent": true,
              "mode": "immediate",
              "transition": {
               "duration": 0,
               "easing": "linear"
              }
             }
            ],
            "label": "33",
            "method": "animate"
           },
           {
            "args": [
             [
              "34"
             ],
             {
              "frame": {
               "duration": 0,
               "redraw": true
              },
              "fromcurrent": true,
              "mode": "immediate",
              "transition": {
               "duration": 0,
               "easing": "linear"
              }
             }
            ],
            "label": "34",
            "method": "animate"
           },
           {
            "args": [
             [
              "35"
             ],
             {
              "frame": {
               "duration": 0,
               "redraw": true
              },
              "fromcurrent": true,
              "mode": "immediate",
              "transition": {
               "duration": 0,
               "easing": "linear"
              }
             }
            ],
            "label": "35",
            "method": "animate"
           },
           {
            "args": [
             [
              "36"
             ],
             {
              "frame": {
               "duration": 0,
               "redraw": true
              },
              "fromcurrent": true,
              "mode": "immediate",
              "transition": {
               "duration": 0,
               "easing": "linear"
              }
             }
            ],
            "label": "36",
            "method": "animate"
           },
           {
            "args": [
             [
              "37"
             ],
             {
              "frame": {
               "duration": 0,
               "redraw": true
              },
              "fromcurrent": true,
              "mode": "immediate",
              "transition": {
               "duration": 0,
               "easing": "linear"
              }
             }
            ],
            "label": "37",
            "method": "animate"
           },
           {
            "args": [
             [
              "38"
             ],
             {
              "frame": {
               "duration": 0,
               "redraw": true
              },
              "fromcurrent": true,
              "mode": "immediate",
              "transition": {
               "duration": 0,
               "easing": "linear"
              }
             }
            ],
            "label": "38",
            "method": "animate"
           },
           {
            "args": [
             [
              "39"
             ],
             {
              "frame": {
               "duration": 0,
               "redraw": true
              },
              "fromcurrent": true,
              "mode": "immediate",
              "transition": {
               "duration": 0,
               "easing": "linear"
              }
             }
            ],
            "label": "39",
            "method": "animate"
           },
           {
            "args": [
             [
              "40"
             ],
             {
              "frame": {
               "duration": 0,
               "redraw": true
              },
              "fromcurrent": true,
              "mode": "immediate",
              "transition": {
               "duration": 0,
               "easing": "linear"
              }
             }
            ],
            "label": "40",
            "method": "animate"
           },
           {
            "args": [
             [
              "41"
             ],
             {
              "frame": {
               "duration": 0,
               "redraw": true
              },
              "fromcurrent": true,
              "mode": "immediate",
              "transition": {
               "duration": 0,
               "easing": "linear"
              }
             }
            ],
            "label": "41",
            "method": "animate"
           },
           {
            "args": [
             [
              "42"
             ],
             {
              "frame": {
               "duration": 0,
               "redraw": true
              },
              "fromcurrent": true,
              "mode": "immediate",
              "transition": {
               "duration": 0,
               "easing": "linear"
              }
             }
            ],
            "label": "42",
            "method": "animate"
           },
           {
            "args": [
             [
              "43"
             ],
             {
              "frame": {
               "duration": 0,
               "redraw": true
              },
              "fromcurrent": true,
              "mode": "immediate",
              "transition": {
               "duration": 0,
               "easing": "linear"
              }
             }
            ],
            "label": "43",
            "method": "animate"
           },
           {
            "args": [
             [
              "44"
             ],
             {
              "frame": {
               "duration": 0,
               "redraw": true
              },
              "fromcurrent": true,
              "mode": "immediate",
              "transition": {
               "duration": 0,
               "easing": "linear"
              }
             }
            ],
            "label": "44",
            "method": "animate"
           },
           {
            "args": [
             [
              "45"
             ],
             {
              "frame": {
               "duration": 0,
               "redraw": true
              },
              "fromcurrent": true,
              "mode": "immediate",
              "transition": {
               "duration": 0,
               "easing": "linear"
              }
             }
            ],
            "label": "45",
            "method": "animate"
           },
           {
            "args": [
             [
              "46"
             ],
             {
              "frame": {
               "duration": 0,
               "redraw": true
              },
              "fromcurrent": true,
              "mode": "immediate",
              "transition": {
               "duration": 0,
               "easing": "linear"
              }
             }
            ],
            "label": "46",
            "method": "animate"
           },
           {
            "args": [
             [
              "47"
             ],
             {
              "frame": {
               "duration": 0,
               "redraw": true
              },
              "fromcurrent": true,
              "mode": "immediate",
              "transition": {
               "duration": 0,
               "easing": "linear"
              }
             }
            ],
            "label": "47",
            "method": "animate"
           },
           {
            "args": [
             [
              "48"
             ],
             {
              "frame": {
               "duration": 0,
               "redraw": true
              },
              "fromcurrent": true,
              "mode": "immediate",
              "transition": {
               "duration": 0,
               "easing": "linear"
              }
             }
            ],
            "label": "48",
            "method": "animate"
           },
           {
            "args": [
             [
              "49"
             ],
             {
              "frame": {
               "duration": 0,
               "redraw": true
              },
              "fromcurrent": true,
              "mode": "immediate",
              "transition": {
               "duration": 0,
               "easing": "linear"
              }
             }
            ],
            "label": "49",
            "method": "animate"
           },
           {
            "args": [
             [
              "50"
             ],
             {
              "frame": {
               "duration": 0,
               "redraw": true
              },
              "fromcurrent": true,
              "mode": "immediate",
              "transition": {
               "duration": 0,
               "easing": "linear"
              }
             }
            ],
            "label": "50",
            "method": "animate"
           },
           {
            "args": [
             [
              "51"
             ],
             {
              "frame": {
               "duration": 0,
               "redraw": true
              },
              "fromcurrent": true,
              "mode": "immediate",
              "transition": {
               "duration": 0,
               "easing": "linear"
              }
             }
            ],
            "label": "51",
            "method": "animate"
           },
           {
            "args": [
             [
              "52"
             ],
             {
              "frame": {
               "duration": 0,
               "redraw": true
              },
              "fromcurrent": true,
              "mode": "immediate",
              "transition": {
               "duration": 0,
               "easing": "linear"
              }
             }
            ],
            "label": "52",
            "method": "animate"
           },
           {
            "args": [
             [
              "53"
             ],
             {
              "frame": {
               "duration": 0,
               "redraw": true
              },
              "fromcurrent": true,
              "mode": "immediate",
              "transition": {
               "duration": 0,
               "easing": "linear"
              }
             }
            ],
            "label": "53",
            "method": "animate"
           },
           {
            "args": [
             [
              "54"
             ],
             {
              "frame": {
               "duration": 0,
               "redraw": true
              },
              "fromcurrent": true,
              "mode": "immediate",
              "transition": {
               "duration": 0,
               "easing": "linear"
              }
             }
            ],
            "label": "54",
            "method": "animate"
           },
           {
            "args": [
             [
              "55"
             ],
             {
              "frame": {
               "duration": 0,
               "redraw": true
              },
              "fromcurrent": true,
              "mode": "immediate",
              "transition": {
               "duration": 0,
               "easing": "linear"
              }
             }
            ],
            "label": "55",
            "method": "animate"
           },
           {
            "args": [
             [
              "56"
             ],
             {
              "frame": {
               "duration": 0,
               "redraw": true
              },
              "fromcurrent": true,
              "mode": "immediate",
              "transition": {
               "duration": 0,
               "easing": "linear"
              }
             }
            ],
            "label": "56",
            "method": "animate"
           },
           {
            "args": [
             [
              "57"
             ],
             {
              "frame": {
               "duration": 0,
               "redraw": true
              },
              "fromcurrent": true,
              "mode": "immediate",
              "transition": {
               "duration": 0,
               "easing": "linear"
              }
             }
            ],
            "label": "57",
            "method": "animate"
           },
           {
            "args": [
             [
              "58"
             ],
             {
              "frame": {
               "duration": 0,
               "redraw": true
              },
              "fromcurrent": true,
              "mode": "immediate",
              "transition": {
               "duration": 0,
               "easing": "linear"
              }
             }
            ],
            "label": "58",
            "method": "animate"
           },
           {
            "args": [
             [
              "59"
             ],
             {
              "frame": {
               "duration": 0,
               "redraw": true
              },
              "fromcurrent": true,
              "mode": "immediate",
              "transition": {
               "duration": 0,
               "easing": "linear"
              }
             }
            ],
            "label": "59",
            "method": "animate"
           },
           {
            "args": [
             [
              "60"
             ],
             {
              "frame": {
               "duration": 0,
               "redraw": true
              },
              "fromcurrent": true,
              "mode": "immediate",
              "transition": {
               "duration": 0,
               "easing": "linear"
              }
             }
            ],
            "label": "60",
            "method": "animate"
           },
           {
            "args": [
             [
              "61"
             ],
             {
              "frame": {
               "duration": 0,
               "redraw": true
              },
              "fromcurrent": true,
              "mode": "immediate",
              "transition": {
               "duration": 0,
               "easing": "linear"
              }
             }
            ],
            "label": "61",
            "method": "animate"
           },
           {
            "args": [
             [
              "62"
             ],
             {
              "frame": {
               "duration": 0,
               "redraw": true
              },
              "fromcurrent": true,
              "mode": "immediate",
              "transition": {
               "duration": 0,
               "easing": "linear"
              }
             }
            ],
            "label": "62",
            "method": "animate"
           },
           {
            "args": [
             [
              "63"
             ],
             {
              "frame": {
               "duration": 0,
               "redraw": true
              },
              "fromcurrent": true,
              "mode": "immediate",
              "transition": {
               "duration": 0,
               "easing": "linear"
              }
             }
            ],
            "label": "63",
            "method": "animate"
           },
           {
            "args": [
             [
              "64"
             ],
             {
              "frame": {
               "duration": 0,
               "redraw": true
              },
              "fromcurrent": true,
              "mode": "immediate",
              "transition": {
               "duration": 0,
               "easing": "linear"
              }
             }
            ],
            "label": "64",
            "method": "animate"
           },
           {
            "args": [
             [
              "65"
             ],
             {
              "frame": {
               "duration": 0,
               "redraw": true
              },
              "fromcurrent": true,
              "mode": "immediate",
              "transition": {
               "duration": 0,
               "easing": "linear"
              }
             }
            ],
            "label": "65",
            "method": "animate"
           },
           {
            "args": [
             [
              "66"
             ],
             {
              "frame": {
               "duration": 0,
               "redraw": true
              },
              "fromcurrent": true,
              "mode": "immediate",
              "transition": {
               "duration": 0,
               "easing": "linear"
              }
             }
            ],
            "label": "66",
            "method": "animate"
           },
           {
            "args": [
             [
              "67"
             ],
             {
              "frame": {
               "duration": 0,
               "redraw": true
              },
              "fromcurrent": true,
              "mode": "immediate",
              "transition": {
               "duration": 0,
               "easing": "linear"
              }
             }
            ],
            "label": "67",
            "method": "animate"
           },
           {
            "args": [
             [
              "68"
             ],
             {
              "frame": {
               "duration": 0,
               "redraw": true
              },
              "fromcurrent": true,
              "mode": "immediate",
              "transition": {
               "duration": 0,
               "easing": "linear"
              }
             }
            ],
            "label": "68",
            "method": "animate"
           },
           {
            "args": [
             [
              "69"
             ],
             {
              "frame": {
               "duration": 0,
               "redraw": true
              },
              "fromcurrent": true,
              "mode": "immediate",
              "transition": {
               "duration": 0,
               "easing": "linear"
              }
             }
            ],
            "label": "69",
            "method": "animate"
           },
           {
            "args": [
             [
              "70"
             ],
             {
              "frame": {
               "duration": 0,
               "redraw": true
              },
              "fromcurrent": true,
              "mode": "immediate",
              "transition": {
               "duration": 0,
               "easing": "linear"
              }
             }
            ],
            "label": "70",
            "method": "animate"
           },
           {
            "args": [
             [
              "71"
             ],
             {
              "frame": {
               "duration": 0,
               "redraw": true
              },
              "fromcurrent": true,
              "mode": "immediate",
              "transition": {
               "duration": 0,
               "easing": "linear"
              }
             }
            ],
            "label": "71",
            "method": "animate"
           },
           {
            "args": [
             [
              "72"
             ],
             {
              "frame": {
               "duration": 0,
               "redraw": true
              },
              "fromcurrent": true,
              "mode": "immediate",
              "transition": {
               "duration": 0,
               "easing": "linear"
              }
             }
            ],
            "label": "72",
            "method": "animate"
           },
           {
            "args": [
             [
              "73"
             ],
             {
              "frame": {
               "duration": 0,
               "redraw": true
              },
              "fromcurrent": true,
              "mode": "immediate",
              "transition": {
               "duration": 0,
               "easing": "linear"
              }
             }
            ],
            "label": "73",
            "method": "animate"
           },
           {
            "args": [
             [
              "74"
             ],
             {
              "frame": {
               "duration": 0,
               "redraw": true
              },
              "fromcurrent": true,
              "mode": "immediate",
              "transition": {
               "duration": 0,
               "easing": "linear"
              }
             }
            ],
            "label": "74",
            "method": "animate"
           },
           {
            "args": [
             [
              "75"
             ],
             {
              "frame": {
               "duration": 0,
               "redraw": true
              },
              "fromcurrent": true,
              "mode": "immediate",
              "transition": {
               "duration": 0,
               "easing": "linear"
              }
             }
            ],
            "label": "75",
            "method": "animate"
           },
           {
            "args": [
             [
              "76"
             ],
             {
              "frame": {
               "duration": 0,
               "redraw": true
              },
              "fromcurrent": true,
              "mode": "immediate",
              "transition": {
               "duration": 0,
               "easing": "linear"
              }
             }
            ],
            "label": "76",
            "method": "animate"
           },
           {
            "args": [
             [
              "77"
             ],
             {
              "frame": {
               "duration": 0,
               "redraw": true
              },
              "fromcurrent": true,
              "mode": "immediate",
              "transition": {
               "duration": 0,
               "easing": "linear"
              }
             }
            ],
            "label": "77",
            "method": "animate"
           },
           {
            "args": [
             [
              "78"
             ],
             {
              "frame": {
               "duration": 0,
               "redraw": true
              },
              "fromcurrent": true,
              "mode": "immediate",
              "transition": {
               "duration": 0,
               "easing": "linear"
              }
             }
            ],
            "label": "78",
            "method": "animate"
           },
           {
            "args": [
             [
              "79"
             ],
             {
              "frame": {
               "duration": 0,
               "redraw": true
              },
              "fromcurrent": true,
              "mode": "immediate",
              "transition": {
               "duration": 0,
               "easing": "linear"
              }
             }
            ],
            "label": "79",
            "method": "animate"
           },
           {
            "args": [
             [
              "80"
             ],
             {
              "frame": {
               "duration": 0,
               "redraw": true
              },
              "fromcurrent": true,
              "mode": "immediate",
              "transition": {
               "duration": 0,
               "easing": "linear"
              }
             }
            ],
            "label": "80",
            "method": "animate"
           },
           {
            "args": [
             [
              "81"
             ],
             {
              "frame": {
               "duration": 0,
               "redraw": true
              },
              "fromcurrent": true,
              "mode": "immediate",
              "transition": {
               "duration": 0,
               "easing": "linear"
              }
             }
            ],
            "label": "81",
            "method": "animate"
           },
           {
            "args": [
             [
              "82"
             ],
             {
              "frame": {
               "duration": 0,
               "redraw": true
              },
              "fromcurrent": true,
              "mode": "immediate",
              "transition": {
               "duration": 0,
               "easing": "linear"
              }
             }
            ],
            "label": "82",
            "method": "animate"
           },
           {
            "args": [
             [
              "83"
             ],
             {
              "frame": {
               "duration": 0,
               "redraw": true
              },
              "fromcurrent": true,
              "mode": "immediate",
              "transition": {
               "duration": 0,
               "easing": "linear"
              }
             }
            ],
            "label": "83",
            "method": "animate"
           },
           {
            "args": [
             [
              "84"
             ],
             {
              "frame": {
               "duration": 0,
               "redraw": true
              },
              "fromcurrent": true,
              "mode": "immediate",
              "transition": {
               "duration": 0,
               "easing": "linear"
              }
             }
            ],
            "label": "84",
            "method": "animate"
           },
           {
            "args": [
             [
              "85"
             ],
             {
              "frame": {
               "duration": 0,
               "redraw": true
              },
              "fromcurrent": true,
              "mode": "immediate",
              "transition": {
               "duration": 0,
               "easing": "linear"
              }
             }
            ],
            "label": "85",
            "method": "animate"
           },
           {
            "args": [
             [
              "86"
             ],
             {
              "frame": {
               "duration": 0,
               "redraw": true
              },
              "fromcurrent": true,
              "mode": "immediate",
              "transition": {
               "duration": 0,
               "easing": "linear"
              }
             }
            ],
            "label": "86",
            "method": "animate"
           },
           {
            "args": [
             [
              "87"
             ],
             {
              "frame": {
               "duration": 0,
               "redraw": true
              },
              "fromcurrent": true,
              "mode": "immediate",
              "transition": {
               "duration": 0,
               "easing": "linear"
              }
             }
            ],
            "label": "87",
            "method": "animate"
           },
           {
            "args": [
             [
              "88"
             ],
             {
              "frame": {
               "duration": 0,
               "redraw": true
              },
              "fromcurrent": true,
              "mode": "immediate",
              "transition": {
               "duration": 0,
               "easing": "linear"
              }
             }
            ],
            "label": "88",
            "method": "animate"
           },
           {
            "args": [
             [
              "89"
             ],
             {
              "frame": {
               "duration": 0,
               "redraw": true
              },
              "fromcurrent": true,
              "mode": "immediate",
              "transition": {
               "duration": 0,
               "easing": "linear"
              }
             }
            ],
            "label": "89",
            "method": "animate"
           },
           {
            "args": [
             [
              "90"
             ],
             {
              "frame": {
               "duration": 0,
               "redraw": true
              },
              "fromcurrent": true,
              "mode": "immediate",
              "transition": {
               "duration": 0,
               "easing": "linear"
              }
             }
            ],
            "label": "90",
            "method": "animate"
           },
           {
            "args": [
             [
              "91"
             ],
             {
              "frame": {
               "duration": 0,
               "redraw": true
              },
              "fromcurrent": true,
              "mode": "immediate",
              "transition": {
               "duration": 0,
               "easing": "linear"
              }
             }
            ],
            "label": "91",
            "method": "animate"
           },
           {
            "args": [
             [
              "92"
             ],
             {
              "frame": {
               "duration": 0,
               "redraw": true
              },
              "fromcurrent": true,
              "mode": "immediate",
              "transition": {
               "duration": 0,
               "easing": "linear"
              }
             }
            ],
            "label": "92",
            "method": "animate"
           },
           {
            "args": [
             [
              "93"
             ],
             {
              "frame": {
               "duration": 0,
               "redraw": true
              },
              "fromcurrent": true,
              "mode": "immediate",
              "transition": {
               "duration": 0,
               "easing": "linear"
              }
             }
            ],
            "label": "93",
            "method": "animate"
           },
           {
            "args": [
             [
              "94"
             ],
             {
              "frame": {
               "duration": 0,
               "redraw": true
              },
              "fromcurrent": true,
              "mode": "immediate",
              "transition": {
               "duration": 0,
               "easing": "linear"
              }
             }
            ],
            "label": "94",
            "method": "animate"
           },
           {
            "args": [
             [
              "95"
             ],
             {
              "frame": {
               "duration": 0,
               "redraw": true
              },
              "fromcurrent": true,
              "mode": "immediate",
              "transition": {
               "duration": 0,
               "easing": "linear"
              }
             }
            ],
            "label": "95",
            "method": "animate"
           },
           {
            "args": [
             [
              "96"
             ],
             {
              "frame": {
               "duration": 0,
               "redraw": true
              },
              "fromcurrent": true,
              "mode": "immediate",
              "transition": {
               "duration": 0,
               "easing": "linear"
              }
             }
            ],
            "label": "96",
            "method": "animate"
           },
           {
            "args": [
             [
              "97"
             ],
             {
              "frame": {
               "duration": 0,
               "redraw": true
              },
              "fromcurrent": true,
              "mode": "immediate",
              "transition": {
               "duration": 0,
               "easing": "linear"
              }
             }
            ],
            "label": "97",
            "method": "animate"
           },
           {
            "args": [
             [
              "98"
             ],
             {
              "frame": {
               "duration": 0,
               "redraw": true
              },
              "fromcurrent": true,
              "mode": "immediate",
              "transition": {
               "duration": 0,
               "easing": "linear"
              }
             }
            ],
            "label": "98",
            "method": "animate"
           },
           {
            "args": [
             [
              "99"
             ],
             {
              "frame": {
               "duration": 0,
               "redraw": true
              },
              "fromcurrent": true,
              "mode": "immediate",
              "transition": {
               "duration": 0,
               "easing": "linear"
              }
             }
            ],
            "label": "99",
            "method": "animate"
           },
           {
            "args": [
             [
              "100"
             ],
             {
              "frame": {
               "duration": 0,
               "redraw": true
              },
              "fromcurrent": true,
              "mode": "immediate",
              "transition": {
               "duration": 0,
               "easing": "linear"
              }
             }
            ],
            "label": "100",
            "method": "animate"
           },
           {
            "args": [
             [
              "101"
             ],
             {
              "frame": {
               "duration": 0,
               "redraw": true
              },
              "fromcurrent": true,
              "mode": "immediate",
              "transition": {
               "duration": 0,
               "easing": "linear"
              }
             }
            ],
            "label": "101",
            "method": "animate"
           },
           {
            "args": [
             [
              "102"
             ],
             {
              "frame": {
               "duration": 0,
               "redraw": true
              },
              "fromcurrent": true,
              "mode": "immediate",
              "transition": {
               "duration": 0,
               "easing": "linear"
              }
             }
            ],
            "label": "102",
            "method": "animate"
           },
           {
            "args": [
             [
              "103"
             ],
             {
              "frame": {
               "duration": 0,
               "redraw": true
              },
              "fromcurrent": true,
              "mode": "immediate",
              "transition": {
               "duration": 0,
               "easing": "linear"
              }
             }
            ],
            "label": "103",
            "method": "animate"
           },
           {
            "args": [
             [
              "104"
             ],
             {
              "frame": {
               "duration": 0,
               "redraw": true
              },
              "fromcurrent": true,
              "mode": "immediate",
              "transition": {
               "duration": 0,
               "easing": "linear"
              }
             }
            ],
            "label": "104",
            "method": "animate"
           },
           {
            "args": [
             [
              "105"
             ],
             {
              "frame": {
               "duration": 0,
               "redraw": true
              },
              "fromcurrent": true,
              "mode": "immediate",
              "transition": {
               "duration": 0,
               "easing": "linear"
              }
             }
            ],
            "label": "105",
            "method": "animate"
           },
           {
            "args": [
             [
              "106"
             ],
             {
              "frame": {
               "duration": 0,
               "redraw": true
              },
              "fromcurrent": true,
              "mode": "immediate",
              "transition": {
               "duration": 0,
               "easing": "linear"
              }
             }
            ],
            "label": "106",
            "method": "animate"
           },
           {
            "args": [
             [
              "107"
             ],
             {
              "frame": {
               "duration": 0,
               "redraw": true
              },
              "fromcurrent": true,
              "mode": "immediate",
              "transition": {
               "duration": 0,
               "easing": "linear"
              }
             }
            ],
            "label": "107",
            "method": "animate"
           },
           {
            "args": [
             [
              "108"
             ],
             {
              "frame": {
               "duration": 0,
               "redraw": true
              },
              "fromcurrent": true,
              "mode": "immediate",
              "transition": {
               "duration": 0,
               "easing": "linear"
              }
             }
            ],
            "label": "108",
            "method": "animate"
           },
           {
            "args": [
             [
              "109"
             ],
             {
              "frame": {
               "duration": 0,
               "redraw": true
              },
              "fromcurrent": true,
              "mode": "immediate",
              "transition": {
               "duration": 0,
               "easing": "linear"
              }
             }
            ],
            "label": "109",
            "method": "animate"
           },
           {
            "args": [
             [
              "110"
             ],
             {
              "frame": {
               "duration": 0,
               "redraw": true
              },
              "fromcurrent": true,
              "mode": "immediate",
              "transition": {
               "duration": 0,
               "easing": "linear"
              }
             }
            ],
            "label": "110",
            "method": "animate"
           },
           {
            "args": [
             [
              "111"
             ],
             {
              "frame": {
               "duration": 0,
               "redraw": true
              },
              "fromcurrent": true,
              "mode": "immediate",
              "transition": {
               "duration": 0,
               "easing": "linear"
              }
             }
            ],
            "label": "111",
            "method": "animate"
           },
           {
            "args": [
             [
              "112"
             ],
             {
              "frame": {
               "duration": 0,
               "redraw": true
              },
              "fromcurrent": true,
              "mode": "immediate",
              "transition": {
               "duration": 0,
               "easing": "linear"
              }
             }
            ],
            "label": "112",
            "method": "animate"
           },
           {
            "args": [
             [
              "113"
             ],
             {
              "frame": {
               "duration": 0,
               "redraw": true
              },
              "fromcurrent": true,
              "mode": "immediate",
              "transition": {
               "duration": 0,
               "easing": "linear"
              }
             }
            ],
            "label": "113",
            "method": "animate"
           },
           {
            "args": [
             [
              "114"
             ],
             {
              "frame": {
               "duration": 0,
               "redraw": true
              },
              "fromcurrent": true,
              "mode": "immediate",
              "transition": {
               "duration": 0,
               "easing": "linear"
              }
             }
            ],
            "label": "114",
            "method": "animate"
           },
           {
            "args": [
             [
              "115"
             ],
             {
              "frame": {
               "duration": 0,
               "redraw": true
              },
              "fromcurrent": true,
              "mode": "immediate",
              "transition": {
               "duration": 0,
               "easing": "linear"
              }
             }
            ],
            "label": "115",
            "method": "animate"
           },
           {
            "args": [
             [
              "116"
             ],
             {
              "frame": {
               "duration": 0,
               "redraw": true
              },
              "fromcurrent": true,
              "mode": "immediate",
              "transition": {
               "duration": 0,
               "easing": "linear"
              }
             }
            ],
            "label": "116",
            "method": "animate"
           },
           {
            "args": [
             [
              "117"
             ],
             {
              "frame": {
               "duration": 0,
               "redraw": true
              },
              "fromcurrent": true,
              "mode": "immediate",
              "transition": {
               "duration": 0,
               "easing": "linear"
              }
             }
            ],
            "label": "117",
            "method": "animate"
           },
           {
            "args": [
             [
              "118"
             ],
             {
              "frame": {
               "duration": 0,
               "redraw": true
              },
              "fromcurrent": true,
              "mode": "immediate",
              "transition": {
               "duration": 0,
               "easing": "linear"
              }
             }
            ],
            "label": "118",
            "method": "animate"
           },
           {
            "args": [
             [
              "119"
             ],
             {
              "frame": {
               "duration": 0,
               "redraw": true
              },
              "fromcurrent": true,
              "mode": "immediate",
              "transition": {
               "duration": 0,
               "easing": "linear"
              }
             }
            ],
            "label": "119",
            "method": "animate"
           },
           {
            "args": [
             [
              "120"
             ],
             {
              "frame": {
               "duration": 0,
               "redraw": true
              },
              "fromcurrent": true,
              "mode": "immediate",
              "transition": {
               "duration": 0,
               "easing": "linear"
              }
             }
            ],
            "label": "120",
            "method": "animate"
           },
           {
            "args": [
             [
              "121"
             ],
             {
              "frame": {
               "duration": 0,
               "redraw": true
              },
              "fromcurrent": true,
              "mode": "immediate",
              "transition": {
               "duration": 0,
               "easing": "linear"
              }
             }
            ],
            "label": "121",
            "method": "animate"
           },
           {
            "args": [
             [
              "122"
             ],
             {
              "frame": {
               "duration": 0,
               "redraw": true
              },
              "fromcurrent": true,
              "mode": "immediate",
              "transition": {
               "duration": 0,
               "easing": "linear"
              }
             }
            ],
            "label": "122",
            "method": "animate"
           },
           {
            "args": [
             [
              "123"
             ],
             {
              "frame": {
               "duration": 0,
               "redraw": true
              },
              "fromcurrent": true,
              "mode": "immediate",
              "transition": {
               "duration": 0,
               "easing": "linear"
              }
             }
            ],
            "label": "123",
            "method": "animate"
           },
           {
            "args": [
             [
              "124"
             ],
             {
              "frame": {
               "duration": 0,
               "redraw": true
              },
              "fromcurrent": true,
              "mode": "immediate",
              "transition": {
               "duration": 0,
               "easing": "linear"
              }
             }
            ],
            "label": "124",
            "method": "animate"
           },
           {
            "args": [
             [
              "125"
             ],
             {
              "frame": {
               "duration": 0,
               "redraw": true
              },
              "fromcurrent": true,
              "mode": "immediate",
              "transition": {
               "duration": 0,
               "easing": "linear"
              }
             }
            ],
            "label": "125",
            "method": "animate"
           },
           {
            "args": [
             [
              "126"
             ],
             {
              "frame": {
               "duration": 0,
               "redraw": true
              },
              "fromcurrent": true,
              "mode": "immediate",
              "transition": {
               "duration": 0,
               "easing": "linear"
              }
             }
            ],
            "label": "126",
            "method": "animate"
           },
           {
            "args": [
             [
              "127"
             ],
             {
              "frame": {
               "duration": 0,
               "redraw": true
              },
              "fromcurrent": true,
              "mode": "immediate",
              "transition": {
               "duration": 0,
               "easing": "linear"
              }
             }
            ],
            "label": "127",
            "method": "animate"
           },
           {
            "args": [
             [
              "128"
             ],
             {
              "frame": {
               "duration": 0,
               "redraw": true
              },
              "fromcurrent": true,
              "mode": "immediate",
              "transition": {
               "duration": 0,
               "easing": "linear"
              }
             }
            ],
            "label": "128",
            "method": "animate"
           },
           {
            "args": [
             [
              "129"
             ],
             {
              "frame": {
               "duration": 0,
               "redraw": true
              },
              "fromcurrent": true,
              "mode": "immediate",
              "transition": {
               "duration": 0,
               "easing": "linear"
              }
             }
            ],
            "label": "129",
            "method": "animate"
           },
           {
            "args": [
             [
              "130"
             ],
             {
              "frame": {
               "duration": 0,
               "redraw": true
              },
              "fromcurrent": true,
              "mode": "immediate",
              "transition": {
               "duration": 0,
               "easing": "linear"
              }
             }
            ],
            "label": "130",
            "method": "animate"
           },
           {
            "args": [
             [
              "131"
             ],
             {
              "frame": {
               "duration": 0,
               "redraw": true
              },
              "fromcurrent": true,
              "mode": "immediate",
              "transition": {
               "duration": 0,
               "easing": "linear"
              }
             }
            ],
            "label": "131",
            "method": "animate"
           },
           {
            "args": [
             [
              "132"
             ],
             {
              "frame": {
               "duration": 0,
               "redraw": true
              },
              "fromcurrent": true,
              "mode": "immediate",
              "transition": {
               "duration": 0,
               "easing": "linear"
              }
             }
            ],
            "label": "132",
            "method": "animate"
           },
           {
            "args": [
             [
              "133"
             ],
             {
              "frame": {
               "duration": 0,
               "redraw": true
              },
              "fromcurrent": true,
              "mode": "immediate",
              "transition": {
               "duration": 0,
               "easing": "linear"
              }
             }
            ],
            "label": "133",
            "method": "animate"
           },
           {
            "args": [
             [
              "134"
             ],
             {
              "frame": {
               "duration": 0,
               "redraw": true
              },
              "fromcurrent": true,
              "mode": "immediate",
              "transition": {
               "duration": 0,
               "easing": "linear"
              }
             }
            ],
            "label": "134",
            "method": "animate"
           },
           {
            "args": [
             [
              "135"
             ],
             {
              "frame": {
               "duration": 0,
               "redraw": true
              },
              "fromcurrent": true,
              "mode": "immediate",
              "transition": {
               "duration": 0,
               "easing": "linear"
              }
             }
            ],
            "label": "135",
            "method": "animate"
           },
           {
            "args": [
             [
              "136"
             ],
             {
              "frame": {
               "duration": 0,
               "redraw": true
              },
              "fromcurrent": true,
              "mode": "immediate",
              "transition": {
               "duration": 0,
               "easing": "linear"
              }
             }
            ],
            "label": "136",
            "method": "animate"
           },
           {
            "args": [
             [
              "137"
             ],
             {
              "frame": {
               "duration": 0,
               "redraw": true
              },
              "fromcurrent": true,
              "mode": "immediate",
              "transition": {
               "duration": 0,
               "easing": "linear"
              }
             }
            ],
            "label": "137",
            "method": "animate"
           },
           {
            "args": [
             [
              "138"
             ],
             {
              "frame": {
               "duration": 0,
               "redraw": true
              },
              "fromcurrent": true,
              "mode": "immediate",
              "transition": {
               "duration": 0,
               "easing": "linear"
              }
             }
            ],
            "label": "138",
            "method": "animate"
           },
           {
            "args": [
             [
              "139"
             ],
             {
              "frame": {
               "duration": 0,
               "redraw": true
              },
              "fromcurrent": true,
              "mode": "immediate",
              "transition": {
               "duration": 0,
               "easing": "linear"
              }
             }
            ],
            "label": "139",
            "method": "animate"
           }
          ],
          "x": 0.1,
          "xanchor": "left",
          "y": 0,
          "yanchor": "top"
         }
        ],
        "template": {
         "data": {
          "bar": [
           {
            "error_x": {
             "color": "#2a3f5f"
            },
            "error_y": {
             "color": "#2a3f5f"
            },
            "marker": {
             "line": {
              "color": "#E5ECF6",
              "width": 0.5
             }
            },
            "type": "bar"
           }
          ],
          "barpolar": [
           {
            "marker": {
             "line": {
              "color": "#E5ECF6",
              "width": 0.5
             }
            },
            "type": "barpolar"
           }
          ],
          "carpet": [
           {
            "aaxis": {
             "endlinecolor": "#2a3f5f",
             "gridcolor": "white",
             "linecolor": "white",
             "minorgridcolor": "white",
             "startlinecolor": "#2a3f5f"
            },
            "baxis": {
             "endlinecolor": "#2a3f5f",
             "gridcolor": "white",
             "linecolor": "white",
             "minorgridcolor": "white",
             "startlinecolor": "#2a3f5f"
            },
            "type": "carpet"
           }
          ],
          "choropleth": [
           {
            "colorbar": {
             "outlinewidth": 0,
             "ticks": ""
            },
            "type": "choropleth"
           }
          ],
          "contour": [
           {
            "colorbar": {
             "outlinewidth": 0,
             "ticks": ""
            },
            "colorscale": [
             [
              0,
              "#0d0887"
             ],
             [
              0.1111111111111111,
              "#46039f"
             ],
             [
              0.2222222222222222,
              "#7201a8"
             ],
             [
              0.3333333333333333,
              "#9c179e"
             ],
             [
              0.4444444444444444,
              "#bd3786"
             ],
             [
              0.5555555555555556,
              "#d8576b"
             ],
             [
              0.6666666666666666,
              "#ed7953"
             ],
             [
              0.7777777777777778,
              "#fb9f3a"
             ],
             [
              0.8888888888888888,
              "#fdca26"
             ],
             [
              1,
              "#f0f921"
             ]
            ],
            "type": "contour"
           }
          ],
          "contourcarpet": [
           {
            "colorbar": {
             "outlinewidth": 0,
             "ticks": ""
            },
            "type": "contourcarpet"
           }
          ],
          "heatmap": [
           {
            "colorbar": {
             "outlinewidth": 0,
             "ticks": ""
            },
            "colorscale": [
             [
              0,
              "#0d0887"
             ],
             [
              0.1111111111111111,
              "#46039f"
             ],
             [
              0.2222222222222222,
              "#7201a8"
             ],
             [
              0.3333333333333333,
              "#9c179e"
             ],
             [
              0.4444444444444444,
              "#bd3786"
             ],
             [
              0.5555555555555556,
              "#d8576b"
             ],
             [
              0.6666666666666666,
              "#ed7953"
             ],
             [
              0.7777777777777778,
              "#fb9f3a"
             ],
             [
              0.8888888888888888,
              "#fdca26"
             ],
             [
              1,
              "#f0f921"
             ]
            ],
            "type": "heatmap"
           }
          ],
          "heatmapgl": [
           {
            "colorbar": {
             "outlinewidth": 0,
             "ticks": ""
            },
            "colorscale": [
             [
              0,
              "#0d0887"
             ],
             [
              0.1111111111111111,
              "#46039f"
             ],
             [
              0.2222222222222222,
              "#7201a8"
             ],
             [
              0.3333333333333333,
              "#9c179e"
             ],
             [
              0.4444444444444444,
              "#bd3786"
             ],
             [
              0.5555555555555556,
              "#d8576b"
             ],
             [
              0.6666666666666666,
              "#ed7953"
             ],
             [
              0.7777777777777778,
              "#fb9f3a"
             ],
             [
              0.8888888888888888,
              "#fdca26"
             ],
             [
              1,
              "#f0f921"
             ]
            ],
            "type": "heatmapgl"
           }
          ],
          "histogram": [
           {
            "marker": {
             "colorbar": {
              "outlinewidth": 0,
              "ticks": ""
             }
            },
            "type": "histogram"
           }
          ],
          "histogram2d": [
           {
            "colorbar": {
             "outlinewidth": 0,
             "ticks": ""
            },
            "colorscale": [
             [
              0,
              "#0d0887"
             ],
             [
              0.1111111111111111,
              "#46039f"
             ],
             [
              0.2222222222222222,
              "#7201a8"
             ],
             [
              0.3333333333333333,
              "#9c179e"
             ],
             [
              0.4444444444444444,
              "#bd3786"
             ],
             [
              0.5555555555555556,
              "#d8576b"
             ],
             [
              0.6666666666666666,
              "#ed7953"
             ],
             [
              0.7777777777777778,
              "#fb9f3a"
             ],
             [
              0.8888888888888888,
              "#fdca26"
             ],
             [
              1,
              "#f0f921"
             ]
            ],
            "type": "histogram2d"
           }
          ],
          "histogram2dcontour": [
           {
            "colorbar": {
             "outlinewidth": 0,
             "ticks": ""
            },
            "colorscale": [
             [
              0,
              "#0d0887"
             ],
             [
              0.1111111111111111,
              "#46039f"
             ],
             [
              0.2222222222222222,
              "#7201a8"
             ],
             [
              0.3333333333333333,
              "#9c179e"
             ],
             [
              0.4444444444444444,
              "#bd3786"
             ],
             [
              0.5555555555555556,
              "#d8576b"
             ],
             [
              0.6666666666666666,
              "#ed7953"
             ],
             [
              0.7777777777777778,
              "#fb9f3a"
             ],
             [
              0.8888888888888888,
              "#fdca26"
             ],
             [
              1,
              "#f0f921"
             ]
            ],
            "type": "histogram2dcontour"
           }
          ],
          "mesh3d": [
           {
            "colorbar": {
             "outlinewidth": 0,
             "ticks": ""
            },
            "type": "mesh3d"
           }
          ],
          "parcoords": [
           {
            "line": {
             "colorbar": {
              "outlinewidth": 0,
              "ticks": ""
             }
            },
            "type": "parcoords"
           }
          ],
          "pie": [
           {
            "automargin": true,
            "type": "pie"
           }
          ],
          "scatter": [
           {
            "marker": {
             "colorbar": {
              "outlinewidth": 0,
              "ticks": ""
             }
            },
            "type": "scatter"
           }
          ],
          "scatter3d": [
           {
            "line": {
             "colorbar": {
              "outlinewidth": 0,
              "ticks": ""
             }
            },
            "marker": {
             "colorbar": {
              "outlinewidth": 0,
              "ticks": ""
             }
            },
            "type": "scatter3d"
           }
          ],
          "scattercarpet": [
           {
            "marker": {
             "colorbar": {
              "outlinewidth": 0,
              "ticks": ""
             }
            },
            "type": "scattercarpet"
           }
          ],
          "scattergeo": [
           {
            "marker": {
             "colorbar": {
              "outlinewidth": 0,
              "ticks": ""
             }
            },
            "type": "scattergeo"
           }
          ],
          "scattergl": [
           {
            "marker": {
             "colorbar": {
              "outlinewidth": 0,
              "ticks": ""
             }
            },
            "type": "scattergl"
           }
          ],
          "scattermapbox": [
           {
            "marker": {
             "colorbar": {
              "outlinewidth": 0,
              "ticks": ""
             }
            },
            "type": "scattermapbox"
           }
          ],
          "scatterpolar": [
           {
            "marker": {
             "colorbar": {
              "outlinewidth": 0,
              "ticks": ""
             }
            },
            "type": "scatterpolar"
           }
          ],
          "scatterpolargl": [
           {
            "marker": {
             "colorbar": {
              "outlinewidth": 0,
              "ticks": ""
             }
            },
            "type": "scatterpolargl"
           }
          ],
          "scatterternary": [
           {
            "marker": {
             "colorbar": {
              "outlinewidth": 0,
              "ticks": ""
             }
            },
            "type": "scatterternary"
           }
          ],
          "surface": [
           {
            "colorbar": {
             "outlinewidth": 0,
             "ticks": ""
            },
            "colorscale": [
             [
              0,
              "#0d0887"
             ],
             [
              0.1111111111111111,
              "#46039f"
             ],
             [
              0.2222222222222222,
              "#7201a8"
             ],
             [
              0.3333333333333333,
              "#9c179e"
             ],
             [
              0.4444444444444444,
              "#bd3786"
             ],
             [
              0.5555555555555556,
              "#d8576b"
             ],
             [
              0.6666666666666666,
              "#ed7953"
             ],
             [
              0.7777777777777778,
              "#fb9f3a"
             ],
             [
              0.8888888888888888,
              "#fdca26"
             ],
             [
              1,
              "#f0f921"
             ]
            ],
            "type": "surface"
           }
          ],
          "table": [
           {
            "cells": {
             "fill": {
              "color": "#EBF0F8"
             },
             "line": {
              "color": "white"
             }
            },
            "header": {
             "fill": {
              "color": "#C8D4E3"
             },
             "line": {
              "color": "white"
             }
            },
            "type": "table"
           }
          ]
         },
         "layout": {
          "annotationdefaults": {
           "arrowcolor": "#2a3f5f",
           "arrowhead": 0,
           "arrowwidth": 1
          },
          "coloraxis": {
           "colorbar": {
            "outlinewidth": 0,
            "ticks": ""
           }
          },
          "colorscale": {
           "diverging": [
            [
             0,
             "#8e0152"
            ],
            [
             0.1,
             "#c51b7d"
            ],
            [
             0.2,
             "#de77ae"
            ],
            [
             0.3,
             "#f1b6da"
            ],
            [
             0.4,
             "#fde0ef"
            ],
            [
             0.5,
             "#f7f7f7"
            ],
            [
             0.6,
             "#e6f5d0"
            ],
            [
             0.7,
             "#b8e186"
            ],
            [
             0.8,
             "#7fbc41"
            ],
            [
             0.9,
             "#4d9221"
            ],
            [
             1,
             "#276419"
            ]
           ],
           "sequential": [
            [
             0,
             "#0d0887"
            ],
            [
             0.1111111111111111,
             "#46039f"
            ],
            [
             0.2222222222222222,
             "#7201a8"
            ],
            [
             0.3333333333333333,
             "#9c179e"
            ],
            [
             0.4444444444444444,
             "#bd3786"
            ],
            [
             0.5555555555555556,
             "#d8576b"
            ],
            [
             0.6666666666666666,
             "#ed7953"
            ],
            [
             0.7777777777777778,
             "#fb9f3a"
            ],
            [
             0.8888888888888888,
             "#fdca26"
            ],
            [
             1,
             "#f0f921"
            ]
           ],
           "sequentialminus": [
            [
             0,
             "#0d0887"
            ],
            [
             0.1111111111111111,
             "#46039f"
            ],
            [
             0.2222222222222222,
             "#7201a8"
            ],
            [
             0.3333333333333333,
             "#9c179e"
            ],
            [
             0.4444444444444444,
             "#bd3786"
            ],
            [
             0.5555555555555556,
             "#d8576b"
            ],
            [
             0.6666666666666666,
             "#ed7953"
            ],
            [
             0.7777777777777778,
             "#fb9f3a"
            ],
            [
             0.8888888888888888,
             "#fdca26"
            ],
            [
             1,
             "#f0f921"
            ]
           ]
          },
          "colorway": [
           "#636efa",
           "#EF553B",
           "#00cc96",
           "#ab63fa",
           "#FFA15A",
           "#19d3f3",
           "#FF6692",
           "#B6E880",
           "#FF97FF",
           "#FECB52"
          ],
          "font": {
           "color": "#2a3f5f"
          },
          "geo": {
           "bgcolor": "white",
           "lakecolor": "white",
           "landcolor": "#E5ECF6",
           "showlakes": true,
           "showland": true,
           "subunitcolor": "white"
          },
          "hoverlabel": {
           "align": "left"
          },
          "hovermode": "closest",
          "mapbox": {
           "style": "light"
          },
          "paper_bgcolor": "white",
          "plot_bgcolor": "#E5ECF6",
          "polar": {
           "angularaxis": {
            "gridcolor": "white",
            "linecolor": "white",
            "ticks": ""
           },
           "bgcolor": "#E5ECF6",
           "radialaxis": {
            "gridcolor": "white",
            "linecolor": "white",
            "ticks": ""
           }
          },
          "scene": {
           "xaxis": {
            "backgroundcolor": "#E5ECF6",
            "gridcolor": "white",
            "gridwidth": 2,
            "linecolor": "white",
            "showbackground": true,
            "ticks": "",
            "zerolinecolor": "white"
           },
           "yaxis": {
            "backgroundcolor": "#E5ECF6",
            "gridcolor": "white",
            "gridwidth": 2,
            "linecolor": "white",
            "showbackground": true,
            "ticks": "",
            "zerolinecolor": "white"
           },
           "zaxis": {
            "backgroundcolor": "#E5ECF6",
            "gridcolor": "white",
            "gridwidth": 2,
            "linecolor": "white",
            "showbackground": true,
            "ticks": "",
            "zerolinecolor": "white"
           }
          },
          "shapedefaults": {
           "line": {
            "color": "#2a3f5f"
           }
          },
          "ternary": {
           "aaxis": {
            "gridcolor": "white",
            "linecolor": "white",
            "ticks": ""
           },
           "baxis": {
            "gridcolor": "white",
            "linecolor": "white",
            "ticks": ""
           },
           "bgcolor": "#E5ECF6",
           "caxis": {
            "gridcolor": "white",
            "linecolor": "white",
            "ticks": ""
           }
          },
          "title": {
           "x": 0.05
          },
          "xaxis": {
           "automargin": true,
           "gridcolor": "white",
           "linecolor": "white",
           "ticks": "",
           "title": {
            "standoff": 15
           },
           "zerolinecolor": "white",
           "zerolinewidth": 2
          },
          "yaxis": {
           "automargin": true,
           "gridcolor": "white",
           "linecolor": "white",
           "ticks": "",
           "title": {
            "standoff": 15
           },
           "zerolinecolor": "white",
           "zerolinewidth": 2
          }
         }
        },
        "updatemenus": [
         {
          "buttons": [
           {
            "args": [
             null,
             {
              "frame": {
               "duration": 500,
               "redraw": true
              },
              "fromcurrent": true,
              "mode": "immediate",
              "transition": {
               "duration": 500,
               "easing": "linear"
              }
             }
            ],
            "label": "&#9654;",
            "method": "animate"
           },
           {
            "args": [
             [
              null
             ],
             {
              "frame": {
               "duration": 0,
               "redraw": true
              },
              "fromcurrent": true,
              "mode": "immediate",
              "transition": {
               "duration": 0,
               "easing": "linear"
              }
             }
            ],
            "label": "&#9724;",
            "method": "animate"
           }
          ],
          "direction": "left",
          "pad": {
           "r": 10,
           "t": 70
          },
          "showactive": false,
          "type": "buttons",
          "x": 0.1,
          "xanchor": "right",
          "y": 0,
          "yanchor": "top"
         }
        ]
       }
      },
      "text/html": [
       "<div>\n",
       "        \n",
       "        \n",
       "            <div id=\"474ed3e1-bb33-4a6f-b48b-fb95c94d87f2\" class=\"plotly-graph-div\" style=\"height:525px; width:100%;\"></div>\n",
       "            <script type=\"text/javascript\">\n",
       "                require([\"plotly\"], function(Plotly) {\n",
       "                    window.PLOTLYENV=window.PLOTLYENV || {};\n",
       "                    \n",
       "                if (document.getElementById(\"474ed3e1-bb33-4a6f-b48b-fb95c94d87f2\")) {\n",
       "                    Plotly.newPlot(\n",
       "                        '474ed3e1-bb33-4a6f-b48b-fb95c94d87f2',\n",
       "                        [{\"customdata\": [[0, 0, 0, \"region\"], [0, 0, 0, \"region\"], [0, 1, -1, \"point\"], [0, 2, 9, \"region\"]], \"hoverlabel\": {\"namelength\": 0}, \"hovertemplate\": \"day=%{customdata[0]}<br>timeslot=%{customdata[1]}<br>region=%{customdata[2]}<br>kind=%{customdata[3]}<br>latitude=%{lat}<br>longitude=%{lon}\", \"lat\": [59.31426096, 59.31426096, 59.31426096, 59.34305210000001], \"legendgroup\": \"\", \"line\": {\"color\": \"#636efa\"}, \"lon\": [18.07653494, 18.07653494, 18.07653494, 18.05174887], \"mode\": \"lines\", \"name\": \"\", \"showlegend\": false, \"subplot\": \"mapbox\", \"type\": \"scattermapbox\"}],\n",
       "                        {\"legend\": {\"tracegroupgap\": 0}, \"mapbox\": {\"center\": {\"lat\": 59.27843394783414, \"lon\": 17.995893174246152}, \"domain\": {\"x\": [0.0, 1.0], \"y\": [0.0, 1.0]}, \"style\": \"open-street-map\", \"zoom\": 8}, \"margin\": {\"t\": 60}, \"sliders\": [{\"active\": 0, \"currentvalue\": {\"prefix\": \"day=\"}, \"len\": 0.9, \"pad\": {\"b\": 10, \"t\": 60}, \"steps\": [{\"args\": [[\"0\"], {\"frame\": {\"duration\": 0, \"redraw\": true}, \"fromcurrent\": true, \"mode\": \"immediate\", \"transition\": {\"duration\": 0, \"easing\": \"linear\"}}], \"label\": \"0\", \"method\": \"animate\"}, {\"args\": [[\"1\"], {\"frame\": {\"duration\": 0, \"redraw\": true}, \"fromcurrent\": true, \"mode\": \"immediate\", \"transition\": {\"duration\": 0, \"easing\": \"linear\"}}], \"label\": \"1\", \"method\": \"animate\"}, {\"args\": [[\"2\"], {\"frame\": {\"duration\": 0, \"redraw\": true}, \"fromcurrent\": true, \"mode\": \"immediate\", \"transition\": {\"duration\": 0, \"easing\": \"linear\"}}], \"label\": \"2\", \"method\": \"animate\"}, {\"args\": [[\"3\"], {\"frame\": {\"duration\": 0, \"redraw\": true}, \"fromcurrent\": true, \"mode\": \"immediate\", \"transition\": {\"duration\": 0, \"easing\": \"linear\"}}], \"label\": \"3\", \"method\": \"animate\"}, {\"args\": [[\"4\"], {\"frame\": {\"duration\": 0, \"redraw\": true}, \"fromcurrent\": true, \"mode\": \"immediate\", \"transition\": {\"duration\": 0, \"easing\": \"linear\"}}], \"label\": \"4\", \"method\": \"animate\"}, {\"args\": [[\"5\"], {\"frame\": {\"duration\": 0, \"redraw\": true}, \"fromcurrent\": true, \"mode\": \"immediate\", \"transition\": {\"duration\": 0, \"easing\": \"linear\"}}], \"label\": \"5\", \"method\": \"animate\"}, {\"args\": [[\"6\"], {\"frame\": {\"duration\": 0, \"redraw\": true}, \"fromcurrent\": true, \"mode\": \"immediate\", \"transition\": {\"duration\": 0, \"easing\": \"linear\"}}], \"label\": \"6\", \"method\": \"animate\"}, {\"args\": [[\"7\"], {\"frame\": {\"duration\": 0, \"redraw\": true}, \"fromcurrent\": true, \"mode\": \"immediate\", \"transition\": {\"duration\": 0, \"easing\": \"linear\"}}], \"label\": \"7\", \"method\": \"animate\"}, {\"args\": [[\"8\"], {\"frame\": {\"duration\": 0, \"redraw\": true}, \"fromcurrent\": true, \"mode\": \"immediate\", \"transition\": {\"duration\": 0, \"easing\": \"linear\"}}], \"label\": \"8\", \"method\": \"animate\"}, {\"args\": [[\"9\"], {\"frame\": {\"duration\": 0, \"redraw\": true}, \"fromcurrent\": true, \"mode\": \"immediate\", \"transition\": {\"duration\": 0, \"easing\": \"linear\"}}], \"label\": \"9\", \"method\": \"animate\"}, {\"args\": [[\"10\"], {\"frame\": {\"duration\": 0, \"redraw\": true}, \"fromcurrent\": true, \"mode\": \"immediate\", \"transition\": {\"duration\": 0, \"easing\": \"linear\"}}], \"label\": \"10\", \"method\": \"animate\"}, {\"args\": [[\"11\"], {\"frame\": {\"duration\": 0, \"redraw\": true}, \"fromcurrent\": true, \"mode\": \"immediate\", \"transition\": {\"duration\": 0, \"easing\": \"linear\"}}], \"label\": \"11\", \"method\": \"animate\"}, {\"args\": [[\"12\"], {\"frame\": {\"duration\": 0, \"redraw\": true}, \"fromcurrent\": true, \"mode\": \"immediate\", \"transition\": {\"duration\": 0, \"easing\": \"linear\"}}], \"label\": \"12\", \"method\": \"animate\"}, {\"args\": [[\"13\"], {\"frame\": {\"duration\": 0, \"redraw\": true}, \"fromcurrent\": true, \"mode\": \"immediate\", \"transition\": {\"duration\": 0, \"easing\": \"linear\"}}], \"label\": \"13\", \"method\": \"animate\"}, {\"args\": [[\"14\"], {\"frame\": {\"duration\": 0, \"redraw\": true}, \"fromcurrent\": true, \"mode\": \"immediate\", \"transition\": {\"duration\": 0, \"easing\": \"linear\"}}], \"label\": \"14\", \"method\": \"animate\"}, {\"args\": [[\"15\"], {\"frame\": {\"duration\": 0, \"redraw\": true}, \"fromcurrent\": true, \"mode\": \"immediate\", \"transition\": {\"duration\": 0, \"easing\": \"linear\"}}], \"label\": \"15\", \"method\": \"animate\"}, {\"args\": [[\"16\"], {\"frame\": {\"duration\": 0, \"redraw\": true}, \"fromcurrent\": true, \"mode\": \"immediate\", \"transition\": {\"duration\": 0, \"easing\": \"linear\"}}], \"label\": \"16\", \"method\": \"animate\"}, {\"args\": [[\"17\"], {\"frame\": {\"duration\": 0, \"redraw\": true}, \"fromcurrent\": true, \"mode\": \"immediate\", \"transition\": {\"duration\": 0, \"easing\": \"linear\"}}], \"label\": \"17\", \"method\": \"animate\"}, {\"args\": [[\"18\"], {\"frame\": {\"duration\": 0, \"redraw\": true}, \"fromcurrent\": true, \"mode\": \"immediate\", \"transition\": {\"duration\": 0, \"easing\": \"linear\"}}], \"label\": \"18\", \"method\": \"animate\"}, {\"args\": [[\"19\"], {\"frame\": {\"duration\": 0, \"redraw\": true}, \"fromcurrent\": true, \"mode\": \"immediate\", \"transition\": {\"duration\": 0, \"easing\": \"linear\"}}], \"label\": \"19\", \"method\": \"animate\"}, {\"args\": [[\"20\"], {\"frame\": {\"duration\": 0, \"redraw\": true}, \"fromcurrent\": true, \"mode\": \"immediate\", \"transition\": {\"duration\": 0, \"easing\": \"linear\"}}], \"label\": \"20\", \"method\": \"animate\"}, {\"args\": [[\"21\"], {\"frame\": {\"duration\": 0, \"redraw\": true}, \"fromcurrent\": true, \"mode\": \"immediate\", \"transition\": {\"duration\": 0, \"easing\": \"linear\"}}], \"label\": \"21\", \"method\": \"animate\"}, {\"args\": [[\"22\"], {\"frame\": {\"duration\": 0, \"redraw\": true}, \"fromcurrent\": true, \"mode\": \"immediate\", \"transition\": {\"duration\": 0, \"easing\": \"linear\"}}], \"label\": \"22\", \"method\": \"animate\"}, {\"args\": [[\"23\"], {\"frame\": {\"duration\": 0, \"redraw\": true}, \"fromcurrent\": true, \"mode\": \"immediate\", \"transition\": {\"duration\": 0, \"easing\": \"linear\"}}], \"label\": \"23\", \"method\": \"animate\"}, {\"args\": [[\"24\"], {\"frame\": {\"duration\": 0, \"redraw\": true}, \"fromcurrent\": true, \"mode\": \"immediate\", \"transition\": {\"duration\": 0, \"easing\": \"linear\"}}], \"label\": \"24\", \"method\": \"animate\"}, {\"args\": [[\"25\"], {\"frame\": {\"duration\": 0, \"redraw\": true}, \"fromcurrent\": true, \"mode\": \"immediate\", \"transition\": {\"duration\": 0, \"easing\": \"linear\"}}], \"label\": \"25\", \"method\": \"animate\"}, {\"args\": [[\"26\"], {\"frame\": {\"duration\": 0, \"redraw\": true}, \"fromcurrent\": true, \"mode\": \"immediate\", \"transition\": {\"duration\": 0, \"easing\": \"linear\"}}], \"label\": \"26\", \"method\": \"animate\"}, {\"args\": [[\"27\"], {\"frame\": {\"duration\": 0, \"redraw\": true}, \"fromcurrent\": true, \"mode\": \"immediate\", \"transition\": {\"duration\": 0, \"easing\": \"linear\"}}], \"label\": \"27\", \"method\": \"animate\"}, {\"args\": [[\"28\"], {\"frame\": {\"duration\": 0, \"redraw\": true}, \"fromcurrent\": true, \"mode\": \"immediate\", \"transition\": {\"duration\": 0, \"easing\": \"linear\"}}], \"label\": \"28\", \"method\": \"animate\"}, {\"args\": [[\"29\"], {\"frame\": {\"duration\": 0, \"redraw\": true}, \"fromcurrent\": true, \"mode\": \"immediate\", \"transition\": {\"duration\": 0, \"easing\": \"linear\"}}], \"label\": \"29\", \"method\": \"animate\"}, {\"args\": [[\"30\"], {\"frame\": {\"duration\": 0, \"redraw\": true}, \"fromcurrent\": true, \"mode\": \"immediate\", \"transition\": {\"duration\": 0, \"easing\": \"linear\"}}], \"label\": \"30\", \"method\": \"animate\"}, {\"args\": [[\"31\"], {\"frame\": {\"duration\": 0, \"redraw\": true}, \"fromcurrent\": true, \"mode\": \"immediate\", \"transition\": {\"duration\": 0, \"easing\": \"linear\"}}], \"label\": \"31\", \"method\": \"animate\"}, {\"args\": [[\"32\"], {\"frame\": {\"duration\": 0, \"redraw\": true}, \"fromcurrent\": true, \"mode\": \"immediate\", \"transition\": {\"duration\": 0, \"easing\": \"linear\"}}], \"label\": \"32\", \"method\": \"animate\"}, {\"args\": [[\"33\"], {\"frame\": {\"duration\": 0, \"redraw\": true}, \"fromcurrent\": true, \"mode\": \"immediate\", \"transition\": {\"duration\": 0, \"easing\": \"linear\"}}], \"label\": \"33\", \"method\": \"animate\"}, {\"args\": [[\"34\"], {\"frame\": {\"duration\": 0, \"redraw\": true}, \"fromcurrent\": true, \"mode\": \"immediate\", \"transition\": {\"duration\": 0, \"easing\": \"linear\"}}], \"label\": \"34\", \"method\": \"animate\"}, {\"args\": [[\"35\"], {\"frame\": {\"duration\": 0, \"redraw\": true}, \"fromcurrent\": true, \"mode\": \"immediate\", \"transition\": {\"duration\": 0, \"easing\": \"linear\"}}], \"label\": \"35\", \"method\": \"animate\"}, {\"args\": [[\"36\"], {\"frame\": {\"duration\": 0, \"redraw\": true}, \"fromcurrent\": true, \"mode\": \"immediate\", \"transition\": {\"duration\": 0, \"easing\": \"linear\"}}], \"label\": \"36\", \"method\": \"animate\"}, {\"args\": [[\"37\"], {\"frame\": {\"duration\": 0, \"redraw\": true}, \"fromcurrent\": true, \"mode\": \"immediate\", \"transition\": {\"duration\": 0, \"easing\": \"linear\"}}], \"label\": \"37\", \"method\": \"animate\"}, {\"args\": [[\"38\"], {\"frame\": {\"duration\": 0, \"redraw\": true}, \"fromcurrent\": true, \"mode\": \"immediate\", \"transition\": {\"duration\": 0, \"easing\": \"linear\"}}], \"label\": \"38\", \"method\": \"animate\"}, {\"args\": [[\"39\"], {\"frame\": {\"duration\": 0, \"redraw\": true}, \"fromcurrent\": true, \"mode\": \"immediate\", \"transition\": {\"duration\": 0, \"easing\": \"linear\"}}], \"label\": \"39\", \"method\": \"animate\"}, {\"args\": [[\"40\"], {\"frame\": {\"duration\": 0, \"redraw\": true}, \"fromcurrent\": true, \"mode\": \"immediate\", \"transition\": {\"duration\": 0, \"easing\": \"linear\"}}], \"label\": \"40\", \"method\": \"animate\"}, {\"args\": [[\"41\"], {\"frame\": {\"duration\": 0, \"redraw\": true}, \"fromcurrent\": true, \"mode\": \"immediate\", \"transition\": {\"duration\": 0, \"easing\": \"linear\"}}], \"label\": \"41\", \"method\": \"animate\"}, {\"args\": [[\"42\"], {\"frame\": {\"duration\": 0, \"redraw\": true}, \"fromcurrent\": true, \"mode\": \"immediate\", \"transition\": {\"duration\": 0, \"easing\": \"linear\"}}], \"label\": \"42\", \"method\": \"animate\"}, {\"args\": [[\"43\"], {\"frame\": {\"duration\": 0, \"redraw\": true}, \"fromcurrent\": true, \"mode\": \"immediate\", \"transition\": {\"duration\": 0, \"easing\": \"linear\"}}], \"label\": \"43\", \"method\": \"animate\"}, {\"args\": [[\"44\"], {\"frame\": {\"duration\": 0, \"redraw\": true}, \"fromcurrent\": true, \"mode\": \"immediate\", \"transition\": {\"duration\": 0, \"easing\": \"linear\"}}], \"label\": \"44\", \"method\": \"animate\"}, {\"args\": [[\"45\"], {\"frame\": {\"duration\": 0, \"redraw\": true}, \"fromcurrent\": true, \"mode\": \"immediate\", \"transition\": {\"duration\": 0, \"easing\": \"linear\"}}], \"label\": \"45\", \"method\": \"animate\"}, {\"args\": [[\"46\"], {\"frame\": {\"duration\": 0, \"redraw\": true}, \"fromcurrent\": true, \"mode\": \"immediate\", \"transition\": {\"duration\": 0, \"easing\": \"linear\"}}], \"label\": \"46\", \"method\": \"animate\"}, {\"args\": [[\"47\"], {\"frame\": {\"duration\": 0, \"redraw\": true}, \"fromcurrent\": true, \"mode\": \"immediate\", \"transition\": {\"duration\": 0, \"easing\": \"linear\"}}], \"label\": \"47\", \"method\": \"animate\"}, {\"args\": [[\"48\"], {\"frame\": {\"duration\": 0, \"redraw\": true}, \"fromcurrent\": true, \"mode\": \"immediate\", \"transition\": {\"duration\": 0, \"easing\": \"linear\"}}], \"label\": \"48\", \"method\": \"animate\"}, {\"args\": [[\"49\"], {\"frame\": {\"duration\": 0, \"redraw\": true}, \"fromcurrent\": true, \"mode\": \"immediate\", \"transition\": {\"duration\": 0, \"easing\": \"linear\"}}], \"label\": \"49\", \"method\": \"animate\"}, {\"args\": [[\"50\"], {\"frame\": {\"duration\": 0, \"redraw\": true}, \"fromcurrent\": true, \"mode\": \"immediate\", \"transition\": {\"duration\": 0, \"easing\": \"linear\"}}], \"label\": \"50\", \"method\": \"animate\"}, {\"args\": [[\"51\"], {\"frame\": {\"duration\": 0, \"redraw\": true}, \"fromcurrent\": true, \"mode\": \"immediate\", \"transition\": {\"duration\": 0, \"easing\": \"linear\"}}], \"label\": \"51\", \"method\": \"animate\"}, {\"args\": [[\"52\"], {\"frame\": {\"duration\": 0, \"redraw\": true}, \"fromcurrent\": true, \"mode\": \"immediate\", \"transition\": {\"duration\": 0, \"easing\": \"linear\"}}], \"label\": \"52\", \"method\": \"animate\"}, {\"args\": [[\"53\"], {\"frame\": {\"duration\": 0, \"redraw\": true}, \"fromcurrent\": true, \"mode\": \"immediate\", \"transition\": {\"duration\": 0, \"easing\": \"linear\"}}], \"label\": \"53\", \"method\": \"animate\"}, {\"args\": [[\"54\"], {\"frame\": {\"duration\": 0, \"redraw\": true}, \"fromcurrent\": true, \"mode\": \"immediate\", \"transition\": {\"duration\": 0, \"easing\": \"linear\"}}], \"label\": \"54\", \"method\": \"animate\"}, {\"args\": [[\"55\"], {\"frame\": {\"duration\": 0, \"redraw\": true}, \"fromcurrent\": true, \"mode\": \"immediate\", \"transition\": {\"duration\": 0, \"easing\": \"linear\"}}], \"label\": \"55\", \"method\": \"animate\"}, {\"args\": [[\"56\"], {\"frame\": {\"duration\": 0, \"redraw\": true}, \"fromcurrent\": true, \"mode\": \"immediate\", \"transition\": {\"duration\": 0, \"easing\": \"linear\"}}], \"label\": \"56\", \"method\": \"animate\"}, {\"args\": [[\"57\"], {\"frame\": {\"duration\": 0, \"redraw\": true}, \"fromcurrent\": true, \"mode\": \"immediate\", \"transition\": {\"duration\": 0, \"easing\": \"linear\"}}], \"label\": \"57\", \"method\": \"animate\"}, {\"args\": [[\"58\"], {\"frame\": {\"duration\": 0, \"redraw\": true}, \"fromcurrent\": true, \"mode\": \"immediate\", \"transition\": {\"duration\": 0, \"easing\": \"linear\"}}], \"label\": \"58\", \"method\": \"animate\"}, {\"args\": [[\"59\"], {\"frame\": {\"duration\": 0, \"redraw\": true}, \"fromcurrent\": true, \"mode\": \"immediate\", \"transition\": {\"duration\": 0, \"easing\": \"linear\"}}], \"label\": \"59\", \"method\": \"animate\"}, {\"args\": [[\"60\"], {\"frame\": {\"duration\": 0, \"redraw\": true}, \"fromcurrent\": true, \"mode\": \"immediate\", \"transition\": {\"duration\": 0, \"easing\": \"linear\"}}], \"label\": \"60\", \"method\": \"animate\"}, {\"args\": [[\"61\"], {\"frame\": {\"duration\": 0, \"redraw\": true}, \"fromcurrent\": true, \"mode\": \"immediate\", \"transition\": {\"duration\": 0, \"easing\": \"linear\"}}], \"label\": \"61\", \"method\": \"animate\"}, {\"args\": [[\"62\"], {\"frame\": {\"duration\": 0, \"redraw\": true}, \"fromcurrent\": true, \"mode\": \"immediate\", \"transition\": {\"duration\": 0, \"easing\": \"linear\"}}], \"label\": \"62\", \"method\": \"animate\"}, {\"args\": [[\"63\"], {\"frame\": {\"duration\": 0, \"redraw\": true}, \"fromcurrent\": true, \"mode\": \"immediate\", \"transition\": {\"duration\": 0, \"easing\": \"linear\"}}], \"label\": \"63\", \"method\": \"animate\"}, {\"args\": [[\"64\"], {\"frame\": {\"duration\": 0, \"redraw\": true}, \"fromcurrent\": true, \"mode\": \"immediate\", \"transition\": {\"duration\": 0, \"easing\": \"linear\"}}], \"label\": \"64\", \"method\": \"animate\"}, {\"args\": [[\"65\"], {\"frame\": {\"duration\": 0, \"redraw\": true}, \"fromcurrent\": true, \"mode\": \"immediate\", \"transition\": {\"duration\": 0, \"easing\": \"linear\"}}], \"label\": \"65\", \"method\": \"animate\"}, {\"args\": [[\"66\"], {\"frame\": {\"duration\": 0, \"redraw\": true}, \"fromcurrent\": true, \"mode\": \"immediate\", \"transition\": {\"duration\": 0, \"easing\": \"linear\"}}], \"label\": \"66\", \"method\": \"animate\"}, {\"args\": [[\"67\"], {\"frame\": {\"duration\": 0, \"redraw\": true}, \"fromcurrent\": true, \"mode\": \"immediate\", \"transition\": {\"duration\": 0, \"easing\": \"linear\"}}], \"label\": \"67\", \"method\": \"animate\"}, {\"args\": [[\"68\"], {\"frame\": {\"duration\": 0, \"redraw\": true}, \"fromcurrent\": true, \"mode\": \"immediate\", \"transition\": {\"duration\": 0, \"easing\": \"linear\"}}], \"label\": \"68\", \"method\": \"animate\"}, {\"args\": [[\"69\"], {\"frame\": {\"duration\": 0, \"redraw\": true}, \"fromcurrent\": true, \"mode\": \"immediate\", \"transition\": {\"duration\": 0, \"easing\": \"linear\"}}], \"label\": \"69\", \"method\": \"animate\"}, {\"args\": [[\"70\"], {\"frame\": {\"duration\": 0, \"redraw\": true}, \"fromcurrent\": true, \"mode\": \"immediate\", \"transition\": {\"duration\": 0, \"easing\": \"linear\"}}], \"label\": \"70\", \"method\": \"animate\"}, {\"args\": [[\"71\"], {\"frame\": {\"duration\": 0, \"redraw\": true}, \"fromcurrent\": true, \"mode\": \"immediate\", \"transition\": {\"duration\": 0, \"easing\": \"linear\"}}], \"label\": \"71\", \"method\": \"animate\"}, {\"args\": [[\"72\"], {\"frame\": {\"duration\": 0, \"redraw\": true}, \"fromcurrent\": true, \"mode\": \"immediate\", \"transition\": {\"duration\": 0, \"easing\": \"linear\"}}], \"label\": \"72\", \"method\": \"animate\"}, {\"args\": [[\"73\"], {\"frame\": {\"duration\": 0, \"redraw\": true}, \"fromcurrent\": true, \"mode\": \"immediate\", \"transition\": {\"duration\": 0, \"easing\": \"linear\"}}], \"label\": \"73\", \"method\": \"animate\"}, {\"args\": [[\"74\"], {\"frame\": {\"duration\": 0, \"redraw\": true}, \"fromcurrent\": true, \"mode\": \"immediate\", \"transition\": {\"duration\": 0, \"easing\": \"linear\"}}], \"label\": \"74\", \"method\": \"animate\"}, {\"args\": [[\"75\"], {\"frame\": {\"duration\": 0, \"redraw\": true}, \"fromcurrent\": true, \"mode\": \"immediate\", \"transition\": {\"duration\": 0, \"easing\": \"linear\"}}], \"label\": \"75\", \"method\": \"animate\"}, {\"args\": [[\"76\"], {\"frame\": {\"duration\": 0, \"redraw\": true}, \"fromcurrent\": true, \"mode\": \"immediate\", \"transition\": {\"duration\": 0, \"easing\": \"linear\"}}], \"label\": \"76\", \"method\": \"animate\"}, {\"args\": [[\"77\"], {\"frame\": {\"duration\": 0, \"redraw\": true}, \"fromcurrent\": true, \"mode\": \"immediate\", \"transition\": {\"duration\": 0, \"easing\": \"linear\"}}], \"label\": \"77\", \"method\": \"animate\"}, {\"args\": [[\"78\"], {\"frame\": {\"duration\": 0, \"redraw\": true}, \"fromcurrent\": true, \"mode\": \"immediate\", \"transition\": {\"duration\": 0, \"easing\": \"linear\"}}], \"label\": \"78\", \"method\": \"animate\"}, {\"args\": [[\"79\"], {\"frame\": {\"duration\": 0, \"redraw\": true}, \"fromcurrent\": true, \"mode\": \"immediate\", \"transition\": {\"duration\": 0, \"easing\": \"linear\"}}], \"label\": \"79\", \"method\": \"animate\"}, {\"args\": [[\"80\"], {\"frame\": {\"duration\": 0, \"redraw\": true}, \"fromcurrent\": true, \"mode\": \"immediate\", \"transition\": {\"duration\": 0, \"easing\": \"linear\"}}], \"label\": \"80\", \"method\": \"animate\"}, {\"args\": [[\"81\"], {\"frame\": {\"duration\": 0, \"redraw\": true}, \"fromcurrent\": true, \"mode\": \"immediate\", \"transition\": {\"duration\": 0, \"easing\": \"linear\"}}], \"label\": \"81\", \"method\": \"animate\"}, {\"args\": [[\"82\"], {\"frame\": {\"duration\": 0, \"redraw\": true}, \"fromcurrent\": true, \"mode\": \"immediate\", \"transition\": {\"duration\": 0, \"easing\": \"linear\"}}], \"label\": \"82\", \"method\": \"animate\"}, {\"args\": [[\"83\"], {\"frame\": {\"duration\": 0, \"redraw\": true}, \"fromcurrent\": true, \"mode\": \"immediate\", \"transition\": {\"duration\": 0, \"easing\": \"linear\"}}], \"label\": \"83\", \"method\": \"animate\"}, {\"args\": [[\"84\"], {\"frame\": {\"duration\": 0, \"redraw\": true}, \"fromcurrent\": true, \"mode\": \"immediate\", \"transition\": {\"duration\": 0, \"easing\": \"linear\"}}], \"label\": \"84\", \"method\": \"animate\"}, {\"args\": [[\"85\"], {\"frame\": {\"duration\": 0, \"redraw\": true}, \"fromcurrent\": true, \"mode\": \"immediate\", \"transition\": {\"duration\": 0, \"easing\": \"linear\"}}], \"label\": \"85\", \"method\": \"animate\"}, {\"args\": [[\"86\"], {\"frame\": {\"duration\": 0, \"redraw\": true}, \"fromcurrent\": true, \"mode\": \"immediate\", \"transition\": {\"duration\": 0, \"easing\": \"linear\"}}], \"label\": \"86\", \"method\": \"animate\"}, {\"args\": [[\"87\"], {\"frame\": {\"duration\": 0, \"redraw\": true}, \"fromcurrent\": true, \"mode\": \"immediate\", \"transition\": {\"duration\": 0, \"easing\": \"linear\"}}], \"label\": \"87\", \"method\": \"animate\"}, {\"args\": [[\"88\"], {\"frame\": {\"duration\": 0, \"redraw\": true}, \"fromcurrent\": true, \"mode\": \"immediate\", \"transition\": {\"duration\": 0, \"easing\": \"linear\"}}], \"label\": \"88\", \"method\": \"animate\"}, {\"args\": [[\"89\"], {\"frame\": {\"duration\": 0, \"redraw\": true}, \"fromcurrent\": true, \"mode\": \"immediate\", \"transition\": {\"duration\": 0, \"easing\": \"linear\"}}], \"label\": \"89\", \"method\": \"animate\"}, {\"args\": [[\"90\"], {\"frame\": {\"duration\": 0, \"redraw\": true}, \"fromcurrent\": true, \"mode\": \"immediate\", \"transition\": {\"duration\": 0, \"easing\": \"linear\"}}], \"label\": \"90\", \"method\": \"animate\"}, {\"args\": [[\"91\"], {\"frame\": {\"duration\": 0, \"redraw\": true}, \"fromcurrent\": true, \"mode\": \"immediate\", \"transition\": {\"duration\": 0, \"easing\": \"linear\"}}], \"label\": \"91\", \"method\": \"animate\"}, {\"args\": [[\"92\"], {\"frame\": {\"duration\": 0, \"redraw\": true}, \"fromcurrent\": true, \"mode\": \"immediate\", \"transition\": {\"duration\": 0, \"easing\": \"linear\"}}], \"label\": \"92\", \"method\": \"animate\"}, {\"args\": [[\"93\"], {\"frame\": {\"duration\": 0, \"redraw\": true}, \"fromcurrent\": true, \"mode\": \"immediate\", \"transition\": {\"duration\": 0, \"easing\": \"linear\"}}], \"label\": \"93\", \"method\": \"animate\"}, {\"args\": [[\"94\"], {\"frame\": {\"duration\": 0, \"redraw\": true}, \"fromcurrent\": true, \"mode\": \"immediate\", \"transition\": {\"duration\": 0, \"easing\": \"linear\"}}], \"label\": \"94\", \"method\": \"animate\"}, {\"args\": [[\"95\"], {\"frame\": {\"duration\": 0, \"redraw\": true}, \"fromcurrent\": true, \"mode\": \"immediate\", \"transition\": {\"duration\": 0, \"easing\": \"linear\"}}], \"label\": \"95\", \"method\": \"animate\"}, {\"args\": [[\"96\"], {\"frame\": {\"duration\": 0, \"redraw\": true}, \"fromcurrent\": true, \"mode\": \"immediate\", \"transition\": {\"duration\": 0, \"easing\": \"linear\"}}], \"label\": \"96\", \"method\": \"animate\"}, {\"args\": [[\"97\"], {\"frame\": {\"duration\": 0, \"redraw\": true}, \"fromcurrent\": true, \"mode\": \"immediate\", \"transition\": {\"duration\": 0, \"easing\": \"linear\"}}], \"label\": \"97\", \"method\": \"animate\"}, {\"args\": [[\"98\"], {\"frame\": {\"duration\": 0, \"redraw\": true}, \"fromcurrent\": true, \"mode\": \"immediate\", \"transition\": {\"duration\": 0, \"easing\": \"linear\"}}], \"label\": \"98\", \"method\": \"animate\"}, {\"args\": [[\"99\"], {\"frame\": {\"duration\": 0, \"redraw\": true}, \"fromcurrent\": true, \"mode\": \"immediate\", \"transition\": {\"duration\": 0, \"easing\": \"linear\"}}], \"label\": \"99\", \"method\": \"animate\"}, {\"args\": [[\"100\"], {\"frame\": {\"duration\": 0, \"redraw\": true}, \"fromcurrent\": true, \"mode\": \"immediate\", \"transition\": {\"duration\": 0, \"easing\": \"linear\"}}], \"label\": \"100\", \"method\": \"animate\"}, {\"args\": [[\"101\"], {\"frame\": {\"duration\": 0, \"redraw\": true}, \"fromcurrent\": true, \"mode\": \"immediate\", \"transition\": {\"duration\": 0, \"easing\": \"linear\"}}], \"label\": \"101\", \"method\": \"animate\"}, {\"args\": [[\"102\"], {\"frame\": {\"duration\": 0, \"redraw\": true}, \"fromcurrent\": true, \"mode\": \"immediate\", \"transition\": {\"duration\": 0, \"easing\": \"linear\"}}], \"label\": \"102\", \"method\": \"animate\"}, {\"args\": [[\"103\"], {\"frame\": {\"duration\": 0, \"redraw\": true}, \"fromcurrent\": true, \"mode\": \"immediate\", \"transition\": {\"duration\": 0, \"easing\": \"linear\"}}], \"label\": \"103\", \"method\": \"animate\"}, {\"args\": [[\"104\"], {\"frame\": {\"duration\": 0, \"redraw\": true}, \"fromcurrent\": true, \"mode\": \"immediate\", \"transition\": {\"duration\": 0, \"easing\": \"linear\"}}], \"label\": \"104\", \"method\": \"animate\"}, {\"args\": [[\"105\"], {\"frame\": {\"duration\": 0, \"redraw\": true}, \"fromcurrent\": true, \"mode\": \"immediate\", \"transition\": {\"duration\": 0, \"easing\": \"linear\"}}], \"label\": \"105\", \"method\": \"animate\"}, {\"args\": [[\"106\"], {\"frame\": {\"duration\": 0, \"redraw\": true}, \"fromcurrent\": true, \"mode\": \"immediate\", \"transition\": {\"duration\": 0, \"easing\": \"linear\"}}], \"label\": \"106\", \"method\": \"animate\"}, {\"args\": [[\"107\"], {\"frame\": {\"duration\": 0, \"redraw\": true}, \"fromcurrent\": true, \"mode\": \"immediate\", \"transition\": {\"duration\": 0, \"easing\": \"linear\"}}], \"label\": \"107\", \"method\": \"animate\"}, {\"args\": [[\"108\"], {\"frame\": {\"duration\": 0, \"redraw\": true}, \"fromcurrent\": true, \"mode\": \"immediate\", \"transition\": {\"duration\": 0, \"easing\": \"linear\"}}], \"label\": \"108\", \"method\": \"animate\"}, {\"args\": [[\"109\"], {\"frame\": {\"duration\": 0, \"redraw\": true}, \"fromcurrent\": true, \"mode\": \"immediate\", \"transition\": {\"duration\": 0, \"easing\": \"linear\"}}], \"label\": \"109\", \"method\": \"animate\"}, {\"args\": [[\"110\"], {\"frame\": {\"duration\": 0, \"redraw\": true}, \"fromcurrent\": true, \"mode\": \"immediate\", \"transition\": {\"duration\": 0, \"easing\": \"linear\"}}], \"label\": \"110\", \"method\": \"animate\"}, {\"args\": [[\"111\"], {\"frame\": {\"duration\": 0, \"redraw\": true}, \"fromcurrent\": true, \"mode\": \"immediate\", \"transition\": {\"duration\": 0, \"easing\": \"linear\"}}], \"label\": \"111\", \"method\": \"animate\"}, {\"args\": [[\"112\"], {\"frame\": {\"duration\": 0, \"redraw\": true}, \"fromcurrent\": true, \"mode\": \"immediate\", \"transition\": {\"duration\": 0, \"easing\": \"linear\"}}], \"label\": \"112\", \"method\": \"animate\"}, {\"args\": [[\"113\"], {\"frame\": {\"duration\": 0, \"redraw\": true}, \"fromcurrent\": true, \"mode\": \"immediate\", \"transition\": {\"duration\": 0, \"easing\": \"linear\"}}], \"label\": \"113\", \"method\": \"animate\"}, {\"args\": [[\"114\"], {\"frame\": {\"duration\": 0, \"redraw\": true}, \"fromcurrent\": true, \"mode\": \"immediate\", \"transition\": {\"duration\": 0, \"easing\": \"linear\"}}], \"label\": \"114\", \"method\": \"animate\"}, {\"args\": [[\"115\"], {\"frame\": {\"duration\": 0, \"redraw\": true}, \"fromcurrent\": true, \"mode\": \"immediate\", \"transition\": {\"duration\": 0, \"easing\": \"linear\"}}], \"label\": \"115\", \"method\": \"animate\"}, {\"args\": [[\"116\"], {\"frame\": {\"duration\": 0, \"redraw\": true}, \"fromcurrent\": true, \"mode\": \"immediate\", \"transition\": {\"duration\": 0, \"easing\": \"linear\"}}], \"label\": \"116\", \"method\": \"animate\"}, {\"args\": [[\"117\"], {\"frame\": {\"duration\": 0, \"redraw\": true}, \"fromcurrent\": true, \"mode\": \"immediate\", \"transition\": {\"duration\": 0, \"easing\": \"linear\"}}], \"label\": \"117\", \"method\": \"animate\"}, {\"args\": [[\"118\"], {\"frame\": {\"duration\": 0, \"redraw\": true}, \"fromcurrent\": true, \"mode\": \"immediate\", \"transition\": {\"duration\": 0, \"easing\": \"linear\"}}], \"label\": \"118\", \"method\": \"animate\"}, {\"args\": [[\"119\"], {\"frame\": {\"duration\": 0, \"redraw\": true}, \"fromcurrent\": true, \"mode\": \"immediate\", \"transition\": {\"duration\": 0, \"easing\": \"linear\"}}], \"label\": \"119\", \"method\": \"animate\"}, {\"args\": [[\"120\"], {\"frame\": {\"duration\": 0, \"redraw\": true}, \"fromcurrent\": true, \"mode\": \"immediate\", \"transition\": {\"duration\": 0, \"easing\": \"linear\"}}], \"label\": \"120\", \"method\": \"animate\"}, {\"args\": [[\"121\"], {\"frame\": {\"duration\": 0, \"redraw\": true}, \"fromcurrent\": true, \"mode\": \"immediate\", \"transition\": {\"duration\": 0, \"easing\": \"linear\"}}], \"label\": \"121\", \"method\": \"animate\"}, {\"args\": [[\"122\"], {\"frame\": {\"duration\": 0, \"redraw\": true}, \"fromcurrent\": true, \"mode\": \"immediate\", \"transition\": {\"duration\": 0, \"easing\": \"linear\"}}], \"label\": \"122\", \"method\": \"animate\"}, {\"args\": [[\"123\"], {\"frame\": {\"duration\": 0, \"redraw\": true}, \"fromcurrent\": true, \"mode\": \"immediate\", \"transition\": {\"duration\": 0, \"easing\": \"linear\"}}], \"label\": \"123\", \"method\": \"animate\"}, {\"args\": [[\"124\"], {\"frame\": {\"duration\": 0, \"redraw\": true}, \"fromcurrent\": true, \"mode\": \"immediate\", \"transition\": {\"duration\": 0, \"easing\": \"linear\"}}], \"label\": \"124\", \"method\": \"animate\"}, {\"args\": [[\"125\"], {\"frame\": {\"duration\": 0, \"redraw\": true}, \"fromcurrent\": true, \"mode\": \"immediate\", \"transition\": {\"duration\": 0, \"easing\": \"linear\"}}], \"label\": \"125\", \"method\": \"animate\"}, {\"args\": [[\"126\"], {\"frame\": {\"duration\": 0, \"redraw\": true}, \"fromcurrent\": true, \"mode\": \"immediate\", \"transition\": {\"duration\": 0, \"easing\": \"linear\"}}], \"label\": \"126\", \"method\": \"animate\"}, {\"args\": [[\"127\"], {\"frame\": {\"duration\": 0, \"redraw\": true}, \"fromcurrent\": true, \"mode\": \"immediate\", \"transition\": {\"duration\": 0, \"easing\": \"linear\"}}], \"label\": \"127\", \"method\": \"animate\"}, {\"args\": [[\"128\"], {\"frame\": {\"duration\": 0, \"redraw\": true}, \"fromcurrent\": true, \"mode\": \"immediate\", \"transition\": {\"duration\": 0, \"easing\": \"linear\"}}], \"label\": \"128\", \"method\": \"animate\"}, {\"args\": [[\"129\"], {\"frame\": {\"duration\": 0, \"redraw\": true}, \"fromcurrent\": true, \"mode\": \"immediate\", \"transition\": {\"duration\": 0, \"easing\": \"linear\"}}], \"label\": \"129\", \"method\": \"animate\"}, {\"args\": [[\"130\"], {\"frame\": {\"duration\": 0, \"redraw\": true}, \"fromcurrent\": true, \"mode\": \"immediate\", \"transition\": {\"duration\": 0, \"easing\": \"linear\"}}], \"label\": \"130\", \"method\": \"animate\"}, {\"args\": [[\"131\"], {\"frame\": {\"duration\": 0, \"redraw\": true}, \"fromcurrent\": true, \"mode\": \"immediate\", \"transition\": {\"duration\": 0, \"easing\": \"linear\"}}], \"label\": \"131\", \"method\": \"animate\"}, {\"args\": [[\"132\"], {\"frame\": {\"duration\": 0, \"redraw\": true}, \"fromcurrent\": true, \"mode\": \"immediate\", \"transition\": {\"duration\": 0, \"easing\": \"linear\"}}], \"label\": \"132\", \"method\": \"animate\"}, {\"args\": [[\"133\"], {\"frame\": {\"duration\": 0, \"redraw\": true}, \"fromcurrent\": true, \"mode\": \"immediate\", \"transition\": {\"duration\": 0, \"easing\": \"linear\"}}], \"label\": \"133\", \"method\": \"animate\"}, {\"args\": [[\"134\"], {\"frame\": {\"duration\": 0, \"redraw\": true}, \"fromcurrent\": true, \"mode\": \"immediate\", \"transition\": {\"duration\": 0, \"easing\": \"linear\"}}], \"label\": \"134\", \"method\": \"animate\"}, {\"args\": [[\"135\"], {\"frame\": {\"duration\": 0, \"redraw\": true}, \"fromcurrent\": true, \"mode\": \"immediate\", \"transition\": {\"duration\": 0, \"easing\": \"linear\"}}], \"label\": \"135\", \"method\": \"animate\"}, {\"args\": [[\"136\"], {\"frame\": {\"duration\": 0, \"redraw\": true}, \"fromcurrent\": true, \"mode\": \"immediate\", \"transition\": {\"duration\": 0, \"easing\": \"linear\"}}], \"label\": \"136\", \"method\": \"animate\"}, {\"args\": [[\"137\"], {\"frame\": {\"duration\": 0, \"redraw\": true}, \"fromcurrent\": true, \"mode\": \"immediate\", \"transition\": {\"duration\": 0, \"easing\": \"linear\"}}], \"label\": \"137\", \"method\": \"animate\"}, {\"args\": [[\"138\"], {\"frame\": {\"duration\": 0, \"redraw\": true}, \"fromcurrent\": true, \"mode\": \"immediate\", \"transition\": {\"duration\": 0, \"easing\": \"linear\"}}], \"label\": \"138\", \"method\": \"animate\"}, {\"args\": [[\"139\"], {\"frame\": {\"duration\": 0, \"redraw\": true}, \"fromcurrent\": true, \"mode\": \"immediate\", \"transition\": {\"duration\": 0, \"easing\": \"linear\"}}], \"label\": \"139\", \"method\": \"animate\"}], \"x\": 0.1, \"xanchor\": \"left\", \"y\": 0, \"yanchor\": \"top\"}], \"template\": {\"data\": {\"bar\": [{\"error_x\": {\"color\": \"#2a3f5f\"}, \"error_y\": {\"color\": \"#2a3f5f\"}, \"marker\": {\"line\": {\"color\": \"#E5ECF6\", \"width\": 0.5}}, \"type\": \"bar\"}], \"barpolar\": [{\"marker\": {\"line\": {\"color\": \"#E5ECF6\", \"width\": 0.5}}, \"type\": \"barpolar\"}], \"carpet\": [{\"aaxis\": {\"endlinecolor\": \"#2a3f5f\", \"gridcolor\": \"white\", \"linecolor\": \"white\", \"minorgridcolor\": \"white\", \"startlinecolor\": \"#2a3f5f\"}, \"baxis\": {\"endlinecolor\": \"#2a3f5f\", \"gridcolor\": \"white\", \"linecolor\": \"white\", \"minorgridcolor\": \"white\", \"startlinecolor\": \"#2a3f5f\"}, \"type\": \"carpet\"}], \"choropleth\": [{\"colorbar\": {\"outlinewidth\": 0, \"ticks\": \"\"}, \"type\": \"choropleth\"}], \"contour\": [{\"colorbar\": {\"outlinewidth\": 0, \"ticks\": \"\"}, \"colorscale\": [[0.0, \"#0d0887\"], [0.1111111111111111, \"#46039f\"], [0.2222222222222222, \"#7201a8\"], [0.3333333333333333, \"#9c179e\"], [0.4444444444444444, \"#bd3786\"], [0.5555555555555556, \"#d8576b\"], [0.6666666666666666, \"#ed7953\"], [0.7777777777777778, \"#fb9f3a\"], [0.8888888888888888, \"#fdca26\"], [1.0, \"#f0f921\"]], \"type\": \"contour\"}], \"contourcarpet\": [{\"colorbar\": {\"outlinewidth\": 0, \"ticks\": \"\"}, \"type\": \"contourcarpet\"}], \"heatmap\": [{\"colorbar\": {\"outlinewidth\": 0, \"ticks\": \"\"}, \"colorscale\": [[0.0, \"#0d0887\"], [0.1111111111111111, \"#46039f\"], [0.2222222222222222, \"#7201a8\"], [0.3333333333333333, \"#9c179e\"], [0.4444444444444444, \"#bd3786\"], [0.5555555555555556, \"#d8576b\"], [0.6666666666666666, \"#ed7953\"], [0.7777777777777778, \"#fb9f3a\"], [0.8888888888888888, \"#fdca26\"], [1.0, \"#f0f921\"]], \"type\": \"heatmap\"}], \"heatmapgl\": [{\"colorbar\": {\"outlinewidth\": 0, \"ticks\": \"\"}, \"colorscale\": [[0.0, \"#0d0887\"], [0.1111111111111111, \"#46039f\"], [0.2222222222222222, \"#7201a8\"], [0.3333333333333333, \"#9c179e\"], [0.4444444444444444, \"#bd3786\"], [0.5555555555555556, \"#d8576b\"], [0.6666666666666666, \"#ed7953\"], [0.7777777777777778, \"#fb9f3a\"], [0.8888888888888888, \"#fdca26\"], [1.0, \"#f0f921\"]], \"type\": \"heatmapgl\"}], \"histogram\": [{\"marker\": {\"colorbar\": {\"outlinewidth\": 0, \"ticks\": \"\"}}, \"type\": \"histogram\"}], \"histogram2d\": [{\"colorbar\": {\"outlinewidth\": 0, \"ticks\": \"\"}, \"colorscale\": [[0.0, \"#0d0887\"], [0.1111111111111111, \"#46039f\"], [0.2222222222222222, \"#7201a8\"], [0.3333333333333333, \"#9c179e\"], [0.4444444444444444, \"#bd3786\"], [0.5555555555555556, \"#d8576b\"], [0.6666666666666666, \"#ed7953\"], [0.7777777777777778, \"#fb9f3a\"], [0.8888888888888888, \"#fdca26\"], [1.0, \"#f0f921\"]], \"type\": \"histogram2d\"}], \"histogram2dcontour\": [{\"colorbar\": {\"outlinewidth\": 0, \"ticks\": \"\"}, \"colorscale\": [[0.0, \"#0d0887\"], [0.1111111111111111, \"#46039f\"], [0.2222222222222222, \"#7201a8\"], [0.3333333333333333, \"#9c179e\"], [0.4444444444444444, \"#bd3786\"], [0.5555555555555556, \"#d8576b\"], [0.6666666666666666, \"#ed7953\"], [0.7777777777777778, \"#fb9f3a\"], [0.8888888888888888, \"#fdca26\"], [1.0, \"#f0f921\"]], \"type\": \"histogram2dcontour\"}], \"mesh3d\": [{\"colorbar\": {\"outlinewidth\": 0, \"ticks\": \"\"}, \"type\": \"mesh3d\"}], \"parcoords\": [{\"line\": {\"colorbar\": {\"outlinewidth\": 0, \"ticks\": \"\"}}, \"type\": \"parcoords\"}], \"pie\": [{\"automargin\": true, \"type\": \"pie\"}], \"scatter\": [{\"marker\": {\"colorbar\": {\"outlinewidth\": 0, \"ticks\": \"\"}}, \"type\": \"scatter\"}], \"scatter3d\": [{\"line\": {\"colorbar\": {\"outlinewidth\": 0, \"ticks\": \"\"}}, \"marker\": {\"colorbar\": {\"outlinewidth\": 0, \"ticks\": \"\"}}, \"type\": \"scatter3d\"}], \"scattercarpet\": [{\"marker\": {\"colorbar\": {\"outlinewidth\": 0, \"ticks\": \"\"}}, \"type\": \"scattercarpet\"}], \"scattergeo\": [{\"marker\": {\"colorbar\": {\"outlinewidth\": 0, \"ticks\": \"\"}}, \"type\": \"scattergeo\"}], \"scattergl\": [{\"marker\": {\"colorbar\": {\"outlinewidth\": 0, \"ticks\": \"\"}}, \"type\": \"scattergl\"}], \"scattermapbox\": [{\"marker\": {\"colorbar\": {\"outlinewidth\": 0, \"ticks\": \"\"}}, \"type\": \"scattermapbox\"}], \"scatterpolar\": [{\"marker\": {\"colorbar\": {\"outlinewidth\": 0, \"ticks\": \"\"}}, \"type\": \"scatterpolar\"}], \"scatterpolargl\": [{\"marker\": {\"colorbar\": {\"outlinewidth\": 0, \"ticks\": \"\"}}, \"type\": \"scatterpolargl\"}], \"scatterternary\": [{\"marker\": {\"colorbar\": {\"outlinewidth\": 0, \"ticks\": \"\"}}, \"type\": \"scatterternary\"}], \"surface\": [{\"colorbar\": {\"outlinewidth\": 0, \"ticks\": \"\"}, \"colorscale\": [[0.0, \"#0d0887\"], [0.1111111111111111, \"#46039f\"], [0.2222222222222222, \"#7201a8\"], [0.3333333333333333, \"#9c179e\"], [0.4444444444444444, \"#bd3786\"], [0.5555555555555556, \"#d8576b\"], [0.6666666666666666, \"#ed7953\"], [0.7777777777777778, \"#fb9f3a\"], [0.8888888888888888, \"#fdca26\"], [1.0, \"#f0f921\"]], \"type\": \"surface\"}], \"table\": [{\"cells\": {\"fill\": {\"color\": \"#EBF0F8\"}, \"line\": {\"color\": \"white\"}}, \"header\": {\"fill\": {\"color\": \"#C8D4E3\"}, \"line\": {\"color\": \"white\"}}, \"type\": \"table\"}]}, \"layout\": {\"annotationdefaults\": {\"arrowcolor\": \"#2a3f5f\", \"arrowhead\": 0, \"arrowwidth\": 1}, \"coloraxis\": {\"colorbar\": {\"outlinewidth\": 0, \"ticks\": \"\"}}, \"colorscale\": {\"diverging\": [[0, \"#8e0152\"], [0.1, \"#c51b7d\"], [0.2, \"#de77ae\"], [0.3, \"#f1b6da\"], [0.4, \"#fde0ef\"], [0.5, \"#f7f7f7\"], [0.6, \"#e6f5d0\"], [0.7, \"#b8e186\"], [0.8, \"#7fbc41\"], [0.9, \"#4d9221\"], [1, \"#276419\"]], \"sequential\": [[0.0, \"#0d0887\"], [0.1111111111111111, \"#46039f\"], [0.2222222222222222, \"#7201a8\"], [0.3333333333333333, \"#9c179e\"], [0.4444444444444444, \"#bd3786\"], [0.5555555555555556, \"#d8576b\"], [0.6666666666666666, \"#ed7953\"], [0.7777777777777778, \"#fb9f3a\"], [0.8888888888888888, \"#fdca26\"], [1.0, \"#f0f921\"]], \"sequentialminus\": [[0.0, \"#0d0887\"], [0.1111111111111111, \"#46039f\"], [0.2222222222222222, \"#7201a8\"], [0.3333333333333333, \"#9c179e\"], [0.4444444444444444, \"#bd3786\"], [0.5555555555555556, \"#d8576b\"], [0.6666666666666666, \"#ed7953\"], [0.7777777777777778, \"#fb9f3a\"], [0.8888888888888888, \"#fdca26\"], [1.0, \"#f0f921\"]]}, \"colorway\": [\"#636efa\", \"#EF553B\", \"#00cc96\", \"#ab63fa\", \"#FFA15A\", \"#19d3f3\", \"#FF6692\", \"#B6E880\", \"#FF97FF\", \"#FECB52\"], \"font\": {\"color\": \"#2a3f5f\"}, \"geo\": {\"bgcolor\": \"white\", \"lakecolor\": \"white\", \"landcolor\": \"#E5ECF6\", \"showlakes\": true, \"showland\": true, \"subunitcolor\": \"white\"}, \"hoverlabel\": {\"align\": \"left\"}, \"hovermode\": \"closest\", \"mapbox\": {\"style\": \"light\"}, \"paper_bgcolor\": \"white\", \"plot_bgcolor\": \"#E5ECF6\", \"polar\": {\"angularaxis\": {\"gridcolor\": \"white\", \"linecolor\": \"white\", \"ticks\": \"\"}, \"bgcolor\": \"#E5ECF6\", \"radialaxis\": {\"gridcolor\": \"white\", \"linecolor\": \"white\", \"ticks\": \"\"}}, \"scene\": {\"xaxis\": {\"backgroundcolor\": \"#E5ECF6\", \"gridcolor\": \"white\", \"gridwidth\": 2, \"linecolor\": \"white\", \"showbackground\": true, \"ticks\": \"\", \"zerolinecolor\": \"white\"}, \"yaxis\": {\"backgroundcolor\": \"#E5ECF6\", \"gridcolor\": \"white\", \"gridwidth\": 2, \"linecolor\": \"white\", \"showbackground\": true, \"ticks\": \"\", \"zerolinecolor\": \"white\"}, \"zaxis\": {\"backgroundcolor\": \"#E5ECF6\", \"gridcolor\": \"white\", \"gridwidth\": 2, \"linecolor\": \"white\", \"showbackground\": true, \"ticks\": \"\", \"zerolinecolor\": \"white\"}}, \"shapedefaults\": {\"line\": {\"color\": \"#2a3f5f\"}}, \"ternary\": {\"aaxis\": {\"gridcolor\": \"white\", \"linecolor\": \"white\", \"ticks\": \"\"}, \"baxis\": {\"gridcolor\": \"white\", \"linecolor\": \"white\", \"ticks\": \"\"}, \"bgcolor\": \"#E5ECF6\", \"caxis\": {\"gridcolor\": \"white\", \"linecolor\": \"white\", \"ticks\": \"\"}}, \"title\": {\"x\": 0.05}, \"xaxis\": {\"automargin\": true, \"gridcolor\": \"white\", \"linecolor\": \"white\", \"ticks\": \"\", \"title\": {\"standoff\": 15}, \"zerolinecolor\": \"white\", \"zerolinewidth\": 2}, \"yaxis\": {\"automargin\": true, \"gridcolor\": \"white\", \"linecolor\": \"white\", \"ticks\": \"\", \"title\": {\"standoff\": 15}, \"zerolinecolor\": \"white\", \"zerolinewidth\": 2}}}, \"updatemenus\": [{\"buttons\": [{\"args\": [null, {\"frame\": {\"duration\": 500, \"redraw\": true}, \"fromcurrent\": true, \"mode\": \"immediate\", \"transition\": {\"duration\": 500, \"easing\": \"linear\"}}], \"label\": \"&#9654;\", \"method\": \"animate\"}, {\"args\": [[null], {\"frame\": {\"duration\": 0, \"redraw\": true}, \"fromcurrent\": true, \"mode\": \"immediate\", \"transition\": {\"duration\": 0, \"easing\": \"linear\"}}], \"label\": \"&#9724;\", \"method\": \"animate\"}], \"direction\": \"left\", \"pad\": {\"r\": 10, \"t\": 70}, \"showactive\": false, \"type\": \"buttons\", \"x\": 0.1, \"xanchor\": \"right\", \"y\": 0, \"yanchor\": \"top\"}]},\n",
       "                        {\"responsive\": true}\n",
       "                    ).then(function(){\n",
       "                            Plotly.addFrames('474ed3e1-bb33-4a6f-b48b-fb95c94d87f2', [{\"data\": [{\"customdata\": [[0, 0, 0, \"region\"], [0, 0, 0, \"region\"], [0, 1, -1, \"point\"], [0, 2, 9, \"region\"]], \"hoverlabel\": {\"namelength\": 0}, \"hovertemplate\": \"day=%{customdata[0]}<br>timeslot=%{customdata[1]}<br>region=%{customdata[2]}<br>kind=%{customdata[3]}<br>latitude=%{lat}<br>longitude=%{lon}\", \"lat\": [59.31426096, 59.31426096, 59.31426096, 59.34305210000001], \"legendgroup\": \"\", \"line\": {\"color\": \"#636efa\"}, \"lon\": [18.07653494, 18.07653494, 18.07653494, 18.05174887], \"mode\": \"lines\", \"name\": \"\", \"showlegend\": false, \"subplot\": \"mapbox\", \"type\": \"scattermapbox\"}], \"name\": \"0\"}, {\"data\": [{\"customdata\": [[1, 0, 0, \"region\"], [1, 0, 3, \"region\"], [1, 1, 0, \"region\"], [1, 2, 15, \"region\"]], \"hoverlabel\": {\"namelength\": 0}, \"hovertemplate\": \"day=%{customdata[0]}<br>timeslot=%{customdata[1]}<br>region=%{customdata[2]}<br>kind=%{customdata[3]}<br>latitude=%{lat}<br>longitude=%{lon}\", \"lat\": [59.31426096, 59.36456999999999, 59.31426096, 59.217780000000005], \"legendgroup\": \"\", \"line\": {\"color\": \"#636efa\"}, \"lon\": [18.07653494, 17.97493, 18.07653494, 17.93892], \"mode\": \"lines\", \"name\": \"\", \"showlegend\": false, \"subplot\": \"mapbox\", \"type\": \"scattermapbox\"}], \"name\": \"1\"}, {\"data\": [{\"customdata\": [[2, 0, 0, \"region\"], [2, 0, 0, \"region\"], [2, 1, 0, \"region\"], [2, 2, 3, \"region\"]], \"hoverlabel\": {\"namelength\": 0}, \"hovertemplate\": \"day=%{customdata[0]}<br>timeslot=%{customdata[1]}<br>region=%{customdata[2]}<br>kind=%{customdata[3]}<br>latitude=%{lat}<br>longitude=%{lon}\", \"lat\": [59.31426096, 59.31426096, 59.31426096, 59.36456999999999], \"legendgroup\": \"\", \"line\": {\"color\": \"#636efa\"}, \"lon\": [18.07653494, 18.07653494, 18.07653494, 17.97493], \"mode\": \"lines\", \"name\": \"\", \"showlegend\": false, \"subplot\": \"mapbox\", \"type\": \"scattermapbox\"}], \"name\": \"2\"}, {\"data\": [{\"customdata\": [[3, 0, 0, \"region\"], [3, 0, 10, \"region\"], [3, 1, 3, \"region\"], [3, 2, 0, \"region\"]], \"hoverlabel\": {\"namelength\": 0}, \"hovertemplate\": \"day=%{customdata[0]}<br>timeslot=%{customdata[1]}<br>region=%{customdata[2]}<br>kind=%{customdata[3]}<br>latitude=%{lat}<br>longitude=%{lon}\", \"lat\": [59.31426096, 59.32355937, 59.36456999999999, 59.31426096], \"legendgroup\": \"\", \"line\": {\"color\": \"#636efa\"}, \"lon\": [18.07653494, 18.096513199999997, 17.97493, 18.07653494], \"mode\": \"lines\", \"name\": \"\", \"showlegend\": false, \"subplot\": \"mapbox\", \"type\": \"scattermapbox\"}], \"name\": \"3\"}, {\"data\": [{\"customdata\": [[4, 0, 0, \"region\"], [4, 0, 110, \"region\"], [4, 1, 9, \"region\"], [4, 2, 3, \"region\"]], \"hoverlabel\": {\"namelength\": 0}, \"hovertemplate\": \"day=%{customdata[0]}<br>timeslot=%{customdata[1]}<br>region=%{customdata[2]}<br>kind=%{customdata[3]}<br>latitude=%{lat}<br>longitude=%{lon}\", \"lat\": [59.31426096, 59.3917989, 59.34305210000001, 59.36456999999999], \"legendgroup\": \"\", \"line\": {\"color\": \"#636efa\"}, \"lon\": [18.07653494, 18.0387252, 18.05174887, 17.97493], \"mode\": \"lines\", \"name\": \"\", \"showlegend\": false, \"subplot\": \"mapbox\", \"type\": \"scattermapbox\"}], \"name\": \"4\"}, {\"data\": [{\"customdata\": [[5, 0, 0, \"region\"], [5, 0, 0, \"region\"], [5, 1, 10, \"region\"], [5, 2, 10, \"region\"]], \"hoverlabel\": {\"namelength\": 0}, \"hovertemplate\": \"day=%{customdata[0]}<br>timeslot=%{customdata[1]}<br>region=%{customdata[2]}<br>kind=%{customdata[3]}<br>latitude=%{lat}<br>longitude=%{lon}\", \"lat\": [59.31426096, 59.31426096, 59.32355937, 59.32355937], \"legendgroup\": \"\", \"line\": {\"color\": \"#636efa\"}, \"lon\": [18.07653494, 18.07653494, 18.096513199999997, 18.096513199999997], \"mode\": \"lines\", \"name\": \"\", \"showlegend\": false, \"subplot\": \"mapbox\", \"type\": \"scattermapbox\"}], \"name\": \"5\"}, {\"data\": [{\"customdata\": [[6, 0, 0, \"region\"], [6, 0, 0, \"region\"], [6, 1, 51, \"region\"], [6, 2, 0, \"region\"]], \"hoverlabel\": {\"namelength\": 0}, \"hovertemplate\": \"day=%{customdata[0]}<br>timeslot=%{customdata[1]}<br>region=%{customdata[2]}<br>kind=%{customdata[3]}<br>latitude=%{lat}<br>longitude=%{lon}\", \"lat\": [59.31426096, 59.31426096, 52.31430875, 59.31426096], \"legendgroup\": \"\", \"line\": {\"color\": \"#636efa\"}, \"lon\": [18.07653494, 18.07653494, 4.94190716, 18.07653494], \"mode\": \"lines\", \"name\": \"\", \"showlegend\": false, \"subplot\": \"mapbox\", \"type\": \"scattermapbox\"}], \"name\": \"6\"}, {\"data\": [{\"customdata\": [[7, 0, 0, \"region\"], [7, 0, 0, \"region\"], [7, 1, 40, \"region\"], [7, 2, 0, \"region\"]], \"hoverlabel\": {\"namelength\": 0}, \"hovertemplate\": \"day=%{customdata[0]}<br>timeslot=%{customdata[1]}<br>region=%{customdata[2]}<br>kind=%{customdata[3]}<br>latitude=%{lat}<br>longitude=%{lon}\", \"lat\": [59.31426096, 59.31426096, 59.24122, 59.31426096], \"legendgroup\": \"\", \"line\": {\"color\": \"#636efa\"}, \"lon\": [18.07653494, 18.07653494, 18.09432, 18.07653494], \"mode\": \"lines\", \"name\": \"\", \"showlegend\": false, \"subplot\": \"mapbox\", \"type\": \"scattermapbox\"}], \"name\": \"7\"}, {\"data\": [{\"customdata\": [[8, 0, 0, \"region\"], [8, 0, 3, \"region\"], [8, 1, 0, \"region\"], [8, 2, 0, \"region\"]], \"hoverlabel\": {\"namelength\": 0}, \"hovertemplate\": \"day=%{customdata[0]}<br>timeslot=%{customdata[1]}<br>region=%{customdata[2]}<br>kind=%{customdata[3]}<br>latitude=%{lat}<br>longitude=%{lon}\", \"lat\": [59.31426096, 59.36456999999999, 59.31426096, 59.31426096], \"legendgroup\": \"\", \"line\": {\"color\": \"#636efa\"}, \"lon\": [18.07653494, 17.97493, 18.07653494, 18.07653494], \"mode\": \"lines\", \"name\": \"\", \"showlegend\": false, \"subplot\": \"mapbox\", \"type\": \"scattermapbox\"}], \"name\": \"8\"}, {\"data\": [{\"customdata\": [[9, 0, 0, \"region\"], [9, 0, 73, \"region\"], [9, 1, 0, \"region\"], [9, 2, 16, \"region\"]], \"hoverlabel\": {\"namelength\": 0}, \"hovertemplate\": \"day=%{customdata[0]}<br>timeslot=%{customdata[1]}<br>region=%{customdata[2]}<br>kind=%{customdata[3]}<br>latitude=%{lat}<br>longitude=%{lon}\", \"lat\": [59.31426096, 59.3090821, 59.31426096, 59.22078204], \"legendgroup\": \"\", \"line\": {\"color\": \"#636efa\"}, \"lon\": [18.07653494, 18.056026199999998, 18.07653494, 17.9363181], \"mode\": \"lines\", \"name\": \"\", \"showlegend\": false, \"subplot\": \"mapbox\", \"type\": \"scattermapbox\"}], \"name\": \"9\"}, {\"data\": [{\"customdata\": [[10, 0, 0, \"region\"], [10, 0, 0, \"region\"], [10, 1, 16, \"region\"], [10, 2, 10, \"region\"]], \"hoverlabel\": {\"namelength\": 0}, \"hovertemplate\": \"day=%{customdata[0]}<br>timeslot=%{customdata[1]}<br>region=%{customdata[2]}<br>kind=%{customdata[3]}<br>latitude=%{lat}<br>longitude=%{lon}\", \"lat\": [59.31426096, 59.31426096, 59.22078204, 59.32355937], \"legendgroup\": \"\", \"line\": {\"color\": \"#636efa\"}, \"lon\": [18.07653494, 18.07653494, 17.9363181, 18.096513199999997], \"mode\": \"lines\", \"name\": \"\", \"showlegend\": false, \"subplot\": \"mapbox\", \"type\": \"scattermapbox\"}], \"name\": \"10\"}, {\"data\": [{\"customdata\": [[11, 0, 0, \"region\"], [11, 0, 0, \"region\"], [11, 1, 10, \"region\"], [11, 2, 31, \"region\"]], \"hoverlabel\": {\"namelength\": 0}, \"hovertemplate\": \"day=%{customdata[0]}<br>timeslot=%{customdata[1]}<br>region=%{customdata[2]}<br>kind=%{customdata[3]}<br>latitude=%{lat}<br>longitude=%{lon}\", \"lat\": [59.31426096, 59.31426096, 59.32355937, 59.31206825], \"legendgroup\": \"\", \"line\": {\"color\": \"#636efa\"}, \"lon\": [18.07653494, 18.07653494, 18.096513199999997, 18.07390065], \"mode\": \"lines\", \"name\": \"\", \"showlegend\": false, \"subplot\": \"mapbox\", \"type\": \"scattermapbox\"}], \"name\": \"11\"}, {\"data\": [{\"customdata\": [[12, 0, 0, \"region\"], [12, 0, 0, \"region\"], [12, 1, 0, \"region\"], [12, 2, 0, \"region\"]], \"hoverlabel\": {\"namelength\": 0}, \"hovertemplate\": \"day=%{customdata[0]}<br>timeslot=%{customdata[1]}<br>region=%{customdata[2]}<br>kind=%{customdata[3]}<br>latitude=%{lat}<br>longitude=%{lon}\", \"lat\": [59.31426096, 59.31426096, 59.31426096, 59.31426096], \"legendgroup\": \"\", \"line\": {\"color\": \"#636efa\"}, \"lon\": [18.07653494, 18.07653494, 18.07653494, 18.07653494], \"mode\": \"lines\", \"name\": \"\", \"showlegend\": false, \"subplot\": \"mapbox\", \"type\": \"scattermapbox\"}], \"name\": \"12\"}, {\"data\": [{\"customdata\": [[13, 0, 0, \"region\"], [13, 0, 0, \"region\"], [13, 1, 10, \"region\"], [13, 2, -1, \"point\"]], \"hoverlabel\": {\"namelength\": 0}, \"hovertemplate\": \"day=%{customdata[0]}<br>timeslot=%{customdata[1]}<br>region=%{customdata[2]}<br>kind=%{customdata[3]}<br>latitude=%{lat}<br>longitude=%{lon}\", \"lat\": [59.31426096, 59.31426096, 59.32355937, 59.32385382604679], \"legendgroup\": \"\", \"line\": {\"color\": \"#636efa\"}, \"lon\": [18.07653494, 18.07653494, 18.096513199999997, 18.097986806868356], \"mode\": \"lines\", \"name\": \"\", \"showlegend\": false, \"subplot\": \"mapbox\", \"type\": \"scattermapbox\"}], \"name\": \"13\"}, {\"data\": [{\"customdata\": [[14, 0, 0, \"region\"], [14, 0, 0, \"region\"], [14, 1, 10, \"region\"], [14, 2, 10, \"region\"]], \"hoverlabel\": {\"namelength\": 0}, \"hovertemplate\": \"day=%{customdata[0]}<br>timeslot=%{customdata[1]}<br>region=%{customdata[2]}<br>kind=%{customdata[3]}<br>latitude=%{lat}<br>longitude=%{lon}\", \"lat\": [59.31426096, 59.31426096, 59.32355937, 59.32355937], \"legendgroup\": \"\", \"line\": {\"color\": \"#636efa\"}, \"lon\": [18.07653494, 18.07653494, 18.096513199999997, 18.096513199999997], \"mode\": \"lines\", \"name\": \"\", \"showlegend\": false, \"subplot\": \"mapbox\", \"type\": \"scattermapbox\"}], \"name\": \"14\"}, {\"data\": [{\"customdata\": [[15, 0, 0, \"region\"], [15, 0, 9, \"region\"], [15, 1, 9, \"region\"], [15, 2, 9, \"region\"]], \"hoverlabel\": {\"namelength\": 0}, \"hovertemplate\": \"day=%{customdata[0]}<br>timeslot=%{customdata[1]}<br>region=%{customdata[2]}<br>kind=%{customdata[3]}<br>latitude=%{lat}<br>longitude=%{lon}\", \"lat\": [59.31426096, 59.34305210000001, 59.34305210000001, 59.34305210000001], \"legendgroup\": \"\", \"line\": {\"color\": \"#636efa\"}, \"lon\": [18.07653494, 18.05174887, 18.05174887, 18.05174887], \"mode\": \"lines\", \"name\": \"\", \"showlegend\": false, \"subplot\": \"mapbox\", \"type\": \"scattermapbox\"}], \"name\": \"15\"}, {\"data\": [{\"customdata\": [[16, 0, 0, \"region\"], [16, 0, 32, \"region\"], [16, 1, 0, \"region\"], [16, 2, 0, \"region\"]], \"hoverlabel\": {\"namelength\": 0}, \"hovertemplate\": \"day=%{customdata[0]}<br>timeslot=%{customdata[1]}<br>region=%{customdata[2]}<br>kind=%{customdata[3]}<br>latitude=%{lat}<br>longitude=%{lon}\", \"lat\": [59.31426096, 59.36239896, 59.31426096, 59.31426096], \"legendgroup\": \"\", \"line\": {\"color\": \"#636efa\"}, \"lon\": [18.07653494, 17.96602968, 18.07653494, 18.07653494], \"mode\": \"lines\", \"name\": \"\", \"showlegend\": false, \"subplot\": \"mapbox\", \"type\": \"scattermapbox\"}], \"name\": \"16\"}, {\"data\": [{\"customdata\": [[17, 0, 0, \"region\"], [17, 0, 10, \"region\"], [17, 1, 8, \"region\"], [17, 2, 0, \"region\"]], \"hoverlabel\": {\"namelength\": 0}, \"hovertemplate\": \"day=%{customdata[0]}<br>timeslot=%{customdata[1]}<br>region=%{customdata[2]}<br>kind=%{customdata[3]}<br>latitude=%{lat}<br>longitude=%{lon}\", \"lat\": [59.31426096, 59.32355937, 59.34313992, 59.31426096], \"legendgroup\": \"\", \"line\": {\"color\": \"#636efa\"}, \"lon\": [18.07653494, 18.096513199999997, 18.08549566, 18.07653494], \"mode\": \"lines\", \"name\": \"\", \"showlegend\": false, \"subplot\": \"mapbox\", \"type\": \"scattermapbox\"}], \"name\": \"17\"}, {\"data\": [{\"customdata\": [[18, 0, 0, \"region\"], [18, 0, 0, \"region\"], [18, 1, 0, \"region\"], [18, 2, 0, \"region\"]], \"hoverlabel\": {\"namelength\": 0}, \"hovertemplate\": \"day=%{customdata[0]}<br>timeslot=%{customdata[1]}<br>region=%{customdata[2]}<br>kind=%{customdata[3]}<br>latitude=%{lat}<br>longitude=%{lon}\", \"lat\": [59.31426096, 59.31426096, 59.31426096, 59.31426096], \"legendgroup\": \"\", \"line\": {\"color\": \"#636efa\"}, \"lon\": [18.07653494, 18.07653494, 18.07653494, 18.07653494], \"mode\": \"lines\", \"name\": \"\", \"showlegend\": false, \"subplot\": \"mapbox\", \"type\": \"scattermapbox\"}], \"name\": \"18\"}, {\"data\": [{\"customdata\": [[19, 0, 0, \"region\"], [19, 0, 0, \"region\"], [19, 1, 0, \"region\"], [19, 2, 3, \"region\"]], \"hoverlabel\": {\"namelength\": 0}, \"hovertemplate\": \"day=%{customdata[0]}<br>timeslot=%{customdata[1]}<br>region=%{customdata[2]}<br>kind=%{customdata[3]}<br>latitude=%{lat}<br>longitude=%{lon}\", \"lat\": [59.31426096, 59.31426096, 59.31426096, 59.36456999999999], \"legendgroup\": \"\", \"line\": {\"color\": \"#636efa\"}, \"lon\": [18.07653494, 18.07653494, 18.07653494, 17.97493], \"mode\": \"lines\", \"name\": \"\", \"showlegend\": false, \"subplot\": \"mapbox\", \"type\": \"scattermapbox\"}], \"name\": \"19\"}, {\"data\": [{\"customdata\": [[20, 0, 0, \"region\"], [20, 0, 10, \"region\"], [20, 1, 0, \"region\"], [20, 2, 3, \"region\"]], \"hoverlabel\": {\"namelength\": 0}, \"hovertemplate\": \"day=%{customdata[0]}<br>timeslot=%{customdata[1]}<br>region=%{customdata[2]}<br>kind=%{customdata[3]}<br>latitude=%{lat}<br>longitude=%{lon}\", \"lat\": [59.31426096, 59.32355937, 59.31426096, 59.36456999999999], \"legendgroup\": \"\", \"line\": {\"color\": \"#636efa\"}, \"lon\": [18.07653494, 18.096513199999997, 18.07653494, 17.97493], \"mode\": \"lines\", \"name\": \"\", \"showlegend\": false, \"subplot\": \"mapbox\", \"type\": \"scattermapbox\"}], \"name\": \"20\"}, {\"data\": [{\"customdata\": [[21, 0, 0, \"region\"], [21, 0, 71, \"region\"], [21, 1, 10, \"region\"], [21, 2, 0, \"region\"]], \"hoverlabel\": {\"namelength\": 0}, \"hovertemplate\": \"day=%{customdata[0]}<br>timeslot=%{customdata[1]}<br>region=%{customdata[2]}<br>kind=%{customdata[3]}<br>latitude=%{lat}<br>longitude=%{lon}\", \"lat\": [59.31426096, 59.3129659, 59.32355937, 59.31426096], \"legendgroup\": \"\", \"line\": {\"color\": \"#636efa\"}, \"lon\": [18.07653494, 18.068282699999997, 18.096513199999997, 18.07653494], \"mode\": \"lines\", \"name\": \"\", \"showlegend\": false, \"subplot\": \"mapbox\", \"type\": \"scattermapbox\"}], \"name\": \"21\"}, {\"data\": [{\"customdata\": [[22, 0, 0, \"region\"], [22, 0, 43, \"region\"], [22, 1, 0, \"region\"], [22, 2, 0, \"region\"]], \"hoverlabel\": {\"namelength\": 0}, \"hovertemplate\": \"day=%{customdata[0]}<br>timeslot=%{customdata[1]}<br>region=%{customdata[2]}<br>kind=%{customdata[3]}<br>latitude=%{lat}<br>longitude=%{lon}\", \"lat\": [59.31426096, 59.32190343, 59.31426096, 59.31426096], \"legendgroup\": \"\", \"line\": {\"color\": \"#636efa\"}, \"lon\": [18.07653494, 18.216364499999997, 18.07653494, 18.07653494], \"mode\": \"lines\", \"name\": \"\", \"showlegend\": false, \"subplot\": \"mapbox\", \"type\": \"scattermapbox\"}], \"name\": \"22\"}, {\"data\": [{\"customdata\": [[23, 0, 0, \"region\"], [23, 0, 45, \"region\"], [23, 1, 10, \"region\"], [23, 2, 0, \"region\"]], \"hoverlabel\": {\"namelength\": 0}, \"hovertemplate\": \"day=%{customdata[0]}<br>timeslot=%{customdata[1]}<br>region=%{customdata[2]}<br>kind=%{customdata[3]}<br>latitude=%{lat}<br>longitude=%{lon}\", \"lat\": [59.31426096, 59.33348, 59.32355937, 59.31426096], \"legendgroup\": \"\", \"line\": {\"color\": \"#636efa\"}, \"lon\": [18.07653494, 18.032239999999998, 18.096513199999997, 18.07653494], \"mode\": \"lines\", \"name\": \"\", \"showlegend\": false, \"subplot\": \"mapbox\", \"type\": \"scattermapbox\"}], \"name\": \"23\"}, {\"data\": [{\"customdata\": [[24, 0, 0, \"region\"], [24, 0, 5, \"region\"], [24, 1, 0, \"region\"], [24, 2, 0, \"region\"]], \"hoverlabel\": {\"namelength\": 0}, \"hovertemplate\": \"day=%{customdata[0]}<br>timeslot=%{customdata[1]}<br>region=%{customdata[2]}<br>kind=%{customdata[3]}<br>latitude=%{lat}<br>longitude=%{lon}\", \"lat\": [59.31426096, 59.267619999999994, 59.31426096, 59.31426096], \"legendgroup\": \"\", \"line\": {\"color\": \"#636efa\"}, \"lon\": [18.07653494, 17.91003, 18.07653494, 18.07653494], \"mode\": \"lines\", \"name\": \"\", \"showlegend\": false, \"subplot\": \"mapbox\", \"type\": \"scattermapbox\"}], \"name\": \"24\"}, {\"data\": [{\"customdata\": [[25, 0, 0, \"region\"], [25, 0, 0, \"region\"], [25, 1, 10, \"region\"], [25, 2, -1, \"point\"]], \"hoverlabel\": {\"namelength\": 0}, \"hovertemplate\": \"day=%{customdata[0]}<br>timeslot=%{customdata[1]}<br>region=%{customdata[2]}<br>kind=%{customdata[3]}<br>latitude=%{lat}<br>longitude=%{lon}\", \"lat\": [59.31426096, 59.31426096, 59.32355937, 59.32639807375297], \"legendgroup\": \"\", \"line\": {\"color\": \"#636efa\"}, \"lon\": [18.07653494, 18.07653494, 18.096513199999997, 18.09653731669386], \"mode\": \"lines\", \"name\": \"\", \"showlegend\": false, \"subplot\": \"mapbox\", \"type\": \"scattermapbox\"}], \"name\": \"25\"}, {\"data\": [{\"customdata\": [[26, 0, 0, \"region\"], [26, 0, -1, \"point\"], [26, 1, 10, \"region\"], [26, 2, 10, \"region\"]], \"hoverlabel\": {\"namelength\": 0}, \"hovertemplate\": \"day=%{customdata[0]}<br>timeslot=%{customdata[1]}<br>region=%{customdata[2]}<br>kind=%{customdata[3]}<br>latitude=%{lat}<br>longitude=%{lon}\", \"lat\": [59.31426096, 59.31426096, 59.32355937, 59.32355937], \"legendgroup\": \"\", \"line\": {\"color\": \"#636efa\"}, \"lon\": [18.07653494, 18.07653494, 18.096513199999997, 18.096513199999997], \"mode\": \"lines\", \"name\": \"\", \"showlegend\": false, \"subplot\": \"mapbox\", \"type\": \"scattermapbox\"}], \"name\": \"26\"}, {\"data\": [{\"customdata\": [[27, 0, 0, \"region\"], [27, 0, 10, \"region\"], [27, 1, 0, \"region\"], [27, 2, 26, \"region\"]], \"hoverlabel\": {\"namelength\": 0}, \"hovertemplate\": \"day=%{customdata[0]}<br>timeslot=%{customdata[1]}<br>region=%{customdata[2]}<br>kind=%{customdata[3]}<br>latitude=%{lat}<br>longitude=%{lon}\", \"lat\": [59.31426096, 59.32355937, 59.31426096, 59.339442000000005], \"legendgroup\": \"\", \"line\": {\"color\": \"#636efa\"}, \"lon\": [18.07653494, 18.096513199999997, 18.07653494, 18.01222088], \"mode\": \"lines\", \"name\": \"\", \"showlegend\": false, \"subplot\": \"mapbox\", \"type\": \"scattermapbox\"}], \"name\": \"27\"}, {\"data\": [{\"customdata\": [[28, 0, 0, \"region\"], [28, 0, 32, \"region\"], [28, 1, 0, \"region\"], [28, 2, 53, \"region\"]], \"hoverlabel\": {\"namelength\": 0}, \"hovertemplate\": \"day=%{customdata[0]}<br>timeslot=%{customdata[1]}<br>region=%{customdata[2]}<br>kind=%{customdata[3]}<br>latitude=%{lat}<br>longitude=%{lon}\", \"lat\": [59.31426096, 59.36239896, 59.31426096, 59.34639599], \"legendgroup\": \"\", \"line\": {\"color\": \"#636efa\"}, \"lon\": [18.07653494, 17.96602968, 18.07653494, 18.031986899999996], \"mode\": \"lines\", \"name\": \"\", \"showlegend\": false, \"subplot\": \"mapbox\", \"type\": \"scattermapbox\"}], \"name\": \"28\"}, {\"data\": [{\"customdata\": [[29, 0, 0, \"region\"], [29, 0, 0, \"region\"], [29, 1, 0, \"region\"], [29, 2, 10, \"region\"]], \"hoverlabel\": {\"namelength\": 0}, \"hovertemplate\": \"day=%{customdata[0]}<br>timeslot=%{customdata[1]}<br>region=%{customdata[2]}<br>kind=%{customdata[3]}<br>latitude=%{lat}<br>longitude=%{lon}\", \"lat\": [59.31426096, 59.31426096, 59.31426096, 59.32355937], \"legendgroup\": \"\", \"line\": {\"color\": \"#636efa\"}, \"lon\": [18.07653494, 18.07653494, 18.07653494, 18.096513199999997], \"mode\": \"lines\", \"name\": \"\", \"showlegend\": false, \"subplot\": \"mapbox\", \"type\": \"scattermapbox\"}], \"name\": \"29\"}, {\"data\": [{\"customdata\": [[30, 0, 0, \"region\"], [30, 0, 0, \"region\"], [30, 1, 0, \"region\"], [30, 2, 21, \"region\"]], \"hoverlabel\": {\"namelength\": 0}, \"hovertemplate\": \"day=%{customdata[0]}<br>timeslot=%{customdata[1]}<br>region=%{customdata[2]}<br>kind=%{customdata[3]}<br>latitude=%{lat}<br>longitude=%{lon}\", \"lat\": [59.31426096, 59.31426096, 59.31426096, 59.315290000000005], \"legendgroup\": \"\", \"line\": {\"color\": \"#636efa\"}, \"lon\": [18.07653494, 18.07653494, 18.07653494, 18.1637], \"mode\": \"lines\", \"name\": \"\", \"showlegend\": false, \"subplot\": \"mapbox\", \"type\": \"scattermapbox\"}], \"name\": \"30\"}, {\"data\": [{\"customdata\": [[31, 0, 0, \"region\"], [31, 0, 14, \"region\"], [31, 1, 9, \"region\"], [31, 2, 0, \"region\"]], \"hoverlabel\": {\"namelength\": 0}, \"hovertemplate\": \"day=%{customdata[0]}<br>timeslot=%{customdata[1]}<br>region=%{customdata[2]}<br>kind=%{customdata[3]}<br>latitude=%{lat}<br>longitude=%{lon}\", \"lat\": [59.31426096, 59.34876293, 59.34305210000001, 59.31426096], \"legendgroup\": \"\", \"line\": {\"color\": \"#636efa\"}, \"lon\": [18.07653494, 18.02764472, 18.05174887, 18.07653494], \"mode\": \"lines\", \"name\": \"\", \"showlegend\": false, \"subplot\": \"mapbox\", \"type\": \"scattermapbox\"}], \"name\": \"31\"}, {\"data\": [{\"customdata\": [[32, 0, 0, \"region\"], [32, 0, 0, \"region\"], [32, 1, 23, \"region\"], [32, 2, 10, \"region\"]], \"hoverlabel\": {\"namelength\": 0}, \"hovertemplate\": \"day=%{customdata[0]}<br>timeslot=%{customdata[1]}<br>region=%{customdata[2]}<br>kind=%{customdata[3]}<br>latitude=%{lat}<br>longitude=%{lon}\", \"lat\": [59.31426096, 59.31426096, 59.3634682, 59.32355937], \"legendgroup\": \"\", \"line\": {\"color\": \"#636efa\"}, \"lon\": [18.07653494, 18.07653494, 17.8727207, 18.096513199999997], \"mode\": \"lines\", \"name\": \"\", \"showlegend\": false, \"subplot\": \"mapbox\", \"type\": \"scattermapbox\"}], \"name\": \"32\"}, {\"data\": [{\"customdata\": [[33, 0, 0, \"region\"], [33, 0, 10, \"region\"], [33, 1, 0, \"region\"], [33, 2, 0, \"region\"]], \"hoverlabel\": {\"namelength\": 0}, \"hovertemplate\": \"day=%{customdata[0]}<br>timeslot=%{customdata[1]}<br>region=%{customdata[2]}<br>kind=%{customdata[3]}<br>latitude=%{lat}<br>longitude=%{lon}\", \"lat\": [59.31426096, 59.32355937, 59.31426096, 59.31426096], \"legendgroup\": \"\", \"line\": {\"color\": \"#636efa\"}, \"lon\": [18.07653494, 18.096513199999997, 18.07653494, 18.07653494], \"mode\": \"lines\", \"name\": \"\", \"showlegend\": false, \"subplot\": \"mapbox\", \"type\": \"scattermapbox\"}], \"name\": \"33\"}, {\"data\": [{\"customdata\": [[34, 0, 0, \"region\"], [34, 0, 16, \"region\"], [34, 1, 110, \"region\"], [34, 2, 9, \"region\"]], \"hoverlabel\": {\"namelength\": 0}, \"hovertemplate\": \"day=%{customdata[0]}<br>timeslot=%{customdata[1]}<br>region=%{customdata[2]}<br>kind=%{customdata[3]}<br>latitude=%{lat}<br>longitude=%{lon}\", \"lat\": [59.31426096, 59.22078204, 59.3917989, 59.34305210000001], \"legendgroup\": \"\", \"line\": {\"color\": \"#636efa\"}, \"lon\": [18.07653494, 17.9363181, 18.0387252, 18.05174887], \"mode\": \"lines\", \"name\": \"\", \"showlegend\": false, \"subplot\": \"mapbox\", \"type\": \"scattermapbox\"}], \"name\": \"34\"}, {\"data\": [{\"customdata\": [[35, 0, 0, \"region\"], [35, 0, 8, \"region\"], [35, 1, 0, \"region\"], [35, 2, 9, \"region\"]], \"hoverlabel\": {\"namelength\": 0}, \"hovertemplate\": \"day=%{customdata[0]}<br>timeslot=%{customdata[1]}<br>region=%{customdata[2]}<br>kind=%{customdata[3]}<br>latitude=%{lat}<br>longitude=%{lon}\", \"lat\": [59.31426096, 59.34313992, 59.31426096, 59.34305210000001], \"legendgroup\": \"\", \"line\": {\"color\": \"#636efa\"}, \"lon\": [18.07653494, 18.08549566, 18.07653494, 18.05174887], \"mode\": \"lines\", \"name\": \"\", \"showlegend\": false, \"subplot\": \"mapbox\", \"type\": \"scattermapbox\"}], \"name\": \"35\"}, {\"data\": [{\"customdata\": [[36, 0, 0, \"region\"], [36, 0, 0, \"region\"], [36, 1, 5, \"region\"], [36, 2, -1, \"point\"]], \"hoverlabel\": {\"namelength\": 0}, \"hovertemplate\": \"day=%{customdata[0]}<br>timeslot=%{customdata[1]}<br>region=%{customdata[2]}<br>kind=%{customdata[3]}<br>latitude=%{lat}<br>longitude=%{lon}\", \"lat\": [59.31426096, 59.31426096, 59.267619999999994, 59.267619999999994], \"legendgroup\": \"\", \"line\": {\"color\": \"#636efa\"}, \"lon\": [18.07653494, 18.07653494, 17.91003, 17.91003], \"mode\": \"lines\", \"name\": \"\", \"showlegend\": false, \"subplot\": \"mapbox\", \"type\": \"scattermapbox\"}], \"name\": \"36\"}, {\"data\": [{\"customdata\": [[37, 0, 0, \"region\"], [37, 0, 0, \"region\"], [37, 1, 15, \"region\"], [37, 2, 0, \"region\"]], \"hoverlabel\": {\"namelength\": 0}, \"hovertemplate\": \"day=%{customdata[0]}<br>timeslot=%{customdata[1]}<br>region=%{customdata[2]}<br>kind=%{customdata[3]}<br>latitude=%{lat}<br>longitude=%{lon}\", \"lat\": [59.31426096, 59.31426096, 59.217780000000005, 59.31426096], \"legendgroup\": \"\", \"line\": {\"color\": \"#636efa\"}, \"lon\": [18.07653494, 18.07653494, 17.93892, 18.07653494], \"mode\": \"lines\", \"name\": \"\", \"showlegend\": false, \"subplot\": \"mapbox\", \"type\": \"scattermapbox\"}], \"name\": \"37\"}, {\"data\": [{\"customdata\": [[38, 0, 0, \"region\"], [38, 0, 0, \"region\"], [38, 1, 39, \"region\"], [38, 2, 0, \"region\"]], \"hoverlabel\": {\"namelength\": 0}, \"hovertemplate\": \"day=%{customdata[0]}<br>timeslot=%{customdata[1]}<br>region=%{customdata[2]}<br>kind=%{customdata[3]}<br>latitude=%{lat}<br>longitude=%{lon}\", \"lat\": [59.31426096, 59.31426096, 59.32535178, 59.31426096], \"legendgroup\": \"\", \"line\": {\"color\": \"#636efa\"}, \"lon\": [18.07653494, 18.07653494, 18.09606097, 18.07653494], \"mode\": \"lines\", \"name\": \"\", \"showlegend\": false, \"subplot\": \"mapbox\", \"type\": \"scattermapbox\"}], \"name\": \"38\"}, {\"data\": [{\"customdata\": [[39, 0, 0, \"region\"], [39, 0, 16, \"region\"], [39, 1, 73, \"region\"], [39, 2, 10, \"region\"]], \"hoverlabel\": {\"namelength\": 0}, \"hovertemplate\": \"day=%{customdata[0]}<br>timeslot=%{customdata[1]}<br>region=%{customdata[2]}<br>kind=%{customdata[3]}<br>latitude=%{lat}<br>longitude=%{lon}\", \"lat\": [59.31426096, 59.22078204, 59.3090821, 59.32355937], \"legendgroup\": \"\", \"line\": {\"color\": \"#636efa\"}, \"lon\": [18.07653494, 17.9363181, 18.056026199999998, 18.096513199999997], \"mode\": \"lines\", \"name\": \"\", \"showlegend\": false, \"subplot\": \"mapbox\", \"type\": \"scattermapbox\"}], \"name\": \"39\"}, {\"data\": [{\"customdata\": [[40, 0, 0, \"region\"], [40, 0, 9, \"region\"], [40, 1, 3, \"region\"], [40, 2, 10, \"region\"]], \"hoverlabel\": {\"namelength\": 0}, \"hovertemplate\": \"day=%{customdata[0]}<br>timeslot=%{customdata[1]}<br>region=%{customdata[2]}<br>kind=%{customdata[3]}<br>latitude=%{lat}<br>longitude=%{lon}\", \"lat\": [59.31426096, 59.34305210000001, 59.36456999999999, 59.32355937], \"legendgroup\": \"\", \"line\": {\"color\": \"#636efa\"}, \"lon\": [18.07653494, 18.05174887, 17.97493, 18.096513199999997], \"mode\": \"lines\", \"name\": \"\", \"showlegend\": false, \"subplot\": \"mapbox\", \"type\": \"scattermapbox\"}], \"name\": \"40\"}, {\"data\": [{\"customdata\": [[41, 0, 0, \"region\"], [41, 0, 0, \"region\"], [41, 1, 10, \"region\"], [41, 2, 51, \"region\"]], \"hoverlabel\": {\"namelength\": 0}, \"hovertemplate\": \"day=%{customdata[0]}<br>timeslot=%{customdata[1]}<br>region=%{customdata[2]}<br>kind=%{customdata[3]}<br>latitude=%{lat}<br>longitude=%{lon}\", \"lat\": [59.31426096, 59.31426096, 59.32355937, 52.31430875], \"legendgroup\": \"\", \"line\": {\"color\": \"#636efa\"}, \"lon\": [18.07653494, 18.07653494, 18.096513199999997, 4.94190716], \"mode\": \"lines\", \"name\": \"\", \"showlegend\": false, \"subplot\": \"mapbox\", \"type\": \"scattermapbox\"}], \"name\": \"41\"}, {\"data\": [{\"customdata\": [[42, 0, 0, \"region\"], [42, 0, 0, \"region\"], [42, 1, 0, \"region\"], [42, 2, 0, \"region\"]], \"hoverlabel\": {\"namelength\": 0}, \"hovertemplate\": \"day=%{customdata[0]}<br>timeslot=%{customdata[1]}<br>region=%{customdata[2]}<br>kind=%{customdata[3]}<br>latitude=%{lat}<br>longitude=%{lon}\", \"lat\": [59.31426096, 59.31426096, 59.31426096, 59.31426096], \"legendgroup\": \"\", \"line\": {\"color\": \"#636efa\"}, \"lon\": [18.07653494, 18.07653494, 18.07653494, 18.07653494], \"mode\": \"lines\", \"name\": \"\", \"showlegend\": false, \"subplot\": \"mapbox\", \"type\": \"scattermapbox\"}], \"name\": \"42\"}, {\"data\": [{\"customdata\": [[43, 0, 0, \"region\"], [43, 0, 0, \"region\"], [43, 1, -1, \"point\"], [43, 2, 0, \"region\"]], \"hoverlabel\": {\"namelength\": 0}, \"hovertemplate\": \"day=%{customdata[0]}<br>timeslot=%{customdata[1]}<br>region=%{customdata[2]}<br>kind=%{customdata[3]}<br>latitude=%{lat}<br>longitude=%{lon}\", \"lat\": [59.31426096, 59.31426096, 59.31426096, 59.31426096], \"legendgroup\": \"\", \"line\": {\"color\": \"#636efa\"}, \"lon\": [18.07653494, 18.07653494, 18.07653494, 18.07653494], \"mode\": \"lines\", \"name\": \"\", \"showlegend\": false, \"subplot\": \"mapbox\", \"type\": \"scattermapbox\"}], \"name\": \"43\"}, {\"data\": [{\"customdata\": [[44, 0, 0, \"region\"], [44, 0, 0, \"region\"], [44, 1, 9, \"region\"], [44, 2, 0, \"region\"]], \"hoverlabel\": {\"namelength\": 0}, \"hovertemplate\": \"day=%{customdata[0]}<br>timeslot=%{customdata[1]}<br>region=%{customdata[2]}<br>kind=%{customdata[3]}<br>latitude=%{lat}<br>longitude=%{lon}\", \"lat\": [59.31426096, 59.31426096, 59.34305210000001, 59.31426096], \"legendgroup\": \"\", \"line\": {\"color\": \"#636efa\"}, \"lon\": [18.07653494, 18.07653494, 18.05174887, 18.07653494], \"mode\": \"lines\", \"name\": \"\", \"showlegend\": false, \"subplot\": \"mapbox\", \"type\": \"scattermapbox\"}], \"name\": \"44\"}, {\"data\": [{\"customdata\": [[45, 0, 0, \"region\"], [45, 0, 115, \"region\"], [45, 1, 0, \"region\"], [45, 2, 71, \"region\"]], \"hoverlabel\": {\"namelength\": 0}, \"hovertemplate\": \"day=%{customdata[0]}<br>timeslot=%{customdata[1]}<br>region=%{customdata[2]}<br>kind=%{customdata[3]}<br>latitude=%{lat}<br>longitude=%{lon}\", \"lat\": [59.31426096, 59.3, 59.31426096, 59.3129659], \"legendgroup\": \"\", \"line\": {\"color\": \"#636efa\"}, \"lon\": [18.07653494, 18.1667, 18.07653494, 18.068282699999997], \"mode\": \"lines\", \"name\": \"\", \"showlegend\": false, \"subplot\": \"mapbox\", \"type\": \"scattermapbox\"}], \"name\": \"45\"}, {\"data\": [{\"customdata\": [[46, 0, 0, \"region\"], [46, 0, 79, \"region\"], [46, 1, 0, \"region\"], [46, 2, 0, \"region\"]], \"hoverlabel\": {\"namelength\": 0}, \"hovertemplate\": \"day=%{customdata[0]}<br>timeslot=%{customdata[1]}<br>region=%{customdata[2]}<br>kind=%{customdata[3]}<br>latitude=%{lat}<br>longitude=%{lon}\", \"lat\": [59.31426096, 59.2943902, 59.31426096, 59.31426096], \"legendgroup\": \"\", \"line\": {\"color\": \"#636efa\"}, \"lon\": [18.07653494, 18.0795054, 18.07653494, 18.07653494], \"mode\": \"lines\", \"name\": \"\", \"showlegend\": false, \"subplot\": \"mapbox\", \"type\": \"scattermapbox\"}], \"name\": \"46\"}, {\"data\": [{\"customdata\": [[47, 0, 0, \"region\"], [47, 0, 0, \"region\"], [47, 1, 26, \"region\"], [47, 2, 54, \"region\"]], \"hoverlabel\": {\"namelength\": 0}, \"hovertemplate\": \"day=%{customdata[0]}<br>timeslot=%{customdata[1]}<br>region=%{customdata[2]}<br>kind=%{customdata[3]}<br>latitude=%{lat}<br>longitude=%{lon}\", \"lat\": [59.31426096, 59.31426096, 59.339442000000005, 59.40192], \"legendgroup\": \"\", \"line\": {\"color\": \"#636efa\"}, \"lon\": [18.07653494, 18.07653494, 18.01222088, 17.94602], \"mode\": \"lines\", \"name\": \"\", \"showlegend\": false, \"subplot\": \"mapbox\", \"type\": \"scattermapbox\"}], \"name\": \"47\"}, {\"data\": [{\"customdata\": [[48, 0, 0, \"region\"], [48, 0, 0, \"region\"], [48, 1, 69, \"region\"], [48, 2, 23, \"region\"]], \"hoverlabel\": {\"namelength\": 0}, \"hovertemplate\": \"day=%{customdata[0]}<br>timeslot=%{customdata[1]}<br>region=%{customdata[2]}<br>kind=%{customdata[3]}<br>latitude=%{lat}<br>longitude=%{lon}\", \"lat\": [59.31426096, 59.31426096, 59.40306012, 59.3634682], \"legendgroup\": \"\", \"line\": {\"color\": \"#636efa\"}, \"lon\": [18.07653494, 18.07653494, 17.94442349, 17.8727207], \"mode\": \"lines\", \"name\": \"\", \"showlegend\": false, \"subplot\": \"mapbox\", \"type\": \"scattermapbox\"}], \"name\": \"48\"}, {\"data\": [{\"customdata\": [[49, 0, 0, \"region\"], [49, 0, 0, \"region\"], [49, 1, 7, \"region\"], [49, 2, 10, \"region\"]], \"hoverlabel\": {\"namelength\": 0}, \"hovertemplate\": \"day=%{customdata[0]}<br>timeslot=%{customdata[1]}<br>region=%{customdata[2]}<br>kind=%{customdata[3]}<br>latitude=%{lat}<br>longitude=%{lon}\", \"lat\": [59.31426096, 59.31426096, 59.33448582, 59.32355937], \"legendgroup\": \"\", \"line\": {\"color\": \"#636efa\"}, \"lon\": [18.07653494, 18.07653494, 18.06427381, 18.096513199999997], \"mode\": \"lines\", \"name\": \"\", \"showlegend\": false, \"subplot\": \"mapbox\", \"type\": \"scattermapbox\"}], \"name\": \"49\"}, {\"data\": [{\"customdata\": [[50, 0, 0, \"region\"], [50, 0, -1, \"point\"], [50, 1, 110, \"region\"], [50, 2, 0, \"region\"]], \"hoverlabel\": {\"namelength\": 0}, \"hovertemplate\": \"day=%{customdata[0]}<br>timeslot=%{customdata[1]}<br>region=%{customdata[2]}<br>kind=%{customdata[3]}<br>latitude=%{lat}<br>longitude=%{lon}\", \"lat\": [59.31426096, 59.31507397818495, 59.3917989, 59.31426096], \"legendgroup\": \"\", \"line\": {\"color\": \"#636efa\"}, \"lon\": [18.07653494, 18.076400739461526, 18.0387252, 18.07653494], \"mode\": \"lines\", \"name\": \"\", \"showlegend\": false, \"subplot\": \"mapbox\", \"type\": \"scattermapbox\"}], \"name\": \"50\"}, {\"data\": [{\"customdata\": [[51, 0, 0, \"region\"], [51, 0, 9, \"region\"], [51, 1, 15, \"region\"], [51, 2, 10, \"region\"]], \"hoverlabel\": {\"namelength\": 0}, \"hovertemplate\": \"day=%{customdata[0]}<br>timeslot=%{customdata[1]}<br>region=%{customdata[2]}<br>kind=%{customdata[3]}<br>latitude=%{lat}<br>longitude=%{lon}\", \"lat\": [59.31426096, 59.34305210000001, 59.217780000000005, 59.32355937], \"legendgroup\": \"\", \"line\": {\"color\": \"#636efa\"}, \"lon\": [18.07653494, 18.05174887, 17.93892, 18.096513199999997], \"mode\": \"lines\", \"name\": \"\", \"showlegend\": false, \"subplot\": \"mapbox\", \"type\": \"scattermapbox\"}], \"name\": \"51\"}, {\"data\": [{\"customdata\": [[52, 0, 0, \"region\"], [52, 0, 0, \"region\"], [52, 1, 10, \"region\"], [52, 2, 0, \"region\"]], \"hoverlabel\": {\"namelength\": 0}, \"hovertemplate\": \"day=%{customdata[0]}<br>timeslot=%{customdata[1]}<br>region=%{customdata[2]}<br>kind=%{customdata[3]}<br>latitude=%{lat}<br>longitude=%{lon}\", \"lat\": [59.31426096, 59.31426096, 59.32355937, 59.31426096], \"legendgroup\": \"\", \"line\": {\"color\": \"#636efa\"}, \"lon\": [18.07653494, 18.07653494, 18.096513199999997, 18.07653494], \"mode\": \"lines\", \"name\": \"\", \"showlegend\": false, \"subplot\": \"mapbox\", \"type\": \"scattermapbox\"}], \"name\": \"52\"}, {\"data\": [{\"customdata\": [[53, 0, 0, \"region\"], [53, 0, 8, \"region\"], [53, 1, 0, \"region\"], [53, 2, 63, \"region\"]], \"hoverlabel\": {\"namelength\": 0}, \"hovertemplate\": \"day=%{customdata[0]}<br>timeslot=%{customdata[1]}<br>region=%{customdata[2]}<br>kind=%{customdata[3]}<br>latitude=%{lat}<br>longitude=%{lon}\", \"lat\": [59.31426096, 59.34313992, 59.31426096, 59.28549209], \"legendgroup\": \"\", \"line\": {\"color\": \"#636efa\"}, \"lon\": [18.07653494, 18.08549566, 18.07653494, 18.09486998], \"mode\": \"lines\", \"name\": \"\", \"showlegend\": false, \"subplot\": \"mapbox\", \"type\": \"scattermapbox\"}], \"name\": \"53\"}, {\"data\": [{\"customdata\": [[54, 0, 0, \"region\"], [54, 0, 26, \"region\"], [54, 1, 10, \"region\"], [54, 2, 0, \"region\"]], \"hoverlabel\": {\"namelength\": 0}, \"hovertemplate\": \"day=%{customdata[0]}<br>timeslot=%{customdata[1]}<br>region=%{customdata[2]}<br>kind=%{customdata[3]}<br>latitude=%{lat}<br>longitude=%{lon}\", \"lat\": [59.31426096, 59.339442000000005, 59.32355937, 59.31426096], \"legendgroup\": \"\", \"line\": {\"color\": \"#636efa\"}, \"lon\": [18.07653494, 18.01222088, 18.096513199999997, 18.07653494], \"mode\": \"lines\", \"name\": \"\", \"showlegend\": false, \"subplot\": \"mapbox\", \"type\": \"scattermapbox\"}], \"name\": \"54\"}, {\"data\": [{\"customdata\": [[55, 0, 0, \"region\"], [55, 0, 10, \"region\"], [55, 1, 0, \"region\"], [55, 2, 0, \"region\"]], \"hoverlabel\": {\"namelength\": 0}, \"hovertemplate\": \"day=%{customdata[0]}<br>timeslot=%{customdata[1]}<br>region=%{customdata[2]}<br>kind=%{customdata[3]}<br>latitude=%{lat}<br>longitude=%{lon}\", \"lat\": [59.31426096, 59.32355937, 59.31426096, 59.31426096], \"legendgroup\": \"\", \"line\": {\"color\": \"#636efa\"}, \"lon\": [18.07653494, 18.096513199999997, 18.07653494, 18.07653494], \"mode\": \"lines\", \"name\": \"\", \"showlegend\": false, \"subplot\": \"mapbox\", \"type\": \"scattermapbox\"}], \"name\": \"55\"}, {\"data\": [{\"customdata\": [[56, 0, 0, \"region\"], [56, 0, 1, \"region\"], [56, 1, 0, \"region\"], [56, 2, 0, \"region\"]], \"hoverlabel\": {\"namelength\": 0}, \"hovertemplate\": \"day=%{customdata[0]}<br>timeslot=%{customdata[1]}<br>region=%{customdata[2]}<br>kind=%{customdata[3]}<br>latitude=%{lat}<br>longitude=%{lon}\", \"lat\": [59.31426096, 59.3685, 59.31426096, 59.31426096], \"legendgroup\": \"\", \"line\": {\"color\": \"#636efa\"}, \"lon\": [18.07653494, 17.96702, 18.07653494, 18.07653494], \"mode\": \"lines\", \"name\": \"\", \"showlegend\": false, \"subplot\": \"mapbox\", \"type\": \"scattermapbox\"}], \"name\": \"56\"}, {\"data\": [{\"customdata\": [[57, 0, 0, \"region\"], [57, 0, 9, \"region\"], [57, 1, 3, \"region\"], [57, 2, 0, \"region\"]], \"hoverlabel\": {\"namelength\": 0}, \"hovertemplate\": \"day=%{customdata[0]}<br>timeslot=%{customdata[1]}<br>region=%{customdata[2]}<br>kind=%{customdata[3]}<br>latitude=%{lat}<br>longitude=%{lon}\", \"lat\": [59.31426096, 59.34305210000001, 59.36456999999999, 59.31426096], \"legendgroup\": \"\", \"line\": {\"color\": \"#636efa\"}, \"lon\": [18.07653494, 18.05174887, 17.97493, 18.07653494], \"mode\": \"lines\", \"name\": \"\", \"showlegend\": false, \"subplot\": \"mapbox\", \"type\": \"scattermapbox\"}], \"name\": \"57\"}, {\"data\": [{\"customdata\": [[58, 0, 0, \"region\"], [58, 0, 45, \"region\"], [58, 1, 8, \"region\"], [58, 2, 0, \"region\"]], \"hoverlabel\": {\"namelength\": 0}, \"hovertemplate\": \"day=%{customdata[0]}<br>timeslot=%{customdata[1]}<br>region=%{customdata[2]}<br>kind=%{customdata[3]}<br>latitude=%{lat}<br>longitude=%{lon}\", \"lat\": [59.31426096, 59.33348, 59.34313992, 59.31426096], \"legendgroup\": \"\", \"line\": {\"color\": \"#636efa\"}, \"lon\": [18.07653494, 18.032239999999998, 18.08549566, 18.07653494], \"mode\": \"lines\", \"name\": \"\", \"showlegend\": false, \"subplot\": \"mapbox\", \"type\": \"scattermapbox\"}], \"name\": \"58\"}, {\"data\": [{\"customdata\": [[59, 0, 0, \"region\"], [59, 0, 10, \"region\"], [59, 1, 0, \"region\"], [59, 2, 0, \"region\"]], \"hoverlabel\": {\"namelength\": 0}, \"hovertemplate\": \"day=%{customdata[0]}<br>timeslot=%{customdata[1]}<br>region=%{customdata[2]}<br>kind=%{customdata[3]}<br>latitude=%{lat}<br>longitude=%{lon}\", \"lat\": [59.31426096, 59.32355937, 59.31426096, 59.31426096], \"legendgroup\": \"\", \"line\": {\"color\": \"#636efa\"}, \"lon\": [18.07653494, 18.096513199999997, 18.07653494, 18.07653494], \"mode\": \"lines\", \"name\": \"\", \"showlegend\": false, \"subplot\": \"mapbox\", \"type\": \"scattermapbox\"}], \"name\": \"59\"}, {\"data\": [{\"customdata\": [[60, 0, 0, \"region\"], [60, 0, 0, \"region\"], [60, 1, 71, \"region\"], [60, 2, 114, \"region\"]], \"hoverlabel\": {\"namelength\": 0}, \"hovertemplate\": \"day=%{customdata[0]}<br>timeslot=%{customdata[1]}<br>region=%{customdata[2]}<br>kind=%{customdata[3]}<br>latitude=%{lat}<br>longitude=%{lon}\", \"lat\": [59.31426096, 59.31426096, 59.3129659, 59.3307], \"legendgroup\": \"\", \"line\": {\"color\": \"#636efa\"}, \"lon\": [18.07653494, 18.07653494, 18.068282699999997, 18.0605], \"mode\": \"lines\", \"name\": \"\", \"showlegend\": false, \"subplot\": \"mapbox\", \"type\": \"scattermapbox\"}], \"name\": \"60\"}, {\"data\": [{\"customdata\": [[61, 0, 0, \"region\"], [61, 0, 0, \"region\"], [61, 1, 0, \"region\"], [61, 2, 10, \"region\"]], \"hoverlabel\": {\"namelength\": 0}, \"hovertemplate\": \"day=%{customdata[0]}<br>timeslot=%{customdata[1]}<br>region=%{customdata[2]}<br>kind=%{customdata[3]}<br>latitude=%{lat}<br>longitude=%{lon}\", \"lat\": [59.31426096, 59.31426096, 59.31426096, 59.32355937], \"legendgroup\": \"\", \"line\": {\"color\": \"#636efa\"}, \"lon\": [18.07653494, 18.07653494, 18.07653494, 18.096513199999997], \"mode\": \"lines\", \"name\": \"\", \"showlegend\": false, \"subplot\": \"mapbox\", \"type\": \"scattermapbox\"}], \"name\": \"61\"}, {\"data\": [{\"customdata\": [[62, 0, 0, \"region\"], [62, 0, 0, \"region\"], [62, 1, 3, \"region\"], [62, 2, 0, \"region\"]], \"hoverlabel\": {\"namelength\": 0}, \"hovertemplate\": \"day=%{customdata[0]}<br>timeslot=%{customdata[1]}<br>region=%{customdata[2]}<br>kind=%{customdata[3]}<br>latitude=%{lat}<br>longitude=%{lon}\", \"lat\": [59.31426096, 59.31426096, 59.36456999999999, 59.31426096], \"legendgroup\": \"\", \"line\": {\"color\": \"#636efa\"}, \"lon\": [18.07653494, 18.07653494, 17.97493, 18.07653494], \"mode\": \"lines\", \"name\": \"\", \"showlegend\": false, \"subplot\": \"mapbox\", \"type\": \"scattermapbox\"}], \"name\": \"62\"}, {\"data\": [{\"customdata\": [[63, 0, 0, \"region\"], [63, 0, 0, \"region\"], [63, 1, 10, \"region\"], [63, 2, 0, \"region\"]], \"hoverlabel\": {\"namelength\": 0}, \"hovertemplate\": \"day=%{customdata[0]}<br>timeslot=%{customdata[1]}<br>region=%{customdata[2]}<br>kind=%{customdata[3]}<br>latitude=%{lat}<br>longitude=%{lon}\", \"lat\": [59.31426096, 59.31426096, 59.32355937, 59.31426096], \"legendgroup\": \"\", \"line\": {\"color\": \"#636efa\"}, \"lon\": [18.07653494, 18.07653494, 18.096513199999997, 18.07653494], \"mode\": \"lines\", \"name\": \"\", \"showlegend\": false, \"subplot\": \"mapbox\", \"type\": \"scattermapbox\"}], \"name\": \"63\"}, {\"data\": [{\"customdata\": [[64, 0, 0, \"region\"], [64, 0, 0, \"region\"], [64, 1, 0, \"region\"], [64, 2, 16, \"region\"]], \"hoverlabel\": {\"namelength\": 0}, \"hovertemplate\": \"day=%{customdata[0]}<br>timeslot=%{customdata[1]}<br>region=%{customdata[2]}<br>kind=%{customdata[3]}<br>latitude=%{lat}<br>longitude=%{lon}\", \"lat\": [59.31426096, 59.31426096, 59.31426096, 59.22078204], \"legendgroup\": \"\", \"line\": {\"color\": \"#636efa\"}, \"lon\": [18.07653494, 18.07653494, 18.07653494, 17.9363181], \"mode\": \"lines\", \"name\": \"\", \"showlegend\": false, \"subplot\": \"mapbox\", \"type\": \"scattermapbox\"}], \"name\": \"64\"}, {\"data\": [{\"customdata\": [[65, 0, 0, \"region\"], [65, 0, 0, \"region\"], [65, 1, 0, \"region\"], [65, 2, 10, \"region\"]], \"hoverlabel\": {\"namelength\": 0}, \"hovertemplate\": \"day=%{customdata[0]}<br>timeslot=%{customdata[1]}<br>region=%{customdata[2]}<br>kind=%{customdata[3]}<br>latitude=%{lat}<br>longitude=%{lon}\", \"lat\": [59.31426096, 59.31426096, 59.31426096, 59.32355937], \"legendgroup\": \"\", \"line\": {\"color\": \"#636efa\"}, \"lon\": [18.07653494, 18.07653494, 18.07653494, 18.096513199999997], \"mode\": \"lines\", \"name\": \"\", \"showlegend\": false, \"subplot\": \"mapbox\", \"type\": \"scattermapbox\"}], \"name\": \"65\"}, {\"data\": [{\"customdata\": [[66, 0, 0, \"region\"], [66, 0, 0, \"region\"], [66, 1, 113, \"region\"], [66, 2, 3, \"region\"]], \"hoverlabel\": {\"namelength\": 0}, \"hovertemplate\": \"day=%{customdata[0]}<br>timeslot=%{customdata[1]}<br>region=%{customdata[2]}<br>kind=%{customdata[3]}<br>latitude=%{lat}<br>longitude=%{lon}\", \"lat\": [59.31426096, 59.31426096, 59.33571, 59.36456999999999], \"legendgroup\": \"\", \"line\": {\"color\": \"#636efa\"}, \"lon\": [18.07653494, 18.07653494, 18.0615, 17.97493], \"mode\": \"lines\", \"name\": \"\", \"showlegend\": false, \"subplot\": \"mapbox\", \"type\": \"scattermapbox\"}], \"name\": \"66\"}, {\"data\": [{\"customdata\": [[67, 0, 0, \"region\"], [67, 0, 10, \"region\"], [67, 1, 0, \"region\"], [67, 2, 10, \"region\"]], \"hoverlabel\": {\"namelength\": 0}, \"hovertemplate\": \"day=%{customdata[0]}<br>timeslot=%{customdata[1]}<br>region=%{customdata[2]}<br>kind=%{customdata[3]}<br>latitude=%{lat}<br>longitude=%{lon}\", \"lat\": [59.31426096, 59.32355937, 59.31426096, 59.32355937], \"legendgroup\": \"\", \"line\": {\"color\": \"#636efa\"}, \"lon\": [18.07653494, 18.096513199999997, 18.07653494, 18.096513199999997], \"mode\": \"lines\", \"name\": \"\", \"showlegend\": false, \"subplot\": \"mapbox\", \"type\": \"scattermapbox\"}], \"name\": \"67\"}, {\"data\": [{\"customdata\": [[68, 0, 0, \"region\"], [68, 0, 9, \"region\"], [68, 1, 80, \"region\"], [68, 2, 8, \"region\"]], \"hoverlabel\": {\"namelength\": 0}, \"hovertemplate\": \"day=%{customdata[0]}<br>timeslot=%{customdata[1]}<br>region=%{customdata[2]}<br>kind=%{customdata[3]}<br>latitude=%{lat}<br>longitude=%{lon}\", \"lat\": [59.31426096, 59.34305210000001, 59.24286046, 59.34313992], \"legendgroup\": \"\", \"line\": {\"color\": \"#636efa\"}, \"lon\": [18.07653494, 18.05174887, 18.2140462, 18.08549566], \"mode\": \"lines\", \"name\": \"\", \"showlegend\": false, \"subplot\": \"mapbox\", \"type\": \"scattermapbox\"}], \"name\": \"68\"}, {\"data\": [{\"customdata\": [[69, 0, 0, \"region\"], [69, 0, 106, \"region\"], [69, 1, 0, \"region\"], [69, 2, 31, \"region\"]], \"hoverlabel\": {\"namelength\": 0}, \"hovertemplate\": \"day=%{customdata[0]}<br>timeslot=%{customdata[1]}<br>region=%{customdata[2]}<br>kind=%{customdata[3]}<br>latitude=%{lat}<br>longitude=%{lon}\", \"lat\": [59.31426096, 59.290240000000004, 59.31426096, 59.31206825], \"legendgroup\": \"\", \"line\": {\"color\": \"#636efa\"}, \"lon\": [18.07653494, 18.11672, 18.07653494, 18.07390065], \"mode\": \"lines\", \"name\": \"\", \"showlegend\": false, \"subplot\": \"mapbox\", \"type\": \"scattermapbox\"}], \"name\": \"69\"}, {\"data\": [{\"customdata\": [[70, 0, 0, \"region\"], [70, 0, 10, \"region\"], [70, 1, 2, \"region\"], [70, 2, 10, \"region\"]], \"hoverlabel\": {\"namelength\": 0}, \"hovertemplate\": \"day=%{customdata[0]}<br>timeslot=%{customdata[1]}<br>region=%{customdata[2]}<br>kind=%{customdata[3]}<br>latitude=%{lat}<br>longitude=%{lon}\", \"lat\": [59.31426096, 59.32355937, 59.33328258, 59.32355937], \"legendgroup\": \"\", \"line\": {\"color\": \"#636efa\"}, \"lon\": [18.07653494, 18.096513199999997, 18.06781588, 18.096513199999997], \"mode\": \"lines\", \"name\": \"\", \"showlegend\": false, \"subplot\": \"mapbox\", \"type\": \"scattermapbox\"}], \"name\": \"70\"}, {\"data\": [{\"customdata\": [[71, 0, 0, \"region\"], [71, 0, 0, \"region\"], [71, 1, 9, \"region\"], [71, 2, -1, \"point\"]], \"hoverlabel\": {\"namelength\": 0}, \"hovertemplate\": \"day=%{customdata[0]}<br>timeslot=%{customdata[1]}<br>region=%{customdata[2]}<br>kind=%{customdata[3]}<br>latitude=%{lat}<br>longitude=%{lon}\", \"lat\": [59.31426096, 59.31426096, 59.34305210000001, 59.34344727468387], \"legendgroup\": \"\", \"line\": {\"color\": \"#636efa\"}, \"lon\": [18.07653494, 18.07653494, 18.05174887, 18.05130926204068], \"mode\": \"lines\", \"name\": \"\", \"showlegend\": false, \"subplot\": \"mapbox\", \"type\": \"scattermapbox\"}], \"name\": \"71\"}, {\"data\": [{\"customdata\": [[72, 0, 0, \"region\"], [72, 0, 0, \"region\"], [72, 1, 0, \"region\"], [72, 2, 31, \"region\"]], \"hoverlabel\": {\"namelength\": 0}, \"hovertemplate\": \"day=%{customdata[0]}<br>timeslot=%{customdata[1]}<br>region=%{customdata[2]}<br>kind=%{customdata[3]}<br>latitude=%{lat}<br>longitude=%{lon}\", \"lat\": [59.31426096, 59.31426096, 59.31426096, 59.31206825], \"legendgroup\": \"\", \"line\": {\"color\": \"#636efa\"}, \"lon\": [18.07653494, 18.07653494, 18.07653494, 18.07390065], \"mode\": \"lines\", \"name\": \"\", \"showlegend\": false, \"subplot\": \"mapbox\", \"type\": \"scattermapbox\"}], \"name\": \"72\"}, {\"data\": [{\"customdata\": [[73, 0, 0, \"region\"], [73, 0, 0, \"region\"], [73, 1, 0, \"region\"], [73, 2, 3, \"region\"]], \"hoverlabel\": {\"namelength\": 0}, \"hovertemplate\": \"day=%{customdata[0]}<br>timeslot=%{customdata[1]}<br>region=%{customdata[2]}<br>kind=%{customdata[3]}<br>latitude=%{lat}<br>longitude=%{lon}\", \"lat\": [59.31426096, 59.31426096, 59.31426096, 59.36456999999999], \"legendgroup\": \"\", \"line\": {\"color\": \"#636efa\"}, \"lon\": [18.07653494, 18.07653494, 18.07653494, 17.97493], \"mode\": \"lines\", \"name\": \"\", \"showlegend\": false, \"subplot\": \"mapbox\", \"type\": \"scattermapbox\"}], \"name\": \"73\"}, {\"data\": [{\"customdata\": [[74, 0, 0, \"region\"], [74, 0, 15, \"region\"], [74, 1, 0, \"region\"], [74, 2, 16, \"region\"]], \"hoverlabel\": {\"namelength\": 0}, \"hovertemplate\": \"day=%{customdata[0]}<br>timeslot=%{customdata[1]}<br>region=%{customdata[2]}<br>kind=%{customdata[3]}<br>latitude=%{lat}<br>longitude=%{lon}\", \"lat\": [59.31426096, 59.217780000000005, 59.31426096, 59.22078204], \"legendgroup\": \"\", \"line\": {\"color\": \"#636efa\"}, \"lon\": [18.07653494, 17.93892, 18.07653494, 17.9363181], \"mode\": \"lines\", \"name\": \"\", \"showlegend\": false, \"subplot\": \"mapbox\", \"type\": \"scattermapbox\"}], \"name\": \"74\"}, {\"data\": [{\"customdata\": [[75, 0, 0, \"region\"], [75, 0, 0, \"region\"], [75, 1, 3, \"region\"], [75, 2, 0, \"region\"]], \"hoverlabel\": {\"namelength\": 0}, \"hovertemplate\": \"day=%{customdata[0]}<br>timeslot=%{customdata[1]}<br>region=%{customdata[2]}<br>kind=%{customdata[3]}<br>latitude=%{lat}<br>longitude=%{lon}\", \"lat\": [59.31426096, 59.31426096, 59.36456999999999, 59.31426096], \"legendgroup\": \"\", \"line\": {\"color\": \"#636efa\"}, \"lon\": [18.07653494, 18.07653494, 17.97493, 18.07653494], \"mode\": \"lines\", \"name\": \"\", \"showlegend\": false, \"subplot\": \"mapbox\", \"type\": \"scattermapbox\"}], \"name\": \"75\"}, {\"data\": [{\"customdata\": [[76, 0, 0, \"region\"], [76, 0, 8, \"region\"], [76, 1, 0, \"region\"], [76, 2, 0, \"region\"]], \"hoverlabel\": {\"namelength\": 0}, \"hovertemplate\": \"day=%{customdata[0]}<br>timeslot=%{customdata[1]}<br>region=%{customdata[2]}<br>kind=%{customdata[3]}<br>latitude=%{lat}<br>longitude=%{lon}\", \"lat\": [59.31426096, 59.34313992, 59.31426096, 59.31426096], \"legendgroup\": \"\", \"line\": {\"color\": \"#636efa\"}, \"lon\": [18.07653494, 18.08549566, 18.07653494, 18.07653494], \"mode\": \"lines\", \"name\": \"\", \"showlegend\": false, \"subplot\": \"mapbox\", \"type\": \"scattermapbox\"}], \"name\": \"76\"}, {\"data\": [{\"customdata\": [[77, 0, 0, \"region\"], [77, 0, 0, \"region\"], [77, 1, 9, \"region\"], [77, 2, 10, \"region\"]], \"hoverlabel\": {\"namelength\": 0}, \"hovertemplate\": \"day=%{customdata[0]}<br>timeslot=%{customdata[1]}<br>region=%{customdata[2]}<br>kind=%{customdata[3]}<br>latitude=%{lat}<br>longitude=%{lon}\", \"lat\": [59.31426096, 59.31426096, 59.34305210000001, 59.32355937], \"legendgroup\": \"\", \"line\": {\"color\": \"#636efa\"}, \"lon\": [18.07653494, 18.07653494, 18.05174887, 18.096513199999997], \"mode\": \"lines\", \"name\": \"\", \"showlegend\": false, \"subplot\": \"mapbox\", \"type\": \"scattermapbox\"}], \"name\": \"77\"}, {\"data\": [{\"customdata\": [[78, 0, 0, \"region\"], [78, 0, 0, \"region\"], [78, 1, 0, \"region\"], [78, 2, 0, \"region\"]], \"hoverlabel\": {\"namelength\": 0}, \"hovertemplate\": \"day=%{customdata[0]}<br>timeslot=%{customdata[1]}<br>region=%{customdata[2]}<br>kind=%{customdata[3]}<br>latitude=%{lat}<br>longitude=%{lon}\", \"lat\": [59.31426096, 59.31426096, 59.31426096, 59.31426096], \"legendgroup\": \"\", \"line\": {\"color\": \"#636efa\"}, \"lon\": [18.07653494, 18.07653494, 18.07653494, 18.07653494], \"mode\": \"lines\", \"name\": \"\", \"showlegend\": false, \"subplot\": \"mapbox\", \"type\": \"scattermapbox\"}], \"name\": \"78\"}, {\"data\": [{\"customdata\": [[79, 0, 0, \"region\"], [79, 0, 0, \"region\"], [79, 1, 6, \"region\"], [79, 2, 0, \"region\"]], \"hoverlabel\": {\"namelength\": 0}, \"hovertemplate\": \"day=%{customdata[0]}<br>timeslot=%{customdata[1]}<br>region=%{customdata[2]}<br>kind=%{customdata[3]}<br>latitude=%{lat}<br>longitude=%{lon}\", \"lat\": [59.31426096, 59.31426096, 59.332440000000005, 59.31426096], \"legendgroup\": \"\", \"line\": {\"color\": \"#636efa\"}, \"lon\": [18.07653494, 18.07653494, 18.06718, 18.07653494], \"mode\": \"lines\", \"name\": \"\", \"showlegend\": false, \"subplot\": \"mapbox\", \"type\": \"scattermapbox\"}], \"name\": \"79\"}, {\"data\": [{\"customdata\": [[80, 0, 0, \"region\"], [80, 0, 25, \"region\"], [80, 1, 0, \"region\"], [80, 2, 0, \"region\"]], \"hoverlabel\": {\"namelength\": 0}, \"hovertemplate\": \"day=%{customdata[0]}<br>timeslot=%{customdata[1]}<br>region=%{customdata[2]}<br>kind=%{customdata[3]}<br>latitude=%{lat}<br>longitude=%{lon}\", \"lat\": [59.31426096, 59.34166178, 59.31426096, 59.31426096], \"legendgroup\": \"\", \"line\": {\"color\": \"#636efa\"}, \"lon\": [18.07653494, 18.0641776, 18.07653494, 18.07653494], \"mode\": \"lines\", \"name\": \"\", \"showlegend\": false, \"subplot\": \"mapbox\", \"type\": \"scattermapbox\"}], \"name\": \"80\"}, {\"data\": [{\"customdata\": [[81, 0, 0, \"region\"], [81, 0, 0, \"region\"], [81, 1, 3, \"region\"], [81, 2, 10, \"region\"]], \"hoverlabel\": {\"namelength\": 0}, \"hovertemplate\": \"day=%{customdata[0]}<br>timeslot=%{customdata[1]}<br>region=%{customdata[2]}<br>kind=%{customdata[3]}<br>latitude=%{lat}<br>longitude=%{lon}\", \"lat\": [59.31426096, 59.31426096, 59.36456999999999, 59.32355937], \"legendgroup\": \"\", \"line\": {\"color\": \"#636efa\"}, \"lon\": [18.07653494, 18.07653494, 17.97493, 18.096513199999997], \"mode\": \"lines\", \"name\": \"\", \"showlegend\": false, \"subplot\": \"mapbox\", \"type\": \"scattermapbox\"}], \"name\": \"81\"}, {\"data\": [{\"customdata\": [[82, 0, 0, \"region\"], [82, 0, 108, \"region\"], [82, 1, 92, \"region\"], [82, 2, 10, \"region\"]], \"hoverlabel\": {\"namelength\": 0}, \"hovertemplate\": \"day=%{customdata[0]}<br>timeslot=%{customdata[1]}<br>region=%{customdata[2]}<br>kind=%{customdata[3]}<br>latitude=%{lat}<br>longitude=%{lon}\", \"lat\": [59.31426096, 59.34069531, 59.33435, 59.32355937], \"legendgroup\": \"\", \"line\": {\"color\": \"#636efa\"}, \"lon\": [18.07653494, 18.10974437, 18.07549, 18.096513199999997], \"mode\": \"lines\", \"name\": \"\", \"showlegend\": false, \"subplot\": \"mapbox\", \"type\": \"scattermapbox\"}], \"name\": \"82\"}, {\"data\": [{\"customdata\": [[83, 0, 0, \"region\"], [83, 0, -1, \"point\"], [83, 1, 8, \"region\"], [83, 2, 9, \"region\"]], \"hoverlabel\": {\"namelength\": 0}, \"hovertemplate\": \"day=%{customdata[0]}<br>timeslot=%{customdata[1]}<br>region=%{customdata[2]}<br>kind=%{customdata[3]}<br>latitude=%{lat}<br>longitude=%{lon}\", \"lat\": [59.31426096, 59.31426096, 59.34313992, 59.34305210000001], \"legendgroup\": \"\", \"line\": {\"color\": \"#636efa\"}, \"lon\": [18.07653494, 18.07653494, 18.08549566, 18.05174887], \"mode\": \"lines\", \"name\": \"\", \"showlegend\": false, \"subplot\": \"mapbox\", \"type\": \"scattermapbox\"}], \"name\": \"83\"}, {\"data\": [{\"customdata\": [[84, 0, 0, \"region\"], [84, 0, 35, \"region\"], [84, 1, 3, \"region\"], [84, 2, 10, \"region\"]], \"hoverlabel\": {\"namelength\": 0}, \"hovertemplate\": \"day=%{customdata[0]}<br>timeslot=%{customdata[1]}<br>region=%{customdata[2]}<br>kind=%{customdata[3]}<br>latitude=%{lat}<br>longitude=%{lon}\", \"lat\": [59.31426096, 59.311120200000005, 59.36456999999999, 59.32355937], \"legendgroup\": \"\", \"line\": {\"color\": \"#636efa\"}, \"lon\": [18.07653494, 18.4218367, 17.97493, 18.096513199999997], \"mode\": \"lines\", \"name\": \"\", \"showlegend\": false, \"subplot\": \"mapbox\", \"type\": \"scattermapbox\"}], \"name\": \"84\"}, {\"data\": [{\"customdata\": [[85, 0, 0, \"region\"], [85, 0, 10, \"region\"], [85, 1, 0, \"region\"], [85, 2, 0, \"region\"]], \"hoverlabel\": {\"namelength\": 0}, \"hovertemplate\": \"day=%{customdata[0]}<br>timeslot=%{customdata[1]}<br>region=%{customdata[2]}<br>kind=%{customdata[3]}<br>latitude=%{lat}<br>longitude=%{lon}\", \"lat\": [59.31426096, 59.32355937, 59.31426096, 59.31426096], \"legendgroup\": \"\", \"line\": {\"color\": \"#636efa\"}, \"lon\": [18.07653494, 18.096513199999997, 18.07653494, 18.07653494], \"mode\": \"lines\", \"name\": \"\", \"showlegend\": false, \"subplot\": \"mapbox\", \"type\": \"scattermapbox\"}], \"name\": \"85\"}, {\"data\": [{\"customdata\": [[86, 0, 0, \"region\"], [86, 0, 0, \"region\"], [86, 1, 10, \"region\"], [86, 2, 0, \"region\"]], \"hoverlabel\": {\"namelength\": 0}, \"hovertemplate\": \"day=%{customdata[0]}<br>timeslot=%{customdata[1]}<br>region=%{customdata[2]}<br>kind=%{customdata[3]}<br>latitude=%{lat}<br>longitude=%{lon}\", \"lat\": [59.31426096, 59.31426096, 59.32355937, 59.31426096], \"legendgroup\": \"\", \"line\": {\"color\": \"#636efa\"}, \"lon\": [18.07653494, 18.07653494, 18.096513199999997, 18.07653494], \"mode\": \"lines\", \"name\": \"\", \"showlegend\": false, \"subplot\": \"mapbox\", \"type\": \"scattermapbox\"}], \"name\": \"86\"}, {\"data\": [{\"customdata\": [[87, 0, 0, \"region\"], [87, 0, 10, \"region\"], [87, 1, 0, \"region\"], [87, 2, 0, \"region\"]], \"hoverlabel\": {\"namelength\": 0}, \"hovertemplate\": \"day=%{customdata[0]}<br>timeslot=%{customdata[1]}<br>region=%{customdata[2]}<br>kind=%{customdata[3]}<br>latitude=%{lat}<br>longitude=%{lon}\", \"lat\": [59.31426096, 59.32355937, 59.31426096, 59.31426096], \"legendgroup\": \"\", \"line\": {\"color\": \"#636efa\"}, \"lon\": [18.07653494, 18.096513199999997, 18.07653494, 18.07653494], \"mode\": \"lines\", \"name\": \"\", \"showlegend\": false, \"subplot\": \"mapbox\", \"type\": \"scattermapbox\"}], \"name\": \"87\"}, {\"data\": [{\"customdata\": [[88, 0, 0, \"region\"], [88, 0, 10, \"region\"], [88, 1, 0, \"region\"], [88, 2, 10, \"region\"]], \"hoverlabel\": {\"namelength\": 0}, \"hovertemplate\": \"day=%{customdata[0]}<br>timeslot=%{customdata[1]}<br>region=%{customdata[2]}<br>kind=%{customdata[3]}<br>latitude=%{lat}<br>longitude=%{lon}\", \"lat\": [59.31426096, 59.32355937, 59.31426096, 59.32355937], \"legendgroup\": \"\", \"line\": {\"color\": \"#636efa\"}, \"lon\": [18.07653494, 18.096513199999997, 18.07653494, 18.096513199999997], \"mode\": \"lines\", \"name\": \"\", \"showlegend\": false, \"subplot\": \"mapbox\", \"type\": \"scattermapbox\"}], \"name\": \"88\"}, {\"data\": [{\"customdata\": [[89, 0, 0, \"region\"], [89, 0, 0, \"region\"], [89, 1, 10, \"region\"], [89, 2, 0, \"region\"]], \"hoverlabel\": {\"namelength\": 0}, \"hovertemplate\": \"day=%{customdata[0]}<br>timeslot=%{customdata[1]}<br>region=%{customdata[2]}<br>kind=%{customdata[3]}<br>latitude=%{lat}<br>longitude=%{lon}\", \"lat\": [59.31426096, 59.31426096, 59.32355937, 59.31426096], \"legendgroup\": \"\", \"line\": {\"color\": \"#636efa\"}, \"lon\": [18.07653494, 18.07653494, 18.096513199999997, 18.07653494], \"mode\": \"lines\", \"name\": \"\", \"showlegend\": false, \"subplot\": \"mapbox\", \"type\": \"scattermapbox\"}], \"name\": \"89\"}, {\"data\": [{\"customdata\": [[90, 0, 0, \"region\"], [90, 0, 10, \"region\"], [90, 1, 8, \"region\"], [90, 2, 0, \"region\"]], \"hoverlabel\": {\"namelength\": 0}, \"hovertemplate\": \"day=%{customdata[0]}<br>timeslot=%{customdata[1]}<br>region=%{customdata[2]}<br>kind=%{customdata[3]}<br>latitude=%{lat}<br>longitude=%{lon}\", \"lat\": [59.31426096, 59.32355937, 59.34313992, 59.31426096], \"legendgroup\": \"\", \"line\": {\"color\": \"#636efa\"}, \"lon\": [18.07653494, 18.096513199999997, 18.08549566, 18.07653494], \"mode\": \"lines\", \"name\": \"\", \"showlegend\": false, \"subplot\": \"mapbox\", \"type\": \"scattermapbox\"}], \"name\": \"90\"}, {\"data\": [{\"customdata\": [[91, 0, 0, \"region\"], [91, 0, 0, \"region\"], [91, 1, 10, \"region\"], [91, 2, 16, \"region\"]], \"hoverlabel\": {\"namelength\": 0}, \"hovertemplate\": \"day=%{customdata[0]}<br>timeslot=%{customdata[1]}<br>region=%{customdata[2]}<br>kind=%{customdata[3]}<br>latitude=%{lat}<br>longitude=%{lon}\", \"lat\": [59.31426096, 59.31426096, 59.32355937, 59.22078204], \"legendgroup\": \"\", \"line\": {\"color\": \"#636efa\"}, \"lon\": [18.07653494, 18.07653494, 18.096513199999997, 17.9363181], \"mode\": \"lines\", \"name\": \"\", \"showlegend\": false, \"subplot\": \"mapbox\", \"type\": \"scattermapbox\"}], \"name\": \"91\"}, {\"data\": [{\"customdata\": [[92, 0, 0, \"region\"], [92, 0, 0, \"region\"], [92, 1, 0, \"region\"], [92, 2, -1, \"point\"]], \"hoverlabel\": {\"namelength\": 0}, \"hovertemplate\": \"day=%{customdata[0]}<br>timeslot=%{customdata[1]}<br>region=%{customdata[2]}<br>kind=%{customdata[3]}<br>latitude=%{lat}<br>longitude=%{lon}\", \"lat\": [59.31426096, 59.31426096, 59.31426096, 59.31426096], \"legendgroup\": \"\", \"line\": {\"color\": \"#636efa\"}, \"lon\": [18.07653494, 18.07653494, 18.07653494, 18.07653494], \"mode\": \"lines\", \"name\": \"\", \"showlegend\": false, \"subplot\": \"mapbox\", \"type\": \"scattermapbox\"}], \"name\": \"92\"}, {\"data\": [{\"customdata\": [[93, 0, 0, \"region\"], [93, 0, 0, \"region\"], [93, 1, 16, \"region\"], [93, 2, 73, \"region\"]], \"hoverlabel\": {\"namelength\": 0}, \"hovertemplate\": \"day=%{customdata[0]}<br>timeslot=%{customdata[1]}<br>region=%{customdata[2]}<br>kind=%{customdata[3]}<br>latitude=%{lat}<br>longitude=%{lon}\", \"lat\": [59.31426096, 59.31426096, 59.22078204, 59.3090821], \"legendgroup\": \"\", \"line\": {\"color\": \"#636efa\"}, \"lon\": [18.07653494, 18.07653494, 17.9363181, 18.056026199999998], \"mode\": \"lines\", \"name\": \"\", \"showlegend\": false, \"subplot\": \"mapbox\", \"type\": \"scattermapbox\"}], \"name\": \"93\"}, {\"data\": [{\"customdata\": [[94, 0, 0, \"region\"], [94, 0, 0, \"region\"], [94, 1, 0, \"region\"], [94, 2, 9, \"region\"]], \"hoverlabel\": {\"namelength\": 0}, \"hovertemplate\": \"day=%{customdata[0]}<br>timeslot=%{customdata[1]}<br>region=%{customdata[2]}<br>kind=%{customdata[3]}<br>latitude=%{lat}<br>longitude=%{lon}\", \"lat\": [59.31426096, 59.31426096, 59.31426096, 59.34305210000001], \"legendgroup\": \"\", \"line\": {\"color\": \"#636efa\"}, \"lon\": [18.07653494, 18.07653494, 18.07653494, 18.05174887], \"mode\": \"lines\", \"name\": \"\", \"showlegend\": false, \"subplot\": \"mapbox\", \"type\": \"scattermapbox\"}], \"name\": \"94\"}, {\"data\": [{\"customdata\": [[95, 0, 0, \"region\"], [95, 0, 0, \"region\"], [95, 1, 0, \"region\"], [95, 2, 0, \"region\"]], \"hoverlabel\": {\"namelength\": 0}, \"hovertemplate\": \"day=%{customdata[0]}<br>timeslot=%{customdata[1]}<br>region=%{customdata[2]}<br>kind=%{customdata[3]}<br>latitude=%{lat}<br>longitude=%{lon}\", \"lat\": [59.31426096, 59.31426096, 59.31426096, 59.31426096], \"legendgroup\": \"\", \"line\": {\"color\": \"#636efa\"}, \"lon\": [18.07653494, 18.07653494, 18.07653494, 18.07653494], \"mode\": \"lines\", \"name\": \"\", \"showlegend\": false, \"subplot\": \"mapbox\", \"type\": \"scattermapbox\"}], \"name\": \"95\"}, {\"data\": [{\"customdata\": [[96, 0, 0, \"region\"], [96, 0, 9, \"region\"], [96, 1, 0, \"region\"], [96, 2, 3, \"region\"]], \"hoverlabel\": {\"namelength\": 0}, \"hovertemplate\": \"day=%{customdata[0]}<br>timeslot=%{customdata[1]}<br>region=%{customdata[2]}<br>kind=%{customdata[3]}<br>latitude=%{lat}<br>longitude=%{lon}\", \"lat\": [59.31426096, 59.34305210000001, 59.31426096, 59.36456999999999], \"legendgroup\": \"\", \"line\": {\"color\": \"#636efa\"}, \"lon\": [18.07653494, 18.05174887, 18.07653494, 17.97493], \"mode\": \"lines\", \"name\": \"\", \"showlegend\": false, \"subplot\": \"mapbox\", \"type\": \"scattermapbox\"}], \"name\": \"96\"}, {\"data\": [{\"customdata\": [[97, 0, 0, \"region\"], [97, 0, 0, \"region\"], [97, 1, 0, \"region\"], [97, 2, 0, \"region\"]], \"hoverlabel\": {\"namelength\": 0}, \"hovertemplate\": \"day=%{customdata[0]}<br>timeslot=%{customdata[1]}<br>region=%{customdata[2]}<br>kind=%{customdata[3]}<br>latitude=%{lat}<br>longitude=%{lon}\", \"lat\": [59.31426096, 59.31426096, 59.31426096, 59.31426096], \"legendgroup\": \"\", \"line\": {\"color\": \"#636efa\"}, \"lon\": [18.07653494, 18.07653494, 18.07653494, 18.07653494], \"mode\": \"lines\", \"name\": \"\", \"showlegend\": false, \"subplot\": \"mapbox\", \"type\": \"scattermapbox\"}], \"name\": \"97\"}, {\"data\": [{\"customdata\": [[98, 0, 0, \"region\"], [98, 0, 10, \"region\"], [98, 1, 9, \"region\"], [98, 2, 10, \"region\"]], \"hoverlabel\": {\"namelength\": 0}, \"hovertemplate\": \"day=%{customdata[0]}<br>timeslot=%{customdata[1]}<br>region=%{customdata[2]}<br>kind=%{customdata[3]}<br>latitude=%{lat}<br>longitude=%{lon}\", \"lat\": [59.31426096, 59.32355937, 59.34305210000001, 59.32355937], \"legendgroup\": \"\", \"line\": {\"color\": \"#636efa\"}, \"lon\": [18.07653494, 18.096513199999997, 18.05174887, 18.096513199999997], \"mode\": \"lines\", \"name\": \"\", \"showlegend\": false, \"subplot\": \"mapbox\", \"type\": \"scattermapbox\"}], \"name\": \"98\"}, {\"data\": [{\"customdata\": [[99, 0, 0, \"region\"], [99, 0, 10, \"region\"], [99, 1, 15, \"region\"], [99, 2, 0, \"region\"]], \"hoverlabel\": {\"namelength\": 0}, \"hovertemplate\": \"day=%{customdata[0]}<br>timeslot=%{customdata[1]}<br>region=%{customdata[2]}<br>kind=%{customdata[3]}<br>latitude=%{lat}<br>longitude=%{lon}\", \"lat\": [59.31426096, 59.32355937, 59.217780000000005, 59.31426096], \"legendgroup\": \"\", \"line\": {\"color\": \"#636efa\"}, \"lon\": [18.07653494, 18.096513199999997, 17.93892, 18.07653494], \"mode\": \"lines\", \"name\": \"\", \"showlegend\": false, \"subplot\": \"mapbox\", \"type\": \"scattermapbox\"}], \"name\": \"99\"}, {\"data\": [{\"customdata\": [[100, 0, 0, \"region\"], [100, 0, 43, \"region\"], [100, 1, 0, \"region\"], [100, 2, 0, \"region\"]], \"hoverlabel\": {\"namelength\": 0}, \"hovertemplate\": \"day=%{customdata[0]}<br>timeslot=%{customdata[1]}<br>region=%{customdata[2]}<br>kind=%{customdata[3]}<br>latitude=%{lat}<br>longitude=%{lon}\", \"lat\": [59.31426096, 59.32190343, 59.31426096, 59.31426096], \"legendgroup\": \"\", \"line\": {\"color\": \"#636efa\"}, \"lon\": [18.07653494, 18.216364499999997, 18.07653494, 18.07653494], \"mode\": \"lines\", \"name\": \"\", \"showlegend\": false, \"subplot\": \"mapbox\", \"type\": \"scattermapbox\"}], \"name\": \"100\"}, {\"data\": [{\"customdata\": [[101, 0, 0, \"region\"], [101, 0, 0, \"region\"], [101, 1, 10, \"region\"], [101, 2, 10, \"region\"]], \"hoverlabel\": {\"namelength\": 0}, \"hovertemplate\": \"day=%{customdata[0]}<br>timeslot=%{customdata[1]}<br>region=%{customdata[2]}<br>kind=%{customdata[3]}<br>latitude=%{lat}<br>longitude=%{lon}\", \"lat\": [59.31426096, 59.31426096, 59.32355937, 59.32355937], \"legendgroup\": \"\", \"line\": {\"color\": \"#636efa\"}, \"lon\": [18.07653494, 18.07653494, 18.096513199999997, 18.096513199999997], \"mode\": \"lines\", \"name\": \"\", \"showlegend\": false, \"subplot\": \"mapbox\", \"type\": \"scattermapbox\"}], \"name\": \"101\"}, {\"data\": [{\"customdata\": [[102, 0, 0, \"region\"], [102, 0, 9, \"region\"], [102, 1, 0, \"region\"], [102, 2, 9, \"region\"]], \"hoverlabel\": {\"namelength\": 0}, \"hovertemplate\": \"day=%{customdata[0]}<br>timeslot=%{customdata[1]}<br>region=%{customdata[2]}<br>kind=%{customdata[3]}<br>latitude=%{lat}<br>longitude=%{lon}\", \"lat\": [59.31426096, 59.34305210000001, 59.31426096, 59.34305210000001], \"legendgroup\": \"\", \"line\": {\"color\": \"#636efa\"}, \"lon\": [18.07653494, 18.05174887, 18.07653494, 18.05174887], \"mode\": \"lines\", \"name\": \"\", \"showlegend\": false, \"subplot\": \"mapbox\", \"type\": \"scattermapbox\"}], \"name\": \"102\"}, {\"data\": [{\"customdata\": [[103, 0, 0, \"region\"], [103, 0, 10, \"region\"], [103, 1, 12, \"region\"], [103, 2, 10, \"region\"]], \"hoverlabel\": {\"namelength\": 0}, \"hovertemplate\": \"day=%{customdata[0]}<br>timeslot=%{customdata[1]}<br>region=%{customdata[2]}<br>kind=%{customdata[3]}<br>latitude=%{lat}<br>longitude=%{lon}\", \"lat\": [59.31426096, 59.32355937, 59.29176999999999, 59.32355937], \"legendgroup\": \"\", \"line\": {\"color\": \"#636efa\"}, \"lon\": [18.07653494, 18.096513199999997, 18.07938, 18.096513199999997], \"mode\": \"lines\", \"name\": \"\", \"showlegend\": false, \"subplot\": \"mapbox\", \"type\": \"scattermapbox\"}], \"name\": \"103\"}, {\"data\": [{\"customdata\": [[104, 0, 0, \"region\"], [104, 0, -1, \"point\"], [104, 1, 0, \"region\"], [104, 2, 10, \"region\"]], \"hoverlabel\": {\"namelength\": 0}, \"hovertemplate\": \"day=%{customdata[0]}<br>timeslot=%{customdata[1]}<br>region=%{customdata[2]}<br>kind=%{customdata[3]}<br>latitude=%{lat}<br>longitude=%{lon}\", \"lat\": [59.31426096, 59.31426096, 59.31426096, 59.32355937], \"legendgroup\": \"\", \"line\": {\"color\": \"#636efa\"}, \"lon\": [18.07653494, 18.07653494, 18.07653494, 18.096513199999997], \"mode\": \"lines\", \"name\": \"\", \"showlegend\": false, \"subplot\": \"mapbox\", \"type\": \"scattermapbox\"}], \"name\": \"104\"}, {\"data\": [{\"customdata\": [[105, 0, 0, \"region\"], [105, 0, 0, \"region\"], [105, 1, -1, \"point\"], [105, 2, 0, \"region\"]], \"hoverlabel\": {\"namelength\": 0}, \"hovertemplate\": \"day=%{customdata[0]}<br>timeslot=%{customdata[1]}<br>region=%{customdata[2]}<br>kind=%{customdata[3]}<br>latitude=%{lat}<br>longitude=%{lon}\", \"lat\": [59.31426096, 59.31426096, 59.368302109286354, 59.31426096], \"legendgroup\": \"\", \"line\": {\"color\": \"#636efa\"}, \"lon\": [18.07653494, 18.07653494, 18.015847588195015, 18.07653494], \"mode\": \"lines\", \"name\": \"\", \"showlegend\": false, \"subplot\": \"mapbox\", \"type\": \"scattermapbox\"}], \"name\": \"105\"}, {\"data\": [{\"customdata\": [[106, 0, 0, \"region\"], [106, 0, 10, \"region\"], [106, 1, 0, \"region\"], [106, 2, 9, \"region\"]], \"hoverlabel\": {\"namelength\": 0}, \"hovertemplate\": \"day=%{customdata[0]}<br>timeslot=%{customdata[1]}<br>region=%{customdata[2]}<br>kind=%{customdata[3]}<br>latitude=%{lat}<br>longitude=%{lon}\", \"lat\": [59.31426096, 59.32355937, 59.31426096, 59.34305210000001], \"legendgroup\": \"\", \"line\": {\"color\": \"#636efa\"}, \"lon\": [18.07653494, 18.096513199999997, 18.07653494, 18.05174887], \"mode\": \"lines\", \"name\": \"\", \"showlegend\": false, \"subplot\": \"mapbox\", \"type\": \"scattermapbox\"}], \"name\": \"106\"}, {\"data\": [{\"customdata\": [[107, 0, 0, \"region\"], [107, 0, 10, \"region\"], [107, 1, 9, \"region\"], [107, 2, 0, \"region\"]], \"hoverlabel\": {\"namelength\": 0}, \"hovertemplate\": \"day=%{customdata[0]}<br>timeslot=%{customdata[1]}<br>region=%{customdata[2]}<br>kind=%{customdata[3]}<br>latitude=%{lat}<br>longitude=%{lon}\", \"lat\": [59.31426096, 59.32355937, 59.34305210000001, 59.31426096], \"legendgroup\": \"\", \"line\": {\"color\": \"#636efa\"}, \"lon\": [18.07653494, 18.096513199999997, 18.05174887, 18.07653494], \"mode\": \"lines\", \"name\": \"\", \"showlegend\": false, \"subplot\": \"mapbox\", \"type\": \"scattermapbox\"}], \"name\": \"107\"}, {\"data\": [{\"customdata\": [[108, 0, 0, \"region\"], [108, 0, 3, \"region\"], [108, 1, 3, \"region\"], [108, 2, 0, \"region\"]], \"hoverlabel\": {\"namelength\": 0}, \"hovertemplate\": \"day=%{customdata[0]}<br>timeslot=%{customdata[1]}<br>region=%{customdata[2]}<br>kind=%{customdata[3]}<br>latitude=%{lat}<br>longitude=%{lon}\", \"lat\": [59.31426096, 59.36456999999999, 59.36456999999999, 59.31426096], \"legendgroup\": \"\", \"line\": {\"color\": \"#636efa\"}, \"lon\": [18.07653494, 17.97493, 17.97493, 18.07653494], \"mode\": \"lines\", \"name\": \"\", \"showlegend\": false, \"subplot\": \"mapbox\", \"type\": \"scattermapbox\"}], \"name\": \"108\"}, {\"data\": [{\"customdata\": [[109, 0, 0, \"region\"], [109, 0, 0, \"region\"], [109, 1, 9, \"region\"], [109, 2, 9, \"region\"]], \"hoverlabel\": {\"namelength\": 0}, \"hovertemplate\": \"day=%{customdata[0]}<br>timeslot=%{customdata[1]}<br>region=%{customdata[2]}<br>kind=%{customdata[3]}<br>latitude=%{lat}<br>longitude=%{lon}\", \"lat\": [59.31426096, 59.31426096, 59.34305210000001, 59.34305210000001], \"legendgroup\": \"\", \"line\": {\"color\": \"#636efa\"}, \"lon\": [18.07653494, 18.07653494, 18.05174887, 18.05174887], \"mode\": \"lines\", \"name\": \"\", \"showlegend\": false, \"subplot\": \"mapbox\", \"type\": \"scattermapbox\"}], \"name\": \"109\"}, {\"data\": [{\"customdata\": [[110, 0, 0, \"region\"], [110, 0, 8, \"region\"], [110, 1, 0, \"region\"], [110, 2, 0, \"region\"]], \"hoverlabel\": {\"namelength\": 0}, \"hovertemplate\": \"day=%{customdata[0]}<br>timeslot=%{customdata[1]}<br>region=%{customdata[2]}<br>kind=%{customdata[3]}<br>latitude=%{lat}<br>longitude=%{lon}\", \"lat\": [59.31426096, 59.34313992, 59.31426096, 59.31426096], \"legendgroup\": \"\", \"line\": {\"color\": \"#636efa\"}, \"lon\": [18.07653494, 18.08549566, 18.07653494, 18.07653494], \"mode\": \"lines\", \"name\": \"\", \"showlegend\": false, \"subplot\": \"mapbox\", \"type\": \"scattermapbox\"}], \"name\": \"110\"}, {\"data\": [{\"customdata\": [[111, 0, 0, \"region\"], [111, 0, 16, \"region\"], [111, 1, 0, \"region\"], [111, 2, 10, \"region\"]], \"hoverlabel\": {\"namelength\": 0}, \"hovertemplate\": \"day=%{customdata[0]}<br>timeslot=%{customdata[1]}<br>region=%{customdata[2]}<br>kind=%{customdata[3]}<br>latitude=%{lat}<br>longitude=%{lon}\", \"lat\": [59.31426096, 59.22078204, 59.31426096, 59.32355937], \"legendgroup\": \"\", \"line\": {\"color\": \"#636efa\"}, \"lon\": [18.07653494, 17.9363181, 18.07653494, 18.096513199999997], \"mode\": \"lines\", \"name\": \"\", \"showlegend\": false, \"subplot\": \"mapbox\", \"type\": \"scattermapbox\"}], \"name\": \"111\"}, {\"data\": [{\"customdata\": [[112, 0, 0, \"region\"], [112, 0, 0, \"region\"], [112, 1, 0, \"region\"], [112, 2, 9, \"region\"]], \"hoverlabel\": {\"namelength\": 0}, \"hovertemplate\": \"day=%{customdata[0]}<br>timeslot=%{customdata[1]}<br>region=%{customdata[2]}<br>kind=%{customdata[3]}<br>latitude=%{lat}<br>longitude=%{lon}\", \"lat\": [59.31426096, 59.31426096, 59.31426096, 59.34305210000001], \"legendgroup\": \"\", \"line\": {\"color\": \"#636efa\"}, \"lon\": [18.07653494, 18.07653494, 18.07653494, 18.05174887], \"mode\": \"lines\", \"name\": \"\", \"showlegend\": false, \"subplot\": \"mapbox\", \"type\": \"scattermapbox\"}], \"name\": \"112\"}, {\"data\": [{\"customdata\": [[113, 0, 0, \"region\"], [113, 0, 8, \"region\"], [113, 1, 38, \"region\"], [113, 2, 0, \"region\"]], \"hoverlabel\": {\"namelength\": 0}, \"hovertemplate\": \"day=%{customdata[0]}<br>timeslot=%{customdata[1]}<br>region=%{customdata[2]}<br>kind=%{customdata[3]}<br>latitude=%{lat}<br>longitude=%{lon}\", \"lat\": [59.31426096, 59.34313992, 59.32366529, 59.31426096], \"legendgroup\": \"\", \"line\": {\"color\": \"#636efa\"}, \"lon\": [18.07653494, 18.08549566, 18.00205935, 18.07653494], \"mode\": \"lines\", \"name\": \"\", \"showlegend\": false, \"subplot\": \"mapbox\", \"type\": \"scattermapbox\"}], \"name\": \"113\"}, {\"data\": [{\"customdata\": [[114, 0, 0, \"region\"], [114, 0, 10, \"region\"], [114, 1, 0, \"region\"], [114, 2, 0, \"region\"]], \"hoverlabel\": {\"namelength\": 0}, \"hovertemplate\": \"day=%{customdata[0]}<br>timeslot=%{customdata[1]}<br>region=%{customdata[2]}<br>kind=%{customdata[3]}<br>latitude=%{lat}<br>longitude=%{lon}\", \"lat\": [59.31426096, 59.32355937, 59.31426096, 59.31426096], \"legendgroup\": \"\", \"line\": {\"color\": \"#636efa\"}, \"lon\": [18.07653494, 18.096513199999997, 18.07653494, 18.07653494], \"mode\": \"lines\", \"name\": \"\", \"showlegend\": false, \"subplot\": \"mapbox\", \"type\": \"scattermapbox\"}], \"name\": \"114\"}, {\"data\": [{\"customdata\": [[115, 0, 0, \"region\"], [115, 0, 5, \"region\"], [115, 1, 0, \"region\"], [115, 2, 10, \"region\"]], \"hoverlabel\": {\"namelength\": 0}, \"hovertemplate\": \"day=%{customdata[0]}<br>timeslot=%{customdata[1]}<br>region=%{customdata[2]}<br>kind=%{customdata[3]}<br>latitude=%{lat}<br>longitude=%{lon}\", \"lat\": [59.31426096, 59.267619999999994, 59.31426096, 59.32355937], \"legendgroup\": \"\", \"line\": {\"color\": \"#636efa\"}, \"lon\": [18.07653494, 17.91003, 18.07653494, 18.096513199999997], \"mode\": \"lines\", \"name\": \"\", \"showlegend\": false, \"subplot\": \"mapbox\", \"type\": \"scattermapbox\"}], \"name\": \"115\"}, {\"data\": [{\"customdata\": [[116, 0, 0, \"region\"], [116, 0, -1, \"point\"], [116, 1, 80, \"region\"], [116, 2, 0, \"region\"]], \"hoverlabel\": {\"namelength\": 0}, \"hovertemplate\": \"day=%{customdata[0]}<br>timeslot=%{customdata[1]}<br>region=%{customdata[2]}<br>kind=%{customdata[3]}<br>latitude=%{lat}<br>longitude=%{lon}\", \"lat\": [59.31426096, 59.31452552497788, 59.24286046, 59.31426096], \"legendgroup\": \"\", \"line\": {\"color\": \"#636efa\"}, \"lon\": [18.07653494, 18.077941189810023, 18.2140462, 18.07653494], \"mode\": \"lines\", \"name\": \"\", \"showlegend\": false, \"subplot\": \"mapbox\", \"type\": \"scattermapbox\"}], \"name\": \"116\"}, {\"data\": [{\"customdata\": [[117, 0, 0, \"region\"], [117, 0, 0, \"region\"], [117, 1, 0, \"region\"], [117, 2, 0, \"region\"]], \"hoverlabel\": {\"namelength\": 0}, \"hovertemplate\": \"day=%{customdata[0]}<br>timeslot=%{customdata[1]}<br>region=%{customdata[2]}<br>kind=%{customdata[3]}<br>latitude=%{lat}<br>longitude=%{lon}\", \"lat\": [59.31426096, 59.31426096, 59.31426096, 59.31426096], \"legendgroup\": \"\", \"line\": {\"color\": \"#636efa\"}, \"lon\": [18.07653494, 18.07653494, 18.07653494, 18.07653494], \"mode\": \"lines\", \"name\": \"\", \"showlegend\": false, \"subplot\": \"mapbox\", \"type\": \"scattermapbox\"}], \"name\": \"117\"}, {\"data\": [{\"customdata\": [[118, 0, 0, \"region\"], [118, 0, 0, \"region\"], [118, 1, 10, \"region\"], [118, 2, 0, \"region\"]], \"hoverlabel\": {\"namelength\": 0}, \"hovertemplate\": \"day=%{customdata[0]}<br>timeslot=%{customdata[1]}<br>region=%{customdata[2]}<br>kind=%{customdata[3]}<br>latitude=%{lat}<br>longitude=%{lon}\", \"lat\": [59.31426096, 59.31426096, 59.32355937, 59.31426096], \"legendgroup\": \"\", \"line\": {\"color\": \"#636efa\"}, \"lon\": [18.07653494, 18.07653494, 18.096513199999997, 18.07653494], \"mode\": \"lines\", \"name\": \"\", \"showlegend\": false, \"subplot\": \"mapbox\", \"type\": \"scattermapbox\"}], \"name\": \"118\"}, {\"data\": [{\"customdata\": [[119, 0, 0, \"region\"], [119, 0, 10, \"region\"], [119, 1, 3, \"region\"], [119, 2, -1, \"point\"]], \"hoverlabel\": {\"namelength\": 0}, \"hovertemplate\": \"day=%{customdata[0]}<br>timeslot=%{customdata[1]}<br>region=%{customdata[2]}<br>kind=%{customdata[3]}<br>latitude=%{lat}<br>longitude=%{lon}\", \"lat\": [59.31426096, 59.32355937, 59.36456999999999, 59.36456999999999], \"legendgroup\": \"\", \"line\": {\"color\": \"#636efa\"}, \"lon\": [18.07653494, 18.096513199999997, 17.97493, 17.97493], \"mode\": \"lines\", \"name\": \"\", \"showlegend\": false, \"subplot\": \"mapbox\", \"type\": \"scattermapbox\"}], \"name\": \"119\"}, {\"data\": [{\"customdata\": [[120, 0, 0, \"region\"], [120, 0, -1, \"point\"], [120, 1, 104, \"region\"], [120, 2, 3, \"region\"]], \"hoverlabel\": {\"namelength\": 0}, \"hovertemplate\": \"day=%{customdata[0]}<br>timeslot=%{customdata[1]}<br>region=%{customdata[2]}<br>kind=%{customdata[3]}<br>latitude=%{lat}<br>longitude=%{lon}\", \"lat\": [59.31426096, 59.31426096, 59.30348718, 59.36456999999999], \"legendgroup\": \"\", \"line\": {\"color\": \"#636efa\"}, \"lon\": [18.07653494, 18.07653494, 18.07873817, 17.97493], \"mode\": \"lines\", \"name\": \"\", \"showlegend\": false, \"subplot\": \"mapbox\", \"type\": \"scattermapbox\"}], \"name\": \"120\"}, {\"data\": [{\"customdata\": [[121, 0, 0, \"region\"], [121, 0, 25, \"region\"], [121, 1, 39, \"region\"], [121, 2, 0, \"region\"]], \"hoverlabel\": {\"namelength\": 0}, \"hovertemplate\": \"day=%{customdata[0]}<br>timeslot=%{customdata[1]}<br>region=%{customdata[2]}<br>kind=%{customdata[3]}<br>latitude=%{lat}<br>longitude=%{lon}\", \"lat\": [59.31426096, 59.34166178, 59.32535178, 59.31426096], \"legendgroup\": \"\", \"line\": {\"color\": \"#636efa\"}, \"lon\": [18.07653494, 18.0641776, 18.09606097, 18.07653494], \"mode\": \"lines\", \"name\": \"\", \"showlegend\": false, \"subplot\": \"mapbox\", \"type\": \"scattermapbox\"}], \"name\": \"121\"}, {\"data\": [{\"customdata\": [[122, 0, 0, \"region\"], [122, 0, 0, \"region\"], [122, 1, 0, \"region\"], [122, 2, 0, \"region\"]], \"hoverlabel\": {\"namelength\": 0}, \"hovertemplate\": \"day=%{customdata[0]}<br>timeslot=%{customdata[1]}<br>region=%{customdata[2]}<br>kind=%{customdata[3]}<br>latitude=%{lat}<br>longitude=%{lon}\", \"lat\": [59.31426096, 59.31426096, 59.31426096, 59.31426096], \"legendgroup\": \"\", \"line\": {\"color\": \"#636efa\"}, \"lon\": [18.07653494, 18.07653494, 18.07653494, 18.07653494], \"mode\": \"lines\", \"name\": \"\", \"showlegend\": false, \"subplot\": \"mapbox\", \"type\": \"scattermapbox\"}], \"name\": \"122\"}, {\"data\": [{\"customdata\": [[123, 0, 0, \"region\"], [123, 0, 10, \"region\"], [123, 1, 10, \"region\"], [123, 2, 0, \"region\"]], \"hoverlabel\": {\"namelength\": 0}, \"hovertemplate\": \"day=%{customdata[0]}<br>timeslot=%{customdata[1]}<br>region=%{customdata[2]}<br>kind=%{customdata[3]}<br>latitude=%{lat}<br>longitude=%{lon}\", \"lat\": [59.31426096, 59.32355937, 59.32355937, 59.31426096], \"legendgroup\": \"\", \"line\": {\"color\": \"#636efa\"}, \"lon\": [18.07653494, 18.096513199999997, 18.096513199999997, 18.07653494], \"mode\": \"lines\", \"name\": \"\", \"showlegend\": false, \"subplot\": \"mapbox\", \"type\": \"scattermapbox\"}], \"name\": \"123\"}, {\"data\": [{\"customdata\": [[124, 0, 0, \"region\"], [124, 0, 25, \"region\"], [124, 1, 0, \"region\"], [124, 2, 0, \"region\"]], \"hoverlabel\": {\"namelength\": 0}, \"hovertemplate\": \"day=%{customdata[0]}<br>timeslot=%{customdata[1]}<br>region=%{customdata[2]}<br>kind=%{customdata[3]}<br>latitude=%{lat}<br>longitude=%{lon}\", \"lat\": [59.31426096, 59.34166178, 59.31426096, 59.31426096], \"legendgroup\": \"\", \"line\": {\"color\": \"#636efa\"}, \"lon\": [18.07653494, 18.0641776, 18.07653494, 18.07653494], \"mode\": \"lines\", \"name\": \"\", \"showlegend\": false, \"subplot\": \"mapbox\", \"type\": \"scattermapbox\"}], \"name\": \"124\"}, {\"data\": [{\"customdata\": [[125, 0, 0, \"region\"], [125, 0, 116, \"region\"], [125, 1, 33, \"region\"], [125, 2, 10, \"region\"]], \"hoverlabel\": {\"namelength\": 0}, \"hovertemplate\": \"day=%{customdata[0]}<br>timeslot=%{customdata[1]}<br>region=%{customdata[2]}<br>kind=%{customdata[3]}<br>latitude=%{lat}<br>longitude=%{lon}\", \"lat\": [59.31426096, 59.3091507, 59.3325, 59.32355937], \"legendgroup\": \"\", \"line\": {\"color\": \"#636efa\"}, \"lon\": [18.07653494, 18.051889399999997, 18.06444444, 18.096513199999997], \"mode\": \"lines\", \"name\": \"\", \"showlegend\": false, \"subplot\": \"mapbox\", \"type\": \"scattermapbox\"}], \"name\": \"125\"}, {\"data\": [{\"customdata\": [[126, 0, 0, \"region\"], [126, 0, 0, \"region\"], [126, 1, 0, \"region\"], [126, 2, 15, \"region\"]], \"hoverlabel\": {\"namelength\": 0}, \"hovertemplate\": \"day=%{customdata[0]}<br>timeslot=%{customdata[1]}<br>region=%{customdata[2]}<br>kind=%{customdata[3]}<br>latitude=%{lat}<br>longitude=%{lon}\", \"lat\": [59.31426096, 59.31426096, 59.31426096, 59.217780000000005], \"legendgroup\": \"\", \"line\": {\"color\": \"#636efa\"}, \"lon\": [18.07653494, 18.07653494, 18.07653494, 17.93892], \"mode\": \"lines\", \"name\": \"\", \"showlegend\": false, \"subplot\": \"mapbox\", \"type\": \"scattermapbox\"}], \"name\": \"126\"}, {\"data\": [{\"customdata\": [[127, 0, 0, \"region\"], [127, 0, 0, \"region\"], [127, 1, 0, \"region\"], [127, 2, -1, \"point\"]], \"hoverlabel\": {\"namelength\": 0}, \"hovertemplate\": \"day=%{customdata[0]}<br>timeslot=%{customdata[1]}<br>region=%{customdata[2]}<br>kind=%{customdata[3]}<br>latitude=%{lat}<br>longitude=%{lon}\", \"lat\": [59.31426096, 59.31426096, 59.31426096, 59.31426096], \"legendgroup\": \"\", \"line\": {\"color\": \"#636efa\"}, \"lon\": [18.07653494, 18.07653494, 18.07653494, 18.07653494], \"mode\": \"lines\", \"name\": \"\", \"showlegend\": false, \"subplot\": \"mapbox\", \"type\": \"scattermapbox\"}], \"name\": \"127\"}, {\"data\": [{\"customdata\": [[128, 0, 0, \"region\"], [128, 0, 0, \"region\"], [128, 1, 16, \"region\"], [128, 2, 10, \"region\"]], \"hoverlabel\": {\"namelength\": 0}, \"hovertemplate\": \"day=%{customdata[0]}<br>timeslot=%{customdata[1]}<br>region=%{customdata[2]}<br>kind=%{customdata[3]}<br>latitude=%{lat}<br>longitude=%{lon}\", \"lat\": [59.31426096, 59.31426096, 59.22078204, 59.32355937], \"legendgroup\": \"\", \"line\": {\"color\": \"#636efa\"}, \"lon\": [18.07653494, 18.07653494, 17.9363181, 18.096513199999997], \"mode\": \"lines\", \"name\": \"\", \"showlegend\": false, \"subplot\": \"mapbox\", \"type\": \"scattermapbox\"}], \"name\": \"128\"}, {\"data\": [{\"customdata\": [[129, 0, 0, \"region\"], [129, 0, 0, \"region\"], [129, 1, -1, \"point\"], [129, 2, 0, \"region\"]], \"hoverlabel\": {\"namelength\": 0}, \"hovertemplate\": \"day=%{customdata[0]}<br>timeslot=%{customdata[1]}<br>region=%{customdata[2]}<br>kind=%{customdata[3]}<br>latitude=%{lat}<br>longitude=%{lon}\", \"lat\": [59.31426096, 59.31426096, 59.3143539933923, 59.31426096], \"legendgroup\": \"\", \"line\": {\"color\": \"#636efa\"}, \"lon\": [18.07653494, 18.07653494, 18.07095072551052, 18.07653494], \"mode\": \"lines\", \"name\": \"\", \"showlegend\": false, \"subplot\": \"mapbox\", \"type\": \"scattermapbox\"}], \"name\": \"129\"}, {\"data\": [{\"customdata\": [[130, 0, 0, \"region\"], [130, 0, 0, \"region\"], [130, 1, 0, \"region\"], [130, 2, 0, \"region\"]], \"hoverlabel\": {\"namelength\": 0}, \"hovertemplate\": \"day=%{customdata[0]}<br>timeslot=%{customdata[1]}<br>region=%{customdata[2]}<br>kind=%{customdata[3]}<br>latitude=%{lat}<br>longitude=%{lon}\", \"lat\": [59.31426096, 59.31426096, 59.31426096, 59.31426096], \"legendgroup\": \"\", \"line\": {\"color\": \"#636efa\"}, \"lon\": [18.07653494, 18.07653494, 18.07653494, 18.07653494], \"mode\": \"lines\", \"name\": \"\", \"showlegend\": false, \"subplot\": \"mapbox\", \"type\": \"scattermapbox\"}], \"name\": \"130\"}, {\"data\": [{\"customdata\": [[131, 0, 0, \"region\"], [131, 0, 0, \"region\"], [131, 1, 10, \"region\"], [131, 2, 0, \"region\"]], \"hoverlabel\": {\"namelength\": 0}, \"hovertemplate\": \"day=%{customdata[0]}<br>timeslot=%{customdata[1]}<br>region=%{customdata[2]}<br>kind=%{customdata[3]}<br>latitude=%{lat}<br>longitude=%{lon}\", \"lat\": [59.31426096, 59.31426096, 59.32355937, 59.31426096], \"legendgroup\": \"\", \"line\": {\"color\": \"#636efa\"}, \"lon\": [18.07653494, 18.07653494, 18.096513199999997, 18.07653494], \"mode\": \"lines\", \"name\": \"\", \"showlegend\": false, \"subplot\": \"mapbox\", \"type\": \"scattermapbox\"}], \"name\": \"131\"}, {\"data\": [{\"customdata\": [[132, 0, 0, \"region\"], [132, 0, 7, \"region\"], [132, 1, 0, \"region\"], [132, 2, 3, \"region\"]], \"hoverlabel\": {\"namelength\": 0}, \"hovertemplate\": \"day=%{customdata[0]}<br>timeslot=%{customdata[1]}<br>region=%{customdata[2]}<br>kind=%{customdata[3]}<br>latitude=%{lat}<br>longitude=%{lon}\", \"lat\": [59.31426096, 59.33448582, 59.31426096, 59.36456999999999], \"legendgroup\": \"\", \"line\": {\"color\": \"#636efa\"}, \"lon\": [18.07653494, 18.06427381, 18.07653494, 17.97493], \"mode\": \"lines\", \"name\": \"\", \"showlegend\": false, \"subplot\": \"mapbox\", \"type\": \"scattermapbox\"}], \"name\": \"132\"}, {\"data\": [{\"customdata\": [[133, 0, 0, \"region\"], [133, 0, 0, \"region\"], [133, 1, 0, \"region\"], [133, 2, 0, \"region\"]], \"hoverlabel\": {\"namelength\": 0}, \"hovertemplate\": \"day=%{customdata[0]}<br>timeslot=%{customdata[1]}<br>region=%{customdata[2]}<br>kind=%{customdata[3]}<br>latitude=%{lat}<br>longitude=%{lon}\", \"lat\": [59.31426096, 59.31426096, 59.31426096, 59.31426096], \"legendgroup\": \"\", \"line\": {\"color\": \"#636efa\"}, \"lon\": [18.07653494, 18.07653494, 18.07653494, 18.07653494], \"mode\": \"lines\", \"name\": \"\", \"showlegend\": false, \"subplot\": \"mapbox\", \"type\": \"scattermapbox\"}], \"name\": \"133\"}, {\"data\": [{\"customdata\": [[134, 0, 0, \"region\"], [134, 0, 0, \"region\"], [134, 1, 0, \"region\"], [134, 2, 10, \"region\"]], \"hoverlabel\": {\"namelength\": 0}, \"hovertemplate\": \"day=%{customdata[0]}<br>timeslot=%{customdata[1]}<br>region=%{customdata[2]}<br>kind=%{customdata[3]}<br>latitude=%{lat}<br>longitude=%{lon}\", \"lat\": [59.31426096, 59.31426096, 59.31426096, 59.32355937], \"legendgroup\": \"\", \"line\": {\"color\": \"#636efa\"}, \"lon\": [18.07653494, 18.07653494, 18.07653494, 18.096513199999997], \"mode\": \"lines\", \"name\": \"\", \"showlegend\": false, \"subplot\": \"mapbox\", \"type\": \"scattermapbox\"}], \"name\": \"134\"}, {\"data\": [{\"customdata\": [[135, 0, 0, \"region\"], [135, 0, 0, \"region\"], [135, 1, -1, \"point\"], [135, 2, 0, \"region\"]], \"hoverlabel\": {\"namelength\": 0}, \"hovertemplate\": \"day=%{customdata[0]}<br>timeslot=%{customdata[1]}<br>region=%{customdata[2]}<br>kind=%{customdata[3]}<br>latitude=%{lat}<br>longitude=%{lon}\", \"lat\": [59.31426096, 59.31426096, 59.314541596789645, 59.31426096], \"legendgroup\": \"\", \"line\": {\"color\": \"#636efa\"}, \"lon\": [18.07653494, 18.07653494, 18.077424979265974, 18.07653494], \"mode\": \"lines\", \"name\": \"\", \"showlegend\": false, \"subplot\": \"mapbox\", \"type\": \"scattermapbox\"}], \"name\": \"135\"}, {\"data\": [{\"customdata\": [[136, 0, 0, \"region\"], [136, 0, 3, \"region\"], [136, 1, 10, \"region\"], [136, 2, 31, \"region\"]], \"hoverlabel\": {\"namelength\": 0}, \"hovertemplate\": \"day=%{customdata[0]}<br>timeslot=%{customdata[1]}<br>region=%{customdata[2]}<br>kind=%{customdata[3]}<br>latitude=%{lat}<br>longitude=%{lon}\", \"lat\": [59.31426096, 59.36456999999999, 59.32355937, 59.31206825], \"legendgroup\": \"\", \"line\": {\"color\": \"#636efa\"}, \"lon\": [18.07653494, 17.97493, 18.096513199999997, 18.07390065], \"mode\": \"lines\", \"name\": \"\", \"showlegend\": false, \"subplot\": \"mapbox\", \"type\": \"scattermapbox\"}], \"name\": \"136\"}, {\"data\": [{\"customdata\": [[137, 0, 0, \"region\"], [137, 0, 9, \"region\"], [137, 1, 32, \"region\"], [137, 2, 0, \"region\"]], \"hoverlabel\": {\"namelength\": 0}, \"hovertemplate\": \"day=%{customdata[0]}<br>timeslot=%{customdata[1]}<br>region=%{customdata[2]}<br>kind=%{customdata[3]}<br>latitude=%{lat}<br>longitude=%{lon}\", \"lat\": [59.31426096, 59.34305210000001, 59.36239896, 59.31426096], \"legendgroup\": \"\", \"line\": {\"color\": \"#636efa\"}, \"lon\": [18.07653494, 18.05174887, 17.96602968, 18.07653494], \"mode\": \"lines\", \"name\": \"\", \"showlegend\": false, \"subplot\": \"mapbox\", \"type\": \"scattermapbox\"}], \"name\": \"137\"}, {\"data\": [{\"customdata\": [[138, 0, 0, \"region\"], [138, 0, 90, \"region\"], [138, 1, 24, \"region\"], [138, 2, 0, \"region\"]], \"hoverlabel\": {\"namelength\": 0}, \"hovertemplate\": \"day=%{customdata[0]}<br>timeslot=%{customdata[1]}<br>region=%{customdata[2]}<br>kind=%{customdata[3]}<br>latitude=%{lat}<br>longitude=%{lon}\", \"lat\": [59.31426096, 51.08593048, 59.34696216, 59.31426096], \"legendgroup\": \"\", \"line\": {\"color\": \"#636efa\"}, \"lon\": [18.07653494, 4.38379144, 18.03691438, 18.07653494], \"mode\": \"lines\", \"name\": \"\", \"showlegend\": false, \"subplot\": \"mapbox\", \"type\": \"scattermapbox\"}], \"name\": \"138\"}, {\"data\": [{\"customdata\": [[139, 0, 0, \"region\"], [139, 0, 0, \"region\"], [139, 1, 10, \"region\"], [139, 2, 25, \"region\"]], \"hoverlabel\": {\"namelength\": 0}, \"hovertemplate\": \"day=%{customdata[0]}<br>timeslot=%{customdata[1]}<br>region=%{customdata[2]}<br>kind=%{customdata[3]}<br>latitude=%{lat}<br>longitude=%{lon}\", \"lat\": [59.31426096, 59.31426096, 59.32355937, 59.34166178], \"legendgroup\": \"\", \"line\": {\"color\": \"#636efa\"}, \"lon\": [18.07653494, 18.07653494, 18.096513199999997, 18.0641776], \"mode\": \"lines\", \"name\": \"\", \"showlegend\": false, \"subplot\": \"mapbox\", \"type\": \"scattermapbox\"}], \"name\": \"139\"}]);\n",
       "                        }).then(function(){\n",
       "                            \n",
       "var gd = document.getElementById('474ed3e1-bb33-4a6f-b48b-fb95c94d87f2');\n",
       "var x = new MutationObserver(function (mutations, observer) {{\n",
       "        var display = window.getComputedStyle(gd).display;\n",
       "        if (!display || display === 'none') {{\n",
       "            console.log([gd, 'removed!']);\n",
       "            Plotly.purge(gd);\n",
       "            observer.disconnect();\n",
       "        }}\n",
       "}});\n",
       "\n",
       "// Listen for the removal of the full notebook cells\n",
       "var notebookContainer = gd.closest('#notebook-container');\n",
       "if (notebookContainer) {{\n",
       "    x.observe(notebookContainer, {childList: true});\n",
       "}}\n",
       "\n",
       "// Listen for the clearing of the current output cell\n",
       "var outputEl = gd.closest('.output');\n",
       "if (outputEl) {{\n",
       "    x.observe(outputEl, {childList: true});\n",
       "}}\n",
       "\n",
       "                        })\n",
       "                };\n",
       "                });\n",
       "            </script>\n",
       "        </div>"
      ]
     },
     "metadata": {},
     "output_type": "display_data"
    }
   ],
   "source": [
    "fig = px.line_mapbox(\n",
    "    sampled, \n",
    "    lat='latitude', lon='longitude', \n",
    "    hover_data=['day', 'timeslot', 'region', 'kind'],\n",
    "    animation_frame='day'\n",
    ")\n",
    "fig.update_layout(mapbox_style=\"open-street-map\")\n",
    "fig.show()"
   ]
  },
  {
   "cell_type": "code",
   "execution_count": null,
   "metadata": {},
   "outputs": [],
   "source": []
  },
  {
   "cell_type": "code",
   "execution_count": 189,
   "metadata": {
    "scrolled": true
   },
   "outputs": [
    {
     "data": {
      "application/vnd.plotly.v1+json": {
       "config": {
        "plotlyServerURL": "https://plot.ly"
       },
       "data": [
        {
         "customdata": [
          [
           0,
           2,
           1
          ],
          [
           0,
           18,
           6
          ],
          [
           0,
           15,
           3
          ],
          [
           0,
           16,
           2
          ],
          [
           0,
           4,
           4
          ],
          [
           0,
           13,
           4
          ],
          [
           0,
           2,
           1
          ],
          [
           0,
           18,
           1
          ],
          [
           0,
           4,
           3
          ],
          [
           0,
           1,
           6
          ],
          [
           0,
           1,
           5
          ],
          [
           0,
           23,
           5
          ],
          [
           0,
           4,
           6
          ],
          [
           0,
           2,
           6
          ],
          [
           0,
           0,
           1
          ],
          [
           0,
           1,
           3
          ],
          [
           0,
           18,
           5
          ],
          [
           0,
           15,
           6
          ],
          [
           0,
           18,
           6
          ],
          [
           0,
           23,
           4
          ],
          [
           0,
           20,
           5
          ],
          [
           0,
           0,
           0
          ],
          [
           0,
           15,
           6
          ],
          [
           0,
           17,
           4
          ],
          [
           0,
           13,
           5
          ],
          [
           0,
           16,
           6
          ],
          [
           0,
           23,
           4
          ],
          [
           0,
           21,
           6
          ],
          [
           0,
           14,
           2
          ],
          [
           0,
           20,
           2
          ],
          [
           0,
           2,
           4
          ],
          [
           0,
           14,
           5
          ],
          [
           0,
           20,
           5
          ],
          [
           0,
           18,
           6
          ],
          [
           0,
           19,
           6
          ],
          [
           0,
           23,
           6
          ],
          [
           0,
           14,
           0
          ],
          [
           0,
           0,
           3
          ],
          [
           0,
           22,
           5
          ],
          [
           0,
           21,
           6
          ],
          [
           0,
           17,
           0
          ],
          [
           0,
           13,
           3
          ],
          [
           0,
           13,
           5
          ],
          [
           0,
           21,
           0
          ],
          [
           0,
           22,
           0
          ],
          [
           0,
           17,
           2
          ],
          [
           0,
           21,
           4
          ],
          [
           0,
           22,
           5
          ],
          [
           0,
           21,
           6
          ],
          [
           0,
           0,
           1
          ],
          [
           0,
           12,
           3
          ],
          [
           0,
           23,
           3
          ],
          [
           0,
           19,
           6
          ],
          [
           0,
           1,
           0
          ],
          [
           0,
           17,
           0
          ],
          [
           0,
           0,
           2
          ],
          [
           0,
           12,
           2
          ],
          [
           0,
           22,
           3
          ],
          [
           0,
           22,
           4
          ],
          [
           0,
           4,
           5
          ],
          [
           0,
           21,
           6
          ],
          [
           0,
           23,
           3
          ],
          [
           0,
           3,
           5
          ],
          [
           0,
           19,
           5
          ],
          [
           0,
           22,
           3
          ],
          [
           0,
           21,
           5
          ],
          [
           0,
           20,
           6
          ],
          [
           0,
           23,
           2
          ],
          [
           0,
           20,
           4
          ],
          [
           0,
           22,
           2
          ],
          [
           0,
           18,
           5
          ],
          [
           0,
           23,
           2
          ],
          [
           0,
           19,
           3
          ],
          [
           0,
           23,
           5
          ],
          [
           0,
           11,
           5
          ],
          [
           0,
           18,
           5
          ],
          [
           0,
           22,
           0
          ],
          [
           0,
           14,
           1
          ],
          [
           0,
           17,
           4
          ],
          [
           0,
           23,
           4
          ],
          [
           0,
           13,
           5
          ],
          [
           0,
           14,
           5
          ],
          [
           0,
           1,
           5
          ],
          [
           0,
           18,
           6
          ],
          [
           0,
           15,
           4
          ],
          [
           0,
           19,
           4
          ],
          [
           0,
           23,
           4
          ],
          [
           0,
           12,
           5
          ],
          [
           0,
           2,
           6
          ],
          [
           0,
           17,
           1
          ],
          [
           0,
           23,
           4
          ],
          [
           0,
           18,
           5
          ],
          [
           0,
           16,
           1
          ],
          [
           0,
           0,
           2
          ],
          [
           0,
           23,
           3
          ],
          [
           0,
           14,
           2
          ],
          [
           0,
           15,
           4
          ],
          [
           0,
           0,
           5
          ],
          [
           0,
           21,
           5
          ],
          [
           0,
           1,
           5
          ],
          [
           0,
           23,
           0
          ],
          [
           0,
           22,
           5
          ],
          [
           0,
           16,
           5
          ],
          [
           0,
           22,
           5
          ],
          [
           0,
           23,
           5
          ],
          [
           0,
           19,
           6
          ],
          [
           0,
           20,
           2
          ],
          [
           0,
           22,
           0
          ],
          [
           0,
           0,
           3
          ],
          [
           0,
           23,
           5
          ],
          [
           0,
           4,
           0
          ],
          [
           0,
           22,
           4
          ],
          [
           0,
           22,
           5
          ],
          [
           0,
           20,
           6
          ],
          [
           0,
           23,
           5
          ],
          [
           0,
           23,
           4
          ],
          [
           0,
           23,
           5
          ],
          [
           0,
           3,
           1
          ],
          [
           0,
           18,
           3
          ],
          [
           0,
           18,
           5
          ],
          [
           0,
           0,
           6
          ],
          [
           0,
           23,
           0
          ],
          [
           0,
           1,
           4
          ],
          [
           0,
           22,
           4
          ],
          [
           0,
           22,
           5
          ],
          [
           0,
           17,
           3
          ],
          [
           0,
           0,
           6
          ],
          [
           0,
           0,
           4
          ],
          [
           0,
           23,
           6
          ],
          [
           0,
           23,
           0
          ],
          [
           0,
           23,
           5
          ],
          [
           0,
           15,
           0
          ],
          [
           0,
           23,
           4
          ],
          [
           0,
           20,
           4
          ],
          [
           0,
           19,
           5
          ],
          [
           0,
           2,
           2
          ],
          [
           0,
           2,
           3
          ],
          [
           0,
           14,
           3
          ],
          [
           0,
           15,
           6
          ],
          [
           0,
           6,
           6
          ],
          [
           0,
           16,
           0
          ],
          [
           0,
           6,
           5
          ],
          [
           0,
           6,
           6
          ],
          [
           0,
           3,
           0
          ],
          [
           0,
           23,
           3
          ],
          [
           0,
           22,
           0
          ],
          [
           0,
           22,
           4
          ],
          [
           0,
           22,
           5
          ],
          [
           0,
           21,
           6
          ],
          [
           0,
           22,
           0
          ],
          [
           0,
           0,
           4
          ],
          [
           0,
           23,
           5
          ],
          [
           0,
           22,
           6
          ],
          [
           0,
           18,
           1
          ],
          [
           0,
           21,
           2
          ],
          [
           0,
           20,
           3
          ],
          [
           0,
           12,
           1
          ],
          [
           0,
           20,
           3
          ],
          [
           0,
           0,
           5
          ],
          [
           0,
           23,
           1
          ],
          [
           0,
           19,
           4
          ],
          [
           0,
           15,
           5
          ],
          [
           0,
           21,
           5
          ],
          [
           0,
           23,
           5
          ],
          [
           0,
           1,
           6
          ],
          [
           0,
           1,
           0
          ],
          [
           0,
           14,
           0
          ],
          [
           0,
           22,
           2
          ],
          [
           0,
           22,
           3
          ],
          [
           0,
           2,
           4
          ],
          [
           0,
           0,
           6
          ],
          [
           0,
           1,
           0
          ],
          [
           0,
           22,
           4
          ],
          [
           0,
           18,
           5
          ],
          [
           0,
           15,
           1
          ],
          [
           0,
           20,
           4
          ],
          [
           0,
           19,
           5
          ],
          [
           0,
           23,
           5
          ],
          [
           0,
           19,
           0
          ],
          [
           0,
           23,
           0
          ],
          [
           0,
           14,
           1
          ],
          [
           0,
           23,
           3
          ],
          [
           0,
           16,
           4
          ],
          [
           0,
           23,
           4
          ],
          [
           0,
           18,
           5
          ],
          [
           0,
           17,
           6
          ],
          [
           0,
           22,
           6
          ],
          [
           0,
           0,
           1
          ],
          [
           0,
           0,
           2
          ],
          [
           0,
           18,
           3
          ],
          [
           0,
           23,
           3
          ],
          [
           0,
           22,
           6
          ],
          [
           0,
           23,
           6
          ],
          [
           0,
           23,
           1
          ],
          [
           0,
           23,
           1
          ],
          [
           0,
           23,
           2
          ],
          [
           0,
           20,
           4
          ],
          [
           0,
           18,
           5
          ],
          [
           0,
           18,
           0
          ],
          [
           0,
           18,
           0
          ],
          [
           0,
           13,
           1
          ],
          [
           0,
           18,
           3
          ],
          [
           0,
           13,
           5
          ],
          [
           0,
           1,
           4
          ],
          [
           0,
           17,
           5
          ],
          [
           0,
           23,
           4
          ],
          [
           0,
           17,
           5
          ],
          [
           0,
           22,
           3
          ],
          [
           0,
           18,
           0
          ],
          [
           0,
           20,
           0
          ],
          [
           0,
           19,
           1
          ],
          [
           0,
           17,
           5
          ],
          [
           0,
           23,
           1
          ],
          [
           0,
           21,
           3
          ],
          [
           0,
           23,
           3
          ],
          [
           0,
           22,
           0
          ],
          [
           0,
           0,
           6
          ],
          [
           0,
           23,
           0
          ],
          [
           0,
           23,
           3
          ],
          [
           0,
           23,
           4
          ],
          [
           0,
           22,
           5
          ],
          [
           0,
           22,
           6
          ],
          [
           0,
           0,
           1
          ],
          [
           0,
           23,
           3
          ],
          [
           0,
           14,
           5
          ],
          [
           0,
           22,
           5
          ],
          [
           0,
           23,
           0
          ],
          [
           0,
           23,
           4
          ],
          [
           0,
           13,
           0
          ],
          [
           0,
           12,
           2
          ],
          [
           0,
           2,
           4
          ],
          [
           0,
           23,
           4
          ],
          [
           0,
           18,
           5
          ],
          [
           0,
           1,
           0
          ],
          [
           0,
           23,
           2
          ],
          [
           0,
           17,
           4
          ],
          [
           0,
           0,
           5
          ],
          [
           0,
           22,
           0
          ],
          [
           0,
           0,
           0
          ],
          [
           0,
           20,
           3
          ],
          [
           0,
           0,
           4
          ],
          [
           0,
           18,
           5
          ],
          [
           0,
           6,
           0
          ],
          [
           0,
           0,
           2
          ],
          [
           0,
           0,
           4
          ],
          [
           0,
           22,
           4
          ],
          [
           0,
           23,
           6
          ],
          [
           0,
           17,
           0
          ],
          [
           0,
           22,
           0
          ],
          [
           0,
           15,
           1
          ],
          [
           0,
           22,
           5
          ],
          [
           0,
           1,
           0
          ],
          [
           0,
           19,
           0
          ],
          [
           0,
           0,
           1
          ],
          [
           0,
           23,
           6
          ],
          [
           0,
           0,
           0
          ],
          [
           0,
           18,
           0
          ],
          [
           0,
           20,
           5
          ],
          [
           0,
           23,
           5
          ],
          [
           0,
           1,
           0
          ],
          [
           0,
           20,
           0
          ],
          [
           0,
           0,
           1
          ],
          [
           0,
           17,
           1
          ],
          [
           0,
           15,
           0
          ],
          [
           0,
           22,
           3
          ],
          [
           0,
           23,
           4
          ],
          [
           0,
           23,
           0
          ],
          [
           0,
           22,
           2
          ],
          [
           0,
           0,
           4
          ],
          [
           0,
           12,
           5
          ],
          [
           0,
           15,
           0
          ],
          [
           0,
           6,
           3
          ],
          [
           0,
           21,
           3
          ],
          [
           0,
           23,
           5
          ],
          [
           0,
           12,
           0
          ],
          [
           0,
           0,
           1
          ],
          [
           0,
           23,
           2
          ],
          [
           0,
           6,
           0
          ],
          [
           0,
           13,
           4
          ],
          [
           0,
           23,
           5
          ],
          [
           0,
           16,
           0
          ],
          [
           0,
           0,
           6
          ],
          [
           0,
           13,
           2
          ],
          [
           0,
           21,
           6
          ],
          [
           0,
           6,
           4
          ],
          [
           0,
           8,
           5
          ],
          [
           0,
           0,
           6
          ],
          [
           0,
           16,
           1
          ],
          [
           0,
           0,
           3
          ],
          [
           0,
           18,
           3
          ],
          [
           0,
           0,
           5
          ],
          [
           0,
           23,
           5
          ],
          [
           0,
           22,
           6
          ],
          [
           0,
           17,
           2
          ],
          [
           0,
           20,
           5
          ],
          [
           0,
           23,
           6
          ],
          [
           1,
           20,
           2
          ],
          [
           2,
           19,
           4
          ],
          [
           2,
           18,
           4
          ],
          [
           3,
           17,
           5
          ],
          [
           3,
           16,
           4
          ],
          [
           3,
           22,
           1
          ],
          [
           3,
           20,
           2
          ],
          [
           3,
           19,
           2
          ],
          [
           3,
           15,
           5
          ],
          [
           3,
           19,
           2
          ],
          [
           3,
           21,
           3
          ],
          [
           3,
           15,
           4
          ],
          [
           3,
           20,
           0
          ],
          [
           3,
           21,
           1
          ],
          [
           3,
           22,
           1
          ],
          [
           3,
           19,
           2
          ],
          [
           3,
           21,
           3
          ],
          [
           3,
           21,
           1
          ],
          [
           3,
           17,
           0
          ],
          [
           3,
           17,
           2
          ],
          [
           3,
           20,
           1
          ],
          [
           3,
           15,
           4
          ],
          [
           3,
           20,
           2
          ],
          [
           3,
           20,
           0
          ],
          [
           3,
           21,
           2
          ],
          [
           3,
           20,
           2
          ],
          [
           3,
           19,
           0
          ],
          [
           3,
           19,
           2
          ],
          [
           3,
           19,
           4
          ],
          [
           3,
           1,
           3
          ],
          [
           3,
           17,
           4
          ],
          [
           3,
           13,
           0
          ],
          [
           3,
           18,
           0
          ],
          [
           3,
           19,
           2
          ],
          [
           3,
           19,
           0
          ],
          [
           3,
           19,
           2
          ],
          [
           3,
           20,
           2
          ],
          [
           3,
           19,
           0
          ],
          [
           3,
           20,
           2
          ],
          [
           3,
           20,
           4
          ],
          [
           3,
           20,
           2
          ],
          [
           3,
           19,
           2
          ],
          [
           3,
           0,
           3
          ],
          [
           3,
           19,
           2
          ],
          [
           4,
           11,
           6
          ],
          [
           5,
           13,
           1
          ],
          [
           5,
           12,
           3
          ],
          [
           5,
           12,
           3
          ],
          [
           5,
           14,
           3
          ],
          [
           5,
           11,
           2
          ],
          [
           5,
           20,
           4
          ],
          [
           5,
           10,
           0
          ],
          [
           6,
           14,
           3
          ],
          [
           6,
           16,
           2
          ],
          [
           6,
           20,
           3
          ],
          [
           6,
           2,
           3
          ],
          [
           7,
           18,
           3
          ],
          [
           7,
           17,
           3
          ],
          [
           7,
           17,
           3
          ],
          [
           7,
           19,
           3
          ],
          [
           7,
           19,
           3
          ],
          [
           7,
           19,
           3
          ],
          [
           7,
           19,
           3
          ],
          [
           7,
           19,
           3
          ],
          [
           7,
           17,
           3
          ],
          [
           7,
           18,
           3
          ],
          [
           7,
           19,
           3
          ],
          [
           7,
           19,
           3
          ],
          [
           7,
           18,
           3
          ],
          [
           7,
           18,
           3
          ],
          [
           7,
           19,
           4
          ],
          [
           7,
           19,
           3
          ],
          [
           7,
           19,
           4
          ],
          [
           7,
           21,
           3
          ],
          [
           7,
           20,
           1
          ],
          [
           7,
           19,
           4
          ],
          [
           7,
           19,
           3
          ],
          [
           7,
           20,
           3
          ],
          [
           7,
           17,
           6
          ],
          [
           8,
           18,
           4
          ],
          [
           8,
           21,
           1
          ],
          [
           8,
           21,
           1
          ],
          [
           8,
           21,
           1
          ],
          [
           8,
           19,
           1
          ],
          [
           8,
           21,
           1
          ],
          [
           8,
           21,
           1
          ],
          [
           8,
           21,
           1
          ],
          [
           8,
           21,
           3
          ],
          [
           8,
           21,
           1
          ],
          [
           8,
           21,
           3
          ],
          [
           8,
           12,
           0
          ],
          [
           8,
           19,
           1
          ],
          [
           8,
           19,
           1
          ],
          [
           8,
           22,
           1
          ],
          [
           8,
           21,
           1
          ],
          [
           8,
           19,
           1
          ],
          [
           8,
           22,
           1
          ],
          [
           8,
           13,
           4
          ],
          [
           8,
           23,
           1
          ],
          [
           8,
           21,
           3
          ],
          [
           8,
           21,
           3
          ],
          [
           8,
           19,
           3
          ],
          [
           8,
           21,
           1
          ],
          [
           8,
           19,
           1
          ],
          [
           8,
           21,
           1
          ],
          [
           8,
           21,
           1
          ],
          [
           8,
           21,
           1
          ],
          [
           8,
           22,
           1
          ],
          [
           8,
           22,
           1
          ],
          [
           8,
           21,
           1
          ],
          [
           8,
           23,
           1
          ],
          [
           8,
           22,
           1
          ],
          [
           8,
           22,
           1
          ],
          [
           9,
           13,
           6
          ],
          [
           9,
           23,
           0
          ],
          [
           9,
           13,
           6
          ],
          [
           9,
           13,
           6
          ],
          [
           9,
           13,
           6
          ],
          [
           9,
           13,
           6
          ],
          [
           9,
           11,
           6
          ],
          [
           9,
           13,
           6
          ],
          [
           9,
           13,
           6
          ],
          [
           9,
           14,
           6
          ],
          [
           9,
           13,
           6
          ],
          [
           9,
           15,
           6
          ],
          [
           9,
           13,
           6
          ],
          [
           9,
           13,
           6
          ],
          [
           9,
           13,
           6
          ],
          [
           9,
           13,
           6
          ],
          [
           9,
           21,
           6
          ],
          [
           9,
           13,
           6
          ],
          [
           9,
           13,
           0
          ],
          [
           9,
           21,
           3
          ],
          [
           9,
           15,
           6
          ],
          [
           9,
           14,
           6
          ],
          [
           9,
           14,
           6
          ],
          [
           9,
           13,
           6
          ],
          [
           9,
           14,
           6
          ],
          [
           9,
           13,
           6
          ],
          [
           9,
           14,
           6
          ],
          [
           9,
           20,
           1
          ],
          [
           9,
           14,
           6
          ],
          [
           9,
           21,
           6
          ],
          [
           9,
           15,
           6
          ],
          [
           9,
           15,
           6
          ],
          [
           9,
           14,
           6
          ],
          [
           9,
           13,
           6
          ],
          [
           9,
           23,
           2
          ],
          [
           9,
           13,
           6
          ],
          [
           9,
           13,
           6
          ],
          [
           9,
           13,
           6
          ],
          [
           9,
           16,
           6
          ],
          [
           9,
           18,
           6
          ],
          [
           9,
           13,
           0
          ],
          [
           9,
           12,
           0
          ],
          [
           9,
           12,
           0
          ],
          [
           9,
           21,
           2
          ],
          [
           9,
           13,
           6
          ],
          [
           9,
           13,
           6
          ],
          [
           9,
           14,
           6
          ],
          [
           9,
           15,
           6
          ],
          [
           9,
           14,
           6
          ],
          [
           9,
           21,
           6
          ],
          [
           9,
           15,
           6
          ],
          [
           9,
           15,
           6
          ],
          [
           10,
           16,
           1
          ],
          [
           10,
           2,
           0
          ],
          [
           10,
           17,
           4
          ],
          [
           10,
           17,
           5
          ],
          [
           10,
           19,
           0
          ],
          [
           10,
           18,
           6
          ],
          [
           10,
           18,
           6
          ],
          [
           10,
           18,
           6
          ],
          [
           10,
           16,
           4
          ],
          [
           10,
           18,
           6
          ],
          [
           10,
           21,
           6
          ],
          [
           10,
           21,
           0
          ],
          [
           10,
           18,
           1
          ],
          [
           10,
           22,
           4
          ],
          [
           10,
           20,
           5
          ],
          [
           10,
           18,
           6
          ],
          [
           10,
           17,
           4
          ],
          [
           10,
           22,
           4
          ],
          [
           10,
           17,
           0
          ],
          [
           10,
           17,
           4
          ],
          [
           10,
           20,
           4
          ],
          [
           10,
           22,
           4
          ],
          [
           10,
           20,
           5
          ],
          [
           10,
           20,
           6
          ],
          [
           10,
           20,
           0
          ],
          [
           10,
           21,
           3
          ],
          [
           10,
           21,
           4
          ],
          [
           10,
           21,
           6
          ],
          [
           10,
           23,
           6
          ],
          [
           10,
           18,
           6
          ],
          [
           10,
           19,
           6
          ],
          [
           10,
           23,
           1
          ],
          [
           10,
           23,
           1
          ],
          [
           10,
           21,
           4
          ],
          [
           10,
           23,
           4
          ],
          [
           10,
           23,
           5
          ],
          [
           10,
           22,
           1
          ],
          [
           10,
           21,
           1
          ],
          [
           10,
           19,
           6
          ],
          [
           10,
           12,
           0
          ],
          [
           10,
           14,
           0
          ],
          [
           10,
           15,
           0
          ],
          [
           10,
           17,
           6
          ],
          [
           10,
           22,
           4
          ],
          [
           10,
           17,
           6
          ],
          [
           10,
           19,
           5
          ],
          [
           10,
           22,
           5
          ],
          [
           10,
           20,
           6
          ],
          [
           10,
           19,
           6
          ],
          [
           10,
           22,
           6
          ],
          [
           10,
           14,
           4
          ],
          [
           10,
           18,
           4
          ],
          [
           11,
           16,
           6
          ],
          [
           12,
           3,
           1
          ],
          [
           12,
           2,
           0
          ],
          [
           13,
           0,
           3
          ],
          [
           13,
           19,
           6
          ],
          [
           14,
           9,
           1
          ],
          [
           14,
           14,
           1
          ],
          [
           15,
           8,
           2
          ],
          [
           15,
           15,
           3
          ],
          [
           15,
           11,
           2
          ],
          [
           15,
           15,
           1
          ],
          [
           15,
           17,
           1
          ],
          [
           15,
           16,
           4
          ],
          [
           15,
           19,
           4
          ],
          [
           15,
           13,
           5
          ],
          [
           15,
           12,
           4
          ],
          [
           15,
           15,
           2
          ],
          [
           15,
           10,
           1
          ],
          [
           15,
           13,
           3
          ],
          [
           15,
           12,
           2
          ],
          [
           15,
           11,
           1
          ],
          [
           15,
           14,
           1
          ],
          [
           15,
           12,
           5
          ],
          [
           15,
           13,
           4
          ],
          [
           16,
           12,
           3
          ],
          [
           16,
           16,
           4
          ],
          [
           16,
           13,
           2
          ],
          [
           16,
           12,
           4
          ],
          [
           16,
           13,
           1
          ],
          [
           16,
           14,
           1
          ],
          [
           16,
           12,
           1
          ],
          [
           16,
           9,
           1
          ],
          [
           16,
           17,
           2
          ],
          [
           16,
           8,
           3
          ],
          [
           16,
           15,
           2
          ],
          [
           16,
           14,
           5
          ],
          [
           16,
           13,
           5
          ],
          [
           16,
           17,
           2
          ],
          [
           16,
           11,
           1
          ],
          [
           16,
           16,
           3
          ],
          [
           16,
           12,
           2
          ],
          [
           16,
           12,
           3
          ],
          [
           16,
           15,
           4
          ],
          [
           16,
           11,
           3
          ],
          [
           16,
           11,
           4
          ],
          [
           16,
           17,
           5
          ],
          [
           16,
           12,
           3
          ],
          [
           16,
           11,
           2
          ],
          [
           16,
           10,
           3
          ],
          [
           16,
           11,
           1
          ],
          [
           16,
           9,
           4
          ],
          [
           16,
           12,
           5
          ],
          [
           16,
           12,
           5
          ],
          [
           16,
           8,
           1
          ],
          [
           16,
           12,
           4
          ],
          [
           16,
           9,
           3
          ],
          [
           16,
           12,
           2
          ],
          [
           16,
           15,
           4
          ],
          [
           16,
           12,
           5
          ],
          [
           16,
           13,
           2
          ],
          [
           16,
           14,
           1
          ],
          [
           16,
           12,
           2
          ],
          [
           16,
           19,
           1
          ],
          [
           16,
           11,
           3
          ],
          [
           16,
           12,
           2
          ],
          [
           17,
           13,
           3
          ],
          [
           18,
           9,
           4
          ],
          [
           19,
           14,
           0
          ],
          [
           19,
           12,
           1
          ],
          [
           19,
           14,
           1
          ],
          [
           19,
           15,
           1
          ],
          [
           19,
           21,
           1
          ],
          [
           19,
           23,
           1
          ],
          [
           20,
           14,
           5
          ],
          [
           20,
           22,
           2
          ],
          [
           20,
           18,
           4
          ],
          [
           21,
           13,
           0
          ],
          [
           21,
           15,
           0
          ],
          [
           21,
           15,
           0
          ],
          [
           21,
           15,
           0
          ],
          [
           21,
           14,
           0
          ],
          [
           22,
           22,
           2
          ],
          [
           23,
           14,
           1
          ],
          [
           23,
           18,
           4
          ],
          [
           23,
           20,
           4
          ],
          [
           24,
           17,
           4
          ],
          [
           25,
           11,
           6
          ],
          [
           25,
           11,
           6
          ],
          [
           25,
           20,
           1
          ],
          [
           25,
           12,
           2
          ],
          [
           25,
           11,
           6
          ],
          [
           25,
           21,
           1
          ],
          [
           25,
           18,
           4
          ],
          [
           25,
           19,
           4
          ],
          [
           25,
           17,
           3
          ],
          [
           25,
           11,
           6
          ],
          [
           25,
           11,
           1
          ],
          [
           25,
           17,
           4
          ],
          [
           25,
           16,
           0
          ],
          [
           25,
           18,
           0
          ],
          [
           25,
           11,
           6
          ],
          [
           25,
           19,
           4
          ],
          [
           25,
           11,
           6
          ],
          [
           25,
           18,
           0
          ],
          [
           25,
           9,
           6
          ],
          [
           26,
           17,
           6
          ],
          [
           26,
           16,
           1
          ],
          [
           26,
           18,
           0
          ],
          [
           26,
           18,
           0
          ],
          [
           26,
           23,
           1
          ],
          [
           26,
           16,
           1
          ],
          [
           27,
           14,
           6
          ],
          [
           28,
           19,
           4
          ],
          [
           28,
           17,
           0
          ],
          [
           29,
           18,
           5
          ],
          [
           29,
           14,
           3
          ],
          [
           29,
           15,
           3
          ],
          [
           29,
           14,
           6
          ],
          [
           30,
           18,
           0
          ],
          [
           31,
           17,
           5
          ],
          [
           31,
           16,
           4
          ],
          [
           31,
           16,
           0
          ],
          [
           31,
           21,
           2
          ],
          [
           31,
           20,
           0
          ],
          [
           31,
           21,
           5
          ],
          [
           31,
           17,
           3
          ],
          [
           31,
           16,
           1
          ],
          [
           31,
           21,
           6
          ],
          [
           32,
           15,
           6
          ],
          [
           32,
           18,
           0
          ],
          [
           32,
           20,
           3
          ],
          [
           32,
           17,
           1
          ],
          [
           32,
           12,
           3
          ],
          [
           32,
           16,
           1
          ],
          [
           33,
           16,
           0
          ],
          [
           33,
           14,
           6
          ],
          [
           34,
           2,
           6
          ],
          [
           35,
           12,
           0
          ],
          [
           35,
           20,
           1
          ],
          [
           35,
           20,
           1
          ],
          [
           36,
           20,
           1
          ],
          [
           37,
           19,
           4
          ],
          [
           38,
           14,
           6
          ],
          [
           38,
           17,
           6
          ],
          [
           38,
           13,
           6
          ],
          [
           38,
           12,
           0
          ],
          [
           38,
           14,
           6
          ],
          [
           38,
           13,
           0
          ],
          [
           39,
           22,
           1
          ],
          [
           39,
           22,
           0
          ],
          [
           39,
           18,
           5
          ],
          [
           39,
           21,
           0
          ],
          [
           39,
           21,
           1
          ],
          [
           39,
           20,
           4
          ],
          [
           39,
           21,
           4
          ],
          [
           39,
           22,
           4
          ],
          [
           39,
           23,
           4
          ],
          [
           40,
           19,
           1
          ],
          [
           40,
           20,
           1
          ],
          [
           40,
           20,
           4
          ],
          [
           40,
           18,
           4
          ],
          [
           40,
           18,
           3
          ],
          [
           40,
           12,
           1
          ],
          [
           41,
           19,
           5
          ],
          [
           42,
           13,
           0
          ],
          [
           43,
           15,
           0
          ],
          [
           43,
           20,
           6
          ],
          [
           43,
           20,
           6
          ],
          [
           43,
           22,
           6
          ],
          [
           43,
           16,
           0
          ],
          [
           44,
           19,
           1
          ],
          [
           45,
           19,
           4
          ],
          [
           45,
           12,
           5
          ],
          [
           46,
           17,
           5
          ],
          [
           47,
           18,
           5
          ],
          [
           48,
           21,
           5
          ],
          [
           49,
           0,
           6
          ],
          [
           50,
           17,
           6
          ],
          [
           51,
           3,
           0
          ],
          [
           51,
           19,
           6
          ],
          [
           51,
           19,
           6
          ],
          [
           52,
           22,
           0
          ],
          [
           53,
           13,
           5
          ],
          [
           53,
           13,
           5
          ],
          [
           53,
           11,
           0
          ],
          [
           53,
           11,
           6
          ],
          [
           54,
           12,
           2
          ],
          [
           54,
           11,
           0
          ],
          [
           54,
           12,
           2
          ],
          [
           55,
           11,
           0
          ],
          [
           55,
           19,
           3
          ],
          [
           56,
           13,
           4
          ],
          [
           57,
           12,
           0
          ],
          [
           58,
           20,
           2
          ],
          [
           58,
           20,
           2
          ],
          [
           59,
           12,
           3
          ],
          [
           59,
           16,
           1
          ],
          [
           59,
           12,
           5
          ],
          [
           60,
           16,
           0
          ],
          [
           61,
           11,
           1
          ],
          [
           62,
           14,
           2
          ],
          [
           63,
           18,
           4
          ],
          [
           63,
           20,
           4
          ],
          [
           63,
           15,
           5
          ],
          [
           63,
           16,
           4
          ],
          [
           64,
           7,
           3
          ],
          [
           65,
           12,
           5
          ],
          [
           65,
           12,
           3
          ],
          [
           66,
           16,
           2
          ],
          [
           67,
           15,
           3
          ],
          [
           68,
           17,
           5
          ],
          [
           69,
           19,
           4
          ],
          [
           70,
           16,
           1
          ],
          [
           71,
           0,
           2
          ],
          [
           71,
           0,
           6
          ],
          [
           71,
           23,
           6
          ],
          [
           71,
           23,
           5
          ],
          [
           71,
           23,
           6
          ],
          [
           71,
           0,
           2
          ],
          [
           71,
           0,
           0
          ],
          [
           71,
           22,
           4
          ],
          [
           71,
           20,
           5
          ],
          [
           71,
           21,
           6
          ],
          [
           71,
           0,
           2
          ],
          [
           71,
           22,
           5
          ],
          [
           71,
           21,
           6
          ],
          [
           71,
           23,
           6
          ],
          [
           72,
           16,
           6
          ],
          [
           72,
           19,
           1
          ],
          [
           73,
           11,
           1
          ],
          [
           73,
           21,
           6
          ],
          [
           73,
           13,
           5
          ],
          [
           73,
           21,
           1
          ],
          [
           73,
           21,
           2
          ],
          [
           73,
           21,
           4
          ],
          [
           73,
           15,
           0
          ],
          [
           73,
           16,
           3
          ],
          [
           73,
           16,
           5
          ],
          [
           73,
           8,
           1
          ],
          [
           73,
           13,
           2
          ],
          [
           73,
           21,
           2
          ],
          [
           73,
           22,
           4
          ],
          [
           73,
           16,
           1
          ],
          [
           73,
           15,
           5
          ],
          [
           73,
           21,
           6
          ],
          [
           73,
           12,
           0
          ],
          [
           73,
           21,
           1
          ],
          [
           73,
           21,
           5
          ],
          [
           73,
           19,
           1
          ],
          [
           73,
           21,
           1
          ],
          [
           73,
           22,
           2
          ],
          [
           73,
           21,
           4
          ],
          [
           74,
           17,
           2
          ],
          [
           75,
           18,
           4
          ],
          [
           76,
           20,
           4
          ],
          [
           76,
           17,
           3
          ],
          [
           77,
           20,
           4
          ],
          [
           77,
           14,
           6
          ],
          [
           78,
           14,
           0
          ],
          [
           79,
           18,
           4
          ],
          [
           79,
           13,
           5
          ],
          [
           79,
           13,
           5
          ],
          [
           79,
           17,
           2
          ],
          [
           80,
           13,
           2
          ],
          [
           80,
           12,
           0
          ],
          [
           80,
           18,
           4
          ],
          [
           81,
           19,
           4
          ],
          [
           82,
           23,
           6
          ],
          [
           83,
           13,
           3
          ],
          [
           83,
           9,
           1
          ],
          [
           83,
           13,
           3
          ],
          [
           84,
           0,
           1
          ],
          [
           85,
           18,
           1
          ],
          [
           85,
           19,
           4
          ],
          [
           85,
           19,
           1
          ],
          [
           85,
           20,
           4
          ],
          [
           85,
           20,
           4
          ],
          [
           85,
           19,
           3
          ],
          [
           85,
           1,
           5
          ],
          [
           86,
           10,
           3
          ],
          [
           86,
           9,
           1
          ],
          [
           87,
           19,
           3
          ],
          [
           88,
           9,
           4
          ],
          [
           89,
           12,
           5
          ],
          [
           90,
           17,
           3
          ],
          [
           90,
           17,
           4
          ],
          [
           90,
           18,
           4
          ],
          [
           90,
           20,
           4
          ],
          [
           90,
           21,
           0
          ],
          [
           90,
           0,
           6
          ],
          [
           91,
           21,
           3
          ],
          [
           92,
           12,
           5
          ],
          [
           92,
           13,
           1
          ],
          [
           92,
           12,
           2
          ],
          [
           92,
           13,
           3
          ],
          [
           93,
           10,
           6
          ],
          [
           93,
           19,
           6
          ],
          [
           93,
           19,
           6
          ],
          [
           94,
           23,
           6
          ],
          [
           95,
           17,
           1
          ],
          [
           95,
           18,
           6
          ],
          [
           96,
           15,
           2
          ],
          [
           97,
           17,
           4
          ],
          [
           98,
           19,
           4
          ],
          [
           99,
           20,
           3
          ],
          [
           100,
           4,
           0
          ],
          [
           101,
           11,
           6
          ],
          [
           102,
           17,
           0
          ],
          [
           103,
           17,
           1
          ],
          [
           103,
           17,
           2
          ],
          [
           103,
           7,
           3
          ],
          [
           104,
           18,
           3
          ],
          [
           105,
           17,
           4
          ],
          [
           105,
           16,
           2
          ],
          [
           106,
           16,
           3
          ],
          [
           106,
           16,
           4
          ],
          [
           106,
           16,
           1
          ],
          [
           107,
           9,
           5
          ],
          [
           107,
           11,
           2
          ],
          [
           108,
           12,
           3
          ],
          [
           109,
           14,
           5
          ],
          [
           110,
           12,
           1
          ],
          [
           110,
           12,
           5
          ],
          [
           110,
           21,
           5
          ],
          [
           110,
           12,
           0
          ],
          [
           110,
           21,
           0
          ],
          [
           110,
           21,
           6
          ],
          [
           110,
           16,
           2
          ],
          [
           110,
           21,
           3
          ],
          [
           110,
           21,
           3
          ],
          [
           110,
           14,
           5
          ],
          [
           111,
           17,
           3
          ],
          [
           112,
           18,
           3
          ],
          [
           113,
           14,
           4
          ],
          [
           113,
           15,
           4
          ],
          [
           114,
           5,
           1
          ],
          [
           115,
           20,
           6
          ],
          [
           116,
           14,
           3
          ],
          [
           117,
           16,
           0
          ],
          [
           118,
           16,
           2
          ],
          [
           118,
           21,
           2
          ],
          [
           119,
           0,
           4
          ]
         ],
         "hoverlabel": {
          "namelength": 0
         },
         "hovertemplate": "region=%{marker.color}<br>hourofday=%{customdata[1]}<br>weekday=%{customdata[2]}<br>latitude=%{lat}<br>longitude=%{lon}",
         "lat": [
          59.31426096,
          59.3136887,
          59.31426096,
          59.3136,
          59.3136,
          59.31431403,
          59.31426096,
          59.31431403,
          59.31426096,
          59.31426096,
          59.31426096,
          59.3136887,
          59.31426096,
          59.31426096,
          59.31426096,
          59.31426096,
          59.3136887,
          59.31426096,
          59.3136887,
          59.31426096,
          59.3136887,
          59.31426096,
          59.31426096,
          59.31426096,
          59.31426096,
          59.31426096,
          59.31426096,
          59.31426096,
          59.31426096,
          59.31412544,
          59.31426096,
          59.31426096,
          59.31426096,
          59.3136887,
          59.3136887,
          59.31426096,
          59.31426096,
          59.31426096,
          59.31426096,
          59.314165,
          59.31426096,
          59.31426096,
          59.31426096,
          59.31426096,
          59.31426096,
          59.31426096,
          59.3136887,
          59.31426096,
          59.31426096,
          59.31403462,
          59.31426096,
          59.3136887,
          59.3136887,
          59.31426096,
          59.31444444,
          59.31426096,
          59.315259999999995,
          59.31426096,
          59.31412544,
          59.31426096,
          59.3136887,
          59.3136887,
          59.31426096,
          59.3136887,
          59.3136887,
          59.31426096,
          59.3136887,
          59.31412544,
          59.31426096,
          59.31426096,
          59.3136887,
          59.31412544,
          59.31426096,
          59.31426096,
          59.3136,
          59.3136887,
          59.31426096,
          59.31420975,
          59.31426096,
          59.3136,
          59.31420975,
          59.31426096,
          59.3136042,
          59.31426096,
          59.31426096,
          59.31420975,
          59.3136042,
          59.31426096,
          59.31426096,
          59.31426096,
          59.31412452,
          59.3136042,
          59.31426096,
          59.31426096,
          59.3136042,
          59.31420975,
          59.31498709,
          59.3136042,
          59.31426096,
          59.31426096,
          59.3136042,
          59.31426096,
          59.31426096,
          59.31426096,
          59.313576,
          59.31426096,
          59.3136,
          59.31426096,
          59.3136042,
          59.3136042,
          59.31426096,
          59.31426096,
          59.3136042,
          59.3136042,
          59.31426096,
          59.3136042,
          59.3136042,
          59.31426096,
          59.31426096,
          59.31426096,
          59.31412452,
          59.31426096,
          59.31426096,
          59.3136042,
          59.31438086,
          59.31426096,
          59.31426096,
          59.31426096,
          59.31426096,
          59.31426096,
          59.3136042,
          59.31426096,
          59.3136042,
          59.3136,
          59.31426096,
          59.31426096,
          59.31426096,
          59.314659999999996,
          59.31426096,
          59.31426096,
          59.31426096,
          59.31426096,
          59.3136,
          59.31426096,
          59.31426096,
          59.3136042,
          59.31426096,
          59.31426096,
          59.3136042,
          59.31426096,
          59.31426096,
          59.31420975,
          59.31426096,
          59.31426096,
          59.31403462,
          59.31426096,
          59.31426096,
          59.3136,
          59.31426096,
          59.31433231,
          59.31320794,
          59.31426096,
          59.3136042,
          59.31403462,
          59.31403462,
          59.31426096,
          59.31426096,
          59.3136042,
          59.3136042,
          59.31426096,
          59.3136,
          59.31426096,
          59.3136042,
          59.3136042,
          59.31426096,
          59.31426096,
          59.3136042,
          59.31426096,
          59.31525805,
          59.31426096,
          59.31320794,
          59.31426096,
          59.31426096,
          59.31426096,
          59.31426096,
          59.31426096,
          59.31426096,
          59.31426096,
          59.31426096,
          59.31426096,
          59.3136042,
          59.31426096,
          59.31426096,
          59.3136042,
          59.31426096,
          59.3136042,
          59.3136042,
          59.3136042,
          59.31426096,
          59.31426096,
          59.31426096,
          59.31426096,
          59.31420975,
          59.31403462,
          59.3136042,
          59.3136042,
          59.3136042,
          59.31426096,
          59.31426096,
          59.3136042,
          59.31426096,
          59.3136042,
          59.31426096,
          59.31426096,
          59.31426096,
          59.31426096,
          59.31426096,
          59.31426096,
          59.31426096,
          59.3136042,
          59.3136042,
          59.31426096,
          59.31412452,
          59.31426096,
          59.31426096,
          59.31426096,
          59.31426096,
          59.3136042,
          59.31426096,
          59.31426096,
          59.31426096,
          59.31426096,
          59.3136042,
          59.31426096,
          59.31426096,
          59.31426096,
          59.31426096,
          59.3136042,
          59.31426096,
          59.31426096,
          59.31426096,
          59.3136042,
          59.31426096,
          59.31426096,
          59.31426096,
          59.3145,
          59.31426096,
          59.31426096,
          59.3136042,
          59.31426096,
          59.31363846,
          59.31426096,
          59.31426096,
          59.31363846,
          59.31426096,
          59.31426096,
          59.314537,
          59.31363846,
          59.31426096,
          59.31426096,
          59.31426096,
          59.31426096,
          59.31426096,
          59.31426096,
          59.31426096,
          59.31426096,
          59.31363846,
          59.31426096,
          59.3136042,
          59.31426096,
          59.31426096,
          59.31426096,
          59.31426096,
          59.31426096,
          59.31426096,
          59.31426096,
          59.31426096,
          59.31426096,
          59.31426096,
          59.3136042,
          59.31426096,
          59.3136042,
          59.31426096,
          59.3136042,
          59.31426096,
          59.31435753,
          59.31426096,
          59.31426096,
          59.31420975,
          59.314721999999996,
          59.3136042,
          59.3136042,
          59.31426096,
          59.31426096,
          59.3136042,
          59.31426096,
          59.3685,
          59.33328258,
          59.33402449,
          59.36456999999999,
          59.36456999999999,
          59.36456999999999,
          59.36456999999999,
          59.36456999999999,
          59.36456999999999,
          59.36456999999999,
          59.36456999999999,
          59.36456999999999,
          59.36456999999999,
          59.36456999999999,
          59.36456999999999,
          59.36456999999999,
          59.36456999999999,
          59.36456999999999,
          59.36456999999999,
          59.36456999999999,
          59.36456999999999,
          59.36456999999999,
          59.36456999999999,
          59.36456999999999,
          59.36456999999999,
          59.36456999999999,
          59.36456999999999,
          59.364491,
          59.364491,
          59.36456999999999,
          59.36456999999999,
          59.36456999999999,
          59.36456999999999,
          59.36456999999999,
          59.364491,
          59.364491,
          59.36456999999999,
          59.36456999999999,
          59.364491,
          59.364491,
          59.364491,
          59.364491,
          59.364491,
          59.364491,
          59.311859999999996,
          59.267619999999994,
          59.267619999999994,
          59.267157999999995,
          59.267157999999995,
          59.267157999999995,
          59.267157999999995,
          59.267157999999995,
          59.332440000000005,
          59.332440000000005,
          59.331823,
          59.33266,
          59.33448582,
          59.33448582,
          59.33448582,
          59.33448582,
          59.33448582,
          59.33448582,
          59.33448582,
          59.33448582,
          59.33448582,
          59.33448582,
          59.33448582,
          59.33476999999999,
          59.33476999999999,
          59.33476999999999,
          59.33476999999999,
          59.33476999999999,
          59.33476999999999,
          59.33476999999999,
          59.33476999999999,
          59.33476999999999,
          59.33476999999999,
          59.33476999999999,
          59.33476999999999,
          59.34313992,
          59.343320999999996,
          59.343320999999996,
          59.343320999999996,
          59.343320999999996,
          59.343320999999996,
          59.343320999999996,
          59.343320999999996,
          59.343320999999996,
          59.343320999999996,
          59.343320999999996,
          59.343320999999996,
          59.343320999999996,
          59.343320999999996,
          59.343320999999996,
          59.343320999999996,
          59.343320999999996,
          59.343320999999996,
          59.343320999999996,
          59.343320999999996,
          59.343320999999996,
          59.343320999999996,
          59.343320999999996,
          59.343320999999996,
          59.343320999999996,
          59.343320999999996,
          59.343320999999996,
          59.343320999999996,
          59.343320999999996,
          59.343320999999996,
          59.343320999999996,
          59.343320999999996,
          59.343320999999996,
          59.343320999999996,
          59.34305210000001,
          59.34305210000001,
          59.34305210000001,
          59.34305210000001,
          59.34305210000001,
          59.34305210000001,
          59.34305210000001,
          59.34305210000001,
          59.34305210000001,
          59.34305210000001,
          59.34305210000001,
          59.34305210000001,
          59.34305210000001,
          59.34305210000001,
          59.34305210000001,
          59.34305210000001,
          59.34305210000001,
          59.34305210000001,
          59.34305210000001,
          59.34305210000001,
          59.34291999999999,
          59.34291999999999,
          59.34291999999999,
          59.34291999999999,
          59.34291999999999,
          59.34291999999999,
          59.342980000000004,
          59.342980000000004,
          59.342980000000004,
          59.342980000000004,
          59.342980000000004,
          59.342980000000004,
          59.342980000000004,
          59.342980000000004,
          59.342980000000004,
          59.342980000000004,
          59.342980000000004,
          59.342980000000004,
          59.342980000000004,
          59.342980000000004,
          59.342980000000004,
          59.342980000000004,
          59.342980000000004,
          59.342980000000004,
          59.342980000000004,
          59.342980000000004,
          59.342980000000004,
          59.342980000000004,
          59.342980000000004,
          59.342980000000004,
          59.342980000000004,
          59.342980000000004,
          59.32355937,
          59.32355937,
          59.32319141,
          59.32355937,
          59.32355937,
          59.32355937,
          59.32355937,
          59.32355937,
          59.32355937,
          59.32355937,
          59.32355937,
          59.32355937,
          59.32355937,
          59.32355937,
          59.32355937,
          59.32355937,
          59.32355937,
          59.32355937,
          59.32355937,
          59.32348,
          59.32355937,
          59.32355937,
          59.32348,
          59.32348,
          59.32355937,
          59.32348,
          59.32348,
          59.32319141,
          59.32355937,
          59.32384244,
          59.32362454,
          59.32355937,
          59.32355937,
          59.32355937,
          59.32355937,
          59.32355937,
          59.32355937,
          59.32355937,
          59.32355937,
          59.32355937,
          59.32355937,
          59.32355937,
          59.32355937,
          59.32355937,
          59.32355937,
          59.32355937,
          59.32355937,
          59.32355937,
          59.32355937,
          59.32355937,
          59.32355937,
          59.32355937,
          59.32095054,
          59.29176999999999,
          59.29176999999999,
          59.314870299999995,
          59.31474,
          59.34876293,
          59.34876293,
          59.217780000000005,
          59.21909812,
          59.21932066,
          59.217780000000005,
          59.21932066,
          59.21932066,
          59.21944444,
          59.217780000000005,
          59.217780000000005,
          59.21855503,
          59.21932066,
          59.21855503,
          59.21925,
          59.21925,
          59.21945,
          59.21855829,
          59.21855829,
          59.22078204,
          59.22078204,
          59.22078204,
          59.22078204,
          59.22078204,
          59.22078204,
          59.22078204,
          59.22078204,
          59.22078204,
          59.22078204,
          59.22078204,
          59.22078204,
          59.22078204,
          59.22078204,
          59.22078204,
          59.22078204,
          59.22078204,
          59.22078204,
          59.22078204,
          59.22078204,
          59.22065402,
          59.22065402,
          59.22065402,
          59.22079818,
          59.22079818,
          59.22079818,
          59.22079818,
          59.22079818,
          59.22079818,
          59.22079818,
          59.22079818,
          59.22079818,
          59.22079818,
          59.22079818,
          59.22079818,
          59.22079818,
          59.22079818,
          59.22079818,
          59.22079818,
          59.22079818,
          59.22079818,
          59.26333218,
          59.48609636,
          59.4667,
          59.4667,
          59.4667,
          59.4667,
          59.4667,
          59.4667,
          59.317609999999995,
          59.317609999999995,
          59.317609999999995,
          59.315290000000005,
          59.315290000000005,
          59.315290000000005,
          59.315290000000005,
          59.31543793,
          59.36389486,
          59.3634682,
          59.363471,
          59.363471,
          59.34696216,
          59.34166178,
          59.34166178,
          59.34166178,
          59.34166178,
          59.34166178,
          59.341680000000004,
          59.341680000000004,
          59.341680000000004,
          59.341680000000004,
          59.341680000000004,
          59.341680000000004,
          59.341680000000004,
          59.341680000000004,
          59.341680000000004,
          59.341680000000004,
          59.341680000000004,
          59.341680000000004,
          59.341680000000004,
          59.341680000000004,
          59.339442000000005,
          59.339569999999995,
          59.339569999999995,
          59.339569999999995,
          59.339569999999995,
          59.339569999999995,
          59.40073072,
          59.44220276,
          59.442184999999995,
          59.33653,
          59.33644,
          59.33646904,
          59.33646904,
          59.32169373,
          59.31206825,
          59.31206825,
          59.31221504,
          59.31206825,
          59.31204,
          59.31204,
          59.31204,
          59.31204,
          59.31204,
          59.36239896,
          59.36239896,
          59.362364,
          59.362364,
          59.362364,
          59.362364,
          59.3325,
          59.33201,
          59.29909256,
          59.311120200000005,
          59.310334,
          59.310334,
          59.31035859,
          59.32257389,
          59.32366529,
          59.32366529,
          59.32366529,
          59.32366529,
          59.32366529,
          59.32366529,
          59.32535178,
          59.32535178,
          59.32535178,
          59.32535178,
          59.32535178,
          59.32535178,
          59.32535178,
          59.32535178,
          59.32535178,
          59.24122,
          59.24122,
          59.241775,
          59.241775,
          59.241775,
          59.24131275,
          59.37193526,
          59.31416667,
          59.32190343,
          59.32190343,
          59.32190343,
          59.32190343,
          59.32197026,
          59.30564204,
          59.33348,
          59.33348,
          59.30019920000001,
          59.65166574,
          52.30908793,
          52.37296542,
          52.31561961,
          52.31430875,
          52.31416667,
          52.31416667,
          59.45911559,
          59.34639599,
          59.34639599,
          59.346123999999996,
          59.346123999999996,
          59.40192,
          59.402079,
          59.40192,
          59.315911,
          59.315911,
          59.21010512,
          59.369347999999995,
          59.3667,
          59.3667,
          59.22231,
          59.22231,
          59.22231,
          59.444811,
          59.285,
          59.27555556,
          59.28549209,
          59.28549209,
          59.28549209,
          59.28549209,
          59.29833299999999,
          59.352565399999996,
          59.352565399999996,
          59.28333333,
          59.3246439,
          59.34028000000001,
          59.40306012,
          59.36166,
          59.3129659,
          59.3129659,
          59.3129659,
          59.3129659,
          59.3129659,
          59.3129659,
          59.3129659,
          59.3129659,
          59.3129659,
          59.3129659,
          59.3129659,
          59.3129659,
          59.3129659,
          59.3129659,
          59.321111,
          59.321111,
          59.3090821,
          59.30958879,
          59.30958879,
          59.30958879,
          59.30958879,
          59.30958879,
          59.30958879,
          59.30958879,
          59.30958879,
          59.30958879,
          59.30958879,
          59.30958879,
          59.30958879,
          59.30958879,
          59.30958879,
          59.30958879,
          59.30958879,
          59.30958879,
          59.30958879,
          59.30958879,
          59.30958879,
          59.30958879,
          59.30958879,
          59.34742177,
          59.33225899999999,
          59.24293082,
          59.24293082,
          59.33661,
          59.33661,
          59.31886592,
          59.2943902,
          59.2943902,
          59.2943902,
          59.2943902,
          59.24286046,
          59.24257071,
          59.24257071,
          59.28099139,
          59.31243455,
          59.33246379999999,
          59.33166667,
          59.33246379999999,
          52.3777,
          59.1757,
          59.1757,
          59.1757,
          59.1757,
          59.1757,
          59.1757,
          59.1757,
          59.33151721,
          59.3318095,
          56.04320421,
          52.31666667,
          51.0833,
          51.08593048,
          51.08593048,
          51.08593048,
          51.08593048,
          51.08593048,
          51.08593048,
          51.0921982,
          59.33435,
          59.33435,
          59.33435,
          59.33435,
          59.342778,
          59.342778,
          59.342778,
          59.363889,
          59.30485375,
          59.30485375,
          59.3454134,
          59.37116684,
          59.29975,
          59.30529,
          59.2833,
          59.34526999999999,
          59.316990000000004,
          59.38641804,
          59.38641804,
          59.38641804,
          59.30348718,
          58.95,
          58.95,
          59.290240000000004,
          59.290165,
          59.290165,
          59.31406666,
          59.31406666,
          59.34069531,
          59.31691927,
          59.3917989,
          59.3917989,
          59.3917989,
          59.3917989,
          59.3917989,
          59.3917989,
          59.3917989,
          59.3917989,
          59.3917989,
          59.3917989,
          59.31014519,
          59.3102,
          59.33571,
          59.33571,
          59.3307,
          59.3,
          59.3091507,
          59.29285732,
          59.303259999999995,
          59.303259999999995,
          59.31788358
         ],
         "legendgroup": "",
         "lon": [
          18.07653494,
          18.07559847,
          18.07653494,
          18.0711,
          18.0711,
          18.07361333,
          18.07653494,
          18.07361333,
          18.07653494,
          18.07653494,
          18.07653494,
          18.07559847,
          18.07653494,
          18.07653494,
          18.07653494,
          18.07653494,
          18.07559847,
          18.07653494,
          18.07559847,
          18.07653494,
          18.07559847,
          18.07653494,
          18.07653494,
          18.07653494,
          18.07653494,
          18.07653494,
          18.07653494,
          18.07653494,
          18.07653494,
          18.07649863,
          18.07653494,
          18.07653494,
          18.07653494,
          18.07559847,
          18.07559847,
          18.07653494,
          18.07653494,
          18.07653494,
          18.07653494,
          18.07096894,
          18.07653494,
          18.07653494,
          18.07653494,
          18.07653494,
          18.07653494,
          18.07653494,
          18.07559847,
          18.07653494,
          18.07653494,
          18.07541693,
          18.07653494,
          18.07559847,
          18.07559847,
          18.07653494,
          18.07222222,
          18.07653494,
          18.07209,
          18.07653494,
          18.07649863,
          18.07653494,
          18.07559847,
          18.07559847,
          18.07653494,
          18.07559847,
          18.07559847,
          18.07653494,
          18.07559847,
          18.07649863,
          18.07653494,
          18.07653494,
          18.07559847,
          18.07649863,
          18.07653494,
          18.07653494,
          18.0711,
          18.07559847,
          18.07653494,
          18.07650859,
          18.07653494,
          18.0711,
          18.07650859,
          18.07653494,
          18.0756146,
          18.07653494,
          18.07653494,
          18.07650859,
          18.0756146,
          18.07653494,
          18.07653494,
          18.07653494,
          18.07540102,
          18.0756146,
          18.07653494,
          18.07653494,
          18.0756146,
          18.07650859,
          18.07209975,
          18.0756146,
          18.07653494,
          18.07653494,
          18.0756146,
          18.07653494,
          18.07653494,
          18.07653494,
          18.07558,
          18.07653494,
          18.0711,
          18.07653494,
          18.0756146,
          18.0756146,
          18.07653494,
          18.07653494,
          18.0756146,
          18.0756146,
          18.07653494,
          18.0756146,
          18.0756146,
          18.07653494,
          18.07653494,
          18.07653494,
          18.07540102,
          18.07653494,
          18.07653494,
          18.0756146,
          18.07538173,
          18.07653494,
          18.07653494,
          18.07653494,
          18.07653494,
          18.07653494,
          18.0756146,
          18.07653494,
          18.0756146,
          18.0711,
          18.07653494,
          18.07653494,
          18.07653494,
          18.07113,
          18.07653494,
          18.07653494,
          18.07653494,
          18.07653494,
          18.0711,
          18.07653494,
          18.07653494,
          18.0756146,
          18.07653494,
          18.07653494,
          18.0756146,
          18.07653494,
          18.07653494,
          18.07650859,
          18.07653494,
          18.07653494,
          18.07541693,
          18.07653494,
          18.07653494,
          18.0711,
          18.07653494,
          18.07532044,
          18.07583618,
          18.07653494,
          18.0756146,
          18.07541693,
          18.07541693,
          18.07653494,
          18.07653494,
          18.0756146,
          18.0756146,
          18.07653494,
          18.0711,
          18.07653494,
          18.0756146,
          18.0756146,
          18.07653494,
          18.07653494,
          18.0756146,
          18.07653494,
          18.07238514,
          18.07653494,
          18.07583618,
          18.07653494,
          18.07653494,
          18.07653494,
          18.07653494,
          18.07653494,
          18.07653494,
          18.07653494,
          18.07653494,
          18.07653494,
          18.0756146,
          18.07653494,
          18.07653494,
          18.0756146,
          18.07653494,
          18.0756146,
          18.0756146,
          18.0756146,
          18.07653494,
          18.07653494,
          18.07653494,
          18.07653494,
          18.07650859,
          18.07541693,
          18.0756146,
          18.0756146,
          18.0756146,
          18.07653494,
          18.07653494,
          18.0756146,
          18.07653494,
          18.0756146,
          18.07653494,
          18.07653494,
          18.07653494,
          18.07653494,
          18.07653494,
          18.07653494,
          18.07653494,
          18.0756146,
          18.0756146,
          18.07653494,
          18.07540102,
          18.07653494,
          18.07653494,
          18.07653494,
          18.07653494,
          18.0756146,
          18.07653494,
          18.07653494,
          18.07653494,
          18.07653494,
          18.0756146,
          18.07653494,
          18.07653494,
          18.07653494,
          18.07653494,
          18.0756146,
          18.07653494,
          18.07653494,
          18.07653494,
          18.0756146,
          18.07653494,
          18.07653494,
          18.07653494,
          18.07535,
          18.07653494,
          18.07653494,
          18.0756146,
          18.07653494,
          18.0756641,
          18.07653494,
          18.07653494,
          18.0756641,
          18.07653494,
          18.07653494,
          18.074901999999998,
          18.0756641,
          18.07653494,
          18.07653494,
          18.07653494,
          18.07653494,
          18.07653494,
          18.07653494,
          18.07653494,
          18.07653494,
          18.0756641,
          18.07653494,
          18.0756146,
          18.07653494,
          18.07653494,
          18.07653494,
          18.07653494,
          18.07653494,
          18.07653494,
          18.07653494,
          18.07653494,
          18.07653494,
          18.07653494,
          18.0756146,
          18.07653494,
          18.0756146,
          18.07653494,
          18.0756146,
          18.07653494,
          18.07536549,
          18.07653494,
          18.07653494,
          18.07650859,
          18.071944000000002,
          18.0756146,
          18.0756146,
          18.07653494,
          18.07653494,
          18.0756146,
          18.07653494,
          17.96702,
          18.06781588,
          18.06735903,
          17.97493,
          17.97493,
          17.97493,
          17.97493,
          17.97493,
          17.97493,
          17.97493,
          17.97493,
          17.97493,
          17.97493,
          17.97493,
          17.97493,
          17.97493,
          17.97493,
          17.97493,
          17.97493,
          17.97493,
          17.97493,
          17.97493,
          17.97493,
          17.97493,
          17.97493,
          17.97493,
          17.97493,
          17.975158999999998,
          17.975158999999998,
          17.97493,
          17.97493,
          17.97493,
          17.97493,
          17.97493,
          17.975158999999998,
          17.975158999999998,
          17.97493,
          17.97493,
          17.975158999999998,
          17.975158999999998,
          17.975158999999998,
          17.975158999999998,
          17.975158999999998,
          17.975158999999998,
          18.05745,
          17.91003,
          17.91003,
          17.910421,
          17.910421,
          17.910421,
          17.910421,
          17.910421,
          18.06718,
          18.06718,
          18.067001,
          18.066226999999998,
          18.06427381,
          18.06427381,
          18.06427381,
          18.06427381,
          18.06427381,
          18.06427381,
          18.06427381,
          18.06427381,
          18.06427381,
          18.06427381,
          18.06427381,
          18.06469,
          18.06469,
          18.06469,
          18.06469,
          18.06469,
          18.06469,
          18.06469,
          18.06469,
          18.06469,
          18.06469,
          18.06469,
          18.06469,
          18.08549566,
          18.085726,
          18.085726,
          18.085726,
          18.085726,
          18.085726,
          18.085726,
          18.085726,
          18.085726,
          18.085726,
          18.085726,
          18.085726,
          18.085726,
          18.085726,
          18.085726,
          18.085726,
          18.085726,
          18.085726,
          18.085726,
          18.085726,
          18.085726,
          18.085726,
          18.085726,
          18.085726,
          18.085726,
          18.085726,
          18.085726,
          18.085726,
          18.085726,
          18.085726,
          18.085726,
          18.085726,
          18.085726,
          18.085726,
          18.05174887,
          18.05174887,
          18.05174887,
          18.05174887,
          18.05174887,
          18.05174887,
          18.05174887,
          18.05174887,
          18.05174887,
          18.05174887,
          18.05174887,
          18.05174887,
          18.05174887,
          18.05174887,
          18.05174887,
          18.05174887,
          18.05174887,
          18.05174887,
          18.05174887,
          18.05174887,
          18.052042,
          18.052042,
          18.052042,
          18.052042,
          18.052042,
          18.052042,
          18.052020000000002,
          18.052020000000002,
          18.052020000000002,
          18.052020000000002,
          18.052020000000002,
          18.052020000000002,
          18.052020000000002,
          18.052020000000002,
          18.052020000000002,
          18.052020000000002,
          18.052020000000002,
          18.052020000000002,
          18.052020000000002,
          18.052020000000002,
          18.052020000000002,
          18.052020000000002,
          18.052020000000002,
          18.052020000000002,
          18.052020000000002,
          18.052020000000002,
          18.052020000000002,
          18.052020000000002,
          18.052020000000002,
          18.052020000000002,
          18.052020000000002,
          18.052020000000002,
          18.096513199999997,
          18.096513199999997,
          18.09494777,
          18.096513199999997,
          18.096513199999997,
          18.096513199999997,
          18.096513199999997,
          18.096513199999997,
          18.096513199999997,
          18.096513199999997,
          18.096513199999997,
          18.096513199999997,
          18.096513199999997,
          18.096513199999997,
          18.096513199999997,
          18.096513199999997,
          18.096513199999997,
          18.096513199999997,
          18.096513199999997,
          18.09739,
          18.096513199999997,
          18.096513199999997,
          18.09739,
          18.09739,
          18.096513199999997,
          18.09739,
          18.09739,
          18.09494777,
          18.096513199999997,
          18.09770734,
          18.09547452,
          18.096513199999997,
          18.096513199999997,
          18.096513199999997,
          18.096513199999997,
          18.096513199999997,
          18.096513199999997,
          18.096513199999997,
          18.096513199999997,
          18.096513199999997,
          18.096513199999997,
          18.096513199999997,
          18.096513199999997,
          18.096513199999997,
          18.096513199999997,
          18.096513199999997,
          18.096513199999997,
          18.096513199999997,
          18.096513199999997,
          18.096513199999997,
          18.096513199999997,
          18.096513199999997,
          18.21478302,
          18.07938,
          18.07938,
          18.0786568,
          18.07909,
          18.02764472,
          18.02764472,
          17.93892,
          17.93988582,
          17.94032173,
          17.93892,
          17.94032173,
          17.94032173,
          17.94166667,
          17.93892,
          17.93892,
          17.93977078,
          17.94032173,
          17.93977078,
          17.9416,
          17.9416,
          17.94069,
          17.939766,
          17.939766,
          17.9363181,
          17.9363181,
          17.9363181,
          17.9363181,
          17.9363181,
          17.9363181,
          17.9363181,
          17.9363181,
          17.9363181,
          17.9363181,
          17.9363181,
          17.9363181,
          17.9363181,
          17.9363181,
          17.9363181,
          17.9363181,
          17.9363181,
          17.9363181,
          17.9363181,
          17.9363181,
          17.936456,
          17.936456,
          17.936456,
          17.936281899999997,
          17.936281899999997,
          17.936281899999997,
          17.936281899999997,
          17.936281899999997,
          17.936281899999997,
          17.936281899999997,
          17.936281899999997,
          17.936281899999997,
          17.936281899999997,
          17.936281899999997,
          17.936281899999997,
          17.936281899999997,
          17.936281899999997,
          17.936281899999997,
          17.936281899999997,
          17.936281899999997,
          17.936281899999997,
          18.04226276,
          17.57045857,
          17.9,
          17.9,
          17.9,
          17.9,
          17.9,
          17.9,
          18.071360000000002,
          18.071360000000002,
          18.071360000000002,
          18.1637,
          18.1637,
          18.1637,
          18.1637,
          18.16379105,
          17.97741175,
          17.8727207,
          17.872723,
          17.872723,
          18.03691438,
          18.0641776,
          18.0641776,
          18.0641776,
          18.0641776,
          18.0641776,
          18.0642,
          18.0642,
          18.0642,
          18.0642,
          18.0642,
          18.0642,
          18.0642,
          18.0642,
          18.0642,
          18.0642,
          18.0642,
          18.0642,
          18.0642,
          18.0642,
          18.01222088,
          18.012521,
          18.012521,
          18.012521,
          18.012521,
          18.012521,
          18.0380928,
          18.09585628,
          18.095667000000002,
          18.05864,
          18.05872,
          18.05877863,
          18.05877863,
          18.07495941,
          18.07390065,
          18.07390065,
          18.07396889,
          18.07390065,
          18.073970000000003,
          18.073970000000003,
          18.073970000000003,
          18.073970000000003,
          18.073970000000003,
          17.96602968,
          17.96602968,
          17.965770000000003,
          17.965770000000003,
          17.965770000000003,
          17.965770000000003,
          18.06444444,
          18.06312,
          18.01743004,
          18.4218367,
          18.421012,
          18.421012,
          18.18527064,
          18.09692714,
          18.00205935,
          18.00205935,
          18.00205935,
          18.00205935,
          18.00205935,
          18.00205935,
          18.09606097,
          18.09606097,
          18.09606097,
          18.09606097,
          18.09606097,
          18.09606097,
          18.09606097,
          18.09606097,
          18.09606097,
          18.09432,
          18.09432,
          18.09379,
          18.09379,
          18.09379,
          18.09434328,
          17.9738708,
          18.22166667,
          18.216364499999997,
          18.216364499999997,
          18.216364499999997,
          18.216364499999997,
          18.21632561,
          18.13044789,
          18.032239999999998,
          18.032239999999998,
          18.06658585,
          17.93141151,
          4.76393985,
          4.89344369,
          4.996049500000001,
          4.94190716,
          4.94194444,
          4.94194444,
          17.92431481,
          18.031986899999996,
          18.031986899999996,
          18.032264,
          18.032264,
          17.94602,
          17.946435,
          17.94602,
          18.032367999999998,
          18.032367999999998,
          17.91297022,
          18.005941,
          17.9667,
          17.9667,
          17.9377,
          17.9377,
          17.9377,
          18.069981,
          18.092222,
          18.09944444,
          18.09486998,
          18.09486998,
          18.09486998,
          18.09486998,
          18.080833,
          18.0325375,
          18.0325375,
          18.1,
          18.21302615,
          18.07841,
          17.94442349,
          17.96774,
          18.068282699999997,
          18.068282699999997,
          18.068282699999997,
          18.068282699999997,
          18.068282699999997,
          18.068282699999997,
          18.068282699999997,
          18.068282699999997,
          18.068282699999997,
          18.068282699999997,
          18.068282699999997,
          18.068282699999997,
          18.068282699999997,
          18.068282699999997,
          18.071944000000002,
          18.071944000000002,
          18.056026199999998,
          18.05670199,
          18.05670199,
          18.05670199,
          18.05670199,
          18.05670199,
          18.05670199,
          18.05670199,
          18.05670199,
          18.05670199,
          18.05670199,
          18.05670199,
          18.05670199,
          18.05670199,
          18.05670199,
          18.05670199,
          18.05670199,
          18.05670199,
          18.05670199,
          18.05670199,
          18.05670199,
          18.05670199,
          18.05670199,
          18.03071372,
          17.98217,
          18.09191941,
          18.09191941,
          18.03458,
          18.03458,
          18.20103419,
          18.0795054,
          18.0795054,
          18.0795054,
          18.0795054,
          18.2140462,
          18.2136602,
          18.2136602,
          18.01418226,
          18.06516966,
          18.0603062,
          18.06083333,
          18.0603062,
          4.9001,
          18.14305,
          18.14305,
          18.14305,
          18.14305,
          18.14305,
          18.14305,
          18.14305,
          18.05532786,
          18.05651299,
          12.6928805,
          5.55,
          4.36667,
          4.38379144,
          4.38379144,
          4.38379144,
          4.38379144,
          4.38379144,
          4.38379144,
          4.38555676,
          18.07549,
          18.07549,
          18.07549,
          18.07549,
          18.049722,
          18.049722,
          18.049722,
          17.870556,
          18.19929872,
          18.19929872,
          18.32668187,
          18.00346844,
          17.991979999999998,
          18.09546,
          18,
          18.12947,
          18.07625,
          17.93677432,
          17.93677432,
          17.93677432,
          18.07873817,
          18.0267,
          18.0267,
          18.11672,
          18.117115,
          18.117115,
          18.08423562,
          18.08423562,
          18.10974437,
          18.08889996,
          18.0387252,
          18.0387252,
          18.0387252,
          18.0387252,
          18.0387252,
          18.0387252,
          18.0387252,
          18.0387252,
          18.0387252,
          18.0387252,
          18.11471904,
          18.16451,
          18.0615,
          18.0615,
          18.0605,
          18.1667,
          18.051889399999997,
          18.07916534,
          18.09829,
          18.09829,
          18.08246095
         ],
         "marker": {
          "color": [
           0,
           0,
           0,
           0,
           0,
           0,
           0,
           0,
           0,
           0,
           0,
           0,
           0,
           0,
           0,
           0,
           0,
           0,
           0,
           0,
           0,
           0,
           0,
           0,
           0,
           0,
           0,
           0,
           0,
           0,
           0,
           0,
           0,
           0,
           0,
           0,
           0,
           0,
           0,
           0,
           0,
           0,
           0,
           0,
           0,
           0,
           0,
           0,
           0,
           0,
           0,
           0,
           0,
           0,
           0,
           0,
           0,
           0,
           0,
           0,
           0,
           0,
           0,
           0,
           0,
           0,
           0,
           0,
           0,
           0,
           0,
           0,
           0,
           0,
           0,
           0,
           0,
           0,
           0,
           0,
           0,
           0,
           0,
           0,
           0,
           0,
           0,
           0,
           0,
           0,
           0,
           0,
           0,
           0,
           0,
           0,
           0,
           0,
           0,
           0,
           0,
           0,
           0,
           0,
           0,
           0,
           0,
           0,
           0,
           0,
           0,
           0,
           0,
           0,
           0,
           0,
           0,
           0,
           0,
           0,
           0,
           0,
           0,
           0,
           0,
           0,
           0,
           0,
           0,
           0,
           0,
           0,
           0,
           0,
           0,
           0,
           0,
           0,
           0,
           0,
           0,
           0,
           0,
           0,
           0,
           0,
           0,
           0,
           0,
           0,
           0,
           0,
           0,
           0,
           0,
           0,
           0,
           0,
           0,
           0,
           0,
           0,
           0,
           0,
           0,
           0,
           0,
           0,
           0,
           0,
           0,
           0,
           0,
           0,
           0,
           0,
           0,
           0,
           0,
           0,
           0,
           0,
           0,
           0,
           0,
           0,
           0,
           0,
           0,
           0,
           0,
           0,
           0,
           0,
           0,
           0,
           0,
           0,
           0,
           0,
           0,
           0,
           0,
           0,
           0,
           0,
           0,
           0,
           0,
           0,
           0,
           0,
           0,
           0,
           0,
           0,
           0,
           0,
           0,
           0,
           0,
           0,
           0,
           0,
           0,
           0,
           0,
           0,
           0,
           0,
           0,
           0,
           0,
           0,
           0,
           0,
           0,
           0,
           0,
           0,
           0,
           0,
           0,
           0,
           0,
           0,
           0,
           0,
           0,
           0,
           0,
           0,
           0,
           0,
           0,
           0,
           0,
           0,
           0,
           0,
           0,
           0,
           0,
           0,
           0,
           0,
           0,
           0,
           0,
           0,
           0,
           0,
           0,
           0,
           0,
           0,
           0,
           0,
           0,
           0,
           0,
           0,
           0,
           0,
           0,
           0,
           0,
           0,
           0,
           0,
           0,
           0,
           0,
           0,
           0,
           0,
           1,
           2,
           2,
           3,
           3,
           3,
           3,
           3,
           3,
           3,
           3,
           3,
           3,
           3,
           3,
           3,
           3,
           3,
           3,
           3,
           3,
           3,
           3,
           3,
           3,
           3,
           3,
           3,
           3,
           3,
           3,
           3,
           3,
           3,
           3,
           3,
           3,
           3,
           3,
           3,
           3,
           3,
           3,
           3,
           4,
           5,
           5,
           5,
           5,
           5,
           5,
           5,
           6,
           6,
           6,
           6,
           7,
           7,
           7,
           7,
           7,
           7,
           7,
           7,
           7,
           7,
           7,
           7,
           7,
           7,
           7,
           7,
           7,
           7,
           7,
           7,
           7,
           7,
           7,
           8,
           8,
           8,
           8,
           8,
           8,
           8,
           8,
           8,
           8,
           8,
           8,
           8,
           8,
           8,
           8,
           8,
           8,
           8,
           8,
           8,
           8,
           8,
           8,
           8,
           8,
           8,
           8,
           8,
           8,
           8,
           8,
           8,
           8,
           9,
           9,
           9,
           9,
           9,
           9,
           9,
           9,
           9,
           9,
           9,
           9,
           9,
           9,
           9,
           9,
           9,
           9,
           9,
           9,
           9,
           9,
           9,
           9,
           9,
           9,
           9,
           9,
           9,
           9,
           9,
           9,
           9,
           9,
           9,
           9,
           9,
           9,
           9,
           9,
           9,
           9,
           9,
           9,
           9,
           9,
           9,
           9,
           9,
           9,
           9,
           9,
           10,
           10,
           10,
           10,
           10,
           10,
           10,
           10,
           10,
           10,
           10,
           10,
           10,
           10,
           10,
           10,
           10,
           10,
           10,
           10,
           10,
           10,
           10,
           10,
           10,
           10,
           10,
           10,
           10,
           10,
           10,
           10,
           10,
           10,
           10,
           10,
           10,
           10,
           10,
           10,
           10,
           10,
           10,
           10,
           10,
           10,
           10,
           10,
           10,
           10,
           10,
           10,
           11,
           12,
           12,
           13,
           13,
           14,
           14,
           15,
           15,
           15,
           15,
           15,
           15,
           15,
           15,
           15,
           15,
           15,
           15,
           15,
           15,
           15,
           15,
           15,
           16,
           16,
           16,
           16,
           16,
           16,
           16,
           16,
           16,
           16,
           16,
           16,
           16,
           16,
           16,
           16,
           16,
           16,
           16,
           16,
           16,
           16,
           16,
           16,
           16,
           16,
           16,
           16,
           16,
           16,
           16,
           16,
           16,
           16,
           16,
           16,
           16,
           16,
           16,
           16,
           16,
           17,
           18,
           19,
           19,
           19,
           19,
           19,
           19,
           20,
           20,
           20,
           21,
           21,
           21,
           21,
           21,
           22,
           23,
           23,
           23,
           24,
           25,
           25,
           25,
           25,
           25,
           25,
           25,
           25,
           25,
           25,
           25,
           25,
           25,
           25,
           25,
           25,
           25,
           25,
           25,
           26,
           26,
           26,
           26,
           26,
           26,
           27,
           28,
           28,
           29,
           29,
           29,
           29,
           30,
           31,
           31,
           31,
           31,
           31,
           31,
           31,
           31,
           31,
           32,
           32,
           32,
           32,
           32,
           32,
           33,
           33,
           34,
           35,
           35,
           35,
           36,
           37,
           38,
           38,
           38,
           38,
           38,
           38,
           39,
           39,
           39,
           39,
           39,
           39,
           39,
           39,
           39,
           40,
           40,
           40,
           40,
           40,
           40,
           41,
           42,
           43,
           43,
           43,
           43,
           43,
           44,
           45,
           45,
           46,
           47,
           48,
           49,
           50,
           51,
           51,
           51,
           52,
           53,
           53,
           53,
           53,
           54,
           54,
           54,
           55,
           55,
           56,
           57,
           58,
           58,
           59,
           59,
           59,
           60,
           61,
           62,
           63,
           63,
           63,
           63,
           64,
           65,
           65,
           66,
           67,
           68,
           69,
           70,
           71,
           71,
           71,
           71,
           71,
           71,
           71,
           71,
           71,
           71,
           71,
           71,
           71,
           71,
           72,
           72,
           73,
           73,
           73,
           73,
           73,
           73,
           73,
           73,
           73,
           73,
           73,
           73,
           73,
           73,
           73,
           73,
           73,
           73,
           73,
           73,
           73,
           73,
           73,
           74,
           75,
           76,
           76,
           77,
           77,
           78,
           79,
           79,
           79,
           79,
           80,
           80,
           80,
           81,
           82,
           83,
           83,
           83,
           84,
           85,
           85,
           85,
           85,
           85,
           85,
           85,
           86,
           86,
           87,
           88,
           89,
           90,
           90,
           90,
           90,
           90,
           90,
           91,
           92,
           92,
           92,
           92,
           93,
           93,
           93,
           94,
           95,
           95,
           96,
           97,
           98,
           99,
           100,
           101,
           102,
           103,
           103,
           103,
           104,
           105,
           105,
           106,
           106,
           106,
           107,
           107,
           108,
           109,
           110,
           110,
           110,
           110,
           110,
           110,
           110,
           110,
           110,
           110,
           111,
           112,
           113,
           113,
           114,
           115,
           116,
           117,
           118,
           118,
           119
          ],
          "coloraxis": "coloraxis"
         },
         "mode": "markers",
         "name": "",
         "showlegend": false,
         "subplot": "mapbox",
         "type": "scattermapbox"
        }
       ],
       "layout": {
        "coloraxis": {
         "colorbar": {
          "title": {
           "text": "region"
          }
         },
         "colorscale": [
          [
           0,
           "#0d0887"
          ],
          [
           0.1111111111111111,
           "#46039f"
          ],
          [
           0.2222222222222222,
           "#7201a8"
          ],
          [
           0.3333333333333333,
           "#9c179e"
          ],
          [
           0.4444444444444444,
           "#bd3786"
          ],
          [
           0.5555555555555556,
           "#d8576b"
          ],
          [
           0.6666666666666666,
           "#ed7953"
          ],
          [
           0.7777777777777778,
           "#fb9f3a"
          ],
          [
           0.8888888888888888,
           "#fdca26"
          ],
          [
           1,
           "#f0f921"
          ]
         ]
        },
        "legend": {
         "tracegroupgap": 0
        },
        "mapbox": {
         "center": {
          "lat": 59.1707466699532,
          "lon": 17.798752206608185
         },
         "domain": {
          "x": [
           0,
           1
          ],
          "y": [
           0,
           1
          ]
         },
         "style": "open-street-map",
         "zoom": 8
        },
        "margin": {
         "t": 60
        },
        "template": {
         "data": {
          "bar": [
           {
            "error_x": {
             "color": "#2a3f5f"
            },
            "error_y": {
             "color": "#2a3f5f"
            },
            "marker": {
             "line": {
              "color": "#E5ECF6",
              "width": 0.5
             }
            },
            "type": "bar"
           }
          ],
          "barpolar": [
           {
            "marker": {
             "line": {
              "color": "#E5ECF6",
              "width": 0.5
             }
            },
            "type": "barpolar"
           }
          ],
          "carpet": [
           {
            "aaxis": {
             "endlinecolor": "#2a3f5f",
             "gridcolor": "white",
             "linecolor": "white",
             "minorgridcolor": "white",
             "startlinecolor": "#2a3f5f"
            },
            "baxis": {
             "endlinecolor": "#2a3f5f",
             "gridcolor": "white",
             "linecolor": "white",
             "minorgridcolor": "white",
             "startlinecolor": "#2a3f5f"
            },
            "type": "carpet"
           }
          ],
          "choropleth": [
           {
            "colorbar": {
             "outlinewidth": 0,
             "ticks": ""
            },
            "type": "choropleth"
           }
          ],
          "contour": [
           {
            "colorbar": {
             "outlinewidth": 0,
             "ticks": ""
            },
            "colorscale": [
             [
              0,
              "#0d0887"
             ],
             [
              0.1111111111111111,
              "#46039f"
             ],
             [
              0.2222222222222222,
              "#7201a8"
             ],
             [
              0.3333333333333333,
              "#9c179e"
             ],
             [
              0.4444444444444444,
              "#bd3786"
             ],
             [
              0.5555555555555556,
              "#d8576b"
             ],
             [
              0.6666666666666666,
              "#ed7953"
             ],
             [
              0.7777777777777778,
              "#fb9f3a"
             ],
             [
              0.8888888888888888,
              "#fdca26"
             ],
             [
              1,
              "#f0f921"
             ]
            ],
            "type": "contour"
           }
          ],
          "contourcarpet": [
           {
            "colorbar": {
             "outlinewidth": 0,
             "ticks": ""
            },
            "type": "contourcarpet"
           }
          ],
          "heatmap": [
           {
            "colorbar": {
             "outlinewidth": 0,
             "ticks": ""
            },
            "colorscale": [
             [
              0,
              "#0d0887"
             ],
             [
              0.1111111111111111,
              "#46039f"
             ],
             [
              0.2222222222222222,
              "#7201a8"
             ],
             [
              0.3333333333333333,
              "#9c179e"
             ],
             [
              0.4444444444444444,
              "#bd3786"
             ],
             [
              0.5555555555555556,
              "#d8576b"
             ],
             [
              0.6666666666666666,
              "#ed7953"
             ],
             [
              0.7777777777777778,
              "#fb9f3a"
             ],
             [
              0.8888888888888888,
              "#fdca26"
             ],
             [
              1,
              "#f0f921"
             ]
            ],
            "type": "heatmap"
           }
          ],
          "heatmapgl": [
           {
            "colorbar": {
             "outlinewidth": 0,
             "ticks": ""
            },
            "colorscale": [
             [
              0,
              "#0d0887"
             ],
             [
              0.1111111111111111,
              "#46039f"
             ],
             [
              0.2222222222222222,
              "#7201a8"
             ],
             [
              0.3333333333333333,
              "#9c179e"
             ],
             [
              0.4444444444444444,
              "#bd3786"
             ],
             [
              0.5555555555555556,
              "#d8576b"
             ],
             [
              0.6666666666666666,
              "#ed7953"
             ],
             [
              0.7777777777777778,
              "#fb9f3a"
             ],
             [
              0.8888888888888888,
              "#fdca26"
             ],
             [
              1,
              "#f0f921"
             ]
            ],
            "type": "heatmapgl"
           }
          ],
          "histogram": [
           {
            "marker": {
             "colorbar": {
              "outlinewidth": 0,
              "ticks": ""
             }
            },
            "type": "histogram"
           }
          ],
          "histogram2d": [
           {
            "colorbar": {
             "outlinewidth": 0,
             "ticks": ""
            },
            "colorscale": [
             [
              0,
              "#0d0887"
             ],
             [
              0.1111111111111111,
              "#46039f"
             ],
             [
              0.2222222222222222,
              "#7201a8"
             ],
             [
              0.3333333333333333,
              "#9c179e"
             ],
             [
              0.4444444444444444,
              "#bd3786"
             ],
             [
              0.5555555555555556,
              "#d8576b"
             ],
             [
              0.6666666666666666,
              "#ed7953"
             ],
             [
              0.7777777777777778,
              "#fb9f3a"
             ],
             [
              0.8888888888888888,
              "#fdca26"
             ],
             [
              1,
              "#f0f921"
             ]
            ],
            "type": "histogram2d"
           }
          ],
          "histogram2dcontour": [
           {
            "colorbar": {
             "outlinewidth": 0,
             "ticks": ""
            },
            "colorscale": [
             [
              0,
              "#0d0887"
             ],
             [
              0.1111111111111111,
              "#46039f"
             ],
             [
              0.2222222222222222,
              "#7201a8"
             ],
             [
              0.3333333333333333,
              "#9c179e"
             ],
             [
              0.4444444444444444,
              "#bd3786"
             ],
             [
              0.5555555555555556,
              "#d8576b"
             ],
             [
              0.6666666666666666,
              "#ed7953"
             ],
             [
              0.7777777777777778,
              "#fb9f3a"
             ],
             [
              0.8888888888888888,
              "#fdca26"
             ],
             [
              1,
              "#f0f921"
             ]
            ],
            "type": "histogram2dcontour"
           }
          ],
          "mesh3d": [
           {
            "colorbar": {
             "outlinewidth": 0,
             "ticks": ""
            },
            "type": "mesh3d"
           }
          ],
          "parcoords": [
           {
            "line": {
             "colorbar": {
              "outlinewidth": 0,
              "ticks": ""
             }
            },
            "type": "parcoords"
           }
          ],
          "pie": [
           {
            "automargin": true,
            "type": "pie"
           }
          ],
          "scatter": [
           {
            "marker": {
             "colorbar": {
              "outlinewidth": 0,
              "ticks": ""
             }
            },
            "type": "scatter"
           }
          ],
          "scatter3d": [
           {
            "line": {
             "colorbar": {
              "outlinewidth": 0,
              "ticks": ""
             }
            },
            "marker": {
             "colorbar": {
              "outlinewidth": 0,
              "ticks": ""
             }
            },
            "type": "scatter3d"
           }
          ],
          "scattercarpet": [
           {
            "marker": {
             "colorbar": {
              "outlinewidth": 0,
              "ticks": ""
             }
            },
            "type": "scattercarpet"
           }
          ],
          "scattergeo": [
           {
            "marker": {
             "colorbar": {
              "outlinewidth": 0,
              "ticks": ""
             }
            },
            "type": "scattergeo"
           }
          ],
          "scattergl": [
           {
            "marker": {
             "colorbar": {
              "outlinewidth": 0,
              "ticks": ""
             }
            },
            "type": "scattergl"
           }
          ],
          "scattermapbox": [
           {
            "marker": {
             "colorbar": {
              "outlinewidth": 0,
              "ticks": ""
             }
            },
            "type": "scattermapbox"
           }
          ],
          "scatterpolar": [
           {
            "marker": {
             "colorbar": {
              "outlinewidth": 0,
              "ticks": ""
             }
            },
            "type": "scatterpolar"
           }
          ],
          "scatterpolargl": [
           {
            "marker": {
             "colorbar": {
              "outlinewidth": 0,
              "ticks": ""
             }
            },
            "type": "scatterpolargl"
           }
          ],
          "scatterternary": [
           {
            "marker": {
             "colorbar": {
              "outlinewidth": 0,
              "ticks": ""
             }
            },
            "type": "scatterternary"
           }
          ],
          "surface": [
           {
            "colorbar": {
             "outlinewidth": 0,
             "ticks": ""
            },
            "colorscale": [
             [
              0,
              "#0d0887"
             ],
             [
              0.1111111111111111,
              "#46039f"
             ],
             [
              0.2222222222222222,
              "#7201a8"
             ],
             [
              0.3333333333333333,
              "#9c179e"
             ],
             [
              0.4444444444444444,
              "#bd3786"
             ],
             [
              0.5555555555555556,
              "#d8576b"
             ],
             [
              0.6666666666666666,
              "#ed7953"
             ],
             [
              0.7777777777777778,
              "#fb9f3a"
             ],
             [
              0.8888888888888888,
              "#fdca26"
             ],
             [
              1,
              "#f0f921"
             ]
            ],
            "type": "surface"
           }
          ],
          "table": [
           {
            "cells": {
             "fill": {
              "color": "#EBF0F8"
             },
             "line": {
              "color": "white"
             }
            },
            "header": {
             "fill": {
              "color": "#C8D4E3"
             },
             "line": {
              "color": "white"
             }
            },
            "type": "table"
           }
          ]
         },
         "layout": {
          "annotationdefaults": {
           "arrowcolor": "#2a3f5f",
           "arrowhead": 0,
           "arrowwidth": 1
          },
          "coloraxis": {
           "colorbar": {
            "outlinewidth": 0,
            "ticks": ""
           }
          },
          "colorscale": {
           "diverging": [
            [
             0,
             "#8e0152"
            ],
            [
             0.1,
             "#c51b7d"
            ],
            [
             0.2,
             "#de77ae"
            ],
            [
             0.3,
             "#f1b6da"
            ],
            [
             0.4,
             "#fde0ef"
            ],
            [
             0.5,
             "#f7f7f7"
            ],
            [
             0.6,
             "#e6f5d0"
            ],
            [
             0.7,
             "#b8e186"
            ],
            [
             0.8,
             "#7fbc41"
            ],
            [
             0.9,
             "#4d9221"
            ],
            [
             1,
             "#276419"
            ]
           ],
           "sequential": [
            [
             0,
             "#0d0887"
            ],
            [
             0.1111111111111111,
             "#46039f"
            ],
            [
             0.2222222222222222,
             "#7201a8"
            ],
            [
             0.3333333333333333,
             "#9c179e"
            ],
            [
             0.4444444444444444,
             "#bd3786"
            ],
            [
             0.5555555555555556,
             "#d8576b"
            ],
            [
             0.6666666666666666,
             "#ed7953"
            ],
            [
             0.7777777777777778,
             "#fb9f3a"
            ],
            [
             0.8888888888888888,
             "#fdca26"
            ],
            [
             1,
             "#f0f921"
            ]
           ],
           "sequentialminus": [
            [
             0,
             "#0d0887"
            ],
            [
             0.1111111111111111,
             "#46039f"
            ],
            [
             0.2222222222222222,
             "#7201a8"
            ],
            [
             0.3333333333333333,
             "#9c179e"
            ],
            [
             0.4444444444444444,
             "#bd3786"
            ],
            [
             0.5555555555555556,
             "#d8576b"
            ],
            [
             0.6666666666666666,
             "#ed7953"
            ],
            [
             0.7777777777777778,
             "#fb9f3a"
            ],
            [
             0.8888888888888888,
             "#fdca26"
            ],
            [
             1,
             "#f0f921"
            ]
           ]
          },
          "colorway": [
           "#636efa",
           "#EF553B",
           "#00cc96",
           "#ab63fa",
           "#FFA15A",
           "#19d3f3",
           "#FF6692",
           "#B6E880",
           "#FF97FF",
           "#FECB52"
          ],
          "font": {
           "color": "#2a3f5f"
          },
          "geo": {
           "bgcolor": "white",
           "lakecolor": "white",
           "landcolor": "#E5ECF6",
           "showlakes": true,
           "showland": true,
           "subunitcolor": "white"
          },
          "hoverlabel": {
           "align": "left"
          },
          "hovermode": "closest",
          "mapbox": {
           "style": "light"
          },
          "paper_bgcolor": "white",
          "plot_bgcolor": "#E5ECF6",
          "polar": {
           "angularaxis": {
            "gridcolor": "white",
            "linecolor": "white",
            "ticks": ""
           },
           "bgcolor": "#E5ECF6",
           "radialaxis": {
            "gridcolor": "white",
            "linecolor": "white",
            "ticks": ""
           }
          },
          "scene": {
           "xaxis": {
            "backgroundcolor": "#E5ECF6",
            "gridcolor": "white",
            "gridwidth": 2,
            "linecolor": "white",
            "showbackground": true,
            "ticks": "",
            "zerolinecolor": "white"
           },
           "yaxis": {
            "backgroundcolor": "#E5ECF6",
            "gridcolor": "white",
            "gridwidth": 2,
            "linecolor": "white",
            "showbackground": true,
            "ticks": "",
            "zerolinecolor": "white"
           },
           "zaxis": {
            "backgroundcolor": "#E5ECF6",
            "gridcolor": "white",
            "gridwidth": 2,
            "linecolor": "white",
            "showbackground": true,
            "ticks": "",
            "zerolinecolor": "white"
           }
          },
          "shapedefaults": {
           "line": {
            "color": "#2a3f5f"
           }
          },
          "ternary": {
           "aaxis": {
            "gridcolor": "white",
            "linecolor": "white",
            "ticks": ""
           },
           "baxis": {
            "gridcolor": "white",
            "linecolor": "white",
            "ticks": ""
           },
           "bgcolor": "#E5ECF6",
           "caxis": {
            "gridcolor": "white",
            "linecolor": "white",
            "ticks": ""
           }
          },
          "title": {
           "x": 0.05
          },
          "xaxis": {
           "automargin": true,
           "gridcolor": "white",
           "linecolor": "white",
           "ticks": "",
           "title": {
            "standoff": 15
           },
           "zerolinecolor": "white",
           "zerolinewidth": 2
          },
          "yaxis": {
           "automargin": true,
           "gridcolor": "white",
           "linecolor": "white",
           "ticks": "",
           "title": {
            "standoff": 15
           },
           "zerolinecolor": "white",
           "zerolinewidth": 2
          }
         }
        }
       }
      },
      "text/html": [
       "<div>\n",
       "        \n",
       "        \n",
       "            <div id=\"335aa6ae-3edf-45d6-a6cd-5a16f1de4075\" class=\"plotly-graph-div\" style=\"height:525px; width:100%;\"></div>\n",
       "            <script type=\"text/javascript\">\n",
       "                require([\"plotly\"], function(Plotly) {\n",
       "                    window.PLOTLYENV=window.PLOTLYENV || {};\n",
       "                    \n",
       "                if (document.getElementById(\"335aa6ae-3edf-45d6-a6cd-5a16f1de4075\")) {\n",
       "                    Plotly.newPlot(\n",
       "                        '335aa6ae-3edf-45d6-a6cd-5a16f1de4075',\n",
       "                        [{\"customdata\": [[0, 2, 1], [0, 18, 6], [0, 15, 3], [0, 16, 2], [0, 4, 4], [0, 13, 4], [0, 2, 1], [0, 18, 1], [0, 4, 3], [0, 1, 6], [0, 1, 5], [0, 23, 5], [0, 4, 6], [0, 2, 6], [0, 0, 1], [0, 1, 3], [0, 18, 5], [0, 15, 6], [0, 18, 6], [0, 23, 4], [0, 20, 5], [0, 0, 0], [0, 15, 6], [0, 17, 4], [0, 13, 5], [0, 16, 6], [0, 23, 4], [0, 21, 6], [0, 14, 2], [0, 20, 2], [0, 2, 4], [0, 14, 5], [0, 20, 5], [0, 18, 6], [0, 19, 6], [0, 23, 6], [0, 14, 0], [0, 0, 3], [0, 22, 5], [0, 21, 6], [0, 17, 0], [0, 13, 3], [0, 13, 5], [0, 21, 0], [0, 22, 0], [0, 17, 2], [0, 21, 4], [0, 22, 5], [0, 21, 6], [0, 0, 1], [0, 12, 3], [0, 23, 3], [0, 19, 6], [0, 1, 0], [0, 17, 0], [0, 0, 2], [0, 12, 2], [0, 22, 3], [0, 22, 4], [0, 4, 5], [0, 21, 6], [0, 23, 3], [0, 3, 5], [0, 19, 5], [0, 22, 3], [0, 21, 5], [0, 20, 6], [0, 23, 2], [0, 20, 4], [0, 22, 2], [0, 18, 5], [0, 23, 2], [0, 19, 3], [0, 23, 5], [0, 11, 5], [0, 18, 5], [0, 22, 0], [0, 14, 1], [0, 17, 4], [0, 23, 4], [0, 13, 5], [0, 14, 5], [0, 1, 5], [0, 18, 6], [0, 15, 4], [0, 19, 4], [0, 23, 4], [0, 12, 5], [0, 2, 6], [0, 17, 1], [0, 23, 4], [0, 18, 5], [0, 16, 1], [0, 0, 2], [0, 23, 3], [0, 14, 2], [0, 15, 4], [0, 0, 5], [0, 21, 5], [0, 1, 5], [0, 23, 0], [0, 22, 5], [0, 16, 5], [0, 22, 5], [0, 23, 5], [0, 19, 6], [0, 20, 2], [0, 22, 0], [0, 0, 3], [0, 23, 5], [0, 4, 0], [0, 22, 4], [0, 22, 5], [0, 20, 6], [0, 23, 5], [0, 23, 4], [0, 23, 5], [0, 3, 1], [0, 18, 3], [0, 18, 5], [0, 0, 6], [0, 23, 0], [0, 1, 4], [0, 22, 4], [0, 22, 5], [0, 17, 3], [0, 0, 6], [0, 0, 4], [0, 23, 6], [0, 23, 0], [0, 23, 5], [0, 15, 0], [0, 23, 4], [0, 20, 4], [0, 19, 5], [0, 2, 2], [0, 2, 3], [0, 14, 3], [0, 15, 6], [0, 6, 6], [0, 16, 0], [0, 6, 5], [0, 6, 6], [0, 3, 0], [0, 23, 3], [0, 22, 0], [0, 22, 4], [0, 22, 5], [0, 21, 6], [0, 22, 0], [0, 0, 4], [0, 23, 5], [0, 22, 6], [0, 18, 1], [0, 21, 2], [0, 20, 3], [0, 12, 1], [0, 20, 3], [0, 0, 5], [0, 23, 1], [0, 19, 4], [0, 15, 5], [0, 21, 5], [0, 23, 5], [0, 1, 6], [0, 1, 0], [0, 14, 0], [0, 22, 2], [0, 22, 3], [0, 2, 4], [0, 0, 6], [0, 1, 0], [0, 22, 4], [0, 18, 5], [0, 15, 1], [0, 20, 4], [0, 19, 5], [0, 23, 5], [0, 19, 0], [0, 23, 0], [0, 14, 1], [0, 23, 3], [0, 16, 4], [0, 23, 4], [0, 18, 5], [0, 17, 6], [0, 22, 6], [0, 0, 1], [0, 0, 2], [0, 18, 3], [0, 23, 3], [0, 22, 6], [0, 23, 6], [0, 23, 1], [0, 23, 1], [0, 23, 2], [0, 20, 4], [0, 18, 5], [0, 18, 0], [0, 18, 0], [0, 13, 1], [0, 18, 3], [0, 13, 5], [0, 1, 4], [0, 17, 5], [0, 23, 4], [0, 17, 5], [0, 22, 3], [0, 18, 0], [0, 20, 0], [0, 19, 1], [0, 17, 5], [0, 23, 1], [0, 21, 3], [0, 23, 3], [0, 22, 0], [0, 0, 6], [0, 23, 0], [0, 23, 3], [0, 23, 4], [0, 22, 5], [0, 22, 6], [0, 0, 1], [0, 23, 3], [0, 14, 5], [0, 22, 5], [0, 23, 0], [0, 23, 4], [0, 13, 0], [0, 12, 2], [0, 2, 4], [0, 23, 4], [0, 18, 5], [0, 1, 0], [0, 23, 2], [0, 17, 4], [0, 0, 5], [0, 22, 0], [0, 0, 0], [0, 20, 3], [0, 0, 4], [0, 18, 5], [0, 6, 0], [0, 0, 2], [0, 0, 4], [0, 22, 4], [0, 23, 6], [0, 17, 0], [0, 22, 0], [0, 15, 1], [0, 22, 5], [0, 1, 0], [0, 19, 0], [0, 0, 1], [0, 23, 6], [0, 0, 0], [0, 18, 0], [0, 20, 5], [0, 23, 5], [0, 1, 0], [0, 20, 0], [0, 0, 1], [0, 17, 1], [0, 15, 0], [0, 22, 3], [0, 23, 4], [0, 23, 0], [0, 22, 2], [0, 0, 4], [0, 12, 5], [0, 15, 0], [0, 6, 3], [0, 21, 3], [0, 23, 5], [0, 12, 0], [0, 0, 1], [0, 23, 2], [0, 6, 0], [0, 13, 4], [0, 23, 5], [0, 16, 0], [0, 0, 6], [0, 13, 2], [0, 21, 6], [0, 6, 4], [0, 8, 5], [0, 0, 6], [0, 16, 1], [0, 0, 3], [0, 18, 3], [0, 0, 5], [0, 23, 5], [0, 22, 6], [0, 17, 2], [0, 20, 5], [0, 23, 6], [1, 20, 2], [2, 19, 4], [2, 18, 4], [3, 17, 5], [3, 16, 4], [3, 22, 1], [3, 20, 2], [3, 19, 2], [3, 15, 5], [3, 19, 2], [3, 21, 3], [3, 15, 4], [3, 20, 0], [3, 21, 1], [3, 22, 1], [3, 19, 2], [3, 21, 3], [3, 21, 1], [3, 17, 0], [3, 17, 2], [3, 20, 1], [3, 15, 4], [3, 20, 2], [3, 20, 0], [3, 21, 2], [3, 20, 2], [3, 19, 0], [3, 19, 2], [3, 19, 4], [3, 1, 3], [3, 17, 4], [3, 13, 0], [3, 18, 0], [3, 19, 2], [3, 19, 0], [3, 19, 2], [3, 20, 2], [3, 19, 0], [3, 20, 2], [3, 20, 4], [3, 20, 2], [3, 19, 2], [3, 0, 3], [3, 19, 2], [4, 11, 6], [5, 13, 1], [5, 12, 3], [5, 12, 3], [5, 14, 3], [5, 11, 2], [5, 20, 4], [5, 10, 0], [6, 14, 3], [6, 16, 2], [6, 20, 3], [6, 2, 3], [7, 18, 3], [7, 17, 3], [7, 17, 3], [7, 19, 3], [7, 19, 3], [7, 19, 3], [7, 19, 3], [7, 19, 3], [7, 17, 3], [7, 18, 3], [7, 19, 3], [7, 19, 3], [7, 18, 3], [7, 18, 3], [7, 19, 4], [7, 19, 3], [7, 19, 4], [7, 21, 3], [7, 20, 1], [7, 19, 4], [7, 19, 3], [7, 20, 3], [7, 17, 6], [8, 18, 4], [8, 21, 1], [8, 21, 1], [8, 21, 1], [8, 19, 1], [8, 21, 1], [8, 21, 1], [8, 21, 1], [8, 21, 3], [8, 21, 1], [8, 21, 3], [8, 12, 0], [8, 19, 1], [8, 19, 1], [8, 22, 1], [8, 21, 1], [8, 19, 1], [8, 22, 1], [8, 13, 4], [8, 23, 1], [8, 21, 3], [8, 21, 3], [8, 19, 3], [8, 21, 1], [8, 19, 1], [8, 21, 1], [8, 21, 1], [8, 21, 1], [8, 22, 1], [8, 22, 1], [8, 21, 1], [8, 23, 1], [8, 22, 1], [8, 22, 1], [9, 13, 6], [9, 23, 0], [9, 13, 6], [9, 13, 6], [9, 13, 6], [9, 13, 6], [9, 11, 6], [9, 13, 6], [9, 13, 6], [9, 14, 6], [9, 13, 6], [9, 15, 6], [9, 13, 6], [9, 13, 6], [9, 13, 6], [9, 13, 6], [9, 21, 6], [9, 13, 6], [9, 13, 0], [9, 21, 3], [9, 15, 6], [9, 14, 6], [9, 14, 6], [9, 13, 6], [9, 14, 6], [9, 13, 6], [9, 14, 6], [9, 20, 1], [9, 14, 6], [9, 21, 6], [9, 15, 6], [9, 15, 6], [9, 14, 6], [9, 13, 6], [9, 23, 2], [9, 13, 6], [9, 13, 6], [9, 13, 6], [9, 16, 6], [9, 18, 6], [9, 13, 0], [9, 12, 0], [9, 12, 0], [9, 21, 2], [9, 13, 6], [9, 13, 6], [9, 14, 6], [9, 15, 6], [9, 14, 6], [9, 21, 6], [9, 15, 6], [9, 15, 6], [10, 16, 1], [10, 2, 0], [10, 17, 4], [10, 17, 5], [10, 19, 0], [10, 18, 6], [10, 18, 6], [10, 18, 6], [10, 16, 4], [10, 18, 6], [10, 21, 6], [10, 21, 0], [10, 18, 1], [10, 22, 4], [10, 20, 5], [10, 18, 6], [10, 17, 4], [10, 22, 4], [10, 17, 0], [10, 17, 4], [10, 20, 4], [10, 22, 4], [10, 20, 5], [10, 20, 6], [10, 20, 0], [10, 21, 3], [10, 21, 4], [10, 21, 6], [10, 23, 6], [10, 18, 6], [10, 19, 6], [10, 23, 1], [10, 23, 1], [10, 21, 4], [10, 23, 4], [10, 23, 5], [10, 22, 1], [10, 21, 1], [10, 19, 6], [10, 12, 0], [10, 14, 0], [10, 15, 0], [10, 17, 6], [10, 22, 4], [10, 17, 6], [10, 19, 5], [10, 22, 5], [10, 20, 6], [10, 19, 6], [10, 22, 6], [10, 14, 4], [10, 18, 4], [11, 16, 6], [12, 3, 1], [12, 2, 0], [13, 0, 3], [13, 19, 6], [14, 9, 1], [14, 14, 1], [15, 8, 2], [15, 15, 3], [15, 11, 2], [15, 15, 1], [15, 17, 1], [15, 16, 4], [15, 19, 4], [15, 13, 5], [15, 12, 4], [15, 15, 2], [15, 10, 1], [15, 13, 3], [15, 12, 2], [15, 11, 1], [15, 14, 1], [15, 12, 5], [15, 13, 4], [16, 12, 3], [16, 16, 4], [16, 13, 2], [16, 12, 4], [16, 13, 1], [16, 14, 1], [16, 12, 1], [16, 9, 1], [16, 17, 2], [16, 8, 3], [16, 15, 2], [16, 14, 5], [16, 13, 5], [16, 17, 2], [16, 11, 1], [16, 16, 3], [16, 12, 2], [16, 12, 3], [16, 15, 4], [16, 11, 3], [16, 11, 4], [16, 17, 5], [16, 12, 3], [16, 11, 2], [16, 10, 3], [16, 11, 1], [16, 9, 4], [16, 12, 5], [16, 12, 5], [16, 8, 1], [16, 12, 4], [16, 9, 3], [16, 12, 2], [16, 15, 4], [16, 12, 5], [16, 13, 2], [16, 14, 1], [16, 12, 2], [16, 19, 1], [16, 11, 3], [16, 12, 2], [17, 13, 3], [18, 9, 4], [19, 14, 0], [19, 12, 1], [19, 14, 1], [19, 15, 1], [19, 21, 1], [19, 23, 1], [20, 14, 5], [20, 22, 2], [20, 18, 4], [21, 13, 0], [21, 15, 0], [21, 15, 0], [21, 15, 0], [21, 14, 0], [22, 22, 2], [23, 14, 1], [23, 18, 4], [23, 20, 4], [24, 17, 4], [25, 11, 6], [25, 11, 6], [25, 20, 1], [25, 12, 2], [25, 11, 6], [25, 21, 1], [25, 18, 4], [25, 19, 4], [25, 17, 3], [25, 11, 6], [25, 11, 1], [25, 17, 4], [25, 16, 0], [25, 18, 0], [25, 11, 6], [25, 19, 4], [25, 11, 6], [25, 18, 0], [25, 9, 6], [26, 17, 6], [26, 16, 1], [26, 18, 0], [26, 18, 0], [26, 23, 1], [26, 16, 1], [27, 14, 6], [28, 19, 4], [28, 17, 0], [29, 18, 5], [29, 14, 3], [29, 15, 3], [29, 14, 6], [30, 18, 0], [31, 17, 5], [31, 16, 4], [31, 16, 0], [31, 21, 2], [31, 20, 0], [31, 21, 5], [31, 17, 3], [31, 16, 1], [31, 21, 6], [32, 15, 6], [32, 18, 0], [32, 20, 3], [32, 17, 1], [32, 12, 3], [32, 16, 1], [33, 16, 0], [33, 14, 6], [34, 2, 6], [35, 12, 0], [35, 20, 1], [35, 20, 1], [36, 20, 1], [37, 19, 4], [38, 14, 6], [38, 17, 6], [38, 13, 6], [38, 12, 0], [38, 14, 6], [38, 13, 0], [39, 22, 1], [39, 22, 0], [39, 18, 5], [39, 21, 0], [39, 21, 1], [39, 20, 4], [39, 21, 4], [39, 22, 4], [39, 23, 4], [40, 19, 1], [40, 20, 1], [40, 20, 4], [40, 18, 4], [40, 18, 3], [40, 12, 1], [41, 19, 5], [42, 13, 0], [43, 15, 0], [43, 20, 6], [43, 20, 6], [43, 22, 6], [43, 16, 0], [44, 19, 1], [45, 19, 4], [45, 12, 5], [46, 17, 5], [47, 18, 5], [48, 21, 5], [49, 0, 6], [50, 17, 6], [51, 3, 0], [51, 19, 6], [51, 19, 6], [52, 22, 0], [53, 13, 5], [53, 13, 5], [53, 11, 0], [53, 11, 6], [54, 12, 2], [54, 11, 0], [54, 12, 2], [55, 11, 0], [55, 19, 3], [56, 13, 4], [57, 12, 0], [58, 20, 2], [58, 20, 2], [59, 12, 3], [59, 16, 1], [59, 12, 5], [60, 16, 0], [61, 11, 1], [62, 14, 2], [63, 18, 4], [63, 20, 4], [63, 15, 5], [63, 16, 4], [64, 7, 3], [65, 12, 5], [65, 12, 3], [66, 16, 2], [67, 15, 3], [68, 17, 5], [69, 19, 4], [70, 16, 1], [71, 0, 2], [71, 0, 6], [71, 23, 6], [71, 23, 5], [71, 23, 6], [71, 0, 2], [71, 0, 0], [71, 22, 4], [71, 20, 5], [71, 21, 6], [71, 0, 2], [71, 22, 5], [71, 21, 6], [71, 23, 6], [72, 16, 6], [72, 19, 1], [73, 11, 1], [73, 21, 6], [73, 13, 5], [73, 21, 1], [73, 21, 2], [73, 21, 4], [73, 15, 0], [73, 16, 3], [73, 16, 5], [73, 8, 1], [73, 13, 2], [73, 21, 2], [73, 22, 4], [73, 16, 1], [73, 15, 5], [73, 21, 6], [73, 12, 0], [73, 21, 1], [73, 21, 5], [73, 19, 1], [73, 21, 1], [73, 22, 2], [73, 21, 4], [74, 17, 2], [75, 18, 4], [76, 20, 4], [76, 17, 3], [77, 20, 4], [77, 14, 6], [78, 14, 0], [79, 18, 4], [79, 13, 5], [79, 13, 5], [79, 17, 2], [80, 13, 2], [80, 12, 0], [80, 18, 4], [81, 19, 4], [82, 23, 6], [83, 13, 3], [83, 9, 1], [83, 13, 3], [84, 0, 1], [85, 18, 1], [85, 19, 4], [85, 19, 1], [85, 20, 4], [85, 20, 4], [85, 19, 3], [85, 1, 5], [86, 10, 3], [86, 9, 1], [87, 19, 3], [88, 9, 4], [89, 12, 5], [90, 17, 3], [90, 17, 4], [90, 18, 4], [90, 20, 4], [90, 21, 0], [90, 0, 6], [91, 21, 3], [92, 12, 5], [92, 13, 1], [92, 12, 2], [92, 13, 3], [93, 10, 6], [93, 19, 6], [93, 19, 6], [94, 23, 6], [95, 17, 1], [95, 18, 6], [96, 15, 2], [97, 17, 4], [98, 19, 4], [99, 20, 3], [100, 4, 0], [101, 11, 6], [102, 17, 0], [103, 17, 1], [103, 17, 2], [103, 7, 3], [104, 18, 3], [105, 17, 4], [105, 16, 2], [106, 16, 3], [106, 16, 4], [106, 16, 1], [107, 9, 5], [107, 11, 2], [108, 12, 3], [109, 14, 5], [110, 12, 1], [110, 12, 5], [110, 21, 5], [110, 12, 0], [110, 21, 0], [110, 21, 6], [110, 16, 2], [110, 21, 3], [110, 21, 3], [110, 14, 5], [111, 17, 3], [112, 18, 3], [113, 14, 4], [113, 15, 4], [114, 5, 1], [115, 20, 6], [116, 14, 3], [117, 16, 0], [118, 16, 2], [118, 21, 2], [119, 0, 4]], \"hoverlabel\": {\"namelength\": 0}, \"hovertemplate\": \"region=%{marker.color}<br>hourofday=%{customdata[1]}<br>weekday=%{customdata[2]}<br>latitude=%{lat}<br>longitude=%{lon}\", \"lat\": [59.31426096, 59.3136887, 59.31426096, 59.3136, 59.3136, 59.31431403, 59.31426096, 59.31431403, 59.31426096, 59.31426096, 59.31426096, 59.3136887, 59.31426096, 59.31426096, 59.31426096, 59.31426096, 59.3136887, 59.31426096, 59.3136887, 59.31426096, 59.3136887, 59.31426096, 59.31426096, 59.31426096, 59.31426096, 59.31426096, 59.31426096, 59.31426096, 59.31426096, 59.31412544, 59.31426096, 59.31426096, 59.31426096, 59.3136887, 59.3136887, 59.31426096, 59.31426096, 59.31426096, 59.31426096, 59.314165, 59.31426096, 59.31426096, 59.31426096, 59.31426096, 59.31426096, 59.31426096, 59.3136887, 59.31426096, 59.31426096, 59.31403462, 59.31426096, 59.3136887, 59.3136887, 59.31426096, 59.31444444, 59.31426096, 59.315259999999995, 59.31426096, 59.31412544, 59.31426096, 59.3136887, 59.3136887, 59.31426096, 59.3136887, 59.3136887, 59.31426096, 59.3136887, 59.31412544, 59.31426096, 59.31426096, 59.3136887, 59.31412544, 59.31426096, 59.31426096, 59.3136, 59.3136887, 59.31426096, 59.31420975, 59.31426096, 59.3136, 59.31420975, 59.31426096, 59.3136042, 59.31426096, 59.31426096, 59.31420975, 59.3136042, 59.31426096, 59.31426096, 59.31426096, 59.31412452, 59.3136042, 59.31426096, 59.31426096, 59.3136042, 59.31420975, 59.31498709, 59.3136042, 59.31426096, 59.31426096, 59.3136042, 59.31426096, 59.31426096, 59.31426096, 59.313576, 59.31426096, 59.3136, 59.31426096, 59.3136042, 59.3136042, 59.31426096, 59.31426096, 59.3136042, 59.3136042, 59.31426096, 59.3136042, 59.3136042, 59.31426096, 59.31426096, 59.31426096, 59.31412452, 59.31426096, 59.31426096, 59.3136042, 59.31438086, 59.31426096, 59.31426096, 59.31426096, 59.31426096, 59.31426096, 59.3136042, 59.31426096, 59.3136042, 59.3136, 59.31426096, 59.31426096, 59.31426096, 59.314659999999996, 59.31426096, 59.31426096, 59.31426096, 59.31426096, 59.3136, 59.31426096, 59.31426096, 59.3136042, 59.31426096, 59.31426096, 59.3136042, 59.31426096, 59.31426096, 59.31420975, 59.31426096, 59.31426096, 59.31403462, 59.31426096, 59.31426096, 59.3136, 59.31426096, 59.31433231, 59.31320794, 59.31426096, 59.3136042, 59.31403462, 59.31403462, 59.31426096, 59.31426096, 59.3136042, 59.3136042, 59.31426096, 59.3136, 59.31426096, 59.3136042, 59.3136042, 59.31426096, 59.31426096, 59.3136042, 59.31426096, 59.31525805, 59.31426096, 59.31320794, 59.31426096, 59.31426096, 59.31426096, 59.31426096, 59.31426096, 59.31426096, 59.31426096, 59.31426096, 59.31426096, 59.3136042, 59.31426096, 59.31426096, 59.3136042, 59.31426096, 59.3136042, 59.3136042, 59.3136042, 59.31426096, 59.31426096, 59.31426096, 59.31426096, 59.31420975, 59.31403462, 59.3136042, 59.3136042, 59.3136042, 59.31426096, 59.31426096, 59.3136042, 59.31426096, 59.3136042, 59.31426096, 59.31426096, 59.31426096, 59.31426096, 59.31426096, 59.31426096, 59.31426096, 59.3136042, 59.3136042, 59.31426096, 59.31412452, 59.31426096, 59.31426096, 59.31426096, 59.31426096, 59.3136042, 59.31426096, 59.31426096, 59.31426096, 59.31426096, 59.3136042, 59.31426096, 59.31426096, 59.31426096, 59.31426096, 59.3136042, 59.31426096, 59.31426096, 59.31426096, 59.3136042, 59.31426096, 59.31426096, 59.31426096, 59.3145, 59.31426096, 59.31426096, 59.3136042, 59.31426096, 59.31363846, 59.31426096, 59.31426096, 59.31363846, 59.31426096, 59.31426096, 59.314537, 59.31363846, 59.31426096, 59.31426096, 59.31426096, 59.31426096, 59.31426096, 59.31426096, 59.31426096, 59.31426096, 59.31363846, 59.31426096, 59.3136042, 59.31426096, 59.31426096, 59.31426096, 59.31426096, 59.31426096, 59.31426096, 59.31426096, 59.31426096, 59.31426096, 59.31426096, 59.3136042, 59.31426096, 59.3136042, 59.31426096, 59.3136042, 59.31426096, 59.31435753, 59.31426096, 59.31426096, 59.31420975, 59.314721999999996, 59.3136042, 59.3136042, 59.31426096, 59.31426096, 59.3136042, 59.31426096, 59.3685, 59.33328258, 59.33402449, 59.36456999999999, 59.36456999999999, 59.36456999999999, 59.36456999999999, 59.36456999999999, 59.36456999999999, 59.36456999999999, 59.36456999999999, 59.36456999999999, 59.36456999999999, 59.36456999999999, 59.36456999999999, 59.36456999999999, 59.36456999999999, 59.36456999999999, 59.36456999999999, 59.36456999999999, 59.36456999999999, 59.36456999999999, 59.36456999999999, 59.36456999999999, 59.36456999999999, 59.36456999999999, 59.36456999999999, 59.364491, 59.364491, 59.36456999999999, 59.36456999999999, 59.36456999999999, 59.36456999999999, 59.36456999999999, 59.364491, 59.364491, 59.36456999999999, 59.36456999999999, 59.364491, 59.364491, 59.364491, 59.364491, 59.364491, 59.364491, 59.311859999999996, 59.267619999999994, 59.267619999999994, 59.267157999999995, 59.267157999999995, 59.267157999999995, 59.267157999999995, 59.267157999999995, 59.332440000000005, 59.332440000000005, 59.331823, 59.33266, 59.33448582, 59.33448582, 59.33448582, 59.33448582, 59.33448582, 59.33448582, 59.33448582, 59.33448582, 59.33448582, 59.33448582, 59.33448582, 59.33476999999999, 59.33476999999999, 59.33476999999999, 59.33476999999999, 59.33476999999999, 59.33476999999999, 59.33476999999999, 59.33476999999999, 59.33476999999999, 59.33476999999999, 59.33476999999999, 59.33476999999999, 59.34313992, 59.343320999999996, 59.343320999999996, 59.343320999999996, 59.343320999999996, 59.343320999999996, 59.343320999999996, 59.343320999999996, 59.343320999999996, 59.343320999999996, 59.343320999999996, 59.343320999999996, 59.343320999999996, 59.343320999999996, 59.343320999999996, 59.343320999999996, 59.343320999999996, 59.343320999999996, 59.343320999999996, 59.343320999999996, 59.343320999999996, 59.343320999999996, 59.343320999999996, 59.343320999999996, 59.343320999999996, 59.343320999999996, 59.343320999999996, 59.343320999999996, 59.343320999999996, 59.343320999999996, 59.343320999999996, 59.343320999999996, 59.343320999999996, 59.343320999999996, 59.34305210000001, 59.34305210000001, 59.34305210000001, 59.34305210000001, 59.34305210000001, 59.34305210000001, 59.34305210000001, 59.34305210000001, 59.34305210000001, 59.34305210000001, 59.34305210000001, 59.34305210000001, 59.34305210000001, 59.34305210000001, 59.34305210000001, 59.34305210000001, 59.34305210000001, 59.34305210000001, 59.34305210000001, 59.34305210000001, 59.34291999999999, 59.34291999999999, 59.34291999999999, 59.34291999999999, 59.34291999999999, 59.34291999999999, 59.342980000000004, 59.342980000000004, 59.342980000000004, 59.342980000000004, 59.342980000000004, 59.342980000000004, 59.342980000000004, 59.342980000000004, 59.342980000000004, 59.342980000000004, 59.342980000000004, 59.342980000000004, 59.342980000000004, 59.342980000000004, 59.342980000000004, 59.342980000000004, 59.342980000000004, 59.342980000000004, 59.342980000000004, 59.342980000000004, 59.342980000000004, 59.342980000000004, 59.342980000000004, 59.342980000000004, 59.342980000000004, 59.342980000000004, 59.32355937, 59.32355937, 59.32319141, 59.32355937, 59.32355937, 59.32355937, 59.32355937, 59.32355937, 59.32355937, 59.32355937, 59.32355937, 59.32355937, 59.32355937, 59.32355937, 59.32355937, 59.32355937, 59.32355937, 59.32355937, 59.32355937, 59.32348, 59.32355937, 59.32355937, 59.32348, 59.32348, 59.32355937, 59.32348, 59.32348, 59.32319141, 59.32355937, 59.32384244, 59.32362454, 59.32355937, 59.32355937, 59.32355937, 59.32355937, 59.32355937, 59.32355937, 59.32355937, 59.32355937, 59.32355937, 59.32355937, 59.32355937, 59.32355937, 59.32355937, 59.32355937, 59.32355937, 59.32355937, 59.32355937, 59.32355937, 59.32355937, 59.32355937, 59.32355937, 59.32095054, 59.29176999999999, 59.29176999999999, 59.314870299999995, 59.31474, 59.34876293, 59.34876293, 59.217780000000005, 59.21909812, 59.21932066, 59.217780000000005, 59.21932066, 59.21932066, 59.21944444, 59.217780000000005, 59.217780000000005, 59.21855503, 59.21932066, 59.21855503, 59.21925, 59.21925, 59.21945, 59.21855829, 59.21855829, 59.22078204, 59.22078204, 59.22078204, 59.22078204, 59.22078204, 59.22078204, 59.22078204, 59.22078204, 59.22078204, 59.22078204, 59.22078204, 59.22078204, 59.22078204, 59.22078204, 59.22078204, 59.22078204, 59.22078204, 59.22078204, 59.22078204, 59.22078204, 59.22065402, 59.22065402, 59.22065402, 59.22079818, 59.22079818, 59.22079818, 59.22079818, 59.22079818, 59.22079818, 59.22079818, 59.22079818, 59.22079818, 59.22079818, 59.22079818, 59.22079818, 59.22079818, 59.22079818, 59.22079818, 59.22079818, 59.22079818, 59.22079818, 59.26333218, 59.48609636, 59.4667, 59.4667, 59.4667, 59.4667, 59.4667, 59.4667, 59.317609999999995, 59.317609999999995, 59.317609999999995, 59.315290000000005, 59.315290000000005, 59.315290000000005, 59.315290000000005, 59.31543793, 59.36389486, 59.3634682, 59.363471, 59.363471, 59.34696216, 59.34166178, 59.34166178, 59.34166178, 59.34166178, 59.34166178, 59.341680000000004, 59.341680000000004, 59.341680000000004, 59.341680000000004, 59.341680000000004, 59.341680000000004, 59.341680000000004, 59.341680000000004, 59.341680000000004, 59.341680000000004, 59.341680000000004, 59.341680000000004, 59.341680000000004, 59.341680000000004, 59.339442000000005, 59.339569999999995, 59.339569999999995, 59.339569999999995, 59.339569999999995, 59.339569999999995, 59.40073072, 59.44220276, 59.442184999999995, 59.33653, 59.33644, 59.33646904, 59.33646904, 59.32169373, 59.31206825, 59.31206825, 59.31221504, 59.31206825, 59.31204, 59.31204, 59.31204, 59.31204, 59.31204, 59.36239896, 59.36239896, 59.362364, 59.362364, 59.362364, 59.362364, 59.3325, 59.33201, 59.29909256, 59.311120200000005, 59.310334, 59.310334, 59.31035859, 59.32257389, 59.32366529, 59.32366529, 59.32366529, 59.32366529, 59.32366529, 59.32366529, 59.32535178, 59.32535178, 59.32535178, 59.32535178, 59.32535178, 59.32535178, 59.32535178, 59.32535178, 59.32535178, 59.24122, 59.24122, 59.241775, 59.241775, 59.241775, 59.24131275, 59.37193526, 59.31416667, 59.32190343, 59.32190343, 59.32190343, 59.32190343, 59.32197026, 59.30564204, 59.33348, 59.33348, 59.30019920000001, 59.65166574, 52.30908793, 52.37296542, 52.31561961, 52.31430875, 52.31416667, 52.31416667, 59.45911559, 59.34639599, 59.34639599, 59.346123999999996, 59.346123999999996, 59.40192, 59.402079, 59.40192, 59.315911, 59.315911, 59.21010512, 59.369347999999995, 59.3667, 59.3667, 59.22231, 59.22231, 59.22231, 59.444811, 59.285, 59.27555556, 59.28549209, 59.28549209, 59.28549209, 59.28549209, 59.29833299999999, 59.352565399999996, 59.352565399999996, 59.28333333, 59.3246439, 59.34028000000001, 59.40306012, 59.36166, 59.3129659, 59.3129659, 59.3129659, 59.3129659, 59.3129659, 59.3129659, 59.3129659, 59.3129659, 59.3129659, 59.3129659, 59.3129659, 59.3129659, 59.3129659, 59.3129659, 59.321111, 59.321111, 59.3090821, 59.30958879, 59.30958879, 59.30958879, 59.30958879, 59.30958879, 59.30958879, 59.30958879, 59.30958879, 59.30958879, 59.30958879, 59.30958879, 59.30958879, 59.30958879, 59.30958879, 59.30958879, 59.30958879, 59.30958879, 59.30958879, 59.30958879, 59.30958879, 59.30958879, 59.30958879, 59.34742177, 59.33225899999999, 59.24293082, 59.24293082, 59.33661, 59.33661, 59.31886592, 59.2943902, 59.2943902, 59.2943902, 59.2943902, 59.24286046, 59.24257071, 59.24257071, 59.28099139, 59.31243455, 59.33246379999999, 59.33166667, 59.33246379999999, 52.3777, 59.1757, 59.1757, 59.1757, 59.1757, 59.1757, 59.1757, 59.1757, 59.33151721, 59.3318095, 56.04320421, 52.31666667, 51.0833, 51.08593048, 51.08593048, 51.08593048, 51.08593048, 51.08593048, 51.08593048, 51.0921982, 59.33435, 59.33435, 59.33435, 59.33435, 59.342778, 59.342778, 59.342778, 59.363889, 59.30485375, 59.30485375, 59.3454134, 59.37116684, 59.29975, 59.30529, 59.2833, 59.34526999999999, 59.316990000000004, 59.38641804, 59.38641804, 59.38641804, 59.30348718, 58.95, 58.95, 59.290240000000004, 59.290165, 59.290165, 59.31406666, 59.31406666, 59.34069531, 59.31691927, 59.3917989, 59.3917989, 59.3917989, 59.3917989, 59.3917989, 59.3917989, 59.3917989, 59.3917989, 59.3917989, 59.3917989, 59.31014519, 59.3102, 59.33571, 59.33571, 59.3307, 59.3, 59.3091507, 59.29285732, 59.303259999999995, 59.303259999999995, 59.31788358], \"legendgroup\": \"\", \"lon\": [18.07653494, 18.07559847, 18.07653494, 18.0711, 18.0711, 18.07361333, 18.07653494, 18.07361333, 18.07653494, 18.07653494, 18.07653494, 18.07559847, 18.07653494, 18.07653494, 18.07653494, 18.07653494, 18.07559847, 18.07653494, 18.07559847, 18.07653494, 18.07559847, 18.07653494, 18.07653494, 18.07653494, 18.07653494, 18.07653494, 18.07653494, 18.07653494, 18.07653494, 18.07649863, 18.07653494, 18.07653494, 18.07653494, 18.07559847, 18.07559847, 18.07653494, 18.07653494, 18.07653494, 18.07653494, 18.07096894, 18.07653494, 18.07653494, 18.07653494, 18.07653494, 18.07653494, 18.07653494, 18.07559847, 18.07653494, 18.07653494, 18.07541693, 18.07653494, 18.07559847, 18.07559847, 18.07653494, 18.07222222, 18.07653494, 18.07209, 18.07653494, 18.07649863, 18.07653494, 18.07559847, 18.07559847, 18.07653494, 18.07559847, 18.07559847, 18.07653494, 18.07559847, 18.07649863, 18.07653494, 18.07653494, 18.07559847, 18.07649863, 18.07653494, 18.07653494, 18.0711, 18.07559847, 18.07653494, 18.07650859, 18.07653494, 18.0711, 18.07650859, 18.07653494, 18.0756146, 18.07653494, 18.07653494, 18.07650859, 18.0756146, 18.07653494, 18.07653494, 18.07653494, 18.07540102, 18.0756146, 18.07653494, 18.07653494, 18.0756146, 18.07650859, 18.07209975, 18.0756146, 18.07653494, 18.07653494, 18.0756146, 18.07653494, 18.07653494, 18.07653494, 18.07558, 18.07653494, 18.0711, 18.07653494, 18.0756146, 18.0756146, 18.07653494, 18.07653494, 18.0756146, 18.0756146, 18.07653494, 18.0756146, 18.0756146, 18.07653494, 18.07653494, 18.07653494, 18.07540102, 18.07653494, 18.07653494, 18.0756146, 18.07538173, 18.07653494, 18.07653494, 18.07653494, 18.07653494, 18.07653494, 18.0756146, 18.07653494, 18.0756146, 18.0711, 18.07653494, 18.07653494, 18.07653494, 18.07113, 18.07653494, 18.07653494, 18.07653494, 18.07653494, 18.0711, 18.07653494, 18.07653494, 18.0756146, 18.07653494, 18.07653494, 18.0756146, 18.07653494, 18.07653494, 18.07650859, 18.07653494, 18.07653494, 18.07541693, 18.07653494, 18.07653494, 18.0711, 18.07653494, 18.07532044, 18.07583618, 18.07653494, 18.0756146, 18.07541693, 18.07541693, 18.07653494, 18.07653494, 18.0756146, 18.0756146, 18.07653494, 18.0711, 18.07653494, 18.0756146, 18.0756146, 18.07653494, 18.07653494, 18.0756146, 18.07653494, 18.07238514, 18.07653494, 18.07583618, 18.07653494, 18.07653494, 18.07653494, 18.07653494, 18.07653494, 18.07653494, 18.07653494, 18.07653494, 18.07653494, 18.0756146, 18.07653494, 18.07653494, 18.0756146, 18.07653494, 18.0756146, 18.0756146, 18.0756146, 18.07653494, 18.07653494, 18.07653494, 18.07653494, 18.07650859, 18.07541693, 18.0756146, 18.0756146, 18.0756146, 18.07653494, 18.07653494, 18.0756146, 18.07653494, 18.0756146, 18.07653494, 18.07653494, 18.07653494, 18.07653494, 18.07653494, 18.07653494, 18.07653494, 18.0756146, 18.0756146, 18.07653494, 18.07540102, 18.07653494, 18.07653494, 18.07653494, 18.07653494, 18.0756146, 18.07653494, 18.07653494, 18.07653494, 18.07653494, 18.0756146, 18.07653494, 18.07653494, 18.07653494, 18.07653494, 18.0756146, 18.07653494, 18.07653494, 18.07653494, 18.0756146, 18.07653494, 18.07653494, 18.07653494, 18.07535, 18.07653494, 18.07653494, 18.0756146, 18.07653494, 18.0756641, 18.07653494, 18.07653494, 18.0756641, 18.07653494, 18.07653494, 18.074901999999998, 18.0756641, 18.07653494, 18.07653494, 18.07653494, 18.07653494, 18.07653494, 18.07653494, 18.07653494, 18.07653494, 18.0756641, 18.07653494, 18.0756146, 18.07653494, 18.07653494, 18.07653494, 18.07653494, 18.07653494, 18.07653494, 18.07653494, 18.07653494, 18.07653494, 18.07653494, 18.0756146, 18.07653494, 18.0756146, 18.07653494, 18.0756146, 18.07653494, 18.07536549, 18.07653494, 18.07653494, 18.07650859, 18.071944000000002, 18.0756146, 18.0756146, 18.07653494, 18.07653494, 18.0756146, 18.07653494, 17.96702, 18.06781588, 18.06735903, 17.97493, 17.97493, 17.97493, 17.97493, 17.97493, 17.97493, 17.97493, 17.97493, 17.97493, 17.97493, 17.97493, 17.97493, 17.97493, 17.97493, 17.97493, 17.97493, 17.97493, 17.97493, 17.97493, 17.97493, 17.97493, 17.97493, 17.97493, 17.97493, 17.975158999999998, 17.975158999999998, 17.97493, 17.97493, 17.97493, 17.97493, 17.97493, 17.975158999999998, 17.975158999999998, 17.97493, 17.97493, 17.975158999999998, 17.975158999999998, 17.975158999999998, 17.975158999999998, 17.975158999999998, 17.975158999999998, 18.05745, 17.91003, 17.91003, 17.910421, 17.910421, 17.910421, 17.910421, 17.910421, 18.06718, 18.06718, 18.067001, 18.066226999999998, 18.06427381, 18.06427381, 18.06427381, 18.06427381, 18.06427381, 18.06427381, 18.06427381, 18.06427381, 18.06427381, 18.06427381, 18.06427381, 18.06469, 18.06469, 18.06469, 18.06469, 18.06469, 18.06469, 18.06469, 18.06469, 18.06469, 18.06469, 18.06469, 18.06469, 18.08549566, 18.085726, 18.085726, 18.085726, 18.085726, 18.085726, 18.085726, 18.085726, 18.085726, 18.085726, 18.085726, 18.085726, 18.085726, 18.085726, 18.085726, 18.085726, 18.085726, 18.085726, 18.085726, 18.085726, 18.085726, 18.085726, 18.085726, 18.085726, 18.085726, 18.085726, 18.085726, 18.085726, 18.085726, 18.085726, 18.085726, 18.085726, 18.085726, 18.085726, 18.05174887, 18.05174887, 18.05174887, 18.05174887, 18.05174887, 18.05174887, 18.05174887, 18.05174887, 18.05174887, 18.05174887, 18.05174887, 18.05174887, 18.05174887, 18.05174887, 18.05174887, 18.05174887, 18.05174887, 18.05174887, 18.05174887, 18.05174887, 18.052042, 18.052042, 18.052042, 18.052042, 18.052042, 18.052042, 18.052020000000002, 18.052020000000002, 18.052020000000002, 18.052020000000002, 18.052020000000002, 18.052020000000002, 18.052020000000002, 18.052020000000002, 18.052020000000002, 18.052020000000002, 18.052020000000002, 18.052020000000002, 18.052020000000002, 18.052020000000002, 18.052020000000002, 18.052020000000002, 18.052020000000002, 18.052020000000002, 18.052020000000002, 18.052020000000002, 18.052020000000002, 18.052020000000002, 18.052020000000002, 18.052020000000002, 18.052020000000002, 18.052020000000002, 18.096513199999997, 18.096513199999997, 18.09494777, 18.096513199999997, 18.096513199999997, 18.096513199999997, 18.096513199999997, 18.096513199999997, 18.096513199999997, 18.096513199999997, 18.096513199999997, 18.096513199999997, 18.096513199999997, 18.096513199999997, 18.096513199999997, 18.096513199999997, 18.096513199999997, 18.096513199999997, 18.096513199999997, 18.09739, 18.096513199999997, 18.096513199999997, 18.09739, 18.09739, 18.096513199999997, 18.09739, 18.09739, 18.09494777, 18.096513199999997, 18.09770734, 18.09547452, 18.096513199999997, 18.096513199999997, 18.096513199999997, 18.096513199999997, 18.096513199999997, 18.096513199999997, 18.096513199999997, 18.096513199999997, 18.096513199999997, 18.096513199999997, 18.096513199999997, 18.096513199999997, 18.096513199999997, 18.096513199999997, 18.096513199999997, 18.096513199999997, 18.096513199999997, 18.096513199999997, 18.096513199999997, 18.096513199999997, 18.096513199999997, 18.21478302, 18.07938, 18.07938, 18.0786568, 18.07909, 18.02764472, 18.02764472, 17.93892, 17.93988582, 17.94032173, 17.93892, 17.94032173, 17.94032173, 17.94166667, 17.93892, 17.93892, 17.93977078, 17.94032173, 17.93977078, 17.9416, 17.9416, 17.94069, 17.939766, 17.939766, 17.9363181, 17.9363181, 17.9363181, 17.9363181, 17.9363181, 17.9363181, 17.9363181, 17.9363181, 17.9363181, 17.9363181, 17.9363181, 17.9363181, 17.9363181, 17.9363181, 17.9363181, 17.9363181, 17.9363181, 17.9363181, 17.9363181, 17.9363181, 17.936456, 17.936456, 17.936456, 17.936281899999997, 17.936281899999997, 17.936281899999997, 17.936281899999997, 17.936281899999997, 17.936281899999997, 17.936281899999997, 17.936281899999997, 17.936281899999997, 17.936281899999997, 17.936281899999997, 17.936281899999997, 17.936281899999997, 17.936281899999997, 17.936281899999997, 17.936281899999997, 17.936281899999997, 17.936281899999997, 18.04226276, 17.57045857, 17.9, 17.9, 17.9, 17.9, 17.9, 17.9, 18.071360000000002, 18.071360000000002, 18.071360000000002, 18.1637, 18.1637, 18.1637, 18.1637, 18.16379105, 17.97741175, 17.8727207, 17.872723, 17.872723, 18.03691438, 18.0641776, 18.0641776, 18.0641776, 18.0641776, 18.0641776, 18.0642, 18.0642, 18.0642, 18.0642, 18.0642, 18.0642, 18.0642, 18.0642, 18.0642, 18.0642, 18.0642, 18.0642, 18.0642, 18.0642, 18.01222088, 18.012521, 18.012521, 18.012521, 18.012521, 18.012521, 18.0380928, 18.09585628, 18.095667000000002, 18.05864, 18.05872, 18.05877863, 18.05877863, 18.07495941, 18.07390065, 18.07390065, 18.07396889, 18.07390065, 18.073970000000003, 18.073970000000003, 18.073970000000003, 18.073970000000003, 18.073970000000003, 17.96602968, 17.96602968, 17.965770000000003, 17.965770000000003, 17.965770000000003, 17.965770000000003, 18.06444444, 18.06312, 18.01743004, 18.4218367, 18.421012, 18.421012, 18.18527064, 18.09692714, 18.00205935, 18.00205935, 18.00205935, 18.00205935, 18.00205935, 18.00205935, 18.09606097, 18.09606097, 18.09606097, 18.09606097, 18.09606097, 18.09606097, 18.09606097, 18.09606097, 18.09606097, 18.09432, 18.09432, 18.09379, 18.09379, 18.09379, 18.09434328, 17.9738708, 18.22166667, 18.216364499999997, 18.216364499999997, 18.216364499999997, 18.216364499999997, 18.21632561, 18.13044789, 18.032239999999998, 18.032239999999998, 18.06658585, 17.93141151, 4.76393985, 4.89344369, 4.996049500000001, 4.94190716, 4.94194444, 4.94194444, 17.92431481, 18.031986899999996, 18.031986899999996, 18.032264, 18.032264, 17.94602, 17.946435, 17.94602, 18.032367999999998, 18.032367999999998, 17.91297022, 18.005941, 17.9667, 17.9667, 17.9377, 17.9377, 17.9377, 18.069981, 18.092222, 18.09944444, 18.09486998, 18.09486998, 18.09486998, 18.09486998, 18.080833, 18.0325375, 18.0325375, 18.1, 18.21302615, 18.07841, 17.94442349, 17.96774, 18.068282699999997, 18.068282699999997, 18.068282699999997, 18.068282699999997, 18.068282699999997, 18.068282699999997, 18.068282699999997, 18.068282699999997, 18.068282699999997, 18.068282699999997, 18.068282699999997, 18.068282699999997, 18.068282699999997, 18.068282699999997, 18.071944000000002, 18.071944000000002, 18.056026199999998, 18.05670199, 18.05670199, 18.05670199, 18.05670199, 18.05670199, 18.05670199, 18.05670199, 18.05670199, 18.05670199, 18.05670199, 18.05670199, 18.05670199, 18.05670199, 18.05670199, 18.05670199, 18.05670199, 18.05670199, 18.05670199, 18.05670199, 18.05670199, 18.05670199, 18.05670199, 18.03071372, 17.98217, 18.09191941, 18.09191941, 18.03458, 18.03458, 18.20103419, 18.0795054, 18.0795054, 18.0795054, 18.0795054, 18.2140462, 18.2136602, 18.2136602, 18.01418226, 18.06516966, 18.0603062, 18.06083333, 18.0603062, 4.9001, 18.14305, 18.14305, 18.14305, 18.14305, 18.14305, 18.14305, 18.14305, 18.05532786, 18.05651299, 12.6928805, 5.55, 4.36667, 4.38379144, 4.38379144, 4.38379144, 4.38379144, 4.38379144, 4.38379144, 4.38555676, 18.07549, 18.07549, 18.07549, 18.07549, 18.049722, 18.049722, 18.049722, 17.870556, 18.19929872, 18.19929872, 18.32668187, 18.00346844, 17.991979999999998, 18.09546, 18.0, 18.12947, 18.07625, 17.93677432, 17.93677432, 17.93677432, 18.07873817, 18.0267, 18.0267, 18.11672, 18.117115, 18.117115, 18.08423562, 18.08423562, 18.10974437, 18.08889996, 18.0387252, 18.0387252, 18.0387252, 18.0387252, 18.0387252, 18.0387252, 18.0387252, 18.0387252, 18.0387252, 18.0387252, 18.11471904, 18.16451, 18.0615, 18.0615, 18.0605, 18.1667, 18.051889399999997, 18.07916534, 18.09829, 18.09829, 18.08246095], \"marker\": {\"color\": [0, 0, 0, 0, 0, 0, 0, 0, 0, 0, 0, 0, 0, 0, 0, 0, 0, 0, 0, 0, 0, 0, 0, 0, 0, 0, 0, 0, 0, 0, 0, 0, 0, 0, 0, 0, 0, 0, 0, 0, 0, 0, 0, 0, 0, 0, 0, 0, 0, 0, 0, 0, 0, 0, 0, 0, 0, 0, 0, 0, 0, 0, 0, 0, 0, 0, 0, 0, 0, 0, 0, 0, 0, 0, 0, 0, 0, 0, 0, 0, 0, 0, 0, 0, 0, 0, 0, 0, 0, 0, 0, 0, 0, 0, 0, 0, 0, 0, 0, 0, 0, 0, 0, 0, 0, 0, 0, 0, 0, 0, 0, 0, 0, 0, 0, 0, 0, 0, 0, 0, 0, 0, 0, 0, 0, 0, 0, 0, 0, 0, 0, 0, 0, 0, 0, 0, 0, 0, 0, 0, 0, 0, 0, 0, 0, 0, 0, 0, 0, 0, 0, 0, 0, 0, 0, 0, 0, 0, 0, 0, 0, 0, 0, 0, 0, 0, 0, 0, 0, 0, 0, 0, 0, 0, 0, 0, 0, 0, 0, 0, 0, 0, 0, 0, 0, 0, 0, 0, 0, 0, 0, 0, 0, 0, 0, 0, 0, 0, 0, 0, 0, 0, 0, 0, 0, 0, 0, 0, 0, 0, 0, 0, 0, 0, 0, 0, 0, 0, 0, 0, 0, 0, 0, 0, 0, 0, 0, 0, 0, 0, 0, 0, 0, 0, 0, 0, 0, 0, 0, 0, 0, 0, 0, 0, 0, 0, 0, 0, 0, 0, 0, 0, 0, 0, 0, 0, 0, 0, 0, 0, 0, 0, 0, 0, 0, 0, 0, 0, 0, 0, 0, 0, 0, 0, 0, 0, 0, 0, 0, 0, 0, 0, 0, 0, 0, 0, 0, 0, 0, 0, 0, 0, 0, 0, 0, 0, 1, 2, 2, 3, 3, 3, 3, 3, 3, 3, 3, 3, 3, 3, 3, 3, 3, 3, 3, 3, 3, 3, 3, 3, 3, 3, 3, 3, 3, 3, 3, 3, 3, 3, 3, 3, 3, 3, 3, 3, 3, 3, 3, 3, 4, 5, 5, 5, 5, 5, 5, 5, 6, 6, 6, 6, 7, 7, 7, 7, 7, 7, 7, 7, 7, 7, 7, 7, 7, 7, 7, 7, 7, 7, 7, 7, 7, 7, 7, 8, 8, 8, 8, 8, 8, 8, 8, 8, 8, 8, 8, 8, 8, 8, 8, 8, 8, 8, 8, 8, 8, 8, 8, 8, 8, 8, 8, 8, 8, 8, 8, 8, 8, 9, 9, 9, 9, 9, 9, 9, 9, 9, 9, 9, 9, 9, 9, 9, 9, 9, 9, 9, 9, 9, 9, 9, 9, 9, 9, 9, 9, 9, 9, 9, 9, 9, 9, 9, 9, 9, 9, 9, 9, 9, 9, 9, 9, 9, 9, 9, 9, 9, 9, 9, 9, 10, 10, 10, 10, 10, 10, 10, 10, 10, 10, 10, 10, 10, 10, 10, 10, 10, 10, 10, 10, 10, 10, 10, 10, 10, 10, 10, 10, 10, 10, 10, 10, 10, 10, 10, 10, 10, 10, 10, 10, 10, 10, 10, 10, 10, 10, 10, 10, 10, 10, 10, 10, 11, 12, 12, 13, 13, 14, 14, 15, 15, 15, 15, 15, 15, 15, 15, 15, 15, 15, 15, 15, 15, 15, 15, 15, 16, 16, 16, 16, 16, 16, 16, 16, 16, 16, 16, 16, 16, 16, 16, 16, 16, 16, 16, 16, 16, 16, 16, 16, 16, 16, 16, 16, 16, 16, 16, 16, 16, 16, 16, 16, 16, 16, 16, 16, 16, 17, 18, 19, 19, 19, 19, 19, 19, 20, 20, 20, 21, 21, 21, 21, 21, 22, 23, 23, 23, 24, 25, 25, 25, 25, 25, 25, 25, 25, 25, 25, 25, 25, 25, 25, 25, 25, 25, 25, 25, 26, 26, 26, 26, 26, 26, 27, 28, 28, 29, 29, 29, 29, 30, 31, 31, 31, 31, 31, 31, 31, 31, 31, 32, 32, 32, 32, 32, 32, 33, 33, 34, 35, 35, 35, 36, 37, 38, 38, 38, 38, 38, 38, 39, 39, 39, 39, 39, 39, 39, 39, 39, 40, 40, 40, 40, 40, 40, 41, 42, 43, 43, 43, 43, 43, 44, 45, 45, 46, 47, 48, 49, 50, 51, 51, 51, 52, 53, 53, 53, 53, 54, 54, 54, 55, 55, 56, 57, 58, 58, 59, 59, 59, 60, 61, 62, 63, 63, 63, 63, 64, 65, 65, 66, 67, 68, 69, 70, 71, 71, 71, 71, 71, 71, 71, 71, 71, 71, 71, 71, 71, 71, 72, 72, 73, 73, 73, 73, 73, 73, 73, 73, 73, 73, 73, 73, 73, 73, 73, 73, 73, 73, 73, 73, 73, 73, 73, 74, 75, 76, 76, 77, 77, 78, 79, 79, 79, 79, 80, 80, 80, 81, 82, 83, 83, 83, 84, 85, 85, 85, 85, 85, 85, 85, 86, 86, 87, 88, 89, 90, 90, 90, 90, 90, 90, 91, 92, 92, 92, 92, 93, 93, 93, 94, 95, 95, 96, 97, 98, 99, 100, 101, 102, 103, 103, 103, 104, 105, 105, 106, 106, 106, 107, 107, 108, 109, 110, 110, 110, 110, 110, 110, 110, 110, 110, 110, 111, 112, 113, 113, 114, 115, 116, 117, 118, 118, 119], \"coloraxis\": \"coloraxis\"}, \"mode\": \"markers\", \"name\": \"\", \"showlegend\": false, \"subplot\": \"mapbox\", \"type\": \"scattermapbox\"}],\n",
       "                        {\"coloraxis\": {\"colorbar\": {\"title\": {\"text\": \"region\"}}, \"colorscale\": [[0.0, \"#0d0887\"], [0.1111111111111111, \"#46039f\"], [0.2222222222222222, \"#7201a8\"], [0.3333333333333333, \"#9c179e\"], [0.4444444444444444, \"#bd3786\"], [0.5555555555555556, \"#d8576b\"], [0.6666666666666666, \"#ed7953\"], [0.7777777777777778, \"#fb9f3a\"], [0.8888888888888888, \"#fdca26\"], [1.0, \"#f0f921\"]]}, \"legend\": {\"tracegroupgap\": 0}, \"mapbox\": {\"center\": {\"lat\": 59.1707466699532, \"lon\": 17.798752206608185}, \"domain\": {\"x\": [0.0, 1.0], \"y\": [0.0, 1.0]}, \"style\": \"open-street-map\", \"zoom\": 8}, \"margin\": {\"t\": 60}, \"template\": {\"data\": {\"bar\": [{\"error_x\": {\"color\": \"#2a3f5f\"}, \"error_y\": {\"color\": \"#2a3f5f\"}, \"marker\": {\"line\": {\"color\": \"#E5ECF6\", \"width\": 0.5}}, \"type\": \"bar\"}], \"barpolar\": [{\"marker\": {\"line\": {\"color\": \"#E5ECF6\", \"width\": 0.5}}, \"type\": \"barpolar\"}], \"carpet\": [{\"aaxis\": {\"endlinecolor\": \"#2a3f5f\", \"gridcolor\": \"white\", \"linecolor\": \"white\", \"minorgridcolor\": \"white\", \"startlinecolor\": \"#2a3f5f\"}, \"baxis\": {\"endlinecolor\": \"#2a3f5f\", \"gridcolor\": \"white\", \"linecolor\": \"white\", \"minorgridcolor\": \"white\", \"startlinecolor\": \"#2a3f5f\"}, \"type\": \"carpet\"}], \"choropleth\": [{\"colorbar\": {\"outlinewidth\": 0, \"ticks\": \"\"}, \"type\": \"choropleth\"}], \"contour\": [{\"colorbar\": {\"outlinewidth\": 0, \"ticks\": \"\"}, \"colorscale\": [[0.0, \"#0d0887\"], [0.1111111111111111, \"#46039f\"], [0.2222222222222222, \"#7201a8\"], [0.3333333333333333, \"#9c179e\"], [0.4444444444444444, \"#bd3786\"], [0.5555555555555556, \"#d8576b\"], [0.6666666666666666, \"#ed7953\"], [0.7777777777777778, \"#fb9f3a\"], [0.8888888888888888, \"#fdca26\"], [1.0, \"#f0f921\"]], \"type\": \"contour\"}], \"contourcarpet\": [{\"colorbar\": {\"outlinewidth\": 0, \"ticks\": \"\"}, \"type\": \"contourcarpet\"}], \"heatmap\": [{\"colorbar\": {\"outlinewidth\": 0, \"ticks\": \"\"}, \"colorscale\": [[0.0, \"#0d0887\"], [0.1111111111111111, \"#46039f\"], [0.2222222222222222, \"#7201a8\"], [0.3333333333333333, \"#9c179e\"], [0.4444444444444444, \"#bd3786\"], [0.5555555555555556, \"#d8576b\"], [0.6666666666666666, \"#ed7953\"], [0.7777777777777778, \"#fb9f3a\"], [0.8888888888888888, \"#fdca26\"], [1.0, \"#f0f921\"]], \"type\": \"heatmap\"}], \"heatmapgl\": [{\"colorbar\": {\"outlinewidth\": 0, \"ticks\": \"\"}, \"colorscale\": [[0.0, \"#0d0887\"], [0.1111111111111111, \"#46039f\"], [0.2222222222222222, \"#7201a8\"], [0.3333333333333333, \"#9c179e\"], [0.4444444444444444, \"#bd3786\"], [0.5555555555555556, \"#d8576b\"], [0.6666666666666666, \"#ed7953\"], [0.7777777777777778, \"#fb9f3a\"], [0.8888888888888888, \"#fdca26\"], [1.0, \"#f0f921\"]], \"type\": \"heatmapgl\"}], \"histogram\": [{\"marker\": {\"colorbar\": {\"outlinewidth\": 0, \"ticks\": \"\"}}, \"type\": \"histogram\"}], \"histogram2d\": [{\"colorbar\": {\"outlinewidth\": 0, \"ticks\": \"\"}, \"colorscale\": [[0.0, \"#0d0887\"], [0.1111111111111111, \"#46039f\"], [0.2222222222222222, \"#7201a8\"], [0.3333333333333333, \"#9c179e\"], [0.4444444444444444, \"#bd3786\"], [0.5555555555555556, \"#d8576b\"], [0.6666666666666666, \"#ed7953\"], [0.7777777777777778, \"#fb9f3a\"], [0.8888888888888888, \"#fdca26\"], [1.0, \"#f0f921\"]], \"type\": \"histogram2d\"}], \"histogram2dcontour\": [{\"colorbar\": {\"outlinewidth\": 0, \"ticks\": \"\"}, \"colorscale\": [[0.0, \"#0d0887\"], [0.1111111111111111, \"#46039f\"], [0.2222222222222222, \"#7201a8\"], [0.3333333333333333, \"#9c179e\"], [0.4444444444444444, \"#bd3786\"], [0.5555555555555556, \"#d8576b\"], [0.6666666666666666, \"#ed7953\"], [0.7777777777777778, \"#fb9f3a\"], [0.8888888888888888, \"#fdca26\"], [1.0, \"#f0f921\"]], \"type\": \"histogram2dcontour\"}], \"mesh3d\": [{\"colorbar\": {\"outlinewidth\": 0, \"ticks\": \"\"}, \"type\": \"mesh3d\"}], \"parcoords\": [{\"line\": {\"colorbar\": {\"outlinewidth\": 0, \"ticks\": \"\"}}, \"type\": \"parcoords\"}], \"pie\": [{\"automargin\": true, \"type\": \"pie\"}], \"scatter\": [{\"marker\": {\"colorbar\": {\"outlinewidth\": 0, \"ticks\": \"\"}}, \"type\": \"scatter\"}], \"scatter3d\": [{\"line\": {\"colorbar\": {\"outlinewidth\": 0, \"ticks\": \"\"}}, \"marker\": {\"colorbar\": {\"outlinewidth\": 0, \"ticks\": \"\"}}, \"type\": \"scatter3d\"}], \"scattercarpet\": [{\"marker\": {\"colorbar\": {\"outlinewidth\": 0, \"ticks\": \"\"}}, \"type\": \"scattercarpet\"}], \"scattergeo\": [{\"marker\": {\"colorbar\": {\"outlinewidth\": 0, \"ticks\": \"\"}}, \"type\": \"scattergeo\"}], \"scattergl\": [{\"marker\": {\"colorbar\": {\"outlinewidth\": 0, \"ticks\": \"\"}}, \"type\": \"scattergl\"}], \"scattermapbox\": [{\"marker\": {\"colorbar\": {\"outlinewidth\": 0, \"ticks\": \"\"}}, \"type\": \"scattermapbox\"}], \"scatterpolar\": [{\"marker\": {\"colorbar\": {\"outlinewidth\": 0, \"ticks\": \"\"}}, \"type\": \"scatterpolar\"}], \"scatterpolargl\": [{\"marker\": {\"colorbar\": {\"outlinewidth\": 0, \"ticks\": \"\"}}, \"type\": \"scatterpolargl\"}], \"scatterternary\": [{\"marker\": {\"colorbar\": {\"outlinewidth\": 0, \"ticks\": \"\"}}, \"type\": \"scatterternary\"}], \"surface\": [{\"colorbar\": {\"outlinewidth\": 0, \"ticks\": \"\"}, \"colorscale\": [[0.0, \"#0d0887\"], [0.1111111111111111, \"#46039f\"], [0.2222222222222222, \"#7201a8\"], [0.3333333333333333, \"#9c179e\"], [0.4444444444444444, \"#bd3786\"], [0.5555555555555556, \"#d8576b\"], [0.6666666666666666, \"#ed7953\"], [0.7777777777777778, \"#fb9f3a\"], [0.8888888888888888, \"#fdca26\"], [1.0, \"#f0f921\"]], \"type\": \"surface\"}], \"table\": [{\"cells\": {\"fill\": {\"color\": \"#EBF0F8\"}, \"line\": {\"color\": \"white\"}}, \"header\": {\"fill\": {\"color\": \"#C8D4E3\"}, \"line\": {\"color\": \"white\"}}, \"type\": \"table\"}]}, \"layout\": {\"annotationdefaults\": {\"arrowcolor\": \"#2a3f5f\", \"arrowhead\": 0, \"arrowwidth\": 1}, \"coloraxis\": {\"colorbar\": {\"outlinewidth\": 0, \"ticks\": \"\"}}, \"colorscale\": {\"diverging\": [[0, \"#8e0152\"], [0.1, \"#c51b7d\"], [0.2, \"#de77ae\"], [0.3, \"#f1b6da\"], [0.4, \"#fde0ef\"], [0.5, \"#f7f7f7\"], [0.6, \"#e6f5d0\"], [0.7, \"#b8e186\"], [0.8, \"#7fbc41\"], [0.9, \"#4d9221\"], [1, \"#276419\"]], \"sequential\": [[0.0, \"#0d0887\"], [0.1111111111111111, \"#46039f\"], [0.2222222222222222, \"#7201a8\"], [0.3333333333333333, \"#9c179e\"], [0.4444444444444444, \"#bd3786\"], [0.5555555555555556, \"#d8576b\"], [0.6666666666666666, \"#ed7953\"], [0.7777777777777778, \"#fb9f3a\"], [0.8888888888888888, \"#fdca26\"], [1.0, \"#f0f921\"]], \"sequentialminus\": [[0.0, \"#0d0887\"], [0.1111111111111111, \"#46039f\"], [0.2222222222222222, \"#7201a8\"], [0.3333333333333333, \"#9c179e\"], [0.4444444444444444, \"#bd3786\"], [0.5555555555555556, \"#d8576b\"], [0.6666666666666666, \"#ed7953\"], [0.7777777777777778, \"#fb9f3a\"], [0.8888888888888888, \"#fdca26\"], [1.0, \"#f0f921\"]]}, \"colorway\": [\"#636efa\", \"#EF553B\", \"#00cc96\", \"#ab63fa\", \"#FFA15A\", \"#19d3f3\", \"#FF6692\", \"#B6E880\", \"#FF97FF\", \"#FECB52\"], \"font\": {\"color\": \"#2a3f5f\"}, \"geo\": {\"bgcolor\": \"white\", \"lakecolor\": \"white\", \"landcolor\": \"#E5ECF6\", \"showlakes\": true, \"showland\": true, \"subunitcolor\": \"white\"}, \"hoverlabel\": {\"align\": \"left\"}, \"hovermode\": \"closest\", \"mapbox\": {\"style\": \"light\"}, \"paper_bgcolor\": \"white\", \"plot_bgcolor\": \"#E5ECF6\", \"polar\": {\"angularaxis\": {\"gridcolor\": \"white\", \"linecolor\": \"white\", \"ticks\": \"\"}, \"bgcolor\": \"#E5ECF6\", \"radialaxis\": {\"gridcolor\": \"white\", \"linecolor\": \"white\", \"ticks\": \"\"}}, \"scene\": {\"xaxis\": {\"backgroundcolor\": \"#E5ECF6\", \"gridcolor\": \"white\", \"gridwidth\": 2, \"linecolor\": \"white\", \"showbackground\": true, \"ticks\": \"\", \"zerolinecolor\": \"white\"}, \"yaxis\": {\"backgroundcolor\": \"#E5ECF6\", \"gridcolor\": \"white\", \"gridwidth\": 2, \"linecolor\": \"white\", \"showbackground\": true, \"ticks\": \"\", \"zerolinecolor\": \"white\"}, \"zaxis\": {\"backgroundcolor\": \"#E5ECF6\", \"gridcolor\": \"white\", \"gridwidth\": 2, \"linecolor\": \"white\", \"showbackground\": true, \"ticks\": \"\", \"zerolinecolor\": \"white\"}}, \"shapedefaults\": {\"line\": {\"color\": \"#2a3f5f\"}}, \"ternary\": {\"aaxis\": {\"gridcolor\": \"white\", \"linecolor\": \"white\", \"ticks\": \"\"}, \"baxis\": {\"gridcolor\": \"white\", \"linecolor\": \"white\", \"ticks\": \"\"}, \"bgcolor\": \"#E5ECF6\", \"caxis\": {\"gridcolor\": \"white\", \"linecolor\": \"white\", \"ticks\": \"\"}}, \"title\": {\"x\": 0.05}, \"xaxis\": {\"automargin\": true, \"gridcolor\": \"white\", \"linecolor\": \"white\", \"ticks\": \"\", \"title\": {\"standoff\": 15}, \"zerolinecolor\": \"white\", \"zerolinewidth\": 2}, \"yaxis\": {\"automargin\": true, \"gridcolor\": \"white\", \"linecolor\": \"white\", \"ticks\": \"\", \"title\": {\"standoff\": 15}, \"zerolinecolor\": \"white\", \"zerolinewidth\": 2}}}},\n",
       "                        {\"responsive\": true}\n",
       "                    ).then(function(){\n",
       "                            \n",
       "var gd = document.getElementById('335aa6ae-3edf-45d6-a6cd-5a16f1de4075');\n",
       "var x = new MutationObserver(function (mutations, observer) {{\n",
       "        var display = window.getComputedStyle(gd).display;\n",
       "        if (!display || display === 'none') {{\n",
       "            console.log([gd, 'removed!']);\n",
       "            Plotly.purge(gd);\n",
       "            observer.disconnect();\n",
       "        }}\n",
       "}});\n",
       "\n",
       "// Listen for the removal of the full notebook cells\n",
       "var notebookContainer = gd.closest('#notebook-container');\n",
       "if (notebookContainer) {{\n",
       "    x.observe(notebookContainer, {childList: true});\n",
       "}}\n",
       "\n",
       "// Listen for the clearing of the current output cell\n",
       "var outputEl = gd.closest('.output');\n",
       "if (outputEl) {{\n",
       "    x.observe(outputEl, {childList: true});\n",
       "}}\n",
       "\n",
       "                        })\n",
       "                };\n",
       "                });\n",
       "            </script>\n",
       "        </div>"
      ]
     },
     "metadata": {},
     "output_type": "display_data"
    }
   ],
   "source": [
    "fig = px.scatter_mapbox(\n",
    "    usertweets.reset_index(), \n",
    "    lat='latitude', lon='longitude', \n",
    "    hover_data=['region', 'hourofday', 'weekday'],\n",
    "    color='region'\n",
    ")\n",
    "fig.update_layout(mapbox_style=\"open-street-map\")\n",
    "fig.show()"
   ]
  },
  {
   "cell_type": "code",
   "execution_count": null,
   "metadata": {},
   "outputs": [],
   "source": []
  }
 ],
 "metadata": {
  "kernelspec": {
   "display_name": "PyCharm (mscthesis)",
   "language": "python",
   "name": "pycharm-eadfd222"
  },
  "language_info": {
   "codemirror_mode": {
    "name": "ipython",
    "version": 3
   },
   "file_extension": ".py",
   "mimetype": "text/x-python",
   "name": "python",
   "nbconvert_exporter": "python",
   "pygments_lexer": "ipython3",
   "version": "3.8.1"
  }
 },
 "nbformat": 4,
 "nbformat_minor": 4
}

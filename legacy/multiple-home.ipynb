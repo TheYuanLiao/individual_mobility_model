{
 "cells": [
  {
   "cell_type": "code",
   "execution_count": 172,
   "metadata": {},
   "outputs": [
    {
     "data": {
      "text/plain": [
       "<module 'activitiesdf' from '/Users/kristofferek/Documents/git/mscthesis/src/py/activitiesdf.py'>"
      ]
     },
     "execution_count": 172,
     "metadata": {},
     "output_type": "execute_result"
    }
   ],
   "source": [
    "import geopandas as gpd\n",
    "import pandas as pd\n",
    "import matplotlib.pyplot as plt\n",
    "import matplotlib.colors as pltcolors\n",
    "import numpy as np\n",
    "import plotly.express as px\n",
    "import plotly\n",
    "import activitiesdf\n",
    "from datetime import timedelta\n",
    "import importlib\n",
    "importlib.reload(activitiesdf)"
   ]
  },
  {
   "cell_type": "code",
   "execution_count": 183,
   "metadata": {},
   "outputs": [
    {
     "data": {
      "text/html": [
       "<div>\n",
       "<style scoped>\n",
       "    .dataframe tbody tr th:only-of-type {\n",
       "        vertical-align: middle;\n",
       "    }\n",
       "\n",
       "    .dataframe tbody tr th {\n",
       "        vertical-align: top;\n",
       "    }\n",
       "\n",
       "    .dataframe thead th {\n",
       "        text-align: right;\n",
       "    }\n",
       "</style>\n",
       "<table border=\"1\" class=\"dataframe\">\n",
       "  <thead>\n",
       "    <tr style=\"text-align: right;\">\n",
       "      <th></th>\n",
       "      <th>userid</th>\n",
       "      <th>region</th>\n",
       "      <th>tweetid</th>\n",
       "      <th>createdat</th>\n",
       "      <th>latitude</th>\n",
       "      <th>longitude</th>\n",
       "      <th>month</th>\n",
       "      <th>weekday</th>\n",
       "      <th>hourofday</th>\n",
       "      <th>timezone</th>\n",
       "      <th>geometry</th>\n",
       "      <th>tweet_count</th>\n",
       "      <th>quantile</th>\n",
       "      <th>label</th>\n",
       "    </tr>\n",
       "  </thead>\n",
       "  <tbody>\n",
       "    <tr>\n",
       "      <th>0</th>\n",
       "      <td>5616</td>\n",
       "      <td>0</td>\n",
       "      <td>306814580301119488</td>\n",
       "      <td>2013-02-27 18:14:30+01:00</td>\n",
       "      <td>57.599221</td>\n",
       "      <td>18.436371</td>\n",
       "      <td>2.0</td>\n",
       "      <td>3.0</td>\n",
       "      <td>18.0</td>\n",
       "      <td>Europe/Stockholm</td>\n",
       "      <td>POINT (18.43637 57.59922)</td>\n",
       "      <td>2171</td>\n",
       "      <td>(2076.0, 4778.0]</td>\n",
       "      <td>other</td>\n",
       "    </tr>\n",
       "    <tr>\n",
       "      <th>1</th>\n",
       "      <td>5616</td>\n",
       "      <td>0</td>\n",
       "      <td>596331871241379840</td>\n",
       "      <td>2015-05-07 17:12:52+02:00</td>\n",
       "      <td>57.599221</td>\n",
       "      <td>18.436371</td>\n",
       "      <td>5.0</td>\n",
       "      <td>4.0</td>\n",
       "      <td>17.0</td>\n",
       "      <td>Europe/Stockholm</td>\n",
       "      <td>POINT (18.43637 57.59922)</td>\n",
       "      <td>2171</td>\n",
       "      <td>(2076.0, 4778.0]</td>\n",
       "      <td>other</td>\n",
       "    </tr>\n",
       "    <tr>\n",
       "      <th>2</th>\n",
       "      <td>5616</td>\n",
       "      <td>0</td>\n",
       "      <td>623057810864111616</td>\n",
       "      <td>2015-07-20 11:12:12+02:00</td>\n",
       "      <td>57.599221</td>\n",
       "      <td>18.436371</td>\n",
       "      <td>7.0</td>\n",
       "      <td>1.0</td>\n",
       "      <td>11.0</td>\n",
       "      <td>Europe/Stockholm</td>\n",
       "      <td>POINT (18.43637 57.59922)</td>\n",
       "      <td>2171</td>\n",
       "      <td>(2076.0, 4778.0]</td>\n",
       "      <td>other</td>\n",
       "    </tr>\n",
       "    <tr>\n",
       "      <th>3</th>\n",
       "      <td>5616</td>\n",
       "      <td>0</td>\n",
       "      <td>679673567416565760</td>\n",
       "      <td>2015-12-23 15:43:00+01:00</td>\n",
       "      <td>57.599221</td>\n",
       "      <td>18.436371</td>\n",
       "      <td>12.0</td>\n",
       "      <td>3.0</td>\n",
       "      <td>15.0</td>\n",
       "      <td>Europe/Stockholm</td>\n",
       "      <td>POINT (18.43637 57.59922)</td>\n",
       "      <td>2171</td>\n",
       "      <td>(2076.0, 4778.0]</td>\n",
       "      <td>other</td>\n",
       "    </tr>\n",
       "    <tr>\n",
       "      <th>4</th>\n",
       "      <td>5616</td>\n",
       "      <td>0</td>\n",
       "      <td>757647103011262465</td>\n",
       "      <td>2016-07-25 20:42:00+02:00</td>\n",
       "      <td>57.599221</td>\n",
       "      <td>18.436371</td>\n",
       "      <td>7.0</td>\n",
       "      <td>1.0</td>\n",
       "      <td>20.0</td>\n",
       "      <td>Europe/Stockholm</td>\n",
       "      <td>POINT (18.43637 57.59922)</td>\n",
       "      <td>2171</td>\n",
       "      <td>(2076.0, 4778.0]</td>\n",
       "      <td>other</td>\n",
       "    </tr>\n",
       "    <tr>\n",
       "      <th>...</th>\n",
       "      <td>...</td>\n",
       "      <td>...</td>\n",
       "      <td>...</td>\n",
       "      <td>...</td>\n",
       "      <td>...</td>\n",
       "      <td>...</td>\n",
       "      <td>...</td>\n",
       "      <td>...</td>\n",
       "      <td>...</td>\n",
       "      <td>...</td>\n",
       "      <td>...</td>\n",
       "      <td>...</td>\n",
       "      <td>...</td>\n",
       "      <td>...</td>\n",
       "    </tr>\n",
       "    <tr>\n",
       "      <th>1276010</th>\n",
       "      <td>806822309478727680</td>\n",
       "      <td>7</td>\n",
       "      <td>815619064613609472</td>\n",
       "      <td>2017-01-01 19:01:53+01:00</td>\n",
       "      <td>57.716700</td>\n",
       "      <td>12.916700</td>\n",
       "      <td>1.0</td>\n",
       "      <td>0.0</td>\n",
       "      <td>19.0</td>\n",
       "      <td>Europe/Stockholm</td>\n",
       "      <td>POINT (12.91670 57.71670)</td>\n",
       "      <td>44</td>\n",
       "      <td>(4.999, 179.0]</td>\n",
       "      <td>other</td>\n",
       "    </tr>\n",
       "    <tr>\n",
       "      <th>1276011</th>\n",
       "      <td>806822309478727680</td>\n",
       "      <td>7</td>\n",
       "      <td>815835652486938624</td>\n",
       "      <td>2017-01-02 09:22:31+01:00</td>\n",
       "      <td>57.716700</td>\n",
       "      <td>12.916700</td>\n",
       "      <td>1.0</td>\n",
       "      <td>1.0</td>\n",
       "      <td>9.0</td>\n",
       "      <td>Europe/Stockholm</td>\n",
       "      <td>POINT (12.91670 57.71670)</td>\n",
       "      <td>44</td>\n",
       "      <td>(4.999, 179.0]</td>\n",
       "      <td>other</td>\n",
       "    </tr>\n",
       "    <tr>\n",
       "      <th>1276012</th>\n",
       "      <td>806822309478727680</td>\n",
       "      <td>7</td>\n",
       "      <td>815937364736380928</td>\n",
       "      <td>2017-01-02 16:06:41+01:00</td>\n",
       "      <td>57.716700</td>\n",
       "      <td>12.916700</td>\n",
       "      <td>1.0</td>\n",
       "      <td>1.0</td>\n",
       "      <td>16.0</td>\n",
       "      <td>Europe/Stockholm</td>\n",
       "      <td>POINT (12.91670 57.71670)</td>\n",
       "      <td>44</td>\n",
       "      <td>(4.999, 179.0]</td>\n",
       "      <td>other</td>\n",
       "    </tr>\n",
       "    <tr>\n",
       "      <th>1276013</th>\n",
       "      <td>806822309478727680</td>\n",
       "      <td>8</td>\n",
       "      <td>816003760006668288</td>\n",
       "      <td>2017-01-02 20:30:31+01:00</td>\n",
       "      <td>57.730060</td>\n",
       "      <td>12.942200</td>\n",
       "      <td>1.0</td>\n",
       "      <td>1.0</td>\n",
       "      <td>20.0</td>\n",
       "      <td>Europe/Stockholm</td>\n",
       "      <td>POINT (12.94220 57.73006)</td>\n",
       "      <td>44</td>\n",
       "      <td>(4.999, 179.0]</td>\n",
       "      <td>other</td>\n",
       "    </tr>\n",
       "    <tr>\n",
       "      <th>1276014</th>\n",
       "      <td>806822309478727680</td>\n",
       "      <td>9</td>\n",
       "      <td>817472176437608448</td>\n",
       "      <td>2017-01-06 21:45:29+01:00</td>\n",
       "      <td>56.675600</td>\n",
       "      <td>12.854990</td>\n",
       "      <td>1.0</td>\n",
       "      <td>5.0</td>\n",
       "      <td>21.0</td>\n",
       "      <td>Europe/Stockholm</td>\n",
       "      <td>POINT (12.85499 56.67560)</td>\n",
       "      <td>44</td>\n",
       "      <td>(4.999, 179.0]</td>\n",
       "      <td>other</td>\n",
       "    </tr>\n",
       "  </tbody>\n",
       "</table>\n",
       "<p>1276015 rows × 14 columns</p>\n",
       "</div>"
      ],
      "text/plain": [
       "                     userid  region             tweetid  \\\n",
       "0                      5616       0  306814580301119488   \n",
       "1                      5616       0  596331871241379840   \n",
       "2                      5616       0  623057810864111616   \n",
       "3                      5616       0  679673567416565760   \n",
       "4                      5616       0  757647103011262465   \n",
       "...                     ...     ...                 ...   \n",
       "1276010  806822309478727680       7  815619064613609472   \n",
       "1276011  806822309478727680       7  815835652486938624   \n",
       "1276012  806822309478727680       7  815937364736380928   \n",
       "1276013  806822309478727680       8  816003760006668288   \n",
       "1276014  806822309478727680       9  817472176437608448   \n",
       "\n",
       "                         createdat   latitude  longitude  month  weekday  \\\n",
       "0        2013-02-27 18:14:30+01:00  57.599221  18.436371    2.0      3.0   \n",
       "1        2015-05-07 17:12:52+02:00  57.599221  18.436371    5.0      4.0   \n",
       "2        2015-07-20 11:12:12+02:00  57.599221  18.436371    7.0      1.0   \n",
       "3        2015-12-23 15:43:00+01:00  57.599221  18.436371   12.0      3.0   \n",
       "4        2016-07-25 20:42:00+02:00  57.599221  18.436371    7.0      1.0   \n",
       "...                            ...        ...        ...    ...      ...   \n",
       "1276010  2017-01-01 19:01:53+01:00  57.716700  12.916700    1.0      0.0   \n",
       "1276011  2017-01-02 09:22:31+01:00  57.716700  12.916700    1.0      1.0   \n",
       "1276012  2017-01-02 16:06:41+01:00  57.716700  12.916700    1.0      1.0   \n",
       "1276013  2017-01-02 20:30:31+01:00  57.730060  12.942200    1.0      1.0   \n",
       "1276014  2017-01-06 21:45:29+01:00  56.675600  12.854990    1.0      5.0   \n",
       "\n",
       "         hourofday          timezone                   geometry  tweet_count  \\\n",
       "0             18.0  Europe/Stockholm  POINT (18.43637 57.59922)         2171   \n",
       "1             17.0  Europe/Stockholm  POINT (18.43637 57.59922)         2171   \n",
       "2             11.0  Europe/Stockholm  POINT (18.43637 57.59922)         2171   \n",
       "3             15.0  Europe/Stockholm  POINT (18.43637 57.59922)         2171   \n",
       "4             20.0  Europe/Stockholm  POINT (18.43637 57.59922)         2171   \n",
       "...            ...               ...                        ...          ...   \n",
       "1276010       19.0  Europe/Stockholm  POINT (12.91670 57.71670)           44   \n",
       "1276011        9.0  Europe/Stockholm  POINT (12.91670 57.71670)           44   \n",
       "1276012       16.0  Europe/Stockholm  POINT (12.91670 57.71670)           44   \n",
       "1276013       20.0  Europe/Stockholm  POINT (12.94220 57.73006)           44   \n",
       "1276014       21.0  Europe/Stockholm  POINT (12.85499 56.67560)           44   \n",
       "\n",
       "                 quantile  label  \n",
       "0        (2076.0, 4778.0]  other  \n",
       "1        (2076.0, 4778.0]  other  \n",
       "2        (2076.0, 4778.0]  other  \n",
       "3        (2076.0, 4778.0]  other  \n",
       "4        (2076.0, 4778.0]  other  \n",
       "...                   ...    ...  \n",
       "1276010    (4.999, 179.0]  other  \n",
       "1276011    (4.999, 179.0]  other  \n",
       "1276012    (4.999, 179.0]  other  \n",
       "1276013    (4.999, 179.0]  other  \n",
       "1276014    (4.999, 179.0]  other  \n",
       "\n",
       "[1276015 rows x 14 columns]"
      ]
     },
     "execution_count": 183,
     "metadata": {},
     "output_type": "execute_result"
    }
   ],
   "source": [
    "activities = activitiesdf.read_csv(\"sweden\")"
   ]
  },
  {
   "cell_type": "code",
   "execution_count": 196,
   "metadata": {},
   "outputs": [],
   "source": [
    "activities['label'] = 'other'"
   ]
  },
  {
   "cell_type": "code",
   "execution_count": 197,
   "metadata": {},
   "outputs": [],
   "source": [
    "activities['createdat'] = pd.to_datetime(activities.createdat, utc=True)"
   ]
  },
  {
   "cell_type": "code",
   "execution_count": 198,
   "metadata": {},
   "outputs": [],
   "source": [
    "acts = activities.set_index(['userid', 'region'])"
   ]
  },
  {
   "cell_type": "markdown",
   "metadata": {},
   "source": [
    "### Add yearmonth column"
   ]
  },
  {
   "cell_type": "code",
   "execution_count": 199,
   "metadata": {},
   "outputs": [
    {
     "name": "stderr",
     "output_type": "stream",
     "text": [
      "/Users/kristofferek/miniconda3/envs/mscthesis/lib/python3.8/site-packages/pandas/core/arrays/datetimes.py:1099: UserWarning:\n",
      "\n",
      "Converting to PeriodArray/Index representation will drop timezone information.\n",
      "\n"
     ]
    }
   ],
   "source": [
    "acts['yearmonth'] = acts['createdat'].dt.to_period('M')\n"
   ]
  },
  {
   "cell_type": "markdown",
   "metadata": {},
   "source": [
    "## Label multiple home locations"
   ]
  },
  {
   "cell_type": "code",
   "execution_count": 200,
   "metadata": {},
   "outputs": [
    {
     "name": "stdout",
     "output_type": "stream",
     "text": [
      "copying\n",
      "reindex\n",
      "largest cluster\n",
      "region\n",
      "134    121\n",
      "252    115\n",
      "0      114\n",
      "dtype: int64\n",
      "set values\n"
     ]
    },
    {
     "data": {
      "text/html": [
       "<div>\n",
       "<style scoped>\n",
       "    .dataframe tbody tr th:only-of-type {\n",
       "        vertical-align: middle;\n",
       "    }\n",
       "\n",
       "    .dataframe tbody tr th {\n",
       "        vertical-align: top;\n",
       "    }\n",
       "\n",
       "    .dataframe thead th {\n",
       "        text-align: right;\n",
       "    }\n",
       "</style>\n",
       "<table border=\"1\" class=\"dataframe\">\n",
       "  <thead>\n",
       "    <tr style=\"text-align: right;\">\n",
       "      <th></th>\n",
       "      <th></th>\n",
       "      <th></th>\n",
       "      <th>createdat</th>\n",
       "      <th>latitude</th>\n",
       "      <th>longitude</th>\n",
       "      <th>month</th>\n",
       "      <th>weekday</th>\n",
       "      <th>hourofday</th>\n",
       "      <th>timezone</th>\n",
       "      <th>geometry</th>\n",
       "      <th>tweet_count</th>\n",
       "      <th>quantile</th>\n",
       "      <th>label</th>\n",
       "      <th>yearmonth</th>\n",
       "    </tr>\n",
       "    <tr>\n",
       "      <th>userid</th>\n",
       "      <th>region</th>\n",
       "      <th>tweetid</th>\n",
       "      <th></th>\n",
       "      <th></th>\n",
       "      <th></th>\n",
       "      <th></th>\n",
       "      <th></th>\n",
       "      <th></th>\n",
       "      <th></th>\n",
       "      <th></th>\n",
       "      <th></th>\n",
       "      <th></th>\n",
       "      <th></th>\n",
       "      <th></th>\n",
       "    </tr>\n",
       "  </thead>\n",
       "  <tbody>\n",
       "    <tr>\n",
       "      <th rowspan=\"5\" valign=\"top\">5616</th>\n",
       "      <th rowspan=\"5\" valign=\"top\">0</th>\n",
       "      <th>306814580301119488</th>\n",
       "      <td>2013-02-27 17:14:30+00:00</td>\n",
       "      <td>57.599221</td>\n",
       "      <td>18.436371</td>\n",
       "      <td>2.0</td>\n",
       "      <td>3.0</td>\n",
       "      <td>18.0</td>\n",
       "      <td>Europe/Stockholm</td>\n",
       "      <td>POINT (18.43637 57.59922)</td>\n",
       "      <td>2171</td>\n",
       "      <td>(2076.0, 4778.0]</td>\n",
       "      <td>other</td>\n",
       "      <td>2013-02</td>\n",
       "    </tr>\n",
       "    <tr>\n",
       "      <th>596331871241379840</th>\n",
       "      <td>2015-05-07 15:12:52+00:00</td>\n",
       "      <td>57.599221</td>\n",
       "      <td>18.436371</td>\n",
       "      <td>5.0</td>\n",
       "      <td>4.0</td>\n",
       "      <td>17.0</td>\n",
       "      <td>Europe/Stockholm</td>\n",
       "      <td>POINT (18.43637 57.59922)</td>\n",
       "      <td>2171</td>\n",
       "      <td>(2076.0, 4778.0]</td>\n",
       "      <td>other</td>\n",
       "      <td>2015-05</td>\n",
       "    </tr>\n",
       "    <tr>\n",
       "      <th>623057810864111616</th>\n",
       "      <td>2015-07-20 09:12:12+00:00</td>\n",
       "      <td>57.599221</td>\n",
       "      <td>18.436371</td>\n",
       "      <td>7.0</td>\n",
       "      <td>1.0</td>\n",
       "      <td>11.0</td>\n",
       "      <td>Europe/Stockholm</td>\n",
       "      <td>POINT (18.43637 57.59922)</td>\n",
       "      <td>2171</td>\n",
       "      <td>(2076.0, 4778.0]</td>\n",
       "      <td>other</td>\n",
       "      <td>2015-07</td>\n",
       "    </tr>\n",
       "    <tr>\n",
       "      <th>679673567416565760</th>\n",
       "      <td>2015-12-23 14:43:00+00:00</td>\n",
       "      <td>57.599221</td>\n",
       "      <td>18.436371</td>\n",
       "      <td>12.0</td>\n",
       "      <td>3.0</td>\n",
       "      <td>15.0</td>\n",
       "      <td>Europe/Stockholm</td>\n",
       "      <td>POINT (18.43637 57.59922)</td>\n",
       "      <td>2171</td>\n",
       "      <td>(2076.0, 4778.0]</td>\n",
       "      <td>other</td>\n",
       "      <td>2015-12</td>\n",
       "    </tr>\n",
       "    <tr>\n",
       "      <th>757647103011262465</th>\n",
       "      <td>2016-07-25 18:42:00+00:00</td>\n",
       "      <td>57.599221</td>\n",
       "      <td>18.436371</td>\n",
       "      <td>7.0</td>\n",
       "      <td>1.0</td>\n",
       "      <td>20.0</td>\n",
       "      <td>Europe/Stockholm</td>\n",
       "      <td>POINT (18.43637 57.59922)</td>\n",
       "      <td>2171</td>\n",
       "      <td>(2076.0, 4778.0]</td>\n",
       "      <td>other</td>\n",
       "      <td>2016-07</td>\n",
       "    </tr>\n",
       "    <tr>\n",
       "      <th>...</th>\n",
       "      <th>...</th>\n",
       "      <th>...</th>\n",
       "      <td>...</td>\n",
       "      <td>...</td>\n",
       "      <td>...</td>\n",
       "      <td>...</td>\n",
       "      <td>...</td>\n",
       "      <td>...</td>\n",
       "      <td>...</td>\n",
       "      <td>...</td>\n",
       "      <td>...</td>\n",
       "      <td>...</td>\n",
       "      <td>...</td>\n",
       "      <td>...</td>\n",
       "    </tr>\n",
       "    <tr>\n",
       "      <th rowspan=\"5\" valign=\"top\">806822309478727680</th>\n",
       "      <th rowspan=\"3\" valign=\"top\">7</th>\n",
       "      <th>815619064613609472</th>\n",
       "      <td>2017-01-01 18:01:53+00:00</td>\n",
       "      <td>57.716700</td>\n",
       "      <td>12.916700</td>\n",
       "      <td>1.0</td>\n",
       "      <td>0.0</td>\n",
       "      <td>19.0</td>\n",
       "      <td>Europe/Stockholm</td>\n",
       "      <td>POINT (12.91670 57.71670)</td>\n",
       "      <td>44</td>\n",
       "      <td>(4.999, 179.0]</td>\n",
       "      <td>other</td>\n",
       "      <td>2017-01</td>\n",
       "    </tr>\n",
       "    <tr>\n",
       "      <th>815835652486938624</th>\n",
       "      <td>2017-01-02 08:22:31+00:00</td>\n",
       "      <td>57.716700</td>\n",
       "      <td>12.916700</td>\n",
       "      <td>1.0</td>\n",
       "      <td>1.0</td>\n",
       "      <td>9.0</td>\n",
       "      <td>Europe/Stockholm</td>\n",
       "      <td>POINT (12.91670 57.71670)</td>\n",
       "      <td>44</td>\n",
       "      <td>(4.999, 179.0]</td>\n",
       "      <td>other</td>\n",
       "      <td>2017-01</td>\n",
       "    </tr>\n",
       "    <tr>\n",
       "      <th>815937364736380928</th>\n",
       "      <td>2017-01-02 15:06:41+00:00</td>\n",
       "      <td>57.716700</td>\n",
       "      <td>12.916700</td>\n",
       "      <td>1.0</td>\n",
       "      <td>1.0</td>\n",
       "      <td>16.0</td>\n",
       "      <td>Europe/Stockholm</td>\n",
       "      <td>POINT (12.91670 57.71670)</td>\n",
       "      <td>44</td>\n",
       "      <td>(4.999, 179.0]</td>\n",
       "      <td>other</td>\n",
       "      <td>2017-01</td>\n",
       "    </tr>\n",
       "    <tr>\n",
       "      <th>8</th>\n",
       "      <th>816003760006668288</th>\n",
       "      <td>2017-01-02 19:30:31+00:00</td>\n",
       "      <td>57.730060</td>\n",
       "      <td>12.942200</td>\n",
       "      <td>1.0</td>\n",
       "      <td>1.0</td>\n",
       "      <td>20.0</td>\n",
       "      <td>Europe/Stockholm</td>\n",
       "      <td>POINT (12.94220 57.73006)</td>\n",
       "      <td>44</td>\n",
       "      <td>(4.999, 179.0]</td>\n",
       "      <td>other</td>\n",
       "      <td>2017-01</td>\n",
       "    </tr>\n",
       "    <tr>\n",
       "      <th>9</th>\n",
       "      <th>817472176437608448</th>\n",
       "      <td>2017-01-06 20:45:29+00:00</td>\n",
       "      <td>56.675600</td>\n",
       "      <td>12.854990</td>\n",
       "      <td>1.0</td>\n",
       "      <td>5.0</td>\n",
       "      <td>21.0</td>\n",
       "      <td>Europe/Stockholm</td>\n",
       "      <td>POINT (12.85499 56.67560)</td>\n",
       "      <td>44</td>\n",
       "      <td>(4.999, 179.0]</td>\n",
       "      <td>other</td>\n",
       "      <td>2017-01</td>\n",
       "    </tr>\n",
       "  </tbody>\n",
       "</table>\n",
       "<p>1276015 rows × 12 columns</p>\n",
       "</div>"
      ],
      "text/plain": [
       "                                                             createdat  \\\n",
       "userid             region tweetid                                        \n",
       "5616               0      306814580301119488 2013-02-27 17:14:30+00:00   \n",
       "                          596331871241379840 2015-05-07 15:12:52+00:00   \n",
       "                          623057810864111616 2015-07-20 09:12:12+00:00   \n",
       "                          679673567416565760 2015-12-23 14:43:00+00:00   \n",
       "                          757647103011262465 2016-07-25 18:42:00+00:00   \n",
       "...                                                                ...   \n",
       "806822309478727680 7      815619064613609472 2017-01-01 18:01:53+00:00   \n",
       "                          815835652486938624 2017-01-02 08:22:31+00:00   \n",
       "                          815937364736380928 2017-01-02 15:06:41+00:00   \n",
       "                   8      816003760006668288 2017-01-02 19:30:31+00:00   \n",
       "                   9      817472176437608448 2017-01-06 20:45:29+00:00   \n",
       "\n",
       "                                               latitude  longitude  month  \\\n",
       "userid             region tweetid                                           \n",
       "5616               0      306814580301119488  57.599221  18.436371    2.0   \n",
       "                          596331871241379840  57.599221  18.436371    5.0   \n",
       "                          623057810864111616  57.599221  18.436371    7.0   \n",
       "                          679673567416565760  57.599221  18.436371   12.0   \n",
       "                          757647103011262465  57.599221  18.436371    7.0   \n",
       "...                                                 ...        ...    ...   \n",
       "806822309478727680 7      815619064613609472  57.716700  12.916700    1.0   \n",
       "                          815835652486938624  57.716700  12.916700    1.0   \n",
       "                          815937364736380928  57.716700  12.916700    1.0   \n",
       "                   8      816003760006668288  57.730060  12.942200    1.0   \n",
       "                   9      817472176437608448  56.675600  12.854990    1.0   \n",
       "\n",
       "                                              weekday  hourofday  \\\n",
       "userid             region tweetid                                  \n",
       "5616               0      306814580301119488      3.0       18.0   \n",
       "                          596331871241379840      4.0       17.0   \n",
       "                          623057810864111616      1.0       11.0   \n",
       "                          679673567416565760      3.0       15.0   \n",
       "                          757647103011262465      1.0       20.0   \n",
       "...                                               ...        ...   \n",
       "806822309478727680 7      815619064613609472      0.0       19.0   \n",
       "                          815835652486938624      1.0        9.0   \n",
       "                          815937364736380928      1.0       16.0   \n",
       "                   8      816003760006668288      1.0       20.0   \n",
       "                   9      817472176437608448      5.0       21.0   \n",
       "\n",
       "                                                      timezone  \\\n",
       "userid             region tweetid                                \n",
       "5616               0      306814580301119488  Europe/Stockholm   \n",
       "                          596331871241379840  Europe/Stockholm   \n",
       "                          623057810864111616  Europe/Stockholm   \n",
       "                          679673567416565760  Europe/Stockholm   \n",
       "                          757647103011262465  Europe/Stockholm   \n",
       "...                                                        ...   \n",
       "806822309478727680 7      815619064613609472  Europe/Stockholm   \n",
       "                          815835652486938624  Europe/Stockholm   \n",
       "                          815937364736380928  Europe/Stockholm   \n",
       "                   8      816003760006668288  Europe/Stockholm   \n",
       "                   9      817472176437608448  Europe/Stockholm   \n",
       "\n",
       "                                                               geometry  \\\n",
       "userid             region tweetid                                         \n",
       "5616               0      306814580301119488  POINT (18.43637 57.59922)   \n",
       "                          596331871241379840  POINT (18.43637 57.59922)   \n",
       "                          623057810864111616  POINT (18.43637 57.59922)   \n",
       "                          679673567416565760  POINT (18.43637 57.59922)   \n",
       "                          757647103011262465  POINT (18.43637 57.59922)   \n",
       "...                                                                 ...   \n",
       "806822309478727680 7      815619064613609472  POINT (12.91670 57.71670)   \n",
       "                          815835652486938624  POINT (12.91670 57.71670)   \n",
       "                          815937364736380928  POINT (12.91670 57.71670)   \n",
       "                   8      816003760006668288  POINT (12.94220 57.73006)   \n",
       "                   9      817472176437608448  POINT (12.85499 56.67560)   \n",
       "\n",
       "                                              tweet_count          quantile  \\\n",
       "userid             region tweetid                                             \n",
       "5616               0      306814580301119488         2171  (2076.0, 4778.0]   \n",
       "                          596331871241379840         2171  (2076.0, 4778.0]   \n",
       "                          623057810864111616         2171  (2076.0, 4778.0]   \n",
       "                          679673567416565760         2171  (2076.0, 4778.0]   \n",
       "                          757647103011262465         2171  (2076.0, 4778.0]   \n",
       "...                                                   ...               ...   \n",
       "806822309478727680 7      815619064613609472           44    (4.999, 179.0]   \n",
       "                          815835652486938624           44    (4.999, 179.0]   \n",
       "                          815937364736380928           44    (4.999, 179.0]   \n",
       "                   8      816003760006668288           44    (4.999, 179.0]   \n",
       "                   9      817472176437608448           44    (4.999, 179.0]   \n",
       "\n",
       "                                              label yearmonth  \n",
       "userid             region tweetid                              \n",
       "5616               0      306814580301119488  other   2013-02  \n",
       "                          596331871241379840  other   2015-05  \n",
       "                          623057810864111616  other   2015-07  \n",
       "                          679673567416565760  other   2015-12  \n",
       "                          757647103011262465  other   2016-07  \n",
       "...                                             ...       ...  \n",
       "806822309478727680 7      815619064613609472  other   2017-01  \n",
       "                          815835652486938624  other   2017-01  \n",
       "                          815937364736380928  other   2017-01  \n",
       "                   8      816003760006668288  other   2017-01  \n",
       "                   9      817472176437608448  other   2017-01  \n",
       "\n",
       "[1276015 rows x 12 columns]"
      ]
     },
     "execution_count": 200,
     "metadata": {},
     "output_type": "execute_result"
    }
   ],
   "source": [
    "acts_2 = activitiesdf.label_multiple_homes(acts)\n",
    "acts_2"
   ]
  },
  {
   "cell_type": "markdown",
   "metadata": {},
   "source": [
    "## Label work location"
   ]
  },
  {
   "cell_type": "code",
   "execution_count": 201,
   "metadata": {},
   "outputs": [
    {
     "name": "stdout",
     "output_type": "stream",
     "text": [
      "find work place: not enough visits\n",
      "done with 100\n",
      "done with 200\n",
      "done with 300\n",
      "done with 400\n",
      "done with 500\n",
      "done with 600\n",
      "done with 700\n",
      "done with 800\n",
      "done with 900\n",
      "find work place: not enough visits\n",
      "done with 1000\n",
      "done with 1100\n",
      "done with 1200\n",
      "done with 1300\n",
      "done with 1400\n",
      "done with 1500\n",
      "done with 1600\n",
      "done with 1700\n",
      "done with 1800\n",
      "find work place: not enough visits\n",
      "done with 1900\n",
      "done with 2000\n",
      "find work place: not enough visits\n",
      "done with 2100\n",
      "find work place: not enough visits\n",
      "done with 2200\n",
      "done with 2300\n",
      "done with 2400\n",
      "done with 2500\n",
      "done with 2600\n",
      "done with 2700\n",
      "done with 2800\n",
      "find work place: not enough visits\n",
      "done with 2900\n",
      "done with 3000\n",
      "done with 3100\n",
      "find work place: not enough visits\n",
      "find work place: not enough visits\n",
      "done with 3200\n",
      "done with 3300\n",
      "find work place: not enough visits\n",
      "find work place: not enough visits\n",
      "find work place: not enough visits\n",
      "find work place: not enough visits\n",
      "find work place: not enough visits\n",
      "done with 3400\n",
      "find work place: not enough visits\n",
      "find work place: not enough visits\n",
      "find work place: not enough visits\n",
      "find work place: not enough visits\n",
      "find work place: not enough visits\n"
     ]
    }
   ],
   "source": [
    "acts_3 = activitiesdf.label_work(acts_2)"
   ]
  },
  {
   "cell_type": "markdown",
   "metadata": {},
   "source": [
    "## Visualise a user's labels and clusters"
   ]
  },
  {
   "cell_type": "code",
   "execution_count": 202,
   "metadata": {},
   "outputs": [],
   "source": [
    "#18192787\n",
    "#14079762\n",
    "#85666280\n",
    "user = acts_3.loc[85666280].reset_index().set_index('region')\n",
    "homestr = 'Home: '+ str(np.unique(user[user['label'] == 'home'].index.values))\n",
    "workstr = 'Work: '+ str(np.unique(user[user['label'] == 'work'].index.values))\n"
   ]
  },
  {
   "cell_type": "markdown",
   "metadata": {},
   "source": [
    "### Extract the user's 10 largest clusters"
   ]
  },
  {
   "cell_type": "code",
   "execution_count": 203,
   "metadata": {},
   "outputs": [],
   "source": [
    "topregions = user.groupby(['region']).size().sort_values(ascending=False).head(10)\n",
    "topten = user.loc[topregions.index.values]"
   ]
  },
  {
   "cell_type": "markdown",
   "metadata": {},
   "source": [
    "## Plot cluster sizes over time (monthly)"
   ]
  },
  {
   "cell_type": "code",
   "execution_count": 204,
   "metadata": {},
   "outputs": [
    {
     "name": "stdout",
     "output_type": "stream",
     "text": [
      "Home: [  0 134]\n",
      "Work: [252]\n"
     ]
    },
    {
     "data": {
      "image/png": "[encoded data removed]",
      "text/plain": [
       "<Figure size 1440x720 with 1 Axes>"
      ]
     },
     "metadata": {
      "needs_background": "light"
     },
     "output_type": "display_data"
    }
   ],
   "source": [
    "bars = topten.groupby(['yearmonth', 'region']).size().unstack().fillna(0).plot.bar(stacked=True, figsize=(20, 10), width=0.95)\n",
    "bars.set_title(\"Top 10 clusters for a user over time\")\n",
    "print(homestr)\n",
    "print(workstr)"
   ]
  },
  {
   "cell_type": "markdown",
   "metadata": {},
   "source": [
    "## Scatter plot clusters on a map"
   ]
  },
  {
   "cell_type": "code",
   "execution_count": 205,
   "metadata": {},
   "outputs": [
    {
     "data": {
      "text/html": [
       "        <script type=\"text/javascript\">\n",
       "        window.PlotlyConfig = {MathJaxConfig: 'local'};\n",
       "        if (window.MathJax) {MathJax.Hub.Config({SVG: {font: \"STIX-Web\"}});}\n",
       "        if (typeof require !== 'undefined') {\n",
       "        require.undef(\"plotly\");\n",
       "        requirejs.config({\n",
       "            paths: {\n",
       "                'plotly': ['https://cdn.plot.ly/plotly-latest.min']\n",
       "            }\n",
       "        });\n",
       "        require(['plotly'], function(Plotly) {\n",
       "            window._Plotly = Plotly;\n",
       "        });\n",
       "        }\n",
       "        </script>\n",
       "        "
      ]
     },
     "metadata": {},
     "output_type": "display_data"
    }
   ],
   "source": [
    "plotly.offline.init_notebook_mode(connected=True)"
   ]
  },
  {
   "cell_type": "code",
   "execution_count": 206,
   "metadata": {},
   "outputs": [
    {
     "data": {
      "application/vnd.plotly.v1+json": {
       "config": {
        "plotlyServerURL": "https://plot.ly"
       },
       "data": [
        {
         "customdata": [
          [
           16,
           1,
           252
          ],
          [
           14,
           1,
           252
          ],
          [
           21,
           6,
           252
          ],
          [
           14,
           1,
           252
          ],
          [
           20,
           2,
           252
          ],
          [
           16,
           3,
           252
          ],
          [
           15,
           6,
           252
          ],
          [
           17,
           1,
           252
          ],
          [
           14,
           2,
           252
          ],
          [
           14,
           5,
           252
          ],
          [
           15,
           4,
           252
          ],
          [
           12,
           2,
           252
          ],
          [
           16,
           5,
           252
          ],
          [
           19,
           4,
           252
          ],
          [
           17,
           6,
           252
          ],
          [
           11,
           2,
           252
          ],
          [
           16,
           4,
           252
          ],
          [
           12,
           5,
           252
          ],
          [
           12,
           4,
           252
          ],
          [
           8,
           4,
           252
          ],
          [
           13,
           6,
           252
          ],
          [
           15,
           2,
           252
          ],
          [
           14,
           3,
           252
          ],
          [
           12,
           5,
           252
          ],
          [
           17,
           6,
           252
          ],
          [
           15,
           5,
           252
          ],
          [
           12,
           0,
           252
          ],
          [
           1,
           1,
           252
          ],
          [
           11,
           3,
           252
          ],
          [
           19,
           3,
           252
          ],
          [
           13,
           6,
           252
          ],
          [
           15,
           0,
           252
          ],
          [
           10,
           3,
           252
          ],
          [
           12,
           0,
           252
          ],
          [
           11,
           4,
           252
          ],
          [
           12,
           5,
           252
          ],
          [
           12,
           3,
           252
          ],
          [
           14,
           4,
           252
          ],
          [
           11,
           5,
           252
          ],
          [
           12,
           3,
           252
          ],
          [
           20,
           1,
           252
          ],
          [
           19,
           2,
           252
          ],
          [
           11,
           4,
           252
          ],
          [
           18,
           5,
           252
          ],
          [
           12,
           6,
           252
          ],
          [
           15,
           6,
           252
          ],
          [
           12,
           3,
           252
          ],
          [
           13,
           3,
           252
          ],
          [
           15,
           5,
           252
          ],
          [
           14,
           0,
           252
          ],
          [
           14,
           0,
           252
          ],
          [
           13,
           2,
           252
          ],
          [
           11,
           3,
           252
          ],
          [
           16,
           3,
           252
          ],
          [
           16,
           3,
           252
          ],
          [
           15,
           4,
           252
          ],
          [
           11,
           5,
           252
          ],
          [
           12,
           5,
           252
          ],
          [
           16,
           5,
           252
          ],
          [
           14,
           3,
           252
          ],
          [
           20,
           3,
           252
          ],
          [
           13,
           6,
           252
          ],
          [
           8,
           2,
           252
          ],
          [
           15,
           3,
           252
          ],
          [
           15,
           4,
           252
          ],
          [
           13,
           5,
           252
          ],
          [
           15,
           0,
           252
          ],
          [
           12,
           5,
           252
          ],
          [
           12,
           5,
           252
          ],
          [
           18,
           5,
           252
          ],
          [
           19,
           5,
           252
          ],
          [
           12,
           0,
           252
          ],
          [
           16,
           4,
           252
          ],
          [
           11,
           5,
           252
          ],
          [
           12,
           5,
           252
          ],
          [
           13,
           2,
           252
          ],
          [
           13,
           6,
           252
          ],
          [
           12,
           0,
           252
          ],
          [
           12,
           0,
           252
          ],
          [
           13,
           0,
           252
          ],
          [
           13,
           5,
           252
          ],
          [
           12,
           6,
           252
          ],
          [
           19,
           0,
           252
          ],
          [
           14,
           0,
           252
          ],
          [
           18,
           3,
           252
          ],
          [
           10,
           4,
           252
          ],
          [
           18,
           5,
           252
          ],
          [
           15,
           2,
           252
          ],
          [
           0,
           3,
           252
          ],
          [
           10,
           3,
           252
          ],
          [
           13,
           3,
           252
          ],
          [
           22,
           1,
           252
          ],
          [
           11,
           4,
           252
          ],
          [
           11,
           5,
           252
          ],
          [
           13,
           4,
           252
          ],
          [
           15,
           4,
           252
          ],
          [
           15,
           4,
           252
          ],
          [
           14,
           6,
           252
          ],
          [
           14,
           0,
           252
          ],
          [
           18,
           3,
           252
          ],
          [
           13,
           3,
           252
          ],
          [
           12,
           5,
           252
          ],
          [
           12,
           6,
           252
          ],
          [
           19,
           0,
           252
          ],
          [
           12,
           1,
           252
          ],
          [
           13,
           1,
           252
          ],
          [
           12,
           2,
           252
          ],
          [
           14,
           4,
           252
          ],
          [
           13,
           5,
           252
          ],
          [
           14,
           5,
           252
          ],
          [
           14,
           5,
           252
          ],
          [
           13,
           4,
           252
          ],
          [
           17,
           3,
           252
          ],
          [
           18,
           3,
           252
          ],
          [
           12,
           6,
           252
          ],
          [
           15,
           2,
           252
          ],
          [
           18,
           3,
           252
          ],
          [
           11,
           4,
           252
          ],
          [
           1,
           5,
           252
          ],
          [
           11,
           5,
           252
          ],
          [
           11,
           0,
           252
          ],
          [
           1,
           3,
           252
          ],
          [
           11,
           3,
           252
          ],
          [
           13,
           4,
           252
          ],
          [
           17,
           3,
           252
          ],
          [
           14,
           4,
           252
          ],
          [
           11,
           5,
           252
          ],
          [
           12,
           6,
           252
          ],
          [
           1,
           3,
           252
          ],
          [
           16,
           0,
           252
          ],
          [
           11,
           2,
           252
          ],
          [
           13,
           4,
           252
          ],
          [
           16,
           4,
           252
          ],
          [
           11,
           5,
           252
          ],
          [
           12,
           0,
           252
          ],
          [
           23,
           1,
           252
          ],
          [
           13,
           3,
           252
          ],
          [
           13,
           4,
           252
          ],
          [
           13,
           4,
           252
          ],
          [
           13,
           5,
           252
          ],
          [
           12,
           2,
           252
          ],
          [
           12,
           3,
           252
          ],
          [
           16,
           3,
           252
          ],
          [
           12,
           4,
           252
          ],
          [
           11,
           5,
           252
          ],
          [
           14,
           5,
           252
          ],
          [
           13,
           6,
           252
          ],
          [
           13,
           2,
           252
          ],
          [
           12,
           3,
           252
          ],
          [
           20,
           5,
           252
          ],
          [
           1,
           5,
           252
          ],
          [
           12,
           2,
           252
          ],
          [
           11,
           4,
           252
          ],
          [
           11,
           5,
           252
          ],
          [
           12,
           5,
           252
          ],
          [
           15,
           5,
           252
          ],
          [
           12,
           5,
           252
          ],
          [
           18,
           5,
           252
          ],
          [
           12,
           6,
           252
          ],
          [
           13,
           6,
           252
          ],
          [
           17,
           6,
           252
          ],
          [
           13,
           0,
           252
          ],
          [
           18,
           3,
           252
          ],
          [
           14,
           5,
           252
          ],
          [
           14,
           5,
           252
          ],
          [
           14,
           5,
           252
          ],
          [
           13,
           6,
           252
          ],
          [
           15,
           0,
           252
          ],
          [
           15,
           3,
           252
          ],
          [
           11,
           6,
           252
          ],
          [
           16,
           1,
           252
          ],
          [
           20,
           1,
           252
          ],
          [
           8,
           2,
           252
          ],
          [
           17,
           2,
           252
          ],
          [
           14,
           4,
           252
          ],
          [
           12,
           5,
           252
          ],
          [
           21,
           3,
           252
          ],
          [
           11,
           4,
           252
          ],
          [
           13,
           5,
           252
          ],
          [
           12,
           6,
           252
          ],
          [
           21,
           0,
           252
          ],
          [
           13,
           3,
           252
          ],
          [
           11,
           4,
           252
          ],
          [
           14,
           5,
           252
          ],
          [
           14,
           5,
           252
          ],
          [
           15,
           5,
           252
          ],
          [
           12,
           3,
           252
          ],
          [
           15,
           5,
           252
          ],
          [
           10,
           6,
           252
          ],
          [
           11,
           6,
           252
          ],
          [
           18,
           6,
           252
          ],
          [
           17,
           0,
           252
          ],
          [
           13,
           5,
           252
          ],
          [
           8,
           0,
           252
          ],
          [
           21,
           2,
           252
          ],
          [
           14,
           5,
           252
          ],
          [
           14,
           5,
           252
          ],
          [
           12,
           6,
           252
          ],
          [
           13,
           6,
           252
          ],
          [
           10,
           3,
           252
          ],
          [
           18,
           4,
           252
          ],
          [
           14,
           5,
           252
          ],
          [
           12,
           6,
           252
          ],
          [
           13,
           6,
           252
          ],
          [
           12,
           0,
           252
          ],
          [
           18,
           1,
           252
          ],
          [
           12,
           4,
           252
          ],
          [
           17,
           5,
           252
          ],
          [
           15,
           0,
           252
          ],
          [
           13,
           3,
           252
          ],
          [
           15,
           5,
           252
          ],
          [
           13,
           4,
           252
          ],
          [
           13,
           5,
           252
          ],
          [
           13,
           4,
           252
          ],
          [
           14,
           4,
           252
          ],
          [
           15,
           4,
           252
          ],
          [
           12,
           5,
           252
          ],
          [
           16,
           5,
           252
          ],
          [
           14,
           1,
           252
          ],
          [
           15,
           2,
           252
          ],
          [
           11,
           3,
           252
          ],
          [
           15,
           4,
           252
          ],
          [
           12,
           6,
           252
          ],
          [
           13,
           2,
           252
          ],
          [
           13,
           5,
           252
          ],
          [
           18,
           5,
           252
          ],
          [
           12,
           1,
           252
          ],
          [
           12,
           4,
           252
          ],
          [
           14,
           4,
           252
          ],
          [
           19,
           0,
           252
          ],
          [
           13,
           2,
           252
          ],
          [
           9,
           5,
           252
          ],
          [
           11,
           3,
           252
          ],
          [
           15,
           4,
           252
          ],
          [
           14,
           5,
           252
          ],
          [
           14,
           0,
           252
          ],
          [
           11,
           1,
           252
          ],
          [
           15,
           3,
           252
          ],
          [
           16,
           4,
           252
          ],
          [
           14,
           0,
           252
          ],
          [
           14,
           3,
           252
          ],
          [
           1,
           5,
           252
          ],
          [
           13,
           0,
           252
          ],
          [
           16,
           5,
           252
          ],
          [
           14,
           6,
           252
          ],
          [
           14,
           0,
           252
          ],
          [
           14,
           0,
           252
          ],
          [
           14,
           0,
           252
          ],
          [
           10,
           2,
           252
          ],
          [
           20,
           5,
           252
          ],
          [
           13,
           6,
           252
          ],
          [
           12,
           3,
           252
          ],
          [
           13,
           6,
           252
          ],
          [
           14,
           6,
           252
          ],
          [
           12,
           5,
           252
          ],
          [
           14,
           5,
           252
          ],
          [
           18,
           5,
           252
          ],
          [
           16,
           4,
           252
          ],
          [
           18,
           4,
           252
          ],
          [
           13,
           4,
           252
          ],
          [
           10,
           5,
           252
          ],
          [
           12,
           5,
           252
          ],
          [
           15,
           2,
           252
          ],
          [
           15,
           4,
           252
          ],
          [
           15,
           3,
           252
          ],
          [
           12,
           6,
           252
          ],
          [
           9,
           1,
           252
          ],
          [
           15,
           4,
           252
          ],
          [
           15,
           5,
           252
          ],
          [
           11,
           4,
           252
          ],
          [
           16,
           5,
           252
          ],
          [
           14,
           2,
           252
          ],
          [
           14,
           3,
           252
          ],
          [
           13,
           3,
           252
          ],
          [
           16,
           3,
           252
          ],
          [
           13,
           4,
           252
          ],
          [
           13,
           0,
           252
          ],
          [
           17,
           2,
           252
          ],
          [
           11,
           4,
           252
          ],
          [
           12,
           4,
           252
          ],
          [
           14,
           3,
           252
          ],
          [
           13,
           4,
           252
          ],
          [
           15,
           5,
           252
          ],
          [
           15,
           2,
           252
          ],
          [
           18,
           2,
           252
          ],
          [
           16,
           5,
           252
          ],
          [
           11,
           3,
           252
          ],
          [
           13,
           5,
           252
          ],
          [
           13,
           5,
           252
          ],
          [
           12,
           6,
           252
          ],
          [
           9,
           2,
           252
          ],
          [
           14,
           3,
           252
          ],
          [
           13,
           5,
           252
          ],
          [
           15,
           5,
           252
          ],
          [
           12,
           6,
           252
          ],
          [
           17,
           3,
           252
          ],
          [
           14,
           5,
           252
          ],
          [
           12,
           4,
           252
          ],
          [
           11,
           5,
           252
          ],
          [
           12,
           6,
           252
          ],
          [
           12,
           5,
           252
          ],
          [
           12,
           0,
           252
          ],
          [
           13,
           3,
           252
          ],
          [
           11,
           5,
           252
          ],
          [
           14,
           0,
           252
          ],
          [
           13,
           5,
           252
          ],
          [
           17,
           5,
           252
          ],
          [
           12,
           6,
           252
          ],
          [
           14,
           2,
           252
          ],
          [
           13,
           3,
           252
          ],
          [
           16,
           3,
           252
          ],
          [
           13,
           4,
           252
          ],
          [
           13,
           5,
           252
          ],
          [
           14,
           6,
           252
          ],
          [
           11,
           3,
           252
          ],
          [
           11,
           4,
           252
          ],
          [
           14,
           5,
           252
          ],
          [
           12,
           6,
           252
          ],
          [
           15,
           6,
           252
          ],
          [
           12,
           4,
           252
          ],
          [
           14,
           1,
           252
          ],
          [
           14,
           0,
           252
          ],
          [
           11,
           3,
           252
          ],
          [
           13,
           3,
           252
          ],
          [
           13,
           4,
           252
          ],
          [
           13,
           5,
           252
          ],
          [
           16,
           5,
           252
          ],
          [
           12,
           6,
           252
          ],
          [
           12,
           0,
           252
          ],
          [
           13,
           3,
           252
          ],
          [
           22,
           3,
           252
          ],
          [
           17,
           5,
           252
          ],
          [
           18,
           5,
           252
          ],
          [
           11,
           3,
           252
          ],
          [
           12,
           5,
           252
          ],
          [
           11,
           6,
           252
          ],
          [
           14,
           0,
           252
          ],
          [
           16,
           3,
           252
          ],
          [
           18,
           3,
           252
          ],
          [
           14,
           3,
           252
          ],
          [
           11,
           6,
           252
          ],
          [
           15,
           1,
           252
          ],
          [
           18,
           1,
           252
          ],
          [
           16,
           4,
           252
          ],
          [
           12,
           5,
           252
          ],
          [
           16,
           5,
           252
          ],
          [
           12,
           6,
           252
          ],
          [
           17,
           6,
           252
          ],
          [
           12,
           1,
           252
          ],
          [
           17,
           3,
           252
          ],
          [
           12,
           5,
           252
          ],
          [
           12,
           6,
           252
          ],
          [
           10,
           2,
           252
          ],
          [
           13,
           3,
           252
          ],
          [
           15,
           4,
           252
          ],
          [
           15,
           4,
           252
          ],
          [
           12,
           5,
           252
          ],
          [
           21,
           6,
           252
          ],
          [
           12,
           6,
           252
          ],
          [
           15,
           3,
           252
          ],
          [
           17,
           3,
           252
          ],
          [
           13,
           3,
           252
          ],
          [
           10,
           6,
           252
          ],
          [
           13,
           6,
           252
          ],
          [
           15,
           6,
           252
          ],
          [
           18,
           4,
           252
          ]
         ],
         "hoverlabel": {
          "namelength": 0
         },
         "hovertemplate": "label=work<br>hourofday=%{customdata[0]}<br>weekday=%{customdata[1]}<br>region=%{customdata[2]}<br>latitude=%{lat}<br>longitude=%{lon}",
         "lat": [
          55.60054,
          55.60054,
          55.60054,
          55.60054,
          55.60054,
          55.60054,
          55.60054,
          55.60054,
          55.60054,
          55.60054,
          55.60054,
          55.60054,
          55.60054,
          55.60054,
          55.60054,
          55.60054,
          55.60054,
          55.60054,
          55.60054,
          55.60054,
          55.60054,
          55.60054,
          55.60054,
          55.60054,
          55.60054,
          55.60054,
          55.60054,
          55.60054,
          55.60054,
          55.60054,
          55.60054,
          55.60054,
          55.60054,
          55.60054,
          55.60054,
          55.60054,
          55.60054,
          55.60054,
          55.60054,
          55.60054,
          55.60054,
          55.60054,
          55.60054,
          55.60054,
          55.60054,
          55.60054,
          55.60054,
          55.60054,
          55.60054,
          55.60054,
          55.60054,
          55.60054,
          55.60054,
          55.60054,
          55.60054,
          55.60054,
          55.60054,
          55.60054,
          55.60054,
          55.60054,
          55.60054,
          55.60054,
          55.60054,
          55.60054,
          55.60054,
          55.60054,
          55.60054,
          55.60054,
          55.60054,
          55.60054,
          55.60054,
          55.60054,
          55.60054,
          55.60054,
          55.60054,
          55.60054,
          55.60054,
          55.60054,
          55.60054,
          55.60054,
          55.60054,
          55.60054,
          55.60054,
          55.60054,
          55.60054,
          55.60054,
          55.60054,
          55.60054,
          55.60054,
          55.60054,
          55.60054,
          55.60054,
          55.60054,
          55.60054,
          55.60054,
          55.60054,
          55.60054,
          55.60054,
          55.60054,
          55.60054,
          55.60054,
          55.60054,
          55.60054,
          55.60054,
          55.60054,
          55.60054,
          55.60054,
          55.60054,
          55.60054,
          55.60054,
          55.60054,
          55.60054,
          55.60054,
          55.60054,
          55.60054,
          55.60054,
          55.60054,
          55.60054,
          55.60054,
          55.60054,
          55.60054,
          55.60054,
          55.60054,
          55.60054,
          55.60054,
          55.60054,
          55.60054,
          55.60054,
          55.60054,
          55.60054,
          55.60054,
          55.60054,
          55.60054,
          55.60054,
          55.60054,
          55.60054,
          55.60054,
          55.60054,
          55.60054,
          55.60054,
          55.60054,
          55.60054,
          55.60054,
          55.60054,
          55.60054,
          55.60054,
          55.60054,
          55.60054,
          55.60054,
          55.60054,
          55.60054,
          55.60054,
          55.60054,
          55.60054,
          55.60054,
          55.60054,
          55.60054,
          55.60054,
          55.60054,
          55.60054,
          55.60054,
          55.60054,
          55.60054,
          55.60054,
          55.60054,
          55.60054,
          55.60054,
          55.60054,
          55.60054,
          55.60054,
          55.60054,
          55.60054,
          55.60054,
          55.60054,
          55.60054,
          55.60054,
          55.60054,
          55.60054,
          55.60054,
          55.60054,
          55.60054,
          55.60054,
          55.60054,
          55.60054,
          55.60054,
          55.60054,
          55.60054,
          55.60054,
          55.60054,
          55.60054,
          55.60054,
          55.60054,
          55.60054,
          55.60054,
          55.60054,
          55.60054,
          55.60054,
          55.60054,
          55.60054,
          55.60054,
          55.60054,
          55.60054,
          55.60054,
          55.60054,
          55.60054,
          55.60054,
          55.60054,
          55.60054,
          55.60054,
          55.60054,
          55.60054,
          55.60054,
          55.60054,
          55.60054,
          55.60054,
          55.60054,
          55.60054,
          55.60054,
          55.60054,
          55.60054,
          55.60054,
          55.60054,
          55.60054,
          55.60054,
          55.60054,
          55.60054,
          55.60054,
          55.60054,
          55.60054,
          55.60054,
          55.60054,
          55.60054,
          55.60054,
          55.60054,
          55.60054,
          55.60054,
          55.60054,
          55.60054,
          55.60054,
          55.60054,
          55.60054,
          55.60054,
          55.60054,
          55.60054,
          55.60054,
          55.60054,
          55.60054,
          55.60054,
          55.60054,
          55.60054,
          55.60054,
          55.60054,
          55.60054,
          55.60054,
          55.60054,
          55.60054,
          55.60054,
          55.60054,
          55.60054,
          55.60054,
          55.60054,
          55.60054,
          55.60054,
          55.60054,
          55.60054,
          55.60054,
          55.60054,
          55.60054,
          55.60054,
          55.60054,
          55.60054,
          55.60054,
          55.60054,
          55.60054,
          55.60054,
          55.60054,
          55.60054,
          55.60054,
          55.60054,
          55.60054,
          55.60054,
          55.60054,
          55.60054,
          55.60054,
          55.60054,
          55.60054,
          55.60054,
          55.60054,
          55.60054,
          55.60054,
          55.60054,
          55.60054,
          55.60054,
          55.60054,
          55.60054,
          55.60054,
          55.60054,
          55.60054,
          55.60054,
          55.60054,
          55.60054,
          55.60054,
          55.60054,
          55.60054,
          55.60054,
          55.60054,
          55.60054,
          55.60054,
          55.60054,
          55.60054,
          55.60054,
          55.60054,
          55.60054,
          55.60054,
          55.60054,
          55.60054,
          55.60054,
          55.60054,
          55.60054,
          55.60054,
          55.60054,
          55.60054,
          55.60054,
          55.60054,
          55.60054,
          55.60054,
          55.60054,
          55.60054,
          55.60054,
          55.60054,
          55.60054,
          55.60054,
          55.60054,
          55.60054,
          55.60054,
          55.60054,
          55.60054,
          55.60054,
          55.60054,
          55.60054,
          55.60054,
          55.60054,
          55.60054,
          55.60054,
          55.60054,
          55.60054,
          55.60054,
          55.60054,
          55.60054,
          55.60054,
          55.60054,
          55.60054,
          55.60054,
          55.60054,
          55.60054,
          55.60054,
          55.60054,
          55.60054,
          55.60054,
          55.60054,
          55.60054,
          55.60054,
          55.60054,
          55.60054,
          55.60054,
          55.60054
         ],
         "legendgroup": "work",
         "lon": [
          12.99854,
          12.99854,
          12.99854,
          12.99854,
          12.99854,
          12.99854,
          12.99854,
          12.99854,
          12.99854,
          12.99854,
          12.99854,
          12.99854,
          12.99854,
          12.99854,
          12.99854,
          12.99854,
          12.99854,
          12.99854,
          12.99854,
          12.99854,
          12.99854,
          12.99854,
          12.99854,
          12.99854,
          12.99854,
          12.99854,
          12.99854,
          12.99854,
          12.99854,
          12.99854,
          12.99854,
          12.99854,
          12.99854,
          12.99854,
          12.99854,
          12.99854,
          12.99854,
          12.99854,
          12.99854,
          12.99854,
          12.99854,
          12.99854,
          12.99854,
          12.99854,
          12.99854,
          12.99854,
          12.99854,
          12.99854,
          12.99854,
          12.99854,
          12.99854,
          12.99854,
          12.99854,
          12.99854,
          12.99854,
          12.99854,
          12.99854,
          12.99854,
          12.99854,
          12.99854,
          12.99854,
          12.99854,
          12.99854,
          12.99854,
          12.99854,
          12.99854,
          12.99854,
          12.99854,
          12.99854,
          12.99854,
          12.99854,
          12.99854,
          12.99854,
          12.99854,
          12.99854,
          12.99854,
          12.99854,
          12.99854,
          12.99854,
          12.99854,
          12.99854,
          12.99854,
          12.99854,
          12.99854,
          12.99854,
          12.99854,
          12.99854,
          12.99854,
          12.99854,
          12.99854,
          12.99854,
          12.99854,
          12.99854,
          12.99854,
          12.99854,
          12.99854,
          12.99854,
          12.99854,
          12.99854,
          12.99854,
          12.99854,
          12.99854,
          12.99854,
          12.99854,
          12.99854,
          12.99854,
          12.99854,
          12.99854,
          12.99854,
          12.99854,
          12.99854,
          12.99854,
          12.99854,
          12.99854,
          12.99854,
          12.99854,
          12.99854,
          12.99854,
          12.99854,
          12.99854,
          12.99854,
          12.99854,
          12.99854,
          12.99854,
          12.99854,
          12.99854,
          12.99854,
          12.99854,
          12.99854,
          12.99854,
          12.99854,
          12.99854,
          12.99854,
          12.99854,
          12.99854,
          12.99854,
          12.99854,
          12.99854,
          12.99854,
          12.99854,
          12.99854,
          12.99854,
          12.99854,
          12.99854,
          12.99854,
          12.99854,
          12.99854,
          12.99854,
          12.99854,
          12.99854,
          12.99854,
          12.99854,
          12.99854,
          12.99854,
          12.99854,
          12.99854,
          12.99854,
          12.99854,
          12.99854,
          12.99854,
          12.99854,
          12.99854,
          12.99854,
          12.99854,
          12.99854,
          12.99854,
          12.99854,
          12.99854,
          12.99854,
          12.99854,
          12.99854,
          12.99854,
          12.99854,
          12.99854,
          12.99854,
          12.99854,
          12.99854,
          12.99854,
          12.99854,
          12.99854,
          12.99854,
          12.99854,
          12.99854,
          12.99854,
          12.99854,
          12.99854,
          12.99854,
          12.99854,
          12.99854,
          12.99854,
          12.99854,
          12.99854,
          12.99854,
          12.99854,
          12.99854,
          12.99854,
          12.99854,
          12.99854,
          12.99854,
          12.99854,
          12.99854,
          12.99854,
          12.99854,
          12.99854,
          12.99854,
          12.99854,
          12.99854,
          12.99854,
          12.99854,
          12.99854,
          12.99854,
          12.99854,
          12.99854,
          12.99854,
          12.99854,
          12.99854,
          12.99854,
          12.99854,
          12.99854,
          12.99854,
          12.99854,
          12.99854,
          12.99854,
          12.99854,
          12.99854,
          12.99854,
          12.99854,
          12.99854,
          12.99854,
          12.99854,
          12.99854,
          12.99854,
          12.99854,
          12.99854,
          12.99854,
          12.99854,
          12.99854,
          12.99854,
          12.99854,
          12.99854,
          12.99854,
          12.99854,
          12.99854,
          12.99854,
          12.99854,
          12.99854,
          12.99854,
          12.99854,
          12.99854,
          12.99854,
          12.99854,
          12.99854,
          12.99854,
          12.99854,
          12.99854,
          12.99854,
          12.99854,
          12.99854,
          12.99854,
          12.99854,
          12.99854,
          12.99854,
          12.99854,
          12.99854,
          12.99854,
          12.99854,
          12.99854,
          12.99854,
          12.99854,
          12.99854,
          12.99854,
          12.99854,
          12.99854,
          12.99854,
          12.99854,
          12.99854,
          12.99854,
          12.99854,
          12.99854,
          12.99854,
          12.99854,
          12.99854,
          12.99854,
          12.99854,
          12.99854,
          12.99854,
          12.99854,
          12.99854,
          12.99854,
          12.99854,
          12.99854,
          12.99854,
          12.99854,
          12.99854,
          12.99854,
          12.99854,
          12.99854,
          12.99854,
          12.99854,
          12.99854,
          12.99854,
          12.99854,
          12.99854,
          12.99854,
          12.99854,
          12.99854,
          12.99854,
          12.99854,
          12.99854,
          12.99854,
          12.99854,
          12.99854,
          12.99854,
          12.99854,
          12.99854,
          12.99854,
          12.99854,
          12.99854,
          12.99854,
          12.99854,
          12.99854,
          12.99854,
          12.99854,
          12.99854,
          12.99854,
          12.99854,
          12.99854,
          12.99854,
          12.99854,
          12.99854,
          12.99854,
          12.99854,
          12.99854,
          12.99854,
          12.99854,
          12.99854,
          12.99854,
          12.99854,
          12.99854,
          12.99854,
          12.99854,
          12.99854,
          12.99854,
          12.99854,
          12.99854,
          12.99854,
          12.99854,
          12.99854,
          12.99854,
          12.99854,
          12.99854,
          12.99854,
          12.99854,
          12.99854,
          12.99854,
          12.99854,
          12.99854,
          12.99854,
          12.99854,
          12.99854,
          12.99854,
          12.99854,
          12.99854,
          12.99854,
          12.99854,
          12.99854
         ],
         "marker": {
          "color": "#636efa"
         },
         "mode": "markers",
         "name": "work",
         "showlegend": true,
         "subplot": "mapbox",
         "type": "scattermapbox"
        },
        {
         "customdata": [
          [
           23,
           4,
           134
          ],
          [
           13,
           5,
           134
          ],
          [
           13,
           0,
           134
          ],
          [
           14,
           0,
           134
          ],
          [
           20,
           1,
           134
          ],
          [
           16,
           4,
           134
          ],
          [
           12,
           6,
           134
          ],
          [
           18,
           5,
           134
          ],
          [
           19,
           5,
           134
          ],
          [
           13,
           4,
           134
          ],
          [
           13,
           2,
           134
          ],
          [
           13,
           5,
           134
          ],
          [
           14,
           5,
           134
          ],
          [
           11,
           0,
           134
          ],
          [
           13,
           6,
           134
          ],
          [
           1,
           4,
           134
          ],
          [
           14,
           4,
           134
          ],
          [
           16,
           3,
           134
          ],
          [
           18,
           6,
           134
          ],
          [
           17,
           0,
           134
          ],
          [
           17,
           1,
           134
          ],
          [
           12,
           5,
           134
          ],
          [
           17,
           6,
           134
          ],
          [
           22,
           1,
           134
          ],
          [
           21,
           1,
           134
          ],
          [
           17,
           6,
           134
          ],
          [
           21,
           6,
           134
          ],
          [
           19,
           2,
           134
          ],
          [
           11,
           4,
           134
          ],
          [
           11,
           4,
           134
          ],
          [
           15,
           5,
           134
          ],
          [
           15,
           1,
           134
          ],
          [
           4,
           4,
           134
          ],
          [
           18,
           4,
           134
          ],
          [
           16,
           6,
           134
          ],
          [
           11,
           2,
           134
          ],
          [
           13,
           3,
           134
          ],
          [
           22,
           1,
           134
          ],
          [
           11,
           3,
           134
          ],
          [
           15,
           1,
           134
          ],
          [
           20,
           3,
           134
          ],
          [
           14,
           1,
           134
          ],
          [
           20,
           3,
           134
          ],
          [
           18,
           0,
           134
          ],
          [
           13,
           1,
           134
          ],
          [
           20,
           1,
           134
          ],
          [
           10,
           5,
           134
          ],
          [
           20,
           3,
           134
          ],
          [
           12,
           4,
           134
          ],
          [
           11,
           6,
           134
          ],
          [
           16,
           1,
           134
          ],
          [
           17,
           4,
           134
          ],
          [
           14,
           1,
           134
          ],
          [
           19,
           1,
           134
          ],
          [
           8,
           2,
           134
          ],
          [
           14,
           2,
           134
          ],
          [
           21,
           0,
           134
          ],
          [
           17,
           1,
           134
          ],
          [
           23,
           3,
           134
          ],
          [
           20,
           5,
           134
          ],
          [
           6,
           0,
           134
          ],
          [
           10,
           5,
           134
          ],
          [
           19,
           0,
           134
          ],
          [
           21,
           1,
           134
          ],
          [
           17,
           2,
           134
          ],
          [
           23,
           3,
           134
          ],
          [
           12,
           2,
           134
          ],
          [
           13,
           2,
           134
          ],
          [
           16,
           5,
           134
          ],
          [
           16,
           4,
           134
          ],
          [
           16,
           0,
           134
          ],
          [
           6,
           4,
           134
          ],
          [
           16,
           6,
           134
          ],
          [
           23,
           0,
           134
          ],
          [
           12,
           2,
           134
          ],
          [
           10,
           4,
           134
          ],
          [
           17,
           4,
           134
          ],
          [
           17,
           0,
           134
          ],
          [
           10,
           6,
           134
          ],
          [
           23,
           6,
           134
          ],
          [
           10,
           1,
           134
          ],
          [
           17,
           2,
           134
          ],
          [
           21,
           2,
           134
          ],
          [
           11,
           5,
           134
          ],
          [
           15,
           0,
           134
          ],
          [
           15,
           2,
           134
          ],
          [
           17,
           2,
           134
          ],
          [
           11,
           4,
           134
          ],
          [
           12,
           4,
           134
          ],
          [
           13,
           0,
           134
          ],
          [
           13,
           2,
           134
          ],
          [
           10,
           1,
           134
          ],
          [
           14,
           3,
           134
          ],
          [
           21,
           5,
           134
          ],
          [
           22,
           6,
           134
          ],
          [
           0,
           5,
           134
          ],
          [
           13,
           6,
           134
          ],
          [
           13,
           0,
           134
          ],
          [
           11,
           2,
           134
          ],
          [
           11,
           3,
           134
          ],
          [
           21,
           3,
           134
          ],
          [
           10,
           0,
           134
          ],
          [
           21,
           0,
           134
          ],
          [
           18,
           1,
           134
          ],
          [
           10,
           6,
           134
          ],
          [
           22,
           1,
           134
          ],
          [
           13,
           2,
           134
          ],
          [
           10,
           5,
           134
          ],
          [
           10,
           3,
           134
          ],
          [
           19,
           0,
           134
          ],
          [
           19,
           1,
           134
          ],
          [
           20,
           3,
           134
          ],
          [
           1,
           5,
           134
          ],
          [
           9,
           4,
           134
          ],
          [
           17,
           5,
           134
          ],
          [
           17,
           0,
           134
          ],
          [
           19,
           1,
           134
          ],
          [
           10,
           2,
           134
          ],
          [
           17,
           1,
           134
          ],
          [
           4,
           0,
           134
          ],
          [
           10,
           2,
           134
          ],
          [
           17,
           4,
           134
          ],
          [
           18,
           1,
           134
          ],
          [
           1,
           2,
           134
          ],
          [
           1,
           2,
           134
          ],
          [
           15,
           2,
           134
          ],
          [
           14,
           5,
           134
          ],
          [
           13,
           6,
           134
          ],
          [
           17,
           2,
           134
          ],
          [
           0,
           3,
           134
          ],
          [
           1,
           3,
           134
          ],
          [
           11,
           3,
           134
          ],
          [
           12,
           4,
           134
          ],
          [
           14,
           4,
           134
          ],
          [
           2,
           5,
           134
          ],
          [
           15,
           1,
           134
          ],
          [
           1,
           1,
           134
          ],
          [
           13,
           4,
           134
          ],
          [
           10,
           5,
           134
          ],
          [
           9,
           1,
           134
          ],
          [
           11,
           3,
           134
          ],
          [
           12,
           0,
           134
          ],
          [
           16,
           5,
           134
          ],
          [
           22,
           3,
           134
          ],
          [
           1,
           3,
           134
          ],
          [
           12,
           0,
           134
          ],
          [
           17,
           2,
           134
          ],
          [
           10,
           4,
           134
          ],
          [
           15,
           5,
           134
          ],
          [
           0,
           2,
           134
          ],
          [
           11,
           2,
           134
          ],
          [
           5,
           0,
           134
          ],
          [
           10,
           4,
           134
          ],
          [
           21,
           4,
           134
          ],
          [
           14,
           6,
           134
          ],
          [
           15,
           6,
           134
          ],
          [
           12,
           3,
           134
          ],
          [
           12,
           1,
           134
          ],
          [
           23,
           2,
           134
          ],
          [
           10,
           3,
           134
          ],
          [
           19,
           3,
           134
          ],
          [
           9,
           4,
           134
          ],
          [
           16,
           0,
           134
          ],
          [
           13,
           1,
           134
          ],
          [
           10,
           3,
           134
          ],
          [
           10,
           3,
           134
          ],
          [
           9,
           6,
           134
          ],
          [
           15,
           4,
           134
          ],
          [
           16,
           1,
           134
          ],
          [
           17,
           2,
           134
          ],
          [
           17,
           4,
           134
          ],
          [
           9,
           0,
           134
          ],
          [
           11,
           2,
           134
          ],
          [
           15,
           2,
           134
          ],
          [
           8,
           6,
           134
          ],
          [
           0,
           2,
           134
          ],
          [
           15,
           4,
           134
          ],
          [
           10,
           6,
           134
          ],
          [
           12,
           0,
           134
          ],
          [
           16,
           1,
           134
          ],
          [
           10,
           1,
           134
          ],
          [
           14,
           0,
           134
          ],
          [
           19,
           0,
           134
          ],
          [
           21,
           0,
           134
          ],
          [
           19,
           1,
           134
          ],
          [
           9,
           2,
           134
          ],
          [
           11,
           4,
           134
          ],
          [
           11,
           4,
           134
          ],
          [
           11,
           0,
           134
          ],
          [
           23,
           3,
           134
          ],
          [
           10,
           2,
           134
          ],
          [
           13,
           1,
           134
          ],
          [
           16,
           2,
           134
          ],
          [
           12,
           3,
           134
          ],
          [
           13,
           6,
           134
          ],
          [
           12,
           4,
           134
          ],
          [
           16,
           5,
           134
          ],
          [
           22,
           5,
           134
          ],
          [
           18,
           1,
           134
          ],
          [
           22,
           3,
           134
          ],
          [
           16,
           4,
           134
          ],
          [
           13,
           2,
           134
          ],
          [
           13,
           0,
           134
          ],
          [
           11,
           6,
           134
          ],
          [
           11,
           0,
           134
          ],
          [
           13,
           1,
           134
          ],
          [
           18,
           1,
           134
          ],
          [
           21,
           1,
           134
          ],
          [
           17,
           6,
           134
          ],
          [
           14,
           0,
           134
          ],
          [
           12,
           3,
           134
          ],
          [
           17,
           4,
           134
          ],
          [
           13,
           1,
           134
          ],
          [
           11,
           2,
           134
          ],
          [
           10,
           3,
           134
          ],
          [
           14,
           3,
           134
          ],
          [
           15,
           4,
           134
          ],
          [
           0,
           5,
           134
          ],
          [
           20,
           5,
           134
          ],
          [
           15,
           6,
           134
          ],
          [
           15,
           0,
           134
          ],
          [
           16,
           0,
           134
          ],
          [
           15,
           6,
           134
          ],
          [
           15,
           0,
           134
          ],
          [
           10,
           1,
           134
          ],
          [
           14,
           4,
           134
          ],
          [
           11,
           0,
           134
          ],
          [
           15,
           0,
           134
          ],
          [
           11,
           3,
           134
          ],
          [
           0,
           5,
           134
          ],
          [
           10,
           4,
           134
          ],
          [
           14,
           6,
           134
          ],
          [
           12,
           1,
           134
          ],
          [
           11,
           3,
           134
          ],
          [
           12,
           4,
           134
          ],
          [
           12,
           4,
           134
          ],
          [
           18,
           4,
           134
          ],
          [
           17,
           1,
           134
          ],
          [
           14,
           4,
           134
          ],
          [
           11,
           2,
           134
          ],
          [
           11,
           4,
           134
          ],
          [
           21,
           5,
           134
          ],
          [
           16,
           1,
           134
          ],
          [
           11,
           2,
           134
          ],
          [
           12,
           5,
           134
          ],
          [
           14,
           0,
           134
          ],
          [
           9,
           3,
           134
          ],
          [
           15,
           3,
           134
          ],
          [
           18,
           0,
           134
          ],
          [
           12,
           6,
           134
          ],
          [
           10,
           5,
           134
          ],
          [
           15,
           0,
           134
          ],
          [
           15,
           5,
           134
          ],
          [
           14,
           4,
           134
          ],
          [
           15,
           3,
           134
          ],
          [
           13,
           3,
           134
          ],
          [
           17,
           5,
           134
          ],
          [
           8,
           1,
           134
          ],
          [
           11,
           4,
           134
          ],
          [
           10,
           5,
           134
          ],
          [
           15,
           1,
           134
          ],
          [
           16,
           0,
           134
          ],
          [
           22,
           4,
           134
          ],
          [
           17,
           6,
           0
          ],
          [
           0,
           5,
           0
          ],
          [
           17,
           6,
           0
          ],
          [
           16,
           3,
           0
          ],
          [
           17,
           3,
           0
          ],
          [
           23,
           6,
           0
          ],
          [
           13,
           3,
           0
          ],
          [
           0,
           5,
           0
          ],
          [
           19,
           1,
           0
          ],
          [
           19,
           1,
           0
          ],
          [
           21,
           6,
           0
          ],
          [
           21,
           6,
           0
          ],
          [
           0,
           1,
           0
          ],
          [
           17,
           6,
           0
          ],
          [
           18,
           1,
           0
          ],
          [
           10,
           0,
           0
          ],
          [
           1,
           2,
           0
          ],
          [
           18,
           1,
           0
          ],
          [
           23,
           6,
           0
          ],
          [
           16,
           0,
           0
          ],
          [
           17,
           0,
           0
          ],
          [
           2,
           2,
           0
          ],
          [
           17,
           4,
           0
          ],
          [
           18,
           5,
           0
          ],
          [
           17,
           6,
           0
          ],
          [
           2,
           0,
           0
          ],
          [
           17,
           0,
           0
          ],
          [
           18,
           0,
           0
          ],
          [
           17,
           3,
           0
          ],
          [
           19,
           3,
           0
          ],
          [
           20,
           2,
           0
          ],
          [
           21,
           2,
           0
          ],
          [
           21,
           5,
           0
          ],
          [
           20,
           1,
           0
          ],
          [
           22,
           6,
           0
          ],
          [
           17,
           3,
           0
          ],
          [
           17,
           3,
           0
          ],
          [
           18,
           3,
           0
          ],
          [
           20,
           3,
           0
          ],
          [
           22,
           5,
           0
          ],
          [
           17,
           5,
           0
          ],
          [
           17,
           5,
           0
          ],
          [
           14,
           0,
           0
          ],
          [
           21,
           2,
           0
          ],
          [
           22,
           6,
           0
          ],
          [
           0,
           0,
           0
          ],
          [
           18,
           2,
           0
          ],
          [
           20,
           2,
           0
          ],
          [
           13,
           2,
           0
          ],
          [
           14,
           4,
           0
          ],
          [
           17,
           4,
           0
          ],
          [
           17,
           1,
           0
          ],
          [
           21,
           5,
           0
          ],
          [
           15,
           0,
           0
          ],
          [
           14,
           6,
           0
          ],
          [
           18,
           0,
           0
          ],
          [
           15,
           1,
           0
          ],
          [
           22,
           3,
           0
          ],
          [
           15,
           1,
           0
          ],
          [
           19,
           2,
           0
          ],
          [
           21,
           2,
           0
          ],
          [
           22,
           3,
           0
          ],
          [
           17,
           6,
           0
          ],
          [
           17,
           6,
           0
          ],
          [
           15,
           2,
           0
          ],
          [
           17,
           6,
           0
          ],
          [
           14,
           4,
           0
          ],
          [
           10,
           5,
           0
          ],
          [
           15,
           0,
           0
          ],
          [
           23,
           6,
           0
          ],
          [
           16,
           4,
           0
          ],
          [
           15,
           6,
           0
          ],
          [
           16,
           6,
           0
          ],
          [
           14,
           3,
           0
          ],
          [
           15,
           3,
           0
          ],
          [
           15,
           3,
           0
          ],
          [
           21,
           1,
           0
          ],
          [
           20,
           0,
           0
          ],
          [
           16,
           0,
           0
          ],
          [
           16,
           5,
           0
          ],
          [
           16,
           6,
           0
          ],
          [
           16,
           2,
           0
          ],
          [
           14,
           2,
           0
          ],
          [
           23,
           3,
           0
          ],
          [
           22,
           3,
           0
          ],
          [
           19,
           5,
           0
          ],
          [
           19,
           5,
           0
          ],
          [
           17,
           1,
           0
          ],
          [
           21,
           2,
           0
          ],
          [
           22,
           5,
           0
          ],
          [
           13,
           1,
           0
          ],
          [
           14,
           1,
           0
          ],
          [
           12,
           2,
           0
          ],
          [
           13,
           5,
           0
          ],
          [
           14,
           5,
           0
          ],
          [
           14,
           2,
           0
          ],
          [
           15,
           2,
           0
          ],
          [
           14,
           3,
           0
          ],
          [
           14,
           4,
           0
          ],
          [
           13,
           4,
           0
          ],
          [
           13,
           2,
           0
          ],
          [
           20,
           3,
           0
          ],
          [
           16,
           5,
           0
          ],
          [
           14,
           1,
           0
          ],
          [
           14,
           1,
           0
          ],
          [
           18,
           2,
           0
          ],
          [
           18,
           2,
           0
          ],
          [
           15,
           3,
           0
          ],
          [
           15,
           5,
           0
          ],
          [
           17,
           0,
           0
          ],
          [
           17,
           1,
           0
          ],
          [
           0,
           3,
           0
          ],
          [
           0,
           3,
           0
          ],
          [
           12,
           4,
           0
          ],
          [
           21,
           3,
           0
          ],
          [
           21,
           3,
           0
          ],
          [
           21,
           6,
           0
          ],
          [
           1,
           2,
           0
          ],
          [
           13,
           1,
           0
          ],
          [
           21,
           6,
           0
          ],
          [
           23,
           6,
           0
          ],
          [
           23,
           1,
           0
          ],
          [
           9,
           2,
           0
          ],
          [
           15,
           2,
           0
          ],
          [
           13,
           4,
           0
          ],
          [
           16,
           6,
           0
          ],
          [
           16,
           2,
           0
          ],
          [
           23,
           2,
           0
          ],
          [
           0,
           3,
           0
          ],
          [
           15,
           3,
           0
          ],
          [
           16,
           3,
           0
          ],
          [
           21,
           3,
           0
          ],
          [
           11,
           4,
           0
          ],
          [
           16,
           5,
           0
          ],
          [
           13,
           6,
           0
          ],
          [
           15,
           0,
           0
          ],
          [
           14,
           3,
           0
          ],
          [
           15,
           3,
           0
          ],
          [
           0,
           1,
           0
          ],
          [
           15,
           2,
           0
          ],
          [
           15,
           3,
           0
          ],
          [
           13,
           4,
           0
          ],
          [
           15,
           3,
           0
          ],
          [
           21,
           4,
           0
          ],
          [
           14,
           6,
           0
          ],
          [
           12,
           3,
           0
          ],
          [
           15,
           4,
           0
          ],
          [
           21,
           4,
           0
          ],
          [
           19,
           5,
           0
          ],
          [
           15,
           4,
           0
          ],
          [
           17,
           2,
           0
          ],
          [
           12,
           4,
           0
          ],
          [
           11,
           3,
           0
          ],
          [
           20,
           4,
           0
          ],
          [
           15,
           5,
           0
          ],
          [
           17,
           5,
           0
          ],
          [
           17,
           1,
           0
          ],
          [
           13,
           4,
           0
          ],
          [
           19,
           4,
           0
          ],
          [
           13,
           6,
           0
          ],
          [
           13,
           6,
           0
          ],
          [
           13,
           6,
           0
          ],
          [
           0,
           1,
           0
          ],
          [
           0,
           1,
           0
          ],
          [
           14,
           2,
           0
          ],
          [
           21,
           4,
           0
          ],
          [
           13,
           5,
           0
          ],
          [
           13,
           6,
           0
          ],
          [
           11,
           1,
           0
          ],
          [
           13,
           4,
           0
          ],
          [
           14,
           4,
           0
          ],
          [
           23,
           2,
           0
          ],
          [
           20,
           4,
           0
          ],
          [
           22,
           5,
           0
          ],
          [
           15,
           4,
           0
          ],
          [
           18,
           4,
           0
          ],
          [
           12,
           5,
           0
          ],
          [
           2,
           5,
           0
          ],
          [
           13,
           4,
           0
          ],
          [
           22,
           5,
           0
          ],
          [
           14,
           1,
           0
          ],
          [
           15,
           3,
           0
          ],
          [
           19,
           3,
           0
          ],
          [
           12,
           4,
           0
          ],
          [
           13,
           5,
           0
          ],
          [
           20,
           6,
           0
          ],
          [
           20,
           0,
           0
          ],
          [
           12,
           1,
           0
          ],
          [
           20,
           1,
           0
          ],
          [
           15,
           4,
           0
          ],
          [
           22,
           5,
           0
          ],
          [
           23,
           2,
           0
          ],
          [
           19,
           3,
           0
          ],
          [
           18,
           4,
           0
          ],
          [
           22,
           6,
           0
          ],
          [
           22,
           6,
           0
          ],
          [
           14,
           1,
           0
          ],
          [
           2,
           2,
           0
          ],
          [
           13,
           3,
           0
          ],
          [
           13,
           5,
           0
          ],
          [
           18,
           2,
           0
          ],
          [
           19,
           2,
           0
          ],
          [
           2,
           1,
           0
          ],
          [
           12,
           4,
           0
          ],
          [
           19,
           6,
           0
          ],
          [
           19,
           1,
           0
          ],
          [
           10,
           3,
           0
          ],
          [
           1,
           5,
           0
          ],
          [
           23,
           4,
           0
          ],
          [
           12,
           2,
           0
          ],
          [
           1,
           5,
           0
          ],
          [
           11,
           0,
           0
          ],
          [
           14,
           1,
           0
          ],
          [
           10,
           5,
           0
          ],
          [
           1,
           5,
           0
          ]
         ],
         "hoverlabel": {
          "namelength": 0
         },
         "hovertemplate": "label=home<br>hourofday=%{customdata[0]}<br>weekday=%{customdata[1]}<br>region=%{customdata[2]}<br>latitude=%{lat}<br>longitude=%{lon}",
         "lat": [
          55.6,
          55.601073,
          55.601073,
          55.59793000000001,
          55.6,
          55.60079,
          55.60079,
          55.59995,
          55.5993,
          55.601196,
          55.6,
          55.60079,
          55.60191,
          55.6,
          55.597972,
          55.6,
          55.6,
          55.6,
          55.6,
          55.6,
          55.6,
          55.60119200000001,
          55.60102,
          55.6,
          55.601608,
          55.6,
          55.6,
          55.6,
          55.6,
          55.6,
          55.6,
          55.6,
          55.6,
          55.598942,
          55.6,
          55.6,
          55.60079,
          55.6,
          55.6,
          55.6,
          55.6,
          55.6,
          55.59897,
          55.6,
          55.6,
          55.6,
          55.6,
          55.597917,
          55.6,
          55.6,
          55.5987,
          55.6,
          55.6,
          55.6,
          55.6,
          55.6,
          55.597917,
          55.597917,
          55.6,
          55.6,
          55.6,
          55.6,
          55.5979,
          55.6,
          55.599513,
          55.6,
          55.6,
          55.6,
          55.6,
          55.6,
          55.6,
          55.6,
          55.60079,
          55.6,
          55.60079,
          55.6,
          55.598942,
          55.597974,
          55.6,
          55.6,
          55.6,
          55.6,
          55.6,
          55.60027,
          55.598942,
          55.6,
          55.6,
          55.6,
          55.6,
          55.6,
          55.6,
          55.6,
          55.6,
          55.6,
          55.6,
          55.6,
          55.6,
          55.6,
          55.598942,
          55.6,
          55.6,
          55.6,
          55.6,
          55.6,
          55.6,
          55.6,
          55.6,
          55.6,
          55.6,
          55.6,
          55.6,
          55.6,
          55.6,
          55.6,
          55.6,
          55.6,
          55.6,
          55.6,
          55.6,
          55.6,
          55.6,
          55.6,
          55.6,
          55.6,
          55.6,
          55.6,
          55.6,
          55.6,
          55.6,
          55.6,
          55.6,
          55.6,
          55.6,
          55.6,
          55.6,
          55.599287,
          55.6,
          55.6,
          55.6,
          55.6,
          55.6,
          55.6,
          55.6,
          55.6,
          55.6,
          55.60079,
          55.599461,
          55.6,
          55.598942,
          55.6,
          55.6,
          55.6,
          55.6,
          55.6,
          55.6,
          55.598942,
          55.598942,
          55.6,
          55.6,
          55.6,
          55.6,
          55.6,
          55.6,
          55.6,
          55.6,
          55.6,
          55.6,
          55.598942,
          55.59894,
          55.6,
          55.598942,
          55.6,
          55.6,
          55.6,
          55.6,
          55.6,
          55.598942,
          55.6,
          55.598942,
          55.6,
          55.6,
          55.6,
          55.6,
          55.6,
          55.6,
          55.6,
          55.6,
          55.6,
          55.60079,
          55.6,
          55.6,
          55.6,
          55.6,
          55.6,
          55.6,
          55.6,
          55.598942,
          55.6,
          55.6,
          55.6,
          55.6,
          55.6,
          55.6,
          55.6,
          55.6,
          55.6,
          55.6,
          55.6,
          55.6,
          55.6,
          55.6,
          55.6,
          55.6,
          55.6,
          55.6,
          55.6,
          55.6,
          55.6,
          55.6,
          55.6,
          55.6,
          55.6,
          55.6,
          55.6,
          55.6,
          55.6,
          55.6,
          55.6,
          55.6,
          55.6,
          55.6,
          55.6,
          55.6,
          55.6,
          55.6,
          55.6,
          55.59798000000001,
          55.59798000000001,
          55.6,
          55.6,
          55.6,
          55.6,
          55.6,
          55.6,
          55.6,
          55.6,
          55.6,
          55.598942,
          55.59917,
          55.598942,
          55.598942,
          55.598942,
          55.598942,
          55.598942,
          55.598942,
          55.598942,
          55.598942,
          55.598942,
          55.598942,
          55.598942,
          55.598942,
          55.598942,
          55.598942,
          43.610438,
          43.6079,
          43.6079,
          43.6079,
          43.6079,
          43.60783,
          43.608651,
          43.6079,
          43.608871,
          43.608871,
          43.60782800000001,
          43.607826,
          43.6079,
          43.6079,
          43.6079,
          43.608651,
          43.6079,
          43.607999,
          43.607999,
          43.6107,
          43.6107,
          43.6079,
          43.6079,
          43.608871,
          43.6079,
          43.6079,
          43.6079,
          43.6079,
          43.6079,
          43.6079,
          43.6107,
          43.6107,
          43.607999,
          43.608871,
          43.6107,
          43.610438,
          43.610438,
          43.608871,
          43.611634,
          43.6107,
          43.61255300000001,
          43.61255300000001,
          43.610438,
          43.608871,
          43.608871,
          43.608871,
          43.608814,
          43.608814,
          43.609361,
          43.61255300000001,
          43.61255300000001,
          43.613487,
          43.610613,
          43.610029,
          43.613055,
          43.6079,
          43.613055,
          43.608871,
          43.613055,
          43.608871,
          43.613055,
          43.613055,
          43.613055,
          43.613055,
          43.611657,
          43.613055,
          43.613055,
          43.611657,
          43.613055,
          43.613055,
          43.611657,
          43.613055,
          43.613055,
          43.613055,
          43.61255300000001,
          43.61255300000001,
          43.613055,
          43.611429,
          43.613055,
          43.613055,
          43.613055,
          43.613055,
          43.60715,
          43.613055,
          43.613055,
          43.607053,
          43.607053,
          43.613055,
          43.607053,
          43.608871,
          43.607336,
          43.610733,
          43.610095,
          43.611436,
          43.610095,
          43.607336,
          43.607336,
          43.607336,
          43.610095,
          43.611436,
          43.609935,
          43.607336,
          43.607336,
          43.607336,
          43.607336,
          43.610095,
          43.607336,
          43.607336,
          43.611657,
          43.607336,
          43.610095,
          43.607336,
          43.607336,
          43.610095,
          43.613055,
          43.613055,
          43.607336,
          43.607336,
          43.611378,
          43.613055,
          43.613055,
          43.607336,
          43.611378,
          43.607336,
          43.611378,
          43.611378,
          43.611378,
          43.608871,
          43.608871,
          43.610095,
          43.610095,
          43.611378,
          43.608247,
          43.610095,
          43.611429,
          43.610095,
          43.610095,
          43.610095,
          43.6079,
          43.610095,
          43.610095,
          43.610047,
          43.610047,
          43.608916,
          43.610047,
          43.612962,
          43.610047,
          43.612962,
          43.610807,
          43.6119,
          43.613352,
          43.613352,
          43.60943,
          43.610705,
          43.613352,
          43.610047,
          43.607336,
          43.613352,
          43.610804,
          43.610047,
          43.610047,
          43.610047,
          43.609369,
          43.609369,
          43.613352,
          43.610804,
          43.609303,
          43.613352,
          43.609904,
          43.613352,
          43.610804,
          43.607984,
          43.6119,
          43.608916,
          43.607829,
          43.613352,
          43.613352,
          43.613352,
          43.610047,
          43.607984,
          43.60943,
          43.610047,
          43.607803,
          43.609369,
          43.610047,
          43.607888,
          43.609835,
          43.610051,
          43.6119,
          43.607336,
          43.607984,
          43.607984,
          43.607984,
          43.612571,
          43.609572,
          43.609572,
          43.612571,
          43.612571,
          43.6119,
          43.613352,
          43.6119,
          43.607984,
          43.613352,
          43.6119,
          43.607984,
          43.607984,
          43.613352,
          43.610717,
          43.608009,
          43.608471,
          43.608009,
          43.61157,
          43.6119,
          43.6119,
          43.6119
         ],
         "legendgroup": "home",
         "lon": [
          13,
          13.000355,
          13.000355,
          12.99988,
          13,
          13.00038,
          13.00038,
          13.00132,
          13.00119,
          13.000624,
          13,
          13.00038,
          13.00174,
          13,
          12.999826,
          13,
          13,
          13,
          13,
          13,
          13,
          13.000637,
          13.00202,
          13,
          13.001,
          13,
          13,
          13,
          13,
          13,
          13,
          13,
          13,
          12.99941,
          13,
          13,
          13.00038,
          13,
          13,
          13,
          13,
          13,
          12.99795,
          13,
          13,
          13,
          13,
          12.999763,
          13,
          13,
          12.99963,
          13,
          13,
          13,
          13,
          13,
          12.999763,
          12.999763,
          13,
          13,
          13,
          13,
          12.99985,
          13,
          12.998619,
          13,
          13,
          13,
          13,
          13,
          13,
          13,
          13.00038,
          13,
          13.00038,
          13,
          12.99941,
          12.999819,
          13,
          13,
          13,
          13,
          13,
          13.00088,
          12.99941,
          13,
          13,
          13,
          13,
          13,
          13,
          13,
          13,
          13,
          13,
          13,
          13,
          13,
          12.99941,
          13,
          13,
          13,
          13,
          13,
          13,
          13,
          13,
          13,
          13,
          13,
          13,
          13,
          13,
          13,
          13,
          13,
          13,
          13,
          13,
          13,
          13,
          13,
          13,
          13,
          13,
          13,
          13,
          13,
          13,
          13,
          13,
          13,
          13,
          13,
          13,
          12.998328,
          13,
          13,
          13,
          13,
          13,
          13,
          13,
          13,
          13,
          13.00038,
          12.998742,
          13,
          12.99941,
          13,
          13,
          13,
          13,
          13,
          13,
          12.99941,
          12.99941,
          13,
          13,
          13,
          13,
          13,
          13,
          13,
          13,
          13,
          13,
          12.99941,
          12.99941,
          13,
          12.99941,
          13,
          13,
          13,
          13,
          13,
          12.99941,
          13,
          12.99941,
          13,
          13,
          13,
          13,
          13,
          13,
          13,
          13,
          13,
          13.00038,
          13,
          13,
          13,
          13,
          13,
          13,
          13,
          12.99941,
          13,
          13,
          13,
          13,
          13,
          13,
          13,
          13,
          13,
          13,
          13,
          13,
          13,
          13,
          13,
          13,
          13,
          13,
          13,
          13,
          13,
          13,
          13,
          13,
          13,
          13,
          13,
          13,
          13,
          13,
          13,
          13,
          13,
          13,
          13,
          13,
          13,
          13,
          13,
          13.00097,
          13.00097,
          13,
          13,
          13,
          13,
          13,
          13,
          13,
          13,
          13,
          12.99941,
          13.00061,
          12.99941,
          12.99941,
          12.99941,
          12.99941,
          12.99941,
          12.99941,
          12.99941,
          12.99941,
          12.99941,
          12.99941,
          12.99941,
          12.99941,
          12.99941,
          12.99941,
          3.874429,
          3.875913,
          3.875913,
          3.875913,
          3.875913,
          3.875667,
          3.875878,
          3.875913,
          3.874868,
          3.874868,
          3.875939,
          3.875924,
          3.875913,
          3.875913,
          3.875913,
          3.875878,
          3.875913,
          3.875937,
          3.875937,
          3.878369,
          3.878369,
          3.875913,
          3.875913,
          3.874868,
          3.875913,
          3.875913,
          3.875913,
          3.875913,
          3.875913,
          3.875913,
          3.878369,
          3.878369,
          3.875937,
          3.874868,
          3.878369,
          3.874429,
          3.874429,
          3.874868,
          3.876316000000001,
          3.878369,
          3.876734,
          3.876734,
          3.874429,
          3.874868,
          3.874868,
          3.874868,
          3.877148000000001,
          3.877148000000001,
          3.875108,
          3.876734,
          3.876734,
          3.875744,
          3.874611,
          3.874457,
          3.875908,
          3.875913,
          3.875908,
          3.874868,
          3.875908,
          3.874868,
          3.875908,
          3.875908,
          3.875908,
          3.875908,
          3.876929,
          3.875908,
          3.875908,
          3.876929,
          3.875908,
          3.875908,
          3.876929,
          3.875908,
          3.875908,
          3.875908,
          3.876734,
          3.876734,
          3.875908,
          3.877639,
          3.875908,
          3.875908,
          3.875908,
          3.875908,
          3.874698,
          3.875908,
          3.875908,
          3.874858,
          3.874858,
          3.875908,
          3.874858,
          3.874868,
          3.875328,
          3.876441,
          3.87608,
          3.877557,
          3.87608,
          3.875328,
          3.875328,
          3.875328,
          3.87608,
          3.877557,
          3.87776,
          3.875328,
          3.875328,
          3.875328,
          3.875328,
          3.87608,
          3.875328,
          3.875328,
          3.876929,
          3.875328,
          3.87608,
          3.875328,
          3.875328,
          3.87608,
          3.875908,
          3.875908,
          3.875328,
          3.875328,
          3.877316,
          3.875908,
          3.875908,
          3.875328,
          3.877316,
          3.875328,
          3.877316,
          3.877316,
          3.877316,
          3.874868,
          3.874868,
          3.87608,
          3.87608,
          3.877316,
          3.875366000000001,
          3.87608,
          3.877639,
          3.87608,
          3.87608,
          3.87608,
          3.875913,
          3.87608,
          3.87608,
          3.876084,
          3.876084,
          3.874911,
          3.876084,
          3.875807,
          3.876084,
          3.875807,
          3.875511,
          3.8772,
          3.876341000000001,
          3.876341000000001,
          3.876284,
          3.878315,
          3.876341000000001,
          3.876084,
          3.875328,
          3.876341000000001,
          3.875495,
          3.876084,
          3.876084,
          3.876084,
          3.87685,
          3.87685,
          3.876341000000001,
          3.875495,
          3.877054,
          3.876341000000001,
          3.877789,
          3.876341000000001,
          3.875495,
          3.875901,
          3.8772,
          3.874911,
          3.875598,
          3.876341000000001,
          3.876341000000001,
          3.876341000000001,
          3.876084,
          3.875901,
          3.876284,
          3.876084,
          3.87671,
          3.87685,
          3.876084,
          3.875884,
          3.877843,
          3.877447,
          3.8772,
          3.875328,
          3.875901,
          3.875901,
          3.875901,
          3.876753,
          3.877154,
          3.877154,
          3.876753,
          3.876753,
          3.8772,
          3.876341000000001,
          3.8772,
          3.875901,
          3.876341000000001,
          3.8772,
          3.875901,
          3.875901,
          3.876341000000001,
          3.878389,
          3.87594,
          3.87581,
          3.87594,
          3.87776,
          3.8772,
          3.8772,
          3.8772
         ],
         "marker": {
          "color": "#EF553B"
         },
         "mode": "markers",
         "name": "home",
         "showlegend": true,
         "subplot": "mapbox",
         "type": "scattermapbox"
        },
        {
         "customdata": [
          [
           21,
           1,
           17
          ],
          [
           15,
           1,
           17
          ],
          [
           17,
           1,
           17
          ],
          [
           14,
           2,
           17
          ],
          [
           19,
           4,
           17
          ],
          [
           23,
           6,
           17
          ],
          [
           23,
           5,
           17
          ],
          [
           23,
           5,
           17
          ],
          [
           14,
           0,
           17
          ],
          [
           19,
           3,
           17
          ],
          [
           0,
           5,
           17
          ],
          [
           15,
           4,
           17
          ],
          [
           18,
           0,
           17
          ],
          [
           23,
           0,
           17
          ],
          [
           11,
           4,
           17
          ],
          [
           14,
           4,
           17
          ],
          [
           12,
           5,
           17
          ],
          [
           17,
           0,
           17
          ],
          [
           19,
           1,
           17
          ],
          [
           14,
           0,
           17
          ],
          [
           15,
           0,
           17
          ],
          [
           17,
           4,
           17
          ],
          [
           23,
           2,
           17
          ],
          [
           19,
           3,
           17
          ],
          [
           17,
           0,
           17
          ],
          [
           17,
           0,
           17
          ],
          [
           23,
           5,
           17
          ],
          [
           21,
           4,
           17
          ],
          [
           23,
           5,
           17
          ],
          [
           23,
           0,
           17
          ],
          [
           21,
           4,
           17
          ],
          [
           23,
           4,
           17
          ],
          [
           22,
           6,
           17
          ],
          [
           23,
           6,
           17
          ],
          [
           0,
           0,
           17
          ],
          [
           19,
           4,
           17
          ],
          [
           15,
           1,
           17
          ],
          [
           20,
           2,
           17
          ],
          [
           19,
           3,
           17
          ],
          [
           16,
           2,
           17
          ],
          [
           0,
           4,
           17
          ],
          [
           19,
           6,
           17
          ],
          [
           20,
           3,
           17
          ],
          [
           11,
           4,
           17
          ],
          [
           21,
           5,
           17
          ],
          [
           2,
           6,
           17
          ],
          [
           23,
           5,
           17
          ],
          [
           0,
           6,
           17
          ],
          [
           12,
           4,
           17
          ],
          [
           0,
           6,
           17
          ],
          [
           0,
           6,
           17
          ],
          [
           20,
           5,
           17
          ],
          [
           23,
           5,
           17
          ],
          [
           3,
           6,
           17
          ],
          [
           20,
           1,
           17
          ],
          [
           22,
           4,
           17
          ],
          [
           23,
           5,
           17
          ],
          [
           15,
           5,
           17
          ],
          [
           20,
           1,
           17
          ],
          [
           23,
           4,
           17
          ],
          [
           19,
           6,
           17
          ],
          [
           16,
           1,
           17
          ],
          [
           10,
           5,
           17
          ],
          [
           19,
           5,
           17
          ],
          [
           14,
           0,
           17
          ],
          [
           10,
           2,
           17
          ],
          [
           12,
           0,
           17
          ],
          [
           19,
           0,
           17
          ],
          [
           10,
           1,
           17
          ],
          [
           16,
           1,
           17
          ],
          [
           16,
           1,
           17
          ],
          [
           14,
           4,
           17
          ],
          [
           22,
           1,
           17
          ],
          [
           22,
           4,
           17
          ],
          [
           20,
           2,
           17
          ],
          [
           12,
           5,
           17
          ],
          [
           14,
           5,
           17
          ],
          [
           19,
           5,
           17
          ],
          [
           22,
           6,
           17
          ],
          [
           20,
           2,
           17
          ],
          [
           12,
           1,
           17
          ],
          [
           14,
           1,
           17
          ],
          [
           22,
           3,
           17
          ],
          [
           17,
           4,
           17
          ],
          [
           23,
           6,
           17
          ],
          [
           0,
           0,
           17
          ],
          [
           23,
           1,
           17
          ],
          [
           17,
           5,
           17
          ],
          [
           20,
           3,
           17
          ],
          [
           16,
           3,
           17
          ],
          [
           13,
           5,
           17
          ],
          [
           19,
           1,
           17
          ],
          [
           17,
           3,
           17
          ],
          [
           16,
           4,
           17
          ],
          [
           12,
           5,
           17
          ],
          [
           15,
           0,
           17
          ],
          [
           13,
           5,
           17
          ],
          [
           10,
           2,
           17
          ],
          [
           11,
           5,
           17
          ],
          [
           13,
           6,
           17
          ],
          [
           15,
           1,
           17
          ],
          [
           22,
           1,
           17
          ],
          [
           17,
           6,
           17
          ],
          [
           20,
           6,
           17
          ],
          [
           1,
           0,
           17
          ],
          [
           17,
           2,
           17
          ],
          [
           12,
           3,
           17
          ],
          [
           10,
           2,
           17
          ],
          [
           0,
           5,
           17
          ],
          [
           21,
           0,
           17
          ],
          [
           20,
           1,
           17
          ],
          [
           12,
           0,
           17
          ],
          [
           20,
           4,
           17
          ],
          [
           22,
           5,
           17
          ],
          [
           13,
           6,
           17
          ],
          [
           13,
           6,
           17
          ],
          [
           10,
           6,
           17
          ],
          [
           17,
           2,
           144
          ],
          [
           3,
           0,
           144
          ],
          [
           15,
           4,
           144
          ],
          [
           16,
           6,
           144
          ],
          [
           14,
           1,
           144
          ],
          [
           15,
           1,
           144
          ],
          [
           17,
           1,
           144
          ],
          [
           17,
           4,
           144
          ],
          [
           0,
           0,
           144
          ],
          [
           15,
           5,
           144
          ],
          [
           8,
           1,
           144
          ],
          [
           23,
           2,
           144
          ],
          [
           16,
           4,
           144
          ],
          [
           13,
           3,
           144
          ],
          [
           16,
           5,
           144
          ],
          [
           16,
           6,
           144
          ],
          [
           23,
           3,
           144
          ],
          [
           22,
           3,
           144
          ],
          [
           23,
           4,
           144
          ],
          [
           14,
           1,
           144
          ],
          [
           3,
           6,
           144
          ],
          [
           1,
           0,
           144
          ],
          [
           5,
           0,
           144
          ],
          [
           21,
           2,
           144
          ],
          [
           16,
           4,
           144
          ],
          [
           16,
           2,
           144
          ],
          [
           1,
           6,
           144
          ],
          [
           17,
           3,
           144
          ],
          [
           1,
           6,
           144
          ],
          [
           23,
           6,
           144
          ],
          [
           23,
           2,
           144
          ],
          [
           0,
           3,
           144
          ],
          [
           16,
           5,
           144
          ],
          [
           1,
           3,
           144
          ],
          [
           0,
           3,
           144
          ],
          [
           13,
           0,
           144
          ],
          [
           23,
           4,
           144
          ],
          [
           17,
           6,
           144
          ],
          [
           0,
           5,
           144
          ],
          [
           20,
           6,
           144
          ],
          [
           20,
           6,
           144
          ],
          [
           21,
           6,
           144
          ],
          [
           23,
           6,
           144
          ],
          [
           1,
           6,
           144
          ],
          [
           1,
           6,
           144
          ],
          [
           20,
           6,
           144
          ],
          [
           16,
           3,
           144
          ],
          [
           0,
           4,
           144
          ],
          [
           23,
           3,
           144
          ],
          [
           23,
           3,
           144
          ],
          [
           17,
           6,
           144
          ],
          [
           16,
           2,
           144
          ],
          [
           22,
           3,
           144
          ],
          [
           0,
           6,
           144
          ],
          [
           15,
           0,
           144
          ],
          [
           0,
           2,
           144
          ],
          [
           14,
           4,
           144
          ],
          [
           15,
           6,
           144
          ],
          [
           19,
           5,
           144
          ],
          [
           0,
           5,
           144
          ],
          [
           3,
           0,
           144
          ],
          [
           17,
           4,
           144
          ],
          [
           1,
           5,
           144
          ],
          [
           17,
           6,
           144
          ],
          [
           23,
           3,
           144
          ],
          [
           16,
           2,
           144
          ],
          [
           20,
           5,
           144
          ],
          [
           1,
           0,
           144
          ],
          [
           16,
           2,
           144
          ],
          [
           1,
           0,
           144
          ],
          [
           21,
           2,
           144
          ],
          [
           22,
           2,
           144
          ],
          [
           0,
           0,
           144
          ],
          [
           0,
           0,
           144
          ],
          [
           23,
           2,
           144
          ],
          [
           17,
           6,
           144
          ],
          [
           0,
           5,
           144
          ],
          [
           1,
           6,
           144
          ],
          [
           17,
           6,
           144
          ],
          [
           21,
           5,
           144
          ],
          [
           20,
           3,
           144
          ],
          [
           1,
           3,
           144
          ],
          [
           20,
           5,
           144
          ],
          [
           3,
           0,
           144
          ],
          [
           0,
           5,
           144
          ],
          [
           18,
           6,
           144
          ],
          [
           18,
           0,
           144
          ],
          [
           23,
           5,
           144
          ],
          [
           0,
           0,
           144
          ],
          [
           15,
           0,
           144
          ],
          [
           18,
           0,
           144
          ],
          [
           19,
           0,
           144
          ],
          [
           19,
           0,
           144
          ],
          [
           1,
           6,
           144
          ],
          [
           15,
           1,
           144
          ],
          [
           19,
           6,
           144
          ],
          [
           23,
           6,
           144
          ],
          [
           16,
           4,
           144
          ],
          [
           16,
           0,
           144
          ],
          [
           17,
           0,
           144
          ],
          [
           18,
           0,
           144
          ],
          [
           19,
           0,
           144
          ],
          [
           20,
           0,
           144
          ],
          [
           21,
           0,
           144
          ],
          [
           17,
           4,
           144
          ],
          [
           17,
           4,
           144
          ],
          [
           17,
           4,
           144
          ],
          [
           20,
           6,
           144
          ],
          [
           17,
           6,
           144
          ],
          [
           21,
           5,
           144
          ],
          [
           14,
           6,
           144
          ],
          [
           19,
           5,
           144
          ],
          [
           21,
           6,
           144
          ],
          [
           15,
           5,
           144
          ],
          [
           1,
           5,
           12
          ],
          [
           1,
           5,
           12
          ],
          [
           18,
           5,
           12
          ],
          [
           16,
           1,
           12
          ],
          [
           19,
           6,
           12
          ],
          [
           9,
           2,
           12
          ],
          [
           23,
           3,
           12
          ],
          [
           21,
           3,
           12
          ],
          [
           23,
           5,
           12
          ],
          [
           0,
           0,
           12
          ],
          [
           23,
           0,
           12
          ],
          [
           14,
           3,
           12
          ],
          [
           18,
           5,
           12
          ],
          [
           22,
           0,
           12
          ],
          [
           10,
           1,
           12
          ],
          [
           15,
           3,
           12
          ],
          [
           18,
           5,
           12
          ],
          [
           20,
           5,
           12
          ],
          [
           23,
           5,
           12
          ],
          [
           12,
           4,
           12
          ],
          [
           14,
           2,
           12
          ],
          [
           21,
           5,
           12
          ],
          [
           11,
           0,
           12
          ],
          [
           12,
           6,
           12
          ],
          [
           18,
           6,
           12
          ],
          [
           10,
           0,
           12
          ],
          [
           10,
           0,
           12
          ],
          [
           20,
           4,
           12
          ],
          [
           20,
           1,
           12
          ],
          [
           23,
           0,
           12
          ],
          [
           12,
           2,
           12
          ],
          [
           11,
           2,
           12
          ],
          [
           22,
           6,
           12
          ],
          [
           1,
           0,
           12
          ],
          [
           16,
           0,
           12
          ],
          [
           18,
           4,
           12
          ],
          [
           14,
           6,
           12
          ],
          [
           21,
           0,
           12
          ],
          [
           23,
           1,
           12
          ],
          [
           17,
           4,
           12
          ],
          [
           23,
           0,
           12
          ],
          [
           16,
           0,
           12
          ],
          [
           18,
           0,
           12
          ],
          [
           16,
           4,
           12
          ],
          [
           15,
           0,
           12
          ],
          [
           1,
           0,
           12
          ],
          [
           18,
           6,
           12
          ],
          [
           3,
           6,
           12
          ],
          [
           21,
           2,
           12
          ],
          [
           21,
           2,
           12
          ],
          [
           21,
           4,
           12
          ],
          [
           11,
           0,
           12
          ],
          [
           16,
           0,
           12
          ],
          [
           10,
           5,
           12
          ],
          [
           18,
           5,
           12
          ],
          [
           18,
           6,
           12
          ],
          [
           17,
           0,
           12
          ],
          [
           20,
           1,
           12
          ],
          [
           15,
           2,
           12
          ],
          [
           12,
           6,
           12
          ],
          [
           23,
           6,
           12
          ],
          [
           10,
           0,
           12
          ],
          [
           18,
           5,
           12
          ],
          [
           19,
           0,
           12
          ],
          [
           13,
           5,
           12
          ],
          [
           12,
           4,
           91
          ],
          [
           22,
           2,
           91
          ],
          [
           20,
           0,
           91
          ],
          [
           21,
           0,
           91
          ],
          [
           22,
           0,
           91
          ],
          [
           19,
           1,
           91
          ],
          [
           22,
           4,
           91
          ],
          [
           22,
           5,
           91
          ],
          [
           18,
           1,
           91
          ],
          [
           10,
           6,
           91
          ],
          [
           13,
           6,
           91
          ],
          [
           14,
           6,
           91
          ],
          [
           14,
           6,
           91
          ],
          [
           14,
           6,
           91
          ],
          [
           13,
           6,
           91
          ],
          [
           14,
           6,
           91
          ],
          [
           20,
           5,
           91
          ],
          [
           21,
           5,
           91
          ],
          [
           22,
           5,
           91
          ],
          [
           10,
           6,
           91
          ],
          [
           12,
           6,
           91
          ],
          [
           10,
           6,
           91
          ],
          [
           15,
           0,
           91
          ],
          [
           22,
           0,
           91
          ],
          [
           10,
           6,
           91
          ],
          [
           17,
           2,
           91
          ],
          [
           19,
           2,
           91
          ],
          [
           9,
           5,
           91
          ],
          [
           18,
           2,
           91
          ],
          [
           20,
           3,
           91
          ],
          [
           9,
           4,
           91
          ],
          [
           9,
           4,
           91
          ],
          [
           10,
           6,
           91
          ],
          [
           12,
           2,
           91
          ],
          [
           10,
           3,
           91
          ],
          [
           21,
           5,
           91
          ],
          [
           11,
           1,
           91
          ],
          [
           12,
           2,
           91
          ],
          [
           12,
           5,
           91
          ],
          [
           17,
           0,
           91
          ],
          [
           18,
           0,
           91
          ],
          [
           21,
           1,
           91
          ],
          [
           10,
           5,
           91
          ],
          [
           9,
           6,
           91
          ],
          [
           9,
           6,
           91
          ],
          [
           20,
           6,
           91
          ],
          [
           15,
           3,
           91
          ],
          [
           13,
           0,
           91
          ],
          [
           19,
           5,
           242
          ],
          [
           21,
           5,
           242
          ],
          [
           17,
           3,
           242
          ],
          [
           14,
           1,
           242
          ],
          [
           16,
           4,
           242
          ],
          [
           20,
           5,
           242
          ],
          [
           22,
           0,
           242
          ],
          [
           12,
           2,
           242
          ],
          [
           17,
           0,
           242
          ],
          [
           12,
           6,
           242
          ],
          [
           7,
           2,
           242
          ],
          [
           8,
           1,
           242
          ],
          [
           10,
           4,
           242
          ],
          [
           9,
           5,
           242
          ],
          [
           10,
           2,
           242
          ],
          [
           16,
           6,
           242
          ],
          [
           11,
           1,
           242
          ],
          [
           21,
           0,
           242
          ],
          [
           10,
           3,
           242
          ],
          [
           13,
           1,
           242
          ],
          [
           20,
           3,
           242
          ],
          [
           21,
           6,
           242
          ],
          [
           23,
           5,
           242
          ],
          [
           11,
           1,
           242
          ],
          [
           12,
           4,
           242
          ],
          [
           10,
           6,
           242
          ],
          [
           20,
           3,
           242
          ],
          [
           14,
           6,
           142
          ],
          [
           20,
           5,
           142
          ],
          [
           19,
           2,
           142
          ],
          [
           13,
           6,
           142
          ],
          [
           13,
           0,
           142
          ],
          [
           17,
           0,
           142
          ],
          [
           18,
           0,
           142
          ],
          [
           21,
           5,
           142
          ],
          [
           20,
           6,
           142
          ],
          [
           16,
           0,
           142
          ],
          [
           17,
           0,
           142
          ],
          [
           20,
           1,
           142
          ],
          [
           16,
           0,
           142
          ],
          [
           16,
           4,
           142
          ],
          [
           16,
           0,
           142
          ],
          [
           18,
           0,
           142
          ],
          [
           21,
           1,
           142
          ],
          [
           22,
           1,
           142
          ],
          [
           12,
           6,
           142
          ],
          [
           17,
           0,
           142
          ],
          [
           17,
           0,
           142
          ],
          [
           11,
           3,
           142
          ],
          [
           16,
           0,
           142
          ],
          [
           20,
           0,
           142
          ],
          [
           14,
           2,
           151
          ],
          [
           13,
           0,
           151
          ],
          [
           14,
           0,
           151
          ],
          [
           15,
           1,
           151
          ],
          [
           16,
           2,
           151
          ],
          [
           14,
           1,
           151
          ],
          [
           15,
           1,
           151
          ],
          [
           15,
           1,
           151
          ],
          [
           15,
           1,
           151
          ],
          [
           15,
           0,
           151
          ],
          [
           14,
           2,
           151
          ],
          [
           15,
           2,
           151
          ],
          [
           15,
           2,
           151
          ],
          [
           13,
           2,
           151
          ],
          [
           13,
           2,
           151
          ],
          [
           1,
           5,
           151
          ],
          [
           1,
           5,
           151
          ],
          [
           13,
           2,
           151
          ],
          [
           13,
           2,
           151
          ],
          [
           14,
           2,
           151
          ],
          [
           14,
           2,
           151
          ],
          [
           14,
           3,
           151
          ]
         ],
         "hoverlabel": {
          "namelength": 0
         },
         "hovertemplate": "label=other<br>hourofday=%{customdata[0]}<br>weekday=%{customdata[1]}<br>region=%{customdata[2]}<br>latitude=%{lat}<br>longitude=%{lon}",
         "lat": [
          55.59296,
          55.591647,
          55.594898,
          55.591647,
          55.59193000000001,
          55.594892,
          55.594892,
          55.594892,
          55.59171,
          55.592808,
          55.59245600000001,
          55.591711,
          55.5917,
          55.59193000000001,
          55.591524,
          55.5917,
          55.591711,
          55.59200300000001,
          55.59193000000001,
          55.59200300000001,
          55.59200300000001,
          55.59200300000001,
          55.5924,
          55.59200300000001,
          55.59200300000001,
          55.591571,
          55.59193000000001,
          55.59193000000001,
          55.594917,
          55.59193000000001,
          55.5924,
          55.5924,
          55.593251,
          55.593251,
          55.593251,
          55.591625,
          55.591625,
          55.591625,
          55.59192,
          55.591722,
          55.592447,
          55.592237,
          55.592447,
          55.592447,
          55.594641,
          55.594713,
          55.594953,
          55.594953,
          55.59463,
          55.594713,
          55.594713,
          55.594953,
          55.59463,
          55.59463,
          55.59348000000001,
          55.59193000000001,
          55.594953,
          55.594953,
          55.59279,
          55.59403,
          55.5922,
          55.5922,
          55.5922,
          55.5922,
          55.5922,
          55.5922,
          55.5922,
          55.5922,
          55.5922,
          55.5922,
          55.5922,
          55.5922,
          55.5922,
          55.5922,
          55.5922,
          55.5922,
          55.5922,
          55.5922,
          55.5922,
          55.5922,
          55.5922,
          55.5922,
          55.5922,
          55.5922,
          55.5922,
          55.5922,
          55.5922,
          55.5922,
          55.5922,
          55.5922,
          55.5922,
          55.5922,
          55.5922,
          55.5922,
          55.5922,
          55.5922,
          55.5922,
          55.5922,
          55.5922,
          55.5922,
          55.5922,
          55.5922,
          55.5922,
          55.5922,
          55.594953,
          55.5922,
          55.5922,
          55.5922,
          55.5922,
          55.59279,
          55.5922,
          55.5922,
          55.5922,
          55.5922,
          55.5922,
          55.5922,
          55.5922,
          55.606127,
          55.606127,
          55.606127,
          55.606127,
          55.606127,
          55.606127,
          55.606127,
          55.606127,
          55.606108,
          55.606108,
          55.606108,
          55.606108,
          55.606108,
          55.6061,
          55.60619300000001,
          55.60619300000001,
          55.606109,
          55.606109,
          55.606109,
          55.60506899999999,
          55.606109,
          55.606109,
          55.60497,
          55.606109,
          55.606109,
          55.606109,
          55.606109,
          55.606109,
          55.606109,
          55.606109,
          55.606109,
          55.606109,
          55.606109,
          55.606098,
          55.606098,
          55.606098,
          55.606098,
          55.606098,
          55.606098,
          55.60497,
          55.60497,
          55.60497,
          55.60497,
          55.606098,
          55.606098,
          55.606098,
          55.606098,
          55.606098,
          55.606098,
          55.606098,
          55.606098,
          55.606098,
          55.606098,
          55.606098,
          55.60582,
          55.606098,
          55.606098,
          55.606098,
          55.6061,
          55.6061,
          55.6061,
          55.6061,
          55.6061,
          55.6061,
          55.6061,
          55.6061,
          55.6061,
          55.6061,
          55.606136,
          55.606136,
          55.606136,
          55.606136,
          55.606136,
          55.606136,
          55.606136,
          55.6061,
          55.606136,
          55.606136,
          55.6061,
          55.6061,
          55.6061,
          55.6061,
          55.6061,
          55.6061,
          55.6061,
          55.6061,
          55.60497700000001,
          55.6061,
          55.6061,
          55.6061,
          55.6061,
          55.6061,
          55.6061,
          55.6061,
          55.60497700000001,
          55.6061,
          55.6061,
          55.6061,
          55.6061,
          55.6061,
          55.6061,
          55.6061,
          55.6061,
          55.6061,
          55.6061,
          55.6061,
          55.606121,
          55.6061,
          55.6061,
          55.6061,
          55.60582,
          55.6061,
          55.6061,
          55.606127,
          43.606441,
          43.606441,
          43.606401,
          43.606401,
          43.606401,
          43.606401,
          43.606401,
          43.606401,
          43.606401,
          43.606401,
          43.606401,
          43.606401,
          43.606401,
          43.606401,
          43.606401,
          43.606401,
          43.606401,
          43.606401,
          43.606401,
          43.606401,
          43.606401,
          43.606401,
          43.606401,
          43.606401,
          43.606401,
          43.606401,
          43.606401,
          43.606401,
          43.606401,
          43.606401,
          43.606401,
          43.606401,
          43.606401,
          43.606401,
          43.606401,
          43.606401,
          43.606401,
          43.606401,
          43.606401,
          43.606401,
          43.606401,
          43.606401,
          43.60628300000001,
          43.60628300000001,
          43.60628300000001,
          43.60628300000001,
          43.60628300000001,
          43.60628300000001,
          43.60628300000001,
          43.60628300000001,
          43.60628300000001,
          43.60628300000001,
          43.60628300000001,
          43.606369,
          43.60628300000001,
          43.60628300000001,
          43.60628300000001,
          43.60636,
          43.60635,
          43.60636,
          43.60636,
          43.60636,
          43.60636,
          43.60636,
          43.60615900000001,
          55.594619,
          55.593698,
          55.59474,
          55.59474,
          55.59474,
          55.59365699999999,
          55.593662,
          55.593662,
          55.593665,
          55.59488,
          55.59488,
          55.59488,
          55.59488,
          55.59488,
          55.594742,
          55.594742,
          55.593788,
          55.593788,
          55.593788,
          55.593947,
          55.593947,
          55.593947,
          55.593788,
          55.595191,
          55.595191,
          55.595191,
          55.595191,
          55.595191,
          55.595191,
          55.595191,
          55.595191,
          55.595191,
          55.595191,
          55.595191,
          55.595191,
          55.595191,
          55.595191,
          55.595191,
          55.595191,
          55.593649,
          55.595191,
          55.595191,
          55.595191,
          55.593649,
          55.593649,
          55.593788,
          55.593649,
          55.594498,
          55.59693100000001,
          55.597364,
          55.59673299999999,
          55.59673299999999,
          55.596684,
          55.596684,
          55.596684,
          55.59693000000001,
          55.596684,
          55.596684,
          55.59661,
          55.59661,
          55.596684,
          55.596684,
          55.596684,
          55.59673299999999,
          55.59693000000001,
          55.59684,
          55.59684,
          55.59684,
          55.59684,
          55.59683,
          55.59749,
          55.59661,
          55.59693000000001,
          55.59659499999999,
          55.59749,
          55.603474,
          55.603655,
          55.603063,
          55.603547,
          55.60376,
          55.60293000000001,
          55.60293000000001,
          55.60319499999999,
          55.60293000000001,
          55.602939,
          55.602939,
          55.602939,
          55.60319499999999,
          55.60319499999999,
          55.60319499999999,
          55.602939,
          55.60319499999999,
          55.60319499999999,
          55.60301,
          55.60301,
          55.602987,
          55.60341,
          55.60293000000001,
          55.60293000000001,
          55.606473,
          55.60603199999999,
          55.60603199999999,
          55.60606899999999,
          55.60606899999999,
          55.60606899999999,
          55.60606899999999,
          55.60606899999999,
          55.60606899999999,
          55.60606899999999,
          55.60606899999999,
          55.60606899999999,
          55.60606899999999,
          55.60606899999999,
          55.60606899999999,
          55.60606899999999,
          55.60606899999999,
          55.60606899999999,
          55.60606899999999,
          55.60606899999999,
          55.60606899999999,
          55.60606899999999
         ],
         "legendgroup": "other",
         "lon": [
          13.007148,
          13.00815,
          13.00969,
          13.00815,
          13.00886,
          13.010497,
          13.010497,
          13.010497,
          13.007911,
          13.006606,
          13.0067,
          13.00791,
          13.008207,
          13.00886,
          13.005747,
          13.008207,
          13.00791,
          13.006452,
          13.00886,
          13.006452,
          13.006452,
          13.006452,
          13.00632,
          13.006452,
          13.006452,
          13.008375,
          13.00886,
          13.00886,
          13.009689,
          13.00886,
          13.00632,
          13.00632,
          13.007808,
          13.007808,
          13.007808,
          13.008128999999998,
          13.008128999999998,
          13.008128999999998,
          13.00844,
          13.008199,
          13.006685,
          13.006896,
          13.006685,
          13.006685,
          13.008458,
          13.00858,
          13.009659,
          13.009659,
          13.008483,
          13.00858,
          13.00858,
          13.009659,
          13.008483,
          13.008483,
          13.00764,
          13.00886,
          13.009659,
          13.009659,
          13.00736,
          13.00778,
          13.0073,
          13.0073,
          13.0073,
          13.0073,
          13.0073,
          13.0073,
          13.0073,
          13.0073,
          13.0073,
          13.0073,
          13.0073,
          13.0073,
          13.0073,
          13.0073,
          13.0073,
          13.0073,
          13.0073,
          13.0073,
          13.0073,
          13.0073,
          13.0073,
          13.0073,
          13.0073,
          13.0073,
          13.0073,
          13.0073,
          13.0073,
          13.0073,
          13.0073,
          13.0073,
          13.0073,
          13.0073,
          13.0073,
          13.0073,
          13.0073,
          13.0073,
          13.0073,
          13.0073,
          13.0073,
          13.0073,
          13.0073,
          13.0073,
          13.0073,
          13.0073,
          13.009659,
          13.0073,
          13.0073,
          13.0073,
          13.0073,
          13.00736,
          13.0073,
          13.0073,
          13.0073,
          13.0073,
          13.0073,
          13.0073,
          13.0073,
          12.997532,
          12.997532,
          12.997532,
          12.997532,
          12.997532,
          12.997532,
          12.997532,
          12.997532,
          12.997692,
          12.997692,
          12.997692,
          12.997692,
          12.997692,
          12.99782,
          12.997641,
          12.997641,
          12.997692,
          12.997692,
          12.997692,
          12.998685,
          12.997692,
          12.997692,
          12.997592,
          12.997692,
          12.997692,
          12.997692,
          12.997692,
          12.997692,
          12.997692,
          12.997692,
          12.997692,
          12.997692,
          12.997692,
          12.99782,
          12.99782,
          12.99782,
          12.99782,
          12.99782,
          12.99782,
          12.997592,
          12.997592,
          12.997592,
          12.997592,
          12.99782,
          12.99782,
          12.99782,
          12.99782,
          12.99782,
          12.99782,
          12.99782,
          12.99782,
          12.99782,
          12.99782,
          12.99782,
          12.99792,
          12.99782,
          12.99782,
          12.99782,
          12.99782,
          12.99782,
          12.99782,
          12.99782,
          12.99782,
          12.99782,
          12.99782,
          12.99782,
          12.99782,
          12.99782,
          12.997729,
          12.997729,
          12.997729,
          12.997729,
          12.997729,
          12.997729,
          12.997729,
          12.99782,
          12.997729,
          12.997729,
          12.99782,
          12.99782,
          12.99782,
          12.99782,
          12.99782,
          12.99782,
          12.99782,
          12.99782,
          12.99766,
          12.99782,
          12.99782,
          12.99782,
          12.99782,
          12.99782,
          12.99782,
          12.99782,
          12.99766,
          12.99782,
          12.99782,
          12.99782,
          12.99782,
          12.99782,
          12.99782,
          12.99782,
          12.99782,
          12.99782,
          12.99782,
          12.99782,
          12.997634,
          12.99782,
          12.99782,
          12.99782,
          12.99792,
          12.99782,
          12.99782,
          12.997721,
          3.877326,
          3.877326,
          3.87648,
          3.87648,
          3.87648,
          3.87648,
          3.87648,
          3.87648,
          3.87648,
          3.87648,
          3.87648,
          3.87648,
          3.87648,
          3.87648,
          3.87648,
          3.87648,
          3.87648,
          3.87648,
          3.87648,
          3.87648,
          3.87648,
          3.87648,
          3.87648,
          3.87648,
          3.87648,
          3.87648,
          3.87648,
          3.87648,
          3.87648,
          3.87648,
          3.87648,
          3.87648,
          3.87648,
          3.87648,
          3.87648,
          3.87648,
          3.87648,
          3.87648,
          3.87648,
          3.87648,
          3.87648,
          3.87648,
          3.876331,
          3.876331,
          3.876331,
          3.876331,
          3.876331,
          3.876331,
          3.876331,
          3.876331,
          3.876331,
          3.876331,
          3.876331,
          3.876488,
          3.876331,
          3.876331,
          3.876331,
          3.876516000000001,
          3.876523,
          3.876516000000001,
          3.876516000000001,
          3.876516000000001,
          3.876516000000001,
          3.876516000000001,
          3.87627,
          13.012834,
          13.013752,
          13.01463,
          13.01463,
          13.01463,
          13.01389,
          13.013893,
          13.013893,
          13.013895,
          13.014651,
          13.014651,
          13.014651,
          13.014651,
          13.014651,
          13.01463,
          13.01463,
          13.013645,
          13.013645,
          13.013645,
          13.013801,
          13.013801,
          13.013801,
          13.013645,
          13.014577,
          13.014577,
          13.014577,
          13.014577,
          13.014577,
          13.014577,
          13.014577,
          13.014577,
          13.014577,
          13.014577,
          13.014577,
          13.014577,
          13.014577,
          13.014577,
          13.014577,
          13.014577,
          13.013917,
          13.014577,
          13.014577,
          13.014577,
          13.013917,
          13.013917,
          13.013645,
          13.013917,
          13.013649,
          13.01367,
          13.014942,
          13.013034,
          13.013034,
          13.015044,
          13.015044,
          13.015044,
          13.01367,
          13.015044,
          13.015044,
          13.01422,
          13.01422,
          13.015044,
          13.015044,
          13.015044,
          13.013034,
          13.01367,
          13.013096,
          13.013096,
          13.013096,
          13.013096,
          13.0137,
          13.01523,
          13.01422,
          13.01367,
          13.01307,
          13.01523,
          13.001833,
          13.000449,
          13.003061,
          13.0012,
          13.00332,
          13.00327,
          13.00327,
          12.999372,
          13.00327,
          13.003223,
          13.003223,
          13.003223,
          12.999372,
          12.999372,
          12.999372,
          13.003223,
          12.999372,
          12.999372,
          12.999501,
          12.999501,
          13.003195,
          13.00256,
          13.00327,
          13.00327,
          12.975095,
          12.976331,
          12.976331,
          12.973853,
          12.973853,
          12.973853,
          12.973853,
          12.973853,
          12.973853,
          12.973853,
          12.973853,
          12.973853,
          12.973853,
          12.973853,
          12.973853,
          12.973853,
          12.973853,
          12.973853,
          12.973853,
          12.973853,
          12.973853,
          12.973853
         ],
         "marker": {
          "color": "#00cc96"
         },
         "mode": "markers",
         "name": "other",
         "showlegend": true,
         "subplot": "mapbox",
         "type": "scattermapbox"
        }
       ],
       "layout": {
        "legend": {
         "title": {
          "text": "label"
         },
         "tracegroupgap": 0
        },
        "mapbox": {
         "center": {
          "lat": 52.93738809674861,
          "lon": 10.974604954004759
         },
         "domain": {
          "x": [
           0,
           1
          ],
          "y": [
           0,
           1
          ]
         },
         "style": "open-street-map",
         "zoom": 8
        },
        "margin": {
         "t": 60
        },
        "template": {
         "data": {
          "bar": [
           {
            "error_x": {
             "color": "#2a3f5f"
            },
            "error_y": {
             "color": "#2a3f5f"
            },
            "marker": {
             "line": {
              "color": "#E5ECF6",
              "width": 0.5
             }
            },
            "type": "bar"
           }
          ],
          "barpolar": [
           {
            "marker": {
             "line": {
              "color": "#E5ECF6",
              "width": 0.5
             }
            },
            "type": "barpolar"
           }
          ],
          "carpet": [
           {
            "aaxis": {
             "endlinecolor": "#2a3f5f",
             "gridcolor": "white",
             "linecolor": "white",
             "minorgridcolor": "white",
             "startlinecolor": "#2a3f5f"
            },
            "baxis": {
             "endlinecolor": "#2a3f5f",
             "gridcolor": "white",
             "linecolor": "white",
             "minorgridcolor": "white",
             "startlinecolor": "#2a3f5f"
            },
            "type": "carpet"
           }
          ],
          "choropleth": [
           {
            "colorbar": {
             "outlinewidth": 0,
             "ticks": ""
            },
            "type": "choropleth"
           }
          ],
          "contour": [
           {
            "colorbar": {
             "outlinewidth": 0,
             "ticks": ""
            },
            "colorscale": [
             [
              0,
              "#0d0887"
             ],
             [
              0.1111111111111111,
              "#46039f"
             ],
             [
              0.2222222222222222,
              "#7201a8"
             ],
             [
              0.3333333333333333,
              "#9c179e"
             ],
             [
              0.4444444444444444,
              "#bd3786"
             ],
             [
              0.5555555555555556,
              "#d8576b"
             ],
             [
              0.6666666666666666,
              "#ed7953"
             ],
             [
              0.7777777777777778,
              "#fb9f3a"
             ],
             [
              0.8888888888888888,
              "#fdca26"
             ],
             [
              1,
              "#f0f921"
             ]
            ],
            "type": "contour"
           }
          ],
          "contourcarpet": [
           {
            "colorbar": {
             "outlinewidth": 0,
             "ticks": ""
            },
            "type": "contourcarpet"
           }
          ],
          "heatmap": [
           {
            "colorbar": {
             "outlinewidth": 0,
             "ticks": ""
            },
            "colorscale": [
             [
              0,
              "#0d0887"
             ],
             [
              0.1111111111111111,
              "#46039f"
             ],
             [
              0.2222222222222222,
              "#7201a8"
             ],
             [
              0.3333333333333333,
              "#9c179e"
             ],
             [
              0.4444444444444444,
              "#bd3786"
             ],
             [
              0.5555555555555556,
              "#d8576b"
             ],
             [
              0.6666666666666666,
              "#ed7953"
             ],
             [
              0.7777777777777778,
              "#fb9f3a"
             ],
             [
              0.8888888888888888,
              "#fdca26"
             ],
             [
              1,
              "#f0f921"
             ]
            ],
            "type": "heatmap"
           }
          ],
          "heatmapgl": [
           {
            "colorbar": {
             "outlinewidth": 0,
             "ticks": ""
            },
            "colorscale": [
             [
              0,
              "#0d0887"
             ],
             [
              0.1111111111111111,
              "#46039f"
             ],
             [
              0.2222222222222222,
              "#7201a8"
             ],
             [
              0.3333333333333333,
              "#9c179e"
             ],
             [
              0.4444444444444444,
              "#bd3786"
             ],
             [
              0.5555555555555556,
              "#d8576b"
             ],
             [
              0.6666666666666666,
              "#ed7953"
             ],
             [
              0.7777777777777778,
              "#fb9f3a"
             ],
             [
              0.8888888888888888,
              "#fdca26"
             ],
             [
              1,
              "#f0f921"
             ]
            ],
            "type": "heatmapgl"
           }
          ],
          "histogram": [
           {
            "marker": {
             "colorbar": {
              "outlinewidth": 0,
              "ticks": ""
             }
            },
            "type": "histogram"
           }
          ],
          "histogram2d": [
           {
            "colorbar": {
             "outlinewidth": 0,
             "ticks": ""
            },
            "colorscale": [
             [
              0,
              "#0d0887"
             ],
             [
              0.1111111111111111,
              "#46039f"
             ],
             [
              0.2222222222222222,
              "#7201a8"
             ],
             [
              0.3333333333333333,
              "#9c179e"
             ],
             [
              0.4444444444444444,
              "#bd3786"
             ],
             [
              0.5555555555555556,
              "#d8576b"
             ],
             [
              0.6666666666666666,
              "#ed7953"
             ],
             [
              0.7777777777777778,
              "#fb9f3a"
             ],
             [
              0.8888888888888888,
              "#fdca26"
             ],
             [
              1,
              "#f0f921"
             ]
            ],
            "type": "histogram2d"
           }
          ],
          "histogram2dcontour": [
           {
            "colorbar": {
             "outlinewidth": 0,
             "ticks": ""
            },
            "colorscale": [
             [
              0,
              "#0d0887"
             ],
             [
              0.1111111111111111,
              "#46039f"
             ],
             [
              0.2222222222222222,
              "#7201a8"
             ],
             [
              0.3333333333333333,
              "#9c179e"
             ],
             [
              0.4444444444444444,
              "#bd3786"
             ],
             [
              0.5555555555555556,
              "#d8576b"
             ],
             [
              0.6666666666666666,
              "#ed7953"
             ],
             [
              0.7777777777777778,
              "#fb9f3a"
             ],
             [
              0.8888888888888888,
              "#fdca26"
             ],
             [
              1,
              "#f0f921"
             ]
            ],
            "type": "histogram2dcontour"
           }
          ],
          "mesh3d": [
           {
            "colorbar": {
             "outlinewidth": 0,
             "ticks": ""
            },
            "type": "mesh3d"
           }
          ],
          "parcoords": [
           {
            "line": {
             "colorbar": {
              "outlinewidth": 0,
              "ticks": ""
             }
            },
            "type": "parcoords"
           }
          ],
          "pie": [
           {
            "automargin": true,
            "type": "pie"
           }
          ],
          "scatter": [
           {
            "marker": {
             "colorbar": {
              "outlinewidth": 0,
              "ticks": ""
             }
            },
            "type": "scatter"
           }
          ],
          "scatter3d": [
           {
            "line": {
             "colorbar": {
              "outlinewidth": 0,
              "ticks": ""
             }
            },
            "marker": {
             "colorbar": {
              "outlinewidth": 0,
              "ticks": ""
             }
            },
            "type": "scatter3d"
           }
          ],
          "scattercarpet": [
           {
            "marker": {
             "colorbar": {
              "outlinewidth": 0,
              "ticks": ""
             }
            },
            "type": "scattercarpet"
           }
          ],
          "scattergeo": [
           {
            "marker": {
             "colorbar": {
              "outlinewidth": 0,
              "ticks": ""
             }
            },
            "type": "scattergeo"
           }
          ],
          "scattergl": [
           {
            "marker": {
             "colorbar": {
              "outlinewidth": 0,
              "ticks": ""
             }
            },
            "type": "scattergl"
           }
          ],
          "scattermapbox": [
           {
            "marker": {
             "colorbar": {
              "outlinewidth": 0,
              "ticks": ""
             }
            },
            "type": "scattermapbox"
           }
          ],
          "scatterpolar": [
           {
            "marker": {
             "colorbar": {
              "outlinewidth": 0,
              "ticks": ""
             }
            },
            "type": "scatterpolar"
           }
          ],
          "scatterpolargl": [
           {
            "marker": {
             "colorbar": {
              "outlinewidth": 0,
              "ticks": ""
             }
            },
            "type": "scatterpolargl"
           }
          ],
          "scatterternary": [
           {
            "marker": {
             "colorbar": {
              "outlinewidth": 0,
              "ticks": ""
             }
            },
            "type": "scatterternary"
           }
          ],
          "surface": [
           {
            "colorbar": {
             "outlinewidth": 0,
             "ticks": ""
            },
            "colorscale": [
             [
              0,
              "#0d0887"
             ],
             [
              0.1111111111111111,
              "#46039f"
             ],
             [
              0.2222222222222222,
              "#7201a8"
             ],
             [
              0.3333333333333333,
              "#9c179e"
             ],
             [
              0.4444444444444444,
              "#bd3786"
             ],
             [
              0.5555555555555556,
              "#d8576b"
             ],
             [
              0.6666666666666666,
              "#ed7953"
             ],
             [
              0.7777777777777778,
              "#fb9f3a"
             ],
             [
              0.8888888888888888,
              "#fdca26"
             ],
             [
              1,
              "#f0f921"
             ]
            ],
            "type": "surface"
           }
          ],
          "table": [
           {
            "cells": {
             "fill": {
              "color": "#EBF0F8"
             },
             "line": {
              "color": "white"
             }
            },
            "header": {
             "fill": {
              "color": "#C8D4E3"
             },
             "line": {
              "color": "white"
             }
            },
            "type": "table"
           }
          ]
         },
         "layout": {
          "annotationdefaults": {
           "arrowcolor": "#2a3f5f",
           "arrowhead": 0,
           "arrowwidth": 1
          },
          "coloraxis": {
           "colorbar": {
            "outlinewidth": 0,
            "ticks": ""
           }
          },
          "colorscale": {
           "diverging": [
            [
             0,
             "#8e0152"
            ],
            [
             0.1,
             "#c51b7d"
            ],
            [
             0.2,
             "#de77ae"
            ],
            [
             0.3,
             "#f1b6da"
            ],
            [
             0.4,
             "#fde0ef"
            ],
            [
             0.5,
             "#f7f7f7"
            ],
            [
             0.6,
             "#e6f5d0"
            ],
            [
             0.7,
             "#b8e186"
            ],
            [
             0.8,
             "#7fbc41"
            ],
            [
             0.9,
             "#4d9221"
            ],
            [
             1,
             "#276419"
            ]
           ],
           "sequential": [
            [
             0,
             "#0d0887"
            ],
            [
             0.1111111111111111,
             "#46039f"
            ],
            [
             0.2222222222222222,
             "#7201a8"
            ],
            [
             0.3333333333333333,
             "#9c179e"
            ],
            [
             0.4444444444444444,
             "#bd3786"
            ],
            [
             0.5555555555555556,
             "#d8576b"
            ],
            [
             0.6666666666666666,
             "#ed7953"
            ],
            [
             0.7777777777777778,
             "#fb9f3a"
            ],
            [
             0.8888888888888888,
             "#fdca26"
            ],
            [
             1,
             "#f0f921"
            ]
           ],
           "sequentialminus": [
            [
             0,
             "#0d0887"
            ],
            [
             0.1111111111111111,
             "#46039f"
            ],
            [
             0.2222222222222222,
             "#7201a8"
            ],
            [
             0.3333333333333333,
             "#9c179e"
            ],
            [
             0.4444444444444444,
             "#bd3786"
            ],
            [
             0.5555555555555556,
             "#d8576b"
            ],
            [
             0.6666666666666666,
             "#ed7953"
            ],
            [
             0.7777777777777778,
             "#fb9f3a"
            ],
            [
             0.8888888888888888,
             "#fdca26"
            ],
            [
             1,
             "#f0f921"
            ]
           ]
          },
          "colorway": [
           "#636efa",
           "#EF553B",
           "#00cc96",
           "#ab63fa",
           "#FFA15A",
           "#19d3f3",
           "#FF6692",
           "#B6E880",
           "#FF97FF",
           "#FECB52"
          ],
          "font": {
           "color": "#2a3f5f"
          },
          "geo": {
           "bgcolor": "white",
           "lakecolor": "white",
           "landcolor": "#E5ECF6",
           "showlakes": true,
           "showland": true,
           "subunitcolor": "white"
          },
          "hoverlabel": {
           "align": "left"
          },
          "hovermode": "closest",
          "mapbox": {
           "style": "light"
          },
          "paper_bgcolor": "white",
          "plot_bgcolor": "#E5ECF6",
          "polar": {
           "angularaxis": {
            "gridcolor": "white",
            "linecolor": "white",
            "ticks": ""
           },
           "bgcolor": "#E5ECF6",
           "radialaxis": {
            "gridcolor": "white",
            "linecolor": "white",
            "ticks": ""
           }
          },
          "scene": {
           "xaxis": {
            "backgroundcolor": "#E5ECF6",
            "gridcolor": "white",
            "gridwidth": 2,
            "linecolor": "white",
            "showbackground": true,
            "ticks": "",
            "zerolinecolor": "white"
           },
           "yaxis": {
            "backgroundcolor": "#E5ECF6",
            "gridcolor": "white",
            "gridwidth": 2,
            "linecolor": "white",
            "showbackground": true,
            "ticks": "",
            "zerolinecolor": "white"
           },
           "zaxis": {
            "backgroundcolor": "#E5ECF6",
            "gridcolor": "white",
            "gridwidth": 2,
            "linecolor": "white",
            "showbackground": true,
            "ticks": "",
            "zerolinecolor": "white"
           }
          },
          "shapedefaults": {
           "line": {
            "color": "#2a3f5f"
           }
          },
          "ternary": {
           "aaxis": {
            "gridcolor": "white",
            "linecolor": "white",
            "ticks": ""
           },
           "baxis": {
            "gridcolor": "white",
            "linecolor": "white",
            "ticks": ""
           },
           "bgcolor": "#E5ECF6",
           "caxis": {
            "gridcolor": "white",
            "linecolor": "white",
            "ticks": ""
           }
          },
          "title": {
           "x": 0.05
          },
          "xaxis": {
           "automargin": true,
           "gridcolor": "white",
           "linecolor": "white",
           "ticks": "",
           "title": {
            "standoff": 15
           },
           "zerolinecolor": "white",
           "zerolinewidth": 2
          },
          "yaxis": {
           "automargin": true,
           "gridcolor": "white",
           "linecolor": "white",
           "ticks": "",
           "title": {
            "standoff": 15
           },
           "zerolinecolor": "white",
           "zerolinewidth": 2
          }
         }
        }
       }
      },
      "text/html": [
       "<div>\n",
       "        \n",
       "        \n",
       "            <div id=\"40865bc3-155c-4ddc-b635-36f235c2afee\" class=\"plotly-graph-div\" style=\"height:525px; width:100%;\"></div>\n",
       "            <script type=\"text/javascript\">\n",
       "                require([\"plotly\"], function(Plotly) {\n",
       "                    window.PLOTLYENV=window.PLOTLYENV || {};\n",
       "                    \n",
       "                if (document.getElementById(\"40865bc3-155c-4ddc-b635-36f235c2afee\")) {\n",
       "                    Plotly.newPlot(\n",
       "                        '40865bc3-155c-4ddc-b635-36f235c2afee',\n",
       "                        [{\"customdata\": [[16.0, 1.0, 252.0], [14.0, 1.0, 252.0], [21.0, 6.0, 252.0], [14.0, 1.0, 252.0], [20.0, 2.0, 252.0], [16.0, 3.0, 252.0], [15.0, 6.0, 252.0], [17.0, 1.0, 252.0], [14.0, 2.0, 252.0], [14.0, 5.0, 252.0], [15.0, 4.0, 252.0], [12.0, 2.0, 252.0], [16.0, 5.0, 252.0], [19.0, 4.0, 252.0], [17.0, 6.0, 252.0], [11.0, 2.0, 252.0], [16.0, 4.0, 252.0], [12.0, 5.0, 252.0], [12.0, 4.0, 252.0], [8.0, 4.0, 252.0], [13.0, 6.0, 252.0], [15.0, 2.0, 252.0], [14.0, 3.0, 252.0], [12.0, 5.0, 252.0], [17.0, 6.0, 252.0], [15.0, 5.0, 252.0], [12.0, 0.0, 252.0], [1.0, 1.0, 252.0], [11.0, 3.0, 252.0], [19.0, 3.0, 252.0], [13.0, 6.0, 252.0], [15.0, 0.0, 252.0], [10.0, 3.0, 252.0], [12.0, 0.0, 252.0], [11.0, 4.0, 252.0], [12.0, 5.0, 252.0], [12.0, 3.0, 252.0], [14.0, 4.0, 252.0], [11.0, 5.0, 252.0], [12.0, 3.0, 252.0], [20.0, 1.0, 252.0], [19.0, 2.0, 252.0], [11.0, 4.0, 252.0], [18.0, 5.0, 252.0], [12.0, 6.0, 252.0], [15.0, 6.0, 252.0], [12.0, 3.0, 252.0], [13.0, 3.0, 252.0], [15.0, 5.0, 252.0], [14.0, 0.0, 252.0], [14.0, 0.0, 252.0], [13.0, 2.0, 252.0], [11.0, 3.0, 252.0], [16.0, 3.0, 252.0], [16.0, 3.0, 252.0], [15.0, 4.0, 252.0], [11.0, 5.0, 252.0], [12.0, 5.0, 252.0], [16.0, 5.0, 252.0], [14.0, 3.0, 252.0], [20.0, 3.0, 252.0], [13.0, 6.0, 252.0], [8.0, 2.0, 252.0], [15.0, 3.0, 252.0], [15.0, 4.0, 252.0], [13.0, 5.0, 252.0], [15.0, 0.0, 252.0], [12.0, 5.0, 252.0], [12.0, 5.0, 252.0], [18.0, 5.0, 252.0], [19.0, 5.0, 252.0], [12.0, 0.0, 252.0], [16.0, 4.0, 252.0], [11.0, 5.0, 252.0], [12.0, 5.0, 252.0], [13.0, 2.0, 252.0], [13.0, 6.0, 252.0], [12.0, 0.0, 252.0], [12.0, 0.0, 252.0], [13.0, 0.0, 252.0], [13.0, 5.0, 252.0], [12.0, 6.0, 252.0], [19.0, 0.0, 252.0], [14.0, 0.0, 252.0], [18.0, 3.0, 252.0], [10.0, 4.0, 252.0], [18.0, 5.0, 252.0], [15.0, 2.0, 252.0], [0.0, 3.0, 252.0], [10.0, 3.0, 252.0], [13.0, 3.0, 252.0], [22.0, 1.0, 252.0], [11.0, 4.0, 252.0], [11.0, 5.0, 252.0], [13.0, 4.0, 252.0], [15.0, 4.0, 252.0], [15.0, 4.0, 252.0], [14.0, 6.0, 252.0], [14.0, 0.0, 252.0], [18.0, 3.0, 252.0], [13.0, 3.0, 252.0], [12.0, 5.0, 252.0], [12.0, 6.0, 252.0], [19.0, 0.0, 252.0], [12.0, 1.0, 252.0], [13.0, 1.0, 252.0], [12.0, 2.0, 252.0], [14.0, 4.0, 252.0], [13.0, 5.0, 252.0], [14.0, 5.0, 252.0], [14.0, 5.0, 252.0], [13.0, 4.0, 252.0], [17.0, 3.0, 252.0], [18.0, 3.0, 252.0], [12.0, 6.0, 252.0], [15.0, 2.0, 252.0], [18.0, 3.0, 252.0], [11.0, 4.0, 252.0], [1.0, 5.0, 252.0], [11.0, 5.0, 252.0], [11.0, 0.0, 252.0], [1.0, 3.0, 252.0], [11.0, 3.0, 252.0], [13.0, 4.0, 252.0], [17.0, 3.0, 252.0], [14.0, 4.0, 252.0], [11.0, 5.0, 252.0], [12.0, 6.0, 252.0], [1.0, 3.0, 252.0], [16.0, 0.0, 252.0], [11.0, 2.0, 252.0], [13.0, 4.0, 252.0], [16.0, 4.0, 252.0], [11.0, 5.0, 252.0], [12.0, 0.0, 252.0], [23.0, 1.0, 252.0], [13.0, 3.0, 252.0], [13.0, 4.0, 252.0], [13.0, 4.0, 252.0], [13.0, 5.0, 252.0], [12.0, 2.0, 252.0], [12.0, 3.0, 252.0], [16.0, 3.0, 252.0], [12.0, 4.0, 252.0], [11.0, 5.0, 252.0], [14.0, 5.0, 252.0], [13.0, 6.0, 252.0], [13.0, 2.0, 252.0], [12.0, 3.0, 252.0], [20.0, 5.0, 252.0], [1.0, 5.0, 252.0], [12.0, 2.0, 252.0], [11.0, 4.0, 252.0], [11.0, 5.0, 252.0], [12.0, 5.0, 252.0], [15.0, 5.0, 252.0], [12.0, 5.0, 252.0], [18.0, 5.0, 252.0], [12.0, 6.0, 252.0], [13.0, 6.0, 252.0], [17.0, 6.0, 252.0], [13.0, 0.0, 252.0], [18.0, 3.0, 252.0], [14.0, 5.0, 252.0], [14.0, 5.0, 252.0], [14.0, 5.0, 252.0], [13.0, 6.0, 252.0], [15.0, 0.0, 252.0], [15.0, 3.0, 252.0], [11.0, 6.0, 252.0], [16.0, 1.0, 252.0], [20.0, 1.0, 252.0], [8.0, 2.0, 252.0], [17.0, 2.0, 252.0], [14.0, 4.0, 252.0], [12.0, 5.0, 252.0], [21.0, 3.0, 252.0], [11.0, 4.0, 252.0], [13.0, 5.0, 252.0], [12.0, 6.0, 252.0], [21.0, 0.0, 252.0], [13.0, 3.0, 252.0], [11.0, 4.0, 252.0], [14.0, 5.0, 252.0], [14.0, 5.0, 252.0], [15.0, 5.0, 252.0], [12.0, 3.0, 252.0], [15.0, 5.0, 252.0], [10.0, 6.0, 252.0], [11.0, 6.0, 252.0], [18.0, 6.0, 252.0], [17.0, 0.0, 252.0], [13.0, 5.0, 252.0], [8.0, 0.0, 252.0], [21.0, 2.0, 252.0], [14.0, 5.0, 252.0], [14.0, 5.0, 252.0], [12.0, 6.0, 252.0], [13.0, 6.0, 252.0], [10.0, 3.0, 252.0], [18.0, 4.0, 252.0], [14.0, 5.0, 252.0], [12.0, 6.0, 252.0], [13.0, 6.0, 252.0], [12.0, 0.0, 252.0], [18.0, 1.0, 252.0], [12.0, 4.0, 252.0], [17.0, 5.0, 252.0], [15.0, 0.0, 252.0], [13.0, 3.0, 252.0], [15.0, 5.0, 252.0], [13.0, 4.0, 252.0], [13.0, 5.0, 252.0], [13.0, 4.0, 252.0], [14.0, 4.0, 252.0], [15.0, 4.0, 252.0], [12.0, 5.0, 252.0], [16.0, 5.0, 252.0], [14.0, 1.0, 252.0], [15.0, 2.0, 252.0], [11.0, 3.0, 252.0], [15.0, 4.0, 252.0], [12.0, 6.0, 252.0], [13.0, 2.0, 252.0], [13.0, 5.0, 252.0], [18.0, 5.0, 252.0], [12.0, 1.0, 252.0], [12.0, 4.0, 252.0], [14.0, 4.0, 252.0], [19.0, 0.0, 252.0], [13.0, 2.0, 252.0], [9.0, 5.0, 252.0], [11.0, 3.0, 252.0], [15.0, 4.0, 252.0], [14.0, 5.0, 252.0], [14.0, 0.0, 252.0], [11.0, 1.0, 252.0], [15.0, 3.0, 252.0], [16.0, 4.0, 252.0], [14.0, 0.0, 252.0], [14.0, 3.0, 252.0], [1.0, 5.0, 252.0], [13.0, 0.0, 252.0], [16.0, 5.0, 252.0], [14.0, 6.0, 252.0], [14.0, 0.0, 252.0], [14.0, 0.0, 252.0], [14.0, 0.0, 252.0], [10.0, 2.0, 252.0], [20.0, 5.0, 252.0], [13.0, 6.0, 252.0], [12.0, 3.0, 252.0], [13.0, 6.0, 252.0], [14.0, 6.0, 252.0], [12.0, 5.0, 252.0], [14.0, 5.0, 252.0], [18.0, 5.0, 252.0], [16.0, 4.0, 252.0], [18.0, 4.0, 252.0], [13.0, 4.0, 252.0], [10.0, 5.0, 252.0], [12.0, 5.0, 252.0], [15.0, 2.0, 252.0], [15.0, 4.0, 252.0], [15.0, 3.0, 252.0], [12.0, 6.0, 252.0], [9.0, 1.0, 252.0], [15.0, 4.0, 252.0], [15.0, 5.0, 252.0], [11.0, 4.0, 252.0], [16.0, 5.0, 252.0], [14.0, 2.0, 252.0], [14.0, 3.0, 252.0], [13.0, 3.0, 252.0], [16.0, 3.0, 252.0], [13.0, 4.0, 252.0], [13.0, 0.0, 252.0], [17.0, 2.0, 252.0], [11.0, 4.0, 252.0], [12.0, 4.0, 252.0], [14.0, 3.0, 252.0], [13.0, 4.0, 252.0], [15.0, 5.0, 252.0], [15.0, 2.0, 252.0], [18.0, 2.0, 252.0], [16.0, 5.0, 252.0], [11.0, 3.0, 252.0], [13.0, 5.0, 252.0], [13.0, 5.0, 252.0], [12.0, 6.0, 252.0], [9.0, 2.0, 252.0], [14.0, 3.0, 252.0], [13.0, 5.0, 252.0], [15.0, 5.0, 252.0], [12.0, 6.0, 252.0], [17.0, 3.0, 252.0], [14.0, 5.0, 252.0], [12.0, 4.0, 252.0], [11.0, 5.0, 252.0], [12.0, 6.0, 252.0], [12.0, 5.0, 252.0], [12.0, 0.0, 252.0], [13.0, 3.0, 252.0], [11.0, 5.0, 252.0], [14.0, 0.0, 252.0], [13.0, 5.0, 252.0], [17.0, 5.0, 252.0], [12.0, 6.0, 252.0], [14.0, 2.0, 252.0], [13.0, 3.0, 252.0], [16.0, 3.0, 252.0], [13.0, 4.0, 252.0], [13.0, 5.0, 252.0], [14.0, 6.0, 252.0], [11.0, 3.0, 252.0], [11.0, 4.0, 252.0], [14.0, 5.0, 252.0], [12.0, 6.0, 252.0], [15.0, 6.0, 252.0], [12.0, 4.0, 252.0], [14.0, 1.0, 252.0], [14.0, 0.0, 252.0], [11.0, 3.0, 252.0], [13.0, 3.0, 252.0], [13.0, 4.0, 252.0], [13.0, 5.0, 252.0], [16.0, 5.0, 252.0], [12.0, 6.0, 252.0], [12.0, 0.0, 252.0], [13.0, 3.0, 252.0], [22.0, 3.0, 252.0], [17.0, 5.0, 252.0], [18.0, 5.0, 252.0], [11.0, 3.0, 252.0], [12.0, 5.0, 252.0], [11.0, 6.0, 252.0], [14.0, 0.0, 252.0], [16.0, 3.0, 252.0], [18.0, 3.0, 252.0], [14.0, 3.0, 252.0], [11.0, 6.0, 252.0], [15.0, 1.0, 252.0], [18.0, 1.0, 252.0], [16.0, 4.0, 252.0], [12.0, 5.0, 252.0], [16.0, 5.0, 252.0], [12.0, 6.0, 252.0], [17.0, 6.0, 252.0], [12.0, 1.0, 252.0], [17.0, 3.0, 252.0], [12.0, 5.0, 252.0], [12.0, 6.0, 252.0], [10.0, 2.0, 252.0], [13.0, 3.0, 252.0], [15.0, 4.0, 252.0], [15.0, 4.0, 252.0], [12.0, 5.0, 252.0], [21.0, 6.0, 252.0], [12.0, 6.0, 252.0], [15.0, 3.0, 252.0], [17.0, 3.0, 252.0], [13.0, 3.0, 252.0], [10.0, 6.0, 252.0], [13.0, 6.0, 252.0], [15.0, 6.0, 252.0], [18.0, 4.0, 252.0]], \"hoverlabel\": {\"namelength\": 0}, \"hovertemplate\": \"label=work<br>hourofday=%{customdata[0]}<br>weekday=%{customdata[1]}<br>region=%{customdata[2]}<br>latitude=%{lat}<br>longitude=%{lon}\", \"lat\": [55.60054, 55.60054, 55.60054, 55.60054, 55.60054, 55.60054, 55.60054, 55.60054, 55.60054, 55.60054, 55.60054, 55.60054, 55.60054, 55.60054, 55.60054, 55.60054, 55.60054, 55.60054, 55.60054, 55.60054, 55.60054, 55.60054, 55.60054, 55.60054, 55.60054, 55.60054, 55.60054, 55.60054, 55.60054, 55.60054, 55.60054, 55.60054, 55.60054, 55.60054, 55.60054, 55.60054, 55.60054, 55.60054, 55.60054, 55.60054, 55.60054, 55.60054, 55.60054, 55.60054, 55.60054, 55.60054, 55.60054, 55.60054, 55.60054, 55.60054, 55.60054, 55.60054, 55.60054, 55.60054, 55.60054, 55.60054, 55.60054, 55.60054, 55.60054, 55.60054, 55.60054, 55.60054, 55.60054, 55.60054, 55.60054, 55.60054, 55.60054, 55.60054, 55.60054, 55.60054, 55.60054, 55.60054, 55.60054, 55.60054, 55.60054, 55.60054, 55.60054, 55.60054, 55.60054, 55.60054, 55.60054, 55.60054, 55.60054, 55.60054, 55.60054, 55.60054, 55.60054, 55.60054, 55.60054, 55.60054, 55.60054, 55.60054, 55.60054, 55.60054, 55.60054, 55.60054, 55.60054, 55.60054, 55.60054, 55.60054, 55.60054, 55.60054, 55.60054, 55.60054, 55.60054, 55.60054, 55.60054, 55.60054, 55.60054, 55.60054, 55.60054, 55.60054, 55.60054, 55.60054, 55.60054, 55.60054, 55.60054, 55.60054, 55.60054, 55.60054, 55.60054, 55.60054, 55.60054, 55.60054, 55.60054, 55.60054, 55.60054, 55.60054, 55.60054, 55.60054, 55.60054, 55.60054, 55.60054, 55.60054, 55.60054, 55.60054, 55.60054, 55.60054, 55.60054, 55.60054, 55.60054, 55.60054, 55.60054, 55.60054, 55.60054, 55.60054, 55.60054, 55.60054, 55.60054, 55.60054, 55.60054, 55.60054, 55.60054, 55.60054, 55.60054, 55.60054, 55.60054, 55.60054, 55.60054, 55.60054, 55.60054, 55.60054, 55.60054, 55.60054, 55.60054, 55.60054, 55.60054, 55.60054, 55.60054, 55.60054, 55.60054, 55.60054, 55.60054, 55.60054, 55.60054, 55.60054, 55.60054, 55.60054, 55.60054, 55.60054, 55.60054, 55.60054, 55.60054, 55.60054, 55.60054, 55.60054, 55.60054, 55.60054, 55.60054, 55.60054, 55.60054, 55.60054, 55.60054, 55.60054, 55.60054, 55.60054, 55.60054, 55.60054, 55.60054, 55.60054, 55.60054, 55.60054, 55.60054, 55.60054, 55.60054, 55.60054, 55.60054, 55.60054, 55.60054, 55.60054, 55.60054, 55.60054, 55.60054, 55.60054, 55.60054, 55.60054, 55.60054, 55.60054, 55.60054, 55.60054, 55.60054, 55.60054, 55.60054, 55.60054, 55.60054, 55.60054, 55.60054, 55.60054, 55.60054, 55.60054, 55.60054, 55.60054, 55.60054, 55.60054, 55.60054, 55.60054, 55.60054, 55.60054, 55.60054, 55.60054, 55.60054, 55.60054, 55.60054, 55.60054, 55.60054, 55.60054, 55.60054, 55.60054, 55.60054, 55.60054, 55.60054, 55.60054, 55.60054, 55.60054, 55.60054, 55.60054, 55.60054, 55.60054, 55.60054, 55.60054, 55.60054, 55.60054, 55.60054, 55.60054, 55.60054, 55.60054, 55.60054, 55.60054, 55.60054, 55.60054, 55.60054, 55.60054, 55.60054, 55.60054, 55.60054, 55.60054, 55.60054, 55.60054, 55.60054, 55.60054, 55.60054, 55.60054, 55.60054, 55.60054, 55.60054, 55.60054, 55.60054, 55.60054, 55.60054, 55.60054, 55.60054, 55.60054, 55.60054, 55.60054, 55.60054, 55.60054, 55.60054, 55.60054, 55.60054, 55.60054, 55.60054, 55.60054, 55.60054, 55.60054, 55.60054, 55.60054, 55.60054, 55.60054, 55.60054, 55.60054, 55.60054, 55.60054, 55.60054, 55.60054, 55.60054, 55.60054, 55.60054, 55.60054, 55.60054, 55.60054, 55.60054, 55.60054, 55.60054, 55.60054, 55.60054, 55.60054, 55.60054, 55.60054, 55.60054, 55.60054, 55.60054, 55.60054, 55.60054, 55.60054, 55.60054, 55.60054, 55.60054, 55.60054, 55.60054, 55.60054, 55.60054, 55.60054, 55.60054, 55.60054, 55.60054, 55.60054, 55.60054, 55.60054, 55.60054, 55.60054, 55.60054, 55.60054, 55.60054, 55.60054, 55.60054, 55.60054, 55.60054, 55.60054, 55.60054, 55.60054, 55.60054, 55.60054, 55.60054, 55.60054, 55.60054, 55.60054], \"legendgroup\": \"work\", \"lon\": [12.99854, 12.99854, 12.99854, 12.99854, 12.99854, 12.99854, 12.99854, 12.99854, 12.99854, 12.99854, 12.99854, 12.99854, 12.99854, 12.99854, 12.99854, 12.99854, 12.99854, 12.99854, 12.99854, 12.99854, 12.99854, 12.99854, 12.99854, 12.99854, 12.99854, 12.99854, 12.99854, 12.99854, 12.99854, 12.99854, 12.99854, 12.99854, 12.99854, 12.99854, 12.99854, 12.99854, 12.99854, 12.99854, 12.99854, 12.99854, 12.99854, 12.99854, 12.99854, 12.99854, 12.99854, 12.99854, 12.99854, 12.99854, 12.99854, 12.99854, 12.99854, 12.99854, 12.99854, 12.99854, 12.99854, 12.99854, 12.99854, 12.99854, 12.99854, 12.99854, 12.99854, 12.99854, 12.99854, 12.99854, 12.99854, 12.99854, 12.99854, 12.99854, 12.99854, 12.99854, 12.99854, 12.99854, 12.99854, 12.99854, 12.99854, 12.99854, 12.99854, 12.99854, 12.99854, 12.99854, 12.99854, 12.99854, 12.99854, 12.99854, 12.99854, 12.99854, 12.99854, 12.99854, 12.99854, 12.99854, 12.99854, 12.99854, 12.99854, 12.99854, 12.99854, 12.99854, 12.99854, 12.99854, 12.99854, 12.99854, 12.99854, 12.99854, 12.99854, 12.99854, 12.99854, 12.99854, 12.99854, 12.99854, 12.99854, 12.99854, 12.99854, 12.99854, 12.99854, 12.99854, 12.99854, 12.99854, 12.99854, 12.99854, 12.99854, 12.99854, 12.99854, 12.99854, 12.99854, 12.99854, 12.99854, 12.99854, 12.99854, 12.99854, 12.99854, 12.99854, 12.99854, 12.99854, 12.99854, 12.99854, 12.99854, 12.99854, 12.99854, 12.99854, 12.99854, 12.99854, 12.99854, 12.99854, 12.99854, 12.99854, 12.99854, 12.99854, 12.99854, 12.99854, 12.99854, 12.99854, 12.99854, 12.99854, 12.99854, 12.99854, 12.99854, 12.99854, 12.99854, 12.99854, 12.99854, 12.99854, 12.99854, 12.99854, 12.99854, 12.99854, 12.99854, 12.99854, 12.99854, 12.99854, 12.99854, 12.99854, 12.99854, 12.99854, 12.99854, 12.99854, 12.99854, 12.99854, 12.99854, 12.99854, 12.99854, 12.99854, 12.99854, 12.99854, 12.99854, 12.99854, 12.99854, 12.99854, 12.99854, 12.99854, 12.99854, 12.99854, 12.99854, 12.99854, 12.99854, 12.99854, 12.99854, 12.99854, 12.99854, 12.99854, 12.99854, 12.99854, 12.99854, 12.99854, 12.99854, 12.99854, 12.99854, 12.99854, 12.99854, 12.99854, 12.99854, 12.99854, 12.99854, 12.99854, 12.99854, 12.99854, 12.99854, 12.99854, 12.99854, 12.99854, 12.99854, 12.99854, 12.99854, 12.99854, 12.99854, 12.99854, 12.99854, 12.99854, 12.99854, 12.99854, 12.99854, 12.99854, 12.99854, 12.99854, 12.99854, 12.99854, 12.99854, 12.99854, 12.99854, 12.99854, 12.99854, 12.99854, 12.99854, 12.99854, 12.99854, 12.99854, 12.99854, 12.99854, 12.99854, 12.99854, 12.99854, 12.99854, 12.99854, 12.99854, 12.99854, 12.99854, 12.99854, 12.99854, 12.99854, 12.99854, 12.99854, 12.99854, 12.99854, 12.99854, 12.99854, 12.99854, 12.99854, 12.99854, 12.99854, 12.99854, 12.99854, 12.99854, 12.99854, 12.99854, 12.99854, 12.99854, 12.99854, 12.99854, 12.99854, 12.99854, 12.99854, 12.99854, 12.99854, 12.99854, 12.99854, 12.99854, 12.99854, 12.99854, 12.99854, 12.99854, 12.99854, 12.99854, 12.99854, 12.99854, 12.99854, 12.99854, 12.99854, 12.99854, 12.99854, 12.99854, 12.99854, 12.99854, 12.99854, 12.99854, 12.99854, 12.99854, 12.99854, 12.99854, 12.99854, 12.99854, 12.99854, 12.99854, 12.99854, 12.99854, 12.99854, 12.99854, 12.99854, 12.99854, 12.99854, 12.99854, 12.99854, 12.99854, 12.99854, 12.99854, 12.99854, 12.99854, 12.99854, 12.99854, 12.99854, 12.99854, 12.99854, 12.99854, 12.99854, 12.99854, 12.99854, 12.99854, 12.99854, 12.99854, 12.99854, 12.99854, 12.99854, 12.99854, 12.99854, 12.99854, 12.99854, 12.99854, 12.99854, 12.99854, 12.99854, 12.99854, 12.99854, 12.99854, 12.99854, 12.99854, 12.99854, 12.99854, 12.99854, 12.99854, 12.99854, 12.99854, 12.99854, 12.99854, 12.99854, 12.99854, 12.99854, 12.99854, 12.99854, 12.99854], \"marker\": {\"color\": \"#636efa\"}, \"mode\": \"markers\", \"name\": \"work\", \"showlegend\": true, \"subplot\": \"mapbox\", \"type\": \"scattermapbox\"}, {\"customdata\": [[23.0, 4.0, 134.0], [13.0, 5.0, 134.0], [13.0, 0.0, 134.0], [14.0, 0.0, 134.0], [20.0, 1.0, 134.0], [16.0, 4.0, 134.0], [12.0, 6.0, 134.0], [18.0, 5.0, 134.0], [19.0, 5.0, 134.0], [13.0, 4.0, 134.0], [13.0, 2.0, 134.0], [13.0, 5.0, 134.0], [14.0, 5.0, 134.0], [11.0, 0.0, 134.0], [13.0, 6.0, 134.0], [1.0, 4.0, 134.0], [14.0, 4.0, 134.0], [16.0, 3.0, 134.0], [18.0, 6.0, 134.0], [17.0, 0.0, 134.0], [17.0, 1.0, 134.0], [12.0, 5.0, 134.0], [17.0, 6.0, 134.0], [22.0, 1.0, 134.0], [21.0, 1.0, 134.0], [17.0, 6.0, 134.0], [21.0, 6.0, 134.0], [19.0, 2.0, 134.0], [11.0, 4.0, 134.0], [11.0, 4.0, 134.0], [15.0, 5.0, 134.0], [15.0, 1.0, 134.0], [4.0, 4.0, 134.0], [18.0, 4.0, 134.0], [16.0, 6.0, 134.0], [11.0, 2.0, 134.0], [13.0, 3.0, 134.0], [22.0, 1.0, 134.0], [11.0, 3.0, 134.0], [15.0, 1.0, 134.0], [20.0, 3.0, 134.0], [14.0, 1.0, 134.0], [20.0, 3.0, 134.0], [18.0, 0.0, 134.0], [13.0, 1.0, 134.0], [20.0, 1.0, 134.0], [10.0, 5.0, 134.0], [20.0, 3.0, 134.0], [12.0, 4.0, 134.0], [11.0, 6.0, 134.0], [16.0, 1.0, 134.0], [17.0, 4.0, 134.0], [14.0, 1.0, 134.0], [19.0, 1.0, 134.0], [8.0, 2.0, 134.0], [14.0, 2.0, 134.0], [21.0, 0.0, 134.0], [17.0, 1.0, 134.0], [23.0, 3.0, 134.0], [20.0, 5.0, 134.0], [6.0, 0.0, 134.0], [10.0, 5.0, 134.0], [19.0, 0.0, 134.0], [21.0, 1.0, 134.0], [17.0, 2.0, 134.0], [23.0, 3.0, 134.0], [12.0, 2.0, 134.0], [13.0, 2.0, 134.0], [16.0, 5.0, 134.0], [16.0, 4.0, 134.0], [16.0, 0.0, 134.0], [6.0, 4.0, 134.0], [16.0, 6.0, 134.0], [23.0, 0.0, 134.0], [12.0, 2.0, 134.0], [10.0, 4.0, 134.0], [17.0, 4.0, 134.0], [17.0, 0.0, 134.0], [10.0, 6.0, 134.0], [23.0, 6.0, 134.0], [10.0, 1.0, 134.0], [17.0, 2.0, 134.0], [21.0, 2.0, 134.0], [11.0, 5.0, 134.0], [15.0, 0.0, 134.0], [15.0, 2.0, 134.0], [17.0, 2.0, 134.0], [11.0, 4.0, 134.0], [12.0, 4.0, 134.0], [13.0, 0.0, 134.0], [13.0, 2.0, 134.0], [10.0, 1.0, 134.0], [14.0, 3.0, 134.0], [21.0, 5.0, 134.0], [22.0, 6.0, 134.0], [0.0, 5.0, 134.0], [13.0, 6.0, 134.0], [13.0, 0.0, 134.0], [11.0, 2.0, 134.0], [11.0, 3.0, 134.0], [21.0, 3.0, 134.0], [10.0, 0.0, 134.0], [21.0, 0.0, 134.0], [18.0, 1.0, 134.0], [10.0, 6.0, 134.0], [22.0, 1.0, 134.0], [13.0, 2.0, 134.0], [10.0, 5.0, 134.0], [10.0, 3.0, 134.0], [19.0, 0.0, 134.0], [19.0, 1.0, 134.0], [20.0, 3.0, 134.0], [1.0, 5.0, 134.0], [9.0, 4.0, 134.0], [17.0, 5.0, 134.0], [17.0, 0.0, 134.0], [19.0, 1.0, 134.0], [10.0, 2.0, 134.0], [17.0, 1.0, 134.0], [4.0, 0.0, 134.0], [10.0, 2.0, 134.0], [17.0, 4.0, 134.0], [18.0, 1.0, 134.0], [1.0, 2.0, 134.0], [1.0, 2.0, 134.0], [15.0, 2.0, 134.0], [14.0, 5.0, 134.0], [13.0, 6.0, 134.0], [17.0, 2.0, 134.0], [0.0, 3.0, 134.0], [1.0, 3.0, 134.0], [11.0, 3.0, 134.0], [12.0, 4.0, 134.0], [14.0, 4.0, 134.0], [2.0, 5.0, 134.0], [15.0, 1.0, 134.0], [1.0, 1.0, 134.0], [13.0, 4.0, 134.0], [10.0, 5.0, 134.0], [9.0, 1.0, 134.0], [11.0, 3.0, 134.0], [12.0, 0.0, 134.0], [16.0, 5.0, 134.0], [22.0, 3.0, 134.0], [1.0, 3.0, 134.0], [12.0, 0.0, 134.0], [17.0, 2.0, 134.0], [10.0, 4.0, 134.0], [15.0, 5.0, 134.0], [0.0, 2.0, 134.0], [11.0, 2.0, 134.0], [5.0, 0.0, 134.0], [10.0, 4.0, 134.0], [21.0, 4.0, 134.0], [14.0, 6.0, 134.0], [15.0, 6.0, 134.0], [12.0, 3.0, 134.0], [12.0, 1.0, 134.0], [23.0, 2.0, 134.0], [10.0, 3.0, 134.0], [19.0, 3.0, 134.0], [9.0, 4.0, 134.0], [16.0, 0.0, 134.0], [13.0, 1.0, 134.0], [10.0, 3.0, 134.0], [10.0, 3.0, 134.0], [9.0, 6.0, 134.0], [15.0, 4.0, 134.0], [16.0, 1.0, 134.0], [17.0, 2.0, 134.0], [17.0, 4.0, 134.0], [9.0, 0.0, 134.0], [11.0, 2.0, 134.0], [15.0, 2.0, 134.0], [8.0, 6.0, 134.0], [0.0, 2.0, 134.0], [15.0, 4.0, 134.0], [10.0, 6.0, 134.0], [12.0, 0.0, 134.0], [16.0, 1.0, 134.0], [10.0, 1.0, 134.0], [14.0, 0.0, 134.0], [19.0, 0.0, 134.0], [21.0, 0.0, 134.0], [19.0, 1.0, 134.0], [9.0, 2.0, 134.0], [11.0, 4.0, 134.0], [11.0, 4.0, 134.0], [11.0, 0.0, 134.0], [23.0, 3.0, 134.0], [10.0, 2.0, 134.0], [13.0, 1.0, 134.0], [16.0, 2.0, 134.0], [12.0, 3.0, 134.0], [13.0, 6.0, 134.0], [12.0, 4.0, 134.0], [16.0, 5.0, 134.0], [22.0, 5.0, 134.0], [18.0, 1.0, 134.0], [22.0, 3.0, 134.0], [16.0, 4.0, 134.0], [13.0, 2.0, 134.0], [13.0, 0.0, 134.0], [11.0, 6.0, 134.0], [11.0, 0.0, 134.0], [13.0, 1.0, 134.0], [18.0, 1.0, 134.0], [21.0, 1.0, 134.0], [17.0, 6.0, 134.0], [14.0, 0.0, 134.0], [12.0, 3.0, 134.0], [17.0, 4.0, 134.0], [13.0, 1.0, 134.0], [11.0, 2.0, 134.0], [10.0, 3.0, 134.0], [14.0, 3.0, 134.0], [15.0, 4.0, 134.0], [0.0, 5.0, 134.0], [20.0, 5.0, 134.0], [15.0, 6.0, 134.0], [15.0, 0.0, 134.0], [16.0, 0.0, 134.0], [15.0, 6.0, 134.0], [15.0, 0.0, 134.0], [10.0, 1.0, 134.0], [14.0, 4.0, 134.0], [11.0, 0.0, 134.0], [15.0, 0.0, 134.0], [11.0, 3.0, 134.0], [0.0, 5.0, 134.0], [10.0, 4.0, 134.0], [14.0, 6.0, 134.0], [12.0, 1.0, 134.0], [11.0, 3.0, 134.0], [12.0, 4.0, 134.0], [12.0, 4.0, 134.0], [18.0, 4.0, 134.0], [17.0, 1.0, 134.0], [14.0, 4.0, 134.0], [11.0, 2.0, 134.0], [11.0, 4.0, 134.0], [21.0, 5.0, 134.0], [16.0, 1.0, 134.0], [11.0, 2.0, 134.0], [12.0, 5.0, 134.0], [14.0, 0.0, 134.0], [9.0, 3.0, 134.0], [15.0, 3.0, 134.0], [18.0, 0.0, 134.0], [12.0, 6.0, 134.0], [10.0, 5.0, 134.0], [15.0, 0.0, 134.0], [15.0, 5.0, 134.0], [14.0, 4.0, 134.0], [15.0, 3.0, 134.0], [13.0, 3.0, 134.0], [17.0, 5.0, 134.0], [8.0, 1.0, 134.0], [11.0, 4.0, 134.0], [10.0, 5.0, 134.0], [15.0, 1.0, 134.0], [16.0, 0.0, 134.0], [22.0, 4.0, 134.0], [17.0, 6.0, 0.0], [0.0, 5.0, 0.0], [17.0, 6.0, 0.0], [16.0, 3.0, 0.0], [17.0, 3.0, 0.0], [23.0, 6.0, 0.0], [13.0, 3.0, 0.0], [0.0, 5.0, 0.0], [19.0, 1.0, 0.0], [19.0, 1.0, 0.0], [21.0, 6.0, 0.0], [21.0, 6.0, 0.0], [0.0, 1.0, 0.0], [17.0, 6.0, 0.0], [18.0, 1.0, 0.0], [10.0, 0.0, 0.0], [1.0, 2.0, 0.0], [18.0, 1.0, 0.0], [23.0, 6.0, 0.0], [16.0, 0.0, 0.0], [17.0, 0.0, 0.0], [2.0, 2.0, 0.0], [17.0, 4.0, 0.0], [18.0, 5.0, 0.0], [17.0, 6.0, 0.0], [2.0, 0.0, 0.0], [17.0, 0.0, 0.0], [18.0, 0.0, 0.0], [17.0, 3.0, 0.0], [19.0, 3.0, 0.0], [20.0, 2.0, 0.0], [21.0, 2.0, 0.0], [21.0, 5.0, 0.0], [20.0, 1.0, 0.0], [22.0, 6.0, 0.0], [17.0, 3.0, 0.0], [17.0, 3.0, 0.0], [18.0, 3.0, 0.0], [20.0, 3.0, 0.0], [22.0, 5.0, 0.0], [17.0, 5.0, 0.0], [17.0, 5.0, 0.0], [14.0, 0.0, 0.0], [21.0, 2.0, 0.0], [22.0, 6.0, 0.0], [0.0, 0.0, 0.0], [18.0, 2.0, 0.0], [20.0, 2.0, 0.0], [13.0, 2.0, 0.0], [14.0, 4.0, 0.0], [17.0, 4.0, 0.0], [17.0, 1.0, 0.0], [21.0, 5.0, 0.0], [15.0, 0.0, 0.0], [14.0, 6.0, 0.0], [18.0, 0.0, 0.0], [15.0, 1.0, 0.0], [22.0, 3.0, 0.0], [15.0, 1.0, 0.0], [19.0, 2.0, 0.0], [21.0, 2.0, 0.0], [22.0, 3.0, 0.0], [17.0, 6.0, 0.0], [17.0, 6.0, 0.0], [15.0, 2.0, 0.0], [17.0, 6.0, 0.0], [14.0, 4.0, 0.0], [10.0, 5.0, 0.0], [15.0, 0.0, 0.0], [23.0, 6.0, 0.0], [16.0, 4.0, 0.0], [15.0, 6.0, 0.0], [16.0, 6.0, 0.0], [14.0, 3.0, 0.0], [15.0, 3.0, 0.0], [15.0, 3.0, 0.0], [21.0, 1.0, 0.0], [20.0, 0.0, 0.0], [16.0, 0.0, 0.0], [16.0, 5.0, 0.0], [16.0, 6.0, 0.0], [16.0, 2.0, 0.0], [14.0, 2.0, 0.0], [23.0, 3.0, 0.0], [22.0, 3.0, 0.0], [19.0, 5.0, 0.0], [19.0, 5.0, 0.0], [17.0, 1.0, 0.0], [21.0, 2.0, 0.0], [22.0, 5.0, 0.0], [13.0, 1.0, 0.0], [14.0, 1.0, 0.0], [12.0, 2.0, 0.0], [13.0, 5.0, 0.0], [14.0, 5.0, 0.0], [14.0, 2.0, 0.0], [15.0, 2.0, 0.0], [14.0, 3.0, 0.0], [14.0, 4.0, 0.0], [13.0, 4.0, 0.0], [13.0, 2.0, 0.0], [20.0, 3.0, 0.0], [16.0, 5.0, 0.0], [14.0, 1.0, 0.0], [14.0, 1.0, 0.0], [18.0, 2.0, 0.0], [18.0, 2.0, 0.0], [15.0, 3.0, 0.0], [15.0, 5.0, 0.0], [17.0, 0.0, 0.0], [17.0, 1.0, 0.0], [0.0, 3.0, 0.0], [0.0, 3.0, 0.0], [12.0, 4.0, 0.0], [21.0, 3.0, 0.0], [21.0, 3.0, 0.0], [21.0, 6.0, 0.0], [1.0, 2.0, 0.0], [13.0, 1.0, 0.0], [21.0, 6.0, 0.0], [23.0, 6.0, 0.0], [23.0, 1.0, 0.0], [9.0, 2.0, 0.0], [15.0, 2.0, 0.0], [13.0, 4.0, 0.0], [16.0, 6.0, 0.0], [16.0, 2.0, 0.0], [23.0, 2.0, 0.0], [0.0, 3.0, 0.0], [15.0, 3.0, 0.0], [16.0, 3.0, 0.0], [21.0, 3.0, 0.0], [11.0, 4.0, 0.0], [16.0, 5.0, 0.0], [13.0, 6.0, 0.0], [15.0, 0.0, 0.0], [14.0, 3.0, 0.0], [15.0, 3.0, 0.0], [0.0, 1.0, 0.0], [15.0, 2.0, 0.0], [15.0, 3.0, 0.0], [13.0, 4.0, 0.0], [15.0, 3.0, 0.0], [21.0, 4.0, 0.0], [14.0, 6.0, 0.0], [12.0, 3.0, 0.0], [15.0, 4.0, 0.0], [21.0, 4.0, 0.0], [19.0, 5.0, 0.0], [15.0, 4.0, 0.0], [17.0, 2.0, 0.0], [12.0, 4.0, 0.0], [11.0, 3.0, 0.0], [20.0, 4.0, 0.0], [15.0, 5.0, 0.0], [17.0, 5.0, 0.0], [17.0, 1.0, 0.0], [13.0, 4.0, 0.0], [19.0, 4.0, 0.0], [13.0, 6.0, 0.0], [13.0, 6.0, 0.0], [13.0, 6.0, 0.0], [0.0, 1.0, 0.0], [0.0, 1.0, 0.0], [14.0, 2.0, 0.0], [21.0, 4.0, 0.0], [13.0, 5.0, 0.0], [13.0, 6.0, 0.0], [11.0, 1.0, 0.0], [13.0, 4.0, 0.0], [14.0, 4.0, 0.0], [23.0, 2.0, 0.0], [20.0, 4.0, 0.0], [22.0, 5.0, 0.0], [15.0, 4.0, 0.0], [18.0, 4.0, 0.0], [12.0, 5.0, 0.0], [2.0, 5.0, 0.0], [13.0, 4.0, 0.0], [22.0, 5.0, 0.0], [14.0, 1.0, 0.0], [15.0, 3.0, 0.0], [19.0, 3.0, 0.0], [12.0, 4.0, 0.0], [13.0, 5.0, 0.0], [20.0, 6.0, 0.0], [20.0, 0.0, 0.0], [12.0, 1.0, 0.0], [20.0, 1.0, 0.0], [15.0, 4.0, 0.0], [22.0, 5.0, 0.0], [23.0, 2.0, 0.0], [19.0, 3.0, 0.0], [18.0, 4.0, 0.0], [22.0, 6.0, 0.0], [22.0, 6.0, 0.0], [14.0, 1.0, 0.0], [2.0, 2.0, 0.0], [13.0, 3.0, 0.0], [13.0, 5.0, 0.0], [18.0, 2.0, 0.0], [19.0, 2.0, 0.0], [2.0, 1.0, 0.0], [12.0, 4.0, 0.0], [19.0, 6.0, 0.0], [19.0, 1.0, 0.0], [10.0, 3.0, 0.0], [1.0, 5.0, 0.0], [23.0, 4.0, 0.0], [12.0, 2.0, 0.0], [1.0, 5.0, 0.0], [11.0, 0.0, 0.0], [14.0, 1.0, 0.0], [10.0, 5.0, 0.0], [1.0, 5.0, 0.0]], \"hoverlabel\": {\"namelength\": 0}, \"hovertemplate\": \"label=home<br>hourofday=%{customdata[0]}<br>weekday=%{customdata[1]}<br>region=%{customdata[2]}<br>latitude=%{lat}<br>longitude=%{lon}\", \"lat\": [55.6, 55.601073, 55.601073, 55.59793000000001, 55.6, 55.60079, 55.60079, 55.59995, 55.5993, 55.601196, 55.6, 55.60079, 55.60191, 55.6, 55.597972, 55.6, 55.6, 55.6, 55.6, 55.6, 55.6, 55.60119200000001, 55.60102, 55.6, 55.601608, 55.6, 55.6, 55.6, 55.6, 55.6, 55.6, 55.6, 55.6, 55.598942, 55.6, 55.6, 55.60079, 55.6, 55.6, 55.6, 55.6, 55.6, 55.59897, 55.6, 55.6, 55.6, 55.6, 55.597917, 55.6, 55.6, 55.5987, 55.6, 55.6, 55.6, 55.6, 55.6, 55.597917, 55.597917, 55.6, 55.6, 55.6, 55.6, 55.5979, 55.6, 55.599513, 55.6, 55.6, 55.6, 55.6, 55.6, 55.6, 55.6, 55.60079, 55.6, 55.60079, 55.6, 55.598942, 55.597974, 55.6, 55.6, 55.6, 55.6, 55.6, 55.60027, 55.598942, 55.6, 55.6, 55.6, 55.6, 55.6, 55.6, 55.6, 55.6, 55.6, 55.6, 55.6, 55.6, 55.6, 55.598942, 55.6, 55.6, 55.6, 55.6, 55.6, 55.6, 55.6, 55.6, 55.6, 55.6, 55.6, 55.6, 55.6, 55.6, 55.6, 55.6, 55.6, 55.6, 55.6, 55.6, 55.6, 55.6, 55.6, 55.6, 55.6, 55.6, 55.6, 55.6, 55.6, 55.6, 55.6, 55.6, 55.6, 55.6, 55.6, 55.6, 55.599287, 55.6, 55.6, 55.6, 55.6, 55.6, 55.6, 55.6, 55.6, 55.6, 55.60079, 55.599461, 55.6, 55.598942, 55.6, 55.6, 55.6, 55.6, 55.6, 55.6, 55.598942, 55.598942, 55.6, 55.6, 55.6, 55.6, 55.6, 55.6, 55.6, 55.6, 55.6, 55.6, 55.598942, 55.59894, 55.6, 55.598942, 55.6, 55.6, 55.6, 55.6, 55.6, 55.598942, 55.6, 55.598942, 55.6, 55.6, 55.6, 55.6, 55.6, 55.6, 55.6, 55.6, 55.6, 55.60079, 55.6, 55.6, 55.6, 55.6, 55.6, 55.6, 55.6, 55.598942, 55.6, 55.6, 55.6, 55.6, 55.6, 55.6, 55.6, 55.6, 55.6, 55.6, 55.6, 55.6, 55.6, 55.6, 55.6, 55.6, 55.6, 55.6, 55.6, 55.6, 55.6, 55.6, 55.6, 55.6, 55.6, 55.6, 55.6, 55.6, 55.6, 55.6, 55.6, 55.6, 55.6, 55.6, 55.6, 55.6, 55.6, 55.6, 55.6, 55.59798000000001, 55.59798000000001, 55.6, 55.6, 55.6, 55.6, 55.6, 55.6, 55.6, 55.6, 55.6, 55.598942, 55.59917, 55.598942, 55.598942, 55.598942, 55.598942, 55.598942, 55.598942, 55.598942, 55.598942, 55.598942, 55.598942, 55.598942, 55.598942, 55.598942, 55.598942, 43.610438, 43.6079, 43.6079, 43.6079, 43.6079, 43.60783, 43.608651, 43.6079, 43.608871, 43.608871, 43.60782800000001, 43.607826, 43.6079, 43.6079, 43.6079, 43.608651, 43.6079, 43.607999, 43.607999, 43.6107, 43.6107, 43.6079, 43.6079, 43.608871, 43.6079, 43.6079, 43.6079, 43.6079, 43.6079, 43.6079, 43.6107, 43.6107, 43.607999, 43.608871, 43.6107, 43.610438, 43.610438, 43.608871, 43.611634, 43.6107, 43.61255300000001, 43.61255300000001, 43.610438, 43.608871, 43.608871, 43.608871, 43.608814, 43.608814, 43.609361, 43.61255300000001, 43.61255300000001, 43.613487, 43.610613, 43.610029, 43.613055, 43.6079, 43.613055, 43.608871, 43.613055, 43.608871, 43.613055, 43.613055, 43.613055, 43.613055, 43.611657, 43.613055, 43.613055, 43.611657, 43.613055, 43.613055, 43.611657, 43.613055, 43.613055, 43.613055, 43.61255300000001, 43.61255300000001, 43.613055, 43.611429, 43.613055, 43.613055, 43.613055, 43.613055, 43.60715, 43.613055, 43.613055, 43.607053, 43.607053, 43.613055, 43.607053, 43.608871, 43.607336, 43.610733, 43.610095, 43.611436, 43.610095, 43.607336, 43.607336, 43.607336, 43.610095, 43.611436, 43.609935, 43.607336, 43.607336, 43.607336, 43.607336, 43.610095, 43.607336, 43.607336, 43.611657, 43.607336, 43.610095, 43.607336, 43.607336, 43.610095, 43.613055, 43.613055, 43.607336, 43.607336, 43.611378, 43.613055, 43.613055, 43.607336, 43.611378, 43.607336, 43.611378, 43.611378, 43.611378, 43.608871, 43.608871, 43.610095, 43.610095, 43.611378, 43.608247, 43.610095, 43.611429, 43.610095, 43.610095, 43.610095, 43.6079, 43.610095, 43.610095, 43.610047, 43.610047, 43.608916, 43.610047, 43.612962, 43.610047, 43.612962, 43.610807, 43.6119, 43.613352, 43.613352, 43.60943, 43.610705, 43.613352, 43.610047, 43.607336, 43.613352, 43.610804, 43.610047, 43.610047, 43.610047, 43.609369, 43.609369, 43.613352, 43.610804, 43.609303, 43.613352, 43.609904, 43.613352, 43.610804, 43.607984, 43.6119, 43.608916, 43.607829, 43.613352, 43.613352, 43.613352, 43.610047, 43.607984, 43.60943, 43.610047, 43.607803, 43.609369, 43.610047, 43.607888, 43.609835, 43.610051, 43.6119, 43.607336, 43.607984, 43.607984, 43.607984, 43.612571, 43.609572, 43.609572, 43.612571, 43.612571, 43.6119, 43.613352, 43.6119, 43.607984, 43.613352, 43.6119, 43.607984, 43.607984, 43.613352, 43.610717, 43.608009, 43.608471, 43.608009, 43.61157, 43.6119, 43.6119, 43.6119], \"legendgroup\": \"home\", \"lon\": [13.0, 13.000355, 13.000355, 12.99988, 13.0, 13.00038, 13.00038, 13.00132, 13.00119, 13.000624, 13.0, 13.00038, 13.00174, 13.0, 12.999826, 13.0, 13.0, 13.0, 13.0, 13.0, 13.0, 13.000637, 13.00202, 13.0, 13.001, 13.0, 13.0, 13.0, 13.0, 13.0, 13.0, 13.0, 13.0, 12.99941, 13.0, 13.0, 13.00038, 13.0, 13.0, 13.0, 13.0, 13.0, 12.99795, 13.0, 13.0, 13.0, 13.0, 12.999763, 13.0, 13.0, 12.99963, 13.0, 13.0, 13.0, 13.0, 13.0, 12.999763, 12.999763, 13.0, 13.0, 13.0, 13.0, 12.99985, 13.0, 12.998619, 13.0, 13.0, 13.0, 13.0, 13.0, 13.0, 13.0, 13.00038, 13.0, 13.00038, 13.0, 12.99941, 12.999819, 13.0, 13.0, 13.0, 13.0, 13.0, 13.00088, 12.99941, 13.0, 13.0, 13.0, 13.0, 13.0, 13.0, 13.0, 13.0, 13.0, 13.0, 13.0, 13.0, 13.0, 12.99941, 13.0, 13.0, 13.0, 13.0, 13.0, 13.0, 13.0, 13.0, 13.0, 13.0, 13.0, 13.0, 13.0, 13.0, 13.0, 13.0, 13.0, 13.0, 13.0, 13.0, 13.0, 13.0, 13.0, 13.0, 13.0, 13.0, 13.0, 13.0, 13.0, 13.0, 13.0, 13.0, 13.0, 13.0, 13.0, 13.0, 12.998328, 13.0, 13.0, 13.0, 13.0, 13.0, 13.0, 13.0, 13.0, 13.0, 13.00038, 12.998742, 13.0, 12.99941, 13.0, 13.0, 13.0, 13.0, 13.0, 13.0, 12.99941, 12.99941, 13.0, 13.0, 13.0, 13.0, 13.0, 13.0, 13.0, 13.0, 13.0, 13.0, 12.99941, 12.99941, 13.0, 12.99941, 13.0, 13.0, 13.0, 13.0, 13.0, 12.99941, 13.0, 12.99941, 13.0, 13.0, 13.0, 13.0, 13.0, 13.0, 13.0, 13.0, 13.0, 13.00038, 13.0, 13.0, 13.0, 13.0, 13.0, 13.0, 13.0, 12.99941, 13.0, 13.0, 13.0, 13.0, 13.0, 13.0, 13.0, 13.0, 13.0, 13.0, 13.0, 13.0, 13.0, 13.0, 13.0, 13.0, 13.0, 13.0, 13.0, 13.0, 13.0, 13.0, 13.0, 13.0, 13.0, 13.0, 13.0, 13.0, 13.0, 13.0, 13.0, 13.0, 13.0, 13.0, 13.0, 13.0, 13.0, 13.0, 13.0, 13.00097, 13.00097, 13.0, 13.0, 13.0, 13.0, 13.0, 13.0, 13.0, 13.0, 13.0, 12.99941, 13.00061, 12.99941, 12.99941, 12.99941, 12.99941, 12.99941, 12.99941, 12.99941, 12.99941, 12.99941, 12.99941, 12.99941, 12.99941, 12.99941, 12.99941, 3.874429, 3.875913, 3.875913, 3.875913, 3.875913, 3.875667, 3.875878, 3.875913, 3.874868, 3.874868, 3.875939, 3.875924, 3.875913, 3.875913, 3.875913, 3.875878, 3.875913, 3.875937, 3.875937, 3.878369, 3.878369, 3.875913, 3.875913, 3.874868, 3.875913, 3.875913, 3.875913, 3.875913, 3.875913, 3.875913, 3.878369, 3.878369, 3.875937, 3.874868, 3.878369, 3.874429, 3.874429, 3.874868, 3.876316000000001, 3.878369, 3.876734, 3.876734, 3.874429, 3.874868, 3.874868, 3.874868, 3.877148000000001, 3.877148000000001, 3.875108, 3.876734, 3.876734, 3.875744, 3.874611, 3.874457, 3.875908, 3.875913, 3.875908, 3.874868, 3.875908, 3.874868, 3.875908, 3.875908, 3.875908, 3.875908, 3.876929, 3.875908, 3.875908, 3.876929, 3.875908, 3.875908, 3.876929, 3.875908, 3.875908, 3.875908, 3.876734, 3.876734, 3.875908, 3.877639, 3.875908, 3.875908, 3.875908, 3.875908, 3.874698, 3.875908, 3.875908, 3.874858, 3.874858, 3.875908, 3.874858, 3.874868, 3.875328, 3.876441, 3.87608, 3.877557, 3.87608, 3.875328, 3.875328, 3.875328, 3.87608, 3.877557, 3.87776, 3.875328, 3.875328, 3.875328, 3.875328, 3.87608, 3.875328, 3.875328, 3.876929, 3.875328, 3.87608, 3.875328, 3.875328, 3.87608, 3.875908, 3.875908, 3.875328, 3.875328, 3.877316, 3.875908, 3.875908, 3.875328, 3.877316, 3.875328, 3.877316, 3.877316, 3.877316, 3.874868, 3.874868, 3.87608, 3.87608, 3.877316, 3.875366000000001, 3.87608, 3.877639, 3.87608, 3.87608, 3.87608, 3.875913, 3.87608, 3.87608, 3.876084, 3.876084, 3.874911, 3.876084, 3.875807, 3.876084, 3.875807, 3.875511, 3.8772, 3.876341000000001, 3.876341000000001, 3.876284, 3.878315, 3.876341000000001, 3.876084, 3.875328, 3.876341000000001, 3.875495, 3.876084, 3.876084, 3.876084, 3.87685, 3.87685, 3.876341000000001, 3.875495, 3.877054, 3.876341000000001, 3.877789, 3.876341000000001, 3.875495, 3.875901, 3.8772, 3.874911, 3.875598, 3.876341000000001, 3.876341000000001, 3.876341000000001, 3.876084, 3.875901, 3.876284, 3.876084, 3.87671, 3.87685, 3.876084, 3.875884, 3.877843, 3.877447, 3.8772, 3.875328, 3.875901, 3.875901, 3.875901, 3.876753, 3.877154, 3.877154, 3.876753, 3.876753, 3.8772, 3.876341000000001, 3.8772, 3.875901, 3.876341000000001, 3.8772, 3.875901, 3.875901, 3.876341000000001, 3.878389, 3.87594, 3.87581, 3.87594, 3.87776, 3.8772, 3.8772, 3.8772], \"marker\": {\"color\": \"#EF553B\"}, \"mode\": \"markers\", \"name\": \"home\", \"showlegend\": true, \"subplot\": \"mapbox\", \"type\": \"scattermapbox\"}, {\"customdata\": [[21.0, 1.0, 17.0], [15.0, 1.0, 17.0], [17.0, 1.0, 17.0], [14.0, 2.0, 17.0], [19.0, 4.0, 17.0], [23.0, 6.0, 17.0], [23.0, 5.0, 17.0], [23.0, 5.0, 17.0], [14.0, 0.0, 17.0], [19.0, 3.0, 17.0], [0.0, 5.0, 17.0], [15.0, 4.0, 17.0], [18.0, 0.0, 17.0], [23.0, 0.0, 17.0], [11.0, 4.0, 17.0], [14.0, 4.0, 17.0], [12.0, 5.0, 17.0], [17.0, 0.0, 17.0], [19.0, 1.0, 17.0], [14.0, 0.0, 17.0], [15.0, 0.0, 17.0], [17.0, 4.0, 17.0], [23.0, 2.0, 17.0], [19.0, 3.0, 17.0], [17.0, 0.0, 17.0], [17.0, 0.0, 17.0], [23.0, 5.0, 17.0], [21.0, 4.0, 17.0], [23.0, 5.0, 17.0], [23.0, 0.0, 17.0], [21.0, 4.0, 17.0], [23.0, 4.0, 17.0], [22.0, 6.0, 17.0], [23.0, 6.0, 17.0], [0.0, 0.0, 17.0], [19.0, 4.0, 17.0], [15.0, 1.0, 17.0], [20.0, 2.0, 17.0], [19.0, 3.0, 17.0], [16.0, 2.0, 17.0], [0.0, 4.0, 17.0], [19.0, 6.0, 17.0], [20.0, 3.0, 17.0], [11.0, 4.0, 17.0], [21.0, 5.0, 17.0], [2.0, 6.0, 17.0], [23.0, 5.0, 17.0], [0.0, 6.0, 17.0], [12.0, 4.0, 17.0], [0.0, 6.0, 17.0], [0.0, 6.0, 17.0], [20.0, 5.0, 17.0], [23.0, 5.0, 17.0], [3.0, 6.0, 17.0], [20.0, 1.0, 17.0], [22.0, 4.0, 17.0], [23.0, 5.0, 17.0], [15.0, 5.0, 17.0], [20.0, 1.0, 17.0], [23.0, 4.0, 17.0], [19.0, 6.0, 17.0], [16.0, 1.0, 17.0], [10.0, 5.0, 17.0], [19.0, 5.0, 17.0], [14.0, 0.0, 17.0], [10.0, 2.0, 17.0], [12.0, 0.0, 17.0], [19.0, 0.0, 17.0], [10.0, 1.0, 17.0], [16.0, 1.0, 17.0], [16.0, 1.0, 17.0], [14.0, 4.0, 17.0], [22.0, 1.0, 17.0], [22.0, 4.0, 17.0], [20.0, 2.0, 17.0], [12.0, 5.0, 17.0], [14.0, 5.0, 17.0], [19.0, 5.0, 17.0], [22.0, 6.0, 17.0], [20.0, 2.0, 17.0], [12.0, 1.0, 17.0], [14.0, 1.0, 17.0], [22.0, 3.0, 17.0], [17.0, 4.0, 17.0], [23.0, 6.0, 17.0], [0.0, 0.0, 17.0], [23.0, 1.0, 17.0], [17.0, 5.0, 17.0], [20.0, 3.0, 17.0], [16.0, 3.0, 17.0], [13.0, 5.0, 17.0], [19.0, 1.0, 17.0], [17.0, 3.0, 17.0], [16.0, 4.0, 17.0], [12.0, 5.0, 17.0], [15.0, 0.0, 17.0], [13.0, 5.0, 17.0], [10.0, 2.0, 17.0], [11.0, 5.0, 17.0], [13.0, 6.0, 17.0], [15.0, 1.0, 17.0], [22.0, 1.0, 17.0], [17.0, 6.0, 17.0], [20.0, 6.0, 17.0], [1.0, 0.0, 17.0], [17.0, 2.0, 17.0], [12.0, 3.0, 17.0], [10.0, 2.0, 17.0], [0.0, 5.0, 17.0], [21.0, 0.0, 17.0], [20.0, 1.0, 17.0], [12.0, 0.0, 17.0], [20.0, 4.0, 17.0], [22.0, 5.0, 17.0], [13.0, 6.0, 17.0], [13.0, 6.0, 17.0], [10.0, 6.0, 17.0], [17.0, 2.0, 144.0], [3.0, 0.0, 144.0], [15.0, 4.0, 144.0], [16.0, 6.0, 144.0], [14.0, 1.0, 144.0], [15.0, 1.0, 144.0], [17.0, 1.0, 144.0], [17.0, 4.0, 144.0], [0.0, 0.0, 144.0], [15.0, 5.0, 144.0], [8.0, 1.0, 144.0], [23.0, 2.0, 144.0], [16.0, 4.0, 144.0], [13.0, 3.0, 144.0], [16.0, 5.0, 144.0], [16.0, 6.0, 144.0], [23.0, 3.0, 144.0], [22.0, 3.0, 144.0], [23.0, 4.0, 144.0], [14.0, 1.0, 144.0], [3.0, 6.0, 144.0], [1.0, 0.0, 144.0], [5.0, 0.0, 144.0], [21.0, 2.0, 144.0], [16.0, 4.0, 144.0], [16.0, 2.0, 144.0], [1.0, 6.0, 144.0], [17.0, 3.0, 144.0], [1.0, 6.0, 144.0], [23.0, 6.0, 144.0], [23.0, 2.0, 144.0], [0.0, 3.0, 144.0], [16.0, 5.0, 144.0], [1.0, 3.0, 144.0], [0.0, 3.0, 144.0], [13.0, 0.0, 144.0], [23.0, 4.0, 144.0], [17.0, 6.0, 144.0], [0.0, 5.0, 144.0], [20.0, 6.0, 144.0], [20.0, 6.0, 144.0], [21.0, 6.0, 144.0], [23.0, 6.0, 144.0], [1.0, 6.0, 144.0], [1.0, 6.0, 144.0], [20.0, 6.0, 144.0], [16.0, 3.0, 144.0], [0.0, 4.0, 144.0], [23.0, 3.0, 144.0], [23.0, 3.0, 144.0], [17.0, 6.0, 144.0], [16.0, 2.0, 144.0], [22.0, 3.0, 144.0], [0.0, 6.0, 144.0], [15.0, 0.0, 144.0], [0.0, 2.0, 144.0], [14.0, 4.0, 144.0], [15.0, 6.0, 144.0], [19.0, 5.0, 144.0], [0.0, 5.0, 144.0], [3.0, 0.0, 144.0], [17.0, 4.0, 144.0], [1.0, 5.0, 144.0], [17.0, 6.0, 144.0], [23.0, 3.0, 144.0], [16.0, 2.0, 144.0], [20.0, 5.0, 144.0], [1.0, 0.0, 144.0], [16.0, 2.0, 144.0], [1.0, 0.0, 144.0], [21.0, 2.0, 144.0], [22.0, 2.0, 144.0], [0.0, 0.0, 144.0], [0.0, 0.0, 144.0], [23.0, 2.0, 144.0], [17.0, 6.0, 144.0], [0.0, 5.0, 144.0], [1.0, 6.0, 144.0], [17.0, 6.0, 144.0], [21.0, 5.0, 144.0], [20.0, 3.0, 144.0], [1.0, 3.0, 144.0], [20.0, 5.0, 144.0], [3.0, 0.0, 144.0], [0.0, 5.0, 144.0], [18.0, 6.0, 144.0], [18.0, 0.0, 144.0], [23.0, 5.0, 144.0], [0.0, 0.0, 144.0], [15.0, 0.0, 144.0], [18.0, 0.0, 144.0], [19.0, 0.0, 144.0], [19.0, 0.0, 144.0], [1.0, 6.0, 144.0], [15.0, 1.0, 144.0], [19.0, 6.0, 144.0], [23.0, 6.0, 144.0], [16.0, 4.0, 144.0], [16.0, 0.0, 144.0], [17.0, 0.0, 144.0], [18.0, 0.0, 144.0], [19.0, 0.0, 144.0], [20.0, 0.0, 144.0], [21.0, 0.0, 144.0], [17.0, 4.0, 144.0], [17.0, 4.0, 144.0], [17.0, 4.0, 144.0], [20.0, 6.0, 144.0], [17.0, 6.0, 144.0], [21.0, 5.0, 144.0], [14.0, 6.0, 144.0], [19.0, 5.0, 144.0], [21.0, 6.0, 144.0], [15.0, 5.0, 144.0], [1.0, 5.0, 12.0], [1.0, 5.0, 12.0], [18.0, 5.0, 12.0], [16.0, 1.0, 12.0], [19.0, 6.0, 12.0], [9.0, 2.0, 12.0], [23.0, 3.0, 12.0], [21.0, 3.0, 12.0], [23.0, 5.0, 12.0], [0.0, 0.0, 12.0], [23.0, 0.0, 12.0], [14.0, 3.0, 12.0], [18.0, 5.0, 12.0], [22.0, 0.0, 12.0], [10.0, 1.0, 12.0], [15.0, 3.0, 12.0], [18.0, 5.0, 12.0], [20.0, 5.0, 12.0], [23.0, 5.0, 12.0], [12.0, 4.0, 12.0], [14.0, 2.0, 12.0], [21.0, 5.0, 12.0], [11.0, 0.0, 12.0], [12.0, 6.0, 12.0], [18.0, 6.0, 12.0], [10.0, 0.0, 12.0], [10.0, 0.0, 12.0], [20.0, 4.0, 12.0], [20.0, 1.0, 12.0], [23.0, 0.0, 12.0], [12.0, 2.0, 12.0], [11.0, 2.0, 12.0], [22.0, 6.0, 12.0], [1.0, 0.0, 12.0], [16.0, 0.0, 12.0], [18.0, 4.0, 12.0], [14.0, 6.0, 12.0], [21.0, 0.0, 12.0], [23.0, 1.0, 12.0], [17.0, 4.0, 12.0], [23.0, 0.0, 12.0], [16.0, 0.0, 12.0], [18.0, 0.0, 12.0], [16.0, 4.0, 12.0], [15.0, 0.0, 12.0], [1.0, 0.0, 12.0], [18.0, 6.0, 12.0], [3.0, 6.0, 12.0], [21.0, 2.0, 12.0], [21.0, 2.0, 12.0], [21.0, 4.0, 12.0], [11.0, 0.0, 12.0], [16.0, 0.0, 12.0], [10.0, 5.0, 12.0], [18.0, 5.0, 12.0], [18.0, 6.0, 12.0], [17.0, 0.0, 12.0], [20.0, 1.0, 12.0], [15.0, 2.0, 12.0], [12.0, 6.0, 12.0], [23.0, 6.0, 12.0], [10.0, 0.0, 12.0], [18.0, 5.0, 12.0], [19.0, 0.0, 12.0], [13.0, 5.0, 12.0], [12.0, 4.0, 91.0], [22.0, 2.0, 91.0], [20.0, 0.0, 91.0], [21.0, 0.0, 91.0], [22.0, 0.0, 91.0], [19.0, 1.0, 91.0], [22.0, 4.0, 91.0], [22.0, 5.0, 91.0], [18.0, 1.0, 91.0], [10.0, 6.0, 91.0], [13.0, 6.0, 91.0], [14.0, 6.0, 91.0], [14.0, 6.0, 91.0], [14.0, 6.0, 91.0], [13.0, 6.0, 91.0], [14.0, 6.0, 91.0], [20.0, 5.0, 91.0], [21.0, 5.0, 91.0], [22.0, 5.0, 91.0], [10.0, 6.0, 91.0], [12.0, 6.0, 91.0], [10.0, 6.0, 91.0], [15.0, 0.0, 91.0], [22.0, 0.0, 91.0], [10.0, 6.0, 91.0], [17.0, 2.0, 91.0], [19.0, 2.0, 91.0], [9.0, 5.0, 91.0], [18.0, 2.0, 91.0], [20.0, 3.0, 91.0], [9.0, 4.0, 91.0], [9.0, 4.0, 91.0], [10.0, 6.0, 91.0], [12.0, 2.0, 91.0], [10.0, 3.0, 91.0], [21.0, 5.0, 91.0], [11.0, 1.0, 91.0], [12.0, 2.0, 91.0], [12.0, 5.0, 91.0], [17.0, 0.0, 91.0], [18.0, 0.0, 91.0], [21.0, 1.0, 91.0], [10.0, 5.0, 91.0], [9.0, 6.0, 91.0], [9.0, 6.0, 91.0], [20.0, 6.0, 91.0], [15.0, 3.0, 91.0], [13.0, 0.0, 91.0], [19.0, 5.0, 242.0], [21.0, 5.0, 242.0], [17.0, 3.0, 242.0], [14.0, 1.0, 242.0], [16.0, 4.0, 242.0], [20.0, 5.0, 242.0], [22.0, 0.0, 242.0], [12.0, 2.0, 242.0], [17.0, 0.0, 242.0], [12.0, 6.0, 242.0], [7.0, 2.0, 242.0], [8.0, 1.0, 242.0], [10.0, 4.0, 242.0], [9.0, 5.0, 242.0], [10.0, 2.0, 242.0], [16.0, 6.0, 242.0], [11.0, 1.0, 242.0], [21.0, 0.0, 242.0], [10.0, 3.0, 242.0], [13.0, 1.0, 242.0], [20.0, 3.0, 242.0], [21.0, 6.0, 242.0], [23.0, 5.0, 242.0], [11.0, 1.0, 242.0], [12.0, 4.0, 242.0], [10.0, 6.0, 242.0], [20.0, 3.0, 242.0], [14.0, 6.0, 142.0], [20.0, 5.0, 142.0], [19.0, 2.0, 142.0], [13.0, 6.0, 142.0], [13.0, 0.0, 142.0], [17.0, 0.0, 142.0], [18.0, 0.0, 142.0], [21.0, 5.0, 142.0], [20.0, 6.0, 142.0], [16.0, 0.0, 142.0], [17.0, 0.0, 142.0], [20.0, 1.0, 142.0], [16.0, 0.0, 142.0], [16.0, 4.0, 142.0], [16.0, 0.0, 142.0], [18.0, 0.0, 142.0], [21.0, 1.0, 142.0], [22.0, 1.0, 142.0], [12.0, 6.0, 142.0], [17.0, 0.0, 142.0], [17.0, 0.0, 142.0], [11.0, 3.0, 142.0], [16.0, 0.0, 142.0], [20.0, 0.0, 142.0], [14.0, 2.0, 151.0], [13.0, 0.0, 151.0], [14.0, 0.0, 151.0], [15.0, 1.0, 151.0], [16.0, 2.0, 151.0], [14.0, 1.0, 151.0], [15.0, 1.0, 151.0], [15.0, 1.0, 151.0], [15.0, 1.0, 151.0], [15.0, 0.0, 151.0], [14.0, 2.0, 151.0], [15.0, 2.0, 151.0], [15.0, 2.0, 151.0], [13.0, 2.0, 151.0], [13.0, 2.0, 151.0], [1.0, 5.0, 151.0], [1.0, 5.0, 151.0], [13.0, 2.0, 151.0], [13.0, 2.0, 151.0], [14.0, 2.0, 151.0], [14.0, 2.0, 151.0], [14.0, 3.0, 151.0]], \"hoverlabel\": {\"namelength\": 0}, \"hovertemplate\": \"label=other<br>hourofday=%{customdata[0]}<br>weekday=%{customdata[1]}<br>region=%{customdata[2]}<br>latitude=%{lat}<br>longitude=%{lon}\", \"lat\": [55.59296, 55.591647, 55.594898, 55.591647, 55.59193000000001, 55.594892, 55.594892, 55.594892, 55.59171, 55.592808, 55.59245600000001, 55.591711, 55.5917, 55.59193000000001, 55.591524, 55.5917, 55.591711, 55.59200300000001, 55.59193000000001, 55.59200300000001, 55.59200300000001, 55.59200300000001, 55.5924, 55.59200300000001, 55.59200300000001, 55.591571, 55.59193000000001, 55.59193000000001, 55.594917, 55.59193000000001, 55.5924, 55.5924, 55.593251, 55.593251, 55.593251, 55.591625, 55.591625, 55.591625, 55.59192, 55.591722, 55.592447, 55.592237, 55.592447, 55.592447, 55.594641, 55.594713, 55.594953, 55.594953, 55.59463, 55.594713, 55.594713, 55.594953, 55.59463, 55.59463, 55.59348000000001, 55.59193000000001, 55.594953, 55.594953, 55.59279, 55.59403, 55.5922, 55.5922, 55.5922, 55.5922, 55.5922, 55.5922, 55.5922, 55.5922, 55.5922, 55.5922, 55.5922, 55.5922, 55.5922, 55.5922, 55.5922, 55.5922, 55.5922, 55.5922, 55.5922, 55.5922, 55.5922, 55.5922, 55.5922, 55.5922, 55.5922, 55.5922, 55.5922, 55.5922, 55.5922, 55.5922, 55.5922, 55.5922, 55.5922, 55.5922, 55.5922, 55.5922, 55.5922, 55.5922, 55.5922, 55.5922, 55.5922, 55.5922, 55.5922, 55.5922, 55.594953, 55.5922, 55.5922, 55.5922, 55.5922, 55.59279, 55.5922, 55.5922, 55.5922, 55.5922, 55.5922, 55.5922, 55.5922, 55.606127, 55.606127, 55.606127, 55.606127, 55.606127, 55.606127, 55.606127, 55.606127, 55.606108, 55.606108, 55.606108, 55.606108, 55.606108, 55.6061, 55.60619300000001, 55.60619300000001, 55.606109, 55.606109, 55.606109, 55.60506899999999, 55.606109, 55.606109, 55.60497, 55.606109, 55.606109, 55.606109, 55.606109, 55.606109, 55.606109, 55.606109, 55.606109, 55.606109, 55.606109, 55.606098, 55.606098, 55.606098, 55.606098, 55.606098, 55.606098, 55.60497, 55.60497, 55.60497, 55.60497, 55.606098, 55.606098, 55.606098, 55.606098, 55.606098, 55.606098, 55.606098, 55.606098, 55.606098, 55.606098, 55.606098, 55.60582, 55.606098, 55.606098, 55.606098, 55.6061, 55.6061, 55.6061, 55.6061, 55.6061, 55.6061, 55.6061, 55.6061, 55.6061, 55.6061, 55.606136, 55.606136, 55.606136, 55.606136, 55.606136, 55.606136, 55.606136, 55.6061, 55.606136, 55.606136, 55.6061, 55.6061, 55.6061, 55.6061, 55.6061, 55.6061, 55.6061, 55.6061, 55.60497700000001, 55.6061, 55.6061, 55.6061, 55.6061, 55.6061, 55.6061, 55.6061, 55.60497700000001, 55.6061, 55.6061, 55.6061, 55.6061, 55.6061, 55.6061, 55.6061, 55.6061, 55.6061, 55.6061, 55.6061, 55.606121, 55.6061, 55.6061, 55.6061, 55.60582, 55.6061, 55.6061, 55.606127, 43.606441, 43.606441, 43.606401, 43.606401, 43.606401, 43.606401, 43.606401, 43.606401, 43.606401, 43.606401, 43.606401, 43.606401, 43.606401, 43.606401, 43.606401, 43.606401, 43.606401, 43.606401, 43.606401, 43.606401, 43.606401, 43.606401, 43.606401, 43.606401, 43.606401, 43.606401, 43.606401, 43.606401, 43.606401, 43.606401, 43.606401, 43.606401, 43.606401, 43.606401, 43.606401, 43.606401, 43.606401, 43.606401, 43.606401, 43.606401, 43.606401, 43.606401, 43.60628300000001, 43.60628300000001, 43.60628300000001, 43.60628300000001, 43.60628300000001, 43.60628300000001, 43.60628300000001, 43.60628300000001, 43.60628300000001, 43.60628300000001, 43.60628300000001, 43.606369, 43.60628300000001, 43.60628300000001, 43.60628300000001, 43.60636, 43.60635, 43.60636, 43.60636, 43.60636, 43.60636, 43.60636, 43.60615900000001, 55.594619, 55.593698, 55.59474, 55.59474, 55.59474, 55.59365699999999, 55.593662, 55.593662, 55.593665, 55.59488, 55.59488, 55.59488, 55.59488, 55.59488, 55.594742, 55.594742, 55.593788, 55.593788, 55.593788, 55.593947, 55.593947, 55.593947, 55.593788, 55.595191, 55.595191, 55.595191, 55.595191, 55.595191, 55.595191, 55.595191, 55.595191, 55.595191, 55.595191, 55.595191, 55.595191, 55.595191, 55.595191, 55.595191, 55.595191, 55.593649, 55.595191, 55.595191, 55.595191, 55.593649, 55.593649, 55.593788, 55.593649, 55.594498, 55.59693100000001, 55.597364, 55.59673299999999, 55.59673299999999, 55.596684, 55.596684, 55.596684, 55.59693000000001, 55.596684, 55.596684, 55.59661, 55.59661, 55.596684, 55.596684, 55.596684, 55.59673299999999, 55.59693000000001, 55.59684, 55.59684, 55.59684, 55.59684, 55.59683, 55.59749, 55.59661, 55.59693000000001, 55.59659499999999, 55.59749, 55.603474, 55.603655, 55.603063, 55.603547, 55.60376, 55.60293000000001, 55.60293000000001, 55.60319499999999, 55.60293000000001, 55.602939, 55.602939, 55.602939, 55.60319499999999, 55.60319499999999, 55.60319499999999, 55.602939, 55.60319499999999, 55.60319499999999, 55.60301, 55.60301, 55.602987, 55.60341, 55.60293000000001, 55.60293000000001, 55.606473, 55.60603199999999, 55.60603199999999, 55.60606899999999, 55.60606899999999, 55.60606899999999, 55.60606899999999, 55.60606899999999, 55.60606899999999, 55.60606899999999, 55.60606899999999, 55.60606899999999, 55.60606899999999, 55.60606899999999, 55.60606899999999, 55.60606899999999, 55.60606899999999, 55.60606899999999, 55.60606899999999, 55.60606899999999, 55.60606899999999, 55.60606899999999], \"legendgroup\": \"other\", \"lon\": [13.007148, 13.00815, 13.00969, 13.00815, 13.00886, 13.010497, 13.010497, 13.010497, 13.007911, 13.006606, 13.0067, 13.00791, 13.008207, 13.00886, 13.005747, 13.008207, 13.00791, 13.006452, 13.00886, 13.006452, 13.006452, 13.006452, 13.00632, 13.006452, 13.006452, 13.008375, 13.00886, 13.00886, 13.009689, 13.00886, 13.00632, 13.00632, 13.007808, 13.007808, 13.007808, 13.008128999999998, 13.008128999999998, 13.008128999999998, 13.00844, 13.008199, 13.006685, 13.006896, 13.006685, 13.006685, 13.008458, 13.00858, 13.009659, 13.009659, 13.008483, 13.00858, 13.00858, 13.009659, 13.008483, 13.008483, 13.00764, 13.00886, 13.009659, 13.009659, 13.00736, 13.00778, 13.0073, 13.0073, 13.0073, 13.0073, 13.0073, 13.0073, 13.0073, 13.0073, 13.0073, 13.0073, 13.0073, 13.0073, 13.0073, 13.0073, 13.0073, 13.0073, 13.0073, 13.0073, 13.0073, 13.0073, 13.0073, 13.0073, 13.0073, 13.0073, 13.0073, 13.0073, 13.0073, 13.0073, 13.0073, 13.0073, 13.0073, 13.0073, 13.0073, 13.0073, 13.0073, 13.0073, 13.0073, 13.0073, 13.0073, 13.0073, 13.0073, 13.0073, 13.0073, 13.0073, 13.009659, 13.0073, 13.0073, 13.0073, 13.0073, 13.00736, 13.0073, 13.0073, 13.0073, 13.0073, 13.0073, 13.0073, 13.0073, 12.997532, 12.997532, 12.997532, 12.997532, 12.997532, 12.997532, 12.997532, 12.997532, 12.997692, 12.997692, 12.997692, 12.997692, 12.997692, 12.99782, 12.997641, 12.997641, 12.997692, 12.997692, 12.997692, 12.998685, 12.997692, 12.997692, 12.997592, 12.997692, 12.997692, 12.997692, 12.997692, 12.997692, 12.997692, 12.997692, 12.997692, 12.997692, 12.997692, 12.99782, 12.99782, 12.99782, 12.99782, 12.99782, 12.99782, 12.997592, 12.997592, 12.997592, 12.997592, 12.99782, 12.99782, 12.99782, 12.99782, 12.99782, 12.99782, 12.99782, 12.99782, 12.99782, 12.99782, 12.99782, 12.99792, 12.99782, 12.99782, 12.99782, 12.99782, 12.99782, 12.99782, 12.99782, 12.99782, 12.99782, 12.99782, 12.99782, 12.99782, 12.99782, 12.997729, 12.997729, 12.997729, 12.997729, 12.997729, 12.997729, 12.997729, 12.99782, 12.997729, 12.997729, 12.99782, 12.99782, 12.99782, 12.99782, 12.99782, 12.99782, 12.99782, 12.99782, 12.99766, 12.99782, 12.99782, 12.99782, 12.99782, 12.99782, 12.99782, 12.99782, 12.99766, 12.99782, 12.99782, 12.99782, 12.99782, 12.99782, 12.99782, 12.99782, 12.99782, 12.99782, 12.99782, 12.99782, 12.997634, 12.99782, 12.99782, 12.99782, 12.99792, 12.99782, 12.99782, 12.997721, 3.877326, 3.877326, 3.87648, 3.87648, 3.87648, 3.87648, 3.87648, 3.87648, 3.87648, 3.87648, 3.87648, 3.87648, 3.87648, 3.87648, 3.87648, 3.87648, 3.87648, 3.87648, 3.87648, 3.87648, 3.87648, 3.87648, 3.87648, 3.87648, 3.87648, 3.87648, 3.87648, 3.87648, 3.87648, 3.87648, 3.87648, 3.87648, 3.87648, 3.87648, 3.87648, 3.87648, 3.87648, 3.87648, 3.87648, 3.87648, 3.87648, 3.87648, 3.876331, 3.876331, 3.876331, 3.876331, 3.876331, 3.876331, 3.876331, 3.876331, 3.876331, 3.876331, 3.876331, 3.876488, 3.876331, 3.876331, 3.876331, 3.876516000000001, 3.876523, 3.876516000000001, 3.876516000000001, 3.876516000000001, 3.876516000000001, 3.876516000000001, 3.87627, 13.012834, 13.013752, 13.01463, 13.01463, 13.01463, 13.01389, 13.013893, 13.013893, 13.013895, 13.014651, 13.014651, 13.014651, 13.014651, 13.014651, 13.01463, 13.01463, 13.013645, 13.013645, 13.013645, 13.013801, 13.013801, 13.013801, 13.013645, 13.014577, 13.014577, 13.014577, 13.014577, 13.014577, 13.014577, 13.014577, 13.014577, 13.014577, 13.014577, 13.014577, 13.014577, 13.014577, 13.014577, 13.014577, 13.014577, 13.013917, 13.014577, 13.014577, 13.014577, 13.013917, 13.013917, 13.013645, 13.013917, 13.013649, 13.01367, 13.014942, 13.013034, 13.013034, 13.015044, 13.015044, 13.015044, 13.01367, 13.015044, 13.015044, 13.01422, 13.01422, 13.015044, 13.015044, 13.015044, 13.013034, 13.01367, 13.013096, 13.013096, 13.013096, 13.013096, 13.0137, 13.01523, 13.01422, 13.01367, 13.01307, 13.01523, 13.001833, 13.000449, 13.003061, 13.0012, 13.00332, 13.00327, 13.00327, 12.999372, 13.00327, 13.003223, 13.003223, 13.003223, 12.999372, 12.999372, 12.999372, 13.003223, 12.999372, 12.999372, 12.999501, 12.999501, 13.003195, 13.00256, 13.00327, 13.00327, 12.975095, 12.976331, 12.976331, 12.973853, 12.973853, 12.973853, 12.973853, 12.973853, 12.973853, 12.973853, 12.973853, 12.973853, 12.973853, 12.973853, 12.973853, 12.973853, 12.973853, 12.973853, 12.973853, 12.973853, 12.973853, 12.973853], \"marker\": {\"color\": \"#00cc96\"}, \"mode\": \"markers\", \"name\": \"other\", \"showlegend\": true, \"subplot\": \"mapbox\", \"type\": \"scattermapbox\"}],\n",
       "                        {\"legend\": {\"title\": {\"text\": \"label\"}, \"tracegroupgap\": 0}, \"mapbox\": {\"center\": {\"lat\": 52.93738809674861, \"lon\": 10.974604954004759}, \"domain\": {\"x\": [0.0, 1.0], \"y\": [0.0, 1.0]}, \"style\": \"open-street-map\", \"zoom\": 8}, \"margin\": {\"t\": 60}, \"template\": {\"data\": {\"bar\": [{\"error_x\": {\"color\": \"#2a3f5f\"}, \"error_y\": {\"color\": \"#2a3f5f\"}, \"marker\": {\"line\": {\"color\": \"#E5ECF6\", \"width\": 0.5}}, \"type\": \"bar\"}], \"barpolar\": [{\"marker\": {\"line\": {\"color\": \"#E5ECF6\", \"width\": 0.5}}, \"type\": \"barpolar\"}], \"carpet\": [{\"aaxis\": {\"endlinecolor\": \"#2a3f5f\", \"gridcolor\": \"white\", \"linecolor\": \"white\", \"minorgridcolor\": \"white\", \"startlinecolor\": \"#2a3f5f\"}, \"baxis\": {\"endlinecolor\": \"#2a3f5f\", \"gridcolor\": \"white\", \"linecolor\": \"white\", \"minorgridcolor\": \"white\", \"startlinecolor\": \"#2a3f5f\"}, \"type\": \"carpet\"}], \"choropleth\": [{\"colorbar\": {\"outlinewidth\": 0, \"ticks\": \"\"}, \"type\": \"choropleth\"}], \"contour\": [{\"colorbar\": {\"outlinewidth\": 0, \"ticks\": \"\"}, \"colorscale\": [[0.0, \"#0d0887\"], [0.1111111111111111, \"#46039f\"], [0.2222222222222222, \"#7201a8\"], [0.3333333333333333, \"#9c179e\"], [0.4444444444444444, \"#bd3786\"], [0.5555555555555556, \"#d8576b\"], [0.6666666666666666, \"#ed7953\"], [0.7777777777777778, \"#fb9f3a\"], [0.8888888888888888, \"#fdca26\"], [1.0, \"#f0f921\"]], \"type\": \"contour\"}], \"contourcarpet\": [{\"colorbar\": {\"outlinewidth\": 0, \"ticks\": \"\"}, \"type\": \"contourcarpet\"}], \"heatmap\": [{\"colorbar\": {\"outlinewidth\": 0, \"ticks\": \"\"}, \"colorscale\": [[0.0, \"#0d0887\"], [0.1111111111111111, \"#46039f\"], [0.2222222222222222, \"#7201a8\"], [0.3333333333333333, \"#9c179e\"], [0.4444444444444444, \"#bd3786\"], [0.5555555555555556, \"#d8576b\"], [0.6666666666666666, \"#ed7953\"], [0.7777777777777778, \"#fb9f3a\"], [0.8888888888888888, \"#fdca26\"], [1.0, \"#f0f921\"]], \"type\": \"heatmap\"}], \"heatmapgl\": [{\"colorbar\": {\"outlinewidth\": 0, \"ticks\": \"\"}, \"colorscale\": [[0.0, \"#0d0887\"], [0.1111111111111111, \"#46039f\"], [0.2222222222222222, \"#7201a8\"], [0.3333333333333333, \"#9c179e\"], [0.4444444444444444, \"#bd3786\"], [0.5555555555555556, \"#d8576b\"], [0.6666666666666666, \"#ed7953\"], [0.7777777777777778, \"#fb9f3a\"], [0.8888888888888888, \"#fdca26\"], [1.0, \"#f0f921\"]], \"type\": \"heatmapgl\"}], \"histogram\": [{\"marker\": {\"colorbar\": {\"outlinewidth\": 0, \"ticks\": \"\"}}, \"type\": \"histogram\"}], \"histogram2d\": [{\"colorbar\": {\"outlinewidth\": 0, \"ticks\": \"\"}, \"colorscale\": [[0.0, \"#0d0887\"], [0.1111111111111111, \"#46039f\"], [0.2222222222222222, \"#7201a8\"], [0.3333333333333333, \"#9c179e\"], [0.4444444444444444, \"#bd3786\"], [0.5555555555555556, \"#d8576b\"], [0.6666666666666666, \"#ed7953\"], [0.7777777777777778, \"#fb9f3a\"], [0.8888888888888888, \"#fdca26\"], [1.0, \"#f0f921\"]], \"type\": \"histogram2d\"}], \"histogram2dcontour\": [{\"colorbar\": {\"outlinewidth\": 0, \"ticks\": \"\"}, \"colorscale\": [[0.0, \"#0d0887\"], [0.1111111111111111, \"#46039f\"], [0.2222222222222222, \"#7201a8\"], [0.3333333333333333, \"#9c179e\"], [0.4444444444444444, \"#bd3786\"], [0.5555555555555556, \"#d8576b\"], [0.6666666666666666, \"#ed7953\"], [0.7777777777777778, \"#fb9f3a\"], [0.8888888888888888, \"#fdca26\"], [1.0, \"#f0f921\"]], \"type\": \"histogram2dcontour\"}], \"mesh3d\": [{\"colorbar\": {\"outlinewidth\": 0, \"ticks\": \"\"}, \"type\": \"mesh3d\"}], \"parcoords\": [{\"line\": {\"colorbar\": {\"outlinewidth\": 0, \"ticks\": \"\"}}, \"type\": \"parcoords\"}], \"pie\": [{\"automargin\": true, \"type\": \"pie\"}], \"scatter\": [{\"marker\": {\"colorbar\": {\"outlinewidth\": 0, \"ticks\": \"\"}}, \"type\": \"scatter\"}], \"scatter3d\": [{\"line\": {\"colorbar\": {\"outlinewidth\": 0, \"ticks\": \"\"}}, \"marker\": {\"colorbar\": {\"outlinewidth\": 0, \"ticks\": \"\"}}, \"type\": \"scatter3d\"}], \"scattercarpet\": [{\"marker\": {\"colorbar\": {\"outlinewidth\": 0, \"ticks\": \"\"}}, \"type\": \"scattercarpet\"}], \"scattergeo\": [{\"marker\": {\"colorbar\": {\"outlinewidth\": 0, \"ticks\": \"\"}}, \"type\": \"scattergeo\"}], \"scattergl\": [{\"marker\": {\"colorbar\": {\"outlinewidth\": 0, \"ticks\": \"\"}}, \"type\": \"scattergl\"}], \"scattermapbox\": [{\"marker\": {\"colorbar\": {\"outlinewidth\": 0, \"ticks\": \"\"}}, \"type\": \"scattermapbox\"}], \"scatterpolar\": [{\"marker\": {\"colorbar\": {\"outlinewidth\": 0, \"ticks\": \"\"}}, \"type\": \"scatterpolar\"}], \"scatterpolargl\": [{\"marker\": {\"colorbar\": {\"outlinewidth\": 0, \"ticks\": \"\"}}, \"type\": \"scatterpolargl\"}], \"scatterternary\": [{\"marker\": {\"colorbar\": {\"outlinewidth\": 0, \"ticks\": \"\"}}, \"type\": \"scatterternary\"}], \"surface\": [{\"colorbar\": {\"outlinewidth\": 0, \"ticks\": \"\"}, \"colorscale\": [[0.0, \"#0d0887\"], [0.1111111111111111, \"#46039f\"], [0.2222222222222222, \"#7201a8\"], [0.3333333333333333, \"#9c179e\"], [0.4444444444444444, \"#bd3786\"], [0.5555555555555556, \"#d8576b\"], [0.6666666666666666, \"#ed7953\"], [0.7777777777777778, \"#fb9f3a\"], [0.8888888888888888, \"#fdca26\"], [1.0, \"#f0f921\"]], \"type\": \"surface\"}], \"table\": [{\"cells\": {\"fill\": {\"color\": \"#EBF0F8\"}, \"line\": {\"color\": \"white\"}}, \"header\": {\"fill\": {\"color\": \"#C8D4E3\"}, \"line\": {\"color\": \"white\"}}, \"type\": \"table\"}]}, \"layout\": {\"annotationdefaults\": {\"arrowcolor\": \"#2a3f5f\", \"arrowhead\": 0, \"arrowwidth\": 1}, \"coloraxis\": {\"colorbar\": {\"outlinewidth\": 0, \"ticks\": \"\"}}, \"colorscale\": {\"diverging\": [[0, \"#8e0152\"], [0.1, \"#c51b7d\"], [0.2, \"#de77ae\"], [0.3, \"#f1b6da\"], [0.4, \"#fde0ef\"], [0.5, \"#f7f7f7\"], [0.6, \"#e6f5d0\"], [0.7, \"#b8e186\"], [0.8, \"#7fbc41\"], [0.9, \"#4d9221\"], [1, \"#276419\"]], \"sequential\": [[0.0, \"#0d0887\"], [0.1111111111111111, \"#46039f\"], [0.2222222222222222, \"#7201a8\"], [0.3333333333333333, \"#9c179e\"], [0.4444444444444444, \"#bd3786\"], [0.5555555555555556, \"#d8576b\"], [0.6666666666666666, \"#ed7953\"], [0.7777777777777778, \"#fb9f3a\"], [0.8888888888888888, \"#fdca26\"], [1.0, \"#f0f921\"]], \"sequentialminus\": [[0.0, \"#0d0887\"], [0.1111111111111111, \"#46039f\"], [0.2222222222222222, \"#7201a8\"], [0.3333333333333333, \"#9c179e\"], [0.4444444444444444, \"#bd3786\"], [0.5555555555555556, \"#d8576b\"], [0.6666666666666666, \"#ed7953\"], [0.7777777777777778, \"#fb9f3a\"], [0.8888888888888888, \"#fdca26\"], [1.0, \"#f0f921\"]]}, \"colorway\": [\"#636efa\", \"#EF553B\", \"#00cc96\", \"#ab63fa\", \"#FFA15A\", \"#19d3f3\", \"#FF6692\", \"#B6E880\", \"#FF97FF\", \"#FECB52\"], \"font\": {\"color\": \"#2a3f5f\"}, \"geo\": {\"bgcolor\": \"white\", \"lakecolor\": \"white\", \"landcolor\": \"#E5ECF6\", \"showlakes\": true, \"showland\": true, \"subunitcolor\": \"white\"}, \"hoverlabel\": {\"align\": \"left\"}, \"hovermode\": \"closest\", \"mapbox\": {\"style\": \"light\"}, \"paper_bgcolor\": \"white\", \"plot_bgcolor\": \"#E5ECF6\", \"polar\": {\"angularaxis\": {\"gridcolor\": \"white\", \"linecolor\": \"white\", \"ticks\": \"\"}, \"bgcolor\": \"#E5ECF6\", \"radialaxis\": {\"gridcolor\": \"white\", \"linecolor\": \"white\", \"ticks\": \"\"}}, \"scene\": {\"xaxis\": {\"backgroundcolor\": \"#E5ECF6\", \"gridcolor\": \"white\", \"gridwidth\": 2, \"linecolor\": \"white\", \"showbackground\": true, \"ticks\": \"\", \"zerolinecolor\": \"white\"}, \"yaxis\": {\"backgroundcolor\": \"#E5ECF6\", \"gridcolor\": \"white\", \"gridwidth\": 2, \"linecolor\": \"white\", \"showbackground\": true, \"ticks\": \"\", \"zerolinecolor\": \"white\"}, \"zaxis\": {\"backgroundcolor\": \"#E5ECF6\", \"gridcolor\": \"white\", \"gridwidth\": 2, \"linecolor\": \"white\", \"showbackground\": true, \"ticks\": \"\", \"zerolinecolor\": \"white\"}}, \"shapedefaults\": {\"line\": {\"color\": \"#2a3f5f\"}}, \"ternary\": {\"aaxis\": {\"gridcolor\": \"white\", \"linecolor\": \"white\", \"ticks\": \"\"}, \"baxis\": {\"gridcolor\": \"white\", \"linecolor\": \"white\", \"ticks\": \"\"}, \"bgcolor\": \"#E5ECF6\", \"caxis\": {\"gridcolor\": \"white\", \"linecolor\": \"white\", \"ticks\": \"\"}}, \"title\": {\"x\": 0.05}, \"xaxis\": {\"automargin\": true, \"gridcolor\": \"white\", \"linecolor\": \"white\", \"ticks\": \"\", \"title\": {\"standoff\": 15}, \"zerolinecolor\": \"white\", \"zerolinewidth\": 2}, \"yaxis\": {\"automargin\": true, \"gridcolor\": \"white\", \"linecolor\": \"white\", \"ticks\": \"\", \"title\": {\"standoff\": 15}, \"zerolinecolor\": \"white\", \"zerolinewidth\": 2}}}},\n",
       "                        {\"responsive\": true}\n",
       "                    ).then(function(){\n",
       "                            \n",
       "var gd = document.getElementById('40865bc3-155c-4ddc-b635-36f235c2afee');\n",
       "var x = new MutationObserver(function (mutations, observer) {{\n",
       "        var display = window.getComputedStyle(gd).display;\n",
       "        if (!display || display === 'none') {{\n",
       "            console.log([gd, 'removed!']);\n",
       "            Plotly.purge(gd);\n",
       "            observer.disconnect();\n",
       "        }}\n",
       "}});\n",
       "\n",
       "// Listen for the removal of the full notebook cells\n",
       "var notebookContainer = gd.closest('#notebook-container');\n",
       "if (notebookContainer) {{\n",
       "    x.observe(notebookContainer, {childList: true});\n",
       "}}\n",
       "\n",
       "// Listen for the clearing of the current output cell\n",
       "var outputEl = gd.closest('.output');\n",
       "if (outputEl) {{\n",
       "    x.observe(outputEl, {childList: true});\n",
       "}}\n",
       "\n",
       "                        })\n",
       "                };\n",
       "                });\n",
       "            </script>\n",
       "        </div>"
      ]
     },
     "metadata": {},
     "output_type": "display_data"
    }
   ],
   "source": [
    "fig = px.scatter_mapbox(topten.reset_index(), lat='latitude', lon='longitude', hover_data=['hourofday', 'weekday', 'region'], color='label')\n",
    "fig.update_layout(mapbox_style=\"open-street-map\")\n",
    "fig.show()"
   ]
  },
  {
   "cell_type": "code",
   "execution_count": null,
   "metadata": {},
   "outputs": [],
   "source": []
  }
 ],
 "metadata": {
  "kernelspec": {
   "display_name": "Python 3",
   "language": "python",
   "name": "python3"
  },
  "language_info": {
   "codemirror_mode": {
    "name": "ipython",
    "version": 3
   },
   "file_extension": ".py",
   "mimetype": "text/x-python",
   "name": "python",
   "nbconvert_exporter": "python",
   "pygments_lexer": "ipython3",
   "version": "3.8.1"
  }
 },
 "nbformat": 4,
 "nbformat_minor": 4
}

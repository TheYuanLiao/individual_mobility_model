{
 "cells": [
  {
   "cell_type": "code",
   "execution_count": 6,
   "metadata": {},
   "outputs": [
    {
     "data": {
      "text/plain": [
       "<module 'activitiesdf' from '/Users/ericwennerberg/source/chalmers/mscthesis/src/py/activitiesdf.py'>"
      ]
     },
     "execution_count": 6,
     "metadata": {},
     "output_type": "execute_result"
    }
   ],
   "source": [
    "import pandas as pd\n",
    "import numpy as np\n",
    "import plotly.express as px\n",
    "import plotly\n",
    "import plotly.graph_objects as pgo\n",
    "import geopandas as gpd\n",
    "import activitiesdf\n",
    "from datetime import timedelta\n",
    "from sklearn.feature_extraction.text import CountVectorizer\n",
    "import importlib\n",
    "from sklearn.metrics.pairwise import haversine_distances\n",
    "importlib.reload(activitiesdf)"
   ]
  },
  {
   "cell_type": "code",
   "execution_count": 7,
   "metadata": {},
   "outputs": [],
   "source": [
    "activities = activitiesdf.read_csv('sweden').set_index(['userid', 'region', 'tweetid'])"
   ]
  },
  {
   "cell_type": "code",
   "execution_count": 120,
   "metadata": {},
   "outputs": [],
   "source": [
    "u = activities.loc[11773412].sort_values('createdat').reset_index()"
   ]
  },
  {
   "cell_type": "code",
   "execution_count": 121,
   "metadata": {},
   "outputs": [],
   "source": [
    "gaps = activitiesdf.gaps(u)"
   ]
  },
  {
   "cell_type": "code",
   "execution_count": 122,
   "metadata": {},
   "outputs": [],
   "source": [
    "gaps = gaps[gaps['duration'] < timedelta(hours=24)]\n",
    "gaps = gaps[gaps['region_origin'] != gaps['region_destination']]"
   ]
  },
  {
   "cell_type": "markdown",
   "metadata": {},
   "source": [
    "# Sankey diagram\n"
   ]
  },
  {
   "cell_type": "code",
   "execution_count": 123,
   "metadata": {},
   "outputs": [
    {
     "data": {
      "application/vnd.plotly.v1+json": {
       "config": {
        "plotlyServerURL": "https://plot.ly"
       },
       "data": [
        {
         "link": {
          "source": [
           56,
           66,
           88,
           100,
           125
          ],
          "target": [
           66,
           56,
           66,
           66,
           124
          ],
          "value": [
           3,
           10,
           3,
           2,
           2
          ]
         },
         "node": {
          "color": "blue",
          "label": [
           0,
           1,
           2,
           3,
           4,
           5,
           6,
           7,
           8,
           9,
           10,
           11,
           12,
           13,
           14,
           15,
           16,
           17,
           18,
           19,
           20,
           21,
           22,
           23,
           24,
           25,
           26,
           27,
           28,
           29,
           30,
           31,
           32,
           33,
           34,
           35,
           36,
           37,
           38,
           39,
           40,
           41,
           42,
           43,
           44,
           45,
           46,
           47,
           48,
           49,
           50,
           51,
           52,
           53,
           54,
           55,
           56,
           58,
           59,
           60,
           61,
           62,
           63,
           64,
           66,
           67,
           57,
           68,
           69,
           70,
           72,
           73,
           74,
           75,
           78,
           79,
           80,
           81,
           83,
           85,
           84,
           87,
           89,
           90,
           91,
           92,
           93,
           94,
           95,
           97,
           98,
           99,
           102,
           103,
           106,
           107,
           114,
           113,
           115,
           116,
           117,
           120,
           112,
           134,
           137,
           142,
           147,
           152,
           156,
           129,
           159,
           161,
           162,
           164,
           166,
           173,
           174,
           175,
           176,
           177,
           178,
           179,
           181,
           183,
           150,
           187,
           209,
           210,
           214,
           215,
           219,
           225,
           228,
           229,
           231,
           232,
           233,
           235,
           237,
           246,
           248,
           71,
           76,
           77,
           82,
           86,
           96,
           100,
           104,
           105,
           108,
           88,
           118,
           133,
           135,
           138,
           140,
           143,
           145,
           148,
           139,
           155,
           160,
           163,
           165,
           167,
           180,
           182,
           184,
           211,
           216,
           220,
           226,
           230,
           234,
           236,
           238,
           247,
           249
          ],
          "line": {
           "color": "black",
           "width": 0.5
          },
          "pad": 15,
          "thickness": 20
         },
         "type": "sankey"
        }
       ],
       "layout": {
        "font": {
         "size": 10
        },
        "template": {
         "data": {
          "bar": [
           {
            "error_x": {
             "color": "#2a3f5f"
            },
            "error_y": {
             "color": "#2a3f5f"
            },
            "marker": {
             "line": {
              "color": "#E5ECF6",
              "width": 0.5
             }
            },
            "type": "bar"
           }
          ],
          "barpolar": [
           {
            "marker": {
             "line": {
              "color": "#E5ECF6",
              "width": 0.5
             }
            },
            "type": "barpolar"
           }
          ],
          "carpet": [
           {
            "aaxis": {
             "endlinecolor": "#2a3f5f",
             "gridcolor": "white",
             "linecolor": "white",
             "minorgridcolor": "white",
             "startlinecolor": "#2a3f5f"
            },
            "baxis": {
             "endlinecolor": "#2a3f5f",
             "gridcolor": "white",
             "linecolor": "white",
             "minorgridcolor": "white",
             "startlinecolor": "#2a3f5f"
            },
            "type": "carpet"
           }
          ],
          "choropleth": [
           {
            "colorbar": {
             "outlinewidth": 0,
             "ticks": ""
            },
            "type": "choropleth"
           }
          ],
          "contour": [
           {
            "colorbar": {
             "outlinewidth": 0,
             "ticks": ""
            },
            "colorscale": [
             [
              0,
              "#0d0887"
             ],
             [
              0.1111111111111111,
              "#46039f"
             ],
             [
              0.2222222222222222,
              "#7201a8"
             ],
             [
              0.3333333333333333,
              "#9c179e"
             ],
             [
              0.4444444444444444,
              "#bd3786"
             ],
             [
              0.5555555555555556,
              "#d8576b"
             ],
             [
              0.6666666666666666,
              "#ed7953"
             ],
             [
              0.7777777777777778,
              "#fb9f3a"
             ],
             [
              0.8888888888888888,
              "#fdca26"
             ],
             [
              1,
              "#f0f921"
             ]
            ],
            "type": "contour"
           }
          ],
          "contourcarpet": [
           {
            "colorbar": {
             "outlinewidth": 0,
             "ticks": ""
            },
            "type": "contourcarpet"
           }
          ],
          "heatmap": [
           {
            "colorbar": {
             "outlinewidth": 0,
             "ticks": ""
            },
            "colorscale": [
             [
              0,
              "#0d0887"
             ],
             [
              0.1111111111111111,
              "#46039f"
             ],
             [
              0.2222222222222222,
              "#7201a8"
             ],
             [
              0.3333333333333333,
              "#9c179e"
             ],
             [
              0.4444444444444444,
              "#bd3786"
             ],
             [
              0.5555555555555556,
              "#d8576b"
             ],
             [
              0.6666666666666666,
              "#ed7953"
             ],
             [
              0.7777777777777778,
              "#fb9f3a"
             ],
             [
              0.8888888888888888,
              "#fdca26"
             ],
             [
              1,
              "#f0f921"
             ]
            ],
            "type": "heatmap"
           }
          ],
          "heatmapgl": [
           {
            "colorbar": {
             "outlinewidth": 0,
             "ticks": ""
            },
            "colorscale": [
             [
              0,
              "#0d0887"
             ],
             [
              0.1111111111111111,
              "#46039f"
             ],
             [
              0.2222222222222222,
              "#7201a8"
             ],
             [
              0.3333333333333333,
              "#9c179e"
             ],
             [
              0.4444444444444444,
              "#bd3786"
             ],
             [
              0.5555555555555556,
              "#d8576b"
             ],
             [
              0.6666666666666666,
              "#ed7953"
             ],
             [
              0.7777777777777778,
              "#fb9f3a"
             ],
             [
              0.8888888888888888,
              "#fdca26"
             ],
             [
              1,
              "#f0f921"
             ]
            ],
            "type": "heatmapgl"
           }
          ],
          "histogram": [
           {
            "marker": {
             "colorbar": {
              "outlinewidth": 0,
              "ticks": ""
             }
            },
            "type": "histogram"
           }
          ],
          "histogram2d": [
           {
            "colorbar": {
             "outlinewidth": 0,
             "ticks": ""
            },
            "colorscale": [
             [
              0,
              "#0d0887"
             ],
             [
              0.1111111111111111,
              "#46039f"
             ],
             [
              0.2222222222222222,
              "#7201a8"
             ],
             [
              0.3333333333333333,
              "#9c179e"
             ],
             [
              0.4444444444444444,
              "#bd3786"
             ],
             [
              0.5555555555555556,
              "#d8576b"
             ],
             [
              0.6666666666666666,
              "#ed7953"
             ],
             [
              0.7777777777777778,
              "#fb9f3a"
             ],
             [
              0.8888888888888888,
              "#fdca26"
             ],
             [
              1,
              "#f0f921"
             ]
            ],
            "type": "histogram2d"
           }
          ],
          "histogram2dcontour": [
           {
            "colorbar": {
             "outlinewidth": 0,
             "ticks": ""
            },
            "colorscale": [
             [
              0,
              "#0d0887"
             ],
             [
              0.1111111111111111,
              "#46039f"
             ],
             [
              0.2222222222222222,
              "#7201a8"
             ],
             [
              0.3333333333333333,
              "#9c179e"
             ],
             [
              0.4444444444444444,
              "#bd3786"
             ],
             [
              0.5555555555555556,
              "#d8576b"
             ],
             [
              0.6666666666666666,
              "#ed7953"
             ],
             [
              0.7777777777777778,
              "#fb9f3a"
             ],
             [
              0.8888888888888888,
              "#fdca26"
             ],
             [
              1,
              "#f0f921"
             ]
            ],
            "type": "histogram2dcontour"
           }
          ],
          "mesh3d": [
           {
            "colorbar": {
             "outlinewidth": 0,
             "ticks": ""
            },
            "type": "mesh3d"
           }
          ],
          "parcoords": [
           {
            "line": {
             "colorbar": {
              "outlinewidth": 0,
              "ticks": ""
             }
            },
            "type": "parcoords"
           }
          ],
          "pie": [
           {
            "automargin": true,
            "type": "pie"
           }
          ],
          "scatter": [
           {
            "marker": {
             "colorbar": {
              "outlinewidth": 0,
              "ticks": ""
             }
            },
            "type": "scatter"
           }
          ],
          "scatter3d": [
           {
            "line": {
             "colorbar": {
              "outlinewidth": 0,
              "ticks": ""
             }
            },
            "marker": {
             "colorbar": {
              "outlinewidth": 0,
              "ticks": ""
             }
            },
            "type": "scatter3d"
           }
          ],
          "scattercarpet": [
           {
            "marker": {
             "colorbar": {
              "outlinewidth": 0,
              "ticks": ""
             }
            },
            "type": "scattercarpet"
           }
          ],
          "scattergeo": [
           {
            "marker": {
             "colorbar": {
              "outlinewidth": 0,
              "ticks": ""
             }
            },
            "type": "scattergeo"
           }
          ],
          "scattergl": [
           {
            "marker": {
             "colorbar": {
              "outlinewidth": 0,
              "ticks": ""
             }
            },
            "type": "scattergl"
           }
          ],
          "scattermapbox": [
           {
            "marker": {
             "colorbar": {
              "outlinewidth": 0,
              "ticks": ""
             }
            },
            "type": "scattermapbox"
           }
          ],
          "scatterpolar": [
           {
            "marker": {
             "colorbar": {
              "outlinewidth": 0,
              "ticks": ""
             }
            },
            "type": "scatterpolar"
           }
          ],
          "scatterpolargl": [
           {
            "marker": {
             "colorbar": {
              "outlinewidth": 0,
              "ticks": ""
             }
            },
            "type": "scatterpolargl"
           }
          ],
          "scatterternary": [
           {
            "marker": {
             "colorbar": {
              "outlinewidth": 0,
              "ticks": ""
             }
            },
            "type": "scatterternary"
           }
          ],
          "surface": [
           {
            "colorbar": {
             "outlinewidth": 0,
             "ticks": ""
            },
            "colorscale": [
             [
              0,
              "#0d0887"
             ],
             [
              0.1111111111111111,
              "#46039f"
             ],
             [
              0.2222222222222222,
              "#7201a8"
             ],
             [
              0.3333333333333333,
              "#9c179e"
             ],
             [
              0.4444444444444444,
              "#bd3786"
             ],
             [
              0.5555555555555556,
              "#d8576b"
             ],
             [
              0.6666666666666666,
              "#ed7953"
             ],
             [
              0.7777777777777778,
              "#fb9f3a"
             ],
             [
              0.8888888888888888,
              "#fdca26"
             ],
             [
              1,
              "#f0f921"
             ]
            ],
            "type": "surface"
           }
          ],
          "table": [
           {
            "cells": {
             "fill": {
              "color": "#EBF0F8"
             },
             "line": {
              "color": "white"
             }
            },
            "header": {
             "fill": {
              "color": "#C8D4E3"
             },
             "line": {
              "color": "white"
             }
            },
            "type": "table"
           }
          ]
         },
         "layout": {
          "annotationdefaults": {
           "arrowcolor": "#2a3f5f",
           "arrowhead": 0,
           "arrowwidth": 1
          },
          "coloraxis": {
           "colorbar": {
            "outlinewidth": 0,
            "ticks": ""
           }
          },
          "colorscale": {
           "diverging": [
            [
             0,
             "#8e0152"
            ],
            [
             0.1,
             "#c51b7d"
            ],
            [
             0.2,
             "#de77ae"
            ],
            [
             0.3,
             "#f1b6da"
            ],
            [
             0.4,
             "#fde0ef"
            ],
            [
             0.5,
             "#f7f7f7"
            ],
            [
             0.6,
             "#e6f5d0"
            ],
            [
             0.7,
             "#b8e186"
            ],
            [
             0.8,
             "#7fbc41"
            ],
            [
             0.9,
             "#4d9221"
            ],
            [
             1,
             "#276419"
            ]
           ],
           "sequential": [
            [
             0,
             "#0d0887"
            ],
            [
             0.1111111111111111,
             "#46039f"
            ],
            [
             0.2222222222222222,
             "#7201a8"
            ],
            [
             0.3333333333333333,
             "#9c179e"
            ],
            [
             0.4444444444444444,
             "#bd3786"
            ],
            [
             0.5555555555555556,
             "#d8576b"
            ],
            [
             0.6666666666666666,
             "#ed7953"
            ],
            [
             0.7777777777777778,
             "#fb9f3a"
            ],
            [
             0.8888888888888888,
             "#fdca26"
            ],
            [
             1,
             "#f0f921"
            ]
           ],
           "sequentialminus": [
            [
             0,
             "#0d0887"
            ],
            [
             0.1111111111111111,
             "#46039f"
            ],
            [
             0.2222222222222222,
             "#7201a8"
            ],
            [
             0.3333333333333333,
             "#9c179e"
            ],
            [
             0.4444444444444444,
             "#bd3786"
            ],
            [
             0.5555555555555556,
             "#d8576b"
            ],
            [
             0.6666666666666666,
             "#ed7953"
            ],
            [
             0.7777777777777778,
             "#fb9f3a"
            ],
            [
             0.8888888888888888,
             "#fdca26"
            ],
            [
             1,
             "#f0f921"
            ]
           ]
          },
          "colorway": [
           "#636efa",
           "#EF553B",
           "#00cc96",
           "#ab63fa",
           "#FFA15A",
           "#19d3f3",
           "#FF6692",
           "#B6E880",
           "#FF97FF",
           "#FECB52"
          ],
          "font": {
           "color": "#2a3f5f"
          },
          "geo": {
           "bgcolor": "white",
           "lakecolor": "white",
           "landcolor": "#E5ECF6",
           "showlakes": true,
           "showland": true,
           "subunitcolor": "white"
          },
          "hoverlabel": {
           "align": "left"
          },
          "hovermode": "closest",
          "mapbox": {
           "style": "light"
          },
          "paper_bgcolor": "white",
          "plot_bgcolor": "#E5ECF6",
          "polar": {
           "angularaxis": {
            "gridcolor": "white",
            "linecolor": "white",
            "ticks": ""
           },
           "bgcolor": "#E5ECF6",
           "radialaxis": {
            "gridcolor": "white",
            "linecolor": "white",
            "ticks": ""
           }
          },
          "scene": {
           "xaxis": {
            "backgroundcolor": "#E5ECF6",
            "gridcolor": "white",
            "gridwidth": 2,
            "linecolor": "white",
            "showbackground": true,
            "ticks": "",
            "zerolinecolor": "white"
           },
           "yaxis": {
            "backgroundcolor": "#E5ECF6",
            "gridcolor": "white",
            "gridwidth": 2,
            "linecolor": "white",
            "showbackground": true,
            "ticks": "",
            "zerolinecolor": "white"
           },
           "zaxis": {
            "backgroundcolor": "#E5ECF6",
            "gridcolor": "white",
            "gridwidth": 2,
            "linecolor": "white",
            "showbackground": true,
            "ticks": "",
            "zerolinecolor": "white"
           }
          },
          "shapedefaults": {
           "line": {
            "color": "#2a3f5f"
           }
          },
          "ternary": {
           "aaxis": {
            "gridcolor": "white",
            "linecolor": "white",
            "ticks": ""
           },
           "baxis": {
            "gridcolor": "white",
            "linecolor": "white",
            "ticks": ""
           },
           "bgcolor": "#E5ECF6",
           "caxis": {
            "gridcolor": "white",
            "linecolor": "white",
            "ticks": ""
           }
          },
          "title": {
           "x": 0.05
          },
          "xaxis": {
           "automargin": true,
           "gridcolor": "white",
           "linecolor": "white",
           "ticks": "",
           "title": {
            "standoff": 15
           },
           "zerolinecolor": "white",
           "zerolinewidth": 2
          },
          "yaxis": {
           "automargin": true,
           "gridcolor": "white",
           "linecolor": "white",
           "ticks": "",
           "title": {
            "standoff": 15
           },
           "zerolinecolor": "white",
           "zerolinewidth": 2
          }
         }
        },
        "title": {
         "text": "Gaps between regions"
        }
       }
      },
      "text/html": [
       "<div>\n",
       "        \n",
       "        \n",
       "            <div id=\"e921d7de-c959-4db0-a5cc-f745cb50537d\" class=\"plotly-graph-div\" style=\"height:525px; width:100%;\"></div>\n",
       "            <script type=\"text/javascript\">\n",
       "                require([\"plotly\"], function(Plotly) {\n",
       "                    window.PLOTLYENV=window.PLOTLYENV || {};\n",
       "                    \n",
       "                if (document.getElementById(\"e921d7de-c959-4db0-a5cc-f745cb50537d\")) {\n",
       "                    Plotly.newPlot(\n",
       "                        'e921d7de-c959-4db0-a5cc-f745cb50537d',\n",
       "                        [{\"link\": {\"source\": [56, 66, 88, 100, 125], \"target\": [66, 56, 66, 66, 124], \"value\": [3, 10, 3, 2, 2]}, \"node\": {\"color\": \"blue\", \"label\": [0.0, 1.0, 2.0, 3.0, 4.0, 5.0, 6.0, 7.0, 8.0, 9.0, 10.0, 11.0, 12.0, 13.0, 14.0, 15.0, 16.0, 17.0, 18.0, 19.0, 20.0, 21.0, 22.0, 23.0, 24.0, 25.0, 26.0, 27.0, 28.0, 29.0, 30.0, 31.0, 32.0, 33.0, 34.0, 35.0, 36.0, 37.0, 38.0, 39.0, 40.0, 41.0, 42.0, 43.0, 44.0, 45.0, 46.0, 47.0, 48.0, 49.0, 50.0, 51.0, 52.0, 53.0, 54.0, 55.0, 56.0, 58.0, 59.0, 60.0, 61.0, 62.0, 63.0, 64.0, 66.0, 67.0, 57.0, 68.0, 69.0, 70.0, 72.0, 73.0, 74.0, 75.0, 78.0, 79.0, 80.0, 81.0, 83.0, 85.0, 84.0, 87.0, 89.0, 90.0, 91.0, 92.0, 93.0, 94.0, 95.0, 97.0, 98.0, 99.0, 102.0, 103.0, 106.0, 107.0, 114.0, 113.0, 115.0, 116.0, 117.0, 120.0, 112.0, 134.0, 137.0, 142.0, 147.0, 152.0, 156.0, 129.0, 159.0, 161.0, 162.0, 164.0, 166.0, 173.0, 174.0, 175.0, 176.0, 177.0, 178.0, 179.0, 181.0, 183.0, 150.0, 187.0, 209.0, 210.0, 214.0, 215.0, 219.0, 225.0, 228.0, 229.0, 231.0, 232.0, 233.0, 235.0, 237.0, 246.0, 248.0, 71.0, 76.0, 77.0, 82.0, 86.0, 96.0, 100.0, 104.0, 105.0, 108.0, 88.0, 118.0, 133.0, 135.0, 138.0, 140.0, 143.0, 145.0, 148.0, 139.0, 155.0, 160.0, 163.0, 165.0, 167.0, 180.0, 182.0, 184.0, 211.0, 216.0, 220.0, 226.0, 230.0, 234.0, 236.0, 238.0, 247.0, 249.0], \"line\": {\"color\": \"black\", \"width\": 0.5}, \"pad\": 15, \"thickness\": 20}, \"type\": \"sankey\"}],\n",
       "                        {\"font\": {\"size\": 10}, \"template\": {\"data\": {\"bar\": [{\"error_x\": {\"color\": \"#2a3f5f\"}, \"error_y\": {\"color\": \"#2a3f5f\"}, \"marker\": {\"line\": {\"color\": \"#E5ECF6\", \"width\": 0.5}}, \"type\": \"bar\"}], \"barpolar\": [{\"marker\": {\"line\": {\"color\": \"#E5ECF6\", \"width\": 0.5}}, \"type\": \"barpolar\"}], \"carpet\": [{\"aaxis\": {\"endlinecolor\": \"#2a3f5f\", \"gridcolor\": \"white\", \"linecolor\": \"white\", \"minorgridcolor\": \"white\", \"startlinecolor\": \"#2a3f5f\"}, \"baxis\": {\"endlinecolor\": \"#2a3f5f\", \"gridcolor\": \"white\", \"linecolor\": \"white\", \"minorgridcolor\": \"white\", \"startlinecolor\": \"#2a3f5f\"}, \"type\": \"carpet\"}], \"choropleth\": [{\"colorbar\": {\"outlinewidth\": 0, \"ticks\": \"\"}, \"type\": \"choropleth\"}], \"contour\": [{\"colorbar\": {\"outlinewidth\": 0, \"ticks\": \"\"}, \"colorscale\": [[0.0, \"#0d0887\"], [0.1111111111111111, \"#46039f\"], [0.2222222222222222, \"#7201a8\"], [0.3333333333333333, \"#9c179e\"], [0.4444444444444444, \"#bd3786\"], [0.5555555555555556, \"#d8576b\"], [0.6666666666666666, \"#ed7953\"], [0.7777777777777778, \"#fb9f3a\"], [0.8888888888888888, \"#fdca26\"], [1.0, \"#f0f921\"]], \"type\": \"contour\"}], \"contourcarpet\": [{\"colorbar\": {\"outlinewidth\": 0, \"ticks\": \"\"}, \"type\": \"contourcarpet\"}], \"heatmap\": [{\"colorbar\": {\"outlinewidth\": 0, \"ticks\": \"\"}, \"colorscale\": [[0.0, \"#0d0887\"], [0.1111111111111111, \"#46039f\"], [0.2222222222222222, \"#7201a8\"], [0.3333333333333333, \"#9c179e\"], [0.4444444444444444, \"#bd3786\"], [0.5555555555555556, \"#d8576b\"], [0.6666666666666666, \"#ed7953\"], [0.7777777777777778, \"#fb9f3a\"], [0.8888888888888888, \"#fdca26\"], [1.0, \"#f0f921\"]], \"type\": \"heatmap\"}], \"heatmapgl\": [{\"colorbar\": {\"outlinewidth\": 0, \"ticks\": \"\"}, \"colorscale\": [[0.0, \"#0d0887\"], [0.1111111111111111, \"#46039f\"], [0.2222222222222222, \"#7201a8\"], [0.3333333333333333, \"#9c179e\"], [0.4444444444444444, \"#bd3786\"], [0.5555555555555556, \"#d8576b\"], [0.6666666666666666, \"#ed7953\"], [0.7777777777777778, \"#fb9f3a\"], [0.8888888888888888, \"#fdca26\"], [1.0, \"#f0f921\"]], \"type\": \"heatmapgl\"}], \"histogram\": [{\"marker\": {\"colorbar\": {\"outlinewidth\": 0, \"ticks\": \"\"}}, \"type\": \"histogram\"}], \"histogram2d\": [{\"colorbar\": {\"outlinewidth\": 0, \"ticks\": \"\"}, \"colorscale\": [[0.0, \"#0d0887\"], [0.1111111111111111, \"#46039f\"], [0.2222222222222222, \"#7201a8\"], [0.3333333333333333, \"#9c179e\"], [0.4444444444444444, \"#bd3786\"], [0.5555555555555556, \"#d8576b\"], [0.6666666666666666, \"#ed7953\"], [0.7777777777777778, \"#fb9f3a\"], [0.8888888888888888, \"#fdca26\"], [1.0, \"#f0f921\"]], \"type\": \"histogram2d\"}], \"histogram2dcontour\": [{\"colorbar\": {\"outlinewidth\": 0, \"ticks\": \"\"}, \"colorscale\": [[0.0, \"#0d0887\"], [0.1111111111111111, \"#46039f\"], [0.2222222222222222, \"#7201a8\"], [0.3333333333333333, \"#9c179e\"], [0.4444444444444444, \"#bd3786\"], [0.5555555555555556, \"#d8576b\"], [0.6666666666666666, \"#ed7953\"], [0.7777777777777778, \"#fb9f3a\"], [0.8888888888888888, \"#fdca26\"], [1.0, \"#f0f921\"]], \"type\": \"histogram2dcontour\"}], \"mesh3d\": [{\"colorbar\": {\"outlinewidth\": 0, \"ticks\": \"\"}, \"type\": \"mesh3d\"}], \"parcoords\": [{\"line\": {\"colorbar\": {\"outlinewidth\": 0, \"ticks\": \"\"}}, \"type\": \"parcoords\"}], \"pie\": [{\"automargin\": true, \"type\": \"pie\"}], \"scatter\": [{\"marker\": {\"colorbar\": {\"outlinewidth\": 0, \"ticks\": \"\"}}, \"type\": \"scatter\"}], \"scatter3d\": [{\"line\": {\"colorbar\": {\"outlinewidth\": 0, \"ticks\": \"\"}}, \"marker\": {\"colorbar\": {\"outlinewidth\": 0, \"ticks\": \"\"}}, \"type\": \"scatter3d\"}], \"scattercarpet\": [{\"marker\": {\"colorbar\": {\"outlinewidth\": 0, \"ticks\": \"\"}}, \"type\": \"scattercarpet\"}], \"scattergeo\": [{\"marker\": {\"colorbar\": {\"outlinewidth\": 0, \"ticks\": \"\"}}, \"type\": \"scattergeo\"}], \"scattergl\": [{\"marker\": {\"colorbar\": {\"outlinewidth\": 0, \"ticks\": \"\"}}, \"type\": \"scattergl\"}], \"scattermapbox\": [{\"marker\": {\"colorbar\": {\"outlinewidth\": 0, \"ticks\": \"\"}}, \"type\": \"scattermapbox\"}], \"scatterpolar\": [{\"marker\": {\"colorbar\": {\"outlinewidth\": 0, \"ticks\": \"\"}}, \"type\": \"scatterpolar\"}], \"scatterpolargl\": [{\"marker\": {\"colorbar\": {\"outlinewidth\": 0, \"ticks\": \"\"}}, \"type\": \"scatterpolargl\"}], \"scatterternary\": [{\"marker\": {\"colorbar\": {\"outlinewidth\": 0, \"ticks\": \"\"}}, \"type\": \"scatterternary\"}], \"surface\": [{\"colorbar\": {\"outlinewidth\": 0, \"ticks\": \"\"}, \"colorscale\": [[0.0, \"#0d0887\"], [0.1111111111111111, \"#46039f\"], [0.2222222222222222, \"#7201a8\"], [0.3333333333333333, \"#9c179e\"], [0.4444444444444444, \"#bd3786\"], [0.5555555555555556, \"#d8576b\"], [0.6666666666666666, \"#ed7953\"], [0.7777777777777778, \"#fb9f3a\"], [0.8888888888888888, \"#fdca26\"], [1.0, \"#f0f921\"]], \"type\": \"surface\"}], \"table\": [{\"cells\": {\"fill\": {\"color\": \"#EBF0F8\"}, \"line\": {\"color\": \"white\"}}, \"header\": {\"fill\": {\"color\": \"#C8D4E3\"}, \"line\": {\"color\": \"white\"}}, \"type\": \"table\"}]}, \"layout\": {\"annotationdefaults\": {\"arrowcolor\": \"#2a3f5f\", \"arrowhead\": 0, \"arrowwidth\": 1}, \"coloraxis\": {\"colorbar\": {\"outlinewidth\": 0, \"ticks\": \"\"}}, \"colorscale\": {\"diverging\": [[0, \"#8e0152\"], [0.1, \"#c51b7d\"], [0.2, \"#de77ae\"], [0.3, \"#f1b6da\"], [0.4, \"#fde0ef\"], [0.5, \"#f7f7f7\"], [0.6, \"#e6f5d0\"], [0.7, \"#b8e186\"], [0.8, \"#7fbc41\"], [0.9, \"#4d9221\"], [1, \"#276419\"]], \"sequential\": [[0.0, \"#0d0887\"], [0.1111111111111111, \"#46039f\"], [0.2222222222222222, \"#7201a8\"], [0.3333333333333333, \"#9c179e\"], [0.4444444444444444, \"#bd3786\"], [0.5555555555555556, \"#d8576b\"], [0.6666666666666666, \"#ed7953\"], [0.7777777777777778, \"#fb9f3a\"], [0.8888888888888888, \"#fdca26\"], [1.0, \"#f0f921\"]], \"sequentialminus\": [[0.0, \"#0d0887\"], [0.1111111111111111, \"#46039f\"], [0.2222222222222222, \"#7201a8\"], [0.3333333333333333, \"#9c179e\"], [0.4444444444444444, \"#bd3786\"], [0.5555555555555556, \"#d8576b\"], [0.6666666666666666, \"#ed7953\"], [0.7777777777777778, \"#fb9f3a\"], [0.8888888888888888, \"#fdca26\"], [1.0, \"#f0f921\"]]}, \"colorway\": [\"#636efa\", \"#EF553B\", \"#00cc96\", \"#ab63fa\", \"#FFA15A\", \"#19d3f3\", \"#FF6692\", \"#B6E880\", \"#FF97FF\", \"#FECB52\"], \"font\": {\"color\": \"#2a3f5f\"}, \"geo\": {\"bgcolor\": \"white\", \"lakecolor\": \"white\", \"landcolor\": \"#E5ECF6\", \"showlakes\": true, \"showland\": true, \"subunitcolor\": \"white\"}, \"hoverlabel\": {\"align\": \"left\"}, \"hovermode\": \"closest\", \"mapbox\": {\"style\": \"light\"}, \"paper_bgcolor\": \"white\", \"plot_bgcolor\": \"#E5ECF6\", \"polar\": {\"angularaxis\": {\"gridcolor\": \"white\", \"linecolor\": \"white\", \"ticks\": \"\"}, \"bgcolor\": \"#E5ECF6\", \"radialaxis\": {\"gridcolor\": \"white\", \"linecolor\": \"white\", \"ticks\": \"\"}}, \"scene\": {\"xaxis\": {\"backgroundcolor\": \"#E5ECF6\", \"gridcolor\": \"white\", \"gridwidth\": 2, \"linecolor\": \"white\", \"showbackground\": true, \"ticks\": \"\", \"zerolinecolor\": \"white\"}, \"yaxis\": {\"backgroundcolor\": \"#E5ECF6\", \"gridcolor\": \"white\", \"gridwidth\": 2, \"linecolor\": \"white\", \"showbackground\": true, \"ticks\": \"\", \"zerolinecolor\": \"white\"}, \"zaxis\": {\"backgroundcolor\": \"#E5ECF6\", \"gridcolor\": \"white\", \"gridwidth\": 2, \"linecolor\": \"white\", \"showbackground\": true, \"ticks\": \"\", \"zerolinecolor\": \"white\"}}, \"shapedefaults\": {\"line\": {\"color\": \"#2a3f5f\"}}, \"ternary\": {\"aaxis\": {\"gridcolor\": \"white\", \"linecolor\": \"white\", \"ticks\": \"\"}, \"baxis\": {\"gridcolor\": \"white\", \"linecolor\": \"white\", \"ticks\": \"\"}, \"bgcolor\": \"#E5ECF6\", \"caxis\": {\"gridcolor\": \"white\", \"linecolor\": \"white\", \"ticks\": \"\"}}, \"title\": {\"x\": 0.05}, \"xaxis\": {\"automargin\": true, \"gridcolor\": \"white\", \"linecolor\": \"white\", \"ticks\": \"\", \"title\": {\"standoff\": 15}, \"zerolinecolor\": \"white\", \"zerolinewidth\": 2}, \"yaxis\": {\"automargin\": true, \"gridcolor\": \"white\", \"linecolor\": \"white\", \"ticks\": \"\", \"title\": {\"standoff\": 15}, \"zerolinecolor\": \"white\", \"zerolinewidth\": 2}}}, \"title\": {\"text\": \"Gaps between regions\"}},\n",
       "                        {\"responsive\": true}\n",
       "                    ).then(function(){\n",
       "                            \n",
       "var gd = document.getElementById('e921d7de-c959-4db0-a5cc-f745cb50537d');\n",
       "var x = new MutationObserver(function (mutations, observer) {{\n",
       "        var display = window.getComputedStyle(gd).display;\n",
       "        if (!display || display === 'none') {{\n",
       "            console.log([gd, 'removed!']);\n",
       "            Plotly.purge(gd);\n",
       "            observer.disconnect();\n",
       "        }}\n",
       "}});\n",
       "\n",
       "// Listen for the removal of the full notebook cells\n",
       "var notebookContainer = gd.closest('#notebook-container');\n",
       "if (notebookContainer) {{\n",
       "    x.observe(notebookContainer, {childList: true});\n",
       "}}\n",
       "\n",
       "// Listen for the clearing of the current output cell\n",
       "var outputEl = gd.closest('.output');\n",
       "if (outputEl) {{\n",
       "    x.observe(outputEl, {childList: true});\n",
       "}}\n",
       "\n",
       "                        })\n",
       "                };\n",
       "                });\n",
       "            </script>\n",
       "        </div>"
      ]
     },
     "metadata": {},
     "output_type": "display_data"
    }
   ],
   "source": [
    "labels = pd.concat([gaps['region_origin'], gaps['region_destination']]).unique()\n",
    "d = gaps.groupby(['region_origin', 'region_destination']).size()\n",
    "d = d[d > 1]\n",
    "\n",
    "idx_o = pd.Series(index=d.index, dtype=int)\n",
    "idx_d = pd.Series(index=d.index, dtype=int)\n",
    "for i, l in enumerate(labels):\n",
    "    if l in idx_o.index.get_level_values(0):\n",
    "        idx_o.loc[l] = i\n",
    "    if l in idx_d.index.get_level_values(1):\n",
    "        idx_d.loc[:,l] = i\n",
    "\n",
    "fig = pgo.Figure(data=[pgo.Sankey(\n",
    "    node = dict(\n",
    "      pad = 15,\n",
    "      thickness = 20,\n",
    "      line = dict(color = \"black\", width = 0.5),\n",
    "      label = list(labels),\n",
    "      color = \"blue\"\n",
    "    ),\n",
    "    link = dict(\n",
    "      source = list(idx_o.values),\n",
    "      target = list(idx_d.values),\n",
    "      value = list(d.values)\n",
    "  ))])\n",
    "fig.update_layout(title_text=\"Gaps between regions\", font_size=10)\n",
    "fig.show()"
   ]
  },
  {
   "cell_type": "markdown",
   "metadata": {},
   "source": [
    "# ??"
   ]
  },
  {
   "cell_type": "code",
   "execution_count": 124,
   "metadata": {},
   "outputs": [
    {
     "data": {
      "application/vnd.plotly.v1+json": {
       "config": {
        "plotlyServerURL": "https://plot.ly"
       },
       "data": [
        {
         "dimensions": [
          {
           "axis": {
            "matches": true
           },
           "label": "size",
           "values": [
            1,
            1,
            1,
            1,
            1,
            1,
            1,
            1,
            1,
            1,
            1,
            1,
            2,
            1,
            5,
            2,
            1,
            6,
            1,
            1,
            4,
            1,
            1,
            1,
            1,
            1,
            1,
            1,
            1,
            1,
            1,
            1,
            1,
            4,
            1,
            1,
            1,
            1,
            2,
            1,
            1,
            3,
            1,
            1,
            1,
            1,
            1,
            2,
            1,
            1,
            1,
            1,
            1,
            2,
            1,
            1,
            84,
            125,
            3,
            1,
            2,
            1,
            3,
            2,
            1,
            2,
            3,
            2,
            1,
            1,
            1,
            1,
            3,
            1,
            4,
            1,
            1,
            4,
            1,
            1,
            3,
            1,
            1,
            1,
            4,
            3,
            1,
            8,
            3,
            1,
            1,
            1,
            1,
            2,
            1,
            3,
            2,
            6,
            1,
            1,
            1,
            1,
            2,
            7,
            1,
            1,
            7,
            1,
            2,
            1,
            1,
            1,
            2,
            2,
            1,
            1,
            1,
            6,
            1,
            1,
            1,
            3,
            1,
            1,
            1,
            3,
            1,
            1,
            1,
            3,
            1,
            1,
            1,
            2,
            2,
            3,
            1,
            1,
            1,
            2,
            1,
            1,
            1,
            1,
            5,
            1,
            1,
            1,
            1,
            1,
            5,
            7,
            1,
            11,
            1,
            9,
            2,
            2,
            1,
            3,
            1,
            2,
            1,
            1,
            1,
            1,
            1,
            1,
            1,
            2,
            7,
            2,
            2,
            1,
            1,
            1,
            1,
            1,
            1,
            1,
            1,
            1,
            1,
            1,
            1,
            1,
            1,
            3,
            2,
            1,
            1,
            3,
            1,
            3,
            3,
            1,
            1,
            1,
            1,
            1,
            1,
            1,
            1,
            1,
            1,
            1,
            1,
            1,
            1,
            1,
            1,
            1,
            1,
            1,
            6,
            2,
            1,
            1,
            1,
            3,
            3,
            1,
            2,
            2,
            1,
            1,
            1,
            1,
            2,
            1,
            1,
            2,
            1,
            1,
            1,
            1,
            2,
            1,
            1,
            1,
            1,
            2,
            1,
            1,
            1,
            2,
            1,
            1,
            2,
            3,
            1,
            1,
            1,
            1
           ]
          },
          {
           "axis": {
            "matches": true
           },
           "label": "most_popular_time",
           "values": [
            17,
            18,
            12,
            13,
            14,
            14,
            15,
            16,
            17,
            19,
            14,
            16,
            0,
            19,
            0,
            14,
            21,
            16,
            17,
            18,
            13,
            16,
            16,
            16,
            17,
            15,
            19,
            14,
            15,
            16,
            17,
            18,
            19,
            14,
            15,
            16,
            17,
            19,
            13,
            14,
            17,
            18,
            15,
            15,
            16,
            23,
            20,
            0,
            11,
            12,
            13,
            13,
            14,
            15,
            16,
            7,
            11,
            21,
            17,
            20,
            0,
            18,
            9,
            18,
            18,
            17,
            8,
            9,
            10,
            12,
            12,
            19,
            19,
            18,
            2,
            2,
            3,
            21,
            19,
            21,
            20,
            18,
            21,
            18,
            15,
            14,
            17,
            14,
            0,
            10,
            8,
            23,
            23,
            0,
            2,
            2,
            19,
            7,
            17,
            19,
            23,
            19,
            11,
            3,
            4,
            18,
            21,
            5,
            10,
            21,
            12,
            17,
            11,
            2,
            17,
            18,
            0,
            20,
            19,
            0,
            18,
            18,
            10,
            22,
            16,
            13,
            21,
            17,
            13,
            18,
            9,
            18,
            20,
            12,
            17,
            16,
            9,
            11,
            14,
            21,
            11,
            3,
            17,
            21,
            15,
            18,
            20,
            20,
            18,
            18,
            23,
            19,
            13,
            18,
            19,
            13,
            9,
            20,
            8,
            9,
            9,
            10,
            9,
            22,
            7,
            0,
            2,
            16,
            1,
            13,
            8,
            8,
            14,
            9,
            12,
            10,
            12,
            14,
            14,
            18,
            16,
            20,
            23,
            16,
            5,
            12,
            19,
            10,
            15,
            18,
            10,
            13,
            14,
            19,
            18,
            23,
            9,
            17,
            19,
            18,
            15,
            21,
            15,
            23,
            16,
            18,
            18,
            21,
            16,
            16,
            15,
            23,
            17,
            20,
            0,
            22,
            19,
            20,
            20,
            12,
            13,
            19,
            12,
            16,
            13,
            20,
            19,
            22,
            13,
            13,
            21,
            9,
            22,
            22,
            19,
            23,
            21,
            22,
            21,
            0,
            21,
            17,
            15,
            15,
            13,
            13,
            22,
            9,
            13,
            15,
            15,
            16,
            10,
            12
           ]
          },
          {
           "axis": {
            "matches": true
           },
           "label": "distance_home",
           "values": [
            6445.973908722263,
            6419.876291566449,
            6444.991642375601,
            6444.953603960431,
            6444.515365116084,
            6444.315628369604,
            6445.673283688238,
            6445.343683495573,
            6445.144999634247,
            6419.710599962416,
            6271.668233449937,
            6271.725183612347,
            6270.959677413917,
            6323.973399306714,
            6323.928657434095,
            6315.495150937062,
            6316.872885230897,
            6313.569251020511,
            6313.96255954266,
            6313.72957843019,
            6317.243997892378,
            6329.725372556676,
            6329.627951706136,
            6329.527258180388,
            6327.846102091805,
            6314.159829362132,
            6313.812024927824,
            6319.044605565646,
            6318.970154769255,
            6319.695198837157,
            6318.870039480405,
            6319.624690868723,
            6320.321615934418,
            6311.339701328194,
            6311.612504009753,
            6310.144732163323,
            6312.551623670646,
            6315.333106877477,
            6316.949218820399,
            6310.712679183669,
            6312.506046659739,
            6313.273595250995,
            6317.3301594126715,
            6317.313799031458,
            6317.245358728717,
            6316.767385184642,
            6335.318446012471,
            6336.354253232002,
            6334.827355615816,
            6336.167606934073,
            6330.441679022343,
            6329.432108628925,
            6329.444806081692,
            6329.251874485623,
            6329.31048795737,
            25.75442294979551,
            4.509397148643031,
            0,
            2.8142483923378148,
            2.6136469449925577,
            3.2032256206196252,
            2.384800145644603,
            3.0160363242033585,
            2.2201575089677905,
            0.7576769457814342,
            3.7498173428246107,
            3.814711951522126,
            4.282142541079175,
            2.353484751180705,
            4.7501810704590355,
            4.819511966265429,
            1.8891085306959683,
            2.439873203818382,
            0.2710881193056378,
            4.7899277947035275,
            4.471804042031337,
            1.8775548756474727,
            2.286353442343484,
            2.9602877603420583,
            2.7938164889935764,
            3.239063796670194,
            3.150417769186481,
            2.566661485502741,
            245.67053459256448,
            394.144751085503,
            394.4146499505343,
            396.63248868178175,
            402.9454139078747,
            2.4619691696978894,
            2.3131806193754962,
            1.6092271562604612,
            5.282965270344361,
            3.8038326358946053,
            2.200365283428695,
            1.9538904187087893,
            2.1629869392269185,
            0.7643337084098587,
            2.7141318166933184,
            394.41992170438476,
            395.05925009613884,
            179.18341266435928,
            0.32981717982963904,
            3.30732350805624,
            3.6672456042794073,
            3.2799968080536117,
            389.78606313419,
            2.612825901867539,
            3.7361538055905665,
            4.198735926260387,
            3.5548308329550045,
            4.558312304370008,
            396.92328345269345,
            4.917914879722105,
            2.7963668245205353,
            4.668552135638387,
            3.060787653662974,
            2.6852944984818157,
            0.96778131257615,
            3.3251458066307156,
            2.5987284811035853,
            5.56451997488821,
            4.144576646214601,
            2.3377800100565476,
            4.262571564567984,
            401.6899805827104,
            395.1600350213588,
            1.7843339213552019,
            4.716334121039056,
            401.8719459299396,
            2.0996404522127756,
            0.1947190167584546,
            3.493695200823995,
            63.28345963170129,
            2.7654194864605905,
            3.5708383889144915,
            5.7993966966848625,
            243.99705804212417,
            397.06601487509045,
            397.23457509964356,
            1.0557865771078758,
            401.96522282394153,
            3.516544218860656,
            5.41375188112021,
            1.5360613828389662,
            6.636707970563967,
            87.04974685158115,
            401.70016048643015,
            4.077139820636939,
            1.7141770284522009,
            2.284577418563622,
            150.9410069508174,
            397.32956231002953,
            3.8054084201330656,
            4.02383898909564,
            2.3084445913333944,
            2.7242533275697087,
            1.5070832538282621,
            1420.0296598298053,
            2.7602082164819497,
            37.76685319734801,
            37.964518632780596,
            9677.772021049146,
            9681.882105956933,
            9680.520974751651,
            9679.645170247799,
            9678.35598001141,
            9661.594263431205,
            9685.622831694698,
            1.0393580860757472,
            2.7883733452591777,
            6.259195302843901,
            3.463253584930543,
            6318.642202909845,
            6316.806810925777,
            6271.734744520808,
            6316.105872686524,
            6315.247545977809,
            6315.656527450983,
            6312.971825040153,
            6311.051364792836,
            6318.7032901497405,
            6320.758995807912,
            6316.568064397353,
            6315.896628911835,
            6321.132480188637,
            6.561962738091151,
            19.026611456736262,
            152.1214628973246,
            6.067423811016299,
            4.596309950644054,
            187.6656859213805,
            347.72117678861883,
            30.30594034239893,
            0.2792235336438738,
            1457.6112475616019,
            26.33760386174204,
            28.16016896539088,
            0.8143770493325577,
            0.9394290962873691,
            266.08979866384146,
            166.9666386952945,
            36.414009242883814,
            383.1805515944103,
            6.423569575407251,
            5.609736604417257,
            3.804786467478807,
            2.9198806731297364,
            2.2193814696960867,
            86.63955992162168,
            1429.712111881518,
            1428.75304504938,
            1430.1941235697732,
            398.4122965377957,
            400.67887943546566,
            151.11992510392042,
            148.90022328212711,
            62.77636757524096,
            6.572081892656249,
            396.19741083398327,
            1.6214683338091056,
            48.19901161467884,
            405.94343622482893,
            316.111494838653,
            347.7514734782902,
            346.7617115331601,
            1447.813738334507,
            1448.3479356441878,
            6131.726589128556,
            5706.169729742809,
            5708.872773734723,
            5717.2374212731265,
            5908.103562718964,
            5902.633072052268,
            5881.73664094402,
            5985.715272381318,
            203.09496974606745,
            639.5160758876655,
            659.255771446314,
            694.9416867752676,
            534.5939145331389,
            1444.771778912836,
            387.4876867825578,
            392.88776593777055,
            2.466278386924069,
            1.6912730292859868,
            602.3931181889849,
            621.3158556302081,
            708.8073559517372,
            2104.0265734650225,
            2151.4722198289287,
            335.9223901089004,
            340.4474342985549,
            0.49705800754443297,
            389.62045286190863
           ]
          }
         ],
         "hoverlabel": {
          "namelength": 0
         },
         "hovertemplate": "%{xaxis.title.text}=%{x}<br>%{yaxis.title.text}=%{y}",
         "legendgroup": "",
         "marker": {
          "color": "#636efa",
          "symbol": "circle"
         },
         "name": "",
         "showlegend": false,
         "type": "splom"
        }
       ],
       "layout": {
        "dragmode": "select",
        "legend": {
         "tracegroupgap": 0
        },
        "margin": {
         "t": 60
        },
        "template": {
         "data": {
          "bar": [
           {
            "error_x": {
             "color": "#2a3f5f"
            },
            "error_y": {
             "color": "#2a3f5f"
            },
            "marker": {
             "line": {
              "color": "#E5ECF6",
              "width": 0.5
             }
            },
            "type": "bar"
           }
          ],
          "barpolar": [
           {
            "marker": {
             "line": {
              "color": "#E5ECF6",
              "width": 0.5
             }
            },
            "type": "barpolar"
           }
          ],
          "carpet": [
           {
            "aaxis": {
             "endlinecolor": "#2a3f5f",
             "gridcolor": "white",
             "linecolor": "white",
             "minorgridcolor": "white",
             "startlinecolor": "#2a3f5f"
            },
            "baxis": {
             "endlinecolor": "#2a3f5f",
             "gridcolor": "white",
             "linecolor": "white",
             "minorgridcolor": "white",
             "startlinecolor": "#2a3f5f"
            },
            "type": "carpet"
           }
          ],
          "choropleth": [
           {
            "colorbar": {
             "outlinewidth": 0,
             "ticks": ""
            },
            "type": "choropleth"
           }
          ],
          "contour": [
           {
            "colorbar": {
             "outlinewidth": 0,
             "ticks": ""
            },
            "colorscale": [
             [
              0,
              "#0d0887"
             ],
             [
              0.1111111111111111,
              "#46039f"
             ],
             [
              0.2222222222222222,
              "#7201a8"
             ],
             [
              0.3333333333333333,
              "#9c179e"
             ],
             [
              0.4444444444444444,
              "#bd3786"
             ],
             [
              0.5555555555555556,
              "#d8576b"
             ],
             [
              0.6666666666666666,
              "#ed7953"
             ],
             [
              0.7777777777777778,
              "#fb9f3a"
             ],
             [
              0.8888888888888888,
              "#fdca26"
             ],
             [
              1,
              "#f0f921"
             ]
            ],
            "type": "contour"
           }
          ],
          "contourcarpet": [
           {
            "colorbar": {
             "outlinewidth": 0,
             "ticks": ""
            },
            "type": "contourcarpet"
           }
          ],
          "heatmap": [
           {
            "colorbar": {
             "outlinewidth": 0,
             "ticks": ""
            },
            "colorscale": [
             [
              0,
              "#0d0887"
             ],
             [
              0.1111111111111111,
              "#46039f"
             ],
             [
              0.2222222222222222,
              "#7201a8"
             ],
             [
              0.3333333333333333,
              "#9c179e"
             ],
             [
              0.4444444444444444,
              "#bd3786"
             ],
             [
              0.5555555555555556,
              "#d8576b"
             ],
             [
              0.6666666666666666,
              "#ed7953"
             ],
             [
              0.7777777777777778,
              "#fb9f3a"
             ],
             [
              0.8888888888888888,
              "#fdca26"
             ],
             [
              1,
              "#f0f921"
             ]
            ],
            "type": "heatmap"
           }
          ],
          "heatmapgl": [
           {
            "colorbar": {
             "outlinewidth": 0,
             "ticks": ""
            },
            "colorscale": [
             [
              0,
              "#0d0887"
             ],
             [
              0.1111111111111111,
              "#46039f"
             ],
             [
              0.2222222222222222,
              "#7201a8"
             ],
             [
              0.3333333333333333,
              "#9c179e"
             ],
             [
              0.4444444444444444,
              "#bd3786"
             ],
             [
              0.5555555555555556,
              "#d8576b"
             ],
             [
              0.6666666666666666,
              "#ed7953"
             ],
             [
              0.7777777777777778,
              "#fb9f3a"
             ],
             [
              0.8888888888888888,
              "#fdca26"
             ],
             [
              1,
              "#f0f921"
             ]
            ],
            "type": "heatmapgl"
           }
          ],
          "histogram": [
           {
            "marker": {
             "colorbar": {
              "outlinewidth": 0,
              "ticks": ""
             }
            },
            "type": "histogram"
           }
          ],
          "histogram2d": [
           {
            "colorbar": {
             "outlinewidth": 0,
             "ticks": ""
            },
            "colorscale": [
             [
              0,
              "#0d0887"
             ],
             [
              0.1111111111111111,
              "#46039f"
             ],
             [
              0.2222222222222222,
              "#7201a8"
             ],
             [
              0.3333333333333333,
              "#9c179e"
             ],
             [
              0.4444444444444444,
              "#bd3786"
             ],
             [
              0.5555555555555556,
              "#d8576b"
             ],
             [
              0.6666666666666666,
              "#ed7953"
             ],
             [
              0.7777777777777778,
              "#fb9f3a"
             ],
             [
              0.8888888888888888,
              "#fdca26"
             ],
             [
              1,
              "#f0f921"
             ]
            ],
            "type": "histogram2d"
           }
          ],
          "histogram2dcontour": [
           {
            "colorbar": {
             "outlinewidth": 0,
             "ticks": ""
            },
            "colorscale": [
             [
              0,
              "#0d0887"
             ],
             [
              0.1111111111111111,
              "#46039f"
             ],
             [
              0.2222222222222222,
              "#7201a8"
             ],
             [
              0.3333333333333333,
              "#9c179e"
             ],
             [
              0.4444444444444444,
              "#bd3786"
             ],
             [
              0.5555555555555556,
              "#d8576b"
             ],
             [
              0.6666666666666666,
              "#ed7953"
             ],
             [
              0.7777777777777778,
              "#fb9f3a"
             ],
             [
              0.8888888888888888,
              "#fdca26"
             ],
             [
              1,
              "#f0f921"
             ]
            ],
            "type": "histogram2dcontour"
           }
          ],
          "mesh3d": [
           {
            "colorbar": {
             "outlinewidth": 0,
             "ticks": ""
            },
            "type": "mesh3d"
           }
          ],
          "parcoords": [
           {
            "line": {
             "colorbar": {
              "outlinewidth": 0,
              "ticks": ""
             }
            },
            "type": "parcoords"
           }
          ],
          "pie": [
           {
            "automargin": true,
            "type": "pie"
           }
          ],
          "scatter": [
           {
            "marker": {
             "colorbar": {
              "outlinewidth": 0,
              "ticks": ""
             }
            },
            "type": "scatter"
           }
          ],
          "scatter3d": [
           {
            "line": {
             "colorbar": {
              "outlinewidth": 0,
              "ticks": ""
             }
            },
            "marker": {
             "colorbar": {
              "outlinewidth": 0,
              "ticks": ""
             }
            },
            "type": "scatter3d"
           }
          ],
          "scattercarpet": [
           {
            "marker": {
             "colorbar": {
              "outlinewidth": 0,
              "ticks": ""
             }
            },
            "type": "scattercarpet"
           }
          ],
          "scattergeo": [
           {
            "marker": {
             "colorbar": {
              "outlinewidth": 0,
              "ticks": ""
             }
            },
            "type": "scattergeo"
           }
          ],
          "scattergl": [
           {
            "marker": {
             "colorbar": {
              "outlinewidth": 0,
              "ticks": ""
             }
            },
            "type": "scattergl"
           }
          ],
          "scattermapbox": [
           {
            "marker": {
             "colorbar": {
              "outlinewidth": 0,
              "ticks": ""
             }
            },
            "type": "scattermapbox"
           }
          ],
          "scatterpolar": [
           {
            "marker": {
             "colorbar": {
              "outlinewidth": 0,
              "ticks": ""
             }
            },
            "type": "scatterpolar"
           }
          ],
          "scatterpolargl": [
           {
            "marker": {
             "colorbar": {
              "outlinewidth": 0,
              "ticks": ""
             }
            },
            "type": "scatterpolargl"
           }
          ],
          "scatterternary": [
           {
            "marker": {
             "colorbar": {
              "outlinewidth": 0,
              "ticks": ""
             }
            },
            "type": "scatterternary"
           }
          ],
          "surface": [
           {
            "colorbar": {
             "outlinewidth": 0,
             "ticks": ""
            },
            "colorscale": [
             [
              0,
              "#0d0887"
             ],
             [
              0.1111111111111111,
              "#46039f"
             ],
             [
              0.2222222222222222,
              "#7201a8"
             ],
             [
              0.3333333333333333,
              "#9c179e"
             ],
             [
              0.4444444444444444,
              "#bd3786"
             ],
             [
              0.5555555555555556,
              "#d8576b"
             ],
             [
              0.6666666666666666,
              "#ed7953"
             ],
             [
              0.7777777777777778,
              "#fb9f3a"
             ],
             [
              0.8888888888888888,
              "#fdca26"
             ],
             [
              1,
              "#f0f921"
             ]
            ],
            "type": "surface"
           }
          ],
          "table": [
           {
            "cells": {
             "fill": {
              "color": "#EBF0F8"
             },
             "line": {
              "color": "white"
             }
            },
            "header": {
             "fill": {
              "color": "#C8D4E3"
             },
             "line": {
              "color": "white"
             }
            },
            "type": "table"
           }
          ]
         },
         "layout": {
          "annotationdefaults": {
           "arrowcolor": "#2a3f5f",
           "arrowhead": 0,
           "arrowwidth": 1
          },
          "coloraxis": {
           "colorbar": {
            "outlinewidth": 0,
            "ticks": ""
           }
          },
          "colorscale": {
           "diverging": [
            [
             0,
             "#8e0152"
            ],
            [
             0.1,
             "#c51b7d"
            ],
            [
             0.2,
             "#de77ae"
            ],
            [
             0.3,
             "#f1b6da"
            ],
            [
             0.4,
             "#fde0ef"
            ],
            [
             0.5,
             "#f7f7f7"
            ],
            [
             0.6,
             "#e6f5d0"
            ],
            [
             0.7,
             "#b8e186"
            ],
            [
             0.8,
             "#7fbc41"
            ],
            [
             0.9,
             "#4d9221"
            ],
            [
             1,
             "#276419"
            ]
           ],
           "sequential": [
            [
             0,
             "#0d0887"
            ],
            [
             0.1111111111111111,
             "#46039f"
            ],
            [
             0.2222222222222222,
             "#7201a8"
            ],
            [
             0.3333333333333333,
             "#9c179e"
            ],
            [
             0.4444444444444444,
             "#bd3786"
            ],
            [
             0.5555555555555556,
             "#d8576b"
            ],
            [
             0.6666666666666666,
             "#ed7953"
            ],
            [
             0.7777777777777778,
             "#fb9f3a"
            ],
            [
             0.8888888888888888,
             "#fdca26"
            ],
            [
             1,
             "#f0f921"
            ]
           ],
           "sequentialminus": [
            [
             0,
             "#0d0887"
            ],
            [
             0.1111111111111111,
             "#46039f"
            ],
            [
             0.2222222222222222,
             "#7201a8"
            ],
            [
             0.3333333333333333,
             "#9c179e"
            ],
            [
             0.4444444444444444,
             "#bd3786"
            ],
            [
             0.5555555555555556,
             "#d8576b"
            ],
            [
             0.6666666666666666,
             "#ed7953"
            ],
            [
             0.7777777777777778,
             "#fb9f3a"
            ],
            [
             0.8888888888888888,
             "#fdca26"
            ],
            [
             1,
             "#f0f921"
            ]
           ]
          },
          "colorway": [
           "#636efa",
           "#EF553B",
           "#00cc96",
           "#ab63fa",
           "#FFA15A",
           "#19d3f3",
           "#FF6692",
           "#B6E880",
           "#FF97FF",
           "#FECB52"
          ],
          "font": {
           "color": "#2a3f5f"
          },
          "geo": {
           "bgcolor": "white",
           "lakecolor": "white",
           "landcolor": "#E5ECF6",
           "showlakes": true,
           "showland": true,
           "subunitcolor": "white"
          },
          "hoverlabel": {
           "align": "left"
          },
          "hovermode": "closest",
          "mapbox": {
           "style": "light"
          },
          "paper_bgcolor": "white",
          "plot_bgcolor": "#E5ECF6",
          "polar": {
           "angularaxis": {
            "gridcolor": "white",
            "linecolor": "white",
            "ticks": ""
           },
           "bgcolor": "#E5ECF6",
           "radialaxis": {
            "gridcolor": "white",
            "linecolor": "white",
            "ticks": ""
           }
          },
          "scene": {
           "xaxis": {
            "backgroundcolor": "#E5ECF6",
            "gridcolor": "white",
            "gridwidth": 2,
            "linecolor": "white",
            "showbackground": true,
            "ticks": "",
            "zerolinecolor": "white"
           },
           "yaxis": {
            "backgroundcolor": "#E5ECF6",
            "gridcolor": "white",
            "gridwidth": 2,
            "linecolor": "white",
            "showbackground": true,
            "ticks": "",
            "zerolinecolor": "white"
           },
           "zaxis": {
            "backgroundcolor": "#E5ECF6",
            "gridcolor": "white",
            "gridwidth": 2,
            "linecolor": "white",
            "showbackground": true,
            "ticks": "",
            "zerolinecolor": "white"
           }
          },
          "shapedefaults": {
           "line": {
            "color": "#2a3f5f"
           }
          },
          "ternary": {
           "aaxis": {
            "gridcolor": "white",
            "linecolor": "white",
            "ticks": ""
           },
           "baxis": {
            "gridcolor": "white",
            "linecolor": "white",
            "ticks": ""
           },
           "bgcolor": "#E5ECF6",
           "caxis": {
            "gridcolor": "white",
            "linecolor": "white",
            "ticks": ""
           }
          },
          "title": {
           "x": 0.05
          },
          "xaxis": {
           "automargin": true,
           "gridcolor": "white",
           "linecolor": "white",
           "ticks": "",
           "title": {
            "standoff": 15
           },
           "zerolinecolor": "white",
           "zerolinewidth": 2
          },
          "yaxis": {
           "automargin": true,
           "gridcolor": "white",
           "linecolor": "white",
           "ticks": "",
           "title": {
            "standoff": 15
           },
           "zerolinecolor": "white",
           "zerolinewidth": 2
          }
         }
        }
       }
      },
      "text/html": [
       "<div>\n",
       "        \n",
       "        \n",
       "            <div id=\"7ec3a75b-a3c4-40f0-8525-f63fe13a55cb\" class=\"plotly-graph-div\" style=\"height:525px; width:100%;\"></div>\n",
       "            <script type=\"text/javascript\">\n",
       "                require([\"plotly\"], function(Plotly) {\n",
       "                    window.PLOTLYENV=window.PLOTLYENV || {};\n",
       "                    \n",
       "                if (document.getElementById(\"7ec3a75b-a3c4-40f0-8525-f63fe13a55cb\")) {\n",
       "                    Plotly.newPlot(\n",
       "                        '7ec3a75b-a3c4-40f0-8525-f63fe13a55cb',\n",
       "                        [{\"dimensions\": [{\"axis\": {\"matches\": true}, \"label\": \"size\", \"values\": [1, 1, 1, 1, 1, 1, 1, 1, 1, 1, 1, 1, 2, 1, 5, 2, 1, 6, 1, 1, 4, 1, 1, 1, 1, 1, 1, 1, 1, 1, 1, 1, 1, 4, 1, 1, 1, 1, 2, 1, 1, 3, 1, 1, 1, 1, 1, 2, 1, 1, 1, 1, 1, 2, 1, 1, 84, 125, 3, 1, 2, 1, 3, 2, 1, 2, 3, 2, 1, 1, 1, 1, 3, 1, 4, 1, 1, 4, 1, 1, 3, 1, 1, 1, 4, 3, 1, 8, 3, 1, 1, 1, 1, 2, 1, 3, 2, 6, 1, 1, 1, 1, 2, 7, 1, 1, 7, 1, 2, 1, 1, 1, 2, 2, 1, 1, 1, 6, 1, 1, 1, 3, 1, 1, 1, 3, 1, 1, 1, 3, 1, 1, 1, 2, 2, 3, 1, 1, 1, 2, 1, 1, 1, 1, 5, 1, 1, 1, 1, 1, 5, 7, 1, 11, 1, 9, 2, 2, 1, 3, 1, 2, 1, 1, 1, 1, 1, 1, 1, 2, 7, 2, 2, 1, 1, 1, 1, 1, 1, 1, 1, 1, 1, 1, 1, 1, 1, 3, 2, 1, 1, 3, 1, 3, 3, 1, 1, 1, 1, 1, 1, 1, 1, 1, 1, 1, 1, 1, 1, 1, 1, 1, 1, 1, 6, 2, 1, 1, 1, 3, 3, 1, 2, 2, 1, 1, 1, 1, 2, 1, 1, 2, 1, 1, 1, 1, 2, 1, 1, 1, 1, 2, 1, 1, 1, 2, 1, 1, 2, 3, 1, 1, 1, 1]}, {\"axis\": {\"matches\": true}, \"label\": \"most_popular_time\", \"values\": [17.0, 18.0, 12.0, 13.0, 14.0, 14.0, 15.0, 16.0, 17.0, 19.0, 14.0, 16.0, 0.0, 19.0, 0.0, 14.0, 21.0, 16.0, 17.0, 18.0, 13.0, 16.0, 16.0, 16.0, 17.0, 15.0, 19.0, 14.0, 15.0, 16.0, 17.0, 18.0, 19.0, 14.0, 15.0, 16.0, 17.0, 19.0, 13.0, 14.0, 17.0, 18.0, 15.0, 15.0, 16.0, 23.0, 20.0, 0.0, 11.0, 12.0, 13.0, 13.0, 14.0, 15.0, 16.0, 7.0, 11.0, 21.0, 17.0, 20.0, 0.0, 18.0, 9.0, 18.0, 18.0, 17.0, 8.0, 9.0, 10.0, 12.0, 12.0, 19.0, 19.0, 18.0, 2.0, 2.0, 3.0, 21.0, 19.0, 21.0, 20.0, 18.0, 21.0, 18.0, 15.0, 14.0, 17.0, 14.0, 0.0, 10.0, 8.0, 23.0, 23.0, 0.0, 2.0, 2.0, 19.0, 7.0, 17.0, 19.0, 23.0, 19.0, 11.0, 3.0, 4.0, 18.0, 21.0, 5.0, 10.0, 21.0, 12.0, 17.0, 11.0, 2.0, 17.0, 18.0, 0.0, 20.0, 19.0, 0.0, 18.0, 18.0, 10.0, 22.0, 16.0, 13.0, 21.0, 17.0, 13.0, 18.0, 9.0, 18.0, 20.0, 12.0, 17.0, 16.0, 9.0, 11.0, 14.0, 21.0, 11.0, 3.0, 17.0, 21.0, 15.0, 18.0, 20.0, 20.0, 18.0, 18.0, 23.0, 19.0, 13.0, 18.0, 19.0, 13.0, 9.0, 20.0, 8.0, 9.0, 9.0, 10.0, 9.0, 22.0, 7.0, 0.0, 2.0, 16.0, 1.0, 13.0, 8.0, 8.0, 14.0, 9.0, 12.0, 10.0, 12.0, 14.0, 14.0, 18.0, 16.0, 20.0, 23.0, 16.0, 5.0, 12.0, 19.0, 10.0, 15.0, 18.0, 10.0, 13.0, 14.0, 19.0, 18.0, 23.0, 9.0, 17.0, 19.0, 18.0, 15.0, 21.0, 15.0, 23.0, 16.0, 18.0, 18.0, 21.0, 16.0, 16.0, 15.0, 23.0, 17.0, 20.0, 0.0, 22.0, 19.0, 20.0, 20.0, 12.0, 13.0, 19.0, 12.0, 16.0, 13.0, 20.0, 19.0, 22.0, 13.0, 13.0, 21.0, 9.0, 22.0, 22.0, 19.0, 23.0, 21.0, 22.0, 21.0, 0.0, 21.0, 17.0, 15.0, 15.0, 13.0, 13.0, 22.0, 9.0, 13.0, 15.0, 15.0, 16.0, 10.0, 12.0]}, {\"axis\": {\"matches\": true}, \"label\": \"distance_home\", \"values\": [6445.973908722263, 6419.876291566449, 6444.991642375601, 6444.953603960431, 6444.515365116084, 6444.315628369604, 6445.673283688238, 6445.343683495573, 6445.144999634247, 6419.710599962416, 6271.668233449937, 6271.725183612347, 6270.959677413917, 6323.973399306714, 6323.928657434095, 6315.495150937062, 6316.872885230897, 6313.569251020511, 6313.96255954266, 6313.72957843019, 6317.243997892378, 6329.725372556676, 6329.627951706136, 6329.527258180388, 6327.846102091805, 6314.159829362132, 6313.812024927824, 6319.044605565646, 6318.970154769255, 6319.695198837157, 6318.870039480405, 6319.624690868723, 6320.321615934418, 6311.339701328194, 6311.612504009753, 6310.144732163323, 6312.551623670646, 6315.333106877477, 6316.949218820399, 6310.712679183669, 6312.506046659739, 6313.273595250995, 6317.3301594126715, 6317.313799031458, 6317.245358728717, 6316.767385184642, 6335.318446012471, 6336.354253232002, 6334.827355615816, 6336.167606934073, 6330.441679022343, 6329.432108628925, 6329.444806081692, 6329.251874485623, 6329.31048795737, 25.75442294979551, 4.509397148643031, 0.0, 2.8142483923378148, 2.6136469449925577, 3.2032256206196252, 2.384800145644603, 3.0160363242033585, 2.2201575089677905, 0.7576769457814342, 3.7498173428246107, 3.814711951522126, 4.282142541079175, 2.353484751180705, 4.7501810704590355, 4.819511966265429, 1.8891085306959683, 2.439873203818382, 0.2710881193056378, 4.7899277947035275, 4.471804042031337, 1.8775548756474727, 2.286353442343484, 2.9602877603420583, 2.7938164889935764, 3.239063796670194, 3.150417769186481, 2.566661485502741, 245.67053459256448, 394.144751085503, 394.4146499505343, 396.63248868178175, 402.9454139078747, 2.4619691696978894, 2.3131806193754962, 1.6092271562604612, 5.282965270344361, 3.8038326358946053, 2.200365283428695, 1.9538904187087893, 2.1629869392269185, 0.7643337084098587, 2.7141318166933184, 394.41992170438476, 395.05925009613884, 179.18341266435928, 0.32981717982963904, 3.30732350805624, 3.6672456042794073, 3.2799968080536117, 389.78606313419, 2.612825901867539, 3.7361538055905665, 4.198735926260387, 3.5548308329550045, 4.558312304370008, 396.92328345269345, 4.917914879722105, 2.7963668245205353, 4.668552135638387, 3.060787653662974, 2.6852944984818157, 0.96778131257615, 3.3251458066307156, 2.5987284811035853, 5.56451997488821, 4.144576646214601, 2.3377800100565476, 4.262571564567984, 401.6899805827104, 395.1600350213588, 1.7843339213552019, 4.716334121039056, 401.8719459299396, 2.0996404522127756, 0.1947190167584546, 3.493695200823995, 63.28345963170129, 2.7654194864605905, 3.5708383889144915, 5.7993966966848625, 243.99705804212417, 397.06601487509045, 397.23457509964356, 1.0557865771078758, 401.96522282394153, 3.516544218860656, 5.41375188112021, 1.5360613828389662, 6.636707970563967, 87.04974685158115, 401.70016048643015, 4.077139820636939, 1.7141770284522009, 2.284577418563622, 150.9410069508174, 397.32956231002953, 3.8054084201330656, 4.02383898909564, 2.3084445913333944, 2.7242533275697087, 1.5070832538282621, 1420.0296598298053, 2.7602082164819497, 37.76685319734801, 37.964518632780596, 9677.772021049146, 9681.882105956933, 9680.520974751651, 9679.645170247799, 9678.35598001141, 9661.594263431205, 9685.622831694698, 1.0393580860757472, 2.7883733452591777, 6.259195302843901, 3.463253584930543, 6318.642202909845, 6316.806810925777, 6271.734744520808, 6316.105872686524, 6315.247545977809, 6315.656527450983, 6312.971825040153, 6311.051364792836, 6318.7032901497405, 6320.758995807912, 6316.568064397353, 6315.896628911835, 6321.132480188637, 6.561962738091151, 19.026611456736262, 152.1214628973246, 6.067423811016299, 4.596309950644054, 187.6656859213805, 347.72117678861883, 30.30594034239893, 0.2792235336438738, 1457.6112475616019, 26.33760386174204, 28.16016896539088, 0.8143770493325577, 0.9394290962873691, 266.08979866384146, 166.9666386952945, 36.414009242883814, 383.1805515944103, 6.423569575407251, 5.609736604417257, 3.804786467478807, 2.9198806731297364, 2.2193814696960867, 86.63955992162168, 1429.712111881518, 1428.75304504938, 1430.1941235697732, 398.4122965377957, 400.67887943546566, 151.11992510392042, 148.90022328212711, 62.77636757524096, 6.572081892656249, 396.19741083398327, 1.6214683338091056, 48.19901161467884, 405.94343622482893, 316.111494838653, 347.7514734782902, 346.7617115331601, 1447.813738334507, 1448.3479356441878, 6131.726589128556, 5706.169729742809, 5708.872773734723, 5717.2374212731265, 5908.103562718964, 5902.633072052268, 5881.73664094402, 5985.715272381318, 203.09496974606745, 639.5160758876655, 659.255771446314, 694.9416867752676, 534.5939145331389, 1444.771778912836, 387.4876867825578, 392.88776593777055, 2.466278386924069, 1.6912730292859868, 602.3931181889849, 621.3158556302081, 708.8073559517372, 2104.0265734650225, 2151.4722198289287, 335.9223901089004, 340.4474342985549, 0.49705800754443297, 389.62045286190863]}], \"hoverlabel\": {\"namelength\": 0}, \"hovertemplate\": \"%{xaxis.title.text}=%{x}<br>%{yaxis.title.text}=%{y}\", \"legendgroup\": \"\", \"marker\": {\"color\": \"#636efa\", \"symbol\": \"circle\"}, \"name\": \"\", \"showlegend\": false, \"type\": \"splom\"}],\n",
       "                        {\"dragmode\": \"select\", \"legend\": {\"tracegroupgap\": 0}, \"margin\": {\"t\": 60}, \"template\": {\"data\": {\"bar\": [{\"error_x\": {\"color\": \"#2a3f5f\"}, \"error_y\": {\"color\": \"#2a3f5f\"}, \"marker\": {\"line\": {\"color\": \"#E5ECF6\", \"width\": 0.5}}, \"type\": \"bar\"}], \"barpolar\": [{\"marker\": {\"line\": {\"color\": \"#E5ECF6\", \"width\": 0.5}}, \"type\": \"barpolar\"}], \"carpet\": [{\"aaxis\": {\"endlinecolor\": \"#2a3f5f\", \"gridcolor\": \"white\", \"linecolor\": \"white\", \"minorgridcolor\": \"white\", \"startlinecolor\": \"#2a3f5f\"}, \"baxis\": {\"endlinecolor\": \"#2a3f5f\", \"gridcolor\": \"white\", \"linecolor\": \"white\", \"minorgridcolor\": \"white\", \"startlinecolor\": \"#2a3f5f\"}, \"type\": \"carpet\"}], \"choropleth\": [{\"colorbar\": {\"outlinewidth\": 0, \"ticks\": \"\"}, \"type\": \"choropleth\"}], \"contour\": [{\"colorbar\": {\"outlinewidth\": 0, \"ticks\": \"\"}, \"colorscale\": [[0.0, \"#0d0887\"], [0.1111111111111111, \"#46039f\"], [0.2222222222222222, \"#7201a8\"], [0.3333333333333333, \"#9c179e\"], [0.4444444444444444, \"#bd3786\"], [0.5555555555555556, \"#d8576b\"], [0.6666666666666666, \"#ed7953\"], [0.7777777777777778, \"#fb9f3a\"], [0.8888888888888888, \"#fdca26\"], [1.0, \"#f0f921\"]], \"type\": \"contour\"}], \"contourcarpet\": [{\"colorbar\": {\"outlinewidth\": 0, \"ticks\": \"\"}, \"type\": \"contourcarpet\"}], \"heatmap\": [{\"colorbar\": {\"outlinewidth\": 0, \"ticks\": \"\"}, \"colorscale\": [[0.0, \"#0d0887\"], [0.1111111111111111, \"#46039f\"], [0.2222222222222222, \"#7201a8\"], [0.3333333333333333, \"#9c179e\"], [0.4444444444444444, \"#bd3786\"], [0.5555555555555556, \"#d8576b\"], [0.6666666666666666, \"#ed7953\"], [0.7777777777777778, \"#fb9f3a\"], [0.8888888888888888, \"#fdca26\"], [1.0, \"#f0f921\"]], \"type\": \"heatmap\"}], \"heatmapgl\": [{\"colorbar\": {\"outlinewidth\": 0, \"ticks\": \"\"}, \"colorscale\": [[0.0, \"#0d0887\"], [0.1111111111111111, \"#46039f\"], [0.2222222222222222, \"#7201a8\"], [0.3333333333333333, \"#9c179e\"], [0.4444444444444444, \"#bd3786\"], [0.5555555555555556, \"#d8576b\"], [0.6666666666666666, \"#ed7953\"], [0.7777777777777778, \"#fb9f3a\"], [0.8888888888888888, \"#fdca26\"], [1.0, \"#f0f921\"]], \"type\": \"heatmapgl\"}], \"histogram\": [{\"marker\": {\"colorbar\": {\"outlinewidth\": 0, \"ticks\": \"\"}}, \"type\": \"histogram\"}], \"histogram2d\": [{\"colorbar\": {\"outlinewidth\": 0, \"ticks\": \"\"}, \"colorscale\": [[0.0, \"#0d0887\"], [0.1111111111111111, \"#46039f\"], [0.2222222222222222, \"#7201a8\"], [0.3333333333333333, \"#9c179e\"], [0.4444444444444444, \"#bd3786\"], [0.5555555555555556, \"#d8576b\"], [0.6666666666666666, \"#ed7953\"], [0.7777777777777778, \"#fb9f3a\"], [0.8888888888888888, \"#fdca26\"], [1.0, \"#f0f921\"]], \"type\": \"histogram2d\"}], \"histogram2dcontour\": [{\"colorbar\": {\"outlinewidth\": 0, \"ticks\": \"\"}, \"colorscale\": [[0.0, \"#0d0887\"], [0.1111111111111111, \"#46039f\"], [0.2222222222222222, \"#7201a8\"], [0.3333333333333333, \"#9c179e\"], [0.4444444444444444, \"#bd3786\"], [0.5555555555555556, \"#d8576b\"], [0.6666666666666666, \"#ed7953\"], [0.7777777777777778, \"#fb9f3a\"], [0.8888888888888888, \"#fdca26\"], [1.0, \"#f0f921\"]], \"type\": \"histogram2dcontour\"}], \"mesh3d\": [{\"colorbar\": {\"outlinewidth\": 0, \"ticks\": \"\"}, \"type\": \"mesh3d\"}], \"parcoords\": [{\"line\": {\"colorbar\": {\"outlinewidth\": 0, \"ticks\": \"\"}}, \"type\": \"parcoords\"}], \"pie\": [{\"automargin\": true, \"type\": \"pie\"}], \"scatter\": [{\"marker\": {\"colorbar\": {\"outlinewidth\": 0, \"ticks\": \"\"}}, \"type\": \"scatter\"}], \"scatter3d\": [{\"line\": {\"colorbar\": {\"outlinewidth\": 0, \"ticks\": \"\"}}, \"marker\": {\"colorbar\": {\"outlinewidth\": 0, \"ticks\": \"\"}}, \"type\": \"scatter3d\"}], \"scattercarpet\": [{\"marker\": {\"colorbar\": {\"outlinewidth\": 0, \"ticks\": \"\"}}, \"type\": \"scattercarpet\"}], \"scattergeo\": [{\"marker\": {\"colorbar\": {\"outlinewidth\": 0, \"ticks\": \"\"}}, \"type\": \"scattergeo\"}], \"scattergl\": [{\"marker\": {\"colorbar\": {\"outlinewidth\": 0, \"ticks\": \"\"}}, \"type\": \"scattergl\"}], \"scattermapbox\": [{\"marker\": {\"colorbar\": {\"outlinewidth\": 0, \"ticks\": \"\"}}, \"type\": \"scattermapbox\"}], \"scatterpolar\": [{\"marker\": {\"colorbar\": {\"outlinewidth\": 0, \"ticks\": \"\"}}, \"type\": \"scatterpolar\"}], \"scatterpolargl\": [{\"marker\": {\"colorbar\": {\"outlinewidth\": 0, \"ticks\": \"\"}}, \"type\": \"scatterpolargl\"}], \"scatterternary\": [{\"marker\": {\"colorbar\": {\"outlinewidth\": 0, \"ticks\": \"\"}}, \"type\": \"scatterternary\"}], \"surface\": [{\"colorbar\": {\"outlinewidth\": 0, \"ticks\": \"\"}, \"colorscale\": [[0.0, \"#0d0887\"], [0.1111111111111111, \"#46039f\"], [0.2222222222222222, \"#7201a8\"], [0.3333333333333333, \"#9c179e\"], [0.4444444444444444, \"#bd3786\"], [0.5555555555555556, \"#d8576b\"], [0.6666666666666666, \"#ed7953\"], [0.7777777777777778, \"#fb9f3a\"], [0.8888888888888888, \"#fdca26\"], [1.0, \"#f0f921\"]], \"type\": \"surface\"}], \"table\": [{\"cells\": {\"fill\": {\"color\": \"#EBF0F8\"}, \"line\": {\"color\": \"white\"}}, \"header\": {\"fill\": {\"color\": \"#C8D4E3\"}, \"line\": {\"color\": \"white\"}}, \"type\": \"table\"}]}, \"layout\": {\"annotationdefaults\": {\"arrowcolor\": \"#2a3f5f\", \"arrowhead\": 0, \"arrowwidth\": 1}, \"coloraxis\": {\"colorbar\": {\"outlinewidth\": 0, \"ticks\": \"\"}}, \"colorscale\": {\"diverging\": [[0, \"#8e0152\"], [0.1, \"#c51b7d\"], [0.2, \"#de77ae\"], [0.3, \"#f1b6da\"], [0.4, \"#fde0ef\"], [0.5, \"#f7f7f7\"], [0.6, \"#e6f5d0\"], [0.7, \"#b8e186\"], [0.8, \"#7fbc41\"], [0.9, \"#4d9221\"], [1, \"#276419\"]], \"sequential\": [[0.0, \"#0d0887\"], [0.1111111111111111, \"#46039f\"], [0.2222222222222222, \"#7201a8\"], [0.3333333333333333, \"#9c179e\"], [0.4444444444444444, \"#bd3786\"], [0.5555555555555556, \"#d8576b\"], [0.6666666666666666, \"#ed7953\"], [0.7777777777777778, \"#fb9f3a\"], [0.8888888888888888, \"#fdca26\"], [1.0, \"#f0f921\"]], \"sequentialminus\": [[0.0, \"#0d0887\"], [0.1111111111111111, \"#46039f\"], [0.2222222222222222, \"#7201a8\"], [0.3333333333333333, \"#9c179e\"], [0.4444444444444444, \"#bd3786\"], [0.5555555555555556, \"#d8576b\"], [0.6666666666666666, \"#ed7953\"], [0.7777777777777778, \"#fb9f3a\"], [0.8888888888888888, \"#fdca26\"], [1.0, \"#f0f921\"]]}, \"colorway\": [\"#636efa\", \"#EF553B\", \"#00cc96\", \"#ab63fa\", \"#FFA15A\", \"#19d3f3\", \"#FF6692\", \"#B6E880\", \"#FF97FF\", \"#FECB52\"], \"font\": {\"color\": \"#2a3f5f\"}, \"geo\": {\"bgcolor\": \"white\", \"lakecolor\": \"white\", \"landcolor\": \"#E5ECF6\", \"showlakes\": true, \"showland\": true, \"subunitcolor\": \"white\"}, \"hoverlabel\": {\"align\": \"left\"}, \"hovermode\": \"closest\", \"mapbox\": {\"style\": \"light\"}, \"paper_bgcolor\": \"white\", \"plot_bgcolor\": \"#E5ECF6\", \"polar\": {\"angularaxis\": {\"gridcolor\": \"white\", \"linecolor\": \"white\", \"ticks\": \"\"}, \"bgcolor\": \"#E5ECF6\", \"radialaxis\": {\"gridcolor\": \"white\", \"linecolor\": \"white\", \"ticks\": \"\"}}, \"scene\": {\"xaxis\": {\"backgroundcolor\": \"#E5ECF6\", \"gridcolor\": \"white\", \"gridwidth\": 2, \"linecolor\": \"white\", \"showbackground\": true, \"ticks\": \"\", \"zerolinecolor\": \"white\"}, \"yaxis\": {\"backgroundcolor\": \"#E5ECF6\", \"gridcolor\": \"white\", \"gridwidth\": 2, \"linecolor\": \"white\", \"showbackground\": true, \"ticks\": \"\", \"zerolinecolor\": \"white\"}, \"zaxis\": {\"backgroundcolor\": \"#E5ECF6\", \"gridcolor\": \"white\", \"gridwidth\": 2, \"linecolor\": \"white\", \"showbackground\": true, \"ticks\": \"\", \"zerolinecolor\": \"white\"}}, \"shapedefaults\": {\"line\": {\"color\": \"#2a3f5f\"}}, \"ternary\": {\"aaxis\": {\"gridcolor\": \"white\", \"linecolor\": \"white\", \"ticks\": \"\"}, \"baxis\": {\"gridcolor\": \"white\", \"linecolor\": \"white\", \"ticks\": \"\"}, \"bgcolor\": \"#E5ECF6\", \"caxis\": {\"gridcolor\": \"white\", \"linecolor\": \"white\", \"ticks\": \"\"}}, \"title\": {\"x\": 0.05}, \"xaxis\": {\"automargin\": true, \"gridcolor\": \"white\", \"linecolor\": \"white\", \"ticks\": \"\", \"title\": {\"standoff\": 15}, \"zerolinecolor\": \"white\", \"zerolinewidth\": 2}, \"yaxis\": {\"automargin\": true, \"gridcolor\": \"white\", \"linecolor\": \"white\", \"ticks\": \"\", \"title\": {\"standoff\": 15}, \"zerolinecolor\": \"white\", \"zerolinewidth\": 2}}}},\n",
       "                        {\"responsive\": true}\n",
       "                    ).then(function(){\n",
       "                            \n",
       "var gd = document.getElementById('7ec3a75b-a3c4-40f0-8525-f63fe13a55cb');\n",
       "var x = new MutationObserver(function (mutations, observer) {{\n",
       "        var display = window.getComputedStyle(gd).display;\n",
       "        if (!display || display === 'none') {{\n",
       "            console.log([gd, 'removed!']);\n",
       "            Plotly.purge(gd);\n",
       "            observer.disconnect();\n",
       "        }}\n",
       "}});\n",
       "\n",
       "// Listen for the removal of the full notebook cells\n",
       "var notebookContainer = gd.closest('#notebook-container');\n",
       "if (notebookContainer) {{\n",
       "    x.observe(notebookContainer, {childList: true});\n",
       "}}\n",
       "\n",
       "// Listen for the clearing of the current output cell\n",
       "var outputEl = gd.closest('.output');\n",
       "if (outputEl) {{\n",
       "    x.observe(outputEl, {childList: true});\n",
       "}}\n",
       "\n",
       "                        })\n",
       "                };\n",
       "                });\n",
       "            </script>\n",
       "        </div>"
      ]
     },
     "metadata": {},
     "output_type": "display_data"
    }
   ],
   "source": [
    "us = u.set_index(['region'])\n",
    "home = us.query('label == \"home\"').head(1)\n",
    "regions = pd.DataFrame(index=us.index.unique())\n",
    "regions = regions.assign(size=us.groupby('region').size())\n",
    "regions = regions.assign(\n",
    "    most_popular_time= us.groupby(['region', 'hourofday']).size() \\\n",
    "        .groupby('region').nlargest(1).to_frame() \\\n",
    "        .reset_index(1, drop=True).reset_index('hourofday')['hourofday'],\n",
    ")\n",
    "regions = regions.assign(\n",
    "    distance_home = (haversine_distances(\n",
    "        X=np.radians(us.groupby('region').head(1)[['latitude', 'longitude']].values),\n",
    "        Y=np.radians(home[['latitude', 'longitude']].values),\n",
    "    )*6371.0088)[:,0]\n",
    ")   \n",
    "px.scatter_matrix(regions)"
   ]
  },
  {
   "cell_type": "markdown",
   "metadata": {},
   "source": [
    "# Chord diagram"
   ]
  },
  {
   "cell_type": "code",
   "execution_count": 125,
   "metadata": {},
   "outputs": [
    {
     "data": {
      "application/vnd.plotly.v1+json": {
       "config": {
        "plotlyServerURL": "https://plot.ly"
       },
       "data": [
        {
         "line": {
          "color": "blue",
          "shape": "spline",
          "smoothing": 0,
          "width": 3
         },
         "mode": "lines",
         "type": "scatter",
         "x": [
          1,
          0.5000000000000001
         ],
         "y": [
          0,
          0.8660254037844386
         ]
        },
        {
         "line": {
          "color": "blue",
          "shape": "spline",
          "smoothing": 0,
          "width": 3
         },
         "mode": "lines",
         "type": "scatter",
         "x": [
          -0.4999999999999998,
          0.5000000000000001
         ],
         "y": [
          0.8660254037844388,
          0.8660254037844386
         ]
        },
        {
         "line": {
          "color": "blue",
          "shape": "spline",
          "smoothing": 0,
          "width": 2
         },
         "mode": "lines",
         "type": "scatter",
         "x": [
          -1,
          0.5000000000000001
         ],
         "y": [
          1.2246467991473532e-16,
          0.8660254037844386
         ]
        },
        {
         "line": {
          "color": "blue",
          "shape": "spline",
          "smoothing": 0,
          "width": 10
         },
         "mode": "lines",
         "type": "scatter",
         "x": [
          0.5000000000000001,
          1
         ],
         "y": [
          0.8660254037844386,
          0
         ]
        },
        {
         "line": {
          "color": "blue",
          "shape": "spline",
          "smoothing": 0,
          "width": 2
         },
         "mode": "lines",
         "type": "scatter",
         "x": [
          -0.5000000000000004,
          0.4999999999999993
         ],
         "y": [
          -0.8660254037844384,
          -0.866025403784439
         ]
        },
        {
         "marker": {
          "size": 20
         },
         "mode": "markers",
         "text": [
          56,
          57,
          95,
          117,
          187,
          150
         ],
         "type": "scatter",
         "x": [
          1,
          0.5000000000000001,
          -0.4999999999999998,
          -1,
          -0.5000000000000004,
          0.4999999999999993
         ],
         "y": [
          0,
          0.8660254037844386,
          0.8660254037844388,
          1.2246467991473532e-16,
          -0.8660254037844384,
          -0.866025403784439
         ]
        }
       ],
       "layout": {
        "template": {
         "data": {
          "bar": [
           {
            "error_x": {
             "color": "#2a3f5f"
            },
            "error_y": {
             "color": "#2a3f5f"
            },
            "marker": {
             "line": {
              "color": "#E5ECF6",
              "width": 0.5
             }
            },
            "type": "bar"
           }
          ],
          "barpolar": [
           {
            "marker": {
             "line": {
              "color": "#E5ECF6",
              "width": 0.5
             }
            },
            "type": "barpolar"
           }
          ],
          "carpet": [
           {
            "aaxis": {
             "endlinecolor": "#2a3f5f",
             "gridcolor": "white",
             "linecolor": "white",
             "minorgridcolor": "white",
             "startlinecolor": "#2a3f5f"
            },
            "baxis": {
             "endlinecolor": "#2a3f5f",
             "gridcolor": "white",
             "linecolor": "white",
             "minorgridcolor": "white",
             "startlinecolor": "#2a3f5f"
            },
            "type": "carpet"
           }
          ],
          "choropleth": [
           {
            "colorbar": {
             "outlinewidth": 0,
             "ticks": ""
            },
            "type": "choropleth"
           }
          ],
          "contour": [
           {
            "colorbar": {
             "outlinewidth": 0,
             "ticks": ""
            },
            "colorscale": [
             [
              0,
              "#0d0887"
             ],
             [
              0.1111111111111111,
              "#46039f"
             ],
             [
              0.2222222222222222,
              "#7201a8"
             ],
             [
              0.3333333333333333,
              "#9c179e"
             ],
             [
              0.4444444444444444,
              "#bd3786"
             ],
             [
              0.5555555555555556,
              "#d8576b"
             ],
             [
              0.6666666666666666,
              "#ed7953"
             ],
             [
              0.7777777777777778,
              "#fb9f3a"
             ],
             [
              0.8888888888888888,
              "#fdca26"
             ],
             [
              1,
              "#f0f921"
             ]
            ],
            "type": "contour"
           }
          ],
          "contourcarpet": [
           {
            "colorbar": {
             "outlinewidth": 0,
             "ticks": ""
            },
            "type": "contourcarpet"
           }
          ],
          "heatmap": [
           {
            "colorbar": {
             "outlinewidth": 0,
             "ticks": ""
            },
            "colorscale": [
             [
              0,
              "#0d0887"
             ],
             [
              0.1111111111111111,
              "#46039f"
             ],
             [
              0.2222222222222222,
              "#7201a8"
             ],
             [
              0.3333333333333333,
              "#9c179e"
             ],
             [
              0.4444444444444444,
              "#bd3786"
             ],
             [
              0.5555555555555556,
              "#d8576b"
             ],
             [
              0.6666666666666666,
              "#ed7953"
             ],
             [
              0.7777777777777778,
              "#fb9f3a"
             ],
             [
              0.8888888888888888,
              "#fdca26"
             ],
             [
              1,
              "#f0f921"
             ]
            ],
            "type": "heatmap"
           }
          ],
          "heatmapgl": [
           {
            "colorbar": {
             "outlinewidth": 0,
             "ticks": ""
            },
            "colorscale": [
             [
              0,
              "#0d0887"
             ],
             [
              0.1111111111111111,
              "#46039f"
             ],
             [
              0.2222222222222222,
              "#7201a8"
             ],
             [
              0.3333333333333333,
              "#9c179e"
             ],
             [
              0.4444444444444444,
              "#bd3786"
             ],
             [
              0.5555555555555556,
              "#d8576b"
             ],
             [
              0.6666666666666666,
              "#ed7953"
             ],
             [
              0.7777777777777778,
              "#fb9f3a"
             ],
             [
              0.8888888888888888,
              "#fdca26"
             ],
             [
              1,
              "#f0f921"
             ]
            ],
            "type": "heatmapgl"
           }
          ],
          "histogram": [
           {
            "marker": {
             "colorbar": {
              "outlinewidth": 0,
              "ticks": ""
             }
            },
            "type": "histogram"
           }
          ],
          "histogram2d": [
           {
            "colorbar": {
             "outlinewidth": 0,
             "ticks": ""
            },
            "colorscale": [
             [
              0,
              "#0d0887"
             ],
             [
              0.1111111111111111,
              "#46039f"
             ],
             [
              0.2222222222222222,
              "#7201a8"
             ],
             [
              0.3333333333333333,
              "#9c179e"
             ],
             [
              0.4444444444444444,
              "#bd3786"
             ],
             [
              0.5555555555555556,
              "#d8576b"
             ],
             [
              0.6666666666666666,
              "#ed7953"
             ],
             [
              0.7777777777777778,
              "#fb9f3a"
             ],
             [
              0.8888888888888888,
              "#fdca26"
             ],
             [
              1,
              "#f0f921"
             ]
            ],
            "type": "histogram2d"
           }
          ],
          "histogram2dcontour": [
           {
            "colorbar": {
             "outlinewidth": 0,
             "ticks": ""
            },
            "colorscale": [
             [
              0,
              "#0d0887"
             ],
             [
              0.1111111111111111,
              "#46039f"
             ],
             [
              0.2222222222222222,
              "#7201a8"
             ],
             [
              0.3333333333333333,
              "#9c179e"
             ],
             [
              0.4444444444444444,
              "#bd3786"
             ],
             [
              0.5555555555555556,
              "#d8576b"
             ],
             [
              0.6666666666666666,
              "#ed7953"
             ],
             [
              0.7777777777777778,
              "#fb9f3a"
             ],
             [
              0.8888888888888888,
              "#fdca26"
             ],
             [
              1,
              "#f0f921"
             ]
            ],
            "type": "histogram2dcontour"
           }
          ],
          "mesh3d": [
           {
            "colorbar": {
             "outlinewidth": 0,
             "ticks": ""
            },
            "type": "mesh3d"
           }
          ],
          "parcoords": [
           {
            "line": {
             "colorbar": {
              "outlinewidth": 0,
              "ticks": ""
             }
            },
            "type": "parcoords"
           }
          ],
          "pie": [
           {
            "automargin": true,
            "type": "pie"
           }
          ],
          "scatter": [
           {
            "marker": {
             "colorbar": {
              "outlinewidth": 0,
              "ticks": ""
             }
            },
            "type": "scatter"
           }
          ],
          "scatter3d": [
           {
            "line": {
             "colorbar": {
              "outlinewidth": 0,
              "ticks": ""
             }
            },
            "marker": {
             "colorbar": {
              "outlinewidth": 0,
              "ticks": ""
             }
            },
            "type": "scatter3d"
           }
          ],
          "scattercarpet": [
           {
            "marker": {
             "colorbar": {
              "outlinewidth": 0,
              "ticks": ""
             }
            },
            "type": "scattercarpet"
           }
          ],
          "scattergeo": [
           {
            "marker": {
             "colorbar": {
              "outlinewidth": 0,
              "ticks": ""
             }
            },
            "type": "scattergeo"
           }
          ],
          "scattergl": [
           {
            "marker": {
             "colorbar": {
              "outlinewidth": 0,
              "ticks": ""
             }
            },
            "type": "scattergl"
           }
          ],
          "scattermapbox": [
           {
            "marker": {
             "colorbar": {
              "outlinewidth": 0,
              "ticks": ""
             }
            },
            "type": "scattermapbox"
           }
          ],
          "scatterpolar": [
           {
            "marker": {
             "colorbar": {
              "outlinewidth": 0,
              "ticks": ""
             }
            },
            "type": "scatterpolar"
           }
          ],
          "scatterpolargl": [
           {
            "marker": {
             "colorbar": {
              "outlinewidth": 0,
              "ticks": ""
             }
            },
            "type": "scatterpolargl"
           }
          ],
          "scatterternary": [
           {
            "marker": {
             "colorbar": {
              "outlinewidth": 0,
              "ticks": ""
             }
            },
            "type": "scatterternary"
           }
          ],
          "surface": [
           {
            "colorbar": {
             "outlinewidth": 0,
             "ticks": ""
            },
            "colorscale": [
             [
              0,
              "#0d0887"
             ],
             [
              0.1111111111111111,
              "#46039f"
             ],
             [
              0.2222222222222222,
              "#7201a8"
             ],
             [
              0.3333333333333333,
              "#9c179e"
             ],
             [
              0.4444444444444444,
              "#bd3786"
             ],
             [
              0.5555555555555556,
              "#d8576b"
             ],
             [
              0.6666666666666666,
              "#ed7953"
             ],
             [
              0.7777777777777778,
              "#fb9f3a"
             ],
             [
              0.8888888888888888,
              "#fdca26"
             ],
             [
              1,
              "#f0f921"
             ]
            ],
            "type": "surface"
           }
          ],
          "table": [
           {
            "cells": {
             "fill": {
              "color": "#EBF0F8"
             },
             "line": {
              "color": "white"
             }
            },
            "header": {
             "fill": {
              "color": "#C8D4E3"
             },
             "line": {
              "color": "white"
             }
            },
            "type": "table"
           }
          ]
         },
         "layout": {
          "annotationdefaults": {
           "arrowcolor": "#2a3f5f",
           "arrowhead": 0,
           "arrowwidth": 1
          },
          "coloraxis": {
           "colorbar": {
            "outlinewidth": 0,
            "ticks": ""
           }
          },
          "colorscale": {
           "diverging": [
            [
             0,
             "#8e0152"
            ],
            [
             0.1,
             "#c51b7d"
            ],
            [
             0.2,
             "#de77ae"
            ],
            [
             0.3,
             "#f1b6da"
            ],
            [
             0.4,
             "#fde0ef"
            ],
            [
             0.5,
             "#f7f7f7"
            ],
            [
             0.6,
             "#e6f5d0"
            ],
            [
             0.7,
             "#b8e186"
            ],
            [
             0.8,
             "#7fbc41"
            ],
            [
             0.9,
             "#4d9221"
            ],
            [
             1,
             "#276419"
            ]
           ],
           "sequential": [
            [
             0,
             "#0d0887"
            ],
            [
             0.1111111111111111,
             "#46039f"
            ],
            [
             0.2222222222222222,
             "#7201a8"
            ],
            [
             0.3333333333333333,
             "#9c179e"
            ],
            [
             0.4444444444444444,
             "#bd3786"
            ],
            [
             0.5555555555555556,
             "#d8576b"
            ],
            [
             0.6666666666666666,
             "#ed7953"
            ],
            [
             0.7777777777777778,
             "#fb9f3a"
            ],
            [
             0.8888888888888888,
             "#fdca26"
            ],
            [
             1,
             "#f0f921"
            ]
           ],
           "sequentialminus": [
            [
             0,
             "#0d0887"
            ],
            [
             0.1111111111111111,
             "#46039f"
            ],
            [
             0.2222222222222222,
             "#7201a8"
            ],
            [
             0.3333333333333333,
             "#9c179e"
            ],
            [
             0.4444444444444444,
             "#bd3786"
            ],
            [
             0.5555555555555556,
             "#d8576b"
            ],
            [
             0.6666666666666666,
             "#ed7953"
            ],
            [
             0.7777777777777778,
             "#fb9f3a"
            ],
            [
             0.8888888888888888,
             "#fdca26"
            ],
            [
             1,
             "#f0f921"
            ]
           ]
          },
          "colorway": [
           "#636efa",
           "#EF553B",
           "#00cc96",
           "#ab63fa",
           "#FFA15A",
           "#19d3f3",
           "#FF6692",
           "#B6E880",
           "#FF97FF",
           "#FECB52"
          ],
          "font": {
           "color": "#2a3f5f"
          },
          "geo": {
           "bgcolor": "white",
           "lakecolor": "white",
           "landcolor": "#E5ECF6",
           "showlakes": true,
           "showland": true,
           "subunitcolor": "white"
          },
          "hoverlabel": {
           "align": "left"
          },
          "hovermode": "closest",
          "mapbox": {
           "style": "light"
          },
          "paper_bgcolor": "white",
          "plot_bgcolor": "#E5ECF6",
          "polar": {
           "angularaxis": {
            "gridcolor": "white",
            "linecolor": "white",
            "ticks": ""
           },
           "bgcolor": "#E5ECF6",
           "radialaxis": {
            "gridcolor": "white",
            "linecolor": "white",
            "ticks": ""
           }
          },
          "scene": {
           "xaxis": {
            "backgroundcolor": "#E5ECF6",
            "gridcolor": "white",
            "gridwidth": 2,
            "linecolor": "white",
            "showbackground": true,
            "ticks": "",
            "zerolinecolor": "white"
           },
           "yaxis": {
            "backgroundcolor": "#E5ECF6",
            "gridcolor": "white",
            "gridwidth": 2,
            "linecolor": "white",
            "showbackground": true,
            "ticks": "",
            "zerolinecolor": "white"
           },
           "zaxis": {
            "backgroundcolor": "#E5ECF6",
            "gridcolor": "white",
            "gridwidth": 2,
            "linecolor": "white",
            "showbackground": true,
            "ticks": "",
            "zerolinecolor": "white"
           }
          },
          "shapedefaults": {
           "line": {
            "color": "#2a3f5f"
           }
          },
          "ternary": {
           "aaxis": {
            "gridcolor": "white",
            "linecolor": "white",
            "ticks": ""
           },
           "baxis": {
            "gridcolor": "white",
            "linecolor": "white",
            "ticks": ""
           },
           "bgcolor": "#E5ECF6",
           "caxis": {
            "gridcolor": "white",
            "linecolor": "white",
            "ticks": ""
           }
          },
          "title": {
           "x": 0.05
          },
          "xaxis": {
           "automargin": true,
           "gridcolor": "white",
           "linecolor": "white",
           "ticks": "",
           "title": {
            "standoff": 15
           },
           "zerolinecolor": "white",
           "zerolinewidth": 2
          },
          "yaxis": {
           "automargin": true,
           "gridcolor": "white",
           "linecolor": "white",
           "ticks": "",
           "title": {
            "standoff": 15
           },
           "zerolinecolor": "white",
           "zerolinewidth": 2
          }
         }
        }
       }
      },
      "text/html": [
       "<div>\n",
       "        \n",
       "        \n",
       "            <div id=\"2a7afe74-3664-4768-a3a2-194b768e6744\" class=\"plotly-graph-div\" style=\"height:525px; width:100%;\"></div>\n",
       "            <script type=\"text/javascript\">\n",
       "                require([\"plotly\"], function(Plotly) {\n",
       "                    window.PLOTLYENV=window.PLOTLYENV || {};\n",
       "                    \n",
       "                if (document.getElementById(\"2a7afe74-3664-4768-a3a2-194b768e6744\")) {\n",
       "                    Plotly.newPlot(\n",
       "                        '2a7afe74-3664-4768-a3a2-194b768e6744',\n",
       "                        [{\"line\": {\"color\": \"blue\", \"shape\": \"spline\", \"smoothing\": 0, \"width\": 3.0}, \"mode\": \"lines\", \"type\": \"scatter\", \"x\": [1.0, 0.5000000000000001], \"y\": [0.0, 0.8660254037844386]}, {\"line\": {\"color\": \"blue\", \"shape\": \"spline\", \"smoothing\": 0, \"width\": 3.0}, \"mode\": \"lines\", \"type\": \"scatter\", \"x\": [-0.4999999999999998, 0.5000000000000001], \"y\": [0.8660254037844388, 0.8660254037844386]}, {\"line\": {\"color\": \"blue\", \"shape\": \"spline\", \"smoothing\": 0, \"width\": 2.0}, \"mode\": \"lines\", \"type\": \"scatter\", \"x\": [-1.0, 0.5000000000000001], \"y\": [1.2246467991473532e-16, 0.8660254037844386]}, {\"line\": {\"color\": \"blue\", \"shape\": \"spline\", \"smoothing\": 0, \"width\": 10.0}, \"mode\": \"lines\", \"type\": \"scatter\", \"x\": [0.5000000000000001, 1.0], \"y\": [0.8660254037844386, 0.0]}, {\"line\": {\"color\": \"blue\", \"shape\": \"spline\", \"smoothing\": 0, \"width\": 2.0}, \"mode\": \"lines\", \"type\": \"scatter\", \"x\": [-0.5000000000000004, 0.4999999999999993], \"y\": [-0.8660254037844384, -0.866025403784439]}, {\"marker\": {\"size\": 20}, \"mode\": \"markers\", \"text\": [56.0, 57.0, 95.0, 117.0, 187.0, 150.0], \"type\": \"scatter\", \"x\": [1.0, 0.5000000000000001, -0.4999999999999998, -1.0, -0.5000000000000004, 0.4999999999999993], \"y\": [0.0, 0.8660254037844386, 0.8660254037844388, 1.2246467991473532e-16, -0.8660254037844384, -0.866025403784439]}],\n",
       "                        {\"template\": {\"data\": {\"bar\": [{\"error_x\": {\"color\": \"#2a3f5f\"}, \"error_y\": {\"color\": \"#2a3f5f\"}, \"marker\": {\"line\": {\"color\": \"#E5ECF6\", \"width\": 0.5}}, \"type\": \"bar\"}], \"barpolar\": [{\"marker\": {\"line\": {\"color\": \"#E5ECF6\", \"width\": 0.5}}, \"type\": \"barpolar\"}], \"carpet\": [{\"aaxis\": {\"endlinecolor\": \"#2a3f5f\", \"gridcolor\": \"white\", \"linecolor\": \"white\", \"minorgridcolor\": \"white\", \"startlinecolor\": \"#2a3f5f\"}, \"baxis\": {\"endlinecolor\": \"#2a3f5f\", \"gridcolor\": \"white\", \"linecolor\": \"white\", \"minorgridcolor\": \"white\", \"startlinecolor\": \"#2a3f5f\"}, \"type\": \"carpet\"}], \"choropleth\": [{\"colorbar\": {\"outlinewidth\": 0, \"ticks\": \"\"}, \"type\": \"choropleth\"}], \"contour\": [{\"colorbar\": {\"outlinewidth\": 0, \"ticks\": \"\"}, \"colorscale\": [[0.0, \"#0d0887\"], [0.1111111111111111, \"#46039f\"], [0.2222222222222222, \"#7201a8\"], [0.3333333333333333, \"#9c179e\"], [0.4444444444444444, \"#bd3786\"], [0.5555555555555556, \"#d8576b\"], [0.6666666666666666, \"#ed7953\"], [0.7777777777777778, \"#fb9f3a\"], [0.8888888888888888, \"#fdca26\"], [1.0, \"#f0f921\"]], \"type\": \"contour\"}], \"contourcarpet\": [{\"colorbar\": {\"outlinewidth\": 0, \"ticks\": \"\"}, \"type\": \"contourcarpet\"}], \"heatmap\": [{\"colorbar\": {\"outlinewidth\": 0, \"ticks\": \"\"}, \"colorscale\": [[0.0, \"#0d0887\"], [0.1111111111111111, \"#46039f\"], [0.2222222222222222, \"#7201a8\"], [0.3333333333333333, \"#9c179e\"], [0.4444444444444444, \"#bd3786\"], [0.5555555555555556, \"#d8576b\"], [0.6666666666666666, \"#ed7953\"], [0.7777777777777778, \"#fb9f3a\"], [0.8888888888888888, \"#fdca26\"], [1.0, \"#f0f921\"]], \"type\": \"heatmap\"}], \"heatmapgl\": [{\"colorbar\": {\"outlinewidth\": 0, \"ticks\": \"\"}, \"colorscale\": [[0.0, \"#0d0887\"], [0.1111111111111111, \"#46039f\"], [0.2222222222222222, \"#7201a8\"], [0.3333333333333333, \"#9c179e\"], [0.4444444444444444, \"#bd3786\"], [0.5555555555555556, \"#d8576b\"], [0.6666666666666666, \"#ed7953\"], [0.7777777777777778, \"#fb9f3a\"], [0.8888888888888888, \"#fdca26\"], [1.0, \"#f0f921\"]], \"type\": \"heatmapgl\"}], \"histogram\": [{\"marker\": {\"colorbar\": {\"outlinewidth\": 0, \"ticks\": \"\"}}, \"type\": \"histogram\"}], \"histogram2d\": [{\"colorbar\": {\"outlinewidth\": 0, \"ticks\": \"\"}, \"colorscale\": [[0.0, \"#0d0887\"], [0.1111111111111111, \"#46039f\"], [0.2222222222222222, \"#7201a8\"], [0.3333333333333333, \"#9c179e\"], [0.4444444444444444, \"#bd3786\"], [0.5555555555555556, \"#d8576b\"], [0.6666666666666666, \"#ed7953\"], [0.7777777777777778, \"#fb9f3a\"], [0.8888888888888888, \"#fdca26\"], [1.0, \"#f0f921\"]], \"type\": \"histogram2d\"}], \"histogram2dcontour\": [{\"colorbar\": {\"outlinewidth\": 0, \"ticks\": \"\"}, \"colorscale\": [[0.0, \"#0d0887\"], [0.1111111111111111, \"#46039f\"], [0.2222222222222222, \"#7201a8\"], [0.3333333333333333, \"#9c179e\"], [0.4444444444444444, \"#bd3786\"], [0.5555555555555556, \"#d8576b\"], [0.6666666666666666, \"#ed7953\"], [0.7777777777777778, \"#fb9f3a\"], [0.8888888888888888, \"#fdca26\"], [1.0, \"#f0f921\"]], \"type\": \"histogram2dcontour\"}], \"mesh3d\": [{\"colorbar\": {\"outlinewidth\": 0, \"ticks\": \"\"}, \"type\": \"mesh3d\"}], \"parcoords\": [{\"line\": {\"colorbar\": {\"outlinewidth\": 0, \"ticks\": \"\"}}, \"type\": \"parcoords\"}], \"pie\": [{\"automargin\": true, \"type\": \"pie\"}], \"scatter\": [{\"marker\": {\"colorbar\": {\"outlinewidth\": 0, \"ticks\": \"\"}}, \"type\": \"scatter\"}], \"scatter3d\": [{\"line\": {\"colorbar\": {\"outlinewidth\": 0, \"ticks\": \"\"}}, \"marker\": {\"colorbar\": {\"outlinewidth\": 0, \"ticks\": \"\"}}, \"type\": \"scatter3d\"}], \"scattercarpet\": [{\"marker\": {\"colorbar\": {\"outlinewidth\": 0, \"ticks\": \"\"}}, \"type\": \"scattercarpet\"}], \"scattergeo\": [{\"marker\": {\"colorbar\": {\"outlinewidth\": 0, \"ticks\": \"\"}}, \"type\": \"scattergeo\"}], \"scattergl\": [{\"marker\": {\"colorbar\": {\"outlinewidth\": 0, \"ticks\": \"\"}}, \"type\": \"scattergl\"}], \"scattermapbox\": [{\"marker\": {\"colorbar\": {\"outlinewidth\": 0, \"ticks\": \"\"}}, \"type\": \"scattermapbox\"}], \"scatterpolar\": [{\"marker\": {\"colorbar\": {\"outlinewidth\": 0, \"ticks\": \"\"}}, \"type\": \"scatterpolar\"}], \"scatterpolargl\": [{\"marker\": {\"colorbar\": {\"outlinewidth\": 0, \"ticks\": \"\"}}, \"type\": \"scatterpolargl\"}], \"scatterternary\": [{\"marker\": {\"colorbar\": {\"outlinewidth\": 0, \"ticks\": \"\"}}, \"type\": \"scatterternary\"}], \"surface\": [{\"colorbar\": {\"outlinewidth\": 0, \"ticks\": \"\"}, \"colorscale\": [[0.0, \"#0d0887\"], [0.1111111111111111, \"#46039f\"], [0.2222222222222222, \"#7201a8\"], [0.3333333333333333, \"#9c179e\"], [0.4444444444444444, \"#bd3786\"], [0.5555555555555556, \"#d8576b\"], [0.6666666666666666, \"#ed7953\"], [0.7777777777777778, \"#fb9f3a\"], [0.8888888888888888, \"#fdca26\"], [1.0, \"#f0f921\"]], \"type\": \"surface\"}], \"table\": [{\"cells\": {\"fill\": {\"color\": \"#EBF0F8\"}, \"line\": {\"color\": \"white\"}}, \"header\": {\"fill\": {\"color\": \"#C8D4E3\"}, \"line\": {\"color\": \"white\"}}, \"type\": \"table\"}]}, \"layout\": {\"annotationdefaults\": {\"arrowcolor\": \"#2a3f5f\", \"arrowhead\": 0, \"arrowwidth\": 1}, \"coloraxis\": {\"colorbar\": {\"outlinewidth\": 0, \"ticks\": \"\"}}, \"colorscale\": {\"diverging\": [[0, \"#8e0152\"], [0.1, \"#c51b7d\"], [0.2, \"#de77ae\"], [0.3, \"#f1b6da\"], [0.4, \"#fde0ef\"], [0.5, \"#f7f7f7\"], [0.6, \"#e6f5d0\"], [0.7, \"#b8e186\"], [0.8, \"#7fbc41\"], [0.9, \"#4d9221\"], [1, \"#276419\"]], \"sequential\": [[0.0, \"#0d0887\"], [0.1111111111111111, \"#46039f\"], [0.2222222222222222, \"#7201a8\"], [0.3333333333333333, \"#9c179e\"], [0.4444444444444444, \"#bd3786\"], [0.5555555555555556, \"#d8576b\"], [0.6666666666666666, \"#ed7953\"], [0.7777777777777778, \"#fb9f3a\"], [0.8888888888888888, \"#fdca26\"], [1.0, \"#f0f921\"]], \"sequentialminus\": [[0.0, \"#0d0887\"], [0.1111111111111111, \"#46039f\"], [0.2222222222222222, \"#7201a8\"], [0.3333333333333333, \"#9c179e\"], [0.4444444444444444, \"#bd3786\"], [0.5555555555555556, \"#d8576b\"], [0.6666666666666666, \"#ed7953\"], [0.7777777777777778, \"#fb9f3a\"], [0.8888888888888888, \"#fdca26\"], [1.0, \"#f0f921\"]]}, \"colorway\": [\"#636efa\", \"#EF553B\", \"#00cc96\", \"#ab63fa\", \"#FFA15A\", \"#19d3f3\", \"#FF6692\", \"#B6E880\", \"#FF97FF\", \"#FECB52\"], \"font\": {\"color\": \"#2a3f5f\"}, \"geo\": {\"bgcolor\": \"white\", \"lakecolor\": \"white\", \"landcolor\": \"#E5ECF6\", \"showlakes\": true, \"showland\": true, \"subunitcolor\": \"white\"}, \"hoverlabel\": {\"align\": \"left\"}, \"hovermode\": \"closest\", \"mapbox\": {\"style\": \"light\"}, \"paper_bgcolor\": \"white\", \"plot_bgcolor\": \"#E5ECF6\", \"polar\": {\"angularaxis\": {\"gridcolor\": \"white\", \"linecolor\": \"white\", \"ticks\": \"\"}, \"bgcolor\": \"#E5ECF6\", \"radialaxis\": {\"gridcolor\": \"white\", \"linecolor\": \"white\", \"ticks\": \"\"}}, \"scene\": {\"xaxis\": {\"backgroundcolor\": \"#E5ECF6\", \"gridcolor\": \"white\", \"gridwidth\": 2, \"linecolor\": \"white\", \"showbackground\": true, \"ticks\": \"\", \"zerolinecolor\": \"white\"}, \"yaxis\": {\"backgroundcolor\": \"#E5ECF6\", \"gridcolor\": \"white\", \"gridwidth\": 2, \"linecolor\": \"white\", \"showbackground\": true, \"ticks\": \"\", \"zerolinecolor\": \"white\"}, \"zaxis\": {\"backgroundcolor\": \"#E5ECF6\", \"gridcolor\": \"white\", \"gridwidth\": 2, \"linecolor\": \"white\", \"showbackground\": true, \"ticks\": \"\", \"zerolinecolor\": \"white\"}}, \"shapedefaults\": {\"line\": {\"color\": \"#2a3f5f\"}}, \"ternary\": {\"aaxis\": {\"gridcolor\": \"white\", \"linecolor\": \"white\", \"ticks\": \"\"}, \"baxis\": {\"gridcolor\": \"white\", \"linecolor\": \"white\", \"ticks\": \"\"}, \"bgcolor\": \"#E5ECF6\", \"caxis\": {\"gridcolor\": \"white\", \"linecolor\": \"white\", \"ticks\": \"\"}}, \"title\": {\"x\": 0.05}, \"xaxis\": {\"automargin\": true, \"gridcolor\": \"white\", \"linecolor\": \"white\", \"ticks\": \"\", \"title\": {\"standoff\": 15}, \"zerolinecolor\": \"white\", \"zerolinewidth\": 2}, \"yaxis\": {\"automargin\": true, \"gridcolor\": \"white\", \"linecolor\": \"white\", \"ticks\": \"\", \"title\": {\"standoff\": 15}, \"zerolinecolor\": \"white\", \"zerolinewidth\": 2}}}},\n",
       "                        {\"responsive\": true}\n",
       "                    ).then(function(){\n",
       "                            \n",
       "var gd = document.getElementById('2a7afe74-3664-4768-a3a2-194b768e6744');\n",
       "var x = new MutationObserver(function (mutations, observer) {{\n",
       "        var display = window.getComputedStyle(gd).display;\n",
       "        if (!display || display === 'none') {{\n",
       "            console.log([gd, 'removed!']);\n",
       "            Plotly.purge(gd);\n",
       "            observer.disconnect();\n",
       "        }}\n",
       "}});\n",
       "\n",
       "// Listen for the removal of the full notebook cells\n",
       "var notebookContainer = gd.closest('#notebook-container');\n",
       "if (notebookContainer) {{\n",
       "    x.observe(notebookContainer, {childList: true});\n",
       "}}\n",
       "\n",
       "// Listen for the clearing of the current output cell\n",
       "var outputEl = gd.closest('.output');\n",
       "if (outputEl) {{\n",
       "    x.observe(outputEl, {childList: true});\n",
       "}}\n",
       "\n",
       "                        })\n",
       "                };\n",
       "                });\n",
       "            </script>\n",
       "        </div>"
      ]
     },
     "metadata": {},
     "output_type": "display_data"
    }
   ],
   "source": [
    "positions = u.groupby('region').head(1)[['latitude', 'longitude']]\n",
    "nodes = pgo.Scatter(x=positions['latitude'], y=positions['longitude'], mode='markers')\n",
    "\n",
    "\n",
    "d = gaps.groupby(['region_origin', 'region_destination']).size()\n",
    "d = d[d > 1].reset_index()\n",
    "\n",
    "labels = pd.concat([d['region_origin'], d['region_destination']]).unique()\n",
    "regions = pd.DataFrame(index=labels)\n",
    "p = np.linspace(0, 2*np.pi, regions.shape[0]+1)\n",
    "p = p[:-1]\n",
    "regions = regions.assign(\n",
    "    x = np.cos(p),\n",
    "    y = np.sin(p),\n",
    ")\n",
    "\n",
    "d = d.merge(regions, left_on='region_origin', right_index=True)\n",
    "d = d.merge(regions, left_on='region_destination', right_index=True, suffixes=('_origin', '_destination'))\n",
    "\n",
    "nodes = pgo.Scatter(\n",
    "    x=regions['x'], \n",
    "    y=regions['y'], \n",
    "    mode='markers',\n",
    "    marker=dict(size=20),\n",
    "    text=regions.index\n",
    ")\n",
    "lines = []\n",
    "for _, r in d.iterrows():\n",
    "    lines.append(pgo.Scatter(\n",
    "        x=[r['x_origin'], r['x_destination']],\n",
    "        y=[r['y_origin'], r['y_destination']],\n",
    "        mode='lines',\n",
    "        line=dict(\n",
    "            shape='spline',\n",
    "            width=r[0],\n",
    "            color='blue',\n",
    "            smoothing=0,\n",
    "        )\n",
    "    ))\n",
    "                 \n",
    "pgo.Figure(\n",
    "    data=lines+[nodes],\n",
    ")"
   ]
  },
  {
   "cell_type": "markdown",
   "metadata": {},
   "source": [
    "# Force-directed graph"
   ]
  },
  {
   "cell_type": "code",
   "execution_count": 126,
   "metadata": {},
   "outputs": [
    {
     "data": {
      "text/html": [
       "        <script type=\"text/javascript\">\n",
       "        window.PlotlyConfig = {MathJaxConfig: 'local'};\n",
       "        if (window.MathJax) {MathJax.Hub.Config({SVG: {font: \"STIX-Web\"}});}\n",
       "        if (typeof require !== 'undefined') {\n",
       "        require.undef(\"plotly\");\n",
       "        requirejs.config({\n",
       "            paths: {\n",
       "                'plotly': ['https://cdn.plot.ly/plotly-latest.min']\n",
       "            }\n",
       "        });\n",
       "        require(['plotly'], function(Plotly) {\n",
       "            window._Plotly = Plotly;\n",
       "        });\n",
       "        }\n",
       "        </script>\n",
       "        "
      ]
     },
     "metadata": {},
     "output_type": "display_data"
    },
    {
     "data": {
      "application/vnd.plotly.v1+json": {
       "config": {
        "plotlyServerURL": "https://plot.ly"
       },
       "data": [
        {
         "hoverinfo": "none",
         "line": {
          "color": "rgb(210,210,210)",
          "width": 1
         },
         "mode": "lines",
         "type": "scatter",
         "x": [
          6.8486741256436945,
          6.457708762446295,
          null,
          6.457708762446295,
          6.17621358567421,
          null,
          6.17621358567421,
          5.689284135138995,
          null,
          5.689284135138995,
          5.581276307391585,
          null,
          5.581276307391585,
          5.220538488397764,
          null,
          5.220538488397764,
          4.979082718092742,
          null,
          4.979082718092742,
          5.189456531285787,
          null,
          5.189456531285787,
          4.764733474758424,
          null,
          4.764733474758424,
          4.4121967582226125,
          null,
          4.4121967582226125,
          4.087563172755938,
          null,
          4.087563172755938,
          3.5114366592937296,
          null,
          3.5114366592937296,
          3.0837570939497314,
          null,
          3.0837570939497314,
          2.231190922983137,
          null,
          2.231190922983137,
          1.8572382222393955,
          null,
          1.8572382222393955,
          2.325704485560687,
          null,
          2.325704485560687,
          2.5767604009107803,
          null,
          2.5767604009107803,
          2.5874381994320053,
          null,
          2.5874381994320053,
          2.3924771589015705,
          null,
          2.3924771589015705,
          1.974230171006802,
          null,
          1.8572382222393955,
          1.974230171006802,
          null,
          1.8572382222393955,
          1.5218286339580511,
          null,
          1.5218286339580511,
          0.929533860542721,
          null,
          0.929533860542721,
          0.44454347611728884,
          null,
          0.44454347611728884,
          -0.03438335163232492,
          null,
          -0.03438335163232492,
          -0.39929095810449644,
          null,
          -0.39929095810449644,
          -0.7978799159450582,
          null,
          -0.7978799159450582,
          -1.2173101828010138,
          null,
          -1.2173101828010138,
          -0.9528687084353569,
          null,
          -0.9528687084353569,
          -1.6605202571627737,
          null,
          -1.6605202571627737,
          -2.116672023590875,
          null,
          -2.116672023590875,
          -2.135789214837985,
          null,
          -2.135789214837985,
          -1.945007857310042,
          null,
          -1.945007857310042,
          -1.5759262811773112,
          null,
          -1.5759262811773112,
          -0.8887743000542312,
          null,
          -0.8887743000542312,
          -0.2869119300614334,
          null,
          -0.2869119300614334,
          0.07639903965371608,
          null,
          0.07639903965371608,
          0.6847216110306288,
          null,
          0.6847216110306288,
          1.1734770797892555,
          null,
          1.8572382222393955,
          1.1734770797892555,
          null,
          1.8572382222393955,
          1.552401272085962,
          null,
          1.552401272085962,
          1.5205748908453152,
          null,
          1.5205748908453152,
          1.390993209459612,
          null,
          1.390993209459612,
          1.5362058639189855,
          null,
          1.8572382222393955,
          1.5362058639189855,
          null,
          1.8572382222393955,
          1.907016494671158,
          null,
          1.907016494671158,
          2.2876907938128426,
          null,
          2.2876907938128426,
          2.4748515941702647,
          null,
          2.4748515941702647,
          2.5038069805751255,
          null,
          2.5038069805751255,
          2.656367105382955,
          null,
          2.656367105382955,
          2.163563096151499,
          null,
          2.163563096151499,
          1.8010470667094811,
          null,
          1.8010470667094811,
          1.139839058034775,
          null,
          1.139839058034775,
          0.39330373900573806,
          null,
          0.39330373900573806,
          0.0020331902795355516,
          null,
          0.0020331902795355516,
          -0.4888157823657966,
          null,
          -0.4888157823657966,
          -0.765835666653288,
          null,
          -0.765835666653288,
          -0.9552313967380645,
          null,
          -0.9552313967380645,
          -1.071849093161774,
          null,
          -1.071849093161774,
          -0.7693445397334536,
          null,
          -0.7693445397334536,
          -0.9681288149238334,
          null,
          -0.7693445397334536,
          -0.3243725295381376,
          null,
          -0.3243725295381376,
          -0.44850871270462545,
          null,
          -0.44850871270462545,
          -0.4684475871991512,
          null,
          -0.4684475871991512,
          -0.9681288149238334,
          null,
          -0.7693445397334536,
          -0.30147796463156096,
          null,
          -0.7693445397334536,
          -0.30147796463156096,
          null,
          -0.5572793926166887,
          -0.4284375041173295,
          null,
          -0.4284375041173295,
          -0.778019205791135,
          null,
          -0.778019205791135,
          -0.9681288149238334,
          null,
          -0.7693445397334536,
          -1.3549166274457924,
          null,
          -0.7693445397334536,
          -1.171748075444349,
          null,
          -0.7693445397334536,
          -1.171748075444349,
          null,
          -0.7693445397334536,
          -0.9681288149238334,
          null,
          -0.7693445397334536,
          -0.9681288149238334,
          null,
          -0.7693445397334536,
          -0.7039974126921944,
          null,
          -0.7039974126921944,
          0.24540652231229398,
          null,
          0.24540652231229398,
          0.45865149702818275,
          null,
          0.45865149702818275,
          0.7218059560890268,
          null,
          -0.7693445397334536,
          -0.887310220820255,
          null,
          -0.7693445397334536,
          -0.6416579656155186,
          null,
          -0.7693445397334536,
          -0.6416579656155186,
          null,
          -0.7693445397334536,
          -1.220131130001386,
          null,
          -1.220131130001386,
          -1.906629122561713,
          null,
          -1.906629122561713,
          -2.4609466633033086,
          null,
          -0.7693445397334536,
          -0.5271327527702855,
          null,
          -0.21177226107118874,
          -0.9673038417107258,
          null,
          -0.7693445397334536,
          -0.9673038417107258,
          null,
          -0.7693445397334536,
          -0.1324783709596259,
          null,
          -0.7693445397334536,
          -0.1324783709596259,
          null,
          -4.394491236465675,
          -4.856028142247755,
          null,
          -0.9681288149238334,
          -0.7511187311354768,
          null,
          -0.7511187311354768,
          -0.05459032353867349,
          null,
          0.675168945313435,
          -0.05459032353867349,
          null,
          -0.05459032353867349,
          0.3684508963654664,
          null,
          -0.9681288149238334,
          -0.9460259535876194,
          null,
          -0.7693445397334536,
          -1.2626630804887022,
          null,
          -0.7693445397334536,
          -0.6031883630877262,
          null,
          -0.7693445397334536,
          -0.9681288149238334,
          null,
          -1.8631812518144373,
          -1.8585141729522257,
          null,
          -1.8585141729522257,
          -1.6114110630380645,
          null,
          -1.6114110630380645,
          -1.5095884536756643,
          null,
          -1.5095884536756643,
          -1.136663055694753,
          null,
          -0.9681288149238334,
          -1.136663055694753,
          null,
          -0.7693445397334536,
          -1.136663055694753,
          null,
          -0.9681288149238334,
          -1.136663055694753,
          null,
          -0.9681288149238334,
          -0.7293847737859296,
          null,
          -0.9681288149238334,
          -0.8845031898295836,
          null,
          -0.7693445397334536,
          -0.8845031898295836,
          null,
          -8.220282847057765,
          -8.313917555585135,
          null,
          -8.313917555585135,
          -8.290117606784772,
          null,
          -0.7693445397334536,
          -0.8770549581012022,
          null,
          -0.4284375041173295,
          -0.8770549581012022,
          null,
          -0.4284375041173295,
          -0.9681288149238334,
          null,
          -0.7693445397334536,
          -0.9681288149238334,
          null,
          -0.9681288149238334,
          -1.3479649932048103,
          null,
          -1.3479649932048103,
          -0.09394308658748401,
          null,
          -0.9460259535876194,
          -0.523591049214829,
          null,
          -0.7693445397334536,
          -0.9681288149238334,
          null,
          -1.8479422940445314,
          -1.3193535140271346,
          null,
          -0.9681288149238334,
          -1.3193535140271346,
          null,
          -0.9681288149238334,
          -0.887310220820255,
          null,
          -0.7693445397334536,
          -0.3527950529365048,
          null,
          -0.9681288149238334,
          -1.136663055694753,
          null,
          -0.7693445397334536,
          -0.9681288149238334,
          null,
          -1.171748075444349,
          -0.9681288149238334,
          null,
          0.8995292676456832,
          0.6276421806716544,
          null,
          -0.46306032889682897,
          -0.5065210367060603,
          null,
          -0.5065210367060603,
          -0.997234451946628,
          null,
          -0.9681288149238334,
          -0.997234451946628,
          null,
          -0.9681288149238334,
          -0.5919155275336653,
          null,
          -0.7693445397334536,
          -0.9681288149238334,
          null,
          -1.3549166274457924,
          -1.3441563378968986,
          null,
          -0.9681288149238334,
          -1.4710070395776251,
          null,
          -0.7693445397334536,
          -0.9681288149238334,
          null,
          -0.7693445397334536,
          -0.19633786200020692,
          null,
          -0.7693445397334536,
          -0.5572793926166887,
          null,
          -0.9681288149238334,
          -0.7688773613845807,
          null,
          -0.7688773613845807,
          -0.6311637360970712,
          null,
          -0.6311637360970712,
          0.16699286324905654,
          null,
          0.6205284359405852,
          0.3631780046292913,
          null,
          -0.9681288149238334,
          -0.5919155275336653,
          null,
          -0.7693445397334536,
          -0.9681288149238334,
          null,
          -0.7693445397334536,
          -0.23490881038986267,
          null,
          2.5748002576605167,
          3.2175713736106073,
          null,
          -0.7693445397334536,
          -0.19319709991066897,
          null,
          -0.7693445397334536,
          -0.9681288149238334,
          null,
          -0.7693445397334536,
          -0.19415496719140635,
          null,
          -0.9681288149238334,
          -1.4742090999408732,
          null,
          -0.7693445397334536,
          -0.9681288149238334,
          null,
          -0.9681288149238334,
          -0.8770549581012022,
          null,
          -0.7693445397334536,
          -0.7352594614162925,
          null,
          -0.7693445397334536,
          -0.9681288149238334,
          null,
          -0.7693445397334536,
          -0.5267162178499236,
          null,
          -0.5919155275336653,
          -1.2792728851399542,
          null,
          2.546884377909014,
          3.2109083768461026,
          null,
          1.4643377657591528,
          1.0088122877152685,
          null,
          -2.556898757079,
          -2.1972054903857368,
          null,
          -2.556898757079,
          -2.1972054903857368,
          null,
          -2.556898757079,
          -2.1106485577519667,
          null,
          -4.873712461469802,
          -4.629537900320306,
          null,
          -0.1421702086176353,
          0.2885926489520854,
          null,
          3.2127735007610396,
          2.780637152615041,
          null,
          2.325704485560687,
          2.780637152615041,
          null,
          2.325704485560687,
          2.4942165283458735,
          null,
          2.4942165283458735,
          2.060202095702984,
          null,
          2.060202095702984,
          1.7972526891017815,
          null,
          1.5218286339580511,
          1.7972526891017815,
          null,
          1.5218286339580511,
          1.552401272085962,
          null,
          -2.924280167692382,
          -2.45732540539569,
          null,
          -2.45732540539569,
          -1.8496970635141263,
          null,
          4.62761779678009,
          4.982235797883459,
          null,
          7.559498816888314,
          8.165741139907514,
          null,
          -0.46266761727986533,
          0.25489018108742456,
          null,
          -0.46266761727986533,
          0.25489018108742456,
          null,
          -0.46266761727986533,
          0.25489018108742456,
          null,
          -5.889326082099413,
          -5.677158459473451,
          null,
          -5.677158459473451,
          -6.449609152185925,
          null,
          0.21319336636366637,
          0.06145796485522657,
          null,
          0.06145796485522657,
          0.3354807065629962,
          null,
          3.3536462275091017,
          3.150794523411598,
          null,
          5.019625095106639,
          5.486175133751341,
          null,
          5.167501689925023,
          5.422103488563824,
          null,
          5.167501689925023,
          5.422103488563824,
          null,
          5.167501689925023,
          4.766424028091056,
          null,
          6.752365893187496,
          6.721978823196754,
          null,
          6.721978823196754,
          7.084409301034271,
          null,
          7.084409301034271,
          6.9365830343004795,
          null,
          5.941092750581232,
          5.911693183693519,
          null,
          6.237651947478838,
          5.886666607060694,
          null,
          2.1548994965731887,
          2.367001210780124,
          null,
          1.3800980361202648,
          0.9993840023056041,
          null
         ],
         "y": [
          2.3062353712615202,
          2.584131633133908,
          null,
          2.584131633133908,
          2.7862212449719648,
          null,
          2.7862212449719648,
          3.0475511691521646,
          null,
          3.0475511691521646,
          3.593911872239636,
          null,
          3.593911872239636,
          4.196201560186738,
          null,
          4.196201560186738,
          4.484567624333053,
          null,
          4.484567624333053,
          4.917433490122917,
          null,
          4.917433490122917,
          5.30953179712461,
          null,
          5.30953179712461,
          5.365153338348821,
          null,
          5.365153338348821,
          5.433708186632317,
          null,
          5.433708186632317,
          5.488900975380276,
          null,
          5.488900975380276,
          5.3933598690600055,
          null,
          5.3933598690600055,
          5.34901440575961,
          null,
          5.34901440575961,
          5.493059148797917,
          null,
          5.493059148797917,
          5.57181960475182,
          null,
          5.57181960475182,
          6.033805514142641,
          null,
          6.033805514142641,
          6.5552196314059925,
          null,
          6.5552196314059925,
          6.096474363146676,
          null,
          6.096474363146676,
          6.053349294455021,
          null,
          5.493059148797917,
          6.053349294455021,
          null,
          5.493059148797917,
          5.327133847100335,
          null,
          5.327133847100335,
          5.5984451090457785,
          null,
          5.5984451090457785,
          5.738975587719719,
          null,
          5.738975587719719,
          6.148923000842791,
          null,
          6.148923000842791,
          6.626778598602916,
          null,
          6.626778598602916,
          6.871168174380087,
          null,
          6.871168174380087,
          7.098586698541514,
          null,
          7.098586698541514,
          7.325332833298413,
          null,
          7.325332833298413,
          7.2565937321521305,
          null,
          7.2565937321521305,
          7.234600822892196,
          null,
          7.234600822892196,
          6.947925677020967,
          null,
          6.947925677020967,
          6.604013581178263,
          null,
          6.604013581178263,
          6.271682328493762,
          null,
          6.271682328493762,
          6.180810039638951,
          null,
          6.180810039638951,
          6.095134174873106,
          null,
          6.095134174873106,
          5.785192579923264,
          null,
          5.785192579923264,
          5.770970376988537,
          null,
          5.770970376988537,
          5.293109052315231,
          null,
          5.493059148797917,
          5.293109052315231,
          null,
          5.493059148797917,
          5.512619723194525,
          null,
          5.512619723194525,
          6.0183645061135405,
          null,
          6.0183645061135405,
          6.063053750759646,
          null,
          6.063053750759646,
          5.429213028832276,
          null,
          5.493059148797917,
          5.429213028832276,
          null,
          5.493059148797917,
          4.93916466571369,
          null,
          4.93916466571369,
          4.493643209958026,
          null,
          4.493643209958026,
          4.156418927420357,
          null,
          4.156418927420357,
          3.8196438574149534,
          null,
          3.8196438574149534,
          3.278691133392436,
          null,
          3.278691133392436,
          2.9696745159454845,
          null,
          2.9696745159454845,
          2.757363183580166,
          null,
          2.757363183580166,
          2.893549162823369,
          null,
          2.893549162823369,
          2.876800871486703,
          null,
          2.876800871486703,
          2.5554856810560174,
          null,
          2.5554856810560174,
          2.3945080912661707,
          null,
          2.3945080912661707,
          1.8727354005282153,
          null,
          1.8727354005282153,
          1.330730875899673,
          null,
          1.330730875899673,
          0.8297446548552512,
          null,
          0.8297446548552512,
          0.299511360663561,
          null,
          0.299511360663561,
          -0.24351972234284833,
          null,
          0.299511360663561,
          0.5903678426972586,
          null,
          0.5903678426972586,
          0.8937784594786562,
          null,
          0.8937784594786562,
          -0.11577575550906119,
          null,
          -0.11577575550906119,
          -0.24351972234284833,
          null,
          0.299511360663561,
          0.6334332065778134,
          null,
          0.299511360663561,
          0.6334332065778134,
          null,
          0.4160883499620771,
          -0.37653750385390033,
          null,
          -0.37653750385390033,
          -0.05012099194636055,
          null,
          -0.05012099194636055,
          -0.24351972234284833,
          null,
          0.299511360663561,
          0.5156080757247474,
          null,
          0.299511360663561,
          0.1802068254380465,
          null,
          0.299511360663561,
          0.1802068254380465,
          null,
          0.299511360663561,
          -0.24351972234284833,
          null,
          0.299511360663561,
          -0.24351972234284833,
          null,
          0.299511360663561,
          0.7102025365504521,
          null,
          0.7102025365504521,
          0.43714066291522624,
          null,
          0.43714066291522624,
          1.1063803500618778,
          null,
          1.1063803500618778,
          1.3569679759049593,
          null,
          0.299511360663561,
          0.05256826597142117,
          null,
          0.299511360663561,
          0.6115925394035026,
          null,
          0.299511360663561,
          0.6115925394035026,
          null,
          0.299511360663561,
          0.43399277793501245,
          null,
          0.43399277793501245,
          0.3390057702631031,
          null,
          0.3390057702631031,
          0.049134560234523506,
          null,
          0.299511360663561,
          -0.05803388315328012,
          null,
          0.989360605393059,
          0.5787838775431389,
          null,
          0.299511360663561,
          0.5787838775431389,
          null,
          0.299511360663561,
          0.06623640587539825,
          null,
          0.299511360663561,
          0.06623640587539825,
          null,
          -4.728871230364868,
          -4.900998056291578,
          null,
          -0.24351972234284833,
          -0.6828366056999803,
          null,
          -0.6828366056999803,
          -0.8991830020713744,
          null,
          -0.9827408533905907,
          -0.8991830020713744,
          null,
          -0.8991830020713744,
          -0.9296472110254966,
          null,
          -0.24351972234284833,
          -0.785809687010929,
          null,
          0.299511360663561,
          0.5005285094173608,
          null,
          0.299511360663561,
          0.31805477649574293,
          null,
          0.299511360663561,
          -0.24351972234284833,
          null,
          -2.154619770407937,
          -1.5018367349745587,
          null,
          -1.5018367349745587,
          -1.148534734146733,
          null,
          -1.148534734146733,
          -0.6454315999733112,
          null,
          -0.6454315999733112,
          -0.13625196697232791,
          null,
          -0.24351972234284833,
          -0.13625196697232791,
          null,
          0.299511360663561,
          -0.13625196697232791,
          null,
          -0.24351972234284833,
          -0.13625196697232791,
          null,
          -0.24351972234284833,
          -0.5368711878145329,
          null,
          -0.24351972234284833,
          -0.13850088573547184,
          null,
          0.299511360663561,
          -0.13850088573547184,
          null,
          -2.625537025317104,
          -2.276458938028276,
          null,
          -2.276458938028276,
          -2.760691974304482,
          null,
          0.299511360663561,
          -0.025877362888336017,
          null,
          -0.37653750385390033,
          -0.025877362888336017,
          null,
          -0.37653750385390033,
          -0.24351972234284833,
          null,
          0.299511360663561,
          -0.24351972234284833,
          null,
          -0.24351972234284833,
          -0.04166841126582503,
          null,
          -0.04166841126582503,
          0.26261023822908713,
          null,
          -0.785809687010929,
          -1.2206194977934768,
          null,
          0.299511360663561,
          -0.24351972234284833,
          null,
          -0.8445647301903334,
          -0.5341213889138363,
          null,
          -0.24351972234284833,
          -0.5341213889138363,
          null,
          -0.24351972234284833,
          0.05256826597142117,
          null,
          0.299511360663561,
          0.04970844176913186,
          null,
          -0.24351972234284833,
          -0.13625196697232791,
          null,
          0.299511360663561,
          -0.24351972234284833,
          null,
          0.1802068254380465,
          -0.24351972234284833,
          null,
          -6.973987810093765,
          -6.7248430752427195,
          null,
          -1.6875074218598853,
          -1.1778035248312801,
          null,
          -1.1778035248312801,
          -0.6196314176949366,
          null,
          -0.24351972234284833,
          -0.6196314176949366,
          null,
          -0.24351972234284833,
          -0.5287178983607514,
          null,
          0.299511360663561,
          -0.24351972234284833,
          null,
          0.5156080757247474,
          0.977627970199372,
          null,
          -0.24351972234284833,
          -0.2348588916268638,
          null,
          0.299511360663561,
          -0.24351972234284833,
          null,
          0.299511360663561,
          -0.03660099945095374,
          null,
          0.299511360663561,
          0.4160883499620771,
          null,
          -0.24351972234284833,
          -0.550030871658908,
          null,
          -0.550030871658908,
          -0.947775139254463,
          null,
          -0.947775139254463,
          -1.1473768100021462,
          null,
          -7.646068006099551,
          -7.30567537955617,
          null,
          -0.24351972234284833,
          -0.5287178983607514,
          null,
          0.299511360663561,
          -0.24351972234284833,
          null,
          0.299511360663561,
          0.35936367655615153,
          null,
          -6.98322611155438,
          -7.181335618638186,
          null,
          0.299511360663561,
          0.05926284845276686,
          null,
          0.299511360663561,
          -0.24351972234284833,
          null,
          0.299511360663561,
          0.44949600556269725,
          null,
          -0.24351972234284833,
          0.0168694697853001,
          null,
          0.299511360663561,
          -0.24351972234284833,
          null,
          -0.24351972234284833,
          -0.025877362888336017,
          null,
          0.299511360663561,
          0.034408446724506825,
          null,
          0.299511360663561,
          -0.24351972234284833,
          null,
          0.299511360663561,
          0.6585779647126722,
          null,
          -0.5287178983607514,
          -0.9957059209796957,
          null,
          -7.497877304104558,
          -7.7011425297736755,
          null,
          -6.221112395216913,
          -5.910549405531583,
          null,
          -6.718338125695837,
          -6.9950639994368995,
          null,
          -6.718338125695837,
          -6.9950639994368995,
          null,
          -6.718338125695837,
          -6.908770367485213,
          null,
          -3.339058754425585,
          -3.010585926348521,
          null,
          -7.080147773480267,
          -7.494652437700515,
          null,
          5.39719737963895,
          5.483197767908681,
          null,
          5.57181960475182,
          5.483197767908681,
          null,
          5.57181960475182,
          5.387405170290531,
          null,
          5.387405170290531,
          5.426996856429944,
          null,
          5.426996856429944,
          5.809212272401632,
          null,
          5.327133847100335,
          5.809212272401632,
          null,
          5.327133847100335,
          5.512619723194525,
          null,
          -7.891478988702048,
          -8.377445069066473,
          null,
          -8.377445069066473,
          -8.587869055969758,
          null,
          -1.3957606783436673,
          -1.3639791638825964,
          null,
          -5.2980896125288375,
          -5.064241426085092,
          null,
          -3.713821309598667,
          -3.318478093926263,
          null,
          -3.713821309598667,
          -3.318478093926263,
          null,
          -3.713821309598667,
          -3.318478093926263,
          null,
          -5.659405045022665,
          -5.617911818130914,
          null,
          -5.617911818130914,
          -5.6170740456095265,
          null,
          -4.604503209564867,
          -4.676002489470996,
          null,
          -4.676002489470996,
          -4.7739425354125355,
          null,
          -2.172301149315912,
          -1.7663832991041537,
          null,
          -6.177411376366423,
          -6.1739640865952445,
          null,
          -3.874379809910301,
          -3.836394391972786,
          null,
          -3.874379809910301,
          -3.836394391972786,
          null,
          -3.874379809910301,
          -3.947050237507529,
          null,
          -0.9027503436756348,
          -1.4398444274650888,
          null,
          -1.4398444274650888,
          -1.7169690953643215,
          null,
          -1.7169690953643215,
          -2.2456008946511514,
          null,
          -5.374945370325559,
          -4.809260395700716,
          null,
          -1.6489475996849707,
          -1.63075008512513,
          null,
          5.097122279858632,
          4.563538743532495,
          null,
          0.4988036177082429,
          -0.03509438609852564,
          null
         ]
        },
        {
         "hoverinfo": "text",
         "marker": {
          "color": "#6959CD",
          "line": {
           "color": "rgb(50,50,50)",
           "width": 0.5
          },
          "size": 5,
          "symbol": "circle-dot"
         },
         "mode": "markers",
         "name": "ntw",
         "text": [
          0,
          1,
          2,
          3,
          4,
          5,
          6,
          7,
          8,
          9,
          10,
          11,
          12,
          13,
          14,
          15,
          16,
          17,
          18,
          19,
          20,
          21,
          22,
          23,
          24,
          25,
          26,
          27,
          28,
          29,
          30,
          31,
          32,
          33,
          34,
          35,
          36,
          37,
          38,
          39,
          40,
          41,
          42,
          43,
          44,
          45,
          46,
          47,
          48,
          49,
          50,
          51,
          52,
          53,
          54,
          55,
          56,
          58,
          59,
          60,
          61,
          62,
          63,
          64,
          66,
          67,
          57,
          68,
          69,
          70,
          72,
          73,
          74,
          75,
          78,
          79,
          80,
          81,
          83,
          85,
          84,
          87,
          89,
          90,
          91,
          92,
          93,
          94,
          95,
          97,
          98,
          99,
          102,
          103,
          106,
          107,
          114,
          113,
          115,
          116,
          117,
          120,
          112,
          134,
          137,
          142,
          147,
          152,
          156,
          129,
          159,
          161,
          162,
          164,
          166,
          173,
          174,
          175,
          176,
          177,
          178,
          179,
          181,
          183,
          150,
          187,
          209,
          210,
          214,
          215,
          219,
          225,
          228,
          229,
          231,
          232,
          233,
          235,
          237,
          246,
          248,
          71,
          76,
          77,
          82,
          86,
          96,
          100,
          104,
          105,
          108,
          88,
          118,
          133,
          135,
          138,
          140,
          143,
          145,
          148,
          139,
          155,
          160,
          163,
          165,
          167,
          180,
          182,
          184,
          211,
          216,
          220,
          226,
          230,
          234,
          236,
          238,
          247,
          249
         ],
         "type": "scatter",
         "x": [
          6.8486741256436945,
          6.457708762446295,
          6.17621358567421,
          5.689284135138995,
          5.581276307391585,
          5.220538488397764,
          4.979082718092742,
          5.189456531285787,
          4.764733474758424,
          4.4121967582226125,
          4.087563172755938,
          3.5114366592937296,
          3.0837570939497314,
          2.231190922983137,
          1.8572382222393955,
          2.325704485560687,
          2.5767604009107803,
          2.5874381994320053,
          2.3924771589015705,
          1.974230171006802,
          1.5218286339580511,
          0.929533860542721,
          0.44454347611728884,
          -0.03438335163232492,
          -0.39929095810449644,
          -0.7978799159450582,
          -1.2173101828010138,
          -0.9528687084353569,
          -1.6605202571627737,
          -2.116672023590875,
          -2.135789214837985,
          -1.945007857310042,
          -1.5759262811773112,
          -0.8887743000542312,
          -0.2869119300614334,
          0.07639903965371608,
          0.6847216110306288,
          1.1734770797892555,
          1.552401272085962,
          1.5205748908453152,
          1.390993209459612,
          1.5362058639189855,
          1.907016494671158,
          2.2876907938128426,
          2.4748515941702647,
          2.5038069805751255,
          2.656367105382955,
          2.163563096151499,
          1.8010470667094811,
          1.139839058034775,
          0.39330373900573806,
          0.0020331902795355516,
          -0.4888157823657966,
          -0.765835666653288,
          -0.9552313967380645,
          -1.071849093161774,
          -0.7693445397334536,
          -0.3243725295381376,
          -0.44850871270462545,
          -0.4684475871991512,
          -0.30147796463156096,
          -0.5572793926166887,
          -0.4284375041173295,
          -0.778019205791135,
          -1.3549166274457924,
          -1.171748075444349,
          -0.9681288149238334,
          -0.7039974126921944,
          0.24540652231229398,
          0.45865149702818275,
          -0.887310220820255,
          -0.6416579656155186,
          -1.220131130001386,
          -1.906629122561713,
          -0.21177226107118874,
          -0.9673038417107258,
          -0.1324783709596259,
          -4.394491236465675,
          -0.7511187311354768,
          0.675168945313435,
          -0.05459032353867349,
          -0.9460259535876194,
          -1.2626630804887022,
          -0.6031883630877262,
          -1.8631812518144373,
          -1.8585141729522257,
          -1.6114110630380645,
          -1.5095884536756643,
          -1.136663055694753,
          -0.8845031898295836,
          -8.220282847057765,
          -8.313917555585135,
          -0.8770549581012022,
          -1.3479649932048103,
          -1.8479422940445314,
          -1.3193535140271346,
          0.8995292676456832,
          -0.46306032889682897,
          -0.5065210367060603,
          -0.997234451946628,
          -0.5919155275336653,
          -1.4710070395776251,
          -0.7688773613845807,
          -0.6311637360970712,
          0.6205284359405852,
          2.5748002576605167,
          -0.19415496719140635,
          -0.7352594614162925,
          -0.5267162178499236,
          2.546884377909014,
          1.4643377657591528,
          -2.556898757079,
          -2.1972054903857368,
          -4.873712461469802,
          -0.1421702086176353,
          3.2127735007610396,
          2.780637152615041,
          2.4942165283458735,
          2.060202095702984,
          1.7972526891017815,
          -2.924280167692382,
          -2.45732540539569,
          4.62761779678009,
          7.559498816888314,
          -0.46266761727986533,
          0.25489018108742456,
          -5.889326082099413,
          -5.677158459473451,
          0.21319336636366637,
          0.06145796485522657,
          3.3536462275091017,
          5.019625095106639,
          5.167501689925023,
          5.422103488563824,
          6.752365893187496,
          6.721978823196754,
          7.084409301034271,
          5.941092750581232,
          6.237651947478838,
          2.1548994965731887,
          1.3800980361202648,
          0.7218059560890268,
          -2.4609466633033086,
          -0.5271327527702855,
          -4.856028142247755,
          0.3684508963654664,
          -0.7293847737859296,
          -8.290117606784772,
          -0.09394308658748401,
          -0.523591049214829,
          -0.3527950529365048,
          0.6276421806716544,
          -1.3441563378968986,
          -0.19633786200020692,
          0.16699286324905654,
          0.3631780046292913,
          -0.23490881038986267,
          3.2175713736106073,
          -0.19319709991066897,
          -1.4742090999408732,
          -1.2792728851399542,
          3.2109083768461026,
          1.0088122877152685,
          -2.1106485577519667,
          -4.629537900320306,
          0.2885926489520854,
          -1.8496970635141263,
          4.982235797883459,
          8.165741139907514,
          -6.449609152185925,
          0.3354807065629962,
          3.150794523411598,
          5.486175133751341,
          4.766424028091056,
          6.9365830343004795,
          5.911693183693519,
          5.886666607060694,
          2.367001210780124,
          0.9993840023056041
         ],
         "y": [
          2.3062353712615202,
          2.584131633133908,
          2.7862212449719648,
          3.0475511691521646,
          3.593911872239636,
          4.196201560186738,
          4.484567624333053,
          4.917433490122917,
          5.30953179712461,
          5.365153338348821,
          5.433708186632317,
          5.488900975380276,
          5.3933598690600055,
          5.34901440575961,
          5.493059148797917,
          5.57181960475182,
          6.033805514142641,
          6.5552196314059925,
          6.096474363146676,
          6.053349294455021,
          5.327133847100335,
          5.5984451090457785,
          5.738975587719719,
          6.148923000842791,
          6.626778598602916,
          6.871168174380087,
          7.098586698541514,
          7.325332833298413,
          7.2565937321521305,
          7.234600822892196,
          6.947925677020967,
          6.604013581178263,
          6.271682328493762,
          6.180810039638951,
          6.095134174873106,
          5.785192579923264,
          5.770970376988537,
          5.293109052315231,
          5.512619723194525,
          6.0183645061135405,
          6.063053750759646,
          5.429213028832276,
          4.93916466571369,
          4.493643209958026,
          4.156418927420357,
          3.8196438574149534,
          3.278691133392436,
          2.9696745159454845,
          2.757363183580166,
          2.893549162823369,
          2.876800871486703,
          2.5554856810560174,
          2.3945080912661707,
          1.8727354005282153,
          1.330730875899673,
          0.8297446548552512,
          0.299511360663561,
          0.5903678426972586,
          0.8937784594786562,
          -0.11577575550906119,
          0.6334332065778134,
          0.4160883499620771,
          -0.37653750385390033,
          -0.05012099194636055,
          0.5156080757247474,
          0.1802068254380465,
          -0.24351972234284833,
          0.7102025365504521,
          0.43714066291522624,
          1.1063803500618778,
          0.05256826597142117,
          0.6115925394035026,
          0.43399277793501245,
          0.3390057702631031,
          0.989360605393059,
          0.5787838775431389,
          0.06623640587539825,
          -4.728871230364868,
          -0.6828366056999803,
          -0.9827408533905907,
          -0.8991830020713744,
          -0.785809687010929,
          0.5005285094173608,
          0.31805477649574293,
          -2.154619770407937,
          -1.5018367349745587,
          -1.148534734146733,
          -0.6454315999733112,
          -0.13625196697232791,
          -0.13850088573547184,
          -2.625537025317104,
          -2.276458938028276,
          -0.025877362888336017,
          -0.04166841126582503,
          -0.8445647301903334,
          -0.5341213889138363,
          -6.973987810093765,
          -1.6875074218598853,
          -1.1778035248312801,
          -0.6196314176949366,
          -0.5287178983607514,
          -0.2348588916268638,
          -0.550030871658908,
          -0.947775139254463,
          -7.646068006099551,
          -6.98322611155438,
          0.44949600556269725,
          0.034408446724506825,
          0.6585779647126722,
          -7.497877304104558,
          -6.221112395216913,
          -6.718338125695837,
          -6.9950639994368995,
          -3.339058754425585,
          -7.080147773480267,
          5.39719737963895,
          5.483197767908681,
          5.387405170290531,
          5.426996856429944,
          5.809212272401632,
          -7.891478988702048,
          -8.377445069066473,
          -1.3957606783436673,
          -5.2980896125288375,
          -3.713821309598667,
          -3.318478093926263,
          -5.659405045022665,
          -5.617911818130914,
          -4.604503209564867,
          -4.676002489470996,
          -2.172301149315912,
          -6.177411376366423,
          -3.874379809910301,
          -3.836394391972786,
          -0.9027503436756348,
          -1.4398444274650888,
          -1.7169690953643215,
          -5.374945370325559,
          -1.6489475996849707,
          5.097122279858632,
          0.4988036177082429,
          1.3569679759049593,
          0.049134560234523506,
          -0.05803388315328012,
          -4.900998056291578,
          -0.9296472110254966,
          -0.5368711878145329,
          -2.760691974304482,
          0.26261023822908713,
          -1.2206194977934768,
          0.04970844176913186,
          -6.7248430752427195,
          0.977627970199372,
          -0.03660099945095374,
          -1.1473768100021462,
          -7.30567537955617,
          0.35936367655615153,
          -7.181335618638186,
          0.05926284845276686,
          0.0168694697853001,
          -0.9957059209796957,
          -7.7011425297736755,
          -5.910549405531583,
          -6.908770367485213,
          -3.010585926348521,
          -7.494652437700515,
          -8.587869055969758,
          -1.3639791638825964,
          -5.064241426085092,
          -5.6170740456095265,
          -4.7739425354125355,
          -1.7663832991041537,
          -6.1739640865952445,
          -3.947050237507529,
          -2.2456008946511514,
          -4.809260395700716,
          -1.63075008512513,
          4.563538743532495,
          -0.03509438609852564
         ]
        }
       ],
       "layout": {
        "autosize": false,
        "height": 800,
        "hovermode": "closest",
        "margin": {
         "b": 85,
         "l": 40,
         "r": 40,
         "t": 100
        },
        "showlegend": false,
        "template": {
         "data": {
          "bar": [
           {
            "error_x": {
             "color": "#2a3f5f"
            },
            "error_y": {
             "color": "#2a3f5f"
            },
            "marker": {
             "line": {
              "color": "#E5ECF6",
              "width": 0.5
             }
            },
            "type": "bar"
           }
          ],
          "barpolar": [
           {
            "marker": {
             "line": {
              "color": "#E5ECF6",
              "width": 0.5
             }
            },
            "type": "barpolar"
           }
          ],
          "carpet": [
           {
            "aaxis": {
             "endlinecolor": "#2a3f5f",
             "gridcolor": "white",
             "linecolor": "white",
             "minorgridcolor": "white",
             "startlinecolor": "#2a3f5f"
            },
            "baxis": {
             "endlinecolor": "#2a3f5f",
             "gridcolor": "white",
             "linecolor": "white",
             "minorgridcolor": "white",
             "startlinecolor": "#2a3f5f"
            },
            "type": "carpet"
           }
          ],
          "choropleth": [
           {
            "colorbar": {
             "outlinewidth": 0,
             "ticks": ""
            },
            "type": "choropleth"
           }
          ],
          "contour": [
           {
            "colorbar": {
             "outlinewidth": 0,
             "ticks": ""
            },
            "colorscale": [
             [
              0,
              "#0d0887"
             ],
             [
              0.1111111111111111,
              "#46039f"
             ],
             [
              0.2222222222222222,
              "#7201a8"
             ],
             [
              0.3333333333333333,
              "#9c179e"
             ],
             [
              0.4444444444444444,
              "#bd3786"
             ],
             [
              0.5555555555555556,
              "#d8576b"
             ],
             [
              0.6666666666666666,
              "#ed7953"
             ],
             [
              0.7777777777777778,
              "#fb9f3a"
             ],
             [
              0.8888888888888888,
              "#fdca26"
             ],
             [
              1,
              "#f0f921"
             ]
            ],
            "type": "contour"
           }
          ],
          "contourcarpet": [
           {
            "colorbar": {
             "outlinewidth": 0,
             "ticks": ""
            },
            "type": "contourcarpet"
           }
          ],
          "heatmap": [
           {
            "colorbar": {
             "outlinewidth": 0,
             "ticks": ""
            },
            "colorscale": [
             [
              0,
              "#0d0887"
             ],
             [
              0.1111111111111111,
              "#46039f"
             ],
             [
              0.2222222222222222,
              "#7201a8"
             ],
             [
              0.3333333333333333,
              "#9c179e"
             ],
             [
              0.4444444444444444,
              "#bd3786"
             ],
             [
              0.5555555555555556,
              "#d8576b"
             ],
             [
              0.6666666666666666,
              "#ed7953"
             ],
             [
              0.7777777777777778,
              "#fb9f3a"
             ],
             [
              0.8888888888888888,
              "#fdca26"
             ],
             [
              1,
              "#f0f921"
             ]
            ],
            "type": "heatmap"
           }
          ],
          "heatmapgl": [
           {
            "colorbar": {
             "outlinewidth": 0,
             "ticks": ""
            },
            "colorscale": [
             [
              0,
              "#0d0887"
             ],
             [
              0.1111111111111111,
              "#46039f"
             ],
             [
              0.2222222222222222,
              "#7201a8"
             ],
             [
              0.3333333333333333,
              "#9c179e"
             ],
             [
              0.4444444444444444,
              "#bd3786"
             ],
             [
              0.5555555555555556,
              "#d8576b"
             ],
             [
              0.6666666666666666,
              "#ed7953"
             ],
             [
              0.7777777777777778,
              "#fb9f3a"
             ],
             [
              0.8888888888888888,
              "#fdca26"
             ],
             [
              1,
              "#f0f921"
             ]
            ],
            "type": "heatmapgl"
           }
          ],
          "histogram": [
           {
            "marker": {
             "colorbar": {
              "outlinewidth": 0,
              "ticks": ""
             }
            },
            "type": "histogram"
           }
          ],
          "histogram2d": [
           {
            "colorbar": {
             "outlinewidth": 0,
             "ticks": ""
            },
            "colorscale": [
             [
              0,
              "#0d0887"
             ],
             [
              0.1111111111111111,
              "#46039f"
             ],
             [
              0.2222222222222222,
              "#7201a8"
             ],
             [
              0.3333333333333333,
              "#9c179e"
             ],
             [
              0.4444444444444444,
              "#bd3786"
             ],
             [
              0.5555555555555556,
              "#d8576b"
             ],
             [
              0.6666666666666666,
              "#ed7953"
             ],
             [
              0.7777777777777778,
              "#fb9f3a"
             ],
             [
              0.8888888888888888,
              "#fdca26"
             ],
             [
              1,
              "#f0f921"
             ]
            ],
            "type": "histogram2d"
           }
          ],
          "histogram2dcontour": [
           {
            "colorbar": {
             "outlinewidth": 0,
             "ticks": ""
            },
            "colorscale": [
             [
              0,
              "#0d0887"
             ],
             [
              0.1111111111111111,
              "#46039f"
             ],
             [
              0.2222222222222222,
              "#7201a8"
             ],
             [
              0.3333333333333333,
              "#9c179e"
             ],
             [
              0.4444444444444444,
              "#bd3786"
             ],
             [
              0.5555555555555556,
              "#d8576b"
             ],
             [
              0.6666666666666666,
              "#ed7953"
             ],
             [
              0.7777777777777778,
              "#fb9f3a"
             ],
             [
              0.8888888888888888,
              "#fdca26"
             ],
             [
              1,
              "#f0f921"
             ]
            ],
            "type": "histogram2dcontour"
           }
          ],
          "mesh3d": [
           {
            "colorbar": {
             "outlinewidth": 0,
             "ticks": ""
            },
            "type": "mesh3d"
           }
          ],
          "parcoords": [
           {
            "line": {
             "colorbar": {
              "outlinewidth": 0,
              "ticks": ""
             }
            },
            "type": "parcoords"
           }
          ],
          "pie": [
           {
            "automargin": true,
            "type": "pie"
           }
          ],
          "scatter": [
           {
            "marker": {
             "colorbar": {
              "outlinewidth": 0,
              "ticks": ""
             }
            },
            "type": "scatter"
           }
          ],
          "scatter3d": [
           {
            "line": {
             "colorbar": {
              "outlinewidth": 0,
              "ticks": ""
             }
            },
            "marker": {
             "colorbar": {
              "outlinewidth": 0,
              "ticks": ""
             }
            },
            "type": "scatter3d"
           }
          ],
          "scattercarpet": [
           {
            "marker": {
             "colorbar": {
              "outlinewidth": 0,
              "ticks": ""
             }
            },
            "type": "scattercarpet"
           }
          ],
          "scattergeo": [
           {
            "marker": {
             "colorbar": {
              "outlinewidth": 0,
              "ticks": ""
             }
            },
            "type": "scattergeo"
           }
          ],
          "scattergl": [
           {
            "marker": {
             "colorbar": {
              "outlinewidth": 0,
              "ticks": ""
             }
            },
            "type": "scattergl"
           }
          ],
          "scattermapbox": [
           {
            "marker": {
             "colorbar": {
              "outlinewidth": 0,
              "ticks": ""
             }
            },
            "type": "scattermapbox"
           }
          ],
          "scatterpolar": [
           {
            "marker": {
             "colorbar": {
              "outlinewidth": 0,
              "ticks": ""
             }
            },
            "type": "scatterpolar"
           }
          ],
          "scatterpolargl": [
           {
            "marker": {
             "colorbar": {
              "outlinewidth": 0,
              "ticks": ""
             }
            },
            "type": "scatterpolargl"
           }
          ],
          "scatterternary": [
           {
            "marker": {
             "colorbar": {
              "outlinewidth": 0,
              "ticks": ""
             }
            },
            "type": "scatterternary"
           }
          ],
          "surface": [
           {
            "colorbar": {
             "outlinewidth": 0,
             "ticks": ""
            },
            "colorscale": [
             [
              0,
              "#0d0887"
             ],
             [
              0.1111111111111111,
              "#46039f"
             ],
             [
              0.2222222222222222,
              "#7201a8"
             ],
             [
              0.3333333333333333,
              "#9c179e"
             ],
             [
              0.4444444444444444,
              "#bd3786"
             ],
             [
              0.5555555555555556,
              "#d8576b"
             ],
             [
              0.6666666666666666,
              "#ed7953"
             ],
             [
              0.7777777777777778,
              "#fb9f3a"
             ],
             [
              0.8888888888888888,
              "#fdca26"
             ],
             [
              1,
              "#f0f921"
             ]
            ],
            "type": "surface"
           }
          ],
          "table": [
           {
            "cells": {
             "fill": {
              "color": "#EBF0F8"
             },
             "line": {
              "color": "white"
             }
            },
            "header": {
             "fill": {
              "color": "#C8D4E3"
             },
             "line": {
              "color": "white"
             }
            },
            "type": "table"
           }
          ]
         },
         "layout": {
          "annotationdefaults": {
           "arrowcolor": "#2a3f5f",
           "arrowhead": 0,
           "arrowwidth": 1
          },
          "coloraxis": {
           "colorbar": {
            "outlinewidth": 0,
            "ticks": ""
           }
          },
          "colorscale": {
           "diverging": [
            [
             0,
             "#8e0152"
            ],
            [
             0.1,
             "#c51b7d"
            ],
            [
             0.2,
             "#de77ae"
            ],
            [
             0.3,
             "#f1b6da"
            ],
            [
             0.4,
             "#fde0ef"
            ],
            [
             0.5,
             "#f7f7f7"
            ],
            [
             0.6,
             "#e6f5d0"
            ],
            [
             0.7,
             "#b8e186"
            ],
            [
             0.8,
             "#7fbc41"
            ],
            [
             0.9,
             "#4d9221"
            ],
            [
             1,
             "#276419"
            ]
           ],
           "sequential": [
            [
             0,
             "#0d0887"
            ],
            [
             0.1111111111111111,
             "#46039f"
            ],
            [
             0.2222222222222222,
             "#7201a8"
            ],
            [
             0.3333333333333333,
             "#9c179e"
            ],
            [
             0.4444444444444444,
             "#bd3786"
            ],
            [
             0.5555555555555556,
             "#d8576b"
            ],
            [
             0.6666666666666666,
             "#ed7953"
            ],
            [
             0.7777777777777778,
             "#fb9f3a"
            ],
            [
             0.8888888888888888,
             "#fdca26"
            ],
            [
             1,
             "#f0f921"
            ]
           ],
           "sequentialminus": [
            [
             0,
             "#0d0887"
            ],
            [
             0.1111111111111111,
             "#46039f"
            ],
            [
             0.2222222222222222,
             "#7201a8"
            ],
            [
             0.3333333333333333,
             "#9c179e"
            ],
            [
             0.4444444444444444,
             "#bd3786"
            ],
            [
             0.5555555555555556,
             "#d8576b"
            ],
            [
             0.6666666666666666,
             "#ed7953"
            ],
            [
             0.7777777777777778,
             "#fb9f3a"
            ],
            [
             0.8888888888888888,
             "#fdca26"
            ],
            [
             1,
             "#f0f921"
            ]
           ]
          },
          "colorway": [
           "#636efa",
           "#EF553B",
           "#00cc96",
           "#ab63fa",
           "#FFA15A",
           "#19d3f3",
           "#FF6692",
           "#B6E880",
           "#FF97FF",
           "#FECB52"
          ],
          "font": {
           "color": "#2a3f5f"
          },
          "geo": {
           "bgcolor": "white",
           "lakecolor": "white",
           "landcolor": "#E5ECF6",
           "showlakes": true,
           "showland": true,
           "subunitcolor": "white"
          },
          "hoverlabel": {
           "align": "left"
          },
          "hovermode": "closest",
          "mapbox": {
           "style": "light"
          },
          "paper_bgcolor": "white",
          "plot_bgcolor": "#E5ECF6",
          "polar": {
           "angularaxis": {
            "gridcolor": "white",
            "linecolor": "white",
            "ticks": ""
           },
           "bgcolor": "#E5ECF6",
           "radialaxis": {
            "gridcolor": "white",
            "linecolor": "white",
            "ticks": ""
           }
          },
          "scene": {
           "xaxis": {
            "backgroundcolor": "#E5ECF6",
            "gridcolor": "white",
            "gridwidth": 2,
            "linecolor": "white",
            "showbackground": true,
            "ticks": "",
            "zerolinecolor": "white"
           },
           "yaxis": {
            "backgroundcolor": "#E5ECF6",
            "gridcolor": "white",
            "gridwidth": 2,
            "linecolor": "white",
            "showbackground": true,
            "ticks": "",
            "zerolinecolor": "white"
           },
           "zaxis": {
            "backgroundcolor": "#E5ECF6",
            "gridcolor": "white",
            "gridwidth": 2,
            "linecolor": "white",
            "showbackground": true,
            "ticks": "",
            "zerolinecolor": "white"
           }
          },
          "shapedefaults": {
           "line": {
            "color": "#2a3f5f"
           }
          },
          "ternary": {
           "aaxis": {
            "gridcolor": "white",
            "linecolor": "white",
            "ticks": ""
           },
           "baxis": {
            "gridcolor": "white",
            "linecolor": "white",
            "ticks": ""
           },
           "bgcolor": "#E5ECF6",
           "caxis": {
            "gridcolor": "white",
            "linecolor": "white",
            "ticks": ""
           }
          },
          "title": {
           "x": 0.05
          },
          "xaxis": {
           "automargin": true,
           "gridcolor": "white",
           "linecolor": "white",
           "ticks": "",
           "title": {
            "standoff": 15
           },
           "zerolinecolor": "white",
           "zerolinewidth": 2
          },
          "yaxis": {
           "automargin": true,
           "gridcolor": "white",
           "linecolor": "white",
           "ticks": "",
           "title": {
            "standoff": 15
           },
           "zerolinecolor": "white",
           "zerolinewidth": 2
          }
         }
        },
        "width": 800,
        "xaxis": {
         "showgrid": false,
         "showline": false,
         "showticklabels": false,
         "title": {
          "text": ""
         },
         "zeroline": false
        },
        "yaxis": {
         "showgrid": false,
         "showline": false,
         "showticklabels": false,
         "title": {
          "text": ""
         },
         "zeroline": false
        }
       }
      },
      "text/html": [
       "<div>\n",
       "        \n",
       "        \n",
       "            <div id=\"2fe607df-ccf1-4a2c-8267-ff012b3c5096\" class=\"plotly-graph-div\" style=\"height:800px; width:800px;\"></div>\n",
       "            <script type=\"text/javascript\">\n",
       "                require([\"plotly\"], function(Plotly) {\n",
       "                    window.PLOTLYENV=window.PLOTLYENV || {};\n",
       "                    \n",
       "                if (document.getElementById(\"2fe607df-ccf1-4a2c-8267-ff012b3c5096\")) {\n",
       "                    Plotly.newPlot(\n",
       "                        '2fe607df-ccf1-4a2c-8267-ff012b3c5096',\n",
       "                        [{\"hoverinfo\": \"none\", \"line\": {\"color\": \"rgb(210,210,210)\", \"width\": 1}, \"mode\": \"lines\", \"type\": \"scatter\", \"x\": [6.8486741256436945, 6.457708762446295, null, 6.457708762446295, 6.17621358567421, null, 6.17621358567421, 5.689284135138995, null, 5.689284135138995, 5.581276307391585, null, 5.581276307391585, 5.220538488397764, null, 5.220538488397764, 4.979082718092742, null, 4.979082718092742, 5.189456531285787, null, 5.189456531285787, 4.764733474758424, null, 4.764733474758424, 4.4121967582226125, null, 4.4121967582226125, 4.087563172755938, null, 4.087563172755938, 3.5114366592937296, null, 3.5114366592937296, 3.0837570939497314, null, 3.0837570939497314, 2.231190922983137, null, 2.231190922983137, 1.8572382222393955, null, 1.8572382222393955, 2.325704485560687, null, 2.325704485560687, 2.5767604009107803, null, 2.5767604009107803, 2.5874381994320053, null, 2.5874381994320053, 2.3924771589015705, null, 2.3924771589015705, 1.974230171006802, null, 1.8572382222393955, 1.974230171006802, null, 1.8572382222393955, 1.5218286339580511, null, 1.5218286339580511, 0.929533860542721, null, 0.929533860542721, 0.44454347611728884, null, 0.44454347611728884, -0.03438335163232492, null, -0.03438335163232492, -0.39929095810449644, null, -0.39929095810449644, -0.7978799159450582, null, -0.7978799159450582, -1.2173101828010138, null, -1.2173101828010138, -0.9528687084353569, null, -0.9528687084353569, -1.6605202571627737, null, -1.6605202571627737, -2.116672023590875, null, -2.116672023590875, -2.135789214837985, null, -2.135789214837985, -1.945007857310042, null, -1.945007857310042, -1.5759262811773112, null, -1.5759262811773112, -0.8887743000542312, null, -0.8887743000542312, -0.2869119300614334, null, -0.2869119300614334, 0.07639903965371608, null, 0.07639903965371608, 0.6847216110306288, null, 0.6847216110306288, 1.1734770797892555, null, 1.8572382222393955, 1.1734770797892555, null, 1.8572382222393955, 1.552401272085962, null, 1.552401272085962, 1.5205748908453152, null, 1.5205748908453152, 1.390993209459612, null, 1.390993209459612, 1.5362058639189855, null, 1.8572382222393955, 1.5362058639189855, null, 1.8572382222393955, 1.907016494671158, null, 1.907016494671158, 2.2876907938128426, null, 2.2876907938128426, 2.4748515941702647, null, 2.4748515941702647, 2.5038069805751255, null, 2.5038069805751255, 2.656367105382955, null, 2.656367105382955, 2.163563096151499, null, 2.163563096151499, 1.8010470667094811, null, 1.8010470667094811, 1.139839058034775, null, 1.139839058034775, 0.39330373900573806, null, 0.39330373900573806, 0.0020331902795355516, null, 0.0020331902795355516, -0.4888157823657966, null, -0.4888157823657966, -0.765835666653288, null, -0.765835666653288, -0.9552313967380645, null, -0.9552313967380645, -1.071849093161774, null, -1.071849093161774, -0.7693445397334536, null, -0.7693445397334536, -0.9681288149238334, null, -0.7693445397334536, -0.3243725295381376, null, -0.3243725295381376, -0.44850871270462545, null, -0.44850871270462545, -0.4684475871991512, null, -0.4684475871991512, -0.9681288149238334, null, -0.7693445397334536, -0.30147796463156096, null, -0.7693445397334536, -0.30147796463156096, null, -0.5572793926166887, -0.4284375041173295, null, -0.4284375041173295, -0.778019205791135, null, -0.778019205791135, -0.9681288149238334, null, -0.7693445397334536, -1.3549166274457924, null, -0.7693445397334536, -1.171748075444349, null, -0.7693445397334536, -1.171748075444349, null, -0.7693445397334536, -0.9681288149238334, null, -0.7693445397334536, -0.9681288149238334, null, -0.7693445397334536, -0.7039974126921944, null, -0.7039974126921944, 0.24540652231229398, null, 0.24540652231229398, 0.45865149702818275, null, 0.45865149702818275, 0.7218059560890268, null, -0.7693445397334536, -0.887310220820255, null, -0.7693445397334536, -0.6416579656155186, null, -0.7693445397334536, -0.6416579656155186, null, -0.7693445397334536, -1.220131130001386, null, -1.220131130001386, -1.906629122561713, null, -1.906629122561713, -2.4609466633033086, null, -0.7693445397334536, -0.5271327527702855, null, -0.21177226107118874, -0.9673038417107258, null, -0.7693445397334536, -0.9673038417107258, null, -0.7693445397334536, -0.1324783709596259, null, -0.7693445397334536, -0.1324783709596259, null, -4.394491236465675, -4.856028142247755, null, -0.9681288149238334, -0.7511187311354768, null, -0.7511187311354768, -0.05459032353867349, null, 0.675168945313435, -0.05459032353867349, null, -0.05459032353867349, 0.3684508963654664, null, -0.9681288149238334, -0.9460259535876194, null, -0.7693445397334536, -1.2626630804887022, null, -0.7693445397334536, -0.6031883630877262, null, -0.7693445397334536, -0.9681288149238334, null, -1.8631812518144373, -1.8585141729522257, null, -1.8585141729522257, -1.6114110630380645, null, -1.6114110630380645, -1.5095884536756643, null, -1.5095884536756643, -1.136663055694753, null, -0.9681288149238334, -1.136663055694753, null, -0.7693445397334536, -1.136663055694753, null, -0.9681288149238334, -1.136663055694753, null, -0.9681288149238334, -0.7293847737859296, null, -0.9681288149238334, -0.8845031898295836, null, -0.7693445397334536, -0.8845031898295836, null, -8.220282847057765, -8.313917555585135, null, -8.313917555585135, -8.290117606784772, null, -0.7693445397334536, -0.8770549581012022, null, -0.4284375041173295, -0.8770549581012022, null, -0.4284375041173295, -0.9681288149238334, null, -0.7693445397334536, -0.9681288149238334, null, -0.9681288149238334, -1.3479649932048103, null, -1.3479649932048103, -0.09394308658748401, null, -0.9460259535876194, -0.523591049214829, null, -0.7693445397334536, -0.9681288149238334, null, -1.8479422940445314, -1.3193535140271346, null, -0.9681288149238334, -1.3193535140271346, null, -0.9681288149238334, -0.887310220820255, null, -0.7693445397334536, -0.3527950529365048, null, -0.9681288149238334, -1.136663055694753, null, -0.7693445397334536, -0.9681288149238334, null, -1.171748075444349, -0.9681288149238334, null, 0.8995292676456832, 0.6276421806716544, null, -0.46306032889682897, -0.5065210367060603, null, -0.5065210367060603, -0.997234451946628, null, -0.9681288149238334, -0.997234451946628, null, -0.9681288149238334, -0.5919155275336653, null, -0.7693445397334536, -0.9681288149238334, null, -1.3549166274457924, -1.3441563378968986, null, -0.9681288149238334, -1.4710070395776251, null, -0.7693445397334536, -0.9681288149238334, null, -0.7693445397334536, -0.19633786200020692, null, -0.7693445397334536, -0.5572793926166887, null, -0.9681288149238334, -0.7688773613845807, null, -0.7688773613845807, -0.6311637360970712, null, -0.6311637360970712, 0.16699286324905654, null, 0.6205284359405852, 0.3631780046292913, null, -0.9681288149238334, -0.5919155275336653, null, -0.7693445397334536, -0.9681288149238334, null, -0.7693445397334536, -0.23490881038986267, null, 2.5748002576605167, 3.2175713736106073, null, -0.7693445397334536, -0.19319709991066897, null, -0.7693445397334536, -0.9681288149238334, null, -0.7693445397334536, -0.19415496719140635, null, -0.9681288149238334, -1.4742090999408732, null, -0.7693445397334536, -0.9681288149238334, null, -0.9681288149238334, -0.8770549581012022, null, -0.7693445397334536, -0.7352594614162925, null, -0.7693445397334536, -0.9681288149238334, null, -0.7693445397334536, -0.5267162178499236, null, -0.5919155275336653, -1.2792728851399542, null, 2.546884377909014, 3.2109083768461026, null, 1.4643377657591528, 1.0088122877152685, null, -2.556898757079, -2.1972054903857368, null, -2.556898757079, -2.1972054903857368, null, -2.556898757079, -2.1106485577519667, null, -4.873712461469802, -4.629537900320306, null, -0.1421702086176353, 0.2885926489520854, null, 3.2127735007610396, 2.780637152615041, null, 2.325704485560687, 2.780637152615041, null, 2.325704485560687, 2.4942165283458735, null, 2.4942165283458735, 2.060202095702984, null, 2.060202095702984, 1.7972526891017815, null, 1.5218286339580511, 1.7972526891017815, null, 1.5218286339580511, 1.552401272085962, null, -2.924280167692382, -2.45732540539569, null, -2.45732540539569, -1.8496970635141263, null, 4.62761779678009, 4.982235797883459, null, 7.559498816888314, 8.165741139907514, null, -0.46266761727986533, 0.25489018108742456, null, -0.46266761727986533, 0.25489018108742456, null, -0.46266761727986533, 0.25489018108742456, null, -5.889326082099413, -5.677158459473451, null, -5.677158459473451, -6.449609152185925, null, 0.21319336636366637, 0.06145796485522657, null, 0.06145796485522657, 0.3354807065629962, null, 3.3536462275091017, 3.150794523411598, null, 5.019625095106639, 5.486175133751341, null, 5.167501689925023, 5.422103488563824, null, 5.167501689925023, 5.422103488563824, null, 5.167501689925023, 4.766424028091056, null, 6.752365893187496, 6.721978823196754, null, 6.721978823196754, 7.084409301034271, null, 7.084409301034271, 6.9365830343004795, null, 5.941092750581232, 5.911693183693519, null, 6.237651947478838, 5.886666607060694, null, 2.1548994965731887, 2.367001210780124, null, 1.3800980361202648, 0.9993840023056041, null], \"y\": [2.3062353712615202, 2.584131633133908, null, 2.584131633133908, 2.7862212449719648, null, 2.7862212449719648, 3.0475511691521646, null, 3.0475511691521646, 3.593911872239636, null, 3.593911872239636, 4.196201560186738, null, 4.196201560186738, 4.484567624333053, null, 4.484567624333053, 4.917433490122917, null, 4.917433490122917, 5.30953179712461, null, 5.30953179712461, 5.365153338348821, null, 5.365153338348821, 5.433708186632317, null, 5.433708186632317, 5.488900975380276, null, 5.488900975380276, 5.3933598690600055, null, 5.3933598690600055, 5.34901440575961, null, 5.34901440575961, 5.493059148797917, null, 5.493059148797917, 5.57181960475182, null, 5.57181960475182, 6.033805514142641, null, 6.033805514142641, 6.5552196314059925, null, 6.5552196314059925, 6.096474363146676, null, 6.096474363146676, 6.053349294455021, null, 5.493059148797917, 6.053349294455021, null, 5.493059148797917, 5.327133847100335, null, 5.327133847100335, 5.5984451090457785, null, 5.5984451090457785, 5.738975587719719, null, 5.738975587719719, 6.148923000842791, null, 6.148923000842791, 6.626778598602916, null, 6.626778598602916, 6.871168174380087, null, 6.871168174380087, 7.098586698541514, null, 7.098586698541514, 7.325332833298413, null, 7.325332833298413, 7.2565937321521305, null, 7.2565937321521305, 7.234600822892196, null, 7.234600822892196, 6.947925677020967, null, 6.947925677020967, 6.604013581178263, null, 6.604013581178263, 6.271682328493762, null, 6.271682328493762, 6.180810039638951, null, 6.180810039638951, 6.095134174873106, null, 6.095134174873106, 5.785192579923264, null, 5.785192579923264, 5.770970376988537, null, 5.770970376988537, 5.293109052315231, null, 5.493059148797917, 5.293109052315231, null, 5.493059148797917, 5.512619723194525, null, 5.512619723194525, 6.0183645061135405, null, 6.0183645061135405, 6.063053750759646, null, 6.063053750759646, 5.429213028832276, null, 5.493059148797917, 5.429213028832276, null, 5.493059148797917, 4.93916466571369, null, 4.93916466571369, 4.493643209958026, null, 4.493643209958026, 4.156418927420357, null, 4.156418927420357, 3.8196438574149534, null, 3.8196438574149534, 3.278691133392436, null, 3.278691133392436, 2.9696745159454845, null, 2.9696745159454845, 2.757363183580166, null, 2.757363183580166, 2.893549162823369, null, 2.893549162823369, 2.876800871486703, null, 2.876800871486703, 2.5554856810560174, null, 2.5554856810560174, 2.3945080912661707, null, 2.3945080912661707, 1.8727354005282153, null, 1.8727354005282153, 1.330730875899673, null, 1.330730875899673, 0.8297446548552512, null, 0.8297446548552512, 0.299511360663561, null, 0.299511360663561, -0.24351972234284833, null, 0.299511360663561, 0.5903678426972586, null, 0.5903678426972586, 0.8937784594786562, null, 0.8937784594786562, -0.11577575550906119, null, -0.11577575550906119, -0.24351972234284833, null, 0.299511360663561, 0.6334332065778134, null, 0.299511360663561, 0.6334332065778134, null, 0.4160883499620771, -0.37653750385390033, null, -0.37653750385390033, -0.05012099194636055, null, -0.05012099194636055, -0.24351972234284833, null, 0.299511360663561, 0.5156080757247474, null, 0.299511360663561, 0.1802068254380465, null, 0.299511360663561, 0.1802068254380465, null, 0.299511360663561, -0.24351972234284833, null, 0.299511360663561, -0.24351972234284833, null, 0.299511360663561, 0.7102025365504521, null, 0.7102025365504521, 0.43714066291522624, null, 0.43714066291522624, 1.1063803500618778, null, 1.1063803500618778, 1.3569679759049593, null, 0.299511360663561, 0.05256826597142117, null, 0.299511360663561, 0.6115925394035026, null, 0.299511360663561, 0.6115925394035026, null, 0.299511360663561, 0.43399277793501245, null, 0.43399277793501245, 0.3390057702631031, null, 0.3390057702631031, 0.049134560234523506, null, 0.299511360663561, -0.05803388315328012, null, 0.989360605393059, 0.5787838775431389, null, 0.299511360663561, 0.5787838775431389, null, 0.299511360663561, 0.06623640587539825, null, 0.299511360663561, 0.06623640587539825, null, -4.728871230364868, -4.900998056291578, null, -0.24351972234284833, -0.6828366056999803, null, -0.6828366056999803, -0.8991830020713744, null, -0.9827408533905907, -0.8991830020713744, null, -0.8991830020713744, -0.9296472110254966, null, -0.24351972234284833, -0.785809687010929, null, 0.299511360663561, 0.5005285094173608, null, 0.299511360663561, 0.31805477649574293, null, 0.299511360663561, -0.24351972234284833, null, -2.154619770407937, -1.5018367349745587, null, -1.5018367349745587, -1.148534734146733, null, -1.148534734146733, -0.6454315999733112, null, -0.6454315999733112, -0.13625196697232791, null, -0.24351972234284833, -0.13625196697232791, null, 0.299511360663561, -0.13625196697232791, null, -0.24351972234284833, -0.13625196697232791, null, -0.24351972234284833, -0.5368711878145329, null, -0.24351972234284833, -0.13850088573547184, null, 0.299511360663561, -0.13850088573547184, null, -2.625537025317104, -2.276458938028276, null, -2.276458938028276, -2.760691974304482, null, 0.299511360663561, -0.025877362888336017, null, -0.37653750385390033, -0.025877362888336017, null, -0.37653750385390033, -0.24351972234284833, null, 0.299511360663561, -0.24351972234284833, null, -0.24351972234284833, -0.04166841126582503, null, -0.04166841126582503, 0.26261023822908713, null, -0.785809687010929, -1.2206194977934768, null, 0.299511360663561, -0.24351972234284833, null, -0.8445647301903334, -0.5341213889138363, null, -0.24351972234284833, -0.5341213889138363, null, -0.24351972234284833, 0.05256826597142117, null, 0.299511360663561, 0.04970844176913186, null, -0.24351972234284833, -0.13625196697232791, null, 0.299511360663561, -0.24351972234284833, null, 0.1802068254380465, -0.24351972234284833, null, -6.973987810093765, -6.7248430752427195, null, -1.6875074218598853, -1.1778035248312801, null, -1.1778035248312801, -0.6196314176949366, null, -0.24351972234284833, -0.6196314176949366, null, -0.24351972234284833, -0.5287178983607514, null, 0.299511360663561, -0.24351972234284833, null, 0.5156080757247474, 0.977627970199372, null, -0.24351972234284833, -0.2348588916268638, null, 0.299511360663561, -0.24351972234284833, null, 0.299511360663561, -0.03660099945095374, null, 0.299511360663561, 0.4160883499620771, null, -0.24351972234284833, -0.550030871658908, null, -0.550030871658908, -0.947775139254463, null, -0.947775139254463, -1.1473768100021462, null, -7.646068006099551, -7.30567537955617, null, -0.24351972234284833, -0.5287178983607514, null, 0.299511360663561, -0.24351972234284833, null, 0.299511360663561, 0.35936367655615153, null, -6.98322611155438, -7.181335618638186, null, 0.299511360663561, 0.05926284845276686, null, 0.299511360663561, -0.24351972234284833, null, 0.299511360663561, 0.44949600556269725, null, -0.24351972234284833, 0.0168694697853001, null, 0.299511360663561, -0.24351972234284833, null, -0.24351972234284833, -0.025877362888336017, null, 0.299511360663561, 0.034408446724506825, null, 0.299511360663561, -0.24351972234284833, null, 0.299511360663561, 0.6585779647126722, null, -0.5287178983607514, -0.9957059209796957, null, -7.497877304104558, -7.7011425297736755, null, -6.221112395216913, -5.910549405531583, null, -6.718338125695837, -6.9950639994368995, null, -6.718338125695837, -6.9950639994368995, null, -6.718338125695837, -6.908770367485213, null, -3.339058754425585, -3.010585926348521, null, -7.080147773480267, -7.494652437700515, null, 5.39719737963895, 5.483197767908681, null, 5.57181960475182, 5.483197767908681, null, 5.57181960475182, 5.387405170290531, null, 5.387405170290531, 5.426996856429944, null, 5.426996856429944, 5.809212272401632, null, 5.327133847100335, 5.809212272401632, null, 5.327133847100335, 5.512619723194525, null, -7.891478988702048, -8.377445069066473, null, -8.377445069066473, -8.587869055969758, null, -1.3957606783436673, -1.3639791638825964, null, -5.2980896125288375, -5.064241426085092, null, -3.713821309598667, -3.318478093926263, null, -3.713821309598667, -3.318478093926263, null, -3.713821309598667, -3.318478093926263, null, -5.659405045022665, -5.617911818130914, null, -5.617911818130914, -5.6170740456095265, null, -4.604503209564867, -4.676002489470996, null, -4.676002489470996, -4.7739425354125355, null, -2.172301149315912, -1.7663832991041537, null, -6.177411376366423, -6.1739640865952445, null, -3.874379809910301, -3.836394391972786, null, -3.874379809910301, -3.836394391972786, null, -3.874379809910301, -3.947050237507529, null, -0.9027503436756348, -1.4398444274650888, null, -1.4398444274650888, -1.7169690953643215, null, -1.7169690953643215, -2.2456008946511514, null, -5.374945370325559, -4.809260395700716, null, -1.6489475996849707, -1.63075008512513, null, 5.097122279858632, 4.563538743532495, null, 0.4988036177082429, -0.03509438609852564, null]}, {\"hoverinfo\": \"text\", \"marker\": {\"color\": \"#6959CD\", \"line\": {\"color\": \"rgb(50,50,50)\", \"width\": 0.5}, \"size\": 5, \"symbol\": \"circle-dot\"}, \"mode\": \"markers\", \"name\": \"ntw\", \"text\": [0.0, 1.0, 2.0, 3.0, 4.0, 5.0, 6.0, 7.0, 8.0, 9.0, 10.0, 11.0, 12.0, 13.0, 14.0, 15.0, 16.0, 17.0, 18.0, 19.0, 20.0, 21.0, 22.0, 23.0, 24.0, 25.0, 26.0, 27.0, 28.0, 29.0, 30.0, 31.0, 32.0, 33.0, 34.0, 35.0, 36.0, 37.0, 38.0, 39.0, 40.0, 41.0, 42.0, 43.0, 44.0, 45.0, 46.0, 47.0, 48.0, 49.0, 50.0, 51.0, 52.0, 53.0, 54.0, 55.0, 56.0, 58.0, 59.0, 60.0, 61.0, 62.0, 63.0, 64.0, 66.0, 67.0, 57.0, 68.0, 69.0, 70.0, 72.0, 73.0, 74.0, 75.0, 78.0, 79.0, 80.0, 81.0, 83.0, 85.0, 84.0, 87.0, 89.0, 90.0, 91.0, 92.0, 93.0, 94.0, 95.0, 97.0, 98.0, 99.0, 102.0, 103.0, 106.0, 107.0, 114.0, 113.0, 115.0, 116.0, 117.0, 120.0, 112.0, 134.0, 137.0, 142.0, 147.0, 152.0, 156.0, 129.0, 159.0, 161.0, 162.0, 164.0, 166.0, 173.0, 174.0, 175.0, 176.0, 177.0, 178.0, 179.0, 181.0, 183.0, 150.0, 187.0, 209.0, 210.0, 214.0, 215.0, 219.0, 225.0, 228.0, 229.0, 231.0, 232.0, 233.0, 235.0, 237.0, 246.0, 248.0, 71.0, 76.0, 77.0, 82.0, 86.0, 96.0, 100.0, 104.0, 105.0, 108.0, 88.0, 118.0, 133.0, 135.0, 138.0, 140.0, 143.0, 145.0, 148.0, 139.0, 155.0, 160.0, 163.0, 165.0, 167.0, 180.0, 182.0, 184.0, 211.0, 216.0, 220.0, 226.0, 230.0, 234.0, 236.0, 238.0, 247.0, 249.0], \"type\": \"scatter\", \"x\": [6.8486741256436945, 6.457708762446295, 6.17621358567421, 5.689284135138995, 5.581276307391585, 5.220538488397764, 4.979082718092742, 5.189456531285787, 4.764733474758424, 4.4121967582226125, 4.087563172755938, 3.5114366592937296, 3.0837570939497314, 2.231190922983137, 1.8572382222393955, 2.325704485560687, 2.5767604009107803, 2.5874381994320053, 2.3924771589015705, 1.974230171006802, 1.5218286339580511, 0.929533860542721, 0.44454347611728884, -0.03438335163232492, -0.39929095810449644, -0.7978799159450582, -1.2173101828010138, -0.9528687084353569, -1.6605202571627737, -2.116672023590875, -2.135789214837985, -1.945007857310042, -1.5759262811773112, -0.8887743000542312, -0.2869119300614334, 0.07639903965371608, 0.6847216110306288, 1.1734770797892555, 1.552401272085962, 1.5205748908453152, 1.390993209459612, 1.5362058639189855, 1.907016494671158, 2.2876907938128426, 2.4748515941702647, 2.5038069805751255, 2.656367105382955, 2.163563096151499, 1.8010470667094811, 1.139839058034775, 0.39330373900573806, 0.0020331902795355516, -0.4888157823657966, -0.765835666653288, -0.9552313967380645, -1.071849093161774, -0.7693445397334536, -0.3243725295381376, -0.44850871270462545, -0.4684475871991512, -0.30147796463156096, -0.5572793926166887, -0.4284375041173295, -0.778019205791135, -1.3549166274457924, -1.171748075444349, -0.9681288149238334, -0.7039974126921944, 0.24540652231229398, 0.45865149702818275, -0.887310220820255, -0.6416579656155186, -1.220131130001386, -1.906629122561713, -0.21177226107118874, -0.9673038417107258, -0.1324783709596259, -4.394491236465675, -0.7511187311354768, 0.675168945313435, -0.05459032353867349, -0.9460259535876194, -1.2626630804887022, -0.6031883630877262, -1.8631812518144373, -1.8585141729522257, -1.6114110630380645, -1.5095884536756643, -1.136663055694753, -0.8845031898295836, -8.220282847057765, -8.313917555585135, -0.8770549581012022, -1.3479649932048103, -1.8479422940445314, -1.3193535140271346, 0.8995292676456832, -0.46306032889682897, -0.5065210367060603, -0.997234451946628, -0.5919155275336653, -1.4710070395776251, -0.7688773613845807, -0.6311637360970712, 0.6205284359405852, 2.5748002576605167, -0.19415496719140635, -0.7352594614162925, -0.5267162178499236, 2.546884377909014, 1.4643377657591528, -2.556898757079, -2.1972054903857368, -4.873712461469802, -0.1421702086176353, 3.2127735007610396, 2.780637152615041, 2.4942165283458735, 2.060202095702984, 1.7972526891017815, -2.924280167692382, -2.45732540539569, 4.62761779678009, 7.559498816888314, -0.46266761727986533, 0.25489018108742456, -5.889326082099413, -5.677158459473451, 0.21319336636366637, 0.06145796485522657, 3.3536462275091017, 5.019625095106639, 5.167501689925023, 5.422103488563824, 6.752365893187496, 6.721978823196754, 7.084409301034271, 5.941092750581232, 6.237651947478838, 2.1548994965731887, 1.3800980361202648, 0.7218059560890268, -2.4609466633033086, -0.5271327527702855, -4.856028142247755, 0.3684508963654664, -0.7293847737859296, -8.290117606784772, -0.09394308658748401, -0.523591049214829, -0.3527950529365048, 0.6276421806716544, -1.3441563378968986, -0.19633786200020692, 0.16699286324905654, 0.3631780046292913, -0.23490881038986267, 3.2175713736106073, -0.19319709991066897, -1.4742090999408732, -1.2792728851399542, 3.2109083768461026, 1.0088122877152685, -2.1106485577519667, -4.629537900320306, 0.2885926489520854, -1.8496970635141263, 4.982235797883459, 8.165741139907514, -6.449609152185925, 0.3354807065629962, 3.150794523411598, 5.486175133751341, 4.766424028091056, 6.9365830343004795, 5.911693183693519, 5.886666607060694, 2.367001210780124, 0.9993840023056041], \"y\": [2.3062353712615202, 2.584131633133908, 2.7862212449719648, 3.0475511691521646, 3.593911872239636, 4.196201560186738, 4.484567624333053, 4.917433490122917, 5.30953179712461, 5.365153338348821, 5.433708186632317, 5.488900975380276, 5.3933598690600055, 5.34901440575961, 5.493059148797917, 5.57181960475182, 6.033805514142641, 6.5552196314059925, 6.096474363146676, 6.053349294455021, 5.327133847100335, 5.5984451090457785, 5.738975587719719, 6.148923000842791, 6.626778598602916, 6.871168174380087, 7.098586698541514, 7.325332833298413, 7.2565937321521305, 7.234600822892196, 6.947925677020967, 6.604013581178263, 6.271682328493762, 6.180810039638951, 6.095134174873106, 5.785192579923264, 5.770970376988537, 5.293109052315231, 5.512619723194525, 6.0183645061135405, 6.063053750759646, 5.429213028832276, 4.93916466571369, 4.493643209958026, 4.156418927420357, 3.8196438574149534, 3.278691133392436, 2.9696745159454845, 2.757363183580166, 2.893549162823369, 2.876800871486703, 2.5554856810560174, 2.3945080912661707, 1.8727354005282153, 1.330730875899673, 0.8297446548552512, 0.299511360663561, 0.5903678426972586, 0.8937784594786562, -0.11577575550906119, 0.6334332065778134, 0.4160883499620771, -0.37653750385390033, -0.05012099194636055, 0.5156080757247474, 0.1802068254380465, -0.24351972234284833, 0.7102025365504521, 0.43714066291522624, 1.1063803500618778, 0.05256826597142117, 0.6115925394035026, 0.43399277793501245, 0.3390057702631031, 0.989360605393059, 0.5787838775431389, 0.06623640587539825, -4.728871230364868, -0.6828366056999803, -0.9827408533905907, -0.8991830020713744, -0.785809687010929, 0.5005285094173608, 0.31805477649574293, -2.154619770407937, -1.5018367349745587, -1.148534734146733, -0.6454315999733112, -0.13625196697232791, -0.13850088573547184, -2.625537025317104, -2.276458938028276, -0.025877362888336017, -0.04166841126582503, -0.8445647301903334, -0.5341213889138363, -6.973987810093765, -1.6875074218598853, -1.1778035248312801, -0.6196314176949366, -0.5287178983607514, -0.2348588916268638, -0.550030871658908, -0.947775139254463, -7.646068006099551, -6.98322611155438, 0.44949600556269725, 0.034408446724506825, 0.6585779647126722, -7.497877304104558, -6.221112395216913, -6.718338125695837, -6.9950639994368995, -3.339058754425585, -7.080147773480267, 5.39719737963895, 5.483197767908681, 5.387405170290531, 5.426996856429944, 5.809212272401632, -7.891478988702048, -8.377445069066473, -1.3957606783436673, -5.2980896125288375, -3.713821309598667, -3.318478093926263, -5.659405045022665, -5.617911818130914, -4.604503209564867, -4.676002489470996, -2.172301149315912, -6.177411376366423, -3.874379809910301, -3.836394391972786, -0.9027503436756348, -1.4398444274650888, -1.7169690953643215, -5.374945370325559, -1.6489475996849707, 5.097122279858632, 0.4988036177082429, 1.3569679759049593, 0.049134560234523506, -0.05803388315328012, -4.900998056291578, -0.9296472110254966, -0.5368711878145329, -2.760691974304482, 0.26261023822908713, -1.2206194977934768, 0.04970844176913186, -6.7248430752427195, 0.977627970199372, -0.03660099945095374, -1.1473768100021462, -7.30567537955617, 0.35936367655615153, -7.181335618638186, 0.05926284845276686, 0.0168694697853001, -0.9957059209796957, -7.7011425297736755, -5.910549405531583, -6.908770367485213, -3.010585926348521, -7.494652437700515, -8.587869055969758, -1.3639791638825964, -5.064241426085092, -5.6170740456095265, -4.7739425354125355, -1.7663832991041537, -6.1739640865952445, -3.947050237507529, -2.2456008946511514, -4.809260395700716, -1.63075008512513, 4.563538743532495, -0.03509438609852564]}],\n",
       "                        {\"autosize\": false, \"height\": 800, \"hovermode\": \"closest\", \"margin\": {\"b\": 85, \"l\": 40, \"r\": 40, \"t\": 100}, \"showlegend\": false, \"template\": {\"data\": {\"bar\": [{\"error_x\": {\"color\": \"#2a3f5f\"}, \"error_y\": {\"color\": \"#2a3f5f\"}, \"marker\": {\"line\": {\"color\": \"#E5ECF6\", \"width\": 0.5}}, \"type\": \"bar\"}], \"barpolar\": [{\"marker\": {\"line\": {\"color\": \"#E5ECF6\", \"width\": 0.5}}, \"type\": \"barpolar\"}], \"carpet\": [{\"aaxis\": {\"endlinecolor\": \"#2a3f5f\", \"gridcolor\": \"white\", \"linecolor\": \"white\", \"minorgridcolor\": \"white\", \"startlinecolor\": \"#2a3f5f\"}, \"baxis\": {\"endlinecolor\": \"#2a3f5f\", \"gridcolor\": \"white\", \"linecolor\": \"white\", \"minorgridcolor\": \"white\", \"startlinecolor\": \"#2a3f5f\"}, \"type\": \"carpet\"}], \"choropleth\": [{\"colorbar\": {\"outlinewidth\": 0, \"ticks\": \"\"}, \"type\": \"choropleth\"}], \"contour\": [{\"colorbar\": {\"outlinewidth\": 0, \"ticks\": \"\"}, \"colorscale\": [[0.0, \"#0d0887\"], [0.1111111111111111, \"#46039f\"], [0.2222222222222222, \"#7201a8\"], [0.3333333333333333, \"#9c179e\"], [0.4444444444444444, \"#bd3786\"], [0.5555555555555556, \"#d8576b\"], [0.6666666666666666, \"#ed7953\"], [0.7777777777777778, \"#fb9f3a\"], [0.8888888888888888, \"#fdca26\"], [1.0, \"#f0f921\"]], \"type\": \"contour\"}], \"contourcarpet\": [{\"colorbar\": {\"outlinewidth\": 0, \"ticks\": \"\"}, \"type\": \"contourcarpet\"}], \"heatmap\": [{\"colorbar\": {\"outlinewidth\": 0, \"ticks\": \"\"}, \"colorscale\": [[0.0, \"#0d0887\"], [0.1111111111111111, \"#46039f\"], [0.2222222222222222, \"#7201a8\"], [0.3333333333333333, \"#9c179e\"], [0.4444444444444444, \"#bd3786\"], [0.5555555555555556, \"#d8576b\"], [0.6666666666666666, \"#ed7953\"], [0.7777777777777778, \"#fb9f3a\"], [0.8888888888888888, \"#fdca26\"], [1.0, \"#f0f921\"]], \"type\": \"heatmap\"}], \"heatmapgl\": [{\"colorbar\": {\"outlinewidth\": 0, \"ticks\": \"\"}, \"colorscale\": [[0.0, \"#0d0887\"], [0.1111111111111111, \"#46039f\"], [0.2222222222222222, \"#7201a8\"], [0.3333333333333333, \"#9c179e\"], [0.4444444444444444, \"#bd3786\"], [0.5555555555555556, \"#d8576b\"], [0.6666666666666666, \"#ed7953\"], [0.7777777777777778, \"#fb9f3a\"], [0.8888888888888888, \"#fdca26\"], [1.0, \"#f0f921\"]], \"type\": \"heatmapgl\"}], \"histogram\": [{\"marker\": {\"colorbar\": {\"outlinewidth\": 0, \"ticks\": \"\"}}, \"type\": \"histogram\"}], \"histogram2d\": [{\"colorbar\": {\"outlinewidth\": 0, \"ticks\": \"\"}, \"colorscale\": [[0.0, \"#0d0887\"], [0.1111111111111111, \"#46039f\"], [0.2222222222222222, \"#7201a8\"], [0.3333333333333333, \"#9c179e\"], [0.4444444444444444, \"#bd3786\"], [0.5555555555555556, \"#d8576b\"], [0.6666666666666666, \"#ed7953\"], [0.7777777777777778, \"#fb9f3a\"], [0.8888888888888888, \"#fdca26\"], [1.0, \"#f0f921\"]], \"type\": \"histogram2d\"}], \"histogram2dcontour\": [{\"colorbar\": {\"outlinewidth\": 0, \"ticks\": \"\"}, \"colorscale\": [[0.0, \"#0d0887\"], [0.1111111111111111, \"#46039f\"], [0.2222222222222222, \"#7201a8\"], [0.3333333333333333, \"#9c179e\"], [0.4444444444444444, \"#bd3786\"], [0.5555555555555556, \"#d8576b\"], [0.6666666666666666, \"#ed7953\"], [0.7777777777777778, \"#fb9f3a\"], [0.8888888888888888, \"#fdca26\"], [1.0, \"#f0f921\"]], \"type\": \"histogram2dcontour\"}], \"mesh3d\": [{\"colorbar\": {\"outlinewidth\": 0, \"ticks\": \"\"}, \"type\": \"mesh3d\"}], \"parcoords\": [{\"line\": {\"colorbar\": {\"outlinewidth\": 0, \"ticks\": \"\"}}, \"type\": \"parcoords\"}], \"pie\": [{\"automargin\": true, \"type\": \"pie\"}], \"scatter\": [{\"marker\": {\"colorbar\": {\"outlinewidth\": 0, \"ticks\": \"\"}}, \"type\": \"scatter\"}], \"scatter3d\": [{\"line\": {\"colorbar\": {\"outlinewidth\": 0, \"ticks\": \"\"}}, \"marker\": {\"colorbar\": {\"outlinewidth\": 0, \"ticks\": \"\"}}, \"type\": \"scatter3d\"}], \"scattercarpet\": [{\"marker\": {\"colorbar\": {\"outlinewidth\": 0, \"ticks\": \"\"}}, \"type\": \"scattercarpet\"}], \"scattergeo\": [{\"marker\": {\"colorbar\": {\"outlinewidth\": 0, \"ticks\": \"\"}}, \"type\": \"scattergeo\"}], \"scattergl\": [{\"marker\": {\"colorbar\": {\"outlinewidth\": 0, \"ticks\": \"\"}}, \"type\": \"scattergl\"}], \"scattermapbox\": [{\"marker\": {\"colorbar\": {\"outlinewidth\": 0, \"ticks\": \"\"}}, \"type\": \"scattermapbox\"}], \"scatterpolar\": [{\"marker\": {\"colorbar\": {\"outlinewidth\": 0, \"ticks\": \"\"}}, \"type\": \"scatterpolar\"}], \"scatterpolargl\": [{\"marker\": {\"colorbar\": {\"outlinewidth\": 0, \"ticks\": \"\"}}, \"type\": \"scatterpolargl\"}], \"scatterternary\": [{\"marker\": {\"colorbar\": {\"outlinewidth\": 0, \"ticks\": \"\"}}, \"type\": \"scatterternary\"}], \"surface\": [{\"colorbar\": {\"outlinewidth\": 0, \"ticks\": \"\"}, \"colorscale\": [[0.0, \"#0d0887\"], [0.1111111111111111, \"#46039f\"], [0.2222222222222222, \"#7201a8\"], [0.3333333333333333, \"#9c179e\"], [0.4444444444444444, \"#bd3786\"], [0.5555555555555556, \"#d8576b\"], [0.6666666666666666, \"#ed7953\"], [0.7777777777777778, \"#fb9f3a\"], [0.8888888888888888, \"#fdca26\"], [1.0, \"#f0f921\"]], \"type\": \"surface\"}], \"table\": [{\"cells\": {\"fill\": {\"color\": \"#EBF0F8\"}, \"line\": {\"color\": \"white\"}}, \"header\": {\"fill\": {\"color\": \"#C8D4E3\"}, \"line\": {\"color\": \"white\"}}, \"type\": \"table\"}]}, \"layout\": {\"annotationdefaults\": {\"arrowcolor\": \"#2a3f5f\", \"arrowhead\": 0, \"arrowwidth\": 1}, \"coloraxis\": {\"colorbar\": {\"outlinewidth\": 0, \"ticks\": \"\"}}, \"colorscale\": {\"diverging\": [[0, \"#8e0152\"], [0.1, \"#c51b7d\"], [0.2, \"#de77ae\"], [0.3, \"#f1b6da\"], [0.4, \"#fde0ef\"], [0.5, \"#f7f7f7\"], [0.6, \"#e6f5d0\"], [0.7, \"#b8e186\"], [0.8, \"#7fbc41\"], [0.9, \"#4d9221\"], [1, \"#276419\"]], \"sequential\": [[0.0, \"#0d0887\"], [0.1111111111111111, \"#46039f\"], [0.2222222222222222, \"#7201a8\"], [0.3333333333333333, \"#9c179e\"], [0.4444444444444444, \"#bd3786\"], [0.5555555555555556, \"#d8576b\"], [0.6666666666666666, \"#ed7953\"], [0.7777777777777778, \"#fb9f3a\"], [0.8888888888888888, \"#fdca26\"], [1.0, \"#f0f921\"]], \"sequentialminus\": [[0.0, \"#0d0887\"], [0.1111111111111111, \"#46039f\"], [0.2222222222222222, \"#7201a8\"], [0.3333333333333333, \"#9c179e\"], [0.4444444444444444, \"#bd3786\"], [0.5555555555555556, \"#d8576b\"], [0.6666666666666666, \"#ed7953\"], [0.7777777777777778, \"#fb9f3a\"], [0.8888888888888888, \"#fdca26\"], [1.0, \"#f0f921\"]]}, \"colorway\": [\"#636efa\", \"#EF553B\", \"#00cc96\", \"#ab63fa\", \"#FFA15A\", \"#19d3f3\", \"#FF6692\", \"#B6E880\", \"#FF97FF\", \"#FECB52\"], \"font\": {\"color\": \"#2a3f5f\"}, \"geo\": {\"bgcolor\": \"white\", \"lakecolor\": \"white\", \"landcolor\": \"#E5ECF6\", \"showlakes\": true, \"showland\": true, \"subunitcolor\": \"white\"}, \"hoverlabel\": {\"align\": \"left\"}, \"hovermode\": \"closest\", \"mapbox\": {\"style\": \"light\"}, \"paper_bgcolor\": \"white\", \"plot_bgcolor\": \"#E5ECF6\", \"polar\": {\"angularaxis\": {\"gridcolor\": \"white\", \"linecolor\": \"white\", \"ticks\": \"\"}, \"bgcolor\": \"#E5ECF6\", \"radialaxis\": {\"gridcolor\": \"white\", \"linecolor\": \"white\", \"ticks\": \"\"}}, \"scene\": {\"xaxis\": {\"backgroundcolor\": \"#E5ECF6\", \"gridcolor\": \"white\", \"gridwidth\": 2, \"linecolor\": \"white\", \"showbackground\": true, \"ticks\": \"\", \"zerolinecolor\": \"white\"}, \"yaxis\": {\"backgroundcolor\": \"#E5ECF6\", \"gridcolor\": \"white\", \"gridwidth\": 2, \"linecolor\": \"white\", \"showbackground\": true, \"ticks\": \"\", \"zerolinecolor\": \"white\"}, \"zaxis\": {\"backgroundcolor\": \"#E5ECF6\", \"gridcolor\": \"white\", \"gridwidth\": 2, \"linecolor\": \"white\", \"showbackground\": true, \"ticks\": \"\", \"zerolinecolor\": \"white\"}}, \"shapedefaults\": {\"line\": {\"color\": \"#2a3f5f\"}}, \"ternary\": {\"aaxis\": {\"gridcolor\": \"white\", \"linecolor\": \"white\", \"ticks\": \"\"}, \"baxis\": {\"gridcolor\": \"white\", \"linecolor\": \"white\", \"ticks\": \"\"}, \"bgcolor\": \"#E5ECF6\", \"caxis\": {\"gridcolor\": \"white\", \"linecolor\": \"white\", \"ticks\": \"\"}}, \"title\": {\"x\": 0.05}, \"xaxis\": {\"automargin\": true, \"gridcolor\": \"white\", \"linecolor\": \"white\", \"ticks\": \"\", \"title\": {\"standoff\": 15}, \"zerolinecolor\": \"white\", \"zerolinewidth\": 2}, \"yaxis\": {\"automargin\": true, \"gridcolor\": \"white\", \"linecolor\": \"white\", \"ticks\": \"\", \"title\": {\"standoff\": 15}, \"zerolinecolor\": \"white\", \"zerolinewidth\": 2}}}, \"width\": 800, \"xaxis\": {\"showgrid\": false, \"showline\": false, \"showticklabels\": false, \"title\": {\"text\": \"\"}, \"zeroline\": false}, \"yaxis\": {\"showgrid\": false, \"showline\": false, \"showticklabels\": false, \"title\": {\"text\": \"\"}, \"zeroline\": false}},\n",
       "                        {\"responsive\": true}\n",
       "                    ).then(function(){\n",
       "                            \n",
       "var gd = document.getElementById('2fe607df-ccf1-4a2c-8267-ff012b3c5096');\n",
       "var x = new MutationObserver(function (mutations, observer) {{\n",
       "        var display = window.getComputedStyle(gd).display;\n",
       "        if (!display || display === 'none') {{\n",
       "            console.log([gd, 'removed!']);\n",
       "            Plotly.purge(gd);\n",
       "            observer.disconnect();\n",
       "        }}\n",
       "}});\n",
       "\n",
       "// Listen for the removal of the full notebook cells\n",
       "var notebookContainer = gd.closest('#notebook-container');\n",
       "if (notebookContainer) {{\n",
       "    x.observe(notebookContainer, {childList: true});\n",
       "}}\n",
       "\n",
       "// Listen for the clearing of the current output cell\n",
       "var outputEl = gd.closest('.output');\n",
       "if (outputEl) {{\n",
       "    x.observe(outputEl, {childList: true});\n",
       "}}\n",
       "\n",
       "                        })\n",
       "                };\n",
       "                });\n",
       "            </script>\n",
       "        </div>"
      ]
     },
     "metadata": {},
     "output_type": "display_data"
    }
   ],
   "source": [
    "import igraph\n",
    "g = igraph.Graph()\n",
    "labels = pd.concat([gaps['region_origin'], gaps['region_destination']]).unique()\n",
    "g.add_vertices(labels.astype(int).astype(str))\n",
    "for _, r in gaps.iterrows():\n",
    "    g.add_edges([(str(int(r['region_origin'])), str(int(r['region_destination'])))])\n",
    "    layt = g.layout('kk')\n",
    "\n",
    "Xn=[layt[k][0] for k in range(len(labels))]\n",
    "Yn=[layt[k][1] for k in range(len(labels))]\n",
    "Xe=[]\n",
    "Ye=[]\n",
    "for e in g.es:\n",
    "    Xe+=[layt[e.tuple[0]][0],layt[e.tuple[1]][0], None]\n",
    "    Ye+=[layt[e.tuple[0]][1],layt[e.tuple[1]][1], None]\n",
    "    \n",
    "trace1=pgo.Scatter(x=Xe,\n",
    "               y=Ye,\n",
    "               mode='lines',\n",
    "               line= dict(color='rgb(210,210,210)', width=1),\n",
    "               hoverinfo='none'\n",
    "               )\n",
    "trace2=pgo.Scatter(x=Xn,\n",
    "               y=Yn,\n",
    "               mode='markers',\n",
    "               name='ntw',\n",
    "               marker=dict(symbol='circle-dot',\n",
    "                                        size=5,\n",
    "                                        color='#6959CD',\n",
    "                                        line=dict(color='rgb(50,50,50)', width=0.5)\n",
    "                                        ),\n",
    "               text=labels,\n",
    "               hoverinfo='text'\n",
    "                  )\n",
    "\n",
    "plotly.offline.init_notebook_mode(connected=True)\n",
    "axis=dict(showline=False, # hide axis line, grid, ticklabels and  title\n",
    "          zeroline=False,\n",
    "          showgrid=False,\n",
    "          showticklabels=False,\n",
    "          title=''\n",
    "          )\n",
    "\n",
    "width=800\n",
    "height=800\n",
    "layout=pgo.Layout(\n",
    "    showlegend=False,\n",
    "    autosize=False,\n",
    "    width=width,\n",
    "    height=height,\n",
    "    xaxis=pgo.layout.XAxis(axis),\n",
    "    yaxis=pgo.layout.YAxis(axis),\n",
    "    margin=pgo.layout.Margin(\n",
    "        l=40,\n",
    "        r=40,\n",
    "        b=85,\n",
    "        t=100,\n",
    "    ),\n",
    "    hovermode='closest',\n",
    "    )\n",
    "\n",
    "data=[trace1, trace2]\n",
    "fig=pgo.Figure(data=data, layout=layout)\n",
    "fig.show()"
   ]
  },
  {
   "cell_type": "code",
   "execution_count": null,
   "metadata": {},
   "outputs": [],
   "source": []
  }
 ],
 "metadata": {
  "kernelspec": {
   "display_name": "PyCharm (mscthesis)",
   "language": "python",
   "name": "pycharm-eadfd222"
  },
  "language_info": {
   "codemirror_mode": {
    "name": "ipython",
    "version": 3
   },
   "file_extension": ".py",
   "mimetype": "text/x-python",
   "name": "python",
   "nbconvert_exporter": "python",
   "pygments_lexer": "ipython3",
   "version": "3.8.1"
  }
 },
 "nbformat": 4,
 "nbformat_minor": 4
}

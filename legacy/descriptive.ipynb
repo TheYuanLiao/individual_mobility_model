{
 "cells": [
  {
   "cell_type": "code",
   "execution_count": 1,
   "outputs": [],
   "source": [
    "import tweetdf\n",
    "import matplotlib.pyplot as plt"
   ],
   "metadata": {
    "collapsed": false,
    "pycharm": {
     "name": "#%%\n",
     "is_executing": false
    }
   }
  },
  {
   "cell_type": "code",
   "execution_count": 2,
   "metadata": {
    "collapsed": true,
    "pycharm": {
     "is_executing": false
    }
   },
   "outputs": [],
   "source": [
    "tweets = tweetdf.from_csv(\"./../../dbs/Sweden.csv\")"
   ]
  },
  {
   "cell_type": "code",
   "execution_count": 11,
   "outputs": [],
   "source": [
    "tweets = tweets.dropna()"
   ],
   "metadata": {
    "collapsed": false,
    "pycharm": {
     "name": "#%%\n",
     "is_executing": false
    }
   }
  },
  {
   "cell_type": "code",
   "execution_count": 12,
   "outputs": [
    {
     "data": {
      "text/plain": "(array([982., 727., 441., 287., 223., 168., 122.,  99.,  75.,  57.,  43.,\n         48.,  29.,  24.,  26.,  17.,  12.,  13.,  15.,  11.,   5.,   3.,\n          5.,   9.,  10.,   4.,   5.,   2.,   2.,   2.,   2.,   2.,   2.,\n          2.,   3.,   0.,   0.,   0.,   1.,   0.,   0.,   0.,   0.,   0.,\n          0.,   0.,   0.,   0.,   1.,   1.]),\n array([   5.  ,  100.46,  195.92,  291.38,  386.84,  482.3 ,  577.76,\n         673.22,  768.68,  864.14,  959.6 , 1055.06, 1150.52, 1245.98,\n        1341.44, 1436.9 , 1532.36, 1627.82, 1723.28, 1818.74, 1914.2 ,\n        2009.66, 2105.12, 2200.58, 2296.04, 2391.5 , 2486.96, 2582.42,\n        2677.88, 2773.34, 2868.8 , 2964.26, 3059.72, 3155.18, 3250.64,\n        3346.1 , 3441.56, 3537.02, 3632.48, 3727.94, 3823.4 , 3918.86,\n        4014.32, 4109.78, 4205.24, 4300.7 , 4396.16, 4491.62, 4587.08,\n        4682.54, 4778.  ]),\n <a list of 50 Patch objects>)"
     },
     "metadata": {},
     "output_type": "execute_result",
     "execution_count": 12
    },
    {
     "data": {
      "text/plain": "<Figure size 432x288 with 1 Axes>",
      "image/png": "[encoded data removed]"
     },
     "metadata": {
      "needs_background": "light"
     },
     "output_type": "display_data"
    }
   ],
   "source": [
    "usercounts = tweets.groupby('userid').size()\n",
    "plt.hist(usercounts, log=True, bins=50)"
   ],
   "metadata": {
    "collapsed": false,
    "pycharm": {
     "name": "#%%\n",
     "is_executing": false
    }
   }
  },
  {
   "cell_type": "code",
   "execution_count": 22,
   "outputs": [
    {
     "data": {
      "text/plain": "(array([[ 5766.,  3242.,  2910.,  3045.,  3314.,  3503.,  4876.],\n        [ 3342.,  1507.,  1334.,  1434.,  1525.,  1796.,  2653.],\n        [ 1955.,   737.,   681.,   745.,   825.,   877.,  1395.],\n        [ 1041.,   494.,   463.,   511.,   511.,   561.,   797.],\n        [  661.,   453.,   403.,   454.,   407.,   460.,   536.],\n        [  612.,  1036.,   928.,  1030.,   897.,  1025.,   662.],\n        [ 1073.,  2472.,  2921.,  2844.,  2739.,  2801.,  1332.],\n        [ 2330.,  4746.,  5303.,  5236.,  5319.,  5752.,  3064.],\n        [ 4847.,  6975.,  7522.,  7785.,  7889.,  8344.,  6051.],\n        [ 7594.,  7257.,  7910.,  8308.,  8613.,  8892.,  9049.],\n        [ 9449.,  7305.,  7632.,  8359.,  8512.,  9081., 11082.],\n        [10835.,  7907.,  8335.,  8742.,  9170., 10098., 12729.],\n        [12342.,  8902.,  9365.,  9821., 10209., 11659., 14501.],\n        [12754.,  8570.,  8964.,  9299.,  9973., 11132., 15499.],\n        [13163.,  8256.,  8522.,  9005.,  9648., 11056., 15339.],\n        [13222.,  8473.,  8710.,  9071.,  9806., 11620., 15944.],\n        [12272.,  9232.,  9285.,  9856., 10465., 12849., 15299.],\n        [12339., 10325., 10610., 11355., 11964., 14024., 15358.],\n        [11924., 11113., 11706., 12306., 13039., 14877., 15485.],\n        [11306., 11364., 11523., 12422., 12942., 14954., 14762.],\n        [10722., 11110., 11445., 12105., 12409., 14512., 15126.],\n        [ 9649., 10358., 10714., 11192., 11627., 12795., 13769.],\n        [ 8238.,  8498.,  9143.,  9402.,  9784., 10741., 11152.],\n        [ 5625.,  5526.,  5718.,  6222.,  6609.,  7800.,  8635.]]),\n array([ 0.        ,  0.95833333,  1.91666667,  2.875     ,  3.83333333,\n         4.79166667,  5.75      ,  6.70833333,  7.66666667,  8.625     ,\n         9.58333333, 10.54166667, 11.5       , 12.45833333, 13.41666667,\n        14.375     , 15.33333333, 16.29166667, 17.25      , 18.20833333,\n        19.16666667, 20.125     , 21.08333333, 22.04166667, 23.        ]),\n array([0.        , 0.85714286, 1.71428571, 2.57142857, 3.42857143,\n        4.28571429, 5.14285714, 6.        ]),\n <matplotlib.collections.QuadMesh at 0x121924250>)"
     },
     "metadata": {},
     "output_type": "execute_result",
     "execution_count": 22
    },
    {
     "data": {
      "text/plain": "<Figure size 432x288 with 1 Axes>",
      "image/png": "[encoded data removed]"
     },
     "metadata": {
      "needs_background": "light"
     },
     "output_type": "display_data"
    }
   ],
   "source": [
    "plt.hist2d(tweets['hourofday'],tweets['weekday'], bins=[24, 7])\n"
   ],
   "metadata": {
    "collapsed": false,
    "pycharm": {
     "name": "#%%\n",
     "is_executing": false
    }
   }
  }
 ],
 "metadata": {
  "kernelspec": {
   "name": "pycharm-eadfd222",
   "language": "python",
   "display_name": "PyCharm (mscthesis)"
  },
  "language_info": {
   "codemirror_mode": {
    "name": "ipython",
    "version": 2
   },
   "file_extension": ".py",
   "mimetype": "text/x-python",
   "name": "python",
   "nbconvert_exporter": "python",
   "pygments_lexer": "ipython2",
   "version": "2.7.6"
  },
  "pycharm": {
   "stem_cell": {
    "cell_type": "raw",
    "source": [],
    "metadata": {
     "collapsed": false
    }
   }
  }
 },
 "nbformat": 4,
 "nbformat_minor": 0
}